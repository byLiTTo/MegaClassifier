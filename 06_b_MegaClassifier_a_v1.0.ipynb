{
 "cells": [
  {
   "metadata": {
    "ExecuteTime": {
     "end_time": "2025-02-23T14:48:18.012099Z",
     "start_time": "2025-02-23T12:49:07.798223Z"
    }
   },
   "cell_type": "code",
   "source": [
    "import os\n",
    "import time\n",
    "\n",
    "import pandas as pd\n",
    "import tensorflow as tf\n",
    "from keras.callbacks import TensorBoard\n",
    "from tensorflow.keras.metrics import Precision, Recall, AUC\n",
    "from tensorflow.keras.preprocessing.image import ImageDataGenerator\n",
    "\n",
    "MODEL_NAME = \"MegaClassifier_a\"\n",
    "VERSION_BASE = \"v1\"\n",
    "\n",
    "EPOCHS = 10\n",
    "BATCH_SIZES = [16, 32, 64, 128]\n",
    "IMAGE_SIZE = (224, 224)\n",
    "IMAGE_SHAPE = IMAGE_SIZE + (3,)\n",
    "SEED = 42\n",
    "\n",
    "DATASET_CSV = os.path.abspath(\"./data/processed/onlyDetectionsForTrain/onlyDetectionsForTrain.csv\")\n",
    "DATASET_PATH = os.path.dirname(DATASET_CSV)\n",
    "\n",
    "dataset = pd.read_csv(DATASET_CSV, sep=\";\")\n",
    "dataset['file_name'] = dataset['file_name'].apply(lambda x: os.path.join(DATASET_PATH, x))\n",
    "dataset['binary_label'] = dataset['binary_label'].astype(str)\n",
    "\n",
    "train_df = dataset[dataset['subset'] == 'train']\n",
    "validation_df = dataset[dataset['subset'] == 'validation']\n",
    "test_df = dataset[dataset['subset'] == 'test']\n",
    "\n",
    "\n",
    "def train_and_evaluate(batch_size, VERSION_INDEX):\n",
    "    print(f\"\\n🔹 Entrenando con batch_size={batch_size} 🔹\")\n",
    "\n",
    "    train_datagen = ImageDataGenerator(preprocessing_function=tf.keras.applications.mobilenet_v2.preprocess_input)\n",
    "    datagen = ImageDataGenerator(preprocessing_function=tf.keras.applications.mobilenet_v2.preprocess_input)\n",
    "\n",
    "    train_images = train_datagen.flow_from_dataframe(\n",
    "        dataframe=train_df,\n",
    "        x_col=\"file_name\",\n",
    "        y_col=\"binary_label\",\n",
    "        target_size=IMAGE_SIZE,\n",
    "        batch_size=batch_size,\n",
    "        class_mode=\"binary\",\n",
    "        shuffle=True,\n",
    "        seed=SEED,\n",
    "    )\n",
    "    validation_images = datagen.flow_from_dataframe(\n",
    "        dataframe=validation_df,\n",
    "        x_col=\"file_name\",\n",
    "        y_col=\"binary_label\",\n",
    "        target_size=IMAGE_SIZE,\n",
    "        batch_size=batch_size,\n",
    "        class_mode=\"binary\",\n",
    "        shuffle=True,\n",
    "        seed=SEED,\n",
    "    )\n",
    "    test_images = datagen.flow_from_dataframe(\n",
    "        dataframe=test_df,\n",
    "        x_col=\"file_name\",\n",
    "        y_col=\"binary_label\",\n",
    "        target_size=IMAGE_SIZE,\n",
    "        batch_size=batch_size,\n",
    "        class_mode=\"binary\",\n",
    "    )\n",
    "\n",
    "    mobilenet_v2 = tf.keras.applications.MobileNetV2(\n",
    "        weights=\"imagenet\",\n",
    "        include_top=False,\n",
    "        input_shape=IMAGE_SHAPE,\n",
    "    )\n",
    "    mobilenet_v2.trainable = False\n",
    "\n",
    "    model = tf.keras.Sequential([\n",
    "        mobilenet_v2,\n",
    "        tf.keras.layers.GlobalAveragePooling2D(),\n",
    "        tf.keras.layers.Dense(1, activation=\"sigmoid\"),\n",
    "    ], name=f\"{MODEL_NAME}_{VERSION_BASE}{VERSION_INDEX}\")\n",
    "\n",
    "    model.compile(\n",
    "        optimizer=tf.keras.optimizers.Adam(),\n",
    "        loss=tf.keras.losses.BinaryCrossentropy(),\n",
    "        metrics=[\"accuracy\", Precision(name=\"precision\"), Recall(name=\"recall\"), AUC(name=\"auc\")],\n",
    "    )\n",
    "\n",
    "    start_time = time.time()\n",
    "    history = model.fit(\n",
    "        train_images,\n",
    "        epochs=EPOCHS,\n",
    "        validation_data=validation_images,\n",
    "        callbacks=[\n",
    "            TensorBoard(log_dir=f\"./logs/{MODEL_NAME}/{VERSION_BASE}/{VERSION_BASE}.{VERSION_INDEX}\"),\n",
    "        ]\n",
    "    )\n",
    "    training_time = time.time() - start_time\n",
    "\n",
    "    history_df = pd.DataFrame(history.history)\n",
    "    os.makedirs(f\"./logs/{MODEL_NAME}/{VERSION_BASE}/{VERSION_BASE}.{VERSION_INDEX}\", exist_ok=True)\n",
    "    history_df.to_csv(f\"./logs/{MODEL_NAME}/{VERSION_BASE}/{VERSION_BASE}.{VERSION_INDEX}/history.csv\", index=False)\n",
    "\n",
    "    results = model.evaluate(test_images)\n",
    "\n",
    "    metric_names = history.model.metrics_names\n",
    "    evaluation_results = {(\"test_\" + name): value for name, value in zip(metric_names, results)}\n",
    "    evaluation_results[\"batch_size\"] = batch_size\n",
    "    evaluation_results[\"training_time\"] = training_time\n",
    "\n",
    "    results_df = pd.DataFrame([evaluation_results])\n",
    "    results_df.to_csv(f\"./logs/{MODEL_NAME}/{VERSION_BASE}/{VERSION_BASE}.{VERSION_INDEX}/results.csv\", index=False)\n",
    "\n",
    "    print(f\"\\n📉 Loss: {results[0]:.4f}\")\n",
    "    print(f\"🎯 Accuracy: {results[1]:.4%}\")\n",
    "    print(f\"✅ Precision: {results[2]:.4%}\")\n",
    "    print(f\"🔄 Recall: {results[3]:.4%}\")\n",
    "    print(f\"📊 AUC: {results[4]:.4f}\")\n",
    "    print(f\"⏳ Tiempo de entrenamiento: {training_time:.2f} segundos\")\n",
    "\n",
    "    return results_df\n",
    "\n",
    "\n",
    "all_results = []\n",
    "count = 0\n",
    "for batch_size in BATCH_SIZES:\n",
    "    results_df = train_and_evaluate(batch_size, count)\n",
    "    all_results.append(results_df)\n",
    "    count += 1\n",
    "\n",
    "final_results = pd.concat(all_results, ignore_index=True)\n",
    "final_results.to_csv(f\"./logs/{MODEL_NAME}/{VERSION_BASE}/batch_comparison_results.csv\", index=False)\n",
    "\n",
    "print(\"\\n✅ ¡Entrenamiento con diferentes batch sizes completado!\")"
   ],
   "id": "5d78f307f4361808",
   "outputs": [
    {
     "name": "stdout",
     "output_type": "stream",
     "text": [
      "\n",
      "🔹 Entrenando con batch_size=16 🔹\n",
      "Found 17054 validated image filenames belonging to 2 classes.\n",
      "Found 4286 validated image filenames belonging to 2 classes.\n",
      "Found 4286 validated image filenames belonging to 2 classes.\n"
     ]
    },
    {
     "name": "stderr",
     "output_type": "stream",
     "text": [
      "WARNING:absl:At this time, the v2.11+ optimizer `tf.keras.optimizers.Adam` runs slowly on M1/M2 Macs, please use the legacy Keras optimizer instead, located at `tf.keras.optimizers.legacy.Adam`.\n",
      "WARNING:absl:There is a known slowdown when using v2.11+ Keras optimizers on M1/M2 Macs. Falling back to the legacy Keras optimizer, i.e., `tf.keras.optimizers.legacy.Adam`.\n"
     ]
    },
    {
     "name": "stdout",
     "output_type": "stream",
     "text": [
      "Epoch 1/10\n"
     ]
    },
    {
     "name": "stderr",
     "output_type": "stream",
     "text": [
      "2025-02-23 13:49:09.385998: I tensorflow/core/grappler/optimizers/custom_graph_optimizer_registry.cc:114] Plugin optimizer for device_type GPU is enabled.\n"
     ]
    },
    {
     "name": "stdout",
     "output_type": "stream",
     "text": [
      "1065/1066 [============================>.] - ETA: 0s - loss: 0.2327 - accuracy: 0.9007 - precision: 0.9244 - recall: 0.9496 - auc: 0.9510"
     ]
    },
    {
     "name": "stderr",
     "output_type": "stream",
     "text": [
      "2025-02-23 13:49:55.377006: I tensorflow/core/grappler/optimizers/custom_graph_optimizer_registry.cc:114] Plugin optimizer for device_type GPU is enabled.\n"
     ]
    },
    {
     "name": "stdout",
     "output_type": "stream",
     "text": [
      "1066/1066 [==============================] - 58s 53ms/step - loss: 0.2328 - accuracy: 0.9007 - precision: 0.9243 - recall: 0.9496 - auc: 0.9509 - val_loss: 0.1884 - val_accuracy: 0.9295 - val_precision: 0.9301 - val_recall: 0.9661 - val_auc: 0.9785\n",
      "Epoch 2/10\n",
      "1066/1066 [==============================] - 56s 53ms/step - loss: 0.1827 - accuracy: 0.9251 - precision: 0.9480 - recall: 0.9558 - auc: 0.9704 - val_loss: 0.1647 - val_accuracy: 0.9414 - val_precision: 0.9489 - val_recall: 0.9633 - val_auc: 0.9810\n",
      "Epoch 3/10\n",
      "1066/1066 [==============================] - 56s 52ms/step - loss: 0.1709 - accuracy: 0.9308 - precision: 0.9526 - recall: 0.9585 - auc: 0.9741 - val_loss: 0.1570 - val_accuracy: 0.9419 - val_precision: 0.9509 - val_recall: 0.9619 - val_auc: 0.9828\n",
      "Epoch 4/10\n",
      "1066/1066 [==============================] - 56s 52ms/step - loss: 0.1635 - accuracy: 0.9330 - precision: 0.9542 - recall: 0.9597 - auc: 0.9760 - val_loss: 0.1587 - val_accuracy: 0.9391 - val_precision: 0.9660 - val_recall: 0.9411 - val_auc: 0.9834\n",
      "Epoch 5/10\n",
      "1066/1066 [==============================] - 56s 52ms/step - loss: 0.1585 - accuracy: 0.9342 - precision: 0.9546 - recall: 0.9607 - auc: 0.9775 - val_loss: 0.1568 - val_accuracy: 0.9447 - val_precision: 0.9464 - val_recall: 0.9714 - val_auc: 0.9840\n",
      "Epoch 6/10\n",
      "1066/1066 [==============================] - 56s 52ms/step - loss: 0.1541 - accuracy: 0.9364 - precision: 0.9567 - recall: 0.9616 - auc: 0.9787 - val_loss: 0.1590 - val_accuracy: 0.9398 - val_precision: 0.9387 - val_recall: 0.9725 - val_auc: 0.9838\n",
      "Epoch 7/10\n",
      "1066/1066 [==============================] - 56s 52ms/step - loss: 0.1501 - accuracy: 0.9383 - precision: 0.9565 - recall: 0.9642 - auc: 0.9799 - val_loss: 0.1635 - val_accuracy: 0.9356 - val_precision: 0.9682 - val_recall: 0.9334 - val_auc: 0.9824\n",
      "Epoch 8/10\n",
      "1066/1066 [==============================] - 56s 52ms/step - loss: 0.1462 - accuracy: 0.9400 - precision: 0.9595 - recall: 0.9632 - auc: 0.9811 - val_loss: 0.1563 - val_accuracy: 0.9442 - val_precision: 0.9458 - val_recall: 0.9714 - val_auc: 0.9830\n",
      "Epoch 9/10\n",
      "1066/1066 [==============================] - 56s 53ms/step - loss: 0.1440 - accuracy: 0.9418 - precision: 0.9605 - recall: 0.9645 - auc: 0.9815 - val_loss: 0.1551 - val_accuracy: 0.9382 - val_precision: 0.9676 - val_recall: 0.9379 - val_auc: 0.9838\n",
      "Epoch 10/10\n",
      "1066/1066 [==============================] - 56s 52ms/step - loss: 0.1419 - accuracy: 0.9417 - precision: 0.9600 - recall: 0.9650 - auc: 0.9820 - val_loss: 0.1510 - val_accuracy: 0.9447 - val_precision: 0.9574 - val_recall: 0.9591 - val_auc: 0.9839\n",
      "268/268 [==============================] - 11s 42ms/step - loss: 0.1379 - accuracy: 0.9414 - precision: 0.9496 - recall: 0.9626 - auc: 0.9869\n",
      "\n",
      "📉 Loss: 0.1379\n",
      "🎯 Accuracy: 94.1437%\n",
      "✅ Precision: 94.9565%\n",
      "🔄 Recall: 96.2623%\n",
      "📊 AUC: 0.9869\n",
      "⏳ Tiempo de entrenamiento: 561.47 segundos\n",
      "\n",
      "🔹 Entrenando con batch_size=32 🔹\n",
      "Found 17054 validated image filenames belonging to 2 classes.\n",
      "Found 4286 validated image filenames belonging to 2 classes.\n",
      "Found 4286 validated image filenames belonging to 2 classes.\n"
     ]
    },
    {
     "name": "stderr",
     "output_type": "stream",
     "text": [
      "WARNING:absl:At this time, the v2.11+ optimizer `tf.keras.optimizers.Adam` runs slowly on M1/M2 Macs, please use the legacy Keras optimizer instead, located at `tf.keras.optimizers.legacy.Adam`.\n",
      "WARNING:absl:There is a known slowdown when using v2.11+ Keras optimizers on M1/M2 Macs. Falling back to the legacy Keras optimizer, i.e., `tf.keras.optimizers.legacy.Adam`.\n"
     ]
    },
    {
     "name": "stdout",
     "output_type": "stream",
     "text": [
      "Epoch 1/10\n"
     ]
    },
    {
     "name": "stderr",
     "output_type": "stream",
     "text": [
      "2025-02-23 13:58:43.065304: I tensorflow/core/grappler/optimizers/custom_graph_optimizer_registry.cc:114] Plugin optimizer for device_type GPU is enabled.\n"
     ]
    },
    {
     "name": "stdout",
     "output_type": "stream",
     "text": [
      "533/533 [==============================] - ETA: 0s - loss: 0.2503 - accuracy: 0.8919 - precision: 0.9130 - recall: 0.9511 - auc: 0.9431"
     ]
    },
    {
     "name": "stderr",
     "output_type": "stream",
     "text": [
      "2025-02-23 13:59:26.424933: I tensorflow/core/grappler/optimizers/custom_graph_optimizer_registry.cc:114] Plugin optimizer for device_type GPU is enabled.\n"
     ]
    },
    {
     "name": "stdout",
     "output_type": "stream",
     "text": [
      "533/533 [==============================] - 55s 101ms/step - loss: 0.2503 - accuracy: 0.8919 - precision: 0.9130 - recall: 0.9511 - auc: 0.9431 - val_loss: 0.1930 - val_accuracy: 0.9267 - val_precision: 0.9437 - val_recall: 0.9457 - val_auc: 0.9768\n",
      "Epoch 2/10\n",
      "533/533 [==============================] - 53s 99ms/step - loss: 0.1902 - accuracy: 0.9214 - precision: 0.9430 - recall: 0.9564 - auc: 0.9683 - val_loss: 0.1748 - val_accuracy: 0.9321 - val_precision: 0.9339 - val_recall: 0.9658 - val_auc: 0.9812\n",
      "Epoch 3/10\n",
      "533/533 [==============================] - 53s 99ms/step - loss: 0.1774 - accuracy: 0.9270 - precision: 0.9493 - recall: 0.9570 - auc: 0.9720 - val_loss: 0.1629 - val_accuracy: 0.9400 - val_precision: 0.9604 - val_recall: 0.9485 - val_auc: 0.9820\n",
      "Epoch 4/10\n",
      "533/533 [==============================] - 53s 99ms/step - loss: 0.1692 - accuracy: 0.9322 - precision: 0.9526 - recall: 0.9604 - auc: 0.9747 - val_loss: 0.1593 - val_accuracy: 0.9372 - val_precision: 0.9550 - val_recall: 0.9499 - val_auc: 0.9826\n",
      "Epoch 5/10\n",
      "533/533 [==============================] - 53s 99ms/step - loss: 0.1618 - accuracy: 0.9344 - precision: 0.9549 - recall: 0.9607 - auc: 0.9772 - val_loss: 0.1632 - val_accuracy: 0.9379 - val_precision: 0.9717 - val_recall: 0.9334 - val_auc: 0.9835\n",
      "Epoch 6/10\n",
      "533/533 [==============================] - 53s 99ms/step - loss: 0.1577 - accuracy: 0.9377 - precision: 0.9572 - recall: 0.9626 - auc: 0.9782 - val_loss: 0.1639 - val_accuracy: 0.9356 - val_precision: 0.9713 - val_recall: 0.9302 - val_auc: 0.9828\n",
      "Epoch 7/10\n",
      "533/533 [==============================] - 53s 99ms/step - loss: 0.1534 - accuracy: 0.9392 - precision: 0.9585 - recall: 0.9633 - auc: 0.9792 - val_loss: 0.1537 - val_accuracy: 0.9417 - val_precision: 0.9477 - val_recall: 0.9651 - val_auc: 0.9839\n",
      "Epoch 8/10\n",
      "533/533 [==============================] - 53s 99ms/step - loss: 0.1505 - accuracy: 0.9385 - precision: 0.9579 - recall: 0.9630 - auc: 0.9802 - val_loss: 0.1539 - val_accuracy: 0.9424 - val_precision: 0.9612 - val_recall: 0.9513 - val_auc: 0.9838\n",
      "Epoch 9/10\n",
      "533/533 [==============================] - 53s 99ms/step - loss: 0.1477 - accuracy: 0.9398 - precision: 0.9586 - recall: 0.9640 - auc: 0.9810 - val_loss: 0.1513 - val_accuracy: 0.9428 - val_precision: 0.9538 - val_recall: 0.9602 - val_auc: 0.9836\n",
      "Epoch 10/10\n",
      "533/533 [==============================] - 53s 99ms/step - loss: 0.1459 - accuracy: 0.9408 - precision: 0.9596 - recall: 0.9641 - auc: 0.9811 - val_loss: 0.1570 - val_accuracy: 0.9386 - val_precision: 0.9666 - val_recall: 0.9397 - val_auc: 0.9837\n",
      "134/134 [==============================] - 11s 80ms/step - loss: 0.1423 - accuracy: 0.9435 - precision: 0.9645 - recall: 0.9496 - auc: 0.9865\n",
      "\n",
      "📉 Loss: 0.1423\n",
      "🎯 Accuracy: 94.3537%\n",
      "✅ Precision: 96.4542%\n",
      "🔄 Recall: 94.9577%\n",
      "📊 AUC: 0.9865\n",
      "⏳ Tiempo de entrenamiento: 529.71 segundos\n",
      "\n",
      "🔹 Entrenando con batch_size=64 🔹\n",
      "Found 17054 validated image filenames belonging to 2 classes.\n",
      "Found 4286 validated image filenames belonging to 2 classes.\n",
      "Found 4286 validated image filenames belonging to 2 classes.\n"
     ]
    },
    {
     "name": "stderr",
     "output_type": "stream",
     "text": [
      "WARNING:absl:At this time, the v2.11+ optimizer `tf.keras.optimizers.Adam` runs slowly on M1/M2 Macs, please use the legacy Keras optimizer instead, located at `tf.keras.optimizers.legacy.Adam`.\n",
      "WARNING:absl:There is a known slowdown when using v2.11+ Keras optimizers on M1/M2 Macs. Falling back to the legacy Keras optimizer, i.e., `tf.keras.optimizers.legacy.Adam`.\n"
     ]
    },
    {
     "name": "stdout",
     "output_type": "stream",
     "text": [
      "Epoch 1/10\n"
     ]
    },
    {
     "name": "stderr",
     "output_type": "stream",
     "text": [
      "2025-02-23 14:07:44.511971: I tensorflow/core/grappler/optimizers/custom_graph_optimizer_registry.cc:114] Plugin optimizer for device_type GPU is enabled.\n"
     ]
    },
    {
     "name": "stdout",
     "output_type": "stream",
     "text": [
      "267/267 [==============================] - ETA: 0s - loss: 0.2679 - accuracy: 0.8817 - precision: 0.9008 - recall: 0.9522 - auc: 0.9340"
     ]
    },
    {
     "name": "stderr",
     "output_type": "stream",
     "text": [
      "2025-02-23 14:08:25.916192: I tensorflow/core/grappler/optimizers/custom_graph_optimizer_registry.cc:114] Plugin optimizer for device_type GPU is enabled.\n"
     ]
    },
    {
     "name": "stdout",
     "output_type": "stream",
     "text": [
      "267/267 [==============================] - 53s 194ms/step - loss: 0.2679 - accuracy: 0.8817 - precision: 0.9008 - recall: 0.9522 - auc: 0.9340 - val_loss: 0.2241 - val_accuracy: 0.9200 - val_precision: 0.9282 - val_recall: 0.9528 - val_auc: 0.9717\n",
      "Epoch 2/10\n",
      "267/267 [==============================] - 52s 196ms/step - loss: 0.2001 - accuracy: 0.9164 - precision: 0.9390 - recall: 0.9542 - auc: 0.9646 - val_loss: 0.1968 - val_accuracy: 0.9260 - val_precision: 0.9208 - val_recall: 0.9718 - val_auc: 0.9783\n",
      "Epoch 3/10\n",
      "267/267 [==============================] - 1071s 4s/step - loss: 0.1851 - accuracy: 0.9247 - precision: 0.9463 - recall: 0.9571 - auc: 0.9698 - val_loss: 0.1791 - val_accuracy: 0.9349 - val_precision: 0.9507 - val_recall: 0.9510 - val_auc: 0.9788\n",
      "Epoch 4/10\n",
      "267/267 [==============================] - 1077s 4s/step - loss: 0.1746 - accuracy: 0.9303 - precision: 0.9498 - recall: 0.9610 - auc: 0.9734 - val_loss: 0.1703 - val_accuracy: 0.9361 - val_precision: 0.9436 - val_recall: 0.9609 - val_auc: 0.9810\n",
      "Epoch 5/10\n",
      "267/267 [==============================] - 50s 187ms/step - loss: 0.1689 - accuracy: 0.9319 - precision: 0.9519 - recall: 0.9607 - auc: 0.9749 - val_loss: 0.1642 - val_accuracy: 0.9382 - val_precision: 0.9522 - val_recall: 0.9545 - val_auc: 0.9817\n",
      "Epoch 6/10\n",
      "267/267 [==============================] - 1106s 4s/step - loss: 0.1631 - accuracy: 0.9343 - precision: 0.9537 - recall: 0.9619 - auc: 0.9765 - val_loss: 0.1610 - val_accuracy: 0.9414 - val_precision: 0.9553 - val_recall: 0.9563 - val_auc: 0.9825\n",
      "Epoch 7/10\n",
      "267/267 [==============================] - 952s 4s/step - loss: 0.1606 - accuracy: 0.9363 - precision: 0.9555 - recall: 0.9626 - auc: 0.9775 - val_loss: 0.1643 - val_accuracy: 0.9382 - val_precision: 0.9443 - val_recall: 0.9633 - val_auc: 0.9819\n",
      "Epoch 8/10\n",
      "267/267 [==============================] - 992s 4s/step - loss: 0.1566 - accuracy: 0.9382 - precision: 0.9574 - recall: 0.9632 - auc: 0.9785 - val_loss: 0.1568 - val_accuracy: 0.9431 - val_precision: 0.9478 - val_recall: 0.9672 - val_auc: 0.9841\n",
      "Epoch 9/10\n",
      "267/267 [==============================] - 50s 186ms/step - loss: 0.1531 - accuracy: 0.9385 - precision: 0.9572 - recall: 0.9638 - auc: 0.9795 - val_loss: 0.1544 - val_accuracy: 0.9431 - val_precision: 0.9506 - val_recall: 0.9640 - val_auc: 0.9839\n",
      "Epoch 10/10\n",
      "267/267 [==============================] - 50s 186ms/step - loss: 0.1503 - accuracy: 0.9404 - precision: 0.9589 - recall: 0.9645 - auc: 0.9802 - val_loss: 0.1528 - val_accuracy: 0.9438 - val_precision: 0.9590 - val_recall: 0.9559 - val_auc: 0.9839\n",
      "67/67 [==============================] - 10s 150ms/step - loss: 0.1398 - accuracy: 0.9424 - precision: 0.9528 - recall: 0.9605 - auc: 0.9872\n",
      "\n",
      "📉 Loss: 0.1398\n",
      "🎯 Accuracy: 94.2371%\n",
      "✅ Precision: 95.2781%\n",
      "🔄 Recall: 96.0508%\n",
      "📊 AUC: 0.9872\n",
      "⏳ Tiempo de entrenamiento: 5453.71 segundos\n",
      "\n",
      "🔹 Entrenando con batch_size=128 🔹\n",
      "Found 17054 validated image filenames belonging to 2 classes.\n",
      "Found 4286 validated image filenames belonging to 2 classes.\n",
      "Found 4286 validated image filenames belonging to 2 classes.\n"
     ]
    },
    {
     "name": "stderr",
     "output_type": "stream",
     "text": [
      "WARNING:absl:At this time, the v2.11+ optimizer `tf.keras.optimizers.Adam` runs slowly on M1/M2 Macs, please use the legacy Keras optimizer instead, located at `tf.keras.optimizers.legacy.Adam`.\n",
      "WARNING:absl:There is a known slowdown when using v2.11+ Keras optimizers on M1/M2 Macs. Falling back to the legacy Keras optimizer, i.e., `tf.keras.optimizers.legacy.Adam`.\n"
     ]
    },
    {
     "name": "stdout",
     "output_type": "stream",
     "text": [
      "Epoch 1/10\n"
     ]
    },
    {
     "name": "stderr",
     "output_type": "stream",
     "text": [
      "2025-02-23 15:38:49.207547: I tensorflow/core/grappler/optimizers/custom_graph_optimizer_registry.cc:114] Plugin optimizer for device_type GPU is enabled.\n"
     ]
    },
    {
     "name": "stdout",
     "output_type": "stream",
     "text": [
      "134/134 [==============================] - ETA: 0s - loss: 0.2944 - accuracy: 0.8753 - precision: 0.8911 - recall: 0.9561 - auc: 0.9169"
     ]
    },
    {
     "name": "stderr",
     "output_type": "stream",
     "text": [
      "2025-02-23 15:39:29.333181: I tensorflow/core/grappler/optimizers/custom_graph_optimizer_registry.cc:114] Plugin optimizer for device_type GPU is enabled.\n"
     ]
    },
    {
     "name": "stdout",
     "output_type": "stream",
     "text": [
      "134/134 [==============================] - 52s 376ms/step - loss: 0.2944 - accuracy: 0.8753 - precision: 0.8911 - recall: 0.9561 - auc: 0.9169 - val_loss: 0.2369 - val_accuracy: 0.9134 - val_precision: 0.9058 - val_recall: 0.9700 - val_auc: 0.9721\n",
      "Epoch 2/10\n",
      "134/134 [==============================] - 53s 398ms/step - loss: 0.2088 - accuracy: 0.9140 - precision: 0.9348 - recall: 0.9558 - auc: 0.9621 - val_loss: 0.1960 - val_accuracy: 0.9274 - val_precision: 0.9382 - val_recall: 0.9531 - val_auc: 0.9758\n",
      "Epoch 3/10\n",
      "134/134 [==============================] - 55s 409ms/step - loss: 0.1923 - accuracy: 0.9205 - precision: 0.9420 - recall: 0.9564 - auc: 0.9680 - val_loss: 0.1830 - val_accuracy: 0.9281 - val_precision: 0.9530 - val_recall: 0.9376 - val_auc: 0.9782\n",
      "Epoch 4/10\n",
      "134/134 [==============================] - 56s 415ms/step - loss: 0.1832 - accuracy: 0.9252 - precision: 0.9469 - recall: 0.9571 - auc: 0.9708 - val_loss: 0.1749 - val_accuracy: 0.9323 - val_precision: 0.9378 - val_recall: 0.9616 - val_auc: 0.9800\n",
      "Epoch 5/10\n",
      "134/134 [==============================] - 56s 417ms/step - loss: 0.1762 - accuracy: 0.9292 - precision: 0.9505 - recall: 0.9586 - auc: 0.9730 - val_loss: 0.1732 - val_accuracy: 0.9349 - val_precision: 0.9389 - val_recall: 0.9644 - val_auc: 0.9802\n",
      "Epoch 6/10\n",
      "134/134 [==============================] - 56s 420ms/step - loss: 0.1707 - accuracy: 0.9324 - precision: 0.9530 - recall: 0.9602 - auc: 0.9748 - val_loss: 0.1657 - val_accuracy: 0.9389 - val_precision: 0.9570 - val_recall: 0.9503 - val_auc: 0.9816\n",
      "Epoch 7/10\n",
      "134/134 [==============================] - 57s 423ms/step - loss: 0.1675 - accuracy: 0.9329 - precision: 0.9532 - recall: 0.9605 - auc: 0.9754 - val_loss: 0.1640 - val_accuracy: 0.9391 - val_precision: 0.9590 - val_recall: 0.9485 - val_auc: 0.9819\n",
      "Epoch 8/10\n",
      "134/134 [==============================] - 57s 426ms/step - loss: 0.1627 - accuracy: 0.9347 - precision: 0.9556 - recall: 0.9604 - auc: 0.9770 - val_loss: 0.1605 - val_accuracy: 0.9403 - val_precision: 0.9520 - val_recall: 0.9580 - val_auc: 0.9824\n",
      "Epoch 9/10\n",
      "134/134 [==============================] - 57s 427ms/step - loss: 0.1602 - accuracy: 0.9359 - precision: 0.9548 - recall: 0.9629 - auc: 0.9777 - val_loss: 0.1576 - val_accuracy: 0.9405 - val_precision: 0.9546 - val_recall: 0.9556 - val_auc: 0.9829\n",
      "Epoch 10/10\n",
      "134/134 [==============================] - 58s 430ms/step - loss: 0.1591 - accuracy: 0.9359 - precision: 0.9559 - recall: 0.9617 - auc: 0.9780 - val_loss: 0.1558 - val_accuracy: 0.9419 - val_precision: 0.9556 - val_recall: 0.9566 - val_auc: 0.9830\n",
      "34/34 [==============================] - 12s 349ms/step - loss: 0.1443 - accuracy: 0.9426 - precision: 0.9544 - recall: 0.9591 - auc: 0.9865\n",
      "\n",
      "📉 Loss: 0.1443\n",
      "🎯 Accuracy: 94.2604%\n",
      "✅ Precision: 95.4386%\n",
      "🔄 Recall: 95.9097%\n",
      "📊 AUC: 0.9865\n",
      "⏳ Tiempo de entrenamiento: 557.34 segundos\n",
      "\n",
      "✅ ¡Entrenamiento con diferentes batch sizes completado!\n"
     ]
    }
   ],
   "execution_count": 5
  }
 ],
 "metadata": {
  "kernelspec": {
   "display_name": "Python [conda env:TFG] *",
   "language": "python",
   "name": "conda-env-TFG-py"
  },
  "language_info": {
   "codemirror_mode": {
    "name": "ipython",
    "version": 2
   },
   "file_extension": ".py",
   "mimetype": "text/x-python",
   "name": "python",
   "nbconvert_exporter": "python",
   "pygments_lexer": "ipython2",
   "version": "2.7.6"
  }
 },
 "nbformat": 4,
 "nbformat_minor": 5
}
