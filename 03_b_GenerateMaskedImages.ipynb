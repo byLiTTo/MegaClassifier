{
 "cells": [
  {
   "cell_type": "code",
   "execution_count": 4,
   "metadata": {
    "ExecuteTime": {
     "end_time": "2025-02-26T07:41:45.762325Z",
     "start_time": "2025-02-26T07:41:45.755076Z"
    }
   },
   "outputs": [],
   "source": [
    "import json\n",
    "import os\n",
    "\n",
    "import tqdm\n",
    "\n",
    "import src.visualization_utils as vu\n",
    "\n",
    "required_paths = [\"/ai4eutils\", \"/CameraTraps\", \"/yolov5\"]\n",
    "python_path = os.environ.get(\"PYTHONPATH\", \"\")\n",
    "root_path = os.getcwd()\n",
    "\n",
    "for path in required_paths:\n",
    "    if not any(p.endswith(path) for p in python_path.split(\":\")):\n",
    "        python_path += f\":{root_path}/data/external{path}\"\n",
    "\n",
    "os.environ[\"PYTHONPATH\"] = python_path"
   ]
  },
  {
   "cell_type": "code",
   "execution_count": null,
   "metadata": {
    "ExecuteTime": {
     "end_time": "2025-02-26T07:41:45.777574Z",
     "start_time": "2025-02-26T07:41:45.773877Z"
    }
   },
   "outputs": [],
   "source": [
    "DATASET_PATH = os.path.abspath(\"./data/interim/emptyNonEmptyDataset\")\n",
    "MASKED_PATH = os.path.abspath(\"./resources/masked_images\")\n",
    "DETECTION_JSON = os.path.abspath(\"./resources/json/search_0_0015.json\")\n",
    "\n",
    "THRESHOLD_NAME = (\n",
    "    os.path.basename(DETECTION_JSON).replace(\n",
    "        os.path.basename(DETECTION_JSON).split(\"_\")[0] + \"_\", \"\"\n",
    "    )\n",
    ").replace(\".json\", \"\")\n",
    "\n",
    "MASKED_PATH = os.path.join(MASKED_PATH, THRESHOLD_NAME)"
   ]
  },
  {
   "cell_type": "code",
   "execution_count": 6,
   "metadata": {
    "ExecuteTime": {
     "end_time": "2025-02-26T07:46:53.511362Z",
     "start_time": "2025-02-26T07:41:45.797789Z"
    }
   },
   "outputs": [
    {
     "name": "stderr",
     "output_type": "stream",
     "text": [
      "100%|██████████| 28570/28570 [05:07<00:00, 92.91it/s] \n"
     ]
    }
   ],
   "source": [
    "with open(DETECTION_JSON, \"r\") as f:\n",
    "    result = json.load(f)\n",
    "\n",
    "for image in tqdm.tqdm(result[\"images\"]):\n",
    "    input_file = os.path.join(DATASET_PATH, image[\"file\"])\n",
    "    output_file = os.path.join(MASKED_PATH, image[\"file\"])\n",
    "    detections = image[\"detections\"]\n",
    "\n",
    "    vu.apply_mask_on_file(input_file, output_file, detections)\n"
   ]
  }
 ],
 "metadata": {
  "kernelspec": {
   "display_name": "TFG",
   "language": "python",
   "name": "python3"
  },
  "language_info": {
   "codemirror_mode": {
    "name": "ipython",
    "version": 3
   },
   "file_extension": ".py",
   "mimetype": "text/x-python",
   "name": "python",
   "nbconvert_exporter": "python",
   "pygments_lexer": "ipython3",
   "version": "3.8.19"
  }
 },
 "nbformat": 4,
 "nbformat_minor": 2
}
