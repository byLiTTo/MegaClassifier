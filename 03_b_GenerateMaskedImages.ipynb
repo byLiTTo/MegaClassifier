{
 "cells": [
  {
   "cell_type": "code",
   "execution_count": 1,
   "metadata": {},
   "outputs": [],
   "source": [
    "import json\n",
    "import os\n",
    "from datetime import datetime\n",
    "\n",
    "import tqdm\n",
    "from PIL import Image\n",
    "\n",
    "import src.data.Dataset as dt\n",
    "import src.visualization.visualization_utils as vu"
   ]
  },
  {
   "cell_type": "code",
   "execution_count": 2,
   "metadata": {},
   "outputs": [
    {
     "name": "stdout",
     "output_type": "stream",
     "text": [
      "PYTHONPATH: :/Users/carlos/WORKSPACE/MegaClassifier/data/external/ai4eutils:/Users/carlos/WORKSPACE/MegaClassifier/data/external/CameraTraps:/Users/carlos/WORKSPACE/MegaClassifier/data/external/yolov5\n"
     ]
    }
   ],
   "source": [
    "required_paths = [\"/ai4eutils\", \"/CameraTraps\", \"/yolov5\"]\n",
    "python_path = os.environ.get(\"PYTHONPATH\", \"\")\n",
    "root_path = os.getcwd()\n",
    "\n",
    "for path in required_paths:\n",
    "    if not any(p.endswith(path) for p in python_path.split(\":\")):\n",
    "        python_path += f\":{root_path}/data/external{path}\"\n",
    "\n",
    "os.environ[\"PYTHONPATH\"] = python_path\n",
    "\n",
    "!echo \"PYTHONPATH: $PYTHONPATH\""
   ]
  },
  {
   "cell_type": "code",
   "execution_count": 3,
   "metadata": {},
   "outputs": [
    {
     "name": "stdout",
     "output_type": "stream",
     "text": [
      "\n",
      "DATASET_PATH:   /Users/carlos/WORKSPACE/MegaClassifier/data/raw/emptyNonEmptyDataset_ETL\n",
      "MASKED_PATH:      /Users/carlos/WORKSPACE/MegaClassifier/data/interim/masked_images/emptyNonEmptyDataset_ETL\n",
      "DETECTION_JSON: /Users/carlos/WORKSPACE/MegaClassifier/resources/json/28560_images_0_003_threshold.json\n"
     ]
    }
   ],
   "source": [
    "DATASET_PATH = os.path.abspath(\"./data/raw/emptyNonEmptyDataset_ETL\")\n",
    "MASKED_PATH = os.path.abspath(\"./data/interim/masked_images\")\n",
    "DETECTION_JSON = os.path.abspath(\"./resources/json/28560_images_0_003_threshold.json\")\n",
    "\n",
    "with open(DETECTION_JSON, \"r\") as f:\n",
    "    result = json.load(f)\n",
    "\n",
    "MASKED_PATH = os.path.join(MASKED_PATH, os.path.basename(DATASET_PATH))\n",
    "\n",
    "\n",
    "print()\n",
    "print(f\"DATASET_PATH:   {DATASET_PATH}\")\n",
    "print(f\"MASKED_PATH:      {MASKED_PATH}\")\n",
    "print(f\"DETECTION_JSON: {DETECTION_JSON}\")"
   ]
  },
  {
   "cell_type": "code",
   "execution_count": 4,
   "metadata": {},
   "outputs": [
    {
     "name": "stderr",
     "output_type": "stream",
     "text": [
      "100%|██████████| 28560/28560 [05:04<00:00, 93.76it/s] \n"
     ]
    }
   ],
   "source": [
    "for image in tqdm.tqdm(result[\"images\"]):\n",
    "    input_file = os.path.join(DATASET_PATH, image[\"file\"])\n",
    "    output_file = os.path.join(MASKED_PATH, image[\"file\"])\n",
    "    detections = image[\"detections\"]\n",
    "\n",
    "    vu.apply_mask_on_file(input_file, output_file, detections)\n"
   ]
  }
 ],
 "metadata": {
  "kernelspec": {
   "display_name": "TFG",
   "language": "python",
   "name": "python3"
  },
  "language_info": {
   "codemirror_mode": {
    "name": "ipython",
    "version": 3
   },
   "file_extension": ".py",
   "mimetype": "text/x-python",
   "name": "python",
   "nbconvert_exporter": "python",
   "pygments_lexer": "ipython3",
   "version": "3.8.19"
  }
 },
 "nbformat": 4,
 "nbformat_minor": 2
}
