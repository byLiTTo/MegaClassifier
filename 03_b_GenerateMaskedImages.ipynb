{
 "cells": [
  {
   "cell_type": "code",
   "metadata": {
    "ExecuteTime": {
     "end_time": "2025-02-17T17:04:15.290187Z",
     "start_time": "2025-02-17T17:04:15.285793Z"
    }
   },
   "source": [
    "import json\n",
    "import os\n",
    "\n",
    "import tqdm\n",
    "\n",
    "import src.visualization_utils as vu\n",
    "\n",
    "required_paths = [\"/ai4eutils\", \"/CameraTraps\", \"/yolov5\"]\n",
    "python_path = os.environ.get(\"PYTHONPATH\", \"\")\n",
    "root_path = os.getcwd()\n",
    "\n",
    "for path in required_paths:\n",
    "    if not any(p.endswith(path) for p in python_path.split(\":\")):\n",
    "        python_path += f\":{root_path}/data/external{path}\"\n",
    "\n",
    "os.environ[\"PYTHONPATH\"] = python_path"
   ],
   "outputs": [],
   "execution_count": 3
  },
  {
   "cell_type": "code",
   "metadata": {
    "ExecuteTime": {
     "end_time": "2025-02-17T17:04:15.300975Z",
     "start_time": "2025-02-17T17:04:15.297733Z"
    }
   },
   "source": [
    "DATASET_PATH = os.path.abspath(\"./data/interim/emptyNonEmptyDataset\")\n",
    "MASKED_PATH = os.path.abspath(\"./resources/masked_images\")\n",
    "DETECTION_JSON = os.path.abspath(\"./resources/json/search_0_003.json\")\n",
    "\n",
    "THRESHOLD_NAME = (\n",
    "    os.path.basename(DETECTION_JSON).replace(os.path.basename(DETECTION_JSON).split(\"_\")[0] + \"_\", \"\")).replace(\".json\",\n",
    "                                                                                                                \"\")\n",
    "\n",
    "MASKED_PATH = os.path.join(MASKED_PATH, THRESHOLD_NAME)"
   ],
   "outputs": [],
   "execution_count": 4
  },
  {
   "cell_type": "code",
   "metadata": {
    "ExecuteTime": {
     "end_time": "2025-02-17T17:09:03.828631Z",
     "start_time": "2025-02-17T17:04:15.310133Z"
    }
   },
   "source": [
    "with open(DETECTION_JSON, \"r\") as f:\n",
    "    result = json.load(f)\n",
    "\n",
    "for image in tqdm.tqdm(result[\"images\"]):\n",
    "    input_file = os.path.join(DATASET_PATH, image[\"file\"])\n",
    "    output_file = os.path.join(MASKED_PATH, image[\"file\"])\n",
    "    detections = image[\"detections\"]\n",
    "\n",
    "    vu.apply_mask_on_file(input_file, output_file, detections)\n"
   ],
   "outputs": [
    {
     "name": "stderr",
     "output_type": "stream",
     "text": [
      "100%|██████████| 28570/28570 [04:48<00:00, 99.07it/s] \n"
     ]
    }
   ],
   "execution_count": 5
  }
 ],
 "metadata": {
  "kernelspec": {
   "display_name": "Python [conda env:TFG] *",
   "language": "python",
   "name": "conda-env-TFG-py"
  },
  "language_info": {
   "codemirror_mode": {
    "name": "ipython",
    "version": 3
   },
   "file_extension": ".py",
   "mimetype": "text/x-python",
   "name": "python",
   "nbconvert_exporter": "python",
   "pygments_lexer": "ipython3",
   "version": "3.8.19"
  }
 },
 "nbformat": 4,
 "nbformat_minor": 2
}
