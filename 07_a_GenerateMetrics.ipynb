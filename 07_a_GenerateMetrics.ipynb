{
 "cells": [
  {
   "cell_type": "code",
   "execution_count": 17,
   "metadata": {},
   "outputs": [],
   "source": [
    "import tensorboard"
   ]
  },
  {
   "cell_type": "code",
   "execution_count": 18,
   "metadata": {},
   "outputs": [],
   "source": [
    "import os\n",
    "\n",
    "import numpy as np\n",
    "import pandas as pd\n",
    "import plotly.graph_objects as go\n",
    "from tensorflow.keras.metrics import *\n",
    "from tensorflow.keras.models import load_model\n",
    "\n",
    "import src.data.Dataset as dt"
   ]
  },
  {
   "cell_type": "code",
   "execution_count": 19,
   "metadata": {},
   "outputs": [],
   "source": [
    "def moving_average(data, window_size):\n",
    "    return np.convolve(data, np.ones(window_size) / window_size, mode=\"valid\")"
   ]
  },
  {
   "cell_type": "code",
   "execution_count": 20,
   "metadata": {},
   "outputs": [
    {
     "name": "stdout",
     "output_type": "stream",
     "text": [
      "PYTHONPATH: :/Users/carlos/WORKSPACE/MegaClassifier/data/external/ai4eutils:/Users/carlos/WORKSPACE/MegaClassifier/data/external/CameraTraps:/Users/carlos/WORKSPACE/MegaClassifier/data/external/yolov5\n"
     ]
    }
   ],
   "source": [
    "required_paths = [\"/ai4eutils\", \"/CameraTraps\", \"/yolov5\"]\n",
    "python_path = os.environ.get(\"PYTHONPATH\", \"\")\n",
    "root_path = os.getcwd()\n",
    "\n",
    "for path in required_paths:\n",
    "    if not any(p.endswith(path) for p in python_path.split(\":\")):\n",
    "        python_path += f\":{root_path}/data/external{path}\"\n",
    "\n",
    "os.environ[\"PYTHONPATH\"] = python_path\n",
    "\n",
    "!echo \"PYTHONPATH: $PYTHONPATH\""
   ]
  },
  {
   "cell_type": "code",
   "execution_count": 21,
   "metadata": {},
   "outputs": [],
   "source": [
    "model_name = \"VGG16\"\n",
    "version = \"v.1.1\"\n",
    "complete_name = model_name + \"_\" + version\n",
    "\n",
    "model = load_model(f\"./models/{model_name}/{complete_name}.h5\")"
   ]
  },
  {
   "cell_type": "code",
   "execution_count": 22,
   "metadata": {},
   "outputs": [],
   "source": [
    "train_validation_df = pd.read_csv(\n",
    "    f\"./logs/{model_name}/{version}/train_validation_history.csv\"\n",
    ")\n",
    "\n",
    "train_metrics = train_validation_df[\n",
    "    [col for col in train_validation_df.columns if not col.startswith(\"val_\")]\n",
    "]\n",
    "\n",
    "validation_metrics = train_validation_df[\n",
    "    [col for col in train_validation_df.columns if col.startswith(\"val_\")]\n",
    "]\n",
    "\n",
    "test_metrics = pd.read_csv(f\"./logs/{model_name}/{version}/test_history.csv\")"
   ]
  },
  {
   "cell_type": "code",
   "execution_count": 23,
   "metadata": {},
   "outputs": [
    {
     "data": {
      "application/vnd.plotly.v1+json": {
       "config": {
        "plotlyServerURL": "https://plot.ly"
       },
       "data": [
        {
         "mode": "lines",
         "name": "Train",
         "type": "scatter",
         "x": [
          0,
          1,
          2,
          3,
          4,
          5,
          6,
          7,
          8,
          9,
          10,
          11,
          12,
          13,
          14,
          15,
          16,
          17,
          18,
          19,
          20,
          21,
          22,
          23,
          24
         ],
         "y": [
          0.8208820819854736,
          0.8841384053230286,
          0.8941394090652466,
          0.901340126991272,
          0.9014901518821716,
          0.9046404361724854,
          0.9072907567024232,
          0.9079408049583436,
          0.9078407883644104,
          0.9082908034324646,
          0.9095409512519836,
          0.9071407318115234,
          0.910991072654724,
          0.9097909927368164,
          0.9115911722183228,
          0.9123412370681764,
          0.9112911224365234,
          0.9128912687301636,
          0.9103910326957704,
          0.9130412936210632,
          0.9117411971092224,
          0.9112411141395568,
          0.912591278553009,
          0.9127912521362304,
          0.9119411706924438
         ]
        },
        {
         "mode": "lines",
         "name": "Validation",
         "type": "scatter",
         "x": [
          0,
          1,
          2,
          3,
          4,
          5,
          6,
          7,
          8,
          9,
          10,
          11,
          12,
          13,
          14,
          15,
          16,
          17,
          18,
          19,
          20,
          21,
          22,
          23,
          24
         ],
         "y": [
          0.8793184161186218,
          0.8935574293136597,
          0.9033613204956056,
          0.905695617198944,
          0.9091970324516296,
          0.9075630307197572,
          0.9119981527328492,
          0.9096638560295104,
          0.9077964425086976,
          0.9112978577613832,
          0.9115312695503236,
          0.9108309745788574,
          0.9075630307197572,
          0.9084967374801636,
          0.911764681339264,
          0.9129318594932556,
          0.9091970324516296,
          0.9073296189308168,
          0.9145658016204834,
          0.9063959121704102,
          0.8951914310455322,
          0.9122315645217896,
          0.91246497631073,
          0.9091970324516296,
          0.911764681339264
         ]
        }
       ],
       "layout": {
        "height": 1000,
        "legend": {
         "title": {
          "text": "Metrics"
         }
        },
        "template": {
         "data": {
          "bar": [
           {
            "error_x": {
             "color": "rgb(36,36,36)"
            },
            "error_y": {
             "color": "rgb(36,36,36)"
            },
            "marker": {
             "line": {
              "color": "rgb(234,234,242)",
              "width": 0.5
             },
             "pattern": {
              "fillmode": "overlay",
              "size": 10,
              "solidity": 0.2
             }
            },
            "type": "bar"
           }
          ],
          "barpolar": [
           {
            "marker": {
             "line": {
              "color": "rgb(234,234,242)",
              "width": 0.5
             },
             "pattern": {
              "fillmode": "overlay",
              "size": 10,
              "solidity": 0.2
             }
            },
            "type": "barpolar"
           }
          ],
          "carpet": [
           {
            "aaxis": {
             "endlinecolor": "rgb(36,36,36)",
             "gridcolor": "white",
             "linecolor": "white",
             "minorgridcolor": "white",
             "startlinecolor": "rgb(36,36,36)"
            },
            "baxis": {
             "endlinecolor": "rgb(36,36,36)",
             "gridcolor": "white",
             "linecolor": "white",
             "minorgridcolor": "white",
             "startlinecolor": "rgb(36,36,36)"
            },
            "type": "carpet"
           }
          ],
          "choropleth": [
           {
            "colorbar": {
             "outlinewidth": 0,
             "tickcolor": "rgb(36,36,36)",
             "ticklen": 8,
             "ticks": "outside",
             "tickwidth": 2
            },
            "type": "choropleth"
           }
          ],
          "contour": [
           {
            "colorbar": {
             "outlinewidth": 0,
             "tickcolor": "rgb(36,36,36)",
             "ticklen": 8,
             "ticks": "outside",
             "tickwidth": 2
            },
            "colorscale": [
             [
              0,
              "rgb(2,4,25)"
             ],
             [
              0.06274509803921569,
              "rgb(24,15,41)"
             ],
             [
              0.12549019607843137,
              "rgb(47,23,57)"
             ],
             [
              0.18823529411764706,
              "rgb(71,28,72)"
             ],
             [
              0.25098039215686274,
              "rgb(97,30,82)"
             ],
             [
              0.3137254901960784,
              "rgb(123,30,89)"
             ],
             [
              0.3764705882352941,
              "rgb(150,27,91)"
             ],
             [
              0.4392156862745098,
              "rgb(177,22,88)"
             ],
             [
              0.5019607843137255,
              "rgb(203,26,79)"
             ],
             [
              0.5647058823529412,
              "rgb(223,47,67)"
             ],
             [
              0.6274509803921569,
              "rgb(236,76,61)"
             ],
             [
              0.6901960784313725,
              "rgb(242,107,73)"
             ],
             [
              0.7529411764705882,
              "rgb(244,135,95)"
             ],
             [
              0.8156862745098039,
              "rgb(245,162,122)"
             ],
             [
              0.8784313725490196,
              "rgb(246,188,153)"
             ],
             [
              0.9411764705882353,
              "rgb(247,212,187)"
             ],
             [
              1,
              "rgb(250,234,220)"
             ]
            ],
            "type": "contour"
           }
          ],
          "contourcarpet": [
           {
            "colorbar": {
             "outlinewidth": 0,
             "tickcolor": "rgb(36,36,36)",
             "ticklen": 8,
             "ticks": "outside",
             "tickwidth": 2
            },
            "type": "contourcarpet"
           }
          ],
          "heatmap": [
           {
            "colorbar": {
             "outlinewidth": 0,
             "tickcolor": "rgb(36,36,36)",
             "ticklen": 8,
             "ticks": "outside",
             "tickwidth": 2
            },
            "colorscale": [
             [
              0,
              "rgb(2,4,25)"
             ],
             [
              0.06274509803921569,
              "rgb(24,15,41)"
             ],
             [
              0.12549019607843137,
              "rgb(47,23,57)"
             ],
             [
              0.18823529411764706,
              "rgb(71,28,72)"
             ],
             [
              0.25098039215686274,
              "rgb(97,30,82)"
             ],
             [
              0.3137254901960784,
              "rgb(123,30,89)"
             ],
             [
              0.3764705882352941,
              "rgb(150,27,91)"
             ],
             [
              0.4392156862745098,
              "rgb(177,22,88)"
             ],
             [
              0.5019607843137255,
              "rgb(203,26,79)"
             ],
             [
              0.5647058823529412,
              "rgb(223,47,67)"
             ],
             [
              0.6274509803921569,
              "rgb(236,76,61)"
             ],
             [
              0.6901960784313725,
              "rgb(242,107,73)"
             ],
             [
              0.7529411764705882,
              "rgb(244,135,95)"
             ],
             [
              0.8156862745098039,
              "rgb(245,162,122)"
             ],
             [
              0.8784313725490196,
              "rgb(246,188,153)"
             ],
             [
              0.9411764705882353,
              "rgb(247,212,187)"
             ],
             [
              1,
              "rgb(250,234,220)"
             ]
            ],
            "type": "heatmap"
           }
          ],
          "heatmapgl": [
           {
            "colorbar": {
             "outlinewidth": 0,
             "tickcolor": "rgb(36,36,36)",
             "ticklen": 8,
             "ticks": "outside",
             "tickwidth": 2
            },
            "colorscale": [
             [
              0,
              "rgb(2,4,25)"
             ],
             [
              0.06274509803921569,
              "rgb(24,15,41)"
             ],
             [
              0.12549019607843137,
              "rgb(47,23,57)"
             ],
             [
              0.18823529411764706,
              "rgb(71,28,72)"
             ],
             [
              0.25098039215686274,
              "rgb(97,30,82)"
             ],
             [
              0.3137254901960784,
              "rgb(123,30,89)"
             ],
             [
              0.3764705882352941,
              "rgb(150,27,91)"
             ],
             [
              0.4392156862745098,
              "rgb(177,22,88)"
             ],
             [
              0.5019607843137255,
              "rgb(203,26,79)"
             ],
             [
              0.5647058823529412,
              "rgb(223,47,67)"
             ],
             [
              0.6274509803921569,
              "rgb(236,76,61)"
             ],
             [
              0.6901960784313725,
              "rgb(242,107,73)"
             ],
             [
              0.7529411764705882,
              "rgb(244,135,95)"
             ],
             [
              0.8156862745098039,
              "rgb(245,162,122)"
             ],
             [
              0.8784313725490196,
              "rgb(246,188,153)"
             ],
             [
              0.9411764705882353,
              "rgb(247,212,187)"
             ],
             [
              1,
              "rgb(250,234,220)"
             ]
            ],
            "type": "heatmapgl"
           }
          ],
          "histogram": [
           {
            "marker": {
             "pattern": {
              "fillmode": "overlay",
              "size": 10,
              "solidity": 0.2
             }
            },
            "type": "histogram"
           }
          ],
          "histogram2d": [
           {
            "colorbar": {
             "outlinewidth": 0,
             "tickcolor": "rgb(36,36,36)",
             "ticklen": 8,
             "ticks": "outside",
             "tickwidth": 2
            },
            "colorscale": [
             [
              0,
              "rgb(2,4,25)"
             ],
             [
              0.06274509803921569,
              "rgb(24,15,41)"
             ],
             [
              0.12549019607843137,
              "rgb(47,23,57)"
             ],
             [
              0.18823529411764706,
              "rgb(71,28,72)"
             ],
             [
              0.25098039215686274,
              "rgb(97,30,82)"
             ],
             [
              0.3137254901960784,
              "rgb(123,30,89)"
             ],
             [
              0.3764705882352941,
              "rgb(150,27,91)"
             ],
             [
              0.4392156862745098,
              "rgb(177,22,88)"
             ],
             [
              0.5019607843137255,
              "rgb(203,26,79)"
             ],
             [
              0.5647058823529412,
              "rgb(223,47,67)"
             ],
             [
              0.6274509803921569,
              "rgb(236,76,61)"
             ],
             [
              0.6901960784313725,
              "rgb(242,107,73)"
             ],
             [
              0.7529411764705882,
              "rgb(244,135,95)"
             ],
             [
              0.8156862745098039,
              "rgb(245,162,122)"
             ],
             [
              0.8784313725490196,
              "rgb(246,188,153)"
             ],
             [
              0.9411764705882353,
              "rgb(247,212,187)"
             ],
             [
              1,
              "rgb(250,234,220)"
             ]
            ],
            "type": "histogram2d"
           }
          ],
          "histogram2dcontour": [
           {
            "colorbar": {
             "outlinewidth": 0,
             "tickcolor": "rgb(36,36,36)",
             "ticklen": 8,
             "ticks": "outside",
             "tickwidth": 2
            },
            "colorscale": [
             [
              0,
              "rgb(2,4,25)"
             ],
             [
              0.06274509803921569,
              "rgb(24,15,41)"
             ],
             [
              0.12549019607843137,
              "rgb(47,23,57)"
             ],
             [
              0.18823529411764706,
              "rgb(71,28,72)"
             ],
             [
              0.25098039215686274,
              "rgb(97,30,82)"
             ],
             [
              0.3137254901960784,
              "rgb(123,30,89)"
             ],
             [
              0.3764705882352941,
              "rgb(150,27,91)"
             ],
             [
              0.4392156862745098,
              "rgb(177,22,88)"
             ],
             [
              0.5019607843137255,
              "rgb(203,26,79)"
             ],
             [
              0.5647058823529412,
              "rgb(223,47,67)"
             ],
             [
              0.6274509803921569,
              "rgb(236,76,61)"
             ],
             [
              0.6901960784313725,
              "rgb(242,107,73)"
             ],
             [
              0.7529411764705882,
              "rgb(244,135,95)"
             ],
             [
              0.8156862745098039,
              "rgb(245,162,122)"
             ],
             [
              0.8784313725490196,
              "rgb(246,188,153)"
             ],
             [
              0.9411764705882353,
              "rgb(247,212,187)"
             ],
             [
              1,
              "rgb(250,234,220)"
             ]
            ],
            "type": "histogram2dcontour"
           }
          ],
          "mesh3d": [
           {
            "colorbar": {
             "outlinewidth": 0,
             "tickcolor": "rgb(36,36,36)",
             "ticklen": 8,
             "ticks": "outside",
             "tickwidth": 2
            },
            "type": "mesh3d"
           }
          ],
          "parcoords": [
           {
            "line": {
             "colorbar": {
              "outlinewidth": 0,
              "tickcolor": "rgb(36,36,36)",
              "ticklen": 8,
              "ticks": "outside",
              "tickwidth": 2
             }
            },
            "type": "parcoords"
           }
          ],
          "pie": [
           {
            "automargin": true,
            "type": "pie"
           }
          ],
          "scatter": [
           {
            "fillpattern": {
             "fillmode": "overlay",
             "size": 10,
             "solidity": 0.2
            },
            "type": "scatter"
           }
          ],
          "scatter3d": [
           {
            "line": {
             "colorbar": {
              "outlinewidth": 0,
              "tickcolor": "rgb(36,36,36)",
              "ticklen": 8,
              "ticks": "outside",
              "tickwidth": 2
             }
            },
            "marker": {
             "colorbar": {
              "outlinewidth": 0,
              "tickcolor": "rgb(36,36,36)",
              "ticklen": 8,
              "ticks": "outside",
              "tickwidth": 2
             }
            },
            "type": "scatter3d"
           }
          ],
          "scattercarpet": [
           {
            "marker": {
             "colorbar": {
              "outlinewidth": 0,
              "tickcolor": "rgb(36,36,36)",
              "ticklen": 8,
              "ticks": "outside",
              "tickwidth": 2
             }
            },
            "type": "scattercarpet"
           }
          ],
          "scattergeo": [
           {
            "marker": {
             "colorbar": {
              "outlinewidth": 0,
              "tickcolor": "rgb(36,36,36)",
              "ticklen": 8,
              "ticks": "outside",
              "tickwidth": 2
             }
            },
            "type": "scattergeo"
           }
          ],
          "scattergl": [
           {
            "marker": {
             "colorbar": {
              "outlinewidth": 0,
              "tickcolor": "rgb(36,36,36)",
              "ticklen": 8,
              "ticks": "outside",
              "tickwidth": 2
             }
            },
            "type": "scattergl"
           }
          ],
          "scattermapbox": [
           {
            "marker": {
             "colorbar": {
              "outlinewidth": 0,
              "tickcolor": "rgb(36,36,36)",
              "ticklen": 8,
              "ticks": "outside",
              "tickwidth": 2
             }
            },
            "type": "scattermapbox"
           }
          ],
          "scatterpolar": [
           {
            "marker": {
             "colorbar": {
              "outlinewidth": 0,
              "tickcolor": "rgb(36,36,36)",
              "ticklen": 8,
              "ticks": "outside",
              "tickwidth": 2
             }
            },
            "type": "scatterpolar"
           }
          ],
          "scatterpolargl": [
           {
            "marker": {
             "colorbar": {
              "outlinewidth": 0,
              "tickcolor": "rgb(36,36,36)",
              "ticklen": 8,
              "ticks": "outside",
              "tickwidth": 2
             }
            },
            "type": "scatterpolargl"
           }
          ],
          "scatterternary": [
           {
            "marker": {
             "colorbar": {
              "outlinewidth": 0,
              "tickcolor": "rgb(36,36,36)",
              "ticklen": 8,
              "ticks": "outside",
              "tickwidth": 2
             }
            },
            "type": "scatterternary"
           }
          ],
          "surface": [
           {
            "colorbar": {
             "outlinewidth": 0,
             "tickcolor": "rgb(36,36,36)",
             "ticklen": 8,
             "ticks": "outside",
             "tickwidth": 2
            },
            "colorscale": [
             [
              0,
              "rgb(2,4,25)"
             ],
             [
              0.06274509803921569,
              "rgb(24,15,41)"
             ],
             [
              0.12549019607843137,
              "rgb(47,23,57)"
             ],
             [
              0.18823529411764706,
              "rgb(71,28,72)"
             ],
             [
              0.25098039215686274,
              "rgb(97,30,82)"
             ],
             [
              0.3137254901960784,
              "rgb(123,30,89)"
             ],
             [
              0.3764705882352941,
              "rgb(150,27,91)"
             ],
             [
              0.4392156862745098,
              "rgb(177,22,88)"
             ],
             [
              0.5019607843137255,
              "rgb(203,26,79)"
             ],
             [
              0.5647058823529412,
              "rgb(223,47,67)"
             ],
             [
              0.6274509803921569,
              "rgb(236,76,61)"
             ],
             [
              0.6901960784313725,
              "rgb(242,107,73)"
             ],
             [
              0.7529411764705882,
              "rgb(244,135,95)"
             ],
             [
              0.8156862745098039,
              "rgb(245,162,122)"
             ],
             [
              0.8784313725490196,
              "rgb(246,188,153)"
             ],
             [
              0.9411764705882353,
              "rgb(247,212,187)"
             ],
             [
              1,
              "rgb(250,234,220)"
             ]
            ],
            "type": "surface"
           }
          ],
          "table": [
           {
            "cells": {
             "fill": {
              "color": "rgb(231,231,240)"
             },
             "line": {
              "color": "white"
             }
            },
            "header": {
             "fill": {
              "color": "rgb(183,183,191)"
             },
             "line": {
              "color": "white"
             }
            },
            "type": "table"
           }
          ]
         },
         "layout": {
          "annotationdefaults": {
           "arrowcolor": "rgb(67,103,167)"
          },
          "autotypenumbers": "strict",
          "coloraxis": {
           "colorbar": {
            "outlinewidth": 0,
            "tickcolor": "rgb(36,36,36)",
            "ticklen": 8,
            "ticks": "outside",
            "tickwidth": 2
           }
          },
          "colorscale": {
           "sequential": [
            [
             0,
             "rgb(2,4,25)"
            ],
            [
             0.06274509803921569,
             "rgb(24,15,41)"
            ],
            [
             0.12549019607843137,
             "rgb(47,23,57)"
            ],
            [
             0.18823529411764706,
             "rgb(71,28,72)"
            ],
            [
             0.25098039215686274,
             "rgb(97,30,82)"
            ],
            [
             0.3137254901960784,
             "rgb(123,30,89)"
            ],
            [
             0.3764705882352941,
             "rgb(150,27,91)"
            ],
            [
             0.4392156862745098,
             "rgb(177,22,88)"
            ],
            [
             0.5019607843137255,
             "rgb(203,26,79)"
            ],
            [
             0.5647058823529412,
             "rgb(223,47,67)"
            ],
            [
             0.6274509803921569,
             "rgb(236,76,61)"
            ],
            [
             0.6901960784313725,
             "rgb(242,107,73)"
            ],
            [
             0.7529411764705882,
             "rgb(244,135,95)"
            ],
            [
             0.8156862745098039,
             "rgb(245,162,122)"
            ],
            [
             0.8784313725490196,
             "rgb(246,188,153)"
            ],
            [
             0.9411764705882353,
             "rgb(247,212,187)"
            ],
            [
             1,
             "rgb(250,234,220)"
            ]
           ],
           "sequentialminus": [
            [
             0,
             "rgb(2,4,25)"
            ],
            [
             0.06274509803921569,
             "rgb(24,15,41)"
            ],
            [
             0.12549019607843137,
             "rgb(47,23,57)"
            ],
            [
             0.18823529411764706,
             "rgb(71,28,72)"
            ],
            [
             0.25098039215686274,
             "rgb(97,30,82)"
            ],
            [
             0.3137254901960784,
             "rgb(123,30,89)"
            ],
            [
             0.3764705882352941,
             "rgb(150,27,91)"
            ],
            [
             0.4392156862745098,
             "rgb(177,22,88)"
            ],
            [
             0.5019607843137255,
             "rgb(203,26,79)"
            ],
            [
             0.5647058823529412,
             "rgb(223,47,67)"
            ],
            [
             0.6274509803921569,
             "rgb(236,76,61)"
            ],
            [
             0.6901960784313725,
             "rgb(242,107,73)"
            ],
            [
             0.7529411764705882,
             "rgb(244,135,95)"
            ],
            [
             0.8156862745098039,
             "rgb(245,162,122)"
            ],
            [
             0.8784313725490196,
             "rgb(246,188,153)"
            ],
            [
             0.9411764705882353,
             "rgb(247,212,187)"
            ],
            [
             1,
             "rgb(250,234,220)"
            ]
           ]
          },
          "colorway": [
           "rgb(76,114,176)",
           "rgb(221,132,82)",
           "rgb(85,168,104)",
           "rgb(196,78,82)",
           "rgb(129,114,179)",
           "rgb(147,120,96)",
           "rgb(218,139,195)",
           "rgb(140,140,140)",
           "rgb(204,185,116)",
           "rgb(100,181,205)"
          ],
          "font": {
           "color": "rgb(36,36,36)"
          },
          "geo": {
           "bgcolor": "white",
           "lakecolor": "white",
           "landcolor": "rgb(234,234,242)",
           "showlakes": true,
           "showland": true,
           "subunitcolor": "white"
          },
          "hoverlabel": {
           "align": "left"
          },
          "hovermode": "closest",
          "paper_bgcolor": "white",
          "plot_bgcolor": "rgb(234,234,242)",
          "polar": {
           "angularaxis": {
            "gridcolor": "white",
            "linecolor": "white",
            "showgrid": true,
            "ticks": ""
           },
           "bgcolor": "rgb(234,234,242)",
           "radialaxis": {
            "gridcolor": "white",
            "linecolor": "white",
            "showgrid": true,
            "ticks": ""
           }
          },
          "scene": {
           "xaxis": {
            "backgroundcolor": "rgb(234,234,242)",
            "gridcolor": "white",
            "gridwidth": 2,
            "linecolor": "white",
            "showbackground": true,
            "showgrid": true,
            "ticks": "",
            "zerolinecolor": "white"
           },
           "yaxis": {
            "backgroundcolor": "rgb(234,234,242)",
            "gridcolor": "white",
            "gridwidth": 2,
            "linecolor": "white",
            "showbackground": true,
            "showgrid": true,
            "ticks": "",
            "zerolinecolor": "white"
           },
           "zaxis": {
            "backgroundcolor": "rgb(234,234,242)",
            "gridcolor": "white",
            "gridwidth": 2,
            "linecolor": "white",
            "showbackground": true,
            "showgrid": true,
            "ticks": "",
            "zerolinecolor": "white"
           }
          },
          "shapedefaults": {
           "fillcolor": "rgb(67,103,167)",
           "line": {
            "width": 0
           },
           "opacity": 0.5
          },
          "ternary": {
           "aaxis": {
            "gridcolor": "white",
            "linecolor": "white",
            "showgrid": true,
            "ticks": ""
           },
           "baxis": {
            "gridcolor": "white",
            "linecolor": "white",
            "showgrid": true,
            "ticks": ""
           },
           "bgcolor": "rgb(234,234,242)",
           "caxis": {
            "gridcolor": "white",
            "linecolor": "white",
            "showgrid": true,
            "ticks": ""
           }
          },
          "xaxis": {
           "automargin": true,
           "gridcolor": "white",
           "linecolor": "white",
           "showgrid": true,
           "ticks": "",
           "title": {
            "standoff": 15
           },
           "zerolinecolor": "white"
          },
          "yaxis": {
           "automargin": true,
           "gridcolor": "white",
           "linecolor": "white",
           "showgrid": true,
           "ticks": "",
           "title": {
            "standoff": 15
           },
           "zerolinecolor": "white"
          }
         }
        },
        "title": {
         "text": "Accuracy - VGG16 v.1.1"
        },
        "width": 1200,
        "xaxis": {
         "title": {
          "text": "Epochs"
         }
        },
        "yaxis": {
         "title": {
          "text": "Accuracy"
         }
        }
       }
      }
     },
     "metadata": {},
     "output_type": "display_data"
    }
   ],
   "source": [
    "window_size = 0\n",
    "train_data = (\n",
    "    moving_average(train_metrics[\"accuracy\"], window_size)\n",
    "    if window_size != 0\n",
    "    else train_metrics[\"accuracy\"]\n",
    ")\n",
    "validation_data = (\n",
    "    moving_average(validation_metrics[\"val_accuracy\"], window_size)\n",
    "    if window_size != 0\n",
    "    else validation_metrics[\"val_accuracy\"]\n",
    ")\n",
    "\n",
    "fig = go.Figure()\n",
    "\n",
    "fig.add_trace(\n",
    "    go.Scatter(\n",
    "        y=train_data,\n",
    "        x=np.arange(len(train_data)),\n",
    "        mode=\"lines\",\n",
    "        name=\"Train\",\n",
    "    )\n",
    ")\n",
    "\n",
    "fig.add_trace(\n",
    "    go.Scatter(\n",
    "        y=validation_data,\n",
    "        x=np.arange(len(validation_data)),\n",
    "        mode=\"lines\",\n",
    "        name=\"Validation\",\n",
    "    )\n",
    ")\n",
    "\n",
    "fig.update_layout(\n",
    "    title=f\"Accuracy - {model_name} {version}\",\n",
    "    xaxis_title=\"Epochs\",\n",
    "    yaxis_title=\"Accuracy\",\n",
    "    legend_title=\"Metrics\",\n",
    "    template=\"seaborn\",\n",
    "    width=1200,\n",
    "    height=1000,\n",
    ")\n",
    "\n",
    "fig.show()"
   ]
  },
  {
   "cell_type": "code",
   "execution_count": 24,
   "metadata": {},
   "outputs": [
    {
     "data": {
      "application/vnd.plotly.v1+json": {
       "config": {
        "plotlyServerURL": "https://plot.ly"
       },
       "data": [
        {
         "mode": "lines",
         "name": "Train",
         "type": "scatter",
         "x": [
          0,
          1,
          2,
          3,
          4,
          5,
          6,
          7,
          8,
          9,
          10,
          11,
          12,
          13,
          14,
          15,
          16,
          17,
          18,
          19,
          20,
          21,
          22,
          23,
          24
         ],
         "y": [
          0.4065177142620086,
          0.2587800920009613,
          0.2367792874574661,
          0.2258855551481247,
          0.2213976830244064,
          0.2169579267501831,
          0.2137619704008102,
          0.2124150842428207,
          0.2106156349182129,
          0.2085742950439453,
          0.2082965672016143,
          0.2112642973661422,
          0.2054735720157623,
          0.2066083550453186,
          0.2064024955034256,
          0.2047434598207473,
          0.204959750175476,
          0.2039608806371688,
          0.2051962316036224,
          0.2041173428297042,
          0.2038386762142181,
          0.2037672698497772,
          0.2032667696475982,
          0.2042225003242492,
          0.2033996433019638
         ]
        },
        {
         "mode": "lines",
         "name": "Validation",
         "type": "scatter",
         "x": [
          0,
          1,
          2,
          3,
          4,
          5,
          6,
          7,
          8,
          9,
          10,
          11,
          12,
          13,
          14,
          15,
          16,
          17,
          18,
          19,
          20,
          21,
          22,
          23,
          24
         ],
         "y": [
          0.2828623056411743,
          0.2531394064426422,
          0.2317479997873306,
          0.2264969646930694,
          0.21888467669487,
          0.2178812175989151,
          0.2143268883228302,
          0.2143646776676178,
          0.2189226895570755,
          0.2149365693330764,
          0.2157351672649383,
          0.2168594002723693,
          0.2190796732902526,
          0.2187831401824951,
          0.2166128754615783,
          0.2148511260747909,
          0.2175076901912689,
          0.2276579290628433,
          0.2156675457954406,
          0.2331548631191253,
          0.2349026203155517,
          0.2163452804088592,
          0.2180554717779159,
          0.2184315025806427,
          0.2185623198747635
         ]
        }
       ],
       "layout": {
        "height": 1000,
        "legend": {
         "title": {
          "text": "Metrics"
         }
        },
        "template": {
         "data": {
          "bar": [
           {
            "error_x": {
             "color": "rgb(36,36,36)"
            },
            "error_y": {
             "color": "rgb(36,36,36)"
            },
            "marker": {
             "line": {
              "color": "rgb(234,234,242)",
              "width": 0.5
             },
             "pattern": {
              "fillmode": "overlay",
              "size": 10,
              "solidity": 0.2
             }
            },
            "type": "bar"
           }
          ],
          "barpolar": [
           {
            "marker": {
             "line": {
              "color": "rgb(234,234,242)",
              "width": 0.5
             },
             "pattern": {
              "fillmode": "overlay",
              "size": 10,
              "solidity": 0.2
             }
            },
            "type": "barpolar"
           }
          ],
          "carpet": [
           {
            "aaxis": {
             "endlinecolor": "rgb(36,36,36)",
             "gridcolor": "white",
             "linecolor": "white",
             "minorgridcolor": "white",
             "startlinecolor": "rgb(36,36,36)"
            },
            "baxis": {
             "endlinecolor": "rgb(36,36,36)",
             "gridcolor": "white",
             "linecolor": "white",
             "minorgridcolor": "white",
             "startlinecolor": "rgb(36,36,36)"
            },
            "type": "carpet"
           }
          ],
          "choropleth": [
           {
            "colorbar": {
             "outlinewidth": 0,
             "tickcolor": "rgb(36,36,36)",
             "ticklen": 8,
             "ticks": "outside",
             "tickwidth": 2
            },
            "type": "choropleth"
           }
          ],
          "contour": [
           {
            "colorbar": {
             "outlinewidth": 0,
             "tickcolor": "rgb(36,36,36)",
             "ticklen": 8,
             "ticks": "outside",
             "tickwidth": 2
            },
            "colorscale": [
             [
              0,
              "rgb(2,4,25)"
             ],
             [
              0.06274509803921569,
              "rgb(24,15,41)"
             ],
             [
              0.12549019607843137,
              "rgb(47,23,57)"
             ],
             [
              0.18823529411764706,
              "rgb(71,28,72)"
             ],
             [
              0.25098039215686274,
              "rgb(97,30,82)"
             ],
             [
              0.3137254901960784,
              "rgb(123,30,89)"
             ],
             [
              0.3764705882352941,
              "rgb(150,27,91)"
             ],
             [
              0.4392156862745098,
              "rgb(177,22,88)"
             ],
             [
              0.5019607843137255,
              "rgb(203,26,79)"
             ],
             [
              0.5647058823529412,
              "rgb(223,47,67)"
             ],
             [
              0.6274509803921569,
              "rgb(236,76,61)"
             ],
             [
              0.6901960784313725,
              "rgb(242,107,73)"
             ],
             [
              0.7529411764705882,
              "rgb(244,135,95)"
             ],
             [
              0.8156862745098039,
              "rgb(245,162,122)"
             ],
             [
              0.8784313725490196,
              "rgb(246,188,153)"
             ],
             [
              0.9411764705882353,
              "rgb(247,212,187)"
             ],
             [
              1,
              "rgb(250,234,220)"
             ]
            ],
            "type": "contour"
           }
          ],
          "contourcarpet": [
           {
            "colorbar": {
             "outlinewidth": 0,
             "tickcolor": "rgb(36,36,36)",
             "ticklen": 8,
             "ticks": "outside",
             "tickwidth": 2
            },
            "type": "contourcarpet"
           }
          ],
          "heatmap": [
           {
            "colorbar": {
             "outlinewidth": 0,
             "tickcolor": "rgb(36,36,36)",
             "ticklen": 8,
             "ticks": "outside",
             "tickwidth": 2
            },
            "colorscale": [
             [
              0,
              "rgb(2,4,25)"
             ],
             [
              0.06274509803921569,
              "rgb(24,15,41)"
             ],
             [
              0.12549019607843137,
              "rgb(47,23,57)"
             ],
             [
              0.18823529411764706,
              "rgb(71,28,72)"
             ],
             [
              0.25098039215686274,
              "rgb(97,30,82)"
             ],
             [
              0.3137254901960784,
              "rgb(123,30,89)"
             ],
             [
              0.3764705882352941,
              "rgb(150,27,91)"
             ],
             [
              0.4392156862745098,
              "rgb(177,22,88)"
             ],
             [
              0.5019607843137255,
              "rgb(203,26,79)"
             ],
             [
              0.5647058823529412,
              "rgb(223,47,67)"
             ],
             [
              0.6274509803921569,
              "rgb(236,76,61)"
             ],
             [
              0.6901960784313725,
              "rgb(242,107,73)"
             ],
             [
              0.7529411764705882,
              "rgb(244,135,95)"
             ],
             [
              0.8156862745098039,
              "rgb(245,162,122)"
             ],
             [
              0.8784313725490196,
              "rgb(246,188,153)"
             ],
             [
              0.9411764705882353,
              "rgb(247,212,187)"
             ],
             [
              1,
              "rgb(250,234,220)"
             ]
            ],
            "type": "heatmap"
           }
          ],
          "heatmapgl": [
           {
            "colorbar": {
             "outlinewidth": 0,
             "tickcolor": "rgb(36,36,36)",
             "ticklen": 8,
             "ticks": "outside",
             "tickwidth": 2
            },
            "colorscale": [
             [
              0,
              "rgb(2,4,25)"
             ],
             [
              0.06274509803921569,
              "rgb(24,15,41)"
             ],
             [
              0.12549019607843137,
              "rgb(47,23,57)"
             ],
             [
              0.18823529411764706,
              "rgb(71,28,72)"
             ],
             [
              0.25098039215686274,
              "rgb(97,30,82)"
             ],
             [
              0.3137254901960784,
              "rgb(123,30,89)"
             ],
             [
              0.3764705882352941,
              "rgb(150,27,91)"
             ],
             [
              0.4392156862745098,
              "rgb(177,22,88)"
             ],
             [
              0.5019607843137255,
              "rgb(203,26,79)"
             ],
             [
              0.5647058823529412,
              "rgb(223,47,67)"
             ],
             [
              0.6274509803921569,
              "rgb(236,76,61)"
             ],
             [
              0.6901960784313725,
              "rgb(242,107,73)"
             ],
             [
              0.7529411764705882,
              "rgb(244,135,95)"
             ],
             [
              0.8156862745098039,
              "rgb(245,162,122)"
             ],
             [
              0.8784313725490196,
              "rgb(246,188,153)"
             ],
             [
              0.9411764705882353,
              "rgb(247,212,187)"
             ],
             [
              1,
              "rgb(250,234,220)"
             ]
            ],
            "type": "heatmapgl"
           }
          ],
          "histogram": [
           {
            "marker": {
             "pattern": {
              "fillmode": "overlay",
              "size": 10,
              "solidity": 0.2
             }
            },
            "type": "histogram"
           }
          ],
          "histogram2d": [
           {
            "colorbar": {
             "outlinewidth": 0,
             "tickcolor": "rgb(36,36,36)",
             "ticklen": 8,
             "ticks": "outside",
             "tickwidth": 2
            },
            "colorscale": [
             [
              0,
              "rgb(2,4,25)"
             ],
             [
              0.06274509803921569,
              "rgb(24,15,41)"
             ],
             [
              0.12549019607843137,
              "rgb(47,23,57)"
             ],
             [
              0.18823529411764706,
              "rgb(71,28,72)"
             ],
             [
              0.25098039215686274,
              "rgb(97,30,82)"
             ],
             [
              0.3137254901960784,
              "rgb(123,30,89)"
             ],
             [
              0.3764705882352941,
              "rgb(150,27,91)"
             ],
             [
              0.4392156862745098,
              "rgb(177,22,88)"
             ],
             [
              0.5019607843137255,
              "rgb(203,26,79)"
             ],
             [
              0.5647058823529412,
              "rgb(223,47,67)"
             ],
             [
              0.6274509803921569,
              "rgb(236,76,61)"
             ],
             [
              0.6901960784313725,
              "rgb(242,107,73)"
             ],
             [
              0.7529411764705882,
              "rgb(244,135,95)"
             ],
             [
              0.8156862745098039,
              "rgb(245,162,122)"
             ],
             [
              0.8784313725490196,
              "rgb(246,188,153)"
             ],
             [
              0.9411764705882353,
              "rgb(247,212,187)"
             ],
             [
              1,
              "rgb(250,234,220)"
             ]
            ],
            "type": "histogram2d"
           }
          ],
          "histogram2dcontour": [
           {
            "colorbar": {
             "outlinewidth": 0,
             "tickcolor": "rgb(36,36,36)",
             "ticklen": 8,
             "ticks": "outside",
             "tickwidth": 2
            },
            "colorscale": [
             [
              0,
              "rgb(2,4,25)"
             ],
             [
              0.06274509803921569,
              "rgb(24,15,41)"
             ],
             [
              0.12549019607843137,
              "rgb(47,23,57)"
             ],
             [
              0.18823529411764706,
              "rgb(71,28,72)"
             ],
             [
              0.25098039215686274,
              "rgb(97,30,82)"
             ],
             [
              0.3137254901960784,
              "rgb(123,30,89)"
             ],
             [
              0.3764705882352941,
              "rgb(150,27,91)"
             ],
             [
              0.4392156862745098,
              "rgb(177,22,88)"
             ],
             [
              0.5019607843137255,
              "rgb(203,26,79)"
             ],
             [
              0.5647058823529412,
              "rgb(223,47,67)"
             ],
             [
              0.6274509803921569,
              "rgb(236,76,61)"
             ],
             [
              0.6901960784313725,
              "rgb(242,107,73)"
             ],
             [
              0.7529411764705882,
              "rgb(244,135,95)"
             ],
             [
              0.8156862745098039,
              "rgb(245,162,122)"
             ],
             [
              0.8784313725490196,
              "rgb(246,188,153)"
             ],
             [
              0.9411764705882353,
              "rgb(247,212,187)"
             ],
             [
              1,
              "rgb(250,234,220)"
             ]
            ],
            "type": "histogram2dcontour"
           }
          ],
          "mesh3d": [
           {
            "colorbar": {
             "outlinewidth": 0,
             "tickcolor": "rgb(36,36,36)",
             "ticklen": 8,
             "ticks": "outside",
             "tickwidth": 2
            },
            "type": "mesh3d"
           }
          ],
          "parcoords": [
           {
            "line": {
             "colorbar": {
              "outlinewidth": 0,
              "tickcolor": "rgb(36,36,36)",
              "ticklen": 8,
              "ticks": "outside",
              "tickwidth": 2
             }
            },
            "type": "parcoords"
           }
          ],
          "pie": [
           {
            "automargin": true,
            "type": "pie"
           }
          ],
          "scatter": [
           {
            "fillpattern": {
             "fillmode": "overlay",
             "size": 10,
             "solidity": 0.2
            },
            "type": "scatter"
           }
          ],
          "scatter3d": [
           {
            "line": {
             "colorbar": {
              "outlinewidth": 0,
              "tickcolor": "rgb(36,36,36)",
              "ticklen": 8,
              "ticks": "outside",
              "tickwidth": 2
             }
            },
            "marker": {
             "colorbar": {
              "outlinewidth": 0,
              "tickcolor": "rgb(36,36,36)",
              "ticklen": 8,
              "ticks": "outside",
              "tickwidth": 2
             }
            },
            "type": "scatter3d"
           }
          ],
          "scattercarpet": [
           {
            "marker": {
             "colorbar": {
              "outlinewidth": 0,
              "tickcolor": "rgb(36,36,36)",
              "ticklen": 8,
              "ticks": "outside",
              "tickwidth": 2
             }
            },
            "type": "scattercarpet"
           }
          ],
          "scattergeo": [
           {
            "marker": {
             "colorbar": {
              "outlinewidth": 0,
              "tickcolor": "rgb(36,36,36)",
              "ticklen": 8,
              "ticks": "outside",
              "tickwidth": 2
             }
            },
            "type": "scattergeo"
           }
          ],
          "scattergl": [
           {
            "marker": {
             "colorbar": {
              "outlinewidth": 0,
              "tickcolor": "rgb(36,36,36)",
              "ticklen": 8,
              "ticks": "outside",
              "tickwidth": 2
             }
            },
            "type": "scattergl"
           }
          ],
          "scattermapbox": [
           {
            "marker": {
             "colorbar": {
              "outlinewidth": 0,
              "tickcolor": "rgb(36,36,36)",
              "ticklen": 8,
              "ticks": "outside",
              "tickwidth": 2
             }
            },
            "type": "scattermapbox"
           }
          ],
          "scatterpolar": [
           {
            "marker": {
             "colorbar": {
              "outlinewidth": 0,
              "tickcolor": "rgb(36,36,36)",
              "ticklen": 8,
              "ticks": "outside",
              "tickwidth": 2
             }
            },
            "type": "scatterpolar"
           }
          ],
          "scatterpolargl": [
           {
            "marker": {
             "colorbar": {
              "outlinewidth": 0,
              "tickcolor": "rgb(36,36,36)",
              "ticklen": 8,
              "ticks": "outside",
              "tickwidth": 2
             }
            },
            "type": "scatterpolargl"
           }
          ],
          "scatterternary": [
           {
            "marker": {
             "colorbar": {
              "outlinewidth": 0,
              "tickcolor": "rgb(36,36,36)",
              "ticklen": 8,
              "ticks": "outside",
              "tickwidth": 2
             }
            },
            "type": "scatterternary"
           }
          ],
          "surface": [
           {
            "colorbar": {
             "outlinewidth": 0,
             "tickcolor": "rgb(36,36,36)",
             "ticklen": 8,
             "ticks": "outside",
             "tickwidth": 2
            },
            "colorscale": [
             [
              0,
              "rgb(2,4,25)"
             ],
             [
              0.06274509803921569,
              "rgb(24,15,41)"
             ],
             [
              0.12549019607843137,
              "rgb(47,23,57)"
             ],
             [
              0.18823529411764706,
              "rgb(71,28,72)"
             ],
             [
              0.25098039215686274,
              "rgb(97,30,82)"
             ],
             [
              0.3137254901960784,
              "rgb(123,30,89)"
             ],
             [
              0.3764705882352941,
              "rgb(150,27,91)"
             ],
             [
              0.4392156862745098,
              "rgb(177,22,88)"
             ],
             [
              0.5019607843137255,
              "rgb(203,26,79)"
             ],
             [
              0.5647058823529412,
              "rgb(223,47,67)"
             ],
             [
              0.6274509803921569,
              "rgb(236,76,61)"
             ],
             [
              0.6901960784313725,
              "rgb(242,107,73)"
             ],
             [
              0.7529411764705882,
              "rgb(244,135,95)"
             ],
             [
              0.8156862745098039,
              "rgb(245,162,122)"
             ],
             [
              0.8784313725490196,
              "rgb(246,188,153)"
             ],
             [
              0.9411764705882353,
              "rgb(247,212,187)"
             ],
             [
              1,
              "rgb(250,234,220)"
             ]
            ],
            "type": "surface"
           }
          ],
          "table": [
           {
            "cells": {
             "fill": {
              "color": "rgb(231,231,240)"
             },
             "line": {
              "color": "white"
             }
            },
            "header": {
             "fill": {
              "color": "rgb(183,183,191)"
             },
             "line": {
              "color": "white"
             }
            },
            "type": "table"
           }
          ]
         },
         "layout": {
          "annotationdefaults": {
           "arrowcolor": "rgb(67,103,167)"
          },
          "autotypenumbers": "strict",
          "coloraxis": {
           "colorbar": {
            "outlinewidth": 0,
            "tickcolor": "rgb(36,36,36)",
            "ticklen": 8,
            "ticks": "outside",
            "tickwidth": 2
           }
          },
          "colorscale": {
           "sequential": [
            [
             0,
             "rgb(2,4,25)"
            ],
            [
             0.06274509803921569,
             "rgb(24,15,41)"
            ],
            [
             0.12549019607843137,
             "rgb(47,23,57)"
            ],
            [
             0.18823529411764706,
             "rgb(71,28,72)"
            ],
            [
             0.25098039215686274,
             "rgb(97,30,82)"
            ],
            [
             0.3137254901960784,
             "rgb(123,30,89)"
            ],
            [
             0.3764705882352941,
             "rgb(150,27,91)"
            ],
            [
             0.4392156862745098,
             "rgb(177,22,88)"
            ],
            [
             0.5019607843137255,
             "rgb(203,26,79)"
            ],
            [
             0.5647058823529412,
             "rgb(223,47,67)"
            ],
            [
             0.6274509803921569,
             "rgb(236,76,61)"
            ],
            [
             0.6901960784313725,
             "rgb(242,107,73)"
            ],
            [
             0.7529411764705882,
             "rgb(244,135,95)"
            ],
            [
             0.8156862745098039,
             "rgb(245,162,122)"
            ],
            [
             0.8784313725490196,
             "rgb(246,188,153)"
            ],
            [
             0.9411764705882353,
             "rgb(247,212,187)"
            ],
            [
             1,
             "rgb(250,234,220)"
            ]
           ],
           "sequentialminus": [
            [
             0,
             "rgb(2,4,25)"
            ],
            [
             0.06274509803921569,
             "rgb(24,15,41)"
            ],
            [
             0.12549019607843137,
             "rgb(47,23,57)"
            ],
            [
             0.18823529411764706,
             "rgb(71,28,72)"
            ],
            [
             0.25098039215686274,
             "rgb(97,30,82)"
            ],
            [
             0.3137254901960784,
             "rgb(123,30,89)"
            ],
            [
             0.3764705882352941,
             "rgb(150,27,91)"
            ],
            [
             0.4392156862745098,
             "rgb(177,22,88)"
            ],
            [
             0.5019607843137255,
             "rgb(203,26,79)"
            ],
            [
             0.5647058823529412,
             "rgb(223,47,67)"
            ],
            [
             0.6274509803921569,
             "rgb(236,76,61)"
            ],
            [
             0.6901960784313725,
             "rgb(242,107,73)"
            ],
            [
             0.7529411764705882,
             "rgb(244,135,95)"
            ],
            [
             0.8156862745098039,
             "rgb(245,162,122)"
            ],
            [
             0.8784313725490196,
             "rgb(246,188,153)"
            ],
            [
             0.9411764705882353,
             "rgb(247,212,187)"
            ],
            [
             1,
             "rgb(250,234,220)"
            ]
           ]
          },
          "colorway": [
           "rgb(76,114,176)",
           "rgb(221,132,82)",
           "rgb(85,168,104)",
           "rgb(196,78,82)",
           "rgb(129,114,179)",
           "rgb(147,120,96)",
           "rgb(218,139,195)",
           "rgb(140,140,140)",
           "rgb(204,185,116)",
           "rgb(100,181,205)"
          ],
          "font": {
           "color": "rgb(36,36,36)"
          },
          "geo": {
           "bgcolor": "white",
           "lakecolor": "white",
           "landcolor": "rgb(234,234,242)",
           "showlakes": true,
           "showland": true,
           "subunitcolor": "white"
          },
          "hoverlabel": {
           "align": "left"
          },
          "hovermode": "closest",
          "paper_bgcolor": "white",
          "plot_bgcolor": "rgb(234,234,242)",
          "polar": {
           "angularaxis": {
            "gridcolor": "white",
            "linecolor": "white",
            "showgrid": true,
            "ticks": ""
           },
           "bgcolor": "rgb(234,234,242)",
           "radialaxis": {
            "gridcolor": "white",
            "linecolor": "white",
            "showgrid": true,
            "ticks": ""
           }
          },
          "scene": {
           "xaxis": {
            "backgroundcolor": "rgb(234,234,242)",
            "gridcolor": "white",
            "gridwidth": 2,
            "linecolor": "white",
            "showbackground": true,
            "showgrid": true,
            "ticks": "",
            "zerolinecolor": "white"
           },
           "yaxis": {
            "backgroundcolor": "rgb(234,234,242)",
            "gridcolor": "white",
            "gridwidth": 2,
            "linecolor": "white",
            "showbackground": true,
            "showgrid": true,
            "ticks": "",
            "zerolinecolor": "white"
           },
           "zaxis": {
            "backgroundcolor": "rgb(234,234,242)",
            "gridcolor": "white",
            "gridwidth": 2,
            "linecolor": "white",
            "showbackground": true,
            "showgrid": true,
            "ticks": "",
            "zerolinecolor": "white"
           }
          },
          "shapedefaults": {
           "fillcolor": "rgb(67,103,167)",
           "line": {
            "width": 0
           },
           "opacity": 0.5
          },
          "ternary": {
           "aaxis": {
            "gridcolor": "white",
            "linecolor": "white",
            "showgrid": true,
            "ticks": ""
           },
           "baxis": {
            "gridcolor": "white",
            "linecolor": "white",
            "showgrid": true,
            "ticks": ""
           },
           "bgcolor": "rgb(234,234,242)",
           "caxis": {
            "gridcolor": "white",
            "linecolor": "white",
            "showgrid": true,
            "ticks": ""
           }
          },
          "xaxis": {
           "automargin": true,
           "gridcolor": "white",
           "linecolor": "white",
           "showgrid": true,
           "ticks": "",
           "title": {
            "standoff": 15
           },
           "zerolinecolor": "white"
          },
          "yaxis": {
           "automargin": true,
           "gridcolor": "white",
           "linecolor": "white",
           "showgrid": true,
           "ticks": "",
           "title": {
            "standoff": 15
           },
           "zerolinecolor": "white"
          }
         }
        },
        "title": {
         "text": "Loss - VGG16 v.1.1"
        },
        "width": 1200,
        "xaxis": {
         "title": {
          "text": "Epochs"
         }
        },
        "yaxis": {
         "title": {
          "text": "Loss"
         }
        }
       }
      }
     },
     "metadata": {},
     "output_type": "display_data"
    }
   ],
   "source": [
    "window_size = 0\n",
    "train_data = (\n",
    "    moving_average(train_metrics[\"loss\"], window_size)\n",
    "    if window_size != 0\n",
    "    else train_metrics[\"loss\"]\n",
    ")\n",
    "validation_data = (\n",
    "    moving_average(validation_metrics[\"val_loss\"], window_size)\n",
    "    if window_size != 0\n",
    "    else validation_metrics[\"val_loss\"]\n",
    ")\n",
    "\n",
    "fig = go.Figure()\n",
    "\n",
    "fig.add_trace(\n",
    "    go.Scatter(\n",
    "        y=train_data,\n",
    "        x=np.arange(len(train_data)),\n",
    "        mode=\"lines\",\n",
    "        name=\"Train\",\n",
    "    )\n",
    ")\n",
    "\n",
    "fig.add_trace(\n",
    "    go.Scatter(\n",
    "        y=validation_data,\n",
    "        x=np.arange(len(validation_data)),\n",
    "        mode=\"lines\",\n",
    "        name=\"Validation\",\n",
    "    )\n",
    ")\n",
    "\n",
    "fig.update_layout(\n",
    "    title=f\"Loss - {model_name} {version}\",\n",
    "    xaxis_title=\"Epochs\",\n",
    "    yaxis_title=\"Loss\",\n",
    "    legend_title=\"Metrics\",\n",
    "    template=\"seaborn\",\n",
    "    width=1200,\n",
    "    height=1000,\n",
    ")\n",
    "\n",
    "fig.show()"
   ]
  },
  {
   "cell_type": "code",
   "execution_count": 25,
   "metadata": {},
   "outputs": [
    {
     "data": {
      "application/vnd.plotly.v1+json": {
       "config": {
        "plotlyServerURL": "https://plot.ly"
       },
       "data": [
        {
         "mode": "lines",
         "name": "Train",
         "type": "scatter",
         "x": [
          0,
          1,
          2,
          3,
          4,
          5,
          6,
          7,
          8,
          9,
          10,
          11,
          12,
          13,
          14,
          15,
          16,
          17,
          18,
          19,
          20,
          21,
          22,
          23,
          24
         ],
         "y": [
          0.8623019456863403,
          0.9120489358901978,
          0.9201058149337769,
          0.9254193902015686,
          0.9264026880264282,
          0.9285606145858764,
          0.9312514066696168,
          0.9306017756462096,
          0.9309822916984558,
          0.9311596751213074,
          0.9322687983512878,
          0.9309090971946716,
          0.9328747391700744,
          0.9334749579429626,
          0.9339187145233154,
          0.9345850944519044,
          0.9336916208267212,
          0.9347711205482484,
          0.9332727193832396,
          0.935510754585266,
          0.9345914721488952,
          0.9347397089004515,
          0.935070812702179,
          0.933776319026947,
          0.9345454573631288
         ]
        },
        {
         "mode": "lines",
         "name": "Validation",
         "type": "scatter",
         "x": [
          0,
          1,
          2,
          3,
          4,
          5,
          6,
          7,
          8,
          9,
          10,
          11,
          12,
          13,
          14,
          15,
          16,
          17,
          18,
          19,
          20,
          21,
          22,
          23,
          24
         ],
         "y": [
          0.8812500238418579,
          0.8885985016822815,
          0.9090909361839294,
          0.9130139350891112,
          0.9194101691246032,
          0.9289482831954956,
          0.925259530544281,
          0.9318983554840088,
          0.9146838784217834,
          0.9398065209388732,
          0.9302732944488524,
          0.9224939942359924,
          0.9462129473686218,
          0.9204819202423096,
          0.919713020324707,
          0.9274305701255798,
          0.9214335083961488,
          0.9104377031326294,
          0.9302893280982972,
          0.9032471776008606,
          0.9577897191047668,
          0.9349133372306824,
          0.9250172972679138,
          0.9431159496307372,
          0.9261186122894288
         ]
        }
       ],
       "layout": {
        "height": 1000,
        "legend": {
         "title": {
          "text": "Metrics"
         }
        },
        "template": {
         "data": {
          "bar": [
           {
            "error_x": {
             "color": "rgb(36,36,36)"
            },
            "error_y": {
             "color": "rgb(36,36,36)"
            },
            "marker": {
             "line": {
              "color": "rgb(234,234,242)",
              "width": 0.5
             },
             "pattern": {
              "fillmode": "overlay",
              "size": 10,
              "solidity": 0.2
             }
            },
            "type": "bar"
           }
          ],
          "barpolar": [
           {
            "marker": {
             "line": {
              "color": "rgb(234,234,242)",
              "width": 0.5
             },
             "pattern": {
              "fillmode": "overlay",
              "size": 10,
              "solidity": 0.2
             }
            },
            "type": "barpolar"
           }
          ],
          "carpet": [
           {
            "aaxis": {
             "endlinecolor": "rgb(36,36,36)",
             "gridcolor": "white",
             "linecolor": "white",
             "minorgridcolor": "white",
             "startlinecolor": "rgb(36,36,36)"
            },
            "baxis": {
             "endlinecolor": "rgb(36,36,36)",
             "gridcolor": "white",
             "linecolor": "white",
             "minorgridcolor": "white",
             "startlinecolor": "rgb(36,36,36)"
            },
            "type": "carpet"
           }
          ],
          "choropleth": [
           {
            "colorbar": {
             "outlinewidth": 0,
             "tickcolor": "rgb(36,36,36)",
             "ticklen": 8,
             "ticks": "outside",
             "tickwidth": 2
            },
            "type": "choropleth"
           }
          ],
          "contour": [
           {
            "colorbar": {
             "outlinewidth": 0,
             "tickcolor": "rgb(36,36,36)",
             "ticklen": 8,
             "ticks": "outside",
             "tickwidth": 2
            },
            "colorscale": [
             [
              0,
              "rgb(2,4,25)"
             ],
             [
              0.06274509803921569,
              "rgb(24,15,41)"
             ],
             [
              0.12549019607843137,
              "rgb(47,23,57)"
             ],
             [
              0.18823529411764706,
              "rgb(71,28,72)"
             ],
             [
              0.25098039215686274,
              "rgb(97,30,82)"
             ],
             [
              0.3137254901960784,
              "rgb(123,30,89)"
             ],
             [
              0.3764705882352941,
              "rgb(150,27,91)"
             ],
             [
              0.4392156862745098,
              "rgb(177,22,88)"
             ],
             [
              0.5019607843137255,
              "rgb(203,26,79)"
             ],
             [
              0.5647058823529412,
              "rgb(223,47,67)"
             ],
             [
              0.6274509803921569,
              "rgb(236,76,61)"
             ],
             [
              0.6901960784313725,
              "rgb(242,107,73)"
             ],
             [
              0.7529411764705882,
              "rgb(244,135,95)"
             ],
             [
              0.8156862745098039,
              "rgb(245,162,122)"
             ],
             [
              0.8784313725490196,
              "rgb(246,188,153)"
             ],
             [
              0.9411764705882353,
              "rgb(247,212,187)"
             ],
             [
              1,
              "rgb(250,234,220)"
             ]
            ],
            "type": "contour"
           }
          ],
          "contourcarpet": [
           {
            "colorbar": {
             "outlinewidth": 0,
             "tickcolor": "rgb(36,36,36)",
             "ticklen": 8,
             "ticks": "outside",
             "tickwidth": 2
            },
            "type": "contourcarpet"
           }
          ],
          "heatmap": [
           {
            "colorbar": {
             "outlinewidth": 0,
             "tickcolor": "rgb(36,36,36)",
             "ticklen": 8,
             "ticks": "outside",
             "tickwidth": 2
            },
            "colorscale": [
             [
              0,
              "rgb(2,4,25)"
             ],
             [
              0.06274509803921569,
              "rgb(24,15,41)"
             ],
             [
              0.12549019607843137,
              "rgb(47,23,57)"
             ],
             [
              0.18823529411764706,
              "rgb(71,28,72)"
             ],
             [
              0.25098039215686274,
              "rgb(97,30,82)"
             ],
             [
              0.3137254901960784,
              "rgb(123,30,89)"
             ],
             [
              0.3764705882352941,
              "rgb(150,27,91)"
             ],
             [
              0.4392156862745098,
              "rgb(177,22,88)"
             ],
             [
              0.5019607843137255,
              "rgb(203,26,79)"
             ],
             [
              0.5647058823529412,
              "rgb(223,47,67)"
             ],
             [
              0.6274509803921569,
              "rgb(236,76,61)"
             ],
             [
              0.6901960784313725,
              "rgb(242,107,73)"
             ],
             [
              0.7529411764705882,
              "rgb(244,135,95)"
             ],
             [
              0.8156862745098039,
              "rgb(245,162,122)"
             ],
             [
              0.8784313725490196,
              "rgb(246,188,153)"
             ],
             [
              0.9411764705882353,
              "rgb(247,212,187)"
             ],
             [
              1,
              "rgb(250,234,220)"
             ]
            ],
            "type": "heatmap"
           }
          ],
          "heatmapgl": [
           {
            "colorbar": {
             "outlinewidth": 0,
             "tickcolor": "rgb(36,36,36)",
             "ticklen": 8,
             "ticks": "outside",
             "tickwidth": 2
            },
            "colorscale": [
             [
              0,
              "rgb(2,4,25)"
             ],
             [
              0.06274509803921569,
              "rgb(24,15,41)"
             ],
             [
              0.12549019607843137,
              "rgb(47,23,57)"
             ],
             [
              0.18823529411764706,
              "rgb(71,28,72)"
             ],
             [
              0.25098039215686274,
              "rgb(97,30,82)"
             ],
             [
              0.3137254901960784,
              "rgb(123,30,89)"
             ],
             [
              0.3764705882352941,
              "rgb(150,27,91)"
             ],
             [
              0.4392156862745098,
              "rgb(177,22,88)"
             ],
             [
              0.5019607843137255,
              "rgb(203,26,79)"
             ],
             [
              0.5647058823529412,
              "rgb(223,47,67)"
             ],
             [
              0.6274509803921569,
              "rgb(236,76,61)"
             ],
             [
              0.6901960784313725,
              "rgb(242,107,73)"
             ],
             [
              0.7529411764705882,
              "rgb(244,135,95)"
             ],
             [
              0.8156862745098039,
              "rgb(245,162,122)"
             ],
             [
              0.8784313725490196,
              "rgb(246,188,153)"
             ],
             [
              0.9411764705882353,
              "rgb(247,212,187)"
             ],
             [
              1,
              "rgb(250,234,220)"
             ]
            ],
            "type": "heatmapgl"
           }
          ],
          "histogram": [
           {
            "marker": {
             "pattern": {
              "fillmode": "overlay",
              "size": 10,
              "solidity": 0.2
             }
            },
            "type": "histogram"
           }
          ],
          "histogram2d": [
           {
            "colorbar": {
             "outlinewidth": 0,
             "tickcolor": "rgb(36,36,36)",
             "ticklen": 8,
             "ticks": "outside",
             "tickwidth": 2
            },
            "colorscale": [
             [
              0,
              "rgb(2,4,25)"
             ],
             [
              0.06274509803921569,
              "rgb(24,15,41)"
             ],
             [
              0.12549019607843137,
              "rgb(47,23,57)"
             ],
             [
              0.18823529411764706,
              "rgb(71,28,72)"
             ],
             [
              0.25098039215686274,
              "rgb(97,30,82)"
             ],
             [
              0.3137254901960784,
              "rgb(123,30,89)"
             ],
             [
              0.3764705882352941,
              "rgb(150,27,91)"
             ],
             [
              0.4392156862745098,
              "rgb(177,22,88)"
             ],
             [
              0.5019607843137255,
              "rgb(203,26,79)"
             ],
             [
              0.5647058823529412,
              "rgb(223,47,67)"
             ],
             [
              0.6274509803921569,
              "rgb(236,76,61)"
             ],
             [
              0.6901960784313725,
              "rgb(242,107,73)"
             ],
             [
              0.7529411764705882,
              "rgb(244,135,95)"
             ],
             [
              0.8156862745098039,
              "rgb(245,162,122)"
             ],
             [
              0.8784313725490196,
              "rgb(246,188,153)"
             ],
             [
              0.9411764705882353,
              "rgb(247,212,187)"
             ],
             [
              1,
              "rgb(250,234,220)"
             ]
            ],
            "type": "histogram2d"
           }
          ],
          "histogram2dcontour": [
           {
            "colorbar": {
             "outlinewidth": 0,
             "tickcolor": "rgb(36,36,36)",
             "ticklen": 8,
             "ticks": "outside",
             "tickwidth": 2
            },
            "colorscale": [
             [
              0,
              "rgb(2,4,25)"
             ],
             [
              0.06274509803921569,
              "rgb(24,15,41)"
             ],
             [
              0.12549019607843137,
              "rgb(47,23,57)"
             ],
             [
              0.18823529411764706,
              "rgb(71,28,72)"
             ],
             [
              0.25098039215686274,
              "rgb(97,30,82)"
             ],
             [
              0.3137254901960784,
              "rgb(123,30,89)"
             ],
             [
              0.3764705882352941,
              "rgb(150,27,91)"
             ],
             [
              0.4392156862745098,
              "rgb(177,22,88)"
             ],
             [
              0.5019607843137255,
              "rgb(203,26,79)"
             ],
             [
              0.5647058823529412,
              "rgb(223,47,67)"
             ],
             [
              0.6274509803921569,
              "rgb(236,76,61)"
             ],
             [
              0.6901960784313725,
              "rgb(242,107,73)"
             ],
             [
              0.7529411764705882,
              "rgb(244,135,95)"
             ],
             [
              0.8156862745098039,
              "rgb(245,162,122)"
             ],
             [
              0.8784313725490196,
              "rgb(246,188,153)"
             ],
             [
              0.9411764705882353,
              "rgb(247,212,187)"
             ],
             [
              1,
              "rgb(250,234,220)"
             ]
            ],
            "type": "histogram2dcontour"
           }
          ],
          "mesh3d": [
           {
            "colorbar": {
             "outlinewidth": 0,
             "tickcolor": "rgb(36,36,36)",
             "ticklen": 8,
             "ticks": "outside",
             "tickwidth": 2
            },
            "type": "mesh3d"
           }
          ],
          "parcoords": [
           {
            "line": {
             "colorbar": {
              "outlinewidth": 0,
              "tickcolor": "rgb(36,36,36)",
              "ticklen": 8,
              "ticks": "outside",
              "tickwidth": 2
             }
            },
            "type": "parcoords"
           }
          ],
          "pie": [
           {
            "automargin": true,
            "type": "pie"
           }
          ],
          "scatter": [
           {
            "fillpattern": {
             "fillmode": "overlay",
             "size": 10,
             "solidity": 0.2
            },
            "type": "scatter"
           }
          ],
          "scatter3d": [
           {
            "line": {
             "colorbar": {
              "outlinewidth": 0,
              "tickcolor": "rgb(36,36,36)",
              "ticklen": 8,
              "ticks": "outside",
              "tickwidth": 2
             }
            },
            "marker": {
             "colorbar": {
              "outlinewidth": 0,
              "tickcolor": "rgb(36,36,36)",
              "ticklen": 8,
              "ticks": "outside",
              "tickwidth": 2
             }
            },
            "type": "scatter3d"
           }
          ],
          "scattercarpet": [
           {
            "marker": {
             "colorbar": {
              "outlinewidth": 0,
              "tickcolor": "rgb(36,36,36)",
              "ticklen": 8,
              "ticks": "outside",
              "tickwidth": 2
             }
            },
            "type": "scattercarpet"
           }
          ],
          "scattergeo": [
           {
            "marker": {
             "colorbar": {
              "outlinewidth": 0,
              "tickcolor": "rgb(36,36,36)",
              "ticklen": 8,
              "ticks": "outside",
              "tickwidth": 2
             }
            },
            "type": "scattergeo"
           }
          ],
          "scattergl": [
           {
            "marker": {
             "colorbar": {
              "outlinewidth": 0,
              "tickcolor": "rgb(36,36,36)",
              "ticklen": 8,
              "ticks": "outside",
              "tickwidth": 2
             }
            },
            "type": "scattergl"
           }
          ],
          "scattermapbox": [
           {
            "marker": {
             "colorbar": {
              "outlinewidth": 0,
              "tickcolor": "rgb(36,36,36)",
              "ticklen": 8,
              "ticks": "outside",
              "tickwidth": 2
             }
            },
            "type": "scattermapbox"
           }
          ],
          "scatterpolar": [
           {
            "marker": {
             "colorbar": {
              "outlinewidth": 0,
              "tickcolor": "rgb(36,36,36)",
              "ticklen": 8,
              "ticks": "outside",
              "tickwidth": 2
             }
            },
            "type": "scatterpolar"
           }
          ],
          "scatterpolargl": [
           {
            "marker": {
             "colorbar": {
              "outlinewidth": 0,
              "tickcolor": "rgb(36,36,36)",
              "ticklen": 8,
              "ticks": "outside",
              "tickwidth": 2
             }
            },
            "type": "scatterpolargl"
           }
          ],
          "scatterternary": [
           {
            "marker": {
             "colorbar": {
              "outlinewidth": 0,
              "tickcolor": "rgb(36,36,36)",
              "ticklen": 8,
              "ticks": "outside",
              "tickwidth": 2
             }
            },
            "type": "scatterternary"
           }
          ],
          "surface": [
           {
            "colorbar": {
             "outlinewidth": 0,
             "tickcolor": "rgb(36,36,36)",
             "ticklen": 8,
             "ticks": "outside",
             "tickwidth": 2
            },
            "colorscale": [
             [
              0,
              "rgb(2,4,25)"
             ],
             [
              0.06274509803921569,
              "rgb(24,15,41)"
             ],
             [
              0.12549019607843137,
              "rgb(47,23,57)"
             ],
             [
              0.18823529411764706,
              "rgb(71,28,72)"
             ],
             [
              0.25098039215686274,
              "rgb(97,30,82)"
             ],
             [
              0.3137254901960784,
              "rgb(123,30,89)"
             ],
             [
              0.3764705882352941,
              "rgb(150,27,91)"
             ],
             [
              0.4392156862745098,
              "rgb(177,22,88)"
             ],
             [
              0.5019607843137255,
              "rgb(203,26,79)"
             ],
             [
              0.5647058823529412,
              "rgb(223,47,67)"
             ],
             [
              0.6274509803921569,
              "rgb(236,76,61)"
             ],
             [
              0.6901960784313725,
              "rgb(242,107,73)"
             ],
             [
              0.7529411764705882,
              "rgb(244,135,95)"
             ],
             [
              0.8156862745098039,
              "rgb(245,162,122)"
             ],
             [
              0.8784313725490196,
              "rgb(246,188,153)"
             ],
             [
              0.9411764705882353,
              "rgb(247,212,187)"
             ],
             [
              1,
              "rgb(250,234,220)"
             ]
            ],
            "type": "surface"
           }
          ],
          "table": [
           {
            "cells": {
             "fill": {
              "color": "rgb(231,231,240)"
             },
             "line": {
              "color": "white"
             }
            },
            "header": {
             "fill": {
              "color": "rgb(183,183,191)"
             },
             "line": {
              "color": "white"
             }
            },
            "type": "table"
           }
          ]
         },
         "layout": {
          "annotationdefaults": {
           "arrowcolor": "rgb(67,103,167)"
          },
          "autotypenumbers": "strict",
          "coloraxis": {
           "colorbar": {
            "outlinewidth": 0,
            "tickcolor": "rgb(36,36,36)",
            "ticklen": 8,
            "ticks": "outside",
            "tickwidth": 2
           }
          },
          "colorscale": {
           "sequential": [
            [
             0,
             "rgb(2,4,25)"
            ],
            [
             0.06274509803921569,
             "rgb(24,15,41)"
            ],
            [
             0.12549019607843137,
             "rgb(47,23,57)"
            ],
            [
             0.18823529411764706,
             "rgb(71,28,72)"
            ],
            [
             0.25098039215686274,
             "rgb(97,30,82)"
            ],
            [
             0.3137254901960784,
             "rgb(123,30,89)"
            ],
            [
             0.3764705882352941,
             "rgb(150,27,91)"
            ],
            [
             0.4392156862745098,
             "rgb(177,22,88)"
            ],
            [
             0.5019607843137255,
             "rgb(203,26,79)"
            ],
            [
             0.5647058823529412,
             "rgb(223,47,67)"
            ],
            [
             0.6274509803921569,
             "rgb(236,76,61)"
            ],
            [
             0.6901960784313725,
             "rgb(242,107,73)"
            ],
            [
             0.7529411764705882,
             "rgb(244,135,95)"
            ],
            [
             0.8156862745098039,
             "rgb(245,162,122)"
            ],
            [
             0.8784313725490196,
             "rgb(246,188,153)"
            ],
            [
             0.9411764705882353,
             "rgb(247,212,187)"
            ],
            [
             1,
             "rgb(250,234,220)"
            ]
           ],
           "sequentialminus": [
            [
             0,
             "rgb(2,4,25)"
            ],
            [
             0.06274509803921569,
             "rgb(24,15,41)"
            ],
            [
             0.12549019607843137,
             "rgb(47,23,57)"
            ],
            [
             0.18823529411764706,
             "rgb(71,28,72)"
            ],
            [
             0.25098039215686274,
             "rgb(97,30,82)"
            ],
            [
             0.3137254901960784,
             "rgb(123,30,89)"
            ],
            [
             0.3764705882352941,
             "rgb(150,27,91)"
            ],
            [
             0.4392156862745098,
             "rgb(177,22,88)"
            ],
            [
             0.5019607843137255,
             "rgb(203,26,79)"
            ],
            [
             0.5647058823529412,
             "rgb(223,47,67)"
            ],
            [
             0.6274509803921569,
             "rgb(236,76,61)"
            ],
            [
             0.6901960784313725,
             "rgb(242,107,73)"
            ],
            [
             0.7529411764705882,
             "rgb(244,135,95)"
            ],
            [
             0.8156862745098039,
             "rgb(245,162,122)"
            ],
            [
             0.8784313725490196,
             "rgb(246,188,153)"
            ],
            [
             0.9411764705882353,
             "rgb(247,212,187)"
            ],
            [
             1,
             "rgb(250,234,220)"
            ]
           ]
          },
          "colorway": [
           "rgb(76,114,176)",
           "rgb(221,132,82)",
           "rgb(85,168,104)",
           "rgb(196,78,82)",
           "rgb(129,114,179)",
           "rgb(147,120,96)",
           "rgb(218,139,195)",
           "rgb(140,140,140)",
           "rgb(204,185,116)",
           "rgb(100,181,205)"
          ],
          "font": {
           "color": "rgb(36,36,36)"
          },
          "geo": {
           "bgcolor": "white",
           "lakecolor": "white",
           "landcolor": "rgb(234,234,242)",
           "showlakes": true,
           "showland": true,
           "subunitcolor": "white"
          },
          "hoverlabel": {
           "align": "left"
          },
          "hovermode": "closest",
          "paper_bgcolor": "white",
          "plot_bgcolor": "rgb(234,234,242)",
          "polar": {
           "angularaxis": {
            "gridcolor": "white",
            "linecolor": "white",
            "showgrid": true,
            "ticks": ""
           },
           "bgcolor": "rgb(234,234,242)",
           "radialaxis": {
            "gridcolor": "white",
            "linecolor": "white",
            "showgrid": true,
            "ticks": ""
           }
          },
          "scene": {
           "xaxis": {
            "backgroundcolor": "rgb(234,234,242)",
            "gridcolor": "white",
            "gridwidth": 2,
            "linecolor": "white",
            "showbackground": true,
            "showgrid": true,
            "ticks": "",
            "zerolinecolor": "white"
           },
           "yaxis": {
            "backgroundcolor": "rgb(234,234,242)",
            "gridcolor": "white",
            "gridwidth": 2,
            "linecolor": "white",
            "showbackground": true,
            "showgrid": true,
            "ticks": "",
            "zerolinecolor": "white"
           },
           "zaxis": {
            "backgroundcolor": "rgb(234,234,242)",
            "gridcolor": "white",
            "gridwidth": 2,
            "linecolor": "white",
            "showbackground": true,
            "showgrid": true,
            "ticks": "",
            "zerolinecolor": "white"
           }
          },
          "shapedefaults": {
           "fillcolor": "rgb(67,103,167)",
           "line": {
            "width": 0
           },
           "opacity": 0.5
          },
          "ternary": {
           "aaxis": {
            "gridcolor": "white",
            "linecolor": "white",
            "showgrid": true,
            "ticks": ""
           },
           "baxis": {
            "gridcolor": "white",
            "linecolor": "white",
            "showgrid": true,
            "ticks": ""
           },
           "bgcolor": "rgb(234,234,242)",
           "caxis": {
            "gridcolor": "white",
            "linecolor": "white",
            "showgrid": true,
            "ticks": ""
           }
          },
          "xaxis": {
           "automargin": true,
           "gridcolor": "white",
           "linecolor": "white",
           "showgrid": true,
           "ticks": "",
           "title": {
            "standoff": 15
           },
           "zerolinecolor": "white"
          },
          "yaxis": {
           "automargin": true,
           "gridcolor": "white",
           "linecolor": "white",
           "showgrid": true,
           "ticks": "",
           "title": {
            "standoff": 15
           },
           "zerolinecolor": "white"
          }
         }
        },
        "title": {
         "text": "Presision - VGG16 v.1.1"
        },
        "width": 1200,
        "xaxis": {
         "title": {
          "text": "Epochs"
         }
        },
        "yaxis": {
         "title": {
          "text": "Presision"
         }
        }
       }
      }
     },
     "metadata": {},
     "output_type": "display_data"
    }
   ],
   "source": [
    "window_size = 0\n",
    "train_data = (\n",
    "    moving_average(train_metrics[\"presision\"], window_size)\n",
    "    if window_size != 0\n",
    "    else train_metrics[\"presision\"]\n",
    ")\n",
    "validation_data = (\n",
    "    moving_average(validation_metrics[\"val_presision\"], window_size)\n",
    "    if window_size != 0\n",
    "    else validation_metrics[\"val_presision\"]\n",
    ")\n",
    "\n",
    "fig = go.Figure()\n",
    "\n",
    "fig.add_trace(\n",
    "    go.Scatter(\n",
    "        y=train_data,\n",
    "        x=np.arange(len(train_data)),\n",
    "        mode=\"lines\",\n",
    "        name=\"Train\",\n",
    "    )\n",
    ")\n",
    "\n",
    "fig.add_trace(\n",
    "    go.Scatter(\n",
    "        y=validation_data,\n",
    "        x=np.arange(len(validation_data)),\n",
    "        mode=\"lines\",\n",
    "        name=\"Validation\",\n",
    "    )\n",
    ")\n",
    "\n",
    "fig.update_layout(\n",
    "    title=f\"Presision - {model_name} {version}\",\n",
    "    xaxis_title=\"Epochs\",\n",
    "    yaxis_title=\"Presision\",\n",
    "    legend_title=\"Metrics\",\n",
    "    template=\"seaborn\",\n",
    "    width=1200,\n",
    "    height=1000,\n",
    ")\n",
    "\n",
    "fig.show()"
   ]
  },
  {
   "cell_type": "code",
   "execution_count": 26,
   "metadata": {},
   "outputs": [
    {
     "data": {
      "application/vnd.plotly.v1+json": {
       "config": {
        "plotlyServerURL": "https://plot.ly"
       },
       "data": [
        {
         "mode": "lines",
         "name": "Train",
         "type": "scatter",
         "x": [
          0,
          1,
          2,
          3,
          4,
          5,
          6,
          7,
          8,
          9,
          10,
          11,
          12,
          13,
          14,
          15,
          16,
          17,
          18,
          19,
          20,
          21,
          22,
          23,
          24
         ],
         "y": [
          0.8679059743881226,
          0.9129449129104614,
          0.919897198677063,
          0.92548930644989,
          0.9245824813842772,
          0.9272273778915404,
          0.9284364581108092,
          0.9302501082420348,
          0.9296455979347228,
          0.9301745891571044,
          0.9309302568435668,
          0.9285876154899596,
          0.932592749595642,
          0.9299478530883788,
          0.9323660731315612,
          0.9328194856643676,
          0.9321393370628356,
          0.9334995746612548,
          0.9311569333076476,
          0.9328950643539428,
          0.9318370819091796,
          0.9308546781539916,
          0.9326683282852172,
          0.9344819784164428,
          0.9322149157524108
         ]
        },
        {
         "mode": "lines",
         "name": "Validation",
         "type": "scatter",
         "x": [
          0,
          1,
          2,
          3,
          4,
          5,
          6,
          7,
          8,
          9,
          10,
          11,
          12,
          13,
          14,
          15,
          16,
          17,
          18,
          19,
          20,
          21,
          22,
          23,
          24
         ],
         "y": [
          0.9449735283851624,
          0.9594356417655944,
          0.948853611946106,
          0.9477953910827636,
          0.945679008960724,
          0.9315696358680724,
          0.9432098865509032,
          0.9315696358680724,
          0.9492063522338868,
          0.9252204298973083,
          0.9365079402923584,
          0.9446207880973816,
          0.912169337272644,
          0.9432098865509032,
          0.9495590925216676,
          0.942151665687561,
          0.9432098865509032,
          0.9537919163703918,
          0.9414461851119996,
          0.9615520238876344,
          0.8804233074188232,
          0.932275116443634,
          0.9442680478096008,
          0.9181658029556274,
          0.9417989253997804
         ]
        }
       ],
       "layout": {
        "height": 1000,
        "legend": {
         "title": {
          "text": "Metrics"
         }
        },
        "template": {
         "data": {
          "bar": [
           {
            "error_x": {
             "color": "rgb(36,36,36)"
            },
            "error_y": {
             "color": "rgb(36,36,36)"
            },
            "marker": {
             "line": {
              "color": "rgb(234,234,242)",
              "width": 0.5
             },
             "pattern": {
              "fillmode": "overlay",
              "size": 10,
              "solidity": 0.2
             }
            },
            "type": "bar"
           }
          ],
          "barpolar": [
           {
            "marker": {
             "line": {
              "color": "rgb(234,234,242)",
              "width": 0.5
             },
             "pattern": {
              "fillmode": "overlay",
              "size": 10,
              "solidity": 0.2
             }
            },
            "type": "barpolar"
           }
          ],
          "carpet": [
           {
            "aaxis": {
             "endlinecolor": "rgb(36,36,36)",
             "gridcolor": "white",
             "linecolor": "white",
             "minorgridcolor": "white",
             "startlinecolor": "rgb(36,36,36)"
            },
            "baxis": {
             "endlinecolor": "rgb(36,36,36)",
             "gridcolor": "white",
             "linecolor": "white",
             "minorgridcolor": "white",
             "startlinecolor": "rgb(36,36,36)"
            },
            "type": "carpet"
           }
          ],
          "choropleth": [
           {
            "colorbar": {
             "outlinewidth": 0,
             "tickcolor": "rgb(36,36,36)",
             "ticklen": 8,
             "ticks": "outside",
             "tickwidth": 2
            },
            "type": "choropleth"
           }
          ],
          "contour": [
           {
            "colorbar": {
             "outlinewidth": 0,
             "tickcolor": "rgb(36,36,36)",
             "ticklen": 8,
             "ticks": "outside",
             "tickwidth": 2
            },
            "colorscale": [
             [
              0,
              "rgb(2,4,25)"
             ],
             [
              0.06274509803921569,
              "rgb(24,15,41)"
             ],
             [
              0.12549019607843137,
              "rgb(47,23,57)"
             ],
             [
              0.18823529411764706,
              "rgb(71,28,72)"
             ],
             [
              0.25098039215686274,
              "rgb(97,30,82)"
             ],
             [
              0.3137254901960784,
              "rgb(123,30,89)"
             ],
             [
              0.3764705882352941,
              "rgb(150,27,91)"
             ],
             [
              0.4392156862745098,
              "rgb(177,22,88)"
             ],
             [
              0.5019607843137255,
              "rgb(203,26,79)"
             ],
             [
              0.5647058823529412,
              "rgb(223,47,67)"
             ],
             [
              0.6274509803921569,
              "rgb(236,76,61)"
             ],
             [
              0.6901960784313725,
              "rgb(242,107,73)"
             ],
             [
              0.7529411764705882,
              "rgb(244,135,95)"
             ],
             [
              0.8156862745098039,
              "rgb(245,162,122)"
             ],
             [
              0.8784313725490196,
              "rgb(246,188,153)"
             ],
             [
              0.9411764705882353,
              "rgb(247,212,187)"
             ],
             [
              1,
              "rgb(250,234,220)"
             ]
            ],
            "type": "contour"
           }
          ],
          "contourcarpet": [
           {
            "colorbar": {
             "outlinewidth": 0,
             "tickcolor": "rgb(36,36,36)",
             "ticklen": 8,
             "ticks": "outside",
             "tickwidth": 2
            },
            "type": "contourcarpet"
           }
          ],
          "heatmap": [
           {
            "colorbar": {
             "outlinewidth": 0,
             "tickcolor": "rgb(36,36,36)",
             "ticklen": 8,
             "ticks": "outside",
             "tickwidth": 2
            },
            "colorscale": [
             [
              0,
              "rgb(2,4,25)"
             ],
             [
              0.06274509803921569,
              "rgb(24,15,41)"
             ],
             [
              0.12549019607843137,
              "rgb(47,23,57)"
             ],
             [
              0.18823529411764706,
              "rgb(71,28,72)"
             ],
             [
              0.25098039215686274,
              "rgb(97,30,82)"
             ],
             [
              0.3137254901960784,
              "rgb(123,30,89)"
             ],
             [
              0.3764705882352941,
              "rgb(150,27,91)"
             ],
             [
              0.4392156862745098,
              "rgb(177,22,88)"
             ],
             [
              0.5019607843137255,
              "rgb(203,26,79)"
             ],
             [
              0.5647058823529412,
              "rgb(223,47,67)"
             ],
             [
              0.6274509803921569,
              "rgb(236,76,61)"
             ],
             [
              0.6901960784313725,
              "rgb(242,107,73)"
             ],
             [
              0.7529411764705882,
              "rgb(244,135,95)"
             ],
             [
              0.8156862745098039,
              "rgb(245,162,122)"
             ],
             [
              0.8784313725490196,
              "rgb(246,188,153)"
             ],
             [
              0.9411764705882353,
              "rgb(247,212,187)"
             ],
             [
              1,
              "rgb(250,234,220)"
             ]
            ],
            "type": "heatmap"
           }
          ],
          "heatmapgl": [
           {
            "colorbar": {
             "outlinewidth": 0,
             "tickcolor": "rgb(36,36,36)",
             "ticklen": 8,
             "ticks": "outside",
             "tickwidth": 2
            },
            "colorscale": [
             [
              0,
              "rgb(2,4,25)"
             ],
             [
              0.06274509803921569,
              "rgb(24,15,41)"
             ],
             [
              0.12549019607843137,
              "rgb(47,23,57)"
             ],
             [
              0.18823529411764706,
              "rgb(71,28,72)"
             ],
             [
              0.25098039215686274,
              "rgb(97,30,82)"
             ],
             [
              0.3137254901960784,
              "rgb(123,30,89)"
             ],
             [
              0.3764705882352941,
              "rgb(150,27,91)"
             ],
             [
              0.4392156862745098,
              "rgb(177,22,88)"
             ],
             [
              0.5019607843137255,
              "rgb(203,26,79)"
             ],
             [
              0.5647058823529412,
              "rgb(223,47,67)"
             ],
             [
              0.6274509803921569,
              "rgb(236,76,61)"
             ],
             [
              0.6901960784313725,
              "rgb(242,107,73)"
             ],
             [
              0.7529411764705882,
              "rgb(244,135,95)"
             ],
             [
              0.8156862745098039,
              "rgb(245,162,122)"
             ],
             [
              0.8784313725490196,
              "rgb(246,188,153)"
             ],
             [
              0.9411764705882353,
              "rgb(247,212,187)"
             ],
             [
              1,
              "rgb(250,234,220)"
             ]
            ],
            "type": "heatmapgl"
           }
          ],
          "histogram": [
           {
            "marker": {
             "pattern": {
              "fillmode": "overlay",
              "size": 10,
              "solidity": 0.2
             }
            },
            "type": "histogram"
           }
          ],
          "histogram2d": [
           {
            "colorbar": {
             "outlinewidth": 0,
             "tickcolor": "rgb(36,36,36)",
             "ticklen": 8,
             "ticks": "outside",
             "tickwidth": 2
            },
            "colorscale": [
             [
              0,
              "rgb(2,4,25)"
             ],
             [
              0.06274509803921569,
              "rgb(24,15,41)"
             ],
             [
              0.12549019607843137,
              "rgb(47,23,57)"
             ],
             [
              0.18823529411764706,
              "rgb(71,28,72)"
             ],
             [
              0.25098039215686274,
              "rgb(97,30,82)"
             ],
             [
              0.3137254901960784,
              "rgb(123,30,89)"
             ],
             [
              0.3764705882352941,
              "rgb(150,27,91)"
             ],
             [
              0.4392156862745098,
              "rgb(177,22,88)"
             ],
             [
              0.5019607843137255,
              "rgb(203,26,79)"
             ],
             [
              0.5647058823529412,
              "rgb(223,47,67)"
             ],
             [
              0.6274509803921569,
              "rgb(236,76,61)"
             ],
             [
              0.6901960784313725,
              "rgb(242,107,73)"
             ],
             [
              0.7529411764705882,
              "rgb(244,135,95)"
             ],
             [
              0.8156862745098039,
              "rgb(245,162,122)"
             ],
             [
              0.8784313725490196,
              "rgb(246,188,153)"
             ],
             [
              0.9411764705882353,
              "rgb(247,212,187)"
             ],
             [
              1,
              "rgb(250,234,220)"
             ]
            ],
            "type": "histogram2d"
           }
          ],
          "histogram2dcontour": [
           {
            "colorbar": {
             "outlinewidth": 0,
             "tickcolor": "rgb(36,36,36)",
             "ticklen": 8,
             "ticks": "outside",
             "tickwidth": 2
            },
            "colorscale": [
             [
              0,
              "rgb(2,4,25)"
             ],
             [
              0.06274509803921569,
              "rgb(24,15,41)"
             ],
             [
              0.12549019607843137,
              "rgb(47,23,57)"
             ],
             [
              0.18823529411764706,
              "rgb(71,28,72)"
             ],
             [
              0.25098039215686274,
              "rgb(97,30,82)"
             ],
             [
              0.3137254901960784,
              "rgb(123,30,89)"
             ],
             [
              0.3764705882352941,
              "rgb(150,27,91)"
             ],
             [
              0.4392156862745098,
              "rgb(177,22,88)"
             ],
             [
              0.5019607843137255,
              "rgb(203,26,79)"
             ],
             [
              0.5647058823529412,
              "rgb(223,47,67)"
             ],
             [
              0.6274509803921569,
              "rgb(236,76,61)"
             ],
             [
              0.6901960784313725,
              "rgb(242,107,73)"
             ],
             [
              0.7529411764705882,
              "rgb(244,135,95)"
             ],
             [
              0.8156862745098039,
              "rgb(245,162,122)"
             ],
             [
              0.8784313725490196,
              "rgb(246,188,153)"
             ],
             [
              0.9411764705882353,
              "rgb(247,212,187)"
             ],
             [
              1,
              "rgb(250,234,220)"
             ]
            ],
            "type": "histogram2dcontour"
           }
          ],
          "mesh3d": [
           {
            "colorbar": {
             "outlinewidth": 0,
             "tickcolor": "rgb(36,36,36)",
             "ticklen": 8,
             "ticks": "outside",
             "tickwidth": 2
            },
            "type": "mesh3d"
           }
          ],
          "parcoords": [
           {
            "line": {
             "colorbar": {
              "outlinewidth": 0,
              "tickcolor": "rgb(36,36,36)",
              "ticklen": 8,
              "ticks": "outside",
              "tickwidth": 2
             }
            },
            "type": "parcoords"
           }
          ],
          "pie": [
           {
            "automargin": true,
            "type": "pie"
           }
          ],
          "scatter": [
           {
            "fillpattern": {
             "fillmode": "overlay",
             "size": 10,
             "solidity": 0.2
            },
            "type": "scatter"
           }
          ],
          "scatter3d": [
           {
            "line": {
             "colorbar": {
              "outlinewidth": 0,
              "tickcolor": "rgb(36,36,36)",
              "ticklen": 8,
              "ticks": "outside",
              "tickwidth": 2
             }
            },
            "marker": {
             "colorbar": {
              "outlinewidth": 0,
              "tickcolor": "rgb(36,36,36)",
              "ticklen": 8,
              "ticks": "outside",
              "tickwidth": 2
             }
            },
            "type": "scatter3d"
           }
          ],
          "scattercarpet": [
           {
            "marker": {
             "colorbar": {
              "outlinewidth": 0,
              "tickcolor": "rgb(36,36,36)",
              "ticklen": 8,
              "ticks": "outside",
              "tickwidth": 2
             }
            },
            "type": "scattercarpet"
           }
          ],
          "scattergeo": [
           {
            "marker": {
             "colorbar": {
              "outlinewidth": 0,
              "tickcolor": "rgb(36,36,36)",
              "ticklen": 8,
              "ticks": "outside",
              "tickwidth": 2
             }
            },
            "type": "scattergeo"
           }
          ],
          "scattergl": [
           {
            "marker": {
             "colorbar": {
              "outlinewidth": 0,
              "tickcolor": "rgb(36,36,36)",
              "ticklen": 8,
              "ticks": "outside",
              "tickwidth": 2
             }
            },
            "type": "scattergl"
           }
          ],
          "scattermapbox": [
           {
            "marker": {
             "colorbar": {
              "outlinewidth": 0,
              "tickcolor": "rgb(36,36,36)",
              "ticklen": 8,
              "ticks": "outside",
              "tickwidth": 2
             }
            },
            "type": "scattermapbox"
           }
          ],
          "scatterpolar": [
           {
            "marker": {
             "colorbar": {
              "outlinewidth": 0,
              "tickcolor": "rgb(36,36,36)",
              "ticklen": 8,
              "ticks": "outside",
              "tickwidth": 2
             }
            },
            "type": "scatterpolar"
           }
          ],
          "scatterpolargl": [
           {
            "marker": {
             "colorbar": {
              "outlinewidth": 0,
              "tickcolor": "rgb(36,36,36)",
              "ticklen": 8,
              "ticks": "outside",
              "tickwidth": 2
             }
            },
            "type": "scatterpolargl"
           }
          ],
          "scatterternary": [
           {
            "marker": {
             "colorbar": {
              "outlinewidth": 0,
              "tickcolor": "rgb(36,36,36)",
              "ticklen": 8,
              "ticks": "outside",
              "tickwidth": 2
             }
            },
            "type": "scatterternary"
           }
          ],
          "surface": [
           {
            "colorbar": {
             "outlinewidth": 0,
             "tickcolor": "rgb(36,36,36)",
             "ticklen": 8,
             "ticks": "outside",
             "tickwidth": 2
            },
            "colorscale": [
             [
              0,
              "rgb(2,4,25)"
             ],
             [
              0.06274509803921569,
              "rgb(24,15,41)"
             ],
             [
              0.12549019607843137,
              "rgb(47,23,57)"
             ],
             [
              0.18823529411764706,
              "rgb(71,28,72)"
             ],
             [
              0.25098039215686274,
              "rgb(97,30,82)"
             ],
             [
              0.3137254901960784,
              "rgb(123,30,89)"
             ],
             [
              0.3764705882352941,
              "rgb(150,27,91)"
             ],
             [
              0.4392156862745098,
              "rgb(177,22,88)"
             ],
             [
              0.5019607843137255,
              "rgb(203,26,79)"
             ],
             [
              0.5647058823529412,
              "rgb(223,47,67)"
             ],
             [
              0.6274509803921569,
              "rgb(236,76,61)"
             ],
             [
              0.6901960784313725,
              "rgb(242,107,73)"
             ],
             [
              0.7529411764705882,
              "rgb(244,135,95)"
             ],
             [
              0.8156862745098039,
              "rgb(245,162,122)"
             ],
             [
              0.8784313725490196,
              "rgb(246,188,153)"
             ],
             [
              0.9411764705882353,
              "rgb(247,212,187)"
             ],
             [
              1,
              "rgb(250,234,220)"
             ]
            ],
            "type": "surface"
           }
          ],
          "table": [
           {
            "cells": {
             "fill": {
              "color": "rgb(231,231,240)"
             },
             "line": {
              "color": "white"
             }
            },
            "header": {
             "fill": {
              "color": "rgb(183,183,191)"
             },
             "line": {
              "color": "white"
             }
            },
            "type": "table"
           }
          ]
         },
         "layout": {
          "annotationdefaults": {
           "arrowcolor": "rgb(67,103,167)"
          },
          "autotypenumbers": "strict",
          "coloraxis": {
           "colorbar": {
            "outlinewidth": 0,
            "tickcolor": "rgb(36,36,36)",
            "ticklen": 8,
            "ticks": "outside",
            "tickwidth": 2
           }
          },
          "colorscale": {
           "sequential": [
            [
             0,
             "rgb(2,4,25)"
            ],
            [
             0.06274509803921569,
             "rgb(24,15,41)"
            ],
            [
             0.12549019607843137,
             "rgb(47,23,57)"
            ],
            [
             0.18823529411764706,
             "rgb(71,28,72)"
            ],
            [
             0.25098039215686274,
             "rgb(97,30,82)"
            ],
            [
             0.3137254901960784,
             "rgb(123,30,89)"
            ],
            [
             0.3764705882352941,
             "rgb(150,27,91)"
            ],
            [
             0.4392156862745098,
             "rgb(177,22,88)"
            ],
            [
             0.5019607843137255,
             "rgb(203,26,79)"
            ],
            [
             0.5647058823529412,
             "rgb(223,47,67)"
            ],
            [
             0.6274509803921569,
             "rgb(236,76,61)"
            ],
            [
             0.6901960784313725,
             "rgb(242,107,73)"
            ],
            [
             0.7529411764705882,
             "rgb(244,135,95)"
            ],
            [
             0.8156862745098039,
             "rgb(245,162,122)"
            ],
            [
             0.8784313725490196,
             "rgb(246,188,153)"
            ],
            [
             0.9411764705882353,
             "rgb(247,212,187)"
            ],
            [
             1,
             "rgb(250,234,220)"
            ]
           ],
           "sequentialminus": [
            [
             0,
             "rgb(2,4,25)"
            ],
            [
             0.06274509803921569,
             "rgb(24,15,41)"
            ],
            [
             0.12549019607843137,
             "rgb(47,23,57)"
            ],
            [
             0.18823529411764706,
             "rgb(71,28,72)"
            ],
            [
             0.25098039215686274,
             "rgb(97,30,82)"
            ],
            [
             0.3137254901960784,
             "rgb(123,30,89)"
            ],
            [
             0.3764705882352941,
             "rgb(150,27,91)"
            ],
            [
             0.4392156862745098,
             "rgb(177,22,88)"
            ],
            [
             0.5019607843137255,
             "rgb(203,26,79)"
            ],
            [
             0.5647058823529412,
             "rgb(223,47,67)"
            ],
            [
             0.6274509803921569,
             "rgb(236,76,61)"
            ],
            [
             0.6901960784313725,
             "rgb(242,107,73)"
            ],
            [
             0.7529411764705882,
             "rgb(244,135,95)"
            ],
            [
             0.8156862745098039,
             "rgb(245,162,122)"
            ],
            [
             0.8784313725490196,
             "rgb(246,188,153)"
            ],
            [
             0.9411764705882353,
             "rgb(247,212,187)"
            ],
            [
             1,
             "rgb(250,234,220)"
            ]
           ]
          },
          "colorway": [
           "rgb(76,114,176)",
           "rgb(221,132,82)",
           "rgb(85,168,104)",
           "rgb(196,78,82)",
           "rgb(129,114,179)",
           "rgb(147,120,96)",
           "rgb(218,139,195)",
           "rgb(140,140,140)",
           "rgb(204,185,116)",
           "rgb(100,181,205)"
          ],
          "font": {
           "color": "rgb(36,36,36)"
          },
          "geo": {
           "bgcolor": "white",
           "lakecolor": "white",
           "landcolor": "rgb(234,234,242)",
           "showlakes": true,
           "showland": true,
           "subunitcolor": "white"
          },
          "hoverlabel": {
           "align": "left"
          },
          "hovermode": "closest",
          "paper_bgcolor": "white",
          "plot_bgcolor": "rgb(234,234,242)",
          "polar": {
           "angularaxis": {
            "gridcolor": "white",
            "linecolor": "white",
            "showgrid": true,
            "ticks": ""
           },
           "bgcolor": "rgb(234,234,242)",
           "radialaxis": {
            "gridcolor": "white",
            "linecolor": "white",
            "showgrid": true,
            "ticks": ""
           }
          },
          "scene": {
           "xaxis": {
            "backgroundcolor": "rgb(234,234,242)",
            "gridcolor": "white",
            "gridwidth": 2,
            "linecolor": "white",
            "showbackground": true,
            "showgrid": true,
            "ticks": "",
            "zerolinecolor": "white"
           },
           "yaxis": {
            "backgroundcolor": "rgb(234,234,242)",
            "gridcolor": "white",
            "gridwidth": 2,
            "linecolor": "white",
            "showbackground": true,
            "showgrid": true,
            "ticks": "",
            "zerolinecolor": "white"
           },
           "zaxis": {
            "backgroundcolor": "rgb(234,234,242)",
            "gridcolor": "white",
            "gridwidth": 2,
            "linecolor": "white",
            "showbackground": true,
            "showgrid": true,
            "ticks": "",
            "zerolinecolor": "white"
           }
          },
          "shapedefaults": {
           "fillcolor": "rgb(67,103,167)",
           "line": {
            "width": 0
           },
           "opacity": 0.5
          },
          "ternary": {
           "aaxis": {
            "gridcolor": "white",
            "linecolor": "white",
            "showgrid": true,
            "ticks": ""
           },
           "baxis": {
            "gridcolor": "white",
            "linecolor": "white",
            "showgrid": true,
            "ticks": ""
           },
           "bgcolor": "rgb(234,234,242)",
           "caxis": {
            "gridcolor": "white",
            "linecolor": "white",
            "showgrid": true,
            "ticks": ""
           }
          },
          "xaxis": {
           "automargin": true,
           "gridcolor": "white",
           "linecolor": "white",
           "showgrid": true,
           "ticks": "",
           "title": {
            "standoff": 15
           },
           "zerolinecolor": "white"
          },
          "yaxis": {
           "automargin": true,
           "gridcolor": "white",
           "linecolor": "white",
           "showgrid": true,
           "ticks": "",
           "title": {
            "standoff": 15
           },
           "zerolinecolor": "white"
          }
         }
        },
        "title": {
         "text": "Recall - VGG16 v.1.1"
        },
        "width": 1200,
        "xaxis": {
         "title": {
          "text": "Epochs"
         }
        },
        "yaxis": {
         "title": {
          "text": "Recall"
         }
        }
       }
      }
     },
     "metadata": {},
     "output_type": "display_data"
    }
   ],
   "source": [
    "window_size = 0\n",
    "train_data = (\n",
    "    moving_average(train_metrics[\"recall\"], window_size)\n",
    "    if window_size != 0\n",
    "    else train_metrics[\"recall\"]\n",
    ")\n",
    "validation_data = (\n",
    "    moving_average(validation_metrics[\"val_recall\"], window_size)\n",
    "    if window_size != 0\n",
    "    else validation_metrics[\"val_recall\"]\n",
    ")\n",
    "\n",
    "fig = go.Figure()\n",
    "\n",
    "fig.add_trace(\n",
    "    go.Scatter(\n",
    "        y=train_data,\n",
    "        x=np.arange(len(train_data)),\n",
    "        mode=\"lines\",\n",
    "        name=\"Train\",\n",
    "    )\n",
    ")\n",
    "\n",
    "fig.add_trace(\n",
    "    go.Scatter(\n",
    "        y=validation_data,\n",
    "        x=np.arange(len(validation_data)),\n",
    "        mode=\"lines\",\n",
    "        name=\"Validation\",\n",
    "    )\n",
    ")\n",
    "\n",
    "fig.update_layout(\n",
    "    title=f\"Recall - {model_name} {version}\",\n",
    "    xaxis_title=\"Epochs\",\n",
    "    yaxis_title=\"Recall\",\n",
    "    legend_title=\"Metrics\",\n",
    "    template=\"seaborn\",\n",
    "    width=1200,\n",
    "    height=1000,\n",
    ")\n",
    "\n",
    "fig.show()"
   ]
  },
  {
   "cell_type": "code",
   "execution_count": 27,
   "metadata": {},
   "outputs": [
    {
     "data": {
      "application/vnd.plotly.v1+json": {
       "config": {
        "plotlyServerURL": "https://plot.ly"
       },
       "data": [
        {
         "mode": "lines",
         "name": "Train",
         "type": "scatter",
         "x": [
          0,
          1,
          2,
          3,
          4,
          5,
          6,
          7,
          8,
          9,
          10,
          11,
          12,
          13,
          14,
          15,
          16,
          17,
          18,
          19,
          20,
          21,
          22,
          23,
          24
         ],
         "y": [
          0.8932539224624634,
          0.9539309740066528,
          0.9616066217422484,
          0.9652074575424194,
          0.9664318561553956,
          0.9678808450698853,
          0.9687902927398682,
          0.969192922115326,
          0.9696441292762756,
          0.9701128005981444,
          0.9701852798461914,
          0.969452738761902,
          0.9710376858711244,
          0.9707441926002502,
          0.9708080291748048,
          0.9712510108947754,
          0.9710944890975952,
          0.9714982509613036,
          0.9711005091667176,
          0.9715878367424012,
          0.9714502096176147,
          0.9716445803642272,
          0.9717538356781006,
          0.9714144468307496,
          0.9715100526809692
         ]
        },
        {
         "mode": "lines",
         "name": "Validation",
         "type": "scatter",
         "x": [
          0,
          1,
          2,
          3,
          4,
          5,
          6,
          7,
          8,
          9,
          10,
          11,
          12,
          13,
          14,
          15,
          16,
          17,
          18,
          19,
          20,
          21,
          22,
          23,
          24
         ],
         "y": [
          0.9495651721954346,
          0.9608548283576964,
          0.9647430181503296,
          0.966315507888794,
          0.9681233763694764,
          0.9680078029632568,
          0.9692044258117676,
          0.968826949596405,
          0.9688907861709596,
          0.9686445593833924,
          0.9686590433120728,
          0.969101071357727,
          0.968691349029541,
          0.9678488969802856,
          0.9694820046424866,
          0.969412922859192,
          0.9687362313270568,
          0.9670147895812988,
          0.9688857793807985,
          0.9679153561592102,
          0.9682307243347168,
          0.968785524368286,
          0.9677861332893372,
          0.9683417677879332,
          0.9681826829910278
         ]
        }
       ],
       "layout": {
        "height": 1000,
        "legend": {
         "title": {
          "text": "Metrics"
         }
        },
        "template": {
         "data": {
          "bar": [
           {
            "error_x": {
             "color": "rgb(36,36,36)"
            },
            "error_y": {
             "color": "rgb(36,36,36)"
            },
            "marker": {
             "line": {
              "color": "rgb(234,234,242)",
              "width": 0.5
             },
             "pattern": {
              "fillmode": "overlay",
              "size": 10,
              "solidity": 0.2
             }
            },
            "type": "bar"
           }
          ],
          "barpolar": [
           {
            "marker": {
             "line": {
              "color": "rgb(234,234,242)",
              "width": 0.5
             },
             "pattern": {
              "fillmode": "overlay",
              "size": 10,
              "solidity": 0.2
             }
            },
            "type": "barpolar"
           }
          ],
          "carpet": [
           {
            "aaxis": {
             "endlinecolor": "rgb(36,36,36)",
             "gridcolor": "white",
             "linecolor": "white",
             "minorgridcolor": "white",
             "startlinecolor": "rgb(36,36,36)"
            },
            "baxis": {
             "endlinecolor": "rgb(36,36,36)",
             "gridcolor": "white",
             "linecolor": "white",
             "minorgridcolor": "white",
             "startlinecolor": "rgb(36,36,36)"
            },
            "type": "carpet"
           }
          ],
          "choropleth": [
           {
            "colorbar": {
             "outlinewidth": 0,
             "tickcolor": "rgb(36,36,36)",
             "ticklen": 8,
             "ticks": "outside",
             "tickwidth": 2
            },
            "type": "choropleth"
           }
          ],
          "contour": [
           {
            "colorbar": {
             "outlinewidth": 0,
             "tickcolor": "rgb(36,36,36)",
             "ticklen": 8,
             "ticks": "outside",
             "tickwidth": 2
            },
            "colorscale": [
             [
              0,
              "rgb(2,4,25)"
             ],
             [
              0.06274509803921569,
              "rgb(24,15,41)"
             ],
             [
              0.12549019607843137,
              "rgb(47,23,57)"
             ],
             [
              0.18823529411764706,
              "rgb(71,28,72)"
             ],
             [
              0.25098039215686274,
              "rgb(97,30,82)"
             ],
             [
              0.3137254901960784,
              "rgb(123,30,89)"
             ],
             [
              0.3764705882352941,
              "rgb(150,27,91)"
             ],
             [
              0.4392156862745098,
              "rgb(177,22,88)"
             ],
             [
              0.5019607843137255,
              "rgb(203,26,79)"
             ],
             [
              0.5647058823529412,
              "rgb(223,47,67)"
             ],
             [
              0.6274509803921569,
              "rgb(236,76,61)"
             ],
             [
              0.6901960784313725,
              "rgb(242,107,73)"
             ],
             [
              0.7529411764705882,
              "rgb(244,135,95)"
             ],
             [
              0.8156862745098039,
              "rgb(245,162,122)"
             ],
             [
              0.8784313725490196,
              "rgb(246,188,153)"
             ],
             [
              0.9411764705882353,
              "rgb(247,212,187)"
             ],
             [
              1,
              "rgb(250,234,220)"
             ]
            ],
            "type": "contour"
           }
          ],
          "contourcarpet": [
           {
            "colorbar": {
             "outlinewidth": 0,
             "tickcolor": "rgb(36,36,36)",
             "ticklen": 8,
             "ticks": "outside",
             "tickwidth": 2
            },
            "type": "contourcarpet"
           }
          ],
          "heatmap": [
           {
            "colorbar": {
             "outlinewidth": 0,
             "tickcolor": "rgb(36,36,36)",
             "ticklen": 8,
             "ticks": "outside",
             "tickwidth": 2
            },
            "colorscale": [
             [
              0,
              "rgb(2,4,25)"
             ],
             [
              0.06274509803921569,
              "rgb(24,15,41)"
             ],
             [
              0.12549019607843137,
              "rgb(47,23,57)"
             ],
             [
              0.18823529411764706,
              "rgb(71,28,72)"
             ],
             [
              0.25098039215686274,
              "rgb(97,30,82)"
             ],
             [
              0.3137254901960784,
              "rgb(123,30,89)"
             ],
             [
              0.3764705882352941,
              "rgb(150,27,91)"
             ],
             [
              0.4392156862745098,
              "rgb(177,22,88)"
             ],
             [
              0.5019607843137255,
              "rgb(203,26,79)"
             ],
             [
              0.5647058823529412,
              "rgb(223,47,67)"
             ],
             [
              0.6274509803921569,
              "rgb(236,76,61)"
             ],
             [
              0.6901960784313725,
              "rgb(242,107,73)"
             ],
             [
              0.7529411764705882,
              "rgb(244,135,95)"
             ],
             [
              0.8156862745098039,
              "rgb(245,162,122)"
             ],
             [
              0.8784313725490196,
              "rgb(246,188,153)"
             ],
             [
              0.9411764705882353,
              "rgb(247,212,187)"
             ],
             [
              1,
              "rgb(250,234,220)"
             ]
            ],
            "type": "heatmap"
           }
          ],
          "heatmapgl": [
           {
            "colorbar": {
             "outlinewidth": 0,
             "tickcolor": "rgb(36,36,36)",
             "ticklen": 8,
             "ticks": "outside",
             "tickwidth": 2
            },
            "colorscale": [
             [
              0,
              "rgb(2,4,25)"
             ],
             [
              0.06274509803921569,
              "rgb(24,15,41)"
             ],
             [
              0.12549019607843137,
              "rgb(47,23,57)"
             ],
             [
              0.18823529411764706,
              "rgb(71,28,72)"
             ],
             [
              0.25098039215686274,
              "rgb(97,30,82)"
             ],
             [
              0.3137254901960784,
              "rgb(123,30,89)"
             ],
             [
              0.3764705882352941,
              "rgb(150,27,91)"
             ],
             [
              0.4392156862745098,
              "rgb(177,22,88)"
             ],
             [
              0.5019607843137255,
              "rgb(203,26,79)"
             ],
             [
              0.5647058823529412,
              "rgb(223,47,67)"
             ],
             [
              0.6274509803921569,
              "rgb(236,76,61)"
             ],
             [
              0.6901960784313725,
              "rgb(242,107,73)"
             ],
             [
              0.7529411764705882,
              "rgb(244,135,95)"
             ],
             [
              0.8156862745098039,
              "rgb(245,162,122)"
             ],
             [
              0.8784313725490196,
              "rgb(246,188,153)"
             ],
             [
              0.9411764705882353,
              "rgb(247,212,187)"
             ],
             [
              1,
              "rgb(250,234,220)"
             ]
            ],
            "type": "heatmapgl"
           }
          ],
          "histogram": [
           {
            "marker": {
             "pattern": {
              "fillmode": "overlay",
              "size": 10,
              "solidity": 0.2
             }
            },
            "type": "histogram"
           }
          ],
          "histogram2d": [
           {
            "colorbar": {
             "outlinewidth": 0,
             "tickcolor": "rgb(36,36,36)",
             "ticklen": 8,
             "ticks": "outside",
             "tickwidth": 2
            },
            "colorscale": [
             [
              0,
              "rgb(2,4,25)"
             ],
             [
              0.06274509803921569,
              "rgb(24,15,41)"
             ],
             [
              0.12549019607843137,
              "rgb(47,23,57)"
             ],
             [
              0.18823529411764706,
              "rgb(71,28,72)"
             ],
             [
              0.25098039215686274,
              "rgb(97,30,82)"
             ],
             [
              0.3137254901960784,
              "rgb(123,30,89)"
             ],
             [
              0.3764705882352941,
              "rgb(150,27,91)"
             ],
             [
              0.4392156862745098,
              "rgb(177,22,88)"
             ],
             [
              0.5019607843137255,
              "rgb(203,26,79)"
             ],
             [
              0.5647058823529412,
              "rgb(223,47,67)"
             ],
             [
              0.6274509803921569,
              "rgb(236,76,61)"
             ],
             [
              0.6901960784313725,
              "rgb(242,107,73)"
             ],
             [
              0.7529411764705882,
              "rgb(244,135,95)"
             ],
             [
              0.8156862745098039,
              "rgb(245,162,122)"
             ],
             [
              0.8784313725490196,
              "rgb(246,188,153)"
             ],
             [
              0.9411764705882353,
              "rgb(247,212,187)"
             ],
             [
              1,
              "rgb(250,234,220)"
             ]
            ],
            "type": "histogram2d"
           }
          ],
          "histogram2dcontour": [
           {
            "colorbar": {
             "outlinewidth": 0,
             "tickcolor": "rgb(36,36,36)",
             "ticklen": 8,
             "ticks": "outside",
             "tickwidth": 2
            },
            "colorscale": [
             [
              0,
              "rgb(2,4,25)"
             ],
             [
              0.06274509803921569,
              "rgb(24,15,41)"
             ],
             [
              0.12549019607843137,
              "rgb(47,23,57)"
             ],
             [
              0.18823529411764706,
              "rgb(71,28,72)"
             ],
             [
              0.25098039215686274,
              "rgb(97,30,82)"
             ],
             [
              0.3137254901960784,
              "rgb(123,30,89)"
             ],
             [
              0.3764705882352941,
              "rgb(150,27,91)"
             ],
             [
              0.4392156862745098,
              "rgb(177,22,88)"
             ],
             [
              0.5019607843137255,
              "rgb(203,26,79)"
             ],
             [
              0.5647058823529412,
              "rgb(223,47,67)"
             ],
             [
              0.6274509803921569,
              "rgb(236,76,61)"
             ],
             [
              0.6901960784313725,
              "rgb(242,107,73)"
             ],
             [
              0.7529411764705882,
              "rgb(244,135,95)"
             ],
             [
              0.8156862745098039,
              "rgb(245,162,122)"
             ],
             [
              0.8784313725490196,
              "rgb(246,188,153)"
             ],
             [
              0.9411764705882353,
              "rgb(247,212,187)"
             ],
             [
              1,
              "rgb(250,234,220)"
             ]
            ],
            "type": "histogram2dcontour"
           }
          ],
          "mesh3d": [
           {
            "colorbar": {
             "outlinewidth": 0,
             "tickcolor": "rgb(36,36,36)",
             "ticklen": 8,
             "ticks": "outside",
             "tickwidth": 2
            },
            "type": "mesh3d"
           }
          ],
          "parcoords": [
           {
            "line": {
             "colorbar": {
              "outlinewidth": 0,
              "tickcolor": "rgb(36,36,36)",
              "ticklen": 8,
              "ticks": "outside",
              "tickwidth": 2
             }
            },
            "type": "parcoords"
           }
          ],
          "pie": [
           {
            "automargin": true,
            "type": "pie"
           }
          ],
          "scatter": [
           {
            "fillpattern": {
             "fillmode": "overlay",
             "size": 10,
             "solidity": 0.2
            },
            "type": "scatter"
           }
          ],
          "scatter3d": [
           {
            "line": {
             "colorbar": {
              "outlinewidth": 0,
              "tickcolor": "rgb(36,36,36)",
              "ticklen": 8,
              "ticks": "outside",
              "tickwidth": 2
             }
            },
            "marker": {
             "colorbar": {
              "outlinewidth": 0,
              "tickcolor": "rgb(36,36,36)",
              "ticklen": 8,
              "ticks": "outside",
              "tickwidth": 2
             }
            },
            "type": "scatter3d"
           }
          ],
          "scattercarpet": [
           {
            "marker": {
             "colorbar": {
              "outlinewidth": 0,
              "tickcolor": "rgb(36,36,36)",
              "ticklen": 8,
              "ticks": "outside",
              "tickwidth": 2
             }
            },
            "type": "scattercarpet"
           }
          ],
          "scattergeo": [
           {
            "marker": {
             "colorbar": {
              "outlinewidth": 0,
              "tickcolor": "rgb(36,36,36)",
              "ticklen": 8,
              "ticks": "outside",
              "tickwidth": 2
             }
            },
            "type": "scattergeo"
           }
          ],
          "scattergl": [
           {
            "marker": {
             "colorbar": {
              "outlinewidth": 0,
              "tickcolor": "rgb(36,36,36)",
              "ticklen": 8,
              "ticks": "outside",
              "tickwidth": 2
             }
            },
            "type": "scattergl"
           }
          ],
          "scattermapbox": [
           {
            "marker": {
             "colorbar": {
              "outlinewidth": 0,
              "tickcolor": "rgb(36,36,36)",
              "ticklen": 8,
              "ticks": "outside",
              "tickwidth": 2
             }
            },
            "type": "scattermapbox"
           }
          ],
          "scatterpolar": [
           {
            "marker": {
             "colorbar": {
              "outlinewidth": 0,
              "tickcolor": "rgb(36,36,36)",
              "ticklen": 8,
              "ticks": "outside",
              "tickwidth": 2
             }
            },
            "type": "scatterpolar"
           }
          ],
          "scatterpolargl": [
           {
            "marker": {
             "colorbar": {
              "outlinewidth": 0,
              "tickcolor": "rgb(36,36,36)",
              "ticklen": 8,
              "ticks": "outside",
              "tickwidth": 2
             }
            },
            "type": "scatterpolargl"
           }
          ],
          "scatterternary": [
           {
            "marker": {
             "colorbar": {
              "outlinewidth": 0,
              "tickcolor": "rgb(36,36,36)",
              "ticklen": 8,
              "ticks": "outside",
              "tickwidth": 2
             }
            },
            "type": "scatterternary"
           }
          ],
          "surface": [
           {
            "colorbar": {
             "outlinewidth": 0,
             "tickcolor": "rgb(36,36,36)",
             "ticklen": 8,
             "ticks": "outside",
             "tickwidth": 2
            },
            "colorscale": [
             [
              0,
              "rgb(2,4,25)"
             ],
             [
              0.06274509803921569,
              "rgb(24,15,41)"
             ],
             [
              0.12549019607843137,
              "rgb(47,23,57)"
             ],
             [
              0.18823529411764706,
              "rgb(71,28,72)"
             ],
             [
              0.25098039215686274,
              "rgb(97,30,82)"
             ],
             [
              0.3137254901960784,
              "rgb(123,30,89)"
             ],
             [
              0.3764705882352941,
              "rgb(150,27,91)"
             ],
             [
              0.4392156862745098,
              "rgb(177,22,88)"
             ],
             [
              0.5019607843137255,
              "rgb(203,26,79)"
             ],
             [
              0.5647058823529412,
              "rgb(223,47,67)"
             ],
             [
              0.6274509803921569,
              "rgb(236,76,61)"
             ],
             [
              0.6901960784313725,
              "rgb(242,107,73)"
             ],
             [
              0.7529411764705882,
              "rgb(244,135,95)"
             ],
             [
              0.8156862745098039,
              "rgb(245,162,122)"
             ],
             [
              0.8784313725490196,
              "rgb(246,188,153)"
             ],
             [
              0.9411764705882353,
              "rgb(247,212,187)"
             ],
             [
              1,
              "rgb(250,234,220)"
             ]
            ],
            "type": "surface"
           }
          ],
          "table": [
           {
            "cells": {
             "fill": {
              "color": "rgb(231,231,240)"
             },
             "line": {
              "color": "white"
             }
            },
            "header": {
             "fill": {
              "color": "rgb(183,183,191)"
             },
             "line": {
              "color": "white"
             }
            },
            "type": "table"
           }
          ]
         },
         "layout": {
          "annotationdefaults": {
           "arrowcolor": "rgb(67,103,167)"
          },
          "autotypenumbers": "strict",
          "coloraxis": {
           "colorbar": {
            "outlinewidth": 0,
            "tickcolor": "rgb(36,36,36)",
            "ticklen": 8,
            "ticks": "outside",
            "tickwidth": 2
           }
          },
          "colorscale": {
           "sequential": [
            [
             0,
             "rgb(2,4,25)"
            ],
            [
             0.06274509803921569,
             "rgb(24,15,41)"
            ],
            [
             0.12549019607843137,
             "rgb(47,23,57)"
            ],
            [
             0.18823529411764706,
             "rgb(71,28,72)"
            ],
            [
             0.25098039215686274,
             "rgb(97,30,82)"
            ],
            [
             0.3137254901960784,
             "rgb(123,30,89)"
            ],
            [
             0.3764705882352941,
             "rgb(150,27,91)"
            ],
            [
             0.4392156862745098,
             "rgb(177,22,88)"
            ],
            [
             0.5019607843137255,
             "rgb(203,26,79)"
            ],
            [
             0.5647058823529412,
             "rgb(223,47,67)"
            ],
            [
             0.6274509803921569,
             "rgb(236,76,61)"
            ],
            [
             0.6901960784313725,
             "rgb(242,107,73)"
            ],
            [
             0.7529411764705882,
             "rgb(244,135,95)"
            ],
            [
             0.8156862745098039,
             "rgb(245,162,122)"
            ],
            [
             0.8784313725490196,
             "rgb(246,188,153)"
            ],
            [
             0.9411764705882353,
             "rgb(247,212,187)"
            ],
            [
             1,
             "rgb(250,234,220)"
            ]
           ],
           "sequentialminus": [
            [
             0,
             "rgb(2,4,25)"
            ],
            [
             0.06274509803921569,
             "rgb(24,15,41)"
            ],
            [
             0.12549019607843137,
             "rgb(47,23,57)"
            ],
            [
             0.18823529411764706,
             "rgb(71,28,72)"
            ],
            [
             0.25098039215686274,
             "rgb(97,30,82)"
            ],
            [
             0.3137254901960784,
             "rgb(123,30,89)"
            ],
            [
             0.3764705882352941,
             "rgb(150,27,91)"
            ],
            [
             0.4392156862745098,
             "rgb(177,22,88)"
            ],
            [
             0.5019607843137255,
             "rgb(203,26,79)"
            ],
            [
             0.5647058823529412,
             "rgb(223,47,67)"
            ],
            [
             0.6274509803921569,
             "rgb(236,76,61)"
            ],
            [
             0.6901960784313725,
             "rgb(242,107,73)"
            ],
            [
             0.7529411764705882,
             "rgb(244,135,95)"
            ],
            [
             0.8156862745098039,
             "rgb(245,162,122)"
            ],
            [
             0.8784313725490196,
             "rgb(246,188,153)"
            ],
            [
             0.9411764705882353,
             "rgb(247,212,187)"
            ],
            [
             1,
             "rgb(250,234,220)"
            ]
           ]
          },
          "colorway": [
           "rgb(76,114,176)",
           "rgb(221,132,82)",
           "rgb(85,168,104)",
           "rgb(196,78,82)",
           "rgb(129,114,179)",
           "rgb(147,120,96)",
           "rgb(218,139,195)",
           "rgb(140,140,140)",
           "rgb(204,185,116)",
           "rgb(100,181,205)"
          ],
          "font": {
           "color": "rgb(36,36,36)"
          },
          "geo": {
           "bgcolor": "white",
           "lakecolor": "white",
           "landcolor": "rgb(234,234,242)",
           "showlakes": true,
           "showland": true,
           "subunitcolor": "white"
          },
          "hoverlabel": {
           "align": "left"
          },
          "hovermode": "closest",
          "paper_bgcolor": "white",
          "plot_bgcolor": "rgb(234,234,242)",
          "polar": {
           "angularaxis": {
            "gridcolor": "white",
            "linecolor": "white",
            "showgrid": true,
            "ticks": ""
           },
           "bgcolor": "rgb(234,234,242)",
           "radialaxis": {
            "gridcolor": "white",
            "linecolor": "white",
            "showgrid": true,
            "ticks": ""
           }
          },
          "scene": {
           "xaxis": {
            "backgroundcolor": "rgb(234,234,242)",
            "gridcolor": "white",
            "gridwidth": 2,
            "linecolor": "white",
            "showbackground": true,
            "showgrid": true,
            "ticks": "",
            "zerolinecolor": "white"
           },
           "yaxis": {
            "backgroundcolor": "rgb(234,234,242)",
            "gridcolor": "white",
            "gridwidth": 2,
            "linecolor": "white",
            "showbackground": true,
            "showgrid": true,
            "ticks": "",
            "zerolinecolor": "white"
           },
           "zaxis": {
            "backgroundcolor": "rgb(234,234,242)",
            "gridcolor": "white",
            "gridwidth": 2,
            "linecolor": "white",
            "showbackground": true,
            "showgrid": true,
            "ticks": "",
            "zerolinecolor": "white"
           }
          },
          "shapedefaults": {
           "fillcolor": "rgb(67,103,167)",
           "line": {
            "width": 0
           },
           "opacity": 0.5
          },
          "ternary": {
           "aaxis": {
            "gridcolor": "white",
            "linecolor": "white",
            "showgrid": true,
            "ticks": ""
           },
           "baxis": {
            "gridcolor": "white",
            "linecolor": "white",
            "showgrid": true,
            "ticks": ""
           },
           "bgcolor": "rgb(234,234,242)",
           "caxis": {
            "gridcolor": "white",
            "linecolor": "white",
            "showgrid": true,
            "ticks": ""
           }
          },
          "xaxis": {
           "automargin": true,
           "gridcolor": "white",
           "linecolor": "white",
           "showgrid": true,
           "ticks": "",
           "title": {
            "standoff": 15
           },
           "zerolinecolor": "white"
          },
          "yaxis": {
           "automargin": true,
           "gridcolor": "white",
           "linecolor": "white",
           "showgrid": true,
           "ticks": "",
           "title": {
            "standoff": 15
           },
           "zerolinecolor": "white"
          }
         }
        },
        "title": {
         "text": "Auc - VGG16 v.1.1"
        },
        "width": 1200,
        "xaxis": {
         "title": {
          "text": "Epochs"
         }
        },
        "yaxis": {
         "title": {
          "text": "Auc"
         }
        }
       }
      }
     },
     "metadata": {},
     "output_type": "display_data"
    }
   ],
   "source": [
    "window_size = 0\n",
    "train_data = (\n",
    "    moving_average(train_metrics[\"auc\"], window_size)\n",
    "    if window_size != 0\n",
    "    else train_metrics[\"auc\"]\n",
    ")\n",
    "validation_data = (\n",
    "    moving_average(validation_metrics[\"val_auc\"], window_size)\n",
    "    if window_size != 0\n",
    "    else validation_metrics[\"val_auc\"]\n",
    ")\n",
    "\n",
    "fig = go.Figure()\n",
    "\n",
    "fig.add_trace(\n",
    "    go.Scatter(\n",
    "        y=train_data,\n",
    "        x=np.arange(len(train_data)),\n",
    "        mode=\"lines\",\n",
    "        name=\"Train\",\n",
    "    )\n",
    ")\n",
    "\n",
    "fig.add_trace(\n",
    "    go.Scatter(\n",
    "        y=validation_data,\n",
    "        x=np.arange(len(validation_data)),\n",
    "        mode=\"lines\",\n",
    "        name=\"Validation\",\n",
    "    )\n",
    ")\n",
    "\n",
    "fig.update_layout(\n",
    "    title=f\"Auc - {model_name} {version}\",\n",
    "    xaxis_title=\"Epochs\",\n",
    "    yaxis_title=\"Auc\",\n",
    "    legend_title=\"Metrics\",\n",
    "    template=\"seaborn\",\n",
    "    width=1200,\n",
    "    height=1000,\n",
    ")\n",
    "\n",
    "fig.show()"
   ]
  },
  {
   "cell_type": "code",
   "execution_count": 28,
   "metadata": {},
   "outputs": [
    {
     "name": "stderr",
     "output_type": "stream",
     "text": [
      "/var/folders/3k/sxxpr3712v34r3p9x8yl60sm0000gn/T/ipykernel_40789/440293863.py:2: SettingWithCopyWarning:\n",
      "\n",
      "\n",
      "A value is trying to be set on a copy of a slice from a DataFrame.\n",
      "Try using .loc[row_indexer,col_indexer] = value instead\n",
      "\n",
      "See the caveats in the documentation: https://pandas.pydata.org/pandas-docs/stable/user_guide/indexing.html#returning-a-view-versus-a-copy\n",
      "\n",
      "/var/folders/3k/sxxpr3712v34r3p9x8yl60sm0000gn/T/ipykernel_40789/440293863.py:7: SettingWithCopyWarning:\n",
      "\n",
      "\n",
      "A value is trying to be set on a copy of a slice from a DataFrame.\n",
      "Try using .loc[row_indexer,col_indexer] = value instead\n",
      "\n",
      "See the caveats in the documentation: https://pandas.pydata.org/pandas-docs/stable/user_guide/indexing.html#returning-a-view-versus-a-copy\n",
      "\n"
     ]
    },
    {
     "data": {
      "application/vnd.plotly.v1+json": {
       "config": {
        "plotlyServerURL": "https://plot.ly"
       },
       "data": [
        {
         "mode": "lines",
         "name": "Train",
         "type": "scatter",
         "x": [
          0,
          1,
          2,
          3,
          4,
          5,
          6,
          7,
          8,
          9,
          10,
          11,
          12,
          13,
          14,
          15,
          16,
          17,
          18,
          19,
          20,
          21,
          22,
          23,
          24
         ],
         "y": [
          0.8650948844985848,
          0.9124967044612812,
          0.9200014949791505,
          0.9254543470052207,
          0.9254916897353996,
          0.927893517326222,
          0.9298418019425344,
          0.9304259087147275,
          0.9303134646694765,
          0.9306668714674996,
          0.9315990467863827,
          0.929746907219747,
          0.9327337230696697,
          0.9317080674464516,
          0.9331417479733576,
          0.9337014553770969,
          0.9329148332311692,
          0.9341349148973964,
          0.9322136258306611,
          0.9342010785409814,
          0.9332122446272141,
          0.9327931483113896,
          0.9338680253284104,
          0.9341290154544762,
          0.9333787317850315
         ]
        },
        {
         "mode": "lines",
         "name": "Validation",
         "type": "scatter",
         "x": [
          0,
          1,
          2,
          3,
          4,
          5,
          6,
          7,
          8,
          9,
          10,
          11,
          12,
          13,
          14,
          15,
          16,
          17,
          18,
          19,
          20,
          21,
          22,
          23,
          24
         ],
         "y": [
          0.9120000050419103,
          0.9226594397686589,
          0.9285467849444303,
          0.9300796029994407,
          0.9323595973665433,
          0.9302571128713021,
          0.9341484841550982,
          0.9317339666826298,
          0.9316254073379263,
          0.9324564376225303,
          0.9333802061858156,
          0.9334262811216012,
          0.9288793207438925,
          0.9317073181298144,
          0.934397785060911,
          0.9347331609335114,
          0.9321945389383273,
          0.9316106905738617,
          0.9358345052569891,
          0.9314881205436418,
          0.9174784207690335,
          0.9335923630164743,
          0.9345435460470759,
          0.9304736501818629,
          0.9338929543173897
         ]
        }
       ],
       "layout": {
        "height": 1000,
        "legend": {
         "title": {
          "text": "Metrics"
         }
        },
        "template": {
         "data": {
          "bar": [
           {
            "error_x": {
             "color": "rgb(36,36,36)"
            },
            "error_y": {
             "color": "rgb(36,36,36)"
            },
            "marker": {
             "line": {
              "color": "rgb(234,234,242)",
              "width": 0.5
             },
             "pattern": {
              "fillmode": "overlay",
              "size": 10,
              "solidity": 0.2
             }
            },
            "type": "bar"
           }
          ],
          "barpolar": [
           {
            "marker": {
             "line": {
              "color": "rgb(234,234,242)",
              "width": 0.5
             },
             "pattern": {
              "fillmode": "overlay",
              "size": 10,
              "solidity": 0.2
             }
            },
            "type": "barpolar"
           }
          ],
          "carpet": [
           {
            "aaxis": {
             "endlinecolor": "rgb(36,36,36)",
             "gridcolor": "white",
             "linecolor": "white",
             "minorgridcolor": "white",
             "startlinecolor": "rgb(36,36,36)"
            },
            "baxis": {
             "endlinecolor": "rgb(36,36,36)",
             "gridcolor": "white",
             "linecolor": "white",
             "minorgridcolor": "white",
             "startlinecolor": "rgb(36,36,36)"
            },
            "type": "carpet"
           }
          ],
          "choropleth": [
           {
            "colorbar": {
             "outlinewidth": 0,
             "tickcolor": "rgb(36,36,36)",
             "ticklen": 8,
             "ticks": "outside",
             "tickwidth": 2
            },
            "type": "choropleth"
           }
          ],
          "contour": [
           {
            "colorbar": {
             "outlinewidth": 0,
             "tickcolor": "rgb(36,36,36)",
             "ticklen": 8,
             "ticks": "outside",
             "tickwidth": 2
            },
            "colorscale": [
             [
              0,
              "rgb(2,4,25)"
             ],
             [
              0.06274509803921569,
              "rgb(24,15,41)"
             ],
             [
              0.12549019607843137,
              "rgb(47,23,57)"
             ],
             [
              0.18823529411764706,
              "rgb(71,28,72)"
             ],
             [
              0.25098039215686274,
              "rgb(97,30,82)"
             ],
             [
              0.3137254901960784,
              "rgb(123,30,89)"
             ],
             [
              0.3764705882352941,
              "rgb(150,27,91)"
             ],
             [
              0.4392156862745098,
              "rgb(177,22,88)"
             ],
             [
              0.5019607843137255,
              "rgb(203,26,79)"
             ],
             [
              0.5647058823529412,
              "rgb(223,47,67)"
             ],
             [
              0.6274509803921569,
              "rgb(236,76,61)"
             ],
             [
              0.6901960784313725,
              "rgb(242,107,73)"
             ],
             [
              0.7529411764705882,
              "rgb(244,135,95)"
             ],
             [
              0.8156862745098039,
              "rgb(245,162,122)"
             ],
             [
              0.8784313725490196,
              "rgb(246,188,153)"
             ],
             [
              0.9411764705882353,
              "rgb(247,212,187)"
             ],
             [
              1,
              "rgb(250,234,220)"
             ]
            ],
            "type": "contour"
           }
          ],
          "contourcarpet": [
           {
            "colorbar": {
             "outlinewidth": 0,
             "tickcolor": "rgb(36,36,36)",
             "ticklen": 8,
             "ticks": "outside",
             "tickwidth": 2
            },
            "type": "contourcarpet"
           }
          ],
          "heatmap": [
           {
            "colorbar": {
             "outlinewidth": 0,
             "tickcolor": "rgb(36,36,36)",
             "ticklen": 8,
             "ticks": "outside",
             "tickwidth": 2
            },
            "colorscale": [
             [
              0,
              "rgb(2,4,25)"
             ],
             [
              0.06274509803921569,
              "rgb(24,15,41)"
             ],
             [
              0.12549019607843137,
              "rgb(47,23,57)"
             ],
             [
              0.18823529411764706,
              "rgb(71,28,72)"
             ],
             [
              0.25098039215686274,
              "rgb(97,30,82)"
             ],
             [
              0.3137254901960784,
              "rgb(123,30,89)"
             ],
             [
              0.3764705882352941,
              "rgb(150,27,91)"
             ],
             [
              0.4392156862745098,
              "rgb(177,22,88)"
             ],
             [
              0.5019607843137255,
              "rgb(203,26,79)"
             ],
             [
              0.5647058823529412,
              "rgb(223,47,67)"
             ],
             [
              0.6274509803921569,
              "rgb(236,76,61)"
             ],
             [
              0.6901960784313725,
              "rgb(242,107,73)"
             ],
             [
              0.7529411764705882,
              "rgb(244,135,95)"
             ],
             [
              0.8156862745098039,
              "rgb(245,162,122)"
             ],
             [
              0.8784313725490196,
              "rgb(246,188,153)"
             ],
             [
              0.9411764705882353,
              "rgb(247,212,187)"
             ],
             [
              1,
              "rgb(250,234,220)"
             ]
            ],
            "type": "heatmap"
           }
          ],
          "heatmapgl": [
           {
            "colorbar": {
             "outlinewidth": 0,
             "tickcolor": "rgb(36,36,36)",
             "ticklen": 8,
             "ticks": "outside",
             "tickwidth": 2
            },
            "colorscale": [
             [
              0,
              "rgb(2,4,25)"
             ],
             [
              0.06274509803921569,
              "rgb(24,15,41)"
             ],
             [
              0.12549019607843137,
              "rgb(47,23,57)"
             ],
             [
              0.18823529411764706,
              "rgb(71,28,72)"
             ],
             [
              0.25098039215686274,
              "rgb(97,30,82)"
             ],
             [
              0.3137254901960784,
              "rgb(123,30,89)"
             ],
             [
              0.3764705882352941,
              "rgb(150,27,91)"
             ],
             [
              0.4392156862745098,
              "rgb(177,22,88)"
             ],
             [
              0.5019607843137255,
              "rgb(203,26,79)"
             ],
             [
              0.5647058823529412,
              "rgb(223,47,67)"
             ],
             [
              0.6274509803921569,
              "rgb(236,76,61)"
             ],
             [
              0.6901960784313725,
              "rgb(242,107,73)"
             ],
             [
              0.7529411764705882,
              "rgb(244,135,95)"
             ],
             [
              0.8156862745098039,
              "rgb(245,162,122)"
             ],
             [
              0.8784313725490196,
              "rgb(246,188,153)"
             ],
             [
              0.9411764705882353,
              "rgb(247,212,187)"
             ],
             [
              1,
              "rgb(250,234,220)"
             ]
            ],
            "type": "heatmapgl"
           }
          ],
          "histogram": [
           {
            "marker": {
             "pattern": {
              "fillmode": "overlay",
              "size": 10,
              "solidity": 0.2
             }
            },
            "type": "histogram"
           }
          ],
          "histogram2d": [
           {
            "colorbar": {
             "outlinewidth": 0,
             "tickcolor": "rgb(36,36,36)",
             "ticklen": 8,
             "ticks": "outside",
             "tickwidth": 2
            },
            "colorscale": [
             [
              0,
              "rgb(2,4,25)"
             ],
             [
              0.06274509803921569,
              "rgb(24,15,41)"
             ],
             [
              0.12549019607843137,
              "rgb(47,23,57)"
             ],
             [
              0.18823529411764706,
              "rgb(71,28,72)"
             ],
             [
              0.25098039215686274,
              "rgb(97,30,82)"
             ],
             [
              0.3137254901960784,
              "rgb(123,30,89)"
             ],
             [
              0.3764705882352941,
              "rgb(150,27,91)"
             ],
             [
              0.4392156862745098,
              "rgb(177,22,88)"
             ],
             [
              0.5019607843137255,
              "rgb(203,26,79)"
             ],
             [
              0.5647058823529412,
              "rgb(223,47,67)"
             ],
             [
              0.6274509803921569,
              "rgb(236,76,61)"
             ],
             [
              0.6901960784313725,
              "rgb(242,107,73)"
             ],
             [
              0.7529411764705882,
              "rgb(244,135,95)"
             ],
             [
              0.8156862745098039,
              "rgb(245,162,122)"
             ],
             [
              0.8784313725490196,
              "rgb(246,188,153)"
             ],
             [
              0.9411764705882353,
              "rgb(247,212,187)"
             ],
             [
              1,
              "rgb(250,234,220)"
             ]
            ],
            "type": "histogram2d"
           }
          ],
          "histogram2dcontour": [
           {
            "colorbar": {
             "outlinewidth": 0,
             "tickcolor": "rgb(36,36,36)",
             "ticklen": 8,
             "ticks": "outside",
             "tickwidth": 2
            },
            "colorscale": [
             [
              0,
              "rgb(2,4,25)"
             ],
             [
              0.06274509803921569,
              "rgb(24,15,41)"
             ],
             [
              0.12549019607843137,
              "rgb(47,23,57)"
             ],
             [
              0.18823529411764706,
              "rgb(71,28,72)"
             ],
             [
              0.25098039215686274,
              "rgb(97,30,82)"
             ],
             [
              0.3137254901960784,
              "rgb(123,30,89)"
             ],
             [
              0.3764705882352941,
              "rgb(150,27,91)"
             ],
             [
              0.4392156862745098,
              "rgb(177,22,88)"
             ],
             [
              0.5019607843137255,
              "rgb(203,26,79)"
             ],
             [
              0.5647058823529412,
              "rgb(223,47,67)"
             ],
             [
              0.6274509803921569,
              "rgb(236,76,61)"
             ],
             [
              0.6901960784313725,
              "rgb(242,107,73)"
             ],
             [
              0.7529411764705882,
              "rgb(244,135,95)"
             ],
             [
              0.8156862745098039,
              "rgb(245,162,122)"
             ],
             [
              0.8784313725490196,
              "rgb(246,188,153)"
             ],
             [
              0.9411764705882353,
              "rgb(247,212,187)"
             ],
             [
              1,
              "rgb(250,234,220)"
             ]
            ],
            "type": "histogram2dcontour"
           }
          ],
          "mesh3d": [
           {
            "colorbar": {
             "outlinewidth": 0,
             "tickcolor": "rgb(36,36,36)",
             "ticklen": 8,
             "ticks": "outside",
             "tickwidth": 2
            },
            "type": "mesh3d"
           }
          ],
          "parcoords": [
           {
            "line": {
             "colorbar": {
              "outlinewidth": 0,
              "tickcolor": "rgb(36,36,36)",
              "ticklen": 8,
              "ticks": "outside",
              "tickwidth": 2
             }
            },
            "type": "parcoords"
           }
          ],
          "pie": [
           {
            "automargin": true,
            "type": "pie"
           }
          ],
          "scatter": [
           {
            "fillpattern": {
             "fillmode": "overlay",
             "size": 10,
             "solidity": 0.2
            },
            "type": "scatter"
           }
          ],
          "scatter3d": [
           {
            "line": {
             "colorbar": {
              "outlinewidth": 0,
              "tickcolor": "rgb(36,36,36)",
              "ticklen": 8,
              "ticks": "outside",
              "tickwidth": 2
             }
            },
            "marker": {
             "colorbar": {
              "outlinewidth": 0,
              "tickcolor": "rgb(36,36,36)",
              "ticklen": 8,
              "ticks": "outside",
              "tickwidth": 2
             }
            },
            "type": "scatter3d"
           }
          ],
          "scattercarpet": [
           {
            "marker": {
             "colorbar": {
              "outlinewidth": 0,
              "tickcolor": "rgb(36,36,36)",
              "ticklen": 8,
              "ticks": "outside",
              "tickwidth": 2
             }
            },
            "type": "scattercarpet"
           }
          ],
          "scattergeo": [
           {
            "marker": {
             "colorbar": {
              "outlinewidth": 0,
              "tickcolor": "rgb(36,36,36)",
              "ticklen": 8,
              "ticks": "outside",
              "tickwidth": 2
             }
            },
            "type": "scattergeo"
           }
          ],
          "scattergl": [
           {
            "marker": {
             "colorbar": {
              "outlinewidth": 0,
              "tickcolor": "rgb(36,36,36)",
              "ticklen": 8,
              "ticks": "outside",
              "tickwidth": 2
             }
            },
            "type": "scattergl"
           }
          ],
          "scattermapbox": [
           {
            "marker": {
             "colorbar": {
              "outlinewidth": 0,
              "tickcolor": "rgb(36,36,36)",
              "ticklen": 8,
              "ticks": "outside",
              "tickwidth": 2
             }
            },
            "type": "scattermapbox"
           }
          ],
          "scatterpolar": [
           {
            "marker": {
             "colorbar": {
              "outlinewidth": 0,
              "tickcolor": "rgb(36,36,36)",
              "ticklen": 8,
              "ticks": "outside",
              "tickwidth": 2
             }
            },
            "type": "scatterpolar"
           }
          ],
          "scatterpolargl": [
           {
            "marker": {
             "colorbar": {
              "outlinewidth": 0,
              "tickcolor": "rgb(36,36,36)",
              "ticklen": 8,
              "ticks": "outside",
              "tickwidth": 2
             }
            },
            "type": "scatterpolargl"
           }
          ],
          "scatterternary": [
           {
            "marker": {
             "colorbar": {
              "outlinewidth": 0,
              "tickcolor": "rgb(36,36,36)",
              "ticklen": 8,
              "ticks": "outside",
              "tickwidth": 2
             }
            },
            "type": "scatterternary"
           }
          ],
          "surface": [
           {
            "colorbar": {
             "outlinewidth": 0,
             "tickcolor": "rgb(36,36,36)",
             "ticklen": 8,
             "ticks": "outside",
             "tickwidth": 2
            },
            "colorscale": [
             [
              0,
              "rgb(2,4,25)"
             ],
             [
              0.06274509803921569,
              "rgb(24,15,41)"
             ],
             [
              0.12549019607843137,
              "rgb(47,23,57)"
             ],
             [
              0.18823529411764706,
              "rgb(71,28,72)"
             ],
             [
              0.25098039215686274,
              "rgb(97,30,82)"
             ],
             [
              0.3137254901960784,
              "rgb(123,30,89)"
             ],
             [
              0.3764705882352941,
              "rgb(150,27,91)"
             ],
             [
              0.4392156862745098,
              "rgb(177,22,88)"
             ],
             [
              0.5019607843137255,
              "rgb(203,26,79)"
             ],
             [
              0.5647058823529412,
              "rgb(223,47,67)"
             ],
             [
              0.6274509803921569,
              "rgb(236,76,61)"
             ],
             [
              0.6901960784313725,
              "rgb(242,107,73)"
             ],
             [
              0.7529411764705882,
              "rgb(244,135,95)"
             ],
             [
              0.8156862745098039,
              "rgb(245,162,122)"
             ],
             [
              0.8784313725490196,
              "rgb(246,188,153)"
             ],
             [
              0.9411764705882353,
              "rgb(247,212,187)"
             ],
             [
              1,
              "rgb(250,234,220)"
             ]
            ],
            "type": "surface"
           }
          ],
          "table": [
           {
            "cells": {
             "fill": {
              "color": "rgb(231,231,240)"
             },
             "line": {
              "color": "white"
             }
            },
            "header": {
             "fill": {
              "color": "rgb(183,183,191)"
             },
             "line": {
              "color": "white"
             }
            },
            "type": "table"
           }
          ]
         },
         "layout": {
          "annotationdefaults": {
           "arrowcolor": "rgb(67,103,167)"
          },
          "autotypenumbers": "strict",
          "coloraxis": {
           "colorbar": {
            "outlinewidth": 0,
            "tickcolor": "rgb(36,36,36)",
            "ticklen": 8,
            "ticks": "outside",
            "tickwidth": 2
           }
          },
          "colorscale": {
           "sequential": [
            [
             0,
             "rgb(2,4,25)"
            ],
            [
             0.06274509803921569,
             "rgb(24,15,41)"
            ],
            [
             0.12549019607843137,
             "rgb(47,23,57)"
            ],
            [
             0.18823529411764706,
             "rgb(71,28,72)"
            ],
            [
             0.25098039215686274,
             "rgb(97,30,82)"
            ],
            [
             0.3137254901960784,
             "rgb(123,30,89)"
            ],
            [
             0.3764705882352941,
             "rgb(150,27,91)"
            ],
            [
             0.4392156862745098,
             "rgb(177,22,88)"
            ],
            [
             0.5019607843137255,
             "rgb(203,26,79)"
            ],
            [
             0.5647058823529412,
             "rgb(223,47,67)"
            ],
            [
             0.6274509803921569,
             "rgb(236,76,61)"
            ],
            [
             0.6901960784313725,
             "rgb(242,107,73)"
            ],
            [
             0.7529411764705882,
             "rgb(244,135,95)"
            ],
            [
             0.8156862745098039,
             "rgb(245,162,122)"
            ],
            [
             0.8784313725490196,
             "rgb(246,188,153)"
            ],
            [
             0.9411764705882353,
             "rgb(247,212,187)"
            ],
            [
             1,
             "rgb(250,234,220)"
            ]
           ],
           "sequentialminus": [
            [
             0,
             "rgb(2,4,25)"
            ],
            [
             0.06274509803921569,
             "rgb(24,15,41)"
            ],
            [
             0.12549019607843137,
             "rgb(47,23,57)"
            ],
            [
             0.18823529411764706,
             "rgb(71,28,72)"
            ],
            [
             0.25098039215686274,
             "rgb(97,30,82)"
            ],
            [
             0.3137254901960784,
             "rgb(123,30,89)"
            ],
            [
             0.3764705882352941,
             "rgb(150,27,91)"
            ],
            [
             0.4392156862745098,
             "rgb(177,22,88)"
            ],
            [
             0.5019607843137255,
             "rgb(203,26,79)"
            ],
            [
             0.5647058823529412,
             "rgb(223,47,67)"
            ],
            [
             0.6274509803921569,
             "rgb(236,76,61)"
            ],
            [
             0.6901960784313725,
             "rgb(242,107,73)"
            ],
            [
             0.7529411764705882,
             "rgb(244,135,95)"
            ],
            [
             0.8156862745098039,
             "rgb(245,162,122)"
            ],
            [
             0.8784313725490196,
             "rgb(246,188,153)"
            ],
            [
             0.9411764705882353,
             "rgb(247,212,187)"
            ],
            [
             1,
             "rgb(250,234,220)"
            ]
           ]
          },
          "colorway": [
           "rgb(76,114,176)",
           "rgb(221,132,82)",
           "rgb(85,168,104)",
           "rgb(196,78,82)",
           "rgb(129,114,179)",
           "rgb(147,120,96)",
           "rgb(218,139,195)",
           "rgb(140,140,140)",
           "rgb(204,185,116)",
           "rgb(100,181,205)"
          ],
          "font": {
           "color": "rgb(36,36,36)"
          },
          "geo": {
           "bgcolor": "white",
           "lakecolor": "white",
           "landcolor": "rgb(234,234,242)",
           "showlakes": true,
           "showland": true,
           "subunitcolor": "white"
          },
          "hoverlabel": {
           "align": "left"
          },
          "hovermode": "closest",
          "paper_bgcolor": "white",
          "plot_bgcolor": "rgb(234,234,242)",
          "polar": {
           "angularaxis": {
            "gridcolor": "white",
            "linecolor": "white",
            "showgrid": true,
            "ticks": ""
           },
           "bgcolor": "rgb(234,234,242)",
           "radialaxis": {
            "gridcolor": "white",
            "linecolor": "white",
            "showgrid": true,
            "ticks": ""
           }
          },
          "scene": {
           "xaxis": {
            "backgroundcolor": "rgb(234,234,242)",
            "gridcolor": "white",
            "gridwidth": 2,
            "linecolor": "white",
            "showbackground": true,
            "showgrid": true,
            "ticks": "",
            "zerolinecolor": "white"
           },
           "yaxis": {
            "backgroundcolor": "rgb(234,234,242)",
            "gridcolor": "white",
            "gridwidth": 2,
            "linecolor": "white",
            "showbackground": true,
            "showgrid": true,
            "ticks": "",
            "zerolinecolor": "white"
           },
           "zaxis": {
            "backgroundcolor": "rgb(234,234,242)",
            "gridcolor": "white",
            "gridwidth": 2,
            "linecolor": "white",
            "showbackground": true,
            "showgrid": true,
            "ticks": "",
            "zerolinecolor": "white"
           }
          },
          "shapedefaults": {
           "fillcolor": "rgb(67,103,167)",
           "line": {
            "width": 0
           },
           "opacity": 0.5
          },
          "ternary": {
           "aaxis": {
            "gridcolor": "white",
            "linecolor": "white",
            "showgrid": true,
            "ticks": ""
           },
           "baxis": {
            "gridcolor": "white",
            "linecolor": "white",
            "showgrid": true,
            "ticks": ""
           },
           "bgcolor": "rgb(234,234,242)",
           "caxis": {
            "gridcolor": "white",
            "linecolor": "white",
            "showgrid": true,
            "ticks": ""
           }
          },
          "xaxis": {
           "automargin": true,
           "gridcolor": "white",
           "linecolor": "white",
           "showgrid": true,
           "ticks": "",
           "title": {
            "standoff": 15
           },
           "zerolinecolor": "white"
          },
          "yaxis": {
           "automargin": true,
           "gridcolor": "white",
           "linecolor": "white",
           "showgrid": true,
           "ticks": "",
           "title": {
            "standoff": 15
           },
           "zerolinecolor": "white"
          }
         }
        },
        "title": {
         "text": "F1 Score - VGG16 v.1.1"
        },
        "width": 1200,
        "xaxis": {
         "title": {
          "text": "Epochs"
         }
        },
        "yaxis": {
         "title": {
          "text": "F1 Score"
         }
        }
       }
      }
     },
     "metadata": {},
     "output_type": "display_data"
    }
   ],
   "source": [
    "# Calcular F1-Score\n",
    "train_metrics[\"f1_score\"] = (\n",
    "    2\n",
    "    * (train_metrics[\"presision\"] * train_metrics[\"recall\"])\n",
    "    / (train_metrics[\"presision\"] + train_metrics[\"recall\"])\n",
    ")\n",
    "validation_metrics[\"val_f1_score\"] = (\n",
    "    2\n",
    "    * (validation_metrics[\"val_presision\"] * validation_metrics[\"val_recall\"])\n",
    "    / (validation_metrics[\"val_presision\"] + validation_metrics[\"val_recall\"])\n",
    ")\n",
    "\n",
    "window_size = 0\n",
    "train_data = (\n",
    "    moving_average(train_metrics[\"f1_score\"], window_size)\n",
    "    if window_size != 0\n",
    "    else train_metrics[\"f1_score\"]\n",
    ")\n",
    "validation_data = (\n",
    "    moving_average(validation_metrics[\"val_f1_score\"], window_size)\n",
    "    if window_size != 0\n",
    "    else validation_metrics[\"val_f1_score\"]\n",
    ")\n",
    "\n",
    "fig = go.Figure()\n",
    "\n",
    "fig.add_trace(\n",
    "    go.Scatter(\n",
    "        y=train_data,\n",
    "        x=np.arange(len(train_data)),\n",
    "        mode=\"lines\",\n",
    "        name=\"Train\",\n",
    "    )\n",
    ")\n",
    "\n",
    "fig.add_trace(\n",
    "    go.Scatter(\n",
    "        y=validation_data,\n",
    "        x=np.arange(len(validation_data)),\n",
    "        mode=\"lines\",\n",
    "        name=\"Validation\",\n",
    "    )\n",
    ")\n",
    "\n",
    "fig.update_layout(\n",
    "    title=f\"F1 Score - {model_name} {version}\",\n",
    "    xaxis_title=\"Epochs\",\n",
    "    yaxis_title=\"F1 Score\",\n",
    "    legend_title=\"Metrics\",\n",
    "    template=\"seaborn\",\n",
    "    width=1200,\n",
    "    height=1000,\n",
    ")\n",
    "\n",
    "fig.show()"
   ]
  },
  {
   "cell_type": "code",
   "execution_count": 29,
   "metadata": {},
   "outputs": [
    {
     "name": "stdout",
     "output_type": "stream",
     "text": [
      "The file /Users/carlos/WORKSPACE/MegaClassifier/data/raw/emptyNonEmptyDataset_ETL/28570Test.csv has been successfully opened.\n",
      "Found 4288 validated image filenames belonging to 2 classes.\n"
     ]
    },
    {
     "name": "stderr",
     "output_type": "stream",
     "text": [
      "2024-12-07 18:18:52.805219: I tensorflow/core/grappler/optimizers/custom_graph_optimizer_registry.cc:114] Plugin optimizer for device_type GPU is enabled.\n"
     ]
    },
    {
     "name": "stdout",
     "output_type": "stream",
     "text": [
      "134/134 [==============================] - 64s 475ms/step\n"
     ]
    }
   ],
   "source": [
    "from tensorflow.keras.preprocessing.image import ImageDataGenerator\n",
    "import tensorflow\n",
    "\n",
    "IMAGES_DATASET_PATH = os.path.abspath(\"./data/raw/emptyNonEmptyDataset_ETL\")\n",
    "TEST_SAMPLES_CSV = os.path.abspath(\"./data/raw/emptyNonEmptyDataset_ETL/28570Test.csv\")\n",
    "test_dataframe = dt.load_from_csv(TEST_SAMPLES_CSV)\n",
    "test_dataframe[\"file_name\"] = test_dataframe[\"file_name\"].apply(\n",
    "    lambda x: os.path.join(IMAGES_DATASET_PATH, x)\n",
    ")\n",
    "test_dataframe[\"binary_label\"] = test_dataframe[\"binary_label\"].astype(str)\n",
    "IMG_SIZE = (224, 224)\n",
    "BATCH_SIZE = 32\n",
    "normal_datagen = ImageDataGenerator(\n",
    "    preprocessing_function=tensorflow.keras.applications.mobilenet_v2.preprocess_input\n",
    ")\n",
    "test_images = normal_datagen.flow_from_dataframe(\n",
    "    dataframe=test_dataframe,\n",
    "    x_col=\"file_name\",\n",
    "    y_col=\"binary_label\",\n",
    "    target_size=IMG_SIZE,\n",
    "    batch_size=BATCH_SIZE,\n",
    "    class_mode=\"binary\",\n",
    "    shuffle=False,\n",
    ")\n",
    "\n",
    "# Calcular probabilidades para el conjunto de prueba\n",
    "y_pred_prob = model.predict(test_images)"
   ]
  },
  {
   "cell_type": "code",
   "execution_count": 30,
   "metadata": {},
   "outputs": [
    {
     "data": {
      "application/vnd.plotly.v1+json": {
       "config": {
        "plotlyServerURL": "https://plot.ly"
       },
       "data": [
        {
         "mode": "lines",
         "name": "VGG16_v.1.1 (AUC = 0.7370)",
         "type": "scatter",
         "x": [
          0,
          0,
          0,
          0.0006891798759476223,
          0.0006891798759476223,
          0.0013783597518952446,
          0.0013783597518952446,
          0.002067539627842867,
          0.002067539627842867,
          0.0027567195037904893,
          0.0027567195037904893,
          0.0034458993797381117,
          0.0034458993797381117,
          0.004135079255685734,
          0.004135079255685734,
          0.004824259131633356,
          0.004824259131633356,
          0.005513439007580979,
          0.005513439007580979,
          0.006202618883528601,
          0.006202618883528601,
          0.006891798759476223,
          0.006891798759476223,
          0.007580978635423846,
          0.007580978635423846,
          0.008270158511371467,
          0.008270158511371467,
          0.00895933838731909,
          0.00895933838731909,
          0.009648518263266712,
          0.009648518263266712,
          0.010337698139214336,
          0.010337698139214336,
          0.011026878015161957,
          0.011026878015161957,
          0.01171605789110958,
          0.01171605789110958,
          0.013094417643004824,
          0.013094417643004824,
          0.013783597518952447,
          0.013783597518952447,
          0.014472777394900068,
          0.014472777394900068,
          0.015851137146795313,
          0.015851137146795313,
          0.01722949689869056,
          0.01722949689869056,
          0.01791867677463818,
          0.01791867677463818,
          0.018607856650585803,
          0.018607856650585803,
          0.019297036526533425,
          0.019297036526533425,
          0.019986216402481046,
          0.019986216402481046,
          0.02067539627842867,
          0.02067539627842867,
          0.021364576154376293,
          0.021364576154376293,
          0.022053756030323914,
          0.022053756030323914,
          0.02343211578221916,
          0.02343211578221916,
          0.024121295658166782,
          0.024121295658166782,
          0.024810475534114404,
          0.024810475534114404,
          0.025499655410062026,
          0.025499655410062026,
          0.026188835286009647,
          0.026188835286009647,
          0.026878015161957272,
          0.026878015161957272,
          0.027567195037904894,
          0.027567195037904894,
          0.028256374913852515,
          0.028256374913852515,
          0.028945554789800137,
          0.028945554789800137,
          0.029634734665747762,
          0.029634734665747762,
          0.030323914541695383,
          0.030323914541695383,
          0.03170227429359063,
          0.03170227429359063,
          0.03239145416953825,
          0.03239145416953825,
          0.03308063404548587,
          0.03308063404548587,
          0.033769813921433495,
          0.033769813921433495,
          0.03445899379738112,
          0.03445899379738112,
          0.03583735354927636,
          0.03583735354927636,
          0.03652653342522398,
          0.03652653342522398,
          0.037215713301171606,
          0.037215713301171606,
          0.03790489317711923,
          0.03790489317711923,
          0.03859407305306685,
          0.03859407305306685,
          0.039283252929014474,
          0.039283252929014474,
          0.03997243280496209,
          0.03997243280496209,
          0.04066161268090972,
          0.04066161268090972,
          0.04135079255685734,
          0.04135079255685734,
          0.04203997243280496,
          0.04203997243280496,
          0.042729152308752585,
          0.042729152308752585,
          0.043418332184700204,
          0.043418332184700204,
          0.044796691936595454,
          0.044796691936595454,
          0.04548587181254307,
          0.04548587181254307,
          0.04755341144038594,
          0.04755341144038594,
          0.048242591316333565,
          0.048242591316333565,
          0.04893177119228118,
          0.04893177119228118,
          0.04962095106822881,
          0.04962095106822881,
          0.05031013094417643,
          0.05031013094417643,
          0.05099931082012405,
          0.05099931082012405,
          0.051688490696071676,
          0.051688490696071676,
          0.05306685044796692,
          0.05306685044796692,
          0.053756030323914544,
          0.053756030323914544,
          0.05444521019986216,
          0.05444521019986216,
          0.05513439007580979,
          0.05513439007580979,
          0.055823569951757405,
          0.055823569951757405,
          0.05651274982770503,
          0.05651274982770503,
          0.057201929703652656,
          0.057201929703652656,
          0.057891109579600274,
          0.057891109579600274,
          0.059269469331495524,
          0.059269469331495524,
          0.05995864920744314,
          0.05995864920744314,
          0.061337008959338385,
          0.061337008959338385,
          0.06202618883528601,
          0.06202618883528601,
          0.06340454858718125,
          0.06340454858718125,
          0.06409372846312887,
          0.06409372846312887,
          0.0647829083390765,
          0.0647829083390765,
          0.06547208821502412,
          0.06547208821502412,
          0.06616126809097174,
          0.06616126809097174,
          0.06685044796691937,
          0.06685044796691937,
          0.06753962784286699,
          0.06753962784286699,
          0.06822880771881461,
          0.06822880771881461,
          0.06891798759476224,
          0.06891798759476224,
          0.06960716747070986,
          0.06960716747070986,
          0.07029634734665748,
          0.07029634734665748,
          0.0709855272226051,
          0.0709855272226051,
          0.07167470709855273,
          0.07167470709855273,
          0.07236388697450034,
          0.07236388697450034,
          0.07305306685044796,
          0.07305306685044796,
          0.07443142660234321,
          0.07443142660234321,
          0.07512060647829083,
          0.07512060647829083,
          0.0771881461061337,
          0.0771881461061337,
          0.07925568573397657,
          0.07925568573397657,
          0.07994486560992418,
          0.07994486560992418,
          0.08063404548587182,
          0.08063404548587182,
          0.08201240523776705,
          0.08201240523776705,
          0.08270158511371468,
          0.08270158511371468,
          0.08407994486560992,
          0.08407994486560992,
          0.08476912474155755,
          0.08476912474155755,
          0.08545830461750517,
          0.08545830461750517,
          0.08614748449345279,
          0.08614748449345279,
          0.08683666436940041,
          0.08683666436940041,
          0.08752584424534804,
          0.08752584424534804,
          0.08821502412129566,
          0.08821502412129566,
          0.08890420399724328,
          0.08890420399724328,
          0.08959338387319091,
          0.08959338387319091,
          0.09028256374913853,
          0.09028256374913853,
          0.09097174362508614,
          0.09097174362508614,
          0.09166092350103378,
          0.09166092350103378,
          0.0923501033769814,
          0.0923501033769814,
          0.09303928325292901,
          0.09303928325292901,
          0.09372846312887664,
          0.09372846312887664,
          0.09441764300482426,
          0.09441764300482426,
          0.09510682288077188,
          0.09510682288077188,
          0.0957960027567195,
          0.0957960027567195,
          0.09648518263266713,
          0.09648518263266713,
          0.09717436250861475,
          0.09717436250861475,
          0.09786354238456237,
          0.09786354238456237,
          0.09855272226051,
          0.09855272226051,
          0.09924190213645762,
          0.09924190213645762,
          0.09993108201240523,
          0.09993108201240523,
          0.10062026188835287,
          0.10062026188835287,
          0.10130944176430048,
          0.10130944176430048,
          0.10268780151619572,
          0.10268780151619572,
          0.10406616126809097,
          0.10406616126809097,
          0.10475534114403859,
          0.10475534114403859,
          0.10544452101998622,
          0.10544452101998622,
          0.10613370089593384,
          0.10613370089593384,
          0.10682288077188146,
          0.10682288077188146,
          0.1082012405237767,
          0.1082012405237767,
          0.10889042039972432,
          0.10889042039972432,
          0.10957960027567196,
          0.10957960027567196,
          0.11026878015161957,
          0.11026878015161957,
          0.11095796002756719,
          0.11095796002756719,
          0.11164713990351481,
          0.11164713990351481,
          0.11233631977946244,
          0.11233631977946244,
          0.11302549965541006,
          0.11302549965541006,
          0.11371467953135768,
          0.11371467953135768,
          0.11440385940730531,
          0.11440385940730531,
          0.11509303928325293,
          0.11509303928325293,
          0.11578221915920055,
          0.11578221915920055,
          0.11647139903514818,
          0.11647139903514818,
          0.1171605789110958,
          0.1171605789110958,
          0.11784975878704342,
          0.11784975878704342,
          0.11853893866299105,
          0.11853893866299105,
          0.11922811853893867,
          0.11922811853893867,
          0.11991729841488628,
          0.11991729841488628,
          0.1206064782908339,
          0.1206064782908339,
          0.12129565816678153,
          0.12129565816678153,
          0.12198483804272915,
          0.12198483804272915,
          0.12267401791867677,
          0.12267401791867677,
          0.1233631977946244,
          0.1233631977946244,
          0.12405237767057202,
          0.12405237767057202,
          0.12543073742246727,
          0.12543073742246727,
          0.12611991729841487,
          0.12611991729841487,
          0.12749827705031014,
          0.12749827705031014,
          0.12818745692625774,
          0.12818745692625774,
          0.12887663680220537,
          0.12887663680220537,
          0.1302549965541006,
          0.1302549965541006,
          0.13094417643004824,
          0.13094417643004824,
          0.13232253618194348,
          0.13232253618194348,
          0.1330117160578911,
          0.1330117160578911,
          0.13370089593383874,
          0.13370089593383874,
          0.13439007580978635,
          0.13439007580978635,
          0.13645761543762921,
          0.13645761543762921,
          0.13714679531357685,
          0.13714679531357685,
          0.13921433494141972,
          0.13921433494141972,
          0.13990351481736732,
          0.13990351481736732,
          0.14059269469331495,
          0.14059269469331495,
          0.14128187456926258,
          0.14128187456926258,
          0.14266023432115782,
          0.14266023432115782,
          0.14403859407305306,
          0.14403859407305306,
          0.1447277739490007,
          0.1447277739490007,
          0.14541695382494832,
          0.14541695382494832,
          0.14610613370089592,
          0.14610613370089592,
          0.14679531357684356,
          0.14679531357684356,
          0.1474844934527912,
          0.1474844934527912,
          0.1481736733287388,
          0.1481736733287388,
          0.14886285320468642,
          0.14886285320468642,
          0.14955203308063406,
          0.14955203308063406,
          0.15024121295658166,
          0.15024121295658166,
          0.1509303928325293,
          0.1509303928325293,
          0.15230875258442453,
          0.15230875258442453,
          0.1536871123363198,
          0.1536871123363198,
          0.15644383184011026,
          0.15644383184011026,
          0.1571330117160579,
          0.1571330117160579,
          0.1578221915920055,
          0.1578221915920055,
          0.15851137146795313,
          0.15851137146795313,
          0.15920055134390076,
          0.15920055134390076,
          0.160578911095796,
          0.160578911095796,
          0.16126809097174363,
          0.16126809097174363,
          0.16195727084769124,
          0.16195727084769124,
          0.16264645072363887,
          0.16264645072363887,
          0.1633356305995865,
          0.1633356305995865,
          0.1640248104755341,
          0.1640248104755341,
          0.16540317022742937,
          0.16540317022742937,
          0.1667815299793246,
          0.1667815299793246,
          0.16747070985527224,
          0.16747070985527224,
          0.16815988973121984,
          0.16815988973121984,
          0.16884906960716747,
          0.16884906960716747,
          0.1702274293590627,
          0.1702274293590627,
          0.17160578911095797,
          0.17160578911095797,
          0.1729841488628532,
          0.1729841488628532,
          0.17367332873880081,
          0.17367332873880081,
          0.17436250861474845,
          0.17436250861474845,
          0.17505168849069608,
          0.17505168849069608,
          0.17574086836664368,
          0.17574086836664368,
          0.17780840799448655,
          0.17780840799448655,
          0.17849758787043418,
          0.17849758787043418,
          0.17918676774638181,
          0.17918676774638181,
          0.17987594762232942,
          0.17987594762232942,
          0.18125430737422468,
          0.18125430737422468,
          0.1819434872501723,
          0.1819434872501723,
          0.18332184700206755,
          0.18332184700206755,
          0.18401102687801515,
          0.18401102687801515,
          0.18538938662991042,
          0.18538938662991042,
          0.18607856650585802,
          0.18607856650585802,
          0.18676774638180565,
          0.18676774638180565,
          0.18952446588559613,
          0.18952446588559613,
          0.19021364576154376,
          0.19021364576154376,
          0.1909028256374914,
          0.1909028256374914,
          0.191592005513439,
          0.191592005513439,
          0.19228118538938663,
          0.19228118538938663,
          0.19365954514128186,
          0.19365954514128186,
          0.19503790489317713,
          0.19503790489317713,
          0.19641626464507236,
          0.19641626464507236,
          0.19917298414886286,
          0.19917298414886286,
          0.2005513439007581,
          0.2005513439007581,
          0.20261888352860097,
          0.20261888352860097,
          0.2033080634045486,
          0.2033080634045486,
          0.20468642315644384,
          0.20468642315644384,
          0.20537560303239144,
          0.20537560303239144,
          0.20606478290833907,
          0.20606478290833907,
          0.2067539627842867,
          0.2067539627842867,
          0.2074431426602343,
          0.2074431426602343,
          0.20813232253618194,
          0.20813232253618194,
          0.20951068228807718,
          0.20951068228807718,
          0.2101998621640248,
          0.2101998621640248,
          0.21088904203997244,
          0.21088904203997244,
          0.21157822191592005,
          0.21157822191592005,
          0.2129565816678153,
          0.2129565816678153,
          0.2136457615437629,
          0.2136457615437629,
          0.21502412129565818,
          0.21502412129565818,
          0.21571330117160578,
          0.21571330117160578,
          0.2164024810475534,
          0.2164024810475534,
          0.21709166092350105,
          0.21709166092350105,
          0.21984838042729152,
          0.21984838042729152,
          0.22122674017918678,
          0.22122674017918678,
          0.22191592005513439,
          0.22191592005513439,
          0.22260509993108202,
          0.22260509993108202,
          0.22329427980702962,
          0.22329427980702962,
          0.22398345968297725,
          0.22398345968297725,
          0.22467263955892489,
          0.22467263955892489,
          0.2253618194348725,
          0.2253618194348725,
          0.22742935906271536,
          0.22742935906271536,
          0.22880771881461062,
          0.22880771881461062,
          0.23018607856650586,
          0.23018607856650586,
          0.2308752584424535,
          0.2308752584424535,
          0.2315644383184011,
          0.2315644383184011,
          0.23225361819434873,
          0.23225361819434873,
          0.23501033769813923,
          0.23501033769813923,
          0.23638869745003446,
          0.23638869745003446,
          0.23845623707787733,
          0.23845623707787733,
          0.23914541695382494,
          0.23914541695382494,
          0.24190213645761544,
          0.24190213645761544,
          0.24328049620951067,
          0.24328049620951067,
          0.2439696760854583,
          0.2439696760854583,
          0.24465885596140594,
          0.24465885596140594,
          0.24603721571330117,
          0.24603721571330117,
          0.2467263955892488,
          0.2467263955892488,
          0.2474155754651964,
          0.2474155754651964,
          0.24810475534114404,
          0.24810475534114404,
          0.24879393521709167,
          0.24879393521709167,
          0.24948311509303928,
          0.24948311509303928,
          0.2501722949689869,
          0.2501722949689869,
          0.25223983459682975,
          0.25223983459682975,
          0.2570640937284631,
          0.2570640937284631,
          0.259131633356306,
          0.259131633356306,
          0.25982081323225364,
          0.25982081323225364,
          0.2605099931082012,
          0.2605099931082012,
          0.2618883528600965,
          0.2618883528600965,
          0.2625775327360441,
          0.2625775327360441,
          0.26326671261199175,
          0.26326671261199175,
          0.2639558924879393,
          0.2639558924879393,
          0.2653342522398346,
          0.2653342522398346,
          0.26671261199172985,
          0.26671261199172985,
          0.26809097174362506,
          0.26809097174362506,
          0.2687801516195727,
          0.2687801516195727,
          0.27015851137146796,
          0.27015851137146796,
          0.2715368711233632,
          0.2715368711233632,
          0.2722260509993108,
          0.2722260509993108,
          0.27360441075120606,
          0.27360441075120606,
          0.2742935906271537,
          0.2742935906271537,
          0.27636113025499653,
          0.27636113025499653,
          0.27705031013094417,
          0.27705031013094417,
          0.2777394900068918,
          0.2777394900068918,
          0.27911784975878706,
          0.27911784975878706,
          0.27980702963473464,
          0.27980702963473464,
          0.2811853893866299,
          0.2811853893866299,
          0.28187456926257753,
          0.28187456926257753,
          0.2832529290144728,
          0.2832529290144728,
          0.284631288766368,
          0.284631288766368,
          0.28532046864231564,
          0.28532046864231564,
          0.28738800827015853,
          0.28738800827015853,
          0.28876636802205374,
          0.28876636802205374,
          0.2894555478980014,
          0.2894555478980014,
          0.290144727773949,
          0.290144727773949,
          0.29152308752584427,
          0.29152308752584427,
          0.29221226740179185,
          0.29221226740179185,
          0.2935906271536871,
          0.2935906271536871,
          0.29427980702963474,
          0.29427980702963474,
          0.2949689869055824,
          0.2949689869055824,
          0.29565816678152995,
          0.29565816678152995,
          0.2963473466574776,
          0.2963473466574776,
          0.29772570640937285,
          0.29772570640937285,
          0.2984148862853205,
          0.2984148862853205,
          0.2991040661612681,
          0.2991040661612681,
          0.2997932460372157,
          0.2997932460372157,
          0.3004824259131633,
          0.3004824259131633,
          0.3018607856650586,
          0.3018607856650586,
          0.3025499655410062,
          0.3025499655410062,
          0.3053066850447967,
          0.3053066850447967,
          0.30668504479669195,
          0.30668504479669195,
          0.3087525844245348,
          0.3087525844245348,
          0.3094417643004824,
          0.3094417643004824,
          0.31013094417643006,
          0.31013094417643006,
          0.3108201240523777,
          0.3108201240523777,
          0.31150930392832527,
          0.31150930392832527,
          0.31288766368022053,
          0.31288766368022053,
          0.31357684355616816,
          0.31357684355616816,
          0.3142660234321158,
          0.3142660234321158,
          0.3149552033080634,
          0.3149552033080634,
          0.315644383184011,
          0.315644383184011,
          0.31702274293590627,
          0.31702274293590627,
          0.3177119228118539,
          0.3177119228118539,
          0.31840110268780153,
          0.31840110268780153,
          0.32046864231564437,
          0.32046864231564437,
          0.321157822191592,
          0.321157822191592,
          0.32184700206753963,
          0.32184700206753963,
          0.32253618194348727,
          0.32253618194348727,
          0.3232253618194349,
          0.3232253618194349,
          0.3239145416953825,
          0.3239145416953825,
          0.32529290144727774,
          0.32529290144727774,
          0.32598208132322537,
          0.32598208132322537,
          0.326671261199173,
          0.326671261199173,
          0.32736044107512063,
          0.32736044107512063,
          0.3280496209510682,
          0.3280496209510682,
          0.3294279807029635,
          0.3294279807029635,
          0.3301171605789111,
          0.3301171605789111,
          0.33080634045485874,
          0.33080634045485874,
          0.3328738800827016,
          0.3328738800827016,
          0.33425223983459684,
          0.33425223983459684,
          0.3349414197105445,
          0.3349414197105445,
          0.33563059958649205,
          0.33563059958649205,
          0.3363197794624397,
          0.3363197794624397,
          0.33769813921433495,
          0.33769813921433495,
          0.34114403859407305,
          0.34114403859407305,
          0.3425223983459683,
          0.3425223983459683,
          0.34321157822191595,
          0.34321157822191595,
          0.34458993797381116,
          0.34458993797381116,
          0.3459682977257064,
          0.3459682977257064,
          0.34734665747760163,
          0.34734665747760163,
          0.34803583735354926,
          0.34803583735354926,
          0.35010337698139216,
          0.35010337698139216,
          0.35148173673328736,
          0.35148173673328736,
          0.35286009648518263,
          0.35286009648518263,
          0.35354927636113026,
          0.35354927636113026,
          0.3549276361130255,
          0.3549276361130255,
          0.3556168159889731,
          0.3556168159889731,
          0.35630599586492073,
          0.35630599586492073,
          0.357684355616816,
          0.357684355616816,
          0.35837353549276363,
          0.35837353549276363,
          0.3611302549965541,
          0.3611302549965541,
          0.3645761543762922,
          0.3645761543762922,
          0.36595451412818747,
          0.36595451412818747,
          0.3666436940041351,
          0.3666436940041351,
          0.3680220537560303,
          0.3680220537560303,
          0.3694004135079256,
          0.3694004135079256,
          0.37077877325982084,
          0.37077877325982084,
          0.3749138525155066,
          0.3749138525155066,
          0.37560303239145415,
          0.37560303239145415,
          0.3762922122674018,
          0.3762922122674018,
          0.3769813921433494,
          0.3769813921433494,
          0.37767057201929705,
          0.37767057201929705,
          0.3783597518952447,
          0.3783597518952447,
          0.37904893177119225,
          0.37904893177119225,
          0.3804272915230875,
          0.3804272915230875,
          0.38111647139903515,
          0.38111647139903515,
          0.3838731909028256,
          0.3838731909028256,
          0.38456237077877325,
          0.38456237077877325,
          0.3852515506547209,
          0.3852515506547209,
          0.38662991040661615,
          0.38662991040661615,
          0.38800827015851136,
          0.38800827015851136,
          0.388697450034459,
          0.388697450034459,
          0.39007580978635426,
          0.39007580978635426,
          0.3907649896623019,
          0.3907649896623019,
          0.3921433494141971,
          0.3921433494141971,
          0.3928325292901447,
          0.3928325292901447,
          0.39421088904204,
          0.39421088904204,
          0.3955892487939352,
          0.3955892487939352,
          0.3976567884217781,
          0.3976567884217781,
          0.3990351481736733,
          0.3990351481736733,
          0.40041350792556857,
          0.40041350792556857,
          0.4011026878015162,
          0.4011026878015162,
          0.40248104755341146,
          0.40248104755341146,
          0.4045485871812543,
          0.4045485871812543,
          0.40592694693314957,
          0.40592694693314957,
          0.4079944865609924,
          0.4079944865609924,
          0.4128187456926258,
          0.4128187456926258,
          0.41419710544452104,
          0.41419710544452104,
          0.4148862853204686,
          0.4148862853204686,
          0.4169538249483115,
          0.4169538249483115,
          0.41764300482425915,
          0.41764300482425915,
          0.419710544452102,
          0.419710544452102,
          0.4231564438318401,
          0.4231564438318401,
          0.4238456237077877,
          0.4238456237077877,
          0.425223983459683,
          0.425223983459683,
          0.4259131633356306,
          0.4259131633356306,
          0.4266023432115782,
          0.4266023432115782,
          0.4272915230875258,
          0.4272915230875258,
          0.42798070296347346,
          0.42798070296347346,
          0.4293590627153687,
          0.4293590627153687,
          0.43142660234321156,
          0.43142660234321156,
          0.4328049620951068,
          0.4328049620951068,
          0.43349414197105446,
          0.43349414197105446,
          0.4355616815988973,
          0.4355616815988973,
          0.43969676085458304,
          0.43969676085458304,
          0.44038594073053067,
          0.44038594073053067,
          0.4410751206064783,
          0.4410751206064783,
          0.44176430048242593,
          0.44176430048242593,
          0.44314266023432114,
          0.44314266023432114,
          0.44383184011026877,
          0.44383184011026877,
          0.4445210199862164,
          0.4445210199862164,
          0.44521019986216404,
          0.44521019986216404,
          0.4472777394900069,
          0.4472777394900069,
          0.4479669193659545,
          0.4479669193659545,
          0.4500344589937974,
          0.4500344589937974,
          0.450723638869745,
          0.450723638869745,
          0.4527911784975879,
          0.4527911784975879,
          0.45416953824948314,
          0.45416953824948314,
          0.456237077877326,
          0.456237077877326,
          0.45899379738111645,
          0.45899379738111645,
          0.4603721571330117,
          0.4603721571330117,
          0.46106133700895935,
          0.46106133700895935,
          0.461750516884907,
          0.461750516884907,
          0.46243969676085456,
          0.46243969676085456,
          0.4651964162646451,
          0.4651964162646451,
          0.4686423156443832,
          0.4686423156443832,
          0.47002067539627845,
          0.47139903514817366,
          0.47139903514817366,
          0.4720882150241213,
          0.4720882150241213,
          0.47346657477601656,
          0.47346657477601656,
          0.4741557546519642,
          0.4741557546519642,
          0.4755341144038594,
          0.4755341144038594,
          0.47622329427980703,
          0.47622329427980703,
          0.47691247415575466,
          0.47691247415575466,
          0.4776016540317023,
          0.4776016540317023,
          0.4789800137835975,
          0.4789800137835975,
          0.47966919365954513,
          0.47966919365954513,
          0.48035837353549277,
          0.48035837353549277,
          0.4810475534114404,
          0.4810475534114404,
          0.48173673328738803,
          0.48173673328738803,
          0.48380427291523087,
          0.48380427291523087,
          0.48518263266712613,
          0.48518263266712613,
          0.487250172294969,
          0.487250172294969,
          0.48862853204686424,
          0.48862853204686424,
          0.48931771192281187,
          0.48931771192281187,
          0.49207443142660234,
          0.49207443142660234,
          0.4934527911784976,
          0.4934527911784976,
          0.4941419710544452,
          0.4941419710544452,
          0.49552033080634045,
          0.49552033080634045,
          0.4968986905582357,
          0.4968986905582357,
          0.4996554100620262,
          0.4996554100620262,
          0.5010337698139214,
          0.5010337698139214,
          0.5017229496898691,
          0.5017229496898691,
          0.5031013094417643,
          0.5031013094417643,
          0.5051688490696071,
          0.5051688490696071,
          0.5058580289455548,
          0.5058580289455548,
          0.5065472088215024,
          0.5065472088215024,
          0.50723638869745,
          0.50723638869745,
          0.5093039283252929,
          0.5093039283252929,
          0.5106822880771882,
          0.5106822880771882,
          0.5113714679531358,
          0.5113714679531358,
          0.5141281874569262,
          0.5141281874569262,
          0.5161957270847691,
          0.5161957270847691,
          0.5175740868366644,
          0.5175740868366644,
          0.518263266712612,
          0.518263266712612,
          0.5189524465885597,
          0.5189524465885597,
          0.5203308063404548,
          0.5203308063404548,
          0.5217091660923501,
          0.5217091660923501,
          0.5223983459682977,
          0.5223983459682977,
          0.523776705720193,
          0.523776705720193,
          0.5244658855961406,
          0.5244658855961406,
          0.5265334252239835,
          0.5265334252239835,
          0.5286009648518263,
          0.5286009648518263,
          0.5292901447277739,
          0.5292901447277739,
          0.5299793246037215,
          0.5299793246037215,
          0.5306685044796692,
          0.5306685044796692,
          0.5313576843556168,
          0.5313576843556168,
          0.5341144038594073,
          0.5341144038594073,
          0.5354927636113026,
          0.5354927636113026,
          0.5361819434872501,
          0.5361819434872501,
          0.538249483115093,
          0.538249483115093,
          0.5396278428669883,
          0.5396278428669883,
          0.5403170227429359,
          0.5403170227429359,
          0.5410062026188835,
          0.5410062026188835,
          0.5416953824948312,
          0.5416953824948312,
          0.5430737422467264,
          0.5430737422467264,
          0.5444521019986216,
          0.5444521019986216,
          0.5465196416264645,
          0.5465196416264645,
          0.5472088215024121,
          0.5472088215024121,
          0.5478980013783598,
          0.5478980013783598,
          0.5485871812543074,
          0.5485871812543074,
          0.549276361130255,
          0.549276361130255,
          0.5513439007580979,
          0.5513439007580979,
          0.5527222605099931,
          0.5527222605099931,
          0.5534114403859407,
          0.5534114403859407,
          0.5554789800137836,
          0.5554789800137836,
          0.5561681598897312,
          0.5561681598897312,
          0.5582356995175741,
          0.5582356995175741,
          0.5589248793935218,
          0.5589248793935218,
          0.5596140592694693,
          0.5596140592694693,
          0.5603032391454169,
          0.5603032391454169,
          0.5609924190213645,
          0.5609924190213645,
          0.5616815988973122,
          0.5616815988973122,
          0.5623707787732598,
          0.5623707787732598,
          0.5630599586492074,
          0.5630599586492074,
          0.5651274982770503,
          0.5651274982770503,
          0.5665058580289456,
          0.5665058580289456,
          0.5671950379048932,
          0.5671950379048932,
          0.5678842177808407,
          0.5678842177808407,
          0.5685733976567884,
          0.5685733976567884,
          0.569262577532736,
          0.569262577532736,
          0.5706409372846313,
          0.5706409372846313,
          0.5713301171605789,
          0.5713301171605789,
          0.5720192970365265,
          0.5720192970365265,
          0.5733976567884218,
          0.5733976567884218,
          0.5747760165403171,
          0.5747760165403171,
          0.5761543762922122,
          0.5761543762922122,
          0.5768435561681599,
          0.5768435561681599,
          0.5775327360441075,
          0.5775327360441075,
          0.5796002756719504,
          0.5796002756719504,
          0.5816678152997933,
          0.5816678152997933,
          0.5823569951757409,
          0.5823569951757409,
          0.5837353549276361,
          0.5837353549276361,
          0.5844245348035837,
          0.5844245348035837,
          0.5851137146795313,
          0.5851137146795313,
          0.585802894555479,
          0.585802894555479,
          0.5864920744314266,
          0.5864920744314266,
          0.5885596140592695,
          0.5885596140592695,
          0.5892487939352171,
          0.5892487939352171,
          0.5899379738111648,
          0.5899379738111648,
          0.5906271536871124,
          0.5906271536871124,
          0.5920055134390075,
          0.5920055134390075,
          0.5954514128187457,
          0.5954514128187457,
          0.5982081323225362,
          0.5982081323225362,
          0.5988973121984839,
          0.5988973121984839,
          0.5995864920744314,
          0.5995864920744314,
          0.6023432115782219,
          0.6023432115782219,
          0.6030323914541695,
          0.6030323914541695,
          0.6044107512060648,
          0.6044107512060648,
          0.6057891109579601,
          0.6057891109579601,
          0.6085458304617505,
          0.6085458304617505,
          0.6106133700895934,
          0.6106133700895934,
          0.611302549965541,
          0.611302549965541,
          0.6119917298414886,
          0.6119917298414886,
          0.6140592694693315,
          0.6140592694693315,
          0.6188835286009648,
          0.6188835286009648,
          0.6237077877325982,
          0.6237077877325982,
          0.6243969676085458,
          0.6243969676085458,
          0.6257753273604411,
          0.6257753273604411,
          0.6271536871123363,
          0.6271536871123363,
          0.6285320468642316,
          0.6285320468642316,
          0.6292212267401792,
          0.6292212267401792,
          0.6299104066161269,
          0.6299104066161269,
          0.6326671261199173,
          0.6326671261199173,
          0.6333563059958649,
          0.6333563059958649,
          0.6354238456237078,
          0.6354238456237078,
          0.6361130254996554,
          0.6361130254996554,
          0.6368022053756031,
          0.6368022053756031,
          0.6374913852515507,
          0.6381805651274983,
          0.638869745003446,
          0.638869745003446,
          0.6402481047553411,
          0.6402481047553411,
          0.6409372846312887,
          0.6409372846312887,
          0.6430048242591316,
          0.6430048242591316,
          0.6450723638869745,
          0.6450723638869745,
          0.6457615437629222,
          0.6457615437629222,
          0.6464507236388698,
          0.6464507236388698,
          0.647829083390765,
          0.647829083390765,
          0.6505858028945555,
          0.6505858028945555,
          0.6512749827705031,
          0.6512749827705031,
          0.6519641626464507,
          0.6519641626464507,
          0.653342522398346,
          0.653342522398346,
          0.6560992419021364,
          0.6560992419021364,
          0.6574776016540317,
          0.6574776016540317,
          0.6623018607856651,
          0.6623018607856651,
          0.6671261199172984,
          0.6671261199172984,
          0.667815299793246,
          0.667815299793246,
          0.6685044796691937,
          0.6685044796691937,
          0.673328738800827,
          0.673328738800827,
          0.6753962784286699,
          0.6753962784286699,
          0.6760854583046175,
          0.6760854583046175,
          0.6767746381805652,
          0.6767746381805652,
          0.6781529979324604,
          0.6781529979324604,
          0.6795313576843556,
          0.6795313576843556,
          0.6802205375603032,
          0.6802205375603032,
          0.6822880771881461,
          0.6822880771881461,
          0.6850447966919366,
          0.6850447966919366,
          0.6857339765678843,
          0.6857339765678843,
          0.6864231564438319,
          0.6864231564438319,
          0.687801516195727,
          0.687801516195727,
          0.6884906960716747,
          0.6884906960716747,
          0.6898690558235699,
          0.6898690558235699,
          0.6905582356995176,
          0.6905582356995176,
          0.6912474155754652,
          0.6912474155754652,
          0.6919365954514128,
          0.6919365954514128,
          0.6933149552033081,
          0.6933149552033081,
          0.6946933149552033,
          0.6946933149552033,
          0.6981392143349414,
          0.6981392143349414,
          0.7002067539627843,
          0.7002067539627843,
          0.7008959338387319,
          0.7008959338387319,
          0.7015851137146796,
          0.7015851137146796,
          0.7022742935906272,
          0.7022742935906272,
          0.7029634734665747,
          0.7029634734665747,
          0.7036526533425224,
          0.7036526533425224,
          0.7070985527222605,
          0.7070985527222605,
          0.7091660923501034,
          0.7091660923501034,
          0.709855272226051,
          0.709855272226051,
          0.7146795313576844,
          0.7146795313576844,
          0.715368711233632,
          0.715368711233632,
          0.7167470709855273,
          0.7167470709855273,
          0.7174362508614749,
          0.7174362508614749,
          0.7181254307374225,
          0.7181254307374225,
          0.71881461061337,
          0.71881461061337,
          0.7195037904893177,
          0.7195037904893177,
          0.7201929703652653,
          0.7201929703652653,
          0.7208821502412129,
          0.7208821502412129,
          0.7222605099931082,
          0.7222605099931082,
          0.7229496898690558,
          0.7229496898690558,
          0.7257064093728464,
          0.7257064093728464,
          0.7270847691247415,
          0.7270847691247415,
          0.7277739490006891,
          0.7277739490006891,
          0.729841488628532,
          0.729841488628532,
          0.7319090282563749,
          0.7319090282563749,
          0.7339765678842178,
          0.7339765678842178,
          0.7346657477601654,
          0.7346657477601654,
          0.7360441075120606,
          0.7360441075120606,
          0.7381116471399035,
          0.7381116471399035,
          0.7388008270158511,
          0.7388008270158511,
          0.740868366643694,
          0.740868366643694,
          0.7456926257753274,
          0.7456926257753274,
          0.7484493452791179,
          0.7484493452791179,
          0.7491385251550655,
          0.7491385251550655,
          0.7546519641626465,
          0.7546519641626465,
          0.7553411440385941,
          0.7553411440385941,
          0.7560303239145417,
          0.7560303239145417,
          0.7580978635423845,
          0.7580978635423845,
          0.7622329427980703,
          0.7622329427980703,
          0.7636113025499656,
          0.7636113025499656,
          0.766368022053756,
          0.766368022053756,
          0.7670572019297036,
          0.7670572019297036,
          0.7677463818056512,
          0.7677463818056512,
          0.7684355616815989,
          0.7684355616815989,
          0.7691247415575465,
          0.7691247415575465,
          0.7698139214334941,
          0.7698139214334941,
          0.771881461061337,
          0.771881461061337,
          0.7746381805651275,
          0.7746381805651275,
          0.7780840799448656,
          0.7780840799448656,
          0.7801516195727085,
          0.7801516195727085,
          0.7815299793246038,
          0.7815299793246038,
          0.7822191592005513,
          0.7822191592005513,
          0.7835975189524466,
          0.7835975189524466,
          0.7842866988283942,
          0.7842866988283942,
          0.7849758787043418,
          0.7849758787043418,
          0.7863542384562371,
          0.7863542384562371,
          0.7898001378359751,
          0.7898001378359751,
          0.7946243969676086,
          0.7946243969676086,
          0.7960027567195038,
          0.7960027567195038,
          0.7966919365954515,
          0.7966919365954515,
          0.7973811164713991,
          0.7973811164713991,
          0.7987594762232942,
          0.7987594762232942,
          0.7994486560992419,
          0.7994486560992419,
          0.8001378359751895,
          0.8001378359751895,
          0.8022053756030324,
          0.8022053756030324,
          0.80289455547898,
          0.80289455547898,
          0.8035837353549277,
          0.8035837353549277,
          0.8049620951068229,
          0.8049620951068229,
          0.8070296347346657,
          0.8070296347346657,
          0.8077188146106133,
          0.8077188146106133,
          0.808407994486561,
          0.808407994486561,
          0.8090971743625086,
          0.8090971743625086,
          0.8111647139903515,
          0.8111647139903515,
          0.8118538938662991,
          0.8118538938662991,
          0.8125430737422468,
          0.8125430737422468,
          0.8146106133700896,
          0.8146106133700896,
          0.8152997932460372,
          0.8152997932460372,
          0.8159889731219848,
          0.8159889731219848,
          0.8166781529979324,
          0.8166781529979324,
          0.8173673328738801,
          0.8173673328738801,
          0.8187456926257753,
          0.8187456926257753,
          0.8201240523776706,
          0.8201240523776706,
          0.8235699517574087,
          0.8235699517574087,
          0.8242591316333563,
          0.8242591316333563,
          0.8249483115093039,
          0.8249483115093039,
          0.8256374913852516,
          0.8256374913852516,
          0.8277050310130944,
          0.8277050310130944,
          0.8283942108890421,
          0.8283942108890421,
          0.8311509303928325,
          0.8311509303928325,
          0.8352860096485183,
          0.8352860096485183,
          0.8373535492763611,
          0.8373535492763611,
          0.839421088904204,
          0.839421088904204,
          0.8407994486560992,
          0.8407994486560992,
          0.8421778084079945,
          0.8421778084079945,
          0.8442453480358374,
          0.8442453480358374,
          0.844934527911785,
          0.844934527911785,
          0.8483804272915231,
          0.8483804272915231,
          0.850447966919366,
          0.850447966919366,
          0.8511371467953136,
          0.8511371467953136,
          0.8518263266712612,
          0.8518263266712612,
          0.8525155065472089,
          0.8525155065472089,
          0.8532046864231564,
          0.8532046864231564,
          0.853893866299104,
          0.853893866299104,
          0.8552722260509993,
          0.8552722260509993,
          0.8566505858028945,
          0.8566505858028945,
          0.8580289455547898,
          0.8580289455547898,
          0.8594073053066851,
          0.8594073053066851,
          0.8600964851826327,
          0.8600964851826327,
          0.8607856650585803,
          0.8607856650585803,
          0.8614748449345279,
          0.8614748449345279,
          0.8642315644383184,
          0.8642315644383184,
          0.8669882839421089,
          0.8669882839421089,
          0.8690558235699517,
          0.8690558235699517,
          0.8697450034458993,
          0.8697450034458993,
          0.8725017229496899,
          0.8725017229496899,
          0.8731909028256375,
          0.8731909028256375,
          0.8738800827015851,
          0.8738800827015851,
          0.8745692625775328,
          0.8745692625775328,
          0.8752584424534804,
          0.8752584424534804,
          0.8766368022053757,
          0.8766368022053757,
          0.8780151619572708,
          0.8780151619572708,
          0.8787043418332184,
          0.8787043418332184,
          0.8793935217091661,
          0.8793935217091661,
          0.8807718814610613,
          0.8807718814610613,
          0.8821502412129566,
          0.8821502412129566,
          0.8842177808407995,
          0.8842177808407995,
          0.8862853204686423,
          0.8862853204686423,
          0.8883528600964852,
          0.8883528600964852,
          0.8904203997243281,
          0.8904203997243281,
          0.8931771192281185,
          0.8931771192281185,
          0.8938662991040661,
          0.8938662991040661,
          0.8952446588559614,
          0.8952446588559614,
          0.8980013783597519,
          0.8980013783597519,
          0.8993797381116472,
          0.8993797381116472,
          0.9000689179875948,
          0.9000689179875948,
          0.9007580978635424,
          0.9007580978635424,
          0.9028256374913852,
          0.9028256374913852,
          0.9035148173673329,
          0.9035148173673329,
          0.9062715368711234,
          0.9062715368711234,
          0.9076498966230186,
          0.9076498966230186,
          0.9117849758787043,
          0.9117849758787043,
          0.9152308752584425,
          0.9152308752584425,
          0.9166092350103378,
          0.9166092350103378,
          0.9172984148862853,
          0.9172984148862853,
          0.9193659545141282,
          0.9193659545141282,
          0.9200551343900758,
          0.9200551343900758,
          0.9255685733976567,
          0.9255685733976567,
          0.9262577532736044,
          0.9262577532736044,
          0.9276361130254996,
          0.9276361130254996,
          0.9297036526533425,
          0.9297036526533425,
          0.9310820124052378,
          0.9310820124052378,
          0.9338387319090282,
          0.9338387319090282,
          0.9345279117849759,
          0.9345279117849759,
          0.9352170916609235,
          0.9352170916609235,
          0.9365954514128187,
          0.9365954514128187,
          0.9386629910406616,
          0.9386629910406616,
          0.9400413507925569,
          0.9400413507925569,
          0.9414197105444521,
          0.9414197105444521,
          0.9427980702963473,
          0.9427980702963473,
          0.943487250172295,
          0.943487250172295,
          0.9441764300482426,
          0.9441764300482426,
          0.9476223294279807,
          0.9476223294279807,
          0.9483115093039284,
          0.9483115093039284,
          0.9496898690558235,
          0.9496898690558235,
          0.9503790489317712,
          0.9503790489317712,
          0.9510682288077188,
          0.9510682288077188,
          0.9517574086836664,
          0.9517574086836664,
          0.954514128187457,
          0.954514128187457,
          0.9552033080634046,
          0.9552033080634046,
          0.9600275671950379,
          0.9600275671950379,
          0.9634734665747761,
          0.9634734665747761,
          0.9676085458304617,
          0.9676085458304617,
          0.9710544452101999,
          0.9710544452101999,
          0.980013783597519,
          0.980013783597519,
          0.9820813232253618,
          0.9820813232253618,
          0.9903514817367333,
          0.9903514817367333,
          0.9917298414886285,
          0.9917298414886285,
          0.9958649207443143,
          0.9958649207443143,
          0.9986216402481047,
          0.9986216402481047,
          1
         ],
         "y": [
          0,
          0.00035248501938667606,
          0.06697215368346845,
          0.06697215368346845,
          0.09094113500176243,
          0.09094113500176243,
          0.10363059569968276,
          0.10363059569968276,
          0.10962284102925626,
          0.10962284102925626,
          0.11913993655269652,
          0.11913993655269652,
          0.1293620021149101,
          0.1293620021149101,
          0.14134649277405711,
          0.14134649277405711,
          0.14310891787099048,
          0.14310891787099048,
          0.16143813887909764,
          0.16143813887909764,
          0.16672541416989778,
          0.16672541416989778,
          0.17166020444131125,
          0.17166020444131125,
          0.17342262953824464,
          0.17342262953824464,
          0.18047232992597814,
          0.18047232992597814,
          0.18470215015861827,
          0.18470215015861827,
          0.18611209023616496,
          0.18611209023616496,
          0.19457173070144518,
          0.19457173070144518,
          0.20126894606979204,
          0.20126894606979204,
          0.20267888614733873,
          0.20267888614733873,
          0.20303137116672543,
          0.20303137116672543,
          0.20585125132181883,
          0.20585125132181883,
          0.20726119139936552,
          0.20726119139936552,
          0.21184349665139232,
          0.21184349665139232,
          0.213253436728939,
          0.213253436728939,
          0.21395840676771238,
          0.21395840676771238,
          0.21607331688403242,
          0.21607331688403242,
          0.21854071201973915,
          0.21854071201973915,
          0.2210081071554459,
          0.2210081071554459,
          0.22206556221360593,
          0.22206556221360593,
          0.22418047232992597,
          0.22418047232992597,
          0.2312301727176595,
          0.2312301727176595,
          0.23158265773704617,
          0.23158265773704617,
          0.23440253789213958,
          0.23440253789213958,
          0.23475502291152625,
          0.23475502291152625,
          0.23722241804723299,
          0.23722241804723299,
          0.23792738808600636,
          0.23792738808600636,
          0.2400422982023264,
          0.2400422982023264,
          0.2414522382798731,
          0.2414522382798731,
          0.24356714839619317,
          0.24356714839619317,
          0.24427211843496652,
          0.24427211843496652,
          0.25026436376454003,
          0.25026436376454003,
          0.2509693338033134,
          0.2509693338033134,
          0.25414169897779343,
          0.25414169897779343,
          0.2580190341910469,
          0.2580190341910469,
          0.26189636940430033,
          0.26189636940430033,
          0.2650687345787804,
          0.2650687345787804,
          0.26577370461755373,
          0.26577370461755373,
          0.2678886147338738,
          0.2678886147338738,
          0.27106097990835387,
          0.27106097990835387,
          0.2724709199859006,
          0.2724709199859006,
          0.2749383151216073,
          0.2749383151216073,
          0.27564328516038067,
          0.27564328516038067,
          0.27811068029608743,
          0.27811068029608743,
          0.2795206203736341,
          0.2795206203736341,
          0.28269298554811423,
          0.28269298554811423,
          0.2833979555868876,
          0.2833979555868876,
          0.2855128657032076,
          0.2855128657032076,
          0.28727529080014097,
          0.28727529080014097,
          0.2932675361297145,
          0.2932675361297145,
          0.29432499118787453,
          0.29432499118787453,
          0.2946774762072612,
          0.2946774762072612,
          0.29643990130419456,
          0.29643990130419456,
          0.29679238632358124,
          0.29679238632358124,
          0.29961226647867467,
          0.29961226647867467,
          0.3006697215368347,
          0.3006697215368347,
          0.30243214663376805,
          0.30243214663376805,
          0.3027846316531547,
          0.3027846316531547,
          0.3063094818470215,
          0.3063094818470215,
          0.3091293620021149,
          0.3091293620021149,
          0.3098343320408883,
          0.3098343320408883,
          0.3119492421572083,
          0.3119492421572083,
          0.312301727176595,
          0.312301727176595,
          0.31300669721536833,
          0.31300669721536833,
          0.3137116672541417,
          0.3137116672541417,
          0.31406415227352835,
          0.31406415227352835,
          0.31723651744800846,
          0.31723651744800846,
          0.31864645752555515,
          0.31864645752555515,
          0.3189989425449418,
          0.3189989425449418,
          0.3211138526612619,
          0.3211138526612619,
          0.32217130771942193,
          0.32217130771942193,
          0.3239337328163553,
          0.3239337328163553,
          0.32781106802960874,
          0.32781106802960874,
          0.3281635530489954,
          0.3281635530489954,
          0.3285160380683821,
          0.3285160380683821,
          0.3313359182234755,
          0.3313359182234755,
          0.3316884032428622,
          0.3316884032428622,
          0.336270708494889,
          0.336270708494889,
          0.33803313359182235,
          0.33803313359182235,
          0.338385618611209,
          0.338385618611209,
          0.3387381036305957,
          0.3387381036305957,
          0.3457878040183292,
          0.3457878040183292,
          0.3468452590764893,
          0.3468452590764893,
          0.34860768417342264,
          0.34860768417342264,
          0.349312654212196,
          0.349312654212196,
          0.35671483961931616,
          0.35671483961931616,
          0.3581247796968629,
          0.3581247796968629,
          0.3609446598519563,
          0.3609446598519563,
          0.36164962989072963,
          0.36164962989072963,
          0.3620021149101163,
          0.3620021149101163,
          0.362354599929503,
          0.362354599929503,
          0.3655269651039831,
          0.3655269651039831,
          0.37187169545294324,
          0.37187169545294324,
          0.3746915756080367,
          0.3746915756080367,
          0.3771589707437434,
          0.3771589707437434,
          0.3778639407825167,
          0.3778639407825167,
          0.37856891082129007,
          0.37856891082129007,
          0.38068382093761016,
          0.38068382093761016,
          0.3870285512865703,
          0.3870285512865703,
          0.38773352132534367,
          0.38773352132534367,
          0.38914346140289036,
          0.38914346140289036,
          0.39125837151921045,
          0.39125837151921045,
          0.3930207966161438,
          0.3930207966161438,
          0.39584067677123724,
          0.39584067677123724,
          0.3979555868875573,
          0.3979555868875573,
          0.40148043708142406,
          0.40148043708142406,
          0.4021854071201974,
          0.4021854071201974,
          0.4032428621783574,
          0.4032428621783574,
          0.4035953471977441,
          0.4035953471977441,
          0.40394783221713076,
          0.40394783221713076,
          0.4050052872752908,
          0.4050052872752908,
          0.40606274233345085,
          0.40606274233345085,
          0.4092351075079309,
          0.4092351075079309,
          0.41099753260486427,
          0.41099753260486427,
          0.411350017624251,
          0.411350017624251,
          0.41170250264363767,
          0.41170250264363767,
          0.4127599577017977,
          0.4127599577017977,
          0.4141698977793444,
          0.4141698977793444,
          0.41452238279873105,
          0.41452238279873105,
          0.4152273528375044,
          0.4152273528375044,
          0.4166372929150511,
          0.4166372929150511,
          0.4169897779344378,
          0.4169897779344378,
          0.41769474797321116,
          0.41769474797321116,
          0.41804723299259783,
          0.41804723299259783,
          0.42016214310891786,
          0.42016214310891786,
          0.42051462812830454,
          0.42051462812830454,
          0.42157208318646455,
          0.42157208318646455,
          0.42333450828339797,
          0.42333450828339797,
          0.4258019034191047,
          0.4258019034191047,
          0.4275643285160381,
          0.4275643285160381,
          0.4286217835741981,
          0.4286217835741981,
          0.4314416637292915,
          0.4314416637292915,
          0.4324991187874515,
          0.4324991187874515,
          0.4346140289037716,
          0.4346140289037716,
          0.43531899894254494,
          0.43531899894254494,
          0.4356714839619316,
          0.4356714839619316,
          0.4370814240394783,
          0.4370814240394783,
          0.437433909058865,
          0.437433909058865,
          0.43849136411702505,
          0.43849136411702505,
          0.4388438491364117,
          0.4388438491364117,
          0.43990130419457174,
          0.43990130419457174,
          0.4402537892139584,
          0.4402537892139584,
          0.4416637292915051,
          0.4416637292915051,
          0.44836094465985193,
          0.44836094465985193,
          0.44906591469862533,
          0.44906591469862533,
          0.449418399718012,
          0.449418399718012,
          0.450475854776172,
          0.450475854776172,
          0.4508283397955587,
          0.4508283397955587,
          0.45153330983433204,
          0.45153330983433204,
          0.4518857948537187,
          0.4518857948537187,
          0.4532957349312654,
          0.4532957349312654,
          0.45470567500881215,
          0.45470567500881215,
          0.45611561508635884,
          0.45611561508635884,
          0.4564681001057455,
          0.4564681001057455,
          0.45717307014451886,
          0.45717307014451886,
          0.45858301022206555,
          0.45858301022206555,
          0.4589354952414522,
          0.4589354952414522,
          0.4592879802608389,
          0.4592879802608389,
          0.46034543531899896,
          0.46034543531899896,
          0.46457525555163903,
          0.46457525555163903,
          0.46633768064857245,
          0.46633768064857245,
          0.4666901656679591,
          0.4666901656679591,
          0.4670426506873458,
          0.4670426506873458,
          0.47091998590059925,
          0.47091998590059925,
          0.4726824109975326,
          0.4726824109975326,
          0.4776172012689461,
          0.4776172012689461,
          0.4783221713077194,
          0.4783221713077194,
          0.4786746563271061,
          0.4786746563271061,
          0.47902714134649277,
          0.47902714134649277,
          0.48043708142403946,
          0.48043708142403946,
          0.4811420514628128,
          0.4811420514628128,
          0.4832569615791329,
          0.4832569615791329,
          0.48360944659851957,
          0.48360944659851957,
          0.4867818117729997,
          0.4867818117729997,
          0.48819175185054636,
          0.48819175185054636,
          0.4913641170250264,
          0.4913641170250264,
          0.4917166020444131,
          0.4917166020444131,
          0.4920690870637998,
          0.4920690870637998,
          0.4938315121607332,
          0.4938315121607332,
          0.4959464222770532,
          0.4959464222770532,
          0.49735636235459996,
          0.49735636235459996,
          0.49841381741276,
          0.49841381741276,
          0.49876630243214665,
          0.49876630243214665,
          0.49947127247092,
          0.49947127247092,
          0.5019386676066268,
          0.5019386676066268,
          0.5026436376454001,
          0.5026436376454001,
          0.5037010927035601,
          0.5037010927035601,
          0.5040535777229468,
          0.5040535777229468,
          0.5058160028198802,
          0.5058160028198802,
          0.5086358829749735,
          0.5086358829749735,
          0.5121607331688404,
          0.5121607331688404,
          0.5142756432851604,
          0.5142756432851604,
          0.5146281283045471,
          0.5146281283045471,
          0.5170955234402538,
          0.5170955234402538,
          0.5178004934790271,
          0.5178004934790271,
          0.5181529784984138,
          0.5181529784984138,
          0.5185054635178005,
          0.5185054635178005,
          0.5188579485371871,
          0.5188579485371871,
          0.5206203736341205,
          0.5206203736341205,
          0.5216778286922806,
          0.5216778286922806,
          0.5230877687698273,
          0.5230877687698273,
          0.5252026788861474,
          0.5252026788861474,
          0.5273175890024674,
          0.5273175890024674,
          0.5287275290800141,
          0.5287275290800141,
          0.5311949242157208,
          0.5311949242157208,
          0.5340148043708143,
          0.5340148043708143,
          0.535424744448361,
          0.535424744448361,
          0.5371871695452943,
          0.5371871695452943,
          0.5382446246034543,
          0.5382446246034543,
          0.5410645047585477,
          0.5410645047585477,
          0.5417694747973211,
          0.5417694747973211,
          0.5424744448360944,
          0.5424744448360944,
          0.5428269298554811,
          0.5428269298554811,
          0.5435318998942545,
          0.5435318998942545,
          0.5445893549524146,
          0.5445893549524146,
          0.5456468100105746,
          0.5456468100105746,
          0.5463517800493479,
          0.5463517800493479,
          0.5477617201268946,
          0.5477617201268946,
          0.550581600281988,
          0.550581600281988,
          0.5519915403595347,
          0.5519915403595347,
          0.552696510398308,
          0.552696510398308,
          0.5551639055340148,
          0.5551639055340148,
          0.5565738456115615,
          0.5565738456115615,
          0.5579837856891082,
          0.5579837856891082,
          0.5604511808248149,
          0.5604511808248149,
          0.5611561508635883,
          0.5611561508635883,
          0.561508635882975,
          0.561508635882975,
          0.5629185759605216,
          0.5629185759605216,
          0.5632710609799083,
          0.5632710609799083,
          0.5639760310186817,
          0.5639760310186817,
          0.5660909411350018,
          0.5660909411350018,
          0.5671483961931618,
          0.5671483961931618,
          0.5678533662319352,
          0.5678533662319352,
          0.5706732463870285,
          0.5706732463870285,
          0.5710257314064152,
          0.5710257314064152,
          0.5713782164258019,
          0.5713782164258019,
          0.5724356714839619,
          0.5724356714839619,
          0.5727881565033486,
          0.5727881565033486,
          0.5738456115615086,
          0.5738456115615086,
          0.5745505816002819,
          0.5745505816002819,
          0.5752555516390553,
          0.5752555516390553,
          0.5759605216778287,
          0.5759605216778287,
          0.5763130066972154,
          0.5763130066972154,
          0.5780754317941488,
          0.5780754317941488,
          0.5787804018329221,
          0.5787804018329221,
          0.5794853718716955,
          0.5794853718716955,
          0.5798378568910821,
          0.5798378568910821,
          0.5830102220655622,
          0.5830102220655622,
          0.5851251321818822,
          0.5851251321818822,
          0.586535072259429,
          0.586535072259429,
          0.5872400422982024,
          0.5872400422982024,
          0.5879450123369757,
          0.5879450123369757,
          0.5907648924920691,
          0.5907648924920691,
          0.5914698625308424,
          0.5914698625308424,
          0.5918223475502291,
          0.5918223475502291,
          0.5925273175890025,
          0.5925273175890025,
          0.5932322876277758,
          0.5932322876277758,
          0.5942897426859358,
          0.5942897426859358,
          0.5946422277053225,
          0.5946422277053225,
          0.5953471977440958,
          0.5953471977440958,
          0.5967571378216425,
          0.5967571378216425,
          0.5978145928798027,
          0.5978145928798027,
          0.5988720479379627,
          0.5988720479379627,
          0.600634473034896,
          0.600634473034896,
          0.6009869580542827,
          0.6009869580542827,
          0.601691928093056,
          0.601691928093056,
          0.6023968981318294,
          0.6023968981318294,
          0.6031018681706027,
          0.6031018681706027,
          0.6034543531899894,
          0.6034543531899894,
          0.6038068382093761,
          0.6038068382093761,
          0.6048642932675361,
          0.6048642932675361,
          0.6052167782869228,
          0.6052167782869228,
          0.6059217483256961,
          0.6059217483256961,
          0.6069792033838561,
          0.6069792033838561,
          0.6087416284807896,
          0.6087416284807896,
          0.6097990835389496,
          0.6097990835389496,
          0.6140289037715897,
          0.6140289037715897,
          0.614733873810363,
          0.614733873810363,
          0.6157913288685231,
          0.6157913288685231,
          0.6164962989072964,
          0.6164962989072964,
          0.6168487839266831,
          0.6168487839266831,
          0.6172012689460697,
          0.6172012689460697,
          0.6179062389848431,
          0.6179062389848431,
          0.6189636940430032,
          0.6189636940430032,
          0.62248854423687,
          0.62248854423687,
          0.6238984843144166,
          0.6238984843144166,
          0.6274233345082834,
          0.6274233345082834,
          0.62777581952767,
          0.62777581952767,
          0.6281283045470567,
          0.6281283045470567,
          0.6284807895664434,
          0.6284807895664434,
          0.6295382446246035,
          0.6295382446246035,
          0.6305956996827635,
          0.6305956996827635,
          0.6309481847021502,
          0.6309481847021502,
          0.6313006697215369,
          0.6313006697215369,
          0.6316531547409235,
          0.6316531547409235,
          0.6327106097990836,
          0.6327106097990836,
          0.6337680648572436,
          0.6337680648572436,
          0.6341205498766302,
          0.6341205498766302,
          0.6344730348960169,
          0.6344730348960169,
          0.6351780049347903,
          0.6351780049347903,
          0.6362354599929503,
          0.6362354599929503,
          0.636587945012337,
          0.636587945012337,
          0.637645400070497,
          0.637645400070497,
          0.6379978850898836,
          0.6379978850898836,
          0.6390553401480437,
          0.6390553401480437,
          0.639760310186817,
          0.639760310186817,
          0.6404652802255905,
          0.6404652802255905,
          0.6411702502643638,
          0.6411702502643638,
          0.6415227352837505,
          0.6415227352837505,
          0.6418752203031372,
          0.6418752203031372,
          0.6422277053225238,
          0.6422277053225238,
          0.6429326753612972,
          0.6429326753612972,
          0.6446951004582305,
          0.6446951004582305,
          0.6454000704970039,
          0.6454000704970039,
          0.6489249206908706,
          0.6489249206908706,
          0.6517448008459641,
          0.6517448008459641,
          0.6520972858653508,
          0.6520972858653508,
          0.6528022559041241,
          0.6528022559041241,
          0.6531547409235108,
          0.6531547409235108,
          0.6556221360592175,
          0.6556221360592175,
          0.6563271060979908,
          0.6563271060979908,
          0.6584420162143109,
          0.6584420162143109,
          0.6594994712724709,
          0.6594994712724709,
          0.6623193514275644,
          0.6623193514275644,
          0.6637292915051111,
          0.6637292915051111,
          0.6647867465632711,
          0.6647867465632711,
          0.6651392315826578,
          0.6651392315826578,
          0.6665491716602044,
          0.6665491716602044,
          0.6679591117377511,
          0.6679591117377511,
          0.6690165667959111,
          0.6690165667959111,
          0.6704265068734578,
          0.6704265068734578,
          0.6707789918928445,
          0.6707789918928445,
          0.6711314769122312,
          0.6711314769122312,
          0.6718364469510045,
          0.6718364469510045,
          0.6721889319703913,
          0.6721889319703913,
          0.6739513570673247,
          0.6739513570673247,
          0.6760662671836447,
          0.6760662671836447,
          0.6764187522030314,
          0.6764187522030314,
          0.6771237222418047,
          0.6771237222418047,
          0.6774762072611914,
          0.6774762072611914,
          0.6792386323581248,
          0.6792386323581248,
          0.6795911173775114,
          0.6795911173775114,
          0.6802960874162848,
          0.6802960874162848,
          0.6817060274938315,
          0.6817060274938315,
          0.6820585125132181,
          0.6820585125132181,
          0.6824109975326048,
          0.6824109975326048,
          0.6827634825519915,
          0.6827634825519915,
          0.6831159675713783,
          0.6831159675713783,
          0.6838209376101516,
          0.6838209376101516,
          0.6841734226295383,
          0.6841734226295383,
          0.6862883327458583,
          0.6862883327458583,
          0.686640817765245,
          0.686640817765245,
          0.6869933027846317,
          0.6869933027846317,
          0.6873457878040183,
          0.6873457878040183,
          0.6891082129009517,
          0.6891082129009517,
          0.6905181529784984,
          0.6905181529784984,
          0.6912231230172717,
          0.6912231230172717,
          0.6915756080366584,
          0.6915756080366584,
          0.6922805780754318,
          0.6922805780754318,
          0.6926330630948184,
          0.6926330630948184,
          0.6940430031723652,
          0.6940430031723652,
          0.6947479732111386,
          0.6947479732111386,
          0.6951004582305252,
          0.6951004582305252,
          0.6954529432499119,
          0.6954529432499119,
          0.6961579132886853,
          0.6961579132886853,
          0.697567853366232,
          0.697567853366232,
          0.6979203383856186,
          0.6979203383856186,
          0.6982728234050053,
          0.6982728234050053,
          0.7000352485019387,
          0.7000352485019387,
          0.7003877335213253,
          0.7003877335213253,
          0.700740218540712,
          0.700740218540712,
          0.7021501586182587,
          0.7021501586182587,
          0.7025026436376454,
          0.7025026436376454,
          0.702855128657032,
          0.702855128657032,
          0.7046175537539655,
          0.7046175537539655,
          0.7060274938315122,
          0.7060274938315122,
          0.7063799788508989,
          0.7063799788508989,
          0.7067324638702855,
          0.7067324638702855,
          0.7077899189284456,
          0.7077899189284456,
          0.7106097990835389,
          0.7106097990835389,
          0.7109622841029256,
          0.7109622841029256,
          0.7120197391610856,
          0.7120197391610856,
          0.7123722241804723,
          0.7123722241804723,
          0.7134296792386323,
          0.7134296792386323,
          0.713782164258019,
          0.713782164258019,
          0.714839619316179,
          0.714839619316179,
          0.7158970743743391,
          0.7158970743743391,
          0.7162495593937258,
          0.7162495593937258,
          0.7166020444131125,
          0.7166020444131125,
          0.7169545294324992,
          0.7169545294324992,
          0.7173070144518858,
          0.7173070144518858,
          0.7180119844906592,
          0.7180119844906592,
          0.7183644695100458,
          0.7183644695100458,
          0.7187169545294325,
          0.7187169545294325,
          0.7197744095875925,
          0.7197744095875925,
          0.7208318646457526,
          0.7208318646457526,
          0.7211843496651392,
          0.7211843496651392,
          0.7215368346845259,
          0.7215368346845259,
          0.7225942897426859,
          0.7225942897426859,
          0.7250616848783926,
          0.7250616848783926,
          0.7254141698977793,
          0.7254141698977793,
          0.7264716249559394,
          0.7264716249559394,
          0.7271765949947128,
          0.7271765949947128,
          0.7278815650334861,
          0.7278815650334861,
          0.7296439901304195,
          0.7296439901304195,
          0.7303489601691928,
          0.7303489601691928,
          0.7307014451885795,
          0.7307014451885795,
          0.7310539302079662,
          0.7310539302079662,
          0.7314064152273528,
          0.7314064152273528,
          0.7331688403242862,
          0.7331688403242862,
          0.7349312654212196,
          0.7349312654212196,
          0.7352837504406062,
          0.7352837504406062,
          0.7359887204793796,
          0.7359887204793796,
          0.736693690518153,
          0.736693690518153,
          0.737751145576313,
          0.737751145576313,
          0.7398660556926331,
          0.7398660556926331,
          0.7405710257314064,
          0.7405710257314064,
          0.7409235107507931,
          0.7409235107507931,
          0.7412759957701798,
          0.7412759957701798,
          0.7416284807895664,
          0.7416284807895664,
          0.7426859358477265,
          0.7426859358477265,
          0.7433909058864998,
          0.7433909058864998,
          0.7448008459640465,
          0.7448008459640465,
          0.7458583010222065,
          0.7458583010222065,
          0.7472682410997532,
          0.7472682410997532,
          0.74762072611914,
          0.74762072611914,
          0.7479732111385267,
          0.7479732111385267,
          0.7486781811773,
          0.7486781811773,
          0.7490306661966867,
          0.7490306661966867,
          0.7493831512160734,
          0.7493831512160734,
          0.7504406062742334,
          0.7504406062742334,
          0.7511455763130067,
          0.7511455763130067,
          0.7514980613323934,
          0.7514980613323934,
          0.7529080014099401,
          0.7529080014099401,
          0.7532604864293267,
          0.7532604864293267,
          0.7536129714487134,
          0.7536129714487134,
          0.7546704265068734,
          0.7546704265068734,
          0.7560803665844201,
          0.7560803665844201,
          0.7571378216425801,
          0.7571378216425801,
          0.7574903066619668,
          0.7574903066619668,
          0.7578427916813535,
          0.7578427916813535,
          0.7581952767007403,
          0.7581952767007403,
          0.758547761720127,
          0.758547761720127,
          0.7589002467395136,
          0.7589002467395136,
          0.7599577017976736,
          0.7599577017976736,
          0.7599577017976736,
          0.7603101868170603,
          0.7603101868170603,
          0.760662671836447,
          0.760662671836447,
          0.762777581952767,
          0.762777581952767,
          0.7634825519915404,
          0.7634825519915404,
          0.7645400070497004,
          0.7645400070497004,
          0.7655974621078604,
          0.7655974621078604,
          0.7677123722241804,
          0.7677123722241804,
          0.7694747973211139,
          0.7694747973211139,
          0.7705322523792739,
          0.7705322523792739,
          0.7719421924568206,
          0.7719421924568206,
          0.7733521325343673,
          0.7733521325343673,
          0.773704617553754,
          0.773704617553754,
          0.7744095875925273,
          0.7744095875925273,
          0.774762072611914,
          0.774762072611914,
          0.7751145576313007,
          0.7751145576313007,
          0.775819527670074,
          0.775819527670074,
          0.7765244977088473,
          0.7765244977088473,
          0.776876982728234,
          0.776876982728234,
          0.7772294677476207,
          0.7772294677476207,
          0.7775819527670074,
          0.7775819527670074,
          0.777934437786394,
          0.777934437786394,
          0.7782869228057807,
          0.7782869228057807,
          0.7786394078251674,
          0.7786394078251674,
          0.7796968628833275,
          0.7796968628833275,
          0.7814592879802609,
          0.7814592879802609,
          0.7835741980965809,
          0.7835741980965809,
          0.7839266831159676,
          0.7839266831159676,
          0.7842791681353543,
          0.7842791681353543,
          0.7849841381741276,
          0.7849841381741276,
          0.7856891082129009,
          0.7856891082129009,
          0.7863940782516743,
          0.7863940782516743,
          0.7870990482904476,
          0.7870990482904476,
          0.7881565033486077,
          0.7881565033486077,
          0.7885089883679943,
          0.7885089883679943,
          0.788861473387381,
          0.788861473387381,
          0.7892139584067677,
          0.7892139584067677,
          0.7895664434261543,
          0.7895664434261543,
          0.7902714134649277,
          0.7902714134649277,
          0.7930912936200212,
          0.7930912936200212,
          0.7934437786394078,
          0.7934437786394078,
          0.7937962636587945,
          0.7937962636587945,
          0.7952062037363412,
          0.7952062037363412,
          0.7955586887557279,
          0.7955586887557279,
          0.7969686288332746,
          0.7969686288332746,
          0.7983785689108213,
          0.7983785689108213,
          0.7990835389495946,
          0.7990835389495946,
          0.7994360239689813,
          0.7994360239689813,
          0.799788508988368,
          0.799788508988368,
          0.8004934790271413,
          0.8004934790271413,
          0.8022559041240748,
          0.8022559041240748,
          0.8026083891434614,
          0.8026083891434614,
          0.8029608741628481,
          0.8029608741628481,
          0.8036658442016215,
          0.8036658442016215,
          0.8040183292210081,
          0.8040183292210081,
          0.8043708142403948,
          0.8043708142403948,
          0.8050757842791681,
          0.8050757842791681,
          0.8057807543179415,
          0.8057807543179415,
          0.8061332393373282,
          0.8061332393373282,
          0.8075431794148749,
          0.8075431794148749,
          0.8086006344730349,
          0.8086006344730349,
          0.8096580895311949,
          0.8096580895311949,
          0.8107155445893549,
          0.8107155445893549,
          0.8117729996475149,
          0.8117729996475149,
          0.8121254846669017,
          0.8121254846669017,
          0.8124779696862884,
          0.8124779696862884,
          0.8131829397250617,
          0.8131829397250617,
          0.8145928798026084,
          0.8145928798026084,
          0.8149453648219951,
          0.8149453648219951,
          0.8160028198801551,
          0.8160028198801551,
          0.8163553048995418,
          0.8163553048995418,
          0.8170602749383151,
          0.8170602749383151,
          0.8184702150158618,
          0.8184702150158618,
          0.8191751850546352,
          0.8191751850546352,
          0.8205851251321818,
          0.8205851251321818,
          0.8223475502291152,
          0.8223475502291152,
          0.8244624603454354,
          0.8244624603454354,
          0.8272823405005287,
          0.8272823405005287,
          0.8283397955586888,
          0.8283397955586888,
          0.8293972506168488,
          0.8293972506168488,
          0.8301022206556221,
          0.8301022206556221,
          0.8308071906943955,
          0.8308071906943955,
          0.8315121607331688,
          0.8315121607331688,
          0.8325696157913288,
          0.8325696157913288,
          0.8329221008107155,
          0.8329221008107155,
          0.8332745858301022,
          0.8332745858301022,
          0.8339795558688756,
          0.8339795558688756,
          0.8343320408882623,
          0.8343320408882623,
          0.834684525907649,
          0.834684525907649,
          0.8350370109270356,
          0.8350370109270356,
          0.8364469510045823,
          0.8364469510045823,
          0.8371519210433557,
          0.8371519210433557,
          0.8375044060627423,
          0.8375044060627423,
          0.8382093761015157,
          0.8382093761015157,
          0.8392668311596757,
          0.8392668311596757,
          0.8396193161790624,
          0.8396193161790624,
          0.8427916813535424,
          0.8427916813535424,
          0.8431441663729291,
          0.8431441663729291,
          0.8445541064504759,
          0.8445541064504759,
          0.8449065914698626,
          0.8449065914698626,
          0.8452590764892493,
          0.8452590764892493,
          0.8459640465280226,
          0.8459640465280226,
          0.8466690165667959,
          0.8466690165667959,
          0.8470215015861826,
          0.8470215015861826,
          0.847726471624956,
          0.847726471624956,
          0.848783926683116,
          0.848783926683116,
          0.8491364117025026,
          0.8491364117025026,
          0.849841381741276,
          0.849841381741276,
          0.850898836799436,
          0.850898836799436,
          0.8516038068382094,
          0.8516038068382094,
          0.8523087768769827,
          0.8523087768769827,
          0.8537187169545294,
          0.8537187169545294,
          0.8540712019739161,
          0.8540712019739161,
          0.8544236869933027,
          0.8544236869933027,
          0.8547761720126894,
          0.8547761720126894,
          0.8551286570320762,
          0.8551286570320762,
          0.8554811420514629,
          0.8554811420514629,
          0.8565385971096229,
          0.8565385971096229,
          0.8583010222065562,
          0.8583010222065562,
          0.8593584772647163,
          0.8593584772647163,
          0.8597109622841029,
          0.8597109622841029,
          0.8600634473034896,
          0.8600634473034896,
          0.860768417342263,
          0.860768417342263,
          0.8614733873810363,
          0.8614733873810363,
          0.8632358124779697,
          0.8632358124779697,
          0.8653507225942897,
          0.8653507225942897,
          0.8657032076136765,
          0.8657032076136765,
          0.8664081776524498,
          0.8664081776524498,
          0.8678181177299965,
          0.8678181177299965,
          0.8681706027493832,
          0.8681706027493832,
          0.8688755727881565,
          0.8688755727881565,
          0.8702855128657032,
          0.8702855128657032,
          0.8706379978850899,
          0.8706379978850899,
          0.8709904829044766,
          0.8709904829044766,
          0.8713429679238632,
          0.8713429679238632,
          0.8716954529432499,
          0.8716954529432499,
          0.8720479379626366,
          0.8720479379626366,
          0.8727529080014099,
          0.8727529080014099,
          0.8731053930207966,
          0.8731053930207966,
          0.8745153330983433,
          0.8745153330983433,
          0.8755727881565033,
          0.8755727881565033,
          0.87592527317589,
          0.87592527317589,
          0.8762777581952766,
          0.8762777581952766,
          0.8773352132534368,
          0.8773352132534368,
          0.8780401832922101,
          0.8780401832922101,
          0.8787451533309835,
          0.8787451533309835,
          0.8794501233697568,
          0.8794501233697568,
          0.8798026083891435,
          0.8798026083891435,
          0.8801550934085302,
          0.8801550934085302,
          0.8805075784279168,
          0.8805075784279168,
          0.8812125484666902,
          0.8812125484666902,
          0.8819175185054635,
          0.8819175185054635,
          0.8822700035248502,
          0.8822700035248502,
          0.8826224885442369,
          0.8826224885442369,
          0.8829749735636235,
          0.8829749735636235,
          0.8833274585830102,
          0.8833274585830102,
          0.8840324286217836,
          0.8840324286217836,
          0.8843849136411702,
          0.8843849136411702,
          0.8847373986605569,
          0.8847373986605569,
          0.8854423686993302,
          0.8854423686993302,
          0.8861473387381036,
          0.8861473387381036,
          0.8875572788156504,
          0.8875572788156504,
          0.8879097638350371,
          0.8879097638350371,
          0.8882622488544237,
          0.8882622488544237,
          0.8886147338738104,
          0.8886147338738104,
          0.8889672188931971,
          0.8889672188931971,
          0.8893197039125837,
          0.8893197039125837,
          0.8896721889319704,
          0.8896721889319704,
          0.8910821290095171,
          0.8910821290095171,
          0.8914346140289038,
          0.8914346140289038,
          0.8917870990482905,
          0.8917870990482905,
          0.8924920690870638,
          0.8924920690870638,
          0.8935495241452238,
          0.8935495241452238,
          0.8942544941839972,
          0.8942544941839972,
          0.8946069792033838,
          0.8946069792033838,
          0.8949594642227705,
          0.8949594642227705,
          0.8960169192809305,
          0.8960169192809305,
          0.8974268593584772,
          0.8974268593584772,
          0.8977793443778639,
          0.8977793443778639,
          0.8981318293972507,
          0.8981318293972507,
          0.8984843144166373,
          0.8984843144166373,
          0.898836799436024,
          0.898836799436024,
          0.8991892844554107,
          0.8991892844554107,
          0.899894254494184,
          0.899894254494184,
          0.9002467395135707,
          0.9002467395135707,
          0.900951709552344,
          0.900951709552344,
          0.9013041945717307,
          0.9013041945717307,
          0.9016566795911174,
          0.9016566795911174,
          0.9027141346492774,
          0.9027141346492774,
          0.9030666196686641,
          0.9030666196686641,
          0.9041240747268241,
          0.9041240747268241,
          0.9065914698625308,
          0.9065914698625308,
          0.9072964399013042,
          0.9072964399013042,
          0.9080014099400775,
          0.9080014099400775,
          0.908706379978851,
          0.908706379978851,
          0.9090588649982376,
          0.9090588649982376,
          0.9101163200563976,
          0.9101163200563976,
          0.911878745153331,
          0.911878745153331,
          0.912936200211491,
          0.912936200211491,
          0.9132886852308777,
          0.9132886852308777,
          0.9136411702502644,
          0.9136411702502644,
          0.913993655269651,
          0.913993655269651,
          0.9146986253084244,
          0.9146986253084244,
          0.9150511103278111,
          0.9150511103278111,
          0.9157560803665844,
          0.9157560803665844,
          0.9164610504053577,
          0.9164610504053577,
          0.9171660204441311,
          0.9171660204441311,
          0.9178709904829044,
          0.9178709904829044,
          0.9182234755022911,
          0.9182234755022911,
          0.9185759605216778,
          0.9185759605216778,
          0.9189284455410645,
          0.9189284455410645,
          0.9192809305604511,
          0.9192809305604511,
          0.9196334155798379,
          0.9196334155798379,
          0.9199859005992246,
          0.9199859005992246,
          0.9203383856186113,
          0.9203383856186113,
          0.9206908706379979,
          0.9206908706379979,
          0.9213958406767713,
          0.9213958406767713,
          0.9217483256961579,
          0.9217483256961579,
          0.9221008107155446,
          0.9221008107155446,
          0.9224532957349313,
          0.9224532957349313,
          0.9231582657737046,
          0.9231582657737046,
          0.9235107507930913,
          0.9235107507930913,
          0.923863235812478,
          0.923863235812478,
          0.9242157208318647,
          0.9242157208318647,
          0.9245682058512513,
          0.9245682058512513,
          0.924920690870638,
          0.924920690870638,
          0.925978145928798,
          0.925978145928798,
          0.9263306309481847,
          0.9263306309481847,
          0.9266831159675714,
          0.9266831159675714,
          0.927035600986958,
          0.927035600986958,
          0.928093056045118,
          0.928093056045118,
          0.9295029961226647,
          0.9295029961226647,
          0.9298554811420514,
          0.9298554811420514,
          0.9305604511808249,
          0.9305604511808249,
          0.9309129362002115,
          0.9309129362002115,
          0.9312654212195982,
          0.9312654212195982,
          0.9316179062389849,
          0.9316179062389849,
          0.9323228762777582,
          0.9323228762777582,
          0.9326753612971449,
          0.9326753612971449,
          0.9333803313359182,
          0.9333803313359182,
          0.9340853013746916,
          0.9340853013746916,
          0.9344377863940783,
          0.9344377863940783,
          0.9351427564328516,
          0.9351427564328516,
          0.9354952414522383,
          0.9354952414522383,
          0.9362002114910116,
          0.9362002114910116,
          0.9365526965103983,
          0.9365526965103983,
          0.9372576665491716,
          0.9372576665491716,
          0.9376101515685583,
          0.9376101515685583,
          0.937962636587945,
          0.937962636587945,
          0.9383151216073317,
          0.9383151216073317,
          0.939020091646105,
          0.939020091646105,
          0.9397250616848783,
          0.9397250616848783,
          0.940077546704265,
          0.940077546704265,
          0.9404300317236517,
          0.9404300317236517,
          0.9411350017624251,
          0.9411350017624251,
          0.9425449418399718,
          0.9425449418399718,
          0.9428974268593585,
          0.9428974268593585,
          0.9436023968981319,
          0.9436023968981319,
          0.9439548819175185,
          0.9439548819175185,
          0.9443073669369052,
          0.9443073669369052,
          0.9450123369756785,
          0.9450123369756785,
          0.9460697920338386,
          0.9460697920338386,
          0.9464222770532252,
          0.9464222770532252,
          0.9467747620726119,
          0.9467747620726119,
          0.9471272470919986,
          0.9471272470919986,
          0.9474797321113853,
          0.9474797321113853,
          0.9478322171307719,
          0.9478322171307719,
          0.9481847021501586,
          0.9481847021501586,
          0.9485371871695453,
          0.9485371871695453,
          0.9492421572083186,
          0.9492421572083186,
          0.9495946422277053,
          0.9495946422277053,
          0.9513570673246386,
          0.9513570673246386,
          0.9520620373634121,
          0.9520620373634121,
          0.9527670074021855,
          0.9527670074021855,
          0.9531194924215721,
          0.9531194924215721,
          0.9534719774409588,
          0.9534719774409588,
          0.9541769474797321,
          0.9541769474797321,
          0.9555868875572788,
          0.9555868875572788,
          0.9559393725766655,
          0.9559393725766655,
          0.9562918575960522,
          0.9562918575960522,
          0.9566443426154388,
          0.9566443426154388,
          0.9569968276348255,
          0.9569968276348255,
          0.9573493126542122,
          0.9573493126542122,
          0.9577017976735989,
          0.9577017976735989,
          0.9580542826929855,
          0.9580542826929855,
          0.9587592527317589,
          0.9587592527317589,
          0.9594642227705322,
          0.9594642227705322,
          0.9601691928093056,
          0.9601691928093056,
          0.9605216778286922,
          0.9605216778286922,
          0.9608741628480789,
          0.9608741628480789,
          0.9612266478674656,
          0.9612266478674656,
          0.9615791328868523,
          0.9615791328868523,
          0.9626365879450124,
          0.9626365879450124,
          0.9647514980613324,
          0.9647514980613324,
          0.9654564681001058,
          0.9654564681001058,
          0.9672188931970391,
          0.9672188931970391,
          0.9675713782164258,
          0.9675713782164258,
          0.9686288332745858,
          0.9686288332745858,
          0.9689813182939725,
          0.9689813182939725,
          0.9693338033133592,
          0.9693338033133592,
          0.9696862883327458,
          0.9696862883327458,
          0.9703912583715192,
          0.9703912583715192,
          0.9707437433909059,
          0.9707437433909059,
          0.9710962284102925,
          0.9710962284102925,
          0.9718011984490659,
          0.9718011984490659,
          0.9725061684878392,
          0.9725061684878392,
          0.9732111385266127,
          0.9732111385266127,
          0.9742685935847727,
          0.9742685935847727,
          0.974973563623546,
          0.974973563623546,
          0.976031018681706,
          0.976031018681706,
          0.9763835037010927,
          0.9763835037010927,
          0.9770884737398661,
          0.9770884737398661,
          0.9774409587592527,
          0.9774409587592527,
          0.9777934437786394,
          0.9777934437786394,
          0.9781459287980261,
          0.9781459287980261,
          0.9784984138174128,
          0.9784984138174128,
          0.9802608389143461,
          0.9802608389143461,
          0.9806133239337328,
          0.9806133239337328,
          0.9809658089531195,
          0.9809658089531195,
          0.9813182939725061,
          0.9813182939725061,
          0.9827282340500528,
          0.9827282340500528,
          0.984843144166373,
          0.984843144166373,
          0.9855481142051463,
          0.9855481142051463,
          0.985900599224533,
          0.985900599224533,
          0.9862530842439197,
          0.9862530842439197,
          0.9876630243214664,
          0.9876630243214664,
          0.9883679943602397,
          0.9883679943602397,
          0.989072964399013,
          0.989072964399013,
          0.9894254494183997,
          0.9894254494183997,
          0.9901304194571731,
          0.9901304194571731,
          0.9918928445541064,
          0.9918928445541064,
          0.9929502996122664,
          0.9929502996122664,
          0.9933027846316531,
          0.9933027846316531,
          0.9936552696510398,
          0.9936552696510398,
          0.9940077546704265,
          0.9940077546704265,
          0.9947127247091999,
          0.9947127247091999,
          0.9950652097285866,
          0.9950652097285866,
          0.9954176947479733,
          0.9954176947479733,
          0.9957701797673599,
          0.9957701797673599,
          0.9964751498061333,
          0.9964751498061333,
          0.99682763482552,
          0.99682763482552,
          0.9971801198449066,
          0.9971801198449066,
          0.9975326048642933,
          0.9975326048642933,
          0.99788508988368,
          0.99788508988368,
          0.9982375749030666,
          0.9982375749030666,
          0.9985900599224533,
          0.9985900599224533,
          0.99894254494184,
          0.99894254494184,
          0.9992950299612267,
          0.9992950299612267,
          0.9996475149806133,
          0.9996475149806133,
          1,
          1
         ]
        },
        {
         "line": {
          "dash": "dash"
         },
         "mode": "lines",
         "name": "Random Classifier",
         "type": "scatter",
         "x": [
          0,
          1
         ],
         "y": [
          0,
          1
         ]
        }
       ],
       "layout": {
        "height": 1000,
        "legend": {
         "title": {
          "text": "Curves"
         }
        },
        "template": {
         "data": {
          "bar": [
           {
            "error_x": {
             "color": "rgb(36,36,36)"
            },
            "error_y": {
             "color": "rgb(36,36,36)"
            },
            "marker": {
             "line": {
              "color": "rgb(234,234,242)",
              "width": 0.5
             },
             "pattern": {
              "fillmode": "overlay",
              "size": 10,
              "solidity": 0.2
             }
            },
            "type": "bar"
           }
          ],
          "barpolar": [
           {
            "marker": {
             "line": {
              "color": "rgb(234,234,242)",
              "width": 0.5
             },
             "pattern": {
              "fillmode": "overlay",
              "size": 10,
              "solidity": 0.2
             }
            },
            "type": "barpolar"
           }
          ],
          "carpet": [
           {
            "aaxis": {
             "endlinecolor": "rgb(36,36,36)",
             "gridcolor": "white",
             "linecolor": "white",
             "minorgridcolor": "white",
             "startlinecolor": "rgb(36,36,36)"
            },
            "baxis": {
             "endlinecolor": "rgb(36,36,36)",
             "gridcolor": "white",
             "linecolor": "white",
             "minorgridcolor": "white",
             "startlinecolor": "rgb(36,36,36)"
            },
            "type": "carpet"
           }
          ],
          "choropleth": [
           {
            "colorbar": {
             "outlinewidth": 0,
             "tickcolor": "rgb(36,36,36)",
             "ticklen": 8,
             "ticks": "outside",
             "tickwidth": 2
            },
            "type": "choropleth"
           }
          ],
          "contour": [
           {
            "colorbar": {
             "outlinewidth": 0,
             "tickcolor": "rgb(36,36,36)",
             "ticklen": 8,
             "ticks": "outside",
             "tickwidth": 2
            },
            "colorscale": [
             [
              0,
              "rgb(2,4,25)"
             ],
             [
              0.06274509803921569,
              "rgb(24,15,41)"
             ],
             [
              0.12549019607843137,
              "rgb(47,23,57)"
             ],
             [
              0.18823529411764706,
              "rgb(71,28,72)"
             ],
             [
              0.25098039215686274,
              "rgb(97,30,82)"
             ],
             [
              0.3137254901960784,
              "rgb(123,30,89)"
             ],
             [
              0.3764705882352941,
              "rgb(150,27,91)"
             ],
             [
              0.4392156862745098,
              "rgb(177,22,88)"
             ],
             [
              0.5019607843137255,
              "rgb(203,26,79)"
             ],
             [
              0.5647058823529412,
              "rgb(223,47,67)"
             ],
             [
              0.6274509803921569,
              "rgb(236,76,61)"
             ],
             [
              0.6901960784313725,
              "rgb(242,107,73)"
             ],
             [
              0.7529411764705882,
              "rgb(244,135,95)"
             ],
             [
              0.8156862745098039,
              "rgb(245,162,122)"
             ],
             [
              0.8784313725490196,
              "rgb(246,188,153)"
             ],
             [
              0.9411764705882353,
              "rgb(247,212,187)"
             ],
             [
              1,
              "rgb(250,234,220)"
             ]
            ],
            "type": "contour"
           }
          ],
          "contourcarpet": [
           {
            "colorbar": {
             "outlinewidth": 0,
             "tickcolor": "rgb(36,36,36)",
             "ticklen": 8,
             "ticks": "outside",
             "tickwidth": 2
            },
            "type": "contourcarpet"
           }
          ],
          "heatmap": [
           {
            "colorbar": {
             "outlinewidth": 0,
             "tickcolor": "rgb(36,36,36)",
             "ticklen": 8,
             "ticks": "outside",
             "tickwidth": 2
            },
            "colorscale": [
             [
              0,
              "rgb(2,4,25)"
             ],
             [
              0.06274509803921569,
              "rgb(24,15,41)"
             ],
             [
              0.12549019607843137,
              "rgb(47,23,57)"
             ],
             [
              0.18823529411764706,
              "rgb(71,28,72)"
             ],
             [
              0.25098039215686274,
              "rgb(97,30,82)"
             ],
             [
              0.3137254901960784,
              "rgb(123,30,89)"
             ],
             [
              0.3764705882352941,
              "rgb(150,27,91)"
             ],
             [
              0.4392156862745098,
              "rgb(177,22,88)"
             ],
             [
              0.5019607843137255,
              "rgb(203,26,79)"
             ],
             [
              0.5647058823529412,
              "rgb(223,47,67)"
             ],
             [
              0.6274509803921569,
              "rgb(236,76,61)"
             ],
             [
              0.6901960784313725,
              "rgb(242,107,73)"
             ],
             [
              0.7529411764705882,
              "rgb(244,135,95)"
             ],
             [
              0.8156862745098039,
              "rgb(245,162,122)"
             ],
             [
              0.8784313725490196,
              "rgb(246,188,153)"
             ],
             [
              0.9411764705882353,
              "rgb(247,212,187)"
             ],
             [
              1,
              "rgb(250,234,220)"
             ]
            ],
            "type": "heatmap"
           }
          ],
          "heatmapgl": [
           {
            "colorbar": {
             "outlinewidth": 0,
             "tickcolor": "rgb(36,36,36)",
             "ticklen": 8,
             "ticks": "outside",
             "tickwidth": 2
            },
            "colorscale": [
             [
              0,
              "rgb(2,4,25)"
             ],
             [
              0.06274509803921569,
              "rgb(24,15,41)"
             ],
             [
              0.12549019607843137,
              "rgb(47,23,57)"
             ],
             [
              0.18823529411764706,
              "rgb(71,28,72)"
             ],
             [
              0.25098039215686274,
              "rgb(97,30,82)"
             ],
             [
              0.3137254901960784,
              "rgb(123,30,89)"
             ],
             [
              0.3764705882352941,
              "rgb(150,27,91)"
             ],
             [
              0.4392156862745098,
              "rgb(177,22,88)"
             ],
             [
              0.5019607843137255,
              "rgb(203,26,79)"
             ],
             [
              0.5647058823529412,
              "rgb(223,47,67)"
             ],
             [
              0.6274509803921569,
              "rgb(236,76,61)"
             ],
             [
              0.6901960784313725,
              "rgb(242,107,73)"
             ],
             [
              0.7529411764705882,
              "rgb(244,135,95)"
             ],
             [
              0.8156862745098039,
              "rgb(245,162,122)"
             ],
             [
              0.8784313725490196,
              "rgb(246,188,153)"
             ],
             [
              0.9411764705882353,
              "rgb(247,212,187)"
             ],
             [
              1,
              "rgb(250,234,220)"
             ]
            ],
            "type": "heatmapgl"
           }
          ],
          "histogram": [
           {
            "marker": {
             "pattern": {
              "fillmode": "overlay",
              "size": 10,
              "solidity": 0.2
             }
            },
            "type": "histogram"
           }
          ],
          "histogram2d": [
           {
            "colorbar": {
             "outlinewidth": 0,
             "tickcolor": "rgb(36,36,36)",
             "ticklen": 8,
             "ticks": "outside",
             "tickwidth": 2
            },
            "colorscale": [
             [
              0,
              "rgb(2,4,25)"
             ],
             [
              0.06274509803921569,
              "rgb(24,15,41)"
             ],
             [
              0.12549019607843137,
              "rgb(47,23,57)"
             ],
             [
              0.18823529411764706,
              "rgb(71,28,72)"
             ],
             [
              0.25098039215686274,
              "rgb(97,30,82)"
             ],
             [
              0.3137254901960784,
              "rgb(123,30,89)"
             ],
             [
              0.3764705882352941,
              "rgb(150,27,91)"
             ],
             [
              0.4392156862745098,
              "rgb(177,22,88)"
             ],
             [
              0.5019607843137255,
              "rgb(203,26,79)"
             ],
             [
              0.5647058823529412,
              "rgb(223,47,67)"
             ],
             [
              0.6274509803921569,
              "rgb(236,76,61)"
             ],
             [
              0.6901960784313725,
              "rgb(242,107,73)"
             ],
             [
              0.7529411764705882,
              "rgb(244,135,95)"
             ],
             [
              0.8156862745098039,
              "rgb(245,162,122)"
             ],
             [
              0.8784313725490196,
              "rgb(246,188,153)"
             ],
             [
              0.9411764705882353,
              "rgb(247,212,187)"
             ],
             [
              1,
              "rgb(250,234,220)"
             ]
            ],
            "type": "histogram2d"
           }
          ],
          "histogram2dcontour": [
           {
            "colorbar": {
             "outlinewidth": 0,
             "tickcolor": "rgb(36,36,36)",
             "ticklen": 8,
             "ticks": "outside",
             "tickwidth": 2
            },
            "colorscale": [
             [
              0,
              "rgb(2,4,25)"
             ],
             [
              0.06274509803921569,
              "rgb(24,15,41)"
             ],
             [
              0.12549019607843137,
              "rgb(47,23,57)"
             ],
             [
              0.18823529411764706,
              "rgb(71,28,72)"
             ],
             [
              0.25098039215686274,
              "rgb(97,30,82)"
             ],
             [
              0.3137254901960784,
              "rgb(123,30,89)"
             ],
             [
              0.3764705882352941,
              "rgb(150,27,91)"
             ],
             [
              0.4392156862745098,
              "rgb(177,22,88)"
             ],
             [
              0.5019607843137255,
              "rgb(203,26,79)"
             ],
             [
              0.5647058823529412,
              "rgb(223,47,67)"
             ],
             [
              0.6274509803921569,
              "rgb(236,76,61)"
             ],
             [
              0.6901960784313725,
              "rgb(242,107,73)"
             ],
             [
              0.7529411764705882,
              "rgb(244,135,95)"
             ],
             [
              0.8156862745098039,
              "rgb(245,162,122)"
             ],
             [
              0.8784313725490196,
              "rgb(246,188,153)"
             ],
             [
              0.9411764705882353,
              "rgb(247,212,187)"
             ],
             [
              1,
              "rgb(250,234,220)"
             ]
            ],
            "type": "histogram2dcontour"
           }
          ],
          "mesh3d": [
           {
            "colorbar": {
             "outlinewidth": 0,
             "tickcolor": "rgb(36,36,36)",
             "ticklen": 8,
             "ticks": "outside",
             "tickwidth": 2
            },
            "type": "mesh3d"
           }
          ],
          "parcoords": [
           {
            "line": {
             "colorbar": {
              "outlinewidth": 0,
              "tickcolor": "rgb(36,36,36)",
              "ticklen": 8,
              "ticks": "outside",
              "tickwidth": 2
             }
            },
            "type": "parcoords"
           }
          ],
          "pie": [
           {
            "automargin": true,
            "type": "pie"
           }
          ],
          "scatter": [
           {
            "fillpattern": {
             "fillmode": "overlay",
             "size": 10,
             "solidity": 0.2
            },
            "type": "scatter"
           }
          ],
          "scatter3d": [
           {
            "line": {
             "colorbar": {
              "outlinewidth": 0,
              "tickcolor": "rgb(36,36,36)",
              "ticklen": 8,
              "ticks": "outside",
              "tickwidth": 2
             }
            },
            "marker": {
             "colorbar": {
              "outlinewidth": 0,
              "tickcolor": "rgb(36,36,36)",
              "ticklen": 8,
              "ticks": "outside",
              "tickwidth": 2
             }
            },
            "type": "scatter3d"
           }
          ],
          "scattercarpet": [
           {
            "marker": {
             "colorbar": {
              "outlinewidth": 0,
              "tickcolor": "rgb(36,36,36)",
              "ticklen": 8,
              "ticks": "outside",
              "tickwidth": 2
             }
            },
            "type": "scattercarpet"
           }
          ],
          "scattergeo": [
           {
            "marker": {
             "colorbar": {
              "outlinewidth": 0,
              "tickcolor": "rgb(36,36,36)",
              "ticklen": 8,
              "ticks": "outside",
              "tickwidth": 2
             }
            },
            "type": "scattergeo"
           }
          ],
          "scattergl": [
           {
            "marker": {
             "colorbar": {
              "outlinewidth": 0,
              "tickcolor": "rgb(36,36,36)",
              "ticklen": 8,
              "ticks": "outside",
              "tickwidth": 2
             }
            },
            "type": "scattergl"
           }
          ],
          "scattermapbox": [
           {
            "marker": {
             "colorbar": {
              "outlinewidth": 0,
              "tickcolor": "rgb(36,36,36)",
              "ticklen": 8,
              "ticks": "outside",
              "tickwidth": 2
             }
            },
            "type": "scattermapbox"
           }
          ],
          "scatterpolar": [
           {
            "marker": {
             "colorbar": {
              "outlinewidth": 0,
              "tickcolor": "rgb(36,36,36)",
              "ticklen": 8,
              "ticks": "outside",
              "tickwidth": 2
             }
            },
            "type": "scatterpolar"
           }
          ],
          "scatterpolargl": [
           {
            "marker": {
             "colorbar": {
              "outlinewidth": 0,
              "tickcolor": "rgb(36,36,36)",
              "ticklen": 8,
              "ticks": "outside",
              "tickwidth": 2
             }
            },
            "type": "scatterpolargl"
           }
          ],
          "scatterternary": [
           {
            "marker": {
             "colorbar": {
              "outlinewidth": 0,
              "tickcolor": "rgb(36,36,36)",
              "ticklen": 8,
              "ticks": "outside",
              "tickwidth": 2
             }
            },
            "type": "scatterternary"
           }
          ],
          "surface": [
           {
            "colorbar": {
             "outlinewidth": 0,
             "tickcolor": "rgb(36,36,36)",
             "ticklen": 8,
             "ticks": "outside",
             "tickwidth": 2
            },
            "colorscale": [
             [
              0,
              "rgb(2,4,25)"
             ],
             [
              0.06274509803921569,
              "rgb(24,15,41)"
             ],
             [
              0.12549019607843137,
              "rgb(47,23,57)"
             ],
             [
              0.18823529411764706,
              "rgb(71,28,72)"
             ],
             [
              0.25098039215686274,
              "rgb(97,30,82)"
             ],
             [
              0.3137254901960784,
              "rgb(123,30,89)"
             ],
             [
              0.3764705882352941,
              "rgb(150,27,91)"
             ],
             [
              0.4392156862745098,
              "rgb(177,22,88)"
             ],
             [
              0.5019607843137255,
              "rgb(203,26,79)"
             ],
             [
              0.5647058823529412,
              "rgb(223,47,67)"
             ],
             [
              0.6274509803921569,
              "rgb(236,76,61)"
             ],
             [
              0.6901960784313725,
              "rgb(242,107,73)"
             ],
             [
              0.7529411764705882,
              "rgb(244,135,95)"
             ],
             [
              0.8156862745098039,
              "rgb(245,162,122)"
             ],
             [
              0.8784313725490196,
              "rgb(246,188,153)"
             ],
             [
              0.9411764705882353,
              "rgb(247,212,187)"
             ],
             [
              1,
              "rgb(250,234,220)"
             ]
            ],
            "type": "surface"
           }
          ],
          "table": [
           {
            "cells": {
             "fill": {
              "color": "rgb(231,231,240)"
             },
             "line": {
              "color": "white"
             }
            },
            "header": {
             "fill": {
              "color": "rgb(183,183,191)"
             },
             "line": {
              "color": "white"
             }
            },
            "type": "table"
           }
          ]
         },
         "layout": {
          "annotationdefaults": {
           "arrowcolor": "rgb(67,103,167)"
          },
          "autotypenumbers": "strict",
          "coloraxis": {
           "colorbar": {
            "outlinewidth": 0,
            "tickcolor": "rgb(36,36,36)",
            "ticklen": 8,
            "ticks": "outside",
            "tickwidth": 2
           }
          },
          "colorscale": {
           "sequential": [
            [
             0,
             "rgb(2,4,25)"
            ],
            [
             0.06274509803921569,
             "rgb(24,15,41)"
            ],
            [
             0.12549019607843137,
             "rgb(47,23,57)"
            ],
            [
             0.18823529411764706,
             "rgb(71,28,72)"
            ],
            [
             0.25098039215686274,
             "rgb(97,30,82)"
            ],
            [
             0.3137254901960784,
             "rgb(123,30,89)"
            ],
            [
             0.3764705882352941,
             "rgb(150,27,91)"
            ],
            [
             0.4392156862745098,
             "rgb(177,22,88)"
            ],
            [
             0.5019607843137255,
             "rgb(203,26,79)"
            ],
            [
             0.5647058823529412,
             "rgb(223,47,67)"
            ],
            [
             0.6274509803921569,
             "rgb(236,76,61)"
            ],
            [
             0.6901960784313725,
             "rgb(242,107,73)"
            ],
            [
             0.7529411764705882,
             "rgb(244,135,95)"
            ],
            [
             0.8156862745098039,
             "rgb(245,162,122)"
            ],
            [
             0.8784313725490196,
             "rgb(246,188,153)"
            ],
            [
             0.9411764705882353,
             "rgb(247,212,187)"
            ],
            [
             1,
             "rgb(250,234,220)"
            ]
           ],
           "sequentialminus": [
            [
             0,
             "rgb(2,4,25)"
            ],
            [
             0.06274509803921569,
             "rgb(24,15,41)"
            ],
            [
             0.12549019607843137,
             "rgb(47,23,57)"
            ],
            [
             0.18823529411764706,
             "rgb(71,28,72)"
            ],
            [
             0.25098039215686274,
             "rgb(97,30,82)"
            ],
            [
             0.3137254901960784,
             "rgb(123,30,89)"
            ],
            [
             0.3764705882352941,
             "rgb(150,27,91)"
            ],
            [
             0.4392156862745098,
             "rgb(177,22,88)"
            ],
            [
             0.5019607843137255,
             "rgb(203,26,79)"
            ],
            [
             0.5647058823529412,
             "rgb(223,47,67)"
            ],
            [
             0.6274509803921569,
             "rgb(236,76,61)"
            ],
            [
             0.6901960784313725,
             "rgb(242,107,73)"
            ],
            [
             0.7529411764705882,
             "rgb(244,135,95)"
            ],
            [
             0.8156862745098039,
             "rgb(245,162,122)"
            ],
            [
             0.8784313725490196,
             "rgb(246,188,153)"
            ],
            [
             0.9411764705882353,
             "rgb(247,212,187)"
            ],
            [
             1,
             "rgb(250,234,220)"
            ]
           ]
          },
          "colorway": [
           "rgb(76,114,176)",
           "rgb(221,132,82)",
           "rgb(85,168,104)",
           "rgb(196,78,82)",
           "rgb(129,114,179)",
           "rgb(147,120,96)",
           "rgb(218,139,195)",
           "rgb(140,140,140)",
           "rgb(204,185,116)",
           "rgb(100,181,205)"
          ],
          "font": {
           "color": "rgb(36,36,36)"
          },
          "geo": {
           "bgcolor": "white",
           "lakecolor": "white",
           "landcolor": "rgb(234,234,242)",
           "showlakes": true,
           "showland": true,
           "subunitcolor": "white"
          },
          "hoverlabel": {
           "align": "left"
          },
          "hovermode": "closest",
          "paper_bgcolor": "white",
          "plot_bgcolor": "rgb(234,234,242)",
          "polar": {
           "angularaxis": {
            "gridcolor": "white",
            "linecolor": "white",
            "showgrid": true,
            "ticks": ""
           },
           "bgcolor": "rgb(234,234,242)",
           "radialaxis": {
            "gridcolor": "white",
            "linecolor": "white",
            "showgrid": true,
            "ticks": ""
           }
          },
          "scene": {
           "xaxis": {
            "backgroundcolor": "rgb(234,234,242)",
            "gridcolor": "white",
            "gridwidth": 2,
            "linecolor": "white",
            "showbackground": true,
            "showgrid": true,
            "ticks": "",
            "zerolinecolor": "white"
           },
           "yaxis": {
            "backgroundcolor": "rgb(234,234,242)",
            "gridcolor": "white",
            "gridwidth": 2,
            "linecolor": "white",
            "showbackground": true,
            "showgrid": true,
            "ticks": "",
            "zerolinecolor": "white"
           },
           "zaxis": {
            "backgroundcolor": "rgb(234,234,242)",
            "gridcolor": "white",
            "gridwidth": 2,
            "linecolor": "white",
            "showbackground": true,
            "showgrid": true,
            "ticks": "",
            "zerolinecolor": "white"
           }
          },
          "shapedefaults": {
           "fillcolor": "rgb(67,103,167)",
           "line": {
            "width": 0
           },
           "opacity": 0.5
          },
          "ternary": {
           "aaxis": {
            "gridcolor": "white",
            "linecolor": "white",
            "showgrid": true,
            "ticks": ""
           },
           "baxis": {
            "gridcolor": "white",
            "linecolor": "white",
            "showgrid": true,
            "ticks": ""
           },
           "bgcolor": "rgb(234,234,242)",
           "caxis": {
            "gridcolor": "white",
            "linecolor": "white",
            "showgrid": true,
            "ticks": ""
           }
          },
          "xaxis": {
           "automargin": true,
           "gridcolor": "white",
           "linecolor": "white",
           "showgrid": true,
           "ticks": "",
           "title": {
            "standoff": 15
           },
           "zerolinecolor": "white"
          },
          "yaxis": {
           "automargin": true,
           "gridcolor": "white",
           "linecolor": "white",
           "showgrid": true,
           "ticks": "",
           "title": {
            "standoff": 15
           },
           "zerolinecolor": "white"
          }
         }
        },
        "title": {
         "text": "ROC Curve - VGG16 v.1.1"
        },
        "width": 1200,
        "xaxis": {
         "title": {
          "text": "False Positive Rate"
         }
        },
        "yaxis": {
         "title": {
          "text": "True Positive Rate"
         }
        }
       }
      }
     },
     "metadata": {},
     "output_type": "display_data"
    }
   ],
   "source": [
    "import plotly.graph_objects as go\n",
    "from sklearn.metrics import auc, roc_curve\n",
    "\n",
    "y_true = test_images.labels\n",
    "\n",
    "# Calcular la curva ROC\n",
    "fpr, tpr, thresholds = roc_curve(y_true, y_pred_prob)\n",
    "roc_auc = auc(fpr, tpr)\n",
    "\n",
    "# Graficar la curva ROC\n",
    "fig = go.Figure()\n",
    "\n",
    "# Curva ROC\n",
    "fig.add_trace(\n",
    "    go.Scatter(\n",
    "        x=fpr, y=tpr, mode=\"lines\", name=f\"{model_name}_{version} (AUC = {roc_auc:.4f})\"\n",
    "    )\n",
    ")\n",
    "\n",
    "# Línea de referencia (Random Guess)\n",
    "fig.add_trace(\n",
    "    go.Scatter(\n",
    "        x=[0, 1],\n",
    "        y=[0, 1],\n",
    "        mode=\"lines\",\n",
    "        name=\"Random Classifier\",\n",
    "        line=dict(dash=\"dash\"),\n",
    "    )\n",
    ")\n",
    "\n",
    "# Configurar diseño\n",
    "fig.update_layout(\n",
    "    # title=\"Receiver Operating Characteristic (ROC)\",\n",
    "    title=f\"ROC Curve - {model_name} {version}\",\n",
    "    xaxis_title=\"False Positive Rate\",\n",
    "    yaxis_title=\"True Positive Rate\",\n",
    "    legend_title=\"Curves\",\n",
    "    template=\"seaborn\",\n",
    "    width=1200,\n",
    "    height=1000,\n",
    ")\n",
    "\n",
    "# Mostrar la gráfica\n",
    "fig.show()"
   ]
  },
  {
   "cell_type": "code",
   "execution_count": 31,
   "metadata": {},
   "outputs": [
    {
     "data": {
      "application/vnd.plotly.v1+json": {
       "config": {
        "plotlyServerURL": "https://plot.ly"
       },
       "data": [
        {
         "colorscale": [
          [
           0,
           "rgb(247,251,255)"
          ],
          [
           0.125,
           "rgb(222,235,247)"
          ],
          [
           0.25,
           "rgb(198,219,239)"
          ],
          [
           0.375,
           "rgb(158,202,225)"
          ],
          [
           0.5,
           "rgb(107,174,214)"
          ],
          [
           0.625,
           "rgb(66,146,198)"
          ],
          [
           0.75,
           "rgb(33,113,181)"
          ],
          [
           0.875,
           "rgb(8,81,156)"
          ],
          [
           1,
           "rgb(8,48,107)"
          ]
         ],
         "showscale": true,
         "text": [
          [
           "0",
           "1451"
          ],
          [
           "0",
           "2837"
          ]
         ],
         "texttemplate": "%{text}",
         "type": "heatmap",
         "x": [
          "No Animal",
          "Animal"
         ],
         "y": [
          "No Animal",
          "Animal"
         ],
         "z": [
          [
           0,
           1451
          ],
          [
           0,
           2837
          ]
         ]
        }
       ],
       "layout": {
        "height": 1000,
        "template": {
         "data": {
          "bar": [
           {
            "error_x": {
             "color": "rgb(36,36,36)"
            },
            "error_y": {
             "color": "rgb(36,36,36)"
            },
            "marker": {
             "line": {
              "color": "rgb(234,234,242)",
              "width": 0.5
             },
             "pattern": {
              "fillmode": "overlay",
              "size": 10,
              "solidity": 0.2
             }
            },
            "type": "bar"
           }
          ],
          "barpolar": [
           {
            "marker": {
             "line": {
              "color": "rgb(234,234,242)",
              "width": 0.5
             },
             "pattern": {
              "fillmode": "overlay",
              "size": 10,
              "solidity": 0.2
             }
            },
            "type": "barpolar"
           }
          ],
          "carpet": [
           {
            "aaxis": {
             "endlinecolor": "rgb(36,36,36)",
             "gridcolor": "white",
             "linecolor": "white",
             "minorgridcolor": "white",
             "startlinecolor": "rgb(36,36,36)"
            },
            "baxis": {
             "endlinecolor": "rgb(36,36,36)",
             "gridcolor": "white",
             "linecolor": "white",
             "minorgridcolor": "white",
             "startlinecolor": "rgb(36,36,36)"
            },
            "type": "carpet"
           }
          ],
          "choropleth": [
           {
            "colorbar": {
             "outlinewidth": 0,
             "tickcolor": "rgb(36,36,36)",
             "ticklen": 8,
             "ticks": "outside",
             "tickwidth": 2
            },
            "type": "choropleth"
           }
          ],
          "contour": [
           {
            "colorbar": {
             "outlinewidth": 0,
             "tickcolor": "rgb(36,36,36)",
             "ticklen": 8,
             "ticks": "outside",
             "tickwidth": 2
            },
            "colorscale": [
             [
              0,
              "rgb(2,4,25)"
             ],
             [
              0.06274509803921569,
              "rgb(24,15,41)"
             ],
             [
              0.12549019607843137,
              "rgb(47,23,57)"
             ],
             [
              0.18823529411764706,
              "rgb(71,28,72)"
             ],
             [
              0.25098039215686274,
              "rgb(97,30,82)"
             ],
             [
              0.3137254901960784,
              "rgb(123,30,89)"
             ],
             [
              0.3764705882352941,
              "rgb(150,27,91)"
             ],
             [
              0.4392156862745098,
              "rgb(177,22,88)"
             ],
             [
              0.5019607843137255,
              "rgb(203,26,79)"
             ],
             [
              0.5647058823529412,
              "rgb(223,47,67)"
             ],
             [
              0.6274509803921569,
              "rgb(236,76,61)"
             ],
             [
              0.6901960784313725,
              "rgb(242,107,73)"
             ],
             [
              0.7529411764705882,
              "rgb(244,135,95)"
             ],
             [
              0.8156862745098039,
              "rgb(245,162,122)"
             ],
             [
              0.8784313725490196,
              "rgb(246,188,153)"
             ],
             [
              0.9411764705882353,
              "rgb(247,212,187)"
             ],
             [
              1,
              "rgb(250,234,220)"
             ]
            ],
            "type": "contour"
           }
          ],
          "contourcarpet": [
           {
            "colorbar": {
             "outlinewidth": 0,
             "tickcolor": "rgb(36,36,36)",
             "ticklen": 8,
             "ticks": "outside",
             "tickwidth": 2
            },
            "type": "contourcarpet"
           }
          ],
          "heatmap": [
           {
            "colorbar": {
             "outlinewidth": 0,
             "tickcolor": "rgb(36,36,36)",
             "ticklen": 8,
             "ticks": "outside",
             "tickwidth": 2
            },
            "colorscale": [
             [
              0,
              "rgb(2,4,25)"
             ],
             [
              0.06274509803921569,
              "rgb(24,15,41)"
             ],
             [
              0.12549019607843137,
              "rgb(47,23,57)"
             ],
             [
              0.18823529411764706,
              "rgb(71,28,72)"
             ],
             [
              0.25098039215686274,
              "rgb(97,30,82)"
             ],
             [
              0.3137254901960784,
              "rgb(123,30,89)"
             ],
             [
              0.3764705882352941,
              "rgb(150,27,91)"
             ],
             [
              0.4392156862745098,
              "rgb(177,22,88)"
             ],
             [
              0.5019607843137255,
              "rgb(203,26,79)"
             ],
             [
              0.5647058823529412,
              "rgb(223,47,67)"
             ],
             [
              0.6274509803921569,
              "rgb(236,76,61)"
             ],
             [
              0.6901960784313725,
              "rgb(242,107,73)"
             ],
             [
              0.7529411764705882,
              "rgb(244,135,95)"
             ],
             [
              0.8156862745098039,
              "rgb(245,162,122)"
             ],
             [
              0.8784313725490196,
              "rgb(246,188,153)"
             ],
             [
              0.9411764705882353,
              "rgb(247,212,187)"
             ],
             [
              1,
              "rgb(250,234,220)"
             ]
            ],
            "type": "heatmap"
           }
          ],
          "heatmapgl": [
           {
            "colorbar": {
             "outlinewidth": 0,
             "tickcolor": "rgb(36,36,36)",
             "ticklen": 8,
             "ticks": "outside",
             "tickwidth": 2
            },
            "colorscale": [
             [
              0,
              "rgb(2,4,25)"
             ],
             [
              0.06274509803921569,
              "rgb(24,15,41)"
             ],
             [
              0.12549019607843137,
              "rgb(47,23,57)"
             ],
             [
              0.18823529411764706,
              "rgb(71,28,72)"
             ],
             [
              0.25098039215686274,
              "rgb(97,30,82)"
             ],
             [
              0.3137254901960784,
              "rgb(123,30,89)"
             ],
             [
              0.3764705882352941,
              "rgb(150,27,91)"
             ],
             [
              0.4392156862745098,
              "rgb(177,22,88)"
             ],
             [
              0.5019607843137255,
              "rgb(203,26,79)"
             ],
             [
              0.5647058823529412,
              "rgb(223,47,67)"
             ],
             [
              0.6274509803921569,
              "rgb(236,76,61)"
             ],
             [
              0.6901960784313725,
              "rgb(242,107,73)"
             ],
             [
              0.7529411764705882,
              "rgb(244,135,95)"
             ],
             [
              0.8156862745098039,
              "rgb(245,162,122)"
             ],
             [
              0.8784313725490196,
              "rgb(246,188,153)"
             ],
             [
              0.9411764705882353,
              "rgb(247,212,187)"
             ],
             [
              1,
              "rgb(250,234,220)"
             ]
            ],
            "type": "heatmapgl"
           }
          ],
          "histogram": [
           {
            "marker": {
             "pattern": {
              "fillmode": "overlay",
              "size": 10,
              "solidity": 0.2
             }
            },
            "type": "histogram"
           }
          ],
          "histogram2d": [
           {
            "colorbar": {
             "outlinewidth": 0,
             "tickcolor": "rgb(36,36,36)",
             "ticklen": 8,
             "ticks": "outside",
             "tickwidth": 2
            },
            "colorscale": [
             [
              0,
              "rgb(2,4,25)"
             ],
             [
              0.06274509803921569,
              "rgb(24,15,41)"
             ],
             [
              0.12549019607843137,
              "rgb(47,23,57)"
             ],
             [
              0.18823529411764706,
              "rgb(71,28,72)"
             ],
             [
              0.25098039215686274,
              "rgb(97,30,82)"
             ],
             [
              0.3137254901960784,
              "rgb(123,30,89)"
             ],
             [
              0.3764705882352941,
              "rgb(150,27,91)"
             ],
             [
              0.4392156862745098,
              "rgb(177,22,88)"
             ],
             [
              0.5019607843137255,
              "rgb(203,26,79)"
             ],
             [
              0.5647058823529412,
              "rgb(223,47,67)"
             ],
             [
              0.6274509803921569,
              "rgb(236,76,61)"
             ],
             [
              0.6901960784313725,
              "rgb(242,107,73)"
             ],
             [
              0.7529411764705882,
              "rgb(244,135,95)"
             ],
             [
              0.8156862745098039,
              "rgb(245,162,122)"
             ],
             [
              0.8784313725490196,
              "rgb(246,188,153)"
             ],
             [
              0.9411764705882353,
              "rgb(247,212,187)"
             ],
             [
              1,
              "rgb(250,234,220)"
             ]
            ],
            "type": "histogram2d"
           }
          ],
          "histogram2dcontour": [
           {
            "colorbar": {
             "outlinewidth": 0,
             "tickcolor": "rgb(36,36,36)",
             "ticklen": 8,
             "ticks": "outside",
             "tickwidth": 2
            },
            "colorscale": [
             [
              0,
              "rgb(2,4,25)"
             ],
             [
              0.06274509803921569,
              "rgb(24,15,41)"
             ],
             [
              0.12549019607843137,
              "rgb(47,23,57)"
             ],
             [
              0.18823529411764706,
              "rgb(71,28,72)"
             ],
             [
              0.25098039215686274,
              "rgb(97,30,82)"
             ],
             [
              0.3137254901960784,
              "rgb(123,30,89)"
             ],
             [
              0.3764705882352941,
              "rgb(150,27,91)"
             ],
             [
              0.4392156862745098,
              "rgb(177,22,88)"
             ],
             [
              0.5019607843137255,
              "rgb(203,26,79)"
             ],
             [
              0.5647058823529412,
              "rgb(223,47,67)"
             ],
             [
              0.6274509803921569,
              "rgb(236,76,61)"
             ],
             [
              0.6901960784313725,
              "rgb(242,107,73)"
             ],
             [
              0.7529411764705882,
              "rgb(244,135,95)"
             ],
             [
              0.8156862745098039,
              "rgb(245,162,122)"
             ],
             [
              0.8784313725490196,
              "rgb(246,188,153)"
             ],
             [
              0.9411764705882353,
              "rgb(247,212,187)"
             ],
             [
              1,
              "rgb(250,234,220)"
             ]
            ],
            "type": "histogram2dcontour"
           }
          ],
          "mesh3d": [
           {
            "colorbar": {
             "outlinewidth": 0,
             "tickcolor": "rgb(36,36,36)",
             "ticklen": 8,
             "ticks": "outside",
             "tickwidth": 2
            },
            "type": "mesh3d"
           }
          ],
          "parcoords": [
           {
            "line": {
             "colorbar": {
              "outlinewidth": 0,
              "tickcolor": "rgb(36,36,36)",
              "ticklen": 8,
              "ticks": "outside",
              "tickwidth": 2
             }
            },
            "type": "parcoords"
           }
          ],
          "pie": [
           {
            "automargin": true,
            "type": "pie"
           }
          ],
          "scatter": [
           {
            "fillpattern": {
             "fillmode": "overlay",
             "size": 10,
             "solidity": 0.2
            },
            "type": "scatter"
           }
          ],
          "scatter3d": [
           {
            "line": {
             "colorbar": {
              "outlinewidth": 0,
              "tickcolor": "rgb(36,36,36)",
              "ticklen": 8,
              "ticks": "outside",
              "tickwidth": 2
             }
            },
            "marker": {
             "colorbar": {
              "outlinewidth": 0,
              "tickcolor": "rgb(36,36,36)",
              "ticklen": 8,
              "ticks": "outside",
              "tickwidth": 2
             }
            },
            "type": "scatter3d"
           }
          ],
          "scattercarpet": [
           {
            "marker": {
             "colorbar": {
              "outlinewidth": 0,
              "tickcolor": "rgb(36,36,36)",
              "ticklen": 8,
              "ticks": "outside",
              "tickwidth": 2
             }
            },
            "type": "scattercarpet"
           }
          ],
          "scattergeo": [
           {
            "marker": {
             "colorbar": {
              "outlinewidth": 0,
              "tickcolor": "rgb(36,36,36)",
              "ticklen": 8,
              "ticks": "outside",
              "tickwidth": 2
             }
            },
            "type": "scattergeo"
           }
          ],
          "scattergl": [
           {
            "marker": {
             "colorbar": {
              "outlinewidth": 0,
              "tickcolor": "rgb(36,36,36)",
              "ticklen": 8,
              "ticks": "outside",
              "tickwidth": 2
             }
            },
            "type": "scattergl"
           }
          ],
          "scattermapbox": [
           {
            "marker": {
             "colorbar": {
              "outlinewidth": 0,
              "tickcolor": "rgb(36,36,36)",
              "ticklen": 8,
              "ticks": "outside",
              "tickwidth": 2
             }
            },
            "type": "scattermapbox"
           }
          ],
          "scatterpolar": [
           {
            "marker": {
             "colorbar": {
              "outlinewidth": 0,
              "tickcolor": "rgb(36,36,36)",
              "ticklen": 8,
              "ticks": "outside",
              "tickwidth": 2
             }
            },
            "type": "scatterpolar"
           }
          ],
          "scatterpolargl": [
           {
            "marker": {
             "colorbar": {
              "outlinewidth": 0,
              "tickcolor": "rgb(36,36,36)",
              "ticklen": 8,
              "ticks": "outside",
              "tickwidth": 2
             }
            },
            "type": "scatterpolargl"
           }
          ],
          "scatterternary": [
           {
            "marker": {
             "colorbar": {
              "outlinewidth": 0,
              "tickcolor": "rgb(36,36,36)",
              "ticklen": 8,
              "ticks": "outside",
              "tickwidth": 2
             }
            },
            "type": "scatterternary"
           }
          ],
          "surface": [
           {
            "colorbar": {
             "outlinewidth": 0,
             "tickcolor": "rgb(36,36,36)",
             "ticklen": 8,
             "ticks": "outside",
             "tickwidth": 2
            },
            "colorscale": [
             [
              0,
              "rgb(2,4,25)"
             ],
             [
              0.06274509803921569,
              "rgb(24,15,41)"
             ],
             [
              0.12549019607843137,
              "rgb(47,23,57)"
             ],
             [
              0.18823529411764706,
              "rgb(71,28,72)"
             ],
             [
              0.25098039215686274,
              "rgb(97,30,82)"
             ],
             [
              0.3137254901960784,
              "rgb(123,30,89)"
             ],
             [
              0.3764705882352941,
              "rgb(150,27,91)"
             ],
             [
              0.4392156862745098,
              "rgb(177,22,88)"
             ],
             [
              0.5019607843137255,
              "rgb(203,26,79)"
             ],
             [
              0.5647058823529412,
              "rgb(223,47,67)"
             ],
             [
              0.6274509803921569,
              "rgb(236,76,61)"
             ],
             [
              0.6901960784313725,
              "rgb(242,107,73)"
             ],
             [
              0.7529411764705882,
              "rgb(244,135,95)"
             ],
             [
              0.8156862745098039,
              "rgb(245,162,122)"
             ],
             [
              0.8784313725490196,
              "rgb(246,188,153)"
             ],
             [
              0.9411764705882353,
              "rgb(247,212,187)"
             ],
             [
              1,
              "rgb(250,234,220)"
             ]
            ],
            "type": "surface"
           }
          ],
          "table": [
           {
            "cells": {
             "fill": {
              "color": "rgb(231,231,240)"
             },
             "line": {
              "color": "white"
             }
            },
            "header": {
             "fill": {
              "color": "rgb(183,183,191)"
             },
             "line": {
              "color": "white"
             }
            },
            "type": "table"
           }
          ]
         },
         "layout": {
          "annotationdefaults": {
           "arrowcolor": "rgb(67,103,167)"
          },
          "autotypenumbers": "strict",
          "coloraxis": {
           "colorbar": {
            "outlinewidth": 0,
            "tickcolor": "rgb(36,36,36)",
            "ticklen": 8,
            "ticks": "outside",
            "tickwidth": 2
           }
          },
          "colorscale": {
           "sequential": [
            [
             0,
             "rgb(2,4,25)"
            ],
            [
             0.06274509803921569,
             "rgb(24,15,41)"
            ],
            [
             0.12549019607843137,
             "rgb(47,23,57)"
            ],
            [
             0.18823529411764706,
             "rgb(71,28,72)"
            ],
            [
             0.25098039215686274,
             "rgb(97,30,82)"
            ],
            [
             0.3137254901960784,
             "rgb(123,30,89)"
            ],
            [
             0.3764705882352941,
             "rgb(150,27,91)"
            ],
            [
             0.4392156862745098,
             "rgb(177,22,88)"
            ],
            [
             0.5019607843137255,
             "rgb(203,26,79)"
            ],
            [
             0.5647058823529412,
             "rgb(223,47,67)"
            ],
            [
             0.6274509803921569,
             "rgb(236,76,61)"
            ],
            [
             0.6901960784313725,
             "rgb(242,107,73)"
            ],
            [
             0.7529411764705882,
             "rgb(244,135,95)"
            ],
            [
             0.8156862745098039,
             "rgb(245,162,122)"
            ],
            [
             0.8784313725490196,
             "rgb(246,188,153)"
            ],
            [
             0.9411764705882353,
             "rgb(247,212,187)"
            ],
            [
             1,
             "rgb(250,234,220)"
            ]
           ],
           "sequentialminus": [
            [
             0,
             "rgb(2,4,25)"
            ],
            [
             0.06274509803921569,
             "rgb(24,15,41)"
            ],
            [
             0.12549019607843137,
             "rgb(47,23,57)"
            ],
            [
             0.18823529411764706,
             "rgb(71,28,72)"
            ],
            [
             0.25098039215686274,
             "rgb(97,30,82)"
            ],
            [
             0.3137254901960784,
             "rgb(123,30,89)"
            ],
            [
             0.3764705882352941,
             "rgb(150,27,91)"
            ],
            [
             0.4392156862745098,
             "rgb(177,22,88)"
            ],
            [
             0.5019607843137255,
             "rgb(203,26,79)"
            ],
            [
             0.5647058823529412,
             "rgb(223,47,67)"
            ],
            [
             0.6274509803921569,
             "rgb(236,76,61)"
            ],
            [
             0.6901960784313725,
             "rgb(242,107,73)"
            ],
            [
             0.7529411764705882,
             "rgb(244,135,95)"
            ],
            [
             0.8156862745098039,
             "rgb(245,162,122)"
            ],
            [
             0.8784313725490196,
             "rgb(246,188,153)"
            ],
            [
             0.9411764705882353,
             "rgb(247,212,187)"
            ],
            [
             1,
             "rgb(250,234,220)"
            ]
           ]
          },
          "colorway": [
           "rgb(76,114,176)",
           "rgb(221,132,82)",
           "rgb(85,168,104)",
           "rgb(196,78,82)",
           "rgb(129,114,179)",
           "rgb(147,120,96)",
           "rgb(218,139,195)",
           "rgb(140,140,140)",
           "rgb(204,185,116)",
           "rgb(100,181,205)"
          ],
          "font": {
           "color": "rgb(36,36,36)"
          },
          "geo": {
           "bgcolor": "white",
           "lakecolor": "white",
           "landcolor": "rgb(234,234,242)",
           "showlakes": true,
           "showland": true,
           "subunitcolor": "white"
          },
          "hoverlabel": {
           "align": "left"
          },
          "hovermode": "closest",
          "paper_bgcolor": "white",
          "plot_bgcolor": "rgb(234,234,242)",
          "polar": {
           "angularaxis": {
            "gridcolor": "white",
            "linecolor": "white",
            "showgrid": true,
            "ticks": ""
           },
           "bgcolor": "rgb(234,234,242)",
           "radialaxis": {
            "gridcolor": "white",
            "linecolor": "white",
            "showgrid": true,
            "ticks": ""
           }
          },
          "scene": {
           "xaxis": {
            "backgroundcolor": "rgb(234,234,242)",
            "gridcolor": "white",
            "gridwidth": 2,
            "linecolor": "white",
            "showbackground": true,
            "showgrid": true,
            "ticks": "",
            "zerolinecolor": "white"
           },
           "yaxis": {
            "backgroundcolor": "rgb(234,234,242)",
            "gridcolor": "white",
            "gridwidth": 2,
            "linecolor": "white",
            "showbackground": true,
            "showgrid": true,
            "ticks": "",
            "zerolinecolor": "white"
           },
           "zaxis": {
            "backgroundcolor": "rgb(234,234,242)",
            "gridcolor": "white",
            "gridwidth": 2,
            "linecolor": "white",
            "showbackground": true,
            "showgrid": true,
            "ticks": "",
            "zerolinecolor": "white"
           }
          },
          "shapedefaults": {
           "fillcolor": "rgb(67,103,167)",
           "line": {
            "width": 0
           },
           "opacity": 0.5
          },
          "ternary": {
           "aaxis": {
            "gridcolor": "white",
            "linecolor": "white",
            "showgrid": true,
            "ticks": ""
           },
           "baxis": {
            "gridcolor": "white",
            "linecolor": "white",
            "showgrid": true,
            "ticks": ""
           },
           "bgcolor": "rgb(234,234,242)",
           "caxis": {
            "gridcolor": "white",
            "linecolor": "white",
            "showgrid": true,
            "ticks": ""
           }
          },
          "xaxis": {
           "automargin": true,
           "gridcolor": "white",
           "linecolor": "white",
           "showgrid": true,
           "ticks": "",
           "title": {
            "standoff": 15
           },
           "zerolinecolor": "white"
          },
          "yaxis": {
           "automargin": true,
           "gridcolor": "white",
           "linecolor": "white",
           "showgrid": true,
           "ticks": "",
           "title": {
            "standoff": 15
           },
           "zerolinecolor": "white"
          }
         }
        },
        "title": {
         "text": "Confusion Matrix - VGG16 v.1.1"
        },
        "width": 1000,
        "xaxis": {
         "tickmode": "array",
         "ticktext": [
          "No Animal",
          "Animal"
         ],
         "tickvals": [
          0,
          1
         ],
         "title": {
          "text": "Prediction"
         }
        },
        "yaxis": {
         "tickmode": "array",
         "ticktext": [
          "No Animal",
          "Animal"
         ],
         "tickvals": [
          0,
          1
         ],
         "title": {
          "text": "Dataset"
         }
        }
       }
      }
     },
     "metadata": {},
     "output_type": "display_data"
    }
   ],
   "source": [
    "import plotly.graph_objects as go\n",
    "from sklearn.metrics import confusion_matrix\n",
    "\n",
    "# Obtener las clases predichas a partir de las probabilidades\n",
    "y_pred_class = (y_pred_prob > 0.5).astype(int)  # Para clasificación binaria\n",
    "\n",
    "# Calcular la matriz de confusión\n",
    "conf_matrix = confusion_matrix(y_true, y_pred_class)\n",
    "\n",
    "# Crear etiquetas con los números\n",
    "conf_matrix_text = [[str(value) for value in row] for row in conf_matrix]\n",
    "\n",
    "# Crear el heatmap con Plotly\n",
    "fig = go.Figure(\n",
    "    data=go.Heatmap(\n",
    "        z=conf_matrix,\n",
    "        x=[\"No Animal\", \"Animal\"],  # Predicted labels\n",
    "        y=[\"No Animal\", \"Animal\"],  # Actual labels\n",
    "        text=conf_matrix_text,  # Añadir los valores como texto\n",
    "        texttemplate=\"%{text}\",  # Mostrar los valores en las celdas\n",
    "        colorscale=\"Blues\",\n",
    "        showscale=True,\n",
    "    )\n",
    ")\n",
    "\n",
    "# Configurar diseño\n",
    "fig.update_layout(\n",
    "    title=f\"Confusion Matrix - {model_name} {version}\",\n",
    "    xaxis_title=\"Prediction\",\n",
    "    yaxis_title=\"Dataset\",\n",
    "    xaxis=dict(tickmode=\"array\", tickvals=[0, 1], ticktext=[\"No Animal\", \"Animal\"]),\n",
    "    yaxis=dict(tickmode=\"array\", tickvals=[0, 1], ticktext=[\"No Animal\", \"Animal\"]),\n",
    "    template=\"seaborn\",\n",
    "    width=1000,\n",
    "    height=1000,\n",
    ")\n",
    "\n",
    "# Mostrar la figura\n",
    "fig.show()"
   ]
  },
  {
   "cell_type": "code",
   "execution_count": 32,
   "metadata": {},
   "outputs": [
    {
     "data": {
      "application/vnd.plotly.v1+json": {
       "config": {
        "plotlyServerURL": "https://plot.ly"
       },
       "data": [
        {
         "colorscale": [
          [
           0,
           "rgb(247,252,245)"
          ],
          [
           0.125,
           "rgb(229,245,224)"
          ],
          [
           0.25,
           "rgb(199,233,192)"
          ],
          [
           0.375,
           "rgb(161,217,155)"
          ],
          [
           0.5,
           "rgb(116,196,118)"
          ],
          [
           0.625,
           "rgb(65,171,93)"
          ],
          [
           0.75,
           "rgb(35,139,69)"
          ],
          [
           0.875,
           "rgb(0,109,44)"
          ],
          [
           1,
           "rgb(0,68,27)"
          ]
         ],
         "showscale": true,
         "text": [
          [
           "1451",
           "0"
          ],
          [
           "0",
           "2837"
          ]
         ],
         "texttemplate": "%{text}",
         "type": "heatmap",
         "x": [
          "No Animal",
          "Animal"
         ],
         "y": [
          "No Animal",
          "Animal"
         ],
         "z": [
          [
           1451,
           0
          ],
          [
           0,
           2837
          ]
         ]
        }
       ],
       "layout": {
        "height": 1000,
        "template": {
         "data": {
          "bar": [
           {
            "error_x": {
             "color": "rgb(36,36,36)"
            },
            "error_y": {
             "color": "rgb(36,36,36)"
            },
            "marker": {
             "line": {
              "color": "rgb(234,234,242)",
              "width": 0.5
             },
             "pattern": {
              "fillmode": "overlay",
              "size": 10,
              "solidity": 0.2
             }
            },
            "type": "bar"
           }
          ],
          "barpolar": [
           {
            "marker": {
             "line": {
              "color": "rgb(234,234,242)",
              "width": 0.5
             },
             "pattern": {
              "fillmode": "overlay",
              "size": 10,
              "solidity": 0.2
             }
            },
            "type": "barpolar"
           }
          ],
          "carpet": [
           {
            "aaxis": {
             "endlinecolor": "rgb(36,36,36)",
             "gridcolor": "white",
             "linecolor": "white",
             "minorgridcolor": "white",
             "startlinecolor": "rgb(36,36,36)"
            },
            "baxis": {
             "endlinecolor": "rgb(36,36,36)",
             "gridcolor": "white",
             "linecolor": "white",
             "minorgridcolor": "white",
             "startlinecolor": "rgb(36,36,36)"
            },
            "type": "carpet"
           }
          ],
          "choropleth": [
           {
            "colorbar": {
             "outlinewidth": 0,
             "tickcolor": "rgb(36,36,36)",
             "ticklen": 8,
             "ticks": "outside",
             "tickwidth": 2
            },
            "type": "choropleth"
           }
          ],
          "contour": [
           {
            "colorbar": {
             "outlinewidth": 0,
             "tickcolor": "rgb(36,36,36)",
             "ticklen": 8,
             "ticks": "outside",
             "tickwidth": 2
            },
            "colorscale": [
             [
              0,
              "rgb(2,4,25)"
             ],
             [
              0.06274509803921569,
              "rgb(24,15,41)"
             ],
             [
              0.12549019607843137,
              "rgb(47,23,57)"
             ],
             [
              0.18823529411764706,
              "rgb(71,28,72)"
             ],
             [
              0.25098039215686274,
              "rgb(97,30,82)"
             ],
             [
              0.3137254901960784,
              "rgb(123,30,89)"
             ],
             [
              0.3764705882352941,
              "rgb(150,27,91)"
             ],
             [
              0.4392156862745098,
              "rgb(177,22,88)"
             ],
             [
              0.5019607843137255,
              "rgb(203,26,79)"
             ],
             [
              0.5647058823529412,
              "rgb(223,47,67)"
             ],
             [
              0.6274509803921569,
              "rgb(236,76,61)"
             ],
             [
              0.6901960784313725,
              "rgb(242,107,73)"
             ],
             [
              0.7529411764705882,
              "rgb(244,135,95)"
             ],
             [
              0.8156862745098039,
              "rgb(245,162,122)"
             ],
             [
              0.8784313725490196,
              "rgb(246,188,153)"
             ],
             [
              0.9411764705882353,
              "rgb(247,212,187)"
             ],
             [
              1,
              "rgb(250,234,220)"
             ]
            ],
            "type": "contour"
           }
          ],
          "contourcarpet": [
           {
            "colorbar": {
             "outlinewidth": 0,
             "tickcolor": "rgb(36,36,36)",
             "ticklen": 8,
             "ticks": "outside",
             "tickwidth": 2
            },
            "type": "contourcarpet"
           }
          ],
          "heatmap": [
           {
            "colorbar": {
             "outlinewidth": 0,
             "tickcolor": "rgb(36,36,36)",
             "ticklen": 8,
             "ticks": "outside",
             "tickwidth": 2
            },
            "colorscale": [
             [
              0,
              "rgb(2,4,25)"
             ],
             [
              0.06274509803921569,
              "rgb(24,15,41)"
             ],
             [
              0.12549019607843137,
              "rgb(47,23,57)"
             ],
             [
              0.18823529411764706,
              "rgb(71,28,72)"
             ],
             [
              0.25098039215686274,
              "rgb(97,30,82)"
             ],
             [
              0.3137254901960784,
              "rgb(123,30,89)"
             ],
             [
              0.3764705882352941,
              "rgb(150,27,91)"
             ],
             [
              0.4392156862745098,
              "rgb(177,22,88)"
             ],
             [
              0.5019607843137255,
              "rgb(203,26,79)"
             ],
             [
              0.5647058823529412,
              "rgb(223,47,67)"
             ],
             [
              0.6274509803921569,
              "rgb(236,76,61)"
             ],
             [
              0.6901960784313725,
              "rgb(242,107,73)"
             ],
             [
              0.7529411764705882,
              "rgb(244,135,95)"
             ],
             [
              0.8156862745098039,
              "rgb(245,162,122)"
             ],
             [
              0.8784313725490196,
              "rgb(246,188,153)"
             ],
             [
              0.9411764705882353,
              "rgb(247,212,187)"
             ],
             [
              1,
              "rgb(250,234,220)"
             ]
            ],
            "type": "heatmap"
           }
          ],
          "heatmapgl": [
           {
            "colorbar": {
             "outlinewidth": 0,
             "tickcolor": "rgb(36,36,36)",
             "ticklen": 8,
             "ticks": "outside",
             "tickwidth": 2
            },
            "colorscale": [
             [
              0,
              "rgb(2,4,25)"
             ],
             [
              0.06274509803921569,
              "rgb(24,15,41)"
             ],
             [
              0.12549019607843137,
              "rgb(47,23,57)"
             ],
             [
              0.18823529411764706,
              "rgb(71,28,72)"
             ],
             [
              0.25098039215686274,
              "rgb(97,30,82)"
             ],
             [
              0.3137254901960784,
              "rgb(123,30,89)"
             ],
             [
              0.3764705882352941,
              "rgb(150,27,91)"
             ],
             [
              0.4392156862745098,
              "rgb(177,22,88)"
             ],
             [
              0.5019607843137255,
              "rgb(203,26,79)"
             ],
             [
              0.5647058823529412,
              "rgb(223,47,67)"
             ],
             [
              0.6274509803921569,
              "rgb(236,76,61)"
             ],
             [
              0.6901960784313725,
              "rgb(242,107,73)"
             ],
             [
              0.7529411764705882,
              "rgb(244,135,95)"
             ],
             [
              0.8156862745098039,
              "rgb(245,162,122)"
             ],
             [
              0.8784313725490196,
              "rgb(246,188,153)"
             ],
             [
              0.9411764705882353,
              "rgb(247,212,187)"
             ],
             [
              1,
              "rgb(250,234,220)"
             ]
            ],
            "type": "heatmapgl"
           }
          ],
          "histogram": [
           {
            "marker": {
             "pattern": {
              "fillmode": "overlay",
              "size": 10,
              "solidity": 0.2
             }
            },
            "type": "histogram"
           }
          ],
          "histogram2d": [
           {
            "colorbar": {
             "outlinewidth": 0,
             "tickcolor": "rgb(36,36,36)",
             "ticklen": 8,
             "ticks": "outside",
             "tickwidth": 2
            },
            "colorscale": [
             [
              0,
              "rgb(2,4,25)"
             ],
             [
              0.06274509803921569,
              "rgb(24,15,41)"
             ],
             [
              0.12549019607843137,
              "rgb(47,23,57)"
             ],
             [
              0.18823529411764706,
              "rgb(71,28,72)"
             ],
             [
              0.25098039215686274,
              "rgb(97,30,82)"
             ],
             [
              0.3137254901960784,
              "rgb(123,30,89)"
             ],
             [
              0.3764705882352941,
              "rgb(150,27,91)"
             ],
             [
              0.4392156862745098,
              "rgb(177,22,88)"
             ],
             [
              0.5019607843137255,
              "rgb(203,26,79)"
             ],
             [
              0.5647058823529412,
              "rgb(223,47,67)"
             ],
             [
              0.6274509803921569,
              "rgb(236,76,61)"
             ],
             [
              0.6901960784313725,
              "rgb(242,107,73)"
             ],
             [
              0.7529411764705882,
              "rgb(244,135,95)"
             ],
             [
              0.8156862745098039,
              "rgb(245,162,122)"
             ],
             [
              0.8784313725490196,
              "rgb(246,188,153)"
             ],
             [
              0.9411764705882353,
              "rgb(247,212,187)"
             ],
             [
              1,
              "rgb(250,234,220)"
             ]
            ],
            "type": "histogram2d"
           }
          ],
          "histogram2dcontour": [
           {
            "colorbar": {
             "outlinewidth": 0,
             "tickcolor": "rgb(36,36,36)",
             "ticklen": 8,
             "ticks": "outside",
             "tickwidth": 2
            },
            "colorscale": [
             [
              0,
              "rgb(2,4,25)"
             ],
             [
              0.06274509803921569,
              "rgb(24,15,41)"
             ],
             [
              0.12549019607843137,
              "rgb(47,23,57)"
             ],
             [
              0.18823529411764706,
              "rgb(71,28,72)"
             ],
             [
              0.25098039215686274,
              "rgb(97,30,82)"
             ],
             [
              0.3137254901960784,
              "rgb(123,30,89)"
             ],
             [
              0.3764705882352941,
              "rgb(150,27,91)"
             ],
             [
              0.4392156862745098,
              "rgb(177,22,88)"
             ],
             [
              0.5019607843137255,
              "rgb(203,26,79)"
             ],
             [
              0.5647058823529412,
              "rgb(223,47,67)"
             ],
             [
              0.6274509803921569,
              "rgb(236,76,61)"
             ],
             [
              0.6901960784313725,
              "rgb(242,107,73)"
             ],
             [
              0.7529411764705882,
              "rgb(244,135,95)"
             ],
             [
              0.8156862745098039,
              "rgb(245,162,122)"
             ],
             [
              0.8784313725490196,
              "rgb(246,188,153)"
             ],
             [
              0.9411764705882353,
              "rgb(247,212,187)"
             ],
             [
              1,
              "rgb(250,234,220)"
             ]
            ],
            "type": "histogram2dcontour"
           }
          ],
          "mesh3d": [
           {
            "colorbar": {
             "outlinewidth": 0,
             "tickcolor": "rgb(36,36,36)",
             "ticklen": 8,
             "ticks": "outside",
             "tickwidth": 2
            },
            "type": "mesh3d"
           }
          ],
          "parcoords": [
           {
            "line": {
             "colorbar": {
              "outlinewidth": 0,
              "tickcolor": "rgb(36,36,36)",
              "ticklen": 8,
              "ticks": "outside",
              "tickwidth": 2
             }
            },
            "type": "parcoords"
           }
          ],
          "pie": [
           {
            "automargin": true,
            "type": "pie"
           }
          ],
          "scatter": [
           {
            "fillpattern": {
             "fillmode": "overlay",
             "size": 10,
             "solidity": 0.2
            },
            "type": "scatter"
           }
          ],
          "scatter3d": [
           {
            "line": {
             "colorbar": {
              "outlinewidth": 0,
              "tickcolor": "rgb(36,36,36)",
              "ticklen": 8,
              "ticks": "outside",
              "tickwidth": 2
             }
            },
            "marker": {
             "colorbar": {
              "outlinewidth": 0,
              "tickcolor": "rgb(36,36,36)",
              "ticklen": 8,
              "ticks": "outside",
              "tickwidth": 2
             }
            },
            "type": "scatter3d"
           }
          ],
          "scattercarpet": [
           {
            "marker": {
             "colorbar": {
              "outlinewidth": 0,
              "tickcolor": "rgb(36,36,36)",
              "ticklen": 8,
              "ticks": "outside",
              "tickwidth": 2
             }
            },
            "type": "scattercarpet"
           }
          ],
          "scattergeo": [
           {
            "marker": {
             "colorbar": {
              "outlinewidth": 0,
              "tickcolor": "rgb(36,36,36)",
              "ticklen": 8,
              "ticks": "outside",
              "tickwidth": 2
             }
            },
            "type": "scattergeo"
           }
          ],
          "scattergl": [
           {
            "marker": {
             "colorbar": {
              "outlinewidth": 0,
              "tickcolor": "rgb(36,36,36)",
              "ticklen": 8,
              "ticks": "outside",
              "tickwidth": 2
             }
            },
            "type": "scattergl"
           }
          ],
          "scattermapbox": [
           {
            "marker": {
             "colorbar": {
              "outlinewidth": 0,
              "tickcolor": "rgb(36,36,36)",
              "ticklen": 8,
              "ticks": "outside",
              "tickwidth": 2
             }
            },
            "type": "scattermapbox"
           }
          ],
          "scatterpolar": [
           {
            "marker": {
             "colorbar": {
              "outlinewidth": 0,
              "tickcolor": "rgb(36,36,36)",
              "ticklen": 8,
              "ticks": "outside",
              "tickwidth": 2
             }
            },
            "type": "scatterpolar"
           }
          ],
          "scatterpolargl": [
           {
            "marker": {
             "colorbar": {
              "outlinewidth": 0,
              "tickcolor": "rgb(36,36,36)",
              "ticklen": 8,
              "ticks": "outside",
              "tickwidth": 2
             }
            },
            "type": "scatterpolargl"
           }
          ],
          "scatterternary": [
           {
            "marker": {
             "colorbar": {
              "outlinewidth": 0,
              "tickcolor": "rgb(36,36,36)",
              "ticklen": 8,
              "ticks": "outside",
              "tickwidth": 2
             }
            },
            "type": "scatterternary"
           }
          ],
          "surface": [
           {
            "colorbar": {
             "outlinewidth": 0,
             "tickcolor": "rgb(36,36,36)",
             "ticklen": 8,
             "ticks": "outside",
             "tickwidth": 2
            },
            "colorscale": [
             [
              0,
              "rgb(2,4,25)"
             ],
             [
              0.06274509803921569,
              "rgb(24,15,41)"
             ],
             [
              0.12549019607843137,
              "rgb(47,23,57)"
             ],
             [
              0.18823529411764706,
              "rgb(71,28,72)"
             ],
             [
              0.25098039215686274,
              "rgb(97,30,82)"
             ],
             [
              0.3137254901960784,
              "rgb(123,30,89)"
             ],
             [
              0.3764705882352941,
              "rgb(150,27,91)"
             ],
             [
              0.4392156862745098,
              "rgb(177,22,88)"
             ],
             [
              0.5019607843137255,
              "rgb(203,26,79)"
             ],
             [
              0.5647058823529412,
              "rgb(223,47,67)"
             ],
             [
              0.6274509803921569,
              "rgb(236,76,61)"
             ],
             [
              0.6901960784313725,
              "rgb(242,107,73)"
             ],
             [
              0.7529411764705882,
              "rgb(244,135,95)"
             ],
             [
              0.8156862745098039,
              "rgb(245,162,122)"
             ],
             [
              0.8784313725490196,
              "rgb(246,188,153)"
             ],
             [
              0.9411764705882353,
              "rgb(247,212,187)"
             ],
             [
              1,
              "rgb(250,234,220)"
             ]
            ],
            "type": "surface"
           }
          ],
          "table": [
           {
            "cells": {
             "fill": {
              "color": "rgb(231,231,240)"
             },
             "line": {
              "color": "white"
             }
            },
            "header": {
             "fill": {
              "color": "rgb(183,183,191)"
             },
             "line": {
              "color": "white"
             }
            },
            "type": "table"
           }
          ]
         },
         "layout": {
          "annotationdefaults": {
           "arrowcolor": "rgb(67,103,167)"
          },
          "autotypenumbers": "strict",
          "coloraxis": {
           "colorbar": {
            "outlinewidth": 0,
            "tickcolor": "rgb(36,36,36)",
            "ticklen": 8,
            "ticks": "outside",
            "tickwidth": 2
           }
          },
          "colorscale": {
           "sequential": [
            [
             0,
             "rgb(2,4,25)"
            ],
            [
             0.06274509803921569,
             "rgb(24,15,41)"
            ],
            [
             0.12549019607843137,
             "rgb(47,23,57)"
            ],
            [
             0.18823529411764706,
             "rgb(71,28,72)"
            ],
            [
             0.25098039215686274,
             "rgb(97,30,82)"
            ],
            [
             0.3137254901960784,
             "rgb(123,30,89)"
            ],
            [
             0.3764705882352941,
             "rgb(150,27,91)"
            ],
            [
             0.4392156862745098,
             "rgb(177,22,88)"
            ],
            [
             0.5019607843137255,
             "rgb(203,26,79)"
            ],
            [
             0.5647058823529412,
             "rgb(223,47,67)"
            ],
            [
             0.6274509803921569,
             "rgb(236,76,61)"
            ],
            [
             0.6901960784313725,
             "rgb(242,107,73)"
            ],
            [
             0.7529411764705882,
             "rgb(244,135,95)"
            ],
            [
             0.8156862745098039,
             "rgb(245,162,122)"
            ],
            [
             0.8784313725490196,
             "rgb(246,188,153)"
            ],
            [
             0.9411764705882353,
             "rgb(247,212,187)"
            ],
            [
             1,
             "rgb(250,234,220)"
            ]
           ],
           "sequentialminus": [
            [
             0,
             "rgb(2,4,25)"
            ],
            [
             0.06274509803921569,
             "rgb(24,15,41)"
            ],
            [
             0.12549019607843137,
             "rgb(47,23,57)"
            ],
            [
             0.18823529411764706,
             "rgb(71,28,72)"
            ],
            [
             0.25098039215686274,
             "rgb(97,30,82)"
            ],
            [
             0.3137254901960784,
             "rgb(123,30,89)"
            ],
            [
             0.3764705882352941,
             "rgb(150,27,91)"
            ],
            [
             0.4392156862745098,
             "rgb(177,22,88)"
            ],
            [
             0.5019607843137255,
             "rgb(203,26,79)"
            ],
            [
             0.5647058823529412,
             "rgb(223,47,67)"
            ],
            [
             0.6274509803921569,
             "rgb(236,76,61)"
            ],
            [
             0.6901960784313725,
             "rgb(242,107,73)"
            ],
            [
             0.7529411764705882,
             "rgb(244,135,95)"
            ],
            [
             0.8156862745098039,
             "rgb(245,162,122)"
            ],
            [
             0.8784313725490196,
             "rgb(246,188,153)"
            ],
            [
             0.9411764705882353,
             "rgb(247,212,187)"
            ],
            [
             1,
             "rgb(250,234,220)"
            ]
           ]
          },
          "colorway": [
           "rgb(76,114,176)",
           "rgb(221,132,82)",
           "rgb(85,168,104)",
           "rgb(196,78,82)",
           "rgb(129,114,179)",
           "rgb(147,120,96)",
           "rgb(218,139,195)",
           "rgb(140,140,140)",
           "rgb(204,185,116)",
           "rgb(100,181,205)"
          ],
          "font": {
           "color": "rgb(36,36,36)"
          },
          "geo": {
           "bgcolor": "white",
           "lakecolor": "white",
           "landcolor": "rgb(234,234,242)",
           "showlakes": true,
           "showland": true,
           "subunitcolor": "white"
          },
          "hoverlabel": {
           "align": "left"
          },
          "hovermode": "closest",
          "paper_bgcolor": "white",
          "plot_bgcolor": "rgb(234,234,242)",
          "polar": {
           "angularaxis": {
            "gridcolor": "white",
            "linecolor": "white",
            "showgrid": true,
            "ticks": ""
           },
           "bgcolor": "rgb(234,234,242)",
           "radialaxis": {
            "gridcolor": "white",
            "linecolor": "white",
            "showgrid": true,
            "ticks": ""
           }
          },
          "scene": {
           "xaxis": {
            "backgroundcolor": "rgb(234,234,242)",
            "gridcolor": "white",
            "gridwidth": 2,
            "linecolor": "white",
            "showbackground": true,
            "showgrid": true,
            "ticks": "",
            "zerolinecolor": "white"
           },
           "yaxis": {
            "backgroundcolor": "rgb(234,234,242)",
            "gridcolor": "white",
            "gridwidth": 2,
            "linecolor": "white",
            "showbackground": true,
            "showgrid": true,
            "ticks": "",
            "zerolinecolor": "white"
           },
           "zaxis": {
            "backgroundcolor": "rgb(234,234,242)",
            "gridcolor": "white",
            "gridwidth": 2,
            "linecolor": "white",
            "showbackground": true,
            "showgrid": true,
            "ticks": "",
            "zerolinecolor": "white"
           }
          },
          "shapedefaults": {
           "fillcolor": "rgb(67,103,167)",
           "line": {
            "width": 0
           },
           "opacity": 0.5
          },
          "ternary": {
           "aaxis": {
            "gridcolor": "white",
            "linecolor": "white",
            "showgrid": true,
            "ticks": ""
           },
           "baxis": {
            "gridcolor": "white",
            "linecolor": "white",
            "showgrid": true,
            "ticks": ""
           },
           "bgcolor": "rgb(234,234,242)",
           "caxis": {
            "gridcolor": "white",
            "linecolor": "white",
            "showgrid": true,
            "ticks": ""
           }
          },
          "xaxis": {
           "automargin": true,
           "gridcolor": "white",
           "linecolor": "white",
           "showgrid": true,
           "ticks": "",
           "title": {
            "standoff": 15
           },
           "zerolinecolor": "white"
          },
          "yaxis": {
           "automargin": true,
           "gridcolor": "white",
           "linecolor": "white",
           "showgrid": true,
           "ticks": "",
           "title": {
            "standoff": 15
           },
           "zerolinecolor": "white"
          }
         }
        },
        "title": {
         "text": "Ideal Confusion Matrix"
        },
        "width": 1000,
        "xaxis": {
         "tickmode": "array",
         "ticktext": [
          "No Animal",
          "Animal"
         ],
         "tickvals": [
          0,
          1
         ],
         "title": {
          "text": "Prediction"
         }
        },
        "yaxis": {
         "tickmode": "array",
         "ticktext": [
          "No Animal",
          "Animal"
         ],
         "tickvals": [
          0,
          1
         ],
         "title": {
          "text": "Dataset"
         }
        }
       }
      }
     },
     "metadata": {},
     "output_type": "display_data"
    }
   ],
   "source": [
    "import plotly.graph_objects as go\n",
    "import numpy as np\n",
    "\n",
    "# Calcular totales de etiquetas reales\n",
    "total_positive = np.sum(y_true)  # Total de muestras positivas\n",
    "total_negative = len(y_true) - total_positive  # Total de muestras negativas\n",
    "\n",
    "# Crear la matriz de confusión ideal\n",
    "conf_matrix_ideal = np.array(\n",
    "    [\n",
    "        [total_negative, 0],  # Verdaderos negativos, Falsos positivos\n",
    "        [0, total_positive],  # Falsos negativos, Verdaderos positivos\n",
    "    ]\n",
    ")\n",
    "\n",
    "# Crear etiquetas con los números\n",
    "conf_matrix_ideal_text = [[str(value) for value in row] for row in conf_matrix_ideal]\n",
    "\n",
    "# Crear el heatmap con Plotly\n",
    "fig = go.Figure(\n",
    "    data=go.Heatmap(\n",
    "        z=conf_matrix_ideal,\n",
    "        x=[\"No Animal\", \"Animal\"],  # Predicted labels\n",
    "        y=[\"No Animal\", \"Animal\"],  # Actual labels\n",
    "        text=conf_matrix_ideal_text,  # Añadir los valores como texto\n",
    "        texttemplate=\"%{text}\",  # Mostrar los valores en las celdas\n",
    "        colorscale=\"Greens\",\n",
    "        showscale=True,\n",
    "    )\n",
    ")\n",
    "\n",
    "# Configurar diseño\n",
    "fig.update_layout(\n",
    "    title=\"Ideal Confusion Matrix\",\n",
    "    xaxis_title=\"Prediction\",\n",
    "    yaxis_title=\"Dataset\",\n",
    "    xaxis=dict(tickmode=\"array\", tickvals=[0, 1], ticktext=[\"No Animal\", \"Animal\"]),\n",
    "    yaxis=dict(tickmode=\"array\", tickvals=[0, 1], ticktext=[\"No Animal\", \"Animal\"]),\n",
    "    template=\"seaborn\",\n",
    "    width=1000,\n",
    "    height=1000,\n",
    ")\n",
    "\n",
    "# Mostrar la figura\n",
    "fig.show()"
   ]
  }
 ],
 "metadata": {
  "kernelspec": {
   "display_name": "TFG",
   "language": "python",
   "name": "python3"
  },
  "language_info": {
   "codemirror_mode": {
    "name": "ipython",
    "version": 3
   },
   "file_extension": ".py",
   "mimetype": "text/x-python",
   "name": "python",
   "nbconvert_exporter": "python",
   "pygments_lexer": "ipython3",
   "version": "3.8.19"
  }
 },
 "nbformat": 4,
 "nbformat_minor": 2
}
