{
 "cells": [
  {
   "cell_type": "code",
   "execution_count": 1,
   "metadata": {},
   "outputs": [
    {
     "name": "stderr",
     "output_type": "stream",
     "text": [
      "/Users/carlos/miniconda3/envs/TFG/lib/python3.8/site-packages/tensorflow_addons/utils/tfa_eol_msg.py:23: UserWarning: \n",
      "\n",
      "TensorFlow Addons (TFA) has ended development and introduction of new features.\n",
      "TFA has entered a minimal maintenance and release mode until a planned end of life in May 2024.\n",
      "Please modify downstream libraries to take dependencies from other repositories in our TensorFlow community (e.g. Keras, Keras-CV, and Keras-NLP). \n",
      "\n",
      "For more information see: https://github.com/tensorflow/addons/issues/2807 \n",
      "\n",
      "  warnings.warn(\n"
     ]
    }
   ],
   "source": [
    "import os\n",
    "\n",
    "import numpy as np\n",
    "import pandas as pd\n",
    "import tensorflow as tf\n",
    "import tensorflow_addons as tfa\n",
    "import src.model as models\n",
    "from sklearn.metrics import auc, confusion_matrix, roc_curve\n",
    "from tensorflow.keras.callbacks import TensorBoard\n",
    "from tensorflow.keras.metrics import AUC, BinaryAccuracy, Precision, Recall\n",
    "from tensorflow.keras.preprocessing.image import ImageDataGenerator\n",
    "\n",
    "import src.graphics as graphics"
   ]
  },
  {
   "cell_type": "code",
   "execution_count": 2,
   "metadata": {},
   "outputs": [],
   "source": [
    "VERSION = \"4\"\n",
    "MODEL_BASE_NAME = \"MegaClassifier_a_MobileNetV3\"\n",
    "\n",
    "DATASET_CSV = os.path.abspath(\n",
    "    \"./data/processed/onlyDetectionsForTrain/onlyDetectionsForTrain.csv\"\n",
    ")\n",
    "DATASET_PATH = os.path.dirname(DATASET_CSV)"
   ]
  },
  {
   "cell_type": "code",
   "execution_count": 3,
   "metadata": {},
   "outputs": [],
   "source": [
    "dataset = pd.read_csv(DATASET_CSV, sep=\";\")\n",
    "dataset[\"file_name\"] = dataset[\"file_name\"].apply(\n",
    "    lambda x: os.path.join(DATASET_PATH, x)\n",
    ")\n",
    "dataset[\"binary_label\"] = dataset[\"binary_label\"].astype(str)\n",
    "\n",
    "train_dataset = dataset[dataset[\"subset\"] == \"train\"]\n",
    "validationtrain_dataset = dataset[dataset[\"subset\"] == \"validation\"]\n",
    "test_dataset = dataset[dataset[\"subset\"] == \"test\"]\n",
    "\n",
    "EPOCHS = 10\n",
    "IMAGE_SIZE = (224, 224)\n",
    "IMAGE_SHAPE = IMAGE_SIZE + (3,)\n",
    "SEED = 42"
   ]
  },
  {
   "cell_type": "code",
   "execution_count": 4,
   "metadata": {},
   "outputs": [],
   "source": [
    "LEARNING_RATES = [1e-3, 3e-4, 1e-4, 3e-5, 1e-5]"
   ]
  },
  {
   "cell_type": "code",
   "execution_count": 5,
   "metadata": {},
   "outputs": [],
   "source": [
    "OPTIMIZERS = {\n",
    "    \"Adam\": lambda x: tf.keras.optimizers.legacy.Adam(learning_rate=x),\n",
    "}"
   ]
  },
  {
   "cell_type": "code",
   "execution_count": 6,
   "metadata": {},
   "outputs": [],
   "source": [
    "LOSS = {\n",
    "    \"BinaryFocalCrossentropy\": lambda x, y: tf.keras.losses.BinaryFocalCrossentropy(\n",
    "        alpha=x, gamma=y\n",
    "    ),\n",
    "}\n",
    "\n",
    "ALPHA = 0.75\n",
    "\n",
    "GAMMA = 2"
   ]
  },
  {
   "cell_type": "code",
   "execution_count": 7,
   "metadata": {},
   "outputs": [
    {
     "name": "stderr",
     "output_type": "stream",
     "text": [
      "2025-03-02 11:03:29.777628: I metal_plugin/src/device/metal_device.cc:1154] Metal device set to: Apple M1\n",
      "2025-03-02 11:03:29.777656: I metal_plugin/src/device/metal_device.cc:296] systemMemory: 16.00 GB\n",
      "2025-03-02 11:03:29.777661: I metal_plugin/src/device/metal_device.cc:313] maxCacheSize: 5.33 GB\n",
      "2025-03-02 11:03:29.777726: I tensorflow/core/common_runtime/pluggable_device/pluggable_device_factory.cc:303] Could not identify NUMA node of platform GPU ID 0, defaulting to 0. Your kernel may not have been built with NUMA support.\n",
      "2025-03-02 11:03:29.777924: I tensorflow/core/common_runtime/pluggable_device/pluggable_device_factory.cc:269] Created TensorFlow device (/job:localhost/replica:0/task:0/device:GPU:0 with 0 MB memory) -> physical PluggableDevice (device: 0, name: METAL, pci bus id: <undefined>)\n"
     ]
    }
   ],
   "source": [
    "METRICS = [\n",
    "    BinaryAccuracy(name=\"accuracy\"),\n",
    "    Precision(name=\"precision\"),\n",
    "    Recall(name=\"recall\"),\n",
    "    AUC(name=\"auc\"),\n",
    "]"
   ]
  },
  {
   "cell_type": "code",
   "execution_count": 8,
   "metadata": {},
   "outputs": [],
   "source": [
    "BATCH_SIZE = 64"
   ]
  },
  {
   "cell_type": "code",
   "execution_count": 9,
   "metadata": {},
   "outputs": [
    {
     "name": "stdout",
     "output_type": "stream",
     "text": [
      "Found 17906 validated image filenames belonging to 2 classes.\n",
      "Found 4286 validated image filenames belonging to 2 classes.\n",
      "Found 4286 validated image filenames belonging to 2 classes.\n",
      "Epoch 1/10\n"
     ]
    },
    {
     "name": "stderr",
     "output_type": "stream",
     "text": [
      "2025-03-02 11:03:33.523114: I tensorflow/core/grappler/optimizers/custom_graph_optimizer_registry.cc:114] Plugin optimizer for device_type GPU is enabled.\n"
     ]
    },
    {
     "name": "stdout",
     "output_type": "stream",
     "text": [
      "280/280 [==============================] - ETA: 0s - loss: 0.0781 - accuracy: 0.8759 - precision: 0.9123 - recall: 0.9204 - auc: 0.9346"
     ]
    },
    {
     "name": "stderr",
     "output_type": "stream",
     "text": [
      "2025-03-02 11:05:05.102252: I tensorflow/core/grappler/optimizers/custom_graph_optimizer_registry.cc:114] Plugin optimizer for device_type GPU is enabled.\n"
     ]
    },
    {
     "name": "stdout",
     "output_type": "stream",
     "text": [
      "280/280 [==============================] - 116s 403ms/step - loss: 0.0781 - accuracy: 0.8759 - precision: 0.9123 - recall: 0.9204 - auc: 0.9346 - val_loss: 0.0685 - val_accuracy: 0.9246 - val_precision: 0.9417 - val_recall: 0.9446 - val_auc: 0.9582\n",
      "Epoch 2/10\n",
      "280/280 [==============================] - 130s 466ms/step - loss: 0.0503 - accuracy: 0.9189 - precision: 0.9460 - recall: 0.9441 - auc: 0.9713 - val_loss: 0.0550 - val_accuracy: 0.9361 - val_precision: 0.9595 - val_recall: 0.9432 - val_auc: 0.9699\n",
      "Epoch 3/10\n",
      "280/280 [==============================] - 119s 425ms/step - loss: 0.0450 - accuracy: 0.9287 - precision: 0.9525 - recall: 0.9510 - auc: 0.9772 - val_loss: 0.0495 - val_accuracy: 0.9344 - val_precision: 0.9620 - val_recall: 0.9379 - val_auc: 0.9757\n",
      "Epoch 4/10\n",
      "280/280 [==============================] - 111s 398ms/step - loss: 0.0414 - accuracy: 0.9339 - precision: 0.9560 - recall: 0.9545 - auc: 0.9808 - val_loss: 0.0470 - val_accuracy: 0.9358 - val_precision: 0.9559 - val_recall: 0.9468 - val_auc: 0.9782\n",
      "Epoch 5/10\n",
      "280/280 [==============================] - 116s 415ms/step - loss: 0.0400 - accuracy: 0.9371 - precision: 0.9595 - recall: 0.9553 - auc: 0.9821 - val_loss: 0.0463 - val_accuracy: 0.9363 - val_precision: 0.9464 - val_recall: 0.9580 - val_auc: 0.9802\n",
      "Epoch 6/10\n",
      "280/280 [==============================] - 104s 373ms/step - loss: 0.0387 - accuracy: 0.9390 - precision: 0.9593 - recall: 0.9581 - auc: 0.9833 - val_loss: 0.0444 - val_accuracy: 0.9342 - val_precision: 0.9465 - val_recall: 0.9545 - val_auc: 0.9814\n",
      "Epoch 7/10\n",
      "280/280 [==============================] - 107s 381ms/step - loss: 0.0375 - accuracy: 0.9399 - precision: 0.9607 - recall: 0.9578 - auc: 0.9842 - val_loss: 0.0451 - val_accuracy: 0.9340 - val_precision: 0.9415 - val_recall: 0.9598 - val_auc: 0.9819\n",
      "Epoch 8/10\n",
      "280/280 [==============================] - 110s 392ms/step - loss: 0.0369 - accuracy: 0.9414 - precision: 0.9609 - recall: 0.9597 - auc: 0.9847 - val_loss: 0.0445 - val_accuracy: 0.9363 - val_precision: 0.9479 - val_recall: 0.9563 - val_auc: 0.9814\n",
      "Epoch 9/10\n",
      "280/280 [==============================] - 103s 366ms/step - loss: 0.0361 - accuracy: 0.9419 - precision: 0.9616 - recall: 0.9596 - auc: 0.9854 - val_loss: 0.0453 - val_accuracy: 0.9363 - val_precision: 0.9641 - val_recall: 0.9386 - val_auc: 0.9809\n",
      "Epoch 10/10\n",
      "280/280 [==============================] - 105s 377ms/step - loss: 0.0354 - accuracy: 0.9430 - precision: 0.9626 - recall: 0.9602 - auc: 0.9859 - val_loss: 0.0465 - val_accuracy: 0.9328 - val_precision: 0.9639 - val_recall: 0.9334 - val_auc: 0.9802\n",
      "INFO:tensorflow:Assets written to: /Users/carlos/WORKSPACE/MegaClassifier/models/MegaClassifier_a_MobileNetV3/v4/v4.0/assets\n"
     ]
    },
    {
     "name": "stderr",
     "output_type": "stream",
     "text": [
      "INFO:tensorflow:Assets written to: /Users/carlos/WORKSPACE/MegaClassifier/models/MegaClassifier_a_MobileNetV3/v4/v4.0/assets\n"
     ]
    },
    {
     "name": "stdout",
     "output_type": "stream",
     "text": [
      "67/67 [==============================] - 22s 317ms/step - loss: 0.0434 - accuracy: 0.9342 - precision: 0.9688 - recall: 0.9305 - auc: 0.9834\n"
     ]
    },
    {
     "name": "stderr",
     "output_type": "stream",
     "text": [
      "2025-03-02 11:22:44.548058: I tensorflow/core/grappler/optimizers/custom_graph_optimizer_registry.cc:114] Plugin optimizer for device_type GPU is enabled.\n"
     ]
    },
    {
     "name": "stdout",
     "output_type": "stream",
     "text": [
      "67/67 [==============================] - 23s 324ms/step\n",
      "Found 17906 validated image filenames belonging to 2 classes.\n",
      "Found 4286 validated image filenames belonging to 2 classes.\n",
      "Found 4286 validated image filenames belonging to 2 classes.\n",
      "Epoch 1/10\n"
     ]
    },
    {
     "name": "stderr",
     "output_type": "stream",
     "text": [
      "2025-03-02 11:23:09.804975: I tensorflow/core/grappler/optimizers/custom_graph_optimizer_registry.cc:114] Plugin optimizer for device_type GPU is enabled.\n"
     ]
    },
    {
     "name": "stdout",
     "output_type": "stream",
     "text": [
      "280/280 [==============================] - ETA: 0s - loss: 0.1016 - accuracy: 0.8534 - precision: 0.8979 - recall: 0.8997 - auc: 0.9166"
     ]
    },
    {
     "name": "stderr",
     "output_type": "stream",
     "text": [
      "2025-03-02 11:24:42.212276: I tensorflow/core/grappler/optimizers/custom_graph_optimizer_registry.cc:114] Plugin optimizer for device_type GPU is enabled.\n"
     ]
    },
    {
     "name": "stdout",
     "output_type": "stream",
     "text": [
      "280/280 [==============================] - 118s 413ms/step - loss: 0.1016 - accuracy: 0.8534 - precision: 0.8979 - recall: 0.8997 - auc: 0.9166 - val_loss: 0.0794 - val_accuracy: 0.9027 - val_precision: 0.9144 - val_recall: 0.9411 - val_auc: 0.9457\n",
      "Epoch 2/10\n",
      "280/280 [==============================] - 119s 425ms/step - loss: 0.0600 - accuracy: 0.9061 - precision: 0.9351 - recall: 0.9380 - auc: 0.9598 - val_loss: 0.0645 - val_accuracy: 0.9160 - val_precision: 0.9444 - val_recall: 0.9277 - val_auc: 0.9596\n",
      "Epoch 3/10\n",
      "280/280 [==============================] - 109s 391ms/step - loss: 0.0528 - accuracy: 0.9163 - precision: 0.9445 - recall: 0.9420 - auc: 0.9688 - val_loss: 0.0583 - val_accuracy: 0.9221 - val_precision: 0.9374 - val_recall: 0.9453 - val_auc: 0.9685\n",
      "Epoch 4/10\n",
      "280/280 [==============================] - 107s 381ms/step - loss: 0.0488 - accuracy: 0.9233 - precision: 0.9484 - recall: 0.9477 - auc: 0.9733 - val_loss: 0.0538 - val_accuracy: 0.9239 - val_precision: 0.9404 - val_recall: 0.9450 - val_auc: 0.9729\n",
      "Epoch 5/10\n",
      "280/280 [==============================] - 110s 392ms/step - loss: 0.0462 - accuracy: 0.9256 - precision: 0.9504 - recall: 0.9488 - auc: 0.9760 - val_loss: 0.0517 - val_accuracy: 0.9263 - val_precision: 0.9481 - val_recall: 0.9401 - val_auc: 0.9750\n",
      "Epoch 6/10\n",
      "280/280 [==============================] - 108s 384ms/step - loss: 0.0443 - accuracy: 0.9290 - precision: 0.9528 - recall: 0.9510 - auc: 0.9780 - val_loss: 0.0494 - val_accuracy: 0.9284 - val_precision: 0.9502 - val_recall: 0.9411 - val_auc: 0.9772\n",
      "Epoch 7/10\n",
      "280/280 [==============================] - 104s 372ms/step - loss: 0.0427 - accuracy: 0.9319 - precision: 0.9555 - recall: 0.9522 - auc: 0.9795 - val_loss: 0.0480 - val_accuracy: 0.9286 - val_precision: 0.9515 - val_recall: 0.9401 - val_auc: 0.9782\n",
      "Epoch 8/10\n",
      "280/280 [==============================] - 112s 401ms/step - loss: 0.0418 - accuracy: 0.9328 - precision: 0.9566 - recall: 0.9523 - auc: 0.9804 - val_loss: 0.0467 - val_accuracy: 0.9319 - val_precision: 0.9517 - val_recall: 0.9450 - val_auc: 0.9796\n",
      "Epoch 9/10\n",
      "280/280 [==============================] - 113s 403ms/step - loss: 0.0406 - accuracy: 0.9346 - precision: 0.9568 - recall: 0.9546 - auc: 0.9815 - val_loss: 0.0461 - val_accuracy: 0.9319 - val_precision: 0.9536 - val_recall: 0.9429 - val_auc: 0.9801\n",
      "Epoch 10/10\n",
      "280/280 [==============================] - 108s 384ms/step - loss: 0.0398 - accuracy: 0.9359 - precision: 0.9588 - recall: 0.9543 - auc: 0.9823 - val_loss: 0.0457 - val_accuracy: 0.9333 - val_precision: 0.9541 - val_recall: 0.9446 - val_auc: 0.9803\n",
      "INFO:tensorflow:Assets written to: /Users/carlos/WORKSPACE/MegaClassifier/models/MegaClassifier_a_MobileNetV3/v4/v4.1/assets\n"
     ]
    },
    {
     "name": "stderr",
     "output_type": "stream",
     "text": [
      "INFO:tensorflow:Assets written to: /Users/carlos/WORKSPACE/MegaClassifier/models/MegaClassifier_a_MobileNetV3/v4/v4.1/assets\n"
     ]
    },
    {
     "name": "stdout",
     "output_type": "stream",
     "text": [
      "67/67 [==============================] - 20s 299ms/step - loss: 0.0428 - accuracy: 0.9375 - precision: 0.9582 - recall: 0.9468 - auc: 0.9826\n"
     ]
    },
    {
     "name": "stderr",
     "output_type": "stream",
     "text": [
      "2025-03-02 11:42:03.590112: I tensorflow/core/grappler/optimizers/custom_graph_optimizer_registry.cc:114] Plugin optimizer for device_type GPU is enabled.\n"
     ]
    },
    {
     "name": "stdout",
     "output_type": "stream",
     "text": [
      "67/67 [==============================] - 20s 293ms/step\n",
      "Found 17906 validated image filenames belonging to 2 classes.\n",
      "Found 4286 validated image filenames belonging to 2 classes.\n",
      "Found 4286 validated image filenames belonging to 2 classes.\n",
      "Epoch 1/10\n"
     ]
    },
    {
     "name": "stderr",
     "output_type": "stream",
     "text": [
      "2025-03-02 11:42:26.246669: I tensorflow/core/grappler/optimizers/custom_graph_optimizer_registry.cc:114] Plugin optimizer for device_type GPU is enabled.\n"
     ]
    },
    {
     "name": "stdout",
     "output_type": "stream",
     "text": [
      "280/280 [==============================] - ETA: 0s - loss: 0.2257 - accuracy: 0.6878 - precision: 0.7915 - recall: 0.7721 - auc: 0.7063"
     ]
    },
    {
     "name": "stderr",
     "output_type": "stream",
     "text": [
      "2025-03-02 11:43:51.226294: I tensorflow/core/grappler/optimizers/custom_graph_optimizer_registry.cc:114] Plugin optimizer for device_type GPU is enabled.\n"
     ]
    },
    {
     "name": "stdout",
     "output_type": "stream",
     "text": [
      "280/280 [==============================] - 108s 380ms/step - loss: 0.2257 - accuracy: 0.6878 - precision: 0.7915 - recall: 0.7721 - auc: 0.7063 - val_loss: 0.1347 - val_accuracy: 0.6846 - val_precision: 0.7215 - val_recall: 0.8523 - val_auc: 0.8176\n",
      "Epoch 2/10\n",
      "280/280 [==============================] - 112s 400ms/step - loss: 0.1022 - accuracy: 0.8110 - precision: 0.8649 - recall: 0.8819 - auc: 0.8747 - val_loss: 0.1044 - val_accuracy: 0.7517 - val_precision: 0.7628 - val_recall: 0.9069 - val_auc: 0.8938\n",
      "Epoch 3/10\n",
      "280/280 [==============================] - 102s 363ms/step - loss: 0.0808 - accuracy: 0.8599 - precision: 0.8989 - recall: 0.9132 - auc: 0.9227 - val_loss: 0.0913 - val_accuracy: 0.7769 - val_precision: 0.7799 - val_recall: 0.9235 - val_auc: 0.9221\n",
      "Epoch 4/10\n",
      "280/280 [==============================] - 105s 374ms/step - loss: 0.0710 - accuracy: 0.8790 - precision: 0.9121 - recall: 0.9254 - auc: 0.9411 - val_loss: 0.0826 - val_accuracy: 0.7879 - val_precision: 0.7889 - val_recall: 0.9277 - val_auc: 0.9365\n",
      "Epoch 5/10\n",
      "280/280 [==============================] - 112s 399ms/step - loss: 0.0650 - accuracy: 0.8913 - precision: 0.9217 - recall: 0.9321 - auc: 0.9510 - val_loss: 0.0765 - val_accuracy: 0.9057 - val_precision: 0.9276 - val_recall: 0.9302 - val_auc: 0.9454\n",
      "Epoch 6/10\n",
      "280/280 [==============================] - 111s 396ms/step - loss: 0.0608 - accuracy: 0.9005 - precision: 0.9276 - recall: 0.9386 - auc: 0.9573 - val_loss: 0.0720 - val_accuracy: 0.9097 - val_precision: 0.9310 - val_recall: 0.9327 - val_auc: 0.9519\n",
      "Epoch 7/10\n",
      "280/280 [==============================] - 106s 378ms/step - loss: 0.0577 - accuracy: 0.9072 - precision: 0.9343 - recall: 0.9405 - auc: 0.9618 - val_loss: 0.0687 - val_accuracy: 0.9146 - val_precision: 0.9352 - val_recall: 0.9358 - val_auc: 0.9565\n",
      "Epoch 8/10\n",
      "280/280 [==============================] - 106s 380ms/step - loss: 0.0553 - accuracy: 0.9114 - precision: 0.9378 - recall: 0.9426 - auc: 0.9650 - val_loss: 0.0666 - val_accuracy: 0.9153 - val_precision: 0.9277 - val_recall: 0.9457 - val_auc: 0.9616\n",
      "Epoch 9/10\n",
      "280/280 [==============================] - 108s 387ms/step - loss: 0.0533 - accuracy: 0.9149 - precision: 0.9403 - recall: 0.9449 - auc: 0.9676 - val_loss: 0.0638 - val_accuracy: 0.9211 - val_precision: 0.9423 - val_recall: 0.9383 - val_auc: 0.9623\n",
      "Epoch 10/10\n",
      "280/280 [==============================] - 103s 368ms/step - loss: 0.0515 - accuracy: 0.9182 - precision: 0.9439 - recall: 0.9455 - auc: 0.9698 - val_loss: 0.0620 - val_accuracy: 0.9239 - val_precision: 0.9441 - val_recall: 0.9408 - val_auc: 0.9640\n",
      "INFO:tensorflow:Assets written to: /Users/carlos/WORKSPACE/MegaClassifier/models/MegaClassifier_a_MobileNetV3/v4/v4.2/assets\n"
     ]
    },
    {
     "name": "stderr",
     "output_type": "stream",
     "text": [
      "INFO:tensorflow:Assets written to: /Users/carlos/WORKSPACE/MegaClassifier/models/MegaClassifier_a_MobileNetV3/v4/v4.2/assets\n"
     ]
    },
    {
     "name": "stdout",
     "output_type": "stream",
     "text": [
      "67/67 [==============================] - 21s 313ms/step - loss: 0.0588 - accuracy: 0.9195 - precision: 0.9425 - recall: 0.9355 - auc: 0.9664\n"
     ]
    },
    {
     "name": "stderr",
     "output_type": "stream",
     "text": [
      "2025-03-02 12:00:47.429402: I tensorflow/core/grappler/optimizers/custom_graph_optimizer_registry.cc:114] Plugin optimizer for device_type GPU is enabled.\n"
     ]
    },
    {
     "name": "stdout",
     "output_type": "stream",
     "text": [
      "67/67 [==============================] - 23s 337ms/step\n",
      "Found 17906 validated image filenames belonging to 2 classes.\n",
      "Found 4286 validated image filenames belonging to 2 classes.\n",
      "Found 4286 validated image filenames belonging to 2 classes.\n",
      "Epoch 1/10\n"
     ]
    },
    {
     "name": "stderr",
     "output_type": "stream",
     "text": [
      "2025-03-02 12:01:13.250921: I tensorflow/core/grappler/optimizers/custom_graph_optimizer_registry.cc:114] Plugin optimizer for device_type GPU is enabled.\n"
     ]
    },
    {
     "name": "stdout",
     "output_type": "stream",
     "text": [
      "280/280 [==============================] - ETA: 0s - loss: 0.2748 - accuracy: 0.6359 - precision: 0.7935 - recall: 0.6719 - auc: 0.6482"
     ]
    },
    {
     "name": "stderr",
     "output_type": "stream",
     "text": [
      "2025-03-02 12:02:43.936977: I tensorflow/core/grappler/optimizers/custom_graph_optimizer_registry.cc:114] Plugin optimizer for device_type GPU is enabled.\n"
     ]
    },
    {
     "name": "stdout",
     "output_type": "stream",
     "text": [
      "280/280 [==============================] - 114s 401ms/step - loss: 0.2748 - accuracy: 0.6359 - precision: 0.7935 - recall: 0.6719 - auc: 0.6482 - val_loss: 0.1909 - val_accuracy: 0.7245 - val_precision: 0.7894 - val_recall: 0.7958 - val_auc: 0.6995\n",
      "Epoch 2/10\n",
      "280/280 [==============================] - 112s 398ms/step - loss: 0.1672 - accuracy: 0.7214 - precision: 0.8071 - recall: 0.8186 - auc: 0.7254 - val_loss: 0.1491 - val_accuracy: 0.7821 - val_precision: 0.8282 - val_recall: 0.8463 - val_auc: 0.8007\n",
      "Epoch 3/10\n",
      "280/280 [==============================] - 105s 373ms/step - loss: 0.1322 - accuracy: 0.7708 - precision: 0.8385 - recall: 0.8544 - auc: 0.8139 - val_loss: 0.1285 - val_accuracy: 0.7060 - val_precision: 0.7375 - val_recall: 0.8628 - val_auc: 0.8459\n",
      "Epoch 4/10\n",
      "280/280 [==============================] - 104s 373ms/step - loss: 0.1126 - accuracy: 0.8039 - precision: 0.8631 - recall: 0.8732 - auc: 0.8600 - val_loss: 0.1162 - val_accuracy: 0.7329 - val_precision: 0.7528 - val_recall: 0.8879 - val_auc: 0.8750\n",
      "Epoch 5/10\n",
      "280/280 [==============================] - 107s 381ms/step - loss: 0.0997 - accuracy: 0.8254 - precision: 0.8775 - recall: 0.8876 - auc: 0.8873 - val_loss: 0.1075 - val_accuracy: 0.7487 - val_precision: 0.7651 - val_recall: 0.8949 - val_auc: 0.8930\n",
      "Epoch 6/10\n",
      "280/280 [==============================] - 100s 357ms/step - loss: 0.0908 - accuracy: 0.8399 - precision: 0.8887 - recall: 0.8955 - auc: 0.9056 - val_loss: 0.1015 - val_accuracy: 0.7578 - val_precision: 0.7684 - val_recall: 0.9076 - val_auc: 0.9070\n",
      "Epoch 7/10\n",
      "280/280 [==============================] - 106s 380ms/step - loss: 0.0843 - accuracy: 0.8511 - precision: 0.8938 - recall: 0.9061 - auc: 0.9182 - val_loss: 0.0963 - val_accuracy: 0.7660 - val_precision: 0.7758 - val_recall: 0.9090 - val_auc: 0.9142\n",
      "Epoch 8/10\n",
      "280/280 [==============================] - 112s 402ms/step - loss: 0.0795 - accuracy: 0.8611 - precision: 0.9022 - recall: 0.9107 - auc: 0.9272 - val_loss: 0.0923 - val_accuracy: 0.7725 - val_precision: 0.7793 - val_recall: 0.9154 - val_auc: 0.9217\n",
      "Epoch 9/10\n",
      "280/280 [==============================] - 107s 381ms/step - loss: 0.0756 - accuracy: 0.8685 - precision: 0.9073 - recall: 0.9155 - auc: 0.9342 - val_loss: 0.0885 - val_accuracy: 0.7760 - val_precision: 0.7817 - val_recall: 0.9178 - val_auc: 0.9284\n",
      "Epoch 10/10\n",
      "280/280 [==============================] - 103s 369ms/step - loss: 0.0725 - accuracy: 0.8753 - precision: 0.9117 - recall: 0.9203 - auc: 0.9397 - val_loss: 0.0853 - val_accuracy: 0.8889 - val_precision: 0.9140 - val_recall: 0.9185 - val_auc: 0.9329\n",
      "INFO:tensorflow:Assets written to: /Users/carlos/WORKSPACE/MegaClassifier/models/MegaClassifier_a_MobileNetV3/v4/v4.3/assets\n"
     ]
    },
    {
     "name": "stderr",
     "output_type": "stream",
     "text": [
      "INFO:tensorflow:Assets written to: /Users/carlos/WORKSPACE/MegaClassifier/models/MegaClassifier_a_MobileNetV3/v4/v4.3/assets\n"
     ]
    },
    {
     "name": "stdout",
     "output_type": "stream",
     "text": [
      "67/67 [==============================] - 22s 316ms/step - loss: 0.0823 - accuracy: 0.8831 - precision: 0.9127 - recall: 0.9104 - auc: 0.9312\n"
     ]
    },
    {
     "name": "stderr",
     "output_type": "stream",
     "text": [
      "2025-03-02 12:19:32.630667: I tensorflow/core/grappler/optimizers/custom_graph_optimizer_registry.cc:114] Plugin optimizer for device_type GPU is enabled.\n"
     ]
    },
    {
     "name": "stdout",
     "output_type": "stream",
     "text": [
      "67/67 [==============================] - 21s 304ms/step\n",
      "Found 17906 validated image filenames belonging to 2 classes.\n",
      "Found 4286 validated image filenames belonging to 2 classes.\n",
      "Found 4286 validated image filenames belonging to 2 classes.\n",
      "Epoch 1/10\n"
     ]
    },
    {
     "name": "stderr",
     "output_type": "stream",
     "text": [
      "2025-03-02 12:19:56.836023: I tensorflow/core/grappler/optimizers/custom_graph_optimizer_registry.cc:114] Plugin optimizer for device_type GPU is enabled.\n"
     ]
    },
    {
     "name": "stdout",
     "output_type": "stream",
     "text": [
      "280/280 [==============================] - ETA: 0s - loss: 0.1770 - accuracy: 0.7451 - precision: 0.8646 - recall: 0.7683 - auc: 0.7931"
     ]
    },
    {
     "name": "stderr",
     "output_type": "stream",
     "text": [
      "2025-03-02 12:21:24.847112: I tensorflow/core/grappler/optimizers/custom_graph_optimizer_registry.cc:114] Plugin optimizer for device_type GPU is enabled.\n"
     ]
    },
    {
     "name": "stdout",
     "output_type": "stream",
     "text": [
      "280/280 [==============================] - 110s 385ms/step - loss: 0.1770 - accuracy: 0.7451 - precision: 0.8646 - recall: 0.7683 - auc: 0.7931 - val_loss: 0.1699 - val_accuracy: 0.6685 - val_precision: 0.7255 - val_recall: 0.8025 - val_auc: 0.7486\n",
      "Epoch 2/10\n",
      "280/280 [==============================] - 100s 357ms/step - loss: 0.1399 - accuracy: 0.7726 - precision: 0.8509 - recall: 0.8393 - auc: 0.8056 - val_loss: 0.1496 - val_accuracy: 0.6983 - val_precision: 0.7334 - val_recall: 0.8547 - val_auc: 0.8007\n",
      "Epoch 3/10\n",
      "280/280 [==============================] - 106s 378ms/step - loss: 0.1257 - accuracy: 0.7972 - precision: 0.8579 - recall: 0.8695 - auc: 0.8366 - val_loss: 0.1375 - val_accuracy: 0.7147 - val_precision: 0.7424 - val_recall: 0.8709 - val_auc: 0.8300\n",
      "Epoch 4/10\n",
      "280/280 [==============================] - 108s 387ms/step - loss: 0.1170 - accuracy: 0.8101 - precision: 0.8654 - recall: 0.8797 - auc: 0.8570 - val_loss: 0.1291 - val_accuracy: 0.7231 - val_precision: 0.7487 - val_recall: 0.8752 - val_auc: 0.8495\n",
      "Epoch 5/10\n",
      "280/280 [==============================] - 105s 374ms/step - loss: 0.1108 - accuracy: 0.8185 - precision: 0.8719 - recall: 0.8842 - auc: 0.8712 - val_loss: 0.1226 - val_accuracy: 0.7340 - val_precision: 0.7547 - val_recall: 0.8861 - val_auc: 0.8636\n",
      "Epoch 6/10\n",
      "280/280 [==============================] - 104s 371ms/step - loss: 0.1059 - accuracy: 0.8258 - precision: 0.8763 - recall: 0.8899 - auc: 0.8817 - val_loss: 0.1172 - val_accuracy: 0.7417 - val_precision: 0.7613 - val_recall: 0.8882 - val_auc: 0.8747\n",
      "Epoch 7/10\n",
      "280/280 [==============================] - 106s 379ms/step - loss: 0.1018 - accuracy: 0.8315 - precision: 0.8816 - recall: 0.8917 - auc: 0.8902 - val_loss: 0.1127 - val_accuracy: 0.7469 - val_precision: 0.7644 - val_recall: 0.8925 - val_auc: 0.8835\n",
      "Epoch 8/10\n",
      "280/280 [==============================] - 100s 356ms/step - loss: 0.0982 - accuracy: 0.8373 - precision: 0.8855 - recall: 0.8957 - auc: 0.8970 - val_loss: 0.1087 - val_accuracy: 0.7487 - val_precision: 0.7663 - val_recall: 0.8925 - val_auc: 0.8904\n",
      "Epoch 9/10\n",
      "280/280 [==============================] - 106s 377ms/step - loss: 0.0950 - accuracy: 0.8430 - precision: 0.8896 - recall: 0.8991 - auc: 0.9030 - val_loss: 0.1051 - val_accuracy: 0.7503 - val_precision: 0.7676 - val_recall: 0.8932 - val_auc: 0.8976\n",
      "Epoch 10/10\n",
      "280/280 [==============================] - 109s 388ms/step - loss: 0.0921 - accuracy: 0.8483 - precision: 0.8924 - recall: 0.9036 - auc: 0.9082 - val_loss: 0.1019 - val_accuracy: 0.7541 - val_precision: 0.7697 - val_recall: 0.8967 - val_auc: 0.9014\n",
      "INFO:tensorflow:Assets written to: /Users/carlos/WORKSPACE/MegaClassifier/models/MegaClassifier_a_MobileNetV3/v4/v4.4/assets\n"
     ]
    },
    {
     "name": "stderr",
     "output_type": "stream",
     "text": [
      "INFO:tensorflow:Assets written to: /Users/carlos/WORKSPACE/MegaClassifier/models/MegaClassifier_a_MobileNetV3/v4/v4.4/assets\n"
     ]
    },
    {
     "name": "stdout",
     "output_type": "stream",
     "text": [
      "67/67 [==============================] - 22s 313ms/step - loss: 0.0989 - accuracy: 0.7674 - precision: 0.7782 - recall: 0.9069 - auc: 0.9084\n"
     ]
    },
    {
     "name": "stderr",
     "output_type": "stream",
     "text": [
      "2025-03-02 12:37:58.223589: I tensorflow/core/grappler/optimizers/custom_graph_optimizer_registry.cc:114] Plugin optimizer for device_type GPU is enabled.\n"
     ]
    },
    {
     "name": "stdout",
     "output_type": "stream",
     "text": [
      "67/67 [==============================] - 21s 301ms/step\n",
      "\n",
      "\n",
      "\n"
     ]
    }
   ],
   "source": [
    "SUBVERSION = 0\n",
    "\n",
    "for LEARNING_RATE in LEARNING_RATES:\n",
    "    LOGS_PATH = os.path.abspath(\n",
    "        f\"./logs/{MODEL_BASE_NAME}/v{VERSION}/v{VERSION}.{SUBVERSION}\"\n",
    "    )\n",
    "    MODELS_PATH = os.path.abspath(\n",
    "        f\"./models/{MODEL_BASE_NAME}/v{VERSION}/v{VERSION}.{SUBVERSION}\"\n",
    "    )\n",
    "    REPORTS_PATH = os.path.abspath(\n",
    "        f\"./reports/{MODEL_BASE_NAME}/v{VERSION}/v{VERSION}.{SUBVERSION}\"\n",
    "    )\n",
    "\n",
    "    MODEL_COMPLETE_NAME = f\"{MODEL_BASE_NAME} v{VERSION}.{SUBVERSION}\"\n",
    "\n",
    "    train_datagen = ImageDataGenerator(\n",
    "        preprocessing_function=tf.keras.applications.mobilenet_v3.preprocess_input,\n",
    "    )\n",
    "    train_images = train_datagen.flow_from_dataframe(\n",
    "        dataframe=train_dataset,\n",
    "        x_col=\"file_name\",\n",
    "        y_col=\"binary_label\",\n",
    "        target_size=IMAGE_SIZE,\n",
    "        batch_size=BATCH_SIZE,\n",
    "        class_mode=\"binary\",\n",
    "        shuffle=True,\n",
    "        seed=SEED,\n",
    "    )\n",
    "\n",
    "    datagen = ImageDataGenerator(\n",
    "        preprocessing_function=tf.keras.applications.mobilenet_v3.preprocess_input,\n",
    "    )\n",
    "    validation_images = datagen.flow_from_dataframe(\n",
    "        dataframe=validationtrain_dataset,\n",
    "        x_col=\"file_name\",\n",
    "        y_col=\"binary_label\",\n",
    "        target_size=IMAGE_SIZE,\n",
    "        batch_size=BATCH_SIZE,\n",
    "        class_mode=\"binary\",\n",
    "        shuffle=True,\n",
    "        seed=SEED,\n",
    "    )\n",
    "    test_images = datagen.flow_from_dataframe(\n",
    "        dataframe=test_dataset,\n",
    "        x_col=\"file_name\",\n",
    "        y_col=\"binary_label\",\n",
    "        target_size=IMAGE_SIZE,\n",
    "        batch_size=BATCH_SIZE,\n",
    "        class_mode=\"binary\",\n",
    "        shuffle=False,\n",
    "        seed=SEED,\n",
    "    )\n",
    "\n",
    "    pretrained_model = tf.keras.applications.MobileNetV3Large(\n",
    "        weights=\"imagenet\",\n",
    "        include_top=False,\n",
    "        input_shape=IMAGE_SHAPE,\n",
    "    )\n",
    "    pretrained_model.trainable = False\n",
    "\n",
    "    model = tf.keras.Sequential(\n",
    "        [\n",
    "            pretrained_model,\n",
    "            tf.keras.layers.GlobalAveragePooling2D(),\n",
    "            tf.keras.layers.Dense(1, activation=\"sigmoid\"),\n",
    "        ],\n",
    "        name=f\"{MODEL_BASE_NAME}_v{VERSION}.{SUBVERSION}\",\n",
    "    )\n",
    "\n",
    "    model.compile(\n",
    "        optimizer=OPTIMIZERS[\"Adam\"](LEARNING_RATE),\n",
    "        loss=LOSS[\"BinaryFocalCrossentropy\"](ALPHA, GAMMA),\n",
    "        metrics=METRICS,\n",
    "    )\n",
    "\n",
    "    history = model.fit(\n",
    "        train_images,\n",
    "        epochs=EPOCHS,\n",
    "        validation_data=validation_images,\n",
    "        callbacks=[TensorBoard(log_dir=LOGS_PATH)],\n",
    "    )\n",
    "\n",
    "    dataframe = pd.DataFrame(history.history)\n",
    "    history_path = os.path.join(LOGS_PATH, f\"history_v{VERSION}.{SUBVERSION}.csv\")\n",
    "    dataframe.to_csv(history_path, sep=\";\", index=False)\n",
    "\n",
    "    os.makedirs(REPORTS_PATH, exist_ok=True)\n",
    "    accuracy_chart = graphics.create_training_accuracy_chart(\n",
    "        history_path=history_path,\n",
    "        model_name=MODEL_COMPLETE_NAME,\n",
    "    )\n",
    "    accuracy_chart.write_image(f\"{REPORTS_PATH}/accuracy_v{VERSION}.{SUBVERSION}.png\")\n",
    "\n",
    "    loss_chart = graphics.create_training_loss_chart(\n",
    "        history_path=history_path,\n",
    "        model_name=MODEL_COMPLETE_NAME,\n",
    "    )\n",
    "    loss_chart.write_image(f\"{REPORTS_PATH}/loss_v{VERSION}.{SUBVERSION}.png\")\n",
    "\n",
    "    os.makedirs(MODELS_PATH, exist_ok=True)\n",
    "    model.save(MODELS_PATH)\n",
    "\n",
    "    results = model.evaluate(test_images)\n",
    "    metric_names = history.model.metrics_names\n",
    "    evaluation_results = {\n",
    "        (\"test_\" + name): value for name, value in zip(metric_names, results)\n",
    "    }\n",
    "\n",
    "    evaluation = pd.DataFrame([evaluation_results])\n",
    "    evaluation.to_csv(\n",
    "        os.path.join(LOGS_PATH, f\"evaluation_v{VERSION}.{SUBVERSION}.csv\"),\n",
    "        sep=\";\",\n",
    "        index=False,\n",
    "    )\n",
    "\n",
    "    y_pred_prob = model.predict(test_images)\n",
    "    y_true = test_images.labels\n",
    "\n",
    "    fpr, tpr, thresholds = roc_curve(y_true, y_pred_prob)\n",
    "    roc_auc = auc(fpr, tpr)\n",
    "\n",
    "    roc_curve_chart = graphics.create_roc_curve_chart(\n",
    "        fpr=fpr,\n",
    "        tpr=tpr,\n",
    "        roc_auc=roc_auc,\n",
    "        model_name=MODEL_COMPLETE_NAME,\n",
    "    )\n",
    "    roc_curve_chart.write_image(f\"{REPORTS_PATH}/roc_curve_v{VERSION}.{SUBVERSION}.png\")\n",
    "\n",
    "    optimal_idx = np.argmax(tpr - fpr)\n",
    "    optimal_threshold = thresholds[optimal_idx]\n",
    "\n",
    "    y_pred_class = (y_pred_prob > optimal_threshold).astype(int)\n",
    "    conf_matrix = confusion_matrix(y_true, y_pred_class)\n",
    "    conf_matrix_text = [[str(value) for value in row] for row in conf_matrix]\n",
    "\n",
    "    confusion_matrix_chart = graphics.create_confusion_matrix_chart(\n",
    "        conf_matrix=conf_matrix,\n",
    "        conf_matrix_text=conf_matrix_text,\n",
    "        model_name=MODEL_COMPLETE_NAME,\n",
    "    )\n",
    "    confusion_matrix_chart.write_image(\n",
    "        f\"{REPORTS_PATH}/confusion_matrix_optimal_v{VERSION}.{SUBVERSION}.png\"\n",
    "    )\n",
    "\n",
    "    y_pred_class = (y_pred_prob > 0.5).astype(int)\n",
    "    conf_matrix = confusion_matrix(y_true, y_pred_class)\n",
    "    conf_matrix_text = [[str(value) for value in row] for row in conf_matrix]\n",
    "\n",
    "    confusion_matrix_chart = graphics.create_confusion_matrix_chart(\n",
    "        conf_matrix=conf_matrix,\n",
    "        conf_matrix_text=conf_matrix_text,\n",
    "        model_name=MODEL_COMPLETE_NAME,\n",
    "    )\n",
    "    confusion_matrix_chart.write_image(\n",
    "        f\"{REPORTS_PATH}/confusion_matrix_v{VERSION}.{SUBVERSION}.png\"\n",
    "    )\n",
    "\n",
    "    SUBVERSION += 1\n",
    "\n",
    "print(\"\\n\\n\")\n"
   ]
  }
 ],
 "metadata": {
  "kernelspec": {
   "display_name": "TFG",
   "language": "python",
   "name": "python3"
  },
  "language_info": {
   "codemirror_mode": {
    "name": "ipython",
    "version": 3
   },
   "file_extension": ".py",
   "mimetype": "text/x-python",
   "name": "python",
   "nbconvert_exporter": "python",
   "pygments_lexer": "ipython3",
   "version": "3.8.19"
  }
 },
 "nbformat": 4,
 "nbformat_minor": 2
}
