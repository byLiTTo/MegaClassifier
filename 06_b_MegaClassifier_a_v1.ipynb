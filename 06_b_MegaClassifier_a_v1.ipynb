{
 "cells": [
  {
   "metadata": {
    "ExecuteTime": {
     "end_time": "2025-02-25T12:53:27.768142Z",
     "start_time": "2025-02-25T12:53:23.738451Z"
    }
   },
   "cell_type": "code",
   "source": [
    "import os\n",
    "\n",
    "import numpy as np\n",
    "import pandas as pd\n",
    "\n",
    "import src.graphics as graphics\n",
    "import src.model as model"
   ],
   "id": "3a510b979ca2e35a",
   "outputs": [],
   "execution_count": 1
  },
  {
   "metadata": {
    "ExecuteTime": {
     "end_time": "2025-02-25T12:53:27.778198Z",
     "start_time": "2025-02-25T12:53:27.775861Z"
    }
   },
   "cell_type": "code",
   "source": [
    "MODEL_NAME = \"MegaClassifier_a\"\n",
    "VERSION = \"v1\"\n",
    "SUBVERSION = 0\n",
    "\n",
    "DATASET_CSV = os.path.abspath(\"./data/processed/onlyDetectionsForTrain/onlyDetectionsForTrain.csv\")\n",
    "DATASET_PATH = os.path.dirname(DATASET_CSV)"
   ],
   "id": "5d78f307f4361808",
   "outputs": [],
   "execution_count": 2
  },
  {
   "metadata": {
    "ExecuteTime": {
     "end_time": "2025-02-25T12:53:27.826691Z",
     "start_time": "2025-02-25T12:53:27.782240Z"
    }
   },
   "cell_type": "code",
   "source": [
    "dataset = pd.read_csv(DATASET_CSV, sep=\";\")\n",
    "dataset['file_name'] = dataset['file_name'].apply(lambda x: os.path.join(DATASET_PATH, x))\n",
    "dataset['binary_label'] = dataset['binary_label'].astype(str)\n",
    "\n",
    "train_dataset = dataset[dataset['subset'] == \"train\"]\n",
    "validation_dataset = dataset[dataset['subset'] == \"validation\"]\n",
    "test_dataset = dataset[dataset['subset'] == \"test\"]"
   ],
   "id": "fdd385a1b5f4c70b",
   "outputs": [],
   "execution_count": 3
  },
  {
   "metadata": {
    "ExecuteTime": {
     "end_time": "2025-02-25T12:53:27.888062Z",
     "start_time": "2025-02-25T12:53:27.886405Z"
    }
   },
   "cell_type": "code",
   "source": [
    "EPOCHS = 10\n",
    "BATCH_SIZES = [16, 32, 64, 128]"
   ],
   "id": "e772640c3899418e",
   "outputs": [],
   "execution_count": 4
  },
  {
   "metadata": {
    "ExecuteTime": {
     "end_time": "2025-02-25T13:31:43.157931Z",
     "start_time": "2025-02-25T12:53:27.901186Z"
    }
   },
   "cell_type": "code",
   "source": [
    "all_results = []\n",
    "for BATCH_SIZE in BATCH_SIZES:\n",
    "    print(f\"BATCH_SIZE: {BATCH_SIZE} ------------------------------------------------------------ \")\n",
    "\n",
    "    train_generator, other_generator = model.image_data_generator(version=VERSION)\n",
    "\n",
    "    train_images, validation_images, test_images = model.flow_from_dataframe(\n",
    "        datasets=[train_dataset, validation_dataset, test_dataset],\n",
    "        generators=[train_generator, other_generator],\n",
    "        batch_size=BATCH_SIZE,\n",
    "    )\n",
    "\n",
    "    mobilenet_v2 = model.load_pretrained(version=VERSION)\n",
    "\n",
    "    mega_classifier_a = model.compile_model(\n",
    "        version=VERSION,\n",
    "        pretrained_model=mobilenet_v2,\n",
    "        name=f\"{MODEL_NAME}_{VERSION}_{SUBVERSION}\")\n",
    "\n",
    "    callbacks = model.callbacks(\n",
    "        version=VERSION,\n",
    "        logs_path=f\"./logs/{MODEL_NAME}/{VERSION}/{VERSION}.{SUBVERSION}\",\n",
    "    )\n",
    "\n",
    "    history = model.fit(\n",
    "        model=mega_classifier_a,\n",
    "        images=[train_images, validation_images],\n",
    "        epochs=EPOCHS,\n",
    "        call_backs=callbacks,\n",
    "        save_path=f\"./models/{MODEL_NAME}/{VERSION}/{VERSION}.{SUBVERSION}\",\n",
    "    )\n",
    "\n",
    "    model.save_training(\n",
    "        data=pd.DataFrame(history.history),\n",
    "        save_path=f\"./logs/{MODEL_NAME}/{VERSION}/{VERSION}.{SUBVERSION}/history_{VERSION}_{SUBVERSION}.csv\",\n",
    "    )\n",
    "\n",
    "    os.makedirs(f\"./reports/{MODEL_NAME}/{VERSION}/{VERSION}.{SUBVERSION}\", exist_ok=True)\n",
    "\n",
    "    accuracy_chart = graphics.create_training_accuracy_chart(\n",
    "        history_path=f\"./logs/{MODEL_NAME}/{VERSION}/{VERSION}.{SUBVERSION}/history_{VERSION}_{SUBVERSION}.csv\",\n",
    "        model_name=f\"{MODEL_NAME} {VERSION}.{SUBVERSION}\",\n",
    "    )\n",
    "    accuracy_chart.write_image(f\"./reports/{MODEL_NAME}/{VERSION}/{VERSION}.{SUBVERSION}/train_accuracy_{VERSION}_{SUBVERSION}.png\")\n",
    "\n",
    "    loss_chart = graphics.create_training_loss_chart(\n",
    "        history_path=f\"./logs/{MODEL_NAME}/{VERSION}/{VERSION}.{SUBVERSION}/history_{VERSION}_{SUBVERSION}.csv\",\n",
    "        model_name=f\"{MODEL_NAME} {VERSION}.{SUBVERSION}\",\n",
    "    )\n",
    "    loss_chart.write_image(f\"./reports/{MODEL_NAME}/{VERSION}/{VERSION}.{SUBVERSION}/train_loss_{VERSION}_{SUBVERSION}.png\")\n",
    "\n",
    "    results = model.evaluate_model(\n",
    "        model_path=f\"./models/{MODEL_NAME}/{VERSION}/{VERSION}.{SUBVERSION}\",\n",
    "        test_images=test_images,\n",
    "    )\n",
    "\n",
    "    metric_names = history.model.metrics_names\n",
    "    evaluation_results = {(\"test_\" + name): value for name, value in zip(metric_names, results)}\n",
    "\n",
    "    model.save_evaluation(\n",
    "        data=pd.DataFrame([evaluation_results]),\n",
    "        save_path=f\"./logs/{MODEL_NAME}/{VERSION}/{VERSION}.{SUBVERSION}/evaluation_{VERSION}_{SUBVERSION}.csv\",\n",
    "    )\n",
    "\n",
    "    print(\"\\n\\n\")\n",
    "    print(f\"Accuracy: {results[1]:.4%}\")\n",
    "    print(f\"Loss: {results[0]:.4%}\")\n",
    "    print(f\"AUC: {results[4]:.4%}\")\n",
    "    print(f\"Precision: {results[2]:.4%}\")\n",
    "    print(f\"Recall: {results[3]:.4%}\")\n",
    "    print(\"\\n\\n\")\n",
    "\n",
    "    fpr, tpr, thresholds, roc_auc = model.roc_curve_model(\n",
    "        model_path=f\"./models/{MODEL_NAME}/{VERSION}/{VERSION}.{SUBVERSION}\",\n",
    "        test_images=test_images,\n",
    "    )\n",
    "\n",
    "    roc_curve_chart = graphics.create_roc_curve_chart(\n",
    "        fpr=fpr,\n",
    "        tpr=tpr,\n",
    "        roc_auc=roc_auc,\n",
    "        model_name=f\"{MODEL_NAME} {VERSION}.{SUBVERSION}\",\n",
    "    )\n",
    "    roc_curve_chart.write_image(f\"./reports/{MODEL_NAME}/{VERSION}/{VERSION}.{SUBVERSION}/roc_curve_{VERSION}_{SUBVERSION}.png\")\n",
    "\n",
    "    optimal_idx = np.argmax(tpr - fpr)\n",
    "    optimal_threshold = thresholds[optimal_idx]\n",
    "    print(f\"OPTIMAL THRESHOLD: {optimal_threshold}\")\n",
    "\n",
    "    confusion_matrix = model.confusion_matrix_model(\n",
    "        model_path=f\"./models/{MODEL_NAME}/{VERSION}/{VERSION}.{SUBVERSION}\",\n",
    "        test_images=test_images,\n",
    "        optimal_threshold=optimal_threshold,\n",
    "    )\n",
    "\n",
    "    confusion_matrix_chart = graphics.create_confusion_matrix_chart(\n",
    "        conf_matrix=confusion_matrix,\n",
    "        model_name=f\"{MODEL_NAME} {VERSION}.{SUBVERSION}\",\n",
    "    )\n",
    "    confusion_matrix_chart.write_image(f\"./reports/{MODEL_NAME}/{VERSION}/{VERSION}.{SUBVERSION}/confusion_matrix_{VERSION}_{SUBVERSION}.png\")\n",
    "\n",
    "    evaluation_results[\"batch_size\"] = BATCH_SIZE\n",
    "    all_results.append(pd.DataFrame([evaluation_results]))\n",
    "\n",
    "    SUBVERSION += 1\n",
    "\n",
    "final_results = pd.concat(all_results, ignore_index=True)\n",
    "final_results.to_csv(f\"./logs/{MODEL_NAME}/{VERSION}/batch_comparison_results.csv\", index=False)"
   ],
   "id": "4e745c49af91b5db",
   "outputs": [
    {
     "name": "stdout",
     "output_type": "stream",
     "text": [
      "BATCH_SIZE: 16 ------------------------------------------------------------ \n",
      "Found 17054 validated image filenames belonging to 2 classes.\n",
      "Found 4286 validated image filenames belonging to 2 classes.\n",
      "Found 4286 validated image filenames belonging to 2 classes.\n"
     ]
    },
    {
     "name": "stderr",
     "output_type": "stream",
     "text": [
      "2025-02-25 13:53:28.340883: I metal_plugin/src/device/metal_device.cc:1154] Metal device set to: Apple M3\n",
      "2025-02-25 13:53:28.340914: I metal_plugin/src/device/metal_device.cc:296] systemMemory: 16.00 GB\n",
      "2025-02-25 13:53:28.340918: I metal_plugin/src/device/metal_device.cc:313] maxCacheSize: 5.33 GB\n",
      "2025-02-25 13:53:28.340974: I tensorflow/core/common_runtime/pluggable_device/pluggable_device_factory.cc:303] Could not identify NUMA node of platform GPU ID 0, defaulting to 0. Your kernel may not have been built with NUMA support.\n",
      "2025-02-25 13:53:28.341145: I tensorflow/core/common_runtime/pluggable_device/pluggable_device_factory.cc:269] Created TensorFlow device (/job:localhost/replica:0/task:0/device:GPU:0 with 0 MB memory) -> physical PluggableDevice (device: 0, name: METAL, pci bus id: <undefined>)\n",
      "WARNING:absl:At this time, the v2.11+ optimizer `tf.keras.optimizers.Adam` runs slowly on M1/M2 Macs, please use the legacy Keras optimizer instead, located at `tf.keras.optimizers.legacy.Adam`.\n",
      "WARNING:absl:There is a known slowdown when using v2.11+ Keras optimizers on M1/M2 Macs. Falling back to the legacy Keras optimizer, i.e., `tf.keras.optimizers.legacy.Adam`.\n"
     ]
    },
    {
     "name": "stdout",
     "output_type": "stream",
     "text": [
      "\n",
      "\n",
      "\n",
      "Epoch 1/10\n"
     ]
    },
    {
     "name": "stderr",
     "output_type": "stream",
     "text": [
      "2025-02-25 13:53:30.016687: I tensorflow/core/grappler/optimizers/custom_graph_optimizer_registry.cc:114] Plugin optimizer for device_type GPU is enabled.\n"
     ]
    },
    {
     "name": "stdout",
     "output_type": "stream",
     "text": [
      "1065/1066 [============================>.] - ETA: 0s - loss: 0.2345 - accuracy: 0.8984 - precision: 0.9223 - recall: 0.9489 - auc: 0.9501"
     ]
    },
    {
     "name": "stderr",
     "output_type": "stream",
     "text": [
      "2025-02-25 13:54:18.036527: I tensorflow/core/grappler/optimizers/custom_graph_optimizer_registry.cc:114] Plugin optimizer for device_type GPU is enabled.\n"
     ]
    },
    {
     "name": "stdout",
     "output_type": "stream",
     "text": [
      "1066/1066 [==============================] - 60s 55ms/step - loss: 0.2342 - accuracy: 0.8985 - precision: 0.9224 - recall: 0.9489 - auc: 0.9502 - val_loss: 0.1811 - val_accuracy: 0.9340 - val_precision: 0.9440 - val_recall: 0.9570 - val_auc: 0.9786\n",
      "Epoch 2/10\n",
      "1066/1066 [==============================] - 57s 53ms/step - loss: 0.1834 - accuracy: 0.9238 - precision: 0.9469 - recall: 0.9552 - auc: 0.9700 - val_loss: 0.1645 - val_accuracy: 0.9389 - val_precision: 0.9577 - val_recall: 0.9496 - val_auc: 0.9815\n",
      "Epoch 3/10\n",
      "1066/1066 [==============================] - 57s 53ms/step - loss: 0.1715 - accuracy: 0.9303 - precision: 0.9521 - recall: 0.9584 - auc: 0.9737 - val_loss: 0.1598 - val_accuracy: 0.9405 - val_precision: 0.9594 - val_recall: 0.9503 - val_auc: 0.9826\n",
      "Epoch 4/10\n",
      "1066/1066 [==============================] - 57s 53ms/step - loss: 0.1643 - accuracy: 0.9332 - precision: 0.9530 - recall: 0.9611 - auc: 0.9759 - val_loss: 0.1741 - val_accuracy: 0.9288 - val_precision: 0.9720 - val_recall: 0.9189 - val_auc: 0.9829\n",
      "Epoch 5/10\n",
      "1066/1066 [==============================] - 57s 53ms/step - loss: 0.1571 - accuracy: 0.9360 - precision: 0.9566 - recall: 0.9611 - auc: 0.9781 - val_loss: 0.1560 - val_accuracy: 0.9398 - val_precision: 0.9604 - val_recall: 0.9482 - val_auc: 0.9830\n",
      "Epoch 6/10\n",
      "1066/1066 [==============================] - 57s 53ms/step - loss: 0.1532 - accuracy: 0.9373 - precision: 0.9568 - recall: 0.9626 - auc: 0.9790 - val_loss: 0.1609 - val_accuracy: 0.9375 - val_precision: 0.9659 - val_recall: 0.9386 - val_auc: 0.9823\n",
      "Epoch 7/10\n",
      "1066/1066 [==============================] - 57s 54ms/step - loss: 0.1497 - accuracy: 0.9395 - precision: 0.9585 - recall: 0.9638 - auc: 0.9800 - val_loss: 0.1607 - val_accuracy: 0.9407 - val_precision: 0.9536 - val_recall: 0.9570 - val_auc: 0.9812\n",
      "Epoch 8/10\n",
      "1066/1066 [==============================] - 57s 53ms/step - loss: 0.1478 - accuracy: 0.9402 - precision: 0.9594 - recall: 0.9637 - auc: 0.9805 - val_loss: 0.1530 - val_accuracy: 0.9426 - val_precision: 0.9582 - val_recall: 0.9549 - val_auc: 0.9833\n",
      "Epoch 9/10\n",
      "1066/1066 [==============================] - 57s 53ms/step - loss: 0.1446 - accuracy: 0.9417 - precision: 0.9595 - recall: 0.9656 - auc: 0.9815 - val_loss: 0.1554 - val_accuracy: 0.9433 - val_precision: 0.9516 - val_recall: 0.9633 - val_auc: 0.9823\n",
      "Epoch 10/10\n",
      "1066/1066 [==============================] - 57s 54ms/step - loss: 0.1427 - accuracy: 0.9413 - precision: 0.9600 - recall: 0.9645 - auc: 0.9816 - val_loss: 0.1547 - val_accuracy: 0.9389 - val_precision: 0.9656 - val_recall: 0.9411 - val_auc: 0.9842\n",
      "\n",
      "\n",
      "\n",
      "Saving model...\n"
     ]
    },
    {
     "name": "stderr",
     "output_type": "stream",
     "text": [
      "WARNING:absl:`mobilenetv2_1.00_224_input` is not a valid tf.function parameter name. Sanitizing to `mobilenetv2_1_00_224_input`.\n",
      "WARNING:absl:`mobilenetv2_1.00_224_input` is not a valid tf.function parameter name. Sanitizing to `mobilenetv2_1_00_224_input`.\n",
      "WARNING:absl:`mobilenetv2_1.00_224_input` is not a valid tf.function parameter name. Sanitizing to `mobilenetv2_1_00_224_input`.\n"
     ]
    },
    {
     "name": "stdout",
     "output_type": "stream",
     "text": [
      "INFO:tensorflow:Assets written to: ./models/MegaClassifier_a/v1/v1.0/assets\n"
     ]
    },
    {
     "name": "stderr",
     "output_type": "stream",
     "text": [
      "INFO:tensorflow:Assets written to: ./models/MegaClassifier_a/v1/v1.0/assets\n"
     ]
    },
    {
     "name": "stdout",
     "output_type": "stream",
     "text": [
      "\n",
      "\n",
      "\n",
      "Saving training data...\n",
      "\n",
      "\n",
      "\n"
     ]
    },
    {
     "name": "stderr",
     "output_type": "stream",
     "text": [
      "2025-02-25 14:03:09.028575: I tensorflow/core/grappler/optimizers/custom_graph_optimizer_registry.cc:114] Plugin optimizer for device_type GPU is enabled.\n"
     ]
    },
    {
     "name": "stdout",
     "output_type": "stream",
     "text": [
      "268/268 [==============================] - 12s 44ms/step - loss: 0.1387 - accuracy: 0.9419 - precision: 0.9625 - recall: 0.9492 - auc: 0.9868\n",
      "\n",
      "\n",
      "\n",
      "Saving evaluation data...\n",
      "\n",
      "\n",
      "\n",
      "Accuracy: 94.1904%\n",
      "Loss: 13.8695%\n",
      "AUC: 98.6760%\n",
      "Precision: 96.2460%\n",
      "Recall: 94.9224%\n",
      "\n",
      "\n",
      "\n",
      "\n",
      "\n",
      "\n"
     ]
    },
    {
     "name": "stderr",
     "output_type": "stream",
     "text": [
      "2025-02-25 14:03:23.268750: I tensorflow/core/grappler/optimizers/custom_graph_optimizer_registry.cc:114] Plugin optimizer for device_type GPU is enabled.\n"
     ]
    },
    {
     "name": "stdout",
     "output_type": "stream",
     "text": [
      "268/268 [==============================] - 11s 40ms/step\n",
      "OPTIMAL THRESHOLD: 0.6027166247367859\n",
      "\n",
      "\n",
      "\n"
     ]
    },
    {
     "name": "stderr",
     "output_type": "stream",
     "text": [
      "2025-02-25 14:03:36.515056: I tensorflow/core/grappler/optimizers/custom_graph_optimizer_registry.cc:114] Plugin optimizer for device_type GPU is enabled.\n"
     ]
    },
    {
     "name": "stdout",
     "output_type": "stream",
     "text": [
      "268/268 [==============================] - 11s 39ms/step\n",
      "BATCH_SIZE: 32 ------------------------------------------------------------ \n",
      "Found 17054 validated image filenames belonging to 2 classes.\n",
      "Found 4286 validated image filenames belonging to 2 classes.\n",
      "Found 4286 validated image filenames belonging to 2 classes.\n"
     ]
    },
    {
     "name": "stderr",
     "output_type": "stream",
     "text": [
      "WARNING:absl:At this time, the v2.11+ optimizer `tf.keras.optimizers.Adam` runs slowly on M1/M2 Macs, please use the legacy Keras optimizer instead, located at `tf.keras.optimizers.legacy.Adam`.\n",
      "WARNING:absl:There is a known slowdown when using v2.11+ Keras optimizers on M1/M2 Macs. Falling back to the legacy Keras optimizer, i.e., `tf.keras.optimizers.legacy.Adam`.\n"
     ]
    },
    {
     "name": "stdout",
     "output_type": "stream",
     "text": [
      "\n",
      "\n",
      "\n",
      "Epoch 1/10\n"
     ]
    },
    {
     "name": "stderr",
     "output_type": "stream",
     "text": [
      "2025-02-25 14:03:48.712884: I tensorflow/core/grappler/optimizers/custom_graph_optimizer_registry.cc:114] Plugin optimizer for device_type GPU is enabled.\n"
     ]
    },
    {
     "name": "stdout",
     "output_type": "stream",
     "text": [
      "533/533 [==============================] - ETA: 0s - loss: 0.2359 - accuracy: 0.8991 - precision: 0.9211 - recall: 0.9514 - auc: 0.9498"
     ]
    },
    {
     "name": "stderr",
     "output_type": "stream",
     "text": [
      "2025-02-25 14:04:32.995680: I tensorflow/core/grappler/optimizers/custom_graph_optimizer_registry.cc:114] Plugin optimizer for device_type GPU is enabled.\n"
     ]
    },
    {
     "name": "stdout",
     "output_type": "stream",
     "text": [
      "533/533 [==============================] - 56s 103ms/step - loss: 0.2359 - accuracy: 0.8991 - precision: 0.9211 - recall: 0.9514 - auc: 0.9498 - val_loss: 0.1876 - val_accuracy: 0.9253 - val_precision: 0.9320 - val_recall: 0.9570 - val_auc: 0.9772\n",
      "Epoch 2/10\n",
      "533/533 [==============================] - 53s 100ms/step - loss: 0.1873 - accuracy: 0.9252 - precision: 0.9463 - recall: 0.9579 - auc: 0.9689 - val_loss: 0.1702 - val_accuracy: 0.9370 - val_precision: 0.9537 - val_recall: 0.9510 - val_auc: 0.9809\n",
      "Epoch 3/10\n",
      "533/533 [==============================] - 53s 100ms/step - loss: 0.1745 - accuracy: 0.9307 - precision: 0.9513 - recall: 0.9598 - auc: 0.9731 - val_loss: 0.1650 - val_accuracy: 0.9405 - val_precision: 0.9549 - val_recall: 0.9552 - val_auc: 0.9813\n",
      "Epoch 4/10\n",
      "533/533 [==============================] - 53s 100ms/step - loss: 0.1668 - accuracy: 0.9326 - precision: 0.9528 - recall: 0.9607 - auc: 0.9753 - val_loss: 0.1593 - val_accuracy: 0.9382 - val_precision: 0.9512 - val_recall: 0.9556 - val_auc: 0.9827\n",
      "Epoch 5/10\n",
      "533/533 [==============================] - 53s 100ms/step - loss: 0.1619 - accuracy: 0.9328 - precision: 0.9532 - recall: 0.9604 - auc: 0.9766 - val_loss: 0.1575 - val_accuracy: 0.9412 - val_precision: 0.9514 - val_recall: 0.9602 - val_auc: 0.9828\n",
      "Epoch 6/10\n",
      "533/533 [==============================] - 53s 100ms/step - loss: 0.1559 - accuracy: 0.9368 - precision: 0.9559 - recall: 0.9629 - auc: 0.9785 - val_loss: 0.1570 - val_accuracy: 0.9407 - val_precision: 0.9480 - val_recall: 0.9633 - val_auc: 0.9834\n",
      "Epoch 7/10\n",
      "533/533 [==============================] - 53s 100ms/step - loss: 0.1520 - accuracy: 0.9387 - precision: 0.9574 - recall: 0.9638 - auc: 0.9796 - val_loss: 0.1605 - val_accuracy: 0.9403 - val_precision: 0.9418 - val_recall: 0.9697 - val_auc: 0.9829\n",
      "Epoch 8/10\n",
      "533/533 [==============================] - 53s 100ms/step - loss: 0.1495 - accuracy: 0.9394 - precision: 0.9580 - recall: 0.9641 - auc: 0.9803 - val_loss: 0.1594 - val_accuracy: 0.9421 - val_precision: 0.9428 - val_recall: 0.9714 - val_auc: 0.9830\n",
      "Epoch 9/10\n",
      "533/533 [==============================] - 53s 100ms/step - loss: 0.1461 - accuracy: 0.9409 - precision: 0.9590 - recall: 0.9651 - auc: 0.9812 - val_loss: 0.1555 - val_accuracy: 0.9424 - val_precision: 0.9509 - val_recall: 0.9626 - val_auc: 0.9834\n",
      "Epoch 10/10\n",
      "533/533 [==============================] - 53s 100ms/step - loss: 0.1447 - accuracy: 0.9407 - precision: 0.9599 - recall: 0.9638 - auc: 0.9817 - val_loss: 0.1522 - val_accuracy: 0.9419 - val_precision: 0.9547 - val_recall: 0.9577 - val_auc: 0.9838\n",
      "\n",
      "\n",
      "\n",
      "Saving model...\n"
     ]
    },
    {
     "name": "stderr",
     "output_type": "stream",
     "text": [
      "WARNING:absl:`mobilenetv2_1.00_224_input` is not a valid tf.function parameter name. Sanitizing to `mobilenetv2_1_00_224_input`.\n",
      "WARNING:absl:`mobilenetv2_1.00_224_input` is not a valid tf.function parameter name. Sanitizing to `mobilenetv2_1_00_224_input`.\n"
     ]
    },
    {
     "name": "stdout",
     "output_type": "stream",
     "text": [
      "INFO:tensorflow:Assets written to: ./models/MegaClassifier_a/v1/v1.1/assets\n"
     ]
    },
    {
     "name": "stderr",
     "output_type": "stream",
     "text": [
      "INFO:tensorflow:Assets written to: ./models/MegaClassifier_a/v1/v1.1/assets\n"
     ]
    },
    {
     "name": "stdout",
     "output_type": "stream",
     "text": [
      "\n",
      "\n",
      "\n",
      "Saving training data...\n",
      "\n",
      "\n",
      "\n"
     ]
    },
    {
     "name": "stderr",
     "output_type": "stream",
     "text": [
      "2025-02-25 14:12:49.991137: I tensorflow/core/grappler/optimizers/custom_graph_optimizer_registry.cc:114] Plugin optimizer for device_type GPU is enabled.\n"
     ]
    },
    {
     "name": "stdout",
     "output_type": "stream",
     "text": [
      "134/134 [==============================] - 11s 82ms/step - loss: 0.1390 - accuracy: 0.9456 - precision: 0.9527 - recall: 0.9658 - auc: 0.9867\n",
      "\n",
      "\n",
      "\n",
      "Saving evaluation data...\n",
      "\n",
      "\n",
      "\n",
      "Accuracy: 94.5637%\n",
      "Loss: 13.8951%\n",
      "AUC: 98.6710%\n",
      "Precision: 95.2696%\n",
      "Recall: 96.5797%\n",
      "\n",
      "\n",
      "\n",
      "\n",
      "\n",
      "\n"
     ]
    },
    {
     "name": "stderr",
     "output_type": "stream",
     "text": [
      "2025-02-25 14:13:03.568691: I tensorflow/core/grappler/optimizers/custom_graph_optimizer_registry.cc:114] Plugin optimizer for device_type GPU is enabled.\n"
     ]
    },
    {
     "name": "stdout",
     "output_type": "stream",
     "text": [
      "134/134 [==============================] - 10s 75ms/step\n",
      "OPTIMAL THRESHOLD: 0.6590171456336975\n",
      "\n",
      "\n",
      "\n"
     ]
    },
    {
     "name": "stderr",
     "output_type": "stream",
     "text": [
      "2025-02-25 14:13:16.164461: I tensorflow/core/grappler/optimizers/custom_graph_optimizer_registry.cc:114] Plugin optimizer for device_type GPU is enabled.\n"
     ]
    },
    {
     "name": "stdout",
     "output_type": "stream",
     "text": [
      "134/134 [==============================] - 10s 75ms/step\n",
      "BATCH_SIZE: 64 ------------------------------------------------------------ \n",
      "Found 17054 validated image filenames belonging to 2 classes.\n",
      "Found 4286 validated image filenames belonging to 2 classes.\n",
      "Found 4286 validated image filenames belonging to 2 classes.\n"
     ]
    },
    {
     "name": "stderr",
     "output_type": "stream",
     "text": [
      "WARNING:absl:At this time, the v2.11+ optimizer `tf.keras.optimizers.Adam` runs slowly on M1/M2 Macs, please use the legacy Keras optimizer instead, located at `tf.keras.optimizers.legacy.Adam`.\n",
      "WARNING:absl:There is a known slowdown when using v2.11+ Keras optimizers on M1/M2 Macs. Falling back to the legacy Keras optimizer, i.e., `tf.keras.optimizers.legacy.Adam`.\n"
     ]
    },
    {
     "name": "stdout",
     "output_type": "stream",
     "text": [
      "\n",
      "\n",
      "\n",
      "Epoch 1/10\n"
     ]
    },
    {
     "name": "stderr",
     "output_type": "stream",
     "text": [
      "2025-02-25 14:13:27.778757: I tensorflow/core/grappler/optimizers/custom_graph_optimizer_registry.cc:114] Plugin optimizer for device_type GPU is enabled.\n"
     ]
    },
    {
     "name": "stdout",
     "output_type": "stream",
     "text": [
      "267/267 [==============================] - ETA: 0s - loss: 0.2703 - accuracy: 0.8836 - precision: 0.9044 - recall: 0.9503 - auc: 0.9326"
     ]
    },
    {
     "name": "stderr",
     "output_type": "stream",
     "text": [
      "2025-02-25 14:14:08.742675: I tensorflow/core/grappler/optimizers/custom_graph_optimizer_registry.cc:114] Plugin optimizer for device_type GPU is enabled.\n"
     ]
    },
    {
     "name": "stdout",
     "output_type": "stream",
     "text": [
      "267/267 [==============================] - 52s 192ms/step - loss: 0.2703 - accuracy: 0.8836 - precision: 0.9044 - recall: 0.9503 - auc: 0.9326 - val_loss: 0.2007 - val_accuracy: 0.9256 - val_precision: 0.9393 - val_recall: 0.9489 - val_auc: 0.9750\n",
      "Epoch 2/10\n",
      "267/267 [==============================] - 50s 189ms/step - loss: 0.1988 - accuracy: 0.9170 - precision: 0.9399 - recall: 0.9540 - auc: 0.9656 - val_loss: 0.1783 - val_accuracy: 0.9326 - val_precision: 0.9436 - val_recall: 0.9552 - val_auc: 0.9794\n",
      "Epoch 3/10\n",
      "267/267 [==============================] - 50s 188ms/step - loss: 0.1830 - accuracy: 0.9264 - precision: 0.9482 - recall: 0.9573 - auc: 0.9707 - val_loss: 0.1679 - val_accuracy: 0.9349 - val_precision: 0.9459 - val_recall: 0.9563 - val_auc: 0.9812\n",
      "Epoch 4/10\n",
      "267/267 [==============================] - 50s 189ms/step - loss: 0.1745 - accuracy: 0.9295 - precision: 0.9506 - recall: 0.9589 - auc: 0.9733 - val_loss: 0.1786 - val_accuracy: 0.9281 - val_precision: 0.9702 - val_recall: 0.9196 - val_auc: 0.9816\n",
      "Epoch 5/10\n",
      "267/267 [==============================] - 50s 189ms/step - loss: 0.1686 - accuracy: 0.9310 - precision: 0.9523 - recall: 0.9590 - auc: 0.9750 - val_loss: 0.1633 - val_accuracy: 0.9370 - val_precision: 0.9382 - val_recall: 0.9686 - val_auc: 0.9828\n",
      "Epoch 6/10\n",
      "267/267 [==============================] - 50s 189ms/step - loss: 0.1626 - accuracy: 0.9341 - precision: 0.9541 - recall: 0.9612 - auc: 0.9769 - val_loss: 0.1559 - val_accuracy: 0.9421 - val_precision: 0.9560 - val_recall: 0.9566 - val_auc: 0.9835\n",
      "Epoch 7/10\n",
      "267/267 [==============================] - 50s 189ms/step - loss: 0.1597 - accuracy: 0.9348 - precision: 0.9542 - recall: 0.9621 - auc: 0.9777 - val_loss: 0.1550 - val_accuracy: 0.9410 - val_precision: 0.9617 - val_recall: 0.9485 - val_auc: 0.9837\n",
      "Epoch 8/10\n",
      "267/267 [==============================] - 50s 189ms/step - loss: 0.1553 - accuracy: 0.9375 - precision: 0.9566 - recall: 0.9630 - auc: 0.9791 - val_loss: 0.1550 - val_accuracy: 0.9419 - val_precision: 0.9635 - val_recall: 0.9482 - val_auc: 0.9838\n",
      "Epoch 9/10\n",
      "267/267 [==============================] - 52s 196ms/step - loss: 0.1550 - accuracy: 0.9376 - precision: 0.9570 - recall: 0.9627 - auc: 0.9790 - val_loss: 0.1525 - val_accuracy: 0.9431 - val_precision: 0.9619 - val_recall: 0.9517 - val_auc: 0.9841\n",
      "Epoch 10/10\n",
      "267/267 [==============================] - 54s 202ms/step - loss: 0.1504 - accuracy: 0.9390 - precision: 0.9573 - recall: 0.9642 - auc: 0.9803 - val_loss: 0.1505 - val_accuracy: 0.9442 - val_precision: 0.9513 - val_recall: 0.9651 - val_auc: 0.9843\n",
      "\n",
      "\n",
      "\n",
      "Saving model...\n",
      "INFO:tensorflow:Assets written to: ./models/MegaClassifier_a/v1/v1.2/assets\n"
     ]
    },
    {
     "name": "stderr",
     "output_type": "stream",
     "text": [
      "INFO:tensorflow:Assets written to: ./models/MegaClassifier_a/v1/v1.2/assets\n"
     ]
    },
    {
     "name": "stdout",
     "output_type": "stream",
     "text": [
      "\n",
      "\n",
      "\n",
      "Saving training data...\n",
      "\n",
      "\n",
      "\n"
     ]
    },
    {
     "name": "stderr",
     "output_type": "stream",
     "text": [
      "2025-02-25 14:22:05.270089: I tensorflow/core/grappler/optimizers/custom_graph_optimizer_registry.cc:114] Plugin optimizer for device_type GPU is enabled.\n"
     ]
    },
    {
     "name": "stdout",
     "output_type": "stream",
     "text": [
      "67/67 [==============================] - 11s 156ms/step - loss: 0.1396 - accuracy: 0.9438 - precision: 0.9460 - recall: 0.9704 - auc: 0.9872\n",
      "\n",
      "\n",
      "\n",
      "Saving evaluation data...\n",
      "\n",
      "\n",
      "\n",
      "Accuracy: 94.3770%\n",
      "Loss: 13.9597%\n",
      "AUC: 98.7167%\n",
      "Precision: 94.6030%\n",
      "Recall: 97.0381%\n",
      "\n",
      "\n",
      "\n",
      "\n",
      "\n",
      "\n"
     ]
    },
    {
     "name": "stderr",
     "output_type": "stream",
     "text": [
      "2025-02-25 14:22:18.278905: I tensorflow/core/grappler/optimizers/custom_graph_optimizer_registry.cc:114] Plugin optimizer for device_type GPU is enabled.\n"
     ]
    },
    {
     "name": "stdout",
     "output_type": "stream",
     "text": [
      "67/67 [==============================] - 10s 147ms/step\n",
      "OPTIMAL THRESHOLD: 0.7252727150917053\n",
      "\n",
      "\n",
      "\n"
     ]
    },
    {
     "name": "stderr",
     "output_type": "stream",
     "text": [
      "2025-02-25 14:22:30.622893: I tensorflow/core/grappler/optimizers/custom_graph_optimizer_registry.cc:114] Plugin optimizer for device_type GPU is enabled.\n"
     ]
    },
    {
     "name": "stdout",
     "output_type": "stream",
     "text": [
      "67/67 [==============================] - 10s 146ms/step\n",
      "BATCH_SIZE: 128 ------------------------------------------------------------ \n",
      "Found 17054 validated image filenames belonging to 2 classes.\n",
      "Found 4286 validated image filenames belonging to 2 classes.\n",
      "Found 4286 validated image filenames belonging to 2 classes.\n"
     ]
    },
    {
     "name": "stderr",
     "output_type": "stream",
     "text": [
      "WARNING:absl:At this time, the v2.11+ optimizer `tf.keras.optimizers.Adam` runs slowly on M1/M2 Macs, please use the legacy Keras optimizer instead, located at `tf.keras.optimizers.legacy.Adam`.\n",
      "WARNING:absl:There is a known slowdown when using v2.11+ Keras optimizers on M1/M2 Macs. Falling back to the legacy Keras optimizer, i.e., `tf.keras.optimizers.legacy.Adam`.\n"
     ]
    },
    {
     "name": "stdout",
     "output_type": "stream",
     "text": [
      "\n",
      "\n",
      "\n",
      "Epoch 1/10\n"
     ]
    },
    {
     "name": "stderr",
     "output_type": "stream",
     "text": [
      "2025-02-25 14:22:42.092518: I tensorflow/core/grappler/optimizers/custom_graph_optimizer_registry.cc:114] Plugin optimizer for device_type GPU is enabled.\n"
     ]
    },
    {
     "name": "stdout",
     "output_type": "stream",
     "text": [
      "134/134 [==============================] - ETA: 0s - loss: 0.3202 - accuracy: 0.8621 - precision: 0.8801 - recall: 0.9518 - auc: 0.8986"
     ]
    },
    {
     "name": "stderr",
     "output_type": "stream",
     "text": [
      "2025-02-25 14:23:22.543669: I tensorflow/core/grappler/optimizers/custom_graph_optimizer_registry.cc:114] Plugin optimizer for device_type GPU is enabled.\n"
     ]
    },
    {
     "name": "stdout",
     "output_type": "stream",
     "text": [
      "134/134 [==============================] - 51s 375ms/step - loss: 0.3202 - accuracy: 0.8621 - precision: 0.8801 - recall: 0.9518 - auc: 0.8986 - val_loss: 0.2339 - val_accuracy: 0.9169 - val_precision: 0.9221 - val_recall: 0.9552 - val_auc: 0.9700\n",
      "Epoch 2/10\n",
      "134/134 [==============================] - 49s 368ms/step - loss: 0.2186 - accuracy: 0.9088 - precision: 0.9311 - recall: 0.9530 - auc: 0.9582 - val_loss: 0.1963 - val_accuracy: 0.9263 - val_precision: 0.9390 - val_recall: 0.9503 - val_auc: 0.9760\n",
      "Epoch 3/10\n",
      "134/134 [==============================] - 50s 369ms/step - loss: 0.1986 - accuracy: 0.9186 - precision: 0.9410 - recall: 0.9549 - auc: 0.9656 - val_loss: 0.1803 - val_accuracy: 0.9321 - val_precision: 0.9463 - val_recall: 0.9513 - val_auc: 0.9790\n",
      "Epoch 4/10\n",
      "134/134 [==============================] - 50s 369ms/step - loss: 0.1876 - accuracy: 0.9222 - precision: 0.9443 - recall: 0.9561 - auc: 0.9694 - val_loss: 0.1718 - val_accuracy: 0.9342 - val_precision: 0.9462 - val_recall: 0.9549 - val_auc: 0.9807\n",
      "Epoch 5/10\n",
      "134/134 [==============================] - 50s 370ms/step - loss: 0.1806 - accuracy: 0.9266 - precision: 0.9486 - recall: 0.9573 - auc: 0.9718 - val_loss: 0.1684 - val_accuracy: 0.9351 - val_precision: 0.9395 - val_recall: 0.9640 - val_auc: 0.9818\n",
      "Epoch 6/10\n",
      "134/134 [==============================] - 50s 370ms/step - loss: 0.1736 - accuracy: 0.9303 - precision: 0.9505 - recall: 0.9601 - auc: 0.9740 - val_loss: 0.1644 - val_accuracy: 0.9370 - val_precision: 0.9486 - val_recall: 0.9566 - val_auc: 0.9823\n",
      "Epoch 7/10\n",
      "134/134 [==============================] - 50s 371ms/step - loss: 0.1699 - accuracy: 0.9309 - precision: 0.9522 - recall: 0.9589 - auc: 0.9749 - val_loss: 0.1602 - val_accuracy: 0.9386 - val_precision: 0.9475 - val_recall: 0.9605 - val_auc: 0.9827\n",
      "Epoch 8/10\n",
      "134/134 [==============================] - 50s 371ms/step - loss: 0.1663 - accuracy: 0.9320 - precision: 0.9528 - recall: 0.9598 - auc: 0.9759 - val_loss: 0.1574 - val_accuracy: 0.9403 - val_precision: 0.9555 - val_recall: 0.9542 - val_auc: 0.9836\n",
      "Epoch 9/10\n",
      "134/134 [==============================] - 50s 371ms/step - loss: 0.1638 - accuracy: 0.9333 - precision: 0.9529 - recall: 0.9616 - auc: 0.9766 - val_loss: 0.1617 - val_accuracy: 0.9372 - val_precision: 0.9382 - val_recall: 0.9690 - val_auc: 0.9836\n",
      "Epoch 10/10\n",
      "134/134 [==============================] - 50s 370ms/step - loss: 0.1611 - accuracy: 0.9345 - precision: 0.9541 - recall: 0.9618 - auc: 0.9775 - val_loss: 0.1612 - val_accuracy: 0.9351 - val_precision: 0.9651 - val_recall: 0.9358 - val_auc: 0.9837\n",
      "\n",
      "\n",
      "\n",
      "Saving model...\n",
      "INFO:tensorflow:Assets written to: ./models/MegaClassifier_a/v1/v1.3/assets\n"
     ]
    },
    {
     "name": "stderr",
     "output_type": "stream",
     "text": [
      "INFO:tensorflow:Assets written to: ./models/MegaClassifier_a/v1/v1.3/assets\n"
     ]
    },
    {
     "name": "stdout",
     "output_type": "stream",
     "text": [
      "\n",
      "\n",
      "\n",
      "Saving training data...\n",
      "\n",
      "\n",
      "\n"
     ]
    },
    {
     "name": "stderr",
     "output_type": "stream",
     "text": [
      "2025-02-25 14:31:07.336704: I tensorflow/core/grappler/optimizers/custom_graph_optimizer_registry.cc:114] Plugin optimizer for device_type GPU is enabled.\n"
     ]
    },
    {
     "name": "stdout",
     "output_type": "stream",
     "text": [
      "34/34 [==============================] - 11s 299ms/step - loss: 0.1487 - accuracy: 0.9384 - precision: 0.9666 - recall: 0.9394 - auc: 0.9867\n",
      "\n",
      "\n",
      "\n",
      "Saving evaluation data...\n",
      "\n",
      "\n",
      "\n",
      "Accuracy: 93.8404%\n",
      "Loss: 14.8650%\n",
      "AUC: 98.6660%\n",
      "Precision: 96.6618%\n",
      "Recall: 93.9351%\n",
      "\n",
      "\n",
      "\n",
      "\n",
      "\n",
      "\n"
     ]
    },
    {
     "name": "stderr",
     "output_type": "stream",
     "text": [
      "2025-02-25 14:31:20.295124: I tensorflow/core/grappler/optimizers/custom_graph_optimizer_registry.cc:114] Plugin optimizer for device_type GPU is enabled.\n"
     ]
    },
    {
     "name": "stdout",
     "output_type": "stream",
     "text": [
      "34/34 [==============================] - 10s 294ms/step\n",
      "OPTIMAL THRESHOLD: 0.5304590463638306\n",
      "\n",
      "\n",
      "\n"
     ]
    },
    {
     "name": "stderr",
     "output_type": "stream",
     "text": [
      "2025-02-25 14:31:32.924665: I tensorflow/core/grappler/optimizers/custom_graph_optimizer_registry.cc:114] Plugin optimizer for device_type GPU is enabled.\n"
     ]
    },
    {
     "name": "stdout",
     "output_type": "stream",
     "text": [
      "34/34 [==============================] - 10s 292ms/step\n"
     ]
    }
   ],
   "execution_count": 5
  }
 ],
 "metadata": {
  "kernelspec": {
   "display_name": "Python [conda env:TFG] *",
   "language": "python",
   "name": "conda-env-TFG-py"
  },
  "language_info": {
   "codemirror_mode": {
    "name": "ipython",
    "version": 2
   },
   "file_extension": ".py",
   "mimetype": "text/x-python",
   "name": "python",
   "nbconvert_exporter": "python",
   "pygments_lexer": "ipython2",
   "version": "2.7.6"
  }
 },
 "nbformat": 4,
 "nbformat_minor": 5
}
