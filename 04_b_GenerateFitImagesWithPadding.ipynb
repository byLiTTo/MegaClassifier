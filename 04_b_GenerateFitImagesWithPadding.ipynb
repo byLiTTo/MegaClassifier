{
 "cells": [
  {
   "cell_type": "code",
   "execution_count": 1,
   "metadata": {},
   "outputs": [],
   "source": [
    "import json\n",
    "import os\n",
    "\n",
    "import tqdm\n",
    "\n",
    "import src.visualization.fit_images as fi"
   ]
  },
  {
   "cell_type": "code",
   "execution_count": null,
   "metadata": {},
   "outputs": [],
   "source": [
    "required_paths = [\"/ai4eutils\", \"/CameraTraps\", \"/yolov5\"]\n",
    "python_path = os.environ.get(\"PYTHONPATH\", \"\")\n",
    "root_path = os.getcwd()\n",
    "\n",
    "for path in required_paths:\n",
    "    if not any(p.endswith(path) for p in python_path.split(\":\")):\n",
    "        python_path += f\":{root_path}/data/external{path}\"\n",
    "\n",
    "os.environ[\"PYTHONPATH\"] = python_path\n",
    "\n",
    "!echo \"PYTHONPATH: $PYTHONPATH\""
   ]
  },
  {
   "cell_type": "code",
   "execution_count": null,
   "metadata": {},
   "outputs": [],
   "source": [
    "DATASET_PATH = os.path.abspath(\"./data/raw/emptyNonEmptyDataset_ETL\")\n",
    "IMAGE_PATH = os.path.abspath(\"./data/interim/masked_images/0_003_threshold\")\n",
    "MASK_PATH = os.path.abspath(\"./resources/mask/0_003_threshold\")\n",
    "PADDING_PATH = os.path.abspath(\"./data/interim/padded_images\")\n",
    "\n",
    "DETECTION_JSON = os.path.abspath(\"./resources/json/28570_images_0_003_threshold.json\")\n",
    "\n",
    "with open(DETECTION_JSON, \"r\") as f:\n",
    "    result = json.load(f)\n",
    "\n",
    "FIT_PATH = os.path.join(PADDING_PATH, \"0_003_threshold\")\n",
    "\n",
    "\n",
    "print()\n",
    "print(f\"DATASET_PATH:   {DATASET_PATH}\")\n",
    "print(f\"IMAGE_PATH:     {IMAGE_PATH}\")\n",
    "print(f\"MASK_PATH:      {MASK_PATH}\")\n",
    "print(f\"PADDING_PATH:   {PADDING_PATH}\")\n",
    "print(f\"DETECTION_JSON: {DETECTION_JSON}\")"
   ]
  },
  {
   "cell_type": "code",
   "execution_count": null,
   "metadata": {},
   "outputs": [],
   "source": [
    "for image in tqdm.tqdm(result[\"images\"]):\n",
    "    image_file = os.path.join(IMAGE_PATH, image[\"file\"])\n",
    "    mask_file = os.path.join(MASK_PATH, image[\"file\"])\n",
    "    fit_file = os.path.join(FIT_PATH, image[\"file\"])\n",
    "\n",
    "    fi.fit_image_with_padding(image_file, mask_file, fit_file)\n"
   ]
  }
 ],
 "metadata": {
  "kernelspec": {
   "display_name": "TFG",
   "language": "python",
   "name": "python3"
  },
  "language_info": {
   "codemirror_mode": {
    "name": "ipython",
    "version": 3
   },
   "file_extension": ".py",
   "mimetype": "text/x-python",
   "name": "python",
   "nbconvert_exporter": "python",
   "pygments_lexer": "ipython3",
   "version": "3.8.19"
  }
 },
 "nbformat": 4,
 "nbformat_minor": 2
}
