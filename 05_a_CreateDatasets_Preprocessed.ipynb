{
 "cells": [
  {
   "cell_type": "code",
   "execution_count": 1,
   "metadata": {},
   "outputs": [],
   "source": [
    "import os\n",
    "import shutil\n",
    "\n",
    "import matplotlib.pyplot as plt\n",
    "import numpy as np\n",
    "import pandas as pd\n",
    "import tensorflow\n",
    "import tqdm\n",
    "from keras.callbacks import TensorBoard\n",
    "from tensorflow.keras.metrics import *\n",
    "from tensorflow.keras.preprocessing.image import ImageDataGenerator\n",
    "\n",
    "import src.data.Dataset as dt"
   ]
  },
  {
   "cell_type": "code",
   "execution_count": 2,
   "metadata": {},
   "outputs": [
    {
     "name": "stdout",
     "output_type": "stream",
     "text": [
      "PYTHONPATH: :/Users/carlos/WORKSPACE/MegaClassifier/data/external/ai4eutils:/Users/carlos/WORKSPACE/MegaClassifier/data/external/CameraTraps:/Users/carlos/WORKSPACE/MegaClassifier/data/external/yolov5\n"
     ]
    }
   ],
   "source": [
    "required_paths = [\"/ai4eutils\", \"/CameraTraps\", \"/yolov5\"]\n",
    "python_path = os.environ.get(\"PYTHONPATH\", \"\")\n",
    "root_path = os.getcwd()\n",
    "\n",
    "for path in required_paths:\n",
    "    if not any(p.endswith(path) for p in python_path.split(\":\")):\n",
    "        python_path += f\":{root_path}/data/external{path}\"\n",
    "\n",
    "os.environ[\"PYTHONPATH\"] = python_path\n",
    "\n",
    "!echo \"PYTHONPATH: $PYTHONPATH\""
   ]
  },
  {
   "cell_type": "code",
   "execution_count": 3,
   "metadata": {},
   "outputs": [
    {
     "name": "stdout",
     "output_type": "stream",
     "text": [
      "IMAGES_DATASET_PATH:     /Users/carlos/WORKSPACE/MegaClassifier/data/processed/preprocessed_megadetector\n",
      "ORIGINAL_IMAGES_DATASET: /Users/carlos/WORKSPACE/MegaClassifier/data/raw/emptyNonEmptyDataset_ETL\n",
      "FIT_IMAGES_DATASET:      /Users/carlos/WORKSPACE/MegaClassifier/data/interim/fit_images/emptyNonEmptyDataset_ETL\n",
      "SAMPLES_CSV:             /Users/carlos/WORKSPACE/MegaClassifier/data/raw/emptyNonEmptyDataset_ETL/28560Images_detection.csv\n"
     ]
    }
   ],
   "source": [
    "DATASET_NAME = \"preprocessed_megadetector\"\n",
    "DATASET_PATH = os.path.abspath(\"./data/processed\")\n",
    "IMAGES_DATASET_PATH = os.path.join(DATASET_PATH, DATASET_NAME)\n",
    "\n",
    "ORIGINAL_IMAGES_DATASET = os.path.abspath(\"./data/raw/emptyNonEmptyDataset_ETL\")\n",
    "FIT_IMAGES_DATASET = os.path.abspath(\n",
    "    \"./data/interim/fit_images/emptyNonEmptyDataset_ETL\"\n",
    ")\n",
    "\n",
    "SAMPLES_CSV = os.path.abspath(\n",
    "    \"data/raw/emptyNonEmptyDataset_ETL/28560Images_detection.csv\"\n",
    ")\n",
    "\n",
    "\n",
    "print(f\"IMAGES_DATASET_PATH:     {IMAGES_DATASET_PATH}\")\n",
    "print(f\"ORIGINAL_IMAGES_DATASET: {ORIGINAL_IMAGES_DATASET}\")\n",
    "print(f\"FIT_IMAGES_DATASET:      {FIT_IMAGES_DATASET}\")\n",
    "print(f\"SAMPLES_CSV:             {SAMPLES_CSV}\")"
   ]
  },
  {
   "cell_type": "code",
   "execution_count": 7,
   "metadata": {},
   "outputs": [
    {
     "name": "stdout",
     "output_type": "stream",
     "text": [
      "The file /Users/carlos/WORKSPACE/MegaClassifier/data/raw/emptyNonEmptyDataset_ETL/28560Images_detection.csv has been successfully opened.\n"
     ]
    },
    {
     "data": {
      "text/html": [
       "<div>\n",
       "<style scoped>\n",
       "    .dataframe tbody tr th:only-of-type {\n",
       "        vertical-align: middle;\n",
       "    }\n",
       "\n",
       "    .dataframe tbody tr th {\n",
       "        vertical-align: top;\n",
       "    }\n",
       "\n",
       "    .dataframe thead th {\n",
       "        text-align: right;\n",
       "    }\n",
       "</style>\n",
       "<table border=\"1\" class=\"dataframe\">\n",
       "  <thead>\n",
       "    <tr style=\"text-align: right;\">\n",
       "      <th></th>\n",
       "      <th>file_name</th>\n",
       "      <th>label</th>\n",
       "      <th>binary_label</th>\n",
       "      <th>detector_label</th>\n",
       "      <th>subset</th>\n",
       "    </tr>\n",
       "  </thead>\n",
       "  <tbody>\n",
       "    <tr>\n",
       "      <th>0</th>\n",
       "      <td>vacia/noanimal_zoo_5_6_7_9/37_20210319_943_.jpg</td>\n",
       "      <td>vacia</td>\n",
       "      <td>0</td>\n",
       "      <td>1</td>\n",
       "      <td>test</td>\n",
       "    </tr>\n",
       "    <tr>\n",
       "      <th>1</th>\n",
       "      <td>vaca/cow_zoo_1_4/21_20201217_759_.jpg</td>\n",
       "      <td>vaca</td>\n",
       "      <td>1</td>\n",
       "      <td>1</td>\n",
       "      <td>test</td>\n",
       "    </tr>\n",
       "    <tr>\n",
       "      <th>2</th>\n",
       "      <td>cervidae/ciervo_pnm_2013-o_isaac/f29507imag109...</td>\n",
       "      <td>cervidae</td>\n",
       "      <td>1</td>\n",
       "      <td>1</td>\n",
       "      <td>test</td>\n",
       "    </tr>\n",
       "    <tr>\n",
       "      <th>3</th>\n",
       "      <td>micromamiferos/rat_islandconservationcameratra...</td>\n",
       "      <td>micromamiferos</td>\n",
       "      <td>1</td>\n",
       "      <td>1</td>\n",
       "      <td>test</td>\n",
       "    </tr>\n",
       "    <tr>\n",
       "      <th>4</th>\n",
       "      <td>vacia/vacia_paco_carro_jc/img_1082.jpg</td>\n",
       "      <td>vacia</td>\n",
       "      <td>0</td>\n",
       "      <td>0</td>\n",
       "      <td>test</td>\n",
       "    </tr>\n",
       "  </tbody>\n",
       "</table>\n",
       "</div>"
      ],
      "text/plain": [
       "                                           file_name           label  \\\n",
       "0    vacia/noanimal_zoo_5_6_7_9/37_20210319_943_.jpg           vacia   \n",
       "1              vaca/cow_zoo_1_4/21_20201217_759_.jpg            vaca   \n",
       "2  cervidae/ciervo_pnm_2013-o_isaac/f29507imag109...        cervidae   \n",
       "3  micromamiferos/rat_islandconservationcameratra...  micromamiferos   \n",
       "4             vacia/vacia_paco_carro_jc/img_1082.jpg           vacia   \n",
       "\n",
       "   binary_label  detector_label subset  \n",
       "0             0               1   test  \n",
       "1             1               1   test  \n",
       "2             1               1   test  \n",
       "3             1               1   test  \n",
       "4             0               0   test  "
      ]
     },
     "execution_count": 7,
     "metadata": {},
     "output_type": "execute_result"
    }
   ],
   "source": [
    "samples_dataframe = dt.load_from_csv(SAMPLES_CSV)\n",
    "samples_dataframe.head()"
   ]
  },
  {
   "cell_type": "code",
   "execution_count": 6,
   "metadata": {},
   "outputs": [
    {
     "name": "stderr",
     "output_type": "stream",
     "text": [
      "100%|██████████| 4286/4286 [00:00<00:00, 18734.23it/s]\n"
     ]
    }
   ],
   "source": [
    "for index in tqdm.tqdm(samples_dataframe.index):\n",
    "    file_name = samples_dataframe.loc[index, \"file_name\"]\n",
    "    megadetector_label = samples_dataframe.loc[index, \"detector_label\"]\n",
    "\n",
    "    if megadetector_label == 1:\n",
    "        samples_dataframe.loc[index, \"file_name_new\"] = os.path.join(\n",
    "            FIT_IMAGES_DATASET, file_name\n",
    "        )\n",
    "    else:\n",
    "        samples_dataframe.loc[index, \"file_name_new\"] = os.path.join(\n",
    "            ORIGINAL_IMAGES_DATASET, file_name\n",
    "        )\n",
    "\n",
    "samples_dataframe[\"binary_label\"] = samples_dataframe[\"binary_label\"].astype(\"str\")"
   ]
  },
  {
   "cell_type": "code",
   "execution_count": null,
   "metadata": {},
   "outputs": [],
   "source": [
    "IMG_SIZE = (224, 224)\n",
    "BATCH_SIZE = 32\n",
    "EPOCHS = 25\n",
    "VERSION = 1.0\n",
    "\n",
    "train_datagen = ImageDataGenerator(\n",
    "    preprocessing_function=tensorflow.keras.applications.mobilenet_v2.preprocess_input\n",
    ")\n",
    "train_images = train_datagen.flow_from_dataframe(\n",
    "    dataframe=samples_dataframe,\n",
    "    x_col=\"file_name_new\",\n",
    "    y_col=\"binary_label\",\n",
    "    target_size=IMG_SIZE,\n",
    "    batch_size=BATCH_SIZE,\n",
    "    class_mode=\"binary\",\n",
    "    seed=42,\n",
    ")"
   ]
  },
  {
   "cell_type": "code",
   "execution_count": null,
   "metadata": {},
   "outputs": [],
   "source": [
    "def show_random_images_from_generator(generator, title):\n",
    "    images, labels = next(generator)\n",
    "    # Asegúrate de que las imágenes estén en el rango [0, 1] para visualizarlas correctamente\n",
    "    images = (\n",
    "        images + 1\n",
    "    ) * 127.5  # Si las imágenes están en el rango [-1, 1], esto las lleva a [0, 255]\n",
    "    images = np.clip(images, 0, 255)  # Asegúrate de que no haya valores fuera de rango\n",
    "\n",
    "    plt.figure(figsize=(15, 5))\n",
    "    for i in range(10):\n",
    "        plt.subplot(2, 5, i + 1)\n",
    "        plt.imshow(\n",
    "            images[i].astype(\"uint8\")\n",
    "        )  # Convierte a enteros de 8 bits para la visualización\n",
    "        plt.title(f\"Label: {int(labels[i])}\")\n",
    "        plt.axis(\"off\")\n",
    "    plt.suptitle(title)\n",
    "    plt.show()\n",
    "\n",
    "\n",
    "show_random_images_from_generator(train_images, \"\")"
   ]
  },
  {
   "cell_type": "code",
   "execution_count": null,
   "metadata": {},
   "outputs": [],
   "source": [
    "for _, row in tqdm.tqdm(samples_dataframe.iterrows()):\n",
    "    original_file = row[\"file_name_new\"]\n",
    "    new_dataset = os.path.join(IMAGES_DATASET_PATH, row[\"file_name\"])\n",
    "\n",
    "    os.makedirs(os.path.dirname(new_dataset), exist_ok=True)\n",
    "\n",
    "    try:\n",
    "        shutil.copyfile(original_file, new_dataset)\n",
    "    except FileNotFoundError:\n",
    "        print(f\"File not found: {original_file}\")"
   ]
  }
 ],
 "metadata": {
  "kernelspec": {
   "display_name": "TFG",
   "language": "python",
   "name": "python3"
  },
  "language_info": {
   "codemirror_mode": {
    "name": "ipython",
    "version": 3
   },
   "file_extension": ".py",
   "mimetype": "text/x-python",
   "name": "python",
   "nbconvert_exporter": "python",
   "pygments_lexer": "ipython3",
   "version": "3.8.19"
  }
 },
 "nbformat": 4,
 "nbformat_minor": 2
}
