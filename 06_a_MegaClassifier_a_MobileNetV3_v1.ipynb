{
 "cells": [
  {
   "cell_type": "code",
   "execution_count": 1,
   "metadata": {},
   "outputs": [],
   "source": [
    "import os\n",
    "\n",
    "import numpy as np\n",
    "import pandas as pd\n",
    "import tensorflow as tf\n",
    "from sklearn.metrics import auc, confusion_matrix, roc_curve\n",
    "from tensorflow.keras.callbacks import TensorBoard\n",
    "from tensorflow.keras.metrics import AUC, BinaryAccuracy, Precision, Recall\n",
    "from tensorflow.keras.preprocessing.image import ImageDataGenerator\n",
    "from tensorflow.keras.applications import MobileNetV3Large\n",
    "\n",
    "import src.graphics as graphics"
   ]
  },
  {
   "cell_type": "code",
   "execution_count": 2,
   "metadata": {},
   "outputs": [],
   "source": [
    "VERSION = 1\n",
    "MODEL_BASE_NAME = \"MegaClassifier_a_MobileNetV3\"\n",
    "\n",
    "DATASET_CSV = os.path.abspath(\n",
    "    \"./data/processed/onlyDetectionsForTrain/onlyDetectionsForTrain.csv\"\n",
    ")\n",
    "DATASET_PATH = os.path.dirname(DATASET_CSV)"
   ]
  },
  {
   "cell_type": "code",
   "execution_count": 3,
   "metadata": {},
   "outputs": [],
   "source": [
    "dataset = pd.read_csv(DATASET_CSV, sep=\";\")\n",
    "dataset[\"file_name\"] = dataset[\"file_name\"].apply(\n",
    "    lambda x: os.path.join(DATASET_PATH, x)\n",
    ")\n",
    "dataset[\"binary_label\"] = dataset[\"binary_label\"].astype(str)\n",
    "\n",
    "train_dataset = dataset[dataset[\"subset\"] == \"train\"]\n",
    "validationtrain_dataset = dataset[dataset[\"subset\"] == \"validation\"]\n",
    "test_dataset = dataset[dataset[\"subset\"] == \"test\"]\n",
    "\n",
    "EPOCHS = 10\n",
    "IMAGE_SIZE = (224, 224)\n",
    "IMAGE_SHAPE = IMAGE_SIZE + (3,)\n",
    "SEED = 42"
   ]
  },
  {
   "cell_type": "code",
   "execution_count": 4,
   "metadata": {},
   "outputs": [],
   "source": [
    "OPTIMIZERS = {\"Adam\": tf.keras.optimizers.legacy.Adam()}"
   ]
  },
  {
   "cell_type": "code",
   "execution_count": 5,
   "metadata": {},
   "outputs": [],
   "source": [
    "LOSS = {\"BinaryCrossentropy\": tf.keras.losses.BinaryCrossentropy()}"
   ]
  },
  {
   "cell_type": "code",
   "execution_count": 6,
   "metadata": {},
   "outputs": [
    {
     "name": "stderr",
     "output_type": "stream",
     "text": [
      "2025-02-28 19:38:34.793295: I metal_plugin/src/device/metal_device.cc:1154] Metal device set to: Apple M1\n",
      "2025-02-28 19:38:34.793339: I metal_plugin/src/device/metal_device.cc:296] systemMemory: 16.00 GB\n",
      "2025-02-28 19:38:34.793350: I metal_plugin/src/device/metal_device.cc:313] maxCacheSize: 5.33 GB\n",
      "2025-02-28 19:38:34.793397: I tensorflow/core/common_runtime/pluggable_device/pluggable_device_factory.cc:303] Could not identify NUMA node of platform GPU ID 0, defaulting to 0. Your kernel may not have been built with NUMA support.\n",
      "2025-02-28 19:38:34.793429: I tensorflow/core/common_runtime/pluggable_device/pluggable_device_factory.cc:269] Created TensorFlow device (/job:localhost/replica:0/task:0/device:GPU:0 with 0 MB memory) -> physical PluggableDevice (device: 0, name: METAL, pci bus id: <undefined>)\n"
     ]
    }
   ],
   "source": [
    "METRICS = [\n",
    "    BinaryAccuracy(name=\"accuracy\"),\n",
    "    Precision(name=\"precision\"),\n",
    "    Recall(name=\"recall\"),\n",
    "    AUC(name=\"auc\"),\n",
    "]"
   ]
  },
  {
   "cell_type": "code",
   "execution_count": 7,
   "metadata": {},
   "outputs": [],
   "source": [
    "BATCH_SIZES = [16, 32, 64, 128]"
   ]
  },
  {
   "cell_type": "code",
   "execution_count": 8,
   "metadata": {},
   "outputs": [
    {
     "name": "stdout",
     "output_type": "stream",
     "text": [
      "Found 17906 validated image filenames belonging to 2 classes.\n",
      "Found 4286 validated image filenames belonging to 2 classes.\n",
      "Found 4286 validated image filenames belonging to 2 classes.\n",
      "Downloading data from https://storage.googleapis.com/tensorflow/keras-applications/mobilenet_v3/weights_mobilenet_v3_large_224_1.0_float_no_top_v2.h5\n",
      "12683000/12683000 [==============================] - 1s 0us/step\n",
      "Epoch 1/10\n"
     ]
    },
    {
     "name": "stderr",
     "output_type": "stream",
     "text": [
      "2025-02-28 19:38:39.498852: I tensorflow/core/grappler/optimizers/custom_graph_optimizer_registry.cc:114] Plugin optimizer for device_type GPU is enabled.\n"
     ]
    },
    {
     "name": "stdout",
     "output_type": "stream",
     "text": [
      "1120/1120 [==============================] - ETA: 0s - loss: 0.2213 - accuracy: 0.9045 - precision: 0.9308 - recall: 0.9407 - auc: 0.9611"
     ]
    },
    {
     "name": "stderr",
     "output_type": "stream",
     "text": [
      "2025-02-28 19:40:16.625589: I tensorflow/core/grappler/optimizers/custom_graph_optimizer_registry.cc:114] Plugin optimizer for device_type GPU is enabled.\n"
     ]
    },
    {
     "name": "stdout",
     "output_type": "stream",
     "text": [
      "1120/1120 [==============================] - 120s 104ms/step - loss: 0.2213 - accuracy: 0.9045 - precision: 0.9308 - recall: 0.9407 - auc: 0.9611 - val_loss: 0.1912 - val_accuracy: 0.9253 - val_precision: 0.9608 - val_recall: 0.9249 - val_auc: 0.9750\n",
      "Epoch 2/10\n",
      "1120/1120 [==============================] - 137s 122ms/step - loss: 0.1685 - accuracy: 0.9317 - precision: 0.9551 - recall: 0.9523 - auc: 0.9774 - val_loss: 0.1806 - val_accuracy: 0.9260 - val_precision: 0.9248 - val_recall: 0.9669 - val_auc: 0.9808\n",
      "Epoch 3/10\n",
      "1120/1120 [==============================] - 141s 126ms/step - loss: 0.1561 - accuracy: 0.9348 - precision: 0.9573 - recall: 0.9543 - auc: 0.9808 - val_loss: 0.1645 - val_accuracy: 0.9349 - val_precision: 0.9571 - val_recall: 0.9439 - val_auc: 0.9813\n",
      "Epoch 4/10\n",
      "1120/1120 [==============================] - 153s 137ms/step - loss: 0.1495 - accuracy: 0.9384 - precision: 0.9604 - recall: 0.9560 - auc: 0.9823 - val_loss: 0.1621 - val_accuracy: 0.9370 - val_precision: 0.9524 - val_recall: 0.9524 - val_auc: 0.9820\n",
      "Epoch 5/10\n",
      "1120/1120 [==============================] - 144s 128ms/step - loss: 0.1440 - accuracy: 0.9403 - precision: 0.9604 - recall: 0.9587 - auc: 0.9836 - val_loss: 0.1605 - val_accuracy: 0.9379 - val_precision: 0.9632 - val_recall: 0.9422 - val_auc: 0.9823\n",
      "Epoch 6/10\n",
      "1120/1120 [==============================] - 135s 121ms/step - loss: 0.1400 - accuracy: 0.9428 - precision: 0.9622 - recall: 0.9602 - auc: 0.9843 - val_loss: 0.1608 - val_accuracy: 0.9375 - val_precision: 0.9573 - val_recall: 0.9478 - val_auc: 0.9826\n",
      "Epoch 7/10\n",
      "1120/1120 [==============================] - 137s 122ms/step - loss: 0.1383 - accuracy: 0.9425 - precision: 0.9616 - recall: 0.9605 - auc: 0.9848 - val_loss: 0.1624 - val_accuracy: 0.9370 - val_precision: 0.9655 - val_recall: 0.9383 - val_auc: 0.9823\n",
      "Epoch 8/10\n",
      "1120/1120 [==============================] - 146s 130ms/step - loss: 0.1353 - accuracy: 0.9437 - precision: 0.9625 - recall: 0.9611 - auc: 0.9853 - val_loss: 0.1598 - val_accuracy: 0.9377 - val_precision: 0.9619 - val_recall: 0.9432 - val_auc: 0.9827\n",
      "Epoch 9/10\n",
      "1120/1120 [==============================] - 138s 123ms/step - loss: 0.1330 - accuracy: 0.9464 - precision: 0.9648 - recall: 0.9627 - auc: 0.9858 - val_loss: 0.1622 - val_accuracy: 0.9400 - val_precision: 0.9627 - val_recall: 0.9461 - val_auc: 0.9819\n",
      "Epoch 10/10\n",
      "1120/1120 [==============================] - 152s 136ms/step - loss: 0.1326 - accuracy: 0.9457 - precision: 0.9646 - recall: 0.9618 - auc: 0.9859 - val_loss: 0.1623 - val_accuracy: 0.9344 - val_precision: 0.9416 - val_recall: 0.9605 - val_auc: 0.9824\n",
      "INFO:tensorflow:Assets written to: /Users/carlos/WORKSPACE/MegaClassifier/models/MegaClassifier_a_MobileNetV3/v1/v1.0/assets\n"
     ]
    },
    {
     "name": "stderr",
     "output_type": "stream",
     "text": [
      "INFO:tensorflow:Assets written to: /Users/carlos/WORKSPACE/MegaClassifier/models/MegaClassifier_a_MobileNetV3/v1/v1.0/assets\n"
     ]
    },
    {
     "name": "stdout",
     "output_type": "stream",
     "text": [
      "268/268 [==============================] - 31s 117ms/step - loss: 0.1494 - accuracy: 0.9379 - precision: 0.9456 - recall: 0.9616 - auc: 0.9854\n"
     ]
    },
    {
     "name": "stderr",
     "output_type": "stream",
     "text": [
      "2025-02-28 20:02:44.301261: I tensorflow/core/grappler/optimizers/custom_graph_optimizer_registry.cc:114] Plugin optimizer for device_type GPU is enabled.\n"
     ]
    },
    {
     "name": "stdout",
     "output_type": "stream",
     "text": [
      "268/268 [==============================] - 31s 113ms/step\n",
      "\n",
      "\n",
      "\n",
      "Found 17906 validated image filenames belonging to 2 classes.\n",
      "Found 4286 validated image filenames belonging to 2 classes.\n",
      "Found 4286 validated image filenames belonging to 2 classes.\n",
      "Epoch 1/10\n"
     ]
    },
    {
     "name": "stderr",
     "output_type": "stream",
     "text": [
      "2025-02-28 20:03:18.293721: I tensorflow/core/grappler/optimizers/custom_graph_optimizer_registry.cc:114] Plugin optimizer for device_type GPU is enabled.\n"
     ]
    },
    {
     "name": "stdout",
     "output_type": "stream",
     "text": [
      "560/560 [==============================] - ETA: 0s - loss: 0.1933 - accuracy: 0.9233 - precision: 0.9455 - recall: 0.9487 - auc: 0.9736"
     ]
    },
    {
     "name": "stderr",
     "output_type": "stream",
     "text": [
      "2025-02-28 20:05:14.853399: I tensorflow/core/grappler/optimizers/custom_graph_optimizer_registry.cc:114] Plugin optimizer for device_type GPU is enabled.\n"
     ]
    },
    {
     "name": "stdout",
     "output_type": "stream",
     "text": [
      "560/560 [==============================] - 143s 252ms/step - loss: 0.1933 - accuracy: 0.9233 - precision: 0.9455 - recall: 0.9487 - auc: 0.9736 - val_loss: 0.1854 - val_accuracy: 0.9342 - val_precision: 0.9532 - val_recall: 0.9471 - val_auc: 0.9761\n",
      "Epoch 2/10\n",
      "560/560 [==============================] - 124s 222ms/step - loss: 0.1579 - accuracy: 0.9358 - precision: 0.9581 - recall: 0.9549 - auc: 0.9803 - val_loss: 0.1765 - val_accuracy: 0.9330 - val_precision: 0.9415 - val_recall: 0.9584 - val_auc: 0.9798\n",
      "Epoch 3/10\n",
      "560/560 [==============================] - 136s 243ms/step - loss: 0.1493 - accuracy: 0.9396 - precision: 0.9608 - recall: 0.9574 - auc: 0.9825 - val_loss: 0.1689 - val_accuracy: 0.9379 - val_precision: 0.9550 - val_recall: 0.9510 - val_auc: 0.9799\n",
      "Epoch 4/10\n",
      "560/560 [==============================] - 128s 228ms/step - loss: 0.1440 - accuracy: 0.9415 - precision: 0.9623 - recall: 0.9584 - auc: 0.9837 - val_loss: 0.1683 - val_accuracy: 0.9347 - val_precision: 0.9431 - val_recall: 0.9591 - val_auc: 0.9810\n",
      "Epoch 5/10\n",
      "560/560 [==============================] - 139s 247ms/step - loss: 0.1401 - accuracy: 0.9430 - precision: 0.9629 - recall: 0.9599 - auc: 0.9846 - val_loss: 0.1628 - val_accuracy: 0.9384 - val_precision: 0.9567 - val_recall: 0.9499 - val_auc: 0.9813\n",
      "Epoch 6/10\n",
      "560/560 [==============================] - 145s 258ms/step - loss: 0.1383 - accuracy: 0.9430 - precision: 0.9629 - recall: 0.9598 - auc: 0.9849 - val_loss: 0.1625 - val_accuracy: 0.9377 - val_precision: 0.9622 - val_recall: 0.9429 - val_auc: 0.9812\n",
      "Epoch 7/10\n",
      "560/560 [==============================] - 126s 226ms/step - loss: 0.1358 - accuracy: 0.9441 - precision: 0.9639 - recall: 0.9603 - auc: 0.9854 - val_loss: 0.1646 - val_accuracy: 0.9375 - val_precision: 0.9431 - val_recall: 0.9637 - val_auc: 0.9821\n",
      "Epoch 8/10\n",
      "560/560 [==============================] - 137s 245ms/step - loss: 0.1345 - accuracy: 0.9458 - precision: 0.9645 - recall: 0.9620 - auc: 0.9856 - val_loss: 0.1595 - val_accuracy: 0.9400 - val_precision: 0.9536 - val_recall: 0.9559 - val_auc: 0.9823\n",
      "Epoch 9/10\n",
      "560/560 [==============================] - 133s 238ms/step - loss: 0.1318 - accuracy: 0.9453 - precision: 0.9645 - recall: 0.9613 - auc: 0.9863 - val_loss: 0.1593 - val_accuracy: 0.9396 - val_precision: 0.9535 - val_recall: 0.9552 - val_auc: 0.9821\n",
      "Epoch 10/10\n",
      "560/560 [==============================] - 141s 252ms/step - loss: 0.1303 - accuracy: 0.9481 - precision: 0.9658 - recall: 0.9639 - auc: 0.9865 - val_loss: 0.1710 - val_accuracy: 0.9340 - val_precision: 0.9688 - val_recall: 0.9302 - val_auc: 0.9805\n",
      "INFO:tensorflow:Assets written to: /Users/carlos/WORKSPACE/MegaClassifier/models/MegaClassifier_a_MobileNetV3/v1/v1.1/assets\n"
     ]
    },
    {
     "name": "stderr",
     "output_type": "stream",
     "text": [
      "INFO:tensorflow:Assets written to: /Users/carlos/WORKSPACE/MegaClassifier/models/MegaClassifier_a_MobileNetV3/v1/v1.1/assets\n"
     ]
    },
    {
     "name": "stdout",
     "output_type": "stream",
     "text": [
      "134/134 [==============================] - 28s 212ms/step - loss: 0.1621 - accuracy: 0.9328 - precision: 0.9715 - recall: 0.9256 - auc: 0.9831\n"
     ]
    },
    {
     "name": "stderr",
     "output_type": "stream",
     "text": [
      "2025-02-28 20:26:26.418224: I tensorflow/core/grappler/optimizers/custom_graph_optimizer_registry.cc:114] Plugin optimizer for device_type GPU is enabled.\n"
     ]
    },
    {
     "name": "stdout",
     "output_type": "stream",
     "text": [
      "134/134 [==============================] - 28s 198ms/step\n",
      "\n",
      "\n",
      "\n",
      "Found 17906 validated image filenames belonging to 2 classes.\n",
      "Found 4286 validated image filenames belonging to 2 classes.\n",
      "Found 4286 validated image filenames belonging to 2 classes.\n",
      "Epoch 1/10\n"
     ]
    },
    {
     "name": "stderr",
     "output_type": "stream",
     "text": [
      "2025-02-28 20:26:56.774577: I tensorflow/core/grappler/optimizers/custom_graph_optimizer_registry.cc:114] Plugin optimizer for device_type GPU is enabled.\n"
     ]
    },
    {
     "name": "stdout",
     "output_type": "stream",
     "text": [
      "280/280 [==============================] - ETA: 0s - loss: 0.1984 - accuracy: 0.9200 - precision: 0.9475 - recall: 0.9417 - auc: 0.9719"
     ]
    },
    {
     "name": "stderr",
     "output_type": "stream",
     "text": [
      "2025-02-28 20:28:52.107230: I tensorflow/core/grappler/optimizers/custom_graph_optimizer_registry.cc:114] Plugin optimizer for device_type GPU is enabled.\n"
     ]
    },
    {
     "name": "stdout",
     "output_type": "stream",
     "text": [
      "280/280 [==============================] - 142s 496ms/step - loss: 0.1984 - accuracy: 0.9200 - precision: 0.9475 - recall: 0.9417 - auc: 0.9719 - val_loss: 0.1852 - val_accuracy: 0.9246 - val_precision: 0.9226 - val_recall: 0.9672 - val_auc: 0.9801\n",
      "Epoch 2/10\n",
      "280/280 [==============================] - 121s 432ms/step - loss: 0.1598 - accuracy: 0.9350 - precision: 0.9567 - recall: 0.9553 - auc: 0.9799 - val_loss: 0.1683 - val_accuracy: 0.9356 - val_precision: 0.9575 - val_recall: 0.9446 - val_auc: 0.9807\n",
      "Epoch 3/10\n",
      "280/280 [==============================] - 133s 474ms/step - loss: 0.1513 - accuracy: 0.9393 - precision: 0.9601 - recall: 0.9577 - auc: 0.9819 - val_loss: 0.1631 - val_accuracy: 0.9349 - val_precision: 0.9510 - val_recall: 0.9506 - val_auc: 0.9817\n",
      "Epoch 4/10\n",
      "280/280 [==============================] - 127s 455ms/step - loss: 0.1466 - accuracy: 0.9407 - precision: 0.9607 - recall: 0.9590 - auc: 0.9833 - val_loss: 0.1626 - val_accuracy: 0.9354 - val_precision: 0.9466 - val_recall: 0.9563 - val_auc: 0.9818\n",
      "Epoch 5/10\n",
      "280/280 [==============================] - 138s 492ms/step - loss: 0.1427 - accuracy: 0.9415 - precision: 0.9621 - recall: 0.9586 - auc: 0.9840 - val_loss: 0.1625 - val_accuracy: 0.9356 - val_precision: 0.9429 - val_recall: 0.9609 - val_auc: 0.9826\n",
      "Epoch 6/10\n",
      "280/280 [==============================] - 136s 486ms/step - loss: 0.1399 - accuracy: 0.9435 - precision: 0.9632 - recall: 0.9603 - auc: 0.9848 - val_loss: 0.1597 - val_accuracy: 0.9344 - val_precision: 0.9516 - val_recall: 0.9492 - val_auc: 0.9824\n",
      "Epoch 7/10\n",
      "280/280 [==============================] - 123s 438ms/step - loss: 0.1375 - accuracy: 0.9452 - precision: 0.9637 - recall: 0.9621 - auc: 0.9853 - val_loss: 0.1606 - val_accuracy: 0.9365 - val_precision: 0.9464 - val_recall: 0.9584 - val_auc: 0.9826\n",
      "Epoch 8/10\n",
      "280/280 [==============================] - 133s 476ms/step - loss: 0.1360 - accuracy: 0.9454 - precision: 0.9643 - recall: 0.9617 - auc: 0.9855 - val_loss: 0.1583 - val_accuracy: 0.9393 - val_precision: 0.9590 - val_recall: 0.9489 - val_auc: 0.9824\n",
      "Epoch 9/10\n",
      "280/280 [==============================] - 128s 459ms/step - loss: 0.1342 - accuracy: 0.9458 - precision: 0.9643 - recall: 0.9624 - auc: 0.9860 - val_loss: 0.1577 - val_accuracy: 0.9386 - val_precision: 0.9538 - val_recall: 0.9535 - val_auc: 0.9827\n",
      "Epoch 10/10\n",
      "280/280 [==============================] - 139s 497ms/step - loss: 0.1329 - accuracy: 0.9459 - precision: 0.9650 - recall: 0.9617 - auc: 0.9862 - val_loss: 0.1589 - val_accuracy: 0.9375 - val_precision: 0.9477 - val_recall: 0.9584 - val_auc: 0.9828\n",
      "INFO:tensorflow:Assets written to: /Users/carlos/WORKSPACE/MegaClassifier/models/MegaClassifier_a_MobileNetV3/v1/v1.2/assets\n"
     ]
    },
    {
     "name": "stderr",
     "output_type": "stream",
     "text": [
      "INFO:tensorflow:Assets written to: /Users/carlos/WORKSPACE/MegaClassifier/models/MegaClassifier_a_MobileNetV3/v1/v1.2/assets\n"
     ]
    },
    {
     "name": "stdout",
     "output_type": "stream",
     "text": [
      "67/67 [==============================] - 30s 434ms/step - loss: 0.1468 - accuracy: 0.9372 - precision: 0.9499 - recall: 0.9556 - auc: 0.9857\n"
     ]
    },
    {
     "name": "stderr",
     "output_type": "stream",
     "text": [
      "2025-02-28 20:49:33.869387: I tensorflow/core/grappler/optimizers/custom_graph_optimizer_registry.cc:114] Plugin optimizer for device_type GPU is enabled.\n"
     ]
    },
    {
     "name": "stdout",
     "output_type": "stream",
     "text": [
      "67/67 [==============================] - 28s 401ms/step\n",
      "\n",
      "\n",
      "\n",
      "Found 17906 validated image filenames belonging to 2 classes.\n",
      "Found 4286 validated image filenames belonging to 2 classes.\n",
      "Found 4286 validated image filenames belonging to 2 classes.\n",
      "Epoch 1/10\n"
     ]
    },
    {
     "name": "stderr",
     "output_type": "stream",
     "text": [
      "2025-02-28 20:50:05.195835: I tensorflow/core/grappler/optimizers/custom_graph_optimizer_registry.cc:114] Plugin optimizer for device_type GPU is enabled.\n"
     ]
    },
    {
     "name": "stdout",
     "output_type": "stream",
     "text": [
      "140/140 [==============================] - ETA: 0s - loss: 0.2419 - accuracy: 0.9020 - precision: 0.9293 - recall: 0.9358 - auc: 0.9614"
     ]
    },
    {
     "name": "stderr",
     "output_type": "stream",
     "text": [
      "2025-02-28 20:51:51.891359: I tensorflow/core/grappler/optimizers/custom_graph_optimizer_registry.cc:114] Plugin optimizer for device_type GPU is enabled.\n"
     ]
    },
    {
     "name": "stdout",
     "output_type": "stream",
     "text": [
      "140/140 [==============================] - 133s 922ms/step - loss: 0.2419 - accuracy: 0.9020 - precision: 0.9293 - recall: 0.9358 - auc: 0.9614 - val_loss: 0.2029 - val_accuracy: 0.9260 - val_precision: 0.9542 - val_recall: 0.9330 - val_auc: 0.9723\n",
      "Epoch 2/10\n",
      "140/140 [==============================] - 122s 872ms/step - loss: 0.1753 - accuracy: 0.9283 - precision: 0.9524 - recall: 0.9505 - auc: 0.9761 - val_loss: 0.1863 - val_accuracy: 0.9305 - val_precision: 0.9376 - val_recall: 0.9587 - val_auc: 0.9780\n",
      "Epoch 3/10\n",
      "140/140 [==============================] - 126s 899ms/step - loss: 0.1636 - accuracy: 0.9337 - precision: 0.9549 - recall: 0.9553 - auc: 0.9792 - val_loss: 0.1767 - val_accuracy: 0.9365 - val_precision: 0.9582 - val_recall: 0.9453 - val_auc: 0.9782\n",
      "Epoch 4/10\n",
      "140/140 [==============================] - 124s 888ms/step - loss: 0.1566 - accuracy: 0.9353 - precision: 0.9567 - recall: 0.9557 - auc: 0.9811 - val_loss: 0.1712 - val_accuracy: 0.9349 - val_precision: 0.9581 - val_recall: 0.9429 - val_auc: 0.9795\n",
      "Epoch 5/10\n",
      "140/140 [==============================] - 139s 993ms/step - loss: 0.1523 - accuracy: 0.9383 - precision: 0.9598 - recall: 0.9565 - auc: 0.9821 - val_loss: 0.1691 - val_accuracy: 0.9349 - val_precision: 0.9469 - val_recall: 0.9552 - val_auc: 0.9809\n",
      "Epoch 6/10\n",
      "140/140 [==============================] - 129s 921ms/step - loss: 0.1486 - accuracy: 0.9393 - precision: 0.9599 - recall: 0.9578 - auc: 0.9829 - val_loss: 0.1659 - val_accuracy: 0.9361 - val_precision: 0.9588 - val_recall: 0.9439 - val_auc: 0.9808\n",
      "Epoch 7/10\n",
      "140/140 [==============================] - 120s 854ms/step - loss: 0.1460 - accuracy: 0.9408 - precision: 0.9610 - recall: 0.9588 - auc: 0.9835 - val_loss: 0.1639 - val_accuracy: 0.9356 - val_precision: 0.9501 - val_recall: 0.9528 - val_auc: 0.9816\n",
      "Epoch 8/10\n",
      "140/140 [==============================] - 126s 897ms/step - loss: 0.1433 - accuracy: 0.9411 - precision: 0.9618 - recall: 0.9584 - auc: 0.9841 - val_loss: 0.1623 - val_accuracy: 0.9365 - val_precision: 0.9520 - val_recall: 0.9520 - val_auc: 0.9819\n",
      "Epoch 9/10\n",
      "140/140 [==============================] - 123s 880ms/step - loss: 0.1419 - accuracy: 0.9416 - precision: 0.9618 - recall: 0.9591 - auc: 0.9844 - val_loss: 0.1613 - val_accuracy: 0.9356 - val_precision: 0.9529 - val_recall: 0.9496 - val_auc: 0.9819\n",
      "Epoch 10/10\n",
      "140/140 [==============================] - 137s 976ms/step - loss: 0.1397 - accuracy: 0.9436 - precision: 0.9629 - recall: 0.9607 - auc: 0.9848 - val_loss: 0.1606 - val_accuracy: 0.9379 - val_precision: 0.9602 - val_recall: 0.9453 - val_auc: 0.9818\n",
      "INFO:tensorflow:Assets written to: /Users/carlos/WORKSPACE/MegaClassifier/models/MegaClassifier_a_MobileNetV3/v1/v1.3/assets\n"
     ]
    },
    {
     "name": "stderr",
     "output_type": "stream",
     "text": [
      "INFO:tensorflow:Assets written to: /Users/carlos/WORKSPACE/MegaClassifier/models/MegaClassifier_a_MobileNetV3/v1/v1.3/assets\n"
     ]
    },
    {
     "name": "stdout",
     "output_type": "stream",
     "text": [
      "34/34 [==============================] - 28s 785ms/step - loss: 0.1505 - accuracy: 0.9358 - precision: 0.9598 - recall: 0.9425 - auc: 0.9847\n"
     ]
    },
    {
     "name": "stderr",
     "output_type": "stream",
     "text": [
      "2025-02-28 21:11:59.100801: I tensorflow/core/grappler/optimizers/custom_graph_optimizer_registry.cc:114] Plugin optimizer for device_type GPU is enabled.\n"
     ]
    },
    {
     "name": "stdout",
     "output_type": "stream",
     "text": [
      "34/34 [==============================] - 26s 749ms/step\n",
      "\n",
      "\n",
      "\n"
     ]
    }
   ],
   "source": [
    "SUBVERSION = 0\n",
    "for BATCH_SIZE in BATCH_SIZES:\n",
    "    LOGS_PATH = os.path.abspath(\n",
    "        f\"./logs/{MODEL_BASE_NAME}/v{VERSION}/v{VERSION}.{SUBVERSION}\"\n",
    "    )\n",
    "    MODELS_PATH = os.path.abspath(\n",
    "        f\"./models/{MODEL_BASE_NAME}/v{VERSION}/v{VERSION}.{SUBVERSION}\"\n",
    "    )\n",
    "    REPORTS_PATH = os.path.abspath(\n",
    "        f\"./reports/{MODEL_BASE_NAME}/v{VERSION}/v{VERSION}.{SUBVERSION}\"\n",
    "    )\n",
    "\n",
    "    MODEL_COMPLETE_NAME = f\"{MODEL_BASE_NAME} v{VERSION}.{SUBVERSION}\"\n",
    "\n",
    "    train_datagen = ImageDataGenerator(\n",
    "        preprocessing_function=tf.keras.applications.mobilenet_v3.preprocess_input,\n",
    "    )\n",
    "    train_images = train_datagen.flow_from_dataframe(\n",
    "        dataframe=train_dataset,\n",
    "        x_col=\"file_name\",\n",
    "        y_col=\"binary_label\",\n",
    "        target_size=IMAGE_SIZE,\n",
    "        batch_size=BATCH_SIZE,\n",
    "        class_mode=\"binary\",\n",
    "        shuffle=True,\n",
    "        seed=SEED,\n",
    "    )\n",
    "\n",
    "    datagen = ImageDataGenerator(\n",
    "        preprocessing_function=tf.keras.applications.mobilenet_v3.preprocess_input,\n",
    "    )\n",
    "    validation_images = datagen.flow_from_dataframe(\n",
    "        dataframe=validationtrain_dataset,\n",
    "        x_col=\"file_name\",\n",
    "        y_col=\"binary_label\",\n",
    "        target_size=IMAGE_SIZE,\n",
    "        batch_size=BATCH_SIZE,\n",
    "        class_mode=\"binary\",\n",
    "        shuffle=True,\n",
    "        seed=SEED,\n",
    "    )\n",
    "    test_images = datagen.flow_from_dataframe(\n",
    "        dataframe=test_dataset,\n",
    "        x_col=\"file_name\",\n",
    "        y_col=\"binary_label\",\n",
    "        target_size=IMAGE_SIZE,\n",
    "        batch_size=BATCH_SIZE,\n",
    "        class_mode=\"binary\",\n",
    "        shuffle=False,\n",
    "        seed=SEED,\n",
    "    )\n",
    "\n",
    "    pretrained_model = tf.keras.applications.MobileNetV3Large(\n",
    "        weights=\"imagenet\",\n",
    "        include_top=False,\n",
    "        input_shape=IMAGE_SHAPE,\n",
    "    )\n",
    "    pretrained_model.trainable = False\n",
    "\n",
    "    model = tf.keras.Sequential(\n",
    "        [\n",
    "            pretrained_model,\n",
    "            tf.keras.layers.GlobalAveragePooling2D(),\n",
    "            tf.keras.layers.Dense(1, activation=\"sigmoid\"),\n",
    "        ],\n",
    "        name=f\"{MODEL_BASE_NAME}_v{VERSION}.{SUBVERSION}\",\n",
    "    )\n",
    "\n",
    "    model.compile(\n",
    "        optimizer=OPTIMIZERS[\"Adam\"],\n",
    "        loss=LOSS[\"BinaryCrossentropy\"],\n",
    "        metrics=METRICS,\n",
    "    )\n",
    "\n",
    "    history = model.fit(\n",
    "        train_images,\n",
    "        epochs=EPOCHS,\n",
    "        validation_data=validation_images,\n",
    "        callbacks=[TensorBoard(log_dir=LOGS_PATH)],\n",
    "    )\n",
    "\n",
    "    dataframe = pd.DataFrame(history.history)\n",
    "    history_path = os.path.join(LOGS_PATH, f\"history_v{VERSION}.{SUBVERSION}.csv\")\n",
    "    dataframe.to_csv(history_path, sep=\";\", index=False)\n",
    "\n",
    "    os.makedirs(REPORTS_PATH, exist_ok=True)\n",
    "    accuracy_chart = graphics.create_training_accuracy_chart(\n",
    "        history_path=history_path,\n",
    "        model_name=MODEL_COMPLETE_NAME,\n",
    "    )\n",
    "    accuracy_chart.write_image(f\"{REPORTS_PATH}/accuracy_v{VERSION}.{SUBVERSION}.png\")\n",
    "\n",
    "    loss_chart = graphics.create_training_loss_chart(\n",
    "        history_path=history_path,\n",
    "        model_name=MODEL_COMPLETE_NAME,\n",
    "    )\n",
    "    loss_chart.write_image(f\"{REPORTS_PATH}/loss_v{VERSION}.{SUBVERSION}.png\")\n",
    "\n",
    "    os.makedirs(MODELS_PATH, exist_ok=True)\n",
    "    model.save(MODELS_PATH)\n",
    "\n",
    "    results = model.evaluate(test_images)\n",
    "    metric_names = history.model.metrics_names\n",
    "    evaluation_results = {\n",
    "        (\"test_\" + name): value for name, value in zip(metric_names, results)\n",
    "    }\n",
    "\n",
    "    evaluation = pd.DataFrame([evaluation_results])\n",
    "    evaluation.to_csv(\n",
    "        os.path.join(LOGS_PATH, f\"evaluation_v{VERSION}.{SUBVERSION}.csv\"),\n",
    "        sep=\";\",\n",
    "        index=False,\n",
    "    )\n",
    "\n",
    "    y_pred_prob = model.predict(test_images)\n",
    "    y_true = test_images.labels\n",
    "\n",
    "    fpr, tpr, thresholds = roc_curve(y_true, y_pred_prob)\n",
    "    roc_auc = auc(fpr, tpr)\n",
    "\n",
    "    roc_curve_chart = graphics.create_roc_curve_chart(\n",
    "        fpr=fpr,\n",
    "        tpr=tpr,\n",
    "        roc_auc=roc_auc,\n",
    "        model_name=MODEL_COMPLETE_NAME,\n",
    "    )\n",
    "    roc_curve_chart.write_image(f\"{REPORTS_PATH}/roc_curve_v{VERSION}.{SUBVERSION}.png\")\n",
    "\n",
    "    optimal_idx = np.argmax(tpr - fpr)\n",
    "    optimal_threshold = thresholds[optimal_idx]\n",
    "\n",
    "    # y_pred_prob = y_pred_prob.flatten()\n",
    "    y_pred_class = (y_pred_prob > optimal_threshold).astype(int)\n",
    "    conf_matrix = confusion_matrix(y_true, y_pred_class)\n",
    "    conf_matrix_text = [[str(value) for value in row] for row in conf_matrix]\n",
    "\n",
    "    # Crear el gráfico correctamente\n",
    "    confusion_matrix_chart = graphics.create_confusion_matrix_chart(\n",
    "        conf_matrix=conf_matrix,\n",
    "        conf_matrix_text=conf_matrix_text,\n",
    "        model_name=MODEL_COMPLETE_NAME,\n",
    "    )\n",
    "    confusion_matrix_chart.write_image(\n",
    "        f\"{REPORTS_PATH}/confusion_matrix_optimal_v{VERSION}.{SUBVERSION}.png\"\n",
    "    )\n",
    "\n",
    "    y_pred_class = (y_pred_prob > 0.5).astype(int)\n",
    "    conf_matrix = confusion_matrix(y_true, y_pred_class)\n",
    "    conf_matrix_text = [[str(value) for value in row] for row in conf_matrix]\n",
    "\n",
    "    confusion_matrix_chart = graphics.create_confusion_matrix_chart(\n",
    "        conf_matrix=conf_matrix,\n",
    "        conf_matrix_text=conf_matrix_text,\n",
    "        model_name=MODEL_COMPLETE_NAME,\n",
    "    )\n",
    "    confusion_matrix_chart.write_image(\n",
    "        f\"{REPORTS_PATH}/confusion_matrix_v{VERSION}.{SUBVERSION}.png\"\n",
    "    )\n",
    "\n",
    "    SUBVERSION += 1\n",
    "    print(\"\\n\\n\")\n"
   ]
  }
 ],
 "metadata": {
  "kernelspec": {
   "display_name": "TFG",
   "language": "python",
   "name": "python3"
  },
  "language_info": {
   "codemirror_mode": {
    "name": "ipython",
    "version": 3
   },
   "file_extension": ".py",
   "mimetype": "text/x-python",
   "name": "python",
   "nbconvert_exporter": "python",
   "pygments_lexer": "ipython3",
   "version": "3.8.19"
  }
 },
 "nbformat": 4,
 "nbformat_minor": 2
}
