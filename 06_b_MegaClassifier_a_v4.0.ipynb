{
 "cells": [
  {
   "metadata": {
    "ExecuteTime": {
     "end_time": "2025-02-23T23:40:31.739588Z",
     "start_time": "2025-02-23T20:26:04.757050Z"
    }
   },
   "cell_type": "code",
   "source": [
    "import os\n",
    "import time\n",
    "\n",
    "import pandas as pd\n",
    "import tensorflow as tf\n",
    "from keras.callbacks import TensorBoard\n",
    "from tensorflow.keras import backend as K\n",
    "from tensorflow.keras.metrics import Precision, Recall, AUC\n",
    "from tensorflow.keras.preprocessing.image import ImageDataGenerator\n",
    "\n",
    "MODEL_NAME = \"MegaClassifier_a\"\n",
    "VERSION_BASE = \"v4\"\n",
    "EPOCHS = 10\n",
    "BATCH_SIZE = 32\n",
    "IMAGE_SIZE = (224, 224)\n",
    "IMAGE_SHAPE = IMAGE_SIZE + (3,)\n",
    "SEED = 42\n",
    "\n",
    "DATASET_CSV = os.path.abspath(\"./data/processed/onlyDetectionsForTrain/onlyDetectionsForTrain.csv\")\n",
    "DATASET_PATH = os.path.dirname(DATASET_CSV)\n",
    "\n",
    "dataset = pd.read_csv(DATASET_CSV, sep=\";\")\n",
    "dataset['file_name'] = dataset['file_name'].apply(lambda x: os.path.join(DATASET_PATH, x))\n",
    "dataset['binary_label'] = dataset['binary_label'].astype(str)\n",
    "\n",
    "train_df = dataset[dataset['subset'] == 'train']\n",
    "validation_df = dataset[dataset['subset'] == 'validation']\n",
    "test_df = dataset[dataset['subset'] == 'test']\n",
    "\n",
    "\n",
    "def focal_loss(alpha=0.25, gamma=1.0):\n",
    "    def loss(y_true, y_pred):\n",
    "        epsilon = K.epsilon()\n",
    "        y_pred = K.clip(y_pred, epsilon, 1.0 - epsilon)\n",
    "        pt = tf.where(K.equal(y_true, 1), y_pred, 1 - y_pred)\n",
    "        loss = -K.mean(alpha * K.pow(1. - pt, gamma) * K.log(pt))\n",
    "        return loss\n",
    "\n",
    "    return loss\n",
    "\n",
    "\n",
    "optimizers = {\n",
    "    \"Adam\": lambda lr: tf.keras.optimizers.Adam(learning_rate=lr),\n",
    "    \"SGD\": lambda lr: tf.keras.optimizers.SGD(learning_rate=lr, momentum=0.9),\n",
    "    \"RMSprop\": lambda lr: tf.keras.optimizers.RMSprop(learning_rate=lr)\n",
    "}\n",
    "\n",
    "learning_rates = [0.01, 0.001, 0.0005, 0.0001]\n",
    "\n",
    "\n",
    "def train_and_evaluate(optimizer_name, learning_rate, VERSION_INDEX):\n",
    "    loss_name = f\"{optimizer_name}_LR{learning_rate}\"\n",
    "    print(f\"\\n🔹 Entrenando con {optimizer_name} y learning rate {learning_rate} 🔹\")\n",
    "\n",
    "    train_datagen = ImageDataGenerator(preprocessing_function=tf.keras.applications.mobilenet_v2.preprocess_input)\n",
    "    datagen = ImageDataGenerator(preprocessing_function=tf.keras.applications.mobilenet_v2.preprocess_input)\n",
    "\n",
    "    train_images = train_datagen.flow_from_dataframe(\n",
    "        dataframe=train_df,\n",
    "        x_col=\"file_name\",\n",
    "        y_col=\"binary_label\",\n",
    "        target_size=IMAGE_SIZE,\n",
    "        batch_size=BATCH_SIZE,\n",
    "        class_mode=\"binary\",\n",
    "        shuffle=True,\n",
    "        seed=SEED,\n",
    "    )\n",
    "    validation_images = datagen.flow_from_dataframe(\n",
    "        dataframe=validation_df,\n",
    "        x_col=\"file_name\",\n",
    "        y_col=\"binary_label\",\n",
    "        target_size=IMAGE_SIZE,\n",
    "        batch_size=BATCH_SIZE,\n",
    "        class_mode=\"binary\",\n",
    "        shuffle=True,\n",
    "        seed=SEED,\n",
    "    )\n",
    "    test_images = datagen.flow_from_dataframe(\n",
    "        dataframe=test_df,\n",
    "        x_col=\"file_name\",\n",
    "        y_col=\"binary_label\",\n",
    "        target_size=IMAGE_SIZE,\n",
    "        batch_size=BATCH_SIZE,\n",
    "        class_mode=\"binary\",\n",
    "    )\n",
    "\n",
    "    mobilenet_v2 = tf.keras.applications.MobileNetV2(\n",
    "        weights=\"imagenet\",\n",
    "        include_top=False,\n",
    "        input_shape=IMAGE_SHAPE,\n",
    "    )\n",
    "    mobilenet_v2.trainable = False\n",
    "\n",
    "    model = tf.keras.Sequential([\n",
    "        mobilenet_v2,\n",
    "        tf.keras.layers.GlobalAveragePooling2D(),\n",
    "        tf.keras.layers.Dense(1, activation=\"sigmoid\"),\n",
    "    ], name=f\"{MODEL_NAME}_{VERSION_BASE}.{VERSION_INDEX}\")\n",
    "\n",
    "    model.compile(\n",
    "        optimizer=optimizers[optimizer_name](learning_rate),\n",
    "        loss=focal_loss(alpha=0.25, gamma=1.0),\n",
    "        metrics=[\"accuracy\", Precision(name=\"precision\"), Recall(name=\"recall\"), AUC(name=\"auc\")],\n",
    "    )\n",
    "\n",
    "    start_time = time.time()\n",
    "    history = model.fit(\n",
    "        train_images,\n",
    "        epochs=EPOCHS,\n",
    "        validation_data=validation_images,\n",
    "        callbacks=[\n",
    "            TensorBoard(log_dir=f\"./logs/{MODEL_NAME}/{VERSION_BASE}/{VERSION_BASE}.{VERSION_INDEX}\", ),\n",
    "        ]\n",
    "    )\n",
    "    training_time = time.time() - start_time\n",
    "\n",
    "    results = model.evaluate(test_images)\n",
    "\n",
    "    history_df = pd.DataFrame(history.history)\n",
    "    os.makedirs(f\"./logs/{MODEL_NAME}/{VERSION_BASE}/{VERSION_BASE}.{VERSION_INDEX}\", exist_ok=True)\n",
    "    history_df.to_csv(\n",
    "        f\"./logs/{MODEL_NAME}/{VERSION_BASE}/{VERSION_BASE}.{VERSION_INDEX}/history_{VERSION_BASE}.{VERSION_INDEX}.csv\",\n",
    "        index=False)\n",
    "\n",
    "    metric_names = history.model.metrics_names\n",
    "    evaluation_results = {(\"test_\" + name): value for name, value in zip(metric_names, results)}\n",
    "    evaluation_results[\"optimizer\"] = optimizer_name\n",
    "    evaluation_results[\"learning_rate\"] = learning_rate\n",
    "    evaluation_results[\"training_time\"] = training_time\n",
    "\n",
    "    results_df = pd.DataFrame([evaluation_results])\n",
    "    results_df.to_csv(\n",
    "        f\"./logs/{MODEL_NAME}/{VERSION_BASE}/{VERSION_BASE}.{VERSION_INDEX}/results_{VERSION_BASE}.{VERSION_INDEX}.csv\",\n",
    "        index=False)\n",
    "\n",
    "    print(f\"\\n📉 Loss: {results[0]:.4f}\")\n",
    "    print(f\"🎯 Accuracy: {results[1]:.4%}\")\n",
    "    print(f\"✅ Precision: {results[2]:.4%}\")\n",
    "    print(f\"🔄 Recall: {results[3]:.4%}\")\n",
    "    print(f\"📊 AUC: {results[4]:.4f}\")\n",
    "    print(f\"⏳ Tiempo de entrenamiento: {training_time:.2f} segundos\")\n",
    "\n",
    "    return results_df\n",
    "\n",
    "\n",
    "count = 0\n",
    "all_results = []\n",
    "for optimizer_name in optimizers.keys():\n",
    "    for learning_rate in learning_rates:\n",
    "        results_df = train_and_evaluate(optimizer_name, learning_rate, count)\n",
    "        all_results.append(results_df)\n",
    "        count += 1\n",
    "\n",
    "final_results = pd.concat(all_results, ignore_index=True)\n",
    "final_results.to_csv(f\"./logs/{MODEL_NAME}/{VERSION_BASE}/optimizer_tuning_results.csv\", index=False)\n",
    "\n",
    "print(\"\\n✅ ¡Experimento con optimización de optimizadores y learning rate completado!\")"
   ],
   "id": "7d11e162eeed628f",
   "outputs": [
    {
     "name": "stdout",
     "output_type": "stream",
     "text": [
      "\n",
      "🔹 Entrenando con Adam y learning rate 0.01 🔹\n",
      "Found 17054 validated image filenames belonging to 2 classes.\n",
      "Found 4286 validated image filenames belonging to 2 classes.\n",
      "Found 4286 validated image filenames belonging to 2 classes.\n"
     ]
    },
    {
     "name": "stderr",
     "output_type": "stream",
     "text": [
      "2025-02-23 21:26:07.502482: I metal_plugin/src/device/metal_device.cc:1154] Metal device set to: Apple M3\n",
      "2025-02-23 21:26:07.502512: I metal_plugin/src/device/metal_device.cc:296] systemMemory: 16.00 GB\n",
      "2025-02-23 21:26:07.502516: I metal_plugin/src/device/metal_device.cc:313] maxCacheSize: 5.33 GB\n",
      "2025-02-23 21:26:07.502744: I tensorflow/core/common_runtime/pluggable_device/pluggable_device_factory.cc:303] Could not identify NUMA node of platform GPU ID 0, defaulting to 0. Your kernel may not have been built with NUMA support.\n",
      "2025-02-23 21:26:07.502760: I tensorflow/core/common_runtime/pluggable_device/pluggable_device_factory.cc:269] Created TensorFlow device (/job:localhost/replica:0/task:0/device:GPU:0 with 0 MB memory) -> physical PluggableDevice (device: 0, name: METAL, pci bus id: <undefined>)\n",
      "WARNING:absl:At this time, the v2.11+ optimizer `tf.keras.optimizers.Adam` runs slowly on M1/M2 Macs, please use the legacy Keras optimizer instead, located at `tf.keras.optimizers.legacy.Adam`.\n",
      "WARNING:absl:There is a known slowdown when using v2.11+ Keras optimizers on M1/M2 Macs. Falling back to the legacy Keras optimizer, i.e., `tf.keras.optimizers.legacy.Adam`.\n"
     ]
    },
    {
     "name": "stdout",
     "output_type": "stream",
     "text": [
      "Epoch 1/10\n"
     ]
    },
    {
     "name": "stderr",
     "output_type": "stream",
     "text": [
      "2025-02-23 21:26:09.028126: I tensorflow/core/grappler/optimizers/custom_graph_optimizer_registry.cc:114] Plugin optimizer for device_type GPU is enabled.\n"
     ]
    },
    {
     "name": "stdout",
     "output_type": "stream",
     "text": [
      "533/533 [==============================] - ETA: 0s - loss: 0.0395 - accuracy: 0.8941 - precision: 0.9298 - recall: 0.9339 - auc: 0.9444"
     ]
    },
    {
     "name": "stderr",
     "output_type": "stream",
     "text": [
      "2025-02-23 21:26:52.405159: I tensorflow/core/grappler/optimizers/custom_graph_optimizer_registry.cc:114] Plugin optimizer for device_type GPU is enabled.\n"
     ]
    },
    {
     "name": "stdout",
     "output_type": "stream",
     "text": [
      "533/533 [==============================] - 55s 101ms/step - loss: 0.0395 - accuracy: 0.8941 - precision: 0.9298 - recall: 0.9339 - auc: 0.9444 - val_loss: 0.0418 - val_accuracy: 0.8843 - val_precision: 0.9752 - val_recall: 0.8466 - val_auc: 0.9763\n",
      "Epoch 2/10\n",
      "533/533 [==============================] - 52s 98ms/step - loss: 0.0412 - accuracy: 0.9087 - precision: 0.9400 - recall: 0.9424 - auc: 0.9566 - val_loss: 0.0311 - val_accuracy: 0.9347 - val_precision: 0.9637 - val_recall: 0.9365 - val_auc: 0.9801\n",
      "Epoch 3/10\n",
      "533/533 [==============================] - 53s 99ms/step - loss: 0.0363 - accuracy: 0.9161 - precision: 0.9455 - recall: 0.9464 - auc: 0.9643 - val_loss: 0.0303 - val_accuracy: 0.9300 - val_precision: 0.9558 - val_recall: 0.9376 - val_auc: 0.9780\n",
      "Epoch 4/10\n",
      "533/533 [==============================] - 52s 98ms/step - loss: 0.0361 - accuracy: 0.9192 - precision: 0.9473 - recall: 0.9486 - auc: 0.9665 - val_loss: 0.0356 - val_accuracy: 0.9246 - val_precision: 0.9361 - val_recall: 0.9510 - val_auc: 0.9738\n",
      "Epoch 5/10\n",
      "533/533 [==============================] - 52s 98ms/step - loss: 0.0347 - accuracy: 0.9235 - precision: 0.9507 - recall: 0.9507 - auc: 0.9687 - val_loss: 0.0441 - val_accuracy: 0.9186 - val_precision: 0.9065 - val_recall: 0.9778 - val_auc: 0.9720\n",
      "Epoch 6/10\n",
      "533/533 [==============================] - 52s 98ms/step - loss: 0.0386 - accuracy: 0.9192 - precision: 0.9471 - recall: 0.9488 - auc: 0.9672 - val_loss: 0.0408 - val_accuracy: 0.9349 - val_precision: 0.9594 - val_recall: 0.9415 - val_auc: 0.9720\n",
      "Epoch 7/10\n",
      "533/533 [==============================] - 52s 98ms/step - loss: 0.0357 - accuracy: 0.9245 - precision: 0.9507 - recall: 0.9520 - auc: 0.9693 - val_loss: 0.0457 - val_accuracy: 0.9218 - val_precision: 0.9699 - val_recall: 0.9101 - val_auc: 0.9696\n",
      "Epoch 8/10\n",
      "533/533 [==============================] - 52s 98ms/step - loss: 0.0386 - accuracy: 0.9219 - precision: 0.9488 - recall: 0.9505 - auc: 0.9684 - val_loss: 0.0733 - val_accuracy: 0.8990 - val_precision: 0.9808 - val_recall: 0.8642 - val_auc: 0.9726\n",
      "Epoch 9/10\n",
      "533/533 [==============================] - 52s 98ms/step - loss: 0.0352 - accuracy: 0.9269 - precision: 0.9529 - recall: 0.9527 - auc: 0.9725 - val_loss: 0.0407 - val_accuracy: 0.9312 - val_precision: 0.9497 - val_recall: 0.9461 - val_auc: 0.9719\n",
      "Epoch 10/10\n",
      "533/533 [==============================] - 53s 99ms/step - loss: 0.0386 - accuracy: 0.9245 - precision: 0.9508 - recall: 0.9518 - auc: 0.9686 - val_loss: 0.0490 - val_accuracy: 0.9256 - val_precision: 0.9171 - val_recall: 0.9757 - val_auc: 0.9658\n",
      "134/134 [==============================] - 11s 79ms/step - loss: 0.0499 - accuracy: 0.9162 - precision: 0.9017 - recall: 0.9803 - auc: 0.9727\n",
      "\n",
      "📉 Loss: 0.0499\n",
      "🎯 Accuracy: 91.6239%\n",
      "✅ Precision: 90.1719%\n",
      "🔄 Recall: 98.0254%\n",
      "📊 AUC: 0.9727\n",
      "⏳ Tiempo de entrenamiento: 526.45 segundos\n",
      "\n",
      "🔹 Entrenando con Adam y learning rate 0.001 🔹\n",
      "Found 17054 validated image filenames belonging to 2 classes.\n",
      "Found 4286 validated image filenames belonging to 2 classes.\n",
      "Found 4286 validated image filenames belonging to 2 classes.\n"
     ]
    },
    {
     "name": "stderr",
     "output_type": "stream",
     "text": [
      "WARNING:absl:At this time, the v2.11+ optimizer `tf.keras.optimizers.Adam` runs slowly on M1/M2 Macs, please use the legacy Keras optimizer instead, located at `tf.keras.optimizers.legacy.Adam`.\n",
      "WARNING:absl:There is a known slowdown when using v2.11+ Keras optimizers on M1/M2 Macs. Falling back to the legacy Keras optimizer, i.e., `tf.keras.optimizers.legacy.Adam`.\n"
     ]
    },
    {
     "name": "stdout",
     "output_type": "stream",
     "text": [
      "Epoch 1/10\n"
     ]
    },
    {
     "name": "stderr",
     "output_type": "stream",
     "text": [
      "2025-02-23 21:35:06.857800: I tensorflow/core/grappler/optimizers/custom_graph_optimizer_registry.cc:114] Plugin optimizer for device_type GPU is enabled.\n"
     ]
    },
    {
     "name": "stdout",
     "output_type": "stream",
     "text": [
      "533/533 [==============================] - ETA: 0s - loss: 0.0330 - accuracy: 0.8861 - precision: 0.9167 - recall: 0.9384 - auc: 0.9390"
     ]
    },
    {
     "name": "stderr",
     "output_type": "stream",
     "text": [
      "2025-02-23 21:35:49.824938: I tensorflow/core/grappler/optimizers/custom_graph_optimizer_registry.cc:114] Plugin optimizer for device_type GPU is enabled.\n"
     ]
    },
    {
     "name": "stdout",
     "output_type": "stream",
     "text": [
      "533/533 [==============================] - 54s 100ms/step - loss: 0.0330 - accuracy: 0.8861 - precision: 0.9167 - recall: 0.9384 - auc: 0.9390 - val_loss: 0.0245 - val_accuracy: 0.9302 - val_precision: 0.9584 - val_recall: 0.9351 - val_auc: 0.9752\n",
      "Epoch 2/10\n",
      "533/533 [==============================] - 52s 98ms/step - loss: 0.0240 - accuracy: 0.9220 - precision: 0.9469 - recall: 0.9528 - auc: 0.9684 - val_loss: 0.0221 - val_accuracy: 0.9368 - val_precision: 0.9648 - val_recall: 0.9386 - val_auc: 0.9799\n",
      "Epoch 3/10\n",
      "533/533 [==============================] - 53s 100ms/step - loss: 0.0222 - accuracy: 0.9279 - precision: 0.9499 - recall: 0.9574 - auc: 0.9732 - val_loss: 0.0218 - val_accuracy: 0.9379 - val_precision: 0.9401 - val_recall: 0.9679 - val_auc: 0.9810\n",
      "Epoch 4/10\n",
      "533/533 [==============================] - 53s 99ms/step - loss: 0.0210 - accuracy: 0.9325 - precision: 0.9535 - recall: 0.9598 - auc: 0.9760 - val_loss: 0.0197 - val_accuracy: 0.9426 - val_precision: 0.9576 - val_recall: 0.9556 - val_auc: 0.9838\n",
      "Epoch 5/10\n",
      "533/533 [==============================] - 53s 99ms/step - loss: 0.0202 - accuracy: 0.9344 - precision: 0.9543 - recall: 0.9614 - auc: 0.9780 - val_loss: 0.0197 - val_accuracy: 0.9419 - val_precision: 0.9648 - val_recall: 0.9468 - val_auc: 0.9843\n",
      "Epoch 6/10\n",
      "533/533 [==============================] - 53s 99ms/step - loss: 0.0196 - accuracy: 0.9368 - precision: 0.9563 - recall: 0.9625 - auc: 0.9792 - val_loss: 0.0201 - val_accuracy: 0.9372 - val_precision: 0.9625 - val_recall: 0.9418 - val_auc: 0.9836\n",
      "Epoch 7/10\n",
      "533/533 [==============================] - 52s 98ms/step - loss: 0.0189 - accuracy: 0.9376 - precision: 0.9571 - recall: 0.9626 - auc: 0.9806 - val_loss: 0.0202 - val_accuracy: 0.9417 - val_precision: 0.9527 - val_recall: 0.9594 - val_auc: 0.9827\n",
      "Epoch 8/10\n",
      "533/533 [==============================] - 52s 98ms/step - loss: 0.0187 - accuracy: 0.9394 - precision: 0.9594 - recall: 0.9625 - auc: 0.9810 - val_loss: 0.0202 - val_accuracy: 0.9433 - val_precision: 0.9451 - val_recall: 0.9707 - val_auc: 0.9838\n",
      "Epoch 9/10\n",
      "533/533 [==============================] - 53s 99ms/step - loss: 0.0185 - accuracy: 0.9407 - precision: 0.9585 - recall: 0.9653 - auc: 0.9816 - val_loss: 0.0229 - val_accuracy: 0.9323 - val_precision: 0.9743 - val_recall: 0.9221 - val_auc: 0.9808\n",
      "Epoch 10/10\n",
      "533/533 [==============================] - 53s 99ms/step - loss: 0.0185 - accuracy: 0.9389 - precision: 0.9586 - recall: 0.9628 - auc: 0.9814 - val_loss: 0.0201 - val_accuracy: 0.9424 - val_precision: 0.9550 - val_recall: 0.9580 - val_auc: 0.9829\n",
      "134/134 [==============================] - 11s 79ms/step - loss: 0.0184 - accuracy: 0.9442 - precision: 0.9510 - recall: 0.9654 - auc: 0.9857\n",
      "\n",
      "📉 Loss: 0.0184\n",
      "🎯 Accuracy: 94.4237%\n",
      "✅ Precision: 95.1025%\n",
      "🔄 Recall: 96.5444%\n",
      "📊 AUC: 0.9857\n",
      "⏳ Tiempo de entrenamiento: 527.97 segundos\n",
      "\n",
      "🔹 Entrenando con Adam y learning rate 0.0005 🔹\n",
      "Found 17054 validated image filenames belonging to 2 classes.\n",
      "Found 4286 validated image filenames belonging to 2 classes.\n",
      "Found 4286 validated image filenames belonging to 2 classes.\n"
     ]
    },
    {
     "name": "stderr",
     "output_type": "stream",
     "text": [
      "WARNING:absl:At this time, the v2.11+ optimizer `tf.keras.optimizers.Adam` runs slowly on M1/M2 Macs, please use the legacy Keras optimizer instead, located at `tf.keras.optimizers.legacy.Adam`.\n",
      "WARNING:absl:There is a known slowdown when using v2.11+ Keras optimizers on M1/M2 Macs. Falling back to the legacy Keras optimizer, i.e., `tf.keras.optimizers.legacy.Adam`.\n"
     ]
    },
    {
     "name": "stdout",
     "output_type": "stream",
     "text": [
      "Epoch 1/10\n"
     ]
    },
    {
     "name": "stderr",
     "output_type": "stream",
     "text": [
      "2025-02-23 21:44:06.424147: I tensorflow/core/grappler/optimizers/custom_graph_optimizer_registry.cc:114] Plugin optimizer for device_type GPU is enabled.\n"
     ]
    },
    {
     "name": "stdout",
     "output_type": "stream",
     "text": [
      "533/533 [==============================] - ETA: 0s - loss: 0.0366 - accuracy: 0.8695 - precision: 0.9007 - recall: 0.9348 - auc: 0.9224"
     ]
    },
    {
     "name": "stderr",
     "output_type": "stream",
     "text": [
      "2025-02-23 21:44:49.574362: I tensorflow/core/grappler/optimizers/custom_graph_optimizer_registry.cc:114] Plugin optimizer for device_type GPU is enabled.\n"
     ]
    },
    {
     "name": "stdout",
     "output_type": "stream",
     "text": [
      "533/533 [==============================] - 55s 101ms/step - loss: 0.0366 - accuracy: 0.8695 - precision: 0.9007 - recall: 0.9348 - auc: 0.9224 - val_loss: 0.0268 - val_accuracy: 0.9169 - val_precision: 0.9117 - val_recall: 0.9683 - val_auc: 0.9727\n",
      "Epoch 2/10\n",
      "533/533 [==============================] - 53s 99ms/step - loss: 0.0259 - accuracy: 0.9153 - precision: 0.9387 - recall: 0.9530 - auc: 0.9631 - val_loss: 0.0227 - val_accuracy: 0.9309 - val_precision: 0.9361 - val_recall: 0.9612 - val_auc: 0.9782\n",
      "Epoch 3/10\n",
      "533/533 [==============================] - 53s 99ms/step - loss: 0.0238 - accuracy: 0.9221 - precision: 0.9448 - recall: 0.9553 - auc: 0.9691 - val_loss: 0.0219 - val_accuracy: 0.9333 - val_precision: 0.9471 - val_recall: 0.9524 - val_auc: 0.9797\n",
      "Epoch 4/10\n",
      "533/533 [==============================] - 53s 98ms/step - loss: 0.0224 - accuracy: 0.9278 - precision: 0.9491 - recall: 0.9583 - auc: 0.9727 - val_loss: 0.0210 - val_accuracy: 0.9375 - val_precision: 0.9493 - val_recall: 0.9566 - val_auc: 0.9812\n",
      "Epoch 5/10\n",
      "533/533 [==============================] - 53s 100ms/step - loss: 0.0216 - accuracy: 0.9308 - precision: 0.9517 - recall: 0.9595 - auc: 0.9747 - val_loss: 0.0212 - val_accuracy: 0.9389 - val_precision: 0.9417 - val_recall: 0.9676 - val_auc: 0.9821\n",
      "Epoch 6/10\n",
      "533/533 [==============================] - 53s 99ms/step - loss: 0.0208 - accuracy: 0.9336 - precision: 0.9536 - recall: 0.9611 - auc: 0.9768 - val_loss: 0.0206 - val_accuracy: 0.9396 - val_precision: 0.9610 - val_recall: 0.9471 - val_auc: 0.9820\n",
      "Epoch 7/10\n",
      "533/533 [==============================] - 53s 99ms/step - loss: 0.0202 - accuracy: 0.9364 - precision: 0.9560 - recall: 0.9623 - auc: 0.9780 - val_loss: 0.0204 - val_accuracy: 0.9389 - val_precision: 0.9600 - val_recall: 0.9471 - val_auc: 0.9828\n",
      "Epoch 8/10\n",
      "533/533 [==============================] - 53s 100ms/step - loss: 0.0197 - accuracy: 0.9367 - precision: 0.9569 - recall: 0.9617 - auc: 0.9793 - val_loss: 0.0197 - val_accuracy: 0.9414 - val_precision: 0.9585 - val_recall: 0.9528 - val_auc: 0.9836\n",
      "Epoch 9/10\n",
      "533/533 [==============================] - 53s 99ms/step - loss: 0.0195 - accuracy: 0.9376 - precision: 0.9575 - recall: 0.9622 - auc: 0.9794 - val_loss: 0.0198 - val_accuracy: 0.9438 - val_precision: 0.9593 - val_recall: 0.9556 - val_auc: 0.9833\n",
      "Epoch 10/10\n",
      "533/533 [==============================] - 53s 99ms/step - loss: 0.0190 - accuracy: 0.9381 - precision: 0.9572 - recall: 0.9632 - auc: 0.9806 - val_loss: 0.0197 - val_accuracy: 0.9419 - val_precision: 0.9563 - val_recall: 0.9559 - val_auc: 0.9837\n",
      "134/134 [==============================] - 11s 79ms/step - loss: 0.0179 - accuracy: 0.9445 - precision: 0.9517 - recall: 0.9651 - auc: 0.9867\n",
      "\n",
      "📉 Loss: 0.0179\n",
      "🎯 Accuracy: 94.4470%\n",
      "✅ Precision: 95.1669%\n",
      "🔄 Recall: 96.5092%\n",
      "📊 AUC: 0.9867\n",
      "⏳ Tiempo de entrenamiento: 529.43 segundos\n",
      "\n",
      "🔹 Entrenando con Adam y learning rate 0.0001 🔹\n",
      "Found 17054 validated image filenames belonging to 2 classes.\n",
      "Found 4286 validated image filenames belonging to 2 classes.\n",
      "Found 4286 validated image filenames belonging to 2 classes.\n"
     ]
    },
    {
     "name": "stderr",
     "output_type": "stream",
     "text": [
      "WARNING:absl:At this time, the v2.11+ optimizer `tf.keras.optimizers.Adam` runs slowly on M1/M2 Macs, please use the legacy Keras optimizer instead, located at `tf.keras.optimizers.legacy.Adam`.\n",
      "WARNING:absl:There is a known slowdown when using v2.11+ Keras optimizers on M1/M2 Macs. Falling back to the legacy Keras optimizer, i.e., `tf.keras.optimizers.legacy.Adam`.\n"
     ]
    },
    {
     "name": "stdout",
     "output_type": "stream",
     "text": [
      "Epoch 1/10\n"
     ]
    },
    {
     "name": "stderr",
     "output_type": "stream",
     "text": [
      "2025-02-23 21:53:07.417989: I tensorflow/core/grappler/optimizers/custom_graph_optimizer_registry.cc:114] Plugin optimizer for device_type GPU is enabled.\n"
     ]
    },
    {
     "name": "stdout",
     "output_type": "stream",
     "text": [
      "533/533 [==============================] - ETA: 0s - loss: 0.0534 - accuracy: 0.8118 - precision: 0.8534 - recall: 0.9143 - auc: 0.8139"
     ]
    },
    {
     "name": "stderr",
     "output_type": "stream",
     "text": [
      "2025-02-23 21:53:50.674438: I tensorflow/core/grappler/optimizers/custom_graph_optimizer_registry.cc:114] Plugin optimizer for device_type GPU is enabled.\n"
     ]
    },
    {
     "name": "stdout",
     "output_type": "stream",
     "text": [
      "533/533 [==============================] - 55s 101ms/step - loss: 0.0534 - accuracy: 0.8118 - precision: 0.8534 - recall: 0.9143 - auc: 0.8139 - val_loss: 0.0375 - val_accuracy: 0.8866 - val_precision: 0.8997 - val_recall: 0.9327 - val_auc: 0.9427\n",
      "Epoch 2/10\n",
      "533/533 [==============================] - 53s 99ms/step - loss: 0.0347 - accuracy: 0.8784 - precision: 0.9032 - recall: 0.9444 - auc: 0.9301 - val_loss: 0.0299 - val_accuracy: 0.9069 - val_precision: 0.9160 - val_recall: 0.9461 - val_auc: 0.9639\n",
      "Epoch 3/10\n",
      "533/533 [==============================] - 53s 99ms/step - loss: 0.0303 - accuracy: 0.8971 - precision: 0.9211 - recall: 0.9485 - auc: 0.9486 - val_loss: 0.0269 - val_accuracy: 0.9155 - val_precision: 0.9340 - val_recall: 0.9386 - val_auc: 0.9702\n",
      "Epoch 4/10\n",
      "533/533 [==============================] - 53s 99ms/step - loss: 0.0281 - accuracy: 0.9050 - precision: 0.9306 - recall: 0.9482 - auc: 0.9561 - val_loss: 0.0253 - val_accuracy: 0.9197 - val_precision: 0.9308 - val_recall: 0.9492 - val_auc: 0.9736\n",
      "Epoch 5/10\n",
      "533/533 [==============================] - 53s 99ms/step - loss: 0.0268 - accuracy: 0.9115 - precision: 0.9358 - recall: 0.9511 - auc: 0.9606 - val_loss: 0.0242 - val_accuracy: 0.9218 - val_precision: 0.9302 - val_recall: 0.9535 - val_auc: 0.9762\n",
      "Epoch 6/10\n",
      "533/533 [==============================] - 53s 99ms/step - loss: 0.0257 - accuracy: 0.9143 - precision: 0.9377 - recall: 0.9528 - auc: 0.9637 - val_loss: 0.0233 - val_accuracy: 0.9267 - val_precision: 0.9375 - val_recall: 0.9528 - val_auc: 0.9780\n",
      "Epoch 7/10\n",
      "533/533 [==============================] - 53s 99ms/step - loss: 0.0249 - accuracy: 0.9179 - precision: 0.9410 - recall: 0.9539 - auc: 0.9661 - val_loss: 0.0228 - val_accuracy: 0.9281 - val_precision: 0.9448 - val_recall: 0.9468 - val_auc: 0.9790\n",
      "Epoch 8/10\n",
      "533/533 [==============================] - 53s 99ms/step - loss: 0.0243 - accuracy: 0.9199 - precision: 0.9428 - recall: 0.9545 - auc: 0.9679 - val_loss: 0.0224 - val_accuracy: 0.9307 - val_precision: 0.9459 - val_recall: 0.9496 - val_auc: 0.9797\n",
      "Epoch 9/10\n",
      "533/533 [==============================] - 53s 99ms/step - loss: 0.0237 - accuracy: 0.9231 - precision: 0.9457 - recall: 0.9557 - auc: 0.9695 - val_loss: 0.0219 - val_accuracy: 0.9328 - val_precision: 0.9476 - val_recall: 0.9510 - val_auc: 0.9804\n",
      "Epoch 10/10\n",
      "533/533 [==============================] - 53s 99ms/step - loss: 0.0233 - accuracy: 0.9238 - precision: 0.9464 - recall: 0.9559 - auc: 0.9707 - val_loss: 0.0215 - val_accuracy: 0.9347 - val_precision: 0.9469 - val_recall: 0.9549 - val_auc: 0.9810\n",
      "134/134 [==============================] - 11s 80ms/step - loss: 0.0204 - accuracy: 0.9337 - precision: 0.9427 - recall: 0.9580 - auc: 0.9837\n",
      "\n",
      "📉 Loss: 0.0204\n",
      "🎯 Accuracy: 93.3738%\n",
      "✅ Precision: 94.2748%\n",
      "🔄 Recall: 95.8039%\n",
      "📊 AUC: 0.9837\n",
      "⏳ Tiempo de entrenamiento: 529.51 segundos\n",
      "\n",
      "🔹 Entrenando con SGD y learning rate 0.01 🔹\n",
      "Found 17054 validated image filenames belonging to 2 classes.\n",
      "Found 4286 validated image filenames belonging to 2 classes.\n",
      "Found 4286 validated image filenames belonging to 2 classes.\n"
     ]
    },
    {
     "name": "stderr",
     "output_type": "stream",
     "text": [
      "WARNING:absl:At this time, the v2.11+ optimizer `tf.keras.optimizers.SGD` runs slowly on M1/M2 Macs, please use the legacy Keras optimizer instead, located at `tf.keras.optimizers.legacy.SGD`.\n",
      "WARNING:absl:There is a known slowdown when using v2.11+ Keras optimizers on M1/M2 Macs. Falling back to the legacy Keras optimizer, i.e., `tf.keras.optimizers.legacy.SGD`.\n"
     ]
    },
    {
     "name": "stdout",
     "output_type": "stream",
     "text": [
      "Epoch 1/10\n"
     ]
    },
    {
     "name": "stderr",
     "output_type": "stream",
     "text": [
      "2025-02-23 22:02:08.230189: I tensorflow/core/grappler/optimizers/custom_graph_optimizer_registry.cc:114] Plugin optimizer for device_type GPU is enabled.\n"
     ]
    },
    {
     "name": "stdout",
     "output_type": "stream",
     "text": [
      "533/533 [==============================] - ETA: 0s - loss: 0.0313 - accuracy: 0.8949 - precision: 0.9246 - recall: 0.9412 - auc: 0.9456"
     ]
    },
    {
     "name": "stderr",
     "output_type": "stream",
     "text": [
      "2025-02-23 22:02:51.485034: I tensorflow/core/grappler/optimizers/custom_graph_optimizer_registry.cc:114] Plugin optimizer for device_type GPU is enabled.\n"
     ]
    },
    {
     "name": "stdout",
     "output_type": "stream",
     "text": [
      "533/533 [==============================] - 55s 100ms/step - loss: 0.0313 - accuracy: 0.8949 - precision: 0.9246 - recall: 0.9412 - auc: 0.9456 - val_loss: 0.0240 - val_accuracy: 0.9253 - val_precision: 0.9311 - val_recall: 0.9580 - val_auc: 0.9766\n",
      "Epoch 2/10\n",
      "533/533 [==============================] - 53s 99ms/step - loss: 0.0245 - accuracy: 0.9205 - precision: 0.9449 - recall: 0.9530 - auc: 0.9670 - val_loss: 0.0235 - val_accuracy: 0.9319 - val_precision: 0.9429 - val_recall: 0.9549 - val_auc: 0.9773\n",
      "Epoch 3/10\n",
      "533/533 [==============================] - 53s 99ms/step - loss: 0.0232 - accuracy: 0.9237 - precision: 0.9485 - recall: 0.9534 - auc: 0.9707 - val_loss: 0.0213 - val_accuracy: 0.9396 - val_precision: 0.9519 - val_recall: 0.9570 - val_auc: 0.9802\n",
      "Epoch 4/10\n",
      "533/533 [==============================] - 53s 99ms/step - loss: 0.0216 - accuracy: 0.9290 - precision: 0.9514 - recall: 0.9573 - auc: 0.9745 - val_loss: 0.0208 - val_accuracy: 0.9403 - val_precision: 0.9523 - val_recall: 0.9577 - val_auc: 0.9813\n",
      "Epoch 5/10\n",
      "533/533 [==============================] - 53s 99ms/step - loss: 0.0209 - accuracy: 0.9326 - precision: 0.9540 - recall: 0.9592 - auc: 0.9762 - val_loss: 0.0204 - val_accuracy: 0.9393 - val_precision: 0.9660 - val_recall: 0.9415 - val_auc: 0.9828\n",
      "Epoch 6/10\n",
      "533/533 [==============================] - 53s 99ms/step - loss: 0.0206 - accuracy: 0.9333 - precision: 0.9541 - recall: 0.9601 - auc: 0.9770 - val_loss: 0.0204 - val_accuracy: 0.9428 - val_precision: 0.9589 - val_recall: 0.9545 - val_auc: 0.9819\n",
      "Epoch 7/10\n",
      "533/533 [==============================] - 53s 99ms/step - loss: 0.0203 - accuracy: 0.9332 - precision: 0.9548 - recall: 0.9592 - auc: 0.9776 - val_loss: 0.0209 - val_accuracy: 0.9412 - val_precision: 0.9428 - val_recall: 0.9700 - val_auc: 0.9829\n",
      "Epoch 8/10\n",
      "533/533 [==============================] - 53s 99ms/step - loss: 0.0196 - accuracy: 0.9350 - precision: 0.9557 - recall: 0.9606 - auc: 0.9791 - val_loss: 0.0207 - val_accuracy: 0.9398 - val_precision: 0.9617 - val_recall: 0.9468 - val_auc: 0.9811\n",
      "Epoch 9/10\n",
      "533/533 [==============================] - 53s 99ms/step - loss: 0.0197 - accuracy: 0.9361 - precision: 0.9565 - recall: 0.9613 - auc: 0.9791 - val_loss: 0.0203 - val_accuracy: 0.9428 - val_precision: 0.9472 - val_recall: 0.9676 - val_auc: 0.9832\n",
      "Epoch 10/10\n",
      "533/533 [==============================] - 53s 99ms/step - loss: 0.0196 - accuracy: 0.9370 - precision: 0.9574 - recall: 0.9615 - auc: 0.9791 - val_loss: 0.0202 - val_accuracy: 0.9384 - val_precision: 0.9656 - val_recall: 0.9404 - val_auc: 0.9829\n",
      "134/134 [==============================] - 11s 80ms/step - loss: 0.0183 - accuracy: 0.9403 - precision: 0.9610 - recall: 0.9482 - auc: 0.9857\n",
      "\n",
      "📉 Loss: 0.0183\n",
      "🎯 Accuracy: 94.0271%\n",
      "✅ Precision: 96.1044%\n",
      "🔄 Recall: 94.8166%\n",
      "📊 AUC: 0.9857\n",
      "⏳ Tiempo de entrenamiento: 528.97 segundos\n",
      "\n",
      "🔹 Entrenando con SGD y learning rate 0.001 🔹\n",
      "Found 17054 validated image filenames belonging to 2 classes.\n",
      "Found 4286 validated image filenames belonging to 2 classes.\n",
      "Found 4286 validated image filenames belonging to 2 classes.\n"
     ]
    },
    {
     "name": "stderr",
     "output_type": "stream",
     "text": [
      "WARNING:absl:At this time, the v2.11+ optimizer `tf.keras.optimizers.SGD` runs slowly on M1/M2 Macs, please use the legacy Keras optimizer instead, located at `tf.keras.optimizers.legacy.SGD`.\n",
      "WARNING:absl:There is a known slowdown when using v2.11+ Keras optimizers on M1/M2 Macs. Falling back to the legacy Keras optimizer, i.e., `tf.keras.optimizers.legacy.SGD`.\n"
     ]
    },
    {
     "name": "stdout",
     "output_type": "stream",
     "text": [
      "Epoch 1/10\n"
     ]
    },
    {
     "name": "stderr",
     "output_type": "stream",
     "text": [
      "2025-02-23 22:11:08.901749: I tensorflow/core/grappler/optimizers/custom_graph_optimizer_registry.cc:114] Plugin optimizer for device_type GPU is enabled.\n"
     ]
    },
    {
     "name": "stdout",
     "output_type": "stream",
     "text": [
      "533/533 [==============================] - ETA: 0s - loss: 0.0458 - accuracy: 0.8409 - precision: 0.8710 - recall: 0.9329 - auc: 0.8678"
     ]
    },
    {
     "name": "stderr",
     "output_type": "stream",
     "text": [
      "2025-02-23 22:11:52.012971: I tensorflow/core/grappler/optimizers/custom_graph_optimizer_registry.cc:114] Plugin optimizer for device_type GPU is enabled.\n"
     ]
    },
    {
     "name": "stdout",
     "output_type": "stream",
     "text": [
      "533/533 [==============================] - 54s 100ms/step - loss: 0.0458 - accuracy: 0.8409 - precision: 0.8710 - recall: 0.9329 - auc: 0.8678 - val_loss: 0.0374 - val_accuracy: 0.8990 - val_precision: 0.9125 - val_recall: 0.9372 - val_auc: 0.9453\n",
      "Epoch 2/10\n",
      "533/533 [==============================] - 53s 99ms/step - loss: 0.0321 - accuracy: 0.8916 - precision: 0.9173 - recall: 0.9454 - auc: 0.9415 - val_loss: 0.0322 - val_accuracy: 0.9076 - val_precision: 0.9314 - val_recall: 0.9288 - val_auc: 0.9570\n",
      "Epoch 3/10\n",
      "533/533 [==============================] - 53s 99ms/step - loss: 0.0293 - accuracy: 0.9017 - precision: 0.9267 - recall: 0.9482 - auc: 0.9519 - val_loss: 0.0293 - val_accuracy: 0.9160 - val_precision: 0.9466 - val_recall: 0.9252 - val_auc: 0.9647\n",
      "Epoch 4/10\n",
      "533/533 [==============================] - 53s 99ms/step - loss: 0.0278 - accuracy: 0.9073 - precision: 0.9319 - recall: 0.9499 - auc: 0.9573 - val_loss: 0.0284 - val_accuracy: 0.9179 - val_precision: 0.9251 - val_recall: 0.9531 - val_auc: 0.9689\n",
      "Epoch 5/10\n",
      "533/533 [==============================] - 53s 99ms/step - loss: 0.0267 - accuracy: 0.9122 - precision: 0.9366 - recall: 0.9511 - auc: 0.9608 - val_loss: 0.0270 - val_accuracy: 0.9204 - val_precision: 0.9277 - val_recall: 0.9542 - val_auc: 0.9713\n",
      "Epoch 6/10\n",
      "533/533 [==============================] - 53s 99ms/step - loss: 0.0259 - accuracy: 0.9137 - precision: 0.9370 - recall: 0.9528 - auc: 0.9633 - val_loss: 0.0264 - val_accuracy: 0.9235 - val_precision: 0.9360 - val_recall: 0.9492 - val_auc: 0.9716\n",
      "Epoch 7/10\n",
      "533/533 [==============================] - 53s 99ms/step - loss: 0.0252 - accuracy: 0.9160 - precision: 0.9399 - recall: 0.9526 - auc: 0.9653 - val_loss: 0.0255 - val_accuracy: 0.9274 - val_precision: 0.9434 - val_recall: 0.9471 - val_auc: 0.9734\n",
      "Epoch 8/10\n",
      "533/533 [==============================] - 53s 99ms/step - loss: 0.0247 - accuracy: 0.9197 - precision: 0.9422 - recall: 0.9550 - auc: 0.9668 - val_loss: 0.0253 - val_accuracy: 0.9277 - val_precision: 0.9398 - val_recall: 0.9517 - val_auc: 0.9744\n",
      "Epoch 9/10\n",
      "533/533 [==============================] - 53s 99ms/step - loss: 0.0242 - accuracy: 0.9215 - precision: 0.9435 - recall: 0.9561 - auc: 0.9681 - val_loss: 0.0245 - val_accuracy: 0.9281 - val_precision: 0.9534 - val_recall: 0.9372 - val_auc: 0.9754\n",
      "Epoch 10/10\n",
      "533/533 [==============================] - 53s 99ms/step - loss: 0.0239 - accuracy: 0.9222 - precision: 0.9447 - recall: 0.9556 - auc: 0.9690 - val_loss: 0.0239 - val_accuracy: 0.9323 - val_precision: 0.9482 - val_recall: 0.9496 - val_auc: 0.9770\n",
      "134/134 [==============================] - 11s 79ms/step - loss: 0.0224 - accuracy: 0.9328 - precision: 0.9439 - recall: 0.9552 - auc: 0.9808\n",
      "\n",
      "📉 Loss: 0.0224\n",
      "🎯 Accuracy: 93.2804%\n",
      "✅ Precision: 94.3902%\n",
      "🔄 Recall: 95.5219%\n",
      "📊 AUC: 0.9808\n",
      "⏳ Tiempo de entrenamiento: 529.01 segundos\n",
      "\n",
      "🔹 Entrenando con SGD y learning rate 0.0005 🔹\n",
      "Found 17054 validated image filenames belonging to 2 classes.\n",
      "Found 4286 validated image filenames belonging to 2 classes.\n",
      "Found 4286 validated image filenames belonging to 2 classes.\n"
     ]
    },
    {
     "name": "stderr",
     "output_type": "stream",
     "text": [
      "WARNING:absl:At this time, the v2.11+ optimizer `tf.keras.optimizers.SGD` runs slowly on M1/M2 Macs, please use the legacy Keras optimizer instead, located at `tf.keras.optimizers.legacy.SGD`.\n",
      "WARNING:absl:There is a known slowdown when using v2.11+ Keras optimizers on M1/M2 Macs. Falling back to the legacy Keras optimizer, i.e., `tf.keras.optimizers.legacy.SGD`.\n"
     ]
    },
    {
     "name": "stdout",
     "output_type": "stream",
     "text": [
      "Epoch 1/10\n"
     ]
    },
    {
     "name": "stderr",
     "output_type": "stream",
     "text": [
      "2025-02-23 22:20:09.483023: I tensorflow/core/grappler/optimizers/custom_graph_optimizer_registry.cc:114] Plugin optimizer for device_type GPU is enabled.\n"
     ]
    },
    {
     "name": "stdout",
     "output_type": "stream",
     "text": [
      "533/533 [==============================] - ETA: 0s - loss: 0.0471 - accuracy: 0.8375 - precision: 0.8618 - recall: 0.9413 - auc: 0.8530"
     ]
    },
    {
     "name": "stderr",
     "output_type": "stream",
     "text": [
      "2025-02-23 22:20:52.762202: I tensorflow/core/grappler/optimizers/custom_graph_optimizer_registry.cc:114] Plugin optimizer for device_type GPU is enabled.\n"
     ]
    },
    {
     "name": "stdout",
     "output_type": "stream",
     "text": [
      "533/533 [==============================] - 55s 101ms/step - loss: 0.0471 - accuracy: 0.8375 - precision: 0.8618 - recall: 0.9413 - auc: 0.8530 - val_loss: 0.0414 - val_accuracy: 0.8906 - val_precision: 0.8986 - val_recall: 0.9408 - val_auc: 0.9379\n",
      "Epoch 2/10\n",
      "533/533 [==============================] - 53s 99ms/step - loss: 0.0358 - accuracy: 0.8763 - precision: 0.9001 - recall: 0.9454 - auc: 0.9240 - val_loss: 0.0345 - val_accuracy: 0.9032 - val_precision: 0.9288 - val_recall: 0.9245 - val_auc: 0.9555\n",
      "Epoch 3/10\n",
      "533/533 [==============================] - 53s 99ms/step - loss: 0.0325 - accuracy: 0.8872 - precision: 0.9118 - recall: 0.9459 - auc: 0.9390 - val_loss: 0.0318 - val_accuracy: 0.9099 - val_precision: 0.9316 - val_recall: 0.9323 - val_auc: 0.9607\n",
      "Epoch 4/10\n",
      "533/533 [==============================] - 53s 99ms/step - loss: 0.0307 - accuracy: 0.8953 - precision: 0.9199 - recall: 0.9475 - auc: 0.9463 - val_loss: 0.0302 - val_accuracy: 0.9137 - val_precision: 0.9296 - val_recall: 0.9408 - val_auc: 0.9648\n",
      "Epoch 5/10\n",
      "533/533 [==============================] - 53s 99ms/step - loss: 0.0295 - accuracy: 0.8997 - precision: 0.9244 - recall: 0.9483 - auc: 0.9509 - val_loss: 0.0291 - val_accuracy: 0.9162 - val_precision: 0.9302 - val_recall: 0.9443 - val_auc: 0.9668\n",
      "Epoch 6/10\n",
      "533/533 [==============================] - 53s 99ms/step - loss: 0.0286 - accuracy: 0.9035 - precision: 0.9285 - recall: 0.9485 - auc: 0.9543 - val_loss: 0.0278 - val_accuracy: 0.9195 - val_precision: 0.9403 - val_recall: 0.9379 - val_auc: 0.9693\n",
      "Epoch 7/10\n",
      "533/533 [==============================] - 53s 99ms/step - loss: 0.0279 - accuracy: 0.9047 - precision: 0.9300 - recall: 0.9484 - auc: 0.9566 - val_loss: 0.0273 - val_accuracy: 0.9218 - val_precision: 0.9368 - val_recall: 0.9457 - val_auc: 0.9714\n",
      "Epoch 8/10\n",
      "533/533 [==============================] - 53s 99ms/step - loss: 0.0272 - accuracy: 0.9078 - precision: 0.9326 - recall: 0.9497 - auc: 0.9588 - val_loss: 0.0267 - val_accuracy: 0.9246 - val_precision: 0.9432 - val_recall: 0.9429 - val_auc: 0.9714\n",
      "Epoch 9/10\n",
      "533/533 [==============================] - 53s 99ms/step - loss: 0.0267 - accuracy: 0.9102 - precision: 0.9347 - recall: 0.9506 - auc: 0.9604 - val_loss: 0.0261 - val_accuracy: 0.9263 - val_precision: 0.9403 - val_recall: 0.9489 - val_auc: 0.9729\n",
      "Epoch 10/10\n",
      "533/533 [==============================] - 53s 99ms/step - loss: 0.0263 - accuracy: 0.9118 - precision: 0.9364 - recall: 0.9508 - auc: 0.9618 - val_loss: 0.0258 - val_accuracy: 0.9267 - val_precision: 0.9437 - val_recall: 0.9457 - val_auc: 0.9736\n",
      "134/134 [==============================] - 11s 79ms/step - loss: 0.0244 - accuracy: 0.9244 - precision: 0.9395 - recall: 0.9468 - auc: 0.9785\n",
      "\n",
      "📉 Loss: 0.0244\n",
      "🎯 Accuracy: 92.4405%\n",
      "✅ Precision: 93.9468%\n",
      "🔄 Recall: 94.6756%\n",
      "📊 AUC: 0.9785\n",
      "⏳ Tiempo de entrenamiento: 529.16 segundos\n",
      "\n",
      "🔹 Entrenando con SGD y learning rate 0.0001 🔹\n",
      "Found 17054 validated image filenames belonging to 2 classes.\n",
      "Found 4286 validated image filenames belonging to 2 classes.\n",
      "Found 4286 validated image filenames belonging to 2 classes.\n"
     ]
    },
    {
     "name": "stderr",
     "output_type": "stream",
     "text": [
      "WARNING:absl:At this time, the v2.11+ optimizer `tf.keras.optimizers.SGD` runs slowly on M1/M2 Macs, please use the legacy Keras optimizer instead, located at `tf.keras.optimizers.legacy.SGD`.\n",
      "WARNING:absl:There is a known slowdown when using v2.11+ Keras optimizers on M1/M2 Macs. Falling back to the legacy Keras optimizer, i.e., `tf.keras.optimizers.legacy.SGD`.\n"
     ]
    },
    {
     "name": "stdout",
     "output_type": "stream",
     "text": [
      "Epoch 1/10\n"
     ]
    },
    {
     "name": "stderr",
     "output_type": "stream",
     "text": [
      "2025-02-23 22:29:09.814410: I tensorflow/core/grappler/optimizers/custom_graph_optimizer_registry.cc:114] Plugin optimizer for device_type GPU is enabled.\n"
     ]
    },
    {
     "name": "stdout",
     "output_type": "stream",
     "text": [
      "533/533 [==============================] - ETA: 0s - loss: 0.0775 - accuracy: 0.7207 - precision: 0.7817 - recall: 0.8875 - auc: 0.5746"
     ]
    },
    {
     "name": "stderr",
     "output_type": "stream",
     "text": [
      "2025-02-23 22:29:52.936844: I tensorflow/core/grappler/optimizers/custom_graph_optimizer_registry.cc:114] Plugin optimizer for device_type GPU is enabled.\n"
     ]
    },
    {
     "name": "stdout",
     "output_type": "stream",
     "text": [
      "533/533 [==============================] - 55s 101ms/step - loss: 0.0775 - accuracy: 0.7207 - precision: 0.7817 - recall: 0.8875 - auc: 0.5746 - val_loss: 0.0663 - val_accuracy: 0.6666 - val_precision: 0.6811 - val_recall: 0.9330 - val_auc: 0.8114\n",
      "Epoch 2/10\n",
      "533/533 [==============================] - 53s 99ms/step - loss: 0.0552 - accuracy: 0.8011 - precision: 0.8288 - recall: 0.9371 - auc: 0.7922 - val_loss: 0.0559 - val_accuracy: 0.7063 - val_precision: 0.7085 - val_recall: 0.9446 - val_auc: 0.8777\n",
      "Epoch 3/10\n",
      "533/533 [==============================] - 53s 99ms/step - loss: 0.0476 - accuracy: 0.8315 - precision: 0.8547 - recall: 0.9430 - auc: 0.8545 - val_loss: 0.0504 - val_accuracy: 0.7233 - val_precision: 0.7220 - val_recall: 0.9461 - val_auc: 0.9053\n",
      "Epoch 4/10\n",
      "533/533 [==============================] - 53s 99ms/step - loss: 0.0436 - accuracy: 0.8474 - precision: 0.8690 - recall: 0.9458 - auc: 0.8824 - val_loss: 0.0464 - val_accuracy: 0.8815 - val_precision: 0.8837 - val_recall: 0.9453 - val_auc: 0.9220\n",
      "Epoch 5/10\n",
      "533/533 [==============================] - 53s 99ms/step - loss: 0.0410 - accuracy: 0.8556 - precision: 0.8781 - recall: 0.9449 - auc: 0.8985 - val_loss: 0.0438 - val_accuracy: 0.8882 - val_precision: 0.8906 - val_recall: 0.9475 - val_auc: 0.9324\n",
      "Epoch 6/10\n",
      "533/533 [==============================] - 53s 99ms/step - loss: 0.0391 - accuracy: 0.8613 - precision: 0.8832 - recall: 0.9462 - auc: 0.9090 - val_loss: 0.0411 - val_accuracy: 0.8903 - val_precision: 0.8986 - val_recall: 0.9404 - val_auc: 0.9386\n",
      "Epoch 7/10\n",
      "533/533 [==============================] - 53s 100ms/step - loss: 0.0377 - accuracy: 0.8675 - precision: 0.8918 - recall: 0.9436 - auc: 0.9165 - val_loss: 0.0397 - val_accuracy: 0.8955 - val_precision: 0.9015 - val_recall: 0.9453 - val_auc: 0.9439\n",
      "Epoch 8/10\n",
      "533/533 [==============================] - 53s 99ms/step - loss: 0.0365 - accuracy: 0.8721 - precision: 0.8958 - recall: 0.9449 - auc: 0.9222 - val_loss: 0.0378 - val_accuracy: 0.8976 - val_precision: 0.9097 - val_recall: 0.9383 - val_auc: 0.9475\n",
      "Epoch 9/10\n",
      "533/533 [==============================] - 53s 99ms/step - loss: 0.0356 - accuracy: 0.8767 - precision: 0.9017 - recall: 0.9438 - auc: 0.9267 - val_loss: 0.0369 - val_accuracy: 0.9008 - val_precision: 0.9096 - val_recall: 0.9439 - val_auc: 0.9509\n",
      "Epoch 10/10\n",
      "533/533 [==============================] - 53s 99ms/step - loss: 0.0348 - accuracy: 0.8788 - precision: 0.9035 - recall: 0.9445 - auc: 0.9303 - val_loss: 0.0359 - val_accuracy: 0.9032 - val_precision: 0.9130 - val_recall: 0.9436 - val_auc: 0.9532\n",
      "134/134 [==============================] - 11s 80ms/step - loss: 0.0357 - accuracy: 0.9022 - precision: 0.9115 - recall: 0.9439 - auc: 0.9535\n",
      "\n",
      "📉 Loss: 0.0357\n",
      "🎯 Accuracy: 90.2240%\n",
      "✅ Precision: 91.1474%\n",
      "🔄 Recall: 94.3935%\n",
      "📊 AUC: 0.9535\n",
      "⏳ Tiempo de entrenamiento: 529.65 segundos\n",
      "\n",
      "🔹 Entrenando con RMSprop y learning rate 0.01 🔹\n",
      "Found 17054 validated image filenames belonging to 2 classes.\n",
      "Found 4286 validated image filenames belonging to 2 classes.\n",
      "Found 4286 validated image filenames belonging to 2 classes.\n"
     ]
    },
    {
     "name": "stderr",
     "output_type": "stream",
     "text": [
      "WARNING:absl:At this time, the v2.11+ optimizer `tf.keras.optimizers.RMSprop` runs slowly on M1/M2 Macs, please use the legacy Keras optimizer instead, located at `tf.keras.optimizers.legacy.RMSprop`.\n",
      "WARNING:absl:There is a known slowdown when using v2.11+ Keras optimizers on M1/M2 Macs. Falling back to the legacy Keras optimizer, i.e., `tf.keras.optimizers.legacy.RMSprop`.\n"
     ]
    },
    {
     "name": "stdout",
     "output_type": "stream",
     "text": [
      "Epoch 1/10\n"
     ]
    },
    {
     "name": "stderr",
     "output_type": "stream",
     "text": [
      "2025-02-23 22:38:11.118045: I tensorflow/core/grappler/optimizers/custom_graph_optimizer_registry.cc:114] Plugin optimizer for device_type GPU is enabled.\n"
     ]
    },
    {
     "name": "stdout",
     "output_type": "stream",
     "text": [
      "533/533 [==============================] - ETA: 0s - loss: 0.0752 - accuracy: 0.8710 - precision: 0.9156 - recall: 0.9182 - auc: 0.9151"
     ]
    },
    {
     "name": "stderr",
     "output_type": "stream",
     "text": [
      "2025-02-23 22:38:54.352113: I tensorflow/core/grappler/optimizers/custom_graph_optimizer_registry.cc:114] Plugin optimizer for device_type GPU is enabled.\n"
     ]
    },
    {
     "name": "stdout",
     "output_type": "stream",
     "text": [
      "533/533 [==============================] - 54s 100ms/step - loss: 0.0752 - accuracy: 0.8710 - precision: 0.9156 - recall: 0.9182 - auc: 0.9151 - val_loss: 0.0342 - val_accuracy: 0.9328 - val_precision: 0.9411 - val_recall: 0.9584 - val_auc: 0.9756\n",
      "Epoch 2/10\n",
      "533/533 [==============================] - 52s 98ms/step - loss: 0.0591 - accuracy: 0.8979 - precision: 0.9346 - recall: 0.9337 - auc: 0.9446 - val_loss: 0.0375 - val_accuracy: 0.9291 - val_precision: 0.9651 - val_recall: 0.9263 - val_auc: 0.9794\n",
      "Epoch 3/10\n",
      "533/533 [==============================] - 52s 98ms/step - loss: 0.0587 - accuracy: 0.9037 - precision: 0.9374 - recall: 0.9384 - auc: 0.9491 - val_loss: 0.0454 - val_accuracy: 0.9195 - val_precision: 0.9698 - val_recall: 0.9066 - val_auc: 0.9781\n",
      "Epoch 4/10\n",
      "533/533 [==============================] - 52s 98ms/step - loss: 0.0558 - accuracy: 0.9065 - precision: 0.9394 - recall: 0.9401 - auc: 0.9529 - val_loss: 0.0657 - val_accuracy: 0.8990 - val_precision: 0.9808 - val_recall: 0.8642 - val_auc: 0.9705\n",
      "Epoch 5/10\n",
      "533/533 [==============================] - 52s 98ms/step - loss: 0.0537 - accuracy: 0.9093 - precision: 0.9419 - recall: 0.9412 - auc: 0.9567 - val_loss: 0.0461 - val_accuracy: 0.9298 - val_precision: 0.9672 - val_recall: 0.9252 - val_auc: 0.9729\n",
      "Epoch 6/10\n",
      "533/533 [==============================] - 53s 99ms/step - loss: 0.0526 - accuracy: 0.9116 - precision: 0.9426 - recall: 0.9433 - auc: 0.9580 - val_loss: 0.0817 - val_accuracy: 0.8899 - val_precision: 0.9860 - val_recall: 0.8456 - val_auc: 0.9737\n",
      "Epoch 7/10\n",
      "533/533 [==============================] - 53s 99ms/step - loss: 0.0532 - accuracy: 0.9148 - precision: 0.9452 - recall: 0.9449 - auc: 0.9587 - val_loss: 0.0517 - val_accuracy: 0.9258 - val_precision: 0.9730 - val_recall: 0.9133 - val_auc: 0.9766\n",
      "Epoch 8/10\n",
      "533/533 [==============================] - 54s 101ms/step - loss: 0.0502 - accuracy: 0.9178 - precision: 0.9465 - recall: 0.9476 - auc: 0.9609 - val_loss: 0.1190 - val_accuracy: 0.7410 - val_precision: 0.7202 - val_recall: 0.9954 - val_auc: 0.9485\n",
      "Epoch 9/10\n",
      "533/533 [==============================] - 55s 103ms/step - loss: 0.0516 - accuracy: 0.9207 - precision: 0.9487 - recall: 0.9490 - auc: 0.9606 - val_loss: 0.0570 - val_accuracy: 0.9272 - val_precision: 0.9184 - val_recall: 0.9767 - val_auc: 0.9650\n",
      "Epoch 10/10\n",
      "533/533 [==============================] - 53s 99ms/step - loss: 0.0519 - accuracy: 0.9172 - precision: 0.9468 - recall: 0.9464 - auc: 0.9606 - val_loss: 0.0458 - val_accuracy: 0.9398 - val_precision: 0.9590 - val_recall: 0.9496 - val_auc: 0.9726\n",
      "134/134 [==============================] - 11s 79ms/step - loss: 0.0373 - accuracy: 0.9365 - precision: 0.9486 - recall: 0.9559 - auc: 0.9797\n",
      "\n",
      "📉 Loss: 0.0373\n",
      "🎯 Accuracy: 93.6538%\n",
      "✅ Precision: 94.8565%\n",
      "🔄 Recall: 95.5924%\n",
      "📊 AUC: 0.9797\n",
      "⏳ Tiempo de entrenamiento: 531.37 segundos\n",
      "\n",
      "🔹 Entrenando con RMSprop y learning rate 0.001 🔹\n",
      "Found 17054 validated image filenames belonging to 2 classes.\n",
      "Found 4286 validated image filenames belonging to 2 classes.\n",
      "Found 4286 validated image filenames belonging to 2 classes.\n"
     ]
    },
    {
     "name": "stderr",
     "output_type": "stream",
     "text": [
      "WARNING:absl:At this time, the v2.11+ optimizer `tf.keras.optimizers.RMSprop` runs slowly on M1/M2 Macs, please use the legacy Keras optimizer instead, located at `tf.keras.optimizers.legacy.RMSprop`.\n",
      "WARNING:absl:There is a known slowdown when using v2.11+ Keras optimizers on M1/M2 Macs. Falling back to the legacy Keras optimizer, i.e., `tf.keras.optimizers.legacy.RMSprop`.\n"
     ]
    },
    {
     "name": "stdout",
     "output_type": "stream",
     "text": [
      "Epoch 1/10\n"
     ]
    },
    {
     "name": "stderr",
     "output_type": "stream",
     "text": [
      "2025-02-23 22:47:13.968559: I tensorflow/core/grappler/optimizers/custom_graph_optimizer_registry.cc:114] Plugin optimizer for device_type GPU is enabled.\n"
     ]
    },
    {
     "name": "stdout",
     "output_type": "stream",
     "text": [
      "533/533 [==============================] - ETA: 0s - loss: 0.0324 - accuracy: 0.8894 - precision: 0.9187 - recall: 0.9405 - auc: 0.9415"
     ]
    },
    {
     "name": "stderr",
     "output_type": "stream",
     "text": [
      "2025-02-23 22:47:56.946577: I tensorflow/core/grappler/optimizers/custom_graph_optimizer_registry.cc:114] Plugin optimizer for device_type GPU is enabled.\n"
     ]
    },
    {
     "name": "stdout",
     "output_type": "stream",
     "text": [
      "533/533 [==============================] - 995s 2s/step - loss: 0.0324 - accuracy: 0.8894 - precision: 0.9187 - recall: 0.9405 - auc: 0.9415 - val_loss: 0.0242 - val_accuracy: 0.9270 - val_precision: 0.9517 - val_recall: 0.9372 - val_auc: 0.9757\n",
      "Epoch 2/10\n",
      "533/533 [==============================] - 52s 97ms/step - loss: 0.0244 - accuracy: 0.9203 - precision: 0.9444 - recall: 0.9533 - auc: 0.9674 - val_loss: 0.0224 - val_accuracy: 0.9300 - val_precision: 0.9635 - val_recall: 0.9295 - val_auc: 0.9797\n",
      "Epoch 3/10\n",
      "533/533 [==============================] - 52s 98ms/step - loss: 0.0224 - accuracy: 0.9276 - precision: 0.9503 - recall: 0.9567 - auc: 0.9727 - val_loss: 0.0212 - val_accuracy: 0.9391 - val_precision: 0.9453 - val_recall: 0.9637 - val_auc: 0.9807\n",
      "Epoch 4/10\n",
      "533/533 [==============================] - 962s 2s/step - loss: 0.0215 - accuracy: 0.9319 - precision: 0.9524 - recall: 0.9601 - auc: 0.9751 - val_loss: 0.0236 - val_accuracy: 0.9242 - val_precision: 0.9725 - val_recall: 0.9111 - val_auc: 0.9807\n",
      "Epoch 5/10\n",
      "533/533 [==============================] - 52s 97ms/step - loss: 0.0207 - accuracy: 0.9331 - precision: 0.9541 - recall: 0.9599 - auc: 0.9766 - val_loss: 0.0200 - val_accuracy: 0.9372 - val_precision: 0.9515 - val_recall: 0.9538 - val_auc: 0.9830\n",
      "Epoch 6/10\n",
      "533/533 [==============================] - 964s 2s/step - loss: 0.0201 - accuracy: 0.9360 - precision: 0.9563 - recall: 0.9613 - auc: 0.9780 - val_loss: 0.0205 - val_accuracy: 0.9382 - val_precision: 0.9465 - val_recall: 0.9609 - val_auc: 0.9826\n",
      "Epoch 7/10\n",
      "533/533 [==============================] - 52s 97ms/step - loss: 0.0197 - accuracy: 0.9364 - precision: 0.9573 - recall: 0.9609 - auc: 0.9791 - val_loss: 0.0210 - val_accuracy: 0.9375 - val_precision: 0.9373 - val_recall: 0.9704 - val_auc: 0.9831\n",
      "Epoch 8/10\n",
      "533/533 [==============================] - 52s 98ms/step - loss: 0.0192 - accuracy: 0.9384 - precision: 0.9586 - recall: 0.9621 - auc: 0.9801 - val_loss: 0.0203 - val_accuracy: 0.9363 - val_precision: 0.9605 - val_recall: 0.9425 - val_auc: 0.9835\n",
      "Epoch 9/10\n",
      "533/533 [==============================] - 55s 104ms/step - loss: 0.0190 - accuracy: 0.9379 - precision: 0.9582 - recall: 0.9619 - auc: 0.9805 - val_loss: 0.0200 - val_accuracy: 0.9407 - val_precision: 0.9523 - val_recall: 0.9584 - val_auc: 0.9833\n",
      "Epoch 10/10\n",
      "533/533 [==============================] - 57s 108ms/step - loss: 0.0187 - accuracy: 0.9397 - precision: 0.9588 - recall: 0.9636 - auc: 0.9811 - val_loss: 0.0206 - val_accuracy: 0.9384 - val_precision: 0.9497 - val_recall: 0.9577 - val_auc: 0.9832\n",
      "134/134 [==============================] - 12s 87ms/step - loss: 0.0186 - accuracy: 0.9405 - precision: 0.9436 - recall: 0.9679 - auc: 0.9863\n",
      "\n",
      "📉 Loss: 0.0186\n",
      "🎯 Accuracy: 94.0504%\n",
      "✅ Precision: 94.3623%\n",
      "🔄 Recall: 96.7913%\n",
      "📊 AUC: 0.9863\n",
      "⏳ Tiempo de entrenamiento: 3293.82 segundos\n",
      "\n",
      "🔹 Entrenando con RMSprop y learning rate 0.0005 🔹\n",
      "Found 17054 validated image filenames belonging to 2 classes.\n",
      "Found 4286 validated image filenames belonging to 2 classes.\n",
      "Found 4286 validated image filenames belonging to 2 classes.\n"
     ]
    },
    {
     "name": "stderr",
     "output_type": "stream",
     "text": [
      "WARNING:absl:At this time, the v2.11+ optimizer `tf.keras.optimizers.RMSprop` runs slowly on M1/M2 Macs, please use the legacy Keras optimizer instead, located at `tf.keras.optimizers.legacy.RMSprop`.\n",
      "WARNING:absl:There is a known slowdown when using v2.11+ Keras optimizers on M1/M2 Macs. Falling back to the legacy Keras optimizer, i.e., `tf.keras.optimizers.legacy.RMSprop`.\n"
     ]
    },
    {
     "name": "stdout",
     "output_type": "stream",
     "text": [
      "Epoch 1/10\n"
     ]
    },
    {
     "name": "stderr",
     "output_type": "stream",
     "text": [
      "2025-02-23 23:42:20.047829: I tensorflow/core/grappler/optimizers/custom_graph_optimizer_registry.cc:114] Plugin optimizer for device_type GPU is enabled.\n"
     ]
    },
    {
     "name": "stdout",
     "output_type": "stream",
     "text": [
      "533/533 [==============================] - ETA: 0s - loss: 0.0385 - accuracy: 0.8661 - precision: 0.9006 - recall: 0.9300 - auc: 0.9157"
     ]
    },
    {
     "name": "stderr",
     "output_type": "stream",
     "text": [
      "2025-02-23 23:43:08.126436: I tensorflow/core/grappler/optimizers/custom_graph_optimizer_registry.cc:114] Plugin optimizer for device_type GPU is enabled.\n"
     ]
    },
    {
     "name": "stdout",
     "output_type": "stream",
     "text": [
      "533/533 [==============================] - 61s 113ms/step - loss: 0.0385 - accuracy: 0.8661 - precision: 0.9006 - recall: 0.9300 - auc: 0.9157 - val_loss: 0.0259 - val_accuracy: 0.9232 - val_precision: 0.9333 - val_recall: 0.9520 - val_auc: 0.9729\n",
      "Epoch 2/10\n",
      "533/533 [==============================] - 59s 111ms/step - loss: 0.0258 - accuracy: 0.9151 - precision: 0.9401 - recall: 0.9511 - auc: 0.9634 - val_loss: 0.0228 - val_accuracy: 0.9312 - val_precision: 0.9425 - val_recall: 0.9542 - val_auc: 0.9785\n",
      "Epoch 3/10\n",
      "533/533 [==============================] - 62s 116ms/step - loss: 0.0235 - accuracy: 0.9244 - precision: 0.9470 - recall: 0.9559 - auc: 0.9699 - val_loss: 0.0211 - val_accuracy: 0.9363 - val_precision: 0.9546 - val_recall: 0.9489 - val_auc: 0.9813\n",
      "Epoch 4/10\n",
      "533/533 [==============================] - 79s 148ms/step - loss: 0.0222 - accuracy: 0.9302 - precision: 0.9515 - recall: 0.9588 - auc: 0.9730 - val_loss: 0.0210 - val_accuracy: 0.9358 - val_precision: 0.9601 - val_recall: 0.9422 - val_auc: 0.9820\n",
      "Epoch 5/10\n",
      "533/533 [==============================] - 73s 137ms/step - loss: 0.0214 - accuracy: 0.9307 - precision: 0.9525 - recall: 0.9585 - auc: 0.9750 - val_loss: 0.0207 - val_accuracy: 0.9389 - val_precision: 0.9548 - val_recall: 0.9528 - val_auc: 0.9811\n",
      "Epoch 6/10\n",
      "533/533 [==============================] - 78s 146ms/step - loss: 0.0207 - accuracy: 0.9354 - precision: 0.9553 - recall: 0.9617 - auc: 0.9767 - val_loss: 0.0197 - val_accuracy: 0.9407 - val_precision: 0.9539 - val_recall: 0.9566 - val_auc: 0.9836\n",
      "Epoch 7/10\n",
      "533/533 [==============================] - 80s 150ms/step - loss: 0.0202 - accuracy: 0.9360 - precision: 0.9557 - recall: 0.9621 - auc: 0.9777 - val_loss: 0.0204 - val_accuracy: 0.9396 - val_precision: 0.9620 - val_recall: 0.9461 - val_auc: 0.9824\n",
      "Epoch 8/10\n",
      "533/533 [==============================] - 82s 154ms/step - loss: 0.0199 - accuracy: 0.9370 - precision: 0.9565 - recall: 0.9626 - auc: 0.9786 - val_loss: 0.0197 - val_accuracy: 0.9426 - val_precision: 0.9622 - val_recall: 0.9506 - val_auc: 0.9838\n",
      "Epoch 9/10\n",
      "533/533 [==============================] - 84s 158ms/step - loss: 0.0195 - accuracy: 0.9380 - precision: 0.9574 - recall: 0.9629 - auc: 0.9795 - val_loss: 0.0196 - val_accuracy: 0.9424 - val_precision: 0.9560 - val_recall: 0.9570 - val_auc: 0.9839\n",
      "Epoch 10/10\n",
      "533/533 [==============================] - 86s 162ms/step - loss: 0.0192 - accuracy: 0.9402 - precision: 0.9589 - recall: 0.9642 - auc: 0.9801 - val_loss: 0.0203 - val_accuracy: 0.9403 - val_precision: 0.9517 - val_recall: 0.9584 - val_auc: 0.9821\n",
      "134/134 [==============================] - 18s 131ms/step - loss: 0.0183 - accuracy: 0.9426 - precision: 0.9509 - recall: 0.9630 - auc: 0.9864\n",
      "\n",
      "📉 Loss: 0.0183\n",
      "🎯 Accuracy: 94.2604%\n",
      "✅ Precision: 95.0905%\n",
      "🔄 Recall: 96.2976%\n",
      "📊 AUC: 0.9864\n",
      "⏳ Tiempo de entrenamiento: 745.06 segundos\n",
      "\n",
      "🔹 Entrenando con RMSprop y learning rate 0.0001 🔹\n",
      "Found 17054 validated image filenames belonging to 2 classes.\n",
      "Found 4286 validated image filenames belonging to 2 classes.\n",
      "Found 4286 validated image filenames belonging to 2 classes.\n"
     ]
    },
    {
     "name": "stderr",
     "output_type": "stream",
     "text": [
      "WARNING:absl:At this time, the v2.11+ optimizer `tf.keras.optimizers.RMSprop` runs slowly on M1/M2 Macs, please use the legacy Keras optimizer instead, located at `tf.keras.optimizers.legacy.RMSprop`.\n",
      "WARNING:absl:There is a known slowdown when using v2.11+ Keras optimizers on M1/M2 Macs. Falling back to the legacy Keras optimizer, i.e., `tf.keras.optimizers.legacy.RMSprop`.\n"
     ]
    },
    {
     "name": "stdout",
     "output_type": "stream",
     "text": [
      "Epoch 1/10\n"
     ]
    },
    {
     "name": "stderr",
     "output_type": "stream",
     "text": [
      "2025-02-23 23:55:03.866148: I tensorflow/core/grappler/optimizers/custom_graph_optimizer_registry.cc:114] Plugin optimizer for device_type GPU is enabled.\n"
     ]
    },
    {
     "name": "stdout",
     "output_type": "stream",
     "text": [
      "533/533 [==============================] - ETA: 0s - loss: 0.0452 - accuracy: 0.8316 - precision: 0.8546 - recall: 0.9432 - auc: 0.8713"
     ]
    },
    {
     "name": "stderr",
     "output_type": "stream",
     "text": [
      "2025-02-23 23:56:15.659976: I tensorflow/core/grappler/optimizers/custom_graph_optimizer_registry.cc:114] Plugin optimizer for device_type GPU is enabled.\n"
     ]
    },
    {
     "name": "stdout",
     "output_type": "stream",
     "text": [
      "533/533 [==============================] - 91s 169ms/step - loss: 0.0452 - accuracy: 0.8316 - precision: 0.8546 - recall: 0.9432 - auc: 0.8713 - val_loss: 0.0351 - val_accuracy: 0.8950 - val_precision: 0.8924 - val_recall: 0.9566 - val_auc: 0.9570\n",
      "Epoch 2/10\n",
      "533/533 [==============================] - 89s 168ms/step - loss: 0.0322 - accuracy: 0.8879 - precision: 0.9125 - recall: 0.9462 - auc: 0.9409 - val_loss: 0.0283 - val_accuracy: 0.9095 - val_precision: 0.9203 - val_recall: 0.9450 - val_auc: 0.9691\n",
      "Epoch 3/10\n",
      "533/533 [==============================] - 90s 170ms/step - loss: 0.0291 - accuracy: 0.9020 - precision: 0.9268 - recall: 0.9485 - auc: 0.9526 - val_loss: 0.0261 - val_accuracy: 0.9151 - val_precision: 0.9402 - val_recall: 0.9309 - val_auc: 0.9728\n",
      "Epoch 4/10\n",
      "533/533 [==============================] - 91s 171ms/step - loss: 0.0275 - accuracy: 0.9084 - precision: 0.9333 - recall: 0.9497 - auc: 0.9581 - val_loss: 0.0247 - val_accuracy: 0.9200 - val_precision: 0.9409 - val_recall: 0.9379 - val_auc: 0.9750\n",
      "Epoch 5/10\n",
      "533/533 [==============================] - 92s 173ms/step - loss: 0.0264 - accuracy: 0.9137 - precision: 0.9377 - recall: 0.9520 - auc: 0.9616 - val_loss: 0.0237 - val_accuracy: 0.9218 - val_precision: 0.9411 - val_recall: 0.9408 - val_auc: 0.9768\n",
      "Epoch 6/10\n",
      "533/533 [==============================] - 93s 174ms/step - loss: 0.0255 - accuracy: 0.9176 - precision: 0.9401 - recall: 0.9545 - auc: 0.9643 - val_loss: 0.0231 - val_accuracy: 0.9242 - val_precision: 0.9413 - val_recall: 0.9443 - val_auc: 0.9777\n",
      "Epoch 7/10\n",
      "533/533 [==============================] - 1003s 2s/step - loss: 0.0248 - accuracy: 0.9183 - precision: 0.9417 - recall: 0.9536 - auc: 0.9662 - val_loss: 0.0226 - val_accuracy: 0.9246 - val_precision: 0.9364 - val_recall: 0.9506 - val_auc: 0.9789\n",
      "Epoch 8/10\n",
      "533/533 [==============================] - 1065s 2s/step - loss: 0.0243 - accuracy: 0.9210 - precision: 0.9435 - recall: 0.9552 - auc: 0.9678 - val_loss: 0.0221 - val_accuracy: 0.9298 - val_precision: 0.9387 - val_recall: 0.9563 - val_auc: 0.9798\n",
      "Epoch 9/10\n",
      "533/533 [==============================] - 51s 96ms/step - loss: 0.0238 - accuracy: 0.9235 - precision: 0.9446 - recall: 0.9576 - auc: 0.9692 - val_loss: 0.0220 - val_accuracy: 0.9302 - val_precision: 0.9370 - val_recall: 0.9591 - val_auc: 0.9802\n",
      "Epoch 10/10\n",
      "533/533 [==============================] - 51s 97ms/step - loss: 0.0234 - accuracy: 0.9235 - precision: 0.9459 - recall: 0.9561 - auc: 0.9703 - val_loss: 0.0218 - val_accuracy: 0.9293 - val_precision: 0.9357 - val_recall: 0.9591 - val_auc: 0.9806\n",
      "134/134 [==============================] - 10s 78ms/step - loss: 0.0208 - accuracy: 0.9333 - precision: 0.9397 - recall: 0.9609 - auc: 0.9830\n",
      "\n",
      "📉 Loss: 0.0208\n",
      "🎯 Accuracy: 93.3271%\n",
      "✅ Precision: 93.9655%\n",
      "🔄 Recall: 96.0860%\n",
      "📊 AUC: 0.9830\n",
      "⏳ Tiempo de entrenamiento: 2717.95 segundos\n",
      "\n",
      "✅ ¡Experimento con optimización de optimizadores y learning rate completado!\n"
     ]
    }
   ],
   "execution_count": 1
  }
 ],
 "metadata": {
  "kernelspec": {
   "display_name": "Python [conda env:TFG] *",
   "language": "python",
   "name": "conda-env-TFG-py"
  },
  "language_info": {
   "codemirror_mode": {
    "name": "ipython",
    "version": 2
   },
   "file_extension": ".py",
   "mimetype": "text/x-python",
   "name": "python",
   "nbconvert_exporter": "python",
   "pygments_lexer": "ipython2",
   "version": "2.7.6"
  }
 },
 "nbformat": 4,
 "nbformat_minor": 5
}
