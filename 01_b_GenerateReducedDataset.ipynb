{
 "cells": [
  {
   "cell_type": "code",
   "execution_count": 6,
   "metadata": {},
   "outputs": [],
   "source": [
    "import os\n",
    "\n",
    "import src.data.Dataset as dt"
   ]
  },
  {
   "cell_type": "code",
   "execution_count": 7,
   "metadata": {},
   "outputs": [
    {
     "name": "stdout",
     "output_type": "stream",
     "text": [
      "RAW_DATASET: /Users/carlos/WORKSPACE/MegaClassifier/data/raw/29618Images_binary.csv\n"
     ]
    }
   ],
   "source": [
    "RAW_DATASET = os.path.abspath(\"./data/raw/29618Images_binary.csv\")\n",
    "\n",
    "print(f\"RAW_DATASET: {RAW_DATASET}\")"
   ]
  },
  {
   "cell_type": "code",
   "execution_count": 8,
   "metadata": {},
   "outputs": [
    {
     "name": "stdout",
     "output_type": "stream",
     "text": [
      "The file /Users/carlos/WORKSPACE/MegaClassifier/data/raw/29618Images_binary.csv has been successfully opened.\n"
     ]
    },
    {
     "data": {
      "text/html": [
       "<div>\n",
       "<style scoped>\n",
       "    .dataframe tbody tr th:only-of-type {\n",
       "        vertical-align: middle;\n",
       "    }\n",
       "\n",
       "    .dataframe tbody tr th {\n",
       "        vertical-align: top;\n",
       "    }\n",
       "\n",
       "    .dataframe thead th {\n",
       "        text-align: right;\n",
       "    }\n",
       "</style>\n",
       "<table border=\"1\" class=\"dataframe\">\n",
       "  <thead>\n",
       "    <tr style=\"text-align: right;\">\n",
       "      <th></th>\n",
       "      <th>file_name</th>\n",
       "      <th>label</th>\n",
       "    </tr>\n",
       "  </thead>\n",
       "  <tbody>\n",
       "    <tr>\n",
       "      <th>0</th>\n",
       "      <td>\\vacia\\empty_caltechCameraTraps\\598de9d3-23d2-...</td>\n",
       "      <td>0</td>\n",
       "    </tr>\n",
       "    <tr>\n",
       "      <th>1</th>\n",
       "      <td>\\cervidae\\3_ciervo_simone_2\\37_20201024 (10478...</td>\n",
       "      <td>1</td>\n",
       "    </tr>\n",
       "    <tr>\n",
       "      <th>2</th>\n",
       "      <td>\\vacia\\vacias_1_de_2_PNC_2012_ISAAC\\a43848IM00...</td>\n",
       "      <td>0</td>\n",
       "    </tr>\n",
       "    <tr>\n",
       "      <th>3</th>\n",
       "      <td>\\cervidae\\CERVIDREDORFALLOWDEER_ZOO_1_4\\4_2021...</td>\n",
       "      <td>1</td>\n",
       "    </tr>\n",
       "    <tr>\n",
       "      <th>4</th>\n",
       "      <td>\\cervidae\\deer_CaltechCameraTrap\\59a17b4b-23d2...</td>\n",
       "      <td>1</td>\n",
       "    </tr>\n",
       "    <tr>\n",
       "      <th>...</th>\n",
       "      <td>...</td>\n",
       "      <td>...</td>\n",
       "    </tr>\n",
       "    <tr>\n",
       "      <th>29613</th>\n",
       "      <td>\\cervidae\\CERVIDREDORFALLOWDEER_ZOO_1_4\\21_202...</td>\n",
       "      <td>1</td>\n",
       "    </tr>\n",
       "    <tr>\n",
       "      <th>29614</th>\n",
       "      <td>\\vacia\\NOANIMAL_ZOO_5_6_7_9\\25_20210417 (3939)...</td>\n",
       "      <td>0</td>\n",
       "    </tr>\n",
       "    <tr>\n",
       "      <th>29615</th>\n",
       "      <td>\\vacia\\NOANIMAL_ZOO_1_4\\6_20201812 (279).JPG</td>\n",
       "      <td>0</td>\n",
       "    </tr>\n",
       "    <tr>\n",
       "      <th>29616</th>\n",
       "      <td>\\vaca\\COW_ZOO_1_4\\35_20201218 (1789).JPG</td>\n",
       "      <td>1</td>\n",
       "    </tr>\n",
       "    <tr>\n",
       "      <th>29617</th>\n",
       "      <td>\\humanovehiculo\\car_CaltechCameraTrap_ME\\vehic...</td>\n",
       "      <td>1</td>\n",
       "    </tr>\n",
       "  </tbody>\n",
       "</table>\n",
       "<p>29618 rows × 2 columns</p>\n",
       "</div>"
      ],
      "text/plain": [
       "                                               file_name  label\n",
       "0      \\vacia\\empty_caltechCameraTraps\\598de9d3-23d2-...      0\n",
       "1      \\cervidae\\3_ciervo_simone_2\\37_20201024 (10478...      1\n",
       "2      \\vacia\\vacias_1_de_2_PNC_2012_ISAAC\\a43848IM00...      0\n",
       "3      \\cervidae\\CERVIDREDORFALLOWDEER_ZOO_1_4\\4_2021...      1\n",
       "4      \\cervidae\\deer_CaltechCameraTrap\\59a17b4b-23d2...      1\n",
       "...                                                  ...    ...\n",
       "29613  \\cervidae\\CERVIDREDORFALLOWDEER_ZOO_1_4\\21_202...      1\n",
       "29614  \\vacia\\NOANIMAL_ZOO_5_6_7_9\\25_20210417 (3939)...      0\n",
       "29615       \\vacia\\NOANIMAL_ZOO_1_4\\6_20201812 (279).JPG      0\n",
       "29616           \\vaca\\COW_ZOO_1_4\\35_20201218 (1789).JPG      1\n",
       "29617  \\humanovehiculo\\car_CaltechCameraTrap_ME\\vehic...      1\n",
       "\n",
       "[29618 rows x 2 columns]"
      ]
     },
     "execution_count": 8,
     "metadata": {},
     "output_type": "execute_result"
    }
   ],
   "source": [
    "dataset = dt.load_from_csv(RAW_DATASET)\n",
    "dataset"
   ]
  },
  {
   "cell_type": "code",
   "execution_count": 9,
   "metadata": {},
   "outputs": [
    {
     "name": "stdout",
     "output_type": "stream",
     "text": [
      "Number of samples in raw dataset: 29618\n",
      "label\n",
      "0    10000\n",
      "1    19618\n",
      "Name: count, dtype: int64\n",
      "\n"
     ]
    }
   ],
   "source": [
    "number_raw_samples = len(dataset[\"file_name\"].values)\n",
    "number_raw_empty = len(dataset[dataset[\"label\"] == 0])\n",
    "number_raw_animal = len(dataset[dataset[\"label\"] == 1])\n",
    "\n",
    "samples_empty_class = number_raw_empty\n",
    "# samples_empty_class = 50\n",
    "\n",
    "print(\"Number of samples in raw dataset: \" + str(number_raw_samples))\n",
    "label_counts = dataset[\"label\"].value_counts()\n",
    "label_counts_sorted = label_counts.sort_index()\n",
    "print(label_counts_sorted)\n",
    "print()"
   ]
  },
  {
   "cell_type": "code",
   "execution_count": 10,
   "metadata": {},
   "outputs": [
    {
     "name": "stdout",
     "output_type": "stream",
     "text": [
      "The dataset has been successfully saved to /Users/carlos/WORKSPACE/MegaClassifier/data/raw/29618Images_binary.csv\n",
      "Number of samples in set dataset: 29618\n",
      "label\n",
      "0    10000\n",
      "1    19618\n",
      "Name: count, dtype: int64\n"
     ]
    }
   ],
   "source": [
    "dataset_crop = dt.crop_dataset(dataset, samples_empty_class)\n",
    "\n",
    "number_set_samples = len(dataset_crop[\"file_name\"].values)\n",
    "number_set_empty = len(dataset_crop[dataset_crop[\"label\"] == 0])\n",
    "number_set_animal = len(dataset_crop[dataset_crop[\"label\"] == 1])\n",
    "\n",
    "csv_crop_path = os.path.join(\n",
    "    RAW_DATASET[: -len(os.path.basename(RAW_DATASET))],\n",
    "    str(number_set_samples) + \"Images_binary.csv\",\n",
    ")\n",
    "dt.dataset_to_csv(dataset_crop, csv_crop_path)\n",
    "\n",
    "print(\"Number of samples in set dataset: \" + str(number_set_samples))\n",
    "label_counts = dataset_crop[\"label\"].value_counts()\n",
    "label_counts_sorted = label_counts.sort_index()\n",
    "print(label_counts_sorted)"
   ]
  }
 ],
 "metadata": {
  "kernelspec": {
   "display_name": "cameratraps-detector",
   "language": "python",
   "name": "python3"
  },
  "language_info": {
   "codemirror_mode": {
    "name": "ipython",
    "version": 3
   },
   "file_extension": ".py",
   "mimetype": "text/x-python",
   "name": "python",
   "nbconvert_exporter": "python",
   "pygments_lexer": "ipython3",
   "version": "3.8.15"
  }
 },
 "nbformat": 4,
 "nbformat_minor": 2
}
