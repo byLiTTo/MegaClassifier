{
 "cells": [
  {
   "cell_type": "code",
   "execution_count": null,
   "metadata": {
    "executionInfo": {
     "elapsed": 13,
     "status": "ok",
     "timestamp": 1742550787779,
     "user": {
      "displayName": "Carlos García Silva",
      "userId": "10388926223905764529"
     },
     "user_tz": -60
    },
    "id": "oQUZPTyG9M55"
   },
   "outputs": [],
   "source": [
    "import os\n",
    "import time\n",
    "\n",
    "import numpy as np\n",
    "import pandas as pd\n",
    "import tensorflow as tf\n",
    "from sklearn.metrics import auc, confusion_matrix, roc_curve\n",
    "from tensorflow.keras.callbacks import TensorBoard\n",
    "from tensorflow.keras.metrics import AUC, BinaryAccuracy, Precision, Recall\n",
    "from tensorflow.keras.preprocessing.image import ImageDataGenerator"
   ]
  },
  {
   "cell_type": "code",
   "execution_count": null,
   "metadata": {
    "executionInfo": {
     "elapsed": 1,
     "status": "ok",
     "timestamp": 1742550787781,
     "user": {
      "displayName": "Carlos García Silva",
      "userId": "10388926223905764529"
     },
     "user_tz": -60
    },
    "id": "YMZgeVIKTZiH"
   },
   "outputs": [],
   "source": [
    "MODEL_BASE_NAME = \"MegaClassifier_b\"\n",
    "VERSION = 1\n",
    "\n",
    "DATASETS = {\n",
    "    \"MegaClassifier_a\": \"onlyDetectionsForTrain\",\n",
    "    \"MegaClassifier_b\": \"emptyOriginalAnimalDetection\",\n",
    "    \"MegaClassifier_c\": \"emptyNonEmptyDataset\",\n",
    "}"
   ]
  },
  {
   "cell_type": "code",
   "execution_count": null,
   "metadata": {
    "executionInfo": {
     "elapsed": 6,
     "status": "ok",
     "timestamp": 1742550801122,
     "user": {
      "displayName": "Carlos García Silva",
      "userId": "10388926223905764529"
     },
     "user_tz": -60
    },
    "id": "_pThgKSR9M58"
   },
   "outputs": [],
   "source": [
    "EPOCHS = 10\n",
    "IMAGE_SIZE = (456, 456)\n",
    "IMAGE_SHAPE = IMAGE_SIZE + (3,)\n",
    "SEED = 42"
   ]
  },
  {
   "cell_type": "code",
   "execution_count": null,
   "metadata": {
    "executionInfo": {
     "elapsed": 5,
     "status": "ok",
     "timestamp": 1742550801128,
     "user": {
      "displayName": "Carlos García Silva",
      "userId": "10388926223905764529"
     },
     "user_tz": -60
    },
    "id": "drvVNH-C9M59"
   },
   "outputs": [],
   "source": [
    "OPTIMIZERS = {\"Adam\": tf.keras.optimizers.Adam()}"
   ]
  },
  {
   "cell_type": "code",
   "execution_count": null,
   "metadata": {
    "executionInfo": {
     "elapsed": 1,
     "status": "ok",
     "timestamp": 1742550801138,
     "user": {
      "displayName": "Carlos García Silva",
      "userId": "10388926223905764529"
     },
     "user_tz": -60
    },
    "id": "O_HExabt9M59"
   },
   "outputs": [],
   "source": [
    "LOSS = {\"BinaryCrossentropy\": tf.keras.losses.BinaryCrossentropy()}"
   ]
  },
  {
   "cell_type": "code",
   "execution_count": null,
   "metadata": {
    "executionInfo": {
     "elapsed": 4,
     "status": "ok",
     "timestamp": 1742550801143,
     "user": {
      "displayName": "Carlos García Silva",
      "userId": "10388926223905764529"
     },
     "user_tz": -60
    },
    "id": "BmWuPkHU9M59"
   },
   "outputs": [],
   "source": [
    "METRICS = [\n",
    "    BinaryAccuracy(name=\"accuracy\"),\n",
    "    Precision(name=\"precision\"),\n",
    "    Recall(name=\"recall\"),\n",
    "    AUC(name=\"auc\"),\n",
    "]"
   ]
  },
  {
   "cell_type": "code",
   "execution_count": null,
   "metadata": {
    "executionInfo": {
     "elapsed": 38,
     "status": "ok",
     "timestamp": 1742550801184,
     "user": {
      "displayName": "Carlos García Silva",
      "userId": "10388926223905764529"
     },
     "user_tz": -60
    },
    "id": "VgVeVQEE9M5-"
   },
   "outputs": [],
   "source": [
    "BATCH_SIZES = [16, 32, 64, 128]"
   ]
  },
  {
   "cell_type": "code",
   "execution_count": null,
   "metadata": {
    "colab": {
     "base_uri": "https://localhost:8080/"
    },
    "id": "H5EH-u2Q9M5-",
    "outputId": "78f8a0b6-c765-439f-9f34-33f622cb866b"
   },
   "outputs": [],
   "source": [
    "DATASET_DIR = os.path.abspath(f\"data/processed/{DATASETS[MODEL_BASE_NAME]}\")\n",
    "\n",
    "SUBVERSION = 0\n",
    "for BATCH_SIZE in BATCH_SIZES:\n",
    "    LOGS_PATH = os.path.abspath(\n",
    "        f\"./logs/{MODEL_BASE_NAME}/v{VERSION}/v{VERSION}.{SUBVERSION}\"\n",
    "    )\n",
    "    MODELS_PATH = os.path.abspath(\n",
    "        f\"./models/{MODEL_BASE_NAME}/v{VERSION}/v{VERSION}.{SUBVERSION}\"\n",
    "    )\n",
    "    MODEL_NAME_h5 = f\"{MODEL_BASE_NAME}_v{VERSION}_{SUBVERSION}.h5\"\n",
    "    MODEL_NAME_keras = f\"{MODEL_BASE_NAME}_v{VERSION}_{SUBVERSION}.keras\"\n",
    "    MODEL_NAME_weights = f\"{MODEL_BASE_NAME}_v{VERSION}_{SUBVERSION}.weights.h5\"\n",
    "\n",
    "    train_datagen = ImageDataGenerator(\n",
    "        preprocessing_function=tf.keras.applications.efficientnet.preprocess_input,\n",
    "    )\n",
    "    train_images = train_datagen.flow_from_directory(\n",
    "        directory=f\"{DATASET_DIR}/train\",\n",
    "        target_size=IMAGE_SIZE,\n",
    "        batch_size=BATCH_SIZE,\n",
    "        class_mode=\"binary\",\n",
    "        shuffle=True,\n",
    "        seed=SEED,\n",
    "    )\n",
    "\n",
    "    datagen = ImageDataGenerator(\n",
    "        preprocessing_function=tf.keras.applications.efficientnet.preprocess_input,\n",
    "    )\n",
    "    validation_images = datagen.flow_from_directory(\n",
    "        directory=f\"{DATASET_DIR}/validation\",\n",
    "        target_size=IMAGE_SIZE,\n",
    "        batch_size=BATCH_SIZE,\n",
    "        class_mode=\"binary\",\n",
    "        shuffle=True,\n",
    "        seed=SEED,\n",
    "    )\n",
    "\n",
    "    pretrained_model = tf.keras.applications.EfficientNetB5(\n",
    "        weights=\"imagenet\",\n",
    "        include_top=False,\n",
    "        input_shape=IMAGE_SHAPE,\n",
    "    )\n",
    "    pretrained_model.trainable = False\n",
    "\n",
    "    model = tf.keras.Sequential(\n",
    "        [\n",
    "            pretrained_model,\n",
    "            tf.keras.layers.GlobalAveragePooling2D(),\n",
    "            tf.keras.layers.Dense(1, activation=\"sigmoid\"),\n",
    "        ],\n",
    "        name=f\"{MODEL_BASE_NAME}_v{VERSION}.{SUBVERSION}\",\n",
    "    )\n",
    "\n",
    "    model.compile(\n",
    "        optimizer=OPTIMIZERS[\"Adam\"],\n",
    "        loss=LOSS[\"BinaryCrossentropy\"],\n",
    "        metrics=METRICS,\n",
    "    )\n",
    "\n",
    "    history = model.fit(\n",
    "        train_images,\n",
    "        epochs=EPOCHS,\n",
    "        batch_size=BATCH_SIZE,\n",
    "        validation_data=validation_images,\n",
    "        callbacks=[TensorBoard(log_dir=LOGS_PATH)],\n",
    "    )\n",
    "    time.sleep(0.1)\n",
    "\n",
    "    dataframe = pd.DataFrame(history.history)\n",
    "    history_path = os.path.join(LOGS_PATH, f\"history_v{VERSION}.{SUBVERSION}.csv\")\n",
    "    dataframe.to_csv(history_path, sep=\";\", index=False)\n",
    "\n",
    "    os.makedirs(MODELS_PATH, exist_ok=True)\n",
    "    model.save(os.path.join(MODELS_PATH, MODEL_NAME_h5))\n",
    "    model.save(os.path.join(MODELS_PATH, MODEL_NAME_keras))\n",
    "    model.save_weights(os.path.join(MODELS_PATH, MODEL_NAME_weights))\n",
    "\n",
    "    SUBVERSION += 1\n",
    "    time.sleep(2)\n"
   ]
  }
 ],
 "metadata": {
  "accelerator": "GPU",
  "colab": {
   "gpuType": "A100",
   "machine_shape": "hm",
   "provenance": []
  },
  "kernelspec": {
   "display_name": "Python 3",
   "name": "python3"
  },
  "language_info": {
   "codemirror_mode": {
    "name": "ipython",
    "version": 3
   },
   "file_extension": ".py",
   "mimetype": "text/x-python",
   "name": "python",
   "nbconvert_exporter": "python",
   "pygments_lexer": "ipython3",
   "version": "3.8.19"
  }
 },
 "nbformat": 4,
 "nbformat_minor": 0
}
