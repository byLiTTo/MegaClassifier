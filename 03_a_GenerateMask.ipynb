{
 "cells": [
  {
   "cell_type": "code",
   "execution_count": 1,
   "metadata": {},
   "outputs": [],
   "source": [
    "import json\n",
    "import os\n",
    "\n",
    "import tqdm\n",
    "\n",
    "import src.visualization.visualization_utils as vu"
   ]
  },
  {
   "cell_type": "code",
   "execution_count": 2,
   "metadata": {},
   "outputs": [
    {
     "name": "stdout",
     "output_type": "stream",
     "text": [
      "PYTHONPATH: :/Users/carlos/WORKSPACE/MegaClassifier/data/external/ai4eutils:/Users/carlos/WORKSPACE/MegaClassifier/data/external/CameraTraps:/Users/carlos/WORKSPACE/MegaClassifier/data/external/yolov5\n"
     ]
    }
   ],
   "source": [
    "required_paths = [\"/ai4eutils\", \"/CameraTraps\", \"/yolov5\"]\n",
    "python_path = os.environ.get(\"PYTHONPATH\", \"\")\n",
    "root_path = os.getcwd()\n",
    "\n",
    "for path in required_paths:\n",
    "    if not any(p.endswith(path) for p in python_path.split(\":\")):\n",
    "        python_path += f\":{root_path}/data/external{path}\"\n",
    "\n",
    "os.environ[\"PYTHONPATH\"] = python_path\n",
    "\n",
    "!echo \"PYTHONPATH: $PYTHONPATH\""
   ]
  },
  {
   "cell_type": "code",
   "execution_count": 3,
   "metadata": {},
   "outputs": [
    {
     "name": "stdout",
     "output_type": "stream",
     "text": [
      "\n",
      "DATASET_PATH:   /Users/carlos/WORKSPACE/MegaClassifier/data/raw/emptyNonEmptyDataset_ETL\n",
      "MASK_PATH:      /Users/carlos/WORKSPACE/MegaClassifier/resources/mask/emptyNonEmptyDataset_ETL\n",
      "DETECTION_JSON: /Users/carlos/WORKSPACE/MegaClassifier/resources/json/28560_images_0_0015_threshold.json\n"
     ]
    }
   ],
   "source": [
    "DATASET_PATH = os.path.abspath(\"./data/raw/emptyNonEmptyDataset_ETL\")\n",
    "MASK_PATH = os.path.abspath(\"./resources/mask\")\n",
    "DETECTION_JSON = os.path.abspath(\"./resources/json/28560_images_0_0015_threshold.json\")\n",
    "\n",
    "with open(DETECTION_JSON, \"r\") as f:\n",
    "    result = json.load(f)\n",
    "\n",
    "MASK_PATH = os.path.join(\n",
    "    MASK_PATH,\n",
    "    os.path.basename(DATASET_PATH),\n",
    ")\n",
    "\n",
    "\n",
    "print()\n",
    "print(f\"DATASET_PATH:   {DATASET_PATH}\")\n",
    "print(f\"MASK_PATH:      {MASK_PATH}\")\n",
    "print(f\"DETECTION_JSON: {DETECTION_JSON}\")"
   ]
  },
  {
   "cell_type": "code",
   "execution_count": 4,
   "metadata": {},
   "outputs": [
    {
     "name": "stderr",
     "output_type": "stream",
     "text": [
      "100%|██████████| 28560/28560 [02:09<00:00, 220.28it/s]\n"
     ]
    }
   ],
   "source": [
    "for image in tqdm.tqdm(result[\"images\"]):\n",
    "    input_file = os.path.join(DATASET_PATH, image[\"file\"])\n",
    "    output_file = os.path.join(MASK_PATH, image[\"file\"])\n",
    "    detections = image[\"detections\"]\n",
    "\n",
    "    vu.draw_masks_on_file(input_file, output_file, detections)\n"
   ]
  }
 ],
 "metadata": {
  "kernelspec": {
   "display_name": "TFG",
   "language": "python",
   "name": "python3"
  },
  "language_info": {
   "codemirror_mode": {
    "name": "ipython",
    "version": 3
   },
   "file_extension": ".py",
   "mimetype": "text/x-python",
   "name": "python",
   "nbconvert_exporter": "python",
   "pygments_lexer": "ipython3",
   "version": "3.8.19"
  }
 },
 "nbformat": 4,
 "nbformat_minor": 2
}
