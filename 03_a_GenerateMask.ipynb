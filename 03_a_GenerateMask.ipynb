{
 "cells": [
  {
   "cell_type": "code",
   "metadata": {},
   "source": [
    "import json\n",
    "import os\n",
    "\n",
    "import tqdm\n",
    "from itables import init_notebook_mode\n",
    "\n",
    "import src.visualization_utils as visualization\n",
    "\n",
    "init_notebook_mode(all_interactive=True)\n",
    "\n",
    "required_paths = [\"/ai4eutils\", \"/CameraTraps\", \"/yolov5\"]\n",
    "python_path = os.environ.get(\"PYTHONPATH\", \"\")\n",
    "root_path = os.getcwd()\n",
    "\n",
    "for path in required_paths:\n",
    "    if not any(p.endswith(path) for p in python_path.split(\":\")):\n",
    "        python_path += f\":{root_path}/data/external{path}\"\n",
    "\n",
    "os.environ[\"PYTHONPATH\"] = python_path"
   ],
   "outputs": [],
   "execution_count": null
  },
  {
   "cell_type": "code",
   "metadata": {},
   "source": [
    "DATASET_PATH = os.path.abspath(\"./data/interim/emptyNonEmptyDataset\")\n",
    "MASK_PATH = os.path.abspath(\"./resources/mask\")\n",
    "DETECTION_JSON = os.path.abspath(\"./resources/json/conservative_0_05.json\")\n",
    "\n",
    "THRESHOLD_NAME = (\n",
    "    os.path.basename(DETECTION_JSON).split(\"images_\")[-1].replace(\".json\", \"\")\n",
    ")\n",
    "\n",
    "MASK_PATH = os.path.join(\n",
    "    MASK_PATH,\n",
    "    THRESHOLD_NAME,\n",
    ")"
   ],
   "outputs": [],
   "execution_count": null
  },
  {
   "cell_type": "code",
   "metadata": {},
   "source": [
    "with open(DETECTION_JSON, \"r\") as f:\n",
    "    result = json.load(f)\n",
    "\n",
    "for image in tqdm.tqdm(result[\"images\"]):\n",
    "    input_file = os.path.join(DATASET_PATH, image[\"file\"])\n",
    "    output_file = os.path.join(MASK_PATH, image[\"file\"])\n",
    "    detections = image[\"detections\"]\n",
    "\n",
    "    visualization.draw_masks_on_file(input_file, output_file, detections)\n"
   ],
   "outputs": [],
   "execution_count": null
  }
 ],
 "metadata": {
  "kernelspec": {
   "display_name": "Python [conda env:TFG] *",
   "language": "python",
   "name": "conda-env-TFG-py"
  },
  "language_info": {
   "codemirror_mode": {
    "name": "ipython",
    "version": 3
   },
   "file_extension": ".py",
   "mimetype": "text/x-python",
   "name": "python",
   "nbconvert_exporter": "python",
   "pygments_lexer": "ipython3",
   "version": "3.8.19"
  }
 },
 "nbformat": 4,
 "nbformat_minor": 2
}
