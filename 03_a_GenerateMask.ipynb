{
 "cells": [
  {
   "cell_type": "code",
   "execution_count": 14,
   "metadata": {},
   "outputs": [],
   "source": [
    "import json\n",
    "import os\n",
    "\n",
    "import tqdm\n",
    "\n",
    "import src.visualization.visualization_utils as vu"
   ]
  },
  {
   "cell_type": "code",
   "execution_count": 15,
   "metadata": {},
   "outputs": [
    {
     "name": "stdout",
     "output_type": "stream",
     "text": [
      "PYTHONPATH: :/Users/carlos/WORKSPACE/MegaClassifier/data/external/ai4eutils:/Users/carlos/WORKSPACE/MegaClassifier/data/external/CameraTraps:/Users/carlos/WORKSPACE/MegaClassifier/data/external/yolov5\n"
     ]
    }
   ],
   "source": [
    "required_paths = [\"/ai4eutils\", \"/CameraTraps\", \"/yolov5\"]\n",
    "python_path = os.environ.get(\"PYTHONPATH\", \"\")\n",
    "root_path = os.getcwd()\n",
    "\n",
    "for path in required_paths:\n",
    "    if not any(p.endswith(path) for p in python_path.split(\":\")):\n",
    "        python_path += f\":{root_path}/data/external{path}\"\n",
    "\n",
    "os.environ[\"PYTHONPATH\"] = python_path\n",
    "\n",
    "!echo \"PYTHONPATH: $PYTHONPATH\""
   ]
  },
  {
   "cell_type": "code",
   "execution_count": 16,
   "metadata": {},
   "outputs": [
    {
     "name": "stdout",
     "output_type": "stream",
     "text": [
      "\n",
      "DATASET_PATH:   /Users/carlos/WORKSPACE/MegaClassifier/dataset/datasetFiltered\n",
      "MASK_PATH:      /Users/carlos/WORKSPACE/MegaClassifier/resources/mask/datasetFiltered\n",
      "DETECTION_JSON: /Users/carlos/WORKSPACE/MegaClassifier/resources/json/md_v5a/29618_images_0_003_threshold.json\n"
     ]
    }
   ],
   "source": [
    "DATASET_PATH = os.path.abspath(\"./dataset/datasetFiltered\")\n",
    "MASK_PATH = os.path.abspath(\"./resources/mask\")\n",
    "DETECTION_JSON = os.path.abspath(\n",
    "    \"./resources/json/md_v5a/29618_images_0_003_threshold.json\"\n",
    ")\n",
    "\n",
    "with open(DETECTION_JSON, \"r\") as f:\n",
    "    result = json.load(f)\n",
    "\n",
    "MASK_PATH = os.path.join(\n",
    "    MASK_PATH,\n",
    "    os.path.basename(DATASET_PATH),\n",
    ")\n",
    "\n",
    "\n",
    "print()\n",
    "print(f\"DATASET_PATH:   {DATASET_PATH}\")\n",
    "print(f\"MASK_PATH:      {MASK_PATH}\")\n",
    "print(f\"DETECTION_JSON: {DETECTION_JSON}\")"
   ]
  },
  {
   "cell_type": "code",
   "execution_count": 17,
   "metadata": {},
   "outputs": [
    {
     "name": "stderr",
     "output_type": "stream",
     "text": [
      "100%|██████████| 29618/29618 [02:24<00:00, 204.80it/s]\n"
     ]
    }
   ],
   "source": [
    "for image in tqdm.tqdm(result[\"images\"]):\n",
    "    input_file = os.path.join(DATASET_PATH, image[\"file\"])\n",
    "    output_file = os.path.join(MASK_PATH, image[\"file\"])\n",
    "    detections = image[\"detections\"]\n",
    "\n",
    "    vu.draw_masks_on_file(input_file, output_file, detections)\n"
   ]
  },
  {
   "cell_type": "code",
   "execution_count": null,
   "metadata": {},
   "outputs": [
    {
     "name": "stdout",
     "output_type": "stream",
     "text": [
      "Number of openable images: 29618\n",
      "Number of not openable images: 0\n",
      "Not openable files: []\n"
     ]
    }
   ],
   "source": [
    "from PIL import Image\n",
    "import os\n",
    "\n",
    "# Ruta base\n",
    "base_path = MASK_PATH\n",
    "\n",
    "# Contadores para las imágenes que se pueden y no se pueden abrir\n",
    "count_openable = 0\n",
    "count_not_openable = 0\n",
    "\n",
    "# Lista para almacenar las rutas de las imágenes que no se pueden abrir\n",
    "not_openable_files = []\n",
    "\n",
    "# Iterar sobre las rutas de las imágenes en el dataset\n",
    "for image in result[\"images\"]:\n",
    "    file_path = image[\"file\"]\n",
    "    absolute_path = base_path + \"/\" + file_path\n",
    "    try:\n",
    "        # Intentar abrir la imagen\n",
    "        img = Image.open(absolute_path)\n",
    "        img.verify()  # Verificar que la imagen se puede abrir\n",
    "        count_openable += 1\n",
    "    except (IOError, SyntaxError) as e:\n",
    "        # Si hay un error, incrementar el contador de imágenes no abiertas\n",
    "        count_not_openable += 1\n",
    "        not_openable_files.append(absolute_path)\n",
    "\n",
    "# Imprimir los resultados\n",
    "print(f\"Number of openable images: {count_openable}\")\n",
    "print(f\"Number of not openable images: {count_not_openable}\")\n",
    "print(f\"Not openable files: {not_openable_files}\")"
   ]
  }
 ],
 "metadata": {
  "kernelspec": {
   "display_name": "cameratraps-detector",
   "language": "python",
   "name": "python3"
  },
  "language_info": {
   "codemirror_mode": {
    "name": "ipython",
    "version": 3
   },
   "file_extension": ".py",
   "mimetype": "text/x-python",
   "name": "python",
   "nbconvert_exporter": "python",
   "pygments_lexer": "ipython3",
   "version": "3.8.15"
  }
 },
 "nbformat": 4,
 "nbformat_minor": 2
}
