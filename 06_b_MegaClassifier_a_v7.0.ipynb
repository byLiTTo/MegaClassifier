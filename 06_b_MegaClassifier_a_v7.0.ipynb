{
 "cells": [
  {
   "metadata": {
    "ExecuteTime": {
     "end_time": "2025-02-24T14:22:50.347844Z",
     "start_time": "2025-02-24T10:47:58.574534Z"
    }
   },
   "cell_type": "code",
   "source": [
    "import os\n",
    "import time\n",
    "\n",
    "import numpy as np\n",
    "import pandas as pd\n",
    "import tensorflow as tf\n",
    "from keras.callbacks import TensorBoard\n",
    "from sklearn.utils.class_weight import compute_class_weight\n",
    "from tensorflow.keras import backend as K\n",
    "from tensorflow.keras.metrics import Precision, Recall, AUC\n",
    "from tensorflow.keras.preprocessing.image import ImageDataGenerator\n",
    "\n",
    "MODEL_NAME = \"MegaClassifier_a\"\n",
    "VERSION_BASE = \"v7\"\n",
    "EPOCHS = 10\n",
    "BATCH_SIZE = 32\n",
    "IMAGE_SIZE = (224, 224)\n",
    "IMAGE_SHAPE = IMAGE_SIZE + (3,)\n",
    "SEED = 42\n",
    "\n",
    "DATASET_CSV = os.path.abspath(\"./data/processed/onlyDetectionsForTrain/onlyDetectionsForTrain.csv\")\n",
    "DATASET_PATH = os.path.dirname(DATASET_CSV)\n",
    "\n",
    "dataset = pd.read_csv(DATASET_CSV, sep=\";\")\n",
    "dataset['file_name'] = dataset['file_name'].apply(lambda x: os.path.join(DATASET_PATH, x))\n",
    "dataset['binary_label'] = dataset['binary_label'].astype(str)\n",
    "\n",
    "train_df = dataset[dataset['subset'] == 'train']\n",
    "validation_df = dataset[dataset['subset'] == 'validation']\n",
    "test_df = dataset[dataset['subset'] == 'test']\n",
    "\n",
    "class_weights = compute_class_weight(class_weight=\"balanced\",\n",
    "                                     classes=np.unique(train_df['binary_label']),\n",
    "                                     y=train_df['binary_label'])\n",
    "class_weight_dict = {i: class_weights[i] for i in range(len(class_weights))}\n",
    "\n",
    "\n",
    "def focal_loss(alpha=0.25, gamma=1.0):\n",
    "    def loss(y_true, y_pred):\n",
    "        epsilon = K.epsilon()\n",
    "        y_pred = K.clip(y_pred, epsilon, 1.0 - epsilon)\n",
    "        pt = tf.where(K.equal(y_true, 1), y_pred, 1 - y_pred)\n",
    "        loss = -K.mean(alpha * K.pow(1. - pt, gamma) * K.log(pt))\n",
    "        return loss\n",
    "\n",
    "    return loss\n",
    "\n",
    "\n",
    "brightness_low_values = [0.7, 0.8, 0.9, 1.0]\n",
    "brightness_high_values = [1.1, 1.2, 1.3, 1.4]\n",
    "\n",
    "\n",
    "def train_and_evaluate(brightness_low, brightness_high, VERSION_INDEX):\n",
    "    brightness_label = f\"Brightness_{brightness_low}-{brightness_high}\"\n",
    "    print(f\"\\n🔹 Entrenando con Brightness {brightness_label} 🔹\")\n",
    "\n",
    "    train_datagen = ImageDataGenerator(\n",
    "        preprocessing_function=tf.keras.applications.mobilenet_v2.preprocess_input,\n",
    "        brightness_range=[brightness_low, brightness_high],\n",
    "        horizontal_flip=True\n",
    "    )\n",
    "\n",
    "    datagen = ImageDataGenerator(preprocessing_function=tf.keras.applications.mobilenet_v2.preprocess_input)\n",
    "\n",
    "    train_images = train_datagen.flow_from_dataframe(\n",
    "        dataframe=train_df,\n",
    "        x_col=\"file_name\",\n",
    "        y_col=\"binary_label\",\n",
    "        target_size=IMAGE_SIZE,\n",
    "        batch_size=BATCH_SIZE,\n",
    "        class_mode=\"binary\",\n",
    "        shuffle=True,\n",
    "        seed=SEED,\n",
    "    )\n",
    "\n",
    "    validation_images = datagen.flow_from_dataframe(\n",
    "        dataframe=validation_df,\n",
    "        x_col=\"file_name\",\n",
    "        y_col=\"binary_label\",\n",
    "        target_size=IMAGE_SIZE,\n",
    "        batch_size=BATCH_SIZE,\n",
    "        class_mode=\"binary\",\n",
    "        shuffle=True,\n",
    "        seed=SEED,\n",
    "    )\n",
    "\n",
    "    test_images = datagen.flow_from_dataframe(\n",
    "        dataframe=test_df,\n",
    "        x_col=\"file_name\",\n",
    "        y_col=\"binary_label\",\n",
    "        target_size=IMAGE_SIZE,\n",
    "        batch_size=BATCH_SIZE,\n",
    "        class_mode=\"binary\",\n",
    "    )\n",
    "\n",
    "    mobilenet_v2 = tf.keras.applications.MobileNetV2(\n",
    "        weights=\"imagenet\",\n",
    "        include_top=False,\n",
    "        input_shape=IMAGE_SHAPE,\n",
    "    )\n",
    "    mobilenet_v2.trainable = False\n",
    "\n",
    "    model = tf.keras.Sequential([\n",
    "        mobilenet_v2,\n",
    "        tf.keras.layers.GlobalAveragePooling2D(),\n",
    "        tf.keras.layers.Dense(1, activation=\"sigmoid\"),\n",
    "    ], name=f\"{MODEL_NAME}_{VERSION_BASE}_{VERSION_INDEX}\")\n",
    "\n",
    "    model.compile(\n",
    "        optimizer=tf.keras.optimizers.Adam(learning_rate=0.0005),\n",
    "        loss=focal_loss(alpha=0.25, gamma=1.0),\n",
    "        metrics=[\"accuracy\", Precision(name=\"precision\"), Recall(name=\"recall\"), AUC(name=\"auc\")],\n",
    "    )\n",
    "\n",
    "    start_time = time.time()\n",
    "    history = model.fit(\n",
    "        train_images,\n",
    "        epochs=EPOCHS,\n",
    "        validation_data=validation_images,\n",
    "        class_weight=class_weight_dict,\n",
    "        callbacks=[\n",
    "            TensorBoard(log_dir=f\"./logs/{MODEL_NAME}/{VERSION_BASE}/{VERSION_BASE}.{VERSION_INDEX}\"),\n",
    "        ]\n",
    "    )\n",
    "    training_time = time.time() - start_time\n",
    "\n",
    "    results = model.evaluate(test_images)\n",
    "\n",
    "    history_df = pd.DataFrame(history.history)\n",
    "    os.makedirs(f\"./logs/{MODEL_NAME}/{VERSION_BASE}/{VERSION_BASE}.{VERSION_INDEX}\", exist_ok=True)\n",
    "    history_df.to_csv(\n",
    "        f\"./logs/{MODEL_NAME}/{VERSION_BASE}/{VERSION_BASE}.{VERSION_INDEX}/history_{VERSION_BASE}.{VERSION_INDEX}.csv\",\n",
    "        index=False)\n",
    "\n",
    "    metric_names = history.model.metrics_names\n",
    "    evaluation_results = {(\"test_\" + name): value for name, value in zip(metric_names, results)}\n",
    "    evaluation_results[\"brightness_range\"] = f\"{brightness_low}-{brightness_high}\"\n",
    "    evaluation_results[\"training_time\"] = training_time\n",
    "\n",
    "    results_df = pd.DataFrame([evaluation_results])\n",
    "    results_df.to_csv(\n",
    "        f\"./logs/{MODEL_NAME}/{VERSION_BASE}/{VERSION_BASE}.{VERSION_INDEX}/results_{VERSION_BASE}.{VERSION_INDEX}.csv\",\n",
    "        index=False)\n",
    "\n",
    "    print(f\"\\n📉 Loss: {results[0]:.4f}\")\n",
    "    print(f\"🎯 Accuracy: {results[1]:.4%}\")\n",
    "    print(f\"✅ Precision: {results[2]:.4%}\")\n",
    "    print(f\"🔄 Recall: {results[3]:.4%}\")\n",
    "    print(f\"📊 AUC: {results[4]:.4f}\")\n",
    "    print(f\"⏳ Tiempo de entrenamiento: {training_time:.2f} segundos\")\n",
    "\n",
    "    return results_df\n",
    "\n",
    "\n",
    "count = 0\n",
    "all_results = []\n",
    "for brightness_low in brightness_low_values:\n",
    "    for brightness_high in brightness_high_values:\n",
    "        if brightness_low < brightness_high:  # Asegurar rangos válidos\n",
    "            results_df = train_and_evaluate(brightness_low, brightness_high, count)\n",
    "            all_results.append(results_df)\n",
    "            count += 1\n",
    "\n",
    "final_results = pd.concat(all_results, ignore_index=True)\n",
    "final_results.to_csv(f\"./logs/{MODEL_NAME}/{VERSION_BASE}/brightness_optimization_results.csv\", index=False)\n",
    "\n",
    "print(\"\\n✅ ¡Evaluación de Brightness completada!\")"
   ],
   "id": "7d11e162eeed628f",
   "outputs": [
    {
     "name": "stdout",
     "output_type": "stream",
     "text": [
      "\n",
      "🔹 Entrenando con Brightness Brightness_0.7-1.1 🔹\n",
      "Found 17054 validated image filenames belonging to 2 classes.\n",
      "Found 4286 validated image filenames belonging to 2 classes.\n",
      "Found 4286 validated image filenames belonging to 2 classes.\n"
     ]
    },
    {
     "name": "stderr",
     "output_type": "stream",
     "text": [
      "WARNING:absl:At this time, the v2.11+ optimizer `tf.keras.optimizers.Adam` runs slowly on M1/M2 Macs, please use the legacy Keras optimizer instead, located at `tf.keras.optimizers.legacy.Adam`.\n",
      "WARNING:absl:There is a known slowdown when using v2.11+ Keras optimizers on M1/M2 Macs. Falling back to the legacy Keras optimizer, i.e., `tf.keras.optimizers.legacy.Adam`.\n"
     ]
    },
    {
     "name": "stdout",
     "output_type": "stream",
     "text": [
      "Epoch 1/10\n"
     ]
    },
    {
     "name": "stderr",
     "output_type": "stream",
     "text": [
      "2025-02-24 11:48:00.122228: I tensorflow/core/grappler/optimizers/custom_graph_optimizer_registry.cc:114] Plugin optimizer for device_type GPU is enabled.\n"
     ]
    },
    {
     "name": "stdout",
     "output_type": "stream",
     "text": [
      "533/533 [==============================] - ETA: 0s - loss: 0.0352 - accuracy: 0.8838 - precision: 0.9115 - recall: 0.9416 - auc: 0.9305"
     ]
    },
    {
     "name": "stderr",
     "output_type": "stream",
     "text": [
      "2025-02-24 11:48:45.595318: I tensorflow/core/grappler/optimizers/custom_graph_optimizer_registry.cc:114] Plugin optimizer for device_type GPU is enabled.\n"
     ]
    },
    {
     "name": "stdout",
     "output_type": "stream",
     "text": [
      "533/533 [==============================] - 58s 106ms/step - loss: 0.0352 - accuracy: 0.8838 - precision: 0.9115 - recall: 0.9416 - auc: 0.9305 - val_loss: 0.0247 - val_accuracy: 0.9244 - val_precision: 0.9358 - val_recall: 0.9510 - val_auc: 0.9752\n",
      "Epoch 2/10\n",
      "533/533 [==============================] - 55s 103ms/step - loss: 0.0259 - accuracy: 0.9148 - precision: 0.9407 - recall: 0.9500 - auc: 0.9641 - val_loss: 0.0228 - val_accuracy: 0.9300 - val_precision: 0.9614 - val_recall: 0.9316 - val_auc: 0.9794\n",
      "Epoch 3/10\n",
      "533/533 [==============================] - 54s 101ms/step - loss: 0.0239 - accuracy: 0.9224 - precision: 0.9468 - recall: 0.9536 - auc: 0.9700 - val_loss: 0.0211 - val_accuracy: 0.9375 - val_precision: 0.9553 - val_recall: 0.9499 - val_auc: 0.9815\n",
      "Epoch 4/10\n",
      "533/533 [==============================] - 54s 102ms/step - loss: 0.0227 - accuracy: 0.9279 - precision: 0.9523 - recall: 0.9548 - auc: 0.9727 - val_loss: 0.0203 - val_accuracy: 0.9400 - val_precision: 0.9445 - val_recall: 0.9661 - val_auc: 0.9834\n",
      "Epoch 5/10\n",
      "533/533 [==============================] - 54s 101ms/step - loss: 0.0219 - accuracy: 0.9290 - precision: 0.9519 - recall: 0.9568 - auc: 0.9748 - val_loss: 0.0200 - val_accuracy: 0.9414 - val_precision: 0.9588 - val_recall: 0.9524 - val_auc: 0.9835\n",
      "Epoch 6/10\n",
      "533/533 [==============================] - 55s 103ms/step - loss: 0.0214 - accuracy: 0.9320 - precision: 0.9546 - recall: 0.9579 - auc: 0.9759 - val_loss: 0.0194 - val_accuracy: 0.9440 - val_precision: 0.9600 - val_recall: 0.9552 - val_auc: 0.9844\n",
      "Epoch 7/10\n",
      "533/533 [==============================] - 55s 102ms/step - loss: 0.0210 - accuracy: 0.9316 - precision: 0.9547 - recall: 0.9571 - auc: 0.9768 - val_loss: 0.0192 - val_accuracy: 0.9438 - val_precision: 0.9561 - val_recall: 0.9591 - val_auc: 0.9849\n",
      "Epoch 8/10\n",
      "533/533 [==============================] - 55s 103ms/step - loss: 0.0205 - accuracy: 0.9346 - precision: 0.9566 - recall: 0.9592 - auc: 0.9779 - val_loss: 0.0209 - val_accuracy: 0.9372 - val_precision: 0.9306 - val_recall: 0.9781 - val_auc: 0.9849\n",
      "Epoch 9/10\n",
      "533/533 [==============================] - 54s 102ms/step - loss: 0.0200 - accuracy: 0.9360 - precision: 0.9582 - recall: 0.9594 - auc: 0.9790 - val_loss: 0.0189 - val_accuracy: 0.9438 - val_precision: 0.9557 - val_recall: 0.9594 - val_auc: 0.9851\n",
      "Epoch 10/10\n",
      "533/533 [==============================] - 54s 102ms/step - loss: 0.0198 - accuracy: 0.9377 - precision: 0.9584 - recall: 0.9613 - auc: 0.9794 - val_loss: 0.0196 - val_accuracy: 0.9421 - val_precision: 0.9712 - val_recall: 0.9404 - val_auc: 0.9853\n",
      "134/134 [==============================] - 11s 82ms/step - loss: 0.0181 - accuracy: 0.9393 - precision: 0.9660 - recall: 0.9415 - auc: 0.9872\n",
      "\n",
      "📉 Loss: 0.0181\n",
      "🎯 Accuracy: 93.9337%\n",
      "✅ Precision: 96.5991%\n",
      "🔄 Recall: 94.1467%\n",
      "📊 AUC: 0.9872\n",
      "⏳ Tiempo de entrenamiento: 548.62 segundos\n",
      "\n",
      "🔹 Entrenando con Brightness Brightness_0.7-1.2 🔹\n",
      "Found 17054 validated image filenames belonging to 2 classes.\n",
      "Found 4286 validated image filenames belonging to 2 classes.\n",
      "Found 4286 validated image filenames belonging to 2 classes.\n"
     ]
    },
    {
     "name": "stderr",
     "output_type": "stream",
     "text": [
      "WARNING:absl:At this time, the v2.11+ optimizer `tf.keras.optimizers.Adam` runs slowly on M1/M2 Macs, please use the legacy Keras optimizer instead, located at `tf.keras.optimizers.legacy.Adam`.\n",
      "WARNING:absl:There is a known slowdown when using v2.11+ Keras optimizers on M1/M2 Macs. Falling back to the legacy Keras optimizer, i.e., `tf.keras.optimizers.legacy.Adam`.\n"
     ]
    },
    {
     "name": "stdout",
     "output_type": "stream",
     "text": [
      "Epoch 1/10\n"
     ]
    },
    {
     "name": "stderr",
     "output_type": "stream",
     "text": [
      "2025-02-24 11:57:20.385318: I tensorflow/core/grappler/optimizers/custom_graph_optimizer_registry.cc:114] Plugin optimizer for device_type GPU is enabled.\n"
     ]
    },
    {
     "name": "stdout",
     "output_type": "stream",
     "text": [
      "533/533 [==============================] - ETA: 0s - loss: 0.0401 - accuracy: 0.8602 - precision: 0.8955 - recall: 0.9279 - auc: 0.9090"
     ]
    },
    {
     "name": "stderr",
     "output_type": "stream",
     "text": [
      "2025-02-24 11:58:05.103636: I tensorflow/core/grappler/optimizers/custom_graph_optimizer_registry.cc:114] Plugin optimizer for device_type GPU is enabled.\n"
     ]
    },
    {
     "name": "stdout",
     "output_type": "stream",
     "text": [
      "533/533 [==============================] - 57s 104ms/step - loss: 0.0401 - accuracy: 0.8602 - precision: 0.8955 - recall: 0.9279 - auc: 0.9090 - val_loss: 0.0278 - val_accuracy: 0.9160 - val_precision: 0.9399 - val_recall: 0.9327 - val_auc: 0.9684\n",
      "Epoch 2/10\n",
      "533/533 [==============================] - 54s 102ms/step - loss: 0.0272 - accuracy: 0.9094 - precision: 0.9372 - recall: 0.9466 - auc: 0.9605 - val_loss: 0.0240 - val_accuracy: 0.9265 - val_precision: 0.9526 - val_recall: 0.9355 - val_auc: 0.9759\n",
      "Epoch 3/10\n",
      "533/533 [==============================] - 55s 103ms/step - loss: 0.0249 - accuracy: 0.9195 - precision: 0.9458 - recall: 0.9506 - auc: 0.9673 - val_loss: 0.0226 - val_accuracy: 0.9323 - val_precision: 0.9563 - val_recall: 0.9408 - val_auc: 0.9778\n",
      "Epoch 4/10\n",
      "533/533 [==============================] - 54s 102ms/step - loss: 0.0231 - accuracy: 0.9240 - precision: 0.9482 - recall: 0.9541 - auc: 0.9718 - val_loss: 0.0214 - val_accuracy: 0.9363 - val_precision: 0.9556 - val_recall: 0.9478 - val_auc: 0.9804\n",
      "Epoch 5/10\n",
      "533/533 [==============================] - 54s 102ms/step - loss: 0.0225 - accuracy: 0.9286 - precision: 0.9513 - recall: 0.9568 - auc: 0.9735 - val_loss: 0.0237 - val_accuracy: 0.9221 - val_precision: 0.9735 - val_recall: 0.9069 - val_auc: 0.9809\n",
      "Epoch 6/10\n",
      "533/533 [==============================] - 54s 102ms/step - loss: 0.0216 - accuracy: 0.9307 - precision: 0.9544 - recall: 0.9563 - auc: 0.9754 - val_loss: 0.0202 - val_accuracy: 0.9372 - val_precision: 0.9502 - val_recall: 0.9552 - val_auc: 0.9830\n",
      "Epoch 7/10\n",
      "533/533 [==============================] - 55s 103ms/step - loss: 0.0212 - accuracy: 0.9328 - precision: 0.9544 - recall: 0.9592 - auc: 0.9766 - val_loss: 0.0203 - val_accuracy: 0.9412 - val_precision: 0.9514 - val_recall: 0.9602 - val_auc: 0.9828\n",
      "Epoch 8/10\n",
      "533/533 [==============================] - 54s 102ms/step - loss: 0.0204 - accuracy: 0.9340 - precision: 0.9560 - recall: 0.9591 - auc: 0.9780 - val_loss: 0.0200 - val_accuracy: 0.9400 - val_precision: 0.9640 - val_recall: 0.9446 - val_auc: 0.9833\n",
      "Epoch 9/10\n",
      "533/533 [==============================] - 54s 102ms/step - loss: 0.0201 - accuracy: 0.9360 - precision: 0.9579 - recall: 0.9597 - auc: 0.9789 - val_loss: 0.0202 - val_accuracy: 0.9386 - val_precision: 0.9435 - val_recall: 0.9651 - val_auc: 0.9840\n",
      "Epoch 10/10\n",
      "533/533 [==============================] - 54s 102ms/step - loss: 0.0202 - accuracy: 0.9333 - precision: 0.9561 - recall: 0.9580 - auc: 0.9784 - val_loss: 0.0203 - val_accuracy: 0.9393 - val_precision: 0.9711 - val_recall: 0.9362 - val_auc: 0.9844\n",
      "134/134 [==============================] - 11s 82ms/step - loss: 0.0186 - accuracy: 0.9414 - precision: 0.9681 - recall: 0.9425 - auc: 0.9863\n",
      "\n",
      "📉 Loss: 0.0186\n",
      "🎯 Accuracy: 94.1437%\n",
      "✅ Precision: 96.8127%\n",
      "🔄 Recall: 94.2525%\n",
      "📊 AUC: 0.9863\n",
      "⏳ Tiempo de entrenamiento: 547.17 segundos\n",
      "\n",
      "🔹 Entrenando con Brightness Brightness_0.7-1.3 🔹\n",
      "Found 17054 validated image filenames belonging to 2 classes.\n",
      "Found 4286 validated image filenames belonging to 2 classes.\n",
      "Found 4286 validated image filenames belonging to 2 classes.\n"
     ]
    },
    {
     "name": "stderr",
     "output_type": "stream",
     "text": [
      "WARNING:absl:At this time, the v2.11+ optimizer `tf.keras.optimizers.Adam` runs slowly on M1/M2 Macs, please use the legacy Keras optimizer instead, located at `tf.keras.optimizers.legacy.Adam`.\n",
      "WARNING:absl:There is a known slowdown when using v2.11+ Keras optimizers on M1/M2 Macs. Falling back to the legacy Keras optimizer, i.e., `tf.keras.optimizers.legacy.Adam`.\n"
     ]
    },
    {
     "name": "stdout",
     "output_type": "stream",
     "text": [
      "Epoch 1/10\n"
     ]
    },
    {
     "name": "stderr",
     "output_type": "stream",
     "text": [
      "2025-02-24 12:06:39.863756: I tensorflow/core/grappler/optimizers/custom_graph_optimizer_registry.cc:114] Plugin optimizer for device_type GPU is enabled.\n"
     ]
    },
    {
     "name": "stdout",
     "output_type": "stream",
     "text": [
      "533/533 [==============================] - ETA: 0s - loss: 0.0338 - accuracy: 0.8839 - precision: 0.9125 - recall: 0.9405 - auc: 0.9363"
     ]
    },
    {
     "name": "stderr",
     "output_type": "stream",
     "text": [
      "2025-02-24 12:07:24.032449: I tensorflow/core/grappler/optimizers/custom_graph_optimizer_registry.cc:114] Plugin optimizer for device_type GPU is enabled.\n"
     ]
    },
    {
     "name": "stdout",
     "output_type": "stream",
     "text": [
      "533/533 [==============================] - 56s 103ms/step - loss: 0.0338 - accuracy: 0.8839 - precision: 0.9125 - recall: 0.9405 - auc: 0.9363 - val_loss: 0.0294 - val_accuracy: 0.9195 - val_precision: 0.9332 - val_recall: 0.9461 - val_auc: 0.9674\n",
      "Epoch 2/10\n",
      "533/533 [==============================] - 54s 101ms/step - loss: 0.0260 - accuracy: 0.9144 - precision: 0.9412 - recall: 0.9488 - auc: 0.9640 - val_loss: 0.0257 - val_accuracy: 0.9328 - val_precision: 0.9439 - val_recall: 0.9552 - val_auc: 0.9744\n",
      "Epoch 3/10\n",
      "533/533 [==============================] - 55s 102ms/step - loss: 0.0244 - accuracy: 0.9210 - precision: 0.9461 - recall: 0.9523 - auc: 0.9688 - val_loss: 0.0228 - val_accuracy: 0.9375 - val_precision: 0.9477 - val_recall: 0.9584 - val_auc: 0.9784\n",
      "Epoch 4/10\n",
      "533/533 [==============================] - 54s 102ms/step - loss: 0.0230 - accuracy: 0.9251 - precision: 0.9500 - recall: 0.9536 - auc: 0.9720 - val_loss: 0.0224 - val_accuracy: 0.9389 - val_precision: 0.9494 - val_recall: 0.9587 - val_auc: 0.9787\n",
      "Epoch 5/10\n",
      "533/533 [==============================] - 55s 104ms/step - loss: 0.0222 - accuracy: 0.9286 - precision: 0.9516 - recall: 0.9565 - auc: 0.9741 - val_loss: 0.0211 - val_accuracy: 0.9384 - val_precision: 0.9573 - val_recall: 0.9492 - val_auc: 0.9809\n",
      "Epoch 6/10\n",
      "533/533 [==============================] - 56s 105ms/step - loss: 0.0216 - accuracy: 0.9299 - precision: 0.9535 - recall: 0.9563 - auc: 0.9754 - val_loss: 0.0206 - val_accuracy: 0.9412 - val_precision: 0.9533 - val_recall: 0.9580 - val_auc: 0.9813\n",
      "Epoch 7/10\n",
      "533/533 [==============================] - 54s 102ms/step - loss: 0.0212 - accuracy: 0.9314 - precision: 0.9551 - recall: 0.9564 - auc: 0.9763 - val_loss: 0.0204 - val_accuracy: 0.9384 - val_precision: 0.9606 - val_recall: 0.9457 - val_auc: 0.9828\n",
      "Epoch 8/10\n",
      "533/533 [==============================] - 54s 101ms/step - loss: 0.0206 - accuracy: 0.9335 - precision: 0.9550 - recall: 0.9595 - auc: 0.9777 - val_loss: 0.0199 - val_accuracy: 0.9410 - val_precision: 0.9588 - val_recall: 0.9517 - val_auc: 0.9832\n",
      "Epoch 9/10\n",
      "533/533 [==============================] - 55s 103ms/step - loss: 0.0205 - accuracy: 0.9337 - precision: 0.9557 - recall: 0.9589 - auc: 0.9779 - val_loss: 0.0196 - val_accuracy: 0.9459 - val_precision: 0.9581 - val_recall: 0.9602 - val_auc: 0.9837\n",
      "Epoch 10/10\n",
      "533/533 [==============================] - 55s 103ms/step - loss: 0.0201 - accuracy: 0.9349 - precision: 0.9578 - recall: 0.9582 - auc: 0.9788 - val_loss: 0.0198 - val_accuracy: 0.9414 - val_precision: 0.9598 - val_recall: 0.9513 - val_auc: 0.9833\n",
      "134/134 [==============================] - 11s 84ms/step - loss: 0.0178 - accuracy: 0.9428 - precision: 0.9563 - recall: 0.9573 - auc: 0.9867\n",
      "\n",
      "📉 Loss: 0.0178\n",
      "🎯 Accuracy: 94.2837%\n",
      "✅ Precision: 95.6323%\n",
      "🔄 Recall: 95.7334%\n",
      "📊 AUC: 0.9867\n",
      "⏳ Tiempo de entrenamiento: 548.08 segundos\n",
      "\n",
      "🔹 Entrenando con Brightness Brightness_0.7-1.4 🔹\n",
      "Found 17054 validated image filenames belonging to 2 classes.\n",
      "Found 4286 validated image filenames belonging to 2 classes.\n",
      "Found 4286 validated image filenames belonging to 2 classes.\n"
     ]
    },
    {
     "name": "stderr",
     "output_type": "stream",
     "text": [
      "WARNING:absl:At this time, the v2.11+ optimizer `tf.keras.optimizers.Adam` runs slowly on M1/M2 Macs, please use the legacy Keras optimizer instead, located at `tf.keras.optimizers.legacy.Adam`.\n",
      "WARNING:absl:There is a known slowdown when using v2.11+ Keras optimizers on M1/M2 Macs. Falling back to the legacy Keras optimizer, i.e., `tf.keras.optimizers.legacy.Adam`.\n"
     ]
    },
    {
     "name": "stdout",
     "output_type": "stream",
     "text": [
      "Epoch 1/10\n"
     ]
    },
    {
     "name": "stderr",
     "output_type": "stream",
     "text": [
      "2025-02-24 12:16:00.143426: I tensorflow/core/grappler/optimizers/custom_graph_optimizer_registry.cc:114] Plugin optimizer for device_type GPU is enabled.\n"
     ]
    },
    {
     "name": "stdout",
     "output_type": "stream",
     "text": [
      "533/533 [==============================] - ETA: 0s - loss: 0.0387 - accuracy: 0.8678 - precision: 0.9019 - recall: 0.9307 - auc: 0.9151"
     ]
    },
    {
     "name": "stderr",
     "output_type": "stream",
     "text": [
      "2025-02-24 12:16:45.593274: I tensorflow/core/grappler/optimizers/custom_graph_optimizer_registry.cc:114] Plugin optimizer for device_type GPU is enabled.\n"
     ]
    },
    {
     "name": "stdout",
     "output_type": "stream",
     "text": [
      "533/533 [==============================] - 57s 105ms/step - loss: 0.0387 - accuracy: 0.8678 - precision: 0.9019 - recall: 0.9307 - auc: 0.9151 - val_loss: 0.0267 - val_accuracy: 0.9160 - val_precision: 0.9384 - val_recall: 0.9344 - val_auc: 0.9700\n",
      "Epoch 2/10\n",
      "533/533 [==============================] - 54s 101ms/step - loss: 0.0268 - accuracy: 0.9127 - precision: 0.9393 - recall: 0.9486 - auc: 0.9611 - val_loss: 0.0238 - val_accuracy: 0.9267 - val_precision: 0.9504 - val_recall: 0.9383 - val_auc: 0.9767\n",
      "Epoch 3/10\n",
      "533/533 [==============================] - 55s 103ms/step - loss: 0.0248 - accuracy: 0.9190 - precision: 0.9450 - recall: 0.9508 - auc: 0.9674 - val_loss: 0.0222 - val_accuracy: 0.9312 - val_precision: 0.9555 - val_recall: 0.9397 - val_auc: 0.9796\n",
      "Epoch 4/10\n",
      "533/533 [==============================] - 56s 104ms/step - loss: 0.0234 - accuracy: 0.9260 - precision: 0.9502 - recall: 0.9545 - auc: 0.9708 - val_loss: 0.0209 - val_accuracy: 0.9375 - val_precision: 0.9531 - val_recall: 0.9524 - val_auc: 0.9814\n",
      "Epoch 5/10\n",
      "533/533 [==============================] - 56s 105ms/step - loss: 0.0227 - accuracy: 0.9287 - precision: 0.9526 - recall: 0.9555 - auc: 0.9727 - val_loss: 0.0207 - val_accuracy: 0.9396 - val_precision: 0.9491 - val_recall: 0.9602 - val_auc: 0.9817\n",
      "Epoch 6/10\n",
      "533/533 [==============================] - 58s 108ms/step - loss: 0.0218 - accuracy: 0.9312 - precision: 0.9538 - recall: 0.9576 - auc: 0.9748 - val_loss: 0.0202 - val_accuracy: 0.9412 - val_precision: 0.9565 - val_recall: 0.9545 - val_auc: 0.9821\n",
      "Epoch 7/10\n",
      "533/533 [==============================] - 55s 104ms/step - loss: 0.0215 - accuracy: 0.9296 - precision: 0.9535 - recall: 0.9558 - auc: 0.9757 - val_loss: 0.0198 - val_accuracy: 0.9431 - val_precision: 0.9516 - val_recall: 0.9630 - val_auc: 0.9836\n",
      "Epoch 8/10\n",
      "533/533 [==============================] - 54s 101ms/step - loss: 0.0211 - accuracy: 0.9325 - precision: 0.9549 - recall: 0.9582 - auc: 0.9763 - val_loss: 0.0199 - val_accuracy: 0.9431 - val_precision: 0.9635 - val_recall: 0.9499 - val_auc: 0.9832\n",
      "Epoch 9/10\n",
      "533/533 [==============================] - 54s 102ms/step - loss: 0.0205 - accuracy: 0.9353 - precision: 0.9573 - recall: 0.9593 - auc: 0.9780 - val_loss: 0.0201 - val_accuracy: 0.9435 - val_precision: 0.9485 - val_recall: 0.9672 - val_auc: 0.9834\n",
      "Epoch 10/10\n",
      "533/533 [==============================] - 54s 101ms/step - loss: 0.0204 - accuracy: 0.9356 - precision: 0.9567 - recall: 0.9603 - auc: 0.9779 - val_loss: 0.0197 - val_accuracy: 0.9438 - val_precision: 0.9616 - val_recall: 0.9531 - val_auc: 0.9834\n",
      "134/134 [==============================] - 11s 81ms/step - loss: 0.0178 - accuracy: 0.9424 - precision: 0.9569 - recall: 0.9559 - auc: 0.9867\n",
      "\n",
      "📉 Loss: 0.0178\n",
      "🎯 Accuracy: 94.2371%\n",
      "✅ Precision: 95.6936%\n",
      "🔄 Recall: 95.5924%\n",
      "📊 AUC: 0.9867\n",
      "⏳ Tiempo de entrenamiento: 552.68 segundos\n",
      "\n",
      "🔹 Entrenando con Brightness Brightness_0.8-1.1 🔹\n",
      "Found 17054 validated image filenames belonging to 2 classes.\n",
      "Found 4286 validated image filenames belonging to 2 classes.\n",
      "Found 4286 validated image filenames belonging to 2 classes.\n"
     ]
    },
    {
     "name": "stderr",
     "output_type": "stream",
     "text": [
      "WARNING:absl:At this time, the v2.11+ optimizer `tf.keras.optimizers.Adam` runs slowly on M1/M2 Macs, please use the legacy Keras optimizer instead, located at `tf.keras.optimizers.legacy.Adam`.\n",
      "WARNING:absl:There is a known slowdown when using v2.11+ Keras optimizers on M1/M2 Macs. Falling back to the legacy Keras optimizer, i.e., `tf.keras.optimizers.legacy.Adam`.\n"
     ]
    },
    {
     "name": "stdout",
     "output_type": "stream",
     "text": [
      "Epoch 1/10\n"
     ]
    },
    {
     "name": "stderr",
     "output_type": "stream",
     "text": [
      "2025-02-24 12:25:24.506240: I tensorflow/core/grappler/optimizers/custom_graph_optimizer_registry.cc:114] Plugin optimizer for device_type GPU is enabled.\n"
     ]
    },
    {
     "name": "stdout",
     "output_type": "stream",
     "text": [
      "533/533 [==============================] - ETA: 0s - loss: 0.0344 - accuracy: 0.8860 - precision: 0.9129 - recall: 0.9429 - auc: 0.9348"
     ]
    },
    {
     "name": "stderr",
     "output_type": "stream",
     "text": [
      "2025-02-24 12:26:08.431375: I tensorflow/core/grappler/optimizers/custom_graph_optimizer_registry.cc:114] Plugin optimizer for device_type GPU is enabled.\n"
     ]
    },
    {
     "name": "stdout",
     "output_type": "stream",
     "text": [
      "533/533 [==============================] - 55s 102ms/step - loss: 0.0344 - accuracy: 0.8860 - precision: 0.9129 - recall: 0.9429 - auc: 0.9348 - val_loss: 0.0248 - val_accuracy: 0.9221 - val_precision: 0.9449 - val_recall: 0.9369 - val_auc: 0.9744\n",
      "Epoch 2/10\n",
      "533/533 [==============================] - 54s 102ms/step - loss: 0.0260 - accuracy: 0.9176 - precision: 0.9426 - recall: 0.9516 - auc: 0.9638 - val_loss: 0.0224 - val_accuracy: 0.9309 - val_precision: 0.9565 - val_recall: 0.9383 - val_auc: 0.9802\n",
      "Epoch 3/10\n",
      "533/533 [==============================] - 53s 100ms/step - loss: 0.0242 - accuracy: 0.9226 - precision: 0.9464 - recall: 0.9542 - auc: 0.9691 - val_loss: 0.0212 - val_accuracy: 0.9347 - val_precision: 0.9591 - val_recall: 0.9415 - val_auc: 0.9818\n",
      "Epoch 4/10\n",
      "533/533 [==============================] - 54s 101ms/step - loss: 0.0228 - accuracy: 0.9282 - precision: 0.9521 - recall: 0.9554 - auc: 0.9724 - val_loss: 0.0204 - val_accuracy: 0.9410 - val_precision: 0.9530 - val_recall: 0.9580 - val_auc: 0.9830\n",
      "Epoch 5/10\n",
      "533/533 [==============================] - 54s 101ms/step - loss: 0.0220 - accuracy: 0.9307 - precision: 0.9535 - recall: 0.9573 - auc: 0.9745 - val_loss: 0.0203 - val_accuracy: 0.9358 - val_precision: 0.9417 - val_recall: 0.9626 - val_auc: 0.9835\n",
      "Epoch 6/10\n",
      "533/533 [==============================] - 54s 102ms/step - loss: 0.0214 - accuracy: 0.9299 - precision: 0.9533 - recall: 0.9564 - auc: 0.9757 - val_loss: 0.0200 - val_accuracy: 0.9384 - val_precision: 0.9629 - val_recall: 0.9432 - val_auc: 0.9839\n",
      "Epoch 7/10\n",
      "533/533 [==============================] - 53s 100ms/step - loss: 0.0209 - accuracy: 0.9344 - precision: 0.9570 - recall: 0.9585 - auc: 0.9769 - val_loss: 0.0195 - val_accuracy: 0.9403 - val_precision: 0.9504 - val_recall: 0.9598 - val_auc: 0.9844\n",
      "Epoch 8/10\n",
      "533/533 [==============================] - 54s 101ms/step - loss: 0.0203 - accuracy: 0.9365 - precision: 0.9573 - recall: 0.9609 - auc: 0.9782 - val_loss: 0.0195 - val_accuracy: 0.9424 - val_precision: 0.9503 - val_recall: 0.9633 - val_auc: 0.9844\n",
      "Epoch 9/10\n",
      "533/533 [==============================] - 54s 101ms/step - loss: 0.0200 - accuracy: 0.9363 - precision: 0.9580 - recall: 0.9600 - auc: 0.9790 - val_loss: 0.0206 - val_accuracy: 0.9386 - val_precision: 0.9732 - val_recall: 0.9330 - val_auc: 0.9845\n",
      "Epoch 10/10\n",
      "533/533 [==============================] - 54s 101ms/step - loss: 0.0195 - accuracy: 0.9378 - precision: 0.9582 - recall: 0.9617 - auc: 0.9799 - val_loss: 0.0194 - val_accuracy: 0.9414 - val_precision: 0.9585 - val_recall: 0.9528 - val_auc: 0.9842\n",
      "134/134 [==============================] - 11s 80ms/step - loss: 0.0180 - accuracy: 0.9454 - precision: 0.9575 - recall: 0.9602 - auc: 0.9864\n",
      "\n",
      "📉 Loss: 0.0180\n",
      "🎯 Accuracy: 94.5404%\n",
      "✅ Precision: 95.7454%\n",
      "🔄 Recall: 96.0155%\n",
      "📊 AUC: 0.9864\n",
      "⏳ Tiempo de entrenamiento: 539.78 segundos\n",
      "\n",
      "🔹 Entrenando con Brightness Brightness_0.8-1.2 🔹\n",
      "Found 17054 validated image filenames belonging to 2 classes.\n",
      "Found 4286 validated image filenames belonging to 2 classes.\n",
      "Found 4286 validated image filenames belonging to 2 classes.\n"
     ]
    },
    {
     "name": "stderr",
     "output_type": "stream",
     "text": [
      "WARNING:absl:At this time, the v2.11+ optimizer `tf.keras.optimizers.Adam` runs slowly on M1/M2 Macs, please use the legacy Keras optimizer instead, located at `tf.keras.optimizers.legacy.Adam`.\n",
      "WARNING:absl:There is a known slowdown when using v2.11+ Keras optimizers on M1/M2 Macs. Falling back to the legacy Keras optimizer, i.e., `tf.keras.optimizers.legacy.Adam`.\n"
     ]
    },
    {
     "name": "stdout",
     "output_type": "stream",
     "text": [
      "Epoch 1/10\n"
     ]
    },
    {
     "name": "stderr",
     "output_type": "stream",
     "text": [
      "2025-02-24 12:34:36.298148: I tensorflow/core/grappler/optimizers/custom_graph_optimizer_registry.cc:114] Plugin optimizer for device_type GPU is enabled.\n"
     ]
    },
    {
     "name": "stdout",
     "output_type": "stream",
     "text": [
      "533/533 [==============================] - ETA: 0s - loss: 0.0351 - accuracy: 0.8767 - precision: 0.9092 - recall: 0.9343 - auc: 0.9315"
     ]
    },
    {
     "name": "stderr",
     "output_type": "stream",
     "text": [
      "2025-02-24 12:35:19.919309: I tensorflow/core/grappler/optimizers/custom_graph_optimizer_registry.cc:114] Plugin optimizer for device_type GPU is enabled.\n"
     ]
    },
    {
     "name": "stdout",
     "output_type": "stream",
     "text": [
      "533/533 [==============================] - 56s 102ms/step - loss: 0.0351 - accuracy: 0.8767 - precision: 0.9092 - recall: 0.9343 - auc: 0.9315 - val_loss: 0.0252 - val_accuracy: 0.9211 - val_precision: 0.9392 - val_recall: 0.9418 - val_auc: 0.9747\n",
      "Epoch 2/10\n",
      "533/533 [==============================] - 54s 101ms/step - loss: 0.0260 - accuracy: 0.9138 - precision: 0.9395 - recall: 0.9500 - auc: 0.9639 - val_loss: 0.0232 - val_accuracy: 0.9295 - val_precision: 0.9614 - val_recall: 0.9309 - val_auc: 0.9790\n",
      "Epoch 3/10\n",
      "533/533 [==============================] - 54s 101ms/step - loss: 0.0240 - accuracy: 0.9215 - precision: 0.9465 - recall: 0.9526 - auc: 0.9693 - val_loss: 0.0216 - val_accuracy: 0.9337 - val_precision: 0.9455 - val_recall: 0.9549 - val_auc: 0.9808\n",
      "Epoch 4/10\n",
      "533/533 [==============================] - 54s 101ms/step - loss: 0.0230 - accuracy: 0.9248 - precision: 0.9490 - recall: 0.9542 - auc: 0.9720 - val_loss: 0.0209 - val_accuracy: 0.9382 - val_precision: 0.9619 - val_recall: 0.9439 - val_auc: 0.9817\n",
      "Epoch 5/10\n",
      "533/533 [==============================] - 56s 105ms/step - loss: 0.0221 - accuracy: 0.9289 - precision: 0.9523 - recall: 0.9561 - auc: 0.9741 - val_loss: 0.0205 - val_accuracy: 0.9389 - val_precision: 0.9541 - val_recall: 0.9535 - val_auc: 0.9827\n",
      "Epoch 6/10\n",
      "533/533 [==============================] - 54s 101ms/step - loss: 0.0214 - accuracy: 0.9312 - precision: 0.9535 - recall: 0.9579 - auc: 0.9759 - val_loss: 0.0206 - val_accuracy: 0.9386 - val_precision: 0.9616 - val_recall: 0.9450 - val_auc: 0.9823\n",
      "Epoch 7/10\n",
      "533/533 [==============================] - 55s 103ms/step - loss: 0.0211 - accuracy: 0.9326 - precision: 0.9549 - recall: 0.9583 - auc: 0.9766 - val_loss: 0.0204 - val_accuracy: 0.9419 - val_precision: 0.9641 - val_recall: 0.9475 - val_auc: 0.9828\n",
      "Epoch 8/10\n",
      "533/533 [==============================] - 56s 104ms/step - loss: 0.0205 - accuracy: 0.9331 - precision: 0.9563 - recall: 0.9574 - auc: 0.9779 - val_loss: 0.0201 - val_accuracy: 0.9405 - val_precision: 0.9604 - val_recall: 0.9492 - val_auc: 0.9832\n",
      "Epoch 9/10\n",
      "533/533 [==============================] - 55s 103ms/step - loss: 0.0200 - accuracy: 0.9354 - precision: 0.9567 - recall: 0.9601 - auc: 0.9791 - val_loss: 0.0201 - val_accuracy: 0.9393 - val_precision: 0.9677 - val_recall: 0.9397 - val_auc: 0.9843\n",
      "Epoch 10/10\n",
      "533/533 [==============================] - 54s 102ms/step - loss: 0.0197 - accuracy: 0.9365 - precision: 0.9579 - recall: 0.9603 - auc: 0.9796 - val_loss: 0.0192 - val_accuracy: 0.9438 - val_precision: 0.9593 - val_recall: 0.9556 - val_auc: 0.9844\n",
      "134/134 [==============================] - 11s 80ms/step - loss: 0.0175 - accuracy: 0.9428 - precision: 0.9550 - recall: 0.9587 - auc: 0.9875\n",
      "\n",
      "📉 Loss: 0.0175\n",
      "🎯 Accuracy: 94.2837%\n",
      "✅ Precision: 95.5040%\n",
      "🔄 Recall: 95.8745%\n",
      "📊 AUC: 0.9875\n",
      "⏳ Tiempo de entrenamiento: 547.49 segundos\n",
      "\n",
      "🔹 Entrenando con Brightness Brightness_0.8-1.3 🔹\n",
      "Found 17054 validated image filenames belonging to 2 classes.\n",
      "Found 4286 validated image filenames belonging to 2 classes.\n",
      "Found 4286 validated image filenames belonging to 2 classes.\n"
     ]
    },
    {
     "name": "stderr",
     "output_type": "stream",
     "text": [
      "WARNING:absl:At this time, the v2.11+ optimizer `tf.keras.optimizers.Adam` runs slowly on M1/M2 Macs, please use the legacy Keras optimizer instead, located at `tf.keras.optimizers.legacy.Adam`.\n",
      "WARNING:absl:There is a known slowdown when using v2.11+ Keras optimizers on M1/M2 Macs. Falling back to the legacy Keras optimizer, i.e., `tf.keras.optimizers.legacy.Adam`.\n"
     ]
    },
    {
     "name": "stdout",
     "output_type": "stream",
     "text": [
      "Epoch 1/10\n"
     ]
    },
    {
     "name": "stderr",
     "output_type": "stream",
     "text": [
      "2025-02-24 12:43:54.894824: I tensorflow/core/grappler/optimizers/custom_graph_optimizer_registry.cc:114] Plugin optimizer for device_type GPU is enabled.\n"
     ]
    },
    {
     "name": "stdout",
     "output_type": "stream",
     "text": [
      "533/533 [==============================] - ETA: 0s - loss: 0.0363 - accuracy: 0.8719 - precision: 0.9018 - recall: 0.9368 - auc: 0.9250"
     ]
    },
    {
     "name": "stderr",
     "output_type": "stream",
     "text": [
      "2025-02-24 12:44:38.834936: I tensorflow/core/grappler/optimizers/custom_graph_optimizer_registry.cc:114] Plugin optimizer for device_type GPU is enabled.\n"
     ]
    },
    {
     "name": "stdout",
     "output_type": "stream",
     "text": [
      "533/533 [==============================] - 56s 102ms/step - loss: 0.0363 - accuracy: 0.8719 - precision: 0.9018 - recall: 0.9368 - auc: 0.9250 - val_loss: 0.0278 - val_accuracy: 0.9146 - val_precision: 0.9321 - val_recall: 0.9394 - val_auc: 0.9697\n",
      "Epoch 2/10\n",
      "533/533 [==============================] - 53s 100ms/step - loss: 0.0265 - accuracy: 0.9117 - precision: 0.9394 - recall: 0.9472 - auc: 0.9625 - val_loss: 0.0257 - val_accuracy: 0.9281 - val_precision: 0.9395 - val_recall: 0.9528 - val_auc: 0.9747\n",
      "Epoch 3/10\n",
      "533/533 [==============================] - 53s 99ms/step - loss: 0.0242 - accuracy: 0.9227 - precision: 0.9459 - recall: 0.9549 - auc: 0.9689 - val_loss: 0.0226 - val_accuracy: 0.9323 - val_precision: 0.9540 - val_recall: 0.9432 - val_auc: 0.9784\n",
      "Epoch 4/10\n",
      "533/533 [==============================] - 53s 99ms/step - loss: 0.0232 - accuracy: 0.9253 - precision: 0.9505 - recall: 0.9533 - auc: 0.9717 - val_loss: 0.0221 - val_accuracy: 0.9335 - val_precision: 0.9391 - val_recall: 0.9619 - val_auc: 0.9798\n",
      "Epoch 5/10\n",
      "533/533 [==============================] - 53s 99ms/step - loss: 0.0221 - accuracy: 0.9289 - precision: 0.9521 - recall: 0.9564 - auc: 0.9744 - val_loss: 0.0212 - val_accuracy: 0.9389 - val_precision: 0.9494 - val_recall: 0.9587 - val_auc: 0.9809\n",
      "Epoch 6/10\n",
      "533/533 [==============================] - 53s 99ms/step - loss: 0.0213 - accuracy: 0.9319 - precision: 0.9545 - recall: 0.9578 - auc: 0.9760 - val_loss: 0.0225 - val_accuracy: 0.9354 - val_precision: 0.9315 - val_recall: 0.9739 - val_auc: 0.9818\n",
      "Epoch 7/10\n",
      "533/533 [==============================] - 53s 100ms/step - loss: 0.0212 - accuracy: 0.9333 - precision: 0.9547 - recall: 0.9595 - auc: 0.9765 - val_loss: 0.0206 - val_accuracy: 0.9440 - val_precision: 0.9526 - val_recall: 0.9633 - val_auc: 0.9819\n",
      "Epoch 8/10\n",
      "533/533 [==============================] - 53s 99ms/step - loss: 0.0207 - accuracy: 0.9342 - precision: 0.9556 - recall: 0.9596 - auc: 0.9773 - val_loss: 0.0204 - val_accuracy: 0.9407 - val_precision: 0.9543 - val_recall: 0.9563 - val_auc: 0.9819\n",
      "Epoch 9/10\n",
      "533/533 [==============================] - 53s 100ms/step - loss: 0.0204 - accuracy: 0.9347 - precision: 0.9559 - recall: 0.9600 - auc: 0.9782 - val_loss: 0.0204 - val_accuracy: 0.9403 - val_precision: 0.9520 - val_recall: 0.9580 - val_auc: 0.9823\n",
      "Epoch 10/10\n",
      "533/533 [==============================] - 53s 99ms/step - loss: 0.0200 - accuracy: 0.9357 - precision: 0.9576 - recall: 0.9595 - auc: 0.9789 - val_loss: 0.0202 - val_accuracy: 0.9428 - val_precision: 0.9528 - val_recall: 0.9612 - val_auc: 0.9828\n",
      "134/134 [==============================] - 11s 79ms/step - loss: 0.0187 - accuracy: 0.9398 - precision: 0.9423 - recall: 0.9683 - auc: 0.9861\n",
      "\n",
      "📉 Loss: 0.0187\n",
      "🎯 Accuracy: 93.9804%\n",
      "✅ Precision: 94.2347%\n",
      "🔄 Recall: 96.8265%\n",
      "📊 AUC: 0.9861\n",
      "⏳ Tiempo de entrenamiento: 533.28 segundos\n",
      "\n",
      "🔹 Entrenando con Brightness Brightness_0.8-1.4 🔹\n",
      "Found 17054 validated image filenames belonging to 2 classes.\n",
      "Found 4286 validated image filenames belonging to 2 classes.\n",
      "Found 4286 validated image filenames belonging to 2 classes.\n"
     ]
    },
    {
     "name": "stderr",
     "output_type": "stream",
     "text": [
      "WARNING:absl:At this time, the v2.11+ optimizer `tf.keras.optimizers.Adam` runs slowly on M1/M2 Macs, please use the legacy Keras optimizer instead, located at `tf.keras.optimizers.legacy.Adam`.\n",
      "WARNING:absl:There is a known slowdown when using v2.11+ Keras optimizers on M1/M2 Macs. Falling back to the legacy Keras optimizer, i.e., `tf.keras.optimizers.legacy.Adam`.\n"
     ]
    },
    {
     "name": "stdout",
     "output_type": "stream",
     "text": [
      "Epoch 1/10\n"
     ]
    },
    {
     "name": "stderr",
     "output_type": "stream",
     "text": [
      "2025-02-24 12:53:00.051607: I tensorflow/core/grappler/optimizers/custom_graph_optimizer_registry.cc:114] Plugin optimizer for device_type GPU is enabled.\n"
     ]
    },
    {
     "name": "stdout",
     "output_type": "stream",
     "text": [
      "533/533 [==============================] - ETA: 0s - loss: 0.0358 - accuracy: 0.8778 - precision: 0.9076 - recall: 0.9378 - auc: 0.9291"
     ]
    },
    {
     "name": "stderr",
     "output_type": "stream",
     "text": [
      "2025-02-24 12:53:43.211953: I tensorflow/core/grappler/optimizers/custom_graph_optimizer_registry.cc:114] Plugin optimizer for device_type GPU is enabled.\n"
     ]
    },
    {
     "name": "stdout",
     "output_type": "stream",
     "text": [
      "533/533 [==============================] - 55s 100ms/step - loss: 0.0358 - accuracy: 0.8778 - precision: 0.9076 - recall: 0.9378 - auc: 0.9291 - val_loss: 0.0288 - val_accuracy: 0.9179 - val_precision: 0.9171 - val_recall: 0.9630 - val_auc: 0.9722\n",
      "Epoch 2/10\n",
      "533/533 [==============================] - 53s 99ms/step - loss: 0.0263 - accuracy: 0.9140 - precision: 0.9402 - recall: 0.9494 - auc: 0.9628 - val_loss: 0.0257 - val_accuracy: 0.9298 - val_precision: 0.9284 - val_recall: 0.9686 - val_auc: 0.9776\n",
      "Epoch 3/10\n",
      "533/533 [==============================] - 124s 233ms/step - loss: 0.0244 - accuracy: 0.9221 - precision: 0.9471 - recall: 0.9528 - auc: 0.9683 - val_loss: 0.0229 - val_accuracy: 0.9309 - val_precision: 0.9334 - val_recall: 0.9644 - val_auc: 0.9804\n",
      "Epoch 4/10\n",
      "533/533 [==============================] - 56s 104ms/step - loss: 0.0232 - accuracy: 0.9258 - precision: 0.9497 - recall: 0.9548 - auc: 0.9716 - val_loss: 0.0216 - val_accuracy: 0.9405 - val_precision: 0.9558 - val_recall: 0.9542 - val_auc: 0.9803\n",
      "Epoch 5/10\n",
      "533/533 [==============================] - 55s 103ms/step - loss: 0.0223 - accuracy: 0.9286 - precision: 0.9535 - recall: 0.9545 - auc: 0.9737 - val_loss: 0.0216 - val_accuracy: 0.9379 - val_precision: 0.9392 - val_recall: 0.9690 - val_auc: 0.9823\n",
      "Epoch 6/10\n",
      "533/533 [==============================] - 54s 102ms/step - loss: 0.0218 - accuracy: 0.9292 - precision: 0.9523 - recall: 0.9565 - auc: 0.9749 - val_loss: 0.0200 - val_accuracy: 0.9435 - val_precision: 0.9577 - val_recall: 0.9570 - val_auc: 0.9826\n",
      "Epoch 7/10\n",
      "533/533 [==============================] - 55s 103ms/step - loss: 0.0212 - accuracy: 0.9322 - precision: 0.9544 - recall: 0.9583 - auc: 0.9763 - val_loss: 0.0199 - val_accuracy: 0.9405 - val_precision: 0.9473 - val_recall: 0.9637 - val_auc: 0.9830\n",
      "Epoch 8/10\n",
      "533/533 [==============================] - 55s 102ms/step - loss: 0.0207 - accuracy: 0.9333 - precision: 0.9561 - recall: 0.9580 - auc: 0.9774 - val_loss: 0.0197 - val_accuracy: 0.9431 - val_precision: 0.9557 - val_recall: 0.9584 - val_auc: 0.9831\n",
      "Epoch 9/10\n",
      "533/533 [==============================] - 56s 105ms/step - loss: 0.0207 - accuracy: 0.9360 - precision: 0.9584 - recall: 0.9591 - auc: 0.9777 - val_loss: 0.0197 - val_accuracy: 0.9426 - val_precision: 0.9481 - val_recall: 0.9661 - val_auc: 0.9835\n",
      "Epoch 10/10\n",
      "533/533 [==============================] - 55s 103ms/step - loss: 0.0200 - accuracy: 0.9367 - precision: 0.9574 - recall: 0.9612 - auc: 0.9789 - val_loss: 0.0197 - val_accuracy: 0.9403 - val_precision: 0.9565 - val_recall: 0.9531 - val_auc: 0.9835\n",
      "134/134 [==============================] - 11s 85ms/step - loss: 0.0181 - accuracy: 0.9412 - precision: 0.9489 - recall: 0.9630 - auc: 0.9869\n",
      "\n",
      "📉 Loss: 0.0181\n",
      "🎯 Accuracy: 94.1204%\n",
      "✅ Precision: 94.8923%\n",
      "🔄 Recall: 96.2976%\n",
      "📊 AUC: 0.9869\n",
      "⏳ Tiempo de entrenamiento: 616.97 segundos\n",
      "\n",
      "🔹 Entrenando con Brightness Brightness_0.9-1.1 🔹\n",
      "Found 17054 validated image filenames belonging to 2 classes.\n",
      "Found 4286 validated image filenames belonging to 2 classes.\n",
      "Found 4286 validated image filenames belonging to 2 classes.\n"
     ]
    },
    {
     "name": "stderr",
     "output_type": "stream",
     "text": [
      "WARNING:absl:At this time, the v2.11+ optimizer `tf.keras.optimizers.Adam` runs slowly on M1/M2 Macs, please use the legacy Keras optimizer instead, located at `tf.keras.optimizers.legacy.Adam`.\n",
      "WARNING:absl:There is a known slowdown when using v2.11+ Keras optimizers on M1/M2 Macs. Falling back to the legacy Keras optimizer, i.e., `tf.keras.optimizers.legacy.Adam`.\n"
     ]
    },
    {
     "name": "stdout",
     "output_type": "stream",
     "text": [
      "Epoch 1/10\n"
     ]
    },
    {
     "name": "stderr",
     "output_type": "stream",
     "text": [
      "2025-02-24 13:03:28.784480: I tensorflow/core/grappler/optimizers/custom_graph_optimizer_registry.cc:114] Plugin optimizer for device_type GPU is enabled.\n"
     ]
    },
    {
     "name": "stdout",
     "output_type": "stream",
     "text": [
      "533/533 [==============================] - ETA: 0s - loss: 0.0364 - accuracy: 0.8772 - precision: 0.9067 - recall: 0.9381 - auc: 0.9254"
     ]
    },
    {
     "name": "stderr",
     "output_type": "stream",
     "text": [
      "2025-02-24 13:04:12.108464: I tensorflow/core/grappler/optimizers/custom_graph_optimizer_registry.cc:114] Plugin optimizer for device_type GPU is enabled.\n"
     ]
    },
    {
     "name": "stdout",
     "output_type": "stream",
     "text": [
      "533/533 [==============================] - 55s 101ms/step - loss: 0.0364 - accuracy: 0.8772 - precision: 0.9067 - recall: 0.9381 - auc: 0.9254 - val_loss: 0.0311 - val_accuracy: 0.9242 - val_precision: 0.9325 - val_recall: 0.9545 - val_auc: 0.9648\n",
      "Epoch 2/10\n",
      "533/533 [==============================] - 53s 99ms/step - loss: 0.0259 - accuracy: 0.9149 - precision: 0.9407 - recall: 0.9501 - auc: 0.9642 - val_loss: 0.0247 - val_accuracy: 0.9342 - val_precision: 0.9474 - val_recall: 0.9535 - val_auc: 0.9758\n",
      "Epoch 3/10\n",
      "533/533 [==============================] - 53s 99ms/step - loss: 0.0243 - accuracy: 0.9213 - precision: 0.9468 - recall: 0.9519 - auc: 0.9687 - val_loss: 0.0265 - val_accuracy: 0.9309 - val_precision: 0.9314 - val_recall: 0.9669 - val_auc: 0.9765\n",
      "Epoch 4/10\n",
      "533/533 [==============================] - 53s 100ms/step - loss: 0.0227 - accuracy: 0.9265 - precision: 0.9501 - recall: 0.9553 - auc: 0.9729 - val_loss: 0.0230 - val_accuracy: 0.9384 - val_precision: 0.9531 - val_recall: 0.9538 - val_auc: 0.9781\n",
      "Epoch 5/10\n",
      "533/533 [==============================] - 53s 100ms/step - loss: 0.0222 - accuracy: 0.9304 - precision: 0.9529 - recall: 0.9576 - auc: 0.9742 - val_loss: 0.0221 - val_accuracy: 0.9414 - val_precision: 0.9505 - val_recall: 0.9616 - val_auc: 0.9801\n",
      "Epoch 6/10\n",
      "533/533 [==============================] - 53s 99ms/step - loss: 0.0213 - accuracy: 0.9312 - precision: 0.9539 - recall: 0.9576 - auc: 0.9760 - val_loss: 0.0218 - val_accuracy: 0.9354 - val_precision: 0.9689 - val_recall: 0.9323 - val_auc: 0.9805\n",
      "Epoch 7/10\n",
      "533/533 [==============================] - 53s 99ms/step - loss: 0.0208 - accuracy: 0.9349 - precision: 0.9566 - recall: 0.9595 - auc: 0.9774 - val_loss: 0.0205 - val_accuracy: 0.9393 - val_precision: 0.9643 - val_recall: 0.9432 - val_auc: 0.9825\n",
      "Epoch 8/10\n",
      "533/533 [==============================] - 53s 99ms/step - loss: 0.0204 - accuracy: 0.9340 - precision: 0.9560 - recall: 0.9590 - auc: 0.9780 - val_loss: 0.0206 - val_accuracy: 0.9426 - val_precision: 0.9655 - val_recall: 0.9471 - val_auc: 0.9819\n",
      "Epoch 9/10\n",
      "533/533 [==============================] - 53s 99ms/step - loss: 0.0199 - accuracy: 0.9381 - precision: 0.9587 - recall: 0.9616 - auc: 0.9792 - val_loss: 0.0199 - val_accuracy: 0.9438 - val_precision: 0.9580 - val_recall: 0.9570 - val_auc: 0.9832\n",
      "Epoch 10/10\n",
      "533/533 [==============================] - 53s 99ms/step - loss: 0.0196 - accuracy: 0.9382 - precision: 0.9594 - recall: 0.9609 - auc: 0.9797 - val_loss: 0.0204 - val_accuracy: 0.9426 - val_precision: 0.9484 - val_recall: 0.9658 - val_auc: 0.9833\n",
      "134/134 [==============================] - 11s 80ms/step - loss: 0.0190 - accuracy: 0.9426 - precision: 0.9402 - recall: 0.9753 - auc: 0.9866\n",
      "\n",
      "📉 Loss: 0.0190\n",
      "🎯 Accuracy: 94.2604%\n",
      "✅ Precision: 94.0177%\n",
      "🔄 Recall: 97.5317%\n",
      "📊 AUC: 0.9866\n",
      "⏳ Tiempo de entrenamiento: 531.46 segundos\n",
      "\n",
      "🔹 Entrenando con Brightness Brightness_0.9-1.2 🔹\n",
      "Found 17054 validated image filenames belonging to 2 classes.\n",
      "Found 4286 validated image filenames belonging to 2 classes.\n",
      "Found 4286 validated image filenames belonging to 2 classes.\n"
     ]
    },
    {
     "name": "stderr",
     "output_type": "stream",
     "text": [
      "WARNING:absl:At this time, the v2.11+ optimizer `tf.keras.optimizers.Adam` runs slowly on M1/M2 Macs, please use the legacy Keras optimizer instead, located at `tf.keras.optimizers.legacy.Adam`.\n",
      "WARNING:absl:There is a known slowdown when using v2.11+ Keras optimizers on M1/M2 Macs. Falling back to the legacy Keras optimizer, i.e., `tf.keras.optimizers.legacy.Adam`.\n"
     ]
    },
    {
     "name": "stdout",
     "output_type": "stream",
     "text": [
      "Epoch 1/10\n"
     ]
    },
    {
     "name": "stderr",
     "output_type": "stream",
     "text": [
      "2025-02-24 13:12:32.224098: I tensorflow/core/grappler/optimizers/custom_graph_optimizer_registry.cc:114] Plugin optimizer for device_type GPU is enabled.\n"
     ]
    },
    {
     "name": "stdout",
     "output_type": "stream",
     "text": [
      "533/533 [==============================] - ETA: 0s - loss: 0.0353 - accuracy: 0.8791 - precision: 0.9100 - recall: 0.9368 - auc: 0.9309"
     ]
    },
    {
     "name": "stderr",
     "output_type": "stream",
     "text": [
      "2025-02-24 13:13:15.908580: I tensorflow/core/grappler/optimizers/custom_graph_optimizer_registry.cc:114] Plugin optimizer for device_type GPU is enabled.\n"
     ]
    },
    {
     "name": "stdout",
     "output_type": "stream",
     "text": [
      "533/533 [==============================] - 56s 102ms/step - loss: 0.0353 - accuracy: 0.8791 - precision: 0.9100 - recall: 0.9368 - auc: 0.9309 - val_loss: 0.0266 - val_accuracy: 0.9207 - val_precision: 0.9397 - val_recall: 0.9404 - val_auc: 0.9712\n",
      "Epoch 2/10\n",
      "533/533 [==============================] - 53s 99ms/step - loss: 0.0259 - accuracy: 0.9147 - precision: 0.9424 - recall: 0.9480 - auc: 0.9640 - val_loss: 0.0242 - val_accuracy: 0.9300 - val_precision: 0.9385 - val_recall: 0.9570 - val_auc: 0.9763\n",
      "Epoch 3/10\n",
      "533/533 [==============================] - 53s 99ms/step - loss: 0.0241 - accuracy: 0.9217 - precision: 0.9468 - recall: 0.9524 - auc: 0.9693 - val_loss: 0.0219 - val_accuracy: 0.9349 - val_precision: 0.9500 - val_recall: 0.9517 - val_auc: 0.9803\n",
      "Epoch 4/10\n",
      "533/533 [==============================] - 53s 99ms/step - loss: 0.0224 - accuracy: 0.9276 - precision: 0.9512 - recall: 0.9556 - auc: 0.9734 - val_loss: 0.0214 - val_accuracy: 0.9370 - val_precision: 0.9585 - val_recall: 0.9457 - val_auc: 0.9809\n",
      "Epoch 5/10\n",
      "533/533 [==============================] - 53s 99ms/step - loss: 0.0217 - accuracy: 0.9304 - precision: 0.9538 - recall: 0.9565 - auc: 0.9752 - val_loss: 0.0209 - val_accuracy: 0.9389 - val_precision: 0.9561 - val_recall: 0.9513 - val_auc: 0.9814\n",
      "Epoch 6/10\n",
      "533/533 [==============================] - 997s 2s/step - loss: 0.0212 - accuracy: 0.9323 - precision: 0.9552 - recall: 0.9576 - auc: 0.9763 - val_loss: 0.0214 - val_accuracy: 0.9307 - val_precision: 0.9666 - val_recall: 0.9274 - val_auc: 0.9820\n",
      "Epoch 7/10\n",
      "533/533 [==============================] - 52s 98ms/step - loss: 0.0206 - accuracy: 0.9340 - precision: 0.9561 - recall: 0.9589 - auc: 0.9776 - val_loss: 0.0201 - val_accuracy: 0.9398 - val_precision: 0.9600 - val_recall: 0.9485 - val_auc: 0.9829\n",
      "Epoch 8/10\n",
      "533/533 [==============================] - 961s 2s/step - loss: 0.0205 - accuracy: 0.9359 - precision: 0.9565 - recall: 0.9610 - auc: 0.9778 - val_loss: 0.0199 - val_accuracy: 0.9407 - val_precision: 0.9508 - val_recall: 0.9602 - val_auc: 0.9836\n",
      "Epoch 9/10\n",
      "533/533 [==============================] - 956s 2s/step - loss: 0.0201 - accuracy: 0.9361 - precision: 0.9576 - recall: 0.9601 - auc: 0.9789 - val_loss: 0.0202 - val_accuracy: 0.9407 - val_precision: 0.9552 - val_recall: 0.9552 - val_auc: 0.9826\n",
      "Epoch 10/10\n",
      "533/533 [==============================] - 972s 2s/step - loss: 0.0195 - accuracy: 0.9377 - precision: 0.9582 - recall: 0.9615 - auc: 0.9799 - val_loss: 0.0196 - val_accuracy: 0.9440 - val_precision: 0.9587 - val_recall: 0.9566 - val_auc: 0.9839\n",
      "134/134 [==============================] - 10s 78ms/step - loss: 0.0180 - accuracy: 0.9431 - precision: 0.9541 - recall: 0.9602 - auc: 0.9861\n",
      "\n",
      "📉 Loss: 0.0180\n",
      "🎯 Accuracy: 94.3070%\n",
      "✅ Precision: 95.4100%\n",
      "🔄 Recall: 96.0155%\n",
      "📊 AUC: 0.9861\n",
      "⏳ Tiempo de entrenamiento: 4205.70 segundos\n",
      "\n",
      "🔹 Entrenando con Brightness Brightness_0.9-1.3 🔹\n",
      "Found 17054 validated image filenames belonging to 2 classes.\n",
      "Found 4286 validated image filenames belonging to 2 classes.\n",
      "Found 4286 validated image filenames belonging to 2 classes.\n"
     ]
    },
    {
     "name": "stderr",
     "output_type": "stream",
     "text": [
      "WARNING:absl:At this time, the v2.11+ optimizer `tf.keras.optimizers.Adam` runs slowly on M1/M2 Macs, please use the legacy Keras optimizer instead, located at `tf.keras.optimizers.legacy.Adam`.\n",
      "WARNING:absl:There is a known slowdown when using v2.11+ Keras optimizers on M1/M2 Macs. Falling back to the legacy Keras optimizer, i.e., `tf.keras.optimizers.legacy.Adam`.\n"
     ]
    },
    {
     "name": "stdout",
     "output_type": "stream",
     "text": [
      "Epoch 1/10\n"
     ]
    },
    {
     "name": "stderr",
     "output_type": "stream",
     "text": [
      "2025-02-24 14:22:48.625516: I tensorflow/core/grappler/optimizers/custom_graph_optimizer_registry.cc:114] Plugin optimizer for device_type GPU is enabled.\n"
     ]
    },
    {
     "name": "stdout",
     "output_type": "stream",
     "text": [
      "533/533 [==============================] - ETA: 0s - loss: 0.0359 - accuracy: 0.8754 - precision: 0.9065 - recall: 0.9358 - auc: 0.9279"
     ]
    },
    {
     "name": "stderr",
     "output_type": "stream",
     "text": [
      "2025-02-24 14:23:32.610790: I tensorflow/core/grappler/optimizers/custom_graph_optimizer_registry.cc:114] Plugin optimizer for device_type GPU is enabled.\n"
     ]
    },
    {
     "name": "stdout",
     "output_type": "stream",
     "text": [
      "533/533 [==============================] - 55s 102ms/step - loss: 0.0359 - accuracy: 0.8754 - precision: 0.9065 - recall: 0.9358 - auc: 0.9279 - val_loss: 0.0278 - val_accuracy: 0.9162 - val_precision: 0.9393 - val_recall: 0.9337 - val_auc: 0.9686\n",
      "Epoch 2/10\n",
      "533/533 [==============================] - 82s 153ms/step - loss: 0.0267 - accuracy: 0.9126 - precision: 0.9412 - recall: 0.9464 - auc: 0.9620 - val_loss: 0.0235 - val_accuracy: 0.9277 - val_precision: 0.9520 - val_recall: 0.9379 - val_auc: 0.9783\n",
      "Epoch 3/10\n",
      "533/533 [==============================] - 306s 575ms/step - loss: 0.0245 - accuracy: 0.9216 - precision: 0.9468 - recall: 0.9524 - auc: 0.9683 - val_loss: 0.0224 - val_accuracy: 0.9293 - val_precision: 0.9614 - val_recall: 0.9305 - val_auc: 0.9804\n",
      "Epoch 4/10\n",
      "533/533 [==============================] - 55s 103ms/step - loss: 0.0229 - accuracy: 0.9271 - precision: 0.9516 - recall: 0.9545 - auc: 0.9723 - val_loss: 0.0210 - val_accuracy: 0.9356 - val_precision: 0.9523 - val_recall: 0.9503 - val_auc: 0.9816\n",
      "Epoch 5/10\n",
      "533/533 [==============================] - 56s 105ms/step - loss: 0.0219 - accuracy: 0.9297 - precision: 0.9532 - recall: 0.9562 - auc: 0.9748 - val_loss: 0.0208 - val_accuracy: 0.9391 - val_precision: 0.9590 - val_recall: 0.9485 - val_auc: 0.9822\n",
      "Epoch 6/10\n",
      "533/533 [==============================] - 57s 106ms/step - loss: 0.0212 - accuracy: 0.9324 - precision: 0.9549 - recall: 0.9580 - auc: 0.9762 - val_loss: 0.0205 - val_accuracy: 0.9354 - val_precision: 0.9617 - val_recall: 0.9397 - val_auc: 0.9834\n",
      "Epoch 7/10\n",
      "533/533 [==============================] - 56s 104ms/step - loss: 0.0212 - accuracy: 0.9323 - precision: 0.9557 - recall: 0.9570 - auc: 0.9764 - val_loss: 0.0199 - val_accuracy: 0.9398 - val_precision: 0.9545 - val_recall: 0.9545 - val_auc: 0.9833\n",
      "Epoch 8/10\n",
      "533/533 [==============================] - 56s 104ms/step - loss: 0.0202 - accuracy: 0.9353 - precision: 0.9584 - recall: 0.9581 - auc: 0.9784 - val_loss: 0.0197 - val_accuracy: 0.9431 - val_precision: 0.9528 - val_recall: 0.9616 - val_auc: 0.9838\n",
      "Epoch 9/10\n",
      "533/533 [==============================] - 55s 103ms/step - loss: 0.0201 - accuracy: 0.9354 - precision: 0.9560 - recall: 0.9608 - auc: 0.9786 - val_loss: 0.0204 - val_accuracy: 0.9386 - val_precision: 0.9368 - val_recall: 0.9728 - val_auc: 0.9845\n",
      "Epoch 10/10\n",
      "533/533 [==============================] - 56s 104ms/step - loss: 0.0200 - accuracy: 0.9363 - precision: 0.9572 - recall: 0.9607 - auc: 0.9789 - val_loss: 0.0230 - val_accuracy: 0.9253 - val_precision: 0.9744 - val_recall: 0.9111 - val_auc: 0.9823\n",
      "134/134 [==============================] - 11s 83ms/step - loss: 0.0210 - accuracy: 0.9305 - precision: 0.9753 - recall: 0.9182 - auc: 0.9856\n",
      "\n",
      "📉 Loss: 0.0210\n",
      "🎯 Accuracy: 93.0471%\n",
      "✅ Precision: 97.5281%\n",
      "🔄 Recall: 91.8195%\n",
      "📊 AUC: 0.9856\n",
      "⏳ Tiempo de entrenamiento: 832.44 segundos\n",
      "\n",
      "🔹 Entrenando con Brightness Brightness_0.9-1.4 🔹\n",
      "Found 17054 validated image filenames belonging to 2 classes.\n",
      "Found 4286 validated image filenames belonging to 2 classes.\n",
      "Found 4286 validated image filenames belonging to 2 classes.\n"
     ]
    },
    {
     "name": "stderr",
     "output_type": "stream",
     "text": [
      "WARNING:absl:At this time, the v2.11+ optimizer `tf.keras.optimizers.Adam` runs slowly on M1/M2 Macs, please use the legacy Keras optimizer instead, located at `tf.keras.optimizers.legacy.Adam`.\n",
      "WARNING:absl:There is a known slowdown when using v2.11+ Keras optimizers on M1/M2 Macs. Falling back to the legacy Keras optimizer, i.e., `tf.keras.optimizers.legacy.Adam`.\n"
     ]
    },
    {
     "name": "stdout",
     "output_type": "stream",
     "text": [
      "Epoch 1/10\n"
     ]
    },
    {
     "name": "stderr",
     "output_type": "stream",
     "text": [
      "2025-02-24 14:36:53.608283: I tensorflow/core/grappler/optimizers/custom_graph_optimizer_registry.cc:114] Plugin optimizer for device_type GPU is enabled.\n"
     ]
    },
    {
     "name": "stdout",
     "output_type": "stream",
     "text": [
      "533/533 [==============================] - ETA: 0s - loss: 0.0351 - accuracy: 0.8782 - precision: 0.9079 - recall: 0.9381 - auc: 0.9319"
     ]
    },
    {
     "name": "stderr",
     "output_type": "stream",
     "text": [
      "2025-02-24 14:37:37.786533: I tensorflow/core/grappler/optimizers/custom_graph_optimizer_registry.cc:114] Plugin optimizer for device_type GPU is enabled.\n"
     ]
    },
    {
     "name": "stdout",
     "output_type": "stream",
     "text": [
      "533/533 [==============================] - 56s 102ms/step - loss: 0.0351 - accuracy: 0.8782 - precision: 0.9079 - recall: 0.9381 - auc: 0.9319 - val_loss: 0.0292 - val_accuracy: 0.9181 - val_precision: 0.9414 - val_recall: 0.9344 - val_auc: 0.9661\n",
      "Epoch 2/10\n",
      "533/533 [==============================] - 53s 100ms/step - loss: 0.0262 - accuracy: 0.9149 - precision: 0.9404 - recall: 0.9504 - auc: 0.9634 - val_loss: 0.0256 - val_accuracy: 0.9242 - val_precision: 0.9594 - val_recall: 0.9245 - val_auc: 0.9748\n",
      "Epoch 3/10\n",
      "533/533 [==============================] - 53s 100ms/step - loss: 0.0242 - accuracy: 0.9217 - precision: 0.9464 - recall: 0.9529 - auc: 0.9688 - val_loss: 0.0242 - val_accuracy: 0.9279 - val_precision: 0.9674 - val_recall: 0.9221 - val_auc: 0.9773\n",
      "Epoch 4/10\n",
      "533/533 [==============================] - 53s 100ms/step - loss: 0.0228 - accuracy: 0.9270 - precision: 0.9508 - recall: 0.9553 - auc: 0.9725 - val_loss: 0.0222 - val_accuracy: 0.9354 - val_precision: 0.9644 - val_recall: 0.9369 - val_auc: 0.9805\n",
      "Epoch 5/10\n",
      "533/533 [==============================] - 53s 99ms/step - loss: 0.0222 - accuracy: 0.9292 - precision: 0.9521 - recall: 0.9568 - auc: 0.9740 - val_loss: 0.0216 - val_accuracy: 0.9403 - val_precision: 0.9467 - val_recall: 0.9640 - val_auc: 0.9817\n",
      "Epoch 6/10\n",
      "533/533 [==============================] - 53s 100ms/step - loss: 0.0215 - accuracy: 0.9320 - precision: 0.9540 - recall: 0.9585 - auc: 0.9755 - val_loss: 0.0206 - val_accuracy: 0.9419 - val_precision: 0.9615 - val_recall: 0.9503 - val_auc: 0.9821\n",
      "Epoch 7/10\n",
      "533/533 [==============================] - 53s 99ms/step - loss: 0.0210 - accuracy: 0.9346 - precision: 0.9570 - recall: 0.9587 - auc: 0.9768 - val_loss: 0.0204 - val_accuracy: 0.9407 - val_precision: 0.9508 - val_recall: 0.9602 - val_auc: 0.9825\n",
      "Epoch 8/10\n",
      "533/533 [==============================] - 53s 100ms/step - loss: 0.0205 - accuracy: 0.9353 - precision: 0.9554 - recall: 0.9614 - auc: 0.9778 - val_loss: 0.0199 - val_accuracy: 0.9407 - val_precision: 0.9591 - val_recall: 0.9510 - val_auc: 0.9835\n",
      "Epoch 9/10\n",
      "533/533 [==============================] - 53s 100ms/step - loss: 0.0202 - accuracy: 0.9363 - precision: 0.9577 - recall: 0.9602 - auc: 0.9785 - val_loss: 0.0203 - val_accuracy: 0.9447 - val_precision: 0.9581 - val_recall: 0.9584 - val_auc: 0.9825\n",
      "Epoch 10/10\n",
      "533/533 [==============================] - 53s 99ms/step - loss: 0.0198 - accuracy: 0.9370 - precision: 0.9573 - recall: 0.9617 - auc: 0.9792 - val_loss: 0.0206 - val_accuracy: 0.9368 - val_precision: 0.9703 - val_recall: 0.9330 - val_auc: 0.9837\n",
      "134/134 [==============================] - 11s 79ms/step - loss: 0.0187 - accuracy: 0.9368 - precision: 0.9689 - recall: 0.9344 - auc: 0.9865\n",
      "\n",
      "📉 Loss: 0.0187\n",
      "🎯 Accuracy: 93.6771%\n",
      "✅ Precision: 96.8921%\n",
      "🔄 Recall: 93.4415%\n",
      "📊 AUC: 0.9865\n",
      "⏳ Tiempo de entrenamiento: 534.64 segundos\n",
      "\n",
      "🔹 Entrenando con Brightness Brightness_1.0-1.1 🔹\n",
      "Found 17054 validated image filenames belonging to 2 classes.\n",
      "Found 4286 validated image filenames belonging to 2 classes.\n",
      "Found 4286 validated image filenames belonging to 2 classes.\n"
     ]
    },
    {
     "name": "stderr",
     "output_type": "stream",
     "text": [
      "WARNING:absl:At this time, the v2.11+ optimizer `tf.keras.optimizers.Adam` runs slowly on M1/M2 Macs, please use the legacy Keras optimizer instead, located at `tf.keras.optimizers.legacy.Adam`.\n",
      "WARNING:absl:There is a known slowdown when using v2.11+ Keras optimizers on M1/M2 Macs. Falling back to the legacy Keras optimizer, i.e., `tf.keras.optimizers.legacy.Adam`.\n"
     ]
    },
    {
     "name": "stdout",
     "output_type": "stream",
     "text": [
      "Epoch 1/10\n"
     ]
    },
    {
     "name": "stderr",
     "output_type": "stream",
     "text": [
      "2025-02-24 14:45:59.003250: I tensorflow/core/grappler/optimizers/custom_graph_optimizer_registry.cc:114] Plugin optimizer for device_type GPU is enabled.\n"
     ]
    },
    {
     "name": "stdout",
     "output_type": "stream",
     "text": [
      "533/533 [==============================] - ETA: 0s - loss: 0.0366 - accuracy: 0.8757 - precision: 0.9069 - recall: 0.9357 - auc: 0.9246"
     ]
    },
    {
     "name": "stderr",
     "output_type": "stream",
     "text": [
      "2025-02-24 14:46:42.708226: I tensorflow/core/grappler/optimizers/custom_graph_optimizer_registry.cc:114] Plugin optimizer for device_type GPU is enabled.\n"
     ]
    },
    {
     "name": "stdout",
     "output_type": "stream",
     "text": [
      "533/533 [==============================] - 55s 102ms/step - loss: 0.0366 - accuracy: 0.8757 - precision: 0.9069 - recall: 0.9357 - auc: 0.9246 - val_loss: 0.0276 - val_accuracy: 0.9165 - val_precision: 0.9509 - val_recall: 0.9214 - val_auc: 0.9686\n",
      "Epoch 2/10\n",
      "533/533 [==============================] - 53s 99ms/step - loss: 0.0264 - accuracy: 0.9128 - precision: 0.9405 - recall: 0.9475 - auc: 0.9626 - val_loss: 0.0248 - val_accuracy: 0.9251 - val_precision: 0.9244 - val_recall: 0.9658 - val_auc: 0.9769\n",
      "Epoch 3/10\n",
      "533/533 [==============================] - 53s 100ms/step - loss: 0.0240 - accuracy: 0.9230 - precision: 0.9477 - recall: 0.9533 - auc: 0.9695 - val_loss: 0.0223 - val_accuracy: 0.9365 - val_precision: 0.9505 - val_recall: 0.9538 - val_auc: 0.9792\n",
      "Epoch 4/10\n",
      "533/533 [==============================] - 55s 104ms/step - loss: 0.0227 - accuracy: 0.9272 - precision: 0.9519 - recall: 0.9543 - auc: 0.9727 - val_loss: 0.0212 - val_accuracy: 0.9400 - val_precision: 0.9520 - val_recall: 0.9577 - val_auc: 0.9810\n",
      "Epoch 5/10\n",
      "533/533 [==============================] - 56s 104ms/step - loss: 0.0220 - accuracy: 0.9302 - precision: 0.9536 - recall: 0.9566 - auc: 0.9745 - val_loss: 0.0209 - val_accuracy: 0.9393 - val_precision: 0.9472 - val_recall: 0.9619 - val_auc: 0.9819\n",
      "Epoch 6/10\n",
      "533/533 [==============================] - 55s 103ms/step - loss: 0.0212 - accuracy: 0.9323 - precision: 0.9556 - recall: 0.9572 - auc: 0.9763 - val_loss: 0.0206 - val_accuracy: 0.9410 - val_precision: 0.9591 - val_recall: 0.9513 - val_auc: 0.9819\n",
      "Epoch 7/10\n",
      "533/533 [==============================] - 55s 103ms/step - loss: 0.0207 - accuracy: 0.9342 - precision: 0.9577 - recall: 0.9574 - auc: 0.9776 - val_loss: 0.0201 - val_accuracy: 0.9431 - val_precision: 0.9522 - val_recall: 0.9623 - val_auc: 0.9828\n",
      "Epoch 8/10\n",
      "533/533 [==============================] - 55s 103ms/step - loss: 0.0202 - accuracy: 0.9367 - precision: 0.9574 - recall: 0.9610 - auc: 0.9785 - val_loss: 0.0202 - val_accuracy: 0.9414 - val_precision: 0.9618 - val_recall: 0.9492 - val_auc: 0.9827\n",
      "Epoch 9/10\n",
      "533/533 [==============================] - 55s 103ms/step - loss: 0.0200 - accuracy: 0.9359 - precision: 0.9578 - recall: 0.9595 - auc: 0.9792 - val_loss: 0.0199 - val_accuracy: 0.9428 - val_precision: 0.9566 - val_recall: 0.9570 - val_auc: 0.9832\n",
      "Epoch 10/10\n",
      "533/533 [==============================] - 55s 103ms/step - loss: 0.0194 - accuracy: 0.9376 - precision: 0.9595 - recall: 0.9601 - auc: 0.9801 - val_loss: 0.0200 - val_accuracy: 0.9403 - val_precision: 0.9617 - val_recall: 0.9475 - val_auc: 0.9834\n",
      "134/134 [==============================] - 11s 82ms/step - loss: 0.0181 - accuracy: 0.9417 - precision: 0.9579 - recall: 0.9538 - auc: 0.9863\n",
      "\n",
      "📉 Loss: 0.0181\n",
      "🎯 Accuracy: 94.1671%\n",
      "✅ Precision: 95.7861%\n",
      "🔄 Recall: 95.3808%\n",
      "📊 AUC: 0.9863\n",
      "⏳ Tiempo de entrenamiento: 548.00 segundos\n",
      "\n",
      "🔹 Entrenando con Brightness Brightness_1.0-1.2 🔹\n",
      "Found 17054 validated image filenames belonging to 2 classes.\n",
      "Found 4286 validated image filenames belonging to 2 classes.\n",
      "Found 4286 validated image filenames belonging to 2 classes.\n"
     ]
    },
    {
     "name": "stderr",
     "output_type": "stream",
     "text": [
      "WARNING:absl:At this time, the v2.11+ optimizer `tf.keras.optimizers.Adam` runs slowly on M1/M2 Macs, please use the legacy Keras optimizer instead, located at `tf.keras.optimizers.legacy.Adam`.\n",
      "WARNING:absl:There is a known slowdown when using v2.11+ Keras optimizers on M1/M2 Macs. Falling back to the legacy Keras optimizer, i.e., `tf.keras.optimizers.legacy.Adam`.\n"
     ]
    },
    {
     "name": "stdout",
     "output_type": "stream",
     "text": [
      "Epoch 1/10\n"
     ]
    },
    {
     "name": "stderr",
     "output_type": "stream",
     "text": [
      "2025-02-24 14:55:19.421465: I tensorflow/core/grappler/optimizers/custom_graph_optimizer_registry.cc:114] Plugin optimizer for device_type GPU is enabled.\n"
     ]
    },
    {
     "name": "stdout",
     "output_type": "stream",
     "text": [
      "533/533 [==============================] - ETA: 0s - loss: 0.0369 - accuracy: 0.8743 - precision: 0.9053 - recall: 0.9358 - auc: 0.9233"
     ]
    },
    {
     "name": "stderr",
     "output_type": "stream",
     "text": [
      "2025-02-24 14:56:03.121336: I tensorflow/core/grappler/optimizers/custom_graph_optimizer_registry.cc:114] Plugin optimizer for device_type GPU is enabled.\n"
     ]
    },
    {
     "name": "stdout",
     "output_type": "stream",
     "text": [
      "533/533 [==============================] - 55s 102ms/step - loss: 0.0369 - accuracy: 0.8743 - precision: 0.9053 - recall: 0.9358 - auc: 0.9233 - val_loss: 0.0265 - val_accuracy: 0.9193 - val_precision: 0.9409 - val_recall: 0.9369 - val_auc: 0.9717\n",
      "Epoch 2/10\n",
      "533/533 [==============================] - 53s 100ms/step - loss: 0.0263 - accuracy: 0.9137 - precision: 0.9402 - recall: 0.9491 - auc: 0.9629 - val_loss: 0.0229 - val_accuracy: 0.9293 - val_precision: 0.9439 - val_recall: 0.9496 - val_auc: 0.9784\n",
      "Epoch 3/10\n",
      "533/533 [==============================] - 53s 99ms/step - loss: 0.0241 - accuracy: 0.9224 - precision: 0.9462 - recall: 0.9542 - auc: 0.9693 - val_loss: 0.0217 - val_accuracy: 0.9333 - val_precision: 0.9394 - val_recall: 0.9612 - val_auc: 0.9809\n",
      "Epoch 4/10\n",
      "533/533 [==============================] - 53s 100ms/step - loss: 0.0228 - accuracy: 0.9255 - precision: 0.9489 - recall: 0.9553 - auc: 0.9725 - val_loss: 0.0208 - val_accuracy: 0.9389 - val_precision: 0.9503 - val_recall: 0.9577 - val_auc: 0.9818\n",
      "Epoch 5/10\n",
      "533/533 [==============================] - 53s 100ms/step - loss: 0.0219 - accuracy: 0.9293 - precision: 0.9526 - recall: 0.9564 - auc: 0.9749 - val_loss: 0.0206 - val_accuracy: 0.9398 - val_precision: 0.9571 - val_recall: 0.9517 - val_auc: 0.9818\n",
      "Epoch 6/10\n",
      "533/533 [==============================] - 53s 99ms/step - loss: 0.0213 - accuracy: 0.9324 - precision: 0.9538 - recall: 0.9592 - auc: 0.9760 - val_loss: 0.0203 - val_accuracy: 0.9419 - val_precision: 0.9484 - val_recall: 0.9647 - val_auc: 0.9832\n",
      "Epoch 7/10\n",
      "533/533 [==============================] - 53s 99ms/step - loss: 0.0209 - accuracy: 0.9315 - precision: 0.9543 - recall: 0.9574 - auc: 0.9770 - val_loss: 0.0207 - val_accuracy: 0.9363 - val_precision: 0.9346 - val_recall: 0.9718 - val_auc: 0.9839\n",
      "Epoch 8/10\n",
      "533/533 [==============================] - 53s 99ms/step - loss: 0.0203 - accuracy: 0.9363 - precision: 0.9571 - recall: 0.9609 - auc: 0.9782 - val_loss: 0.0203 - val_accuracy: 0.9403 - val_precision: 0.9492 - val_recall: 0.9612 - val_auc: 0.9828\n",
      "Epoch 9/10\n",
      "533/533 [==============================] - 53s 99ms/step - loss: 0.0203 - accuracy: 0.9363 - precision: 0.9573 - recall: 0.9607 - auc: 0.9784 - val_loss: 0.0211 - val_accuracy: 0.9365 - val_precision: 0.9689 - val_recall: 0.9341 - val_auc: 0.9827\n",
      "Epoch 10/10\n",
      "533/533 [==============================] - 53s 99ms/step - loss: 0.0196 - accuracy: 0.9381 - precision: 0.9587 - recall: 0.9616 - auc: 0.9797 - val_loss: 0.0197 - val_accuracy: 0.9414 - val_precision: 0.9462 - val_recall: 0.9665 - val_auc: 0.9839\n",
      "134/134 [==============================] - 11s 79ms/step - loss: 0.0186 - accuracy: 0.9417 - precision: 0.9407 - recall: 0.9732 - auc: 0.9868\n",
      "\n",
      "📉 Loss: 0.0186\n",
      "🎯 Accuracy: 94.1671%\n",
      "✅ Precision: 94.0695%\n",
      "🔄 Recall: 97.3202%\n",
      "📊 AUC: 0.9868\n",
      "⏳ Tiempo de entrenamiento: 532.43 segundos\n",
      "\n",
      "🔹 Entrenando con Brightness Brightness_1.0-1.3 🔹\n",
      "Found 17054 validated image filenames belonging to 2 classes.\n",
      "Found 4286 validated image filenames belonging to 2 classes.\n",
      "Found 4286 validated image filenames belonging to 2 classes.\n"
     ]
    },
    {
     "name": "stderr",
     "output_type": "stream",
     "text": [
      "WARNING:absl:At this time, the v2.11+ optimizer `tf.keras.optimizers.Adam` runs slowly on M1/M2 Macs, please use the legacy Keras optimizer instead, located at `tf.keras.optimizers.legacy.Adam`.\n",
      "WARNING:absl:There is a known slowdown when using v2.11+ Keras optimizers on M1/M2 Macs. Falling back to the legacy Keras optimizer, i.e., `tf.keras.optimizers.legacy.Adam`.\n"
     ]
    },
    {
     "name": "stdout",
     "output_type": "stream",
     "text": [
      "Epoch 1/10\n"
     ]
    },
    {
     "name": "stderr",
     "output_type": "stream",
     "text": [
      "2025-02-24 15:04:23.495685: I tensorflow/core/grappler/optimizers/custom_graph_optimizer_registry.cc:114] Plugin optimizer for device_type GPU is enabled.\n"
     ]
    },
    {
     "name": "stdout",
     "output_type": "stream",
     "text": [
      "533/533 [==============================] - ETA: 0s - loss: 0.0345 - accuracy: 0.8812 - precision: 0.9124 - recall: 0.9367 - auc: 0.9332"
     ]
    },
    {
     "name": "stderr",
     "output_type": "stream",
     "text": [
      "2025-02-24 15:05:07.033752: I tensorflow/core/grappler/optimizers/custom_graph_optimizer_registry.cc:114] Plugin optimizer for device_type GPU is enabled.\n"
     ]
    },
    {
     "name": "stdout",
     "output_type": "stream",
     "text": [
      "533/533 [==============================] - 55s 101ms/step - loss: 0.0345 - accuracy: 0.8812 - precision: 0.9124 - recall: 0.9367 - auc: 0.9332 - val_loss: 0.0282 - val_accuracy: 0.9209 - val_precision: 0.9265 - val_recall: 0.9563 - val_auc: 0.9697\n",
      "Epoch 2/10\n",
      "533/533 [==============================] - 54s 101ms/step - loss: 0.0255 - accuracy: 0.9166 - precision: 0.9430 - recall: 0.9499 - auc: 0.9652 - val_loss: 0.0256 - val_accuracy: 0.9293 - val_precision: 0.9306 - val_recall: 0.9651 - val_auc: 0.9766\n",
      "Epoch 3/10\n",
      "533/533 [==============================] - 53s 99ms/step - loss: 0.0238 - accuracy: 0.9225 - precision: 0.9476 - recall: 0.9528 - auc: 0.9700 - val_loss: 0.0230 - val_accuracy: 0.9335 - val_precision: 0.9677 - val_recall: 0.9305 - val_auc: 0.9788\n",
      "Epoch 4/10\n",
      "533/533 [==============================] - 53s 99ms/step - loss: 0.0224 - accuracy: 0.9281 - precision: 0.9515 - recall: 0.9560 - auc: 0.9737 - val_loss: 0.0218 - val_accuracy: 0.9377 - val_precision: 0.9606 - val_recall: 0.9446 - val_auc: 0.9802\n",
      "Epoch 5/10\n",
      "533/533 [==============================] - 53s 99ms/step - loss: 0.0219 - accuracy: 0.9316 - precision: 0.9543 - recall: 0.9576 - auc: 0.9749 - val_loss: 0.0215 - val_accuracy: 0.9354 - val_precision: 0.9665 - val_recall: 0.9348 - val_auc: 0.9820\n",
      "Epoch 6/10\n",
      "533/533 [==============================] - 53s 99ms/step - loss: 0.0213 - accuracy: 0.9320 - precision: 0.9539 - recall: 0.9586 - auc: 0.9758 - val_loss: 0.0215 - val_accuracy: 0.9428 - val_precision: 0.9444 - val_recall: 0.9707 - val_auc: 0.9822\n",
      "Epoch 7/10\n",
      "533/533 [==============================] - 53s 98ms/step - loss: 0.0208 - accuracy: 0.9344 - precision: 0.9556 - recall: 0.9601 - auc: 0.9774 - val_loss: 0.0201 - val_accuracy: 0.9431 - val_precision: 0.9589 - val_recall: 0.9549 - val_auc: 0.9830\n",
      "Epoch 8/10\n",
      "533/533 [==============================] - 53s 99ms/step - loss: 0.0203 - accuracy: 0.9362 - precision: 0.9573 - recall: 0.9605 - auc: 0.9781 - val_loss: 0.0198 - val_accuracy: 0.9435 - val_precision: 0.9645 - val_recall: 0.9496 - val_auc: 0.9836\n",
      "Epoch 9/10\n",
      "533/533 [==============================] - 56s 105ms/step - loss: 0.0199 - accuracy: 0.9378 - precision: 0.9591 - recall: 0.9607 - auc: 0.9794 - val_loss: 0.0202 - val_accuracy: 0.9435 - val_precision: 0.9535 - val_recall: 0.9616 - val_auc: 0.9829\n",
      "Epoch 10/10\n",
      "533/533 [==============================] - 57s 106ms/step - loss: 0.0198 - accuracy: 0.9368 - precision: 0.9586 - recall: 0.9599 - auc: 0.9793 - val_loss: 0.0198 - val_accuracy: 0.9445 - val_precision: 0.9577 - val_recall: 0.9584 - val_auc: 0.9833\n",
      "134/134 [==============================] - 13s 98ms/step - loss: 0.0182 - accuracy: 0.9442 - precision: 0.9520 - recall: 0.9644 - auc: 0.9872\n",
      "\n",
      "📉 Loss: 0.0182\n",
      "🎯 Accuracy: 94.4237%\n",
      "✅ Precision: 95.1967%\n",
      "🔄 Recall: 96.4386%\n",
      "📊 AUC: 0.9872\n",
      "⏳ Tiempo de entrenamiento: 539.24 segundos\n",
      "\n",
      "🔹 Entrenando con Brightness Brightness_1.0-1.4 🔹\n",
      "Found 17054 validated image filenames belonging to 2 classes.\n",
      "Found 4286 validated image filenames belonging to 2 classes.\n",
      "Found 4286 validated image filenames belonging to 2 classes.\n"
     ]
    },
    {
     "name": "stderr",
     "output_type": "stream",
     "text": [
      "WARNING:absl:At this time, the v2.11+ optimizer `tf.keras.optimizers.Adam` runs slowly on M1/M2 Macs, please use the legacy Keras optimizer instead, located at `tf.keras.optimizers.legacy.Adam`.\n",
      "WARNING:absl:There is a known slowdown when using v2.11+ Keras optimizers on M1/M2 Macs. Falling back to the legacy Keras optimizer, i.e., `tf.keras.optimizers.legacy.Adam`.\n"
     ]
    },
    {
     "name": "stdout",
     "output_type": "stream",
     "text": [
      "Epoch 1/10\n"
     ]
    },
    {
     "name": "stderr",
     "output_type": "stream",
     "text": [
      "2025-02-24 15:13:37.891637: I tensorflow/core/grappler/optimizers/custom_graph_optimizer_registry.cc:114] Plugin optimizer for device_type GPU is enabled.\n"
     ]
    },
    {
     "name": "stdout",
     "output_type": "stream",
     "text": [
      "533/533 [==============================] - ETA: 0s - loss: 0.0395 - accuracy: 0.8645 - precision: 0.8949 - recall: 0.9350 - auc: 0.9113"
     ]
    },
    {
     "name": "stderr",
     "output_type": "stream",
     "text": [
      "2025-02-24 15:14:23.110004: I tensorflow/core/grappler/optimizers/custom_graph_optimizer_registry.cc:114] Plugin optimizer for device_type GPU is enabled.\n"
     ]
    },
    {
     "name": "stdout",
     "output_type": "stream",
     "text": [
      "533/533 [==============================] - 57s 105ms/step - loss: 0.0395 - accuracy: 0.8645 - precision: 0.8949 - recall: 0.9350 - auc: 0.9113 - val_loss: 0.0262 - val_accuracy: 0.9202 - val_precision: 0.9345 - val_recall: 0.9457 - val_auc: 0.9724\n",
      "Epoch 2/10\n",
      "533/533 [==============================] - 55s 103ms/step - loss: 0.0269 - accuracy: 0.9110 - precision: 0.9376 - recall: 0.9483 - auc: 0.9611 - val_loss: 0.0234 - val_accuracy: 0.9270 - val_precision: 0.9331 - val_recall: 0.9584 - val_auc: 0.9781\n",
      "Epoch 3/10\n",
      "533/533 [==============================] - 54s 100ms/step - loss: 0.0247 - accuracy: 0.9187 - precision: 0.9450 - recall: 0.9504 - auc: 0.9674 - val_loss: 0.0222 - val_accuracy: 0.9326 - val_precision: 0.9405 - val_recall: 0.9587 - val_auc: 0.9804\n",
      "Epoch 4/10\n",
      "533/533 [==============================] - 54s 101ms/step - loss: 0.0234 - accuracy: 0.9236 - precision: 0.9489 - recall: 0.9527 - auc: 0.9710 - val_loss: 0.0216 - val_accuracy: 0.9365 - val_precision: 0.9439 - val_recall: 0.9612 - val_auc: 0.9810\n",
      "Epoch 5/10\n",
      "533/533 [==============================] - 54s 101ms/step - loss: 0.0223 - accuracy: 0.9263 - precision: 0.9495 - recall: 0.9558 - auc: 0.9737 - val_loss: 0.0207 - val_accuracy: 0.9389 - val_precision: 0.9519 - val_recall: 0.9559 - val_auc: 0.9821\n",
      "Epoch 6/10\n",
      "533/533 [==============================] - 54s 101ms/step - loss: 0.0219 - accuracy: 0.9308 - precision: 0.9531 - recall: 0.9579 - auc: 0.9745 - val_loss: 0.0204 - val_accuracy: 0.9417 - val_precision: 0.9496 - val_recall: 0.9630 - val_auc: 0.9831\n",
      "Epoch 7/10\n",
      "533/533 [==============================] - 54s 101ms/step - loss: 0.0213 - accuracy: 0.9313 - precision: 0.9529 - recall: 0.9588 - auc: 0.9762 - val_loss: 0.0200 - val_accuracy: 0.9407 - val_precision: 0.9559 - val_recall: 0.9545 - val_auc: 0.9832\n",
      "Epoch 8/10\n",
      "533/533 [==============================] - 54s 101ms/step - loss: 0.0205 - accuracy: 0.9337 - precision: 0.9560 - recall: 0.9586 - auc: 0.9778 - val_loss: 0.0202 - val_accuracy: 0.9417 - val_precision: 0.9502 - val_recall: 0.9623 - val_auc: 0.9828\n",
      "Epoch 9/10\n",
      "533/533 [==============================] - 54s 102ms/step - loss: 0.0206 - accuracy: 0.9359 - precision: 0.9575 - recall: 0.9600 - auc: 0.9778 - val_loss: 0.0199 - val_accuracy: 0.9417 - val_precision: 0.9556 - val_recall: 0.9563 - val_auc: 0.9834\n",
      "Epoch 10/10\n",
      "533/533 [==============================] - 54s 101ms/step - loss: 0.0202 - accuracy: 0.9368 - precision: 0.9583 - recall: 0.9602 - auc: 0.9784 - val_loss: 0.0201 - val_accuracy: 0.9393 - val_precision: 0.9600 - val_recall: 0.9478 - val_auc: 0.9830\n",
      "134/134 [==============================] - 11s 80ms/step - loss: 0.0181 - accuracy: 0.9398 - precision: 0.9577 - recall: 0.9510 - auc: 0.9865\n",
      "\n",
      "📉 Loss: 0.0181\n",
      "🎯 Accuracy: 93.9804%\n",
      "✅ Precision: 95.7741%\n",
      "🔄 Recall: 95.0987%\n",
      "📊 AUC: 0.9865\n",
      "⏳ Tiempo de entrenamiento: 542.36 segundos\n",
      "\n",
      "✅ ¡Evaluación de Brightness completada!\n"
     ]
    }
   ],
   "execution_count": 2
  }
 ],
 "metadata": {
  "kernelspec": {
   "display_name": "Python [conda env:TFG] *",
   "language": "python",
   "name": "conda-env-TFG-py"
  },
  "language_info": {
   "codemirror_mode": {
    "name": "ipython",
    "version": 2
   },
   "file_extension": ".py",
   "mimetype": "text/x-python",
   "name": "python",
   "nbconvert_exporter": "python",
   "pygments_lexer": "ipython2",
   "version": "2.7.6"
  }
 },
 "nbformat": 4,
 "nbformat_minor": 5
}
