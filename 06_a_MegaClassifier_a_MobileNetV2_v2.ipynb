{
 "cells": [
  {
   "cell_type": "code",
   "execution_count": 3,
   "metadata": {},
   "outputs": [],
   "source": [
    "import os\n",
    "\n",
    "import numpy as np\n",
    "import pandas as pd\n",
    "import tensorflow as tf\n",
    "from sklearn.metrics import auc, confusion_matrix, roc_curve\n",
    "from tensorflow.keras.callbacks import TensorBoard\n",
    "from tensorflow.keras.metrics import AUC, BinaryAccuracy, Precision, Recall\n",
    "from tensorflow.keras.preprocessing.image import ImageDataGenerator\n",
    "\n",
    "import src.graphics as graphics"
   ]
  },
  {
   "cell_type": "code",
   "execution_count": 4,
   "metadata": {},
   "outputs": [],
   "source": [
    "VERSION = 2\n",
    "MODEL_BASE_NAME = \"MegaClassifier_a_MobileNetV2\"\n",
    "\n",
    "DATASET_CSV = os.path.abspath(\n",
    "    \"./data/processed/onlyDetectionsForTrain/onlyDetectionsForTrain.csv\"\n",
    ")\n",
    "DATASET_PATH = os.path.dirname(DATASET_CSV)"
   ]
  },
  {
   "cell_type": "code",
   "execution_count": 5,
   "metadata": {},
   "outputs": [],
   "source": [
    "dataset = pd.read_csv(DATASET_CSV, sep=\";\")\n",
    "dataset[\"file_name\"] = dataset[\"file_name\"].apply(\n",
    "    lambda x: os.path.join(DATASET_PATH, x)\n",
    ")\n",
    "dataset[\"binary_label\"] = dataset[\"binary_label\"].astype(str)\n",
    "\n",
    "train_dataset = dataset[dataset[\"subset\"] == \"train\"]\n",
    "validationtrain_dataset = dataset[dataset[\"subset\"] == \"validation\"]\n",
    "test_dataset = dataset[dataset[\"subset\"] == \"test\"]\n",
    "\n",
    "EPOCHS = 10\n",
    "IMAGE_SIZE = (224, 224)\n",
    "IMAGE_SHAPE = IMAGE_SIZE + (3,)\n",
    "SEED = 42"
   ]
  },
  {
   "cell_type": "code",
   "execution_count": null,
   "metadata": {},
   "outputs": [
    {
     "name": "stderr",
     "output_type": "stream",
     "text": [
      "WARNING:absl:At this time, the v2.11+ optimizer `tf.keras.optimizers.AdamW` runs slowly on M1/M2 Macs, please use the legacy Keras optimizer instead, located at `tf.keras.optimizers.legacy.AdamW`.\n",
      "2025-02-28 20:44:22.556627: I metal_plugin/src/device/metal_device.cc:1154] Metal device set to: Apple M3\n",
      "2025-02-28 20:44:22.556673: I metal_plugin/src/device/metal_device.cc:296] systemMemory: 16.00 GB\n",
      "2025-02-28 20:44:22.556682: I metal_plugin/src/device/metal_device.cc:313] maxCacheSize: 5.33 GB\n",
      "2025-02-28 20:44:22.556918: I tensorflow/core/common_runtime/pluggable_device/pluggable_device_factory.cc:303] Could not identify NUMA node of platform GPU ID 0, defaulting to 0. Your kernel may not have been built with NUMA support.\n",
      "2025-02-28 20:44:22.556940: I tensorflow/core/common_runtime/pluggable_device/pluggable_device_factory.cc:269] Created TensorFlow device (/job:localhost/replica:0/task:0/device:GPU:0 with 0 MB memory) -> physical PluggableDevice (device: 0, name: METAL, pci bus id: <undefined>)\n",
      "WARNING:absl:At this time, the v2.11+ optimizer `tf.keras.optimizers.Nadam` runs slowly on M1/M2 Macs, please use the legacy Keras optimizer instead, located at `tf.keras.optimizers.legacy.Nadam`.\n"
     ]
    }
   ],
   "source": [
    "OPTIMIZERS = {\n",
    "    \"Adam\": tf.keras.optimizers.legacy.Adam(),\n",
    "    \"SGD\": tf.keras.optimizers.legacy.SGD(),\n",
    "    \"SGD_Momentum\": tf.keras.optimizers.legacy.SGD(momentum=0.9),\n",
    "    \"RMSprop\": tf.keras.optimizers.legacy.RMSprop(),\n",
    "}"
   ]
  },
  {
   "cell_type": "code",
   "execution_count": 7,
   "metadata": {},
   "outputs": [],
   "source": [
    "LOSS = {\"BinaryCrossentropy\": tf.keras.losses.BinaryCrossentropy()}"
   ]
  },
  {
   "cell_type": "code",
   "execution_count": 8,
   "metadata": {},
   "outputs": [],
   "source": [
    "METRICS = [\n",
    "    BinaryAccuracy(name=\"accuracy\"),\n",
    "    Precision(name=\"precision\"),\n",
    "    Recall(name=\"recall\"),\n",
    "    AUC(name=\"auc\"),\n",
    "]"
   ]
  },
  {
   "cell_type": "code",
   "execution_count": 9,
   "metadata": {},
   "outputs": [],
   "source": [
    "BATCH_SIZE = 64"
   ]
  },
  {
   "cell_type": "code",
   "execution_count": 10,
   "metadata": {},
   "outputs": [
    {
     "name": "stdout",
     "output_type": "stream",
     "text": [
      "Found 17906 validated image filenames belonging to 2 classes.\n",
      "Found 4286 validated image filenames belonging to 2 classes.\n",
      "Found 4286 validated image filenames belonging to 2 classes.\n",
      "Epoch 1/10\n"
     ]
    },
    {
     "name": "stderr",
     "output_type": "stream",
     "text": [
      "2025-02-28 20:44:24.982177: I tensorflow/core/grappler/optimizers/custom_graph_optimizer_registry.cc:114] Plugin optimizer for device_type GPU is enabled.\n"
     ]
    },
    {
     "name": "stdout",
     "output_type": "stream",
     "text": [
      "280/280 [==============================] - ETA: 0s - loss: 0.2896 - accuracy: 0.8708 - precision: 0.8945 - recall: 0.9355 - auc: 0.9310"
     ]
    },
    {
     "name": "stderr",
     "output_type": "stream",
     "text": [
      "2025-02-28 20:45:19.495595: I tensorflow/core/grappler/optimizers/custom_graph_optimizer_registry.cc:114] Plugin optimizer for device_type GPU is enabled.\n"
     ]
    },
    {
     "name": "stdout",
     "output_type": "stream",
     "text": [
      "280/280 [==============================] - 69s 243ms/step - loss: 0.2896 - accuracy: 0.8708 - precision: 0.8945 - recall: 0.9355 - auc: 0.9310 - val_loss: 0.2197 - val_accuracy: 0.9148 - val_precision: 0.9212 - val_recall: 0.9528 - val_auc: 0.9705\n",
      "Epoch 2/10\n",
      "280/280 [==============================] - 69s 248ms/step - loss: 0.2095 - accuracy: 0.9117 - precision: 0.9346 - recall: 0.9467 - auc: 0.9658 - val_loss: 0.1956 - val_accuracy: 0.9230 - val_precision: 0.9400 - val_recall: 0.9439 - val_auc: 0.9754\n",
      "Epoch 3/10\n",
      "280/280 [==============================] - 65s 231ms/step - loss: 0.1925 - accuracy: 0.9197 - precision: 0.9431 - recall: 0.9485 - auc: 0.9710 - val_loss: 0.1902 - val_accuracy: 0.9230 - val_precision: 0.9282 - val_recall: 0.9577 - val_auc: 0.9769\n",
      "Epoch 4/10\n",
      "280/280 [==============================] - 61s 217ms/step - loss: 0.1831 - accuracy: 0.9239 - precision: 0.9467 - recall: 0.9506 - auc: 0.9739 - val_loss: 0.1807 - val_accuracy: 0.9281 - val_precision: 0.9476 - val_recall: 0.9436 - val_auc: 0.9783\n",
      "Epoch 5/10\n",
      "280/280 [==============================] - 62s 220ms/step - loss: 0.1779 - accuracy: 0.9268 - precision: 0.9483 - recall: 0.9528 - auc: 0.9753 - val_loss: 0.1780 - val_accuracy: 0.9286 - val_precision: 0.9426 - val_recall: 0.9499 - val_auc: 0.9790\n",
      "Epoch 6/10\n",
      "280/280 [==============================] - 63s 226ms/step - loss: 0.1715 - accuracy: 0.9292 - precision: 0.9512 - recall: 0.9531 - auc: 0.9771 - val_loss: 0.1743 - val_accuracy: 0.9293 - val_precision: 0.9452 - val_recall: 0.9482 - val_auc: 0.9796\n",
      "Epoch 7/10\n",
      "280/280 [==============================] - 68s 242ms/step - loss: 0.1668 - accuracy: 0.9321 - precision: 0.9527 - recall: 0.9556 - auc: 0.9783 - val_loss: 0.1746 - val_accuracy: 0.9302 - val_precision: 0.9481 - val_recall: 0.9464 - val_auc: 0.9795\n",
      "Epoch 8/10\n",
      "280/280 [==============================] - 66s 237ms/step - loss: 0.1640 - accuracy: 0.9330 - precision: 0.9540 - recall: 0.9553 - auc: 0.9791 - val_loss: 0.1742 - val_accuracy: 0.9277 - val_precision: 0.9395 - val_recall: 0.9520 - val_auc: 0.9796\n",
      "Epoch 9/10\n",
      "280/280 [==============================] - 62s 219ms/step - loss: 0.1599 - accuracy: 0.9344 - precision: 0.9555 - recall: 0.9558 - auc: 0.9802 - val_loss: 0.1723 - val_accuracy: 0.9295 - val_precision: 0.9369 - val_recall: 0.9580 - val_auc: 0.9799\n",
      "Epoch 10/10\n",
      "280/280 [==============================] - 78s 279ms/step - loss: 0.1586 - accuracy: 0.9348 - precision: 0.9554 - recall: 0.9564 - auc: 0.9804 - val_loss: 0.1750 - val_accuracy: 0.9305 - val_precision: 0.9343 - val_recall: 0.9626 - val_auc: 0.9803\n"
     ]
    },
    {
     "name": "stderr",
     "output_type": "stream",
     "text": [
      "WARNING:absl:`mobilenetv2_1.00_224_input` is not a valid tf.function parameter name. Sanitizing to `mobilenetv2_1_00_224_input`.\n",
      "WARNING:absl:`mobilenetv2_1.00_224_input` is not a valid tf.function parameter name. Sanitizing to `mobilenetv2_1_00_224_input`.\n",
      "WARNING:absl:`mobilenetv2_1.00_224_input` is not a valid tf.function parameter name. Sanitizing to `mobilenetv2_1_00_224_input`.\n"
     ]
    },
    {
     "name": "stdout",
     "output_type": "stream",
     "text": [
      "INFO:tensorflow:Assets written to: /Users/litto/WORKSPACE/MegaClassifier/models/MegaClassifier_a_MobileNetV2/v2/v2.0/assets\n"
     ]
    },
    {
     "name": "stderr",
     "output_type": "stream",
     "text": [
      "INFO:tensorflow:Assets written to: /Users/litto/WORKSPACE/MegaClassifier/models/MegaClassifier_a_MobileNetV2/v2/v2.0/assets\n"
     ]
    },
    {
     "name": "stdout",
     "output_type": "stream",
     "text": [
      "67/67 [==============================] - 14s 208ms/step - loss: 0.1693 - accuracy: 0.9279 - precision: 0.9299 - recall: 0.9637 - auc: 0.9820\n"
     ]
    },
    {
     "name": "stderr",
     "output_type": "stream",
     "text": [
      "2025-02-28 20:55:48.315417: I tensorflow/core/grappler/optimizers/custom_graph_optimizer_registry.cc:114] Plugin optimizer for device_type GPU is enabled.\n"
     ]
    },
    {
     "name": "stdout",
     "output_type": "stream",
     "text": [
      "67/67 [==============================] - 13s 182ms/step\n",
      "\n",
      "\n",
      "\n",
      "Found 17906 validated image filenames belonging to 2 classes.\n",
      "Found 4286 validated image filenames belonging to 2 classes.\n",
      "Found 4286 validated image filenames belonging to 2 classes.\n",
      "Epoch 1/10\n"
     ]
    },
    {
     "name": "stderr",
     "output_type": "stream",
     "text": [
      "2025-02-28 20:56:02.770216: I tensorflow/core/grappler/optimizers/custom_graph_optimizer_registry.cc:114] Plugin optimizer for device_type GPU is enabled.\n"
     ]
    },
    {
     "name": "stdout",
     "output_type": "stream",
     "text": [
      "280/280 [==============================] - ETA: 0s - loss: 0.3080 - accuracy: 0.8739 - precision: 0.8903 - recall: 0.9419 - auc: 0.9396"
     ]
    },
    {
     "name": "stderr",
     "output_type": "stream",
     "text": [
      "2025-02-28 20:56:55.435897: I tensorflow/core/grappler/optimizers/custom_graph_optimizer_registry.cc:114] Plugin optimizer for device_type GPU is enabled.\n"
     ]
    },
    {
     "name": "stdout",
     "output_type": "stream",
     "text": [
      "280/280 [==============================] - 67s 234ms/step - loss: 0.3080 - accuracy: 0.8739 - precision: 0.8903 - recall: 0.9419 - auc: 0.9396 - val_loss: 0.2608 - val_accuracy: 0.9025 - val_precision: 0.9118 - val_recall: 0.9439 - val_auc: 0.9593\n",
      "Epoch 2/10\n",
      "280/280 [==============================] - 67s 240ms/step - loss: 0.2363 - accuracy: 0.8989 - precision: 0.9243 - recall: 0.9401 - auc: 0.9565 - val_loss: 0.2338 - val_accuracy: 0.9088 - val_precision: 0.9131 - val_recall: 0.9528 - val_auc: 0.9671\n",
      "Epoch 3/10\n",
      "280/280 [==============================] - 61s 216ms/step - loss: 0.2193 - accuracy: 0.9081 - precision: 0.9315 - recall: 0.9451 - auc: 0.9626 - val_loss: 0.2160 - val_accuracy: 0.9162 - val_precision: 0.9437 - val_recall: 0.9288 - val_auc: 0.9699\n",
      "Epoch 4/10\n",
      "280/280 [==============================] - 65s 232ms/step - loss: 0.2095 - accuracy: 0.9134 - precision: 0.9367 - recall: 0.9469 - auc: 0.9658 - val_loss: 0.2130 - val_accuracy: 0.9162 - val_precision: 0.9246 - val_recall: 0.9510 - val_auc: 0.9717\n",
      "Epoch 5/10\n",
      "280/280 [==============================] - 63s 226ms/step - loss: 0.2030 - accuracy: 0.9150 - precision: 0.9386 - recall: 0.9469 - auc: 0.9680 - val_loss: 0.2091 - val_accuracy: 0.9176 - val_precision: 0.9201 - val_recall: 0.9587 - val_auc: 0.9736\n",
      "Epoch 6/10\n",
      "280/280 [==============================] - 63s 227ms/step - loss: 0.1979 - accuracy: 0.9171 - precision: 0.9404 - recall: 0.9479 - auc: 0.9696 - val_loss: 0.1997 - val_accuracy: 0.9207 - val_precision: 0.9327 - val_recall: 0.9485 - val_auc: 0.9742\n",
      "Epoch 7/10\n",
      "280/280 [==============================] - 66s 234ms/step - loss: 0.1936 - accuracy: 0.9192 - precision: 0.9419 - recall: 0.9491 - auc: 0.9708 - val_loss: 0.1945 - val_accuracy: 0.9244 - val_precision: 0.9435 - val_recall: 0.9422 - val_auc: 0.9750\n",
      "Epoch 8/10\n",
      "280/280 [==============================] - 64s 229ms/step - loss: 0.1900 - accuracy: 0.9228 - precision: 0.9446 - recall: 0.9513 - auc: 0.9720 - val_loss: 0.1933 - val_accuracy: 0.9256 - val_precision: 0.9503 - val_recall: 0.9365 - val_auc: 0.9757\n",
      "Epoch 9/10\n",
      "280/280 [==============================] - 65s 230ms/step - loss: 0.1868 - accuracy: 0.9218 - precision: 0.9441 - recall: 0.9504 - auc: 0.9730 - val_loss: 0.1915 - val_accuracy: 0.9249 - val_precision: 0.9509 - val_recall: 0.9348 - val_auc: 0.9759\n",
      "Epoch 10/10\n",
      "280/280 [==============================] - 63s 226ms/step - loss: 0.1852 - accuracy: 0.9235 - precision: 0.9459 - recall: 0.9509 - auc: 0.9733 - val_loss: 0.1891 - val_accuracy: 0.9244 - val_precision: 0.9367 - val_recall: 0.9499 - val_auc: 0.9769\n"
     ]
    },
    {
     "name": "stderr",
     "output_type": "stream",
     "text": [
      "WARNING:absl:`mobilenetv2_1.00_224_input` is not a valid tf.function parameter name. Sanitizing to `mobilenetv2_1_00_224_input`.\n",
      "WARNING:absl:`mobilenetv2_1.00_224_input` is not a valid tf.function parameter name. Sanitizing to `mobilenetv2_1_00_224_input`.\n"
     ]
    },
    {
     "name": "stdout",
     "output_type": "stream",
     "text": [
      "INFO:tensorflow:Assets written to: /Users/litto/WORKSPACE/MegaClassifier/models/MegaClassifier_a_MobileNetV2/v2/v2.1/assets\n"
     ]
    },
    {
     "name": "stderr",
     "output_type": "stream",
     "text": [
      "INFO:tensorflow:Assets written to: /Users/litto/WORKSPACE/MegaClassifier/models/MegaClassifier_a_MobileNetV2/v2/v2.1/assets\n"
     ]
    },
    {
     "name": "stdout",
     "output_type": "stream",
     "text": [
      "67/67 [==============================] - 13s 189ms/step - loss: 0.1779 - accuracy: 0.9314 - precision: 0.9432 - recall: 0.9538 - auc: 0.9797\n"
     ]
    },
    {
     "name": "stderr",
     "output_type": "stream",
     "text": [
      "2025-02-28 21:07:04.203364: I tensorflow/core/grappler/optimizers/custom_graph_optimizer_registry.cc:114] Plugin optimizer for device_type GPU is enabled.\n"
     ]
    },
    {
     "name": "stdout",
     "output_type": "stream",
     "text": [
      "67/67 [==============================] - 13s 186ms/step\n",
      "\n",
      "\n",
      "\n",
      "Found 17906 validated image filenames belonging to 2 classes.\n",
      "Found 4286 validated image filenames belonging to 2 classes.\n",
      "Found 4286 validated image filenames belonging to 2 classes.\n",
      "Epoch 1/10\n"
     ]
    },
    {
     "name": "stderr",
     "output_type": "stream",
     "text": [
      "2025-02-28 21:07:18.849983: I tensorflow/core/grappler/optimizers/custom_graph_optimizer_registry.cc:114] Plugin optimizer for device_type GPU is enabled.\n"
     ]
    },
    {
     "name": "stdout",
     "output_type": "stream",
     "text": [
      "280/280 [==============================] - ETA: 0s - loss: 0.2415 - accuracy: 0.9019 - precision: 0.9266 - recall: 0.9388 - auc: 0.9594"
     ]
    },
    {
     "name": "stderr",
     "output_type": "stream",
     "text": [
      "2025-02-28 21:08:13.258819: I tensorflow/core/grappler/optimizers/custom_graph_optimizer_registry.cc:114] Plugin optimizer for device_type GPU is enabled.\n"
     ]
    },
    {
     "name": "stdout",
     "output_type": "stream",
     "text": [
      "280/280 [==============================] - 68s 237ms/step - loss: 0.2415 - accuracy: 0.9019 - precision: 0.9266 - recall: 0.9388 - auc: 0.9594 - val_loss: 0.2059 - val_accuracy: 0.9179 - val_precision: 0.9148 - val_recall: 0.9658 - val_auc: 0.9756\n",
      "Epoch 2/10\n",
      "280/280 [==============================] - 63s 226ms/step - loss: 0.1948 - accuracy: 0.9191 - precision: 0.9429 - recall: 0.9479 - auc: 0.9697 - val_loss: 0.1772 - val_accuracy: 0.9288 - val_precision: 0.9473 - val_recall: 0.9450 - val_auc: 0.9791\n",
      "Epoch 3/10\n",
      "280/280 [==============================] - 65s 230ms/step - loss: 0.1795 - accuracy: 0.9247 - precision: 0.9491 - recall: 0.9490 - auc: 0.9743 - val_loss: 0.1802 - val_accuracy: 0.9249 - val_precision: 0.9528 - val_recall: 0.9327 - val_auc: 0.9788\n",
      "Epoch 4/10\n",
      "280/280 [==============================] - 68s 241ms/step - loss: 0.1766 - accuracy: 0.9250 - precision: 0.9475 - recall: 0.9512 - auc: 0.9754 - val_loss: 0.1905 - val_accuracy: 0.9202 - val_precision: 0.9643 - val_recall: 0.9133 - val_auc: 0.9781\n",
      "Epoch 5/10\n",
      "280/280 [==============================] - 65s 232ms/step - loss: 0.1756 - accuracy: 0.9255 - precision: 0.9484 - recall: 0.9509 - auc: 0.9756 - val_loss: 0.1796 - val_accuracy: 0.9267 - val_precision: 0.9513 - val_recall: 0.9372 - val_auc: 0.9781\n",
      "Epoch 6/10\n",
      "280/280 [==============================] - 62s 223ms/step - loss: 0.1679 - accuracy: 0.9309 - precision: 0.9516 - recall: 0.9550 - auc: 0.9776 - val_loss: 0.1797 - val_accuracy: 0.9270 - val_precision: 0.9337 - val_recall: 0.9577 - val_auc: 0.9786\n",
      "Epoch 7/10\n",
      "280/280 [==============================] - 59s 210ms/step - loss: 0.1630 - accuracy: 0.9323 - precision: 0.9535 - recall: 0.9550 - auc: 0.9789 - val_loss: 0.1764 - val_accuracy: 0.9279 - val_precision: 0.9521 - val_recall: 0.9383 - val_auc: 0.9789\n",
      "Epoch 8/10\n",
      "280/280 [==============================] - 57s 205ms/step - loss: 0.1607 - accuracy: 0.9323 - precision: 0.9528 - recall: 0.9557 - auc: 0.9796 - val_loss: 0.1752 - val_accuracy: 0.9260 - val_precision: 0.9509 - val_recall: 0.9365 - val_auc: 0.9793\n",
      "Epoch 9/10\n",
      "280/280 [==============================] - 57s 204ms/step - loss: 0.1588 - accuracy: 0.9339 - precision: 0.9542 - recall: 0.9565 - auc: 0.9800 - val_loss: 0.1749 - val_accuracy: 0.9274 - val_precision: 0.9416 - val_recall: 0.9492 - val_auc: 0.9790\n",
      "Epoch 10/10\n",
      "280/280 [==============================] - 57s 205ms/step - loss: 0.1561 - accuracy: 0.9347 - precision: 0.9541 - recall: 0.9577 - auc: 0.9806 - val_loss: 0.1797 - val_accuracy: 0.9300 - val_precision: 0.9378 - val_recall: 0.9577 - val_auc: 0.9780\n",
      "INFO:tensorflow:Assets written to: /Users/litto/WORKSPACE/MegaClassifier/models/MegaClassifier_a_MobileNetV2/v2/v2.2/assets\n"
     ]
    },
    {
     "name": "stderr",
     "output_type": "stream",
     "text": [
      "INFO:tensorflow:Assets written to: /Users/litto/WORKSPACE/MegaClassifier/models/MegaClassifier_a_MobileNetV2/v2/v2.2/assets\n"
     ]
    },
    {
     "name": "stdout",
     "output_type": "stream",
     "text": [
      "67/67 [==============================] - 11s 166ms/step - loss: 0.1696 - accuracy: 0.9328 - precision: 0.9384 - recall: 0.9616 - auc: 0.9806\n"
     ]
    },
    {
     "name": "stderr",
     "output_type": "stream",
     "text": [
      "2025-02-28 21:17:56.491629: I tensorflow/core/grappler/optimizers/custom_graph_optimizer_registry.cc:114] Plugin optimizer for device_type GPU is enabled.\n"
     ]
    },
    {
     "name": "stdout",
     "output_type": "stream",
     "text": [
      "67/67 [==============================] - 11s 163ms/step\n",
      "\n",
      "\n",
      "\n",
      "Found 17906 validated image filenames belonging to 2 classes.\n",
      "Found 4286 validated image filenames belonging to 2 classes.\n",
      "Found 4286 validated image filenames belonging to 2 classes.\n",
      "Epoch 1/10\n"
     ]
    },
    {
     "name": "stderr",
     "output_type": "stream",
     "text": [
      "2025-02-28 21:18:09.179884: I tensorflow/core/grappler/optimizers/custom_graph_optimizer_registry.cc:114] Plugin optimizer for device_type GPU is enabled.\n"
     ]
    },
    {
     "name": "stdout",
     "output_type": "stream",
     "text": [
      "280/280 [==============================] - ETA: 0s - loss: 0.2561 - accuracy: 0.8978 - precision: 0.9169 - recall: 0.9445 - auc: 0.9560"
     ]
    },
    {
     "name": "stderr",
     "output_type": "stream",
     "text": [
      "2025-02-28 21:18:58.225508: I tensorflow/core/grappler/optimizers/custom_graph_optimizer_registry.cc:114] Plugin optimizer for device_type GPU is enabled.\n"
     ]
    },
    {
     "name": "stdout",
     "output_type": "stream",
     "text": [
      "280/280 [==============================] - 63s 220ms/step - loss: 0.2561 - accuracy: 0.8978 - precision: 0.9169 - recall: 0.9445 - auc: 0.9560 - val_loss: 0.2034 - val_accuracy: 0.9141 - val_precision: 0.9194 - val_recall: 0.9538 - val_auc: 0.9734\n",
      "Epoch 2/10\n",
      "280/280 [==============================] - 65s 232ms/step - loss: 0.2019 - accuracy: 0.9147 - precision: 0.9383 - recall: 0.9467 - auc: 0.9677 - val_loss: 0.1903 - val_accuracy: 0.9214 - val_precision: 0.9458 - val_recall: 0.9348 - val_auc: 0.9763\n",
      "Epoch 3/10\n",
      "280/280 [==============================] - 58s 206ms/step - loss: 0.1880 - accuracy: 0.9216 - precision: 0.9456 - recall: 0.9485 - auc: 0.9722 - val_loss: 0.1816 - val_accuracy: 0.9242 - val_precision: 0.9307 - val_recall: 0.9566 - val_auc: 0.9783\n",
      "Epoch 4/10\n",
      "280/280 [==============================] - 58s 205ms/step - loss: 0.1803 - accuracy: 0.9247 - precision: 0.9476 - recall: 0.9506 - auc: 0.9744 - val_loss: 0.1841 - val_accuracy: 0.9239 - val_precision: 0.9248 - val_recall: 0.9633 - val_auc: 0.9790\n",
      "Epoch 5/10\n",
      "280/280 [==============================] - 57s 203ms/step - loss: 0.1745 - accuracy: 0.9275 - precision: 0.9499 - recall: 0.9521 - auc: 0.9760 - val_loss: 0.1761 - val_accuracy: 0.9251 - val_precision: 0.9350 - val_recall: 0.9531 - val_auc: 0.9791\n",
      "Epoch 6/10\n",
      "280/280 [==============================] - 56s 201ms/step - loss: 0.1702 - accuracy: 0.9280 - precision: 0.9496 - recall: 0.9531 - auc: 0.9772 - val_loss: 0.1768 - val_accuracy: 0.9260 - val_precision: 0.9336 - val_recall: 0.9563 - val_auc: 0.9795\n",
      "Epoch 7/10\n",
      "280/280 [==============================] - 57s 204ms/step - loss: 0.1667 - accuracy: 0.9306 - precision: 0.9522 - recall: 0.9540 - auc: 0.9781 - val_loss: 0.1763 - val_accuracy: 0.9267 - val_precision: 0.9566 - val_recall: 0.9316 - val_auc: 0.9800\n",
      "Epoch 8/10\n",
      "280/280 [==============================] - 57s 202ms/step - loss: 0.1635 - accuracy: 0.9324 - precision: 0.9539 - recall: 0.9546 - auc: 0.9788 - val_loss: 0.1711 - val_accuracy: 0.9274 - val_precision: 0.9450 - val_recall: 0.9453 - val_auc: 0.9801\n",
      "Epoch 9/10\n",
      "280/280 [==============================] - 57s 203ms/step - loss: 0.1607 - accuracy: 0.9340 - precision: 0.9542 - recall: 0.9566 - auc: 0.9797 - val_loss: 0.1749 - val_accuracy: 0.9274 - val_precision: 0.9361 - val_recall: 0.9556 - val_auc: 0.9796\n",
      "Epoch 10/10\n",
      "280/280 [==============================] - 57s 202ms/step - loss: 0.1586 - accuracy: 0.9343 - precision: 0.9541 - recall: 0.9571 - auc: 0.9800 - val_loss: 0.1714 - val_accuracy: 0.9295 - val_precision: 0.9430 - val_recall: 0.9510 - val_auc: 0.9798\n",
      "INFO:tensorflow:Assets written to: /Users/litto/WORKSPACE/MegaClassifier/models/MegaClassifier_a_MobileNetV2/v2/v2.3/assets\n"
     ]
    },
    {
     "name": "stderr",
     "output_type": "stream",
     "text": [
      "INFO:tensorflow:Assets written to: /Users/litto/WORKSPACE/MegaClassifier/models/MegaClassifier_a_MobileNetV2/v2/v2.3/assets\n"
     ]
    },
    {
     "name": "stdout",
     "output_type": "stream",
     "text": [
      "67/67 [==============================] - 11s 164ms/step - loss: 0.1631 - accuracy: 0.9337 - precision: 0.9437 - recall: 0.9570 - auc: 0.9819\n"
     ]
    },
    {
     "name": "stderr",
     "output_type": "stream",
     "text": [
      "2025-02-28 21:28:09.277120: I tensorflow/core/grappler/optimizers/custom_graph_optimizer_registry.cc:114] Plugin optimizer for device_type GPU is enabled.\n"
     ]
    },
    {
     "name": "stdout",
     "output_type": "stream",
     "text": [
      "67/67 [==============================] - 11s 159ms/step\n",
      "\n",
      "\n",
      "\n",
      "Found 17906 validated image filenames belonging to 2 classes.\n",
      "Found 4286 validated image filenames belonging to 2 classes.\n",
      "Found 4286 validated image filenames belonging to 2 classes.\n"
     ]
    },
    {
     "name": "stderr",
     "output_type": "stream",
     "text": [
      "WARNING:absl:There is a known slowdown when using v2.11+ Keras optimizers on M1/M2 Macs. Falling back to the legacy Keras optimizer, i.e., `tf.keras.optimizers.legacy.AdamW`.\n"
     ]
    },
    {
     "name": "stdout",
     "output_type": "stream",
     "text": [
      "Epoch 1/10\n"
     ]
    },
    {
     "ename": "AttributeError",
     "evalue": "in user code:\n\n    File \"/Users/litto/miniconda/envs/TFG/lib/python3.8/site-packages/keras/src/engine/training.py\", line 1338, in train_function  *\n        return step_function(self, iterator)\n    File \"/Users/litto/miniconda/envs/TFG/lib/python3.8/site-packages/keras/src/engine/training.py\", line 1322, in step_function  **\n        outputs = model.distribute_strategy.run(run_step, args=(data,))\n    File \"/Users/litto/miniconda/envs/TFG/lib/python3.8/site-packages/keras/src/engine/training.py\", line 1303, in run_step  **\n        outputs = model.train_step(data)\n    File \"/Users/litto/miniconda/envs/TFG/lib/python3.8/site-packages/keras/src/engine/training.py\", line 1084, in train_step\n        self.optimizer.minimize(loss, self.trainable_variables, tape=tape)\n\n    AttributeError: 'str' object has no attribute 'minimize'\n",
     "output_type": "error",
     "traceback": [
      "\u001b[0;31m---------------------------------------------------------------------------\u001b[0m",
      "\u001b[0;31mAttributeError\u001b[0m                            Traceback (most recent call last)",
      "Cell \u001b[0;32mIn[10], line 75\u001b[0m\n\u001b[1;32m     60\u001b[0m model \u001b[38;5;241m=\u001b[39m tf\u001b[38;5;241m.\u001b[39mkeras\u001b[38;5;241m.\u001b[39mSequential(\n\u001b[1;32m     61\u001b[0m     [\n\u001b[1;32m     62\u001b[0m         pretrained_model,\n\u001b[0;32m   (...)\u001b[0m\n\u001b[1;32m     66\u001b[0m     name\u001b[38;5;241m=\u001b[39m\u001b[38;5;124mf\u001b[39m\u001b[38;5;124m\"\u001b[39m\u001b[38;5;132;01m{\u001b[39;00mMODEL_BASE_NAME\u001b[38;5;132;01m}\u001b[39;00m\u001b[38;5;124m_v\u001b[39m\u001b[38;5;132;01m{\u001b[39;00mVERSION\u001b[38;5;132;01m}\u001b[39;00m\u001b[38;5;124m.\u001b[39m\u001b[38;5;132;01m{\u001b[39;00mSUBVERSION\u001b[38;5;132;01m}\u001b[39;00m\u001b[38;5;124m\"\u001b[39m,\n\u001b[1;32m     67\u001b[0m )\n\u001b[1;32m     69\u001b[0m model\u001b[38;5;241m.\u001b[39mcompile(\n\u001b[1;32m     70\u001b[0m     optimizer\u001b[38;5;241m=\u001b[39mOPTIMIZERS[OPTIMIZER_NAME],\n\u001b[1;32m     71\u001b[0m     loss\u001b[38;5;241m=\u001b[39mLOSS[\u001b[38;5;124m\"\u001b[39m\u001b[38;5;124mBinaryCrossentropy\u001b[39m\u001b[38;5;124m\"\u001b[39m],\n\u001b[1;32m     72\u001b[0m     metrics\u001b[38;5;241m=\u001b[39mMETRICS,\n\u001b[1;32m     73\u001b[0m )\n\u001b[0;32m---> 75\u001b[0m history \u001b[38;5;241m=\u001b[39m \u001b[43mmodel\u001b[49m\u001b[38;5;241;43m.\u001b[39;49m\u001b[43mfit\u001b[49m\u001b[43m(\u001b[49m\n\u001b[1;32m     76\u001b[0m \u001b[43m    \u001b[49m\u001b[43mtrain_images\u001b[49m\u001b[43m,\u001b[49m\n\u001b[1;32m     77\u001b[0m \u001b[43m    \u001b[49m\u001b[43mepochs\u001b[49m\u001b[38;5;241;43m=\u001b[39;49m\u001b[43mEPOCHS\u001b[49m\u001b[43m,\u001b[49m\n\u001b[1;32m     78\u001b[0m \u001b[43m    \u001b[49m\u001b[43mvalidation_data\u001b[49m\u001b[38;5;241;43m=\u001b[39;49m\u001b[43mvalidation_images\u001b[49m\u001b[43m,\u001b[49m\n\u001b[1;32m     79\u001b[0m \u001b[43m    \u001b[49m\u001b[43mcallbacks\u001b[49m\u001b[38;5;241;43m=\u001b[39;49m\u001b[43m[\u001b[49m\u001b[43mTensorBoard\u001b[49m\u001b[43m(\u001b[49m\u001b[43mlog_dir\u001b[49m\u001b[38;5;241;43m=\u001b[39;49m\u001b[43mLOGS_PATH\u001b[49m\u001b[43m)\u001b[49m\u001b[43m]\u001b[49m\u001b[43m,\u001b[49m\n\u001b[1;32m     80\u001b[0m \u001b[43m\u001b[49m\u001b[43m)\u001b[49m\n\u001b[1;32m     82\u001b[0m dataframe \u001b[38;5;241m=\u001b[39m pd\u001b[38;5;241m.\u001b[39mDataFrame(history\u001b[38;5;241m.\u001b[39mhistory)\n\u001b[1;32m     83\u001b[0m history_path \u001b[38;5;241m=\u001b[39m os\u001b[38;5;241m.\u001b[39mpath\u001b[38;5;241m.\u001b[39mjoin(LOGS_PATH, \u001b[38;5;124mf\u001b[39m\u001b[38;5;124m\"\u001b[39m\u001b[38;5;124mhistory_v\u001b[39m\u001b[38;5;132;01m{\u001b[39;00mVERSION\u001b[38;5;132;01m}\u001b[39;00m\u001b[38;5;124m.\u001b[39m\u001b[38;5;132;01m{\u001b[39;00mSUBVERSION\u001b[38;5;132;01m}\u001b[39;00m\u001b[38;5;124m.csv\u001b[39m\u001b[38;5;124m\"\u001b[39m)\n",
      "File \u001b[0;32m~/miniconda/envs/TFG/lib/python3.8/site-packages/keras/src/utils/traceback_utils.py:70\u001b[0m, in \u001b[0;36mfilter_traceback.<locals>.error_handler\u001b[0;34m(*args, **kwargs)\u001b[0m\n\u001b[1;32m     67\u001b[0m     filtered_tb \u001b[38;5;241m=\u001b[39m _process_traceback_frames(e\u001b[38;5;241m.\u001b[39m__traceback__)\n\u001b[1;32m     68\u001b[0m     \u001b[38;5;66;03m# To get the full stack trace, call:\u001b[39;00m\n\u001b[1;32m     69\u001b[0m     \u001b[38;5;66;03m# `tf.debugging.disable_traceback_filtering()`\u001b[39;00m\n\u001b[0;32m---> 70\u001b[0m     \u001b[38;5;28;01mraise\u001b[39;00m e\u001b[38;5;241m.\u001b[39mwith_traceback(filtered_tb) \u001b[38;5;28;01mfrom\u001b[39;00m \u001b[38;5;28;01mNone\u001b[39;00m\n\u001b[1;32m     71\u001b[0m \u001b[38;5;28;01mfinally\u001b[39;00m:\n\u001b[1;32m     72\u001b[0m     \u001b[38;5;28;01mdel\u001b[39;00m filtered_tb\n",
      "File \u001b[0;32m/var/folders/fy/xnmbh7m55bjghqdjfps53_j00000gn/T/__autograph_generated_fileb41fwnwv.py:15\u001b[0m, in \u001b[0;36mouter_factory.<locals>.inner_factory.<locals>.tf__train_function\u001b[0;34m(iterator)\u001b[0m\n\u001b[1;32m     13\u001b[0m \u001b[38;5;28;01mtry\u001b[39;00m:\n\u001b[1;32m     14\u001b[0m     do_return \u001b[38;5;241m=\u001b[39m \u001b[38;5;28;01mTrue\u001b[39;00m\n\u001b[0;32m---> 15\u001b[0m     retval_ \u001b[38;5;241m=\u001b[39m ag__\u001b[38;5;241m.\u001b[39mconverted_call(ag__\u001b[38;5;241m.\u001b[39mld(step_function), (ag__\u001b[38;5;241m.\u001b[39mld(\u001b[38;5;28mself\u001b[39m), ag__\u001b[38;5;241m.\u001b[39mld(iterator)), \u001b[38;5;28;01mNone\u001b[39;00m, fscope)\n\u001b[1;32m     16\u001b[0m \u001b[38;5;28;01mexcept\u001b[39;00m:\n\u001b[1;32m     17\u001b[0m     do_return \u001b[38;5;241m=\u001b[39m \u001b[38;5;28;01mFalse\u001b[39;00m\n",
      "\u001b[0;31mAttributeError\u001b[0m: in user code:\n\n    File \"/Users/litto/miniconda/envs/TFG/lib/python3.8/site-packages/keras/src/engine/training.py\", line 1338, in train_function  *\n        return step_function(self, iterator)\n    File \"/Users/litto/miniconda/envs/TFG/lib/python3.8/site-packages/keras/src/engine/training.py\", line 1322, in step_function  **\n        outputs = model.distribute_strategy.run(run_step, args=(data,))\n    File \"/Users/litto/miniconda/envs/TFG/lib/python3.8/site-packages/keras/src/engine/training.py\", line 1303, in run_step  **\n        outputs = model.train_step(data)\n    File \"/Users/litto/miniconda/envs/TFG/lib/python3.8/site-packages/keras/src/engine/training.py\", line 1084, in train_step\n        self.optimizer.minimize(loss, self.trainable_variables, tape=tape)\n\n    AttributeError: 'str' object has no attribute 'minimize'\n"
     ]
    }
   ],
   "source": [
    "SUBVERSION = 0\n",
    "for OPTIMIZER_NAME, _ in OPTIMIZERS.items():\n",
    "    LOGS_PATH = os.path.abspath(\n",
    "        f\"./logs/{MODEL_BASE_NAME}/v{VERSION}/v{VERSION}.{SUBVERSION}\"\n",
    "    )\n",
    "    MODELS_PATH = os.path.abspath(\n",
    "        f\"./models/{MODEL_BASE_NAME}/v{VERSION}/v{VERSION}.{SUBVERSION}\"\n",
    "    )\n",
    "    REPORTS_PATH = os.path.abspath(\n",
    "        f\"./reports/{MODEL_BASE_NAME}/v{VERSION}/v{VERSION}.{SUBVERSION}\"\n",
    "    )\n",
    "\n",
    "    MODEL_COMPLETE_NAME = f\"{MODEL_BASE_NAME} v{VERSION}.{SUBVERSION}\"\n",
    "\n",
    "    train_datagen = ImageDataGenerator(\n",
    "        preprocessing_function=tf.keras.applications.mobilenet_v2.preprocess_input,\n",
    "    )\n",
    "    train_images = train_datagen.flow_from_dataframe(\n",
    "        dataframe=train_dataset,\n",
    "        x_col=\"file_name\",\n",
    "        y_col=\"binary_label\",\n",
    "        target_size=IMAGE_SIZE,\n",
    "        batch_size=BATCH_SIZE,\n",
    "        class_mode=\"binary\",\n",
    "        shuffle=True,\n",
    "        seed=SEED,\n",
    "    )\n",
    "\n",
    "    datagen = ImageDataGenerator(\n",
    "        preprocessing_function=tf.keras.applications.mobilenet_v2.preprocess_input,\n",
    "    )\n",
    "    validation_images = datagen.flow_from_dataframe(\n",
    "        dataframe=validationtrain_dataset,\n",
    "        x_col=\"file_name\",\n",
    "        y_col=\"binary_label\",\n",
    "        target_size=IMAGE_SIZE,\n",
    "        batch_size=BATCH_SIZE,\n",
    "        class_mode=\"binary\",\n",
    "        shuffle=True,\n",
    "        seed=SEED,\n",
    "    )\n",
    "    test_images = datagen.flow_from_dataframe(\n",
    "        dataframe=test_dataset,\n",
    "        x_col=\"file_name\",\n",
    "        y_col=\"binary_label\",\n",
    "        target_size=IMAGE_SIZE,\n",
    "        batch_size=BATCH_SIZE,\n",
    "        class_mode=\"binary\",\n",
    "        shuffle=False,\n",
    "        seed=SEED,\n",
    "    )\n",
    "\n",
    "    pretrained_model = tf.keras.applications.MobileNetV2(\n",
    "        weights=\"imagenet\",\n",
    "        include_top=False,\n",
    "        input_shape=IMAGE_SHAPE,\n",
    "    )\n",
    "    pretrained_model.trainable = False\n",
    "\n",
    "    model = tf.keras.Sequential(\n",
    "        [\n",
    "            pretrained_model,\n",
    "            tf.keras.layers.GlobalAveragePooling2D(),\n",
    "            tf.keras.layers.Dense(1, activation=\"sigmoid\"),\n",
    "        ],\n",
    "        name=f\"{MODEL_BASE_NAME}_v{VERSION}.{SUBVERSION}\",\n",
    "    )\n",
    "\n",
    "    model.compile(\n",
    "        optimizer=OPTIMIZERS[OPTIMIZER_NAME],\n",
    "        loss=LOSS[\"BinaryCrossentropy\"],\n",
    "        metrics=METRICS,\n",
    "    )\n",
    "\n",
    "    history = model.fit(\n",
    "        train_images,\n",
    "        epochs=EPOCHS,\n",
    "        validation_data=validation_images,\n",
    "        callbacks=[TensorBoard(log_dir=LOGS_PATH)],\n",
    "    )\n",
    "\n",
    "    dataframe = pd.DataFrame(history.history)\n",
    "    history_path = os.path.join(LOGS_PATH, f\"history_v{VERSION}.{SUBVERSION}.csv\")\n",
    "    dataframe.to_csv(history_path, sep=\";\", index=False)\n",
    "\n",
    "    os.makedirs(REPORTS_PATH, exist_ok=True)\n",
    "    accuracy_chart = graphics.create_training_accuracy_chart(\n",
    "        history_path=history_path,\n",
    "        model_name=MODEL_COMPLETE_NAME,\n",
    "    )\n",
    "    accuracy_chart.write_image(f\"{REPORTS_PATH}/accuracy_v{VERSION}.{SUBVERSION}.png\")\n",
    "\n",
    "    loss_chart = graphics.create_training_loss_chart(\n",
    "        history_path=history_path,\n",
    "        model_name=MODEL_COMPLETE_NAME,\n",
    "    )\n",
    "    loss_chart.write_image(f\"{REPORTS_PATH}/loss_v{VERSION}.{SUBVERSION}.png\")\n",
    "\n",
    "    os.makedirs(MODELS_PATH, exist_ok=True)\n",
    "    model.save(MODELS_PATH)\n",
    "\n",
    "    results = model.evaluate(test_images)\n",
    "    metric_names = history.model.metrics_names\n",
    "    evaluation_results = {\n",
    "        (\"test_\" + name): value for name, value in zip(metric_names, results)\n",
    "    }\n",
    "\n",
    "    evaluation = pd.DataFrame([evaluation_results])\n",
    "    evaluation.to_csv(\n",
    "        os.path.join(LOGS_PATH, f\"evaluation_v{VERSION}.{SUBVERSION}.csv\"),\n",
    "        sep=\";\",\n",
    "        index=False,\n",
    "    )\n",
    "\n",
    "    y_pred_prob = model.predict(test_images)\n",
    "    y_true = test_images.labels\n",
    "\n",
    "    fpr, tpr, thresholds = roc_curve(y_true, y_pred_prob)\n",
    "    roc_auc = auc(fpr, tpr)\n",
    "\n",
    "    roc_curve_chart = graphics.create_roc_curve_chart(\n",
    "        fpr=fpr,\n",
    "        tpr=tpr,\n",
    "        roc_auc=roc_auc,\n",
    "        model_name=MODEL_COMPLETE_NAME,\n",
    "    )\n",
    "    roc_curve_chart.write_image(f\"{REPORTS_PATH}/roc_curve_v{VERSION}.{SUBVERSION}.png\")\n",
    "\n",
    "    optimal_idx = np.argmax(tpr - fpr)\n",
    "    optimal_threshold = thresholds[optimal_idx]\n",
    "\n",
    "    # y_pred_prob = y_pred_prob.flatten()\n",
    "    y_pred_class = (y_pred_prob > optimal_threshold).astype(int)\n",
    "    conf_matrix = confusion_matrix(y_true, y_pred_class)\n",
    "    conf_matrix_text = [[str(value) for value in row] for row in conf_matrix]\n",
    "\n",
    "    # Crear el gráfico correctamente\n",
    "    confusion_matrix_chart = graphics.create_confusion_matrix_chart(\n",
    "        conf_matrix=conf_matrix,\n",
    "        conf_matrix_text=conf_matrix_text,\n",
    "        model_name=MODEL_COMPLETE_NAME,\n",
    "    )\n",
    "    confusion_matrix_chart.write_image(\n",
    "        f\"{REPORTS_PATH}/confusion_matrix_optimal_v{VERSION}.{SUBVERSION}.png\"\n",
    "    )\n",
    "\n",
    "    y_pred_class = (y_pred_prob > 0.5).astype(int)\n",
    "    conf_matrix = confusion_matrix(y_true, y_pred_class)\n",
    "    conf_matrix_text = [[str(value) for value in row] for row in conf_matrix]\n",
    "\n",
    "    confusion_matrix_chart = graphics.create_confusion_matrix_chart(\n",
    "        conf_matrix=conf_matrix,\n",
    "        conf_matrix_text=conf_matrix_text,\n",
    "        model_name=MODEL_COMPLETE_NAME,\n",
    "    )\n",
    "    confusion_matrix_chart.write_image(\n",
    "        f\"{REPORTS_PATH}/confusion_matrix_v{VERSION}.{SUBVERSION}.png\"\n",
    "    )\n",
    "\n",
    "    SUBVERSION += 1\n",
    "    print(\"\\n\\n\")\n"
   ]
  }
 ],
 "metadata": {
  "kernelspec": {
   "display_name": "TFG",
   "language": "python",
   "name": "python3"
  },
  "language_info": {
   "codemirror_mode": {
    "name": "ipython",
    "version": 3
   },
   "file_extension": ".py",
   "mimetype": "text/x-python",
   "name": "python",
   "nbconvert_exporter": "python",
   "pygments_lexer": "ipython3",
   "version": "3.8.19"
  }
 },
 "nbformat": 4,
 "nbformat_minor": 2
}
