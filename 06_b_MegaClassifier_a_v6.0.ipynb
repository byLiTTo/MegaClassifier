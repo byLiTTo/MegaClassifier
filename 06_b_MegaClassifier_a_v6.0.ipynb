{
 "cells": [
  {
   "metadata": {
    "ExecuteTime": {
     "end_time": "2025-02-24T10:18:47.922982Z",
     "start_time": "2025-02-24T09:18:59.465587Z"
    }
   },
   "cell_type": "code",
   "source": [
    "import os\n",
    "import time\n",
    "\n",
    "import numpy as np\n",
    "import pandas as pd\n",
    "import tensorflow as tf\n",
    "from keras.callbacks import TensorBoard\n",
    "from sklearn.utils.class_weight import compute_class_weight\n",
    "from tensorflow.keras import backend as K\n",
    "from tensorflow.keras.metrics import Precision, Recall, AUC\n",
    "from tensorflow.keras.preprocessing.image import ImageDataGenerator\n",
    "\n",
    "MODEL_NAME = \"MegaClassifier_a\"\n",
    "VERSION_BASE = \"v6\"\n",
    "EPOCHS = 10\n",
    "BATCH_SIZE = 32\n",
    "IMAGE_SIZE = (224, 224)\n",
    "IMAGE_SHAPE = IMAGE_SIZE + (3,)\n",
    "SEED = 42\n",
    "\n",
    "DATASET_CSV = os.path.abspath(\"./data/processed/onlyDetectionsForTrain/onlyDetectionsForTrain.csv\")\n",
    "DATASET_PATH = os.path.dirname(DATASET_CSV)\n",
    "\n",
    "dataset = pd.read_csv(DATASET_CSV, sep=\";\")\n",
    "dataset['file_name'] = dataset['file_name'].apply(lambda x: os.path.join(DATASET_PATH, x))\n",
    "dataset['binary_label'] = dataset['binary_label'].astype(str)\n",
    "\n",
    "train_df = dataset[dataset['subset'] == 'train']\n",
    "validation_df = dataset[dataset['subset'] == 'validation']\n",
    "test_df = dataset[dataset['subset'] == 'test']\n",
    "\n",
    "class_weights = compute_class_weight(class_weight=\"balanced\",\n",
    "                                     classes=np.unique(train_df['binary_label']),\n",
    "                                     y=train_df['binary_label'])\n",
    "class_weight_dict = {i: class_weights[i] for i in range(len(class_weights))}\n",
    "\n",
    "\n",
    "def focal_loss(alpha=0.25, gamma=1.0):\n",
    "    def loss(y_true, y_pred):\n",
    "        epsilon = K.epsilon()\n",
    "        y_pred = K.clip(y_pred, epsilon, 1.0 - epsilon)\n",
    "        pt = tf.where(K.equal(y_true, 1), y_pred, 1 - y_pred)\n",
    "        loss = -K.mean(alpha * K.pow(1. - pt, gamma) * K.log(pt))\n",
    "        return loss\n",
    "\n",
    "    return loss\n",
    "\n",
    "\n",
    "augmentation_configs = {\n",
    "    \"Rotation\": {\"rotation_range\": 20},\n",
    "    \"Zoom\": {\"zoom_range\": 0.2},\n",
    "    \"Brightness\": {\"brightness_range\": [0.8, 1.2]},\n",
    "    \"Flips\": {\"horizontal_flip\": True},\n",
    "    \"No_Augmentation\": {}\n",
    "}\n",
    "\n",
    "\n",
    "def train_and_evaluate(augmentation_type, augmentation_params, VERSION_INDEX):\n",
    "    print(f\"\\n🔹 Entrenando con {augmentation_type} 🔹\")\n",
    "\n",
    "    train_datagen = ImageDataGenerator(\n",
    "        preprocessing_function=tf.keras.applications.mobilenet_v2.preprocess_input,\n",
    "        **augmentation_params\n",
    "    )\n",
    "\n",
    "    datagen = ImageDataGenerator(preprocessing_function=tf.keras.applications.mobilenet_v2.preprocess_input)\n",
    "\n",
    "    train_images = train_datagen.flow_from_dataframe(\n",
    "        dataframe=train_df,\n",
    "        x_col=\"file_name\",\n",
    "        y_col=\"binary_label\",\n",
    "        target_size=IMAGE_SIZE,\n",
    "        batch_size=BATCH_SIZE,\n",
    "        class_mode=\"binary\",\n",
    "        shuffle=True,\n",
    "        seed=SEED,\n",
    "    )\n",
    "\n",
    "    validation_images = datagen.flow_from_dataframe(\n",
    "        dataframe=validation_df,\n",
    "        x_col=\"file_name\",\n",
    "        y_col=\"binary_label\",\n",
    "        target_size=IMAGE_SIZE,\n",
    "        batch_size=BATCH_SIZE,\n",
    "        class_mode=\"binary\",\n",
    "        shuffle=True,\n",
    "        seed=SEED,\n",
    "    )\n",
    "\n",
    "    test_images = datagen.flow_from_dataframe(\n",
    "        dataframe=test_df,\n",
    "        x_col=\"file_name\",\n",
    "        y_col=\"binary_label\",\n",
    "        target_size=IMAGE_SIZE,\n",
    "        batch_size=BATCH_SIZE,\n",
    "        class_mode=\"binary\",\n",
    "    )\n",
    "\n",
    "    mobilenet_v2 = tf.keras.applications.MobileNetV2(\n",
    "        weights=\"imagenet\",\n",
    "        include_top=False,\n",
    "        input_shape=IMAGE_SHAPE,\n",
    "    )\n",
    "    mobilenet_v2.trainable = False\n",
    "\n",
    "    model = tf.keras.Sequential([\n",
    "        mobilenet_v2,\n",
    "        tf.keras.layers.GlobalAveragePooling2D(),\n",
    "        tf.keras.layers.Dense(1, activation=\"sigmoid\"),\n",
    "    ], name=f\"{MODEL_NAME}_{VERSION_BASE}_{VERSION_INDEX}\")\n",
    "\n",
    "    model.compile(\n",
    "        optimizer=tf.keras.optimizers.Adam(learning_rate=0.0005),\n",
    "        loss=focal_loss(alpha=0.25, gamma=1.0),\n",
    "        metrics=[\"accuracy\", Precision(name=\"precision\"), Recall(name=\"recall\"), AUC(name=\"auc\")],\n",
    "    )\n",
    "\n",
    "    start_time = time.time()\n",
    "    history = model.fit(\n",
    "        train_images,\n",
    "        epochs=EPOCHS,\n",
    "        validation_data=validation_images,\n",
    "        class_weight=class_weight_dict,\n",
    "        callbacks=[\n",
    "            TensorBoard(log_dir=f\"./logs/{MODEL_NAME}/{VERSION_BASE}/{VERSION_BASE}.{VERSION_INDEX}\"),\n",
    "        ]\n",
    "    )\n",
    "    training_time = time.time() - start_time\n",
    "\n",
    "    results = model.evaluate(test_images)\n",
    "\n",
    "    history_df = pd.DataFrame(history.history)\n",
    "    os.makedirs(f\"./logs/{MODEL_NAME}/{VERSION_BASE}/{VERSION_BASE}.{VERSION_INDEX}\", exist_ok=True)\n",
    "    history_df.to_csv(\n",
    "        f\"./logs/{MODEL_NAME}/{VERSION_BASE}/{VERSION_BASE}.{VERSION_INDEX}/history_{VERSION_BASE}.{VERSION_INDEX}.csv\",\n",
    "        index=False)\n",
    "\n",
    "    metric_names = history.model.metrics_names\n",
    "    evaluation_results = {(\"test_\" + name): value for name, value in zip(metric_names, results)}\n",
    "    evaluation_results[\"augmentation_type\"] = augmentation_type\n",
    "    evaluation_results[\"training_time\"] = training_time\n",
    "\n",
    "    results_df = pd.DataFrame([evaluation_results])\n",
    "    results_df.to_csv(\n",
    "        f\"./logs/{MODEL_NAME}/{VERSION_BASE}/{VERSION_BASE}.{VERSION_INDEX}/results_{VERSION_BASE}.{VERSION_INDEX}.csv\",\n",
    "        index=False)\n",
    "\n",
    "    print(f\"\\n📉 Loss: {results[0]:.4f}\")\n",
    "    print(f\"🎯 Accuracy: {results[1]:.4%}\")\n",
    "    print(f\"✅ Precision: {results[2]:.4%}\")\n",
    "    print(f\"🔄 Recall: {results[3]:.4%}\")\n",
    "    print(f\"📊 AUC: {results[4]:.4f}\")\n",
    "    print(f\"⏳ Tiempo de entrenamiento: {training_time:.2f} segundos\")\n",
    "\n",
    "    return results_df\n",
    "\n",
    "\n",
    "count = 0\n",
    "all_results = []\n",
    "for aug_type, aug_params in augmentation_configs.items():\n",
    "    results_df = train_and_evaluate(aug_type, aug_params, count)\n",
    "    all_results.append(results_df)\n",
    "    count += 1\n",
    "\n",
    "final_results = pd.concat(all_results, ignore_index=True)\n",
    "final_results.to_csv(f\"./logs/{MODEL_NAME}/{VERSION_BASE}/augmentation_comparison.csv\", index=False)\n",
    "\n",
    "print(\"\\n✅ ¡Evaluación de Data Augmentation completada!\")"
   ],
   "id": "7d11e162eeed628f",
   "outputs": [
    {
     "name": "stdout",
     "output_type": "stream",
     "text": [
      "\n",
      "🔹 Entrenando con Rotation 🔹\n",
      "Found 17054 validated image filenames belonging to 2 classes.\n",
      "Found 4286 validated image filenames belonging to 2 classes.\n",
      "Found 4286 validated image filenames belonging to 2 classes.\n"
     ]
    },
    {
     "name": "stderr",
     "output_type": "stream",
     "text": [
      "2025-02-24 10:18:59.653085: I metal_plugin/src/device/metal_device.cc:1154] Metal device set to: Apple M3\n",
      "2025-02-24 10:18:59.653113: I metal_plugin/src/device/metal_device.cc:296] systemMemory: 16.00 GB\n",
      "2025-02-24 10:18:59.653121: I metal_plugin/src/device/metal_device.cc:313] maxCacheSize: 5.33 GB\n",
      "2025-02-24 10:18:59.653302: I tensorflow/core/common_runtime/pluggable_device/pluggable_device_factory.cc:303] Could not identify NUMA node of platform GPU ID 0, defaulting to 0. Your kernel may not have been built with NUMA support.\n",
      "2025-02-24 10:18:59.653318: I tensorflow/core/common_runtime/pluggable_device/pluggable_device_factory.cc:269] Created TensorFlow device (/job:localhost/replica:0/task:0/device:GPU:0 with 0 MB memory) -> physical PluggableDevice (device: 0, name: METAL, pci bus id: <undefined>)\n",
      "WARNING:absl:At this time, the v2.11+ optimizer `tf.keras.optimizers.Adam` runs slowly on M1/M2 Macs, please use the legacy Keras optimizer instead, located at `tf.keras.optimizers.legacy.Adam`.\n",
      "WARNING:absl:There is a known slowdown when using v2.11+ Keras optimizers on M1/M2 Macs. Falling back to the legacy Keras optimizer, i.e., `tf.keras.optimizers.legacy.Adam`.\n"
     ]
    },
    {
     "name": "stdout",
     "output_type": "stream",
     "text": [
      "Epoch 1/10\n"
     ]
    },
    {
     "name": "stderr",
     "output_type": "stream",
     "text": [
      "2025-02-24 10:19:01.398841: I tensorflow/core/grappler/optimizers/custom_graph_optimizer_registry.cc:114] Plugin optimizer for device_type GPU is enabled.\n"
     ]
    },
    {
     "name": "stdout",
     "output_type": "stream",
     "text": [
      "533/533 [==============================] - ETA: 0s - loss: 0.0403 - accuracy: 0.8617 - precision: 0.8971 - recall: 0.9281 - auc: 0.9078"
     ]
    },
    {
     "name": "stderr",
     "output_type": "stream",
     "text": [
      "2025-02-24 10:20:27.546075: I tensorflow/core/grappler/optimizers/custom_graph_optimizer_registry.cc:114] Plugin optimizer for device_type GPU is enabled.\n"
     ]
    },
    {
     "name": "stdout",
     "output_type": "stream",
     "text": [
      "533/533 [==============================] - 98s 182ms/step - loss: 0.0403 - accuracy: 0.8617 - precision: 0.8971 - recall: 0.9281 - auc: 0.9078 - val_loss: 0.0300 - val_accuracy: 0.9032 - val_precision: 0.9322 - val_recall: 0.9207 - val_auc: 0.9635\n",
      "Epoch 2/10\n",
      "533/533 [==============================] - 95s 178ms/step - loss: 0.0289 - accuracy: 0.9048 - precision: 0.9320 - recall: 0.9461 - auc: 0.9544 - val_loss: 0.0257 - val_accuracy: 0.9155 - val_precision: 0.9415 - val_recall: 0.9302 - val_auc: 0.9731\n",
      "Epoch 3/10\n",
      "533/533 [==============================] - 96s 179ms/step - loss: 0.0269 - accuracy: 0.9118 - precision: 0.9376 - recall: 0.9494 - auc: 0.9610 - val_loss: 0.0246 - val_accuracy: 0.9228 - val_precision: 0.9472 - val_recall: 0.9355 - val_auc: 0.9753\n",
      "Epoch 4/10\n",
      "533/533 [==============================] - 95s 178ms/step - loss: 0.0252 - accuracy: 0.9221 - precision: 0.9459 - recall: 0.9541 - auc: 0.9664 - val_loss: 0.0255 - val_accuracy: 0.9151 - val_precision: 0.9640 - val_recall: 0.9055 - val_auc: 0.9762\n",
      "Epoch 5/10\n",
      "533/533 [==============================] - 96s 179ms/step - loss: 0.0242 - accuracy: 0.9235 - precision: 0.9471 - recall: 0.9547 - auc: 0.9690 - val_loss: 0.0282 - val_accuracy: 0.9050 - val_precision: 0.9728 - val_recall: 0.8812 - val_auc: 0.9763\n",
      "Epoch 6/10\n",
      "533/533 [==============================] - 95s 178ms/step - loss: 0.0239 - accuracy: 0.9215 - precision: 0.9460 - recall: 0.9532 - auc: 0.9692 - val_loss: 0.0241 - val_accuracy: 0.9204 - val_precision: 0.9565 - val_recall: 0.9217 - val_auc: 0.9775\n",
      "Epoch 7/10\n",
      "533/533 [==============================] - 95s 177ms/step - loss: 0.0236 - accuracy: 0.9245 - precision: 0.9479 - recall: 0.9551 - auc: 0.9703 - val_loss: 0.0232 - val_accuracy: 0.9239 - val_precision: 0.9557 - val_recall: 0.9281 - val_auc: 0.9788\n",
      "Epoch 8/10\n",
      "533/533 [==============================] - 95s 179ms/step - loss: 0.0231 - accuracy: 0.9262 - precision: 0.9497 - recall: 0.9554 - auc: 0.9716 - val_loss: 0.0223 - val_accuracy: 0.9284 - val_precision: 0.9486 - val_recall: 0.9429 - val_auc: 0.9793\n",
      "Epoch 9/10\n",
      "533/533 [==============================] - 97s 182ms/step - loss: 0.0227 - accuracy: 0.9266 - precision: 0.9492 - recall: 0.9566 - auc: 0.9727 - val_loss: 0.0228 - val_accuracy: 0.9277 - val_precision: 0.9616 - val_recall: 0.9277 - val_auc: 0.9799\n",
      "Epoch 10/10\n",
      "533/533 [==============================] - 96s 181ms/step - loss: 0.0225 - accuracy: 0.9280 - precision: 0.9505 - recall: 0.9570 - auc: 0.9732 - val_loss: 0.0232 - val_accuracy: 0.9272 - val_precision: 0.9616 - val_recall: 0.9270 - val_auc: 0.9791\n",
      "134/134 [==============================] - 11s 82ms/step - loss: 0.0210 - accuracy: 0.9272 - precision: 0.9629 - recall: 0.9256 - auc: 0.9826\n",
      "\n",
      "📉 Loss: 0.0210\n",
      "🎯 Accuracy: 92.7205%\n",
      "✅ Precision: 96.2949%\n",
      "🔄 Recall: 92.5599%\n",
      "📊 AUC: 0.9826\n",
      "⏳ Tiempo de entrenamiento: 958.66 segundos\n",
      "\n",
      "🔹 Entrenando con Zoom 🔹\n",
      "Found 17054 validated image filenames belonging to 2 classes.\n",
      "Found 4286 validated image filenames belonging to 2 classes.\n",
      "Found 4286 validated image filenames belonging to 2 classes.\n"
     ]
    },
    {
     "name": "stderr",
     "output_type": "stream",
     "text": [
      "WARNING:absl:At this time, the v2.11+ optimizer `tf.keras.optimizers.Adam` runs slowly on M1/M2 Macs, please use the legacy Keras optimizer instead, located at `tf.keras.optimizers.legacy.Adam`.\n",
      "WARNING:absl:There is a known slowdown when using v2.11+ Keras optimizers on M1/M2 Macs. Falling back to the legacy Keras optimizer, i.e., `tf.keras.optimizers.legacy.Adam`.\n"
     ]
    },
    {
     "name": "stdout",
     "output_type": "stream",
     "text": [
      "Epoch 1/10\n"
     ]
    },
    {
     "name": "stderr",
     "output_type": "stream",
     "text": [
      "2025-02-24 10:35:12.220000: I tensorflow/core/grappler/optimizers/custom_graph_optimizer_registry.cc:114] Plugin optimizer for device_type GPU is enabled.\n"
     ]
    },
    {
     "name": "stdout",
     "output_type": "stream",
     "text": [
      "533/533 [==============================] - ETA: 0s - loss: 0.0340 - accuracy: 0.8830 - precision: 0.9160 - recall: 0.9347 - auc: 0.9359"
     ]
    },
    {
     "name": "stderr",
     "output_type": "stream",
     "text": [
      "2025-02-24 10:36:37.179005: I tensorflow/core/grappler/optimizers/custom_graph_optimizer_registry.cc:114] Plugin optimizer for device_type GPU is enabled.\n"
     ]
    },
    {
     "name": "stdout",
     "output_type": "stream",
     "text": [
      "533/533 [==============================] - 97s 180ms/step - loss: 0.0340 - accuracy: 0.8830 - precision: 0.9160 - recall: 0.9347 - auc: 0.9359 - val_loss: 0.0333 - val_accuracy: 0.9111 - val_precision: 0.9408 - val_recall: 0.9238 - val_auc: 0.9558\n",
      "Epoch 2/10\n",
      "533/533 [==============================] - 96s 181ms/step - loss: 0.0263 - accuracy: 0.9128 - precision: 0.9421 - recall: 0.9457 - auc: 0.9627 - val_loss: 0.0295 - val_accuracy: 0.9153 - val_precision: 0.9531 - val_recall: 0.9171 - val_auc: 0.9653\n",
      "Epoch 3/10\n",
      "533/533 [==============================] - 95s 178ms/step - loss: 0.0246 - accuracy: 0.9202 - precision: 0.9477 - recall: 0.9495 - auc: 0.9679 - val_loss: 0.0287 - val_accuracy: 0.9204 - val_precision: 0.9518 - val_recall: 0.9267 - val_auc: 0.9649\n",
      "Epoch 4/10\n",
      "533/533 [==============================] - 96s 179ms/step - loss: 0.0235 - accuracy: 0.9232 - precision: 0.9500 - recall: 0.9510 - auc: 0.9706 - val_loss: 0.0279 - val_accuracy: 0.9265 - val_precision: 0.9589 - val_recall: 0.9288 - val_auc: 0.9662\n",
      "Epoch 5/10\n",
      "533/533 [==============================] - 95s 178ms/step - loss: 0.0228 - accuracy: 0.9275 - precision: 0.9526 - recall: 0.9539 - auc: 0.9725 - val_loss: 0.0284 - val_accuracy: 0.9172 - val_precision: 0.9576 - val_recall: 0.9154 - val_auc: 0.9657\n",
      "Epoch 6/10\n",
      "533/533 [==============================] - 95s 178ms/step - loss: 0.0221 - accuracy: 0.9300 - precision: 0.9546 - recall: 0.9551 - auc: 0.9738 - val_loss: 0.0275 - val_accuracy: 0.9137 - val_precision: 0.9728 - val_recall: 0.8946 - val_auc: 0.9732\n",
      "Epoch 7/10\n",
      "533/533 [==============================] - 94s 177ms/step - loss: 0.0221 - accuracy: 0.9282 - precision: 0.9533 - recall: 0.9542 - auc: 0.9740 - val_loss: 0.0257 - val_accuracy: 0.9270 - val_precision: 0.9592 - val_recall: 0.9291 - val_auc: 0.9712\n",
      "Epoch 8/10\n",
      "533/533 [==============================] - 95s 178ms/step - loss: 0.0216 - accuracy: 0.9302 - precision: 0.9547 - recall: 0.9553 - auc: 0.9751 - val_loss: 0.0257 - val_accuracy: 0.9207 - val_precision: 0.9685 - val_recall: 0.9097 - val_auc: 0.9743\n",
      "Epoch 9/10\n",
      "533/533 [==============================] - 93s 175ms/step - loss: 0.0218 - accuracy: 0.9291 - precision: 0.9536 - recall: 0.9550 - auc: 0.9750 - val_loss: 0.0252 - val_accuracy: 0.9221 - val_precision: 0.9675 - val_recall: 0.9129 - val_auc: 0.9747\n",
      "Epoch 10/10\n",
      "533/533 [==============================] - 94s 177ms/step - loss: 0.0209 - accuracy: 0.9333 - precision: 0.9570 - recall: 0.9569 - auc: 0.9769 - val_loss: 0.0250 - val_accuracy: 0.9256 - val_precision: 0.9538 - val_recall: 0.9327 - val_auc: 0.9735\n",
      "134/134 [==============================] - 11s 82ms/step - loss: 0.0228 - accuracy: 0.9356 - precision: 0.9552 - recall: 0.9471 - auc: 0.9791\n",
      "\n",
      "📉 Loss: 0.0228\n",
      "🎯 Accuracy: 93.5604%\n",
      "✅ Precision: 95.5192%\n",
      "🔄 Recall: 94.7109%\n",
      "📊 AUC: 0.9791\n",
      "⏳ Tiempo de entrenamiento: 951.83 segundos\n",
      "\n",
      "🔹 Entrenando con Brightness 🔹\n",
      "Found 17054 validated image filenames belonging to 2 classes.\n",
      "Found 4286 validated image filenames belonging to 2 classes.\n",
      "Found 4286 validated image filenames belonging to 2 classes.\n"
     ]
    },
    {
     "name": "stderr",
     "output_type": "stream",
     "text": [
      "WARNING:absl:At this time, the v2.11+ optimizer `tf.keras.optimizers.Adam` runs slowly on M1/M2 Macs, please use the legacy Keras optimizer instead, located at `tf.keras.optimizers.legacy.Adam`.\n",
      "WARNING:absl:There is a known slowdown when using v2.11+ Keras optimizers on M1/M2 Macs. Falling back to the legacy Keras optimizer, i.e., `tf.keras.optimizers.legacy.Adam`.\n"
     ]
    },
    {
     "name": "stdout",
     "output_type": "stream",
     "text": [
      "Epoch 1/10\n"
     ]
    },
    {
     "name": "stderr",
     "output_type": "stream",
     "text": [
      "2025-02-24 10:51:15.837331: I tensorflow/core/grappler/optimizers/custom_graph_optimizer_registry.cc:114] Plugin optimizer for device_type GPU is enabled.\n"
     ]
    },
    {
     "name": "stdout",
     "output_type": "stream",
     "text": [
      "533/533 [==============================] - ETA: 0s - loss: 0.0357 - accuracy: 0.8782 - precision: 0.9080 - recall: 0.9380 - auc: 0.9291"
     ]
    },
    {
     "name": "stderr",
     "output_type": "stream",
     "text": [
      "2025-02-24 10:52:00.487966: I tensorflow/core/grappler/optimizers/custom_graph_optimizer_registry.cc:114] Plugin optimizer for device_type GPU is enabled.\n"
     ]
    },
    {
     "name": "stdout",
     "output_type": "stream",
     "text": [
      "533/533 [==============================] - 57s 104ms/step - loss: 0.0357 - accuracy: 0.8782 - precision: 0.9080 - recall: 0.9380 - auc: 0.9291 - val_loss: 0.0249 - val_accuracy: 0.9223 - val_precision: 0.9350 - val_recall: 0.9485 - val_auc: 0.9744\n",
      "Epoch 2/10\n",
      "533/533 [==============================] - 55s 102ms/step - loss: 0.0261 - accuracy: 0.9137 - precision: 0.9400 - recall: 0.9492 - auc: 0.9639 - val_loss: 0.0224 - val_accuracy: 0.9279 - val_precision: 0.9543 - val_recall: 0.9358 - val_auc: 0.9799\n",
      "Epoch 3/10\n",
      "533/533 [==============================] - 54s 102ms/step - loss: 0.0240 - accuracy: 0.9231 - precision: 0.9479 - recall: 0.9531 - auc: 0.9697 - val_loss: 0.0209 - val_accuracy: 0.9342 - val_precision: 0.9478 - val_recall: 0.9531 - val_auc: 0.9817\n",
      "Epoch 4/10\n",
      "533/533 [==============================] - 54s 101ms/step - loss: 0.0226 - accuracy: 0.9288 - precision: 0.9514 - recall: 0.9570 - auc: 0.9729 - val_loss: 0.0209 - val_accuracy: 0.9333 - val_precision: 0.9355 - val_recall: 0.9658 - val_auc: 0.9826\n",
      "Epoch 5/10\n",
      "533/533 [==============================] - 54s 102ms/step - loss: 0.0219 - accuracy: 0.9315 - precision: 0.9543 - recall: 0.9574 - auc: 0.9748 - val_loss: 0.0200 - val_accuracy: 0.9396 - val_precision: 0.9482 - val_recall: 0.9612 - val_auc: 0.9833\n",
      "Epoch 6/10\n",
      "533/533 [==============================] - 54s 101ms/step - loss: 0.0211 - accuracy: 0.9324 - precision: 0.9550 - recall: 0.9580 - auc: 0.9765 - val_loss: 0.0204 - val_accuracy: 0.9391 - val_precision: 0.9387 - val_recall: 0.9714 - val_auc: 0.9837\n",
      "Epoch 7/10\n",
      "533/533 [==============================] - 54s 102ms/step - loss: 0.0205 - accuracy: 0.9354 - precision: 0.9565 - recall: 0.9604 - auc: 0.9781 - val_loss: 0.0197 - val_accuracy: 0.9419 - val_precision: 0.9615 - val_recall: 0.9503 - val_auc: 0.9840\n",
      "Epoch 8/10\n",
      "533/533 [==============================] - 54s 102ms/step - loss: 0.0201 - accuracy: 0.9366 - precision: 0.9579 - recall: 0.9604 - auc: 0.9787 - val_loss: 0.0201 - val_accuracy: 0.9363 - val_precision: 0.9652 - val_recall: 0.9376 - val_auc: 0.9839\n",
      "Epoch 9/10\n",
      "533/533 [==============================] - 54s 102ms/step - loss: 0.0198 - accuracy: 0.9374 - precision: 0.9584 - recall: 0.9610 - auc: 0.9794 - val_loss: 0.0198 - val_accuracy: 0.9412 - val_precision: 0.9434 - val_recall: 0.9693 - val_auc: 0.9844\n",
      "Epoch 10/10\n",
      "533/533 [==============================] - 54s 102ms/step - loss: 0.0195 - accuracy: 0.9369 - precision: 0.9579 - recall: 0.9608 - auc: 0.9799 - val_loss: 0.0195 - val_accuracy: 0.9419 - val_precision: 0.9480 - val_recall: 0.9651 - val_auc: 0.9841\n",
      "134/134 [==============================] - 11s 82ms/step - loss: 0.0181 - accuracy: 0.9403 - precision: 0.9421 - recall: 0.9693 - auc: 0.9871\n",
      "\n",
      "📉 Loss: 0.0181\n",
      "🎯 Accuracy: 94.0271%\n",
      "✅ Precision: 94.2084%\n",
      "🔄 Recall: 96.9323%\n",
      "📊 AUC: 0.9871\n",
      "⏳ Tiempo de entrenamiento: 544.85 segundos\n",
      "\n",
      "🔹 Entrenando con Flips 🔹\n",
      "Found 17054 validated image filenames belonging to 2 classes.\n",
      "Found 4286 validated image filenames belonging to 2 classes.\n",
      "Found 4286 validated image filenames belonging to 2 classes.\n"
     ]
    },
    {
     "name": "stderr",
     "output_type": "stream",
     "text": [
      "WARNING:absl:At this time, the v2.11+ optimizer `tf.keras.optimizers.Adam` runs slowly on M1/M2 Macs, please use the legacy Keras optimizer instead, located at `tf.keras.optimizers.legacy.Adam`.\n",
      "WARNING:absl:There is a known slowdown when using v2.11+ Keras optimizers on M1/M2 Macs. Falling back to the legacy Keras optimizer, i.e., `tf.keras.optimizers.legacy.Adam`.\n"
     ]
    },
    {
     "name": "stdout",
     "output_type": "stream",
     "text": [
      "Epoch 1/10\n"
     ]
    },
    {
     "name": "stderr",
     "output_type": "stream",
     "text": [
      "2025-02-24 11:00:32.153673: I tensorflow/core/grappler/optimizers/custom_graph_optimizer_registry.cc:114] Plugin optimizer for device_type GPU is enabled.\n"
     ]
    },
    {
     "name": "stdout",
     "output_type": "stream",
     "text": [
      "533/533 [==============================] - ETA: 0s - loss: 0.0385 - accuracy: 0.8661 - precision: 0.8975 - recall: 0.9340 - auc: 0.9155"
     ]
    },
    {
     "name": "stderr",
     "output_type": "stream",
     "text": [
      "2025-02-24 11:01:16.810867: I tensorflow/core/grappler/optimizers/custom_graph_optimizer_registry.cc:114] Plugin optimizer for device_type GPU is enabled.\n"
     ]
    },
    {
     "name": "stdout",
     "output_type": "stream",
     "text": [
      "533/533 [==============================] - 56s 104ms/step - loss: 0.0385 - accuracy: 0.8661 - precision: 0.8975 - recall: 0.9340 - auc: 0.9155 - val_loss: 0.0271 - val_accuracy: 0.9195 - val_precision: 0.9356 - val_recall: 0.9432 - val_auc: 0.9702\n",
      "Epoch 2/10\n",
      "533/533 [==============================] - 55s 102ms/step - loss: 0.0264 - accuracy: 0.9134 - precision: 0.9397 - recall: 0.9492 - auc: 0.9627 - val_loss: 0.0236 - val_accuracy: 0.9281 - val_precision: 0.9511 - val_recall: 0.9397 - val_auc: 0.9768\n",
      "Epoch 3/10\n",
      "533/533 [==============================] - 54s 101ms/step - loss: 0.0242 - accuracy: 0.9225 - precision: 0.9467 - recall: 0.9538 - auc: 0.9691 - val_loss: 0.0235 - val_accuracy: 0.9326 - val_precision: 0.9650 - val_recall: 0.9319 - val_auc: 0.9777\n",
      "Epoch 4/10\n",
      "533/533 [==============================] - 54s 102ms/step - loss: 0.0225 - accuracy: 0.9272 - precision: 0.9511 - recall: 0.9552 - auc: 0.9732 - val_loss: 0.0216 - val_accuracy: 0.9351 - val_precision: 0.9617 - val_recall: 0.9394 - val_auc: 0.9807\n",
      "Epoch 5/10\n",
      "533/533 [==============================] - 54s 102ms/step - loss: 0.0220 - accuracy: 0.9281 - precision: 0.9515 - recall: 0.9560 - auc: 0.9747 - val_loss: 0.0213 - val_accuracy: 0.9368 - val_precision: 0.9439 - val_recall: 0.9616 - val_auc: 0.9813\n",
      "Epoch 6/10\n",
      "533/533 [==============================] - 54s 101ms/step - loss: 0.0211 - accuracy: 0.9307 - precision: 0.9523 - recall: 0.9586 - auc: 0.9765 - val_loss: 0.0207 - val_accuracy: 0.9389 - val_precision: 0.9441 - val_recall: 0.9647 - val_auc: 0.9828\n",
      "Epoch 7/10\n",
      "533/533 [==============================] - 53s 100ms/step - loss: 0.0205 - accuracy: 0.9346 - precision: 0.9555 - recall: 0.9604 - auc: 0.9781 - val_loss: 0.0211 - val_accuracy: 0.9377 - val_precision: 0.9676 - val_recall: 0.9372 - val_auc: 0.9817\n",
      "Epoch 8/10\n",
      "533/533 [==============================] - 53s 99ms/step - loss: 0.0201 - accuracy: 0.9337 - precision: 0.9560 - recall: 0.9586 - auc: 0.9785 - val_loss: 0.0206 - val_accuracy: 0.9398 - val_precision: 0.9640 - val_recall: 0.9443 - val_auc: 0.9821\n",
      "Epoch 9/10\n",
      "533/533 [==============================] - 53s 100ms/step - loss: 0.0199 - accuracy: 0.9376 - precision: 0.9582 - recall: 0.9614 - auc: 0.9793 - val_loss: 0.0202 - val_accuracy: 0.9417 - val_precision: 0.9661 - val_recall: 0.9450 - val_auc: 0.9832\n",
      "Epoch 10/10\n",
      "533/533 [==============================] - 53s 100ms/step - loss: 0.0196 - accuracy: 0.9368 - precision: 0.9592 - recall: 0.9594 - auc: 0.9798 - val_loss: 0.0201 - val_accuracy: 0.9400 - val_precision: 0.9418 - val_recall: 0.9693 - val_auc: 0.9836\n",
      "134/134 [==============================] - 11s 80ms/step - loss: 0.0188 - accuracy: 0.9400 - precision: 0.9358 - recall: 0.9764 - auc: 0.9872\n",
      "\n",
      "📉 Loss: 0.0188\n",
      "🎯 Accuracy: 94.0037%\n",
      "✅ Precision: 93.5789%\n",
      "🔄 Recall: 97.6375%\n",
      "📊 AUC: 0.9872\n",
      "⏳ Tiempo de entrenamiento: 539.76 segundos\n",
      "\n",
      "🔹 Entrenando con No_Augmentation 🔹\n",
      "Found 17054 validated image filenames belonging to 2 classes.\n",
      "Found 4286 validated image filenames belonging to 2 classes.\n",
      "Found 4286 validated image filenames belonging to 2 classes.\n"
     ]
    },
    {
     "name": "stderr",
     "output_type": "stream",
     "text": [
      "WARNING:absl:At this time, the v2.11+ optimizer `tf.keras.optimizers.Adam` runs slowly on M1/M2 Macs, please use the legacy Keras optimizer instead, located at `tf.keras.optimizers.legacy.Adam`.\n",
      "WARNING:absl:There is a known slowdown when using v2.11+ Keras optimizers on M1/M2 Macs. Falling back to the legacy Keras optimizer, i.e., `tf.keras.optimizers.legacy.Adam`.\n"
     ]
    },
    {
     "name": "stdout",
     "output_type": "stream",
     "text": [
      "Epoch 1/10\n"
     ]
    },
    {
     "name": "stderr",
     "output_type": "stream",
     "text": [
      "2025-02-24 11:09:43.840445: I tensorflow/core/grappler/optimizers/custom_graph_optimizer_registry.cc:114] Plugin optimizer for device_type GPU is enabled.\n"
     ]
    },
    {
     "name": "stdout",
     "output_type": "stream",
     "text": [
      "533/533 [==============================] - ETA: 0s - loss: 0.0391 - accuracy: 0.8627 - precision: 0.8974 - recall: 0.9291 - auc: 0.9135"
     ]
    },
    {
     "name": "stderr",
     "output_type": "stream",
     "text": [
      "2025-02-24 11:10:27.063492: I tensorflow/core/grappler/optimizers/custom_graph_optimizer_registry.cc:114] Plugin optimizer for device_type GPU is enabled.\n"
     ]
    },
    {
     "name": "stdout",
     "output_type": "stream",
     "text": [
      "533/533 [==============================] - 55s 101ms/step - loss: 0.0391 - accuracy: 0.8627 - precision: 0.8974 - recall: 0.9291 - auc: 0.9135 - val_loss: 0.0279 - val_accuracy: 0.9162 - val_precision: 0.9476 - val_recall: 0.9245 - val_auc: 0.9691\n",
      "Epoch 2/10\n",
      "533/533 [==============================] - 53s 99ms/step - loss: 0.0268 - accuracy: 0.9120 - precision: 0.9401 - recall: 0.9469 - auc: 0.9616 - val_loss: 0.0248 - val_accuracy: 0.9288 - val_precision: 0.9433 - val_recall: 0.9496 - val_auc: 0.9749\n",
      "Epoch 3/10\n",
      "533/533 [==============================] - 53s 99ms/step - loss: 0.0245 - accuracy: 0.9193 - precision: 0.9463 - recall: 0.9498 - auc: 0.9682 - val_loss: 0.0233 - val_accuracy: 0.9342 - val_precision: 0.9373 - val_recall: 0.9651 - val_auc: 0.9790\n",
      "Epoch 4/10\n",
      "533/533 [==============================] - 53s 99ms/step - loss: 0.0227 - accuracy: 0.9283 - precision: 0.9518 - recall: 0.9560 - auc: 0.9728 - val_loss: 0.0220 - val_accuracy: 0.9365 - val_precision: 0.9451 - val_recall: 0.9598 - val_auc: 0.9805\n",
      "Epoch 5/10\n",
      "533/533 [==============================] - 53s 99ms/step - loss: 0.0220 - accuracy: 0.9303 - precision: 0.9532 - recall: 0.9570 - auc: 0.9745 - val_loss: 0.0211 - val_accuracy: 0.9393 - val_precision: 0.9519 - val_recall: 0.9566 - val_auc: 0.9809\n",
      "Epoch 6/10\n",
      "533/533 [==============================] - 53s 100ms/step - loss: 0.0210 - accuracy: 0.9334 - precision: 0.9570 - recall: 0.9571 - auc: 0.9767 - val_loss: 0.0208 - val_accuracy: 0.9398 - val_precision: 0.9552 - val_recall: 0.9538 - val_auc: 0.9815\n",
      "Epoch 7/10\n",
      "533/533 [==============================] - 53s 100ms/step - loss: 0.0206 - accuracy: 0.9349 - precision: 0.9571 - recall: 0.9590 - auc: 0.9777 - val_loss: 0.0208 - val_accuracy: 0.9410 - val_precision: 0.9483 - val_recall: 0.9633 - val_auc: 0.9822\n",
      "Epoch 8/10\n",
      "533/533 [==============================] - 53s 100ms/step - loss: 0.0200 - accuracy: 0.9360 - precision: 0.9584 - recall: 0.9591 - auc: 0.9790 - val_loss: 0.0204 - val_accuracy: 0.9421 - val_precision: 0.9481 - val_recall: 0.9654 - val_auc: 0.9830\n",
      "Epoch 9/10\n",
      "533/533 [==============================] - 54s 101ms/step - loss: 0.0198 - accuracy: 0.9360 - precision: 0.9572 - recall: 0.9604 - auc: 0.9795 - val_loss: 0.0202 - val_accuracy: 0.9405 - val_precision: 0.9637 - val_recall: 0.9457 - val_auc: 0.9824\n",
      "Epoch 10/10\n",
      "533/533 [==============================] - 54s 101ms/step - loss: 0.0192 - accuracy: 0.9377 - precision: 0.9593 - recall: 0.9604 - auc: 0.9807 - val_loss: 0.0211 - val_accuracy: 0.9347 - val_precision: 0.9692 - val_recall: 0.9309 - val_auc: 0.9833\n",
      "134/134 [==============================] - 11s 80ms/step - loss: 0.0191 - accuracy: 0.9370 - precision: 0.9679 - recall: 0.9358 - auc: 0.9855\n",
      "\n",
      "📉 Loss: 0.0191\n",
      "🎯 Accuracy: 93.7004%\n",
      "✅ Precision: 96.7907%\n",
      "🔄 Recall: 93.5825%\n",
      "📊 AUC: 0.9855\n",
      "⏳ Tiempo de entrenamiento: 534.30 segundos\n",
      "\n",
      "✅ ¡Evaluación de Data Augmentation completada!\n"
     ]
    }
   ],
   "execution_count": 2
  }
 ],
 "metadata": {
  "kernelspec": {
   "display_name": "Python [conda env:TFG] *",
   "language": "python",
   "name": "conda-env-TFG-py"
  },
  "language_info": {
   "codemirror_mode": {
    "name": "ipython",
    "version": 2
   },
   "file_extension": ".py",
   "mimetype": "text/x-python",
   "name": "python",
   "nbconvert_exporter": "python",
   "pygments_lexer": "ipython2",
   "version": "2.7.6"
  }
 },
 "nbformat": 4,
 "nbformat_minor": 5
}
