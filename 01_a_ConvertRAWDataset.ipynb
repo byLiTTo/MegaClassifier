{
 "cells": [
  {
   "cell_type": "code",
   "execution_count": 9,
   "metadata": {},
   "outputs": [],
   "source": [
    "import os\n",
    "\n",
    "import src.data.Dataset as dt"
   ]
  },
  {
   "cell_type": "code",
   "execution_count": 10,
   "metadata": {},
   "outputs": [
    {
     "name": "stdout",
     "output_type": "stream",
     "text": [
      "RAW_DATASET: /Users/carlos/WORKSPACE/MegaClassifier/data/raw/10000Images.csv\n"
     ]
    }
   ],
   "source": [
    "RAW_DATASET = os.path.abspath(\"./data/raw/10000Images.csv\")\n",
    "print(f\"RAW_DATASET: {RAW_DATASET}\")"
   ]
  },
  {
   "cell_type": "code",
   "execution_count": 11,
   "metadata": {},
   "outputs": [
    {
     "name": "stdout",
     "output_type": "stream",
     "text": [
      "The file /Users/carlos/WORKSPACE/MegaClassifier/data/raw/10000Images.csv has been successfully opened.\n"
     ]
    },
    {
     "data": {
      "text/html": [
       "<div>\n",
       "<style scoped>\n",
       "    .dataframe tbody tr th:only-of-type {\n",
       "        vertical-align: middle;\n",
       "    }\n",
       "\n",
       "    .dataframe tbody tr th {\n",
       "        vertical-align: top;\n",
       "    }\n",
       "\n",
       "    .dataframe thead th {\n",
       "        text-align: right;\n",
       "    }\n",
       "</style>\n",
       "<table border=\"1\" class=\"dataframe\">\n",
       "  <thead>\n",
       "    <tr style=\"text-align: right;\">\n",
       "      <th></th>\n",
       "      <th>file_name</th>\n",
       "      <th>label</th>\n",
       "    </tr>\n",
       "  </thead>\n",
       "  <tbody>\n",
       "    <tr>\n",
       "      <th>0</th>\n",
       "      <td>\\cervidae\\CERVIDREDORFALLOWDEER_ZOO_1_4\\20_202...</td>\n",
       "      <td>cervidae</td>\n",
       "    </tr>\n",
       "    <tr>\n",
       "      <th>1</th>\n",
       "      <td>\\leporido\\conejo_WellingtonCameraTraps_SS\\1908...</td>\n",
       "      <td>leporido</td>\n",
       "    </tr>\n",
       "    <tr>\n",
       "      <th>2</th>\n",
       "      <td>\\vacia\\empty_SnapshotMountainZebra\\MTZ_S1_D07_...</td>\n",
       "      <td>vacia</td>\n",
       "    </tr>\n",
       "    <tr>\n",
       "      <th>3</th>\n",
       "      <td>\\vacia\\NOANIMAL_ZOO_5_6_7_9\\37_20210319 (943).JPG</td>\n",
       "      <td>vacia</td>\n",
       "    </tr>\n",
       "    <tr>\n",
       "      <th>4</th>\n",
       "      <td>\\vacia\\empty_IslandConservationCameraTraps\\dom...</td>\n",
       "      <td>vacia</td>\n",
       "    </tr>\n",
       "    <tr>\n",
       "      <th>...</th>\n",
       "      <td>...</td>\n",
       "      <td>...</td>\n",
       "    </tr>\n",
       "    <tr>\n",
       "      <th>31665</th>\n",
       "      <td>\\vacia\\vacia_ss\\27_20201023 (17).JPG</td>\n",
       "      <td>vacia</td>\n",
       "    </tr>\n",
       "    <tr>\n",
       "      <th>31666</th>\n",
       "      <td>\\zorro\\REDFOX_ZOO_1_4\\32_20201218 (348).JPG</td>\n",
       "      <td>zorro</td>\n",
       "    </tr>\n",
       "    <tr>\n",
       "      <th>31667</th>\n",
       "      <td>\\mapache\\raccoon_CaltechCameraTrap_ME\\58af767e...</td>\n",
       "      <td>mapache</td>\n",
       "    </tr>\n",
       "    <tr>\n",
       "      <th>31668</th>\n",
       "      <td>\\cervidae\\CERVIDREDORFALLOWDEER_ZOO_5_6_7_9\\5_...</td>\n",
       "      <td>cervidae</td>\n",
       "    </tr>\n",
       "    <tr>\n",
       "      <th>31669</th>\n",
       "      <td>\\zorro\\zorro_PNM_2012_ME\\d3424IM000012.JPG</td>\n",
       "      <td>zorro</td>\n",
       "    </tr>\n",
       "  </tbody>\n",
       "</table>\n",
       "<p>31670 rows × 2 columns</p>\n",
       "</div>"
      ],
      "text/plain": [
       "                                               file_name     label\n",
       "0      \\cervidae\\CERVIDREDORFALLOWDEER_ZOO_1_4\\20_202...  cervidae\n",
       "1      \\leporido\\conejo_WellingtonCameraTraps_SS\\1908...  leporido\n",
       "2      \\vacia\\empty_SnapshotMountainZebra\\MTZ_S1_D07_...     vacia\n",
       "3      \\vacia\\NOANIMAL_ZOO_5_6_7_9\\37_20210319 (943).JPG     vacia\n",
       "4      \\vacia\\empty_IslandConservationCameraTraps\\dom...     vacia\n",
       "...                                                  ...       ...\n",
       "31665               \\vacia\\vacia_ss\\27_20201023 (17).JPG     vacia\n",
       "31666        \\zorro\\REDFOX_ZOO_1_4\\32_20201218 (348).JPG     zorro\n",
       "31667  \\mapache\\raccoon_CaltechCameraTrap_ME\\58af767e...   mapache\n",
       "31668  \\cervidae\\CERVIDREDORFALLOWDEER_ZOO_5_6_7_9\\5_...  cervidae\n",
       "31669         \\zorro\\zorro_PNM_2012_ME\\d3424IM000012.JPG     zorro\n",
       "\n",
       "[31670 rows x 2 columns]"
      ]
     },
     "execution_count": 11,
     "metadata": {},
     "output_type": "execute_result"
    }
   ],
   "source": [
    "dataset_original = dt.load_from_csv(RAW_DATASET)\n",
    "dataset_original"
   ]
  },
  {
   "cell_type": "code",
   "execution_count": 12,
   "metadata": {},
   "outputs": [
    {
     "name": "stdout",
     "output_type": "stream",
     "text": [
      "Number of images in dataset: 31670\n"
     ]
    }
   ],
   "source": [
    "num_images = len(dataset_original[\"file_name\"])\n",
    "print(f\"Number of images in dataset: {num_images}\")"
   ]
  },
  {
   "cell_type": "code",
   "execution_count": null,
   "metadata": {},
   "outputs": [
    {
     "data": {
      "text/html": [
       "<div>\n",
       "<style scoped>\n",
       "    .dataframe tbody tr th:only-of-type {\n",
       "        vertical-align: middle;\n",
       "    }\n",
       "\n",
       "    .dataframe tbody tr th {\n",
       "        vertical-align: top;\n",
       "    }\n",
       "\n",
       "    .dataframe thead th {\n",
       "        text-align: right;\n",
       "    }\n",
       "</style>\n",
       "<table border=\"1\" class=\"dataframe\">\n",
       "  <thead>\n",
       "    <tr style=\"text-align: right;\">\n",
       "      <th></th>\n",
       "      <th>file_name</th>\n",
       "      <th>label</th>\n",
       "    </tr>\n",
       "  </thead>\n",
       "  <tbody>\n",
       "    <tr>\n",
       "      <th>0</th>\n",
       "      <td>\\cervidae\\CERVIDREDORFALLOWDEER_ZOO_1_4\\20_202...</td>\n",
       "      <td>cervidae</td>\n",
       "    </tr>\n",
       "    <tr>\n",
       "      <th>1</th>\n",
       "      <td>\\leporido\\conejo_WellingtonCameraTraps_SS\\1908...</td>\n",
       "      <td>leporido</td>\n",
       "    </tr>\n",
       "    <tr>\n",
       "      <th>2</th>\n",
       "      <td>\\vacia\\empty_SnapshotMountainZebra\\MTZ_S1_D07_...</td>\n",
       "      <td>vacia</td>\n",
       "    </tr>\n",
       "    <tr>\n",
       "      <th>3</th>\n",
       "      <td>\\vacia\\NOANIMAL_ZOO_5_6_7_9\\37_20210319 (943).JPG</td>\n",
       "      <td>vacia</td>\n",
       "    </tr>\n",
       "    <tr>\n",
       "      <th>4</th>\n",
       "      <td>\\vacia\\empty_IslandConservationCameraTraps\\dom...</td>\n",
       "      <td>vacia</td>\n",
       "    </tr>\n",
       "    <tr>\n",
       "      <th>...</th>\n",
       "      <td>...</td>\n",
       "      <td>...</td>\n",
       "    </tr>\n",
       "    <tr>\n",
       "      <th>31665</th>\n",
       "      <td>\\vacia\\vacia_ss\\27_20201023 (17).JPG</td>\n",
       "      <td>vacia</td>\n",
       "    </tr>\n",
       "    <tr>\n",
       "      <th>31666</th>\n",
       "      <td>\\zorro\\REDFOX_ZOO_1_4\\32_20201218 (348).JPG</td>\n",
       "      <td>zorro</td>\n",
       "    </tr>\n",
       "    <tr>\n",
       "      <th>31667</th>\n",
       "      <td>\\mapache\\raccoon_CaltechCameraTrap_ME\\58af767e...</td>\n",
       "      <td>mapache</td>\n",
       "    </tr>\n",
       "    <tr>\n",
       "      <th>31668</th>\n",
       "      <td>\\cervidae\\CERVIDREDORFALLOWDEER_ZOO_5_6_7_9\\5_...</td>\n",
       "      <td>cervidae</td>\n",
       "    </tr>\n",
       "    <tr>\n",
       "      <th>31669</th>\n",
       "      <td>\\zorro\\zorro_PNM_2012_ME\\d3424IM000012.JPG</td>\n",
       "      <td>zorro</td>\n",
       "    </tr>\n",
       "  </tbody>\n",
       "</table>\n",
       "<p>30539 rows × 2 columns</p>\n",
       "</div>"
      ],
      "text/plain": [
       "                                               file_name     label\n",
       "0      \\cervidae\\CERVIDREDORFALLOWDEER_ZOO_1_4\\20_202...  cervidae\n",
       "1      \\leporido\\conejo_WellingtonCameraTraps_SS\\1908...  leporido\n",
       "2      \\vacia\\empty_SnapshotMountainZebra\\MTZ_S1_D07_...     vacia\n",
       "3      \\vacia\\NOANIMAL_ZOO_5_6_7_9\\37_20210319 (943).JPG     vacia\n",
       "4      \\vacia\\empty_IslandConservationCameraTraps\\dom...     vacia\n",
       "...                                                  ...       ...\n",
       "31665               \\vacia\\vacia_ss\\27_20201023 (17).JPG     vacia\n",
       "31666        \\zorro\\REDFOX_ZOO_1_4\\32_20201218 (348).JPG     zorro\n",
       "31667  \\mapache\\raccoon_CaltechCameraTrap_ME\\58af767e...   mapache\n",
       "31668  \\cervidae\\CERVIDREDORFALLOWDEER_ZOO_5_6_7_9\\5_...  cervidae\n",
       "31669         \\zorro\\zorro_PNM_2012_ME\\d3424IM000012.JPG     zorro\n",
       "\n",
       "[30539 rows x 2 columns]"
      ]
     },
     "execution_count": 13,
     "metadata": {},
     "output_type": "execute_result"
    }
   ],
   "source": [
    "dataset = dataset_original.drop_duplicates(subset=\"file_name\")\n",
    "dataset"
   ]
  },
  {
   "cell_type": "code",
   "execution_count": 14,
   "metadata": {},
   "outputs": [
    {
     "name": "stdout",
     "output_type": "stream",
     "text": [
      "Classes of dataset \n",
      "['cervidae' 'leporido' 'vacia' 'gato_domestico' 'humanovehiculo' 'zorro'\n",
      " 'vaca' 'micromamiferos' 'meloncillo' 'dudosa' 'jabali' 'ave' 'lince'\n",
      " 'caballo' 'gineta' 'perro' 'garduna' 'tejon' 'mapache']\n",
      "\n",
      "Number of classes of dataset \n",
      "19\n"
     ]
    }
   ],
   "source": [
    "print(\"Classes of dataset \")\n",
    "print(dataset[\"label\"].unique())\n",
    "\n",
    "print()\n",
    "print(\"Number of classes of dataset \")\n",
    "print(dataset[\"label\"].nunique())"
   ]
  },
  {
   "cell_type": "code",
   "execution_count": 15,
   "metadata": {},
   "outputs": [
    {
     "name": "stdout",
     "output_type": "stream",
     "text": [
      "label\n",
      "ave               1688\n",
      "caballo            871\n",
      "cervidae          5253\n",
      "dudosa            1969\n",
      "garduna            174\n",
      "gato_domestico     777\n",
      "gineta             117\n",
      "humanovehiculo    1501\n",
      "jabali            1979\n",
      "leporido          1569\n",
      "lince              958\n",
      "mapache            207\n",
      "meloncillo         195\n",
      "micromamiferos     466\n",
      "perro              116\n",
      "tejon              255\n",
      "vaca              1106\n",
      "vacia             9665\n",
      "zorro             1673\n",
      "Name: count, dtype: int64\n"
     ]
    }
   ],
   "source": [
    "label_counts = dataset[\"label\"].value_counts()\n",
    "label_counts_sorted = label_counts.sort_index()\n",
    "print(label_counts_sorted)"
   ]
  },
  {
   "cell_type": "code",
   "execution_count": 16,
   "metadata": {},
   "outputs": [
    {
     "name": "stdout",
     "output_type": "stream",
     "text": [
      "Number of classes of custom dataset \n",
      "18\n"
     ]
    }
   ],
   "source": [
    "animal_class = [\n",
    "    \"ave\",\n",
    "    \"caballo\",\n",
    "    \"cervidae\",\n",
    "    \"dudosa\",\n",
    "    \"garduna\",\n",
    "    \"gato_domestico\",\n",
    "    \"gineta\",\n",
    "    \"humanovehiculo\",\n",
    "    \"jabali\",\n",
    "    \"leporido\",\n",
    "    \"lince\",\n",
    "    \"mapache\",\n",
    "    \"meloncillo\",\n",
    "    \"micromamiferos\",\n",
    "    \"perro\",\n",
    "    \"tejon\",\n",
    "    \"vaca\",\n",
    "    \"zorro\",\n",
    "]\n",
    "\n",
    "animal_class_filtered = [\n",
    "    \"ave\",\n",
    "    \"caballo\",\n",
    "    \"cervidae\",\n",
    "    \"garduna\",\n",
    "    \"gato_domestico\",\n",
    "    \"gineta\",\n",
    "    \"humanovehiculo\",\n",
    "    \"jabali\",\n",
    "    \"leporido\",\n",
    "    \"lince\",\n",
    "    \"mapache\",\n",
    "    \"meloncillo\",\n",
    "    \"micromamiferos\",\n",
    "    \"perro\",\n",
    "    \"tejon\",\n",
    "    \"vaca\",\n",
    "    \"zorro\",\n",
    "]\n",
    "\n",
    "empty_class = [\"vacia\"]\n",
    "\n",
    "print(\"Number of classes of custom dataset \")\n",
    "print(str(len(animal_class_filtered) + len(empty_class)))"
   ]
  },
  {
   "cell_type": "code",
   "execution_count": 17,
   "metadata": {},
   "outputs": [
    {
     "data": {
      "text/html": [
       "<div>\n",
       "<style scoped>\n",
       "    .dataframe tbody tr th:only-of-type {\n",
       "        vertical-align: middle;\n",
       "    }\n",
       "\n",
       "    .dataframe tbody tr th {\n",
       "        vertical-align: top;\n",
       "    }\n",
       "\n",
       "    .dataframe thead th {\n",
       "        text-align: right;\n",
       "    }\n",
       "</style>\n",
       "<table border=\"1\" class=\"dataframe\">\n",
       "  <thead>\n",
       "    <tr style=\"text-align: right;\">\n",
       "      <th></th>\n",
       "      <th>file_name</th>\n",
       "      <th>label</th>\n",
       "    </tr>\n",
       "  </thead>\n",
       "  <tbody>\n",
       "    <tr>\n",
       "      <th>0</th>\n",
       "      <td>\\cervidae\\CERVIDREDORFALLOWDEER_ZOO_1_4\\20_202...</td>\n",
       "      <td>1</td>\n",
       "    </tr>\n",
       "    <tr>\n",
       "      <th>1</th>\n",
       "      <td>\\leporido\\conejo_WellingtonCameraTraps_SS\\1908...</td>\n",
       "      <td>1</td>\n",
       "    </tr>\n",
       "    <tr>\n",
       "      <th>2</th>\n",
       "      <td>\\vacia\\empty_SnapshotMountainZebra\\MTZ_S1_D07_...</td>\n",
       "      <td>0</td>\n",
       "    </tr>\n",
       "    <tr>\n",
       "      <th>3</th>\n",
       "      <td>\\vacia\\NOANIMAL_ZOO_5_6_7_9\\37_20210319 (943).JPG</td>\n",
       "      <td>0</td>\n",
       "    </tr>\n",
       "    <tr>\n",
       "      <th>4</th>\n",
       "      <td>\\vacia\\empty_IslandConservationCameraTraps\\dom...</td>\n",
       "      <td>0</td>\n",
       "    </tr>\n",
       "    <tr>\n",
       "      <th>...</th>\n",
       "      <td>...</td>\n",
       "      <td>...</td>\n",
       "    </tr>\n",
       "    <tr>\n",
       "      <th>31665</th>\n",
       "      <td>\\vacia\\vacia_ss\\27_20201023 (17).JPG</td>\n",
       "      <td>0</td>\n",
       "    </tr>\n",
       "    <tr>\n",
       "      <th>31666</th>\n",
       "      <td>\\zorro\\REDFOX_ZOO_1_4\\32_20201218 (348).JPG</td>\n",
       "      <td>1</td>\n",
       "    </tr>\n",
       "    <tr>\n",
       "      <th>31667</th>\n",
       "      <td>\\mapache\\raccoon_CaltechCameraTrap_ME\\58af767e...</td>\n",
       "      <td>1</td>\n",
       "    </tr>\n",
       "    <tr>\n",
       "      <th>31668</th>\n",
       "      <td>\\cervidae\\CERVIDREDORFALLOWDEER_ZOO_5_6_7_9\\5_...</td>\n",
       "      <td>1</td>\n",
       "    </tr>\n",
       "    <tr>\n",
       "      <th>31669</th>\n",
       "      <td>\\zorro\\zorro_PNM_2012_ME\\d3424IM000012.JPG</td>\n",
       "      <td>1</td>\n",
       "    </tr>\n",
       "  </tbody>\n",
       "</table>\n",
       "<p>28570 rows × 2 columns</p>\n",
       "</div>"
      ],
      "text/plain": [
       "                                               file_name label\n",
       "0      \\cervidae\\CERVIDREDORFALLOWDEER_ZOO_1_4\\20_202...     1\n",
       "1      \\leporido\\conejo_WellingtonCameraTraps_SS\\1908...     1\n",
       "2      \\vacia\\empty_SnapshotMountainZebra\\MTZ_S1_D07_...     0\n",
       "3      \\vacia\\NOANIMAL_ZOO_5_6_7_9\\37_20210319 (943).JPG     0\n",
       "4      \\vacia\\empty_IslandConservationCameraTraps\\dom...     0\n",
       "...                                                  ...   ...\n",
       "31665               \\vacia\\vacia_ss\\27_20201023 (17).JPG     0\n",
       "31666        \\zorro\\REDFOX_ZOO_1_4\\32_20201218 (348).JPG     1\n",
       "31667  \\mapache\\raccoon_CaltechCameraTrap_ME\\58af767e...     1\n",
       "31668  \\cervidae\\CERVIDREDORFALLOWDEER_ZOO_5_6_7_9\\5_...     1\n",
       "31669         \\zorro\\zorro_PNM_2012_ME\\d3424IM000012.JPG     1\n",
       "\n",
       "[28570 rows x 2 columns]"
      ]
     },
     "execution_count": 17,
     "metadata": {},
     "output_type": "execute_result"
    }
   ],
   "source": [
    "dataset_binary = dt.convert_to_binary(dataset, empty_class, animal_class)\n",
    "dataset_filtered = dt.convert_to_binary(dataset, empty_class, animal_class_filtered)\n",
    "dataset_filtered"
   ]
  },
  {
   "cell_type": "code",
   "execution_count": 18,
   "metadata": {},
   "outputs": [
    {
     "name": "stdout",
     "output_type": "stream",
     "text": [
      "Number of samples in raw dataset: 30539\n",
      "label\n",
      "0     9665\n",
      "1    20874\n",
      "Name: count, dtype: int64\n",
      "\n",
      "The dataset has been successfully saved to /Users/carlos/WORKSPACE/MegaClassifier/data/raw/28570Images_binary.csv\n",
      "\n",
      "Number of samples in set dataset: 28570\n",
      "label\n",
      "0     9665\n",
      "1    18905\n",
      "Name: count, dtype: int64\n"
     ]
    }
   ],
   "source": [
    "number_raw_samples = len(dataset_binary[\"file_name\"].values)\n",
    "number_raw_empty = len(dataset_binary[dataset_binary[\"label\"] == 0])\n",
    "number_raw_animal = len(dataset_binary[dataset_binary[\"label\"] == 1])\n",
    "\n",
    "print(\"Number of samples in raw dataset: \" + str(number_raw_samples))\n",
    "label_counts = dataset_binary[\"label\"].value_counts()\n",
    "label_counts_sorted = label_counts.sort_index()\n",
    "print(label_counts_sorted)\n",
    "print()\n",
    "\n",
    "number_set_samples = len(dataset_filtered[\"file_name\"].values)\n",
    "number_set_empty = len(dataset_filtered[dataset_filtered[\"label\"] == 0])\n",
    "number_set_animal = len(dataset_filtered[dataset_filtered[\"label\"] == 1])\n",
    "\n",
    "csv_set_path = os.path.join(\n",
    "    RAW_DATASET[: -len(os.path.basename(RAW_DATASET))],\n",
    "    str(number_set_samples) + \"Images_binary.csv\",\n",
    ")\n",
    "dt.dataset_to_csv(dataset_filtered, csv_set_path)\n",
    "\n",
    "print(\"\\nNumber of samples in set dataset: \" + str(number_set_samples))\n",
    "label_counts = dataset_filtered[\"label\"].value_counts()\n",
    "label_counts_sorted = label_counts.sort_index()\n",
    "print(label_counts_sorted)"
   ]
  },
  {
   "cell_type": "code",
   "execution_count": 19,
   "metadata": {},
   "outputs": [
    {
     "name": "stdout",
     "output_type": "stream",
     "text": [
      "Proportion of empty class samples in raw dataset:\t31.65%\n",
      "Proportion of empty class samples in set dataset:\t33.83%\n",
      "\n",
      "Proportion of animal class samples in raw dataset:\t68.35%\n",
      "Proportion of animal class samples in set dataset:\t66.17%\n"
     ]
    }
   ],
   "source": [
    "# Calculate the proportion of samples for the empty class in each dataset\n",
    "proportion_empty_raw = number_raw_empty / number_raw_samples\n",
    "proportion_empty_set = number_set_empty / number_set_samples\n",
    "\n",
    "# Calculate the proportion of samples for the animal class in each dataset\n",
    "proportion_animal_raw = number_raw_animal / number_raw_samples\n",
    "proportion_animal_set = number_set_animal / number_set_samples\n",
    "\n",
    "# Print the proportions\n",
    "print(\n",
    "    \"Proportion of empty class samples in raw dataset:\\t{:.2%}\".format(\n",
    "        proportion_empty_raw\n",
    "    )\n",
    ")\n",
    "print(\n",
    "    \"Proportion of empty class samples in set dataset:\\t{:.2%}\".format(\n",
    "        proportion_empty_set\n",
    "    )\n",
    ")\n",
    "print()\n",
    "print(\n",
    "    \"Proportion of animal class samples in raw dataset:\\t{:.2%}\".format(\n",
    "        proportion_animal_raw\n",
    "    )\n",
    ")\n",
    "print(\n",
    "    \"Proportion of animal class samples in set dataset:\\t{:.2%}\".format(\n",
    "        proportion_animal_set\n",
    "    )\n",
    ")"
   ]
  }
 ],
 "metadata": {
  "kernelspec": {
   "display_name": "cameratraps-detector",
   "language": "python",
   "name": "python3"
  },
  "language_info": {
   "codemirror_mode": {
    "name": "ipython",
    "version": 3
   },
   "file_extension": ".py",
   "mimetype": "text/x-python",
   "name": "python",
   "nbconvert_exporter": "python",
   "pygments_lexer": "ipython3",
   "version": "3.8.15"
  }
 },
 "nbformat": 4,
 "nbformat_minor": 2
}
