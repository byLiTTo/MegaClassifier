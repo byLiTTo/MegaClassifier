{
 "cells": [
  {
   "cell_type": "code",
   "execution_count": 1,
   "metadata": {},
   "outputs": [],
   "source": [
    "import os\n",
    "\n",
    "import src.data.Dataset as dt"
   ]
  },
  {
   "cell_type": "code",
   "execution_count": 2,
   "metadata": {},
   "outputs": [
    {
     "name": "stdout",
     "output_type": "stream",
     "text": [
      "RAW_DATASET: /Users/carlos/WORKSPACE/MegaClassifier/data/raw/10000Images.csv\n"
     ]
    }
   ],
   "source": [
    "RAW_DATASET = os.path.abspath(\"./data/raw/10000Images.csv\")\n",
    "print(f\"RAW_DATASET: {RAW_DATASET}\")"
   ]
  },
  {
   "cell_type": "code",
   "execution_count": 3,
   "metadata": {},
   "outputs": [
    {
     "name": "stdout",
     "output_type": "stream",
     "text": [
      "The file /Users/carlos/WORKSPACE/MegaClassifier/data/raw/10000Images.csv has been successfully opened.\n"
     ]
    },
    {
     "data": {
      "text/html": [
       "<div>\n",
       "<style scoped>\n",
       "    .dataframe tbody tr th:only-of-type {\n",
       "        vertical-align: middle;\n",
       "    }\n",
       "\n",
       "    .dataframe tbody tr th {\n",
       "        vertical-align: top;\n",
       "    }\n",
       "\n",
       "    .dataframe thead th {\n",
       "        text-align: right;\n",
       "    }\n",
       "</style>\n",
       "<table border=\"1\" class=\"dataframe\">\n",
       "  <thead>\n",
       "    <tr style=\"text-align: right;\">\n",
       "      <th></th>\n",
       "      <th>file_name</th>\n",
       "      <th>label</th>\n",
       "    </tr>\n",
       "  </thead>\n",
       "  <tbody>\n",
       "    <tr>\n",
       "      <th>0</th>\n",
       "      <td>\\cervidae\\CERVIDREDORFALLOWDEER_ZOO_1_4\\20_202...</td>\n",
       "      <td>cervidae</td>\n",
       "    </tr>\n",
       "    <tr>\n",
       "      <th>1</th>\n",
       "      <td>\\leporido\\conejo_WellingtonCameraTraps_SS\\1908...</td>\n",
       "      <td>leporido</td>\n",
       "    </tr>\n",
       "    <tr>\n",
       "      <th>2</th>\n",
       "      <td>\\vacia\\empty_SnapshotMountainZebra\\MTZ_S1_D07_...</td>\n",
       "      <td>vacia</td>\n",
       "    </tr>\n",
       "    <tr>\n",
       "      <th>3</th>\n",
       "      <td>\\vacia\\NOANIMAL_ZOO_5_6_7_9\\37_20210319 (943).JPG</td>\n",
       "      <td>vacia</td>\n",
       "    </tr>\n",
       "    <tr>\n",
       "      <th>4</th>\n",
       "      <td>\\vacia\\empty_IslandConservationCameraTraps\\dom...</td>\n",
       "      <td>vacia</td>\n",
       "    </tr>\n",
       "    <tr>\n",
       "      <th>...</th>\n",
       "      <td>...</td>\n",
       "      <td>...</td>\n",
       "    </tr>\n",
       "    <tr>\n",
       "      <th>31665</th>\n",
       "      <td>\\vacia\\vacia_ss\\27_20201023 (17).JPG</td>\n",
       "      <td>vacia</td>\n",
       "    </tr>\n",
       "    <tr>\n",
       "      <th>31666</th>\n",
       "      <td>\\zorro\\REDFOX_ZOO_1_4\\32_20201218 (348).JPG</td>\n",
       "      <td>zorro</td>\n",
       "    </tr>\n",
       "    <tr>\n",
       "      <th>31667</th>\n",
       "      <td>\\mapache\\raccoon_CaltechCameraTrap_ME\\58af767e...</td>\n",
       "      <td>mapache</td>\n",
       "    </tr>\n",
       "    <tr>\n",
       "      <th>31668</th>\n",
       "      <td>\\cervidae\\CERVIDREDORFALLOWDEER_ZOO_5_6_7_9\\5_...</td>\n",
       "      <td>cervidae</td>\n",
       "    </tr>\n",
       "    <tr>\n",
       "      <th>31669</th>\n",
       "      <td>\\zorro\\zorro_PNM_2012_ME\\d3424IM000012.JPG</td>\n",
       "      <td>zorro</td>\n",
       "    </tr>\n",
       "  </tbody>\n",
       "</table>\n",
       "<p>31670 rows × 2 columns</p>\n",
       "</div>"
      ],
      "text/plain": [
       "                                               file_name     label\n",
       "0      \\cervidae\\CERVIDREDORFALLOWDEER_ZOO_1_4\\20_202...  cervidae\n",
       "1      \\leporido\\conejo_WellingtonCameraTraps_SS\\1908...  leporido\n",
       "2      \\vacia\\empty_SnapshotMountainZebra\\MTZ_S1_D07_...     vacia\n",
       "3      \\vacia\\NOANIMAL_ZOO_5_6_7_9\\37_20210319 (943).JPG     vacia\n",
       "4      \\vacia\\empty_IslandConservationCameraTraps\\dom...     vacia\n",
       "...                                                  ...       ...\n",
       "31665               \\vacia\\vacia_ss\\27_20201023 (17).JPG     vacia\n",
       "31666        \\zorro\\REDFOX_ZOO_1_4\\32_20201218 (348).JPG     zorro\n",
       "31667  \\mapache\\raccoon_CaltechCameraTrap_ME\\58af767e...   mapache\n",
       "31668  \\cervidae\\CERVIDREDORFALLOWDEER_ZOO_5_6_7_9\\5_...  cervidae\n",
       "31669         \\zorro\\zorro_PNM_2012_ME\\d3424IM000012.JPG     zorro\n",
       "\n",
       "[31670 rows x 2 columns]"
      ]
     },
     "execution_count": 3,
     "metadata": {},
     "output_type": "execute_result"
    }
   ],
   "source": [
    "dataset = dt.load_from_csv(RAW_DATASET)\n",
    "dataset"
   ]
  },
  {
   "cell_type": "code",
   "execution_count": 4,
   "metadata": {},
   "outputs": [
    {
     "name": "stdout",
     "output_type": "stream",
     "text": [
      "Classes of dataset \n",
      "['cervidae' 'leporido' 'vacia' 'gato_domestico' 'humanovehiculo' 'zorro'\n",
      " 'vaca' 'micromamiferos' 'meloncillo' 'dudosa' 'jabali' 'ave' 'lince'\n",
      " 'caballo' 'gineta' 'perro' 'garduna' 'tejon' 'mapache']\n",
      "\n",
      "Number of classes of dataset \n",
      "19\n"
     ]
    }
   ],
   "source": [
    "print(\"Classes of dataset \")\n",
    "print(dataset[\"label\"].unique())\n",
    "\n",
    "print()\n",
    "print(\"Number of classes of dataset \")\n",
    "print(dataset[\"label\"].nunique())"
   ]
  },
  {
   "cell_type": "code",
   "execution_count": 5,
   "metadata": {},
   "outputs": [
    {
     "name": "stdout",
     "output_type": "stream",
     "text": [
      "label\n",
      "ave                1750\n",
      "caballo             909\n",
      "cervidae           5447\n",
      "dudosa             2052\n",
      "garduna             183\n",
      "gato_domestico      804\n",
      "gineta              118\n",
      "humanovehiculo     1564\n",
      "jabali             2060\n",
      "leporido           1630\n",
      "lince               997\n",
      "mapache             218\n",
      "meloncillo          204\n",
      "micromamiferos      478\n",
      "perro               119\n",
      "tejon               265\n",
      "vaca               1147\n",
      "vacia             10000\n",
      "zorro              1725\n",
      "Name: count, dtype: int64\n"
     ]
    }
   ],
   "source": [
    "label_counts = dataset[\"label\"].value_counts()\n",
    "label_counts_sorted = label_counts.sort_index()\n",
    "print(label_counts_sorted)"
   ]
  },
  {
   "cell_type": "code",
   "execution_count": 6,
   "metadata": {},
   "outputs": [
    {
     "name": "stdout",
     "output_type": "stream",
     "text": [
      "Number of classes of custom dataset \n",
      "18\n"
     ]
    }
   ],
   "source": [
    "animal_class = [\n",
    "    \"ave\",\n",
    "    \"caballo\",\n",
    "    \"cervidae\",\n",
    "    \"dudosa\",\n",
    "    \"garduna\",\n",
    "    \"gato_domestico\",\n",
    "    \"gineta\",\n",
    "    \"humanovehiculo\",\n",
    "    \"jabali\",\n",
    "    \"leporido\",\n",
    "    \"lince\",\n",
    "    \"mapache\",\n",
    "    \"meloncillo\",\n",
    "    \"micromamiferos\",\n",
    "    \"perro\",\n",
    "    \"tejon\",\n",
    "    \"vaca\",\n",
    "    \"zorro\",\n",
    "]\n",
    "\n",
    "animal_class_filtered = [\n",
    "    \"ave\",\n",
    "    \"caballo\",\n",
    "    \"cervidae\",\n",
    "    \"garduna\",\n",
    "    \"gato_domestico\",\n",
    "    \"gineta\",\n",
    "    \"humanovehiculo\",\n",
    "    \"jabali\",\n",
    "    \"leporido\",\n",
    "    \"lince\",\n",
    "    \"mapache\",\n",
    "    \"meloncillo\",\n",
    "    \"micromamiferos\",\n",
    "    \"perro\",\n",
    "    \"tejon\",\n",
    "    \"vaca\",\n",
    "    \"zorro\",\n",
    "]\n",
    "\n",
    "empty_class = [\"vacia\"]\n",
    "\n",
    "print(\"Number of classes of custom dataset \")\n",
    "print(str(len(animal_class_filtered) + len(empty_class)))"
   ]
  },
  {
   "cell_type": "code",
   "execution_count": 7,
   "metadata": {},
   "outputs": [
    {
     "data": {
      "text/html": [
       "<div>\n",
       "<style scoped>\n",
       "    .dataframe tbody tr th:only-of-type {\n",
       "        vertical-align: middle;\n",
       "    }\n",
       "\n",
       "    .dataframe tbody tr th {\n",
       "        vertical-align: top;\n",
       "    }\n",
       "\n",
       "    .dataframe thead th {\n",
       "        text-align: right;\n",
       "    }\n",
       "</style>\n",
       "<table border=\"1\" class=\"dataframe\">\n",
       "  <thead>\n",
       "    <tr style=\"text-align: right;\">\n",
       "      <th></th>\n",
       "      <th>file_name</th>\n",
       "      <th>label</th>\n",
       "    </tr>\n",
       "  </thead>\n",
       "  <tbody>\n",
       "    <tr>\n",
       "      <th>0</th>\n",
       "      <td>\\cervidae\\CERVIDREDORFALLOWDEER_ZOO_1_4\\20_202...</td>\n",
       "      <td>1</td>\n",
       "    </tr>\n",
       "    <tr>\n",
       "      <th>1</th>\n",
       "      <td>\\leporido\\conejo_WellingtonCameraTraps_SS\\1908...</td>\n",
       "      <td>1</td>\n",
       "    </tr>\n",
       "    <tr>\n",
       "      <th>2</th>\n",
       "      <td>\\vacia\\empty_SnapshotMountainZebra\\MTZ_S1_D07_...</td>\n",
       "      <td>0</td>\n",
       "    </tr>\n",
       "    <tr>\n",
       "      <th>3</th>\n",
       "      <td>\\vacia\\NOANIMAL_ZOO_5_6_7_9\\37_20210319 (943).JPG</td>\n",
       "      <td>0</td>\n",
       "    </tr>\n",
       "    <tr>\n",
       "      <th>4</th>\n",
       "      <td>\\vacia\\empty_IslandConservationCameraTraps\\dom...</td>\n",
       "      <td>0</td>\n",
       "    </tr>\n",
       "    <tr>\n",
       "      <th>...</th>\n",
       "      <td>...</td>\n",
       "      <td>...</td>\n",
       "    </tr>\n",
       "    <tr>\n",
       "      <th>31665</th>\n",
       "      <td>\\vacia\\vacia_ss\\27_20201023 (17).JPG</td>\n",
       "      <td>0</td>\n",
       "    </tr>\n",
       "    <tr>\n",
       "      <th>31666</th>\n",
       "      <td>\\zorro\\REDFOX_ZOO_1_4\\32_20201218 (348).JPG</td>\n",
       "      <td>1</td>\n",
       "    </tr>\n",
       "    <tr>\n",
       "      <th>31667</th>\n",
       "      <td>\\mapache\\raccoon_CaltechCameraTrap_ME\\58af767e...</td>\n",
       "      <td>1</td>\n",
       "    </tr>\n",
       "    <tr>\n",
       "      <th>31668</th>\n",
       "      <td>\\cervidae\\CERVIDREDORFALLOWDEER_ZOO_5_6_7_9\\5_...</td>\n",
       "      <td>1</td>\n",
       "    </tr>\n",
       "    <tr>\n",
       "      <th>31669</th>\n",
       "      <td>\\zorro\\zorro_PNM_2012_ME\\d3424IM000012.JPG</td>\n",
       "      <td>1</td>\n",
       "    </tr>\n",
       "  </tbody>\n",
       "</table>\n",
       "<p>29618 rows × 2 columns</p>\n",
       "</div>"
      ],
      "text/plain": [
       "                                               file_name label\n",
       "0      \\cervidae\\CERVIDREDORFALLOWDEER_ZOO_1_4\\20_202...     1\n",
       "1      \\leporido\\conejo_WellingtonCameraTraps_SS\\1908...     1\n",
       "2      \\vacia\\empty_SnapshotMountainZebra\\MTZ_S1_D07_...     0\n",
       "3      \\vacia\\NOANIMAL_ZOO_5_6_7_9\\37_20210319 (943).JPG     0\n",
       "4      \\vacia\\empty_IslandConservationCameraTraps\\dom...     0\n",
       "...                                                  ...   ...\n",
       "31665               \\vacia\\vacia_ss\\27_20201023 (17).JPG     0\n",
       "31666        \\zorro\\REDFOX_ZOO_1_4\\32_20201218 (348).JPG     1\n",
       "31667  \\mapache\\raccoon_CaltechCameraTrap_ME\\58af767e...     1\n",
       "31668  \\cervidae\\CERVIDREDORFALLOWDEER_ZOO_5_6_7_9\\5_...     1\n",
       "31669         \\zorro\\zorro_PNM_2012_ME\\d3424IM000012.JPG     1\n",
       "\n",
       "[29618 rows x 2 columns]"
      ]
     },
     "execution_count": 7,
     "metadata": {},
     "output_type": "execute_result"
    }
   ],
   "source": [
    "dataset_binary = dt.convert_to_binary(dataset, empty_class, animal_class)\n",
    "dataset_filtered = dt.convert_to_binary(dataset, empty_class, animal_class_filtered)\n",
    "dataset_filtered"
   ]
  },
  {
   "cell_type": "code",
   "execution_count": 8,
   "metadata": {},
   "outputs": [
    {
     "name": "stdout",
     "output_type": "stream",
     "text": [
      "Number of samples in raw dataset: 31670\n",
      "label\n",
      "0    10000\n",
      "1    21670\n",
      "Name: count, dtype: int64\n",
      "\n",
      "The dataset has been successfully saved to /Users/carlos/WORKSPACE/MegaClassifier/data/raw/29618Images_binary.csv\n",
      "\n",
      "Number of samples in set dataset: 29618\n",
      "label\n",
      "0    10000\n",
      "1    19618\n",
      "Name: count, dtype: int64\n"
     ]
    }
   ],
   "source": [
    "number_raw_samples = len(dataset_binary[\"file_name\"].values)\n",
    "number_raw_empty = len(dataset_binary[dataset_binary[\"label\"] == 0])\n",
    "number_raw_animal = len(dataset_binary[dataset_binary[\"label\"] == 1])\n",
    "\n",
    "print(\"Number of samples in raw dataset: \" + str(number_raw_samples))\n",
    "label_counts = dataset_binary[\"label\"].value_counts()\n",
    "label_counts_sorted = label_counts.sort_index()\n",
    "print(label_counts_sorted)\n",
    "print()\n",
    "\n",
    "number_set_samples = len(dataset_filtered[\"file_name\"].values)\n",
    "number_set_empty = len(dataset_filtered[dataset_filtered[\"label\"] == 0])\n",
    "number_set_animal = len(dataset_filtered[dataset_filtered[\"label\"] == 1])\n",
    "\n",
    "csv_set_path = os.path.join(\n",
    "    RAW_DATASET[: -len(os.path.basename(RAW_DATASET))],\n",
    "    str(number_set_samples) + \"Images_binary.csv\",\n",
    ")\n",
    "dt.dataset_to_csv(dataset_filtered, csv_set_path)\n",
    "\n",
    "print(\"\\nNumber of samples in set dataset: \" + str(number_set_samples))\n",
    "label_counts = dataset_filtered[\"label\"].value_counts()\n",
    "label_counts_sorted = label_counts.sort_index()\n",
    "print(label_counts_sorted)"
   ]
  },
  {
   "cell_type": "code",
   "execution_count": 9,
   "metadata": {},
   "outputs": [
    {
     "name": "stdout",
     "output_type": "stream",
     "text": [
      "Proportion of empty class samples in raw dataset:\t31.58%\n",
      "Proportion of empty class samples in set dataset:\t33.76%\n",
      "\n",
      "Proportion of animal class samples in raw dataset:\t68.42%\n",
      "Proportion of animal class samples in set dataset:\t66.24%\n"
     ]
    }
   ],
   "source": [
    "# Calculate the proportion of samples for the empty class in each dataset\n",
    "proportion_empty_raw = number_raw_empty / number_raw_samples\n",
    "proportion_empty_set = number_set_empty / number_set_samples\n",
    "\n",
    "# Calculate the proportion of samples for the animal class in each dataset\n",
    "proportion_animal_raw = number_raw_animal / number_raw_samples\n",
    "proportion_animal_set = number_set_animal / number_set_samples\n",
    "\n",
    "# Print the proportions\n",
    "print(\n",
    "    \"Proportion of empty class samples in raw dataset:\\t{:.2%}\".format(\n",
    "        proportion_empty_raw\n",
    "    )\n",
    ")\n",
    "print(\n",
    "    \"Proportion of empty class samples in set dataset:\\t{:.2%}\".format(\n",
    "        proportion_empty_set\n",
    "    )\n",
    ")\n",
    "print()\n",
    "print(\n",
    "    \"Proportion of animal class samples in raw dataset:\\t{:.2%}\".format(\n",
    "        proportion_animal_raw\n",
    "    )\n",
    ")\n",
    "print(\n",
    "    \"Proportion of animal class samples in set dataset:\\t{:.2%}\".format(\n",
    "        proportion_animal_set\n",
    "    )\n",
    ")"
   ]
  }
 ],
 "metadata": {
  "kernelspec": {
   "display_name": "cameratraps-detector",
   "language": "python",
   "name": "python3"
  },
  "language_info": {
   "codemirror_mode": {
    "name": "ipython",
    "version": 3
   },
   "file_extension": ".py",
   "mimetype": "text/x-python",
   "name": "python",
   "nbconvert_exporter": "python",
   "pygments_lexer": "ipython3",
   "version": "3.8.15"
  }
 },
 "nbformat": 4,
 "nbformat_minor": 2
}
