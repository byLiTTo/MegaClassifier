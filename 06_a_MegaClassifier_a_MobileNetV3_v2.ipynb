{
 "cells": [
  {
   "cell_type": "code",
   "execution_count": 3,
   "metadata": {},
   "outputs": [],
   "source": [
    "import os\n",
    "\n",
    "import numpy as np\n",
    "import pandas as pd\n",
    "import tensorflow as tf\n",
    "from sklearn.metrics import auc, confusion_matrix, roc_curve\n",
    "from tensorflow.keras.callbacks import TensorBoard\n",
    "from tensorflow.keras.metrics import AUC, BinaryAccuracy, Precision, Recall\n",
    "from tensorflow.keras.preprocessing.image import ImageDataGenerator\n",
    "\n",
    "import src.graphics as graphics"
   ]
  },
  {
   "cell_type": "code",
   "execution_count": null,
   "metadata": {},
   "outputs": [],
   "source": [
    "VERSION = 2\n",
    "MODEL_BASE_NAME = \"MegaClassifier_a_MobileNetV2\"\n",
    "\n",
    "DATASET_CSV = os.path.abspath(\n",
    "    \"./data/processed/onlyDetectionsForTrain/onlyDetectionsForTrain.csv\"\n",
    ")\n",
    "DATASET_PATH = os.path.dirname(DATASET_CSV)"
   ]
  },
  {
   "cell_type": "code",
   "execution_count": 5,
   "metadata": {},
   "outputs": [],
   "source": [
    "dataset = pd.read_csv(DATASET_CSV, sep=\";\")\n",
    "dataset[\"file_name\"] = dataset[\"file_name\"].apply(\n",
    "    lambda x: os.path.join(DATASET_PATH, x)\n",
    ")\n",
    "dataset[\"binary_label\"] = dataset[\"binary_label\"].astype(str)\n",
    "\n",
    "train_dataset = dataset[dataset[\"subset\"] == \"train\"]\n",
    "validationtrain_dataset = dataset[dataset[\"subset\"] == \"validation\"]\n",
    "test_dataset = dataset[dataset[\"subset\"] == \"test\"]\n",
    "\n",
    "EPOCHS = 10\n",
    "IMAGE_SIZE = (224, 224)\n",
    "IMAGE_SHAPE = IMAGE_SIZE + (3,)\n",
    "SEED = 42"
   ]
  },
  {
   "cell_type": "code",
   "execution_count": null,
   "metadata": {},
   "outputs": [],
   "source": [
    "OPTIMIZERS = {\n",
    "    \"Adam\": tf.keras.optimizers.legacy.Adam(),\n",
    "    \"SGD\": tf.keras.optimizers.legacy.SGD(),\n",
    "    \"SGD_Momentum\": tf.keras.optimizers.legacy.SGD(momentum=0.9),\n",
    "    \"RMSprop\": tf.keras.optimizers.legacy.RMSprop(),\n",
    "    \"AdamW\": tf.keras.optimizers.AdamW(),\n",
    "    \"Nadam\": tf.keras.optimizers.Nadam(),\n",
    "}"
   ]
  },
  {
   "cell_type": "code",
   "execution_count": 7,
   "metadata": {},
   "outputs": [],
   "source": [
    "LOSS = {\"BinaryCrossentropy\": tf.keras.losses.BinaryCrossentropy()}"
   ]
  },
  {
   "cell_type": "code",
   "execution_count": 8,
   "metadata": {},
   "outputs": [
    {
     "name": "stderr",
     "output_type": "stream",
     "text": [
      "2025-02-28 19:20:29.498512: I metal_plugin/src/device/metal_device.cc:1154] Metal device set to: Apple M3\n",
      "2025-02-28 19:20:29.498557: I metal_plugin/src/device/metal_device.cc:296] systemMemory: 16.00 GB\n",
      "2025-02-28 19:20:29.498676: I metal_plugin/src/device/metal_device.cc:313] maxCacheSize: 5.33 GB\n",
      "2025-02-28 19:20:29.498766: I tensorflow/core/common_runtime/pluggable_device/pluggable_device_factory.cc:303] Could not identify NUMA node of platform GPU ID 0, defaulting to 0. Your kernel may not have been built with NUMA support.\n",
      "2025-02-28 19:20:29.498788: I tensorflow/core/common_runtime/pluggable_device/pluggable_device_factory.cc:269] Created TensorFlow device (/job:localhost/replica:0/task:0/device:GPU:0 with 0 MB memory) -> physical PluggableDevice (device: 0, name: METAL, pci bus id: <undefined>)\n"
     ]
    }
   ],
   "source": [
    "METRICS = [\n",
    "    BinaryAccuracy(name=\"accuracy\"),\n",
    "    Precision(name=\"precision\"),\n",
    "    Recall(name=\"recall\"),\n",
    "    AUC(name=\"auc\"),\n",
    "]"
   ]
  },
  {
   "cell_type": "code",
   "execution_count": null,
   "metadata": {},
   "outputs": [],
   "source": [
    "BATCH_SIZE = 64"
   ]
  },
  {
   "cell_type": "code",
   "execution_count": null,
   "metadata": {},
   "outputs": [
    {
     "name": "stdout",
     "output_type": "stream",
     "text": [
      "Found 17906 validated image filenames belonging to 2 classes.\n",
      "Found 4286 validated image filenames belonging to 2 classes.\n",
      "Found 4286 validated image filenames belonging to 2 classes.\n",
      "Epoch 1/10\n"
     ]
    },
    {
     "name": "stderr",
     "output_type": "stream",
     "text": [
      "2025-02-28 19:20:31.378219: I tensorflow/core/grappler/optimizers/custom_graph_optimizer_registry.cc:114] Plugin optimizer for device_type GPU is enabled.\n"
     ]
    },
    {
     "name": "stdout",
     "output_type": "stream",
     "text": [
      "1120/1120 [==============================] - ETA: 0s - loss: 0.2377 - accuracy: 0.8957 - precision: 0.9204 - recall: 0.9401 - auc: 0.9544"
     ]
    },
    {
     "name": "stderr",
     "output_type": "stream",
     "text": [
      "2025-02-28 19:21:21.578974: I tensorflow/core/grappler/optimizers/custom_graph_optimizer_registry.cc:114] Plugin optimizer for device_type GPU is enabled.\n"
     ]
    },
    {
     "name": "stdout",
     "output_type": "stream",
     "text": [
      "1120/1120 [==============================] - 62s 54ms/step - loss: 0.2377 - accuracy: 0.8957 - precision: 0.9204 - recall: 0.9401 - auc: 0.9544 - val_loss: 0.2000 - val_accuracy: 0.9146 - val_precision: 0.9581 - val_recall: 0.9108 - val_auc: 0.9755\n",
      "Epoch 2/10\n",
      "1120/1120 [==============================] - 63s 56ms/step - loss: 0.1911 - accuracy: 0.9193 - precision: 0.9427 - recall: 0.9484 - auc: 0.9711 - val_loss: 0.1797 - val_accuracy: 0.9265 - val_precision: 0.9520 - val_recall: 0.9362 - val_auc: 0.9785\n",
      "Epoch 3/10\n",
      "1120/1120 [==============================] - 64s 58ms/step - loss: 0.1779 - accuracy: 0.9252 - precision: 0.9487 - recall: 0.9501 - auc: 0.9748 - val_loss: 0.1721 - val_accuracy: 0.9295 - val_precision: 0.9496 - val_recall: 0.9436 - val_auc: 0.9800\n",
      "Epoch 4/10\n",
      "1120/1120 [==============================] - 65s 58ms/step - loss: 0.1710 - accuracy: 0.9289 - precision: 0.9508 - recall: 0.9531 - auc: 0.9768 - val_loss: 0.1855 - val_accuracy: 0.9242 - val_precision: 0.9631 - val_recall: 0.9207 - val_auc: 0.9790\n",
      "Epoch 5/10\n",
      "1120/1120 [==============================] - 65s 58ms/step - loss: 0.1648 - accuracy: 0.9309 - precision: 0.9521 - recall: 0.9546 - auc: 0.9784 - val_loss: 0.1870 - val_accuracy: 0.9216 - val_precision: 0.9226 - val_recall: 0.9623 - val_auc: 0.9787\n",
      "Epoch 6/10\n",
      "1120/1120 [==============================] - 65s 58ms/step - loss: 0.1609 - accuracy: 0.9348 - precision: 0.9551 - recall: 0.9567 - auc: 0.9796 - val_loss: 0.1703 - val_accuracy: 0.9316 - val_precision: 0.9523 - val_recall: 0.9439 - val_auc: 0.9799\n",
      "Epoch 7/10\n",
      "1120/1120 [==============================] - 66s 59ms/step - loss: 0.1572 - accuracy: 0.9349 - precision: 0.9556 - recall: 0.9563 - auc: 0.9804 - val_loss: 0.1826 - val_accuracy: 0.9279 - val_precision: 0.9253 - val_recall: 0.9693 - val_auc: 0.9803\n",
      "Epoch 8/10\n",
      "1120/1120 [==============================] - 63s 56ms/step - loss: 0.1556 - accuracy: 0.9361 - precision: 0.9563 - recall: 0.9571 - auc: 0.9809 - val_loss: 0.1719 - val_accuracy: 0.9305 - val_precision: 0.9522 - val_recall: 0.9422 - val_auc: 0.9796\n",
      "Epoch 9/10\n",
      "1120/1120 [==============================] - 63s 56ms/step - loss: 0.1518 - accuracy: 0.9372 - precision: 0.9570 - recall: 0.9581 - auc: 0.9818 - val_loss: 0.1737 - val_accuracy: 0.9323 - val_precision: 0.9486 - val_recall: 0.9492 - val_auc: 0.9791\n",
      "Epoch 10/10\n",
      "1120/1120 [==============================] - 67s 60ms/step - loss: 0.1495 - accuracy: 0.9385 - precision: 0.9580 - recall: 0.9588 - auc: 0.9824 - val_loss: 0.1738 - val_accuracy: 0.9302 - val_precision: 0.9385 - val_recall: 0.9573 - val_auc: 0.9797\n"
     ]
    },
    {
     "name": "stderr",
     "output_type": "stream",
     "text": [
      "WARNING:absl:`mobilenetv2_1.00_224_input` is not a valid tf.function parameter name. Sanitizing to `mobilenetv2_1_00_224_input`.\n",
      "WARNING:absl:`mobilenetv2_1.00_224_input` is not a valid tf.function parameter name. Sanitizing to `mobilenetv2_1_00_224_input`.\n",
      "WARNING:absl:`mobilenetv2_1.00_224_input` is not a valid tf.function parameter name. Sanitizing to `mobilenetv2_1_00_224_input`.\n"
     ]
    },
    {
     "name": "stdout",
     "output_type": "stream",
     "text": [
      "INFO:tensorflow:Assets written to: /Users/litto/WORKSPACE/MegaClassifier/models/MegaClassifier_a/v1/v1.0/assets\n"
     ]
    },
    {
     "name": "stderr",
     "output_type": "stream",
     "text": [
      "INFO:tensorflow:Assets written to: /Users/litto/WORKSPACE/MegaClassifier/models/MegaClassifier_a/v1/v1.0/assets\n"
     ]
    },
    {
     "name": "stdout",
     "output_type": "stream",
     "text": [
      "268/268 [==============================] - 16s 60ms/step - loss: 0.1688 - accuracy: 0.9307 - precision: 0.9367 - recall: 0.9602 - auc: 0.9811\n"
     ]
    },
    {
     "name": "stderr",
     "output_type": "stream",
     "text": [
      "2025-02-28 19:31:35.248898: I tensorflow/core/grappler/optimizers/custom_graph_optimizer_registry.cc:114] Plugin optimizer for device_type GPU is enabled.\n"
     ]
    },
    {
     "name": "stdout",
     "output_type": "stream",
     "text": [
      "268/268 [==============================] - 15s 54ms/step\n",
      "\n",
      "\n",
      "\n",
      "Found 17906 validated image filenames belonging to 2 classes.\n",
      "Found 4286 validated image filenames belonging to 2 classes.\n",
      "Found 4286 validated image filenames belonging to 2 classes.\n",
      "Epoch 1/10\n"
     ]
    },
    {
     "name": "stderr",
     "output_type": "stream",
     "text": [
      "2025-02-28 19:31:51.916159: I tensorflow/core/grappler/optimizers/custom_graph_optimizer_registry.cc:114] Plugin optimizer for device_type GPU is enabled.\n"
     ]
    },
    {
     "name": "stdout",
     "output_type": "stream",
     "text": [
      "560/560 [==============================] - ETA: 0s - loss: 0.2301 - accuracy: 0.9072 - precision: 0.9297 - recall: 0.9431 - auc: 0.9629"
     ]
    },
    {
     "name": "stderr",
     "output_type": "stream",
     "text": [
      "2025-02-28 19:32:49.684753: I tensorflow/core/grappler/optimizers/custom_graph_optimizer_registry.cc:114] Plugin optimizer for device_type GPU is enabled.\n"
     ]
    },
    {
     "name": "stdout",
     "output_type": "stream",
     "text": [
      "560/560 [==============================] - 71s 124ms/step - loss: 0.2301 - accuracy: 0.9072 - precision: 0.9297 - recall: 0.9431 - auc: 0.9629 - val_loss: 0.1921 - val_accuracy: 0.9200 - val_precision: 0.9447 - val_recall: 0.9337 - val_auc: 0.9755\n",
      "Epoch 2/10\n",
      "560/560 [==============================] - 61s 109ms/step - loss: 0.1865 - accuracy: 0.9223 - precision: 0.9460 - recall: 0.9490 - auc: 0.9725 - val_loss: 0.1883 - val_accuracy: 0.9232 - val_precision: 0.9236 - val_recall: 0.9637 - val_auc: 0.9779\n",
      "Epoch 3/10\n",
      "560/560 [==============================] - 60s 107ms/step - loss: 0.1746 - accuracy: 0.9271 - precision: 0.9497 - recall: 0.9517 - auc: 0.9759 - val_loss: 0.1795 - val_accuracy: 0.9258 - val_precision: 0.9309 - val_recall: 0.9591 - val_auc: 0.9793\n",
      "Epoch 4/10\n",
      "560/560 [==============================] - 60s 107ms/step - loss: 0.1677 - accuracy: 0.9308 - precision: 0.9514 - recall: 0.9552 - auc: 0.9779 - val_loss: 0.1745 - val_accuracy: 0.9281 - val_precision: 0.9501 - val_recall: 0.9408 - val_auc: 0.9795\n",
      "Epoch 5/10\n",
      "560/560 [==============================] - 60s 107ms/step - loss: 0.1640 - accuracy: 0.9324 - precision: 0.9528 - recall: 0.9559 - auc: 0.9789 - val_loss: 0.1762 - val_accuracy: 0.9293 - val_precision: 0.9528 - val_recall: 0.9397 - val_auc: 0.9787\n",
      "Epoch 6/10\n",
      "560/560 [==============================] - 59s 106ms/step - loss: 0.1601 - accuracy: 0.9324 - precision: 0.9543 - recall: 0.9542 - auc: 0.9800 - val_loss: 0.1714 - val_accuracy: 0.9307 - val_precision: 0.9468 - val_recall: 0.9485 - val_auc: 0.9798\n",
      "Epoch 7/10\n",
      "560/560 [==============================] - 61s 109ms/step - loss: 0.1574 - accuracy: 0.9343 - precision: 0.9540 - recall: 0.9571 - auc: 0.9806 - val_loss: 0.1752 - val_accuracy: 0.9328 - val_precision: 0.9505 - val_recall: 0.9478 - val_auc: 0.9785\n",
      "Epoch 8/10\n",
      "560/560 [==============================] - 65s 116ms/step - loss: 0.1543 - accuracy: 0.9367 - precision: 0.9560 - recall: 0.9585 - auc: 0.9813 - val_loss: 0.1734 - val_accuracy: 0.9300 - val_precision: 0.9372 - val_recall: 0.9584 - val_auc: 0.9800\n",
      "Epoch 9/10\n",
      "560/560 [==============================] - 61s 109ms/step - loss: 0.1524 - accuracy: 0.9371 - precision: 0.9570 - recall: 0.9579 - auc: 0.9818 - val_loss: 0.1717 - val_accuracy: 0.9309 - val_precision: 0.9447 - val_recall: 0.9513 - val_auc: 0.9797\n",
      "Epoch 10/10\n",
      "560/560 [==============================] - 63s 113ms/step - loss: 0.1514 - accuracy: 0.9373 - precision: 0.9561 - recall: 0.9592 - auc: 0.9819 - val_loss: 0.1768 - val_accuracy: 0.9291 - val_precision: 0.9594 - val_recall: 0.9323 - val_auc: 0.9793\n"
     ]
    },
    {
     "name": "stderr",
     "output_type": "stream",
     "text": [
      "WARNING:absl:`mobilenetv2_1.00_224_input` is not a valid tf.function parameter name. Sanitizing to `mobilenetv2_1_00_224_input`.\n",
      "WARNING:absl:`mobilenetv2_1.00_224_input` is not a valid tf.function parameter name. Sanitizing to `mobilenetv2_1_00_224_input`.\n"
     ]
    },
    {
     "name": "stdout",
     "output_type": "stream",
     "text": [
      "INFO:tensorflow:Assets written to: /Users/litto/WORKSPACE/MegaClassifier/models/MegaClassifier_a/v1/v1.1/assets\n"
     ]
    },
    {
     "name": "stderr",
     "output_type": "stream",
     "text": [
      "INFO:tensorflow:Assets written to: /Users/litto/WORKSPACE/MegaClassifier/models/MegaClassifier_a/v1/v1.1/assets\n"
     ]
    },
    {
     "name": "stdout",
     "output_type": "stream",
     "text": [
      "134/134 [==============================] - 13s 97ms/step - loss: 0.1641 - accuracy: 0.9314 - precision: 0.9579 - recall: 0.9376 - auc: 0.9820\n"
     ]
    },
    {
     "name": "stderr",
     "output_type": "stream",
     "text": [
      "2025-02-28 19:42:30.147135: I tensorflow/core/grappler/optimizers/custom_graph_optimizer_registry.cc:114] Plugin optimizer for device_type GPU is enabled.\n"
     ]
    },
    {
     "name": "stdout",
     "output_type": "stream",
     "text": [
      "134/134 [==============================] - 12s 87ms/step\n",
      "\n",
      "\n",
      "\n",
      "Found 17906 validated image filenames belonging to 2 classes.\n",
      "Found 4286 validated image filenames belonging to 2 classes.\n",
      "Found 4286 validated image filenames belonging to 2 classes.\n",
      "Epoch 1/10\n"
     ]
    },
    {
     "name": "stderr",
     "output_type": "stream",
     "text": [
      "2025-02-28 19:42:43.730437: I tensorflow/core/grappler/optimizers/custom_graph_optimizer_registry.cc:114] Plugin optimizer for device_type GPU is enabled.\n"
     ]
    },
    {
     "name": "stdout",
     "output_type": "stream",
     "text": [
      "280/280 [==============================] - ETA: 0s - loss: 0.2272 - accuracy: 0.9060 - precision: 0.9310 - recall: 0.9397 - auc: 0.9642"
     ]
    },
    {
     "name": "stderr",
     "output_type": "stream",
     "text": [
      "2025-02-28 19:43:34.152573: I tensorflow/core/grappler/optimizers/custom_graph_optimizer_registry.cc:114] Plugin optimizer for device_type GPU is enabled.\n"
     ]
    },
    {
     "name": "stdout",
     "output_type": "stream",
     "text": [
      "280/280 [==============================] - 62s 218ms/step - loss: 0.2272 - accuracy: 0.9060 - precision: 0.9310 - recall: 0.9397 - auc: 0.9642 - val_loss: 0.1978 - val_accuracy: 0.9230 - val_precision: 0.9342 - val_recall: 0.9506 - val_auc: 0.9740\n",
      "Epoch 2/10\n",
      "280/280 [==============================] - 56s 200ms/step - loss: 0.1849 - accuracy: 0.9232 - precision: 0.9458 - recall: 0.9505 - auc: 0.9730 - val_loss: 0.1789 - val_accuracy: 0.9281 - val_precision: 0.9438 - val_recall: 0.9478 - val_auc: 0.9786\n",
      "Epoch 3/10\n",
      "280/280 [==============================] - 55s 198ms/step - loss: 0.1745 - accuracy: 0.9294 - precision: 0.9508 - recall: 0.9537 - auc: 0.9760 - val_loss: 0.1760 - val_accuracy: 0.9291 - val_precision: 0.9470 - val_recall: 0.9457 - val_auc: 0.9789\n",
      "Epoch 4/10\n",
      "280/280 [==============================] - 56s 199ms/step - loss: 0.1676 - accuracy: 0.9302 - precision: 0.9508 - recall: 0.9550 - auc: 0.9781 - val_loss: 0.1735 - val_accuracy: 0.9295 - val_precision: 0.9502 - val_recall: 0.9429 - val_auc: 0.9796\n",
      "Epoch 5/10\n",
      "280/280 [==============================] - 55s 198ms/step - loss: 0.1641 - accuracy: 0.9321 - precision: 0.9535 - recall: 0.9547 - auc: 0.9788 - val_loss: 0.1755 - val_accuracy: 0.9288 - val_precision: 0.9423 - val_recall: 0.9506 - val_auc: 0.9789\n",
      "Epoch 6/10\n",
      "280/280 [==============================] - 55s 198ms/step - loss: 0.1603 - accuracy: 0.9348 - precision: 0.9559 - recall: 0.9559 - auc: 0.9798 - val_loss: 0.1730 - val_accuracy: 0.9286 - val_precision: 0.9544 - val_recall: 0.9369 - val_auc: 0.9801\n",
      "Epoch 7/10\n",
      "280/280 [==============================] - 55s 198ms/step - loss: 0.1575 - accuracy: 0.9368 - precision: 0.9569 - recall: 0.9576 - auc: 0.9807 - val_loss: 0.1806 - val_accuracy: 0.9267 - val_precision: 0.9266 - val_recall: 0.9658 - val_auc: 0.9798\n",
      "Epoch 8/10\n",
      "280/280 [==============================] - 55s 197ms/step - loss: 0.1567 - accuracy: 0.9362 - precision: 0.9555 - recall: 0.9582 - auc: 0.9808 - val_loss: 0.1732 - val_accuracy: 0.9274 - val_precision: 0.9373 - val_recall: 0.9542 - val_auc: 0.9794\n",
      "Epoch 9/10\n",
      "280/280 [==============================] - 55s 198ms/step - loss: 0.1541 - accuracy: 0.9342 - precision: 0.9540 - recall: 0.9571 - auc: 0.9814 - val_loss: 0.1718 - val_accuracy: 0.9293 - val_precision: 0.9402 - val_recall: 0.9538 - val_auc: 0.9799\n",
      "Epoch 10/10\n",
      "280/280 [==============================] - 57s 203ms/step - loss: 0.1517 - accuracy: 0.9372 - precision: 0.9568 - recall: 0.9583 - auc: 0.9819 - val_loss: 0.1698 - val_accuracy: 0.9330 - val_precision: 0.9492 - val_recall: 0.9496 - val_auc: 0.9804\n",
      "INFO:tensorflow:Assets written to: /Users/litto/WORKSPACE/MegaClassifier/models/MegaClassifier_a/v1/v1.2/assets\n"
     ]
    },
    {
     "name": "stderr",
     "output_type": "stream",
     "text": [
      "INFO:tensorflow:Assets written to: /Users/litto/WORKSPACE/MegaClassifier/models/MegaClassifier_a/v1/v1.2/assets\n"
     ]
    },
    {
     "name": "stdout",
     "output_type": "stream",
     "text": [
      "67/67 [==============================] - 12s 173ms/step - loss: 0.1580 - accuracy: 0.9358 - precision: 0.9510 - recall: 0.9520 - auc: 0.9831\n"
     ]
    },
    {
     "name": "stderr",
     "output_type": "stream",
     "text": [
      "2025-02-28 19:52:23.574490: I tensorflow/core/grappler/optimizers/custom_graph_optimizer_registry.cc:114] Plugin optimizer for device_type GPU is enabled.\n"
     ]
    },
    {
     "name": "stdout",
     "output_type": "stream",
     "text": [
      "67/67 [==============================] - 12s 168ms/step\n",
      "\n",
      "\n",
      "\n",
      "Found 17906 validated image filenames belonging to 2 classes.\n",
      "Found 4286 validated image filenames belonging to 2 classes.\n",
      "Found 4286 validated image filenames belonging to 2 classes.\n",
      "Epoch 1/10\n"
     ]
    },
    {
     "name": "stderr",
     "output_type": "stream",
     "text": [
      "2025-02-28 19:52:36.838641: I tensorflow/core/grappler/optimizers/custom_graph_optimizer_registry.cc:114] Plugin optimizer for device_type GPU is enabled.\n"
     ]
    },
    {
     "name": "stdout",
     "output_type": "stream",
     "text": [
      "140/140 [==============================] - ETA: 0s - loss: 0.2688 - accuracy: 0.8906 - precision: 0.9174 - recall: 0.9330 - auc: 0.9518"
     ]
    },
    {
     "name": "stderr",
     "output_type": "stream",
     "text": [
      "2025-02-28 19:53:25.807316: I tensorflow/core/grappler/optimizers/custom_graph_optimizer_registry.cc:114] Plugin optimizer for device_type GPU is enabled.\n"
     ]
    },
    {
     "name": "stdout",
     "output_type": "stream",
     "text": [
      "140/140 [==============================] - 61s 428ms/step - loss: 0.2688 - accuracy: 0.8906 - precision: 0.9174 - recall: 0.9330 - auc: 0.9518 - val_loss: 0.1969 - val_accuracy: 0.9214 - val_precision: 0.9392 - val_recall: 0.9422 - val_auc: 0.9743\n",
      "Epoch 2/10\n",
      "140/140 [==============================] - 58s 414ms/step - loss: 0.1984 - accuracy: 0.9171 - precision: 0.9407 - recall: 0.9476 - auc: 0.9690 - val_loss: 0.1861 - val_accuracy: 0.9218 - val_precision: 0.9317 - val_recall: 0.9517 - val_auc: 0.9768\n",
      "Epoch 3/10\n",
      "140/140 [==============================] - 58s 415ms/step - loss: 0.1847 - accuracy: 0.9229 - precision: 0.9462 - recall: 0.9497 - auc: 0.9734 - val_loss: 0.1794 - val_accuracy: 0.9298 - val_precision: 0.9477 - val_recall: 0.9461 - val_auc: 0.9785\n",
      "Epoch 4/10\n",
      "140/140 [==============================] - 62s 441ms/step - loss: 0.1773 - accuracy: 0.9270 - precision: 0.9489 - recall: 0.9525 - auc: 0.9755 - val_loss: 0.1861 - val_accuracy: 0.9225 - val_precision: 0.9221 - val_recall: 0.9644 - val_auc: 0.9788\n",
      "Epoch 5/10\n",
      "140/140 [==============================] - 59s 422ms/step - loss: 0.1716 - accuracy: 0.9292 - precision: 0.9511 - recall: 0.9531 - auc: 0.9771 - val_loss: 0.1793 - val_accuracy: 0.9272 - val_precision: 0.9310 - val_recall: 0.9612 - val_auc: 0.9793\n",
      "Epoch 6/10\n",
      "140/140 [==============================] - 69s 491ms/step - loss: 0.1687 - accuracy: 0.9308 - precision: 0.9521 - recall: 0.9543 - auc: 0.9779 - val_loss: 0.1734 - val_accuracy: 0.9326 - val_precision: 0.9445 - val_recall: 0.9542 - val_auc: 0.9797\n",
      "Epoch 7/10\n",
      "140/140 [==============================] - 63s 451ms/step - loss: 0.1647 - accuracy: 0.9325 - precision: 0.9529 - recall: 0.9559 - auc: 0.9791 - val_loss: 0.1726 - val_accuracy: 0.9316 - val_precision: 0.9410 - val_recall: 0.9566 - val_auc: 0.9798\n",
      "Epoch 8/10\n",
      "140/140 [==============================] - 59s 421ms/step - loss: 0.1621 - accuracy: 0.9345 - precision: 0.9547 - recall: 0.9568 - auc: 0.9796 - val_loss: 0.1718 - val_accuracy: 0.9319 - val_precision: 0.9454 - val_recall: 0.9520 - val_auc: 0.9801\n",
      "Epoch 9/10\n",
      "140/140 [==============================] - 59s 417ms/step - loss: 0.1600 - accuracy: 0.9339 - precision: 0.9533 - recall: 0.9574 - auc: 0.9802 - val_loss: 0.1753 - val_accuracy: 0.9295 - val_precision: 0.9333 - val_recall: 0.9623 - val_auc: 0.9801\n",
      "Epoch 10/10\n",
      "140/140 [==============================] - 58s 412ms/step - loss: 0.1584 - accuracy: 0.9356 - precision: 0.9564 - recall: 0.9564 - auc: 0.9806 - val_loss: 0.1725 - val_accuracy: 0.9323 - val_precision: 0.9546 - val_recall: 0.9425 - val_auc: 0.9801\n",
      "INFO:tensorflow:Assets written to: /Users/litto/WORKSPACE/MegaClassifier/models/MegaClassifier_a/v1/v1.3/assets\n"
     ]
    },
    {
     "name": "stderr",
     "output_type": "stream",
     "text": [
      "INFO:tensorflow:Assets written to: /Users/litto/WORKSPACE/MegaClassifier/models/MegaClassifier_a/v1/v1.3/assets\n"
     ]
    },
    {
     "name": "stdout",
     "output_type": "stream",
     "text": [
      "34/34 [==============================] - 11s 323ms/step - loss: 0.1631 - accuracy: 0.9342 - precision: 0.9594 - recall: 0.9404 - auc: 0.9820\n"
     ]
    },
    {
     "name": "stderr",
     "output_type": "stream",
     "text": [
      "2025-02-28 20:02:59.416041: I tensorflow/core/grappler/optimizers/custom_graph_optimizer_registry.cc:114] Plugin optimizer for device_type GPU is enabled.\n"
     ]
    },
    {
     "name": "stdout",
     "output_type": "stream",
     "text": [
      "34/34 [==============================] - 11s 316ms/step\n",
      "\n",
      "\n",
      "\n"
     ]
    }
   ],
   "source": [
    "SUBVERSION = 0\n",
    "for OPTIMIZER_NAME, _ in OPTIMIZERS.items():\n",
    "    LOGS_PATH = os.path.abspath(\n",
    "        f\"./logs/{MODEL_BASE_NAME}/v{VERSION}/v{VERSION}.{SUBVERSION}\"\n",
    "    )\n",
    "    MODELS_PATH = os.path.abspath(\n",
    "        f\"./models/{MODEL_BASE_NAME}/v{VERSION}/v{VERSION}.{SUBVERSION}\"\n",
    "    )\n",
    "    REPORTS_PATH = os.path.abspath(\n",
    "        f\"./reports/{MODEL_BASE_NAME}/v{VERSION}/v{VERSION}.{SUBVERSION}\"\n",
    "    )\n",
    "\n",
    "    MODEL_COMPLETE_NAME = f\"{MODEL_BASE_NAME} v{VERSION}.{SUBVERSION}\"\n",
    "\n",
    "    train_datagen = ImageDataGenerator(\n",
    "        preprocessing_function=tf.keras.applications.mobilenet_v2.preprocess_input,\n",
    "    )\n",
    "    train_images = train_datagen.flow_from_dataframe(\n",
    "        dataframe=train_dataset,\n",
    "        x_col=\"file_name\",\n",
    "        y_col=\"binary_label\",\n",
    "        target_size=IMAGE_SIZE,\n",
    "        batch_size=BATCH_SIZE,\n",
    "        class_mode=\"binary\",\n",
    "        shuffle=True,\n",
    "        seed=SEED,\n",
    "    )\n",
    "\n",
    "    datagen = ImageDataGenerator(\n",
    "        preprocessing_function=tf.keras.applications.mobilenet_v2.preprocess_input,\n",
    "    )\n",
    "    validation_images = datagen.flow_from_dataframe(\n",
    "        dataframe=validationtrain_dataset,\n",
    "        x_col=\"file_name\",\n",
    "        y_col=\"binary_label\",\n",
    "        target_size=IMAGE_SIZE,\n",
    "        batch_size=BATCH_SIZE,\n",
    "        class_mode=\"binary\",\n",
    "        shuffle=True,\n",
    "        seed=SEED,\n",
    "    )\n",
    "    test_images = datagen.flow_from_dataframe(\n",
    "        dataframe=test_dataset,\n",
    "        x_col=\"file_name\",\n",
    "        y_col=\"binary_label\",\n",
    "        target_size=IMAGE_SIZE,\n",
    "        batch_size=BATCH_SIZE,\n",
    "        class_mode=\"binary\",\n",
    "        shuffle=False,\n",
    "        seed=SEED,\n",
    "    )\n",
    "\n",
    "    pretrained_model = tf.keras.applications.MobileNetV2(\n",
    "        weights=\"imagenet\",\n",
    "        include_top=False,\n",
    "        input_shape=IMAGE_SHAPE,\n",
    "    )\n",
    "    pretrained_model.trainable = False\n",
    "\n",
    "    model = tf.keras.Sequential(\n",
    "        [\n",
    "            pretrained_model,\n",
    "            tf.keras.layers.GlobalAveragePooling2D(),\n",
    "            tf.keras.layers.Dense(1, activation=\"sigmoid\"),\n",
    "        ],\n",
    "        name=f\"{MODEL_BASE_NAME}_v{VERSION}.{SUBVERSION}\",\n",
    "    )\n",
    "\n",
    "    model.compile(\n",
    "        optimizer=OPTIMIZERS[OPTIMIZER_NAME],\n",
    "        loss=LOSS[\"BinaryCrossentropy\"],\n",
    "        metrics=METRICS,\n",
    "    )\n",
    "\n",
    "    history = model.fit(\n",
    "        train_images,\n",
    "        epochs=EPOCHS,\n",
    "        validation_data=validation_images,\n",
    "        callbacks=[TensorBoard(log_dir=LOGS_PATH)],\n",
    "    )\n",
    "\n",
    "    dataframe = pd.DataFrame(history.history)\n",
    "    history_path = os.path.join(LOGS_PATH, f\"history_v{VERSION}.{SUBVERSION}.csv\")\n",
    "    dataframe.to_csv(history_path, sep=\";\", index=False)\n",
    "\n",
    "    os.makedirs(REPORTS_PATH, exist_ok=True)\n",
    "    accuracy_chart = graphics.create_training_accuracy_chart(\n",
    "        history_path=history_path,\n",
    "        model_name=MODEL_COMPLETE_NAME,\n",
    "    )\n",
    "    accuracy_chart.write_image(f\"{REPORTS_PATH}/accuracy_v{VERSION}.{SUBVERSION}.png\")\n",
    "\n",
    "    loss_chart = graphics.create_training_loss_chart(\n",
    "        history_path=history_path,\n",
    "        model_name=MODEL_COMPLETE_NAME,\n",
    "    )\n",
    "    loss_chart.write_image(f\"{REPORTS_PATH}/loss_v{VERSION}.{SUBVERSION}.png\")\n",
    "\n",
    "    os.makedirs(MODELS_PATH, exist_ok=True)\n",
    "    model.save(MODELS_PATH)\n",
    "\n",
    "    results = model.evaluate(test_images)\n",
    "    metric_names = history.model.metrics_names\n",
    "    evaluation_results = {\n",
    "        (\"test_\" + name): value for name, value in zip(metric_names, results)\n",
    "    }\n",
    "\n",
    "    evaluation = pd.DataFrame([evaluation_results])\n",
    "    evaluation.to_csv(\n",
    "        os.path.join(LOGS_PATH, f\"evaluation_v{VERSION}.{SUBVERSION}.csv\"),\n",
    "        sep=\";\",\n",
    "        index=False,\n",
    "    )\n",
    "\n",
    "    y_pred_prob = model.predict(test_images)\n",
    "    y_true = test_images.labels\n",
    "\n",
    "    fpr, tpr, thresholds = roc_curve(y_true, y_pred_prob)\n",
    "    roc_auc = auc(fpr, tpr)\n",
    "\n",
    "    roc_curve_chart = graphics.create_roc_curve_chart(\n",
    "        fpr=fpr,\n",
    "        tpr=tpr,\n",
    "        roc_auc=roc_auc,\n",
    "        model_name=MODEL_COMPLETE_NAME,\n",
    "    )\n",
    "    roc_curve_chart.write_image(f\"{REPORTS_PATH}/roc_curve_v{VERSION}.{SUBVERSION}.png\")\n",
    "\n",
    "    optimal_idx = np.argmax(tpr - fpr)\n",
    "    optimal_threshold = thresholds[optimal_idx]\n",
    "\n",
    "    # y_pred_prob = y_pred_prob.flatten()\n",
    "    y_pred_class = (y_pred_prob > optimal_threshold).astype(int)\n",
    "    conf_matrix = confusion_matrix(y_true, y_pred_class)\n",
    "    conf_matrix_text = [[str(value) for value in row] for row in conf_matrix]\n",
    "\n",
    "    # Crear el gráfico correctamente\n",
    "    confusion_matrix_chart = graphics.create_confusion_matrix_chart(\n",
    "        conf_matrix=conf_matrix,\n",
    "        conf_matrix_text=conf_matrix_text,\n",
    "        model_name=MODEL_COMPLETE_NAME,\n",
    "    )\n",
    "    confusion_matrix_chart.write_image(\n",
    "        f\"{REPORTS_PATH}/confusion_matrix_optimal_v{VERSION}.{SUBVERSION}.png\"\n",
    "    )\n",
    "\n",
    "    y_pred_class = (y_pred_prob > 0.5).astype(int)\n",
    "    conf_matrix = confusion_matrix(y_true, y_pred_class)\n",
    "    conf_matrix_text = [[str(value) for value in row] for row in conf_matrix]\n",
    "\n",
    "    confusion_matrix_chart = graphics.create_confusion_matrix_chart(\n",
    "        conf_matrix=conf_matrix,\n",
    "        conf_matrix_text=conf_matrix_text,\n",
    "        model_name=MODEL_COMPLETE_NAME,\n",
    "    )\n",
    "    confusion_matrix_chart.write_image(\n",
    "        f\"{REPORTS_PATH}/confusion_matrix_v{VERSION}.{SUBVERSION}.png\"\n",
    "    )\n",
    "\n",
    "    SUBVERSION += 1\n",
    "    print(\"\\n\\n\")\n"
   ]
  }
 ],
 "metadata": {
  "kernelspec": {
   "display_name": "TFG",
   "language": "python",
   "name": "python3"
  },
  "language_info": {
   "codemirror_mode": {
    "name": "ipython",
    "version": 3
   },
   "file_extension": ".py",
   "mimetype": "text/x-python",
   "name": "python",
   "nbconvert_exporter": "python",
   "pygments_lexer": "ipython3",
   "version": "3.8.19"
  }
 },
 "nbformat": 4,
 "nbformat_minor": 2
}
