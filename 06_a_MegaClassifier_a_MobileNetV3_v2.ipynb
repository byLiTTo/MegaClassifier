{
 "cells": [
  {
   "cell_type": "code",
   "execution_count": 9,
   "metadata": {},
   "outputs": [],
   "source": [
    "import os\n",
    "\n",
    "import numpy as np\n",
    "import pandas as pd\n",
    "import tensorflow as tf\n",
    "import tensorflow_addons as tfa\n",
    "import src.model as models\n",
    "from sklearn.metrics import auc, confusion_matrix, roc_curve\n",
    "from tensorflow.keras.callbacks import TensorBoard\n",
    "from tensorflow.keras.metrics import AUC, BinaryAccuracy, Precision, Recall\n",
    "from tensorflow.keras.preprocessing.image import ImageDataGenerator\n",
    "\n",
    "import src.graphics as graphics"
   ]
  },
  {
   "cell_type": "code",
   "execution_count": 10,
   "metadata": {},
   "outputs": [],
   "source": [
    "VERSION = \"2\"\n",
    "MODEL_BASE_NAME = \"MegaClassifier_a_MobileNetV3\"\n",
    "\n",
    "DATASET_CSV = os.path.abspath(\n",
    "    \"./data/processed/onlyDetectionsForTrain/onlyDetectionsForTrain.csv\"\n",
    ")\n",
    "DATASET_PATH = os.path.dirname(DATASET_CSV)"
   ]
  },
  {
   "cell_type": "code",
   "execution_count": 11,
   "metadata": {},
   "outputs": [],
   "source": [
    "dataset = pd.read_csv(DATASET_CSV, sep=\";\")\n",
    "dataset[\"file_name\"] = dataset[\"file_name\"].apply(\n",
    "    lambda x: os.path.join(DATASET_PATH, x)\n",
    ")\n",
    "dataset[\"binary_label\"] = dataset[\"binary_label\"].astype(str)\n",
    "\n",
    "train_dataset = dataset[dataset[\"subset\"] == \"train\"]\n",
    "validationtrain_dataset = dataset[dataset[\"subset\"] == \"validation\"]\n",
    "test_dataset = dataset[dataset[\"subset\"] == \"test\"]\n",
    "\n",
    "EPOCHS = 10\n",
    "IMAGE_SIZE = (224, 224)\n",
    "IMAGE_SHAPE = IMAGE_SIZE + (3,)\n",
    "SEED = 42"
   ]
  },
  {
   "cell_type": "code",
   "execution_count": 12,
   "metadata": {},
   "outputs": [],
   "source": [
    "OPTIMIZERS = {\n",
    "    \"Adam\": tf.keras.optimizers.legacy.Adam(),\n",
    "}"
   ]
  },
  {
   "cell_type": "code",
   "execution_count": 13,
   "metadata": {},
   "outputs": [],
   "source": [
    "LOSS = {\n",
    "    \"BinaryCrossentropy\": tf.keras.losses.BinaryCrossentropy(),\n",
    "    \"BinaryFocalCrossentropy\": tf.keras.losses.BinaryFocalCrossentropy(\n",
    "        alpha=0.25, gamma=2.0\n",
    "    ),\n",
    "    \"SigmoidFocalCrossEntropy\": tfa.losses.SigmoidFocalCrossEntropy(\n",
    "        alpha=0.25, gamma=2.0\n",
    "    ),\n",
    "    \"FocalLoss\": models.FocalLoss(alpha=0.25, gamma=2.0),\n",
    "}"
   ]
  },
  {
   "cell_type": "code",
   "execution_count": 14,
   "metadata": {},
   "outputs": [],
   "source": [
    "METRICS = [\n",
    "    BinaryAccuracy(name=\"accuracy\"),\n",
    "    Precision(name=\"precision\"),\n",
    "    Recall(name=\"recall\"),\n",
    "    AUC(name=\"auc\"),\n",
    "]"
   ]
  },
  {
   "cell_type": "code",
   "execution_count": 15,
   "metadata": {},
   "outputs": [],
   "source": [
    "BATCH_SIZE = 64"
   ]
  },
  {
   "cell_type": "code",
   "execution_count": 16,
   "metadata": {},
   "outputs": [
    {
     "name": "stdout",
     "output_type": "stream",
     "text": [
      "Found 17906 validated image filenames belonging to 2 classes.\n",
      "Found 4286 validated image filenames belonging to 2 classes.\n",
      "Found 4286 validated image filenames belonging to 2 classes.\n",
      "Epoch 1/10\n"
     ]
    },
    {
     "name": "stderr",
     "output_type": "stream",
     "text": [
      "2025-03-01 17:12:04.036765: I tensorflow/core/grappler/optimizers/custom_graph_optimizer_registry.cc:114] Plugin optimizer for device_type GPU is enabled.\n"
     ]
    },
    {
     "name": "stdout",
     "output_type": "stream",
     "text": [
      "280/280 [==============================] - ETA: 0s - loss: 0.2992 - accuracy: 0.8674 - precision: 0.9006 - recall: 0.9222 - auc: 0.9256"
     ]
    },
    {
     "name": "stderr",
     "output_type": "stream",
     "text": [
      "2025-03-01 17:13:39.396166: I tensorflow/core/grappler/optimizers/custom_graph_optimizer_registry.cc:114] Plugin optimizer for device_type GPU is enabled.\n"
     ]
    },
    {
     "name": "stdout",
     "output_type": "stream",
     "text": [
      "280/280 [==============================] - 119s 417ms/step - loss: 0.2992 - accuracy: 0.8674 - precision: 0.9006 - recall: 0.9222 - auc: 0.9256 - val_loss: 0.2553 - val_accuracy: 0.9232 - val_precision: 0.9366 - val_recall: 0.9482 - val_auc: 0.9627\n",
      "Epoch 2/10\n",
      "280/280 [==============================] - 156s 557ms/step - loss: 0.1966 - accuracy: 0.9210 - precision: 0.9443 - recall: 0.9491 - auc: 0.9702 - val_loss: 0.2089 - val_accuracy: 0.9316 - val_precision: 0.9507 - val_recall: 0.9457 - val_auc: 0.9712\n",
      "Epoch 3/10\n",
      "280/280 [==============================] - 137s 490ms/step - loss: 0.1787 - accuracy: 0.9277 - precision: 0.9500 - recall: 0.9522 - auc: 0.9752 - val_loss: 0.1873 - val_accuracy: 0.9316 - val_precision: 0.9469 - val_recall: 0.9499 - val_auc: 0.9762\n",
      "Epoch 4/10\n",
      "280/280 [==============================] - 148s 528ms/step - loss: 0.1683 - accuracy: 0.9321 - precision: 0.9540 - recall: 0.9540 - auc: 0.9780 - val_loss: 0.1797 - val_accuracy: 0.9319 - val_precision: 0.9383 - val_recall: 0.9602 - val_auc: 0.9792\n",
      "Epoch 5/10\n",
      "280/280 [==============================] - 137s 488ms/step - loss: 0.1611 - accuracy: 0.9340 - precision: 0.9561 - recall: 0.9545 - auc: 0.9798 - val_loss: 0.1708 - val_accuracy: 0.9363 - val_precision: 0.9530 - val_recall: 0.9506 - val_auc: 0.9796\n",
      "Epoch 6/10\n",
      "280/280 [==============================] - 110s 394ms/step - loss: 0.1548 - accuracy: 0.9383 - precision: 0.9585 - recall: 0.9580 - auc: 0.9814 - val_loss: 0.1666 - val_accuracy: 0.9356 - val_precision: 0.9545 - val_recall: 0.9478 - val_auc: 0.9804\n",
      "Epoch 7/10\n",
      "280/280 [==============================] - 115s 411ms/step - loss: 0.1511 - accuracy: 0.9399 - precision: 0.9603 - recall: 0.9583 - auc: 0.9821 - val_loss: 0.1633 - val_accuracy: 0.9382 - val_precision: 0.9554 - val_recall: 0.9510 - val_auc: 0.9814\n",
      "Epoch 8/10\n",
      "280/280 [==============================] - 109s 390ms/step - loss: 0.1476 - accuracy: 0.9410 - precision: 0.9603 - recall: 0.9598 - auc: 0.9829 - val_loss: 0.1659 - val_accuracy: 0.9368 - val_precision: 0.9652 - val_recall: 0.9383 - val_auc: 0.9814\n",
      "Epoch 9/10\n",
      "280/280 [==============================] - 110s 393ms/step - loss: 0.1447 - accuracy: 0.9410 - precision: 0.9624 - recall: 0.9576 - auc: 0.9836 - val_loss: 0.1597 - val_accuracy: 0.9384 - val_precision: 0.9519 - val_recall: 0.9552 - val_auc: 0.9824\n",
      "Epoch 10/10\n",
      "280/280 [==============================] - 112s 399ms/step - loss: 0.1416 - accuracy: 0.9424 - precision: 0.9609 - recall: 0.9611 - auc: 0.9843 - val_loss: 0.1605 - val_accuracy: 0.9379 - val_precision: 0.9480 - val_recall: 0.9587 - val_auc: 0.9825\n",
      "INFO:tensorflow:Assets written to: /Users/carlos/WORKSPACE/MegaClassifier/models/MegaClassifier_a_MobileNetV3/v2/v2.0/assets\n"
     ]
    },
    {
     "name": "stderr",
     "output_type": "stream",
     "text": [
      "INFO:tensorflow:Assets written to: /Users/carlos/WORKSPACE/MegaClassifier/models/MegaClassifier_a_MobileNetV3/v2/v2.0/assets\n"
     ]
    },
    {
     "name": "stdout",
     "output_type": "stream",
     "text": [
      "67/67 [==============================] - 21s 305ms/step - loss: 0.1497 - accuracy: 0.9379 - precision: 0.9515 - recall: 0.9549 - auc: 0.9850\n"
     ]
    },
    {
     "name": "stderr",
     "output_type": "stream",
     "text": [
      "2025-03-01 17:33:25.428660: I tensorflow/core/grappler/optimizers/custom_graph_optimizer_registry.cc:114] Plugin optimizer for device_type GPU is enabled.\n"
     ]
    },
    {
     "name": "stdout",
     "output_type": "stream",
     "text": [
      "67/67 [==============================] - 21s 298ms/step\n",
      "\n",
      "\n",
      "\n",
      "Found 17906 validated image filenames belonging to 2 classes.\n",
      "Found 4286 validated image filenames belonging to 2 classes.\n",
      "Found 4286 validated image filenames belonging to 2 classes.\n",
      "Epoch 1/10\n"
     ]
    },
    {
     "name": "stderr",
     "output_type": "stream",
     "text": [
      "2025-03-01 17:33:48.566950: I tensorflow/core/grappler/optimizers/custom_graph_optimizer_registry.cc:114] Plugin optimizer for device_type GPU is enabled.\n"
     ]
    },
    {
     "name": "stdout",
     "output_type": "stream",
     "text": [
      "280/280 [==============================] - ETA: 0s - loss: 0.0611 - accuracy: 0.9136 - precision: 0.9406 - recall: 0.9400 - auc: 0.9680"
     ]
    },
    {
     "name": "stderr",
     "output_type": "stream",
     "text": [
      "2025-03-01 17:35:16.447321: I tensorflow/core/grappler/optimizers/custom_graph_optimizer_registry.cc:114] Plugin optimizer for device_type GPU is enabled.\n"
     ]
    },
    {
     "name": "stdout",
     "output_type": "stream",
     "text": [
      "280/280 [==============================] - 111s 388ms/step - loss: 0.0611 - accuracy: 0.9136 - precision: 0.9406 - recall: 0.9400 - auc: 0.9680 - val_loss: 0.0476 - val_accuracy: 0.9295 - val_precision: 0.9525 - val_recall: 0.9404 - val_auc: 0.9789\n",
      "Epoch 2/10\n",
      "280/280 [==============================] - 114s 405ms/step - loss: 0.0427 - accuracy: 0.9318 - precision: 0.9548 - recall: 0.9528 - auc: 0.9795 - val_loss: 0.0453 - val_accuracy: 0.9316 - val_precision: 0.9432 - val_recall: 0.9542 - val_auc: 0.9812\n",
      "Epoch 3/10\n",
      "280/280 [==============================] - 112s 401ms/step - loss: 0.0397 - accuracy: 0.9363 - precision: 0.9577 - recall: 0.9561 - auc: 0.9822 - val_loss: 0.0448 - val_accuracy: 0.9347 - val_precision: 0.9587 - val_recall: 0.9418 - val_auc: 0.9811\n",
      "Epoch 4/10\n",
      "280/280 [==============================] - 106s 378ms/step - loss: 0.0375 - accuracy: 0.9407 - precision: 0.9602 - recall: 0.9596 - auc: 0.9842 - val_loss: 0.0453 - val_accuracy: 0.9347 - val_precision: 0.9535 - val_recall: 0.9475 - val_auc: 0.9811\n",
      "Epoch 5/10\n",
      "280/280 [==============================] - 111s 397ms/step - loss: 0.0368 - accuracy: 0.9418 - precision: 0.9615 - recall: 0.9596 - auc: 0.9848 - val_loss: 0.0458 - val_accuracy: 0.9372 - val_precision: 0.9595 - val_recall: 0.9450 - val_auc: 0.9807\n",
      "Epoch 6/10\n",
      "280/280 [==============================] - 103s 368ms/step - loss: 0.0361 - accuracy: 0.9431 - precision: 0.9629 - recall: 0.9601 - auc: 0.9853 - val_loss: 0.0457 - val_accuracy: 0.9356 - val_precision: 0.9423 - val_recall: 0.9616 - val_auc: 0.9821\n",
      "Epoch 7/10\n",
      "280/280 [==============================] - 107s 382ms/step - loss: 0.0356 - accuracy: 0.9434 - precision: 0.9627 - recall: 0.9606 - auc: 0.9858 - val_loss: 0.0448 - val_accuracy: 0.9391 - val_precision: 0.9541 - val_recall: 0.9538 - val_auc: 0.9817\n",
      "Epoch 8/10\n",
      "280/280 [==============================] - 111s 396ms/step - loss: 0.0348 - accuracy: 0.9442 - precision: 0.9639 - recall: 0.9605 - auc: 0.9864 - val_loss: 0.0468 - val_accuracy: 0.9333 - val_precision: 0.9360 - val_recall: 0.9651 - val_auc: 0.9820\n",
      "Epoch 9/10\n",
      "280/280 [==============================] - 107s 383ms/step - loss: 0.0347 - accuracy: 0.9446 - precision: 0.9634 - recall: 0.9615 - auc: 0.9865 - val_loss: 0.0466 - val_accuracy: 0.9351 - val_precision: 0.9469 - val_recall: 0.9556 - val_auc: 0.9812\n",
      "Epoch 10/10\n",
      "280/280 [==============================] - 106s 378ms/step - loss: 0.0344 - accuracy: 0.9444 - precision: 0.9634 - recall: 0.9612 - auc: 0.9867 - val_loss: 0.0461 - val_accuracy: 0.9356 - val_precision: 0.9469 - val_recall: 0.9563 - val_auc: 0.9812\n",
      "INFO:tensorflow:Assets written to: /Users/carlos/WORKSPACE/MegaClassifier/models/MegaClassifier_a_MobileNetV3/v2/v2.1/assets\n"
     ]
    },
    {
     "name": "stderr",
     "output_type": "stream",
     "text": [
      "INFO:tensorflow:Assets written to: /Users/carlos/WORKSPACE/MegaClassifier/models/MegaClassifier_a_MobileNetV3/v2/v2.1/assets\n"
     ]
    },
    {
     "name": "stdout",
     "output_type": "stream",
     "text": [
      "67/67 [==============================] - 21s 319ms/step - loss: 0.0410 - accuracy: 0.9363 - precision: 0.9467 - recall: 0.9577 - auc: 0.9847\n"
     ]
    },
    {
     "name": "stderr",
     "output_type": "stream",
     "text": [
      "2025-03-01 17:52:25.071538: I tensorflow/core/grappler/optimizers/custom_graph_optimizer_registry.cc:114] Plugin optimizer for device_type GPU is enabled.\n"
     ]
    },
    {
     "name": "stdout",
     "output_type": "stream",
     "text": [
      "67/67 [==============================] - 23s 334ms/step\n",
      "\n",
      "\n",
      "\n",
      "Found 17906 validated image filenames belonging to 2 classes.\n",
      "Found 4286 validated image filenames belonging to 2 classes.\n",
      "Found 4286 validated image filenames belonging to 2 classes.\n",
      "Epoch 1/10\n"
     ]
    },
    {
     "name": "stderr",
     "output_type": "stream",
     "text": [
      "2025-03-01 17:52:50.763024: I tensorflow/core/grappler/optimizers/custom_graph_optimizer_registry.cc:114] Plugin optimizer for device_type GPU is enabled.\n"
     ]
    },
    {
     "name": "stdout",
     "output_type": "stream",
     "text": [
      "280/280 [==============================] - ETA: 0s - loss: 0.0258 - accuracy: 0.9043 - precision: 0.9649 - recall: 0.9006 - auc: 0.9666"
     ]
    },
    {
     "name": "stderr",
     "output_type": "stream",
     "text": [
      "2025-03-01 17:54:17.058969: I tensorflow/core/grappler/optimizers/custom_graph_optimizer_registry.cc:114] Plugin optimizer for device_type GPU is enabled.\n"
     ]
    },
    {
     "name": "stdout",
     "output_type": "stream",
     "text": [
      "280/280 [==============================] - 108s 377ms/step - loss: 0.0258 - accuracy: 0.9043 - precision: 0.9649 - recall: 0.9006 - auc: 0.9666 - val_loss: 0.0228 - val_accuracy: 0.8913 - val_precision: 0.9877 - val_recall: 0.8463 - val_auc: 0.9731\n",
      "Epoch 2/10\n",
      "280/280 [==============================] - 105s 376ms/step - loss: 0.0177 - accuracy: 0.9186 - precision: 0.9793 - recall: 0.9091 - auc: 0.9798 - val_loss: 0.0194 - val_accuracy: 0.9291 - val_precision: 0.9668 - val_recall: 0.9245 - val_auc: 0.9803\n",
      "Epoch 3/10\n",
      "280/280 [==============================] - 109s 390ms/step - loss: 0.0165 - accuracy: 0.9266 - precision: 0.9812 - recall: 0.9183 - auc: 0.9823 - val_loss: 0.0186 - val_accuracy: 0.9202 - val_precision: 0.9789 - val_recall: 0.8988 - val_auc: 0.9808\n",
      "Epoch 4/10\n",
      "280/280 [==============================] - 109s 389ms/step - loss: 0.0158 - accuracy: 0.9310 - precision: 0.9829 - recall: 0.9227 - auc: 0.9837 - val_loss: 0.0187 - val_accuracy: 0.9263 - val_precision: 0.9773 - val_recall: 0.9097 - val_auc: 0.9805\n",
      "Epoch 5/10\n",
      "280/280 [==============================] - 105s 375ms/step - loss: 0.0153 - accuracy: 0.9304 - precision: 0.9826 - recall: 0.9221 - auc: 0.9846 - val_loss: 0.0185 - val_accuracy: 0.9263 - val_precision: 0.9773 - val_recall: 0.9097 - val_auc: 0.9815\n",
      "Epoch 6/10\n",
      "280/280 [==============================] - 108s 387ms/step - loss: 0.0150 - accuracy: 0.9335 - precision: 0.9833 - recall: 0.9258 - auc: 0.9854 - val_loss: 0.0188 - val_accuracy: 0.9305 - val_precision: 0.9721 - val_recall: 0.9214 - val_auc: 0.9815\n",
      "Epoch 7/10\n",
      "280/280 [==============================] - 103s 367ms/step - loss: 0.0149 - accuracy: 0.9337 - precision: 0.9828 - recall: 0.9265 - auc: 0.9854 - val_loss: 0.0189 - val_accuracy: 0.9307 - val_precision: 0.9721 - val_recall: 0.9217 - val_auc: 0.9819\n",
      "Epoch 8/10\n",
      "280/280 [==============================] - 109s 390ms/step - loss: 0.0147 - accuracy: 0.9342 - precision: 0.9837 - recall: 0.9263 - auc: 0.9859 - val_loss: 0.0190 - val_accuracy: 0.9291 - val_precision: 0.9734 - val_recall: 0.9178 - val_auc: 0.9807\n",
      "Epoch 9/10\n",
      "280/280 [==============================] - 109s 390ms/step - loss: 0.0146 - accuracy: 0.9350 - precision: 0.9830 - recall: 0.9281 - auc: 0.9860 - val_loss: 0.0186 - val_accuracy: 0.9263 - val_precision: 0.9766 - val_recall: 0.9104 - val_auc: 0.9817\n",
      "Epoch 10/10\n",
      "280/280 [==============================] - 105s 374ms/step - loss: 0.0143 - accuracy: 0.9374 - precision: 0.9845 - recall: 0.9299 - auc: 0.9865 - val_loss: 0.0193 - val_accuracy: 0.9148 - val_precision: 0.9791 - val_recall: 0.8903 - val_auc: 0.9809\n",
      "INFO:tensorflow:Assets written to: /Users/carlos/WORKSPACE/MegaClassifier/models/MegaClassifier_a_MobileNetV3/v2/v2.2/assets\n"
     ]
    },
    {
     "name": "stderr",
     "output_type": "stream",
     "text": [
      "INFO:tensorflow:Assets written to: /Users/carlos/WORKSPACE/MegaClassifier/models/MegaClassifier_a_MobileNetV3/v2/v2.2/assets\n"
     ]
    },
    {
     "name": "stdout",
     "output_type": "stream",
     "text": [
      "67/67 [==============================] - 21s 308ms/step - loss: 0.0181 - accuracy: 0.9146 - precision: 0.9824 - recall: 0.8868 - auc: 0.9833\n"
     ]
    },
    {
     "name": "stderr",
     "output_type": "stream",
     "text": [
      "2025-03-01 18:11:09.376800: I tensorflow/core/grappler/optimizers/custom_graph_optimizer_registry.cc:114] Plugin optimizer for device_type GPU is enabled.\n"
     ]
    },
    {
     "name": "stdout",
     "output_type": "stream",
     "text": [
      "67/67 [==============================] - 21s 300ms/step\n",
      "\n",
      "\n",
      "\n",
      "Found 17906 validated image filenames belonging to 2 classes.\n",
      "Found 4286 validated image filenames belonging to 2 classes.\n",
      "Found 4286 validated image filenames belonging to 2 classes.\n",
      "Epoch 1/10\n"
     ]
    },
    {
     "name": "stderr",
     "output_type": "stream",
     "text": [
      "2025-03-01 18:11:32.597904: I tensorflow/core/grappler/optimizers/custom_graph_optimizer_registry.cc:114] Plugin optimizer for device_type GPU is enabled.\n"
     ]
    },
    {
     "name": "stdout",
     "output_type": "stream",
     "text": [
      "280/280 [==============================] - ETA: 0s - loss: 0.0149 - accuracy: 0.9098 - precision: 0.9452 - recall: 0.9293 - auc: 0.9671"
     ]
    },
    {
     "name": "stderr",
     "output_type": "stream",
     "text": [
      "2025-03-01 18:13:03.046575: I tensorflow/core/grappler/optimizers/custom_graph_optimizer_registry.cc:114] Plugin optimizer for device_type GPU is enabled.\n"
     ]
    },
    {
     "name": "stdout",
     "output_type": "stream",
     "text": [
      "280/280 [==============================] - 113s 395ms/step - loss: 0.0149 - accuracy: 0.9098 - precision: 0.9452 - recall: 0.9293 - auc: 0.9671 - val_loss: 0.0139 - val_accuracy: 0.9232 - val_precision: 0.9219 - val_recall: 0.9658 - val_auc: 0.9764\n",
      "Epoch 2/10\n",
      "280/280 [==============================] - 102s 366ms/step - loss: 0.0105 - accuracy: 0.9329 - precision: 0.9553 - recall: 0.9539 - auc: 0.9801 - val_loss: 0.0123 - val_accuracy: 0.9356 - val_precision: 0.9588 - val_recall: 0.9432 - val_auc: 0.9763\n",
      "Epoch 3/10\n",
      "280/280 [==============================] - 108s 387ms/step - loss: 0.0099 - accuracy: 0.9381 - precision: 0.9599 - recall: 0.9562 - auc: 0.9824 - val_loss: 0.0118 - val_accuracy: 0.9319 - val_precision: 0.9527 - val_recall: 0.9439 - val_auc: 0.9786\n",
      "Epoch 4/10\n",
      "280/280 [==============================] - 110s 393ms/step - loss: 0.0094 - accuracy: 0.9395 - precision: 0.9601 - recall: 0.9580 - auc: 0.9840 - val_loss: 0.0118 - val_accuracy: 0.9361 - val_precision: 0.9651 - val_recall: 0.9372 - val_auc: 0.9792\n",
      "Epoch 5/10\n",
      "280/280 [==============================] - 106s 379ms/step - loss: 0.0092 - accuracy: 0.9415 - precision: 0.9605 - recall: 0.9603 - auc: 0.9848 - val_loss: 0.0117 - val_accuracy: 0.9344 - val_precision: 0.9584 - val_recall: 0.9418 - val_auc: 0.9792\n",
      "Epoch 6/10\n",
      "280/280 [==============================] - 107s 381ms/step - loss: 0.0090 - accuracy: 0.9418 - precision: 0.9614 - recall: 0.9598 - auc: 0.9854 - val_loss: 0.0117 - val_accuracy: 0.9340 - val_precision: 0.9465 - val_recall: 0.9542 - val_auc: 0.9801\n",
      "Epoch 7/10\n",
      "280/280 [==============================] - 108s 384ms/step - loss: 0.0088 - accuracy: 0.9444 - precision: 0.9640 - recall: 0.9607 - auc: 0.9860 - val_loss: 0.0120 - val_accuracy: 0.9307 - val_precision: 0.9334 - val_recall: 0.9640 - val_auc: 0.9808\n",
      "Epoch 8/10\n",
      "280/280 [==============================] - 104s 371ms/step - loss: 0.0088 - accuracy: 0.9434 - precision: 0.9622 - recall: 0.9612 - auc: 0.9861 - val_loss: 0.0122 - val_accuracy: 0.9316 - val_precision: 0.9335 - val_recall: 0.9654 - val_auc: 0.9809\n",
      "Epoch 9/10\n",
      "280/280 [==============================] - 117s 416ms/step - loss: 0.0086 - accuracy: 0.9446 - precision: 0.9631 - recall: 0.9618 - auc: 0.9866 - val_loss: 0.0118 - val_accuracy: 0.9363 - val_precision: 0.9427 - val_recall: 0.9623 - val_auc: 0.9813\n",
      "Epoch 10/10\n",
      "280/280 [==============================] - 119s 424ms/step - loss: 0.0085 - accuracy: 0.9454 - precision: 0.9635 - recall: 0.9626 - auc: 0.9870 - val_loss: 0.0124 - val_accuracy: 0.9335 - val_precision: 0.9708 - val_recall: 0.9274 - val_auc: 0.9794\n",
      "INFO:tensorflow:Assets written to: /Users/carlos/WORKSPACE/MegaClassifier/models/MegaClassifier_a_MobileNetV3/v2/v2.3/assets\n"
     ]
    },
    {
     "name": "stderr",
     "output_type": "stream",
     "text": [
      "INFO:tensorflow:Assets written to: /Users/carlos/WORKSPACE/MegaClassifier/models/MegaClassifier_a_MobileNetV3/v2/v2.3/assets\n"
     ]
    },
    {
     "name": "stdout",
     "output_type": "stream",
     "text": [
      "67/67 [==============================] - 21s 306ms/step - loss: 0.0115 - accuracy: 0.9321 - precision: 0.9718 - recall: 0.9242 - auc: 0.9819\n"
     ]
    },
    {
     "name": "stderr",
     "output_type": "stream",
     "text": [
      "2025-03-01 18:30:13.798224: I tensorflow/core/grappler/optimizers/custom_graph_optimizer_registry.cc:114] Plugin optimizer for device_type GPU is enabled.\n"
     ]
    },
    {
     "name": "stdout",
     "output_type": "stream",
     "text": [
      "67/67 [==============================] - 21s 297ms/step\n",
      "\n",
      "\n",
      "\n"
     ]
    }
   ],
   "source": [
    "SUBVERSION = 0\n",
    "for LOSS_NAME, _ in LOSS.items():\n",
    "    LOGS_PATH = os.path.abspath(\n",
    "        f\"./logs/{MODEL_BASE_NAME}/v{VERSION}/v{VERSION}.{SUBVERSION}\"\n",
    "    )\n",
    "    MODELS_PATH = os.path.abspath(\n",
    "        f\"./models/{MODEL_BASE_NAME}/v{VERSION}/v{VERSION}.{SUBVERSION}\"\n",
    "    )\n",
    "    REPORTS_PATH = os.path.abspath(\n",
    "        f\"./reports/{MODEL_BASE_NAME}/v{VERSION}/v{VERSION}.{SUBVERSION}\"\n",
    "    )\n",
    "\n",
    "    MODEL_COMPLETE_NAME = f\"{MODEL_BASE_NAME} v{VERSION}.{SUBVERSION}\"\n",
    "\n",
    "    train_datagen = ImageDataGenerator(\n",
    "        preprocessing_function=tf.keras.applications.mobilenet_v3.preprocess_input,\n",
    "    )\n",
    "    train_images = train_datagen.flow_from_dataframe(\n",
    "        dataframe=train_dataset,\n",
    "        x_col=\"file_name\",\n",
    "        y_col=\"binary_label\",\n",
    "        target_size=IMAGE_SIZE,\n",
    "        batch_size=BATCH_SIZE,\n",
    "        class_mode=\"binary\",\n",
    "        shuffle=True,\n",
    "        seed=SEED,\n",
    "    )\n",
    "\n",
    "    datagen = ImageDataGenerator(\n",
    "        preprocessing_function=tf.keras.applications.mobilenet_v3.preprocess_input,\n",
    "    )\n",
    "    validation_images = datagen.flow_from_dataframe(\n",
    "        dataframe=validationtrain_dataset,\n",
    "        x_col=\"file_name\",\n",
    "        y_col=\"binary_label\",\n",
    "        target_size=IMAGE_SIZE,\n",
    "        batch_size=BATCH_SIZE,\n",
    "        class_mode=\"binary\",\n",
    "        shuffle=True,\n",
    "        seed=SEED,\n",
    "    )\n",
    "    test_images = datagen.flow_from_dataframe(\n",
    "        dataframe=test_dataset,\n",
    "        x_col=\"file_name\",\n",
    "        y_col=\"binary_label\",\n",
    "        target_size=IMAGE_SIZE,\n",
    "        batch_size=BATCH_SIZE,\n",
    "        class_mode=\"binary\",\n",
    "        shuffle=False,\n",
    "        seed=SEED,\n",
    "    )\n",
    "\n",
    "    pretrained_model = tf.keras.applications.MobileNetV3Large(\n",
    "        weights=\"imagenet\",\n",
    "        include_top=False,\n",
    "        input_shape=IMAGE_SHAPE,\n",
    "    )\n",
    "    pretrained_model.trainable = False\n",
    "\n",
    "    model = tf.keras.Sequential(\n",
    "        [\n",
    "            pretrained_model,\n",
    "            tf.keras.layers.GlobalAveragePooling2D(),\n",
    "            tf.keras.layers.Dense(1, activation=\"sigmoid\"),\n",
    "        ],\n",
    "        name=f\"{MODEL_BASE_NAME}_v{VERSION}.{SUBVERSION}\",\n",
    "    )\n",
    "\n",
    "    model.compile(\n",
    "        optimizer=OPTIMIZERS[\"Adam\"],\n",
    "        loss=LOSS[LOSS_NAME],\n",
    "        metrics=METRICS,\n",
    "    )\n",
    "\n",
    "    history = model.fit(\n",
    "        train_images,\n",
    "        epochs=EPOCHS,\n",
    "        validation_data=validation_images,\n",
    "        callbacks=[TensorBoard(log_dir=LOGS_PATH)],\n",
    "    )\n",
    "\n",
    "    dataframe = pd.DataFrame(history.history)\n",
    "    history_path = os.path.join(LOGS_PATH, f\"history_v{VERSION}.{SUBVERSION}.csv\")\n",
    "    dataframe.to_csv(history_path, sep=\";\", index=False)\n",
    "\n",
    "    os.makedirs(REPORTS_PATH, exist_ok=True)\n",
    "    accuracy_chart = graphics.create_training_accuracy_chart(\n",
    "        history_path=history_path,\n",
    "        model_name=MODEL_COMPLETE_NAME,\n",
    "    )\n",
    "    accuracy_chart.write_image(f\"{REPORTS_PATH}/accuracy_v{VERSION}.{SUBVERSION}.png\")\n",
    "\n",
    "    loss_chart = graphics.create_training_loss_chart(\n",
    "        history_path=history_path,\n",
    "        model_name=MODEL_COMPLETE_NAME,\n",
    "    )\n",
    "    loss_chart.write_image(f\"{REPORTS_PATH}/loss_v{VERSION}.{SUBVERSION}.png\")\n",
    "\n",
    "    os.makedirs(MODELS_PATH, exist_ok=True)\n",
    "    model.save(MODELS_PATH)\n",
    "\n",
    "    results = model.evaluate(test_images)\n",
    "    metric_names = history.model.metrics_names\n",
    "    evaluation_results = {\n",
    "        (\"test_\" + name): value for name, value in zip(metric_names, results)\n",
    "    }\n",
    "\n",
    "    evaluation = pd.DataFrame([evaluation_results])\n",
    "    evaluation.to_csv(\n",
    "        os.path.join(LOGS_PATH, f\"evaluation_v{VERSION}.{SUBVERSION}.csv\"),\n",
    "        sep=\";\",\n",
    "        index=False,\n",
    "    )\n",
    "\n",
    "    y_pred_prob = model.predict(test_images)\n",
    "    y_true = test_images.labels\n",
    "\n",
    "    fpr, tpr, thresholds = roc_curve(y_true, y_pred_prob)\n",
    "    roc_auc = auc(fpr, tpr)\n",
    "\n",
    "    roc_curve_chart = graphics.create_roc_curve_chart(\n",
    "        fpr=fpr,\n",
    "        tpr=tpr,\n",
    "        roc_auc=roc_auc,\n",
    "        model_name=MODEL_COMPLETE_NAME,\n",
    "    )\n",
    "    roc_curve_chart.write_image(f\"{REPORTS_PATH}/roc_curve_v{VERSION}.{SUBVERSION}.png\")\n",
    "\n",
    "    optimal_idx = np.argmax(tpr - fpr)\n",
    "    optimal_threshold = thresholds[optimal_idx]\n",
    "\n",
    "    # y_pred_prob = y_pred_prob.flatten()\n",
    "    y_pred_class = (y_pred_prob > optimal_threshold).astype(int)\n",
    "    conf_matrix = confusion_matrix(y_true, y_pred_class)\n",
    "    conf_matrix_text = [[str(value) for value in row] for row in conf_matrix]\n",
    "\n",
    "    # Crear el gráfico correctamente\n",
    "    confusion_matrix_chart = graphics.create_confusion_matrix_chart(\n",
    "        conf_matrix=conf_matrix,\n",
    "        conf_matrix_text=conf_matrix_text,\n",
    "        model_name=MODEL_COMPLETE_NAME,\n",
    "    )\n",
    "    confusion_matrix_chart.write_image(\n",
    "        f\"{REPORTS_PATH}/confusion_matrix_optimal_v{VERSION}.{SUBVERSION}.png\"\n",
    "    )\n",
    "\n",
    "    y_pred_class = (y_pred_prob > 0.5).astype(int)\n",
    "    conf_matrix = confusion_matrix(y_true, y_pred_class)\n",
    "    conf_matrix_text = [[str(value) for value in row] for row in conf_matrix]\n",
    "\n",
    "    confusion_matrix_chart = graphics.create_confusion_matrix_chart(\n",
    "        conf_matrix=conf_matrix,\n",
    "        conf_matrix_text=conf_matrix_text,\n",
    "        model_name=MODEL_COMPLETE_NAME,\n",
    "    )\n",
    "    confusion_matrix_chart.write_image(\n",
    "        f\"{REPORTS_PATH}/confusion_matrix_v{VERSION}.{SUBVERSION}.png\"\n",
    "    )\n",
    "\n",
    "    SUBVERSION += 1\n",
    "    print(\"\\n\\n\")\n"
   ]
  }
 ],
 "metadata": {
  "kernelspec": {
   "display_name": "TFG",
   "language": "python",
   "name": "python3"
  },
  "language_info": {
   "codemirror_mode": {
    "name": "ipython",
    "version": 3
   },
   "file_extension": ".py",
   "mimetype": "text/x-python",
   "name": "python",
   "nbconvert_exporter": "python",
   "pygments_lexer": "ipython3",
   "version": "3.8.19"
  }
 },
 "nbformat": 4,
 "nbformat_minor": 2
}
