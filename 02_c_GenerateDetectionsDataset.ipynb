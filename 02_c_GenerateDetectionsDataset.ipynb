{
 "cells": [
  {
   "cell_type": "code",
   "execution_count": 1,
   "metadata": {},
   "outputs": [],
   "source": [
    "import json\n",
    "import os\n",
    "\n",
    "import pandas as pd\n",
    "import src.data.Dataset as dt\n",
    "import tqdm"
   ]
  },
  {
   "cell_type": "code",
   "execution_count": null,
   "metadata": {},
   "outputs": [],
   "source": [
    "from itables import init_notebook_mode\n",
    "\n",
    "init_notebook_mode(all_interactive=True)"
   ]
  },
  {
   "cell_type": "code",
   "execution_count": null,
   "metadata": {},
   "outputs": [],
   "source": [
    "OUTPUT_JSON = os.path.abspath(\"./resources/json/28570_images_0_003_threshold.json\")\n",
    "DATASET_CSV = os.path.abspath(\n",
    "    \"./data/interim/emptyNonEmptyDataset/28570Images_subset.csv\"\n",
    ")\n",
    "\n",
    "print(f\"OUTPUT_JSON: {OUTPUT_JSON}\")\n",
    "print(f\"DATASET_CSV: {DATASET_CSV}\")"
   ]
  },
  {
   "cell_type": "code",
   "execution_count": null,
   "metadata": {},
   "outputs": [],
   "source": [
    "threshold = (\n",
    "    os.path.basename(OUTPUT_JSON).split(\"images_\")[-1].replace(\"_threshold.json\", \"\")\n",
    ")\n",
    "name = \"MegaDetector\"\n",
    "model = name + \"_\" + str(threshold)\n",
    "\n",
    "with open(OUTPUT_JSON, \"r\") as file:\n",
    "    data = json.load(file)"
   ]
  },
  {
   "cell_type": "code",
   "execution_count": null,
   "metadata": {},
   "outputs": [],
   "source": [
    "dataset = dt.load_from_csv(DATASET_CSV)\n",
    "dataset.head()"
   ]
  },
  {
   "cell_type": "code",
   "execution_count": null,
   "metadata": {},
   "outputs": [],
   "source": [
    "report_columns = [\n",
    "    \"file_name\",\n",
    "    \"label\",\n",
    "    \"binary_label\",\n",
    "    \"detector_label\",\n",
    "    \"subset\",\n",
    "]\n",
    "report = pd.DataFrame(columns=report_columns)\n",
    "\n",
    "for image in tqdm.tqdm(data[\"images\"]):\n",
    "    image_file = image[\"file\"]\n",
    "    indexes = dataset[dataset[\"file_name\"] == image_file]\n",
    "\n",
    "    if len(indexes) == 1:\n",
    "        label = indexes[\"label\"].iloc[0]\n",
    "        binary_label = int(indexes[\"binary_label\"].iloc[0])\n",
    "        detector_label = 1 if image[\"max_detection_conf\"] > 0.0 else 0\n",
    "        subset = indexes[\"subset\"].iloc[0]\n",
    "\n",
    "        new_row = {\n",
    "            \"file_name\": image_file,\n",
    "            \"label\": label,\n",
    "            \"binary_label\": binary_label,\n",
    "            \"detector_label\": detector_label,\n",
    "            \"subset\": subset,\n",
    "        }\n",
    "        report = pd.concat([report, pd.DataFrame([new_row])], ignore_index=True)"
   ]
  },
  {
   "cell_type": "code",
   "execution_count": null,
   "metadata": {},
   "outputs": [],
   "source": [
    "report.head()"
   ]
  },
  {
   "cell_type": "code",
   "execution_count": null,
   "metadata": {},
   "outputs": [],
   "source": [
    "NEW_DATASET_CSV = os.path.join(\n",
    "    os.path.dirname(DATASET_CSV), f\"{len(report)}Images_{threshold}_threshold.csv\"\n",
    ")\n",
    "\n",
    "report.to_csv(\n",
    "    NEW_DATASET_CSV,\n",
    "    index=False,\n",
    "    sep=\";\",\n",
    ")\n",
    "print(f\"Dataset saved to {NEW_DATASET_CSV}\")"
   ]
  }
 ],
 "metadata": {
  "kernelspec": {
   "display_name": "TFG",
   "language": "python",
   "name": "python3"
  },
  "language_info": {
   "codemirror_mode": {
    "name": "ipython",
    "version": 3
   },
   "file_extension": ".py",
   "mimetype": "text/x-python",
   "name": "python",
   "nbconvert_exporter": "python",
   "pygments_lexer": "ipython3",
   "version": "3.8.19"
  }
 },
 "nbformat": 4,
 "nbformat_minor": 2
}
