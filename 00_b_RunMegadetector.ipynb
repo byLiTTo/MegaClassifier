{
 "cells": [
  {
   "cell_type": "code",
   "execution_count": null,
   "metadata": {},
   "outputs": [],
   "source": [
    "import os\n",
    "\n",
    "\n",
    "required_paths = [\"/ai4eutils\", \"/CameraTraps\", \"/yolov5\"]\n",
    "python_path = os.environ.get(\"PYTHONPATH\", \"\")\n",
    "root_path = os.getcwd()\n",
    "\n",
    "for path in required_paths:\n",
    "    if not any(p.endswith(path) for p in python_path.split(\":\")):\n",
    "        python_path += f\":{root_path}/data/external{path}\"\n",
    "\n",
    "os.environ[\"PYTHONPATH\"] = python_path\n",
    "\n",
    "!echo \"PYTHONPATH: $PYTHONPATH\""
   ]
  },
  {
   "cell_type": "code",
   "execution_count": null,
   "metadata": {},
   "outputs": [],
   "source": [
    "images_dir = os.path.abspath(\"./resources/test_images\")\n",
    "output_file_path = os.path.abspath(\"./resources/json/test_output.json\")\n",
    "\n",
    "model_file_path = os.path.abspath(\"./models/MegaDetector/md_v5a.0.0.pt\")\n",
    "\n",
    "print(f\"Images directory Path: {images_dir}\")\n",
    "print(f\"Model File Path:       {model_file_path}\")\n",
    "print(f\"Output File Path:      {output_file_path}\")"
   ]
  },
  {
   "cell_type": "code",
   "execution_count": null,
   "metadata": {},
   "outputs": [],
   "source": [
    "# !python ./data/external/CameraTraps/detection/run_detector_batch.py \"$model_file_path\" \"$images_dir\" \"$output_file_path\" --recursive --threshold 0.1\n",
    "!python ./data/external/CameraTraps/detection/run_detector_batch.py \"$model_file_path\" \"$images_dir\" \"$output_file_path\" --recursive"
   ]
  },
  {
   "cell_type": "code",
   "execution_count": null,
   "metadata": {},
   "outputs": [],
   "source": [
    "visualization_dir = os.path.abspath(\"./resources/bboxes/test_output\")\n",
    "\n",
    "print(f\"Visualization Directory Path: {visualization_dir}\")"
   ]
  },
  {
   "cell_type": "code",
   "execution_count": null,
   "metadata": {},
   "outputs": [],
   "source": [
    "!python ./data/external/CameraTraps/visualization/visualize_detector_output.py \"$output_file_path\" \"$visualization_dir\" --confidence 0.8 --images_dir \"$images_dir\""
   ]
  },
  {
   "cell_type": "code",
   "execution_count": null,
   "metadata": {},
   "outputs": [],
   "source": [
    "import os\n",
    "from PIL import Image\n",
    "\n",
    "for viz_file_name in os.listdir(visualization_dir):\n",
    "    print(viz_file_name)\n",
    "    im = Image.open(os.path.join(visualization_dir, viz_file_name))\n",
    "    display(im)"
   ]
  }
 ],
 "metadata": {
  "kernelspec": {
   "display_name": "megaclassifier",
   "language": "python",
   "name": "python3"
  },
  "language_info": {
   "codemirror_mode": {
    "name": "ipython",
    "version": 3
   },
   "file_extension": ".py",
   "mimetype": "text/x-python",
   "name": "python",
   "nbconvert_exporter": "python",
   "pygments_lexer": "ipython3",
   "version": "3.8.19"
  }
 },
 "nbformat": 4,
 "nbformat_minor": 2
}
