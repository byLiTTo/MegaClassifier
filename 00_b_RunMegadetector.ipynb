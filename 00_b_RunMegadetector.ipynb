{
 "cells": [
  {
   "cell_type": "code",
   "execution_count": null,
   "metadata": {},
   "outputs": [],
   "source": [
    "import os\n",
    "\n",
    "\n",
    "required_paths = [\"/ai4eutils\", \"/CameraTraps\", \"/yolov5\"]\n",
    "python_path = os.environ.get(\"PYTHONPATH\", \"\")\n",
    "root_path = os.getcwd()\n",
    "\n",
    "for path in required_paths:\n",
    "    if not any(p.endswith(path) for p in python_path.split(\":\")):\n",
    "        python_path += f\":{root_path}/data/external{path}\"\n",
    "\n",
    "os.environ[\"PYTHONPATH\"] = python_path\n",
    "\n",
    "!echo \"PYTHONPATH: $PYTHONPATH\""
   ]
  },
  {
   "cell_type": "code",
   "execution_count": null,
   "metadata": {},
   "outputs": [],
   "source": [
    "IMAGES_FOLDER = os.path.abspath(\"./resources/images\")\n",
    "MODEL_FILE = os.path.abspath(\"./models/MegaDetector/md_v5a.0.0.pt\")\n",
    "\n",
    "OUTPUT_FILE = os.path.abspath(\"./resources/json/example.json\")\n",
    "BOUNDING_BOX_FOLDER = os.path.abspath(\"./resources/bounding_boxes\")\n",
    "\n",
    "print(f\"IMAGES_FOLDER:       {IMAGES_FOLDER}\")\n",
    "print(f\"MODEL_FILE:          {MODEL_FILE}\")\n",
    "print()\n",
    "print(f\"OUTPUT_FILE:         {OUTPUT_FILE}\")\n",
    "print(f\"BOUNDING_BOX_FOLDER: {BOUNDING_BOX_FOLDER}\")"
   ]
  },
  {
   "cell_type": "code",
   "execution_count": null,
   "metadata": {},
   "outputs": [],
   "source": [
    "!python ./data/external/CameraTraps/detection/run_detector_batch.py \"$MODEL_FILE\" \"$IMAGES_FOLDER\" \"$OUTPUT_FILE\" --recursive"
   ]
  },
  {
   "cell_type": "code",
   "execution_count": null,
   "metadata": {},
   "outputs": [],
   "source": [
    "!python ./data/external/CameraTraps/visualization/visualize_detector_output.py \"$OUTPUT_FILE\" \"$BOUNDING_BOX_FOLDER\" --images_dir \"$IMAGES_FOLDER\""
   ]
  },
  {
   "cell_type": "code",
   "execution_count": null,
   "metadata": {},
   "outputs": [],
   "source": [
    "import os\n",
    "from PIL import Image\n",
    "\n",
    "for viz_file_name in os.listdir(BOUNDING_BOX_FOLDER):\n",
    "    print(viz_file_name)\n",
    "    im = Image.open(os.path.join(BOUNDING_BOX_FOLDER, viz_file_name))\n",
    "    display(im)"
   ]
  }
 ],
 "metadata": {
  "kernelspec": {
   "display_name": "cameratraps-detector",
   "language": "python",
   "name": "python3"
  },
  "language_info": {
   "codemirror_mode": {
    "name": "ipython",
    "version": 3
   },
   "file_extension": ".py",
   "mimetype": "text/x-python",
   "name": "python",
   "nbconvert_exporter": "python",
   "pygments_lexer": "ipython3",
   "version": "3.8.19"
  }
 },
 "nbformat": 4,
 "nbformat_minor": 2
}
