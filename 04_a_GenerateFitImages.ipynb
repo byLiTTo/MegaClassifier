{
 "cells": [
  {
   "cell_type": "code",
   "metadata": {
    "ExecuteTime": {
     "end_time": "2025-02-26T07:54:11.754114Z",
     "start_time": "2025-02-26T07:54:11.676860Z"
    }
   },
   "source": [
    "import json\n",
    "import os\n",
    "\n",
    "import tqdm\n",
    "\n",
    "import src.fit_images as fi\n",
    "\n",
    "required_paths = [\"/ai4eutils\", \"/CameraTraps\", \"/yolov5\"]\n",
    "python_path = os.environ.get(\"PYTHONPATH\", \"\")\n",
    "root_path = os.getcwd()\n",
    "\n",
    "for path in required_paths:\n",
    "    if not any(p.endswith(path) for p in python_path.split(\":\")):\n",
    "        python_path += f\":{root_path}/data/external{path}\"\n",
    "\n",
    "os.environ[\"PYTHONPATH\"] = python_path"
   ],
   "outputs": [],
   "execution_count": 1
  },
  {
   "cell_type": "code",
   "metadata": {
    "ExecuteTime": {
     "end_time": "2025-02-26T07:54:11.791241Z",
     "start_time": "2025-02-26T07:54:11.771551Z"
    }
   },
   "source": [
    "DATASET_PATH = os.path.abspath(\"./data/interim/emptyNonEmptyDataset\")\n",
    "DETECTION_JSON = os.path.abspath(\"./resources/json/search_0_0015.json\")\n",
    "\n",
    "THRESHOLD_NAME = (\n",
    "    os.path.basename(DETECTION_JSON).replace(os.path.basename(DETECTION_JSON).split(\"_\")[0] + \"_\", \"\")).replace(\".json\",\n",
    "                                                                                                                \"\")\n",
    "\n",
    "aux = os.path.basename(DETECTION_JSON).replace(\".json\", \"\")\n",
    "\n",
    "IMAGE_PATH = os.path.join(os.path.abspath(\"./resources/masked_images\"), THRESHOLD_NAME)\n",
    "MASK_PATH = os.path.join(os.path.abspath(\"./resources/mask\"), aux)\n",
    "FIT_PATH = os.path.join(os.path.abspath(\"./resources/fit_images\"), THRESHOLD_NAME)"
   ],
   "outputs": [],
   "execution_count": 2
  },
  {
   "cell_type": "code",
   "metadata": {
    "ExecuteTime": {
     "end_time": "2025-02-26T07:59:17.492212Z",
     "start_time": "2025-02-26T07:54:11.926825Z"
    }
   },
   "source": [
    "with open(DETECTION_JSON, \"r\") as f:\n",
    "    result = json.load(f)\n",
    "\n",
    "for image in tqdm.tqdm(result[\"images\"]):\n",
    "    image_file = os.path.join(IMAGE_PATH, image[\"file\"])\n",
    "    mask_file = os.path.join(MASK_PATH, image[\"file\"])\n",
    "    fit_file = os.path.join(FIT_PATH, image[\"file\"])\n",
    "\n",
    "    fi.fit_image(image_file, mask_file, fit_file)\n"
   ],
   "outputs": [
    {
     "name": "stderr",
     "output_type": "stream",
     "text": [
      "100%|██████████| 28570/28570 [05:05<00:00, 93.55it/s] \n"
     ]
    }
   ],
   "execution_count": 3
  }
 ],
 "metadata": {
  "kernelspec": {
   "display_name": "Python [conda env:TFG] *",
   "language": "python",
   "name": "conda-env-TFG-py"
  },
  "language_info": {
   "codemirror_mode": {
    "name": "ipython",
    "version": 3
   },
   "file_extension": ".py",
   "mimetype": "text/x-python",
   "name": "python",
   "nbconvert_exporter": "python",
   "pygments_lexer": "ipython3",
   "version": "3.8.19"
  }
 },
 "nbformat": 4,
 "nbformat_minor": 2
}
