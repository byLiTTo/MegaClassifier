{
 "cells": [
  {
   "cell_type": "code",
   "execution_count": null,
   "metadata": {
    "ExecuteTime": {
     "end_time": "2025-02-16T12:08:57.501503Z",
     "start_time": "2025-02-16T12:08:57.483538Z"
    }
   },
   "outputs": [],
   "source": [
    "import os\n",
    "\n",
    "import pandas as pd\n",
    "from itables import init_notebook_mode\n",
    "\n",
    "import src.graphics as graphics\n",
    "\n",
    "init_notebook_mode(all_interactive=True)"
   ]
  },
  {
   "cell_type": "code",
   "execution_count": null,
   "metadata": {
    "ExecuteTime": {
     "end_time": "2025-02-16T12:08:57.553421Z",
     "start_time": "2025-02-16T12:08:57.529392Z"
    }
   },
   "outputs": [],
   "source": [
    "RAW_DATASET = os.path.abspath(\"./data/raw/emptyNonEmptyDataset/10000Images.csv\")\n",
    "\n",
    "dataset_original = pd.read_csv(RAW_DATASET, sep=\";\")"
   ]
  },
  {
   "cell_type": "code",
   "execution_count": null,
   "metadata": {
    "ExecuteTime": {
     "end_time": "2025-02-16T12:08:57.566702Z",
     "start_time": "2025-02-16T12:08:57.562465Z"
    }
   },
   "outputs": [],
   "source": [
    "num_images = len(dataset_original[\"file_name\"])\n",
    "num_classes = dataset_original[\"label\"].nunique()\n",
    "\n",
    "class_distribution = dataset_original[\"label\"].value_counts()\n",
    "\n",
    "print(f\"Number of images in dataset: {num_images}\")\n",
    "print(f\"Number of different classes: {num_classes}\")\n",
    "print(class_distribution)"
   ]
  },
  {
   "cell_type": "code",
   "execution_count": null,
   "metadata": {
    "ExecuteTime": {
     "end_time": "2025-02-16T12:08:57.628307Z",
     "start_time": "2025-02-16T12:08:57.626045Z"
    }
   },
   "outputs": [],
   "source": [
    "FASE_1a_FOLDER = os.path.abspath(\"./reports/fase_1/fase_1a\")\n",
    "os.makedirs(FASE_1a_FOLDER, exist_ok=True)"
   ]
  },
  {
   "cell_type": "code",
   "execution_count": null,
   "metadata": {
    "ExecuteTime": {
     "end_time": "2025-02-16T12:08:57.680630Z",
     "start_time": "2025-02-16T12:08:57.636753Z"
    }
   },
   "outputs": [],
   "source": [
    "fig_pie = graphics.create_pie_chart(\n",
    "    class_distribution.index,\n",
    "    class_distribution.values,\n",
    "    \"Class Distribution in Original Dataset\",\n",
    ")\n",
    "\n",
    "fig_pie.show()\n",
    "fig_pie.write_image(os.path.join(FASE_1a_FOLDER, \"class_distribution.png\"))"
   ]
  },
  {
   "cell_type": "code",
   "execution_count": null,
   "metadata": {
    "ExecuteTime": {
     "end_time": "2025-02-16T12:08:57.768848Z",
     "start_time": "2025-02-16T12:08:57.689448Z"
    }
   },
   "outputs": [],
   "source": [
    "fig_bar = graphics.create_bar_chart(\n",
    "    class_distribution.index,\n",
    "    class_distribution.values,\n",
    "    \"Class\",\n",
    "    \"Number of Images\",\n",
    "    \"Number of Images in Original Dataset by Class\",\n",
    "    show_values=True,\n",
    ")\n",
    "\n",
    "fig_bar.show()\n",
    "fig_bar.write_image(os.path.join(FASE_1a_FOLDER, \"class_barchart.png\"))"
   ]
  },
  {
   "cell_type": "code",
   "execution_count": null,
   "metadata": {
    "ExecuteTime": {
     "end_time": "2025-02-16T12:08:57.807662Z",
     "start_time": "2025-02-16T12:08:57.778191Z"
    }
   },
   "outputs": [],
   "source": [
    "binary_distribution = class_distribution.copy()\n",
    "binary_distribution[\"animal\"] = binary_distribution.drop(\"vacia\").sum()\n",
    "binary_distribution = binary_distribution[[\"vacia\", \"animal\"]]\n",
    "\n",
    "fig_pie_binary = graphics.create_pie_chart(\n",
    "    binary_distribution.index,\n",
    "    binary_distribution.values,\n",
    "    \"Class Distribution (Empty VS Animal) in Original Dataset\",\n",
    "    show_values=True,\n",
    ")\n",
    "\n",
    "fig_pie_binary.show()\n",
    "fig_pie_binary.write_image(\n",
    "    os.path.join(FASE_1a_FOLDER, \"class_binary_distribution.png\")\n",
    ")"
   ]
  },
  {
   "cell_type": "code",
   "execution_count": null,
   "metadata": {
    "ExecuteTime": {
     "end_time": "2025-02-16T12:08:57.816444Z",
     "start_time": "2025-02-16T12:08:57.815237Z"
    }
   },
   "outputs": [],
   "source": []
  }
 ],
 "metadata": {
  "kernelspec": {
   "display_name": "TFG",
   "language": "python",
   "name": "python3"
  },
  "language_info": {
   "codemirror_mode": {
    "name": "ipython",
    "version": 3
   },
   "file_extension": ".py",
   "mimetype": "text/x-python",
   "name": "python",
   "nbconvert_exporter": "python",
   "pygments_lexer": "ipython3",
   "version": "3.8.19"
  }
 },
 "nbformat": 4,
 "nbformat_minor": 2
}
