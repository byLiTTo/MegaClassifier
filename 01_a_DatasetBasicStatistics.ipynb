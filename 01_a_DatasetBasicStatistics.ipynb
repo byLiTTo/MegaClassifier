{
 "cells": [
  {
   "cell_type": "code",
   "execution_count": null,
   "metadata": {},
   "outputs": [],
   "source": [
    "import os\n",
    "\n",
    "import src.data.Dataset as dt"
   ]
  },
  {
   "cell_type": "code",
   "execution_count": null,
   "metadata": {},
   "outputs": [],
   "source": [
    "RAW_DATASET = os.path.abspath(\"./dataset/emptyNonEmptyDataset/10000Images.csv\")\n",
    "print(f\"RAW_DATASET: {RAW_DATASET}\")"
   ]
  },
  {
   "cell_type": "code",
   "execution_count": null,
   "metadata": {},
   "outputs": [],
   "source": [
    "dataset_original = dt.load_from_csv(RAW_DATASET)\n",
    "dataset_original"
   ]
  },
  {
   "cell_type": "code",
   "execution_count": null,
   "metadata": {},
   "outputs": [],
   "source": [
    "num_images = len(dataset_original[\"file_name\"])\n",
    "print(f\"Number of images in dataset: {num_images}\")"
   ]
  },
  {
   "cell_type": "code",
   "execution_count": null,
   "metadata": {},
   "outputs": [],
   "source": [
    "num_classes = dataset_original[\"label\"].nunique()\n",
    "print(f\"Number of different classes: {num_classes}\")"
   ]
  },
  {
   "cell_type": "code",
   "execution_count": null,
   "metadata": {},
   "outputs": [],
   "source": [
    "num_vacia = dataset_original[dataset_original[\"label\"] == \"vacia\"].shape[0]\n",
    "print(f\"Number of examples for the class 'vacia': {num_vacia}\")"
   ]
  },
  {
   "cell_type": "code",
   "execution_count": null,
   "metadata": {},
   "outputs": [],
   "source": [
    "class_distribution_counts = dataset_original[\"label\"].value_counts()\n",
    "print(class_distribution_counts)"
   ]
  },
  {
   "cell_type": "code",
   "execution_count": null,
   "metadata": {},
   "outputs": [],
   "source": [
    "class_distribution = dataset_original[\"label\"].value_counts(normalize=True) * 100\n",
    "print(class_distribution)"
   ]
  },
  {
   "cell_type": "code",
   "execution_count": null,
   "metadata": {},
   "outputs": [],
   "source": [
    "duplicate_routes = dataset_original[\"file_name\"].duplicated().sum()\n",
    "print(f\"Number of duplicate routes: {duplicate_routes}\")"
   ]
  },
  {
   "cell_type": "code",
   "execution_count": null,
   "metadata": {
    "vscode": {
     "languageId": "ruby"
    }
   },
   "outputs": [],
   "source": [
    "# Filtrar las rutas duplicadas\n",
    "duplicated_files = dataset_original[dataset_original['file_name'].duplicated(keep=False)]\n",
    "\n",
    "# Contar el número de clases únicas para cada archivo duplicado\n",
    "duplicated_files_class_count = duplicated_files.groupby('file_name')['label'].nunique()\n",
    "\n",
    "# Filtrar los archivos duplicados que tienen más de una clase\n",
    "duplicated_files_with_different_classes = duplicated_files_class_count[duplicated_files_class_count > 1]\n",
    "\n",
    "print(f\"Number of duplicated files with different classes: {len(duplicated_files_with_different_classes)}\")\n",
    "print(duplicated_files_with_different_classes)"
   ]
  },
  {
   "cell_type": "code",
   "execution_count": null,
   "metadata": {},
   "outputs": [],
   "source": [
    "import pandas as pd\n",
    "\n",
    "# Ajustar las opciones de pandas para mostrar todo el contenido de las celdas\n",
    "pd.set_option(\"display.max_colwidth\", None)\n",
    "\n",
    "duplicated_files_sample = duplicated_files.sample(5)\n",
    "print(duplicated_files_sample)"
   ]
  }
 ],
 "metadata": {
  "kernelspec": {
   "display_name": "megaclassifier",
   "language": "python",
   "name": "python3"
  },
  "language_info": {
   "codemirror_mode": {
    "name": "ipython",
    "version": 3
   },
   "file_extension": ".py",
   "mimetype": "text/x-python",
   "name": "python",
   "nbconvert_exporter": "python",
   "pygments_lexer": "ipython3",
   "version": "3.8.19"
  }
 },
 "nbformat": 4,
 "nbformat_minor": 2
}
