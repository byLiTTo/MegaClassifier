{
 "cells": [
  {
   "cell_type": "code",
   "execution_count": 9,
   "metadata": {},
   "outputs": [],
   "source": [
    "import os\n",
    "\n",
    "import numpy as np\n",
    "import pandas as pd\n",
    "import tensorflow as tf\n",
    "import tensorflow_addons as tfa\n",
    "import src.model as models\n",
    "from sklearn.metrics import auc, confusion_matrix, roc_curve\n",
    "from tensorflow.keras.callbacks import TensorBoard\n",
    "from tensorflow.keras.metrics import AUC, BinaryAccuracy, Precision, Recall\n",
    "from tensorflow.keras.preprocessing.image import ImageDataGenerator\n",
    "\n",
    "import src.graphics as graphics"
   ]
  },
  {
   "cell_type": "code",
   "execution_count": null,
   "metadata": {},
   "outputs": [],
   "source": [
    "VERSION = \"3\"\n",
    "MODEL_BASE_NAME = \"MegaClassifier_a_MobileNetV2\"\n",
    "\n",
    "DATASET_CSV = os.path.abspath(\n",
    "    \"./data/processed/onlyDetectionsForTrain/onlyDetectionsForTrain.csv\"\n",
    ")\n",
    "DATASET_PATH = os.path.dirname(DATASET_CSV)"
   ]
  },
  {
   "cell_type": "code",
   "execution_count": 11,
   "metadata": {},
   "outputs": [],
   "source": [
    "dataset = pd.read_csv(DATASET_CSV, sep=\";\")\n",
    "dataset[\"file_name\"] = dataset[\"file_name\"].apply(\n",
    "    lambda x: os.path.join(DATASET_PATH, x)\n",
    ")\n",
    "dataset[\"binary_label\"] = dataset[\"binary_label\"].astype(str)\n",
    "\n",
    "train_dataset = dataset[dataset[\"subset\"] == \"train\"]\n",
    "validationtrain_dataset = dataset[dataset[\"subset\"] == \"validation\"]\n",
    "test_dataset = dataset[dataset[\"subset\"] == \"test\"]\n",
    "\n",
    "EPOCHS = 10\n",
    "IMAGE_SIZE = (224, 224)\n",
    "IMAGE_SHAPE = IMAGE_SIZE + (3,)\n",
    "SEED = 42"
   ]
  },
  {
   "cell_type": "code",
   "execution_count": null,
   "metadata": {},
   "outputs": [],
   "source": [
    "OPTIMIZERS = {\n",
    "    \"RMSprop\": tf.keras.optimizers.legacy.RMSprop(),\n",
    "}"
   ]
  },
  {
   "cell_type": "code",
   "execution_count": 13,
   "metadata": {},
   "outputs": [],
   "source": [
    "LOSS = {\n",
    "    \"BinaryCrossentropy\": tf.keras.losses.BinaryCrossentropy(),\n",
    "    \"BinaryFocalCrossentropy\": tf.keras.losses.BinaryFocalCrossentropy(\n",
    "        alpha=0.25, gamma=2.0\n",
    "    ),\n",
    "    \"SigmoidFocalCrossEntropy\": tfa.losses.SigmoidFocalCrossEntropy(\n",
    "        alpha=0.25, gamma=2.0\n",
    "    ),\n",
    "    \"FocalLoss\": models.FocalLoss(alpha=0.25, gamma=2.0),\n",
    "}"
   ]
  },
  {
   "cell_type": "code",
   "execution_count": 14,
   "metadata": {},
   "outputs": [],
   "source": [
    "METRICS = [\n",
    "    BinaryAccuracy(name=\"accuracy\"),\n",
    "    Precision(name=\"precision\"),\n",
    "    Recall(name=\"recall\"),\n",
    "    AUC(name=\"auc\"),\n",
    "]"
   ]
  },
  {
   "cell_type": "code",
   "execution_count": 15,
   "metadata": {},
   "outputs": [],
   "source": [
    "BATCH_SIZE = 64"
   ]
  },
  {
   "cell_type": "code",
   "execution_count": null,
   "metadata": {},
   "outputs": [
    {
     "name": "stdout",
     "output_type": "stream",
     "text": [
      "Found 17906 validated image filenames belonging to 2 classes.\n",
      "Found 4286 validated image filenames belonging to 2 classes.\n",
      "Found 4286 validated image filenames belonging to 2 classes.\n",
      "Epoch 1/10\n"
     ]
    },
    {
     "name": "stderr",
     "output_type": "stream",
     "text": [
      "2025-02-28 23:27:59.884044: I tensorflow/core/grappler/optimizers/custom_graph_optimizer_registry.cc:114] Plugin optimizer for device_type GPU is enabled.\n"
     ]
    },
    {
     "name": "stdout",
     "output_type": "stream",
     "text": [
      "280/280 [==============================] - ETA: 0s - loss: 0.3146 - accuracy: 0.8630 - precision: 0.8810 - recall: 0.9418 - auc: 0.9192"
     ]
    },
    {
     "name": "stderr",
     "output_type": "stream",
     "text": [
      "2025-02-28 23:28:47.433437: I tensorflow/core/grappler/optimizers/custom_graph_optimizer_registry.cc:114] Plugin optimizer for device_type GPU is enabled.\n"
     ]
    },
    {
     "name": "stdout",
     "output_type": "stream",
     "text": [
      "280/280 [==============================] - 60s 207ms/step - loss: 0.3146 - accuracy: 0.8630 - precision: 0.8810 - recall: 0.9418 - auc: 0.9192 - val_loss: 0.2408 - val_accuracy: 0.9069 - val_precision: 0.9154 - val_recall: 0.9468 - val_auc: 0.9641\n",
      "Epoch 2/10\n",
      "280/280 [==============================] - 57s 202ms/step - loss: 0.2362 - accuracy: 0.9010 - precision: 0.9245 - recall: 0.9430 - auc: 0.9565 - val_loss: 0.2163 - val_accuracy: 0.9146 - val_precision: 0.9297 - val_recall: 0.9422 - val_auc: 0.9701\n",
      "Epoch 3/10\n",
      "280/280 [==============================] - 57s 202ms/step - loss: 0.2194 - accuracy: 0.9071 - precision: 0.9311 - recall: 0.9442 - auc: 0.9625 - val_loss: 0.2070 - val_accuracy: 0.9174 - val_precision: 0.9285 - val_recall: 0.9482 - val_auc: 0.9725\n",
      "Epoch 4/10\n",
      "280/280 [==============================] - 57s 202ms/step - loss: 0.2095 - accuracy: 0.9123 - precision: 0.9352 - recall: 0.9469 - auc: 0.9658 - val_loss: 0.2006 - val_accuracy: 0.9202 - val_precision: 0.9312 - val_recall: 0.9496 - val_auc: 0.9742\n",
      "Epoch 5/10\n",
      "280/280 [==============================] - 57s 203ms/step - loss: 0.2033 - accuracy: 0.9152 - precision: 0.9386 - recall: 0.9472 - auc: 0.9678 - val_loss: 0.1963 - val_accuracy: 0.9214 - val_precision: 0.9398 - val_recall: 0.9415 - val_auc: 0.9750\n",
      "Epoch 6/10\n",
      "280/280 [==============================] - 56s 201ms/step - loss: 0.1975 - accuracy: 0.9198 - precision: 0.9415 - recall: 0.9506 - auc: 0.9697 - val_loss: 0.1927 - val_accuracy: 0.9221 - val_precision: 0.9335 - val_recall: 0.9499 - val_auc: 0.9759\n",
      "Epoch 7/10\n",
      "280/280 [==============================] - 57s 202ms/step - loss: 0.1940 - accuracy: 0.9207 - precision: 0.9429 - recall: 0.9502 - auc: 0.9708 - val_loss: 0.1937 - val_accuracy: 0.9221 - val_precision: 0.9503 - val_recall: 0.9309 - val_auc: 0.9761\n",
      "Epoch 8/10\n",
      "280/280 [==============================] - 56s 201ms/step - loss: 0.1905 - accuracy: 0.9207 - precision: 0.9429 - recall: 0.9502 - auc: 0.9719 - val_loss: 0.1881 - val_accuracy: 0.9228 - val_precision: 0.9424 - val_recall: 0.9408 - val_auc: 0.9768\n",
      "Epoch 9/10\n",
      "280/280 [==============================] - 56s 201ms/step - loss: 0.1876 - accuracy: 0.9231 - precision: 0.9456 - recall: 0.9506 - auc: 0.9727 - val_loss: 0.1865 - val_accuracy: 0.9244 - val_precision: 0.9382 - val_recall: 0.9482 - val_auc: 0.9770\n",
      "Epoch 10/10\n",
      "280/280 [==============================] - 57s 202ms/step - loss: 0.1849 - accuracy: 0.9245 - precision: 0.9459 - recall: 0.9522 - auc: 0.9736 - val_loss: 0.1890 - val_accuracy: 0.9249 - val_precision: 0.9561 - val_recall: 0.9291 - val_auc: 0.9773\n",
      "INFO:tensorflow:Assets written to: /Users/litto/WORKSPACE/MegaClassifier/models/MegaClassifier_a_MobileNetV2/v3b/v3b.0/assets\n"
     ]
    },
    {
     "name": "stderr",
     "output_type": "stream",
     "text": [
      "INFO:tensorflow:Assets written to: /Users/litto/WORKSPACE/MegaClassifier/models/MegaClassifier_a_MobileNetV2/v3b/v3b.0/assets\n"
     ]
    },
    {
     "name": "stdout",
     "output_type": "stream",
     "text": [
      "67/67 [==============================] - 11s 164ms/step - loss: 0.1773 - accuracy: 0.9284 - precision: 0.9603 - recall: 0.9302 - auc: 0.9802\n"
     ]
    },
    {
     "name": "stderr",
     "output_type": "stream",
     "text": [
      "2025-02-28 23:37:44.283405: I tensorflow/core/grappler/optimizers/custom_graph_optimizer_registry.cc:114] Plugin optimizer for device_type GPU is enabled.\n"
     ]
    },
    {
     "name": "stdout",
     "output_type": "stream",
     "text": [
      "67/67 [==============================] - 11s 157ms/step\n",
      "\n",
      "\n",
      "\n",
      "Found 17906 validated image filenames belonging to 2 classes.\n",
      "Found 4286 validated image filenames belonging to 2 classes.\n",
      "Found 4286 validated image filenames belonging to 2 classes.\n",
      "Epoch 1/10\n"
     ]
    },
    {
     "name": "stderr",
     "output_type": "stream",
     "text": [
      "2025-02-28 23:37:56.597906: I tensorflow/core/grappler/optimizers/custom_graph_optimizer_registry.cc:114] Plugin optimizer for device_type GPU is enabled.\n"
     ]
    },
    {
     "name": "stdout",
     "output_type": "stream",
     "text": [
      "280/280 [==============================] - ETA: 0s - loss: 0.0885 - accuracy: 0.8601 - precision: 0.8974 - recall: 0.9109 - auc: 0.9271"
     ]
    },
    {
     "name": "stderr",
     "output_type": "stream",
     "text": [
      "2025-02-28 23:38:42.806703: I tensorflow/core/grappler/optimizers/custom_graph_optimizer_registry.cc:114] Plugin optimizer for device_type GPU is enabled.\n"
     ]
    },
    {
     "name": "stdout",
     "output_type": "stream",
     "text": [
      "280/280 [==============================] - 58s 204ms/step - loss: 0.0885 - accuracy: 0.8601 - precision: 0.8974 - recall: 0.9109 - auc: 0.9271 - val_loss: 0.0772 - val_accuracy: 0.8896 - val_precision: 0.9053 - val_recall: 0.9305 - val_auc: 0.9445\n",
      "Epoch 2/10\n",
      "280/280 [==============================] - 56s 200ms/step - loss: 0.0655 - accuracy: 0.8901 - precision: 0.9209 - recall: 0.9312 - auc: 0.9503 - val_loss: 0.0655 - val_accuracy: 0.9001 - val_precision: 0.9413 - val_recall: 0.9055 - val_auc: 0.9589\n",
      "Epoch 3/10\n",
      "280/280 [==============================] - 56s 200ms/step - loss: 0.0595 - accuracy: 0.9013 - precision: 0.9295 - recall: 0.9374 - auc: 0.9590 - val_loss: 0.0606 - val_accuracy: 0.9104 - val_precision: 0.9239 - val_recall: 0.9422 - val_auc: 0.9670\n",
      "Epoch 4/10\n",
      "280/280 [==============================] - 56s 200ms/step - loss: 0.0564 - accuracy: 0.9060 - precision: 0.9335 - recall: 0.9397 - auc: 0.9632 - val_loss: 0.0573 - val_accuracy: 0.9141 - val_precision: 0.9487 - val_recall: 0.9200 - val_auc: 0.9693\n",
      "Epoch 5/10\n",
      "280/280 [==============================] - 56s 201ms/step - loss: 0.0542 - accuracy: 0.9098 - precision: 0.9372 - recall: 0.9410 - auc: 0.9663 - val_loss: 0.0550 - val_accuracy: 0.9186 - val_precision: 0.9368 - val_recall: 0.9404 - val_auc: 0.9718\n",
      "Epoch 6/10\n",
      "280/280 [==============================] - 56s 200ms/step - loss: 0.0525 - accuracy: 0.9152 - precision: 0.9404 - recall: 0.9451 - auc: 0.9686 - val_loss: 0.0548 - val_accuracy: 0.9193 - val_precision: 0.9459 - val_recall: 0.9312 - val_auc: 0.9714\n",
      "Epoch 7/10\n",
      "280/280 [==============================] - 57s 202ms/step - loss: 0.0511 - accuracy: 0.9166 - precision: 0.9414 - recall: 0.9460 - auc: 0.9703 - val_loss: 0.0532 - val_accuracy: 0.9200 - val_precision: 0.9485 - val_recall: 0.9295 - val_auc: 0.9731\n",
      "Epoch 8/10\n",
      "280/280 [==============================] - 56s 200ms/step - loss: 0.0500 - accuracy: 0.9188 - precision: 0.9436 - recall: 0.9466 - auc: 0.9716 - val_loss: 0.0530 - val_accuracy: 0.9195 - val_precision: 0.9344 - val_recall: 0.9446 - val_auc: 0.9741\n",
      "Epoch 9/10\n",
      "280/280 [==============================] - 56s 200ms/step - loss: 0.0491 - accuracy: 0.9196 - precision: 0.9443 - recall: 0.9470 - auc: 0.9726 - val_loss: 0.0516 - val_accuracy: 0.9221 - val_precision: 0.9455 - val_recall: 0.9362 - val_auc: 0.9750\n",
      "Epoch 10/10\n",
      "280/280 [==============================] - 56s 200ms/step - loss: 0.0483 - accuracy: 0.9216 - precision: 0.9463 - recall: 0.9476 - auc: 0.9736 - val_loss: 0.0528 - val_accuracy: 0.9200 - val_precision: 0.9227 - val_recall: 0.9594 - val_auc: 0.9762\n",
      "INFO:tensorflow:Assets written to: /Users/litto/WORKSPACE/MegaClassifier/models/MegaClassifier_a_MobileNetV2/v3b/v3b.1/assets\n"
     ]
    },
    {
     "name": "stderr",
     "output_type": "stream",
     "text": [
      "INFO:tensorflow:Assets written to: /Users/litto/WORKSPACE/MegaClassifier/models/MegaClassifier_a_MobileNetV2/v3b/v3b.1/assets\n"
     ]
    },
    {
     "name": "stdout",
     "output_type": "stream",
     "text": [
      "67/67 [==============================] - 11s 164ms/step - loss: 0.0502 - accuracy: 0.9200 - precision: 0.9210 - recall: 0.9616 - auc: 0.9792\n"
     ]
    },
    {
     "name": "stderr",
     "output_type": "stream",
     "text": [
      "2025-02-28 23:47:36.161426: I tensorflow/core/grappler/optimizers/custom_graph_optimizer_registry.cc:114] Plugin optimizer for device_type GPU is enabled.\n"
     ]
    },
    {
     "name": "stdout",
     "output_type": "stream",
     "text": [
      "67/67 [==============================] - 11s 156ms/step\n",
      "\n",
      "\n",
      "\n",
      "Found 17906 validated image filenames belonging to 2 classes.\n",
      "Found 4286 validated image filenames belonging to 2 classes.\n",
      "Found 4286 validated image filenames belonging to 2 classes.\n",
      "Epoch 1/10\n"
     ]
    },
    {
     "name": "stderr",
     "output_type": "stream",
     "text": [
      "2025-02-28 23:47:48.176474: I tensorflow/core/grappler/optimizers/custom_graph_optimizer_registry.cc:114] Plugin optimizer for device_type GPU is enabled.\n"
     ]
    },
    {
     "name": "stdout",
     "output_type": "stream",
     "text": [
      "280/280 [==============================] - ETA: 0s - loss: 0.5643 - accuracy: 0.8056 - precision: 0.9358 - recall: 0.7853 - auc: 0.8437"
     ]
    },
    {
     "name": "stderr",
     "output_type": "stream",
     "text": [
      "2025-02-28 23:48:34.009128: I tensorflow/core/grappler/optimizers/custom_graph_optimizer_registry.cc:114] Plugin optimizer for device_type GPU is enabled.\n"
     ]
    },
    {
     "name": "stdout",
     "output_type": "stream",
     "text": [
      "280/280 [==============================] - 58s 203ms/step - loss: 0.5643 - accuracy: 0.8056 - precision: 0.9358 - recall: 0.7853 - auc: 0.8437 - val_loss: 0.2047 - val_accuracy: 0.9090 - val_precision: 0.9044 - val_recall: 0.9644 - val_auc: 0.9475\n",
      "Epoch 2/10\n",
      "280/280 [==============================] - 56s 200ms/step - loss: 0.2131 - accuracy: 0.8709 - precision: 0.9540 - recall: 0.8671 - auc: 0.9271 - val_loss: 0.1460 - val_accuracy: 0.8775 - val_precision: 0.9873 - val_recall: 0.8255 - val_auc: 0.9542\n",
      "Epoch 3/10\n",
      "280/280 [==============================] - 56s 199ms/step - loss: 0.1916 - accuracy: 0.8799 - precision: 0.9564 - recall: 0.8774 - auc: 0.9362 - val_loss: 0.1075 - val_accuracy: 0.9004 - val_precision: 0.9763 - val_recall: 0.8706 - val_auc: 0.9645\n",
      "Epoch 4/10\n",
      "280/280 [==============================] - 56s 201ms/step - loss: 0.1904 - accuracy: 0.8829 - precision: 0.9581 - recall: 0.8800 - auc: 0.9357 - val_loss: 0.4378 - val_accuracy: 0.7851 - val_precision: 0.9959 - val_recall: 0.6781 - val_auc: 0.8918\n",
      "Epoch 5/10\n",
      "280/280 [==============================] - 56s 200ms/step - loss: 0.1654 - accuracy: 0.8887 - precision: 0.9600 - recall: 0.8862 - auc: 0.9450 - val_loss: 0.1399 - val_accuracy: 0.9197 - val_precision: 0.9258 - val_recall: 0.9552 - val_auc: 0.9618\n",
      "Epoch 6/10\n",
      "280/280 [==============================] - 56s 200ms/step - loss: 0.1789 - accuracy: 0.8876 - precision: 0.9603 - recall: 0.8844 - auc: 0.9394 - val_loss: 0.1269 - val_accuracy: 0.9267 - val_precision: 0.9549 - val_recall: 0.9334 - val_auc: 0.9650\n",
      "Epoch 7/10\n",
      "280/280 [==============================] - 57s 202ms/step - loss: 0.1433 - accuracy: 0.8985 - precision: 0.9628 - recall: 0.8974 - auc: 0.9515 - val_loss: 0.4696 - val_accuracy: 0.7476 - val_precision: 0.9983 - val_recall: 0.6195 - val_auc: 0.8753\n",
      "Epoch 8/10\n",
      "280/280 [==============================] - 56s 199ms/step - loss: 0.1460 - accuracy: 0.8970 - precision: 0.9631 - recall: 0.8949 - auc: 0.9503 - val_loss: 0.1565 - val_accuracy: 0.8759 - val_precision: 0.9869 - val_recall: 0.8233 - val_auc: 0.9544\n",
      "Epoch 9/10\n",
      "280/280 [==============================] - 56s 201ms/step - loss: 0.1510 - accuracy: 0.8950 - precision: 0.9623 - recall: 0.8929 - auc: 0.9491 - val_loss: 0.3808 - val_accuracy: 0.7856 - val_precision: 0.9969 - val_recall: 0.6781 - val_auc: 0.8985\n",
      "Epoch 10/10\n",
      "280/280 [==============================] - 56s 199ms/step - loss: 0.1444 - accuracy: 0.8984 - precision: 0.9641 - recall: 0.8958 - auc: 0.9511 - val_loss: 0.1520 - val_accuracy: 0.9204 - val_precision: 0.9271 - val_recall: 0.9549 - val_auc: 0.9599\n",
      "INFO:tensorflow:Assets written to: /Users/litto/WORKSPACE/MegaClassifier/models/MegaClassifier_a_MobileNetV2/v3b/v3b.2/assets\n"
     ]
    },
    {
     "name": "stderr",
     "output_type": "stream",
     "text": [
      "INFO:tensorflow:Assets written to: /Users/litto/WORKSPACE/MegaClassifier/models/MegaClassifier_a_MobileNetV2/v3b/v3b.2/assets\n"
     ]
    },
    {
     "name": "stdout",
     "output_type": "stream",
     "text": [
      "67/67 [==============================] - 11s 162ms/step - loss: 0.1591 - accuracy: 0.9179 - precision: 0.9204 - recall: 0.9587 - auc: 0.9580\n"
     ]
    },
    {
     "name": "stderr",
     "output_type": "stream",
     "text": [
      "2025-02-28 23:57:26.427434: I tensorflow/core/grappler/optimizers/custom_graph_optimizer_registry.cc:114] Plugin optimizer for device_type GPU is enabled.\n"
     ]
    },
    {
     "name": "stdout",
     "output_type": "stream",
     "text": [
      "67/67 [==============================] - 11s 156ms/step\n",
      "\n",
      "\n",
      "\n",
      "Found 17906 validated image filenames belonging to 2 classes.\n",
      "Found 4286 validated image filenames belonging to 2 classes.\n",
      "Found 4286 validated image filenames belonging to 2 classes.\n",
      "Epoch 1/10\n"
     ]
    },
    {
     "name": "stderr",
     "output_type": "stream",
     "text": [
      "2025-02-28 23:57:38.515671: I tensorflow/core/grappler/optimizers/custom_graph_optimizer_registry.cc:114] Plugin optimizer for device_type GPU is enabled.\n"
     ]
    },
    {
     "name": "stdout",
     "output_type": "stream",
     "text": [
      "280/280 [==============================] - ETA: 0s - loss: 0.0340 - accuracy: 0.8036 - precision: 0.8452 - recall: 0.8921 - auc: 0.8357"
     ]
    },
    {
     "name": "stderr",
     "output_type": "stream",
     "text": [
      "2025-02-28 23:58:24.771605: I tensorflow/core/grappler/optimizers/custom_graph_optimizer_registry.cc:114] Plugin optimizer for device_type GPU is enabled.\n"
     ]
    },
    {
     "name": "stdout",
     "output_type": "stream",
     "text": [
      "280/280 [==============================] - 58s 205ms/step - loss: 0.0340 - accuracy: 0.8036 - precision: 0.8452 - recall: 0.8921 - auc: 0.8357 - val_loss: 0.0220 - val_accuracy: 0.8483 - val_precision: 0.8693 - val_recall: 0.9073 - val_auc: 0.9210\n",
      "Epoch 2/10\n",
      "280/280 [==============================] - 57s 204ms/step - loss: 0.0213 - accuracy: 0.8489 - precision: 0.8861 - recall: 0.9128 - auc: 0.9118 - val_loss: 0.0189 - val_accuracy: 0.8724 - val_precision: 0.8857 - val_recall: 0.9267 - val_auc: 0.9429\n",
      "Epoch 3/10\n",
      "280/280 [==============================] - 57s 204ms/step - loss: 0.0188 - accuracy: 0.8703 - precision: 0.9032 - recall: 0.9234 - auc: 0.9324 - val_loss: 0.0173 - val_accuracy: 0.8829 - val_precision: 0.9080 - val_recall: 0.9157 - val_auc: 0.9518\n",
      "Epoch 4/10\n",
      "280/280 [==============================] - 56s 201ms/step - loss: 0.0176 - accuracy: 0.8794 - precision: 0.9115 - recall: 0.9268 - auc: 0.9416 - val_loss: 0.0165 - val_accuracy: 0.8906 - val_precision: 0.9148 - val_recall: 0.9203 - val_auc: 0.9567\n",
      "Epoch 5/10\n",
      "280/280 [==============================] - 57s 204ms/step - loss: 0.0168 - accuracy: 0.8862 - precision: 0.9160 - recall: 0.9314 - auc: 0.9472 - val_loss: 0.0159 - val_accuracy: 0.8955 - val_precision: 0.9152 - val_recall: 0.9281 - val_auc: 0.9599\n",
      "Epoch 6/10\n",
      "280/280 [==============================] - 57s 203ms/step - loss: 0.0162 - accuracy: 0.8908 - precision: 0.9203 - recall: 0.9330 - auc: 0.9512 - val_loss: 0.0154 - val_accuracy: 0.8980 - val_precision: 0.9225 - val_recall: 0.9235 - val_auc: 0.9622\n",
      "Epoch 7/10\n",
      "280/280 [==============================] - 57s 205ms/step - loss: 0.0157 - accuracy: 0.8946 - precision: 0.9239 - recall: 0.9343 - auc: 0.9541 - val_loss: 0.0151 - val_accuracy: 0.9020 - val_precision: 0.9209 - val_recall: 0.9319 - val_auc: 0.9639\n",
      "Epoch 8/10\n",
      "280/280 [==============================] - 57s 204ms/step - loss: 0.0153 - accuracy: 0.8964 - precision: 0.9252 - recall: 0.9354 - auc: 0.9565 - val_loss: 0.0148 - val_accuracy: 0.9015 - val_precision: 0.9214 - val_recall: 0.9305 - val_auc: 0.9654\n",
      "Epoch 9/10\n",
      "280/280 [==============================] - 57s 204ms/step - loss: 0.0150 - accuracy: 0.9004 - precision: 0.9282 - recall: 0.9377 - auc: 0.9586 - val_loss: 0.0147 - val_accuracy: 0.9039 - val_precision: 0.9350 - val_recall: 0.9185 - val_auc: 0.9666\n",
      "Epoch 10/10\n",
      "280/280 [==============================] - 58s 206ms/step - loss: 0.0147 - accuracy: 0.9012 - precision: 0.9290 - recall: 0.9379 - auc: 0.9601 - val_loss: 0.0144 - val_accuracy: 0.9060 - val_precision: 0.9288 - val_recall: 0.9291 - val_auc: 0.9675\n",
      "INFO:tensorflow:Assets written to: /Users/litto/WORKSPACE/MegaClassifier/models/MegaClassifier_a_MobileNetV2/v3b/v3b.3/assets\n"
     ]
    },
    {
     "name": "stderr",
     "output_type": "stream",
     "text": [
      "INFO:tensorflow:Assets written to: /Users/litto/WORKSPACE/MegaClassifier/models/MegaClassifier_a_MobileNetV2/v3b/v3b.3/assets\n"
     ]
    },
    {
     "name": "stdout",
     "output_type": "stream",
     "text": [
      "67/67 [==============================] - 12s 171ms/step - loss: 0.0139 - accuracy: 0.9081 - precision: 0.9293 - recall: 0.9319 - auc: 0.9698\n"
     ]
    },
    {
     "name": "stderr",
     "output_type": "stream",
     "text": [
      "2025-03-01 00:07:27.701505: I tensorflow/core/grappler/optimizers/custom_graph_optimizer_registry.cc:114] Plugin optimizer for device_type GPU is enabled.\n"
     ]
    },
    {
     "name": "stdout",
     "output_type": "stream",
     "text": [
      "67/67 [==============================] - 11s 161ms/step\n",
      "\n",
      "\n",
      "\n"
     ]
    }
   ],
   "source": [
    "SUBVERSION = 0\n",
    "for LOSS_NAME, _ in LOSS.items():\n",
    "    LOGS_PATH = os.path.abspath(\n",
    "        f\"./logs/{MODEL_BASE_NAME}/v{VERSION}/v{VERSION}.{SUBVERSION}\"\n",
    "    )\n",
    "    MODELS_PATH = os.path.abspath(\n",
    "        f\"./models/{MODEL_BASE_NAME}/v{VERSION}/v{VERSION}.{SUBVERSION}\"\n",
    "    )\n",
    "    REPORTS_PATH = os.path.abspath(\n",
    "        f\"./reports/{MODEL_BASE_NAME}/v{VERSION}/v{VERSION}.{SUBVERSION}\"\n",
    "    )\n",
    "\n",
    "    MODEL_COMPLETE_NAME = f\"{MODEL_BASE_NAME} v{VERSION}.{SUBVERSION}\"\n",
    "\n",
    "    train_datagen = ImageDataGenerator(\n",
    "        preprocessing_function=tf.keras.applications.mobilenet_v2.preprocess_input,\n",
    "    )\n",
    "    train_images = train_datagen.flow_from_dataframe(\n",
    "        dataframe=train_dataset,\n",
    "        x_col=\"file_name\",\n",
    "        y_col=\"binary_label\",\n",
    "        target_size=IMAGE_SIZE,\n",
    "        batch_size=BATCH_SIZE,\n",
    "        class_mode=\"binary\",\n",
    "        shuffle=True,\n",
    "        seed=SEED,\n",
    "    )\n",
    "\n",
    "    datagen = ImageDataGenerator(\n",
    "        preprocessing_function=tf.keras.applications.mobilenet_v2.preprocess_input,\n",
    "    )\n",
    "    validation_images = datagen.flow_from_dataframe(\n",
    "        dataframe=validationtrain_dataset,\n",
    "        x_col=\"file_name\",\n",
    "        y_col=\"binary_label\",\n",
    "        target_size=IMAGE_SIZE,\n",
    "        batch_size=BATCH_SIZE,\n",
    "        class_mode=\"binary\",\n",
    "        shuffle=True,\n",
    "        seed=SEED,\n",
    "    )\n",
    "    test_images = datagen.flow_from_dataframe(\n",
    "        dataframe=test_dataset,\n",
    "        x_col=\"file_name\",\n",
    "        y_col=\"binary_label\",\n",
    "        target_size=IMAGE_SIZE,\n",
    "        batch_size=BATCH_SIZE,\n",
    "        class_mode=\"binary\",\n",
    "        shuffle=False,\n",
    "        seed=SEED,\n",
    "    )\n",
    "\n",
    "    pretrained_model = tf.keras.applications.MobileNetV2(\n",
    "        weights=\"imagenet\",\n",
    "        include_top=False,\n",
    "        input_shape=IMAGE_SHAPE,\n",
    "    )\n",
    "    pretrained_model.trainable = False\n",
    "\n",
    "    model = tf.keras.Sequential(\n",
    "        [\n",
    "            pretrained_model,\n",
    "            tf.keras.layers.GlobalAveragePooling2D(),\n",
    "            tf.keras.layers.Dense(1, activation=\"sigmoid\"),\n",
    "        ],\n",
    "        name=f\"{MODEL_BASE_NAME}_v{VERSION}.{SUBVERSION}\",\n",
    "    )\n",
    "\n",
    "    model.compile(\n",
    "        optimizer=OPTIMIZERS[\"RMSprop\"],\n",
    "        loss=LOSS[LOSS_NAME],\n",
    "        metrics=METRICS,\n",
    "    )\n",
    "\n",
    "    history = model.fit(\n",
    "        train_images,\n",
    "        epochs=EPOCHS,\n",
    "        validation_data=validation_images,\n",
    "        callbacks=[TensorBoard(log_dir=LOGS_PATH)],\n",
    "    )\n",
    "\n",
    "    dataframe = pd.DataFrame(history.history)\n",
    "    history_path = os.path.join(LOGS_PATH, f\"history_v{VERSION}.{SUBVERSION}.csv\")\n",
    "    dataframe.to_csv(history_path, sep=\";\", index=False)\n",
    "\n",
    "    os.makedirs(REPORTS_PATH, exist_ok=True)\n",
    "    accuracy_chart = graphics.create_training_accuracy_chart(\n",
    "        history_path=history_path,\n",
    "        model_name=MODEL_COMPLETE_NAME,\n",
    "    )\n",
    "    accuracy_chart.write_image(f\"{REPORTS_PATH}/accuracy_v{VERSION}.{SUBVERSION}.png\")\n",
    "\n",
    "    loss_chart = graphics.create_training_loss_chart(\n",
    "        history_path=history_path,\n",
    "        model_name=MODEL_COMPLETE_NAME,\n",
    "    )\n",
    "    loss_chart.write_image(f\"{REPORTS_PATH}/loss_v{VERSION}.{SUBVERSION}.png\")\n",
    "\n",
    "    os.makedirs(MODELS_PATH, exist_ok=True)\n",
    "    model.save(MODELS_PATH)\n",
    "\n",
    "    results = model.evaluate(test_images)\n",
    "    metric_names = history.model.metrics_names\n",
    "    evaluation_results = {\n",
    "        (\"test_\" + name): value for name, value in zip(metric_names, results)\n",
    "    }\n",
    "\n",
    "    evaluation = pd.DataFrame([evaluation_results])\n",
    "    evaluation.to_csv(\n",
    "        os.path.join(LOGS_PATH, f\"evaluation_v{VERSION}.{SUBVERSION}.csv\"),\n",
    "        sep=\";\",\n",
    "        index=False,\n",
    "    )\n",
    "\n",
    "    y_pred_prob = model.predict(test_images)\n",
    "    y_true = test_images.labels\n",
    "\n",
    "    fpr, tpr, thresholds = roc_curve(y_true, y_pred_prob)\n",
    "    roc_auc = auc(fpr, tpr)\n",
    "\n",
    "    roc_curve_chart = graphics.create_roc_curve_chart(\n",
    "        fpr=fpr,\n",
    "        tpr=tpr,\n",
    "        roc_auc=roc_auc,\n",
    "        model_name=MODEL_COMPLETE_NAME,\n",
    "    )\n",
    "    roc_curve_chart.write_image(f\"{REPORTS_PATH}/roc_curve_v{VERSION}.{SUBVERSION}.png\")\n",
    "\n",
    "    optimal_idx = np.argmax(tpr - fpr)\n",
    "    optimal_threshold = thresholds[optimal_idx]\n",
    "\n",
    "    # y_pred_prob = y_pred_prob.flatten()\n",
    "    y_pred_class = (y_pred_prob > optimal_threshold).astype(int)\n",
    "    conf_matrix = confusion_matrix(y_true, y_pred_class)\n",
    "    conf_matrix_text = [[str(value) for value in row] for row in conf_matrix]\n",
    "\n",
    "    # Crear el gráfico correctamente\n",
    "    confusion_matrix_chart = graphics.create_confusion_matrix_chart(\n",
    "        conf_matrix=conf_matrix,\n",
    "        conf_matrix_text=conf_matrix_text,\n",
    "        model_name=MODEL_COMPLETE_NAME,\n",
    "    )\n",
    "    confusion_matrix_chart.write_image(\n",
    "        f\"{REPORTS_PATH}/confusion_matrix_optimal_v{VERSION}.{SUBVERSION}.png\"\n",
    "    )\n",
    "\n",
    "    y_pred_class = (y_pred_prob > 0.5).astype(int)\n",
    "    conf_matrix = confusion_matrix(y_true, y_pred_class)\n",
    "    conf_matrix_text = [[str(value) for value in row] for row in conf_matrix]\n",
    "\n",
    "    confusion_matrix_chart = graphics.create_confusion_matrix_chart(\n",
    "        conf_matrix=conf_matrix,\n",
    "        conf_matrix_text=conf_matrix_text,\n",
    "        model_name=MODEL_COMPLETE_NAME,\n",
    "    )\n",
    "    confusion_matrix_chart.write_image(\n",
    "        f\"{REPORTS_PATH}/confusion_matrix_v{VERSION}.{SUBVERSION}.png\"\n",
    "    )\n",
    "\n",
    "    SUBVERSION += 1\n",
    "    print(\"\\n\\n\")\n"
   ]
  }
 ],
 "metadata": {
  "kernelspec": {
   "display_name": "TFG",
   "language": "python",
   "name": "python3"
  },
  "language_info": {
   "codemirror_mode": {
    "name": "ipython",
    "version": 3
   },
   "file_extension": ".py",
   "mimetype": "text/x-python",
   "name": "python",
   "nbconvert_exporter": "python",
   "pygments_lexer": "ipython3",
   "version": "3.8.19"
  }
 },
 "nbformat": 4,
 "nbformat_minor": 2
}
