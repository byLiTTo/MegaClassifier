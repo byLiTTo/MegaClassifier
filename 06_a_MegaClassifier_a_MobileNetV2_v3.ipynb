{
 "cells": [
  {
   "cell_type": "code",
   "execution_count": 11,
   "metadata": {},
   "outputs": [],
   "source": [
    "import os\n",
    "\n",
    "import numpy as np\n",
    "import pandas as pd\n",
    "import tensorflow as tf\n",
    "import tensorflow_addons as tfa\n",
    "import src.model as models\n",
    "from sklearn.metrics import auc, confusion_matrix, roc_curve\n",
    "from tensorflow.keras.callbacks import TensorBoard\n",
    "from tensorflow.keras.metrics import AUC, BinaryAccuracy, Precision, Recall\n",
    "from tensorflow.keras.preprocessing.image import ImageDataGenerator\n",
    "\n",
    "import src.graphics as graphics"
   ]
  },
  {
   "cell_type": "code",
   "execution_count": 12,
   "metadata": {},
   "outputs": [],
   "source": [
    "VERSION = \"3\"\n",
    "MODEL_BASE_NAME = \"MegaClassifier_a_MobileNetV2\"\n",
    "\n",
    "DATASET_CSV = os.path.abspath(\n",
    "    \"./data/processed/onlyDetectionsForTrain/onlyDetectionsForTrain.csv\"\n",
    ")\n",
    "DATASET_PATH = os.path.dirname(DATASET_CSV)"
   ]
  },
  {
   "cell_type": "code",
   "execution_count": 13,
   "metadata": {},
   "outputs": [],
   "source": [
    "dataset = pd.read_csv(DATASET_CSV, sep=\";\")\n",
    "dataset[\"file_name\"] = dataset[\"file_name\"].apply(\n",
    "    lambda x: os.path.join(DATASET_PATH, x)\n",
    ")\n",
    "dataset[\"binary_label\"] = dataset[\"binary_label\"].astype(str)\n",
    "\n",
    "train_dataset = dataset[dataset[\"subset\"] == \"train\"]\n",
    "validationtrain_dataset = dataset[dataset[\"subset\"] == \"validation\"]\n",
    "test_dataset = dataset[dataset[\"subset\"] == \"test\"]\n",
    "\n",
    "EPOCHS = 10\n",
    "IMAGE_SIZE = (224, 224)\n",
    "IMAGE_SHAPE = IMAGE_SIZE + (3,)\n",
    "SEED = 42"
   ]
  },
  {
   "cell_type": "code",
   "execution_count": 14,
   "metadata": {},
   "outputs": [],
   "source": [
    "OPTIMIZERS = {\n",
    "    \"Adam\": tf.keras.optimizers.legacy.Adam(),\n",
    "}"
   ]
  },
  {
   "cell_type": "code",
   "execution_count": 15,
   "metadata": {},
   "outputs": [],
   "source": [
    "LOSS = {\n",
    "    \"BinaryFocalCrossentropy\": lambda x, y: tf.keras.losses.BinaryFocalCrossentropy(\n",
    "        alpha=x, gamma=y\n",
    "    ),\n",
    "}\n",
    "\n",
    "ALPHAS = [0.25, 0.4, 0.5, 0.6, 0.75]\n",
    "\n",
    "GAMMAS = [1, 2, 3, 4, 5]"
   ]
  },
  {
   "cell_type": "code",
   "execution_count": 16,
   "metadata": {},
   "outputs": [],
   "source": [
    "METRICS = [\n",
    "    BinaryAccuracy(name=\"accuracy\"),\n",
    "    Precision(name=\"precision\"),\n",
    "    Recall(name=\"recall\"),\n",
    "    AUC(name=\"auc\"),\n",
    "]"
   ]
  },
  {
   "cell_type": "code",
   "execution_count": 17,
   "metadata": {},
   "outputs": [],
   "source": [
    "BATCH_SIZE = 64"
   ]
  },
  {
   "cell_type": "code",
   "execution_count": null,
   "metadata": {},
   "outputs": [
    {
     "name": "stdout",
     "output_type": "stream",
     "text": [
      "Found 17906 validated image filenames belonging to 2 classes.\n",
      "Found 4286 validated image filenames belonging to 2 classes.\n",
      "Found 4286 validated image filenames belonging to 2 classes.\n",
      "Epoch 1/10\n"
     ]
    },
    {
     "name": "stderr",
     "output_type": "stream",
     "text": [
      "2025-03-01 18:08:21.739910: I tensorflow/core/grappler/optimizers/custom_graph_optimizer_registry.cc:114] Plugin optimizer for device_type GPU is enabled.\n"
     ]
    },
    {
     "name": "stdout",
     "output_type": "stream",
     "text": [
      "280/280 [==============================] - ETA: 0s - loss: 0.1550 - accuracy: 0.8644 - precision: 0.8962 - recall: 0.9234 - auc: 0.9225"
     ]
    },
    {
     "name": "stderr",
     "output_type": "stream",
     "text": [
      "2025-03-01 18:09:10.535118: I tensorflow/core/grappler/optimizers/custom_graph_optimizer_registry.cc:114] Plugin optimizer for device_type GPU is enabled.\n"
     ]
    },
    {
     "name": "stdout",
     "output_type": "stream",
     "text": [
      "280/280 [==============================] - 61s 211ms/step - loss: 0.1550 - accuracy: 0.8644 - precision: 0.8962 - recall: 0.9234 - auc: 0.9225 - val_loss: 0.1072 - val_accuracy: 0.9118 - val_precision: 0.9315 - val_recall: 0.9355 - val_auc: 0.9707\n",
      "Epoch 2/10\n",
      "280/280 [==============================] - 57s 205ms/step - loss: 0.1056 - accuracy: 0.9122 - precision: 0.9368 - recall: 0.9449 - auc: 0.9657 - val_loss: 0.0967 - val_accuracy: 0.9235 - val_precision: 0.9406 - val_recall: 0.9439 - val_auc: 0.9759\n",
      "Epoch 3/10\n",
      "280/280 [==============================] - 58s 206ms/step - loss: 0.0955 - accuracy: 0.9200 - precision: 0.9438 - recall: 0.9482 - auc: 0.9722 - val_loss: 0.0966 - val_accuracy: 0.9230 - val_precision: 0.9563 - val_recall: 0.9260 - val_auc: 0.9767\n",
      "Epoch 4/10\n",
      "280/280 [==============================] - 60s 213ms/step - loss: 0.0913 - accuracy: 0.9253 - precision: 0.9476 - recall: 0.9515 - auc: 0.9746 - val_loss: 0.0949 - val_accuracy: 0.9249 - val_precision: 0.9476 - val_recall: 0.9383 - val_auc: 0.9765\n",
      "Epoch 5/10\n",
      "280/280 [==============================] - 58s 207ms/step - loss: 0.0875 - accuracy: 0.9265 - precision: 0.9492 - recall: 0.9514 - auc: 0.9768 - val_loss: 0.0932 - val_accuracy: 0.9270 - val_precision: 0.9310 - val_recall: 0.9609 - val_auc: 0.9788\n",
      "Epoch 6/10\n",
      "280/280 [==============================] - 58s 206ms/step - loss: 0.0862 - accuracy: 0.9278 - precision: 0.9504 - recall: 0.9521 - auc: 0.9774 - val_loss: 0.0902 - val_accuracy: 0.9305 - val_precision: 0.9487 - val_recall: 0.9461 - val_auc: 0.9784\n",
      "Epoch 7/10\n",
      "280/280 [==============================] - 58s 206ms/step - loss: 0.0824 - accuracy: 0.9320 - precision: 0.9525 - recall: 0.9556 - auc: 0.9795 - val_loss: 0.0905 - val_accuracy: 0.9281 - val_precision: 0.9463 - val_recall: 0.9450 - val_auc: 0.9782\n",
      "Epoch 8/10\n",
      "280/280 [==============================] - 58s 205ms/step - loss: 0.0805 - accuracy: 0.9338 - precision: 0.9548 - recall: 0.9556 - auc: 0.9805 - val_loss: 0.0935 - val_accuracy: 0.9284 - val_precision: 0.9368 - val_recall: 0.9563 - val_auc: 0.9783\n",
      "Epoch 9/10\n",
      "280/280 [==============================] - 57s 205ms/step - loss: 0.0791 - accuracy: 0.9347 - precision: 0.9550 - recall: 0.9568 - auc: 0.9811 - val_loss: 0.0913 - val_accuracy: 0.9298 - val_precision: 0.9601 - val_recall: 0.9327 - val_auc: 0.9793\n",
      "Epoch 10/10\n",
      "280/280 [==============================] - 59s 211ms/step - loss: 0.0785 - accuracy: 0.9361 - precision: 0.9559 - recall: 0.9577 - auc: 0.9814 - val_loss: 0.0909 - val_accuracy: 0.9295 - val_precision: 0.9381 - val_recall: 0.9566 - val_auc: 0.9790\n"
     ]
    },
    {
     "name": "stderr",
     "output_type": "stream",
     "text": [
      "WARNING:absl:`mobilenetv2_1.00_224_input` is not a valid tf.function parameter name. Sanitizing to `mobilenetv2_1_00_224_input`.\n",
      "WARNING:absl:`mobilenetv2_1.00_224_input` is not a valid tf.function parameter name. Sanitizing to `mobilenetv2_1_00_224_input`.\n",
      "WARNING:absl:`mobilenetv2_1.00_224_input` is not a valid tf.function parameter name. Sanitizing to `mobilenetv2_1_00_224_input`.\n"
     ]
    },
    {
     "name": "stdout",
     "output_type": "stream",
     "text": [
      "INFO:tensorflow:Assets written to: /Users/litto/WORKSPACE/MegaClassifier/models/MegaClassifier_a_MobileNetV2/v3/v3.0.0/assets\n"
     ]
    },
    {
     "name": "stderr",
     "output_type": "stream",
     "text": [
      "INFO:tensorflow:Assets written to: /Users/litto/WORKSPACE/MegaClassifier/models/MegaClassifier_a_MobileNetV2/v3/v3.0.0/assets\n"
     ]
    },
    {
     "name": "stdout",
     "output_type": "stream",
     "text": [
      "67/67 [==============================] - 12s 168ms/step - loss: 0.0882 - accuracy: 0.9328 - precision: 0.9369 - recall: 0.9633 - auc: 0.9811\n"
     ]
    },
    {
     "name": "stderr",
     "output_type": "stream",
     "text": [
      "2025-03-01 18:18:22.111310: I tensorflow/core/grappler/optimizers/custom_graph_optimizer_registry.cc:114] Plugin optimizer for device_type GPU is enabled.\n"
     ]
    },
    {
     "name": "stdout",
     "output_type": "stream",
     "text": [
      "67/67 [==============================] - 11s 162ms/step\n",
      "Found 17906 validated image filenames belonging to 2 classes.\n",
      "Found 4286 validated image filenames belonging to 2 classes.\n",
      "Found 4286 validated image filenames belonging to 2 classes.\n",
      "Epoch 1/10\n"
     ]
    },
    {
     "name": "stderr",
     "output_type": "stream",
     "text": [
      "2025-03-01 18:18:34.996561: I tensorflow/core/grappler/optimizers/custom_graph_optimizer_registry.cc:114] Plugin optimizer for device_type GPU is enabled.\n"
     ]
    },
    {
     "name": "stdout",
     "output_type": "stream",
     "text": [
      "280/280 [==============================] - ETA: 0s - loss: 0.0728 - accuracy: 0.9002 - precision: 0.9265 - recall: 0.9364 - auc: 0.9551"
     ]
    },
    {
     "name": "stderr",
     "output_type": "stream",
     "text": [
      "2025-03-01 18:19:22.748989: I tensorflow/core/grappler/optimizers/custom_graph_optimizer_registry.cc:114] Plugin optimizer for device_type GPU is enabled.\n"
     ]
    },
    {
     "name": "stdout",
     "output_type": "stream",
     "text": [
      "280/280 [==============================] - 60s 210ms/step - loss: 0.0728 - accuracy: 0.9002 - precision: 0.9265 - recall: 0.9364 - auc: 0.9551 - val_loss: 0.0518 - val_accuracy: 0.9165 - val_precision: 0.9211 - val_recall: 0.9556 - val_auc: 0.9754\n",
      "Epoch 2/10\n",
      "280/280 [==============================] - 58s 205ms/step - loss: 0.0499 - accuracy: 0.9209 - precision: 0.9445 - recall: 0.9487 - auc: 0.9722 - val_loss: 0.0482 - val_accuracy: 0.9274 - val_precision: 0.9501 - val_recall: 0.9397 - val_auc: 0.9780\n",
      "Epoch 3/10\n",
      "280/280 [==============================] - 58s 207ms/step - loss: 0.0466 - accuracy: 0.9254 - precision: 0.9486 - recall: 0.9506 - auc: 0.9756 - val_loss: 0.0519 - val_accuracy: 0.9193 - val_precision: 0.9635 - val_recall: 0.9126 - val_auc: 0.9772\n",
      "Epoch 4/10\n",
      "280/280 [==============================] - 58s 206ms/step - loss: 0.0456 - accuracy: 0.9268 - precision: 0.9487 - recall: 0.9525 - auc: 0.9766 - val_loss: 0.0494 - val_accuracy: 0.9265 - val_precision: 0.9585 - val_recall: 0.9291 - val_auc: 0.9785\n",
      "Epoch 5/10\n",
      "280/280 [==============================] - 58s 206ms/step - loss: 0.0430 - accuracy: 0.9306 - precision: 0.9535 - recall: 0.9525 - auc: 0.9792 - val_loss: 0.0503 - val_accuracy: 0.9244 - val_precision: 0.9567 - val_recall: 0.9277 - val_auc: 0.9766\n",
      "Epoch 6/10\n",
      "280/280 [==============================] - 59s 212ms/step - loss: 0.0415 - accuracy: 0.9350 - precision: 0.9559 - recall: 0.9562 - auc: 0.9807 - val_loss: 0.0482 - val_accuracy: 0.9265 - val_precision: 0.9306 - val_recall: 0.9605 - val_auc: 0.9801\n",
      "Epoch 7/10\n",
      "280/280 [==============================] - 58s 207ms/step - loss: 0.0409 - accuracy: 0.9359 - precision: 0.9568 - recall: 0.9564 - auc: 0.9812 - val_loss: 0.0473 - val_accuracy: 0.9274 - val_precision: 0.9328 - val_recall: 0.9594 - val_auc: 0.9800\n",
      "Epoch 8/10\n",
      "280/280 [==============================] - 57s 205ms/step - loss: 0.0402 - accuracy: 0.9356 - precision: 0.9559 - recall: 0.9570 - auc: 0.9818 - val_loss: 0.0479 - val_accuracy: 0.9286 - val_precision: 0.9547 - val_recall: 0.9365 - val_auc: 0.9787\n",
      "Epoch 9/10\n",
      "280/280 [==============================] - 59s 210ms/step - loss: 0.0396 - accuracy: 0.9353 - precision: 0.9575 - recall: 0.9547 - auc: 0.9823 - val_loss: 0.0481 - val_accuracy: 0.9274 - val_precision: 0.9416 - val_recall: 0.9492 - val_auc: 0.9786\n",
      "Epoch 10/10\n",
      "280/280 [==============================] - 58s 208ms/step - loss: 0.0397 - accuracy: 0.9353 - precision: 0.9553 - recall: 0.9571 - auc: 0.9822 - val_loss: 0.0510 - val_accuracy: 0.9270 - val_precision: 0.9275 - val_recall: 0.9651 - val_auc: 0.9793\n"
     ]
    },
    {
     "name": "stderr",
     "output_type": "stream",
     "text": [
      "WARNING:absl:`mobilenetv2_1.00_224_input` is not a valid tf.function parameter name. Sanitizing to `mobilenetv2_1_00_224_input`.\n",
      "WARNING:absl:`mobilenetv2_1.00_224_input` is not a valid tf.function parameter name. Sanitizing to `mobilenetv2_1_00_224_input`.\n"
     ]
    },
    {
     "name": "stdout",
     "output_type": "stream",
     "text": [
      "INFO:tensorflow:Assets written to: /Users/litto/WORKSPACE/MegaClassifier/models/MegaClassifier_a_MobileNetV2/v3/v3.0.1/assets\n"
     ]
    },
    {
     "name": "stderr",
     "output_type": "stream",
     "text": [
      "INFO:tensorflow:Assets written to: /Users/litto/WORKSPACE/MegaClassifier/models/MegaClassifier_a_MobileNetV2/v3/v3.0.1/assets\n"
     ]
    },
    {
     "name": "stdout",
     "output_type": "stream",
     "text": [
      "67/67 [==============================] - 12s 171ms/step - loss: 0.0491 - accuracy: 0.9293 - precision: 0.9272 - recall: 0.9693 - auc: 0.9811\n"
     ]
    },
    {
     "name": "stderr",
     "output_type": "stream",
     "text": [
      "2025-03-01 18:28:33.885640: I tensorflow/core/grappler/optimizers/custom_graph_optimizer_registry.cc:114] Plugin optimizer for device_type GPU is enabled.\n"
     ]
    },
    {
     "name": "stdout",
     "output_type": "stream",
     "text": [
      "67/67 [==============================] - 11s 161ms/step\n",
      "Found 17906 validated image filenames belonging to 2 classes.\n",
      "Found 4286 validated image filenames belonging to 2 classes.\n",
      "Found 4286 validated image filenames belonging to 2 classes.\n",
      "Epoch 1/10\n"
     ]
    },
    {
     "name": "stderr",
     "output_type": "stream",
     "text": [
      "2025-03-01 18:28:46.489478: I tensorflow/core/grappler/optimizers/custom_graph_optimizer_registry.cc:114] Plugin optimizer for device_type GPU is enabled.\n"
     ]
    },
    {
     "name": "stdout",
     "output_type": "stream",
     "text": [
      "280/280 [==============================] - ETA: 0s - loss: 0.0464 - accuracy: 0.8915 - precision: 0.9211 - recall: 0.9298 - auc: 0.9484"
     ]
    },
    {
     "name": "stderr",
     "output_type": "stream",
     "text": [
      "2025-03-01 18:29:34.374543: I tensorflow/core/grappler/optimizers/custom_graph_optimizer_registry.cc:114] Plugin optimizer for device_type GPU is enabled.\n"
     ]
    },
    {
     "name": "stdout",
     "output_type": "stream",
     "text": [
      "280/280 [==============================] - 60s 211ms/step - loss: 0.0464 - accuracy: 0.8915 - precision: 0.9211 - recall: 0.9298 - auc: 0.9484 - val_loss: 0.0319 - val_accuracy: 0.9155 - val_precision: 0.9123 - val_recall: 0.9651 - val_auc: 0.9712\n",
      "Epoch 2/10\n",
      "280/280 [==============================] - 58s 208ms/step - loss: 0.0273 - accuracy: 0.9152 - precision: 0.9409 - recall: 0.9446 - auc: 0.9693 - val_loss: 0.0277 - val_accuracy: 0.9162 - val_precision: 0.9525 - val_recall: 0.9193 - val_auc: 0.9744\n",
      "Epoch 3/10\n",
      "280/280 [==============================] - 57s 202ms/step - loss: 0.0244 - accuracy: 0.9242 - precision: 0.9473 - recall: 0.9502 - auc: 0.9748 - val_loss: 0.0281 - val_accuracy: 0.9237 - val_precision: 0.9225 - val_recall: 0.9658 - val_auc: 0.9757\n",
      "Epoch 4/10\n",
      "280/280 [==============================] - 58s 209ms/step - loss: 0.0239 - accuracy: 0.9251 - precision: 0.9482 - recall: 0.9506 - auc: 0.9759 - val_loss: 0.0261 - val_accuracy: 0.9221 - val_precision: 0.9477 - val_recall: 0.9337 - val_auc: 0.9763\n",
      "Epoch 5/10\n",
      "280/280 [==============================] - 57s 205ms/step - loss: 0.0230 - accuracy: 0.9288 - precision: 0.9505 - recall: 0.9533 - auc: 0.9776 - val_loss: 0.0275 - val_accuracy: 0.9204 - val_precision: 0.9591 - val_recall: 0.9189 - val_auc: 0.9746\n",
      "Epoch 6/10\n",
      "280/280 [==============================] - 57s 203ms/step - loss: 0.0225 - accuracy: 0.9296 - precision: 0.9523 - recall: 0.9525 - auc: 0.9786 - val_loss: 0.0255 - val_accuracy: 0.9302 - val_precision: 0.9459 - val_recall: 0.9489 - val_auc: 0.9774\n",
      "Epoch 7/10\n",
      "280/280 [==============================] - 59s 211ms/step - loss: 0.0220 - accuracy: 0.9324 - precision: 0.9530 - recall: 0.9556 - auc: 0.9795 - val_loss: 0.0360 - val_accuracy: 0.9076 - val_precision: 0.8918 - val_recall: 0.9792 - val_auc: 0.9777\n",
      "Epoch 8/10\n",
      "280/280 [==============================] - 58s 207ms/step - loss: 0.0210 - accuracy: 0.9345 - precision: 0.9551 - recall: 0.9564 - auc: 0.9813 - val_loss: 0.0269 - val_accuracy: 0.9293 - val_precision: 0.9321 - val_recall: 0.9633 - val_auc: 0.9774\n",
      "Epoch 9/10\n",
      "280/280 [==============================] - 60s 214ms/step - loss: 0.0209 - accuracy: 0.9357 - precision: 0.9565 - recall: 0.9565 - auc: 0.9814 - val_loss: 0.0281 - val_accuracy: 0.9265 - val_precision: 0.9286 - val_recall: 0.9630 - val_auc: 0.9759\n",
      "Epoch 10/10\n",
      "280/280 [==============================] - 62s 220ms/step - loss: 0.0209 - accuracy: 0.9364 - precision: 0.9564 - recall: 0.9576 - auc: 0.9815 - val_loss: 0.0265 - val_accuracy: 0.9263 - val_precision: 0.9506 - val_recall: 0.9372 - val_auc: 0.9775\n",
      "INFO:tensorflow:Assets written to: /Users/litto/WORKSPACE/MegaClassifier/models/MegaClassifier_a_MobileNetV2/v3/v3.0.2/assets\n"
     ]
    },
    {
     "name": "stderr",
     "output_type": "stream",
     "text": [
      "INFO:tensorflow:Assets written to: /Users/litto/WORKSPACE/MegaClassifier/models/MegaClassifier_a_MobileNetV2/v3/v3.0.2/assets\n"
     ]
    },
    {
     "name": "stdout",
     "output_type": "stream",
     "text": [
      "67/67 [==============================] - 12s 173ms/step - loss: 0.0242 - accuracy: 0.9330 - precision: 0.9544 - recall: 0.9439 - auc: 0.9808\n"
     ]
    },
    {
     "name": "stderr",
     "output_type": "stream",
     "text": [
      "2025-03-01 18:38:50.099206: I tensorflow/core/grappler/optimizers/custom_graph_optimizer_registry.cc:114] Plugin optimizer for device_type GPU is enabled.\n"
     ]
    },
    {
     "name": "stdout",
     "output_type": "stream",
     "text": [
      "67/67 [==============================] - 12s 166ms/step\n",
      "Found 17906 validated image filenames belonging to 2 classes.\n",
      "Found 4286 validated image filenames belonging to 2 classes.\n",
      "Found 4286 validated image filenames belonging to 2 classes.\n",
      "Epoch 1/10\n"
     ]
    },
    {
     "name": "stderr",
     "output_type": "stream",
     "text": [
      "2025-03-01 18:39:03.530424: I tensorflow/core/grappler/optimizers/custom_graph_optimizer_registry.cc:114] Plugin optimizer for device_type GPU is enabled.\n"
     ]
    },
    {
     "name": "stdout",
     "output_type": "stream",
     "text": [
      "280/280 [==============================] - ETA: 0s - loss: 0.0250 - accuracy: 0.8874 - precision: 0.9230 - recall: 0.9214 - auc: 0.9490"
     ]
    },
    {
     "name": "stderr",
     "output_type": "stream",
     "text": [
      "2025-03-01 18:39:51.758591: I tensorflow/core/grappler/optimizers/custom_graph_optimizer_registry.cc:114] Plugin optimizer for device_type GPU is enabled.\n"
     ]
    },
    {
     "name": "stdout",
     "output_type": "stream",
     "text": [
      "280/280 [==============================] - 60s 211ms/step - loss: 0.0250 - accuracy: 0.8874 - precision: 0.9230 - recall: 0.9214 - auc: 0.9490 - val_loss: 0.0161 - val_accuracy: 0.9057 - val_precision: 0.9431 - val_recall: 0.9126 - val_auc: 0.9666\n",
      "Epoch 2/10\n",
      "280/280 [==============================] - 57s 202ms/step - loss: 0.0146 - accuracy: 0.9111 - precision: 0.9393 - recall: 0.9405 - auc: 0.9672 - val_loss: 0.0158 - val_accuracy: 0.9141 - val_precision: 0.9152 - val_recall: 0.9591 - val_auc: 0.9723\n",
      "Epoch 3/10\n",
      "280/280 [==============================] - 57s 205ms/step - loss: 0.0132 - accuracy: 0.9191 - precision: 0.9435 - recall: 0.9473 - auc: 0.9723 - val_loss: 0.0193 - val_accuracy: 0.9055 - val_precision: 0.8935 - val_recall: 0.9732 - val_auc: 0.9726\n",
      "Epoch 4/10\n",
      "280/280 [==============================] - 60s 213ms/step - loss: 0.0126 - accuracy: 0.9220 - precision: 0.9472 - recall: 0.9472 - auc: 0.9744 - val_loss: 0.0158 - val_accuracy: 0.9174 - val_precision: 0.9088 - val_recall: 0.9728 - val_auc: 0.9750\n",
      "Epoch 5/10\n",
      "280/280 [==============================] - 59s 210ms/step - loss: 0.0122 - accuracy: 0.9232 - precision: 0.9475 - recall: 0.9486 - auc: 0.9759 - val_loss: 0.0172 - val_accuracy: 0.9018 - val_precision: 0.9748 - val_recall: 0.8741 - val_auc: 0.9736\n",
      "Epoch 6/10\n",
      "280/280 [==============================] - 59s 211ms/step - loss: 0.0114 - accuracy: 0.9292 - precision: 0.9515 - recall: 0.9528 - auc: 0.9786 - val_loss: 0.0144 - val_accuracy: 0.9251 - val_precision: 0.9515 - val_recall: 0.9344 - val_auc: 0.9728\n",
      "Epoch 7/10\n",
      "280/280 [==============================] - 58s 208ms/step - loss: 0.0112 - accuracy: 0.9276 - precision: 0.9512 - recall: 0.9508 - auc: 0.9793 - val_loss: 0.0138 - val_accuracy: 0.9263 - val_precision: 0.9500 - val_recall: 0.9379 - val_auc: 0.9775\n",
      "Epoch 8/10\n",
      "280/280 [==============================] - 59s 210ms/step - loss: 0.0112 - accuracy: 0.9316 - precision: 0.9541 - recall: 0.9534 - auc: 0.9799 - val_loss: 0.0151 - val_accuracy: 0.9256 - val_precision: 0.9276 - val_recall: 0.9626 - val_auc: 0.9768\n",
      "Epoch 9/10\n",
      "280/280 [==============================] - 63s 223ms/step - loss: 0.0109 - accuracy: 0.9319 - precision: 0.9527 - recall: 0.9552 - auc: 0.9805 - val_loss: 0.0145 - val_accuracy: 0.9216 - val_precision: 0.9549 - val_recall: 0.9252 - val_auc: 0.9748\n",
      "Epoch 10/10\n",
      "280/280 [==============================] - 59s 210ms/step - loss: 0.0109 - accuracy: 0.9327 - precision: 0.9535 - recall: 0.9555 - auc: 0.9807 - val_loss: 0.0140 - val_accuracy: 0.9256 - val_precision: 0.9356 - val_recall: 0.9531 - val_auc: 0.9767\n",
      "INFO:tensorflow:Assets written to: /Users/litto/WORKSPACE/MegaClassifier/models/MegaClassifier_a_MobileNetV2/v3/v3.0.3/assets\n"
     ]
    },
    {
     "name": "stderr",
     "output_type": "stream",
     "text": [
      "INFO:tensorflow:Assets written to: /Users/litto/WORKSPACE/MegaClassifier/models/MegaClassifier_a_MobileNetV2/v3/v3.0.3/assets\n"
     ]
    },
    {
     "name": "stdout",
     "output_type": "stream",
     "text": [
      "67/67 [==============================] - 12s 173ms/step - loss: 0.0138 - accuracy: 0.9277 - precision: 0.9370 - recall: 0.9549 - auc: 0.9784\n"
     ]
    },
    {
     "name": "stderr",
     "output_type": "stream",
     "text": [
      "2025-03-01 18:49:11.846725: I tensorflow/core/grappler/optimizers/custom_graph_optimizer_registry.cc:114] Plugin optimizer for device_type GPU is enabled.\n"
     ]
    },
    {
     "name": "stdout",
     "output_type": "stream",
     "text": [
      "67/67 [==============================] - 12s 167ms/step\n",
      "Found 17906 validated image filenames belonging to 2 classes.\n",
      "Found 4286 validated image filenames belonging to 2 classes.\n",
      "Found 4286 validated image filenames belonging to 2 classes.\n",
      "Epoch 1/10\n"
     ]
    },
    {
     "name": "stderr",
     "output_type": "stream",
     "text": [
      "2025-03-01 18:49:25.226768: I tensorflow/core/grappler/optimizers/custom_graph_optimizer_registry.cc:114] Plugin optimizer for device_type GPU is enabled.\n"
     ]
    },
    {
     "name": "stdout",
     "output_type": "stream",
     "text": [
      "280/280 [==============================] - ETA: 0s - loss: 0.0170 - accuracy: 0.8770 - precision: 0.9139 - recall: 0.9164 - auc: 0.9397"
     ]
    },
    {
     "name": "stderr",
     "output_type": "stream",
     "text": [
      "2025-03-01 18:50:13.809706: I tensorflow/core/grappler/optimizers/custom_graph_optimizer_registry.cc:114] Plugin optimizer for device_type GPU is enabled.\n"
     ]
    },
    {
     "name": "stdout",
     "output_type": "stream",
     "text": [
      "280/280 [==============================] - 61s 214ms/step - loss: 0.0170 - accuracy: 0.8770 - precision: 0.9139 - recall: 0.9164 - auc: 0.9397 - val_loss: 0.0093 - val_accuracy: 0.8966 - val_precision: 0.9500 - val_recall: 0.8907 - val_auc: 0.9671\n",
      "Epoch 2/10\n",
      "280/280 [==============================] - 58s 207ms/step - loss: 0.0086 - accuracy: 0.9012 - precision: 0.9315 - recall: 0.9350 - auc: 0.9602 - val_loss: 0.0089 - val_accuracy: 0.9043 - val_precision: 0.8993 - val_recall: 0.9633 - val_auc: 0.9704\n",
      "Epoch 3/10\n",
      "280/280 [==============================] - 59s 212ms/step - loss: 0.0073 - accuracy: 0.9094 - precision: 0.9383 - recall: 0.9392 - auc: 0.9678 - val_loss: 0.0074 - val_accuracy: 0.9167 - val_precision: 0.9305 - val_recall: 0.9446 - val_auc: 0.9737\n",
      "Epoch 4/10\n",
      "280/280 [==============================] - 63s 224ms/step - loss: 0.0067 - accuracy: 0.9177 - precision: 0.9452 - recall: 0.9433 - auc: 0.9724 - val_loss: 0.0102 - val_accuracy: 0.8985 - val_precision: 0.8795 - val_recall: 0.9810 - val_auc: 0.9761\n",
      "Epoch 5/10\n",
      "280/280 [==============================] - 63s 224ms/step - loss: 0.0066 - accuracy: 0.9184 - precision: 0.9440 - recall: 0.9456 - auc: 0.9731 - val_loss: 0.0072 - val_accuracy: 0.9188 - val_precision: 0.9472 - val_recall: 0.9291 - val_auc: 0.9744\n",
      "Epoch 6/10\n",
      "280/280 [==============================] - 58s 208ms/step - loss: 0.0061 - accuracy: 0.9249 - precision: 0.9478 - recall: 0.9507 - auc: 0.9763 - val_loss: 0.0073 - val_accuracy: 0.9232 - val_precision: 0.9501 - val_recall: 0.9330 - val_auc: 0.9741\n",
      "Epoch 7/10\n",
      "280/280 [==============================] - 59s 211ms/step - loss: 0.0062 - accuracy: 0.9237 - precision: 0.9484 - recall: 0.9484 - auc: 0.9760 - val_loss: 0.0096 - val_accuracy: 0.9083 - val_precision: 0.8952 - val_recall: 0.9757 - val_auc: 0.9768\n",
      "Epoch 8/10\n",
      "280/280 [==============================] - 61s 216ms/step - loss: 0.0057 - accuracy: 0.9272 - precision: 0.9501 - recall: 0.9515 - auc: 0.9789 - val_loss: 0.0074 - val_accuracy: 0.9237 - val_precision: 0.9248 - val_recall: 0.9630 - val_auc: 0.9766\n",
      "Epoch 9/10\n",
      "280/280 [==============================] - 60s 213ms/step - loss: 0.0057 - accuracy: 0.9285 - precision: 0.9505 - recall: 0.9528 - auc: 0.9793 - val_loss: 0.0073 - val_accuracy: 0.9195 - val_precision: 0.9514 - val_recall: 0.9256 - val_auc: 0.9757\n",
      "Epoch 10/10\n",
      "280/280 [==============================] - 59s 212ms/step - loss: 0.0058 - accuracy: 0.9282 - precision: 0.9507 - recall: 0.9522 - auc: 0.9789 - val_loss: 0.0074 - val_accuracy: 0.9260 - val_precision: 0.9399 - val_recall: 0.9489 - val_auc: 0.9769\n",
      "INFO:tensorflow:Assets written to: /Users/litto/WORKSPACE/MegaClassifier/models/MegaClassifier_a_MobileNetV2/v3/v3.0.4/assets\n"
     ]
    },
    {
     "name": "stderr",
     "output_type": "stream",
     "text": [
      "INFO:tensorflow:Assets written to: /Users/litto/WORKSPACE/MegaClassifier/models/MegaClassifier_a_MobileNetV2/v3/v3.0.4/assets\n"
     ]
    },
    {
     "name": "stdout",
     "output_type": "stream",
     "text": [
      "67/67 [==============================] - 12s 177ms/step - loss: 0.0070 - accuracy: 0.9312 - precision: 0.9428 - recall: 0.9538 - auc: 0.9783\n"
     ]
    },
    {
     "name": "stderr",
     "output_type": "stream",
     "text": [
      "2025-03-01 18:59:43.287175: I tensorflow/core/grappler/optimizers/custom_graph_optimizer_registry.cc:114] Plugin optimizer for device_type GPU is enabled.\n"
     ]
    },
    {
     "name": "stdout",
     "output_type": "stream",
     "text": [
      "67/67 [==============================] - 12s 169ms/step\n",
      "\n",
      "\n",
      "\n",
      "Found 17906 validated image filenames belonging to 2 classes.\n",
      "Found 4286 validated image filenames belonging to 2 classes.\n",
      "Found 4286 validated image filenames belonging to 2 classes.\n",
      "Epoch 1/10\n"
     ]
    },
    {
     "name": "stderr",
     "output_type": "stream",
     "text": [
      "2025-03-01 18:59:56.816516: I tensorflow/core/grappler/optimizers/custom_graph_optimizer_registry.cc:114] Plugin optimizer for device_type GPU is enabled.\n"
     ]
    },
    {
     "name": "stdout",
     "output_type": "stream",
     "text": [
      "280/280 [==============================] - ETA: 0s - loss: 0.1266 - accuracy: 0.9026 - precision: 0.9289 - recall: 0.9373 - auc: 0.9533"
     ]
    },
    {
     "name": "stderr",
     "output_type": "stream",
     "text": [
      "2025-03-01 19:00:46.301289: I tensorflow/core/grappler/optimizers/custom_graph_optimizer_registry.cc:114] Plugin optimizer for device_type GPU is enabled.\n"
     ]
    },
    {
     "name": "stdout",
     "output_type": "stream",
     "text": [
      "280/280 [==============================] - 62s 218ms/step - loss: 0.1266 - accuracy: 0.9026 - precision: 0.9289 - recall: 0.9373 - auc: 0.9533 - val_loss: 0.0954 - val_accuracy: 0.9230 - val_precision: 0.9514 - val_recall: 0.9312 - val_auc: 0.9769\n",
      "Epoch 2/10\n",
      "280/280 [==============================] - 61s 217ms/step - loss: 0.0960 - accuracy: 0.9214 - precision: 0.9449 - recall: 0.9490 - auc: 0.9719 - val_loss: 0.0935 - val_accuracy: 0.9270 - val_precision: 0.9298 - val_recall: 0.9623 - val_auc: 0.9788\n",
      "Epoch 3/10\n",
      "280/280 [==============================] - 61s 219ms/step - loss: 0.0876 - accuracy: 0.9274 - precision: 0.9494 - recall: 0.9525 - auc: 0.9767 - val_loss: 0.0893 - val_accuracy: 0.9295 - val_precision: 0.9548 - val_recall: 0.9379 - val_auc: 0.9791\n",
      "Epoch 4/10\n",
      "280/280 [==============================] - 59s 212ms/step - loss: 0.0866 - accuracy: 0.9296 - precision: 0.9508 - recall: 0.9540 - auc: 0.9772 - val_loss: 0.0893 - val_accuracy: 0.9300 - val_precision: 0.9468 - val_recall: 0.9475 - val_auc: 0.9788\n",
      "Epoch 5/10\n",
      "280/280 [==============================] - 63s 227ms/step - loss: 0.0825 - accuracy: 0.9301 - precision: 0.9515 - recall: 0.9540 - auc: 0.9793 - val_loss: 0.0925 - val_accuracy: 0.9251 - val_precision: 0.9656 - val_recall: 0.9196 - val_auc: 0.9800\n",
      "Epoch 6/10\n",
      "280/280 [==============================] - 62s 222ms/step - loss: 0.0798 - accuracy: 0.9344 - precision: 0.9538 - recall: 0.9577 - auc: 0.9807 - val_loss: 0.0914 - val_accuracy: 0.9260 - val_precision: 0.9297 - val_recall: 0.9609 - val_auc: 0.9803\n",
      "Epoch 7/10\n",
      "280/280 [==============================] - 62s 221ms/step - loss: 0.0780 - accuracy: 0.9352 - precision: 0.9550 - recall: 0.9574 - auc: 0.9816 - val_loss: 0.0886 - val_accuracy: 0.9286 - val_precision: 0.9405 - val_recall: 0.9524 - val_auc: 0.9797\n",
      "Epoch 8/10\n",
      "280/280 [==============================] - 61s 217ms/step - loss: 0.0783 - accuracy: 0.9349 - precision: 0.9557 - recall: 0.9562 - auc: 0.9814 - val_loss: 0.0912 - val_accuracy: 0.9286 - val_precision: 0.9573 - val_recall: 0.9337 - val_auc: 0.9795\n",
      "Epoch 9/10\n",
      "280/280 [==============================] - 59s 211ms/step - loss: 0.0762 - accuracy: 0.9377 - precision: 0.9570 - recall: 0.9587 - auc: 0.9824 - val_loss: 0.0882 - val_accuracy: 0.9326 - val_precision: 0.9530 - val_recall: 0.9446 - val_auc: 0.9799\n",
      "Epoch 10/10\n",
      "280/280 [==============================] - 62s 222ms/step - loss: 0.0759 - accuracy: 0.9390 - precision: 0.9582 - recall: 0.9593 - auc: 0.9826 - val_loss: 0.0883 - val_accuracy: 0.9316 - val_precision: 0.9536 - val_recall: 0.9425 - val_auc: 0.9799\n",
      "INFO:tensorflow:Assets written to: /Users/litto/WORKSPACE/MegaClassifier/models/MegaClassifier_a_MobileNetV2/v3/v3.1.5/assets\n"
     ]
    },
    {
     "name": "stderr",
     "output_type": "stream",
     "text": [
      "INFO:tensorflow:Assets written to: /Users/litto/WORKSPACE/MegaClassifier/models/MegaClassifier_a_MobileNetV2/v3/v3.1.5/assets\n"
     ]
    },
    {
     "name": "stdout",
     "output_type": "stream",
     "text": [
      "67/67 [==============================] - 14s 199ms/step - loss: 0.0853 - accuracy: 0.9312 - precision: 0.9517 - recall: 0.9439 - auc: 0.9810\n"
     ]
    },
    {
     "name": "stderr",
     "output_type": "stream",
     "text": [
      "2025-03-01 19:10:29.911648: I tensorflow/core/grappler/optimizers/custom_graph_optimizer_registry.cc:114] Plugin optimizer for device_type GPU is enabled.\n"
     ]
    },
    {
     "name": "stdout",
     "output_type": "stream",
     "text": [
      "67/67 [==============================] - 13s 182ms/step\n",
      "Found 17906 validated image filenames belonging to 2 classes.\n",
      "Found 4286 validated image filenames belonging to 2 classes.\n",
      "Found 4286 validated image filenames belonging to 2 classes.\n",
      "Epoch 1/10\n"
     ]
    },
    {
     "name": "stderr",
     "output_type": "stream",
     "text": [
      "2025-03-01 19:10:44.583560: I tensorflow/core/grappler/optimizers/custom_graph_optimizer_registry.cc:114] Plugin optimizer for device_type GPU is enabled.\n"
     ]
    },
    {
     "name": "stdout",
     "output_type": "stream",
     "text": [
      "280/280 [==============================] - ETA: 0s - loss: 0.0738 - accuracy: 0.9009 - precision: 0.9305 - recall: 0.9327 - auc: 0.9572"
     ]
    },
    {
     "name": "stderr",
     "output_type": "stream",
     "text": [
      "2025-03-01 19:11:35.665100: I tensorflow/core/grappler/optimizers/custom_graph_optimizer_registry.cc:114] Plugin optimizer for device_type GPU is enabled.\n"
     ]
    },
    {
     "name": "stdout",
     "output_type": "stream",
     "text": [
      "280/280 [==============================] - 64s 224ms/step - loss: 0.0738 - accuracy: 0.9009 - precision: 0.9305 - recall: 0.9327 - auc: 0.9572 - val_loss: 0.0560 - val_accuracy: 0.9141 - val_precision: 0.9584 - val_recall: 0.9097 - val_auc: 0.9705\n",
      "Epoch 2/10\n",
      "280/280 [==============================] - 58s 208ms/step - loss: 0.0502 - accuracy: 0.9206 - precision: 0.9459 - recall: 0.9468 - auc: 0.9718 - val_loss: 0.0516 - val_accuracy: 0.9218 - val_precision: 0.9516 - val_recall: 0.9291 - val_auc: 0.9738\n",
      "Epoch 3/10\n",
      "280/280 [==============================] - 58s 206ms/step - loss: 0.0460 - accuracy: 0.9262 - precision: 0.9490 - recall: 0.9512 - auc: 0.9762 - val_loss: 0.0511 - val_accuracy: 0.9284 - val_precision: 0.9411 - val_recall: 0.9513 - val_auc: 0.9753\n",
      "Epoch 4/10\n",
      "280/280 [==============================] - 57s 205ms/step - loss: 0.0447 - accuracy: 0.9292 - precision: 0.9517 - recall: 0.9525 - auc: 0.9774 - val_loss: 0.0488 - val_accuracy: 0.9298 - val_precision: 0.9461 - val_recall: 0.9478 - val_auc: 0.9774\n",
      "Epoch 5/10\n",
      "280/280 [==============================] - 58s 207ms/step - loss: 0.0442 - accuracy: 0.9300 - precision: 0.9523 - recall: 0.9531 - auc: 0.9780 - val_loss: 0.0485 - val_accuracy: 0.9277 - val_precision: 0.9358 - val_recall: 0.9563 - val_auc: 0.9786\n",
      "Epoch 6/10\n",
      "280/280 [==============================] - 57s 205ms/step - loss: 0.0424 - accuracy: 0.9343 - precision: 0.9543 - recall: 0.9568 - auc: 0.9798 - val_loss: 0.0513 - val_accuracy: 0.9272 - val_precision: 0.9275 - val_recall: 0.9654 - val_auc: 0.9791\n",
      "Epoch 7/10\n",
      "280/280 [==============================] - 57s 205ms/step - loss: 0.0409 - accuracy: 0.9347 - precision: 0.9557 - recall: 0.9559 - auc: 0.9812 - val_loss: 0.0586 - val_accuracy: 0.9167 - val_precision: 0.9081 - val_recall: 0.9725 - val_auc: 0.9777\n",
      "Epoch 8/10\n",
      "280/280 [==============================] - 57s 204ms/step - loss: 0.0410 - accuracy: 0.9340 - precision: 0.9548 - recall: 0.9560 - auc: 0.9810 - val_loss: 0.0488 - val_accuracy: 0.9277 - val_precision: 0.9576 - val_recall: 0.9319 - val_auc: 0.9788\n",
      "Epoch 9/10\n",
      "280/280 [==============================] - 57s 204ms/step - loss: 0.0396 - accuracy: 0.9380 - precision: 0.9582 - recall: 0.9578 - auc: 0.9824 - val_loss: 0.0531 - val_accuracy: 0.9258 - val_precision: 0.9315 - val_recall: 0.9584 - val_auc: 0.9764\n",
      "Epoch 10/10\n",
      "280/280 [==============================] - 58s 206ms/step - loss: 0.0398 - accuracy: 0.9356 - precision: 0.9563 - recall: 0.9565 - auc: 0.9821 - val_loss: 0.0493 - val_accuracy: 0.9272 - val_precision: 0.9559 - val_recall: 0.9330 - val_auc: 0.9786\n",
      "INFO:tensorflow:Assets written to: /Users/litto/WORKSPACE/MegaClassifier/models/MegaClassifier_a_MobileNetV2/v3/v3.1.6/assets\n"
     ]
    },
    {
     "name": "stderr",
     "output_type": "stream",
     "text": [
      "INFO:tensorflow:Assets written to: /Users/litto/WORKSPACE/MegaClassifier/models/MegaClassifier_a_MobileNetV2/v3/v3.1.6/assets\n"
     ]
    },
    {
     "name": "stdout",
     "output_type": "stream",
     "text": [
      "67/67 [==============================] - 11s 167ms/step - loss: 0.0453 - accuracy: 0.9305 - precision: 0.9594 - recall: 0.9344 - auc: 0.9815\n"
     ]
    },
    {
     "name": "stderr",
     "output_type": "stream",
     "text": [
      "2025-03-01 19:20:43.355077: I tensorflow/core/grappler/optimizers/custom_graph_optimizer_registry.cc:114] Plugin optimizer for device_type GPU is enabled.\n"
     ]
    },
    {
     "name": "stdout",
     "output_type": "stream",
     "text": [
      "67/67 [==============================] - 11s 161ms/step\n",
      "Found 17906 validated image filenames belonging to 2 classes.\n",
      "Found 4286 validated image filenames belonging to 2 classes.\n",
      "Found 4286 validated image filenames belonging to 2 classes.\n",
      "Epoch 1/10\n"
     ]
    },
    {
     "name": "stderr",
     "output_type": "stream",
     "text": [
      "2025-03-01 19:20:56.066783: I tensorflow/core/grappler/optimizers/custom_graph_optimizer_registry.cc:114] Plugin optimizer for device_type GPU is enabled.\n"
     ]
    },
    {
     "name": "stdout",
     "output_type": "stream",
     "text": [
      "280/280 [==============================] - ETA: 0s - loss: 0.0435 - accuracy: 0.8885 - precision: 0.9237 - recall: 0.9222 - auc: 0.9516"
     ]
    },
    {
     "name": "stderr",
     "output_type": "stream",
     "text": [
      "2025-03-01 19:21:43.284738: I tensorflow/core/grappler/optimizers/custom_graph_optimizer_registry.cc:114] Plugin optimizer for device_type GPU is enabled.\n"
     ]
    },
    {
     "name": "stdout",
     "output_type": "stream",
     "text": [
      "280/280 [==============================] - 59s 208ms/step - loss: 0.0435 - accuracy: 0.8885 - precision: 0.9237 - recall: 0.9222 - auc: 0.9516 - val_loss: 0.0303 - val_accuracy: 0.9074 - val_precision: 0.9021 - val_recall: 0.9647 - val_auc: 0.9742\n",
      "Epoch 2/10\n",
      "280/280 [==============================] - 57s 205ms/step - loss: 0.0270 - accuracy: 0.9144 - precision: 0.9412 - recall: 0.9432 - auc: 0.9696 - val_loss: 0.0283 - val_accuracy: 0.9160 - val_precision: 0.9180 - val_recall: 0.9587 - val_auc: 0.9757\n",
      "Epoch 3/10\n",
      "280/280 [==============================] - 58s 208ms/step - loss: 0.0246 - accuracy: 0.9215 - precision: 0.9471 - recall: 0.9466 - auc: 0.9744 - val_loss: 0.0259 - val_accuracy: 0.9218 - val_precision: 0.9389 - val_recall: 0.9432 - val_auc: 0.9757\n",
      "Epoch 4/10\n",
      "280/280 [==============================] - 57s 205ms/step - loss: 0.0234 - accuracy: 0.9264 - precision: 0.9482 - recall: 0.9525 - auc: 0.9767 - val_loss: 0.0246 - val_accuracy: 0.9258 - val_precision: 0.9487 - val_recall: 0.9386 - val_auc: 0.9789\n",
      "Epoch 5/10\n",
      "280/280 [==============================] - 57s 204ms/step - loss: 0.0235 - accuracy: 0.9250 - precision: 0.9494 - recall: 0.9491 - auc: 0.9767 - val_loss: 0.0270 - val_accuracy: 0.9239 - val_precision: 0.9463 - val_recall: 0.9383 - val_auc: 0.9737\n",
      "Epoch 6/10\n",
      "280/280 [==============================] - 57s 204ms/step - loss: 0.0224 - accuracy: 0.9295 - precision: 0.9512 - recall: 0.9534 - auc: 0.9788 - val_loss: 0.0306 - val_accuracy: 0.9088 - val_precision: 0.9733 - val_recall: 0.8865 - val_auc: 0.9789\n",
      "Epoch 7/10\n",
      "280/280 [==============================] - 57s 204ms/step - loss: 0.0214 - accuracy: 0.9330 - precision: 0.9552 - recall: 0.9540 - auc: 0.9805 - val_loss: 0.0267 - val_accuracy: 0.9298 - val_precision: 0.9336 - val_recall: 0.9623 - val_auc: 0.9782\n",
      "Epoch 8/10\n",
      "280/280 [==============================] - 58s 206ms/step - loss: 0.0210 - accuracy: 0.9340 - precision: 0.9553 - recall: 0.9554 - auc: 0.9812 - val_loss: 0.0258 - val_accuracy: 0.9316 - val_precision: 0.9401 - val_recall: 0.9577 - val_auc: 0.9780\n",
      "Epoch 9/10\n",
      "280/280 [==============================] - 57s 204ms/step - loss: 0.0211 - accuracy: 0.9353 - precision: 0.9562 - recall: 0.9562 - auc: 0.9811 - val_loss: 0.0252 - val_accuracy: 0.9267 - val_precision: 0.9481 - val_recall: 0.9408 - val_auc: 0.9783\n",
      "Epoch 10/10\n",
      "280/280 [==============================] - 57s 205ms/step - loss: 0.0208 - accuracy: 0.9324 - precision: 0.9548 - recall: 0.9536 - auc: 0.9816 - val_loss: 0.0252 - val_accuracy: 0.9286 - val_precision: 0.9483 - val_recall: 0.9436 - val_auc: 0.9778\n",
      "INFO:tensorflow:Assets written to: /Users/litto/WORKSPACE/MegaClassifier/models/MegaClassifier_a_MobileNetV2/v3/v3.1.7/assets\n"
     ]
    },
    {
     "name": "stderr",
     "output_type": "stream",
     "text": [
      "INFO:tensorflow:Assets written to: /Users/litto/WORKSPACE/MegaClassifier/models/MegaClassifier_a_MobileNetV2/v3/v3.1.7/assets\n"
     ]
    },
    {
     "name": "stdout",
     "output_type": "stream",
     "text": [
      "67/67 [==============================] - 11s 168ms/step - loss: 0.0244 - accuracy: 0.9312 - precision: 0.9504 - recall: 0.9453 - auc: 0.9798\n"
     ]
    },
    {
     "name": "stderr",
     "output_type": "stream",
     "text": [
      "2025-03-01 19:30:48.223381: I tensorflow/core/grappler/optimizers/custom_graph_optimizer_registry.cc:114] Plugin optimizer for device_type GPU is enabled.\n"
     ]
    },
    {
     "name": "stdout",
     "output_type": "stream",
     "text": [
      "67/67 [==============================] - 11s 160ms/step\n",
      "Found 17906 validated image filenames belonging to 2 classes.\n",
      "Found 4286 validated image filenames belonging to 2 classes.\n",
      "Found 4286 validated image filenames belonging to 2 classes.\n",
      "Epoch 1/10\n"
     ]
    },
    {
     "name": "stderr",
     "output_type": "stream",
     "text": [
      "2025-03-01 19:31:00.847003: I tensorflow/core/grappler/optimizers/custom_graph_optimizer_registry.cc:114] Plugin optimizer for device_type GPU is enabled.\n"
     ]
    },
    {
     "name": "stdout",
     "output_type": "stream",
     "text": [
      "280/280 [==============================] - ETA: 0s - loss: 0.0278 - accuracy: 0.8855 - precision: 0.9201 - recall: 0.9219 - auc: 0.9461"
     ]
    },
    {
     "name": "stderr",
     "output_type": "stream",
     "text": [
      "2025-03-01 19:31:47.968176: I tensorflow/core/grappler/optimizers/custom_graph_optimizer_registry.cc:114] Plugin optimizer for device_type GPU is enabled.\n"
     ]
    },
    {
     "name": "stdout",
     "output_type": "stream",
     "text": [
      "280/280 [==============================] - 59s 208ms/step - loss: 0.0278 - accuracy: 0.8855 - precision: 0.9201 - recall: 0.9219 - auc: 0.9461 - val_loss: 0.0167 - val_accuracy: 0.9069 - val_precision: 0.9401 - val_recall: 0.9178 - val_auc: 0.9667\n",
      "Epoch 2/10\n",
      "280/280 [==============================] - 57s 205ms/step - loss: 0.0147 - accuracy: 0.9108 - precision: 0.9385 - recall: 0.9410 - auc: 0.9663 - val_loss: 0.0159 - val_accuracy: 0.9127 - val_precision: 0.9600 - val_recall: 0.9059 - val_auc: 0.9709\n",
      "Epoch 3/10\n",
      "280/280 [==============================] - 57s 205ms/step - loss: 0.0132 - accuracy: 0.9174 - precision: 0.9435 - recall: 0.9448 - auc: 0.9721 - val_loss: 0.0169 - val_accuracy: 0.9055 - val_precision: 0.9688 - val_recall: 0.8858 - val_auc: 0.9746\n",
      "Epoch 4/10\n",
      "280/280 [==============================] - 58s 205ms/step - loss: 0.0127 - accuracy: 0.9211 - precision: 0.9461 - recall: 0.9472 - auc: 0.9741 - val_loss: 0.0161 - val_accuracy: 0.9148 - val_precision: 0.9106 - val_recall: 0.9661 - val_auc: 0.9763\n",
      "Epoch 5/10\n",
      "280/280 [==============================] - 57s 205ms/step - loss: 0.0122 - accuracy: 0.9238 - precision: 0.9484 - recall: 0.9485 - auc: 0.9758 - val_loss: 0.0145 - val_accuracy: 0.9218 - val_precision: 0.9395 - val_recall: 0.9425 - val_auc: 0.9758\n",
      "Epoch 6/10\n",
      "280/280 [==============================] - 57s 204ms/step - loss: 0.0116 - accuracy: 0.9272 - precision: 0.9504 - recall: 0.9511 - auc: 0.9780 - val_loss: 0.0160 - val_accuracy: 0.9174 - val_precision: 0.9098 - val_recall: 0.9714 - val_auc: 0.9774\n",
      "Epoch 7/10\n",
      "280/280 [==============================] - 57s 205ms/step - loss: 0.0113 - accuracy: 0.9297 - precision: 0.9520 - recall: 0.9530 - auc: 0.9792 - val_loss: 0.0137 - val_accuracy: 0.9244 - val_precision: 0.9524 - val_recall: 0.9323 - val_auc: 0.9781\n",
      "Epoch 8/10\n",
      "280/280 [==============================] - 57s 205ms/step - loss: 0.0111 - accuracy: 0.9318 - precision: 0.9540 - recall: 0.9537 - auc: 0.9799 - val_loss: 0.0146 - val_accuracy: 0.9209 - val_precision: 0.9542 - val_recall: 0.9249 - val_auc: 0.9769\n",
      "Epoch 9/10\n",
      "280/280 [==============================] - 57s 204ms/step - loss: 0.0109 - accuracy: 0.9313 - precision: 0.9537 - recall: 0.9534 - auc: 0.9804 - val_loss: 0.0146 - val_accuracy: 0.9216 - val_precision: 0.9633 - val_recall: 0.9164 - val_auc: 0.9774\n",
      "Epoch 10/10\n",
      "280/280 [==============================] - 57s 204ms/step - loss: 0.0111 - accuracy: 0.9319 - precision: 0.9537 - recall: 0.9542 - auc: 0.9801 - val_loss: 0.0150 - val_accuracy: 0.9216 - val_precision: 0.9616 - val_recall: 0.9182 - val_auc: 0.9760\n",
      "INFO:tensorflow:Assets written to: /Users/litto/WORKSPACE/MegaClassifier/models/MegaClassifier_a_MobileNetV2/v3/v3.1.8/assets\n"
     ]
    },
    {
     "name": "stderr",
     "output_type": "stream",
     "text": [
      "INFO:tensorflow:Assets written to: /Users/litto/WORKSPACE/MegaClassifier/models/MegaClassifier_a_MobileNetV2/v3/v3.1.8/assets\n"
     ]
    },
    {
     "name": "stdout",
     "output_type": "stream",
     "text": [
      "67/67 [==============================] - 12s 168ms/step - loss: 0.0136 - accuracy: 0.9239 - precision: 0.9597 - recall: 0.9238 - auc: 0.9790\n"
     ]
    },
    {
     "name": "stderr",
     "output_type": "stream",
     "text": [
      "2025-03-01 19:40:53.255857: I tensorflow/core/grappler/optimizers/custom_graph_optimizer_registry.cc:114] Plugin optimizer for device_type GPU is enabled.\n"
     ]
    },
    {
     "name": "stdout",
     "output_type": "stream",
     "text": [
      "67/67 [==============================] - 11s 161ms/step\n",
      "Found 17906 validated image filenames belonging to 2 classes.\n",
      "Found 4286 validated image filenames belonging to 2 classes.\n",
      "Found 4286 validated image filenames belonging to 2 classes.\n",
      "Epoch 1/10\n"
     ]
    },
    {
     "name": "stderr",
     "output_type": "stream",
     "text": [
      "2025-03-01 19:41:05.922499: I tensorflow/core/grappler/optimizers/custom_graph_optimizer_registry.cc:114] Plugin optimizer for device_type GPU is enabled.\n"
     ]
    },
    {
     "name": "stdout",
     "output_type": "stream",
     "text": [
      "280/280 [==============================] - ETA: 0s - loss: 0.0195 - accuracy: 0.8765 - precision: 0.9189 - recall: 0.9096 - auc: 0.9356"
     ]
    },
    {
     "name": "stderr",
     "output_type": "stream",
     "text": [
      "2025-03-01 19:41:52.986683: I tensorflow/core/grappler/optimizers/custom_graph_optimizer_registry.cc:114] Plugin optimizer for device_type GPU is enabled.\n"
     ]
    },
    {
     "name": "stdout",
     "output_type": "stream",
     "text": [
      "280/280 [==============================] - 59s 208ms/step - loss: 0.0195 - accuracy: 0.8765 - precision: 0.9189 - recall: 0.9096 - auc: 0.9356 - val_loss: 0.0097 - val_accuracy: 0.8962 - val_precision: 0.9476 - val_recall: 0.8925 - val_auc: 0.9617\n",
      "Epoch 2/10\n",
      "280/280 [==============================] - 57s 205ms/step - loss: 0.0087 - accuracy: 0.9010 - precision: 0.9319 - recall: 0.9343 - auc: 0.9585 - val_loss: 0.0096 - val_accuracy: 0.8987 - val_precision: 0.8943 - val_recall: 0.9605 - val_auc: 0.9673\n",
      "Epoch 3/10\n",
      "280/280 [==============================] - 58s 206ms/step - loss: 0.0076 - accuracy: 0.9087 - precision: 0.9374 - recall: 0.9392 - auc: 0.9656 - val_loss: 0.0079 - val_accuracy: 0.9134 - val_precision: 0.9240 - val_recall: 0.9471 - val_auc: 0.9716\n",
      "Epoch 4/10\n",
      "280/280 [==============================] - 57s 205ms/step - loss: 0.0072 - accuracy: 0.9144 - precision: 0.9418 - recall: 0.9424 - auc: 0.9688 - val_loss: 0.0075 - val_accuracy: 0.9172 - val_precision: 0.9490 - val_recall: 0.9245 - val_auc: 0.9736\n",
      "Epoch 5/10\n",
      "280/280 [==============================] - 58s 206ms/step - loss: 0.0069 - accuracy: 0.9159 - precision: 0.9430 - recall: 0.9433 - auc: 0.9713 - val_loss: 0.0074 - val_accuracy: 0.9176 - val_precision: 0.9312 - val_recall: 0.9453 - val_auc: 0.9750\n",
      "Epoch 6/10\n",
      "280/280 [==============================] - 57s 204ms/step - loss: 0.0065 - accuracy: 0.9216 - precision: 0.9471 - recall: 0.9469 - auc: 0.9741 - val_loss: 0.0072 - val_accuracy: 0.9204 - val_precision: 0.9470 - val_recall: 0.9319 - val_auc: 0.9753\n",
      "Epoch 7/10\n",
      "280/280 [==============================] - 57s 203ms/step - loss: 0.0061 - accuracy: 0.9246 - precision: 0.9489 - recall: 0.9490 - auc: 0.9765 - val_loss: 0.0073 - val_accuracy: 0.9216 - val_precision: 0.9549 - val_recall: 0.9252 - val_auc: 0.9755\n",
      "Epoch 8/10\n",
      "280/280 [==============================] - 57s 204ms/step - loss: 0.0060 - accuracy: 0.9266 - precision: 0.9507 - recall: 0.9499 - auc: 0.9773 - val_loss: 0.0071 - val_accuracy: 0.9232 - val_precision: 0.9469 - val_recall: 0.9365 - val_auc: 0.9767\n",
      "Epoch 9/10\n",
      "280/280 [==============================] - 57s 204ms/step - loss: 0.0059 - accuracy: 0.9270 - precision: 0.9515 - recall: 0.9497 - auc: 0.9781 - val_loss: 0.0079 - val_accuracy: 0.9176 - val_precision: 0.9683 - val_recall: 0.9051 - val_auc: 0.9748\n",
      "Epoch 10/10\n",
      "280/280 [==============================] - 57s 204ms/step - loss: 0.0058 - accuracy: 0.9284 - precision: 0.9506 - recall: 0.9526 - auc: 0.9790 - val_loss: 0.0070 - val_accuracy: 0.9235 - val_precision: 0.9422 - val_recall: 0.9422 - val_auc: 0.9765\n",
      "INFO:tensorflow:Assets written to: /Users/litto/WORKSPACE/MegaClassifier/models/MegaClassifier_a_MobileNetV2/v3/v3.1.9/assets\n"
     ]
    },
    {
     "name": "stderr",
     "output_type": "stream",
     "text": [
      "INFO:tensorflow:Assets written to: /Users/litto/WORKSPACE/MegaClassifier/models/MegaClassifier_a_MobileNetV2/v3/v3.1.9/assets\n"
     ]
    },
    {
     "name": "stdout",
     "output_type": "stream",
     "text": [
      "67/67 [==============================] - 11s 167ms/step - loss: 0.0067 - accuracy: 0.9279 - precision: 0.9407 - recall: 0.9510 - auc: 0.9790\n"
     ]
    },
    {
     "name": "stderr",
     "output_type": "stream",
     "text": [
      "2025-03-01 19:50:57.273831: I tensorflow/core/grappler/optimizers/custom_graph_optimizer_registry.cc:114] Plugin optimizer for device_type GPU is enabled.\n"
     ]
    },
    {
     "name": "stdout",
     "output_type": "stream",
     "text": [
      "67/67 [==============================] - 11s 161ms/step\n",
      "\n",
      "\n",
      "\n",
      "Found 17906 validated image filenames belonging to 2 classes.\n",
      "Found 4286 validated image filenames belonging to 2 classes.\n",
      "Found 4286 validated image filenames belonging to 2 classes.\n",
      "Epoch 1/10\n"
     ]
    },
    {
     "name": "stderr",
     "output_type": "stream",
     "text": [
      "2025-03-01 19:51:10.057525: I tensorflow/core/grappler/optimizers/custom_graph_optimizer_registry.cc:114] Plugin optimizer for device_type GPU is enabled.\n"
     ]
    },
    {
     "name": "stdout",
     "output_type": "stream",
     "text": [
      "280/280 [==============================] - ETA: 0s - loss: 0.1209 - accuracy: 0.9051 - precision: 0.9312 - recall: 0.9381 - auc: 0.9562"
     ]
    },
    {
     "name": "stderr",
     "output_type": "stream",
     "text": [
      "2025-03-01 19:51:57.206763: I tensorflow/core/grappler/optimizers/custom_graph_optimizer_registry.cc:114] Plugin optimizer for device_type GPU is enabled.\n"
     ]
    },
    {
     "name": "stdout",
     "output_type": "stream",
     "text": [
      "280/280 [==============================] - 59s 207ms/step - loss: 0.1209 - accuracy: 0.9051 - precision: 0.9312 - recall: 0.9381 - auc: 0.9562 - val_loss: 0.0933 - val_accuracy: 0.9265 - val_precision: 0.9418 - val_recall: 0.9475 - val_auc: 0.9772\n",
      "Epoch 2/10\n",
      "280/280 [==============================] - 57s 203ms/step - loss: 0.0925 - accuracy: 0.9218 - precision: 0.9449 - recall: 0.9496 - auc: 0.9739 - val_loss: 0.0959 - val_accuracy: 0.9263 - val_precision: 0.9315 - val_recall: 0.9591 - val_auc: 0.9770\n",
      "Epoch 3/10\n",
      "280/280 [==============================] - 57s 204ms/step - loss: 0.0867 - accuracy: 0.9290 - precision: 0.9512 - recall: 0.9528 - auc: 0.9772 - val_loss: 0.0921 - val_accuracy: 0.9274 - val_precision: 0.9563 - val_recall: 0.9330 - val_auc: 0.9785\n",
      "Epoch 4/10\n",
      "280/280 [==============================] - 57s 204ms/step - loss: 0.0849 - accuracy: 0.9310 - precision: 0.9520 - recall: 0.9547 - auc: 0.9782 - val_loss: 0.0881 - val_accuracy: 0.9293 - val_precision: 0.9483 - val_recall: 0.9446 - val_auc: 0.9798\n",
      "Epoch 5/10\n",
      "280/280 [==============================] - 57s 205ms/step - loss: 0.0829 - accuracy: 0.9319 - precision: 0.9525 - recall: 0.9555 - auc: 0.9792 - val_loss: 0.0879 - val_accuracy: 0.9316 - val_precision: 0.9546 - val_recall: 0.9415 - val_auc: 0.9798\n",
      "Epoch 6/10\n",
      "280/280 [==============================] - 57s 205ms/step - loss: 0.0803 - accuracy: 0.9330 - precision: 0.9539 - recall: 0.9555 - auc: 0.9805 - val_loss: 0.0986 - val_accuracy: 0.9197 - val_precision: 0.9713 - val_recall: 0.9055 - val_auc: 0.9792\n",
      "Epoch 7/10\n",
      "280/280 [==============================] - 57s 204ms/step - loss: 0.0782 - accuracy: 0.9364 - precision: 0.9566 - recall: 0.9574 - auc: 0.9815 - val_loss: 0.0923 - val_accuracy: 0.9253 - val_precision: 0.9605 - val_recall: 0.9252 - val_auc: 0.9794\n",
      "Epoch 8/10\n",
      "280/280 [==============================] - 57s 203ms/step - loss: 0.0771 - accuracy: 0.9371 - precision: 0.9576 - recall: 0.9572 - auc: 0.9820 - val_loss: 0.0954 - val_accuracy: 0.9270 - val_precision: 0.9609 - val_recall: 0.9274 - val_auc: 0.9780\n",
      "Epoch 9/10\n",
      "280/280 [==============================] - 57s 204ms/step - loss: 0.0766 - accuracy: 0.9358 - precision: 0.9565 - recall: 0.9566 - auc: 0.9822 - val_loss: 0.0888 - val_accuracy: 0.9316 - val_precision: 0.9460 - val_recall: 0.9510 - val_auc: 0.9792\n",
      "Epoch 10/10\n",
      "280/280 [==============================] - 57s 204ms/step - loss: 0.0764 - accuracy: 0.9375 - precision: 0.9582 - recall: 0.9571 - auc: 0.9824 - val_loss: 0.0953 - val_accuracy: 0.9239 - val_precision: 0.9240 - val_recall: 0.9644 - val_auc: 0.9783\n",
      "INFO:tensorflow:Assets written to: /Users/litto/WORKSPACE/MegaClassifier/models/MegaClassifier_a_MobileNetV2/v3/v3.2.10/assets\n"
     ]
    },
    {
     "name": "stderr",
     "output_type": "stream",
     "text": [
      "INFO:tensorflow:Assets written to: /Users/litto/WORKSPACE/MegaClassifier/models/MegaClassifier_a_MobileNetV2/v3/v3.2.10/assets\n"
     ]
    },
    {
     "name": "stdout",
     "output_type": "stream",
     "text": [
      "67/67 [==============================] - 12s 167ms/step - loss: 0.0927 - accuracy: 0.9277 - precision: 0.9258 - recall: 0.9683 - auc: 0.9809\n"
     ]
    },
    {
     "name": "stderr",
     "output_type": "stream",
     "text": [
      "2025-03-01 20:01:00.574430: I tensorflow/core/grappler/optimizers/custom_graph_optimizer_registry.cc:114] Plugin optimizer for device_type GPU is enabled.\n"
     ]
    },
    {
     "name": "stdout",
     "output_type": "stream",
     "text": [
      "67/67 [==============================] - 11s 161ms/step\n",
      "Found 17906 validated image filenames belonging to 2 classes.\n",
      "Found 4286 validated image filenames belonging to 2 classes.\n",
      "Found 4286 validated image filenames belonging to 2 classes.\n",
      "Epoch 1/10\n"
     ]
    },
    {
     "name": "stderr",
     "output_type": "stream",
     "text": [
      "2025-03-01 20:01:13.325670: I tensorflow/core/grappler/optimizers/custom_graph_optimizer_registry.cc:114] Plugin optimizer for device_type GPU is enabled.\n"
     ]
    },
    {
     "name": "stdout",
     "output_type": "stream",
     "text": [
      "280/280 [==============================] - ETA: 0s - loss: 0.0728 - accuracy: 0.8951 - precision: 0.9228 - recall: 0.9332 - auc: 0.9552"
     ]
    },
    {
     "name": "stderr",
     "output_type": "stream",
     "text": [
      "2025-03-01 20:02:00.331233: I tensorflow/core/grappler/optimizers/custom_graph_optimizer_registry.cc:114] Plugin optimizer for device_type GPU is enabled.\n"
     ]
    },
    {
     "name": "stdout",
     "output_type": "stream",
     "text": [
      "280/280 [==============================] - 59s 207ms/step - loss: 0.0728 - accuracy: 0.8951 - precision: 0.9228 - recall: 0.9332 - auc: 0.9552 - val_loss: 0.0638 - val_accuracy: 0.9027 - val_precision: 0.8856 - val_recall: 0.9795 - val_auc: 0.9763\n",
      "Epoch 2/10\n",
      "280/280 [==============================] - 57s 203ms/step - loss: 0.0505 - accuracy: 0.9178 - precision: 0.9422 - recall: 0.9469 - auc: 0.9711 - val_loss: 0.0497 - val_accuracy: 0.9270 - val_precision: 0.9589 - val_recall: 0.9295 - val_auc: 0.9774\n",
      "Epoch 3/10\n",
      "280/280 [==============================] - 57s 203ms/step - loss: 0.0461 - accuracy: 0.9270 - precision: 0.9494 - recall: 0.9519 - auc: 0.9760 - val_loss: 0.0527 - val_accuracy: 0.9230 - val_precision: 0.9648 - val_recall: 0.9171 - val_auc: 0.9752\n",
      "Epoch 4/10\n",
      "280/280 [==============================] - 57s 203ms/step - loss: 0.0457 - accuracy: 0.9273 - precision: 0.9504 - recall: 0.9513 - auc: 0.9765 - val_loss: 0.0483 - val_accuracy: 0.9288 - val_precision: 0.9531 - val_recall: 0.9386 - val_auc: 0.9774\n",
      "Epoch 5/10\n",
      "280/280 [==============================] - 57s 204ms/step - loss: 0.0435 - accuracy: 0.9307 - precision: 0.9520 - recall: 0.9543 - auc: 0.9786 - val_loss: 0.0497 - val_accuracy: 0.9270 - val_precision: 0.9569 - val_recall: 0.9316 - val_auc: 0.9769\n",
      "Epoch 6/10\n",
      "280/280 [==============================] - 57s 204ms/step - loss: 0.0423 - accuracy: 0.9305 - precision: 0.9534 - recall: 0.9525 - auc: 0.9798 - val_loss: 0.0482 - val_accuracy: 0.9300 - val_precision: 0.9584 - val_recall: 0.9348 - val_auc: 0.9780\n",
      "Epoch 7/10\n",
      "280/280 [==============================] - 57s 204ms/step - loss: 0.0411 - accuracy: 0.9346 - precision: 0.9552 - recall: 0.9564 - auc: 0.9809 - val_loss: 0.0500 - val_accuracy: 0.9260 - val_precision: 0.9612 - val_recall: 0.9256 - val_auc: 0.9783\n",
      "Epoch 8/10\n",
      "280/280 [==============================] - 57s 203ms/step - loss: 0.0409 - accuracy: 0.9348 - precision: 0.9550 - recall: 0.9569 - auc: 0.9811 - val_loss: 0.0474 - val_accuracy: 0.9279 - val_precision: 0.9476 - val_recall: 0.9432 - val_auc: 0.9781\n",
      "Epoch 9/10\n",
      "280/280 [==============================] - 57s 202ms/step - loss: 0.0400 - accuracy: 0.9354 - precision: 0.9553 - recall: 0.9574 - auc: 0.9819 - val_loss: 0.0492 - val_accuracy: 0.9293 - val_precision: 0.9405 - val_recall: 0.9535 - val_auc: 0.9776\n",
      "Epoch 10/10\n",
      "280/280 [==============================] - 57s 205ms/step - loss: 0.0402 - accuracy: 0.9348 - precision: 0.9551 - recall: 0.9568 - auc: 0.9817 - val_loss: 0.0488 - val_accuracy: 0.9291 - val_precision: 0.9408 - val_recall: 0.9528 - val_auc: 0.9777\n",
      "INFO:tensorflow:Assets written to: /Users/litto/WORKSPACE/MegaClassifier/models/MegaClassifier_a_MobileNetV2/v3/v3.2.11/assets\n"
     ]
    },
    {
     "name": "stderr",
     "output_type": "stream",
     "text": [
      "INFO:tensorflow:Assets written to: /Users/litto/WORKSPACE/MegaClassifier/models/MegaClassifier_a_MobileNetV2/v3/v3.2.11/assets\n"
     ]
    },
    {
     "name": "stdout",
     "output_type": "stream",
     "text": [
      "67/67 [==============================] - 12s 167ms/step - loss: 0.0463 - accuracy: 0.9323 - precision: 0.9414 - recall: 0.9573 - auc: 0.9809\n"
     ]
    },
    {
     "name": "stderr",
     "output_type": "stream",
     "text": [
      "2025-03-01 20:11:02.328493: I tensorflow/core/grappler/optimizers/custom_graph_optimizer_registry.cc:114] Plugin optimizer for device_type GPU is enabled.\n"
     ]
    },
    {
     "name": "stdout",
     "output_type": "stream",
     "text": [
      "67/67 [==============================] - 11s 161ms/step\n",
      "Found 17906 validated image filenames belonging to 2 classes.\n",
      "Found 4286 validated image filenames belonging to 2 classes.\n",
      "Found 4286 validated image filenames belonging to 2 classes.\n",
      "Epoch 1/10\n"
     ]
    },
    {
     "name": "stderr",
     "output_type": "stream",
     "text": [
      "2025-03-01 20:11:15.263370: I tensorflow/core/grappler/optimizers/custom_graph_optimizer_registry.cc:114] Plugin optimizer for device_type GPU is enabled.\n"
     ]
    },
    {
     "name": "stdout",
     "output_type": "stream",
     "text": [
      "280/280 [==============================] - ETA: 0s - loss: 0.0433 - accuracy: 0.8906 - precision: 0.9228 - recall: 0.9265 - auc: 0.9510"
     ]
    },
    {
     "name": "stderr",
     "output_type": "stream",
     "text": [
      "2025-03-01 20:12:02.450142: I tensorflow/core/grappler/optimizers/custom_graph_optimizer_registry.cc:114] Plugin optimizer for device_type GPU is enabled.\n"
     ]
    },
    {
     "name": "stdout",
     "output_type": "stream",
     "text": [
      "280/280 [==============================] - 59s 208ms/step - loss: 0.0433 - accuracy: 0.8906 - precision: 0.9228 - recall: 0.9265 - auc: 0.9510 - val_loss: 0.0334 - val_accuracy: 0.9027 - val_precision: 0.9690 - val_recall: 0.8812 - val_auc: 0.9736\n",
      "Epoch 2/10\n",
      "280/280 [==============================] - 57s 204ms/step - loss: 0.0268 - accuracy: 0.9168 - precision: 0.9426 - recall: 0.9450 - auc: 0.9701 - val_loss: 0.0300 - val_accuracy: 0.9064 - val_precision: 0.9688 - val_recall: 0.8872 - val_auc: 0.9769\n",
      "Epoch 3/10\n",
      "280/280 [==============================] - 57s 204ms/step - loss: 0.0248 - accuracy: 0.9235 - precision: 0.9473 - recall: 0.9493 - auc: 0.9742 - val_loss: 0.0259 - val_accuracy: 0.9188 - val_precision: 0.9341 - val_recall: 0.9439 - val_auc: 0.9765\n",
      "Epoch 4/10\n",
      "280/280 [==============================] - 57s 204ms/step - loss: 0.0238 - accuracy: 0.9244 - precision: 0.9492 - recall: 0.9484 - auc: 0.9760 - val_loss: 0.0250 - val_accuracy: 0.9260 - val_precision: 0.9513 - val_recall: 0.9362 - val_auc: 0.9784\n",
      "Epoch 5/10\n",
      "280/280 [==============================] - 57s 204ms/step - loss: 0.0232 - accuracy: 0.9273 - precision: 0.9494 - recall: 0.9524 - auc: 0.9774 - val_loss: 0.0255 - val_accuracy: 0.9235 - val_precision: 0.9354 - val_recall: 0.9499 - val_auc: 0.9777\n",
      "Epoch 6/10\n",
      "280/280 [==============================] - 57s 204ms/step - loss: 0.0222 - accuracy: 0.9301 - precision: 0.9521 - recall: 0.9534 - auc: 0.9790 - val_loss: 0.0255 - val_accuracy: 0.9274 - val_precision: 0.9331 - val_recall: 0.9591 - val_auc: 0.9786\n",
      "Epoch 7/10\n",
      "280/280 [==============================] - 57s 204ms/step - loss: 0.0210 - accuracy: 0.9340 - precision: 0.9546 - recall: 0.9561 - auc: 0.9812 - val_loss: 0.0262 - val_accuracy: 0.9260 - val_precision: 0.9312 - val_recall: 0.9591 - val_auc: 0.9780\n",
      "Epoch 8/10\n",
      "280/280 [==============================] - 57s 204ms/step - loss: 0.0215 - accuracy: 0.9314 - precision: 0.9539 - recall: 0.9532 - auc: 0.9803 - val_loss: 0.0257 - val_accuracy: 0.9284 - val_precision: 0.9414 - val_recall: 0.9510 - val_auc: 0.9785\n",
      "Epoch 9/10\n",
      "280/280 [==============================] - 57s 204ms/step - loss: 0.0209 - accuracy: 0.9342 - precision: 0.9555 - recall: 0.9554 - auc: 0.9814 - val_loss: 0.0270 - val_accuracy: 0.9228 - val_precision: 0.9630 - val_recall: 0.9185 - val_auc: 0.9780\n",
      "Epoch 10/10\n",
      "280/280 [==============================] - 57s 203ms/step - loss: 0.0211 - accuracy: 0.9331 - precision: 0.9538 - recall: 0.9557 - auc: 0.9810 - val_loss: 0.0315 - val_accuracy: 0.9148 - val_precision: 0.9036 - val_recall: 0.9753 - val_auc: 0.9780\n",
      "INFO:tensorflow:Assets written to: /Users/litto/WORKSPACE/MegaClassifier/models/MegaClassifier_a_MobileNetV2/v3/v3.2.12/assets\n"
     ]
    },
    {
     "name": "stderr",
     "output_type": "stream",
     "text": [
      "INFO:tensorflow:Assets written to: /Users/litto/WORKSPACE/MegaClassifier/models/MegaClassifier_a_MobileNetV2/v3/v3.2.12/assets\n"
     ]
    },
    {
     "name": "stdout",
     "output_type": "stream",
     "text": [
      "67/67 [==============================] - 12s 167ms/step - loss: 0.0299 - accuracy: 0.9204 - precision: 0.9057 - recall: 0.9820 - auc: 0.9809\n"
     ]
    },
    {
     "name": "stderr",
     "output_type": "stream",
     "text": [
      "2025-03-01 20:21:05.331451: I tensorflow/core/grappler/optimizers/custom_graph_optimizer_registry.cc:114] Plugin optimizer for device_type GPU is enabled.\n"
     ]
    },
    {
     "name": "stdout",
     "output_type": "stream",
     "text": [
      "67/67 [==============================] - 11s 161ms/step\n",
      "Found 17906 validated image filenames belonging to 2 classes.\n",
      "Found 4286 validated image filenames belonging to 2 classes.\n",
      "Found 4286 validated image filenames belonging to 2 classes.\n",
      "Epoch 1/10\n"
     ]
    },
    {
     "name": "stderr",
     "output_type": "stream",
     "text": [
      "2025-03-01 20:21:18.216279: I tensorflow/core/grappler/optimizers/custom_graph_optimizer_registry.cc:114] Plugin optimizer for device_type GPU is enabled.\n"
     ]
    },
    {
     "name": "stdout",
     "output_type": "stream",
     "text": [
      "280/280 [==============================] - ETA: 0s - loss: 0.0287 - accuracy: 0.8797 - precision: 0.9106 - recall: 0.9247 - auc: 0.9409"
     ]
    },
    {
     "name": "stderr",
     "output_type": "stream",
     "text": [
      "2025-03-01 20:22:05.318624: I tensorflow/core/grappler/optimizers/custom_graph_optimizer_registry.cc:114] Plugin optimizer for device_type GPU is enabled.\n"
     ]
    },
    {
     "name": "stdout",
     "output_type": "stream",
     "text": [
      "280/280 [==============================] - 59s 208ms/step - loss: 0.0287 - accuracy: 0.8797 - precision: 0.9106 - recall: 0.9247 - auc: 0.9409 - val_loss: 0.0217 - val_accuracy: 0.8801 - val_precision: 0.9758 - val_recall: 0.8396 - val_auc: 0.9702\n",
      "Epoch 2/10\n",
      "280/280 [==============================] - 58s 206ms/step - loss: 0.0153 - accuracy: 0.9052 - precision: 0.9342 - recall: 0.9377 - auc: 0.9644 - val_loss: 0.0137 - val_accuracy: 0.9197 - val_precision: 0.9415 - val_recall: 0.9369 - val_auc: 0.9760\n",
      "Epoch 3/10\n",
      "280/280 [==============================] - 57s 205ms/step - loss: 0.0134 - accuracy: 0.9166 - precision: 0.9427 - recall: 0.9446 - auc: 0.9713 - val_loss: 0.0136 - val_accuracy: 0.9195 - val_precision: 0.9425 - val_recall: 0.9355 - val_auc: 0.9749\n",
      "Epoch 4/10\n",
      "280/280 [==============================] - 57s 204ms/step - loss: 0.0130 - accuracy: 0.9191 - precision: 0.9443 - recall: 0.9463 - auc: 0.9728 - val_loss: 0.0130 - val_accuracy: 0.9207 - val_precision: 0.9435 - val_recall: 0.9362 - val_auc: 0.9779\n",
      "Epoch 5/10\n",
      "280/280 [==============================] - 57s 204ms/step - loss: 0.0122 - accuracy: 0.9227 - precision: 0.9471 - recall: 0.9482 - auc: 0.9759 - val_loss: 0.0130 - val_accuracy: 0.9225 - val_precision: 0.9543 - val_recall: 0.9274 - val_auc: 0.9781\n",
      "Epoch 6/10\n",
      "280/280 [==============================] - 57s 204ms/step - loss: 0.0121 - accuracy: 0.9231 - precision: 0.9478 - recall: 0.9481 - auc: 0.9764 - val_loss: 0.0127 - val_accuracy: 0.9249 - val_precision: 0.9407 - val_recall: 0.9461 - val_auc: 0.9790\n",
      "Epoch 7/10\n",
      "280/280 [==============================] - 57s 204ms/step - loss: 0.0112 - accuracy: 0.9269 - precision: 0.9490 - recall: 0.9522 - auc: 0.9791 - val_loss: 0.0160 - val_accuracy: 0.9106 - val_precision: 0.9741 - val_recall: 0.8886 - val_auc: 0.9788\n",
      "Epoch 8/10\n",
      "280/280 [==============================] - 58s 205ms/step - loss: 0.0114 - accuracy: 0.9291 - precision: 0.9513 - recall: 0.9528 - auc: 0.9788 - val_loss: 0.0134 - val_accuracy: 0.9260 - val_precision: 0.9449 - val_recall: 0.9432 - val_auc: 0.9776\n",
      "Epoch 9/10\n",
      "280/280 [==============================] - 57s 205ms/step - loss: 0.0110 - accuracy: 0.9299 - precision: 0.9519 - recall: 0.9533 - auc: 0.9802 - val_loss: 0.0137 - val_accuracy: 0.9228 - val_precision: 0.9491 - val_recall: 0.9334 - val_auc: 0.9772\n",
      "Epoch 10/10\n",
      "280/280 [==============================] - 57s 205ms/step - loss: 0.0110 - accuracy: 0.9307 - precision: 0.9523 - recall: 0.9540 - auc: 0.9801 - val_loss: 0.0133 - val_accuracy: 0.9298 - val_precision: 0.9503 - val_recall: 0.9432 - val_auc: 0.9784\n",
      "INFO:tensorflow:Assets written to: /Users/litto/WORKSPACE/MegaClassifier/models/MegaClassifier_a_MobileNetV2/v3/v3.2.13/assets\n"
     ]
    },
    {
     "name": "stderr",
     "output_type": "stream",
     "text": [
      "INFO:tensorflow:Assets written to: /Users/litto/WORKSPACE/MegaClassifier/models/MegaClassifier_a_MobileNetV2/v3/v3.2.13/assets\n"
     ]
    },
    {
     "name": "stdout",
     "output_type": "stream",
     "text": [
      "67/67 [==============================] - 12s 168ms/step - loss: 0.0131 - accuracy: 0.9298 - precision: 0.9474 - recall: 0.9464 - auc: 0.9792\n"
     ]
    },
    {
     "name": "stderr",
     "output_type": "stream",
     "text": [
      "2025-03-01 20:31:10.428680: I tensorflow/core/grappler/optimizers/custom_graph_optimizer_registry.cc:114] Plugin optimizer for device_type GPU is enabled.\n"
     ]
    },
    {
     "name": "stdout",
     "output_type": "stream",
     "text": [
      "67/67 [==============================] - 11s 161ms/step\n",
      "Found 17906 validated image filenames belonging to 2 classes.\n",
      "Found 4286 validated image filenames belonging to 2 classes.\n",
      "Found 4286 validated image filenames belonging to 2 classes.\n",
      "Epoch 1/10\n"
     ]
    },
    {
     "name": "stderr",
     "output_type": "stream",
     "text": [
      "2025-03-01 20:31:23.243275: I tensorflow/core/grappler/optimizers/custom_graph_optimizer_registry.cc:114] Plugin optimizer for device_type GPU is enabled.\n"
     ]
    },
    {
     "name": "stdout",
     "output_type": "stream",
     "text": [
      "280/280 [==============================] - ETA: 0s - loss: 0.0168 - accuracy: 0.8797 - precision: 0.9178 - recall: 0.9158 - auc: 0.9419"
     ]
    },
    {
     "name": "stderr",
     "output_type": "stream",
     "text": [
      "2025-03-01 20:32:10.471122: I tensorflow/core/grappler/optimizers/custom_graph_optimizer_registry.cc:114] Plugin optimizer for device_type GPU is enabled.\n"
     ]
    },
    {
     "name": "stdout",
     "output_type": "stream",
     "text": [
      "280/280 [==============================] - 59s 208ms/step - loss: 0.0168 - accuracy: 0.8797 - precision: 0.9178 - recall: 0.9158 - auc: 0.9419 - val_loss: 0.0090 - val_accuracy: 0.9076 - val_precision: 0.9472 - val_recall: 0.9111 - val_auc: 0.9669\n",
      "Epoch 2/10\n",
      "280/280 [==============================] - 57s 203ms/step - loss: 0.0077 - accuracy: 0.9056 - precision: 0.9356 - recall: 0.9367 - auc: 0.9651 - val_loss: 0.0080 - val_accuracy: 0.9186 - val_precision: 0.9427 - val_recall: 0.9337 - val_auc: 0.9710\n",
      "Epoch 3/10\n",
      "280/280 [==============================] - 57s 203ms/step - loss: 0.0071 - accuracy: 0.9116 - precision: 0.9386 - recall: 0.9420 - auc: 0.9696 - val_loss: 0.0079 - val_accuracy: 0.9151 - val_precision: 0.9198 - val_recall: 0.9549 - val_auc: 0.9722\n",
      "Epoch 4/10\n",
      "280/280 [==============================] - 57s 204ms/step - loss: 0.0065 - accuracy: 0.9186 - precision: 0.9435 - recall: 0.9466 - auc: 0.9735 - val_loss: 0.0090 - val_accuracy: 0.9125 - val_precision: 0.9062 - val_recall: 0.9679 - val_auc: 0.9734\n",
      "Epoch 5/10\n",
      "280/280 [==============================] - 57s 204ms/step - loss: 0.0064 - accuracy: 0.9196 - precision: 0.9446 - recall: 0.9468 - auc: 0.9748 - val_loss: 0.0074 - val_accuracy: 0.9209 - val_precision: 0.9274 - val_recall: 0.9552 - val_auc: 0.9756\n",
      "Epoch 6/10\n",
      "280/280 [==============================] - 57s 204ms/step - loss: 0.0060 - accuracy: 0.9254 - precision: 0.9488 - recall: 0.9503 - auc: 0.9775 - val_loss: 0.0074 - val_accuracy: 0.9228 - val_precision: 0.9291 - val_recall: 0.9563 - val_auc: 0.9763\n",
      "Epoch 7/10\n",
      "280/280 [==============================] - 58s 207ms/step - loss: 0.0059 - accuracy: 0.9257 - precision: 0.9487 - recall: 0.9509 - auc: 0.9777 - val_loss: 0.0088 - val_accuracy: 0.9195 - val_precision: 0.9187 - val_recall: 0.9637 - val_auc: 0.9722\n",
      "Epoch 8/10\n",
      "280/280 [==============================] - 57s 203ms/step - loss: 0.0059 - accuracy: 0.9256 - precision: 0.9484 - recall: 0.9510 - auc: 0.9781 - val_loss: 0.0082 - val_accuracy: 0.9167 - val_precision: 0.9579 - val_recall: 0.9143 - val_auc: 0.9723\n",
      "Epoch 9/10\n",
      "280/280 [==============================] - 57s 204ms/step - loss: 0.0056 - accuracy: 0.9313 - precision: 0.9528 - recall: 0.9543 - auc: 0.9801 - val_loss: 0.0081 - val_accuracy: 0.9169 - val_precision: 0.9641 - val_recall: 0.9083 - val_auc: 0.9743\n",
      "Epoch 10/10\n",
      "280/280 [==============================] - 57s 204ms/step - loss: 0.0060 - accuracy: 0.9261 - precision: 0.9489 - recall: 0.9512 - auc: 0.9777 - val_loss: 0.0091 - val_accuracy: 0.9193 - val_precision: 0.9112 - val_recall: 0.9728 - val_auc: 0.9772\n",
      "INFO:tensorflow:Assets written to: /Users/litto/WORKSPACE/MegaClassifier/models/MegaClassifier_a_MobileNetV2/v3/v3.2.14/assets\n"
     ]
    },
    {
     "name": "stderr",
     "output_type": "stream",
     "text": [
      "INFO:tensorflow:Assets written to: /Users/litto/WORKSPACE/MegaClassifier/models/MegaClassifier_a_MobileNetV2/v3/v3.2.14/assets\n"
     ]
    },
    {
     "name": "stdout",
     "output_type": "stream",
     "text": [
      "67/67 [==============================] - 12s 169ms/step - loss: 0.0089 - accuracy: 0.9195 - precision: 0.9085 - recall: 0.9767 - auc: 0.9784\n"
     ]
    },
    {
     "name": "stderr",
     "output_type": "stream",
     "text": [
      "2025-03-01 20:41:14.177708: I tensorflow/core/grappler/optimizers/custom_graph_optimizer_registry.cc:114] Plugin optimizer for device_type GPU is enabled.\n"
     ]
    },
    {
     "name": "stdout",
     "output_type": "stream",
     "text": [
      "67/67 [==============================] - 11s 161ms/step\n",
      "\n",
      "\n",
      "\n",
      "Found 17906 validated image filenames belonging to 2 classes.\n",
      "Found 4286 validated image filenames belonging to 2 classes.\n",
      "Found 4286 validated image filenames belonging to 2 classes.\n",
      "Epoch 1/10\n"
     ]
    },
    {
     "name": "stderr",
     "output_type": "stream",
     "text": [
      "2025-03-01 20:41:27.053019: I tensorflow/core/grappler/optimizers/custom_graph_optimizer_registry.cc:114] Plugin optimizer for device_type GPU is enabled.\n"
     ]
    },
    {
     "name": "stdout",
     "output_type": "stream",
     "text": [
      "280/280 [==============================] - ETA: 0s - loss: 0.1422 - accuracy: 0.8929 - precision: 0.9173 - recall: 0.9365 - auc: 0.9440"
     ]
    },
    {
     "name": "stderr",
     "output_type": "stream",
     "text": [
      "2025-03-01 20:42:14.299575: I tensorflow/core/grappler/optimizers/custom_graph_optimizer_registry.cc:114] Plugin optimizer for device_type GPU is enabled.\n"
     ]
    },
    {
     "name": "stdout",
     "output_type": "stream",
     "text": [
      "280/280 [==============================] - 59s 208ms/step - loss: 0.1422 - accuracy: 0.8929 - precision: 0.9173 - recall: 0.9365 - auc: 0.9440 - val_loss: 0.1088 - val_accuracy: 0.9130 - val_precision: 0.9044 - val_recall: 0.9711 - val_auc: 0.9747\n",
      "Epoch 2/10\n",
      "280/280 [==============================] - 58s 206ms/step - loss: 0.0971 - accuracy: 0.9182 - precision: 0.9425 - recall: 0.9472 - auc: 0.9712 - val_loss: 0.1004 - val_accuracy: 0.9202 - val_precision: 0.9148 - val_recall: 0.9697 - val_auc: 0.9772\n",
      "Epoch 3/10\n",
      "280/280 [==============================] - 57s 205ms/step - loss: 0.0915 - accuracy: 0.9237 - precision: 0.9470 - recall: 0.9500 - auc: 0.9745 - val_loss: 0.0919 - val_accuracy: 0.9286 - val_precision: 0.9303 - val_recall: 0.9644 - val_auc: 0.9792\n",
      "Epoch 4/10\n",
      "280/280 [==============================] - 58s 206ms/step - loss: 0.0868 - accuracy: 0.9292 - precision: 0.9509 - recall: 0.9535 - auc: 0.9771 - val_loss: 0.0884 - val_accuracy: 0.9279 - val_precision: 0.9407 - val_recall: 0.9510 - val_auc: 0.9798\n",
      "Epoch 5/10\n",
      "280/280 [==============================] - 59s 210ms/step - loss: 0.0843 - accuracy: 0.9301 - precision: 0.9522 - recall: 0.9532 - auc: 0.9784 - val_loss: 0.0896 - val_accuracy: 0.9288 - val_precision: 0.9480 - val_recall: 0.9443 - val_auc: 0.9792\n",
      "Epoch 6/10\n",
      "280/280 [==============================] - 58s 205ms/step - loss: 0.0823 - accuracy: 0.9329 - precision: 0.9535 - recall: 0.9558 - auc: 0.9795 - val_loss: 0.0925 - val_accuracy: 0.9270 - val_precision: 0.9674 - val_recall: 0.9207 - val_auc: 0.9801\n",
      "Epoch 7/10\n",
      "280/280 [==============================] - 57s 204ms/step - loss: 0.0797 - accuracy: 0.9358 - precision: 0.9570 - recall: 0.9560 - auc: 0.9808 - val_loss: 0.0895 - val_accuracy: 0.9295 - val_precision: 0.9436 - val_recall: 0.9503 - val_auc: 0.9788\n",
      "Epoch 8/10\n",
      "280/280 [==============================] - 57s 204ms/step - loss: 0.0788 - accuracy: 0.9353 - precision: 0.9554 - recall: 0.9571 - auc: 0.9812 - val_loss: 0.0897 - val_accuracy: 0.9284 - val_precision: 0.9587 - val_recall: 0.9319 - val_auc: 0.9793\n",
      "Epoch 9/10\n",
      "280/280 [==============================] - 57s 204ms/step - loss: 0.0780 - accuracy: 0.9353 - precision: 0.9558 - recall: 0.9568 - auc: 0.9816 - val_loss: 0.0888 - val_accuracy: 0.9302 - val_precision: 0.9452 - val_recall: 0.9496 - val_auc: 0.9800\n",
      "Epoch 10/10\n",
      "280/280 [==============================] - 57s 204ms/step - loss: 0.0766 - accuracy: 0.9369 - precision: 0.9563 - recall: 0.9584 - auc: 0.9823 - val_loss: 0.0882 - val_accuracy: 0.9291 - val_precision: 0.9502 - val_recall: 0.9422 - val_auc: 0.9804\n",
      "INFO:tensorflow:Assets written to: /Users/litto/WORKSPACE/MegaClassifier/models/MegaClassifier_a_MobileNetV2/v3/v3.3.15/assets\n"
     ]
    },
    {
     "name": "stderr",
     "output_type": "stream",
     "text": [
      "INFO:tensorflow:Assets written to: /Users/litto/WORKSPACE/MegaClassifier/models/MegaClassifier_a_MobileNetV2/v3/v3.3.15/assets\n"
     ]
    },
    {
     "name": "stdout",
     "output_type": "stream",
     "text": [
      "67/67 [==============================] - 12s 168ms/step - loss: 0.0806 - accuracy: 0.9337 - precision: 0.9518 - recall: 0.9478 - auc: 0.9830\n"
     ]
    },
    {
     "name": "stderr",
     "output_type": "stream",
     "text": [
      "2025-03-01 20:51:21.523329: I tensorflow/core/grappler/optimizers/custom_graph_optimizer_registry.cc:114] Plugin optimizer for device_type GPU is enabled.\n"
     ]
    },
    {
     "name": "stdout",
     "output_type": "stream",
     "text": [
      "67/67 [==============================] - 11s 162ms/step\n",
      "Found 17906 validated image filenames belonging to 2 classes.\n",
      "Found 4286 validated image filenames belonging to 2 classes.\n",
      "Found 4286 validated image filenames belonging to 2 classes.\n",
      "Epoch 1/10\n"
     ]
    },
    {
     "name": "stderr",
     "output_type": "stream",
     "text": [
      "2025-03-01 20:51:34.473635: I tensorflow/core/grappler/optimizers/custom_graph_optimizer_registry.cc:114] Plugin optimizer for device_type GPU is enabled.\n"
     ]
    },
    {
     "name": "stdout",
     "output_type": "stream",
     "text": [
      "280/280 [==============================] - ETA: 0s - loss: 0.0753 - accuracy: 0.8960 - precision: 0.9264 - recall: 0.9302 - auc: 0.9552"
     ]
    },
    {
     "name": "stderr",
     "output_type": "stream",
     "text": [
      "2025-03-01 20:52:22.155121: I tensorflow/core/grappler/optimizers/custom_graph_optimizer_registry.cc:114] Plugin optimizer for device_type GPU is enabled.\n"
     ]
    },
    {
     "name": "stdout",
     "output_type": "stream",
     "text": [
      "280/280 [==============================] - 60s 209ms/step - loss: 0.0753 - accuracy: 0.8960 - precision: 0.9264 - recall: 0.9302 - auc: 0.9552 - val_loss: 0.0521 - val_accuracy: 0.9223 - val_precision: 0.9487 - val_recall: 0.9330 - val_auc: 0.9748\n",
      "Epoch 2/10\n",
      "280/280 [==============================] - 57s 205ms/step - loss: 0.0505 - accuracy: 0.9179 - precision: 0.9435 - recall: 0.9455 - auc: 0.9712 - val_loss: 0.0503 - val_accuracy: 0.9253 - val_precision: 0.9299 - val_recall: 0.9594 - val_auc: 0.9770\n",
      "Epoch 3/10\n",
      "280/280 [==============================] - 57s 204ms/step - loss: 0.0464 - accuracy: 0.9267 - precision: 0.9490 - recall: 0.9520 - auc: 0.9757 - val_loss: 0.0485 - val_accuracy: 0.9277 - val_precision: 0.9404 - val_recall: 0.9510 - val_auc: 0.9783\n",
      "Epoch 4/10\n",
      "280/280 [==============================] - 57s 204ms/step - loss: 0.0450 - accuracy: 0.9274 - precision: 0.9498 - recall: 0.9521 - auc: 0.9771 - val_loss: 0.0578 - val_accuracy: 0.9148 - val_precision: 0.9028 - val_recall: 0.9764 - val_auc: 0.9793\n",
      "Epoch 5/10\n",
      "280/280 [==============================] - 57s 204ms/step - loss: 0.0449 - accuracy: 0.9287 - precision: 0.9495 - recall: 0.9542 - auc: 0.9773 - val_loss: 0.0466 - val_accuracy: 0.9305 - val_precision: 0.9419 - val_recall: 0.9538 - val_auc: 0.9796\n",
      "Epoch 6/10\n",
      "280/280 [==============================] - 57s 204ms/step - loss: 0.0420 - accuracy: 0.9318 - precision: 0.9533 - recall: 0.9544 - auc: 0.9801 - val_loss: 0.0489 - val_accuracy: 0.9277 - val_precision: 0.9296 - val_recall: 0.9637 - val_auc: 0.9796\n",
      "Epoch 7/10\n",
      "280/280 [==============================] - 59s 210ms/step - loss: 0.0422 - accuracy: 0.9313 - precision: 0.9521 - recall: 0.9550 - auc: 0.9799 - val_loss: 0.0486 - val_accuracy: 0.9321 - val_precision: 0.9417 - val_recall: 0.9566 - val_auc: 0.9781\n",
      "Epoch 8/10\n",
      "280/280 [==============================] - 57s 204ms/step - loss: 0.0407 - accuracy: 0.9353 - precision: 0.9572 - recall: 0.9551 - auc: 0.9813 - val_loss: 0.0499 - val_accuracy: 0.9260 - val_precision: 0.9656 - val_recall: 0.9210 - val_auc: 0.9793\n",
      "Epoch 9/10\n",
      "280/280 [==============================] - 57s 204ms/step - loss: 0.0399 - accuracy: 0.9358 - precision: 0.9572 - recall: 0.9559 - auc: 0.9820 - val_loss: 0.0492 - val_accuracy: 0.9281 - val_precision: 0.9374 - val_recall: 0.9552 - val_auc: 0.9786\n",
      "Epoch 10/10\n",
      "280/280 [==============================] - 57s 203ms/step - loss: 0.0391 - accuracy: 0.9362 - precision: 0.9557 - recall: 0.9580 - auc: 0.9827 - val_loss: 0.0510 - val_accuracy: 0.9249 - val_precision: 0.9273 - val_recall: 0.9619 - val_auc: 0.9786\n",
      "INFO:tensorflow:Assets written to: /Users/litto/WORKSPACE/MegaClassifier/models/MegaClassifier_a_MobileNetV2/v3/v3.3.16/assets\n"
     ]
    },
    {
     "name": "stderr",
     "output_type": "stream",
     "text": [
      "INFO:tensorflow:Assets written to: /Users/litto/WORKSPACE/MegaClassifier/models/MegaClassifier_a_MobileNetV2/v3/v3.3.16/assets\n"
     ]
    },
    {
     "name": "stdout",
     "output_type": "stream",
     "text": [
      "67/67 [==============================] - 11s 167ms/step - loss: 0.0498 - accuracy: 0.9272 - precision: 0.9246 - recall: 0.9690 - auc: 0.9807\n"
     ]
    },
    {
     "name": "stderr",
     "output_type": "stream",
     "text": [
      "2025-03-01 21:01:27.446975: I tensorflow/core/grappler/optimizers/custom_graph_optimizer_registry.cc:114] Plugin optimizer for device_type GPU is enabled.\n"
     ]
    },
    {
     "name": "stdout",
     "output_type": "stream",
     "text": [
      "67/67 [==============================] - 11s 160ms/step\n",
      "Found 17906 validated image filenames belonging to 2 classes.\n",
      "Found 4286 validated image filenames belonging to 2 classes.\n",
      "Found 4286 validated image filenames belonging to 2 classes.\n",
      "Epoch 1/10\n"
     ]
    },
    {
     "name": "stderr",
     "output_type": "stream",
     "text": [
      "2025-03-01 21:01:40.160750: I tensorflow/core/grappler/optimizers/custom_graph_optimizer_registry.cc:114] Plugin optimizer for device_type GPU is enabled.\n"
     ]
    },
    {
     "name": "stdout",
     "output_type": "stream",
     "text": [
      "280/280 [==============================] - ETA: 0s - loss: 0.0457 - accuracy: 0.8909 - precision: 0.9205 - recall: 0.9295 - auc: 0.9485"
     ]
    },
    {
     "name": "stderr",
     "output_type": "stream",
     "text": [
      "2025-03-01 21:02:28.123176: I tensorflow/core/grappler/optimizers/custom_graph_optimizer_registry.cc:114] Plugin optimizer for device_type GPU is enabled.\n"
     ]
    },
    {
     "name": "stdout",
     "output_type": "stream",
     "text": [
      "280/280 [==============================] - 60s 211ms/step - loss: 0.0457 - accuracy: 0.8909 - precision: 0.9205 - recall: 0.9295 - auc: 0.9485 - val_loss: 0.0311 - val_accuracy: 0.9081 - val_precision: 0.8995 - val_recall: 0.9693 - val_auc: 0.9732\n",
      "Epoch 2/10\n",
      "280/280 [==============================] - 57s 204ms/step - loss: 0.0276 - accuracy: 0.9147 - precision: 0.9422 - recall: 0.9424 - auc: 0.9683 - val_loss: 0.0257 - val_accuracy: 0.9242 - val_precision: 0.9486 - val_recall: 0.9362 - val_auc: 0.9765\n",
      "Epoch 3/10\n",
      "280/280 [==============================] - 57s 205ms/step - loss: 0.0255 - accuracy: 0.9213 - precision: 0.9456 - recall: 0.9480 - auc: 0.9727 - val_loss: 0.0257 - val_accuracy: 0.9235 - val_precision: 0.9530 - val_recall: 0.9302 - val_auc: 0.9771\n",
      "Epoch 4/10\n",
      "280/280 [==============================] - 57s 204ms/step - loss: 0.0240 - accuracy: 0.9238 - precision: 0.9473 - recall: 0.9497 - auc: 0.9755 - val_loss: 0.0249 - val_accuracy: 0.9258 - val_precision: 0.9390 - val_recall: 0.9496 - val_auc: 0.9788\n",
      "Epoch 5/10\n",
      "280/280 [==============================] - 57s 203ms/step - loss: 0.0230 - accuracy: 0.9271 - precision: 0.9496 - recall: 0.9519 - auc: 0.9776 - val_loss: 0.0251 - val_accuracy: 0.9256 - val_precision: 0.9509 - val_recall: 0.9358 - val_auc: 0.9791\n",
      "Epoch 6/10\n",
      "280/280 [==============================] - 58s 207ms/step - loss: 0.0225 - accuracy: 0.9304 - precision: 0.9526 - recall: 0.9532 - auc: 0.9786 - val_loss: 0.0258 - val_accuracy: 0.9265 - val_precision: 0.9437 - val_recall: 0.9453 - val_auc: 0.9764\n",
      "Epoch 7/10\n",
      "280/280 [==============================] - 57s 205ms/step - loss: 0.0216 - accuracy: 0.9319 - precision: 0.9536 - recall: 0.9542 - auc: 0.9800 - val_loss: 0.0265 - val_accuracy: 0.9274 - val_precision: 0.9334 - val_recall: 0.9587 - val_auc: 0.9779\n",
      "Epoch 8/10\n",
      "280/280 [==============================] - 57s 204ms/step - loss: 0.0213 - accuracy: 0.9326 - precision: 0.9554 - recall: 0.9534 - auc: 0.9808 - val_loss: 0.0281 - val_accuracy: 0.9265 - val_precision: 0.9339 - val_recall: 0.9566 - val_auc: 0.9749\n",
      "Epoch 9/10\n",
      "280/280 [==============================] - 57s 204ms/step - loss: 0.0218 - accuracy: 0.9314 - precision: 0.9528 - recall: 0.9543 - auc: 0.9798 - val_loss: 0.0252 - val_accuracy: 0.9312 - val_precision: 0.9422 - val_recall: 0.9545 - val_auc: 0.9785\n",
      "Epoch 10/10\n",
      "280/280 [==============================] - 57s 203ms/step - loss: 0.0211 - accuracy: 0.9329 - precision: 0.9549 - recall: 0.9543 - auc: 0.9810 - val_loss: 0.0296 - val_accuracy: 0.9258 - val_precision: 0.9231 - val_recall: 0.9686 - val_auc: 0.9774\n",
      "INFO:tensorflow:Assets written to: /Users/litto/WORKSPACE/MegaClassifier/models/MegaClassifier_a_MobileNetV2/v3/v3.3.17/assets\n"
     ]
    },
    {
     "name": "stderr",
     "output_type": "stream",
     "text": [
      "INFO:tensorflow:Assets written to: /Users/litto/WORKSPACE/MegaClassifier/models/MegaClassifier_a_MobileNetV2/v3/v3.3.17/assets\n"
     ]
    },
    {
     "name": "stdout",
     "output_type": "stream",
     "text": [
      "67/67 [==============================] - 12s 169ms/step - loss: 0.0290 - accuracy: 0.9251 - precision: 0.9201 - recall: 0.9711 - auc: 0.9793\n"
     ]
    },
    {
     "name": "stderr",
     "output_type": "stream",
     "text": [
      "2025-03-01 21:11:32.488395: I tensorflow/core/grappler/optimizers/custom_graph_optimizer_registry.cc:114] Plugin optimizer for device_type GPU is enabled.\n"
     ]
    },
    {
     "name": "stdout",
     "output_type": "stream",
     "text": [
      "67/67 [==============================] - 11s 164ms/step\n",
      "Found 17906 validated image filenames belonging to 2 classes.\n",
      "Found 4286 validated image filenames belonging to 2 classes.\n",
      "Found 4286 validated image filenames belonging to 2 classes.\n",
      "Epoch 1/10\n"
     ]
    },
    {
     "name": "stderr",
     "output_type": "stream",
     "text": [
      "2025-03-01 21:11:45.906158: I tensorflow/core/grappler/optimizers/custom_graph_optimizer_registry.cc:114] Plugin optimizer for device_type GPU is enabled.\n"
     ]
    },
    {
     "name": "stdout",
     "output_type": "stream",
     "text": [
      "280/280 [==============================] - ETA: 0s - loss: 0.0272 - accuracy: 0.8857 - precision: 0.9160 - recall: 0.9272 - auc: 0.9452"
     ]
    },
    {
     "name": "stderr",
     "output_type": "stream",
     "text": [
      "2025-03-01 21:12:33.644592: I tensorflow/core/grappler/optimizers/custom_graph_optimizer_registry.cc:114] Plugin optimizer for device_type GPU is enabled.\n"
     ]
    },
    {
     "name": "stdout",
     "output_type": "stream",
     "text": [
      "280/280 [==============================] - 61s 210ms/step - loss: 0.0272 - accuracy: 0.8857 - precision: 0.9160 - recall: 0.9272 - auc: 0.9452 - val_loss: 0.0215 - val_accuracy: 0.8826 - val_precision: 0.9771 - val_recall: 0.8424 - val_auc: 0.9701\n",
      "Epoch 2/10\n",
      "280/280 [==============================] - 59s 209ms/step - loss: 0.0147 - accuracy: 0.9093 - precision: 0.9373 - recall: 0.9401 - auc: 0.9668 - val_loss: 0.0169 - val_accuracy: 0.9055 - val_precision: 0.9652 - val_recall: 0.8893 - val_auc: 0.9709\n",
      "Epoch 3/10\n",
      "280/280 [==============================] - 58s 205ms/step - loss: 0.0129 - accuracy: 0.9195 - precision: 0.9441 - recall: 0.9471 - auc: 0.9731 - val_loss: 0.0141 - val_accuracy: 0.9207 - val_precision: 0.9373 - val_recall: 0.9432 - val_auc: 0.9751\n",
      "Epoch 4/10\n",
      "280/280 [==============================] - 57s 204ms/step - loss: 0.0124 - accuracy: 0.9223 - precision: 0.9469 - recall: 0.9480 - auc: 0.9751 - val_loss: 0.0161 - val_accuracy: 0.9141 - val_precision: 0.9664 - val_recall: 0.9016 - val_auc: 0.9753\n",
      "Epoch 5/10\n",
      "280/280 [==============================] - 57s 204ms/step - loss: 0.0118 - accuracy: 0.9267 - precision: 0.9506 - recall: 0.9503 - auc: 0.9772 - val_loss: 0.0141 - val_accuracy: 0.9260 - val_precision: 0.9327 - val_recall: 0.9573 - val_auc: 0.9769\n",
      "Epoch 6/10\n",
      "280/280 [==============================] - 57s 203ms/step - loss: 0.0119 - accuracy: 0.9249 - precision: 0.9485 - recall: 0.9500 - auc: 0.9771 - val_loss: 0.0141 - val_accuracy: 0.9239 - val_precision: 0.9501 - val_recall: 0.9341 - val_auc: 0.9747\n",
      "Epoch 7/10\n",
      "280/280 [==============================] - 57s 203ms/step - loss: 0.0115 - accuracy: 0.9277 - precision: 0.9517 - recall: 0.9503 - auc: 0.9787 - val_loss: 0.0136 - val_accuracy: 0.9272 - val_precision: 0.9444 - val_recall: 0.9457 - val_auc: 0.9760\n",
      "Epoch 8/10\n",
      "280/280 [==============================] - 57s 204ms/step - loss: 0.0109 - accuracy: 0.9324 - precision: 0.9543 - recall: 0.9543 - auc: 0.9804 - val_loss: 0.0137 - val_accuracy: 0.9267 - val_precision: 0.9465 - val_recall: 0.9425 - val_auc: 0.9768\n",
      "Epoch 9/10\n",
      "280/280 [==============================] - 57s 204ms/step - loss: 0.0107 - accuracy: 0.9300 - precision: 0.9532 - recall: 0.9520 - auc: 0.9809 - val_loss: 0.0153 - val_accuracy: 0.9172 - val_precision: 0.9173 - val_recall: 0.9616 - val_auc: 0.9765\n",
      "Epoch 10/10\n",
      "280/280 [==============================] - 57s 204ms/step - loss: 0.0109 - accuracy: 0.9334 - precision: 0.9545 - recall: 0.9554 - auc: 0.9806 - val_loss: 0.0136 - val_accuracy: 0.9251 - val_precision: 0.9502 - val_recall: 0.9358 - val_auc: 0.9779\n",
      "INFO:tensorflow:Assets written to: /Users/litto/WORKSPACE/MegaClassifier/models/MegaClassifier_a_MobileNetV2/v3/v3.3.18/assets\n"
     ]
    },
    {
     "name": "stderr",
     "output_type": "stream",
     "text": [
      "INFO:tensorflow:Assets written to: /Users/litto/WORKSPACE/MegaClassifier/models/MegaClassifier_a_MobileNetV2/v3/v3.3.18/assets\n"
     ]
    },
    {
     "name": "stdout",
     "output_type": "stream",
     "text": [
      "67/67 [==============================] - 12s 169ms/step - loss: 0.0132 - accuracy: 0.9298 - precision: 0.9452 - recall: 0.9489 - auc: 0.9792\n"
     ]
    },
    {
     "name": "stderr",
     "output_type": "stream",
     "text": [
      "2025-03-01 21:21:38.457916: I tensorflow/core/grappler/optimizers/custom_graph_optimizer_registry.cc:114] Plugin optimizer for device_type GPU is enabled.\n"
     ]
    },
    {
     "name": "stdout",
     "output_type": "stream",
     "text": [
      "67/67 [==============================] - 11s 161ms/step\n",
      "Found 17906 validated image filenames belonging to 2 classes.\n",
      "Found 4286 validated image filenames belonging to 2 classes.\n",
      "Found 4286 validated image filenames belonging to 2 classes.\n",
      "Epoch 1/10\n"
     ]
    },
    {
     "name": "stderr",
     "output_type": "stream",
     "text": [
      "2025-03-01 21:21:51.730411: I tensorflow/core/grappler/optimizers/custom_graph_optimizer_registry.cc:114] Plugin optimizer for device_type GPU is enabled.\n"
     ]
    },
    {
     "name": "stdout",
     "output_type": "stream",
     "text": [
      "280/280 [==============================] - ETA: 0s - loss: 0.0195 - accuracy: 0.8794 - precision: 0.9179 - recall: 0.9153 - auc: 0.9396"
     ]
    },
    {
     "name": "stderr",
     "output_type": "stream",
     "text": [
      "2025-03-01 21:22:39.145383: I tensorflow/core/grappler/optimizers/custom_graph_optimizer_registry.cc:114] Plugin optimizer for device_type GPU is enabled.\n"
     ]
    },
    {
     "name": "stdout",
     "output_type": "stream",
     "text": [
      "280/280 [==============================] - 60s 209ms/step - loss: 0.0195 - accuracy: 0.8794 - precision: 0.9179 - recall: 0.9153 - auc: 0.9396 - val_loss: 0.0121 - val_accuracy: 0.8819 - val_precision: 0.9645 - val_recall: 0.8530 - val_auc: 0.9568\n",
      "Epoch 2/10\n",
      "280/280 [==============================] - 58s 206ms/step - loss: 0.0087 - accuracy: 0.9021 - precision: 0.9320 - recall: 0.9358 - auc: 0.9605 - val_loss: 0.0085 - val_accuracy: 0.9111 - val_precision: 0.9606 - val_recall: 0.9027 - val_auc: 0.9676\n",
      "Epoch 3/10\n",
      "280/280 [==============================] - 58s 206ms/step - loss: 0.0075 - accuracy: 0.9082 - precision: 0.9370 - recall: 0.9389 - auc: 0.9673 - val_loss: 0.0136 - val_accuracy: 0.7744 - val_precision: 0.7518 - val_recall: 0.9838 - val_auc: 0.9699\n",
      "Epoch 4/10\n",
      "280/280 [==============================] - 58s 206ms/step - loss: 0.0070 - accuracy: 0.9132 - precision: 0.9386 - recall: 0.9442 - auc: 0.9707 - val_loss: 0.0074 - val_accuracy: 0.9237 - val_precision: 0.9376 - val_recall: 0.9478 - val_auc: 0.9736\n",
      "Epoch 5/10\n",
      "280/280 [==============================] - 59s 211ms/step - loss: 0.0066 - accuracy: 0.9212 - precision: 0.9441 - recall: 0.9496 - auc: 0.9733 - val_loss: 0.0080 - val_accuracy: 0.9179 - val_precision: 0.9652 - val_recall: 0.9087 - val_auc: 0.9732\n",
      "Epoch 6/10\n",
      "280/280 [==============================] - 57s 204ms/step - loss: 0.0062 - accuracy: 0.9225 - precision: 0.9473 - recall: 0.9479 - auc: 0.9757 - val_loss: 0.0078 - val_accuracy: 0.9211 - val_precision: 0.9398 - val_recall: 0.9411 - val_auc: 0.9680\n",
      "Epoch 7/10\n",
      "280/280 [==============================] - 57s 205ms/step - loss: 0.0058 - accuracy: 0.9258 - precision: 0.9485 - recall: 0.9513 - auc: 0.9781 - val_loss: 0.0072 - val_accuracy: 0.9291 - val_precision: 0.9408 - val_recall: 0.9528 - val_auc: 0.9757\n",
      "Epoch 8/10\n",
      "280/280 [==============================] - 57s 203ms/step - loss: 0.0058 - accuracy: 0.9282 - precision: 0.9502 - recall: 0.9528 - auc: 0.9789 - val_loss: 0.0078 - val_accuracy: 0.9235 - val_precision: 0.9251 - val_recall: 0.9623 - val_auc: 0.9753\n",
      "Epoch 9/10\n",
      "280/280 [==============================] - 57s 204ms/step - loss: 0.0057 - accuracy: 0.9289 - precision: 0.9515 - recall: 0.9522 - auc: 0.9794 - val_loss: 0.0074 - val_accuracy: 0.9251 - val_precision: 0.9493 - val_recall: 0.9369 - val_auc: 0.9752\n",
      "Epoch 10/10\n",
      "280/280 [==============================] - 57s 203ms/step - loss: 0.0057 - accuracy: 0.9291 - precision: 0.9499 - recall: 0.9543 - auc: 0.9793 - val_loss: 0.0081 - val_accuracy: 0.9176 - val_precision: 0.9634 - val_recall: 0.9101 - val_auc: 0.9752\n",
      "INFO:tensorflow:Assets written to: /Users/litto/WORKSPACE/MegaClassifier/models/MegaClassifier_a_MobileNetV2/v3/v3.3.19/assets\n"
     ]
    },
    {
     "name": "stderr",
     "output_type": "stream",
     "text": [
      "INFO:tensorflow:Assets written to: /Users/litto/WORKSPACE/MegaClassifier/models/MegaClassifier_a_MobileNetV2/v3/v3.3.19/assets\n"
     ]
    },
    {
     "name": "stdout",
     "output_type": "stream",
     "text": [
      "67/67 [==============================] - 12s 169ms/step - loss: 0.0073 - accuracy: 0.9223 - precision: 0.9613 - recall: 0.9196 - auc: 0.9785\n"
     ]
    },
    {
     "name": "stderr",
     "output_type": "stream",
     "text": [
      "2025-03-01 21:31:45.861621: I tensorflow/core/grappler/optimizers/custom_graph_optimizer_registry.cc:114] Plugin optimizer for device_type GPU is enabled.\n"
     ]
    },
    {
     "name": "stdout",
     "output_type": "stream",
     "text": [
      "67/67 [==============================] - 11s 162ms/step\n",
      "\n",
      "\n",
      "\n",
      "Found 17906 validated image filenames belonging to 2 classes.\n",
      "Found 4286 validated image filenames belonging to 2 classes.\n",
      "Found 4286 validated image filenames belonging to 2 classes.\n",
      "Epoch 1/10\n"
     ]
    },
    {
     "name": "stderr",
     "output_type": "stream",
     "text": [
      "2025-03-01 21:31:59.170570: I tensorflow/core/grappler/optimizers/custom_graph_optimizer_registry.cc:114] Plugin optimizer for device_type GPU is enabled.\n"
     ]
    },
    {
     "name": "stdout",
     "output_type": "stream",
     "text": [
      "280/280 [==============================] - ETA: 0s - loss: 0.1260 - accuracy: 0.9001 - precision: 0.9310 - recall: 0.9309 - auc: 0.9530"
     ]
    },
    {
     "name": "stderr",
     "output_type": "stream",
     "text": [
      "2025-03-01 21:32:46.973889: I tensorflow/core/grappler/optimizers/custom_graph_optimizer_registry.cc:114] Plugin optimizer for device_type GPU is enabled.\n"
     ]
    },
    {
     "name": "stdout",
     "output_type": "stream",
     "text": [
      "280/280 [==============================] - 61s 210ms/step - loss: 0.1260 - accuracy: 0.9001 - precision: 0.9310 - recall: 0.9309 - auc: 0.9530 - val_loss: 0.0987 - val_accuracy: 0.9202 - val_precision: 0.9375 - val_recall: 0.9422 - val_auc: 0.9750\n",
      "Epoch 2/10\n",
      "280/280 [==============================] - 57s 205ms/step - loss: 0.0961 - accuracy: 0.9195 - precision: 0.9437 - recall: 0.9475 - auc: 0.9717 - val_loss: 0.0954 - val_accuracy: 0.9260 - val_precision: 0.9532 - val_recall: 0.9341 - val_auc: 0.9765\n",
      "Epoch 3/10\n",
      "280/280 [==============================] - 57s 205ms/step - loss: 0.0891 - accuracy: 0.9268 - precision: 0.9504 - recall: 0.9506 - auc: 0.9758 - val_loss: 0.0931 - val_accuracy: 0.9272 - val_precision: 0.9352 - val_recall: 0.9563 - val_auc: 0.9785\n",
      "Epoch 4/10\n",
      "280/280 [==============================] - 57s 205ms/step - loss: 0.0842 - accuracy: 0.9315 - precision: 0.9532 - recall: 0.9541 - auc: 0.9786 - val_loss: 0.0918 - val_accuracy: 0.9277 - val_precision: 0.9573 - val_recall: 0.9323 - val_auc: 0.9786\n",
      "Epoch 5/10\n",
      "280/280 [==============================] - 58s 205ms/step - loss: 0.0831 - accuracy: 0.9302 - precision: 0.9524 - recall: 0.9531 - auc: 0.9790 - val_loss: 0.1010 - val_accuracy: 0.9197 - val_precision: 0.9123 - val_recall: 0.9721 - val_auc: 0.9796\n",
      "Epoch 6/10\n",
      "280/280 [==============================] - 57s 205ms/step - loss: 0.0807 - accuracy: 0.9352 - precision: 0.9560 - recall: 0.9563 - auc: 0.9803 - val_loss: 0.0910 - val_accuracy: 0.9281 - val_precision: 0.9326 - val_recall: 0.9609 - val_auc: 0.9795\n",
      "Epoch 7/10\n",
      "280/280 [==============================] - 58s 206ms/step - loss: 0.0783 - accuracy: 0.9367 - precision: 0.9567 - recall: 0.9577 - auc: 0.9815 - val_loss: 0.0896 - val_accuracy: 0.9300 - val_precision: 0.9542 - val_recall: 0.9394 - val_auc: 0.9795\n",
      "Epoch 8/10\n",
      "280/280 [==============================] - 57s 205ms/step - loss: 0.0778 - accuracy: 0.9368 - precision: 0.9579 - recall: 0.9565 - auc: 0.9817 - val_loss: 0.0887 - val_accuracy: 0.9300 - val_precision: 0.9477 - val_recall: 0.9464 - val_auc: 0.9798\n",
      "Epoch 9/10\n",
      "280/280 [==============================] - 57s 203ms/step - loss: 0.0767 - accuracy: 0.9367 - precision: 0.9565 - recall: 0.9579 - auc: 0.9823 - val_loss: 0.0906 - val_accuracy: 0.9298 - val_precision: 0.9558 - val_recall: 0.9372 - val_auc: 0.9790\n",
      "Epoch 10/10\n",
      "280/280 [==============================] - 57s 205ms/step - loss: 0.0768 - accuracy: 0.9369 - precision: 0.9566 - recall: 0.9581 - auc: 0.9821 - val_loss: 0.0972 - val_accuracy: 0.9235 - val_precision: 0.9222 - val_recall: 0.9658 - val_auc: 0.9792\n",
      "INFO:tensorflow:Assets written to: /Users/litto/WORKSPACE/MegaClassifier/models/MegaClassifier_a_MobileNetV2/v3/v3.4.20/assets\n"
     ]
    },
    {
     "name": "stderr",
     "output_type": "stream",
     "text": [
      "INFO:tensorflow:Assets written to: /Users/litto/WORKSPACE/MegaClassifier/models/MegaClassifier_a_MobileNetV2/v3/v3.4.20/assets\n"
     ]
    },
    {
     "name": "stdout",
     "output_type": "stream",
     "text": [
      "67/67 [==============================] - 12s 168ms/step - loss: 0.0912 - accuracy: 0.9286 - precision: 0.9234 - recall: 0.9728 - auc: 0.9821\n"
     ]
    },
    {
     "name": "stderr",
     "output_type": "stream",
     "text": [
      "2025-03-01 21:41:52.302955: I tensorflow/core/grappler/optimizers/custom_graph_optimizer_registry.cc:114] Plugin optimizer for device_type GPU is enabled.\n"
     ]
    },
    {
     "name": "stdout",
     "output_type": "stream",
     "text": [
      "67/67 [==============================] - 11s 162ms/step\n",
      "Found 17906 validated image filenames belonging to 2 classes.\n",
      "Found 4286 validated image filenames belonging to 2 classes.\n",
      "Found 4286 validated image filenames belonging to 2 classes.\n",
      "Epoch 1/10\n"
     ]
    },
    {
     "name": "stderr",
     "output_type": "stream",
     "text": [
      "2025-03-01 21:42:05.694388: I tensorflow/core/grappler/optimizers/custom_graph_optimizer_registry.cc:114] Plugin optimizer for device_type GPU is enabled.\n"
     ]
    },
    {
     "name": "stdout",
     "output_type": "stream",
     "text": [
      "280/280 [==============================] - ETA: 0s - loss: 0.0719 - accuracy: 0.8988 - precision: 0.9244 - recall: 0.9369 - auc: 0.9561"
     ]
    },
    {
     "name": "stderr",
     "output_type": "stream",
     "text": [
      "2025-03-01 21:42:54.016486: I tensorflow/core/grappler/optimizers/custom_graph_optimizer_registry.cc:114] Plugin optimizer for device_type GPU is enabled.\n"
     ]
    },
    {
     "name": "stdout",
     "output_type": "stream",
     "text": [
      "280/280 [==============================] - 61s 212ms/step - loss: 0.0719 - accuracy: 0.8988 - precision: 0.9244 - recall: 0.9369 - auc: 0.9561 - val_loss: 0.0542 - val_accuracy: 0.9162 - val_precision: 0.9538 - val_recall: 0.9178 - val_auc: 0.9718\n",
      "Epoch 2/10\n",
      "280/280 [==============================] - 59s 209ms/step - loss: 0.0508 - accuracy: 0.9194 - precision: 0.9444 - recall: 0.9466 - auc: 0.9713 - val_loss: 0.0479 - val_accuracy: 0.9263 - val_precision: 0.9471 - val_recall: 0.9411 - val_auc: 0.9779\n",
      "Epoch 3/10\n",
      "280/280 [==============================] - 57s 205ms/step - loss: 0.0462 - accuracy: 0.9263 - precision: 0.9500 - recall: 0.9503 - auc: 0.9761 - val_loss: 0.0483 - val_accuracy: 0.9281 - val_precision: 0.9492 - val_recall: 0.9418 - val_auc: 0.9778\n",
      "Epoch 4/10\n",
      "280/280 [==============================] - 57s 205ms/step - loss: 0.0445 - accuracy: 0.9294 - precision: 0.9505 - recall: 0.9540 - auc: 0.9778 - val_loss: 0.0476 - val_accuracy: 0.9265 - val_precision: 0.9549 - val_recall: 0.9330 - val_auc: 0.9792\n",
      "Epoch 5/10\n",
      "280/280 [==============================] - 57s 204ms/step - loss: 0.0433 - accuracy: 0.9326 - precision: 0.9546 - recall: 0.9542 - auc: 0.9789 - val_loss: 0.0470 - val_accuracy: 0.9293 - val_precision: 0.9506 - val_recall: 0.9422 - val_auc: 0.9797\n",
      "Epoch 6/10\n",
      "280/280 [==============================] - 57s 204ms/step - loss: 0.0424 - accuracy: 0.9318 - precision: 0.9531 - recall: 0.9546 - auc: 0.9797 - val_loss: 0.0510 - val_accuracy: 0.9263 - val_precision: 0.9271 - val_recall: 0.9644 - val_auc: 0.9783\n",
      "Epoch 7/10\n",
      "280/280 [==============================] - 58s 206ms/step - loss: 0.0412 - accuracy: 0.9342 - precision: 0.9548 - recall: 0.9562 - auc: 0.9809 - val_loss: 0.0493 - val_accuracy: 0.9267 - val_precision: 0.9292 - val_recall: 0.9626 - val_auc: 0.9788\n",
      "Epoch 8/10\n",
      "280/280 [==============================] - 58s 207ms/step - loss: 0.0406 - accuracy: 0.9359 - precision: 0.9559 - recall: 0.9574 - auc: 0.9815 - val_loss: 0.0471 - val_accuracy: 0.9277 - val_precision: 0.9501 - val_recall: 0.9401 - val_auc: 0.9797\n",
      "Epoch 9/10\n",
      "280/280 [==============================] - 58s 208ms/step - loss: 0.0399 - accuracy: 0.9354 - precision: 0.9551 - recall: 0.9577 - auc: 0.9821 - val_loss: 0.0510 - val_accuracy: 0.9288 - val_precision: 0.9303 - val_recall: 0.9647 - val_auc: 0.9789\n",
      "Epoch 10/10\n",
      "280/280 [==============================] - 57s 203ms/step - loss: 0.0396 - accuracy: 0.9360 - precision: 0.9560 - recall: 0.9574 - auc: 0.9823 - val_loss: 0.0512 - val_accuracy: 0.9258 - val_precision: 0.9608 - val_recall: 0.9256 - val_auc: 0.9773\n",
      "INFO:tensorflow:Assets written to: /Users/litto/WORKSPACE/MegaClassifier/models/MegaClassifier_a_MobileNetV2/v3/v3.4.21/assets\n"
     ]
    },
    {
     "name": "stderr",
     "output_type": "stream",
     "text": [
      "INFO:tensorflow:Assets written to: /Users/litto/WORKSPACE/MegaClassifier/models/MegaClassifier_a_MobileNetV2/v3/v3.4.21/assets\n"
     ]
    },
    {
     "name": "stdout",
     "output_type": "stream",
     "text": [
      "67/67 [==============================] - 11s 167ms/step - loss: 0.0475 - accuracy: 0.9281 - precision: 0.9606 - recall: 0.9295 - auc: 0.9804\n"
     ]
    },
    {
     "name": "stderr",
     "output_type": "stream",
     "text": [
      "2025-03-01 21:52:02.484341: I tensorflow/core/grappler/optimizers/custom_graph_optimizer_registry.cc:114] Plugin optimizer for device_type GPU is enabled.\n"
     ]
    },
    {
     "name": "stdout",
     "output_type": "stream",
     "text": [
      "67/67 [==============================] - 11s 162ms/step\n",
      "Found 17906 validated image filenames belonging to 2 classes.\n",
      "Found 4286 validated image filenames belonging to 2 classes.\n",
      "Found 4286 validated image filenames belonging to 2 classes.\n",
      "Epoch 1/10\n"
     ]
    },
    {
     "name": "stderr",
     "output_type": "stream",
     "text": [
      "2025-03-01 21:52:15.835466: I tensorflow/core/grappler/optimizers/custom_graph_optimizer_registry.cc:114] Plugin optimizer for device_type GPU is enabled.\n"
     ]
    },
    {
     "name": "stdout",
     "output_type": "stream",
     "text": [
      "280/280 [==============================] - ETA: 0s - loss: 0.0428 - accuracy: 0.8959 - precision: 0.9309 - recall: 0.9249 - auc: 0.9540"
     ]
    },
    {
     "name": "stderr",
     "output_type": "stream",
     "text": [
      "2025-03-01 21:53:03.075280: I tensorflow/core/grappler/optimizers/custom_graph_optimizer_registry.cc:114] Plugin optimizer for device_type GPU is enabled.\n"
     ]
    },
    {
     "name": "stdout",
     "output_type": "stream",
     "text": [
      "280/280 [==============================] - 60s 208ms/step - loss: 0.0428 - accuracy: 0.8959 - precision: 0.9309 - recall: 0.9249 - auc: 0.9540 - val_loss: 0.0307 - val_accuracy: 0.9053 - val_precision: 0.8991 - val_recall: 0.9651 - val_auc: 0.9724\n",
      "Epoch 2/10\n",
      "280/280 [==============================] - 57s 204ms/step - loss: 0.0269 - accuracy: 0.9148 - precision: 0.9421 - recall: 0.9426 - auc: 0.9698 - val_loss: 0.0260 - val_accuracy: 0.9249 - val_precision: 0.9476 - val_recall: 0.9383 - val_auc: 0.9766\n",
      "Epoch 3/10\n",
      "280/280 [==============================] - 58s 205ms/step - loss: 0.0245 - accuracy: 0.9246 - precision: 0.9482 - recall: 0.9498 - auc: 0.9749 - val_loss: 0.0272 - val_accuracy: 0.9256 - val_precision: 0.9300 - val_recall: 0.9598 - val_auc: 0.9762\n",
      "Epoch 4/10\n",
      "280/280 [==============================] - 57s 204ms/step - loss: 0.0238 - accuracy: 0.9257 - precision: 0.9484 - recall: 0.9511 - auc: 0.9762 - val_loss: 0.0252 - val_accuracy: 0.9251 - val_precision: 0.9335 - val_recall: 0.9549 - val_auc: 0.9784\n",
      "Epoch 5/10\n",
      "280/280 [==============================] - 57s 204ms/step - loss: 0.0230 - accuracy: 0.9275 - precision: 0.9522 - recall: 0.9495 - auc: 0.9776 - val_loss: 0.0275 - val_accuracy: 0.9242 - val_precision: 0.9322 - val_recall: 0.9549 - val_auc: 0.9756\n",
      "Epoch 6/10\n",
      "280/280 [==============================] - 57s 204ms/step - loss: 0.0222 - accuracy: 0.9294 - precision: 0.9520 - recall: 0.9525 - auc: 0.9790 - val_loss: 0.0262 - val_accuracy: 0.9221 - val_precision: 0.9417 - val_recall: 0.9404 - val_auc: 0.9764\n",
      "Epoch 7/10\n",
      "280/280 [==============================] - 57s 204ms/step - loss: 0.0213 - accuracy: 0.9306 - precision: 0.9531 - recall: 0.9529 - auc: 0.9805 - val_loss: 0.0280 - val_accuracy: 0.9179 - val_precision: 0.9662 - val_recall: 0.9076 - val_auc: 0.9770\n",
      "Epoch 8/10\n",
      "280/280 [==============================] - 57s 204ms/step - loss: 0.0210 - accuracy: 0.9334 - precision: 0.9558 - recall: 0.9539 - auc: 0.9811 - val_loss: 0.0263 - val_accuracy: 0.9246 - val_precision: 0.9383 - val_recall: 0.9485 - val_auc: 0.9773\n",
      "Epoch 9/10\n",
      "280/280 [==============================] - 57s 205ms/step - loss: 0.0214 - accuracy: 0.9336 - precision: 0.9544 - recall: 0.9558 - auc: 0.9805 - val_loss: 0.0264 - val_accuracy: 0.9253 - val_precision: 0.9335 - val_recall: 0.9552 - val_auc: 0.9774\n",
      "Epoch 10/10\n",
      "280/280 [==============================] - 57s 204ms/step - loss: 0.0211 - accuracy: 0.9334 - precision: 0.9552 - recall: 0.9547 - auc: 0.9811 - val_loss: 0.0276 - val_accuracy: 0.9286 - val_precision: 0.9323 - val_recall: 0.9619 - val_auc: 0.9776\n",
      "INFO:tensorflow:Assets written to: /Users/litto/WORKSPACE/MegaClassifier/models/MegaClassifier_a_MobileNetV2/v3/v3.4.22/assets\n"
     ]
    },
    {
     "name": "stderr",
     "output_type": "stream",
     "text": [
      "INFO:tensorflow:Assets written to: /Users/litto/WORKSPACE/MegaClassifier/models/MegaClassifier_a_MobileNetV2/v3/v3.4.22/assets\n"
     ]
    },
    {
     "name": "stdout",
     "output_type": "stream",
     "text": [
      "67/67 [==============================] - 11s 167ms/step - loss: 0.0263 - accuracy: 0.9277 - precision: 0.9308 - recall: 0.9623 - auc: 0.9794\n"
     ]
    },
    {
     "name": "stderr",
     "output_type": "stream",
     "text": [
      "2025-03-01 22:02:08.041747: I tensorflow/core/grappler/optimizers/custom_graph_optimizer_registry.cc:114] Plugin optimizer for device_type GPU is enabled.\n"
     ]
    },
    {
     "name": "stdout",
     "output_type": "stream",
     "text": [
      "67/67 [==============================] - 12s 163ms/step\n",
      "Found 17906 validated image filenames belonging to 2 classes.\n",
      "Found 4286 validated image filenames belonging to 2 classes.\n",
      "Found 4286 validated image filenames belonging to 2 classes.\n",
      "Epoch 1/10\n"
     ]
    },
    {
     "name": "stderr",
     "output_type": "stream",
     "text": [
      "2025-03-01 22:02:21.738016: I tensorflow/core/grappler/optimizers/custom_graph_optimizer_registry.cc:114] Plugin optimizer for device_type GPU is enabled.\n"
     ]
    },
    {
     "name": "stdout",
     "output_type": "stream",
     "text": [
      "280/280 [==============================] - ETA: 0s - loss: 0.0366 - accuracy: 0.8792 - precision: 0.9153 - recall: 0.9181 - auc: 0.9370"
     ]
    },
    {
     "name": "stderr",
     "output_type": "stream",
     "text": [
      "2025-03-01 22:03:09.206560: I tensorflow/core/grappler/optimizers/custom_graph_optimizer_registry.cc:114] Plugin optimizer for device_type GPU is enabled.\n"
     ]
    },
    {
     "name": "stdout",
     "output_type": "stream",
     "text": [
      "280/280 [==============================] - 60s 209ms/step - loss: 0.0366 - accuracy: 0.8792 - precision: 0.9153 - recall: 0.9181 - auc: 0.9370 - val_loss: 0.0175 - val_accuracy: 0.9102 - val_precision: 0.9181 - val_recall: 0.9489 - val_auc: 0.9641\n",
      "Epoch 2/10\n",
      "280/280 [==============================] - 57s 205ms/step - loss: 0.0154 - accuracy: 0.9061 - precision: 0.9357 - recall: 0.9373 - auc: 0.9634 - val_loss: 0.0161 - val_accuracy: 0.9160 - val_precision: 0.9194 - val_recall: 0.9570 - val_auc: 0.9702\n",
      "Epoch 3/10\n",
      "280/280 [==============================] - 58s 205ms/step - loss: 0.0136 - accuracy: 0.9160 - precision: 0.9421 - recall: 0.9444 - auc: 0.9701 - val_loss: 0.0145 - val_accuracy: 0.9207 - val_precision: 0.9460 - val_recall: 0.9334 - val_auc: 0.9717\n",
      "Epoch 4/10\n",
      "280/280 [==============================] - 57s 204ms/step - loss: 0.0127 - accuracy: 0.9208 - precision: 0.9456 - recall: 0.9472 - auc: 0.9737 - val_loss: 0.0141 - val_accuracy: 0.9197 - val_precision: 0.9564 - val_recall: 0.9207 - val_auc: 0.9745\n",
      "Epoch 5/10\n",
      "280/280 [==============================] - 57s 205ms/step - loss: 0.0121 - accuracy: 0.9234 - precision: 0.9477 - recall: 0.9487 - auc: 0.9759 - val_loss: 0.0141 - val_accuracy: 0.9188 - val_precision: 0.9338 - val_recall: 0.9443 - val_auc: 0.9745\n",
      "Epoch 6/10\n",
      "280/280 [==============================] - 58s 208ms/step - loss: 0.0119 - accuracy: 0.9261 - precision: 0.9483 - recall: 0.9519 - auc: 0.9767 - val_loss: 0.0136 - val_accuracy: 0.9221 - val_precision: 0.9523 - val_recall: 0.9288 - val_auc: 0.9761\n",
      "Epoch 7/10\n",
      "280/280 [==============================] - 58s 205ms/step - loss: 0.0117 - accuracy: 0.9249 - precision: 0.9486 - recall: 0.9499 - auc: 0.9775 - val_loss: 0.0148 - val_accuracy: 0.9237 - val_precision: 0.9228 - val_recall: 0.9654 - val_auc: 0.9767\n",
      "Epoch 8/10\n",
      "280/280 [==============================] - 57s 205ms/step - loss: 0.0112 - accuracy: 0.9282 - precision: 0.9509 - recall: 0.9519 - auc: 0.9793 - val_loss: 0.0137 - val_accuracy: 0.9281 - val_precision: 0.9479 - val_recall: 0.9432 - val_auc: 0.9758\n",
      "Epoch 9/10\n",
      "280/280 [==============================] - 57s 205ms/step - loss: 0.0114 - accuracy: 0.9276 - precision: 0.9512 - recall: 0.9508 - auc: 0.9788 - val_loss: 0.0174 - val_accuracy: 0.9181 - val_precision: 0.9202 - val_recall: 0.9594 - val_auc: 0.9699\n",
      "Epoch 10/10\n",
      "280/280 [==============================] - 57s 204ms/step - loss: 0.0108 - accuracy: 0.9333 - precision: 0.9541 - recall: 0.9556 - auc: 0.9811 - val_loss: 0.0144 - val_accuracy: 0.9246 - val_precision: 0.9544 - val_recall: 0.9305 - val_auc: 0.9731\n",
      "INFO:tensorflow:Assets written to: /Users/litto/WORKSPACE/MegaClassifier/models/MegaClassifier_a_MobileNetV2/v3/v3.4.23/assets\n"
     ]
    },
    {
     "name": "stderr",
     "output_type": "stream",
     "text": [
      "INFO:tensorflow:Assets written to: /Users/litto/WORKSPACE/MegaClassifier/models/MegaClassifier_a_MobileNetV2/v3/v3.4.23/assets\n"
     ]
    },
    {
     "name": "stdout",
     "output_type": "stream",
     "text": [
      "67/67 [==============================] - 12s 168ms/step - loss: 0.0138 - accuracy: 0.9265 - precision: 0.9520 - recall: 0.9362 - auc: 0.9759\n"
     ]
    },
    {
     "name": "stderr",
     "output_type": "stream",
     "text": [
      "2025-03-01 22:12:16.278436: I tensorflow/core/grappler/optimizers/custom_graph_optimizer_registry.cc:114] Plugin optimizer for device_type GPU is enabled.\n"
     ]
    },
    {
     "name": "stdout",
     "output_type": "stream",
     "text": [
      "67/67 [==============================] - 11s 162ms/step\n",
      "Found 17906 validated image filenames belonging to 2 classes.\n",
      "Found 4286 validated image filenames belonging to 2 classes.\n",
      "Found 4286 validated image filenames belonging to 2 classes.\n",
      "Epoch 1/10\n"
     ]
    },
    {
     "name": "stderr",
     "output_type": "stream",
     "text": [
      "2025-03-01 22:12:29.239927: I tensorflow/core/grappler/optimizers/custom_graph_optimizer_registry.cc:114] Plugin optimizer for device_type GPU is enabled.\n"
     ]
    },
    {
     "name": "stdout",
     "output_type": "stream",
     "text": [
      "280/280 [==============================] - ETA: 0s - loss: 0.0177 - accuracy: 0.8822 - precision: 0.9219 - recall: 0.9149 - auc: 0.9416"
     ]
    },
    {
     "name": "stderr",
     "output_type": "stream",
     "text": [
      "2025-03-01 22:13:17.234515: I tensorflow/core/grappler/optimizers/custom_graph_optimizer_registry.cc:114] Plugin optimizer for device_type GPU is enabled.\n"
     ]
    },
    {
     "name": "stdout",
     "output_type": "stream",
     "text": [
      "280/280 [==============================] - 60s 211ms/step - loss: 0.0177 - accuracy: 0.8822 - precision: 0.9219 - recall: 0.9149 - auc: 0.9416 - val_loss: 0.0116 - val_accuracy: 0.8957 - val_precision: 0.8854 - val_recall: 0.9676 - val_auc: 0.9658\n",
      "Epoch 2/10\n",
      "280/280 [==============================] - 58s 206ms/step - loss: 0.0087 - accuracy: 0.9017 - precision: 0.9327 - recall: 0.9344 - auc: 0.9604 - val_loss: 0.0084 - val_accuracy: 0.9127 - val_precision: 0.9563 - val_recall: 0.9097 - val_auc: 0.9704\n",
      "Epoch 3/10\n",
      "280/280 [==============================] - 57s 204ms/step - loss: 0.0073 - accuracy: 0.9120 - precision: 0.9396 - recall: 0.9415 - auc: 0.9684 - val_loss: 0.0077 - val_accuracy: 0.9176 - val_precision: 0.9271 - val_recall: 0.9503 - val_auc: 0.9737\n",
      "Epoch 4/10\n",
      "280/280 [==============================] - 57s 205ms/step - loss: 0.0067 - accuracy: 0.9194 - precision: 0.9443 - recall: 0.9468 - auc: 0.9729 - val_loss: 0.0074 - val_accuracy: 0.9172 - val_precision: 0.9606 - val_recall: 0.9122 - val_auc: 0.9761\n",
      "Epoch 5/10\n",
      "280/280 [==============================] - 57s 205ms/step - loss: 0.0065 - accuracy: 0.9221 - precision: 0.9458 - recall: 0.9490 - auc: 0.9742 - val_loss: 0.0084 - val_accuracy: 0.9165 - val_precision: 0.9672 - val_recall: 0.9044 - val_auc: 0.9712\n",
      "Epoch 6/10\n",
      "280/280 [==============================] - 57s 204ms/step - loss: 0.0063 - accuracy: 0.9238 - precision: 0.9486 - recall: 0.9483 - auc: 0.9758 - val_loss: 0.0084 - val_accuracy: 0.9190 - val_precision: 0.9125 - val_recall: 0.9707 - val_auc: 0.9765\n",
      "Epoch 7/10\n",
      "280/280 [==============================] - 57s 204ms/step - loss: 0.0059 - accuracy: 0.9267 - precision: 0.9505 - recall: 0.9503 - auc: 0.9779 - val_loss: 0.0070 - val_accuracy: 0.9237 - val_precision: 0.9472 - val_recall: 0.9369 - val_auc: 0.9771\n",
      "Epoch 8/10\n",
      "280/280 [==============================] - 57s 205ms/step - loss: 0.0059 - accuracy: 0.9287 - precision: 0.9520 - recall: 0.9515 - auc: 0.9782 - val_loss: 0.0077 - val_accuracy: 0.9279 - val_precision: 0.9293 - val_recall: 0.9644 - val_auc: 0.9767\n",
      "Epoch 9/10\n",
      "280/280 [==============================] - 58s 206ms/step - loss: 0.0058 - accuracy: 0.9287 - precision: 0.9501 - recall: 0.9537 - auc: 0.9792 - val_loss: 0.0090 - val_accuracy: 0.9097 - val_precision: 0.9763 - val_recall: 0.8850 - val_auc: 0.9731\n",
      "Epoch 10/10\n",
      "280/280 [==============================] - 57s 204ms/step - loss: 0.0057 - accuracy: 0.9289 - precision: 0.9512 - recall: 0.9525 - auc: 0.9793 - val_loss: 0.0072 - val_accuracy: 0.9235 - val_precision: 0.9459 - val_recall: 0.9379 - val_auc: 0.9768\n",
      "INFO:tensorflow:Assets written to: /Users/litto/WORKSPACE/MegaClassifier/models/MegaClassifier_a_MobileNetV2/v3/v3.4.24/assets\n"
     ]
    },
    {
     "name": "stderr",
     "output_type": "stream",
     "text": [
      "INFO:tensorflow:Assets written to: /Users/litto/WORKSPACE/MegaClassifier/models/MegaClassifier_a_MobileNetV2/v3/v3.4.24/assets\n"
     ]
    },
    {
     "name": "stdout",
     "output_type": "stream",
     "text": [
      "67/67 [==============================] - 12s 169ms/step - loss: 0.0070 - accuracy: 0.9260 - precision: 0.9458 - recall: 0.9422 - auc: 0.9782\n"
     ]
    },
    {
     "name": "stderr",
     "output_type": "stream",
     "text": [
      "2025-03-01 22:22:23.589926: I tensorflow/core/grappler/optimizers/custom_graph_optimizer_registry.cc:114] Plugin optimizer for device_type GPU is enabled.\n"
     ]
    },
    {
     "name": "stdout",
     "output_type": "stream",
     "text": [
      "67/67 [==============================] - 11s 161ms/step\n",
      "\n",
      "\n",
      "\n"
     ]
    }
   ],
   "source": [
    "SUBVERSION = 0\n",
    "SUB_SUBVERSION = 0\n",
    "\n",
    "for ALPHA in ALPHAS:\n",
    "    for GAMMA in GAMMAS:\n",
    "        LOGS_PATH = os.path.abspath(\n",
    "            f\"./logs/{MODEL_BASE_NAME}/v{VERSION}/v{VERSION}.{SUBVERSION}.{SUB_SUBVERSION}\"\n",
    "        )\n",
    "        MODELS_PATH = os.path.abspath(\n",
    "            f\"./models/{MODEL_BASE_NAME}/v{VERSION}/v{VERSION}.{SUBVERSION}.{SUB_SUBVERSION}\"\n",
    "        )\n",
    "        REPORTS_PATH = os.path.abspath(\n",
    "            f\"./reports/{MODEL_BASE_NAME}/v{VERSION}/v{VERSION}.{SUBVERSION}.{SUB_SUBVERSION}\"\n",
    "        )\n",
    "\n",
    "        MODEL_COMPLETE_NAME = (\n",
    "            f\"{MODEL_BASE_NAME} v{VERSION}.{SUBVERSION}.{SUB_SUBVERSION}\"\n",
    "        )\n",
    "\n",
    "        train_datagen = ImageDataGenerator(\n",
    "            preprocessing_function=tf.keras.applications.mobilenet_v2.preprocess_input,\n",
    "        )\n",
    "        train_images = train_datagen.flow_from_dataframe(\n",
    "            dataframe=train_dataset,\n",
    "            x_col=\"file_name\",\n",
    "            y_col=\"binary_label\",\n",
    "            target_size=IMAGE_SIZE,\n",
    "            batch_size=BATCH_SIZE,\n",
    "            class_mode=\"binary\",\n",
    "            shuffle=True,\n",
    "            seed=SEED,\n",
    "        )\n",
    "\n",
    "        datagen = ImageDataGenerator(\n",
    "            preprocessing_function=tf.keras.applications.mobilenet_v2.preprocess_input,\n",
    "        )\n",
    "        validation_images = datagen.flow_from_dataframe(\n",
    "            dataframe=validationtrain_dataset,\n",
    "            x_col=\"file_name\",\n",
    "            y_col=\"binary_label\",\n",
    "            target_size=IMAGE_SIZE,\n",
    "            batch_size=BATCH_SIZE,\n",
    "            class_mode=\"binary\",\n",
    "            shuffle=True,\n",
    "            seed=SEED,\n",
    "        )\n",
    "        test_images = datagen.flow_from_dataframe(\n",
    "            dataframe=test_dataset,\n",
    "            x_col=\"file_name\",\n",
    "            y_col=\"binary_label\",\n",
    "            target_size=IMAGE_SIZE,\n",
    "            batch_size=BATCH_SIZE,\n",
    "            class_mode=\"binary\",\n",
    "            shuffle=False,\n",
    "            seed=SEED,\n",
    "        )\n",
    "\n",
    "        pretrained_model = tf.keras.applications.MobileNetV2(\n",
    "            weights=\"imagenet\",\n",
    "            include_top=False,\n",
    "            input_shape=IMAGE_SHAPE,\n",
    "        )\n",
    "        pretrained_model.trainable = False\n",
    "\n",
    "        model = tf.keras.Sequential(\n",
    "            [\n",
    "                pretrained_model,\n",
    "                tf.keras.layers.GlobalAveragePooling2D(),\n",
    "                tf.keras.layers.Dense(1, activation=\"sigmoid\"),\n",
    "            ],\n",
    "            name=f\"{MODEL_BASE_NAME}_v{VERSION}.{SUBVERSION}.{SUB_SUBVERSION}\",\n",
    "        )\n",
    "\n",
    "        model.compile(\n",
    "            optimizer=OPTIMIZERS[\"Adam\"],\n",
    "            loss=LOSS[\"BinaryFocalCrossentropy\"](ALPHA, GAMMA),\n",
    "            metrics=METRICS,\n",
    "        )\n",
    "\n",
    "        history = model.fit(\n",
    "            train_images,\n",
    "            epochs=EPOCHS,\n",
    "            validation_data=validation_images,\n",
    "            callbacks=[TensorBoard(log_dir=LOGS_PATH)],\n",
    "        )\n",
    "\n",
    "        dataframe = pd.DataFrame(history.history)\n",
    "        history_path = os.path.join(\n",
    "            LOGS_PATH, f\"history_v{VERSION}.{SUBVERSION}.{SUB_SUBVERSION}.csv\"\n",
    "        )\n",
    "        dataframe.to_csv(history_path, sep=\";\", index=False)\n",
    "\n",
    "        os.makedirs(REPORTS_PATH, exist_ok=True)\n",
    "        accuracy_chart = graphics.create_training_accuracy_chart(\n",
    "            history_path=history_path,\n",
    "            model_name=MODEL_COMPLETE_NAME,\n",
    "        )\n",
    "        accuracy_chart.write_image(\n",
    "            f\"{REPORTS_PATH}/accuracy_v{VERSION}.{SUBVERSION}.{SUB_SUBVERSION}.png\"\n",
    "        )\n",
    "\n",
    "        loss_chart = graphics.create_training_loss_chart(\n",
    "            history_path=history_path,\n",
    "            model_name=MODEL_COMPLETE_NAME,\n",
    "        )\n",
    "        loss_chart.write_image(\n",
    "            f\"{REPORTS_PATH}/loss_v{VERSION}.{SUBVERSION}.{SUB_SUBVERSION}.png\"\n",
    "        )\n",
    "\n",
    "        os.makedirs(MODELS_PATH, exist_ok=True)\n",
    "        model.save(MODELS_PATH)\n",
    "\n",
    "        results = model.evaluate(test_images)\n",
    "        metric_names = history.model.metrics_names\n",
    "        evaluation_results = {\n",
    "            (\"test_\" + name): value for name, value in zip(metric_names, results)\n",
    "        }\n",
    "\n",
    "        evaluation = pd.DataFrame([evaluation_results])\n",
    "        evaluation.to_csv(\n",
    "            os.path.join(\n",
    "                LOGS_PATH, f\"evaluation_v{VERSION}.{SUBVERSION}.{SUB_SUBVERSION}.csv\"\n",
    "            ),\n",
    "            sep=\";\",\n",
    "            index=False,\n",
    "        )\n",
    "\n",
    "        y_pred_prob = model.predict(test_images)\n",
    "        y_true = test_images.labels\n",
    "\n",
    "        fpr, tpr, thresholds = roc_curve(y_true, y_pred_prob)\n",
    "        roc_auc = auc(fpr, tpr)\n",
    "\n",
    "        roc_curve_chart = graphics.create_roc_curve_chart(\n",
    "            fpr=fpr,\n",
    "            tpr=tpr,\n",
    "            roc_auc=roc_auc,\n",
    "            model_name=MODEL_COMPLETE_NAME,\n",
    "        )\n",
    "        roc_curve_chart.write_image(\n",
    "            f\"{REPORTS_PATH}/roc_curve_v{VERSION}.{SUBVERSION}.{SUB_SUBVERSION}.png\"\n",
    "        )\n",
    "\n",
    "        optimal_idx = np.argmax(tpr - fpr)\n",
    "        optimal_threshold = thresholds[optimal_idx]\n",
    "\n",
    "        y_pred_class = (y_pred_prob > optimal_threshold).astype(int)\n",
    "        conf_matrix = confusion_matrix(y_true, y_pred_class)\n",
    "        conf_matrix_text = [[str(value) for value in row] for row in conf_matrix]\n",
    "\n",
    "        confusion_matrix_chart = graphics.create_confusion_matrix_chart(\n",
    "            conf_matrix=conf_matrix,\n",
    "            conf_matrix_text=conf_matrix_text,\n",
    "            model_name=MODEL_COMPLETE_NAME,\n",
    "        )\n",
    "        confusion_matrix_chart.write_image(\n",
    "            f\"{REPORTS_PATH}/confusion_matrix_optimal_v{VERSION}.{SUBVERSION}.{SUB_SUBVERSION}.png\"\n",
    "        )\n",
    "\n",
    "        y_pred_class = (y_pred_prob > 0.5).astype(int)\n",
    "        conf_matrix = confusion_matrix(y_true, y_pred_class)\n",
    "        conf_matrix_text = [[str(value) for value in row] for row in conf_matrix]\n",
    "\n",
    "        confusion_matrix_chart = graphics.create_confusion_matrix_chart(\n",
    "            conf_matrix=conf_matrix,\n",
    "            conf_matrix_text=conf_matrix_text,\n",
    "            model_name=MODEL_COMPLETE_NAME,\n",
    "        )\n",
    "        confusion_matrix_chart.write_image(\n",
    "            f\"{REPORTS_PATH}/confusion_matrix_v{VERSION}.{SUBVERSION}.{SUB_SUBVERSION}.png\"\n",
    "        )\n",
    "\n",
    "        SUB_SUBVERSION += 1\n",
    "\n",
    "    SUBVERSION += 1\n",
    "    SUB_SUBVERSION = 0\n",
    "    print(\"\\n\\n\")\n"
   ]
  }
 ],
 "metadata": {
  "kernelspec": {
   "display_name": "TFG",
   "language": "python",
   "name": "python3"
  },
  "language_info": {
   "codemirror_mode": {
    "name": "ipython",
    "version": 3
   },
   "file_extension": ".py",
   "mimetype": "text/x-python",
   "name": "python",
   "nbconvert_exporter": "python",
   "pygments_lexer": "ipython3",
   "version": "3.8.19"
  }
 },
 "nbformat": 4,
 "nbformat_minor": 2
}
