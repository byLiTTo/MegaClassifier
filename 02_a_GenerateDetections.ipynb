{
 "cells": [
  {
   "cell_type": "code",
   "execution_count": null,
   "id": "initial_id",
   "metadata": {
    "collapsed": true
   },
   "outputs": [],
   "source": [
    "import json\n",
    "import os\n",
    "\n",
    "import pandas as pd\n",
    "import tqdm\n",
    "\n",
    "required_paths = [\"/ai4eutils\", \"/CameraTraps\", \"/yolov5\"]\n",
    "python_path = os.environ.get(\"PYTHONPATH\", \"\")\n",
    "root_path = os.getcwd()\n",
    "\n",
    "for path in required_paths:\n",
    "    if not any(p.endswith(path) for p in python_path.split(\":\")):\n",
    "        python_path += f\":{root_path}/data/external{path}\"\n",
    "\n",
    "os.environ[\"PYTHONPATH\"] = python_path"
   ]
  },
  {
   "cell_type": "code",
   "execution_count": null,
   "id": "e90beb29f630dc6a",
   "metadata": {},
   "outputs": [],
   "source": [
    "THRESHOLD = 0.2\n",
    "THRESHOLD_STR = str(THRESHOLD).replace(\".\", \"_\")\n",
    "VERSION = \"typical\"\n",
    "\n",
    "RESOURCES_FOLDER = os.path.abspath(\"./resources/json\")\n",
    "\n",
    "INPUT_JSON = os.path.join(RESOURCES_FOLDER, \"input_file_names.json\")\n",
    "OUTPUT_JSON = os.path.join(RESOURCES_FOLDER, \"output_detections.json\")\n",
    "\n",
    "DATASET_CSV = os.path.abspath(\n",
    "    \"./data/interim/emptyNonEmptyDataset/emptyNonEmptyDatasetSplit.csv\"\n",
    ")\n",
    "DATASET_PATH = os.path.dirname(DATASET_CSV)\n",
    "\n",
    "MODEL_PATH = os.path.abspath(\"./models/MegaDetector/md_v5a.0.0.pt\")\n",
    "# MODEL_PATH = os.path.abspath(\"./models/MegaDetector/md_v5b.0.0.pt\")\n",
    "# MODEL_PATH = os.path.abspath(\"./models/MegaDetector/md_v4.1.0.pb\")"
   ]
  },
  {
   "cell_type": "code",
   "execution_count": null,
   "id": "78f1912b59a22ce6",
   "metadata": {},
   "outputs": [],
   "source": [
    "dataset_original = pd.read_csv(DATASET_CSV, sep=\";\")\n",
    "dataset_original[\"file_name_abspath\"] = dataset_original[\"file_name\"].apply(\n",
    "    lambda x: os.path.join(DATASET_PATH, x)\n",
    ")\n",
    "\n",
    "os.makedirs(os.path.dirname(RESOURCES_FOLDER), exist_ok=True)\n",
    "\n",
    "with open(INPUT_JSON, \"w\") as f:\n",
    "    json.dump(dataset_original[\"file_name_abspath\"][:3].tolist(), f, indent=1)\n",
    "\n",
    "with open(INPUT_JSON, \"r\") as file:\n",
    "    image_paths = json.load(file)\n",
    "\n",
    "total_images = len(image_paths)\n",
    "unavailable_images = []\n",
    "\n",
    "for path in image_paths:\n",
    "    if not os.path.exists(path):\n",
    "        unavailable_images.append(path)\n",
    "\n",
    "print(f\"Total number of image paths: {total_images}\")\n",
    "print(f\"Number of unavailable images: {len(unavailable_images)}\")\n",
    "\n",
    "if unavailable_images:\n",
    "    print(\"Unavailable image paths:\")\n",
    "    for path in unavailable_images:\n",
    "        print(path)"
   ]
  },
  {
   "cell_type": "code",
   "execution_count": null,
   "id": "2152b866d87ef6fa",
   "metadata": {},
   "outputs": [],
   "source": [
    "command = f'python data/external/CameraTraps/detection/run_detector_batch.py \"{MODEL_PATH}\" \"{INPUT_JSON}\" \"{OUTPUT_JSON}\" --recursive --threshold \"{THRESHOLD}\"'"
   ]
  },
  {
   "cell_type": "code",
   "execution_count": null,
   "id": "661d0906332788e4",
   "metadata": {},
   "outputs": [],
   "source": [
    "os.system(command)"
   ]
  },
  {
   "cell_type": "code",
   "execution_count": null,
   "id": "569a86fa3f3a8cbb",
   "metadata": {},
   "outputs": [],
   "source": [
    "with open(OUTPUT_JSON, \"r\") as file:\n",
    "    json_data = json.load(file)\n",
    "\n",
    "images = json_data[\"images\"]\n",
    "detection_categories = json_data[\"detection_categories\"]\n",
    "info = json_data[\"info\"]\n",
    "\n",
    "for image in tqdm.tqdm(images):\n",
    "    image[\"file\"] = image[\"file\"].replace(\n",
    "        DATASET_PATH + \"/\",\n",
    "        \"\",\n",
    "    )\n",
    "\n",
    "final_output = {\n",
    "    \"images\": images,\n",
    "    \"detection_categories\": detection_categories,\n",
    "    \"info\": info,\n",
    "}\n",
    "\n",
    "NEW_OUTPUT_FILE_PATH = os.path.join(RESOURCES_FOLDER, f\"{VERSION}_{THRESHOLD_STR}.json\")\n",
    "\n",
    "with open(NEW_OUTPUT_FILE_PATH, \"w\") as f:\n",
    "    json.dump(final_output, f, indent=1)\n",
    "\n",
    "os.remove(INPUT_JSON)\n",
    "os.remove(OUTPUT_JSON)"
   ]
  }
 ],
 "metadata": {
  "kernelspec": {
   "display_name": "TFG",
   "language": "python",
   "name": "python3"
  },
  "language_info": {
   "codemirror_mode": {
    "name": "ipython",
    "version": 2
   },
   "file_extension": ".py",
   "mimetype": "text/x-python",
   "name": "python",
   "nbconvert_exporter": "python",
   "pygments_lexer": "ipython2",
   "version": "3.8.19"
  }
 },
 "nbformat": 4,
 "nbformat_minor": 5
}
