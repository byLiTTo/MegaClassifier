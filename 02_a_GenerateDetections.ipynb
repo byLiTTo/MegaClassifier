{
 "cells": [
  {
   "cell_type": "code",
   "execution_count": 5,
   "metadata": {},
   "outputs": [],
   "source": [
    "import json\n",
    "import os\n",
    "from datetime import datetime\n",
    "\n",
    "import src.data.Dataset as dt"
   ]
  },
  {
   "cell_type": "code",
   "execution_count": 6,
   "metadata": {},
   "outputs": [
    {
     "name": "stdout",
     "output_type": "stream",
     "text": [
      "PYTHONPATH: :/Users/carlos/WORKSPACE/MegaClassifier/data/external/ai4eutils:/Users/carlos/WORKSPACE/MegaClassifier/data/external/CameraTraps:/Users/carlos/WORKSPACE/MegaClassifier/data/external/yolov5\n"
     ]
    }
   ],
   "source": [
    "required_paths = [\"/ai4eutils\", \"/CameraTraps\", \"/yolov5\"]\n",
    "python_path = os.environ.get(\"PYTHONPATH\", \"\")\n",
    "root_path = os.getcwd()\n",
    "\n",
    "for path in required_paths:\n",
    "    if not any(p.endswith(path) for p in python_path.split(\":\")):\n",
    "        python_path += f\":{root_path}/data/external{path}\"\n",
    "\n",
    "os.environ[\"PYTHONPATH\"] = python_path\n",
    "\n",
    "!echo \"PYTHONPATH: $PYTHONPATH\""
   ]
  },
  {
   "cell_type": "code",
   "execution_count": null,
   "metadata": {},
   "outputs": [
    {
     "name": "stdout",
     "output_type": "stream",
     "text": [
      "The file /Users/carlos/WORKSPACE/MegaClassifier/data/interim/149Images_cropped.csv has been successfully opened.\n",
      "\n",
      "MODEL_PATH:       /Users/carlos/WORKSPACE/MegaClassifier/models/MegaDetector/md_v5a.0.0.pt\n",
      "DATASET_PATH:     /Users/carlos/WORKSPACE/MegaClassifier/dataset/datasetCropped\n",
      "IMAGES_PATH_JSON: /Users/carlos/WORKSPACE/MegaClassifier/resources/json/dataset_file_paths.json\n",
      "OUTPUT_PATH:      /Users/carlos/WORKSPACE/MegaClassifier/resources/json\n",
      "OUTPUT_FILE_PATH: /Users/carlos/WORKSPACE/MegaClassifier/resources/json/detections.json\n"
     ]
    }
   ],
   "source": [
    "threshold = float(0.2)\n",
    "\n",
    "OUTPUT_PATH = os.path.abspath(\"./resources/json\")\n",
    "MODEL_PATH = os.path.abspath(\"./models/MegaDetector/md_v5a.0.0.pt\")\n",
    "# MODEL_PATH = os.path.abspath(\"./models/MegaDetector/md_v5b.0.0.pt\")\n",
    "# MODEL_PATH = os.path.abspath(\"./models/MegaDetector/md_v4.1.0.pb\")\n",
    "\n",
    "DATASET_PATH = os.path.abspath(\"./dataset/datasetCropped\")\n",
    "CSV_PATH = os.path.abspath(\"./data/interim/149Images_cropped.csv\")\n",
    "dataset = dt.load_from_csv(CSV_PATH)\n",
    "\n",
    "dataset[\"file_name_abspath\"] = dataset[\"file_name\"].apply(\n",
    "    lambda x: os.path.join(DATASET_PATH, x)\n",
    ")\n",
    "IMAGES_PATH_JSON = os.path.join(OUTPUT_PATH, \"dataset_file_paths.json\")\n",
    "\n",
    "os.makedirs(OUTPUT_PATH, exist_ok=True)\n",
    "\n",
    "with open(IMAGES_PATH_JSON, \"w\") as f:\n",
    "    json.dump(dataset[\"file_name_abspath\"].tolist(), f, indent=1)\n",
    "\n",
    "\n",
    "OUTPUT_FILE_PATH = os.path.join(OUTPUT_PATH, \"detections.json\")\n",
    "\n",
    "print()\n",
    "print(f\"MODEL_PATH:       {MODEL_PATH}\")\n",
    "print(f\"DATASET_PATH:     {DATASET_PATH}\")\n",
    "print(f\"IMAGES_PATH_JSON: {IMAGES_PATH_JSON}\")\n",
    "print(f\"OUTPUT_PATH:      {OUTPUT_PATH}\")\n",
    "print(f\"OUTPUT_FILE_PATH: {OUTPUT_FILE_PATH}\")"
   ]
  },
  {
   "cell_type": "code",
   "execution_count": 8,
   "metadata": {},
   "outputs": [
    {
     "name": "stdout",
     "output_type": "stream",
     "text": [
      "Total number of image paths: 149\n",
      "Number of unavailable images: 0\n"
     ]
    }
   ],
   "source": [
    "with open(IMAGES_PATH_JSON, \"r\") as file:\n",
    "    image_paths = json.load(file)\n",
    "\n",
    "total_images = len(image_paths)\n",
    "unavailable_images = []\n",
    "\n",
    "for path in image_paths:\n",
    "    if not os.path.exists(path):\n",
    "        unavailable_images.append(path)\n",
    "\n",
    "print(f\"Total number of image paths: {total_images}\")\n",
    "print(f\"Number of unavailable images: {len(unavailable_images)}\")\n",
    "if unavailable_images:\n",
    "    print(\"Unavailable image paths:\")\n",
    "    for path in unavailable_images:\n",
    "        print(path)"
   ]
  },
  {
   "cell_type": "code",
   "execution_count": 9,
   "metadata": {},
   "outputs": [
    {
     "name": "stdout",
     "output_type": "stream",
     "text": [
      "149 image files found in the json list\n",
      "PyTorch reports 0 available CUDA devices\n",
      "GPU available: False\n",
      "Using PyTorch version 1.10.1\n"
     ]
    },
    {
     "name": "stderr",
     "output_type": "stream",
     "text": [
      "Fusing layers... \n",
      "Model summary: 574 layers, 139990096 parameters, 0 gradients\n",
      "  0%|          | 0/149 [00:00<?, ?it/s]"
     ]
    },
    {
     "name": "stdout",
     "output_type": "stream",
     "text": [
      "Loaded model in 3.72 seconds\n",
      "Loaded model in 3.73 seconds\n",
      "Processing image /Users/carlos/WORKSPACE/MegaClassifier/dataset/datasetCropped/lince/lince_b_linces2_leo_jc/lince142_32_.jpg\n"
     ]
    },
    {
     "name": "stderr",
     "output_type": "stream",
     "text": [
      "  1%|          | 1/149 [00:02<05:50,  2.37s/it]"
     ]
    },
    {
     "name": "stdout",
     "output_type": "stream",
     "text": [
      "Processing image /Users/carlos/WORKSPACE/MegaClassifier/dataset/datasetCropped/vacia/vacia_paco_carro_jc/01130348.jpg\n"
     ]
    },
    {
     "name": "stderr",
     "output_type": "stream",
     "text": [
      "  1%|▏         | 2/149 [00:05<06:15,  2.56s/it]"
     ]
    },
    {
     "name": "stdout",
     "output_type": "stream",
     "text": [
      "Processing image /Users/carlos/WORKSPACE/MegaClassifier/dataset/datasetCropped/leporido/rabbit_islandconservationcameratraps/chile_frances012013_06012013133347.jpg\n"
     ]
    },
    {
     "name": "stderr",
     "output_type": "stream",
     "text": [
      "  2%|▏         | 3/149 [00:07<06:20,  2.61s/it]"
     ]
    },
    {
     "name": "stdout",
     "output_type": "stream",
     "text": [
      "Processing image /Users/carlos/WORKSPACE/MegaClassifier/dataset/datasetCropped/micromamiferos/micromamiferos_paco_carro_jc/pict0029.jpg\n"
     ]
    },
    {
     "name": "stderr",
     "output_type": "stream",
     "text": [
      "  3%|▎         | 4/149 [00:10<06:21,  2.63s/it]"
     ]
    },
    {
     "name": "stdout",
     "output_type": "stream",
     "text": [
      "Processing image /Users/carlos/WORKSPACE/MegaClassifier/dataset/datasetCropped/cervidae/corzo_alumno_2_am_jc/stc_0301_frame170.jpg\n"
     ]
    },
    {
     "name": "stderr",
     "output_type": "stream",
     "text": [
      "  3%|▎         | 5/149 [00:12<06:03,  2.52s/it]"
     ]
    },
    {
     "name": "stdout",
     "output_type": "stream",
     "text": [
      "Processing image /Users/carlos/WORKSPACE/MegaClassifier/dataset/datasetCropped/vacia/snampshotenonkishu/eno_s1_d03_r1_imag2137.jpg\n"
     ]
    },
    {
     "name": "stderr",
     "output_type": "stream",
     "text": [
      "  4%|▍         | 6/149 [00:15<06:17,  2.64s/it]"
     ]
    },
    {
     "name": "stdout",
     "output_type": "stream",
     "text": [
      "Processing image /Users/carlos/WORKSPACE/MegaClassifier/dataset/datasetCropped/jabali/wildboar_zoo_5_6_7_9/33_20210418_306_.jpg\n"
     ]
    },
    {
     "name": "stderr",
     "output_type": "stream",
     "text": [
      "  5%|▍         | 7/149 [00:17<06:01,  2.55s/it]"
     ]
    },
    {
     "name": "stdout",
     "output_type": "stream",
     "text": [
      "Processing image /Users/carlos/WORKSPACE/MegaClassifier/dataset/datasetCropped/ave/bird_caltechcameratrap/588a668f-23d2-11e8-a6a3-ec086b02610b.jpg\n"
     ]
    },
    {
     "name": "stderr",
     "output_type": "stream",
     "text": [
      "  5%|▌         | 8/149 [00:20<06:11,  2.64s/it]"
     ]
    },
    {
     "name": "stdout",
     "output_type": "stream",
     "text": [
      "Processing image /Users/carlos/WORKSPACE/MegaClassifier/dataset/datasetCropped/leporido/rabbit_islandconservationcameratraps/chile_frances022013_26052013115644.jpg\n"
     ]
    },
    {
     "name": "stderr",
     "output_type": "stream",
     "text": [
      "  6%|▌         | 9/149 [00:23<06:17,  2.69s/it]"
     ]
    },
    {
     "name": "stdout",
     "output_type": "stream",
     "text": [
      "Processing image /Users/carlos/WORKSPACE/MegaClassifier/dataset/datasetCropped/gato_domestico/gato_wellingtoncameratraps_ss/2204151825380194s224.jpg\n"
     ]
    },
    {
     "name": "stderr",
     "output_type": "stream",
     "text": [
      "  7%|▋         | 10/149 [00:26<06:16,  2.71s/it]"
     ]
    },
    {
     "name": "stdout",
     "output_type": "stream",
     "text": [
      "Processing image /Users/carlos/WORKSPACE/MegaClassifier/dataset/datasetCropped/cervidae/cervidredorfallowdeer_zoo_1_4/21_20210114_1366_.jpg\n"
     ]
    },
    {
     "name": "stderr",
     "output_type": "stream",
     "text": [
      "  7%|▋         | 11/149 [00:28<06:00,  2.61s/it]"
     ]
    },
    {
     "name": "stdout",
     "output_type": "stream",
     "text": [
      "Processing image /Users/carlos/WORKSPACE/MegaClassifier/dataset/datasetCropped/vacia/vacias_pnc_2014_isaac/c9352im000091.jpg\n"
     ]
    },
    {
     "name": "stderr",
     "output_type": "stream",
     "text": [
      "  8%|▊         | 12/149 [00:31<06:02,  2.65s/it]"
     ]
    },
    {
     "name": "stdout",
     "output_type": "stream",
     "text": [
      "Processing image /Users/carlos/WORKSPACE/MegaClassifier/dataset/datasetCropped/vacia/noanimal_zoo_1_4/37_20201116_15392_.jpg\n"
     ]
    },
    {
     "name": "stderr",
     "output_type": "stream",
     "text": [
      "  9%|▊         | 13/149 [00:33<05:48,  2.56s/it]"
     ]
    },
    {
     "name": "stdout",
     "output_type": "stream",
     "text": [
      "Processing image /Users/carlos/WORKSPACE/MegaClassifier/dataset/datasetCropped/vacia/nothing_mammalweb/44772.jpg\n"
     ]
    },
    {
     "name": "stderr",
     "output_type": "stream",
     "text": [
      "  9%|▉         | 14/149 [00:36<05:53,  2.62s/it]"
     ]
    },
    {
     "name": "stdout",
     "output_type": "stream",
     "text": [
      "Processing image /Users/carlos/WORKSPACE/MegaClassifier/dataset/datasetCropped/vacia/noanimal_zoo_5_6_7_9/24_20210318_5961_.jpg\n"
     ]
    },
    {
     "name": "stderr",
     "output_type": "stream",
     "text": [
      " 10%|█         | 15/149 [00:38<05:39,  2.54s/it]"
     ]
    },
    {
     "name": "stdout",
     "output_type": "stream",
     "text": [
      "Processing image /Users/carlos/WORKSPACE/MegaClassifier/dataset/datasetCropped/ave/bird_caltechcameratrap/58e93836-23d2-11e8-a6a3-ec086b02610b.jpg\n"
     ]
    },
    {
     "name": "stderr",
     "output_type": "stream",
     "text": [
      " 11%|█         | 16/149 [00:41<05:45,  2.60s/it]"
     ]
    },
    {
     "name": "stdout",
     "output_type": "stream",
     "text": [
      "Processing image /Users/carlos/WORKSPACE/MegaClassifier/dataset/datasetCropped/leporido/conejo_pnm_2012_isaac/d13662im000041.jpg\n"
     ]
    },
    {
     "name": "stderr",
     "output_type": "stream",
     "text": [
      " 11%|█▏        | 17/149 [00:44<05:51,  2.66s/it]"
     ]
    },
    {
     "name": "stdout",
     "output_type": "stream",
     "text": [
      "Processing image /Users/carlos/WORKSPACE/MegaClassifier/dataset/datasetCropped/vaca/cow_zoo_1_4/21_20210114_2562_.jpg\n"
     ]
    },
    {
     "name": "stderr",
     "output_type": "stream",
     "text": [
      " 12%|█▏        | 18/149 [00:46<05:39,  2.59s/it]"
     ]
    },
    {
     "name": "stdout",
     "output_type": "stream",
     "text": [
      "Processing image /Users/carlos/WORKSPACE/MegaClassifier/dataset/datasetCropped/jabali/wildboar_zoo_1_4/37_20201116_1819_.jpg\n"
     ]
    },
    {
     "name": "stderr",
     "output_type": "stream",
     "text": [
      " 13%|█▎        | 19/149 [00:49<05:26,  2.51s/it]"
     ]
    },
    {
     "name": "stdout",
     "output_type": "stream",
     "text": [
      "Processing image /Users/carlos/WORKSPACE/MegaClassifier/dataset/datasetCropped/cervidae/ciervo_pnc_2013-o_red_isaac/b17008imag0083.jpg\n"
     ]
    },
    {
     "name": "stderr",
     "output_type": "stream",
     "text": [
      " 13%|█▎        | 20/149 [00:52<05:34,  2.59s/it]"
     ]
    },
    {
     "name": "stdout",
     "output_type": "stream",
     "text": [
      "Processing image /Users/carlos/WORKSPACE/MegaClassifier/dataset/datasetCropped/vacia/noanimal_zoo_5_6_7_9/2_20210417_4428_.jpg\n"
     ]
    },
    {
     "name": "stderr",
     "output_type": "stream",
     "text": [
      " 14%|█▍        | 21/149 [00:54<05:22,  2.52s/it]"
     ]
    },
    {
     "name": "stdout",
     "output_type": "stream",
     "text": [
      "Processing image /Users/carlos/WORKSPACE/MegaClassifier/dataset/datasetCropped/cervidae/cervidredorfallowdeer_zoo_1_4/21_20201025_1617_.jpg\n"
     ]
    },
    {
     "name": "stderr",
     "output_type": "stream",
     "text": [
      " 15%|█▍        | 22/149 [00:56<05:15,  2.48s/it]"
     ]
    },
    {
     "name": "stdout",
     "output_type": "stream",
     "text": [
      "Processing image /Users/carlos/WORKSPACE/MegaClassifier/dataset/datasetCropped/vacia/noanimal_zoo_5_6_7_9/2_20210417_20503_.jpg\n"
     ]
    },
    {
     "name": "stderr",
     "output_type": "stream",
     "text": [
      " 15%|█▌        | 23/149 [00:59<05:07,  2.44s/it]"
     ]
    },
    {
     "name": "stdout",
     "output_type": "stream",
     "text": [
      "Processing image /Users/carlos/WORKSPACE/MegaClassifier/dataset/datasetCropped/jabali/jabali_paco_carro_jc/mdgc0133.jpg\n"
     ]
    },
    {
     "name": "stderr",
     "output_type": "stream",
     "text": [
      " 16%|█▌        | 24/149 [01:01<05:17,  2.54s/it]"
     ]
    },
    {
     "name": "stdout",
     "output_type": "stream",
     "text": [
      "Processing image /Users/carlos/WORKSPACE/MegaClassifier/dataset/datasetCropped/cervidae/ciervo_paco_carro_jc/pict0513.jpg\n"
     ]
    },
    {
     "name": "stderr",
     "output_type": "stream",
     "text": [
      " 17%|█▋        | 25/149 [01:04<05:23,  2.61s/it]"
     ]
    },
    {
     "name": "stdout",
     "output_type": "stream",
     "text": [
      "Processing image /Users/carlos/WORKSPACE/MegaClassifier/dataset/datasetCropped/humanovehiculo/humanovehiculo_pnc_2014_manuel/c27368im000158.jpg\n"
     ]
    },
    {
     "name": "stderr",
     "output_type": "stream",
     "text": [
      " 17%|█▋        | 26/149 [01:07<05:25,  2.65s/it]"
     ]
    },
    {
     "name": "stdout",
     "output_type": "stream",
     "text": [
      "Processing image /Users/carlos/WORKSPACE/MegaClassifier/dataset/datasetCropped/caballo/horse_zoo_1_4/2_20201117_3644_.jpg\n"
     ]
    },
    {
     "name": "stderr",
     "output_type": "stream",
     "text": [
      " 18%|█▊        | 27/149 [01:09<05:11,  2.55s/it]"
     ]
    },
    {
     "name": "stdout",
     "output_type": "stream",
     "text": [
      "Processing image /Users/carlos/WORKSPACE/MegaClassifier/dataset/datasetCropped/jabali/wildboar_zoo_5_6_7_9/20_20210219_1394__2021_04_1506_16_22utc_.jpg\n"
     ]
    },
    {
     "name": "stderr",
     "output_type": "stream",
     "text": [
      " 19%|█▉        | 28/149 [01:12<05:01,  2.49s/it]"
     ]
    },
    {
     "name": "stdout",
     "output_type": "stream",
     "text": [
      "Processing image /Users/carlos/WORKSPACE/MegaClassifier/dataset/datasetCropped/vacia/noanimal_zoo_5_6_7_9/2_20210417_22778_.jpg\n"
     ]
    },
    {
     "name": "stderr",
     "output_type": "stream",
     "text": [
      " 19%|█▉        | 29/149 [01:14<04:57,  2.48s/it]"
     ]
    },
    {
     "name": "stdout",
     "output_type": "stream",
     "text": [
      "Processing image /Users/carlos/WORKSPACE/MegaClassifier/dataset/datasetCropped/vacia/snampshotenonkishu/eno_s1_d06_r1_imag4605.jpg\n"
     ]
    },
    {
     "name": "stderr",
     "output_type": "stream",
     "text": [
      " 20%|██        | 30/149 [01:17<05:11,  2.62s/it]"
     ]
    },
    {
     "name": "stdout",
     "output_type": "stream",
     "text": [
      "Processing image /Users/carlos/WORKSPACE/MegaClassifier/dataset/datasetCropped/vacia/noanimal_zoo_5_6_7_9/38_20210417_605_.jpg\n"
     ]
    },
    {
     "name": "stderr",
     "output_type": "stream",
     "text": [
      " 21%|██        | 31/149 [01:19<04:57,  2.52s/it]"
     ]
    },
    {
     "name": "stdout",
     "output_type": "stream",
     "text": [
      "Processing image /Users/carlos/WORKSPACE/MegaClassifier/dataset/datasetCropped/vacia/noanimal_zoo_5_6_7_9/11_20210418_3158_.jpg\n"
     ]
    },
    {
     "name": "stderr",
     "output_type": "stream",
     "text": [
      " 21%|██▏       | 32/149 [01:21<04:45,  2.44s/it]"
     ]
    },
    {
     "name": "stdout",
     "output_type": "stream",
     "text": [
      "Processing image /Users/carlos/WORKSPACE/MegaClassifier/dataset/datasetCropped/ave/raven_islandconservationcameratraps/dominicanrepublic_cam0617abril2015_20130727_044334_sunp0048.jpg\n"
     ]
    },
    {
     "name": "stderr",
     "output_type": "stream",
     "text": [
      " 22%|██▏       | 33/149 [01:24<04:53,  2.53s/it]"
     ]
    },
    {
     "name": "stdout",
     "output_type": "stream",
     "text": [
      "Processing image /Users/carlos/WORKSPACE/MegaClassifier/dataset/datasetCropped/vacia/noanimal_zoo_5_6_7_9/20_20210319_12014_.jpg\n"
     ]
    },
    {
     "name": "stderr",
     "output_type": "stream",
     "text": [
      " 23%|██▎       | 34/149 [01:27<04:41,  2.45s/it]"
     ]
    },
    {
     "name": "stdout",
     "output_type": "stream",
     "text": [
      "Processing image /Users/carlos/WORKSPACE/MegaClassifier/dataset/datasetCropped/vacia/empty_snapshotmountainzebra/mtz_s1_d05_r1_imag1176.jpg\n"
     ]
    },
    {
     "name": "stderr",
     "output_type": "stream",
     "text": [
      " 23%|██▎       | 35/149 [01:29<04:45,  2.51s/it]"
     ]
    },
    {
     "name": "stdout",
     "output_type": "stream",
     "text": [
      "Processing image /Users/carlos/WORKSPACE/MegaClassifier/dataset/datasetCropped/vaca/cow_zoo_5_6_7_9/9_20210615_2295_.jpg\n"
     ]
    },
    {
     "name": "stderr",
     "output_type": "stream",
     "text": [
      " 24%|██▍       | 36/149 [01:31<04:35,  2.43s/it]"
     ]
    },
    {
     "name": "stdout",
     "output_type": "stream",
     "text": [
      "Processing image /Users/carlos/WORKSPACE/MegaClassifier/dataset/datasetCropped/mapache/raccoon_caltechcameratrap_me/59a30c04-23d2-11e8-a6a3-ec086b02610b.jpg\n"
     ]
    },
    {
     "name": "stderr",
     "output_type": "stream",
     "text": [
      " 25%|██▍       | 37/149 [01:34<04:39,  2.50s/it]"
     ]
    },
    {
     "name": "stdout",
     "output_type": "stream",
     "text": [
      "Processing image /Users/carlos/WORKSPACE/MegaClassifier/dataset/datasetCropped/vacia/vacia_alumno_1_th/nada_5__frame010.jpg\n"
     ]
    },
    {
     "name": "stderr",
     "output_type": "stream",
     "text": [
      " 26%|██▌       | 38/149 [01:36<04:30,  2.43s/it]"
     ]
    },
    {
     "name": "stdout",
     "output_type": "stream",
     "text": [
      "Processing image /Users/carlos/WORKSPACE/MegaClassifier/dataset/datasetCropped/vacia/empty_snapshotmountainzebra/mtz_s1_d05_r1_imag0259.jpg\n"
     ]
    },
    {
     "name": "stderr",
     "output_type": "stream",
     "text": [
      " 26%|██▌       | 39/149 [01:39<04:33,  2.49s/it]"
     ]
    },
    {
     "name": "stdout",
     "output_type": "stream",
     "text": [
      "Processing image /Users/carlos/WORKSPACE/MegaClassifier/dataset/datasetCropped/vacia/empty_islandconservationcameratraps/dominicanrepublic_cam1826junio2015_20150505_105115_img_2357.jpg\n"
     ]
    },
    {
     "name": "stderr",
     "output_type": "stream",
     "text": [
      " 27%|██▋       | 40/149 [01:41<04:24,  2.43s/it]"
     ]
    },
    {
     "name": "stdout",
     "output_type": "stream",
     "text": [
      "Processing image /Users/carlos/WORKSPACE/MegaClassifier/dataset/datasetCropped/cervidae/ciervo_javi_3_jc/21_20201025_3961_.jpg\n"
     ]
    },
    {
     "name": "stderr",
     "output_type": "stream",
     "text": [
      " 28%|██▊       | 41/149 [01:44<04:17,  2.38s/it]"
     ]
    },
    {
     "name": "stdout",
     "output_type": "stream",
     "text": [
      "Processing image /Users/carlos/WORKSPACE/MegaClassifier/dataset/datasetCropped/caballo/caballos_javier_jc/35_20201218_394_.jpg\n"
     ]
    },
    {
     "name": "stderr",
     "output_type": "stream",
     "text": [
      " 28%|██▊       | 42/149 [01:46<04:10,  2.34s/it]"
     ]
    },
    {
     "name": "stdout",
     "output_type": "stream",
     "text": [
      "Processing image /Users/carlos/WORKSPACE/MegaClassifier/dataset/datasetCropped/zorro/zorro_vacias_humanos_pnc_2012_me/a29867im000047.jpg\n"
     ]
    },
    {
     "name": "stderr",
     "output_type": "stream",
     "text": [
      " 29%|██▉       | 43/149 [01:48<04:20,  2.45s/it]"
     ]
    },
    {
     "name": "stdout",
     "output_type": "stream",
     "text": [
      "Processing image /Users/carlos/WORKSPACE/MegaClassifier/dataset/datasetCropped/vacia/vacia_paco_carro_jc/img_1550.jpg\n"
     ]
    },
    {
     "name": "stderr",
     "output_type": "stream",
     "text": [
      " 30%|██▉       | 44/149 [01:51<04:12,  2.41s/it]"
     ]
    },
    {
     "name": "stdout",
     "output_type": "stream",
     "text": [
      "Processing image /Users/carlos/WORKSPACE/MegaClassifier/dataset/datasetCropped/vacia/empty_islandconservationcameratraps/puertorico_26_20141224_145642_ek000331.jpg\n"
     ]
    },
    {
     "name": "stderr",
     "output_type": "stream",
     "text": [
      " 30%|███       | 45/149 [01:53<04:17,  2.48s/it]"
     ]
    },
    {
     "name": "stdout",
     "output_type": "stream",
     "text": [
      "Processing image /Users/carlos/WORKSPACE/MegaClassifier/dataset/datasetCropped/cervidae/cervidredorfallowdeer_zoo_1_4/2_20210115_7353_.jpg\n"
     ]
    },
    {
     "name": "stderr",
     "output_type": "stream",
     "text": [
      " 31%|███       | 46/149 [01:56<04:08,  2.41s/it]"
     ]
    },
    {
     "name": "stdout",
     "output_type": "stream",
     "text": [
      "Processing image /Users/carlos/WORKSPACE/MegaClassifier/dataset/datasetCropped/jabali/wildboar_zoo_1_4/37_20210115_613_.jpg\n"
     ]
    },
    {
     "name": "stderr",
     "output_type": "stream",
     "text": [
      " 32%|███▏      | 47/149 [01:58<04:04,  2.40s/it]"
     ]
    },
    {
     "name": "stdout",
     "output_type": "stream",
     "text": [
      "Processing image /Users/carlos/WORKSPACE/MegaClassifier/dataset/datasetCropped/cervidae/cervidredorfallowdeer_zoo_1_4/2_20201117_1666_.jpg\n"
     ]
    },
    {
     "name": "stderr",
     "output_type": "stream",
     "text": [
      " 32%|███▏      | 48/149 [02:00<04:03,  2.41s/it]"
     ]
    },
    {
     "name": "stdout",
     "output_type": "stream",
     "text": [
      "Processing image /Users/carlos/WORKSPACE/MegaClassifier/dataset/datasetCropped/jabali/wildboar_zoo_1_4/4_20210117_4443_.jpg\n"
     ]
    },
    {
     "name": "stderr",
     "output_type": "stream",
     "text": [
      " 33%|███▎      | 49/149 [02:03<03:56,  2.36s/it]"
     ]
    },
    {
     "name": "stdout",
     "output_type": "stream",
     "text": [
      "Processing image /Users/carlos/WORKSPACE/MegaClassifier/dataset/datasetCropped/leporido/rabbit_islandconservationcameratraps/chile_piedra012013_28012013184939.jpg\n"
     ]
    },
    {
     "name": "stderr",
     "output_type": "stream",
     "text": [
      " 34%|███▎      | 50/149 [02:05<04:03,  2.46s/it]"
     ]
    },
    {
     "name": "stdout",
     "output_type": "stream",
     "text": [
      "Processing image /Users/carlos/WORKSPACE/MegaClassifier/dataset/datasetCropped/lince/lince_a_linces2_leo_jc/lince102_126_.jpg\n"
     ]
    },
    {
     "name": "stderr",
     "output_type": "stream",
     "text": [
      " 34%|███▍      | 51/149 [02:08<03:55,  2.40s/it]"
     ]
    },
    {
     "name": "stdout",
     "output_type": "stream",
     "text": [
      "Processing image /Users/carlos/WORKSPACE/MegaClassifier/dataset/datasetCropped/leporido/rabbit_caltechcameratrap_me/58cb135a-23d2-11e8-a6a3-ec086b02610b.jpg\n"
     ]
    },
    {
     "name": "stderr",
     "output_type": "stream",
     "text": [
      " 35%|███▍      | 52/149 [02:10<03:58,  2.46s/it]"
     ]
    },
    {
     "name": "stdout",
     "output_type": "stream",
     "text": [
      "Processing image /Users/carlos/WORKSPACE/MegaClassifier/dataset/datasetCropped/humanovehiculo/humano_vehiculo_pnm_2012_isaac/d3034im000001.jpg\n"
     ]
    },
    {
     "name": "stderr",
     "output_type": "stream",
     "text": [
      " 36%|███▌      | 53/149 [02:13<03:59,  2.50s/it]"
     ]
    },
    {
     "name": "stdout",
     "output_type": "stream",
     "text": [
      "Processing image /Users/carlos/WORKSPACE/MegaClassifier/dataset/datasetCropped/vacia/noanimal_zoo_5_6_7_9/50_20210417_21714_.jpg\n"
     ]
    },
    {
     "name": "stderr",
     "output_type": "stream",
     "text": [
      " 36%|███▌      | 54/149 [02:15<03:49,  2.41s/it]"
     ]
    },
    {
     "name": "stdout",
     "output_type": "stream",
     "text": [
      "Processing image /Users/carlos/WORKSPACE/MegaClassifier/dataset/datasetCropped/cervidae/cervidredorfallowdeer_zoo_1_4/28_20201019_654_.jpg\n"
     ]
    },
    {
     "name": "stderr",
     "output_type": "stream",
     "text": [
      " 37%|███▋      | 55/149 [02:17<03:43,  2.37s/it]"
     ]
    },
    {
     "name": "stdout",
     "output_type": "stream",
     "text": [
      "Processing image /Users/carlos/WORKSPACE/MegaClassifier/dataset/datasetCropped/cervidae/cervidredorfallowdeer_zoo_5_6_7_9/5_20210219_187__2021_04_1506_16_22utc_.jpg\n"
     ]
    },
    {
     "name": "stderr",
     "output_type": "stream",
     "text": [
      " 38%|███▊      | 56/149 [02:20<03:36,  2.32s/it]"
     ]
    },
    {
     "name": "stdout",
     "output_type": "stream",
     "text": [
      "Processing image /Users/carlos/WORKSPACE/MegaClassifier/dataset/datasetCropped/vacia/noanimal_zoo_5_6_7_9/25_20210417_17106_.jpg\n"
     ]
    },
    {
     "name": "stderr",
     "output_type": "stream",
     "text": [
      " 38%|███▊      | 57/149 [02:22<03:30,  2.29s/it]"
     ]
    },
    {
     "name": "stdout",
     "output_type": "stream",
     "text": [
      "Processing image /Users/carlos/WORKSPACE/MegaClassifier/dataset/datasetCropped/vacia/empty_islandconservationcameratraps/dominicanrepublic_cam0425abril2015_20130818_044629_sunp2863.jpg\n"
     ]
    },
    {
     "name": "stderr",
     "output_type": "stream",
     "text": [
      " 39%|███▉      | 58/149 [02:24<03:39,  2.41s/it]"
     ]
    },
    {
     "name": "stdout",
     "output_type": "stream",
     "text": [
      "Processing image /Users/carlos/WORKSPACE/MegaClassifier/dataset/datasetCropped/vacia/noanimal_zoo_5_6_7_9/24_20210318_416_.jpg\n"
     ]
    },
    {
     "name": "stderr",
     "output_type": "stream",
     "text": [
      " 40%|███▉      | 59/149 [02:27<03:31,  2.35s/it]"
     ]
    },
    {
     "name": "stdout",
     "output_type": "stream",
     "text": [
      "Processing image /Users/carlos/WORKSPACE/MegaClassifier/dataset/datasetCropped/cervidae/cervidredorfallowdeer_zoo_5_6_7_9/31_20210615_1129_.jpg\n"
     ]
    },
    {
     "name": "stderr",
     "output_type": "stream",
     "text": [
      " 40%|████      | 60/149 [02:29<03:25,  2.31s/it]"
     ]
    },
    {
     "name": "stdout",
     "output_type": "stream",
     "text": [
      "Processing image /Users/carlos/WORKSPACE/MegaClassifier/dataset/datasetCropped/micromamiferos/micromamiferos_fotosmanuelemilio20200912/img_1269.jpg\n"
     ]
    },
    {
     "name": "stderr",
     "output_type": "stream",
     "text": [
      " 41%|████      | 61/149 [02:31<03:20,  2.27s/it]"
     ]
    },
    {
     "name": "stdout",
     "output_type": "stream",
     "text": [
      "Processing image /Users/carlos/WORKSPACE/MegaClassifier/dataset/datasetCropped/vacia/noanimal_zoo_5_6_7_9/24_20210418_6137_.jpg\n"
     ]
    },
    {
     "name": "stderr",
     "output_type": "stream",
     "text": [
      " 42%|████▏     | 62/149 [02:33<03:15,  2.25s/it]"
     ]
    },
    {
     "name": "stdout",
     "output_type": "stream",
     "text": [
      "Processing image /Users/carlos/WORKSPACE/MegaClassifier/dataset/datasetCropped/vacia/noanimal_zoo_1_4/34_20210115_4315_.jpg\n"
     ]
    },
    {
     "name": "stderr",
     "output_type": "stream",
     "text": [
      " 42%|████▏     | 63/149 [02:36<03:12,  2.24s/it]"
     ]
    },
    {
     "name": "stdout",
     "output_type": "stream",
     "text": [
      "Processing image /Users/carlos/WORKSPACE/MegaClassifier/dataset/datasetCropped/vacia/noanimal_zoo_1_4/7_20210115_3272_.jpg\n"
     ]
    },
    {
     "name": "stderr",
     "output_type": "stream",
     "text": [
      " 43%|████▎     | 64/149 [02:38<03:10,  2.24s/it]"
     ]
    },
    {
     "name": "stdout",
     "output_type": "stream",
     "text": [
      "Processing image /Users/carlos/WORKSPACE/MegaClassifier/dataset/datasetCropped/leporido/rabbit_islandconservationcameratraps/chile_frances012013_13012013183622.jpg\n"
     ]
    },
    {
     "name": "stderr",
     "output_type": "stream",
     "text": [
      " 44%|████▎     | 65/149 [02:40<03:17,  2.36s/it]"
     ]
    },
    {
     "name": "stdout",
     "output_type": "stream",
     "text": [
      "Processing image /Users/carlos/WORKSPACE/MegaClassifier/dataset/datasetCropped/vacia/noanimal_zoo_1_4/37_20201116_9927_.jpg\n"
     ]
    },
    {
     "name": "stderr",
     "output_type": "stream",
     "text": [
      " 44%|████▍     | 66/149 [02:43<03:11,  2.31s/it]"
     ]
    },
    {
     "name": "stdout",
     "output_type": "stream",
     "text": [
      "Processing image /Users/carlos/WORKSPACE/MegaClassifier/dataset/datasetCropped/cervidae/cervidredorfallowdeer_zoo_1_4/25_20201117_20_.jpg\n"
     ]
    },
    {
     "name": "stderr",
     "output_type": "stream",
     "text": [
      " 45%|████▍     | 67/149 [02:45<03:06,  2.28s/it]"
     ]
    },
    {
     "name": "stdout",
     "output_type": "stream",
     "text": [
      "Processing image /Users/carlos/WORKSPACE/MegaClassifier/dataset/datasetCropped/zorro/zorro_pnm_2012_isaac/d11717im000201.jpg\n"
     ]
    },
    {
     "name": "stderr",
     "output_type": "stream",
     "text": [
      " 46%|████▌     | 68/149 [02:47<03:12,  2.37s/it]"
     ]
    },
    {
     "name": "stdout",
     "output_type": "stream",
     "text": [
      "Processing image /Users/carlos/WORKSPACE/MegaClassifier/dataset/datasetCropped/vacia/vacia_soraya_padilla_alumno_1_th/dscf0092_frame130.jpg\n"
     ]
    },
    {
     "name": "stderr",
     "output_type": "stream",
     "text": [
      " 46%|████▋     | 69/149 [02:50<03:05,  2.32s/it]"
     ]
    },
    {
     "name": "stdout",
     "output_type": "stream",
     "text": [
      "Processing image /Users/carlos/WORKSPACE/MegaClassifier/dataset/datasetCropped/jabali/2_jabali_alumno_th_3_th_jc/40_20201024_732_.jpg\n"
     ]
    },
    {
     "name": "stderr",
     "output_type": "stream",
     "text": [
      " 47%|████▋     | 70/149 [02:52<03:01,  2.30s/it]"
     ]
    },
    {
     "name": "stdout",
     "output_type": "stream",
     "text": [
      "Processing image /Users/carlos/WORKSPACE/MegaClassifier/dataset/datasetCropped/humanovehiculo/humanovehiculo_pnc_2014_manuel/c19808im000011.jpg\n"
     ]
    },
    {
     "name": "stderr",
     "output_type": "stream",
     "text": [
      " 48%|████▊     | 71/149 [02:54<03:04,  2.37s/it]"
     ]
    },
    {
     "name": "stdout",
     "output_type": "stream",
     "text": [
      "Processing image /Users/carlos/WORKSPACE/MegaClassifier/dataset/datasetCropped/vacia/noanimal_zoo_5_6_7_9/39_20210417_3066_.jpg\n"
     ]
    },
    {
     "name": "stderr",
     "output_type": "stream",
     "text": [
      " 48%|████▊     | 72/149 [02:57<02:58,  2.32s/it]"
     ]
    },
    {
     "name": "stdout",
     "output_type": "stream",
     "text": [
      "Processing image /Users/carlos/WORKSPACE/MegaClassifier/dataset/datasetCropped/cervidae/cervidredorfallowdeer_zoo_1_4/40_20201117_1739_.jpg\n"
     ]
    },
    {
     "name": "stderr",
     "output_type": "stream",
     "text": [
      " 49%|████▉     | 73/149 [02:59<02:52,  2.28s/it]"
     ]
    },
    {
     "name": "stdout",
     "output_type": "stream",
     "text": [
      "Processing image /Users/carlos/WORKSPACE/MegaClassifier/dataset/datasetCropped/leporido/conejo_wellingtoncameratraps_ss/16111504131613959711.jpg\n"
     ]
    },
    {
     "name": "stderr",
     "output_type": "stream",
     "text": [
      " 50%|████▉     | 74/149 [03:01<02:57,  2.37s/it]"
     ]
    },
    {
     "name": "stdout",
     "output_type": "stream",
     "text": [
      "Processing image /Users/carlos/WORKSPACE/MegaClassifier/dataset/datasetCropped/gato_domestico/gato_wellingtoncameratraps_ss/30111509313601069481.jpg\n"
     ]
    },
    {
     "name": "stderr",
     "output_type": "stream",
     "text": [
      " 50%|█████     | 75/149 [03:04<03:00,  2.44s/it]"
     ]
    },
    {
     "name": "stdout",
     "output_type": "stream",
     "text": [
      "Processing image /Users/carlos/WORKSPACE/MegaClassifier/dataset/datasetCropped/gato_domestico/gato_wellingtoncameratraps_ss/11101520000402428282.jpg\n"
     ]
    },
    {
     "name": "stderr",
     "output_type": "stream",
     "text": [
      " 51%|█████     | 76/149 [03:06<03:00,  2.48s/it]"
     ]
    },
    {
     "name": "stdout",
     "output_type": "stream",
     "text": [
      "Processing image /Users/carlos/WORKSPACE/MegaClassifier/dataset/datasetCropped/cervidae/cervidredorfallowdeer_zoo_1_4/26_20201020_3483_.jpg\n"
     ]
    },
    {
     "name": "stderr",
     "output_type": "stream",
     "text": [
      " 52%|█████▏    | 77/149 [03:09<02:52,  2.40s/it]"
     ]
    },
    {
     "name": "stdout",
     "output_type": "stream",
     "text": [
      "Processing image /Users/carlos/WORKSPACE/MegaClassifier/dataset/datasetCropped/ave/otherspecies_zoo_5_6_7_9/47_20210418_519_.jpg\n"
     ]
    },
    {
     "name": "stderr",
     "output_type": "stream",
     "text": [
      " 52%|█████▏    | 78/149 [03:11<02:45,  2.33s/it]"
     ]
    },
    {
     "name": "stdout",
     "output_type": "stream",
     "text": [
      "Processing image /Users/carlos/WORKSPACE/MegaClassifier/dataset/datasetCropped/vacia/noanimal_zoo_1_4/7_20210115_1826_.jpg\n"
     ]
    },
    {
     "name": "stderr",
     "output_type": "stream",
     "text": [
      " 53%|█████▎    | 79/149 [03:13<02:40,  2.29s/it]"
     ]
    },
    {
     "name": "stdout",
     "output_type": "stream",
     "text": [
      "Processing image /Users/carlos/WORKSPACE/MegaClassifier/dataset/datasetCropped/cervidae/ciervo_me_rev_3_donana/40_20201024_8754_.jpg\n"
     ]
    },
    {
     "name": "stderr",
     "output_type": "stream",
     "text": [
      " 54%|█████▎    | 80/149 [03:15<02:35,  2.26s/it]"
     ]
    },
    {
     "name": "stdout",
     "output_type": "stream",
     "text": [
      "Processing image /Users/carlos/WORKSPACE/MegaClassifier/dataset/datasetCropped/caballo/horse_zoo_5_6_7_9/15_20210219_8948__2021_04_1506_16_22utc_.jpg\n"
     ]
    },
    {
     "name": "stderr",
     "output_type": "stream",
     "text": [
      " 54%|█████▍    | 81/149 [03:18<02:33,  2.26s/it]"
     ]
    },
    {
     "name": "stdout",
     "output_type": "stream",
     "text": [
      "Processing image /Users/carlos/WORKSPACE/MegaClassifier/dataset/datasetCropped/vacia/empty_islandconservationcameratraps/dominicanrepublic_cam0425abril2015_20130808_043804_sunp1154.jpg\n"
     ]
    },
    {
     "name": "stderr",
     "output_type": "stream",
     "text": [
      " 55%|█████▌    | 82/149 [03:20<02:38,  2.37s/it]"
     ]
    },
    {
     "name": "stdout",
     "output_type": "stream",
     "text": [
      "Processing image /Users/carlos/WORKSPACE/MegaClassifier/dataset/datasetCropped/vacia/noanimal_zoo_5_6_7_9/18_20210417_9511_.jpg\n"
     ]
    },
    {
     "name": "stderr",
     "output_type": "stream",
     "text": [
      " 56%|█████▌    | 83/149 [03:22<02:32,  2.31s/it]"
     ]
    },
    {
     "name": "stdout",
     "output_type": "stream",
     "text": [
      "Processing image /Users/carlos/WORKSPACE/MegaClassifier/dataset/datasetCropped/vaca/cow_zoo_1_4/21_20201217_4950_.jpg\n"
     ]
    },
    {
     "name": "stderr",
     "output_type": "stream",
     "text": [
      " 56%|█████▋    | 84/149 [03:24<02:27,  2.27s/it]"
     ]
    },
    {
     "name": "stdout",
     "output_type": "stream",
     "text": [
      "Processing image /Users/carlos/WORKSPACE/MegaClassifier/dataset/datasetCropped/ave/americancrow_ena24/7892.jpg\n"
     ]
    },
    {
     "name": "stderr",
     "output_type": "stream",
     "text": [
      " 57%|█████▋    | 85/149 [03:27<02:31,  2.36s/it]"
     ]
    },
    {
     "name": "stdout",
     "output_type": "stream",
     "text": [
      "Processing image /Users/carlos/WORKSPACE/MegaClassifier/dataset/datasetCropped/vacia/noanimal_zoo_1_4/34_20210115_7858_.jpg\n"
     ]
    },
    {
     "name": "stderr",
     "output_type": "stream",
     "text": [
      " 58%|█████▊    | 86/149 [03:29<02:27,  2.34s/it]"
     ]
    },
    {
     "name": "stdout",
     "output_type": "stream",
     "text": [
      "Processing image /Users/carlos/WORKSPACE/MegaClassifier/dataset/datasetCropped/cervidae/cervidredorfallowdeer_zoo_5_6_7_9/8_20210219_395__2021_04_1506_16_22utc_.jpg\n"
     ]
    },
    {
     "name": "stderr",
     "output_type": "stream",
     "text": [
      " 58%|█████▊    | 87/149 [03:32<02:22,  2.29s/it]"
     ]
    },
    {
     "name": "stdout",
     "output_type": "stream",
     "text": [
      "Processing image /Users/carlos/WORKSPACE/MegaClassifier/dataset/datasetCropped/vacia/noanimal_zoo_5_6_7_9/36_20210618_8255_.jpg\n"
     ]
    },
    {
     "name": "stderr",
     "output_type": "stream",
     "text": [
      " 59%|█████▉    | 88/149 [03:34<02:18,  2.27s/it]"
     ]
    },
    {
     "name": "stdout",
     "output_type": "stream",
     "text": [
      "Processing image /Users/carlos/WORKSPACE/MegaClassifier/dataset/datasetCropped/vacia/noanimal_zoo_5_6_7_9/10_20210219_1462__2021_04_1506_16_22utc_.jpg\n"
     ]
    },
    {
     "name": "stderr",
     "output_type": "stream",
     "text": [
      " 60%|█████▉    | 89/149 [03:36<02:14,  2.25s/it]"
     ]
    },
    {
     "name": "stdout",
     "output_type": "stream",
     "text": [
      "Processing image /Users/carlos/WORKSPACE/MegaClassifier/dataset/datasetCropped/tejon/tejon_alumno_2_am_jc/stc_0060_2__frame020.jpg\n"
     ]
    },
    {
     "name": "stderr",
     "output_type": "stream",
     "text": [
      " 60%|██████    | 90/149 [03:38<02:11,  2.23s/it]"
     ]
    },
    {
     "name": "stdout",
     "output_type": "stream",
     "text": [
      "Processing image /Users/carlos/WORKSPACE/MegaClassifier/dataset/datasetCropped/cervidae/ciervo_pnm_2012_isaac/d14472imag0025.jpg\n"
     ]
    },
    {
     "name": "stderr",
     "output_type": "stream",
     "text": [
      " 61%|██████    | 91/149 [03:41<02:15,  2.33s/it]"
     ]
    },
    {
     "name": "stdout",
     "output_type": "stream",
     "text": [
      "Processing image /Users/carlos/WORKSPACE/MegaClassifier/dataset/datasetCropped/caballo/caballos_alumno_am/caballos_alumno_am/2_20201215_3330_.jpg\n"
     ]
    },
    {
     "name": "stderr",
     "output_type": "stream",
     "text": [
      " 62%|██████▏   | 92/149 [03:43<02:11,  2.30s/it]"
     ]
    },
    {
     "name": "stdout",
     "output_type": "stream",
     "text": [
      "Processing image /Users/carlos/WORKSPACE/MegaClassifier/dataset/datasetCropped/leporido/rabbit_mammalweb/162698.jpg\n"
     ]
    },
    {
     "name": "stderr",
     "output_type": "stream",
     "text": [
      " 62%|██████▏   | 93/149 [03:46<02:13,  2.38s/it]"
     ]
    },
    {
     "name": "stdout",
     "output_type": "stream",
     "text": [
      "Processing image /Users/carlos/WORKSPACE/MegaClassifier/dataset/datasetCropped/humanovehiculo/humano_vehiculo_pnm_2013-o_isaac/f19139im000011.jpg\n"
     ]
    },
    {
     "name": "stderr",
     "output_type": "stream",
     "text": [
      " 63%|██████▎   | 94/149 [03:48<02:14,  2.45s/it]"
     ]
    },
    {
     "name": "stdout",
     "output_type": "stream",
     "text": [
      "Processing image /Users/carlos/WORKSPACE/MegaClassifier/dataset/datasetCropped/cervidae/cervidredorfallowdeer_zoo_5_6_7_9/19_20210319_685_.jpg\n"
     ]
    },
    {
     "name": "stderr",
     "output_type": "stream",
     "text": [
      " 64%|██████▍   | 95/149 [03:50<02:08,  2.38s/it]"
     ]
    },
    {
     "name": "stdout",
     "output_type": "stream",
     "text": [
      "Processing image /Users/carlos/WORKSPACE/MegaClassifier/dataset/datasetCropped/vacia/noanimal_zoo_1_4/6_20201812_14822_.jpg\n"
     ]
    },
    {
     "name": "stderr",
     "output_type": "stream",
     "text": [
      " 64%|██████▍   | 96/149 [03:53<02:03,  2.33s/it]"
     ]
    },
    {
     "name": "stdout",
     "output_type": "stream",
     "text": [
      "Processing image /Users/carlos/WORKSPACE/MegaClassifier/dataset/datasetCropped/vacia/vacias_pnc_2012_jc/a47569im000063.jpg\n"
     ]
    },
    {
     "name": "stderr",
     "output_type": "stream",
     "text": [
      " 65%|██████▌   | 97/149 [03:55<02:04,  2.40s/it]"
     ]
    },
    {
     "name": "stdout",
     "output_type": "stream",
     "text": [
      "Processing image /Users/carlos/WORKSPACE/MegaClassifier/dataset/datasetCropped/cervidae/cervidredorfallowdeer_zoo_5_6_7_9/9_20210615_525_.jpg\n"
     ]
    },
    {
     "name": "stderr",
     "output_type": "stream",
     "text": [
      " 66%|██████▌   | 98/149 [03:57<01:59,  2.34s/it]"
     ]
    },
    {
     "name": "stdout",
     "output_type": "stream",
     "text": [
      "Processing image /Users/carlos/WORKSPACE/MegaClassifier/dataset/datasetCropped/cervidae/cervidredorfallowdeer_zoo_1_4/34_20201024_4429_.jpg\n"
     ]
    },
    {
     "name": "stderr",
     "output_type": "stream",
     "text": [
      " 66%|██████▋   | 99/149 [03:59<01:54,  2.28s/it]"
     ]
    },
    {
     "name": "stdout",
     "output_type": "stream",
     "text": [
      "Processing image /Users/carlos/WORKSPACE/MegaClassifier/dataset/datasetCropped/vacia/empty_snapshotmountainzebra/mtz_s1_g04_r3_imag2073.jpg\n"
     ]
    },
    {
     "name": "stderr",
     "output_type": "stream",
     "text": [
      " 67%|██████▋   | 100/149 [04:02<01:55,  2.36s/it]"
     ]
    },
    {
     "name": "stdout",
     "output_type": "stream",
     "text": [
      "Processing image /Users/carlos/WORKSPACE/MegaClassifier/dataset/datasetCropped/vacia/vacias_1_de_2_pnc_2012_isaac/a37278im000393.jpg\n"
     ]
    },
    {
     "name": "stderr",
     "output_type": "stream",
     "text": [
      " 68%|██████▊   | 101/149 [04:05<01:56,  2.42s/it]"
     ]
    },
    {
     "name": "stdout",
     "output_type": "stream",
     "text": [
      "Processing image /Users/carlos/WORKSPACE/MegaClassifier/dataset/datasetCropped/vacia/noanimal_zoo_5_6_7_9/19_20210319_2184_.jpg\n"
     ]
    },
    {
     "name": "stderr",
     "output_type": "stream",
     "text": [
      " 68%|██████▊   | 102/149 [04:07<01:50,  2.35s/it]"
     ]
    },
    {
     "name": "stdout",
     "output_type": "stream",
     "text": [
      "Processing image /Users/carlos/WORKSPACE/MegaClassifier/dataset/datasetCropped/lince/lince_b_linces2_leo_jc/lince198_12_.jpg\n"
     ]
    },
    {
     "name": "stderr",
     "output_type": "stream",
     "text": [
      " 69%|██████▉   | 103/149 [04:09<01:46,  2.31s/it]"
     ]
    },
    {
     "name": "stdout",
     "output_type": "stream",
     "text": [
      "Processing image /Users/carlos/WORKSPACE/MegaClassifier/dataset/datasetCropped/cervidae/ciervo_pnc_2012_isaac/a13870im000079.jpg\n"
     ]
    },
    {
     "name": "stderr",
     "output_type": "stream",
     "text": [
      " 70%|██████▉   | 104/149 [04:12<01:47,  2.38s/it]"
     ]
    },
    {
     "name": "stdout",
     "output_type": "stream",
     "text": [
      "Processing image /Users/carlos/WORKSPACE/MegaClassifier/dataset/datasetCropped/vacia/vacia_me_rev_3_donana/37_20201024_2100_.jpg\n"
     ]
    },
    {
     "name": "stderr",
     "output_type": "stream",
     "text": [
      " 70%|███████   | 105/149 [04:14<01:42,  2.33s/it]"
     ]
    },
    {
     "name": "stdout",
     "output_type": "stream",
     "text": [
      "Processing image /Users/carlos/WORKSPACE/MegaClassifier/dataset/datasetCropped/zorro/zorro_pnc_2013-o_red_isaac/b15854im000084.jpg\n"
     ]
    },
    {
     "name": "stderr",
     "output_type": "stream",
     "text": [
      " 71%|███████   | 106/149 [04:16<01:44,  2.44s/it]"
     ]
    },
    {
     "name": "stdout",
     "output_type": "stream",
     "text": [
      "Processing image /Users/carlos/WORKSPACE/MegaClassifier/dataset/datasetCropped/cervidae/ciervo_pnc_2013-o_red_isaac/b17592im000130.jpg\n"
     ]
    },
    {
     "name": "stderr",
     "output_type": "stream",
     "text": [
      " 72%|███████▏  | 107/149 [04:19<01:43,  2.47s/it]"
     ]
    },
    {
     "name": "stdout",
     "output_type": "stream",
     "text": [
      "Processing image /Users/carlos/WORKSPACE/MegaClassifier/dataset/datasetCropped/vacia/vacias_1_de_2_pnc_2012_isaac/a42646im000847.jpg\n"
     ]
    },
    {
     "name": "stderr",
     "output_type": "stream",
     "text": [
      " 72%|███████▏  | 108/149 [04:22<01:43,  2.52s/it]"
     ]
    },
    {
     "name": "stdout",
     "output_type": "stream",
     "text": [
      "Processing image /Users/carlos/WORKSPACE/MegaClassifier/dataset/datasetCropped/cervidae/gamo_javi_3_jc/9_20201025_460_.jpg\n"
     ]
    },
    {
     "name": "stderr",
     "output_type": "stream",
     "text": [
      " 73%|███████▎  | 109/149 [04:24<01:36,  2.42s/it]"
     ]
    },
    {
     "name": "stdout",
     "output_type": "stream",
     "text": [
      "Processing image /Users/carlos/WORKSPACE/MegaClassifier/dataset/datasetCropped/gato_domestico/gato_wellingtoncameratraps_ss/110816184544011a5902.jpg\n"
     ]
    },
    {
     "name": "stderr",
     "output_type": "stream",
     "text": [
      " 74%|███████▍  | 110/149 [04:26<01:35,  2.45s/it]"
     ]
    },
    {
     "name": "stdout",
     "output_type": "stream",
     "text": [
      "Processing image /Users/carlos/WORKSPACE/MegaClassifier/dataset/datasetCropped/cervidae/cervidredorfallowdeer_zoo_1_4/34_20201024_5211_.jpg\n"
     ]
    },
    {
     "name": "stderr",
     "output_type": "stream",
     "text": [
      " 74%|███████▍  | 111/149 [04:28<01:30,  2.37s/it]"
     ]
    },
    {
     "name": "stdout",
     "output_type": "stream",
     "text": [
      "Processing image /Users/carlos/WORKSPACE/MegaClassifier/dataset/datasetCropped/micromamiferos/rodent_caltechcameratrap_jc/roedor_rodent_caltechcameratrap_jc/59aadc0d-23d2-11e8-a6a3-ec086b02610b.jpg\n"
     ]
    },
    {
     "name": "stderr",
     "output_type": "stream",
     "text": [
      " 75%|███████▌  | 112/149 [04:31<01:29,  2.43s/it]"
     ]
    },
    {
     "name": "stdout",
     "output_type": "stream",
     "text": [
      "Processing image /Users/carlos/WORKSPACE/MegaClassifier/dataset/datasetCropped/leporido/rabbit_islandconservationcameratraps/chile_piedra012013_07032013165357.jpg\n"
     ]
    },
    {
     "name": "stderr",
     "output_type": "stream",
     "text": [
      " 76%|███████▌  | 113/149 [04:34<01:28,  2.47s/it]"
     ]
    },
    {
     "name": "stdout",
     "output_type": "stream",
     "text": [
      "Processing image /Users/carlos/WORKSPACE/MegaClassifier/dataset/datasetCropped/vacia/empty_snapshotmountainzebra/mtz_s1_d05_r1_imag0358.jpg\n"
     ]
    },
    {
     "name": "stderr",
     "output_type": "stream",
     "text": [
      " 77%|███████▋  | 114/149 [04:36<01:27,  2.49s/it]"
     ]
    },
    {
     "name": "stdout",
     "output_type": "stream",
     "text": [
      "Processing image /Users/carlos/WORKSPACE/MegaClassifier/dataset/datasetCropped/garduna/garduna_pnm_2013-i_isaac/e511im000014.jpg\n"
     ]
    },
    {
     "name": "stderr",
     "output_type": "stream",
     "text": [
      " 77%|███████▋  | 115/149 [04:39<01:25,  2.51s/it]"
     ]
    },
    {
     "name": "stdout",
     "output_type": "stream",
     "text": [
      "Processing image /Users/carlos/WORKSPACE/MegaClassifier/dataset/datasetCropped/leporido/rabbit_caltechcameratrap_me/5865e441-23d2-11e8-a6a3-ec086b02610b.jpg\n"
     ]
    },
    {
     "name": "stderr",
     "output_type": "stream",
     "text": [
      " 78%|███████▊  | 116/149 [04:41<01:23,  2.54s/it]"
     ]
    },
    {
     "name": "stdout",
     "output_type": "stream",
     "text": [
      "Processing image /Users/carlos/WORKSPACE/MegaClassifier/dataset/datasetCropped/jabali/wildboar_zoo_1_4/37_20201116_7182_.jpg\n"
     ]
    },
    {
     "name": "stderr",
     "output_type": "stream",
     "text": [
      " 79%|███████▊  | 117/149 [04:44<01:18,  2.45s/it]"
     ]
    },
    {
     "name": "stdout",
     "output_type": "stream",
     "text": [
      "Processing image /Users/carlos/WORKSPACE/MegaClassifier/dataset/datasetCropped/cervidae/2_ciervo_javi_3_jc/34_20201024_2341_.jpg\n"
     ]
    },
    {
     "name": "stderr",
     "output_type": "stream",
     "text": [
      " 79%|███████▉  | 118/149 [04:46<01:13,  2.37s/it]"
     ]
    },
    {
     "name": "stdout",
     "output_type": "stream",
     "text": [
      "Processing image /Users/carlos/WORKSPACE/MegaClassifier/dataset/datasetCropped/jabali/wildboar_zoo_1_4/20_20210115_413_.jpg\n"
     ]
    },
    {
     "name": "stderr",
     "output_type": "stream",
     "text": [
      " 80%|███████▉  | 119/149 [04:48<01:09,  2.33s/it]"
     ]
    },
    {
     "name": "stdout",
     "output_type": "stream",
     "text": [
      "Processing image /Users/carlos/WORKSPACE/MegaClassifier/dataset/datasetCropped/leporido/conejo_paco_carro_jc/pict0572.jpg\n"
     ]
    },
    {
     "name": "stderr",
     "output_type": "stream",
     "text": [
      " 81%|████████  | 120/149 [04:51<01:09,  2.41s/it]"
     ]
    },
    {
     "name": "stdout",
     "output_type": "stream",
     "text": [
      "Processing image /Users/carlos/WORKSPACE/MegaClassifier/dataset/datasetCropped/vacia/noanimal_zoo_5_6_7_9/31_20210417_1271_.jpg\n"
     ]
    },
    {
     "name": "stderr",
     "output_type": "stream",
     "text": [
      " 81%|████████  | 121/149 [04:53<01:05,  2.35s/it]"
     ]
    },
    {
     "name": "stdout",
     "output_type": "stream",
     "text": [
      "Processing image /Users/carlos/WORKSPACE/MegaClassifier/dataset/datasetCropped/jabali/wildboar_zoo_1_4/43_20201118_187_.jpg\n"
     ]
    },
    {
     "name": "stderr",
     "output_type": "stream",
     "text": [
      " 82%|████████▏ | 122/149 [04:55<01:02,  2.32s/it]"
     ]
    },
    {
     "name": "stdout",
     "output_type": "stream",
     "text": [
      "Processing image /Users/carlos/WORKSPACE/MegaClassifier/dataset/datasetCropped/tejon/tejon_pepe_irec_jc/imag0131__5_.jpg\n"
     ]
    },
    {
     "name": "stderr",
     "output_type": "stream",
     "text": [
      " 83%|████████▎ | 123/149 [04:58<01:05,  2.54s/it]"
     ]
    },
    {
     "name": "stdout",
     "output_type": "stream",
     "text": [
      "Processing image /Users/carlos/WORKSPACE/MegaClassifier/dataset/datasetCropped/vacia/vacia_paco_carro_jc/img_2204.jpg\n"
     ]
    },
    {
     "name": "stderr",
     "output_type": "stream",
     "text": [
      " 83%|████████▎ | 124/149 [05:01<01:04,  2.58s/it]"
     ]
    },
    {
     "name": "stdout",
     "output_type": "stream",
     "text": [
      "Processing image /Users/carlos/WORKSPACE/MegaClassifier/dataset/datasetCropped/gato_domestico/gato_wellingtoncameratraps_ss/2606152015480359l101.jpg\n"
     ]
    },
    {
     "name": "stderr",
     "output_type": "stream",
     "text": [
      " 84%|████████▍ | 125/149 [05:03<01:02,  2.60s/it]"
     ]
    },
    {
     "name": "stdout",
     "output_type": "stream",
     "text": [
      "Processing image /Users/carlos/WORKSPACE/MegaClassifier/dataset/datasetCropped/jabali/wildboar_zoo_1_4/37_20201116_4739_.jpg\n"
     ]
    },
    {
     "name": "stderr",
     "output_type": "stream",
     "text": [
      " 85%|████████▍ | 126/149 [05:06<00:57,  2.50s/it]"
     ]
    },
    {
     "name": "stdout",
     "output_type": "stream",
     "text": [
      "Processing image /Users/carlos/WORKSPACE/MegaClassifier/dataset/datasetCropped/zorro/zorro_pnc_2014_jc/c29797im000021.jpg\n"
     ]
    },
    {
     "name": "stderr",
     "output_type": "stream",
     "text": [
      " 85%|████████▌ | 127/149 [05:08<00:55,  2.54s/it]"
     ]
    },
    {
     "name": "stdout",
     "output_type": "stream",
     "text": [
      "Processing image /Users/carlos/WORKSPACE/MegaClassifier/dataset/datasetCropped/vacia/noanimal_zoo_1_4/37_20201116_10357_.jpg\n"
     ]
    },
    {
     "name": "stderr",
     "output_type": "stream",
     "text": [
      " 86%|████████▌ | 128/149 [05:11<00:51,  2.45s/it]"
     ]
    },
    {
     "name": "stdout",
     "output_type": "stream",
     "text": [
      "Processing image /Users/carlos/WORKSPACE/MegaClassifier/dataset/datasetCropped/cervidae/cervidredorfallowdeer_zoo_1_4/21_20201025_2267_.jpg\n"
     ]
    },
    {
     "name": "stderr",
     "output_type": "stream",
     "text": [
      " 87%|████████▋ | 129/149 [05:13<00:47,  2.37s/it]"
     ]
    },
    {
     "name": "stdout",
     "output_type": "stream",
     "text": [
      "Processing image /Users/carlos/WORKSPACE/MegaClassifier/dataset/datasetCropped/meloncillo/2_meloncillo_pepe_irec_jc/imag0109__12_.jpg\n"
     ]
    },
    {
     "name": "stderr",
     "output_type": "stream",
     "text": [
      " 87%|████████▋ | 130/149 [05:15<00:46,  2.44s/it]"
     ]
    },
    {
     "name": "stdout",
     "output_type": "stream",
     "text": [
      "Processing image /Users/carlos/WORKSPACE/MegaClassifier/dataset/datasetCropped/cervidae/ciervo_vacias_humanos_pnc_2012_me/a40430imag0087.jpg\n"
     ]
    },
    {
     "name": "stderr",
     "output_type": "stream",
     "text": [
      " 88%|████████▊ | 131/149 [05:18<00:45,  2.53s/it]"
     ]
    },
    {
     "name": "stdout",
     "output_type": "stream",
     "text": [
      "Processing image /Users/carlos/WORKSPACE/MegaClassifier/dataset/datasetCropped/vacia/empty_snapshotmountainzebra/mtz_s1_f04_r3_imag7014.jpg\n"
     ]
    },
    {
     "name": "stderr",
     "output_type": "stream",
     "text": [
      " 89%|████████▊ | 132/149 [05:21<00:43,  2.56s/it]"
     ]
    },
    {
     "name": "stdout",
     "output_type": "stream",
     "text": [
      "Processing image /Users/carlos/WORKSPACE/MegaClassifier/dataset/datasetCropped/cervidae/cervidredorfallowdeer_zoo_5_6_7_9/3_20210218_122__2021_04_1506_16_22utc_.jpg\n"
     ]
    },
    {
     "name": "stderr",
     "output_type": "stream",
     "text": [
      " 89%|████████▉ | 133/149 [05:23<00:39,  2.47s/it]"
     ]
    },
    {
     "name": "stdout",
     "output_type": "stream",
     "text": [
      "Processing image /Users/carlos/WORKSPACE/MegaClassifier/dataset/datasetCropped/vacia/noanimal_zoo_5_6_7_9/25_20210319_7871_.jpg\n"
     ]
    },
    {
     "name": "stderr",
     "output_type": "stream",
     "text": [
      " 90%|████████▉ | 134/149 [05:25<00:35,  2.38s/it]"
     ]
    },
    {
     "name": "stdout",
     "output_type": "stream",
     "text": [
      "Processing image /Users/carlos/WORKSPACE/MegaClassifier/dataset/datasetCropped/cervidae/cervidredorfallowdeer_zoo_5_6_7_9/16_20210418_164_.jpg\n"
     ]
    },
    {
     "name": "stderr",
     "output_type": "stream",
     "text": [
      " 91%|█████████ | 135/149 [05:27<00:32,  2.33s/it]"
     ]
    },
    {
     "name": "stdout",
     "output_type": "stream",
     "text": [
      "Processing image /Users/carlos/WORKSPACE/MegaClassifier/dataset/datasetCropped/cervidae/ciervo_pnc_2014_isaac/c21800im000172.jpg\n"
     ]
    },
    {
     "name": "stderr",
     "output_type": "stream",
     "text": [
      " 91%|█████████▏| 136/149 [05:30<00:31,  2.41s/it]"
     ]
    },
    {
     "name": "stdout",
     "output_type": "stream",
     "text": [
      "Processing image /Users/carlos/WORKSPACE/MegaClassifier/dataset/datasetCropped/cervidae/deer_caltechcameratrap/58ac0c1c-23d2-11e8-a6a3-ec086b02610b.jpg\n"
     ]
    },
    {
     "name": "stderr",
     "output_type": "stream",
     "text": [
      " 92%|█████████▏| 137/149 [05:32<00:29,  2.46s/it]"
     ]
    },
    {
     "name": "stdout",
     "output_type": "stream",
     "text": [
      "Processing image /Users/carlos/WORKSPACE/MegaClassifier/dataset/datasetCropped/ave/2_ave_ave_wellingtoncameratraps_ss/050416175512047a1163.jpg\n"
     ]
    },
    {
     "name": "stderr",
     "output_type": "stream",
     "text": [
      " 93%|█████████▎| 138/149 [05:35<00:27,  2.50s/it]"
     ]
    },
    {
     "name": "stdout",
     "output_type": "stream",
     "text": [
      "Processing image /Users/carlos/WORKSPACE/MegaClassifier/dataset/datasetCropped/cervidae/ciervo_vacias_humanos_pnc_2012_me/a23672im000117.jpg\n"
     ]
    },
    {
     "name": "stderr",
     "output_type": "stream",
     "text": [
      " 93%|█████████▎| 139/149 [05:38<00:25,  2.52s/it]"
     ]
    },
    {
     "name": "stdout",
     "output_type": "stream",
     "text": [
      "Processing image /Users/carlos/WORKSPACE/MegaClassifier/dataset/datasetCropped/caballo/horse_zoo_1_4/15_20210117_14904_.jpg\n"
     ]
    },
    {
     "name": "stderr",
     "output_type": "stream",
     "text": [
      " 94%|█████████▍| 140/149 [05:40<00:21,  2.43s/it]"
     ]
    },
    {
     "name": "stdout",
     "output_type": "stream",
     "text": [
      "Processing image /Users/carlos/WORKSPACE/MegaClassifier/dataset/datasetCropped/cervidae/cervidredorfallowdeer_zoo_5_6_7_9/28_20210318_15593_.jpg\n"
     ]
    },
    {
     "name": "stderr",
     "output_type": "stream",
     "text": [
      " 95%|█████████▍| 141/149 [05:42<00:18,  2.37s/it]"
     ]
    },
    {
     "name": "stdout",
     "output_type": "stream",
     "text": [
      "Processing image /Users/carlos/WORKSPACE/MegaClassifier/dataset/datasetCropped/leporido/rabbit_caltechcameratrap_me/598de8a5-23d2-11e8-a6a3-ec086b02610b.jpg\n"
     ]
    },
    {
     "name": "stderr",
     "output_type": "stream",
     "text": [
      " 95%|█████████▌| 142/149 [05:45<00:17,  2.45s/it]"
     ]
    },
    {
     "name": "stdout",
     "output_type": "stream",
     "text": [
      "Processing image /Users/carlos/WORKSPACE/MegaClassifier/dataset/datasetCropped/ave/ave_ave_wellingtoncameratraps_ss/010216093202023as383.jpg\n"
     ]
    },
    {
     "name": "stderr",
     "output_type": "stream",
     "text": [
      " 96%|█████████▌| 143/149 [05:47<00:15,  2.52s/it]"
     ]
    },
    {
     "name": "stdout",
     "output_type": "stream",
     "text": [
      "Processing image /Users/carlos/WORKSPACE/MegaClassifier/dataset/datasetCropped/vacia/noanimal_zoo_5_6_7_9/24_20210418_6999_.jpg\n"
     ]
    },
    {
     "name": "stderr",
     "output_type": "stream",
     "text": [
      " 97%|█████████▋| 144/149 [05:50<00:12,  2.44s/it]"
     ]
    },
    {
     "name": "stdout",
     "output_type": "stream",
     "text": [
      "Processing image /Users/carlos/WORKSPACE/MegaClassifier/dataset/datasetCropped/lince/lince_b_linces2_leo_jc/lince228_336_.jpg\n"
     ]
    },
    {
     "name": "stderr",
     "output_type": "stream",
     "text": [
      " 97%|█████████▋| 145/149 [05:52<00:09,  2.48s/it]"
     ]
    },
    {
     "name": "stdout",
     "output_type": "stream",
     "text": [
      "Processing image /Users/carlos/WORKSPACE/MegaClassifier/dataset/datasetCropped/caballo/caballos_th_jc/17_20201611_207_.jpg\n"
     ]
    },
    {
     "name": "stderr",
     "output_type": "stream",
     "text": [
      " 98%|█████████▊| 146/149 [05:54<00:07,  2.40s/it]"
     ]
    },
    {
     "name": "stdout",
     "output_type": "stream",
     "text": [
      "Processing image /Users/carlos/WORKSPACE/MegaClassifier/dataset/datasetCropped/vacia/noanimal_zoo_1_4/34_20210115_4684_.jpg\n"
     ]
    },
    {
     "name": "stderr",
     "output_type": "stream",
     "text": [
      " 99%|█████████▊| 147/149 [05:57<00:04,  2.34s/it]"
     ]
    },
    {
     "name": "stdout",
     "output_type": "stream",
     "text": [
      "Processing image /Users/carlos/WORKSPACE/MegaClassifier/dataset/datasetCropped/cervidae/cervidredorfallowdeer_zoo_5_6_7_9/8_20210219_432__2021_04_1506_16_22utc_.jpg\n"
     ]
    },
    {
     "name": "stderr",
     "output_type": "stream",
     "text": [
      " 99%|█████████▉| 148/149 [05:59<00:02,  2.29s/it]"
     ]
    },
    {
     "name": "stdout",
     "output_type": "stream",
     "text": [
      "Processing image /Users/carlos/WORKSPACE/MegaClassifier/dataset/datasetCropped/zorro/zorro_pnc_2012_jc/a33460imag0131.jpg\n",
      "Finished inference for 149 images in 6 minutes and 7.39 seconds\n",
      "Output file saved at /Users/carlos/WORKSPACE/MegaClassifier/resources/json/detections.json\n",
      "Done!\n"
     ]
    },
    {
     "name": "stderr",
     "output_type": "stream",
     "text": [
      "100%|██████████| 149/149 [06:01<00:00,  2.43s/it]\n"
     ]
    },
    {
     "data": {
      "text/plain": [
       "0"
      ]
     },
     "execution_count": 9,
     "metadata": {},
     "output_type": "execute_result"
    }
   ],
   "source": [
    "command = f'python src/detection/run_detector_batch.py \"{MODEL_PATH}\" \"{IMAGES_PATH_JSON}\" \"{OUTPUT_FILE_PATH}\" --recursive --threshold \"{threshold}\"'\n",
    "os.system(command)"
   ]
  },
  {
   "cell_type": "code",
   "execution_count": null,
   "metadata": {},
   "outputs": [
    {
     "name": "stdout",
     "output_type": "stream",
     "text": [
      "Output file saved at /Users/carlos/WORKSPACE/MegaClassifier/resources/json/md_v5a/149_images_0_2_threshold.json\n",
      "Output file deleted: /Users/carlos/WORKSPACE/MegaClassifier/resources/json/detections.json\n",
      "Images paths json file deleted: /Users/carlos/WORKSPACE/MegaClassifier/resources/json/dataset_file_paths.json\n"
     ]
    }
   ],
   "source": [
    "with open(OUTPUT_FILE_PATH, \"r\") as file:\n",
    "    data = json.load(file)\n",
    "\n",
    "for image in data[\"images\"]:\n",
    "    image[\"file\"] = image[\"file\"].replace(\n",
    "        DATASET_PATH + \"/\",\n",
    "        \"\",\n",
    "    )\n",
    "\n",
    "info = {\n",
    "    \"detection_completion_time\": data[\"info\"][\"detection_completion_time\"],\n",
    "    \"format_version\": data[\"info\"][\"format_version\"],\n",
    "    \"detector\": data[\"info\"][\"detector\"],\n",
    "    \"detector_threshold\": threshold,\n",
    "    \"detector_metadata\": data[\"info\"][\"detector_metadata\"],\n",
    "}\n",
    "\n",
    "final_output = {\n",
    "    \"images\": data[\"images\"],\n",
    "    \"detection_categories\": data[\"detection_categories\"],\n",
    "    \"info\": info,\n",
    "}\n",
    "\n",
    "threshold_str = str(threshold).replace(\".\", \"_\")\n",
    "json_name = f\"{len(data['images'])}_images_{threshold_str}_threshold.json\"\n",
    "model_name = os.path.basename(MODEL_PATH).split(\".\")[0]\n",
    "tmp_path = os.path.join(OUTPUT_PATH, model_name)\n",
    "os.makedirs(tmp_path, exist_ok=True)\n",
    "NEW_OUTPUT_FILE_PATH = os.path.join(tmp_path, json_name)\n",
    "\n",
    "\n",
    "with open(NEW_OUTPUT_FILE_PATH, \"w\") as f:\n",
    "    json.dump(final_output, f, indent=1)\n",
    "print(f\"Output file saved at {NEW_OUTPUT_FILE_PATH}\")\n",
    "\n",
    "os.remove(OUTPUT_FILE_PATH)\n",
    "print(f\"Output file deleted: {OUTPUT_FILE_PATH}\")\n",
    "\n",
    "os.remove(IMAGES_PATH_JSON)\n",
    "print(f\"Images paths json file deleted: {IMAGES_PATH_JSON}\")\n"
   ]
  },
  {
   "cell_type": "code",
   "execution_count": 15,
   "metadata": {},
   "outputs": [
    {
     "name": "stdout",
     "output_type": "stream",
     "text": [
      "Number of files in /Users/carlos/WORKSPACE/MegaClassifier/resources/json/md_v5a/1234_images_0_003_threshold.json: 29618\n"
     ]
    }
   ],
   "source": [
    "with open(NEW_OUTPUT_FILE_PATH, \"r\") as file:\n",
    "    new_data = json.load(file)\n",
    "\n",
    "num_files = len(new_data[\"images\"])\n",
    "print(f\"Number of files in {NEW_OUTPUT_FILE_PATH}: {num_files}\")"
   ]
  }
 ],
 "metadata": {
  "kernelspec": {
   "display_name": "cameratraps-detector",
   "language": "python",
   "name": "python3"
  },
  "language_info": {
   "codemirror_mode": {
    "name": "ipython",
    "version": 3
   },
   "file_extension": ".py",
   "mimetype": "text/x-python",
   "name": "python",
   "nbconvert_exporter": "python",
   "pygments_lexer": "ipython3",
   "version": "3.8.15"
  }
 },
 "nbformat": 4,
 "nbformat_minor": 2
}
