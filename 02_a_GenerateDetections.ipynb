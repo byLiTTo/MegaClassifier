{
 "cells": [
  {
   "cell_type": "code",
   "execution_count": null,
   "metadata": {},
   "outputs": [],
   "source": [
    "import json\n",
    "import os\n",
    "\n",
    "import src.data.Dataset as dt"
   ]
  },
  {
   "cell_type": "code",
   "execution_count": null,
   "metadata": {},
   "outputs": [],
   "source": [
    "required_paths = [\"/ai4eutils\", \"/CameraTraps\", \"/yolov5\"]\n",
    "python_path = os.environ.get(\"PYTHONPATH\", \"\")\n",
    "root_path = os.getcwd()\n",
    "\n",
    "for path in required_paths:\n",
    "    if not any(p.endswith(path) for p in python_path.split(\":\")):\n",
    "        python_path += f\":{root_path}/data/external{path}\"\n",
    "\n",
    "os.environ[\"PYTHONPATH\"] = python_path\n",
    "\n",
    "!echo \"PYTHONPATH: $PYTHONPATH\""
   ]
  },
  {
   "cell_type": "code",
   "execution_count": null,
   "metadata": {},
   "outputs": [],
   "source": [
    "threshold = float(0.0015)\n",
    "\n",
    "INPUT_FILE_PATH = os.path.abspath(\"./resources/json/input_filenames.json\")\n",
    "DATASET_PATH = os.path.abspath(\"./data/raw/emptyNonEmptyDataset_ETL\")\n",
    "OUTPUT_PATH = os.path.abspath(\"./resources/json\")\n",
    "OUTPUT_FILE_PATH = os.path.join(OUTPUT_PATH, \"output_detections.json\")\n",
    "\n",
    "MODEL_PATH = os.path.abspath(\"./models/MegaDetector/md_v5a.0.0.pt\")\n",
    "# MODEL_PATH = os.path.abspath(\"./models/MegaDetector/md_v5b.0.0.pt\")\n",
    "# MODEL_PATH = os.path.abspath(\"./models/MegaDetector/md_v4.1.0.pb\")\n",
    "\n",
    "\n",
    "dataset_csv_path = os.path.abspath(\n",
    "    \"./data/raw/emptyNonEmptyDataset_ETL/28570Images_subset.csv\"\n",
    ")\n",
    "dataset = dt.load_from_csv(dataset_csv_path)\n",
    "dataset[\"file_name_abspath\"] = dataset[\"file_name\"].apply(\n",
    "    lambda x: os.path.join(DATASET_PATH, x)\n",
    ")\n",
    "with open(INPUT_FILE_PATH, \"w\") as f:\n",
    "    json.dump(dataset[\"file_name_abspath\"].tolist(), f, indent=1)\n",
    "\n",
    "os.makedirs(OUTPUT_PATH, exist_ok=True)\n",
    "\n",
    "print()\n",
    "print(f\"MODEL_PATH:       {MODEL_PATH}\")\n",
    "print(f\"DATASET_PATH:     {DATASET_PATH}\")\n",
    "print(f\"INPUT_FILE_PATH: {INPUT_FILE_PATH}\")\n",
    "print(f\"OUTPUT_PATH:      {OUTPUT_PATH}\")\n",
    "print(f\"OUTPUT_FILE_PATH: {OUTPUT_FILE_PATH}\")"
   ]
  },
  {
   "cell_type": "code",
   "execution_count": null,
   "metadata": {},
   "outputs": [],
   "source": [
    "with open(INPUT_FILE_PATH, \"r\") as file:\n",
    "    image_paths = json.load(file)\n",
    "\n",
    "total_images = len(image_paths)\n",
    "unavailable_images = []\n",
    "\n",
    "for path in image_paths:\n",
    "    if not os.path.exists(path):\n",
    "        unavailable_images.append(path)\n",
    "\n",
    "print(f\"Total number of image paths: {total_images}\")\n",
    "print(f\"Number of unavailable images: {len(unavailable_images)}\")\n",
    "if unavailable_images:\n",
    "    print(\"Unavailable image paths:\")\n",
    "    for path in unavailable_images:\n",
    "        print(path)"
   ]
  },
  {
   "cell_type": "code",
   "execution_count": null,
   "metadata": {},
   "outputs": [],
   "source": [
    "command = f'python src/detection/run_detector_batch.py \"{MODEL_PATH}\" \"{INPUT_FILE_PATH}\" \"{OUTPUT_FILE_PATH}\" --recursive --threshold \"{threshold}\"'\n",
    "print(command)"
   ]
  },
  {
   "cell_type": "code",
   "execution_count": null,
   "metadata": {},
   "outputs": [],
   "source": [
    "os.system(command)"
   ]
  },
  {
   "cell_type": "code",
   "execution_count": null,
   "metadata": {},
   "outputs": [],
   "source": [
    "with open(OUTPUT_FILE_PATH, \"r\") as file:\n",
    "    data = json.load(file)\n",
    "\n",
    "for image in data[\"images\"]:\n",
    "    image[\"file\"] = image[\"file\"].replace(\n",
    "        DATASET_PATH + \"/\",\n",
    "        \"\",\n",
    "    )\n",
    "\n",
    "info = {\n",
    "    \"detection_completion_time\": data[\"info\"][\"detection_completion_time\"],\n",
    "    \"format_version\": data[\"info\"][\"format_version\"],\n",
    "    \"detector\": data[\"info\"][\"detector\"],\n",
    "    \"detector_threshold\": threshold,\n",
    "    \"detector_metadata\": data[\"info\"][\"detector_metadata\"],\n",
    "}\n",
    "\n",
    "final_output = {\n",
    "    \"images\": data[\"images\"],\n",
    "    \"detection_categories\": data[\"detection_categories\"],\n",
    "    \"info\": info,\n",
    "}\n",
    "\n",
    "threshold_str = str(threshold).replace(\".\", \"_\")\n",
    "json_name = f\"{len(data['images'])}_images_{threshold_str}_threshold.json\"\n",
    "model_name = os.path.basename(MODEL_PATH).split(\".\")[0]\n",
    "\n",
    "os.makedirs(OUTPUT_PATH, exist_ok=True)\n",
    "NEW_OUTPUT_FILE_PATH = os.path.join(OUTPUT_PATH, json_name)\n",
    "\n",
    "\n",
    "with open(NEW_OUTPUT_FILE_PATH, \"w\") as f:\n",
    "    json.dump(final_output, f, indent=1)\n",
    "print(f\"Output file saved at {NEW_OUTPUT_FILE_PATH}\")\n",
    "\n",
    "os.remove(OUTPUT_FILE_PATH)\n",
    "print(f\"Output file deleted: {OUTPUT_FILE_PATH}\")\n",
    "\n",
    "os.remove(INPUT_FILE_PATH)\n",
    "print(f\"Images paths json file deleted: {INPUT_FILE_PATH}\")\n"
   ]
  },
  {
   "cell_type": "code",
   "execution_count": null,
   "metadata": {},
   "outputs": [],
   "source": [
    "with open(NEW_OUTPUT_FILE_PATH, \"r\") as file:\n",
    "    new_data = json.load(file)\n",
    "\n",
    "num_files = len(new_data[\"images\"])\n",
    "print(f\"Number of files in {NEW_OUTPUT_FILE_PATH}: {num_files}\")"
   ]
  }
 ],
 "metadata": {
  "kernelspec": {
   "display_name": "megaclassifier",
   "language": "python",
   "name": "python3"
  },
  "language_info": {
   "codemirror_mode": {
    "name": "ipython",
    "version": 3
   },
   "file_extension": ".py",
   "mimetype": "text/x-python",
   "name": "python",
   "nbconvert_exporter": "python",
   "pygments_lexer": "ipython3",
   "version": "3.8.19"
  }
 },
 "nbformat": 4,
 "nbformat_minor": 2
}
