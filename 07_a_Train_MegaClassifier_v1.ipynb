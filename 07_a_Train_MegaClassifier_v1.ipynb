{
 "cells": [
  {
   "cell_type": "code",
   "execution_count": 1,
   "metadata": {},
   "outputs": [],
   "source": [
    "import tensorboard"
   ]
  },
  {
   "cell_type": "code",
   "execution_count": 1,
   "metadata": {},
   "outputs": [],
   "source": [
    "import os\n",
    "\n",
    "import matplotlib.pyplot as plt\n",
    "import numpy as np\n",
    "import pandas as pd\n",
    "import tensorflow\n",
    "from keras.callbacks import TensorBoard\n",
    "from tensorflow.keras.metrics import *\n",
    "from tensorflow.keras.preprocessing.image import ImageDataGenerator\n",
    "\n",
    "import src.data.Dataset as dt"
   ]
  },
  {
   "cell_type": "code",
   "execution_count": null,
   "metadata": {},
   "outputs": [],
   "source": [
    "required_paths = [\"/ai4eutils\", \"/CameraTraps\", \"/yolov5\"]\n",
    "python_path = os.environ.get(\"PYTHONPATH\", \"\")\n",
    "root_path = os.getcwd()\n",
    "\n",
    "for path in required_paths:\n",
    "    if not any(p.endswith(path) for p in python_path.split(\":\")):\n",
    "        python_path += f\":{root_path}/data/external{path}\"\n",
    "\n",
    "os.environ[\"PYTHONPATH\"] = python_path\n",
    "\n",
    "!echo \"PYTHONPATH: $PYTHONPATH\""
   ]
  },
  {
   "cell_type": "code",
   "execution_count": null,
   "metadata": {},
   "outputs": [],
   "source": [
    "IMAGES_DATASET_PATH = os.path.abspath(\"./data/processed/preprocessed_megadetector\")\n",
    "CSV_DATASET_PATH = os.path.abspath(\n",
    "    \"./data/processed/original/28560Images_detection.csv\"\n",
    ")\n",
    "\n",
    "print(f\"IMAGES_DATASET_PATH: {IMAGES_DATASET_PATH}\")\n",
    "print(f\"CSV_DATASET_PATH:    {CSV_DATASET_PATH}\")"
   ]
  },
  {
   "cell_type": "code",
   "execution_count": null,
   "metadata": {},
   "outputs": [],
   "source": [
    "dataset = dt.load_from_csv(CSV_DATASET_PATH)\n",
    "dataset.head()"
   ]
  },
  {
   "cell_type": "code",
   "execution_count": 5,
   "metadata": {},
   "outputs": [],
   "source": [
    "dataset[\"file_name\"] = dataset[\"file_name\"].apply(\n",
    "    lambda x: os.path.join(IMAGES_DATASET_PATH, x)\n",
    ")\n",
    "dataset[\"binary_label\"] = dataset[\"binary_label\"].astype(str)\n",
    "\n",
    "train_dataframe = dataset[dataset[\"subset\"] == \"train\"]\n",
    "validation_dataframe = dataset[dataset[\"subset\"] == \"validation\"]\n",
    "test_dataframe = dataset[dataset[\"subset\"] == \"test\"]"
   ]
  },
  {
   "cell_type": "code",
   "execution_count": null,
   "metadata": {},
   "outputs": [],
   "source": [
    "train_dataframe.head()"
   ]
  },
  {
   "cell_type": "code",
   "execution_count": null,
   "metadata": {},
   "outputs": [],
   "source": [
    "IMG_SIZE = (224, 224)\n",
    "BATCH_SIZE = 64\n",
    "EPOCHS = 25\n",
    "VERSION = 1.0\n",
    "\n",
    "train_datagen = ImageDataGenerator(\n",
    "    preprocessing_function=tensorflow.keras.applications.mobilenet_v2.preprocess_input\n",
    ")\n",
    "normal_datagen = ImageDataGenerator(\n",
    "    preprocessing_function=tensorflow.keras.applications.mobilenet_v2.preprocess_input\n",
    ")\n",
    "\n",
    "train_images = train_datagen.flow_from_dataframe(\n",
    "    dataframe=train_dataframe,\n",
    "    x_col=\"file_name\",\n",
    "    y_col=\"binary_label\",\n",
    "    target_size=IMG_SIZE,\n",
    "    batch_size=BATCH_SIZE,\n",
    "    class_mode=\"binary\",\n",
    "    seed=42,\n",
    ")\n",
    "\n",
    "validation_images = normal_datagen.flow_from_dataframe(\n",
    "    dataframe=validation_dataframe,\n",
    "    x_col=\"file_name\",\n",
    "    y_col=\"binary_label\",\n",
    "    target_size=IMG_SIZE,\n",
    "    batch_size=BATCH_SIZE,\n",
    "    class_mode=\"binary\",\n",
    "    seed=42,\n",
    ")\n",
    "\n",
    "test_images = normal_datagen.flow_from_dataframe(\n",
    "    dataframe=test_dataframe,\n",
    "    x_col=\"file_name\",\n",
    "    y_col=\"binary_label\",\n",
    "    target_size=IMG_SIZE,\n",
    "    batch_size=BATCH_SIZE,\n",
    "    class_mode=\"binary\",\n",
    "    shuffle=False,\n",
    ")"
   ]
  },
  {
   "cell_type": "code",
   "execution_count": null,
   "metadata": {},
   "outputs": [],
   "source": [
    "def show_random_images_from_generator(generator, title):\n",
    "    images, labels = next(generator)\n",
    "    # Asegúrate de que las imágenes estén en el rango [0, 1] para visualizarlas correctamente\n",
    "    images = (\n",
    "        images + 1\n",
    "    ) * 127.5  # Si las imágenes están en el rango [-1, 1], esto las lleva a [0, 255]\n",
    "    images = np.clip(images, 0, 255)  # Asegúrate de que no haya valores fuera de rango\n",
    "\n",
    "    plt.figure(figsize=(15, 5))\n",
    "    for i in range(10):\n",
    "        plt.subplot(2, 5, i + 1)\n",
    "        plt.imshow(\n",
    "            images[i].astype(\"uint8\")\n",
    "        )  # Convierte a enteros de 8 bits para la visualización\n",
    "        plt.title(f\"Label: {int(labels[i])}\")\n",
    "        plt.axis(\"off\")\n",
    "    plt.suptitle(title)\n",
    "    plt.show()\n",
    "\n",
    "\n",
    "show_random_images_from_generator(train_images, \"Conjunto de Entrenamiento\")\n",
    "show_random_images_from_generator(validation_images, \"Conjunto de Validacion\")\n",
    "show_random_images_from_generator(test_images, \"Conjunto de Prueba\")"
   ]
  },
  {
   "cell_type": "code",
   "execution_count": null,
   "metadata": {},
   "outputs": [],
   "source": [
    "base_model = tensorflow.keras.applications.MobileNetV2(\n",
    "    weights=\"imagenet\", include_top=False, input_shape=(IMG_SIZE[0], IMG_SIZE[1], 3)\n",
    ")\n",
    "base_model.trainable = False\n",
    "\n",
    "model = tensorflow.keras.models.Sequential(\n",
    "    [\n",
    "        base_model,\n",
    "        tensorflow.keras.layers.GlobalAveragePooling2D(),\n",
    "        tensorflow.keras.layers.Dense(1, activation=\"sigmoid\"),\n",
    "    ],\n",
    "    name=f\"MegaClassifier_v.{VERSION}\",\n",
    ")\n",
    "\n",
    "model.compile(\n",
    "    optimizer=\"adam\",\n",
    "    loss=\"binary_crossentropy\",\n",
    "    metrics=[\n",
    "        \"accuracy\",\n",
    "        Precision(name=\"precision\"),\n",
    "        Recall(name=\"recall\"),\n",
    "        AUC(name=\"auc\"),\n",
    "        TruePositives(name=\"tp\"),\n",
    "        FalsePositives(name=\"fp\"),\n",
    "        TrueNegatives(name=\"tn\"),\n",
    "        FalseNegatives(name=\"fn\"),\n",
    "    ],\n",
    ")\n",
    "\n",
    "model.summary()"
   ]
  },
  {
   "cell_type": "code",
   "execution_count": null,
   "metadata": {},
   "outputs": [],
   "source": [
    "history = model.fit(\n",
    "    train_images,\n",
    "    validation_data=validation_images,\n",
    "    epochs=EPOCHS,\n",
    "    callbacks=[TensorBoard(log_dir=f\"./logs/MegaClassifier/v.{VERSION}\")],\n",
    ")"
   ]
  },
  {
   "cell_type": "code",
   "execution_count": null,
   "metadata": {},
   "outputs": [],
   "source": [
    "model.save(f\"./models/MegaClassifier/MegaClassifier_v.{VERSION}.h5\")"
   ]
  },
  {
   "cell_type": "code",
   "execution_count": 12,
   "metadata": {},
   "outputs": [],
   "source": [
    "history_df = pd.DataFrame(history.history)\n",
    "history_df.to_csv(\n",
    "    f\"./logs/MegaClassifier/v.{VERSION}/train_validation_history.csv\", index=False\n",
    ")"
   ]
  },
  {
   "cell_type": "code",
   "execution_count": null,
   "metadata": {},
   "outputs": [],
   "source": [
    "results = history.model.evaluate(test_images)\n",
    "metric_names = history.model.metrics_names\n",
    "\n",
    "evaluation_results = {\n",
    "    (\"test_\" + name): value for name, value in zip(metric_names, results)\n",
    "}\n",
    "evaluation_df = pd.DataFrame([evaluation_results])\n",
    "evaluation_df.to_csv(f\"./logs/MegaClassifier/v.{VERSION}/test_history.csv\", index=False)"
   ]
  }
 ],
 "metadata": {
  "kernelspec": {
   "display_name": "TFG",
   "language": "python",
   "name": "python3"
  },
  "language_info": {
   "codemirror_mode": {
    "name": "ipython",
    "version": 3
   },
   "file_extension": ".py",
   "mimetype": "text/x-python",
   "name": "python",
   "nbconvert_exporter": "python",
   "pygments_lexer": "ipython3",
   "version": "3.8.19"
  }
 },
 "nbformat": 4,
 "nbformat_minor": 2
}
