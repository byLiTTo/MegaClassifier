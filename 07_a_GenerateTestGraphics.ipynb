{
 "cells": [
  {
   "cell_type": "code",
   "execution_count": null,
   "metadata": {
    "id": "yBpFZAxqtnnG"
   },
   "outputs": [],
   "source": [
    "import os\n",
    "import pandas as pd\n",
    "import plotly.graph_objects as go\n",
    "import zipfile\n",
    "from tensorflow.keras.preprocessing.image import ImageDataGenerator\n",
    "from sklearn.metrics import confusion_matrix, auc, roc_curve\n",
    "import tensorflow as tf"
   ]
  },
  {
   "cell_type": "code",
   "execution_count": null,
   "metadata": {
    "id": "45IQT2lijQIx"
   },
   "outputs": [],
   "source": [
    "!pip install kaleido"
   ]
  },
  {
   "cell_type": "code",
   "execution_count": null,
   "metadata": {
    "id": "-MF2u8bkgD_h"
   },
   "outputs": [],
   "source": [
    "from google.colab import drive\n",
    "\n",
    "drive.mount(\"/content/drive\")\n",
    "\n",
    "BASE_PATH = os.path.abspath(\"./drive/MyDrive/MegaClassifier\")"
   ]
  },
  {
   "cell_type": "code",
   "execution_count": null,
   "metadata": {
    "id": "oyWONUmvqxMP"
   },
   "outputs": [],
   "source": [
    "MODEL_NAME = \"MegaClassifier_a\"\n",
    "VERSION = \"v1\""
   ]
  },
  {
   "cell_type": "code",
   "execution_count": null,
   "metadata": {
    "id": "nbVDLfGDfQfN"
   },
   "outputs": [],
   "source": [
    "DATASETS = {\n",
    "    \"MegaClassifier_a\": \"onlyDetectionsForTrain\",\n",
    "    \"MegaClassifier_b\": \"emptyOriginalAnimalDetection\",\n",
    "    \"MegaClassifier_c\": \"emptyNonEmptyDataset\",\n",
    "}\n",
    "\n",
    "VERSIONS = {\n",
    "    \"v1\": [\n",
    "        \"v1.0\",\n",
    "        \"v1.1\",\n",
    "        \"v1.2\",\n",
    "        \"v1.3\",\n",
    "    ],\n",
    "    \"v2\": [\"v2.0\", \"v2.1\", \"v2.2\"],\n",
    "    \"v3\": [\n",
    "        \"v3.0\",\n",
    "        \"v3.1\",\n",
    "    ],\n",
    "    \"v4\": [\n",
    "        \"v4.0.0\",\n",
    "        \"v4.0.1\",\n",
    "        \"v4.0.2\",\n",
    "        \"v4.1.0\",\n",
    "        \"v4.1.1\",\n",
    "        \"v4.1.2\",\n",
    "        \"v4.2.0\",\n",
    "        \"v4.2.1\",\n",
    "        \"v4.2.2\",\n",
    "    ],\n",
    "}"
   ]
  },
  {
   "cell_type": "code",
   "execution_count": null,
   "metadata": {
    "id": "1RlAdVrIxrUU"
   },
   "outputs": [],
   "source": [
    "DATASET_PATH_ZIP = os.path.join(BASE_PATH, f\"data/processed/{DATASETS[MODEL_NAME]}.zip\")\n",
    "with zipfile.ZipFile(DATASET_PATH_ZIP, \"r\") as zip_ref:\n",
    "    zip_ref.extractall(\"./data/processed\")\n",
    "DATASET_DIR = os.path.abspath(f\"data/processed/{DATASETS[MODEL_NAME]}\")"
   ]
  },
  {
   "cell_type": "code",
   "execution_count": null,
   "metadata": {
    "id": "U5QG9xEWFX7Q"
   },
   "outputs": [],
   "source": [
    "IMAGE_SIZE = (456, 456)\n",
    "IMAGE_SHAPE = IMAGE_SIZE + (3,)\n",
    "SEED = 42\n",
    "\n",
    "datagen = ImageDataGenerator(\n",
    "    preprocessing_function=tf.keras.applications.efficientnet.preprocess_input,\n",
    ")\n",
    "test_images = datagen.flow_from_directory(\n",
    "    directory=f\"{DATASET_DIR}/test\",\n",
    "    classes=[\"vacia\", \"animal\"],\n",
    "    target_size=IMAGE_SIZE,\n",
    "    class_mode=\"binary\",\n",
    "    shuffle=False,\n",
    "    seed=SEED,\n",
    ")"
   ]
  },
  {
   "cell_type": "code",
   "execution_count": null,
   "metadata": {
    "id": "-CEQnsqPGeq4"
   },
   "outputs": [],
   "source": [
    "test_images.class_indices"
   ]
  },
  {
   "cell_type": "code",
   "execution_count": null,
   "metadata": {
    "id": "z-XaHUDUWkPX"
   },
   "outputs": [],
   "source": [
    "def create_confusion_matrix(conf_matrix, MODEL_NAME, SUBVERSION):\n",
    "    fig = go.Figure(\n",
    "        data=go.Heatmap(\n",
    "            z=conf_matrix,\n",
    "            x=[\"Animal\", \"Empty\"],\n",
    "            y=[\"Empty\", \"Animal\"],\n",
    "            text=conf_matrix,\n",
    "            texttemplate=\"%{text}\",\n",
    "            colorscale=\"Blues\",\n",
    "            showscale=True,\n",
    "        )\n",
    "    )\n",
    "\n",
    "    fig.update_layout(\n",
    "        title=f\"Confusion Matrix {MODEL_NAME} {SUBVERSION}\",\n",
    "        xaxis_title=\"Predicted value\",\n",
    "        yaxis_title=\"Actual value\",\n",
    "        xaxis=dict(tickmode=\"array\", tickvals=[0, 1], ticktext=[\"Animal\", \"Empty\"]),\n",
    "        yaxis=dict(tickmode=\"array\", tickvals=[0, 1], ticktext=[\"Empty\", \"Animal\"]),\n",
    "        template=\"seaborn\",\n",
    "        width=600,\n",
    "        height=600,\n",
    "    )\n",
    "\n",
    "    return fig\n",
    "\n",
    "\n",
    "def create_roc_curve(fpr, tpr, roc_auc, MODEL_NAME, SUBVERSION):\n",
    "    fig = go.Figure()\n",
    "\n",
    "    fig.add_trace(go.Scatter(x=fpr, y=tpr, mode=\"lines\", name=f\"(AUC = {roc_auc:.4f})\"))\n",
    "\n",
    "    fig.add_trace(\n",
    "        go.Scatter(\n",
    "            x=[0, 1],\n",
    "            y=[0, 1],\n",
    "            mode=\"lines\",\n",
    "            name=\"(AUC = 0.5000)\",\n",
    "            line=dict(dash=\"dash\"),\n",
    "        )\n",
    "    )\n",
    "\n",
    "    fig.update_layout(\n",
    "        title=f\"ROC Curve {MODEL_NAME} {SUBVERSION}\",\n",
    "        xaxis_title=\"False Positive Rate\",\n",
    "        yaxis_title=\"True Positive Rate\",\n",
    "        legend_title=\"Curves\",\n",
    "        template=\"seaborn\",\n",
    "        width=700,\n",
    "        height=500,\n",
    "        xaxis=dict(\n",
    "            tickmode=\"linear\",\n",
    "            tick0=0,\n",
    "            dtick=0.1,\n",
    "        ),\n",
    "    )\n",
    "\n",
    "    return fig"
   ]
  },
  {
   "cell_type": "code",
   "execution_count": null,
   "metadata": {
    "id": "nHGxAzC3rsbi"
   },
   "outputs": [],
   "source": [
    "for SUBVERSION in VERSIONS[VERSION]:\n",
    "    SUBMODEL = SUBVERSION.replace(\".\", \"_\")\n",
    "\n",
    "    LOGS_PATH = os.path.join(BASE_PATH, f\"logs/{MODEL_NAME}/{VERSION}/{SUBVERSION}\")\n",
    "    MODELS_PATH = os.path.join(BASE_PATH, f\"models/{MODEL_NAME}/{VERSION}\")\n",
    "\n",
    "    REPORTS_PATH = os.path.join(\n",
    "        BASE_PATH, f\"reports/3_evaluation_results/{MODEL_NAME}/{VERSION}/\"\n",
    "    )\n",
    "    os.makedirs(REPORTS_PATH, exist_ok=True)\n",
    "\n",
    "    model = tf.keras.models.load_model(\n",
    "        os.path.join(MODELS_PATH, f\"{MODEL_NAME}_{SUBMODEL}.keras\")\n",
    "    )\n",
    "\n",
    "    y_pred_prob = model.predict(test_images)\n",
    "    y_true = test_images.labels\n",
    "\n",
    "    y_pred_class = (y_pred_prob > 0.5).astype(int)\n",
    "    conf_matrix = confusion_matrix(y_true, y_pred_class)\n",
    "\n",
    "    FP = conf_matrix[0][0]\n",
    "    TN = conf_matrix[0][1]\n",
    "    TP = conf_matrix[1][0]\n",
    "    FN = conf_matrix[1][1]\n",
    "\n",
    "    accuracy_predict = (TP + TN) / (TP + TN + FP + FN)\n",
    "    recall_predict = TP / (TP + FN)\n",
    "    specificity_predict = TN / (TN + FP)\n",
    "    precision_predict = TP / (TP + FP)\n",
    "    f1_score_predict = (\n",
    "        2 * (precision_predict * recall_predict) / (precision_predict + recall_predict)\n",
    "    )\n",
    "\n",
    "    fpr, tpr, thresholds = roc_curve(y_true, y_pred_prob)\n",
    "    auc_predict = auc(fpr, tpr)\n",
    "\n",
    "    confusion_matrix_fig = create_confusion_matrix(conf_matrix, MODEL_NAME, SUBVERSION)\n",
    "    confusion_matrix_fig.write_image(\n",
    "        os.path.join(REPORTS_PATH, f\"confusion_matrix_{SUBVERSION}.png\")\n",
    "    )\n",
    "\n",
    "    roc_curve_fig = create_roc_curve(fpr, tpr, auc_predict, MODEL_NAME, SUBVERSION)\n",
    "    roc_curve_fig.write_image(os.path.join(REPORTS_PATH, f\"roc_curve_{SUBVERSION}.png\"))\n",
    "\n",
    "    predicted_results = pd.DataFrame(\n",
    "        {\n",
    "            \"accuracy_predict\": [accuracy_predict],\n",
    "            \"precision_predict\": [precision_predict],\n",
    "            \"recall_predict\": [recall_predict],\n",
    "            \"specificity_predict\": [specificity_predict],\n",
    "            \"auc_predict\": [auc_predict],\n",
    "            \"f1_score_predict\": [f1_score_predict],\n",
    "        }\n",
    "    )\n",
    "    predicted_results.to_csv(\n",
    "        os.path.join(LOGS_PATH, f\"predicted_results_{SUBVERSION}.csv\"),\n",
    "        index=False,\n",
    "        sep=\";\",\n",
    "    )\n",
    "\n",
    "    results = model.evaluate(test_images)\n",
    "    metric_names = [\n",
    "        \"test_loss\",\n",
    "        \"test_accuracy\",\n",
    "        \"test_precision\",\n",
    "        \"test_recall\",\n",
    "        \"test_auc\",\n",
    "    ]\n",
    "    evaluation_results = {name: value for name, value in zip(metric_names, results)}\n",
    "\n",
    "    evaluation_results[\"test_f1_score\"] = (\n",
    "        2\n",
    "        * (evaluation_results[\"test_precision\"] * evaluation_results[\"test_recall\"])\n",
    "        / (evaluation_results[\"test_precision\"] + evaluation_results[\"test_recall\"])\n",
    "    )\n",
    "\n",
    "    evaluation = pd.DataFrame([evaluation_results])\n",
    "    evaluation.to_csv(\n",
    "        os.path.join(LOGS_PATH, f\"evaluation_results_{SUBVERSION}.csv\"),\n",
    "        index=False,\n",
    "        sep=\";\",\n",
    "    )\n",
    "\n",
    "    confusion_matrix_fig.show()\n",
    "    print()\n",
    "    roc_curve_fig.show()\n",
    "    print(predicted_results)\n",
    "    print()\n",
    "    print(evaluation)\n",
    "    print()\n",
    "    print()\n"
   ]
  }
 ],
 "metadata": {
  "accelerator": "GPU",
  "colab": {
   "gpuType": "A100",
   "machine_shape": "hm",
   "provenance": []
  },
  "kernelspec": {
   "display_name": "Python 3",
   "name": "python3"
  },
  "language_info": {
   "codemirror_mode": {
    "name": "ipython",
    "version": 3
   },
   "file_extension": ".py",
   "mimetype": "text/x-python",
   "name": "python",
   "nbconvert_exporter": "python",
   "pygments_lexer": "ipython3",
   "version": "3.11.11"
  }
 },
 "nbformat": 4,
 "nbformat_minor": 0
}
