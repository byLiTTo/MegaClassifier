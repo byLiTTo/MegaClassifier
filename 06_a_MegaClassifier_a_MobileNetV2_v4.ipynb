{
 "cells": [
  {
   "cell_type": "code",
   "execution_count": 1,
   "metadata": {},
   "outputs": [
    {
     "name": "stderr",
     "output_type": "stream",
     "text": [
      "/Users/litto/miniconda/envs/TFG/lib/python3.8/site-packages/tensorflow_addons/utils/tfa_eol_msg.py:23: UserWarning: \n",
      "\n",
      "TensorFlow Addons (TFA) has ended development and introduction of new features.\n",
      "TFA has entered a minimal maintenance and release mode until a planned end of life in May 2024.\n",
      "Please modify downstream libraries to take dependencies from other repositories in our TensorFlow community (e.g. Keras, Keras-CV, and Keras-NLP). \n",
      "\n",
      "For more information see: https://github.com/tensorflow/addons/issues/2807 \n",
      "\n",
      "  warnings.warn(\n"
     ]
    }
   ],
   "source": [
    "import os\n",
    "\n",
    "import numpy as np\n",
    "import pandas as pd\n",
    "import tensorflow as tf\n",
    "import tensorflow_addons as tfa\n",
    "import src.model as models\n",
    "from sklearn.metrics import auc, confusion_matrix, roc_curve\n",
    "from tensorflow.keras.callbacks import TensorBoard\n",
    "from tensorflow.keras.metrics import AUC, BinaryAccuracy, Precision, Recall\n",
    "from tensorflow.keras.preprocessing.image import ImageDataGenerator\n",
    "\n",
    "import src.graphics as graphics"
   ]
  },
  {
   "cell_type": "code",
   "execution_count": 2,
   "metadata": {},
   "outputs": [],
   "source": [
    "VERSION = \"4\"\n",
    "MODEL_BASE_NAME = \"MegaClassifier_a_MobileNetV2\"\n",
    "\n",
    "DATASET_CSV = os.path.abspath(\n",
    "    \"./data/processed/onlyDetectionsForTrain/onlyDetectionsForTrain.csv\"\n",
    ")\n",
    "DATASET_PATH = os.path.dirname(DATASET_CSV)"
   ]
  },
  {
   "cell_type": "code",
   "execution_count": null,
   "metadata": {},
   "outputs": [],
   "source": [
    "dataset = pd.read_csv(DATASET_CSV, sep=\";\")\n",
    "dataset[\"file_name\"] = dataset[\"file_name\"].apply(\n",
    "    lambda x: os.path.join(DATASET_PATH, x)\n",
    ")\n",
    "dataset[\"binary_label\"] = dataset[\"binary_label\"].astype(str)\n",
    "\n",
    "train_dataset = dataset[dataset[\"subset\"] == \"train\"]\n",
    "validationtrain_dataset = dataset[dataset[\"subset\"] == \"validation\"]\n",
    "test_dataset = dataset[dataset[\"subset\"] == \"test\"]\n",
    "\n",
    "EPOCHS = 10\n",
    "IMAGE_SIZE = (224, 224)\n",
    "IMAGE_SHAPE = IMAGE_SIZE + (3,)\n",
    "SEED = 42"
   ]
  },
  {
   "cell_type": "code",
   "execution_count": 4,
   "metadata": {},
   "outputs": [],
   "source": [
    "OPTIMIZERS = {\n",
    "    \"RMSprop\": tf.keras.optimizers.legacy.RMSprop(),\n",
    "}"
   ]
  },
  {
   "cell_type": "code",
   "execution_count": null,
   "metadata": {},
   "outputs": [],
   "source": [
    "LOSS = {\n",
    "    \"BinaryFocalCrossentropy\": lambda x, y: tf.keras.losses.BinaryFocalCrossentropy(\n",
    "        alpha=x, gamma=y\n",
    "    ),\n",
    "}\n",
    "\n",
    "ALPHAS = [0.25, 0.5, 0.75]\n",
    "\n",
    "GAMMAS = [0.0, 1.0, 2.0, 3.0]"
   ]
  },
  {
   "cell_type": "code",
   "execution_count": 6,
   "metadata": {},
   "outputs": [
    {
     "name": "stderr",
     "output_type": "stream",
     "text": [
      "2025-03-01 16:09:37.331333: I metal_plugin/src/device/metal_device.cc:1154] Metal device set to: Apple M3\n",
      "2025-03-01 16:09:37.331385: I metal_plugin/src/device/metal_device.cc:296] systemMemory: 16.00 GB\n",
      "2025-03-01 16:09:37.331407: I metal_plugin/src/device/metal_device.cc:313] maxCacheSize: 5.33 GB\n",
      "2025-03-01 16:09:37.331851: I tensorflow/core/common_runtime/pluggable_device/pluggable_device_factory.cc:303] Could not identify NUMA node of platform GPU ID 0, defaulting to 0. Your kernel may not have been built with NUMA support.\n",
      "2025-03-01 16:09:37.331880: I tensorflow/core/common_runtime/pluggable_device/pluggable_device_factory.cc:269] Created TensorFlow device (/job:localhost/replica:0/task:0/device:GPU:0 with 0 MB memory) -> physical PluggableDevice (device: 0, name: METAL, pci bus id: <undefined>)\n"
     ]
    }
   ],
   "source": [
    "METRICS = [\n",
    "    BinaryAccuracy(name=\"accuracy\"),\n",
    "    Precision(name=\"precision\"),\n",
    "    Recall(name=\"recall\"),\n",
    "    AUC(name=\"auc\"),\n",
    "]"
   ]
  },
  {
   "cell_type": "code",
   "execution_count": 7,
   "metadata": {},
   "outputs": [],
   "source": [
    "BATCH_SIZE = 64"
   ]
  },
  {
   "cell_type": "code",
   "execution_count": 8,
   "metadata": {},
   "outputs": [
    {
     "name": "stdout",
     "output_type": "stream",
     "text": [
      "Found 17906 validated image filenames belonging to 2 classes.\n",
      "Found 4286 validated image filenames belonging to 2 classes.\n",
      "Found 4286 validated image filenames belonging to 2 classes.\n"
     ]
    },
    {
     "name": "stderr",
     "output_type": "stream",
     "text": [
      "2025-03-01 16:09:39.263492: I tensorflow/core/grappler/optimizers/custom_graph_optimizer_registry.cc:114] Plugin optimizer for device_type GPU is enabled.\n"
     ]
    },
    {
     "name": "stdout",
     "output_type": "stream",
     "text": [
      "280/280 [==============================] - ETA: 0s - loss: 0.0789 - accuracy: 0.8727 - precision: 0.9077 - recall: 0.9215 - auc: 0.9321"
     ]
    },
    {
     "name": "stderr",
     "output_type": "stream",
     "text": [
      "2025-03-01 16:10:25.351415: I tensorflow/core/grappler/optimizers/custom_graph_optimizer_registry.cc:114] Plugin optimizer for device_type GPU is enabled.\n"
     ]
    },
    {
     "name": "stdout",
     "output_type": "stream",
     "text": [
      "280/280 [==============================] - 58s 203ms/step - loss: 0.0789 - accuracy: 0.8727 - precision: 0.9077 - recall: 0.9215 - auc: 0.9321 - val_loss: 0.0629 - val_accuracy: 0.9032 - val_precision: 0.9611 - val_recall: 0.8896 - val_auc: 0.9688\n"
     ]
    },
    {
     "name": "stderr",
     "output_type": "stream",
     "text": [
      "WARNING:absl:`mobilenetv2_1.00_224_input` is not a valid tf.function parameter name. Sanitizing to `mobilenetv2_1_00_224_input`.\n",
      "WARNING:absl:`mobilenetv2_1.00_224_input` is not a valid tf.function parameter name. Sanitizing to `mobilenetv2_1_00_224_input`.\n",
      "WARNING:absl:`mobilenetv2_1.00_224_input` is not a valid tf.function parameter name. Sanitizing to `mobilenetv2_1_00_224_input`.\n"
     ]
    },
    {
     "name": "stdout",
     "output_type": "stream",
     "text": [
      "INFO:tensorflow:Assets written to: /Users/litto/WORKSPACE/MegaClassifier/models/MegaClassifier_a_MobileNetV2/v4/v4.0.0/assets\n"
     ]
    },
    {
     "name": "stderr",
     "output_type": "stream",
     "text": [
      "INFO:tensorflow:Assets written to: /Users/litto/WORKSPACE/MegaClassifier/models/MegaClassifier_a_MobileNetV2/v4/v4.0.0/assets\n"
     ]
    },
    {
     "name": "stdout",
     "output_type": "stream",
     "text": [
      "67/67 [==============================] - 11s 165ms/step - loss: 0.0595 - accuracy: 0.9064 - precision: 0.9659 - recall: 0.8900 - auc: 0.9719\n"
     ]
    },
    {
     "name": "stderr",
     "output_type": "stream",
     "text": [
      "2025-03-01 16:10:53.916164: I tensorflow/core/grappler/optimizers/custom_graph_optimizer_registry.cc:114] Plugin optimizer for device_type GPU is enabled.\n"
     ]
    },
    {
     "name": "stdout",
     "output_type": "stream",
     "text": [
      "67/67 [==============================] - 11s 158ms/step\n",
      "\n",
      "\n",
      "\n"
     ]
    }
   ],
   "source": [
    "SUBVERSION = 0\n",
    "SUB_SUBVERSION = 0\n",
    "\n",
    "for ALPHA in ALPHAS:\n",
    "    for GAMMA in GAMMAS:\n",
    "        LOGS_PATH = os.path.abspath(\n",
    "            f\"./logs/{MODEL_BASE_NAME}/v{VERSION}/v{VERSION}.{SUBVERSION}.{SUB_SUBVERSION}\"\n",
    "        )\n",
    "        MODELS_PATH = os.path.abspath(\n",
    "            f\"./models/{MODEL_BASE_NAME}/v{VERSION}/v{VERSION}.{SUBVERSION}.{SUB_SUBVERSION}\"\n",
    "        )\n",
    "        REPORTS_PATH = os.path.abspath(\n",
    "            f\"./reports/{MODEL_BASE_NAME}/v{VERSION}/v{VERSION}.{SUBVERSION}.{SUB_SUBVERSION}\"\n",
    "        )\n",
    "\n",
    "        MODEL_COMPLETE_NAME = (\n",
    "            f\"{MODEL_BASE_NAME} v{VERSION}.{SUBVERSION}.{SUB_SUBVERSION}\"\n",
    "        )\n",
    "\n",
    "        train_datagen = ImageDataGenerator(\n",
    "            preprocessing_function=tf.keras.applications.mobilenet_v2.preprocess_input,\n",
    "        )\n",
    "        train_images = train_datagen.flow_from_dataframe(\n",
    "            dataframe=train_dataset,\n",
    "            x_col=\"file_name\",\n",
    "            y_col=\"binary_label\",\n",
    "            target_size=IMAGE_SIZE,\n",
    "            batch_size=BATCH_SIZE,\n",
    "            class_mode=\"binary\",\n",
    "            shuffle=True,\n",
    "            seed=SEED,\n",
    "        )\n",
    "\n",
    "        datagen = ImageDataGenerator(\n",
    "            preprocessing_function=tf.keras.applications.mobilenet_v2.preprocess_input,\n",
    "        )\n",
    "        validation_images = datagen.flow_from_dataframe(\n",
    "            dataframe=validationtrain_dataset,\n",
    "            x_col=\"file_name\",\n",
    "            y_col=\"binary_label\",\n",
    "            target_size=IMAGE_SIZE,\n",
    "            batch_size=BATCH_SIZE,\n",
    "            class_mode=\"binary\",\n",
    "            shuffle=True,\n",
    "            seed=SEED,\n",
    "        )\n",
    "        test_images = datagen.flow_from_dataframe(\n",
    "            dataframe=test_dataset,\n",
    "            x_col=\"file_name\",\n",
    "            y_col=\"binary_label\",\n",
    "            target_size=IMAGE_SIZE,\n",
    "            batch_size=BATCH_SIZE,\n",
    "            class_mode=\"binary\",\n",
    "            shuffle=False,\n",
    "            seed=SEED,\n",
    "        )\n",
    "\n",
    "        pretrained_model = tf.keras.applications.MobileNetV2(\n",
    "            weights=\"imagenet\",\n",
    "            include_top=False,\n",
    "            input_shape=IMAGE_SHAPE,\n",
    "        )\n",
    "        pretrained_model.trainable = False\n",
    "\n",
    "        model = tf.keras.Sequential(\n",
    "            [\n",
    "                pretrained_model,\n",
    "                tf.keras.layers.GlobalAveragePooling2D(),\n",
    "                tf.keras.layers.Dense(1, activation=\"sigmoid\"),\n",
    "            ],\n",
    "            name=f\"{MODEL_BASE_NAME}_v{VERSION}.{SUBVERSION}.{SUB_SUBVERSION}\",\n",
    "        )\n",
    "\n",
    "        model.compile(\n",
    "            optimizer=OPTIMIZERS[\"RMSprop\"],\n",
    "            loss=LOSS[\"BinaryFocalCrossentropy\"](ALPHA, GAMMA),\n",
    "            metrics=METRICS,\n",
    "        )\n",
    "\n",
    "        history = model.fit(\n",
    "            train_images,\n",
    "            epochs=EPOCHS,\n",
    "            validation_data=validation_images,\n",
    "            callbacks=[TensorBoard(log_dir=LOGS_PATH)],\n",
    "        )\n",
    "\n",
    "        dataframe = pd.DataFrame(history.history)\n",
    "        history_path = os.path.join(\n",
    "            LOGS_PATH, f\"history_v{VERSION}.{SUBVERSION}.{SUB_SUBVERSION}.csv\"\n",
    "        )\n",
    "        dataframe.to_csv(history_path, sep=\";\", index=False)\n",
    "\n",
    "        os.makedirs(REPORTS_PATH, exist_ok=True)\n",
    "        accuracy_chart = graphics.create_training_accuracy_chart(\n",
    "            history_path=history_path,\n",
    "            model_name=MODEL_COMPLETE_NAME,\n",
    "        )\n",
    "        accuracy_chart.write_image(\n",
    "            f\"{REPORTS_PATH}/accuracy_v{VERSION}.{SUBVERSION}.{SUB_SUBVERSION}.png\"\n",
    "        )\n",
    "\n",
    "        loss_chart = graphics.create_training_loss_chart(\n",
    "            history_path=history_path,\n",
    "            model_name=MODEL_COMPLETE_NAME,\n",
    "        )\n",
    "        loss_chart.write_image(\n",
    "            f\"{REPORTS_PATH}/loss_v{VERSION}.{SUBVERSION}.{SUB_SUBVERSION}.png\"\n",
    "        )\n",
    "\n",
    "        os.makedirs(MODELS_PATH, exist_ok=True)\n",
    "        model.save(MODELS_PATH)\n",
    "\n",
    "        results = model.evaluate(test_images)\n",
    "        metric_names = history.model.metrics_names\n",
    "        evaluation_results = {\n",
    "            (\"test_\" + name): value for name, value in zip(metric_names, results)\n",
    "        }\n",
    "\n",
    "        evaluation = pd.DataFrame([evaluation_results])\n",
    "        evaluation.to_csv(\n",
    "            os.path.join(\n",
    "                LOGS_PATH, f\"evaluation_v{VERSION}.{SUBVERSION}.{SUB_SUBVERSION}.csv\"\n",
    "            ),\n",
    "            sep=\";\",\n",
    "            index=False,\n",
    "        )\n",
    "\n",
    "        y_pred_prob = model.predict(test_images)\n",
    "        y_true = test_images.labels\n",
    "\n",
    "        fpr, tpr, thresholds = roc_curve(y_true, y_pred_prob)\n",
    "        roc_auc = auc(fpr, tpr)\n",
    "\n",
    "        roc_curve_chart = graphics.create_roc_curve_chart(\n",
    "            fpr=fpr,\n",
    "            tpr=tpr,\n",
    "            roc_auc=roc_auc,\n",
    "            model_name=MODEL_COMPLETE_NAME,\n",
    "        )\n",
    "        roc_curve_chart.write_image(\n",
    "            f\"{REPORTS_PATH}/roc_curve_v{VERSION}.{SUBVERSION}.{SUB_SUBVERSION}.png\"\n",
    "        )\n",
    "\n",
    "        optimal_idx = np.argmax(tpr - fpr)\n",
    "        optimal_threshold = thresholds[optimal_idx]\n",
    "\n",
    "        y_pred_class = (y_pred_prob > optimal_threshold).astype(int)\n",
    "        conf_matrix = confusion_matrix(y_true, y_pred_class)\n",
    "        conf_matrix_text = [[str(value) for value in row] for row in conf_matrix]\n",
    "\n",
    "        confusion_matrix_chart = graphics.create_confusion_matrix_chart(\n",
    "            conf_matrix=conf_matrix,\n",
    "            conf_matrix_text=conf_matrix_text,\n",
    "            model_name=MODEL_COMPLETE_NAME,\n",
    "        )\n",
    "        confusion_matrix_chart.write_image(\n",
    "            f\"{REPORTS_PATH}/confusion_matrix_optimal_v{VERSION}.{SUBVERSION}.{SUB_SUBVERSION}.png\"\n",
    "        )\n",
    "\n",
    "        y_pred_class = (y_pred_prob > 0.5).astype(int)\n",
    "        conf_matrix = confusion_matrix(y_true, y_pred_class)\n",
    "        conf_matrix_text = [[str(value) for value in row] for row in conf_matrix]\n",
    "\n",
    "        confusion_matrix_chart = graphics.create_confusion_matrix_chart(\n",
    "            conf_matrix=conf_matrix,\n",
    "            conf_matrix_text=conf_matrix_text,\n",
    "            model_name=MODEL_COMPLETE_NAME,\n",
    "        )\n",
    "        confusion_matrix_chart.write_image(\n",
    "            f\"{REPORTS_PATH}/confusion_matrix_v{VERSION}.{SUBVERSION}.{SUB_SUBVERSION}.png\"\n",
    "        )\n",
    "\n",
    "        SUB_SUBVERSION += 1\n",
    "\n",
    "    SUBVERSION += 1\n",
    "    print(\"\\n\\n\")\n"
   ]
  }
 ],
 "metadata": {
  "kernelspec": {
   "display_name": "TFG",
   "language": "python",
   "name": "python3"
  },
  "language_info": {
   "codemirror_mode": {
    "name": "ipython",
    "version": 3
   },
   "file_extension": ".py",
   "mimetype": "text/x-python",
   "name": "python",
   "nbconvert_exporter": "python",
   "pygments_lexer": "ipython3",
   "version": "3.8.19"
  }
 },
 "nbformat": 4,
 "nbformat_minor": 2
}
