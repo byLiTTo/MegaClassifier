{
 "cells": [
  {
   "cell_type": "code",
   "execution_count": 1,
   "metadata": {},
   "outputs": [],
   "source": [
    "import json\n",
    "import os\n",
    "\n",
    "# Path to the JSON file\n",
    "file_path = os.path.abspath('./resources/json/md_v5a/29618_images_0_003_threshold.json')\n",
    "\n",
    "with open(file_path, \"r\") as file:\n",
    "    data = json.load(file)"
   ]
  },
  {
   "cell_type": "code",
   "execution_count": 2,
   "metadata": {},
   "outputs": [
    {
     "data": {
      "text/html": [
       "<div>\n",
       "<style scoped>\n",
       "    .dataframe tbody tr th:only-of-type {\n",
       "        vertical-align: middle;\n",
       "    }\n",
       "\n",
       "    .dataframe tbody tr th {\n",
       "        vertical-align: top;\n",
       "    }\n",
       "\n",
       "    .dataframe thead th {\n",
       "        text-align: right;\n",
       "    }\n",
       "</style>\n",
       "<table border=\"1\" class=\"dataframe\">\n",
       "  <thead>\n",
       "    <tr style=\"text-align: right;\">\n",
       "      <th></th>\n",
       "      <th>file_name</th>\n",
       "      <th>label</th>\n",
       "    </tr>\n",
       "  </thead>\n",
       "  <tbody>\n",
       "    <tr>\n",
       "      <th>0</th>\n",
       "      <td>cervidae/cervidredorfallowdeer_zoo_1_4/20_2020...</td>\n",
       "      <td>1</td>\n",
       "    </tr>\n",
       "    <tr>\n",
       "      <th>1</th>\n",
       "      <td>leporido/conejo_wellingtoncameratraps_ss/19081...</td>\n",
       "      <td>1</td>\n",
       "    </tr>\n",
       "    <tr>\n",
       "      <th>2</th>\n",
       "      <td>vacia/empty_snapshotmountainzebra/mtz_s1_d07_r...</td>\n",
       "      <td>0</td>\n",
       "    </tr>\n",
       "    <tr>\n",
       "      <th>3</th>\n",
       "      <td>vacia/noanimal_zoo_5_6_7_9/37_20210319_943_.jpg</td>\n",
       "      <td>0</td>\n",
       "    </tr>\n",
       "    <tr>\n",
       "      <th>4</th>\n",
       "      <td>vacia/empty_islandconservationcameratraps/domi...</td>\n",
       "      <td>0</td>\n",
       "    </tr>\n",
       "  </tbody>\n",
       "</table>\n",
       "</div>"
      ],
      "text/plain": [
       "                                           file_name  label\n",
       "0  cervidae/cervidredorfallowdeer_zoo_1_4/20_2020...      1\n",
       "1  leporido/conejo_wellingtoncameratraps_ss/19081...      1\n",
       "2  vacia/empty_snapshotmountainzebra/mtz_s1_d07_r...      0\n",
       "3    vacia/noanimal_zoo_5_6_7_9/37_20210319_943_.jpg      0\n",
       "4  vacia/empty_islandconservationcameratraps/domi...      0"
      ]
     },
     "execution_count": 2,
     "metadata": {},
     "output_type": "execute_result"
    }
   ],
   "source": [
    "import pandas as pd\n",
    "\n",
    "# Path to the CSV file\n",
    "csv_file_path = 'data/interim/10000Images_filtered.csv'\n",
    "\n",
    "# Read the CSV file into a DataFrame\n",
    "df_filtered_images = pd.read_csv(csv_file_path, sep=';')\n",
    "\n",
    "# Display the first few rows of the DataFrame\n",
    "df_filtered_images.head()"
   ]
  },
  {
   "cell_type": "code",
   "execution_count": 13,
   "metadata": {
    "vscode": {
     "languageId": "ruby"
    }
   },
   "outputs": [
    {
     "name": "stdout",
     "output_type": "stream",
     "text": [
      "data_files: 28560\n"
     ]
    },
    {
     "data": {
      "text/plain": [
       "0        cervidae/cervidredorfallowdeer_zoo_1_4/20_2020...\n",
       "1        leporido/conejo_wellingtoncameratraps_ss/19081...\n",
       "2        vacia/empty_snapshotmountainzebra/mtz_s1_d07_r...\n",
       "3          vacia/noanimal_zoo_5_6_7_9/37_20210319_943_.jpg\n",
       "4        vacia/empty_islandconservationcameratraps/domi...\n",
       "                               ...                        \n",
       "29613                   vacia/vacia_ss/27_20201023_17_.jpg\n",
       "29614            zorro/redfox_zoo_1_4/32_20201218_348_.jpg\n",
       "29615    mapache/raccoon_caltechcameratrap_me/58af767e-...\n",
       "29616    cervidae/cervidredorfallowdeer_zoo_5_6_7_9/5_2...\n",
       "29617            zorro/zorro_pnm_2012_me/d3424im000012.jpg\n",
       "Name: file_name, Length: 29618, dtype: object"
      ]
     },
     "execution_count": 13,
     "metadata": {},
     "output_type": "execute_result"
    }
   ],
   "source": [
    "data_files = {image['file'] for image in data['images']}\n",
    "\n",
    "print(f\"data_files: {len(data_files)}\")\n",
    "# print(f\"df_filtered_images: {df_filtered_images['file_name'].values}\")\n",
    "df_filtered_images['file_name']"
   ]
  },
  {
   "cell_type": "code",
   "execution_count": 14,
   "metadata": {
    "vscode": {
     "languageId": "ruby"
    }
   },
   "outputs": [
    {
     "name": "stdout",
     "output_type": "stream",
     "text": [
      "29618\n"
     ]
    }
   ],
   "source": [
    "count = 0\n",
    "for file in df_filtered_images['file_name']:\n",
    "    count += 1\n",
    "    if file in data_files:\n",
    "        continue\n",
    "    else:\n",
    "        print(file)\n",
    "print(count)"
   ]
  }
 ],
 "metadata": {
  "kernelspec": {
   "display_name": "cameratraps-detector",
   "language": "python",
   "name": "python3"
  },
  "language_info": {
   "codemirror_mode": {
    "name": "ipython",
    "version": 3
   },
   "file_extension": ".py",
   "mimetype": "text/x-python",
   "name": "python",
   "nbconvert_exporter": "python",
   "pygments_lexer": "ipython3",
   "version": "3.8.15"
  }
 },
 "nbformat": 4,
 "nbformat_minor": 2
}
