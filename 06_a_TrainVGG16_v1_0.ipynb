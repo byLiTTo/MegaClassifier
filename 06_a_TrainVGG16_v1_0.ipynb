{
 "cells": [
  {
   "cell_type": "code",
   "execution_count": null,
   "metadata": {},
   "outputs": [],
   "source": [
    "import os\n",
    "\n",
    "import src.data.Dataset as dt\n",
    "import pandas as pd\n",
    "import tensorflow\n",
    "from itables import init_notebook_mode\n",
    "from keras.callbacks import TensorBoard, EarlyStopping\n",
    "from tensorflow.keras import Input, Model\n",
    "from tensorflow.keras.layers import *\n",
    "from tensorflow.keras.metrics import *\n",
    "from tensorflow.keras.preprocessing.image import ImageDataGenerator\n",
    "\n",
    "init_notebook_mode(all_interactive=True)\n",
    "\n",
    "required_paths = [\"/ai4eutils\", \"/CameraTraps\", \"/yolov5\"]\n",
    "python_path = os.environ.get(\"PYTHONPATH\", \"\")\n",
    "root_path = os.getcwd()\n",
    "\n",
    "for path in required_paths:\n",
    "    if not any(p.endswith(path) for p in python_path.split(\":\")):\n",
    "        python_path += f\":{root_path}/data/external{path}\"\n",
    "\n",
    "os.environ[\"PYTHONPATH\"] = python_path\n",
    "\n",
    "!echo \"PYTHONPATH: $PYTHONPATH\""
   ]
  },
  {
   "cell_type": "code",
   "execution_count": null,
   "metadata": {},
   "outputs": [],
   "source": [
    "DATASET_CSV = os.path.abspath(\n",
    "    \"./data/processed/emptyFitdetectionFit/28570Images_0_003_threshold.csv\"\n",
    ")\n",
    "DATASET_PATH = os.path.dirname(DATASET_CSV)\n",
    "\n",
    "dataset = dt.load_from_csv(DATASET_CSV)\n",
    "\n",
    "dataset[\"file_name\"] = dataset[\"file_name\"].apply(\n",
    "    lambda x: os.path.join(DATASET_PATH, x)\n",
    ")\n",
    "dataset[\"binary_label\"] = dataset[\"binary_label\"].astype(str)\n",
    "\n",
    "train_dataframe = dataset[dataset[\"subset\"] == \"train\"]\n",
    "validation_dataframe = dataset[dataset[\"subset\"] == \"validation\"]\n",
    "test_dataframe = dataset[dataset[\"subset\"] == \"test\"]"
   ]
  },
  {
   "cell_type": "code",
   "execution_count": 10,
   "metadata": {},
   "outputs": [],
   "source": [
    "IMAGE_SIZE = (224, 224)\n",
    "IMAGE_SHAPE = IMAGE_SIZE + (3,)\n",
    "\n",
    "MODEL_NAME = \"VGG16\"\n",
    "VERSION = \"v1.0\"\n",
    "\n",
    "EPOCHS = 20\n",
    "BATCH_SIZE = 16\n",
    "SEED = 42"
   ]
  },
  {
   "cell_type": "code",
   "execution_count": null,
   "metadata": {},
   "outputs": [],
   "source": [
    "train_ImageDataGenerator = ImageDataGenerator(\n",
    "    rescale=1.0 / 255,\n",
    ")\n",
    "train_images = train_ImageDataGenerator.flow_from_dataframe(\n",
    "    dataframe=train_dataframe,\n",
    "    x_col=\"file_name\",\n",
    "    y_col=\"binary_label\",\n",
    "    target_size=IMAGE_SIZE,\n",
    "    batch_size=BATCH_SIZE,\n",
    "    class_mode=\"binary\",\n",
    "    shuffle=True,\n",
    "    seed=SEED,\n",
    ")\n",
    "\n",
    "other_ImageDataGenerator = ImageDataGenerator(\n",
    "    rescale=1.0 / 255,\n",
    ")\n",
    "validation_images = other_ImageDataGenerator.flow_from_dataframe(\n",
    "    dataframe=validation_dataframe,\n",
    "    x_col=\"file_name\",\n",
    "    y_col=\"binary_label\",\n",
    "    target_size=IMAGE_SIZE,\n",
    "    batch_size=BATCH_SIZE,\n",
    "    class_mode=\"binary\",\n",
    "    shuffle=True,\n",
    "    seed=SEED,\n",
    ")\n",
    "test_images = other_ImageDataGenerator.flow_from_dataframe(\n",
    "    dataframe=test_dataframe,\n",
    "    x_col=\"file_name\",\n",
    "    y_col=\"binary_label\",\n",
    "    target_size=IMAGE_SIZE,\n",
    "    batch_size=BATCH_SIZE,\n",
    "    class_mode=\"binary\",\n",
    "    seed=SEED,\n",
    ")\n"
   ]
  },
  {
   "cell_type": "code",
   "execution_count": 12,
   "metadata": {},
   "outputs": [],
   "source": [
    "# Input layer\n",
    "input = Input(shape=(224, 224, 3))\n",
    "\n",
    "# 1st Conv Block\n",
    "x = Conv2D(filters=64, kernel_size=3, padding=\"same\", activation=\"relu\")(input)\n",
    "x = Conv2D(filters=64, kernel_size=3, padding=\"same\", activation=\"relu\")(x)\n",
    "x = MaxPool2D(pool_size=2, strides=2)(x)\n",
    "\n",
    "# 2nd Conv Block\n",
    "x = Conv2D(filters=128, kernel_size=3, padding=\"same\", activation=\"relu\")(x)\n",
    "x = Conv2D(filters=128, kernel_size=3, padding=\"same\", activation=\"relu\")(x)\n",
    "x = MaxPool2D(pool_size=2, strides=2)(x)\n",
    "\n",
    "# 3rd Conv block\n",
    "x = Conv2D(filters=256, kernel_size=3, padding=\"same\", activation=\"relu\")(x)\n",
    "x = Conv2D(filters=256, kernel_size=3, padding=\"same\", activation=\"relu\")(x)\n",
    "x = Conv2D(filters=256, kernel_size=3, padding=\"same\", activation=\"relu\")(x)\n",
    "x = MaxPool2D(pool_size=2, strides=2)(x)\n",
    "\n",
    "# 4th Conv block\n",
    "x = Conv2D(filters=512, kernel_size=3, padding=\"same\", activation=\"relu\")(x)\n",
    "x = Conv2D(filters=512, kernel_size=3, padding=\"same\", activation=\"relu\")(x)\n",
    "x = Conv2D(filters=512, kernel_size=3, padding=\"same\", activation=\"relu\")(x)\n",
    "x = MaxPool2D(pool_size=2, strides=2)(x)\n",
    "\n",
    "# 5th Conv block\n",
    "x = Conv2D(filters=512, kernel_size=3, padding=\"same\", activation=\"relu\")(x)\n",
    "x = Conv2D(filters=512, kernel_size=3, padding=\"same\", activation=\"relu\")(x)\n",
    "x = Conv2D(filters=512, kernel_size=3, padding=\"same\", activation=\"relu\")(x)\n",
    "x = MaxPool2D(pool_size=2, strides=2)(x)\n",
    "\n",
    "# Fully connected layers\n",
    "x = Flatten()(x)\n",
    "x = Dense(units=4096, activation=\"relu\")(x)\n",
    "x = Dense(units=4096, activation=\"relu\")(x)\n",
    "output = Dense(units=1, activation=\"sigmoid\")(x)\n",
    "\n",
    "# Creating the model\n",
    "model = Model(inputs=input, outputs=output)"
   ]
  },
  {
   "cell_type": "markdown",
   "metadata": {},
   "source": []
  },
  {
   "cell_type": "code",
   "execution_count": 13,
   "metadata": {},
   "outputs": [],
   "source": [
    "model.compile(\n",
    "    # optimizer=tensorflow.keras.optimizers.Adam(learning_rate=0.00001),\n",
    "    optimizer=tensorflow.keras.optimizers.legacy.Adam(learning_rate=0.001),\n",
    "    loss=tensorflow.keras.losses.BinaryCrossentropy(from_logits=False),\n",
    "    metrics=[BinaryAccuracy(), Precision(), Recall(), AUC()],\n",
    ")"
   ]
  },
  {
   "cell_type": "code",
   "execution_count": null,
   "metadata": {},
   "outputs": [],
   "source": [
    "with tensorflow.device(\"/GPU:0\"):\n",
    "    history = model.fit(\n",
    "        train_images,\n",
    "        steps_per_epoch=train_images.samples // BATCH_SIZE,\n",
    "        epochs=EPOCHS,\n",
    "        validation_data=validation_images,\n",
    "        validation_steps=validation_images.samples // BATCH_SIZE,\n",
    "        verbose=1,\n",
    "        callbacks=[\n",
    "            TensorBoard(log_dir=f\"./logs/{MODEL_NAME}/{VERSION}\"),\n",
    "            # EarlyStopping(\n",
    "            #     monitor=\"val_loss\", patience=3, verbose=1, restore_best_weights=True\n",
    "            # ),\n",
    "        ],\n",
    "    )"
   ]
  },
  {
   "cell_type": "code",
   "execution_count": null,
   "metadata": {},
   "outputs": [],
   "source": [
    "os.makedirs(f\"./models/{MODEL_NAME}\", exist_ok=True)\n",
    "model.save(f\"./models/{MODEL_NAME}/{MODEL_NAME}_{VERSION}.h5\")"
   ]
  },
  {
   "cell_type": "code",
   "execution_count": null,
   "metadata": {},
   "outputs": [],
   "source": [
    "history_df = pd.DataFrame(history.history)\n",
    "history_df.to_csv(f\"./logs/{MODEL_NAME}/{VERSION}/history.csv\", index=False)"
   ]
  },
  {
   "cell_type": "code",
   "execution_count": null,
   "metadata": {},
   "outputs": [],
   "source": [
    "results = history.model.evaluate(test_images)\n",
    "metric_names = history.model.metrics_names\n",
    "\n",
    "evaluation_results = {\n",
    "    (\"test_\" + name): value for name, value in zip(metric_names, results)\n",
    "}\n",
    "evaluation_df = pd.DataFrame([evaluation_results])\n",
    "evaluation_df.to_csv(f\"./logs/{MODEL_NAME}/{VERSION}/results.csv\", index=False)"
   ]
  }
 ],
 "metadata": {
  "kernelspec": {
   "display_name": "TFG",
   "language": "python",
   "name": "python3"
  },
  "language_info": {
   "codemirror_mode": {
    "name": "ipython",
    "version": 3
   },
   "file_extension": ".py",
   "mimetype": "text/x-python",
   "name": "python",
   "nbconvert_exporter": "python",
   "pygments_lexer": "ipython3",
   "version": "3.8.19"
  }
 },
 "nbformat": 4,
 "nbformat_minor": 2
}
