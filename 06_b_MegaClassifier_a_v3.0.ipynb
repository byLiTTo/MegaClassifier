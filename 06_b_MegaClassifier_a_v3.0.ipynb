{
 "cells": [
  {
   "metadata": {
    "ExecuteTime": {
     "end_time": "2025-02-23T20:06:32.648174Z",
     "start_time": "2025-02-23T18:43:23.689048Z"
    }
   },
   "cell_type": "code",
   "source": [
    "import os\n",
    "import time\n",
    "\n",
    "import pandas as pd\n",
    "import tensorflow as tf\n",
    "from keras.callbacks import TensorBoard\n",
    "from tensorflow.keras import backend as K\n",
    "from tensorflow.keras.metrics import Precision, Recall, AUC\n",
    "from tensorflow.keras.preprocessing.image import ImageDataGenerator\n",
    "\n",
    "MODEL_NAME = \"MegaClassifier_a\"\n",
    "VERSION_BASE = \"v3\"\n",
    "EPOCHS = 10\n",
    "BATCH_SIZE = 32\n",
    "IMAGE_SIZE = (224, 224)\n",
    "IMAGE_SHAPE = IMAGE_SIZE + (3,)\n",
    "SEED = 42\n",
    "\n",
    "DATASET_CSV = os.path.abspath(\"./data/processed/onlyDetectionsForTrain/onlyDetectionsForTrain.csv\")\n",
    "DATASET_PATH = os.path.dirname(DATASET_CSV)\n",
    "\n",
    "dataset = pd.read_csv(DATASET_CSV, sep=\";\")\n",
    "dataset['file_name'] = dataset['file_name'].apply(lambda x: os.path.join(DATASET_PATH, x))\n",
    "dataset['binary_label'] = dataset['binary_label'].astype(str)\n",
    "\n",
    "train_df = dataset[dataset['subset'] == 'train']\n",
    "validation_df = dataset[dataset['subset'] == 'validation']\n",
    "test_df = dataset[dataset['subset'] == 'test']\n",
    "\n",
    "\n",
    "def focal_loss(alpha=0.25, gamma=2.0):\n",
    "    def loss(y_true, y_pred):\n",
    "        epsilon = K.epsilon()\n",
    "        y_pred = K.clip(y_pred, epsilon, 1.0 - epsilon)\n",
    "        pt = tf.where(K.equal(y_true, 1), y_pred, 1 - y_pred)\n",
    "        loss = -K.mean(alpha * K.pow(1. - pt, gamma) * K.log(pt))\n",
    "        return loss\n",
    "\n",
    "    return loss\n",
    "\n",
    "\n",
    "def train_and_evaluate(alpha, gamma, VERSION_INDEX):\n",
    "    loss_name = f\"FocalLoss_alpha{alpha}_gamma{gamma}\"\n",
    "    print(f\"\\n🔹 Entrenando con Focal Loss (alpha={alpha}, gamma={gamma}) 🔹\")\n",
    "\n",
    "    train_datagen = ImageDataGenerator(preprocessing_function=tf.keras.applications.mobilenet_v2.preprocess_input)\n",
    "    datagen = ImageDataGenerator(preprocessing_function=tf.keras.applications.mobilenet_v2.preprocess_input)\n",
    "\n",
    "    train_images = train_datagen.flow_from_dataframe(\n",
    "        dataframe=train_df,\n",
    "        x_col=\"file_name\",\n",
    "        y_col=\"binary_label\",\n",
    "        target_size=IMAGE_SIZE,\n",
    "        batch_size=BATCH_SIZE,\n",
    "        class_mode=\"binary\",\n",
    "        shuffle=True,\n",
    "        seed=SEED,\n",
    "    )\n",
    "    validation_images = datagen.flow_from_dataframe(\n",
    "        dataframe=validation_df,\n",
    "        x_col=\"file_name\",\n",
    "        y_col=\"binary_label\",\n",
    "        target_size=IMAGE_SIZE,\n",
    "        batch_size=BATCH_SIZE,\n",
    "        class_mode=\"binary\",\n",
    "        shuffle=True,\n",
    "        seed=SEED,\n",
    "    )\n",
    "    test_images = datagen.flow_from_dataframe(\n",
    "        dataframe=test_df,\n",
    "        x_col=\"file_name\",\n",
    "        y_col=\"binary_label\",\n",
    "        target_size=IMAGE_SIZE,\n",
    "        batch_size=BATCH_SIZE,\n",
    "        class_mode=\"binary\",\n",
    "    )\n",
    "\n",
    "    mobilenet_v2 = tf.keras.applications.MobileNetV2(\n",
    "        weights=\"imagenet\",\n",
    "        include_top=False,\n",
    "        input_shape=IMAGE_SHAPE,\n",
    "    )\n",
    "    mobilenet_v2.trainable = False\n",
    "\n",
    "    model = tf.keras.Sequential([\n",
    "        mobilenet_v2,\n",
    "        tf.keras.layers.GlobalAveragePooling2D(),\n",
    "        tf.keras.layers.Dense(1, activation=\"sigmoid\"),\n",
    "    ], name=f\"{MODEL_NAME}_{VERSION_BASE}.{VERSION_INDEX}\")\n",
    "\n",
    "    model.compile(\n",
    "        optimizer=tf.keras.optimizers.Adam(),\n",
    "        loss=focal_loss(alpha=alpha, gamma=gamma),\n",
    "        metrics=[\"accuracy\", Precision(name=\"precision\"), Recall(name=\"recall\"), AUC(name=\"auc\")],\n",
    "    )\n",
    "\n",
    "    start_time = time.time()\n",
    "    history = model.fit(\n",
    "        train_images,\n",
    "        epochs=EPOCHS,\n",
    "        validation_data=validation_images,\n",
    "        callbacks=[\n",
    "            TensorBoard(log_dir=f\"./logs/{MODEL_NAME}/{VERSION_BASE}/{VERSION_BASE}.{VERSION_INDEX}\"),\n",
    "        ]\n",
    "    )\n",
    "    training_time = time.time() - start_time\n",
    "\n",
    "    results = model.evaluate(test_images)\n",
    "\n",
    "    history_df = pd.DataFrame(history.history)\n",
    "    os.makedirs(f\"./logs/{MODEL_NAME}/{VERSION_BASE}/{VERSION_BASE}.{VERSION_INDEX}\", exist_ok=True)\n",
    "    history_df.to_csv(\n",
    "        f\"./logs/{MODEL_NAME}/{VERSION_BASE}/{VERSION_BASE}.{VERSION_INDEX}/history_{VERSION_BASE}.{VERSION_INDEX}.csv\",\n",
    "        index=False)\n",
    "\n",
    "    metric_names = history.model.metrics_names\n",
    "    evaluation_results = {(\"test_\" + name): value for name, value in zip(metric_names, results)}\n",
    "    evaluation_results[\"alpha\"] = alpha\n",
    "    evaluation_results[\"gamma\"] = gamma\n",
    "    evaluation_results[\"training_time\"] = training_time\n",
    "\n",
    "    results_df = pd.DataFrame([evaluation_results])\n",
    "    results_df.to_csv(\n",
    "        f\"./logs/{MODEL_NAME}/{VERSION_BASE}/{VERSION_BASE}.{VERSION_INDEX}/results_{VERSION_BASE}.{VERSION_INDEX}.csv\",\n",
    "        index=False)\n",
    "\n",
    "    print(f\"\\n📉 Loss: {results[0]:.4f}\")\n",
    "    print(f\"🎯 Accuracy: {results[1]:.4%}\")\n",
    "    print(f\"✅ Precision: {results[2]:.4%}\")\n",
    "    print(f\"🔄 Recall: {results[3]:.4%}\")\n",
    "    print(f\"📊 AUC: {results[4]:.4f}\")\n",
    "    print(f\"⏳ Tiempo de entrenamiento: {training_time:.2f} segundos\")\n",
    "\n",
    "    return results_df\n",
    "\n",
    "\n",
    "alpha_values = [0.25, 0.5, 0.75]\n",
    "gamma_values = [1.0, 2.0, 5.0]\n",
    "\n",
    "count = 0\n",
    "all_results = []\n",
    "for alpha in alpha_values:\n",
    "    for gamma in gamma_values:\n",
    "        results_df = train_and_evaluate(alpha, gamma, count)\n",
    "        all_results.append(results_df)\n",
    "        count += 1\n",
    "\n",
    "final_results = pd.concat(all_results, ignore_index=True)\n",
    "final_results.to_csv(f\"./logs/{MODEL_NAME}/{VERSION_BASE}/focal_loss_tuning_results.csv\", index=False)\n",
    "\n",
    "print(\"\\n✅ ¡Experimento con optimización de Focal Loss completado!\")"
   ],
   "id": "7d11e162eeed628f",
   "outputs": [
    {
     "name": "stdout",
     "output_type": "stream",
     "text": [
      "\n",
      "🔹 Entrenando con Focal Loss (alpha=0.25, gamma=1.0) 🔹\n",
      "Found 17054 validated image filenames belonging to 2 classes.\n",
      "Found 4286 validated image filenames belonging to 2 classes.\n",
      "Found 4286 validated image filenames belonging to 2 classes.\n"
     ]
    },
    {
     "name": "stderr",
     "output_type": "stream",
     "text": [
      "2025-02-23 19:43:26.456411: I metal_plugin/src/device/metal_device.cc:1154] Metal device set to: Apple M3\n",
      "2025-02-23 19:43:26.456438: I metal_plugin/src/device/metal_device.cc:296] systemMemory: 16.00 GB\n",
      "2025-02-23 19:43:26.456442: I metal_plugin/src/device/metal_device.cc:313] maxCacheSize: 5.33 GB\n",
      "2025-02-23 19:43:26.456598: I tensorflow/core/common_runtime/pluggable_device/pluggable_device_factory.cc:303] Could not identify NUMA node of platform GPU ID 0, defaulting to 0. Your kernel may not have been built with NUMA support.\n",
      "2025-02-23 19:43:26.456610: I tensorflow/core/common_runtime/pluggable_device/pluggable_device_factory.cc:269] Created TensorFlow device (/job:localhost/replica:0/task:0/device:GPU:0 with 0 MB memory) -> physical PluggableDevice (device: 0, name: METAL, pci bus id: <undefined>)\n",
      "WARNING:absl:At this time, the v2.11+ optimizer `tf.keras.optimizers.Adam` runs slowly on M1/M2 Macs, please use the legacy Keras optimizer instead, located at `tf.keras.optimizers.legacy.Adam`.\n",
      "WARNING:absl:There is a known slowdown when using v2.11+ Keras optimizers on M1/M2 Macs. Falling back to the legacy Keras optimizer, i.e., `tf.keras.optimizers.legacy.Adam`.\n"
     ]
    },
    {
     "name": "stdout",
     "output_type": "stream",
     "text": [
      "Epoch 1/10\n"
     ]
    },
    {
     "name": "stderr",
     "output_type": "stream",
     "text": [
      "2025-02-23 19:43:28.053992: I tensorflow/core/grappler/optimizers/custom_graph_optimizer_registry.cc:114] Plugin optimizer for device_type GPU is enabled.\n"
     ]
    },
    {
     "name": "stdout",
     "output_type": "stream",
     "text": [
      "533/533 [==============================] - ETA: 0s - loss: 0.0346 - accuracy: 0.8813 - precision: 0.9110 - recall: 0.9387 - auc: 0.9324"
     ]
    },
    {
     "name": "stderr",
     "output_type": "stream",
     "text": [
      "2025-02-23 19:44:13.078654: I tensorflow/core/grappler/optimizers/custom_graph_optimizer_registry.cc:114] Plugin optimizer for device_type GPU is enabled.\n"
     ]
    },
    {
     "name": "stdout",
     "output_type": "stream",
     "text": [
      "533/533 [==============================] - 56s 103ms/step - loss: 0.0346 - accuracy: 0.8813 - precision: 0.9110 - recall: 0.9387 - auc: 0.9324 - val_loss: 0.0247 - val_accuracy: 0.9279 - val_precision: 0.9527 - val_recall: 0.9376 - val_auc: 0.9744\n",
      "Epoch 2/10\n",
      "533/533 [==============================] - 53s 100ms/step - loss: 0.0245 - accuracy: 0.9203 - precision: 0.9445 - recall: 0.9533 - auc: 0.9673 - val_loss: 0.0221 - val_accuracy: 0.9349 - val_precision: 0.9564 - val_recall: 0.9446 - val_auc: 0.9795\n",
      "Epoch 3/10\n",
      "533/533 [==============================] - 53s 100ms/step - loss: 0.0225 - accuracy: 0.9276 - precision: 0.9509 - recall: 0.9560 - auc: 0.9724 - val_loss: 0.0215 - val_accuracy: 0.9382 - val_precision: 0.9437 - val_recall: 0.9640 - val_auc: 0.9810\n",
      "Epoch 4/10\n",
      "533/533 [==============================] - 54s 100ms/step - loss: 0.0211 - accuracy: 0.9316 - precision: 0.9531 - recall: 0.9590 - auc: 0.9757 - val_loss: 0.0214 - val_accuracy: 0.9316 - val_precision: 0.9656 - val_recall: 0.9298 - val_auc: 0.9819\n",
      "Epoch 5/10\n",
      "533/533 [==============================] - 53s 100ms/step - loss: 0.0203 - accuracy: 0.9346 - precision: 0.9551 - recall: 0.9607 - auc: 0.9776 - val_loss: 0.0203 - val_accuracy: 0.9372 - val_precision: 0.9589 - val_recall: 0.9457 - val_auc: 0.9831\n",
      "Epoch 6/10\n",
      "533/533 [==============================] - 54s 101ms/step - loss: 0.0198 - accuracy: 0.9353 - precision: 0.9553 - recall: 0.9615 - auc: 0.9787 - val_loss: 0.0204 - val_accuracy: 0.9400 - val_precision: 0.9523 - val_recall: 0.9573 - val_auc: 0.9828\n",
      "Epoch 7/10\n",
      "533/533 [==============================] - 54s 101ms/step - loss: 0.0191 - accuracy: 0.9370 - precision: 0.9565 - recall: 0.9625 - auc: 0.9802 - val_loss: 0.0229 - val_accuracy: 0.9277 - val_precision: 0.9737 - val_recall: 0.9154 - val_auc: 0.9825\n",
      "Epoch 8/10\n",
      "533/533 [==============================] - 53s 100ms/step - loss: 0.0189 - accuracy: 0.9375 - precision: 0.9575 - recall: 0.9621 - auc: 0.9806 - val_loss: 0.0212 - val_accuracy: 0.9386 - val_precision: 0.9354 - val_recall: 0.9746 - val_auc: 0.9838\n",
      "Epoch 9/10\n",
      "533/533 [==============================] - 53s 100ms/step - loss: 0.0188 - accuracy: 0.9384 - precision: 0.9582 - recall: 0.9625 - auc: 0.9808 - val_loss: 0.0207 - val_accuracy: 0.9428 - val_precision: 0.9463 - val_recall: 0.9686 - val_auc: 0.9839\n",
      "Epoch 10/10\n",
      "533/533 [==============================] - 53s 100ms/step - loss: 0.0181 - accuracy: 0.9418 - precision: 0.9605 - recall: 0.9646 - auc: 0.9822 - val_loss: 0.0207 - val_accuracy: 0.9414 - val_precision: 0.9443 - val_recall: 0.9686 - val_auc: 0.9828\n",
      "134/134 [==============================] - 11s 81ms/step - loss: 0.0189 - accuracy: 0.9405 - precision: 0.9350 - recall: 0.9781 - auc: 0.9871\n",
      "\n",
      "📉 Loss: 0.0189\n",
      "🎯 Accuracy: 94.0504%\n",
      "✅ Precision: 93.4951%\n",
      "🔄 Recall: 97.8138%\n",
      "📊 AUC: 0.9871\n",
      "⏳ Tiempo de entrenamiento: 538.34 segundos\n",
      "\n",
      "🔹 Entrenando con Focal Loss (alpha=0.25, gamma=2.0) 🔹\n",
      "Found 17054 validated image filenames belonging to 2 classes.\n",
      "Found 4286 validated image filenames belonging to 2 classes.\n",
      "Found 4286 validated image filenames belonging to 2 classes.\n"
     ]
    },
    {
     "name": "stderr",
     "output_type": "stream",
     "text": [
      "WARNING:absl:At this time, the v2.11+ optimizer `tf.keras.optimizers.Adam` runs slowly on M1/M2 Macs, please use the legacy Keras optimizer instead, located at `tf.keras.optimizers.legacy.Adam`.\n",
      "WARNING:absl:There is a known slowdown when using v2.11+ Keras optimizers on M1/M2 Macs. Falling back to the legacy Keras optimizer, i.e., `tf.keras.optimizers.legacy.Adam`.\n"
     ]
    },
    {
     "name": "stdout",
     "output_type": "stream",
     "text": [
      "Epoch 1/10\n"
     ]
    },
    {
     "name": "stderr",
     "output_type": "stream",
     "text": [
      "2025-02-23 19:52:37.882929: I tensorflow/core/grappler/optimizers/custom_graph_optimizer_registry.cc:114] Plugin optimizer for device_type GPU is enabled.\n"
     ]
    },
    {
     "name": "stdout",
     "output_type": "stream",
     "text": [
      "533/533 [==============================] - ETA: 0s - loss: 0.0214 - accuracy: 0.8667 - precision: 0.9047 - recall: 0.9255 - auc: 0.9171"
     ]
    },
    {
     "name": "stderr",
     "output_type": "stream",
     "text": [
      "2025-02-23 19:53:23.028290: I tensorflow/core/grappler/optimizers/custom_graph_optimizer_registry.cc:114] Plugin optimizer for device_type GPU is enabled.\n"
     ]
    },
    {
     "name": "stdout",
     "output_type": "stream",
     "text": [
      "533/533 [==============================] - 57s 105ms/step - loss: 0.0214 - accuracy: 0.8667 - precision: 0.9047 - recall: 0.9255 - auc: 0.9171 - val_loss: 0.0138 - val_accuracy: 0.9169 - val_precision: 0.9589 - val_recall: 0.9136 - val_auc: 0.9725\n",
      "Epoch 2/10\n",
      "533/533 [==============================] - 54s 101ms/step - loss: 0.0134 - accuracy: 0.9123 - precision: 0.9394 - recall: 0.9481 - auc: 0.9640 - val_loss: 0.0123 - val_accuracy: 0.9305 - val_precision: 0.9316 - val_recall: 0.9658 - val_auc: 0.9799\n",
      "Epoch 3/10\n",
      "533/533 [==============================] - 56s 104ms/step - loss: 0.0120 - accuracy: 0.9241 - precision: 0.9485 - recall: 0.9539 - auc: 0.9713 - val_loss: 0.0116 - val_accuracy: 0.9335 - val_precision: 0.9493 - val_recall: 0.9503 - val_auc: 0.9795\n",
      "Epoch 4/10\n",
      "533/533 [==============================] - 55s 104ms/step - loss: 0.0113 - accuracy: 0.9283 - precision: 0.9513 - recall: 0.9565 - auc: 0.9745 - val_loss: 0.0117 - val_accuracy: 0.9326 - val_precision: 0.9330 - val_recall: 0.9676 - val_auc: 0.9822\n",
      "Epoch 5/10\n",
      "533/533 [==============================] - 56s 106ms/step - loss: 0.0107 - accuracy: 0.9327 - precision: 0.9555 - recall: 0.9578 - auc: 0.9769 - val_loss: 0.0114 - val_accuracy: 0.9319 - val_precision: 0.9329 - val_recall: 0.9665 - val_auc: 0.9811\n",
      "Epoch 6/10\n",
      "533/533 [==============================] - 56s 105ms/step - loss: 0.0106 - accuracy: 0.9325 - precision: 0.9539 - recall: 0.9593 - auc: 0.9776 - val_loss: 0.0113 - val_accuracy: 0.9368 - val_precision: 0.9445 - val_recall: 0.9609 - val_auc: 0.9815\n",
      "Epoch 7/10\n",
      "533/533 [==============================] - 56s 104ms/step - loss: 0.0102 - accuracy: 0.9340 - precision: 0.9549 - recall: 0.9602 - auc: 0.9793 - val_loss: 0.0110 - val_accuracy: 0.9375 - val_precision: 0.9629 - val_recall: 0.9418 - val_auc: 0.9828\n",
      "Epoch 8/10\n",
      "533/533 [==============================] - 55s 104ms/step - loss: 0.0102 - accuracy: 0.9358 - precision: 0.9572 - recall: 0.9601 - auc: 0.9794 - val_loss: 0.0112 - val_accuracy: 0.9356 - val_precision: 0.9402 - val_recall: 0.9640 - val_auc: 0.9826\n",
      "Epoch 9/10\n",
      "533/533 [==============================] - 55s 104ms/step - loss: 0.0097 - accuracy: 0.9377 - precision: 0.9581 - recall: 0.9617 - auc: 0.9810 - val_loss: 0.0114 - val_accuracy: 0.9363 - val_precision: 0.9539 - val_recall: 0.9496 - val_auc: 0.9818\n",
      "Epoch 10/10\n",
      "533/533 [==============================] - 56s 104ms/step - loss: 0.0095 - accuracy: 0.9391 - precision: 0.9591 - recall: 0.9625 - auc: 0.9820 - val_loss: 0.0128 - val_accuracy: 0.9223 - val_precision: 0.9717 - val_recall: 0.9090 - val_auc: 0.9819\n",
      "134/134 [==============================] - 12s 86ms/step - loss: 0.0113 - accuracy: 0.9263 - precision: 0.9730 - recall: 0.9140 - auc: 0.9841\n",
      "\n",
      "📉 Loss: 0.0113\n",
      "🎯 Accuracy: 92.6272%\n",
      "✅ Precision: 97.2973%\n",
      "🔄 Recall: 91.3963%\n",
      "📊 AUC: 0.9841\n",
      "⏳ Tiempo de entrenamiento: 555.92 segundos\n",
      "\n",
      "🔹 Entrenando con Focal Loss (alpha=0.25, gamma=5.0) 🔹\n",
      "Found 17054 validated image filenames belonging to 2 classes.\n",
      "Found 4286 validated image filenames belonging to 2 classes.\n",
      "Found 4286 validated image filenames belonging to 2 classes.\n"
     ]
    },
    {
     "name": "stderr",
     "output_type": "stream",
     "text": [
      "WARNING:absl:At this time, the v2.11+ optimizer `tf.keras.optimizers.Adam` runs slowly on M1/M2 Macs, please use the legacy Keras optimizer instead, located at `tf.keras.optimizers.legacy.Adam`.\n",
      "WARNING:absl:There is a known slowdown when using v2.11+ Keras optimizers on M1/M2 Macs. Falling back to the legacy Keras optimizer, i.e., `tf.keras.optimizers.legacy.Adam`.\n"
     ]
    },
    {
     "name": "stdout",
     "output_type": "stream",
     "text": [
      "Epoch 1/10\n"
     ]
    },
    {
     "name": "stderr",
     "output_type": "stream",
     "text": [
      "2025-02-23 20:02:06.439064: I tensorflow/core/grappler/optimizers/custom_graph_optimizer_registry.cc:114] Plugin optimizer for device_type GPU is enabled.\n"
     ]
    },
    {
     "name": "stdout",
     "output_type": "stream",
     "text": [
      "533/533 [==============================] - ETA: 0s - loss: 0.0036 - accuracy: 0.8620 - precision: 0.9123 - recall: 0.9093 - auc: 0.9176"
     ]
    },
    {
     "name": "stderr",
     "output_type": "stream",
     "text": [
      "2025-02-23 20:02:50.681375: I tensorflow/core/grappler/optimizers/custom_graph_optimizer_registry.cc:114] Plugin optimizer for device_type GPU is enabled.\n"
     ]
    },
    {
     "name": "stdout",
     "output_type": "stream",
     "text": [
      "533/533 [==============================] - 56s 103ms/step - loss: 0.0036 - accuracy: 0.8620 - precision: 0.9123 - recall: 0.9093 - auc: 0.9176 - val_loss: 0.0024 - val_accuracy: 0.9109 - val_precision: 0.9521 - val_recall: 0.9111 - val_auc: 0.9633\n",
      "Epoch 2/10\n",
      "533/533 [==============================] - 54s 101ms/step - loss: 0.0021 - accuracy: 0.9052 - precision: 0.9387 - recall: 0.9390 - auc: 0.9592 - val_loss: 0.0023 - val_accuracy: 0.9074 - val_precision: 0.9639 - val_recall: 0.8935 - val_auc: 0.9684\n",
      "Epoch 3/10\n",
      "533/533 [==============================] - 55s 102ms/step - loss: 0.0017 - accuracy: 0.9177 - precision: 0.9456 - recall: 0.9483 - auc: 0.9680 - val_loss: 0.0026 - val_accuracy: 0.9137 - val_precision: 0.9001 - val_recall: 0.9781 - val_auc: 0.9729\n",
      "Epoch 4/10\n",
      "533/533 [==============================] - 55s 103ms/step - loss: 0.0016 - accuracy: 0.9229 - precision: 0.9485 - recall: 0.9522 - auc: 0.9724 - val_loss: 0.0024 - val_accuracy: 0.9214 - val_precision: 0.9087 - val_recall: 0.9795 - val_auc: 0.9776\n",
      "Epoch 5/10\n",
      "533/533 [==============================] - 55s 103ms/step - loss: 0.0016 - accuracy: 0.9234 - precision: 0.9498 - recall: 0.9514 - auc: 0.9726 - val_loss: 0.0020 - val_accuracy: 0.9263 - val_precision: 0.9545 - val_recall: 0.9330 - val_auc: 0.9738\n",
      "Epoch 6/10\n",
      "533/533 [==============================] - 54s 102ms/step - loss: 0.0016 - accuracy: 0.9249 - precision: 0.9512 - recall: 0.9519 - auc: 0.9743 - val_loss: 0.0019 - val_accuracy: 0.9344 - val_precision: 0.9450 - val_recall: 0.9566 - val_auc: 0.9781\n",
      "Epoch 7/10\n",
      "533/533 [==============================] - 54s 102ms/step - loss: 0.0015 - accuracy: 0.9293 - precision: 0.9523 - recall: 0.9567 - auc: 0.9773 - val_loss: 0.0019 - val_accuracy: 0.9216 - val_precision: 0.9671 - val_recall: 0.9126 - val_auc: 0.9792\n",
      "Epoch 8/10\n",
      "533/533 [==============================] - 55s 103ms/step - loss: 0.0015 - accuracy: 0.9292 - precision: 0.9539 - recall: 0.9548 - auc: 0.9769 - val_loss: 0.0021 - val_accuracy: 0.9288 - val_precision: 0.9436 - val_recall: 0.9492 - val_auc: 0.9774\n",
      "Epoch 9/10\n",
      "533/533 [==============================] - 55s 104ms/step - loss: 0.0014 - accuracy: 0.9317 - precision: 0.9547 - recall: 0.9573 - auc: 0.9785 - val_loss: 0.0019 - val_accuracy: 0.9368 - val_precision: 0.9436 - val_recall: 0.9619 - val_auc: 0.9779\n",
      "Epoch 10/10\n",
      "533/533 [==============================] - 54s 102ms/step - loss: 0.0014 - accuracy: 0.9322 - precision: 0.9553 - recall: 0.9573 - auc: 0.9789 - val_loss: 0.0021 - val_accuracy: 0.9235 - val_precision: 0.9690 - val_recall: 0.9136 - val_auc: 0.9762\n",
      "134/134 [==============================] - 11s 81ms/step - loss: 0.0017 - accuracy: 0.9295 - precision: 0.9682 - recall: 0.9238 - auc: 0.9812\n",
      "\n",
      "📉 Loss: 0.0017\n",
      "🎯 Accuracy: 92.9538%\n",
      "✅ Precision: 96.8219%\n",
      "🔄 Recall: 92.3836%\n",
      "📊 AUC: 0.9812\n",
      "⏳ Tiempo de entrenamiento: 547.08 segundos\n",
      "\n",
      "🔹 Entrenando con Focal Loss (alpha=0.5, gamma=1.0) 🔹\n",
      "Found 17054 validated image filenames belonging to 2 classes.\n",
      "Found 4286 validated image filenames belonging to 2 classes.\n",
      "Found 4286 validated image filenames belonging to 2 classes.\n"
     ]
    },
    {
     "name": "stderr",
     "output_type": "stream",
     "text": [
      "WARNING:absl:At this time, the v2.11+ optimizer `tf.keras.optimizers.Adam` runs slowly on M1/M2 Macs, please use the legacy Keras optimizer instead, located at `tf.keras.optimizers.legacy.Adam`.\n",
      "WARNING:absl:There is a known slowdown when using v2.11+ Keras optimizers on M1/M2 Macs. Falling back to the legacy Keras optimizer, i.e., `tf.keras.optimizers.legacy.Adam`.\n"
     ]
    },
    {
     "name": "stdout",
     "output_type": "stream",
     "text": [
      "Epoch 1/10\n"
     ]
    },
    {
     "name": "stderr",
     "output_type": "stream",
     "text": [
      "2025-02-23 20:11:25.402924: I tensorflow/core/grappler/optimizers/custom_graph_optimizer_registry.cc:114] Plugin optimizer for device_type GPU is enabled.\n"
     ]
    },
    {
     "name": "stdout",
     "output_type": "stream",
     "text": [
      "533/533 [==============================] - ETA: 0s - loss: 0.0636 - accuracy: 0.8882 - precision: 0.9179 - recall: 0.9399 - auc: 0.9425"
     ]
    },
    {
     "name": "stderr",
     "output_type": "stream",
     "text": [
      "2025-02-23 20:12:09.293298: I tensorflow/core/grappler/optimizers/custom_graph_optimizer_registry.cc:114] Plugin optimizer for device_type GPU is enabled.\n"
     ]
    },
    {
     "name": "stdout",
     "output_type": "stream",
     "text": [
      "533/533 [==============================] - 56s 103ms/step - loss: 0.0636 - accuracy: 0.8882 - precision: 0.9179 - recall: 0.9399 - auc: 0.9425 - val_loss: 0.0484 - val_accuracy: 0.9291 - val_precision: 0.9461 - val_recall: 0.9468 - val_auc: 0.9749\n",
      "Epoch 2/10\n",
      "533/533 [==============================] - 54s 101ms/step - loss: 0.0482 - accuracy: 0.9202 - precision: 0.9454 - recall: 0.9520 - auc: 0.9682 - val_loss: 0.0451 - val_accuracy: 0.9326 - val_precision: 0.9579 - val_recall: 0.9394 - val_auc: 0.9788\n",
      "Epoch 3/10\n",
      "533/533 [==============================] - 56s 105ms/step - loss: 0.0448 - accuracy: 0.9271 - precision: 0.9495 - recall: 0.9568 - auc: 0.9726 - val_loss: 0.0439 - val_accuracy: 0.9321 - val_precision: 0.9673 - val_recall: 0.9288 - val_auc: 0.9811\n",
      "Epoch 4/10\n",
      "533/533 [==============================] - 56s 105ms/step - loss: 0.0424 - accuracy: 0.9300 - precision: 0.9523 - recall: 0.9577 - auc: 0.9756 - val_loss: 0.0397 - val_accuracy: 0.9421 - val_precision: 0.9506 - val_recall: 0.9626 - val_auc: 0.9829\n",
      "Epoch 5/10\n",
      "533/533 [==============================] - 56s 105ms/step - loss: 0.0405 - accuracy: 0.9342 - precision: 0.9553 - recall: 0.9600 - auc: 0.9778 - val_loss: 0.0401 - val_accuracy: 0.9428 - val_precision: 0.9525 - val_recall: 0.9616 - val_auc: 0.9826\n",
      "Epoch 6/10\n",
      "533/533 [==============================] - 57s 107ms/step - loss: 0.0391 - accuracy: 0.9379 - precision: 0.9565 - recall: 0.9637 - auc: 0.9793 - val_loss: 0.0409 - val_accuracy: 0.9414 - val_precision: 0.9455 - val_recall: 0.9672 - val_auc: 0.9831\n",
      "Epoch 7/10\n",
      "533/533 [==============================] - 56s 105ms/step - loss: 0.0382 - accuracy: 0.9384 - precision: 0.9577 - recall: 0.9630 - auc: 0.9803 - val_loss: 0.0399 - val_accuracy: 0.9421 - val_precision: 0.9550 - val_recall: 0.9577 - val_auc: 0.9831\n",
      "Epoch 8/10\n",
      "533/533 [==============================] - 56s 104ms/step - loss: 0.0375 - accuracy: 0.9386 - precision: 0.9597 - recall: 0.9612 - auc: 0.9809 - val_loss: 0.0396 - val_accuracy: 0.9445 - val_precision: 0.9532 - val_recall: 0.9633 - val_auc: 0.9829\n",
      "Epoch 9/10\n",
      "533/533 [==============================] - 56s 104ms/step - loss: 0.0375 - accuracy: 0.9398 - precision: 0.9581 - recall: 0.9645 - auc: 0.9810 - val_loss: 0.0401 - val_accuracy: 0.9405 - val_precision: 0.9514 - val_recall: 0.9591 - val_auc: 0.9835\n",
      "Epoch 10/10\n",
      "533/533 [==============================] - 56s 104ms/step - loss: 0.0364 - accuracy: 0.9401 - precision: 0.9595 - recall: 0.9633 - auc: 0.9821 - val_loss: 0.0412 - val_accuracy: 0.9365 - val_precision: 0.9608 - val_recall: 0.9425 - val_auc: 0.9825\n",
      "134/134 [==============================] - 11s 85ms/step - loss: 0.0369 - accuracy: 0.9414 - precision: 0.9575 - recall: 0.9538 - auc: 0.9855\n",
      "\n",
      "📉 Loss: 0.0369\n",
      "🎯 Accuracy: 94.1437%\n",
      "✅ Precision: 95.7522%\n",
      "🔄 Recall: 95.3808%\n",
      "📊 AUC: 0.9855\n",
      "⏳ Tiempo de entrenamiento: 557.69 segundos\n",
      "\n",
      "🔹 Entrenando con Focal Loss (alpha=0.5, gamma=2.0) 🔹\n",
      "Found 17054 validated image filenames belonging to 2 classes.\n",
      "Found 4286 validated image filenames belonging to 2 classes.\n",
      "Found 4286 validated image filenames belonging to 2 classes.\n"
     ]
    },
    {
     "name": "stderr",
     "output_type": "stream",
     "text": [
      "WARNING:absl:At this time, the v2.11+ optimizer `tf.keras.optimizers.Adam` runs slowly on M1/M2 Macs, please use the legacy Keras optimizer instead, located at `tf.keras.optimizers.legacy.Adam`.\n",
      "WARNING:absl:There is a known slowdown when using v2.11+ Keras optimizers on M1/M2 Macs. Falling back to the legacy Keras optimizer, i.e., `tf.keras.optimizers.legacy.Adam`.\n"
     ]
    },
    {
     "name": "stdout",
     "output_type": "stream",
     "text": [
      "Epoch 1/10\n"
     ]
    },
    {
     "name": "stderr",
     "output_type": "stream",
     "text": [
      "2025-02-23 20:20:55.007500: I tensorflow/core/grappler/optimizers/custom_graph_optimizer_registry.cc:114] Plugin optimizer for device_type GPU is enabled.\n"
     ]
    },
    {
     "name": "stdout",
     "output_type": "stream",
     "text": [
      "533/533 [==============================] - ETA: 0s - loss: 0.0346 - accuracy: 0.8874 - precision: 0.9225 - recall: 0.9331 - auc: 0.9407"
     ]
    },
    {
     "name": "stderr",
     "output_type": "stream",
     "text": [
      "2025-02-23 20:21:37.920094: I tensorflow/core/grappler/optimizers/custom_graph_optimizer_registry.cc:114] Plugin optimizer for device_type GPU is enabled.\n"
     ]
    },
    {
     "name": "stdout",
     "output_type": "stream",
     "text": [
      "533/533 [==============================] - 54s 100ms/step - loss: 0.0346 - accuracy: 0.8874 - precision: 0.9225 - recall: 0.9331 - auc: 0.9407 - val_loss: 0.0248 - val_accuracy: 0.9237 - val_precision: 0.9354 - val_recall: 0.9503 - val_auc: 0.9766\n",
      "Epoch 2/10\n",
      "533/533 [==============================] - 53s 99ms/step - loss: 0.0256 - accuracy: 0.9171 - precision: 0.9407 - recall: 0.9532 - auc: 0.9671 - val_loss: 0.0237 - val_accuracy: 0.9305 - val_precision: 0.9635 - val_recall: 0.9302 - val_auc: 0.9806\n",
      "Epoch 3/10\n",
      "533/533 [==============================] - 52s 98ms/step - loss: 0.0235 - accuracy: 0.9243 - precision: 0.9484 - recall: 0.9543 - auc: 0.9723 - val_loss: 0.0255 - val_accuracy: 0.9251 - val_precision: 0.9754 - val_recall: 0.9097 - val_auc: 0.9802\n",
      "Epoch 4/10\n",
      "533/533 [==============================] - 54s 102ms/step - loss: 0.0216 - accuracy: 0.9295 - precision: 0.9513 - recall: 0.9580 - auc: 0.9765 - val_loss: 0.0232 - val_accuracy: 0.9379 - val_precision: 0.9642 - val_recall: 0.9411 - val_auc: 0.9791\n",
      "Epoch 5/10\n",
      "533/533 [==============================] - 55s 104ms/step - loss: 0.0213 - accuracy: 0.9319 - precision: 0.9530 - recall: 0.9595 - auc: 0.9774 - val_loss: 0.0234 - val_accuracy: 0.9382 - val_precision: 0.9666 - val_recall: 0.9390 - val_auc: 0.9795\n",
      "Epoch 6/10\n",
      "533/533 [==============================] - 55s 104ms/step - loss: 0.0209 - accuracy: 0.9325 - precision: 0.9542 - recall: 0.9590 - auc: 0.9781 - val_loss: 0.0222 - val_accuracy: 0.9396 - val_precision: 0.9504 - val_recall: 0.9587 - val_auc: 0.9814\n",
      "Epoch 7/10\n",
      "533/533 [==============================] - 55s 103ms/step - loss: 0.0202 - accuracy: 0.9356 - precision: 0.9552 - recall: 0.9620 - auc: 0.9796 - val_loss: 0.0222 - val_accuracy: 0.9405 - val_precision: 0.9439 - val_recall: 0.9676 - val_auc: 0.9832\n",
      "Epoch 8/10\n",
      "533/533 [==============================] - 55s 103ms/step - loss: 0.0196 - accuracy: 0.9365 - precision: 0.9563 - recall: 0.9620 - auc: 0.9807 - val_loss: 0.0227 - val_accuracy: 0.9363 - val_precision: 0.9648 - val_recall: 0.9379 - val_auc: 0.9818\n",
      "Epoch 9/10\n",
      "533/533 [==============================] - 55s 103ms/step - loss: 0.0197 - accuracy: 0.9381 - precision: 0.9586 - recall: 0.9617 - auc: 0.9806 - val_loss: 0.0254 - val_accuracy: 0.9344 - val_precision: 0.9374 - val_recall: 0.9654 - val_auc: 0.9808\n",
      "Epoch 10/10\n",
      "533/533 [==============================] - 55s 103ms/step - loss: 0.0193 - accuracy: 0.9376 - precision: 0.9569 - recall: 0.9628 - auc: 0.9815 - val_loss: 0.0229 - val_accuracy: 0.9344 - val_precision: 0.9620 - val_recall: 0.9379 - val_auc: 0.9812\n",
      "134/134 [==============================] - 11s 84ms/step - loss: 0.0205 - accuracy: 0.9391 - precision: 0.9570 - recall: 0.9506 - auc: 0.9842\n",
      "\n",
      "📉 Loss: 0.0205\n",
      "🎯 Accuracy: 93.9104%\n",
      "✅ Precision: 95.7047%\n",
      "🔄 Recall: 95.0635%\n",
      "📊 AUC: 0.9842\n",
      "⏳ Tiempo de entrenamiento: 544.58 segundos\n",
      "\n",
      "🔹 Entrenando con Focal Loss (alpha=0.5, gamma=5.0) 🔹\n",
      "Found 17054 validated image filenames belonging to 2 classes.\n",
      "Found 4286 validated image filenames belonging to 2 classes.\n",
      "Found 4286 validated image filenames belonging to 2 classes.\n"
     ]
    },
    {
     "name": "stderr",
     "output_type": "stream",
     "text": [
      "WARNING:absl:At this time, the v2.11+ optimizer `tf.keras.optimizers.Adam` runs slowly on M1/M2 Macs, please use the legacy Keras optimizer instead, located at `tf.keras.optimizers.legacy.Adam`.\n",
      "WARNING:absl:There is a known slowdown when using v2.11+ Keras optimizers on M1/M2 Macs. Falling back to the legacy Keras optimizer, i.e., `tf.keras.optimizers.legacy.Adam`.\n"
     ]
    },
    {
     "name": "stdout",
     "output_type": "stream",
     "text": [
      "Epoch 1/10\n"
     ]
    },
    {
     "name": "stderr",
     "output_type": "stream",
     "text": [
      "2025-02-23 20:30:11.998822: I tensorflow/core/grappler/optimizers/custom_graph_optimizer_registry.cc:114] Plugin optimizer for device_type GPU is enabled.\n"
     ]
    },
    {
     "name": "stdout",
     "output_type": "stream",
     "text": [
      "533/533 [==============================] - ETA: 0s - loss: 0.0090 - accuracy: 0.8451 - precision: 0.9002 - recall: 0.8999 - auc: 0.8949"
     ]
    },
    {
     "name": "stderr",
     "output_type": "stream",
     "text": [
      "2025-02-23 20:30:55.115751: I tensorflow/core/grappler/optimizers/custom_graph_optimizer_registry.cc:114] Plugin optimizer for device_type GPU is enabled.\n"
     ]
    },
    {
     "name": "stdout",
     "output_type": "stream",
     "text": [
      "533/533 [==============================] - 55s 101ms/step - loss: 0.0090 - accuracy: 0.8451 - precision: 0.9002 - recall: 0.8999 - auc: 0.8949 - val_loss: 0.0044 - val_accuracy: 0.9092 - val_precision: 0.9197 - val_recall: 0.9453 - val_auc: 0.9671\n",
      "Epoch 2/10\n",
      "533/533 [==============================] - 53s 99ms/step - loss: 0.0043 - accuracy: 0.9001 - precision: 0.9335 - recall: 0.9380 - auc: 0.9549 - val_loss: 0.0039 - val_accuracy: 0.9193 - val_precision: 0.9412 - val_recall: 0.9365 - val_auc: 0.9731\n",
      "Epoch 3/10\n",
      "533/533 [==============================] - 53s 99ms/step - loss: 0.0040 - accuracy: 0.9088 - precision: 0.9397 - recall: 0.9428 - auc: 0.9621 - val_loss: 0.0037 - val_accuracy: 0.9295 - val_precision: 0.9333 - val_recall: 0.9623 - val_auc: 0.9784\n",
      "Epoch 4/10\n",
      "533/533 [==============================] - 53s 99ms/step - loss: 0.0034 - accuracy: 0.9193 - precision: 0.9455 - recall: 0.9507 - auc: 0.9698 - val_loss: 0.0036 - val_accuracy: 0.9244 - val_precision: 0.9642 - val_recall: 0.9200 - val_auc: 0.9794\n",
      "Epoch 5/10\n",
      "533/533 [==============================] - 53s 99ms/step - loss: 0.0033 - accuracy: 0.9213 - precision: 0.9471 - recall: 0.9515 - auc: 0.9719 - val_loss: 0.0048 - val_accuracy: 0.9120 - val_precision: 0.9775 - val_recall: 0.8875 - val_auc: 0.9769\n",
      "Epoch 6/10\n",
      "533/533 [==============================] - 53s 99ms/step - loss: 0.0032 - accuracy: 0.9234 - precision: 0.9501 - recall: 0.9511 - auc: 0.9728 - val_loss: 0.0041 - val_accuracy: 0.9183 - val_precision: 0.9214 - val_recall: 0.9584 - val_auc: 0.9735\n",
      "Epoch 7/10\n",
      "533/533 [==============================] - 53s 99ms/step - loss: 0.0029 - accuracy: 0.9279 - precision: 0.9528 - recall: 0.9542 - auc: 0.9767 - val_loss: 0.0040 - val_accuracy: 0.9291 - val_precision: 0.9268 - val_recall: 0.9693 - val_auc: 0.9791\n",
      "Epoch 8/10\n",
      "533/533 [==============================] - 53s 99ms/step - loss: 0.0031 - accuracy: 0.9260 - precision: 0.9514 - recall: 0.9533 - auc: 0.9750 - val_loss: 0.0037 - val_accuracy: 0.9295 - val_precision: 0.9641 - val_recall: 0.9281 - val_auc: 0.9787\n",
      "Epoch 9/10\n",
      "533/533 [==============================] - 53s 99ms/step - loss: 0.0030 - accuracy: 0.9293 - precision: 0.9534 - recall: 0.9554 - auc: 0.9771 - val_loss: 0.0040 - val_accuracy: 0.9379 - val_precision: 0.9471 - val_recall: 0.9598 - val_auc: 0.9785\n",
      "Epoch 10/10\n",
      "533/533 [==============================] - 53s 99ms/step - loss: 0.0029 - accuracy: 0.9319 - precision: 0.9539 - recall: 0.9584 - auc: 0.9783 - val_loss: 0.0041 - val_accuracy: 0.9221 - val_precision: 0.9696 - val_recall: 0.9108 - val_auc: 0.9783\n",
      "134/134 [==============================] - 11s 80ms/step - loss: 0.0033 - accuracy: 0.9272 - precision: 0.9698 - recall: 0.9185 - auc: 0.9813\n",
      "\n",
      "📉 Loss: 0.0033\n",
      "🎯 Accuracy: 92.7205%\n",
      "✅ Precision: 96.9844%\n",
      "🔄 Recall: 91.8547%\n",
      "📊 AUC: 0.9813\n",
      "⏳ Tiempo de entrenamiento: 529.80 segundos\n",
      "\n",
      "🔹 Entrenando con Focal Loss (alpha=0.75, gamma=1.0) 🔹\n",
      "Found 17054 validated image filenames belonging to 2 classes.\n",
      "Found 4286 validated image filenames belonging to 2 classes.\n",
      "Found 4286 validated image filenames belonging to 2 classes.\n"
     ]
    },
    {
     "name": "stderr",
     "output_type": "stream",
     "text": [
      "WARNING:absl:At this time, the v2.11+ optimizer `tf.keras.optimizers.Adam` runs slowly on M1/M2 Macs, please use the legacy Keras optimizer instead, located at `tf.keras.optimizers.legacy.Adam`.\n",
      "WARNING:absl:There is a known slowdown when using v2.11+ Keras optimizers on M1/M2 Macs. Falling back to the legacy Keras optimizer, i.e., `tf.keras.optimizers.legacy.Adam`.\n"
     ]
    },
    {
     "name": "stdout",
     "output_type": "stream",
     "text": [
      "Epoch 1/10\n"
     ]
    },
    {
     "name": "stderr",
     "output_type": "stream",
     "text": [
      "2025-02-23 20:39:12.924218: I tensorflow/core/grappler/optimizers/custom_graph_optimizer_registry.cc:114] Plugin optimizer for device_type GPU is enabled.\n"
     ]
    },
    {
     "name": "stdout",
     "output_type": "stream",
     "text": [
      "533/533 [==============================] - ETA: 0s - loss: 0.0903 - accuracy: 0.8967 - precision: 0.9244 - recall: 0.9439 - auc: 0.9493"
     ]
    },
    {
     "name": "stderr",
     "output_type": "stream",
     "text": [
      "2025-02-23 20:39:56.355985: I tensorflow/core/grappler/optimizers/custom_graph_optimizer_registry.cc:114] Plugin optimizer for device_type GPU is enabled.\n"
     ]
    },
    {
     "name": "stdout",
     "output_type": "stream",
     "text": [
      "533/533 [==============================] - 55s 101ms/step - loss: 0.0903 - accuracy: 0.8967 - precision: 0.9244 - recall: 0.9439 - auc: 0.9493 - val_loss: 0.0692 - val_accuracy: 0.9267 - val_precision: 0.9412 - val_recall: 0.9485 - val_auc: 0.9778\n",
      "Epoch 2/10\n",
      "533/533 [==============================] - 52s 98ms/step - loss: 0.0704 - accuracy: 0.9218 - precision: 0.9461 - recall: 0.9535 - auc: 0.9699 - val_loss: 0.0678 - val_accuracy: 0.9291 - val_precision: 0.9237 - val_recall: 0.9732 - val_auc: 0.9820\n",
      "Epoch 3/10\n",
      "533/533 [==============================] - 52s 98ms/step - loss: 0.0665 - accuracy: 0.9277 - precision: 0.9517 - recall: 0.9552 - auc: 0.9732 - val_loss: 0.0603 - val_accuracy: 0.9393 - val_precision: 0.9510 - val_recall: 0.9577 - val_auc: 0.9824\n",
      "Epoch 4/10\n",
      "533/533 [==============================] - 53s 100ms/step - loss: 0.0622 - accuracy: 0.9334 - precision: 0.9540 - recall: 0.9604 - auc: 0.9767 - val_loss: 0.0595 - val_accuracy: 0.9354 - val_precision: 0.9621 - val_recall: 0.9394 - val_auc: 0.9841\n",
      "Epoch 5/10\n",
      "533/533 [==============================] - 55s 103ms/step - loss: 0.0606 - accuracy: 0.9344 - precision: 0.9562 - recall: 0.9593 - auc: 0.9778 - val_loss: 0.0620 - val_accuracy: 0.9400 - val_precision: 0.9403 - val_recall: 0.9711 - val_auc: 0.9837\n",
      "Epoch 6/10\n",
      "533/533 [==============================] - 55s 103ms/step - loss: 0.0583 - accuracy: 0.9374 - precision: 0.9569 - recall: 0.9626 - auc: 0.9795 - val_loss: 0.0598 - val_accuracy: 0.9375 - val_precision: 0.9605 - val_recall: 0.9443 - val_auc: 0.9839\n",
      "Epoch 7/10\n",
      "533/533 [==============================] - 55s 103ms/step - loss: 0.0565 - accuracy: 0.9372 - precision: 0.9574 - recall: 0.9618 - auc: 0.9808 - val_loss: 0.0597 - val_accuracy: 0.9410 - val_precision: 0.9611 - val_recall: 0.9492 - val_auc: 0.9837\n",
      "Epoch 8/10\n",
      "533/533 [==============================] - 55s 103ms/step - loss: 0.0567 - accuracy: 0.9381 - precision: 0.9581 - recall: 0.9623 - auc: 0.9806 - val_loss: 0.0631 - val_accuracy: 0.9356 - val_precision: 0.9685 - val_recall: 0.9330 - val_auc: 0.9835\n",
      "Epoch 9/10\n",
      "533/533 [==============================] - 55s 103ms/step - loss: 0.0549 - accuracy: 0.9406 - precision: 0.9594 - recall: 0.9641 - auc: 0.9819 - val_loss: 0.0609 - val_accuracy: 0.9389 - val_precision: 0.9606 - val_recall: 0.9464 - val_auc: 0.9828\n",
      "Epoch 10/10\n",
      "533/533 [==============================] - 55s 103ms/step - loss: 0.0544 - accuracy: 0.9400 - precision: 0.9599 - recall: 0.9629 - auc: 0.9822 - val_loss: 0.0612 - val_accuracy: 0.9370 - val_precision: 0.9628 - val_recall: 0.9411 - val_auc: 0.9831\n",
      "134/134 [==============================] - 11s 83ms/step - loss: 0.0549 - accuracy: 0.9428 - precision: 0.9622 - recall: 0.9510 - auc: 0.9857\n",
      "\n",
      "📉 Loss: 0.0549\n",
      "🎯 Accuracy: 94.2837%\n",
      "✅ Precision: 96.2183%\n",
      "🔄 Recall: 95.0987%\n",
      "📊 AUC: 0.9857\n",
      "⏳ Tiempo de entrenamiento: 542.47 segundos\n",
      "\n",
      "🔹 Entrenando con Focal Loss (alpha=0.75, gamma=2.0) 🔹\n",
      "Found 17054 validated image filenames belonging to 2 classes.\n",
      "Found 4286 validated image filenames belonging to 2 classes.\n",
      "Found 4286 validated image filenames belonging to 2 classes.\n"
     ]
    },
    {
     "name": "stderr",
     "output_type": "stream",
     "text": [
      "WARNING:absl:At this time, the v2.11+ optimizer `tf.keras.optimizers.Adam` runs slowly on M1/M2 Macs, please use the legacy Keras optimizer instead, located at `tf.keras.optimizers.legacy.Adam`.\n",
      "WARNING:absl:There is a known slowdown when using v2.11+ Keras optimizers on M1/M2 Macs. Falling back to the legacy Keras optimizer, i.e., `tf.keras.optimizers.legacy.Adam`.\n"
     ]
    },
    {
     "name": "stdout",
     "output_type": "stream",
     "text": [
      "Epoch 1/10\n"
     ]
    },
    {
     "name": "stderr",
     "output_type": "stream",
     "text": [
      "2025-02-23 20:48:27.365940: I tensorflow/core/grappler/optimizers/custom_graph_optimizer_registry.cc:114] Plugin optimizer for device_type GPU is enabled.\n"
     ]
    },
    {
     "name": "stdout",
     "output_type": "stream",
     "text": [
      "533/533 [==============================] - ETA: 0s - loss: 0.0544 - accuracy: 0.8823 - precision: 0.9164 - recall: 0.9332 - auc: 0.9336"
     ]
    },
    {
     "name": "stderr",
     "output_type": "stream",
     "text": [
      "2025-02-23 20:49:10.760913: I tensorflow/core/grappler/optimizers/custom_graph_optimizer_registry.cc:114] Plugin optimizer for device_type GPU is enabled.\n"
     ]
    },
    {
     "name": "stdout",
     "output_type": "stream",
     "text": [
      "533/533 [==============================] - 55s 101ms/step - loss: 0.0544 - accuracy: 0.8823 - precision: 0.9164 - recall: 0.9332 - auc: 0.9336 - val_loss: 0.0375 - val_accuracy: 0.9251 - val_precision: 0.9230 - val_recall: 0.9676 - val_auc: 0.9776\n",
      "Epoch 2/10\n",
      "533/533 [==============================] - 54s 102ms/step - loss: 0.0381 - accuracy: 0.9190 - precision: 0.9449 - recall: 0.9510 - auc: 0.9678 - val_loss: 0.0391 - val_accuracy: 0.9183 - val_precision: 0.9748 - val_recall: 0.8999 - val_auc: 0.9809\n",
      "Epoch 3/10\n",
      "533/533 [==============================] - 53s 100ms/step - loss: 0.0354 - accuracy: 0.9269 - precision: 0.9507 - recall: 0.9553 - auc: 0.9723 - val_loss: 0.0344 - val_accuracy: 0.9316 - val_precision: 0.9303 - val_recall: 0.9693 - val_auc: 0.9821\n",
      "Epoch 4/10\n",
      "533/533 [==============================] - 53s 99ms/step - loss: 0.0333 - accuracy: 0.9288 - precision: 0.9514 - recall: 0.9570 - auc: 0.9755 - val_loss: 0.0327 - val_accuracy: 0.9400 - val_precision: 0.9457 - val_recall: 0.9647 - val_auc: 0.9828\n",
      "Epoch 5/10\n",
      "533/533 [==============================] - 53s 99ms/step - loss: 0.0322 - accuracy: 0.9317 - precision: 0.9539 - recall: 0.9582 - auc: 0.9769 - val_loss: 0.0330 - val_accuracy: 0.9405 - val_precision: 0.9442 - val_recall: 0.9672 - val_auc: 0.9825\n",
      "Epoch 6/10\n",
      "533/533 [==============================] - 53s 99ms/step - loss: 0.0311 - accuracy: 0.9343 - precision: 0.9556 - recall: 0.9598 - auc: 0.9786 - val_loss: 0.0323 - val_accuracy: 0.9379 - val_precision: 0.9619 - val_recall: 0.9436 - val_auc: 0.9829\n",
      "Epoch 7/10\n",
      "533/533 [==============================] - 53s 99ms/step - loss: 0.0305 - accuracy: 0.9359 - precision: 0.9569 - recall: 0.9605 - auc: 0.9793 - val_loss: 0.0313 - val_accuracy: 0.9414 - val_precision: 0.9518 - val_recall: 0.9602 - val_auc: 0.9841\n",
      "Epoch 8/10\n",
      "533/533 [==============================] - 53s 99ms/step - loss: 0.0297 - accuracy: 0.9367 - precision: 0.9576 - recall: 0.9609 - auc: 0.9804 - val_loss: 0.0327 - val_accuracy: 0.9400 - val_precision: 0.9574 - val_recall: 0.9517 - val_auc: 0.9825\n",
      "Epoch 9/10\n",
      "533/533 [==============================] - 53s 99ms/step - loss: 0.0292 - accuracy: 0.9377 - precision: 0.9582 - recall: 0.9617 - auc: 0.9811 - val_loss: 0.0335 - val_accuracy: 0.9365 - val_precision: 0.9451 - val_recall: 0.9598 - val_auc: 0.9827\n",
      "Epoch 10/10\n",
      "533/533 [==============================] - 53s 99ms/step - loss: 0.0289 - accuracy: 0.9380 - precision: 0.9574 - recall: 0.9629 - auc: 0.9814 - val_loss: 0.0326 - val_accuracy: 0.9400 - val_precision: 0.9504 - val_recall: 0.9594 - val_auc: 0.9831\n",
      "134/134 [==============================] - 11s 79ms/step - loss: 0.0297 - accuracy: 0.9400 - precision: 0.9433 - recall: 0.9676 - auc: 0.9855\n",
      "\n",
      "📉 Loss: 0.0297\n",
      "🎯 Accuracy: 94.0037%\n",
      "✅ Precision: 94.3280%\n",
      "🔄 Recall: 96.7560%\n",
      "📊 AUC: 0.9855\n",
      "⏳ Tiempo de entrenamiento: 531.65 segundos\n",
      "\n",
      "🔹 Entrenando con Focal Loss (alpha=0.75, gamma=5.0) 🔹\n",
      "Found 17054 validated image filenames belonging to 2 classes.\n",
      "Found 4286 validated image filenames belonging to 2 classes.\n",
      "Found 4286 validated image filenames belonging to 2 classes.\n"
     ]
    },
    {
     "name": "stderr",
     "output_type": "stream",
     "text": [
      "WARNING:absl:At this time, the v2.11+ optimizer `tf.keras.optimizers.Adam` runs slowly on M1/M2 Macs, please use the legacy Keras optimizer instead, located at `tf.keras.optimizers.legacy.Adam`.\n",
      "WARNING:absl:There is a known slowdown when using v2.11+ Keras optimizers on M1/M2 Macs. Falling back to the legacy Keras optimizer, i.e., `tf.keras.optimizers.legacy.Adam`.\n"
     ]
    },
    {
     "name": "stdout",
     "output_type": "stream",
     "text": [
      "Epoch 1/10\n"
     ]
    },
    {
     "name": "stderr",
     "output_type": "stream",
     "text": [
      "2025-02-23 20:57:30.891801: I tensorflow/core/grappler/optimizers/custom_graph_optimizer_registry.cc:114] Plugin optimizer for device_type GPU is enabled.\n"
     ]
    },
    {
     "name": "stdout",
     "output_type": "stream",
     "text": [
      "533/533 [==============================] - ETA: 0s - loss: 0.0107 - accuracy: 0.8629 - precision: 0.9126 - recall: 0.9104 - auc: 0.9174"
     ]
    },
    {
     "name": "stderr",
     "output_type": "stream",
     "text": [
      "2025-02-23 20:58:14.175070: I tensorflow/core/grappler/optimizers/custom_graph_optimizer_registry.cc:114] Plugin optimizer for device_type GPU is enabled.\n"
     ]
    },
    {
     "name": "stdout",
     "output_type": "stream",
     "text": [
      "533/533 [==============================] - 55s 101ms/step - loss: 0.0107 - accuracy: 0.8629 - precision: 0.9126 - recall: 0.9104 - auc: 0.9174 - val_loss: 0.0068 - val_accuracy: 0.9078 - val_precision: 0.9427 - val_recall: 0.9164 - val_auc: 0.9658\n",
      "Epoch 2/10\n",
      "533/533 [==============================] - 54s 101ms/step - loss: 0.0063 - accuracy: 0.9024 - precision: 0.9347 - recall: 0.9397 - auc: 0.9574 - val_loss: 0.0057 - val_accuracy: 0.9258 - val_precision: 0.9321 - val_recall: 0.9577 - val_auc: 0.9762\n",
      "Epoch 3/10\n",
      "533/533 [==============================] - 53s 99ms/step - loss: 0.0057 - accuracy: 0.9100 - precision: 0.9403 - recall: 0.9438 - auc: 0.9642 - val_loss: 0.0064 - val_accuracy: 0.9274 - val_precision: 0.9261 - val_recall: 0.9676 - val_auc: 0.9769\n",
      "Epoch 4/10\n",
      "533/533 [==============================] - 53s 99ms/step - loss: 0.0049 - accuracy: 0.9227 - precision: 0.9479 - recall: 0.9527 - auc: 0.9719 - val_loss: 0.0058 - val_accuracy: 0.9186 - val_precision: 0.9687 - val_recall: 0.9062 - val_auc: 0.9798\n",
      "Epoch 5/10\n",
      "533/533 [==============================] - 53s 99ms/step - loss: 0.0050 - accuracy: 0.9221 - precision: 0.9481 - recall: 0.9515 - auc: 0.9718 - val_loss: 0.0057 - val_accuracy: 0.9305 - val_precision: 0.9388 - val_recall: 0.9573 - val_auc: 0.9766\n",
      "Epoch 6/10\n",
      "533/533 [==============================] - 53s 99ms/step - loss: 0.0045 - accuracy: 0.9273 - precision: 0.9521 - recall: 0.9543 - auc: 0.9757 - val_loss: 0.0059 - val_accuracy: 0.9256 - val_precision: 0.9635 - val_recall: 0.9224 - val_auc: 0.9763\n",
      "Epoch 7/10\n",
      "533/533 [==============================] - 53s 99ms/step - loss: 0.0045 - accuracy: 0.9251 - precision: 0.9502 - recall: 0.9533 - auc: 0.9756 - val_loss: 0.0059 - val_accuracy: 0.9309 - val_precision: 0.9523 - val_recall: 0.9429 - val_auc: 0.9751\n",
      "Epoch 8/10\n",
      "533/533 [==============================] - 53s 99ms/step - loss: 0.0048 - accuracy: 0.9249 - precision: 0.9496 - recall: 0.9539 - auc: 0.9743 - val_loss: 0.0064 - val_accuracy: 0.9274 - val_precision: 0.9681 - val_recall: 0.9207 - val_auc: 0.9704\n",
      "Epoch 9/10\n",
      "533/533 [==============================] - 53s 99ms/step - loss: 0.0044 - accuracy: 0.9297 - precision: 0.9539 - recall: 0.9554 - auc: 0.9773 - val_loss: 0.0058 - val_accuracy: 0.9333 - val_precision: 0.9436 - val_recall: 0.9563 - val_auc: 0.9781\n",
      "Epoch 10/10\n",
      "533/533 [==============================] - 53s 100ms/step - loss: 0.0044 - accuracy: 0.9304 - precision: 0.9540 - recall: 0.9563 - auc: 0.9773 - val_loss: 0.0061 - val_accuracy: 0.9358 - val_precision: 0.9435 - val_recall: 0.9605 - val_auc: 0.9785\n",
      "134/134 [==============================] - 11s 80ms/step - loss: 0.0050 - accuracy: 0.9316 - precision: 0.9300 - recall: 0.9697 - auc: 0.9816\n",
      "\n",
      "📉 Loss: 0.0050\n",
      "🎯 Accuracy: 93.1638%\n",
      "✅ Precision: 92.9997%\n",
      "🔄 Recall: 96.9676%\n",
      "📊 AUC: 0.9816\n",
      "⏳ Tiempo de entrenamiento: 532.04 segundos\n",
      "\n",
      "✅ ¡Experimento con optimización de Focal Loss completado!\n"
     ]
    }
   ],
   "execution_count": 1
  }
 ],
 "metadata": {
  "kernelspec": {
   "display_name": "Python [conda env:TFG] *",
   "language": "python",
   "name": "conda-env-TFG-py"
  },
  "language_info": {
   "codemirror_mode": {
    "name": "ipython",
    "version": 2
   },
   "file_extension": ".py",
   "mimetype": "text/x-python",
   "name": "python",
   "nbconvert_exporter": "python",
   "pygments_lexer": "ipython2",
   "version": "2.7.6"
  }
 },
 "nbformat": 4,
 "nbformat_minor": 5
}
