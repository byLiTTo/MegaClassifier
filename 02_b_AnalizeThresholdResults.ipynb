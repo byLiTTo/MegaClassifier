{
 "cells": [
  {
   "cell_type": "code",
   "execution_count": 72,
   "metadata": {},
   "outputs": [],
   "source": [
    "import json\n",
    "import os\n",
    "\n",
    "import pandas as pd\n",
    "import src.data.Dataset as dt\n",
    "import tqdm"
   ]
  },
  {
   "cell_type": "code",
   "execution_count": null,
   "metadata": {},
   "outputs": [],
   "source": [
    "from itables import init_notebook_mode\n",
    "\n",
    "init_notebook_mode(all_interactive=True)"
   ]
  },
  {
   "cell_type": "code",
   "execution_count": 74,
   "metadata": {},
   "outputs": [],
   "source": [
    "OUTPUT_FILE_PATH = os.path.abspath(\"./resources/json/28570_images_0_003_threshold.json\")\n",
    "DATASET_CSV = os.path.abspath(\n",
    "    \"./data/raw/emptyNonEmptyDataset_ETL/28570Images_subset.csv\"\n",
    ")\n",
    "\n",
    "threshold = 0.003\n",
    "name = \"MegaDetector\"\n",
    "model = name + \"_\" + str(threshold).replace(\".\", \"_\")\n",
    "\n",
    "# subset_option = \"all\"\n",
    "# subset_option = \"train\"\n",
    "# subset_option = \"validation\"\n",
    "subset_option = \"test\"\n",
    "\n",
    "with open(OUTPUT_FILE_PATH, \"r\") as file:\n",
    "    data = json.load(file)"
   ]
  },
  {
   "cell_type": "code",
   "execution_count": null,
   "metadata": {},
   "outputs": [],
   "source": [
    "dataset = dt.load_from_csv(DATASET_CSV)\n",
    "dataset.head()"
   ]
  },
  {
   "cell_type": "code",
   "execution_count": null,
   "metadata": {},
   "outputs": [],
   "source": [
    "report_columns = [\n",
    "    \"file_name\",\n",
    "    \"label\",\n",
    "    \"binary_label\",\n",
    "    \"detector_label\",\n",
    "    \"subset\",\n",
    "]\n",
    "report = pd.DataFrame(columns=report_columns)\n",
    "\n",
    "for image in tqdm.tqdm(data[\"images\"]):\n",
    "    image_file = image[\"file\"]\n",
    "    indexes = dataset[dataset[\"file_name\"] == image_file]\n",
    "\n",
    "    if len(indexes) == 1:\n",
    "        label = indexes[\"label\"].iloc[0]\n",
    "        binary_label = int(indexes[\"binary_label\"].iloc[0])\n",
    "        detector_label = 1 if image[\"max_detection_conf\"] > 0.0 else 0\n",
    "        subset = indexes[\"subset\"].iloc[0]\n",
    "\n",
    "        new_row = {\n",
    "            \"file_name\": image_file,\n",
    "            \"label\": label,\n",
    "            \"binary_label\": binary_label,\n",
    "            \"detector_label\": detector_label,\n",
    "            \"subset\": subset,\n",
    "        }\n",
    "        report = pd.concat([report, pd.DataFrame([new_row])], ignore_index=True)"
   ]
  },
  {
   "cell_type": "code",
   "execution_count": null,
   "metadata": {},
   "outputs": [],
   "source": [
    "report.head()"
   ]
  },
  {
   "cell_type": "code",
   "execution_count": 78,
   "metadata": {},
   "outputs": [],
   "source": [
    "# report.to_csv(\n",
    "#     f\"./data/raw/emptyNonEmptyDataset_ETL/{len(report)}Images_detection.csv\",\n",
    "#     index=False,\n",
    "#     sep=\";\",\n",
    "# )\n",
    "# report.to_csv(\n",
    "#     \"./data/raw/emptyNonEmptyDataset_ETL/28560Images_detection_comma.csv\",\n",
    "#     index=False,\n",
    "#     sep=\",\",\n",
    "# )"
   ]
  },
  {
   "cell_type": "code",
   "execution_count": 79,
   "metadata": {},
   "outputs": [],
   "source": [
    "if subset_option != \"all\":\n",
    "    report = report[report[\"subset\"] == subset_option]\n",
    "\n",
    "TP = ((report[\"binary_label\"] == 1) & (report[\"detector_label\"] == 1)).sum()\n",
    "FP = ((report[\"binary_label\"] == 0) & (report[\"detector_label\"] == 1)).sum()\n",
    "TN = ((report[\"binary_label\"] == 0) & (report[\"detector_label\"] == 0)).sum()\n",
    "FN = ((report[\"binary_label\"] == 1) & (report[\"detector_label\"] == 0)).sum()"
   ]
  },
  {
   "cell_type": "code",
   "execution_count": null,
   "metadata": {},
   "outputs": [],
   "source": [
    "real_positives = report[\"binary_label\"].sum()\n",
    "covered_positives = report[\n",
    "    (report[\"binary_label\"] == 1) & (report[\"detector_label\"] == 1)\n",
    "].shape[0]\n",
    "\n",
    "percentage_covered_positives = (\n",
    "    (covered_positives / real_positives) * 100 if real_positives > 0 else 0\n",
    ")\n",
    "print(f\"Percentage of covered positives: {percentage_covered_positives:.2f}%\")\n",
    "print(f\"There is {real_positives} real positives\")\n",
    "print(f\"There is {covered_positives} covered positives\")"
   ]
  },
  {
   "cell_type": "code",
   "execution_count": null,
   "metadata": {},
   "outputs": [],
   "source": [
    "import numpy as np\n",
    "import plotly.graph_objects as go\n",
    "\n",
    "conf_matrix = np.array([[TN, FN], [FP, TP]])\n",
    "conf_matrix_text = [[str(value) for value in row] for row in conf_matrix]\n",
    "\n",
    "fig = go.Figure(\n",
    "    data=go.Heatmap(\n",
    "        z=conf_matrix,\n",
    "        x=[\"No Animal\", \"Animal\"],\n",
    "        y=[\"No Animal\", \"Animal\"],\n",
    "        text=conf_matrix_text,\n",
    "        texttemplate=\"%{text}\",\n",
    "        colorscale=\"Blues\",\n",
    "        showscale=True,\n",
    "    )\n",
    ")\n",
    "\n",
    "fig.update_layout(\n",
    "    title=f\"MegaDetector Threshold = {threshold} (Subset: {subset_option})\",\n",
    "    xaxis_title=\"MegaDetector\",\n",
    "    yaxis_title=\"Dataset\",\n",
    "    xaxis=dict(tickmode=\"array\", tickvals=[0, 1], ticktext=[\"Vacia\", \"Animal\"]),\n",
    "    yaxis=dict(tickmode=\"array\", tickvals=[0, 1], ticktext=[\"Vacia\", \"Animal\"]),\n",
    "    template=\"seaborn\",\n",
    "    width=600,\n",
    "    height=600,\n",
    ")\n",
    "\n",
    "fig.show()\n",
    "fig.write_image(f\"./reports/graphics/confusion_matrix_{model}_{subset_option}.png\")"
   ]
  },
  {
   "cell_type": "code",
   "execution_count": 82,
   "metadata": {},
   "outputs": [],
   "source": [
    "# accuracy = (TP + TN) / (TP + TN + FP + FN)\n",
    "# precision = TP / (TP + FP)\n",
    "# npv = TN / (TN + FN)\n",
    "# recall = TP / (TP + FN)\n",
    "# specificity = TN / (TN + FP)\n",
    "\n",
    "# print(f\"Accuracy:    {accuracy*100:.2f}%\")\n",
    "# print(f\"Precision:   {precision*100:.2f}%\")\n",
    "# print(f\"NPV:         {npv*100:.2f}%\")\n",
    "# print(f\"Recall:      {recall*100:.2f}%\")\n",
    "# print(f\"Specificity: {specificity*100:.2f}%\")"
   ]
  },
  {
   "cell_type": "code",
   "execution_count": 83,
   "metadata": {},
   "outputs": [],
   "source": [
    "# output_csv_path = os.path.abspath(\"./reports/metrics/model_metrics.csv\")\n",
    "\n",
    "# metrics_data = {\n",
    "#     \"modelo\": [model],\n",
    "#     \"subset_option\": [subset_option],\n",
    "#     \"accuracy\": [accuracy],\n",
    "#     \"precision\": [precision],\n",
    "#     \"NPV\": [npv],\n",
    "#     \"recall\": [recall],\n",
    "#     \"specificity\": [specificity],\n",
    "#     \"TP\": [TP],\n",
    "#     \"TN\": [TN],\n",
    "#     \"FP\": [FP],\n",
    "#     \"FN\": [FN],\n",
    "# }\n",
    "\n",
    "# if os.path.exists(output_csv_path):\n",
    "#     existing_df = pd.read_csv(output_csv_path)\n",
    "#     metrics_df = pd.concat([existing_df, pd.DataFrame(metrics_data)], ignore_index=True)\n",
    "# else:\n",
    "#     metrics_df = pd.DataFrame(metrics_data)\n",
    "\n",
    "# metrics_df.to_csv(output_csv_path, index=False)"
   ]
  }
 ],
 "metadata": {
  "kernelspec": {
   "display_name": "TFG",
   "language": "python",
   "name": "python3"
  },
  "language_info": {
   "codemirror_mode": {
    "name": "ipython",
    "version": 3
   },
   "file_extension": ".py",
   "mimetype": "text/x-python",
   "name": "python",
   "nbconvert_exporter": "python",
   "pygments_lexer": "ipython3",
   "version": "3.8.19"
  }
 },
 "nbformat": 4,
 "nbformat_minor": 2
}
