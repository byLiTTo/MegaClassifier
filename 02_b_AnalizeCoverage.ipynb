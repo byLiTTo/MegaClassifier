{
 "cells": [
  {
   "cell_type": "code",
   "execution_count": null,
   "metadata": {
    "ExecuteTime": {
     "end_time": "2025-02-26T07:27:21.211081Z",
     "start_time": "2025-02-26T07:27:20.673315Z"
    }
   },
   "outputs": [],
   "source": [
    "import json\n",
    "import os\n",
    "\n",
    "import pandas as pd\n",
    "import tqdm\n",
    "from itables import init_notebook_mode\n",
    "\n",
    "init_notebook_mode(all_interactive=True)"
   ]
  },
  {
   "cell_type": "code",
   "execution_count": null,
   "metadata": {
    "ExecuteTime": {
     "end_time": "2025-02-26T07:27:21.353027Z",
     "start_time": "2025-02-26T07:27:21.348485Z"
    }
   },
   "outputs": [],
   "source": [
    "DETECTIONS_JSON = os.path.abspath(\"./resources/json/search_0_0015.json\")\n",
    "DATASET_CSV = os.path.abspath(\n",
    "    \"./data/interim/emptyNonEmptyDataset/emptyNonEmptyDatasetSplit.csv\"\n",
    ")\n",
    "COVERAGE_FOLDER = os.path.abspath(\"./resources/megadetector_coverage\")"
   ]
  },
  {
   "cell_type": "code",
   "execution_count": null,
   "metadata": {
    "ExecuteTime": {
     "end_time": "2025-02-26T07:27:21.678487Z",
     "start_time": "2025-02-26T07:27:21.452521Z"
    }
   },
   "outputs": [],
   "source": [
    "threshold = (\n",
    "    os.path.basename(DETECTIONS_JSON).replace(\n",
    "        os.path.basename(DETECTIONS_JSON).split(\"_\")[0] + \"_\", \"\"\n",
    "    )\n",
    ").replace(\".json\", \"\")\n",
    "\n",
    "name = \"MegaDetector\"\n",
    "model = name + \"_\" + str(threshold)\n",
    "\n",
    "with open(DETECTIONS_JSON, \"r\") as file:\n",
    "    data = json.load(file)"
   ]
  },
  {
   "cell_type": "code",
   "execution_count": null,
   "metadata": {
    "ExecuteTime": {
     "end_time": "2025-02-26T07:27:21.791957Z",
     "start_time": "2025-02-26T07:27:21.693885Z"
    }
   },
   "outputs": [],
   "source": [
    "dataset = pd.read_csv(DATASET_CSV, sep=\";\")"
   ]
  },
  {
   "cell_type": "code",
   "execution_count": null,
   "metadata": {
    "ExecuteTime": {
     "end_time": "2025-02-26T07:27:56.073765Z",
     "start_time": "2025-02-26T07:27:21.817353Z"
    }
   },
   "outputs": [],
   "source": [
    "report = pd.DataFrame({})\n",
    "\n",
    "for image in tqdm.tqdm(data[\"images\"]):\n",
    "    image_file = image[\"file\"]\n",
    "    indexes = dataset[dataset[\"file_name\"] == image_file]\n",
    "\n",
    "    if len(indexes) == 1:\n",
    "        label = indexes[\"label\"].iloc[0]\n",
    "        binary_label = int(indexes[\"binary_label\"].iloc[0])\n",
    "        detector_label = 1 if image[\"max_detection_conf\"] > 0.0 else 0\n",
    "        subset = indexes[\"subset\"].iloc[0]\n",
    "\n",
    "        new_row = {\n",
    "            \"file_name\": image_file,\n",
    "            \"label\": label,\n",
    "            \"binary_label\": binary_label,\n",
    "            \"detector_label\": detector_label,\n",
    "            \"subset\": subset,\n",
    "        }\n",
    "        report = pd.concat([report, pd.DataFrame([new_row])], ignore_index=True)"
   ]
  },
  {
   "cell_type": "code",
   "execution_count": null,
   "metadata": {
    "ExecuteTime": {
     "end_time": "2025-02-26T07:27:56.123169Z",
     "start_time": "2025-02-26T07:27:56.081410Z"
    }
   },
   "outputs": [],
   "source": [
    "os.makedirs(COVERAGE_FOLDER, exist_ok=True)\n",
    "report.to_csv(\n",
    "    os.path.join(COVERAGE_FOLDER, model + \".csv\"),\n",
    "    index=False,\n",
    "    sep=\";\",\n",
    ")"
   ]
  }
 ],
 "metadata": {
  "kernelspec": {
   "display_name": "Python [conda env:TFG] *",
   "language": "python",
   "name": "conda-env-TFG-py"
  },
  "language_info": {
   "codemirror_mode": {
    "name": "ipython",
    "version": 3
   },
   "file_extension": ".py",
   "mimetype": "text/x-python",
   "name": "python",
   "nbconvert_exporter": "python",
   "pygments_lexer": "ipython3",
   "version": "3.8.19"
  }
 },
 "nbformat": 4,
 "nbformat_minor": 2
}
