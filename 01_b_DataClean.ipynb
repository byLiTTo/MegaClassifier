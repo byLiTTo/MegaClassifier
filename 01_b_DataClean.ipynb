{
 "cells": [
  {
   "cell_type": "code",
   "execution_count": null,
   "metadata": {},
   "outputs": [],
   "source": [
    "import os\n",
    "\n",
    "import pandas as pd\n",
    "import tqdm\n",
    "import shutil\n",
    "import src.data.Dataset as dt"
   ]
  },
  {
   "cell_type": "code",
   "execution_count": null,
   "metadata": {},
   "outputs": [],
   "source": [
    "FROM_PATH = os.path.abspath(\"./dataset/emptyNonEmptyDataset\")\n",
    "RAW_DATASET = os.path.abspath(\"./dataset/emptyNonEmptyDataset/10000Images.csv\")\n",
    "TO_PATH = os.path.abspath(\"./data/raw/datasetFormatted\")\n",
    "\n",
    "\n",
    "print(f\"FROM_PATH:   {FROM_PATH}\")\n",
    "print(f\"TO_PATH:     {TO_PATH}\")\n",
    "print(f\"RAW_DATASET: {RAW_DATASET}\")"
   ]
  },
  {
   "cell_type": "code",
   "execution_count": null,
   "metadata": {},
   "outputs": [],
   "source": [
    "dataset_original = dt.load_from_csv(RAW_DATASET)\n",
    "dataset_original"
   ]
  },
  {
   "cell_type": "code",
   "execution_count": null,
   "metadata": {},
   "outputs": [],
   "source": [
    "num_images = len(dataset_original[\"file_name\"])\n",
    "print(f\"Number of images in dataset: {num_images}\")"
   ]
  },
  {
   "cell_type": "code",
   "execution_count": null,
   "metadata": {},
   "outputs": [],
   "source": [
    "duplicate_routes = dataset_original[\"file_name\"].duplicated().sum()\n",
    "print(f\"Number of duplicate routes: {duplicate_routes}\")"
   ]
  },
  {
   "cell_type": "code",
   "execution_count": null,
   "metadata": {},
   "outputs": [],
   "source": [
    "dataset_without_duplicates = dataset_original.drop_duplicates(subset=\"file_name\")\n",
    "dataset_without_duplicates"
   ]
  },
  {
   "cell_type": "code",
   "execution_count": null,
   "metadata": {},
   "outputs": [],
   "source": [
    "class_counts = dataset_without_duplicates[\"label\"].value_counts()\n",
    "print(class_counts)"
   ]
  },
  {
   "cell_type": "code",
   "execution_count": null,
   "metadata": {},
   "outputs": [],
   "source": [
    "dataset_cleaned = dataset_without_duplicates[\n",
    "    dataset_without_duplicates[\"label\"] != \"dudosa\"\n",
    "]\n",
    "dataset_cleaned"
   ]
  },
  {
   "cell_type": "code",
   "execution_count": null,
   "metadata": {},
   "outputs": [],
   "source": [
    "dataset_cleaned = dataset_cleaned.copy()\n",
    "dataset_cleaned[\"binary_label\"] = dataset_cleaned[\"label\"].apply(\n",
    "    lambda x: \"0\" if x == \"vacia\" else \"1\"\n",
    ")\n",
    "\n",
    "dataset_cleaned"
   ]
  },
  {
   "cell_type": "code",
   "execution_count": null,
   "metadata": {},
   "outputs": [],
   "source": [
    "dataset_cleaned"
   ]
  },
  {
   "cell_type": "code",
   "execution_count": null,
   "metadata": {},
   "outputs": [],
   "source": [
    "# 18.605\n",
    "class_counts = dataset_cleaned[\"binary_label\"].value_counts()\n",
    "print(class_counts)"
   ]
  },
  {
   "cell_type": "code",
   "execution_count": null,
   "metadata": {},
   "outputs": [],
   "source": [
    "total_images_processed = 0\n",
    "total_images_copied = 0\n",
    "\n",
    "filtered_dataset = pd.DataFrame({}, columns=dataset_cleaned.columns)\n",
    "\n",
    "for _, row in tqdm.tqdm(dataset_cleaned.iterrows()):\n",
    "    file_name = row[\"file_name\"].replace(\"\\\\\", \"/\")\n",
    "\n",
    "    original_file = os.path.join(FROM_PATH, file_name[1:])\n",
    "\n",
    "    filtered_file = file_name.lower()\n",
    "    filtered_file = filtered_file.replace(\" \", \"\")\n",
    "    filtered_file = filtered_file.replace(\"(\", \"_\")\n",
    "    filtered_file = filtered_file.replace(\")\", \"_\")\n",
    "    filtered_file = (\n",
    "        filtered_file.replace(\"á\", \"a\")\n",
    "        .replace(\"é\", \"e\")\n",
    "        .replace(\"í\", \"i\")\n",
    "        .replace(\"ó\", \"o\")\n",
    "        .replace(\"ú\", \"u\")\n",
    "    )\n",
    "    filtered_file = filtered_file.replace(\"ñ\", \"n\")\n",
    "\n",
    "    new_row = pd.DataFrame(\n",
    "        {\n",
    "            \"file_name\": [filtered_file[1:]],\n",
    "            \"label\": [row[\"label\"]],\n",
    "            \"binary_label\": [row[\"binary_label\"]],\n",
    "        }\n",
    "    )\n",
    "    filtered_dataset = pd.concat([filtered_dataset, new_row], ignore_index=True)\n",
    "\n",
    "    filtered_file = os.path.join(TO_PATH, filtered_file[1:])\n",
    "\n",
    "    os.makedirs(os.path.dirname(filtered_file), exist_ok=True)\n",
    "\n",
    "    try:\n",
    "        shutil.copyfile(original_file, filtered_file)\n",
    "        total_images_copied += 1\n",
    "    except FileNotFoundError:\n",
    "        print(f\"File not found: {original_file}\")\n",
    "\n",
    "    total_images_processed += 1\n",
    "\n",
    "print(f\"Total images processed: {total_images_processed}\")\n",
    "print(f\"Total images copied: {total_images_copied}\")\n",
    "\n",
    "number_samples = len(filtered_dataset)\n",
    "\n",
    "dt.dataset_to_csv(\n",
    "    filtered_dataset, (TO_PATH + \"/\" + str(number_samples) + \"ImagesFormatted.csv\")\n",
    ")"
   ]
  },
  {
   "cell_type": "code",
   "execution_count": null,
   "metadata": {},
   "outputs": [],
   "source": [
    "from PIL import Image\n",
    "import os\n",
    "\n",
    "# Ruta base\n",
    "base_path = TO_PATH\n",
    "\n",
    "# Contadores para las imágenes que se pueden y no se pueden abrir\n",
    "count_openable = 0\n",
    "count_not_openable = 0\n",
    "\n",
    "# Lista para almacenar las rutas de las imágenes que no se pueden abrir\n",
    "not_openable_files = []\n",
    "\n",
    "# Iterar sobre las rutas de las imágenes en el dataset\n",
    "for file_path in filtered_dataset[\"file_name\"]:\n",
    "    absolute_path = base_path + \"/\" + file_path\n",
    "    try:\n",
    "        # Intentar abrir la imagen\n",
    "        img = Image.open(absolute_path)\n",
    "        img.verify()  # Verificar que la imagen se puede abrir\n",
    "        count_openable += 1\n",
    "    except (IOError, SyntaxError) as e:\n",
    "        # Si hay un error, incrementar el contador de imágenes no abiertas\n",
    "        count_not_openable += 1\n",
    "        not_openable_files.append(absolute_path)\n",
    "\n",
    "# Imprimir los resultados\n",
    "print(f\"Number of openable images: {count_openable}\")\n",
    "print(f\"Number of not openable images: {count_not_openable}\")\n",
    "print(f\"Not openable files: {not_openable_files}\")"
   ]
  }
 ],
 "metadata": {
  "kernelspec": {
   "display_name": "megaclassifier",
   "language": "python",
   "name": "python3"
  },
  "language_info": {
   "codemirror_mode": {
    "name": "ipython",
    "version": 3
   },
   "file_extension": ".py",
   "mimetype": "text/x-python",
   "name": "python",
   "nbconvert_exporter": "python",
   "pygments_lexer": "ipython3",
   "version": "3.8.19"
  }
 },
 "nbformat": 4,
 "nbformat_minor": 2
}
