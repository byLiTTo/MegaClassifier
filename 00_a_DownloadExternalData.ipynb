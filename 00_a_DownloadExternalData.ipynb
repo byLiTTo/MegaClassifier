{
 "cells": [
  {
   "cell_type": "code",
   "execution_count": null,
   "metadata": {},
   "outputs": [],
   "source": [
    "import zipfile\n",
    "import os"
   ]
  },
  {
   "cell_type": "code",
   "execution_count": null,
   "metadata": {},
   "outputs": [],
   "source": [
    "REPOSITORIES_FOLDER = os.path.abspath(\"./data/external\")\n",
    "MODELS_FOLDER = os.path.abspath(\"./models/MegaDetector\")\n",
    "\n",
    "print(f\"REPOSITORIES_FOLDER: {REPOSITORIES_FOLDER}\")\n",
    "print(f\"MODELS_FOLDER:       {MODELS_FOLDER}\")"
   ]
  },
  {
   "cell_type": "code",
   "execution_count": null,
   "metadata": {},
   "outputs": [],
   "source": [
    "FILE_PATH = os.path.join(REPOSITORIES_FOLDER, \"v5.0.zip\")\n",
    "\n",
    "!curl -L -o $FILE_PATH https://github.com/microsoft/CameraTraps/archive/refs/tags/v5.0.zip\n",
    "\n",
    "with zipfile.ZipFile(FILE_PATH, \"r\") as zip_ref:\n",
    "    zip_ref.extractall(REPOSITORIES_FOLDER)\n",
    "    os.remove(FILE_PATH)\n",
    "    os.rename(\n",
    "        f\"{REPOSITORIES_FOLDER}/CameraTraps-5.0\", f\"{REPOSITORIES_FOLDER}/CameraTraps\"\n",
    "    )"
   ]
  },
  {
   "cell_type": "code",
   "execution_count": null,
   "metadata": {},
   "outputs": [],
   "source": [
    "AI4EUTILS_FOLDER = os.path.join(REPOSITORIES_FOLDER, \"ai4eutils\")\n",
    "!git clone https://github.com/microsoft/ai4eutils.git $AI4EUTILS_FOLDER"
   ]
  },
  {
   "cell_type": "code",
   "execution_count": null,
   "metadata": {},
   "outputs": [],
   "source": [
    "YOLO_FOLDER = os.path.join(REPOSITORIES_FOLDER, \"yolov5\")\n",
    "\n",
    "!git clone https://github.com/ultralytics/yolov5/ $YOLO_FOLDER\n",
    "!cd $YOLO_FOLDER && git checkout c23a441c9df7ca9b1f275e8c8719c949269160d1"
   ]
  },
  {
   "cell_type": "code",
   "execution_count": null,
   "metadata": {},
   "outputs": [],
   "source": [
    "V5a_FILE = os.path.join(MODELS_FOLDER, \"md_v5a.0.0.pt\")\n",
    "V5b_FILE = os.path.join(MODELS_FOLDER, \"md_v5b.0.0.pt\")\n",
    "V4_FILE = os.path.join(MODELS_FOLDER, \"md_v4.1.0.pb\")\n",
    "\n",
    "!curl -L -o $V5a_FILE https://github.com/microsoft/CameraTraps/releases/download/v5.0/md_v5a.0.0.pt\n",
    "!curl -L -o $V5b_FILE https://github.com/microsoft/CameraTraps/releases/download/v5.0/md_v5b.0.0.pt\n",
    "!curl -L -o $V4_FILE https://github.com/microsoft/CameraTraps/releases/download/v4.1/md_v4.1.0.pb\n"
   ]
  }
 ],
 "metadata": {
  "kernelspec": {
   "display_name": "base",
   "language": "python",
   "name": "python3"
  },
  "language_info": {
   "codemirror_mode": {
    "name": "ipython",
    "version": 3
   },
   "file_extension": ".py",
   "mimetype": "text/x-python",
   "name": "python",
   "nbconvert_exporter": "python",
   "pygments_lexer": "ipython3",
   "version": "3.12.2"
  }
 },
 "nbformat": 4,
 "nbformat_minor": 2
}
