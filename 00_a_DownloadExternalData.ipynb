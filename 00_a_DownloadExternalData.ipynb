{
 "cells": [
  {
   "cell_type": "code",
   "execution_count": null,
   "metadata": {},
   "outputs": [],
   "source": [
    "import zipfile\n",
    "import os"
   ]
  },
  {
   "cell_type": "code",
   "execution_count": null,
   "metadata": {},
   "outputs": [],
   "source": [
    "external_path = \"./data/external\"\n",
    "zip_path = f\"{external_path}/Source_code.zip\"\n",
    "# !wget -O $zip_path https://github.com/microsoft/CameraTraps/archive/refs/tags/v5.0.zip\n",
    "!curl -L -o $zip_path https://github.com/microsoft/CameraTraps/archive/refs/tags/v5.0.zip"
   ]
  },
  {
   "cell_type": "code",
   "execution_count": null,
   "metadata": {},
   "outputs": [],
   "source": [
    "with zipfile.ZipFile(zip_path, \"r\") as zip_ref:\n",
    "    zip_ref.extractall(external_path)\n",
    "    os.remove(zip_path)\n",
    "    os.rename(f\"{external_path}/CameraTraps-5.0\", f\"{external_path}/CameraTraps\")"
   ]
  },
  {
   "cell_type": "code",
   "execution_count": null,
   "metadata": {},
   "outputs": [],
   "source": [
    "!git clone https://github.com/microsoft/ai4eutils.git $external_path/ai4eutils"
   ]
  },
  {
   "cell_type": "code",
   "execution_count": null,
   "metadata": {},
   "outputs": [],
   "source": [
    "!git clone https://github.com/ultralytics/yolov5/ $external_path/yolov5"
   ]
  },
  {
   "cell_type": "code",
   "execution_count": null,
   "metadata": {},
   "outputs": [],
   "source": [
    "!cd $external_path/yolov5 && git checkout c23a441c9df7ca9b1f275e8c8719c949269160d1"
   ]
  },
  {
   "cell_type": "code",
   "execution_count": null,
   "metadata": {},
   "outputs": [],
   "source": [
    "models_path = \"./models/MegaDetector\"\n",
    "\n",
    "# !wget -O $f'{models_path}/md_v5a.0.0.pt' https://github.com/microsoft/CameraTraps/releases/download/v5.0/md_v5a.0.0.pt\n",
    "# !wget -O $f'{models_path}/md_v5b.0.0.pt' https://github.com/microsoft/CameraTraps/releases/download/v5.0/md_v5b.0.0.pt\n",
    "# !wget -O $f'{models_path}/md_v4.1.0.pb' https://github.com/microsoft/CameraTraps/releases/download/v4.1/md_v4.1.0.pb\n",
    "\n",
    "!curl -L -o $f'{models_path}/md_v5a.0.0.pt' https://github.com/microsoft/CameraTraps/releases/download/v5.0/md_v5a.0.0.pt\n",
    "!curl -L -o $f'{models_path}/md_v5b.0.0.pt' https://github.com/microsoft/CameraTraps/releases/download/v5.0/md_v5b.0.0.pt\n",
    "!curl -L -o $f'{models_path}/md_v4.1.0.pb' https://github.com/microsoft/CameraTraps/releases/download/v4.1/md_v4.1.0.pb\n"
   ]
  }
 ],
 "metadata": {
  "kernelspec": {
   "display_name": "base_env",
   "language": "python",
   "name": "python3"
  },
  "language_info": {
   "codemirror_mode": {
    "name": "ipython",
    "version": 3
   },
   "file_extension": ".py",
   "mimetype": "text/x-python",
   "name": "python",
   "nbconvert_exporter": "python",
   "pygments_lexer": "ipython3",
   "version": "3.11.10"
  }
 },
 "nbformat": 4,
 "nbformat_minor": 2
}
