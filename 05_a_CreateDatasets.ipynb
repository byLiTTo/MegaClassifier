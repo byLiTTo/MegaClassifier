{
 "cells": [
  {
   "cell_type": "code",
   "execution_count": 1,
   "metadata": {},
   "outputs": [],
   "source": [
    "import os\n",
    "import shutil\n",
    "\n",
    "import matplotlib.pyplot as plt\n",
    "import numpy as np\n",
    "import pandas as pd\n",
    "import tensorflow\n",
    "import tqdm\n",
    "from keras.callbacks import TensorBoard\n",
    "from tensorflow.keras.metrics import *\n",
    "from tensorflow.keras.preprocessing.image import ImageDataGenerator\n",
    "\n",
    "import src.data.Dataset as dt"
   ]
  },
  {
   "cell_type": "code",
   "execution_count": null,
   "metadata": {},
   "outputs": [],
   "source": [
    "from itables import init_notebook_mode\n",
    "\n",
    "init_notebook_mode(all_interactive=True)"
   ]
  },
  {
   "cell_type": "code",
   "execution_count": null,
   "metadata": {},
   "outputs": [],
   "source": [
    "required_paths = [\"/ai4eutils\", \"/CameraTraps\", \"/yolov5\"]\n",
    "python_path = os.environ.get(\"PYTHONPATH\", \"\")\n",
    "root_path = os.getcwd()\n",
    "\n",
    "for path in required_paths:\n",
    "    if not any(p.endswith(path) for p in python_path.split(\":\")):\n",
    "        python_path += f\":{root_path}/data/external{path}\"\n",
    "\n",
    "os.environ[\"PYTHONPATH\"] = python_path\n",
    "\n",
    "!echo \"PYTHONPATH: $PYTHONPATH\""
   ]
  },
  {
   "cell_type": "code",
   "execution_count": null,
   "metadata": {},
   "outputs": [],
   "source": [
    "DATASET_NAME = \"emptyFitdetectionFit\"\n",
    "\n",
    "DATASET_FOLDER = os.path.abspath(\"./data/processed\")\n",
    "DATASET_PATH = os.path.join(DATASET_FOLDER, DATASET_NAME)\n",
    "\n",
    "IMAGES_CSV = os.path.abspath(\n",
    "    \"data/interim/emptyNonEmptyDataset/28570Images_0_003_threshold.csv\"\n",
    ")\n",
    "\n",
    "THRESHOLD_NAME = os.path.basename(IMAGES_CSV).split(\"Images_\")[-1].replace(\".csv\", \"\")\n",
    "\n",
    "FIT_PATH = os.path.abspath(f\"./resources/fit_images/{THRESHOLD_NAME}\")\n",
    "ORIGINAL_PATH = os.path.abspath(\"./data/interim/emptyNonEmptyDataset\")\n",
    "\n",
    "POSITIVE_DETECTION = FIT_PATH\n",
    "NEGATIVE_DETECTION = FIT_PATH\n",
    "\n",
    "print(f\"DATASET_PATH:       {DATASET_PATH}\")\n",
    "print()\n",
    "print(f\"IMAGES_CSV:         {IMAGES_CSV}\")\n",
    "print()\n",
    "print(f\"POSITIVE_DETECTION: {POSITIVE_DETECTION}\")\n",
    "print(f\"NEGATIVE_DETECTION: {NEGATIVE_DETECTION}\")"
   ]
  },
  {
   "cell_type": "code",
   "execution_count": null,
   "metadata": {},
   "outputs": [],
   "source": [
    "images = dt.load_from_csv(IMAGES_CSV)"
   ]
  },
  {
   "cell_type": "code",
   "execution_count": null,
   "metadata": {},
   "outputs": [],
   "source": [
    "for index in tqdm.tqdm(images.index):\n",
    "    file_name = images.loc[index, \"file_name\"]\n",
    "    megadetector_label = images.loc[index, \"detector_label\"]\n",
    "\n",
    "    images.loc[index, \"file_name_new\"] = (\n",
    "        os.path.join(POSITIVE_DETECTION, file_name)\n",
    "        if megadetector_label == 1\n",
    "        else os.path.join(NEGATIVE_DETECTION, file_name)\n",
    "    )\n",
    "\n",
    "images[\"binary_label\"] = images[\"binary_label\"].astype(\"str\")\n",
    "images"
   ]
  },
  {
   "cell_type": "code",
   "execution_count": null,
   "metadata": {},
   "outputs": [],
   "source": [
    "for _, row in tqdm.tqdm(images.iterrows()):\n",
    "    original_file = row[\"file_name_new\"]\n",
    "    new_dataset = os.path.join(DATASET_PATH, row[\"file_name\"])\n",
    "\n",
    "    os.makedirs(os.path.dirname(new_dataset), exist_ok=True)\n",
    "\n",
    "    try:\n",
    "        shutil.copyfile(original_file, new_dataset)\n",
    "    except FileNotFoundError:\n",
    "        print(f\"File not found: {original_file}\")\n",
    "\n",
    "shutil.copyfile(IMAGES_CSV, os.path.join(DATASET_PATH, os.path.basename(IMAGES_CSV)))"
   ]
  }
 ],
 "metadata": {
  "kernelspec": {
   "display_name": "TFG",
   "language": "python",
   "name": "python3"
  },
  "language_info": {
   "codemirror_mode": {
    "name": "ipython",
    "version": 3
   },
   "file_extension": ".py",
   "mimetype": "text/x-python",
   "name": "python",
   "nbconvert_exporter": "python",
   "pygments_lexer": "ipython3",
   "version": "3.8.19"
  }
 },
 "nbformat": 4,
 "nbformat_minor": 2
}
