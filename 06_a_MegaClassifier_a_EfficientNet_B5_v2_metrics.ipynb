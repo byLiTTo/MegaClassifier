{
 "cells": [
  {
   "cell_type": "code",
   "execution_count": 8,
   "metadata": {},
   "outputs": [],
   "source": [
    "import os\n",
    "\n",
    "import numpy as np\n",
    "import pandas as pd\n",
    "import tensorflow as tf\n",
    "import tensorflow_addons as tfa\n",
    "from sklearn.metrics import auc, confusion_matrix, roc_curve\n",
    "from tensorflow.keras.callbacks import TensorBoard\n",
    "from tensorflow.keras.metrics import AUC, BinaryAccuracy, Precision, Recall\n",
    "from tensorflow.keras.preprocessing.image import ImageDataGenerator\n",
    "\n",
    "import src.graphics as graphics"
   ]
  },
  {
   "cell_type": "code",
   "execution_count": 9,
   "metadata": {},
   "outputs": [],
   "source": [
    "REPORTS_DIR = os.path.abspath(\"./reports/MegaClassifier_a_EfficientNetB5\")\n",
    "LOGS_DIR = os.path.abspath(\"./logs/MegaClassifier_a_EfficientNetB5\")"
   ]
  },
  {
   "cell_type": "code",
   "execution_count": 10,
   "metadata": {},
   "outputs": [],
   "source": [
    "BASE_VERSION = \"v2\"\n",
    "\n",
    "LOSS_FUNCTIONS = [\n",
    "    \"BinaryFocalCrossentropy\",\n",
    "    \"SigmoidFocalCrossEntropy\",\n",
    "]\n",
    "\n",
    "ALPHAS = [0.25, 0.4, 0.6, 0.75]\n",
    "GAMMAS = [1.0, 2.0, 3.0]"
   ]
  },
  {
   "cell_type": "code",
   "execution_count": 11,
   "metadata": {},
   "outputs": [],
   "source": [
    "COMPLETE_VERSION = BASE_VERSION + \".\" + \"0\"\n",
    "\n",
    "history = pd.read_csv(\n",
    "    os.path.join(\n",
    "        LOGS_DIR, BASE_VERSION, COMPLETE_VERSION, f\"history_{COMPLETE_VERSION}.csv\"\n",
    "    ),\n",
    "    sep=\";\",\n",
    ")\n",
    "evaluation = pd.read_csv(\n",
    "    os.path.join(\n",
    "        LOGS_DIR, BASE_VERSION, COMPLETE_VERSION, f\"evaluation_{COMPLETE_VERSION}.csv\"\n",
    "    ),\n",
    "    sep=\";\",\n",
    ")\n",
    "\n",
    "loss_function_value = \"BinaryCrossentropy\"\n",
    "history.insert(0, \"version\", COMPLETE_VERSION)\n",
    "history.insert(1, \"loss_function\", loss_function_value)\n",
    "history.insert(2, \"alpha\", \"-\")\n",
    "history.insert(3, \"gamma\", \"-\")\n",
    "\n",
    "evaluation.insert(0, \"version\", COMPLETE_VERSION)\n",
    "evaluation.insert(1, \"loss_function\", loss_function_value)\n",
    "evaluation.insert(2, \"alpha\", \"-\")\n",
    "evaluation.insert(3, \"gamma\", \"-\")"
   ]
  },
  {
   "cell_type": "code",
   "execution_count": 12,
   "metadata": {},
   "outputs": [],
   "source": [
    "complete_history = pd.DataFrame(columns=history.columns)\n",
    "complete_history = pd.concat([complete_history, history], ignore_index=True)\n",
    "\n",
    "complete_evaluation = pd.DataFrame(columns=evaluation.columns)\n",
    "complete_evaluation = pd.concat([complete_evaluation, evaluation], ignore_index=True)"
   ]
  },
  {
   "cell_type": "code",
   "execution_count": 13,
   "metadata": {},
   "outputs": [],
   "source": [
    "SUBVERSION = 2\n",
    "ALPHA_VERSION = 0\n",
    "GAMMA_VERSION = 0\n",
    "\n",
    "for loss_function in LOSS_FUNCTIONS:\n",
    "    for alpha in ALPHAS:\n",
    "        for gamma in GAMMAS:\n",
    "            COMPLETE_VERSION = (\n",
    "                f\"{BASE_VERSION}.{SUBVERSION}.{ALPHA_VERSION}.{GAMMA_VERSION}\"\n",
    "            )\n",
    "\n",
    "            history = pd.read_csv(\n",
    "                os.path.join(\n",
    "                    LOGS_DIR,\n",
    "                    BASE_VERSION,\n",
    "                    COMPLETE_VERSION,\n",
    "                    f\"history_{COMPLETE_VERSION}.csv\",\n",
    "                ),\n",
    "                sep=\";\",\n",
    "            )\n",
    "            evaluation = pd.read_csv(\n",
    "                os.path.join(\n",
    "                    LOGS_DIR,\n",
    "                    BASE_VERSION,\n",
    "                    COMPLETE_VERSION,\n",
    "                    f\"evaluation_{COMPLETE_VERSION}.csv\",\n",
    "                ),\n",
    "                sep=\";\",\n",
    "            )\n",
    "\n",
    "            history.insert(0, \"version\", COMPLETE_VERSION)\n",
    "            history.insert(1, \"loss_function\", loss_function)\n",
    "            history.insert(2, \"alpha\", alpha)\n",
    "            history.insert(3, \"gamma\", gamma)\n",
    "\n",
    "            evaluation.insert(0, \"version\", COMPLETE_VERSION)\n",
    "            evaluation.insert(1, \"loss_function\", loss_function)\n",
    "            evaluation.insert(2, \"alpha\", alpha)\n",
    "            evaluation.insert(3, \"gamma\", gamma)\n",
    "\n",
    "            complete_history = pd.concat([complete_history, history], ignore_index=True)\n",
    "            complete_evaluation = pd.concat(\n",
    "                [complete_evaluation, evaluation], ignore_index=True\n",
    "            )\n",
    "\n",
    "            GAMMA_VERSION += 1\n",
    "        ALPHA_VERSION += 1\n",
    "        GAMMA_VERSION = 0\n",
    "    SUBVERSION += 1\n",
    "    ALPHA_VERSION = 0\n",
    "    GAMMA_VERSION = 0\n"
   ]
  },
  {
   "cell_type": "code",
   "execution_count": 14,
   "metadata": {},
   "outputs": [],
   "source": [
    "complete_history.to_csv(\n",
    "    os.path.join(LOGS_DIR, BASE_VERSION, f\"complete_history_{BASE_VERSION}.csv\"),\n",
    "    sep=\";\",\n",
    ")\n",
    "complete_evaluation.to_csv(\n",
    "    os.path.join(LOGS_DIR, BASE_VERSION, f\"complete_evaluation_{BASE_VERSION}.csv\"),\n",
    "    sep=\";\",\n",
    ")"
   ]
  }
 ],
 "metadata": {
  "kernelspec": {
   "display_name": "TFG",
   "language": "python",
   "name": "python3"
  },
  "language_info": {
   "codemirror_mode": {
    "name": "ipython",
    "version": 3
   },
   "file_extension": ".py",
   "mimetype": "text/x-python",
   "name": "python",
   "nbconvert_exporter": "python",
   "pygments_lexer": "ipython3",
   "version": "3.8.19"
  }
 },
 "nbformat": 4,
 "nbformat_minor": 2
}
