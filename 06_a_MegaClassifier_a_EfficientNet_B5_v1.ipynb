{
 "cells": [
  {
   "cell_type": "code",
   "execution_count": 1,
   "metadata": {},
   "outputs": [],
   "source": [
    "import os\n",
    "\n",
    "import numpy as np\n",
    "import pandas as pd\n",
    "import tensorflow as tf\n",
    "from sklearn.metrics import auc, confusion_matrix, roc_curve\n",
    "from tensorflow.keras.callbacks import TensorBoard\n",
    "from tensorflow.keras.metrics import AUC, BinaryAccuracy, Precision, Recall\n",
    "from tensorflow.keras.preprocessing.image import ImageDataGenerator\n",
    "\n",
    "import src.graphics as graphics"
   ]
  },
  {
   "cell_type": "code",
   "execution_count": 2,
   "metadata": {},
   "outputs": [],
   "source": [
    "VERSION = 1\n",
    "MODEL_BASE_NAME = \"MegaClassifier_a_EfficientNetB5\"\n",
    "\n",
    "DATASET_CSV = os.path.abspath(\n",
    "    \"./data/processed/onlyDetectionsForTrain/onlyDetectionsForTrain.csv\"\n",
    ")\n",
    "DATASET_PATH = os.path.dirname(DATASET_CSV)"
   ]
  },
  {
   "cell_type": "code",
   "execution_count": 3,
   "metadata": {},
   "outputs": [],
   "source": [
    "dataset = pd.read_csv(DATASET_CSV, sep=\";\")\n",
    "dataset[\"file_name\"] = dataset[\"file_name\"].apply(\n",
    "    lambda x: os.path.join(DATASET_PATH, x)\n",
    ")\n",
    "dataset[\"binary_label\"] = dataset[\"binary_label\"].astype(str)\n",
    "\n",
    "train_dataset = dataset[dataset[\"subset\"] == \"train\"]\n",
    "validationtrain_dataset = dataset[dataset[\"subset\"] == \"validation\"]\n",
    "test_dataset = dataset[dataset[\"subset\"] == \"test\"]\n",
    "\n",
    "EPOCHS = 10\n",
    "IMAGE_SIZE = (456, 456)\n",
    "IMAGE_SHAPE = IMAGE_SIZE + (3,)\n",
    "SEED = 42"
   ]
  },
  {
   "cell_type": "code",
   "execution_count": 4,
   "metadata": {},
   "outputs": [],
   "source": [
    "OPTIMIZERS = {\"Adam\": tf.keras.optimizers.legacy.Adam()}"
   ]
  },
  {
   "cell_type": "code",
   "execution_count": 5,
   "metadata": {},
   "outputs": [],
   "source": [
    "LOSS = {\"BinaryCrossentropy\": tf.keras.losses.BinaryCrossentropy()}"
   ]
  },
  {
   "cell_type": "code",
   "execution_count": 6,
   "metadata": {},
   "outputs": [
    {
     "name": "stderr",
     "output_type": "stream",
     "text": [
      "2025-03-02 11:48:53.689263: I metal_plugin/src/device/metal_device.cc:1154] Metal device set to: Apple M3\n",
      "2025-03-02 11:48:53.689312: I metal_plugin/src/device/metal_device.cc:296] systemMemory: 16.00 GB\n",
      "2025-03-02 11:48:53.689332: I metal_plugin/src/device/metal_device.cc:313] maxCacheSize: 5.33 GB\n",
      "2025-03-02 11:48:53.692057: I tensorflow/core/common_runtime/pluggable_device/pluggable_device_factory.cc:303] Could not identify NUMA node of platform GPU ID 0, defaulting to 0. Your kernel may not have been built with NUMA support.\n",
      "2025-03-02 11:48:53.692119: I tensorflow/core/common_runtime/pluggable_device/pluggable_device_factory.cc:269] Created TensorFlow device (/job:localhost/replica:0/task:0/device:GPU:0 with 0 MB memory) -> physical PluggableDevice (device: 0, name: METAL, pci bus id: <undefined>)\n"
     ]
    }
   ],
   "source": [
    "METRICS = [\n",
    "    BinaryAccuracy(name=\"accuracy\"),\n",
    "    Precision(name=\"precision\"),\n",
    "    Recall(name=\"recall\"),\n",
    "    AUC(name=\"auc\"),\n",
    "]"
   ]
  },
  {
   "cell_type": "code",
   "execution_count": 7,
   "metadata": {},
   "outputs": [],
   "source": [
    "BATCH_SIZES = [8, 16, 32, 64, 128]"
   ]
  },
  {
   "cell_type": "code",
   "execution_count": 8,
   "metadata": {},
   "outputs": [
    {
     "name": "stdout",
     "output_type": "stream",
     "text": [
      "Found 17906 validated image filenames belonging to 2 classes.\n",
      "Found 4286 validated image filenames belonging to 2 classes.\n",
      "Found 4286 validated image filenames belonging to 2 classes.\n",
      "Downloading data from https://storage.googleapis.com/keras-applications/efficientnetb5_notop.h5\n",
      "115263384/115263384 [==============================] - 3s 0us/step\n",
      "Epoch 1/10\n"
     ]
    },
    {
     "name": "stderr",
     "output_type": "stream",
     "text": [
      "2025-03-02 11:49:04.732558: I tensorflow/core/grappler/optimizers/custom_graph_optimizer_registry.cc:114] Plugin optimizer for device_type GPU is enabled.\n"
     ]
    },
    {
     "name": "stdout",
     "output_type": "stream",
     "text": [
      "2239/2239 [==============================] - ETA: 0s - loss: 0.2272 - accuracy: 0.9066 - precision: 0.9289 - recall: 0.9460 - auc: 0.9613"
     ]
    },
    {
     "name": "stderr",
     "output_type": "stream",
     "text": [
      "2025-03-02 12:08:31.437542: I tensorflow/core/grappler/optimizers/custom_graph_optimizer_registry.cc:114] Plugin optimizer for device_type GPU is enabled.\n"
     ]
    },
    {
     "name": "stdout",
     "output_type": "stream",
     "text": [
      "2239/2239 [==============================] - 1442s 641ms/step - loss: 0.2272 - accuracy: 0.9066 - precision: 0.9289 - recall: 0.9460 - auc: 0.9613 - val_loss: 0.1661 - val_accuracy: 0.9386 - val_precision: 0.9475 - val_recall: 0.9605 - val_auc: 0.9828\n",
      "Epoch 2/10\n",
      "2239/2239 [==============================] - 1414s 632ms/step - loss: 0.1744 - accuracy: 0.9267 - precision: 0.9478 - recall: 0.9534 - auc: 0.9767 - val_loss: 0.1476 - val_accuracy: 0.9419 - val_precision: 0.9615 - val_recall: 0.9503 - val_auc: 0.9848\n",
      "Epoch 3/10\n",
      "2239/2239 [==============================] - 1397s 624ms/step - loss: 0.1616 - accuracy: 0.9319 - precision: 0.9526 - recall: 0.9554 - auc: 0.9799 - val_loss: 0.1445 - val_accuracy: 0.9477 - val_precision: 0.9638 - val_recall: 0.9570 - val_auc: 0.9854\n",
      "Epoch 4/10\n",
      "2239/2239 [==============================] - 1396s 623ms/step - loss: 0.1555 - accuracy: 0.9335 - precision: 0.9541 - recall: 0.9559 - auc: 0.9813 - val_loss: 0.1418 - val_accuracy: 0.9473 - val_precision: 0.9592 - val_recall: 0.9612 - val_auc: 0.9860\n",
      "Epoch 5/10\n",
      "2239/2239 [==============================] - 1398s 624ms/step - loss: 0.1488 - accuracy: 0.9368 - precision: 0.9563 - recall: 0.9582 - auc: 0.9828 - val_loss: 0.1387 - val_accuracy: 0.9449 - val_precision: 0.9741 - val_recall: 0.9418 - val_auc: 0.9866\n",
      "Epoch 6/10\n",
      "2239/2239 [==============================] - 1395s 623ms/step - loss: 0.1449 - accuracy: 0.9389 - precision: 0.9575 - recall: 0.9599 - auc: 0.9837 - val_loss: 0.1359 - val_accuracy: 0.9480 - val_precision: 0.9671 - val_recall: 0.9538 - val_auc: 0.9866\n",
      "Epoch 7/10\n",
      "2239/2239 [==============================] - 1396s 623ms/step - loss: 0.1413 - accuracy: 0.9408 - precision: 0.9598 - recall: 0.9601 - auc: 0.9845 - val_loss: 0.1353 - val_accuracy: 0.9496 - val_precision: 0.9584 - val_recall: 0.9658 - val_auc: 0.9869\n",
      "Epoch 8/10\n",
      "2239/2239 [==============================] - 1394s 623ms/step - loss: 0.1401 - accuracy: 0.9406 - precision: 0.9594 - recall: 0.9602 - auc: 0.9848 - val_loss: 0.1339 - val_accuracy: 0.9482 - val_precision: 0.9570 - val_recall: 0.9651 - val_auc: 0.9867\n",
      "Epoch 9/10\n",
      "2239/2239 [==============================] - 1398s 624ms/step - loss: 0.1338 - accuracy: 0.9453 - precision: 0.9634 - recall: 0.9625 - auc: 0.9859 - val_loss: 0.1365 - val_accuracy: 0.9482 - val_precision: 0.9529 - val_recall: 0.9697 - val_auc: 0.9867\n",
      "Epoch 10/10\n",
      "2239/2239 [==============================] - 1395s 623ms/step - loss: 0.1319 - accuracy: 0.9448 - precision: 0.9622 - recall: 0.9630 - auc: 0.9863 - val_loss: 0.1307 - val_accuracy: 0.9517 - val_precision: 0.9660 - val_recall: 0.9609 - val_auc: 0.9869\n",
      "INFO:tensorflow:Assets written to: /Users/litto/WORKSPACE/MegaClassifier/models/MegaClassifier_a_EfficientNetB5/v1/v1.0/assets\n"
     ]
    },
    {
     "name": "stderr",
     "output_type": "stream",
     "text": [
      "INFO:tensorflow:Assets written to: /Users/litto/WORKSPACE/MegaClassifier/models/MegaClassifier_a_EfficientNetB5/v1/v1.0/assets\n"
     ]
    },
    {
     "name": "stdout",
     "output_type": "stream",
     "text": [
      "536/536 [==============================] - 265s 495ms/step - loss: 0.1145 - accuracy: 0.9573 - precision: 0.9719 - recall: 0.9633 - auc: 0.9906\n"
     ]
    },
    {
     "name": "stderr",
     "output_type": "stream",
     "text": [
      "2025-03-02 15:47:31.168452: I tensorflow/core/grappler/optimizers/custom_graph_optimizer_registry.cc:114] Plugin optimizer for device_type GPU is enabled.\n"
     ]
    },
    {
     "name": "stdout",
     "output_type": "stream",
     "text": [
      "536/536 [==============================] - 265s 490ms/step\n",
      "\n",
      "\n",
      "\n",
      "Found 17906 validated image filenames belonging to 2 classes.\n",
      "Found 4286 validated image filenames belonging to 2 classes.\n",
      "Found 4286 validated image filenames belonging to 2 classes.\n",
      "Epoch 1/10\n"
     ]
    },
    {
     "name": "stderr",
     "output_type": "stream",
     "text": [
      "2025-03-02 15:52:02.592023: I tensorflow/core/grappler/optimizers/custom_graph_optimizer_registry.cc:114] Plugin optimizer for device_type GPU is enabled.\n"
     ]
    },
    {
     "name": "stdout",
     "output_type": "stream",
     "text": [
      "1120/1120 [==============================] - ETA: 0s - loss: 0.2021 - accuracy: 0.9229 - precision: 0.9458 - recall: 0.9478 - auc: 0.9743"
     ]
    },
    {
     "name": "stderr",
     "output_type": "stream",
     "text": [
      "2025-03-02 16:10:48.437950: I tensorflow/core/grappler/optimizers/custom_graph_optimizer_registry.cc:114] Plugin optimizer for device_type GPU is enabled.\n"
     ]
    },
    {
     "name": "stdout",
     "output_type": "stream",
     "text": [
      "1120/1120 [==============================] - 1393s 1s/step - loss: 0.2021 - accuracy: 0.9229 - precision: 0.9458 - recall: 0.9478 - auc: 0.9743 - val_loss: 0.1554 - val_accuracy: 0.9396 - val_precision: 0.9684 - val_recall: 0.9394 - val_auc: 0.9835\n",
      "Epoch 2/10\n",
      "1120/1120 [==============================] - 1384s 1s/step - loss: 0.1690 - accuracy: 0.9300 - precision: 0.9521 - recall: 0.9532 - auc: 0.9781 - val_loss: 0.1477 - val_accuracy: 0.9433 - val_precision: 0.9727 - val_recall: 0.9408 - val_auc: 0.9853\n",
      "Epoch 3/10\n",
      "1120/1120 [==============================] - 1383s 1s/step - loss: 0.1571 - accuracy: 0.9347 - precision: 0.9572 - recall: 0.9542 - auc: 0.9812 - val_loss: 0.1395 - val_accuracy: 0.9494 - val_precision: 0.9645 - val_recall: 0.9587 - val_auc: 0.9863\n",
      "Epoch 4/10\n",
      "1120/1120 [==============================] - 1384s 1s/step - loss: 0.1506 - accuracy: 0.9367 - precision: 0.9578 - recall: 0.9564 - auc: 0.9826 - val_loss: 0.1385 - val_accuracy: 0.9459 - val_precision: 0.9687 - val_recall: 0.9489 - val_auc: 0.9864\n",
      "Epoch 5/10\n",
      "1120/1120 [==============================] - 1380s 1s/step - loss: 0.1483 - accuracy: 0.9364 - precision: 0.9569 - recall: 0.9571 - auc: 0.9831 - val_loss: 0.1347 - val_accuracy: 0.9477 - val_precision: 0.9661 - val_recall: 0.9545 - val_auc: 0.9871\n",
      "Epoch 6/10\n",
      "1120/1120 [==============================] - 1382s 1s/step - loss: 0.1445 - accuracy: 0.9400 - precision: 0.9591 - recall: 0.9597 - auc: 0.9840 - val_loss: 0.1337 - val_accuracy: 0.9484 - val_precision: 0.9685 - val_recall: 0.9531 - val_auc: 0.9874\n",
      "Epoch 7/10\n",
      "1120/1120 [==============================] - 1380s 1s/step - loss: 0.1406 - accuracy: 0.9426 - precision: 0.9614 - recall: 0.9609 - auc: 0.9848 - val_loss: 0.1321 - val_accuracy: 0.9498 - val_precision: 0.9699 - val_recall: 0.9538 - val_auc: 0.9876\n",
      "Epoch 8/10\n",
      "1120/1120 [==============================] - 1385s 1s/step - loss: 0.1376 - accuracy: 0.9433 - precision: 0.9627 - recall: 0.9605 - auc: 0.9854 - val_loss: 0.1329 - val_accuracy: 0.9503 - val_precision: 0.9682 - val_recall: 0.9563 - val_auc: 0.9872\n",
      "Epoch 9/10\n",
      "1120/1120 [==============================] - 1382s 1s/step - loss: 0.1358 - accuracy: 0.9432 - precision: 0.9618 - recall: 0.9613 - auc: 0.9859 - val_loss: 0.1319 - val_accuracy: 0.9498 - val_precision: 0.9600 - val_recall: 0.9644 - val_auc: 0.9867\n",
      "Epoch 10/10\n",
      "1120/1120 [==============================] - 1384s 1s/step - loss: 0.1342 - accuracy: 0.9437 - precision: 0.9623 - recall: 0.9615 - auc: 0.9861 - val_loss: 0.1359 - val_accuracy: 0.9463 - val_precision: 0.9738 - val_recall: 0.9443 - val_auc: 0.9880\n",
      "INFO:tensorflow:Assets written to: /Users/litto/WORKSPACE/MegaClassifier/models/MegaClassifier_a_EfficientNetB5/v1/v1.1/assets\n"
     ]
    },
    {
     "name": "stderr",
     "output_type": "stream",
     "text": [
      "INFO:tensorflow:Assets written to: /Users/litto/WORKSPACE/MegaClassifier/models/MegaClassifier_a_EfficientNetB5/v1/v1.1/assets\n"
     ]
    },
    {
     "name": "stdout",
     "output_type": "stream",
     "text": [
      "268/268 [==============================] - 263s 978ms/step - loss: 0.1196 - accuracy: 0.9515 - precision: 0.9820 - recall: 0.9439 - auc: 0.9908\n"
     ]
    },
    {
     "name": "stderr",
     "output_type": "stream",
     "text": [
      "2025-03-02 19:47:20.080373: I tensorflow/core/grappler/optimizers/custom_graph_optimizer_registry.cc:114] Plugin optimizer for device_type GPU is enabled.\n"
     ]
    },
    {
     "name": "stdout",
     "output_type": "stream",
     "text": [
      "268/268 [==============================] - 263s 972ms/step\n",
      "\n",
      "\n",
      "\n",
      "Found 17906 validated image filenames belonging to 2 classes.\n",
      "Found 4286 validated image filenames belonging to 2 classes.\n",
      "Found 4286 validated image filenames belonging to 2 classes.\n",
      "Epoch 1/10\n"
     ]
    },
    {
     "name": "stderr",
     "output_type": "stream",
     "text": [
      "2025-03-02 19:51:49.944496: I tensorflow/core/grappler/optimizers/custom_graph_optimizer_registry.cc:114] Plugin optimizer for device_type GPU is enabled.\n"
     ]
    },
    {
     "name": "stdout",
     "output_type": "stream",
     "text": [
      "560/560 [==============================] - ETA: 0s - loss: 0.1916 - accuracy: 0.9256 - precision: 0.9518 - recall: 0.9451 - auc: 0.9765"
     ]
    },
    {
     "name": "stderr",
     "output_type": "stream",
     "text": [
      "2025-03-02 20:11:49.970273: I tensorflow/core/grappler/optimizers/custom_graph_optimizer_registry.cc:114] Plugin optimizer for device_type GPU is enabled.\n"
     ]
    },
    {
     "name": "stdout",
     "output_type": "stream",
     "text": [
      "560/560 [==============================] - 1485s 3s/step - loss: 0.1916 - accuracy: 0.9256 - precision: 0.9518 - recall: 0.9451 - auc: 0.9765 - val_loss: 0.1539 - val_accuracy: 0.9421 - val_precision: 0.9515 - val_recall: 0.9616 - val_auc: 0.9844\n",
      "Epoch 2/10\n",
      "560/560 [==============================] - 1480s 3s/step - loss: 0.1561 - accuracy: 0.9342 - precision: 0.9560 - recall: 0.9550 - auc: 0.9815 - val_loss: 0.1448 - val_accuracy: 0.9461 - val_precision: 0.9594 - val_recall: 0.9591 - val_auc: 0.9858\n",
      "Epoch 3/10\n",
      "560/560 [==============================] - 1479s 3s/step - loss: 0.1485 - accuracy: 0.9363 - precision: 0.9577 - recall: 0.9560 - auc: 0.9832 - val_loss: 0.1406 - val_accuracy: 0.9461 - val_precision: 0.9581 - val_recall: 0.9605 - val_auc: 0.9864\n",
      "Epoch 4/10\n",
      "560/560 [==============================] - 1486s 3s/step - loss: 0.1439 - accuracy: 0.9402 - precision: 0.9607 - recall: 0.9582 - auc: 0.9842 - val_loss: 0.1360 - val_accuracy: 0.9498 - val_precision: 0.9632 - val_recall: 0.9609 - val_auc: 0.9870\n",
      "Epoch 5/10\n",
      "560/560 [==============================] - 1485s 3s/step - loss: 0.1361 - accuracy: 0.9437 - precision: 0.9635 - recall: 0.9602 - auc: 0.9859 - val_loss: 0.1360 - val_accuracy: 0.9508 - val_precision: 0.9630 - val_recall: 0.9626 - val_auc: 0.9873\n",
      "Epoch 6/10\n",
      "560/560 [==============================] - 1495s 3s/step - loss: 0.1360 - accuracy: 0.9438 - precision: 0.9634 - recall: 0.9605 - auc: 0.9858 - val_loss: 0.1342 - val_accuracy: 0.9473 - val_precision: 0.9664 - val_recall: 0.9535 - val_auc: 0.9873\n",
      "Epoch 7/10\n",
      "560/560 [==============================] - 1498s 3s/step - loss: 0.1317 - accuracy: 0.9452 - precision: 0.9637 - recall: 0.9621 - auc: 0.9868 - val_loss: 0.1336 - val_accuracy: 0.9466 - val_precision: 0.9677 - val_recall: 0.9510 - val_auc: 0.9872\n",
      "Epoch 8/10\n",
      "560/560 [==============================] - 1508s 3s/step - loss: 0.1307 - accuracy: 0.9452 - precision: 0.9643 - recall: 0.9615 - auc: 0.9869 - val_loss: 0.1315 - val_accuracy: 0.9508 - val_precision: 0.9653 - val_recall: 0.9602 - val_auc: 0.9877\n",
      "Epoch 9/10\n",
      "560/560 [==============================] - 1503s 3s/step - loss: 0.1298 - accuracy: 0.9454 - precision: 0.9644 - recall: 0.9616 - auc: 0.9871 - val_loss: 0.1306 - val_accuracy: 0.9508 - val_precision: 0.9639 - val_recall: 0.9616 - val_auc: 0.9879\n",
      "Epoch 10/10\n",
      "560/560 [==============================] - 1503s 3s/step - loss: 0.1272 - accuracy: 0.9478 - precision: 0.9660 - recall: 0.9633 - auc: 0.9876 - val_loss: 0.1297 - val_accuracy: 0.9508 - val_precision: 0.9689 - val_recall: 0.9563 - val_auc: 0.9879\n",
      "INFO:tensorflow:Assets written to: /Users/litto/WORKSPACE/MegaClassifier/models/MegaClassifier_a_EfficientNetB5/v1/v1.2/assets\n"
     ]
    },
    {
     "name": "stderr",
     "output_type": "stream",
     "text": [
      "INFO:tensorflow:Assets written to: /Users/litto/WORKSPACE/MegaClassifier/models/MegaClassifier_a_EfficientNetB5/v1/v1.2/assets\n"
     ]
    },
    {
     "name": "stdout",
     "output_type": "stream",
     "text": [
      "134/134 [==============================] - 284s 2s/step - loss: 0.1154 - accuracy: 0.9564 - precision: 0.9759 - recall: 0.9577 - auc: 0.9905\n"
     ]
    },
    {
     "name": "stderr",
     "output_type": "stream",
     "text": [
      "2025-03-03 00:05:35.277285: I tensorflow/core/grappler/optimizers/custom_graph_optimizer_registry.cc:114] Plugin optimizer for device_type GPU is enabled.\n"
     ]
    },
    {
     "name": "stdout",
     "output_type": "stream",
     "text": [
      "134/134 [==============================] - 285s 2s/step\n",
      "\n",
      "\n",
      "\n",
      "Found 17906 validated image filenames belonging to 2 classes.\n",
      "Found 4286 validated image filenames belonging to 2 classes.\n",
      "Found 4286 validated image filenames belonging to 2 classes.\n",
      "Epoch 1/10\n"
     ]
    },
    {
     "name": "stderr",
     "output_type": "stream",
     "text": [
      "2025-03-03 00:10:27.910671: I tensorflow/core/grappler/optimizers/custom_graph_optimizer_registry.cc:114] Plugin optimizer for device_type GPU is enabled.\n"
     ]
    },
    {
     "name": "stdout",
     "output_type": "stream",
     "text": [
      "280/280 [==============================] - ETA: 0s - loss: 0.2073 - accuracy: 0.9204 - precision: 0.9466 - recall: 0.9433 - auc: 0.9731"
     ]
    },
    {
     "name": "stderr",
     "output_type": "stream",
     "text": [
      "2025-03-03 00:31:04.734812: I tensorflow/core/grappler/optimizers/custom_graph_optimizer_registry.cc:114] Plugin optimizer for device_type GPU is enabled.\n"
     ]
    },
    {
     "name": "stdout",
     "output_type": "stream",
     "text": [
      "280/280 [==============================] - 1529s 5s/step - loss: 0.2073 - accuracy: 0.9204 - precision: 0.9466 - recall: 0.9433 - auc: 0.9731 - val_loss: 0.1597 - val_accuracy: 0.9414 - val_precision: 0.9705 - val_recall: 0.9401 - val_auc: 0.9826\n",
      "Epoch 2/10\n",
      "280/280 [==============================] - 1515s 5s/step - loss: 0.1656 - accuracy: 0.9318 - precision: 0.9541 - recall: 0.9535 - auc: 0.9792 - val_loss: 0.1507 - val_accuracy: 0.9449 - val_precision: 0.9577 - val_recall: 0.9591 - val_auc: 0.9848\n",
      "Epoch 3/10\n",
      "280/280 [==============================] - 1510s 5s/step - loss: 0.1569 - accuracy: 0.9351 - precision: 0.9568 - recall: 0.9553 - auc: 0.9813 - val_loss: 0.1430 - val_accuracy: 0.9473 - val_precision: 0.9624 - val_recall: 0.9577 - val_auc: 0.9858\n",
      "Epoch 4/10\n",
      "280/280 [==============================] - 1515s 5s/step - loss: 0.1508 - accuracy: 0.9362 - precision: 0.9570 - recall: 0.9567 - auc: 0.9828 - val_loss: 0.1399 - val_accuracy: 0.9468 - val_precision: 0.9641 - val_recall: 0.9552 - val_auc: 0.9864\n",
      "Epoch 5/10\n",
      "280/280 [==============================] - 1513s 5s/step - loss: 0.1472 - accuracy: 0.9388 - precision: 0.9583 - recall: 0.9589 - auc: 0.9836 - val_loss: 0.1394 - val_accuracy: 0.9484 - val_precision: 0.9671 - val_recall: 0.9545 - val_auc: 0.9862\n",
      "Epoch 6/10\n",
      "280/280 [==============================] - 1517s 5s/step - loss: 0.1432 - accuracy: 0.9403 - precision: 0.9597 - recall: 0.9595 - auc: 0.9845 - val_loss: 0.1374 - val_accuracy: 0.9510 - val_precision: 0.9646 - val_recall: 0.9612 - val_auc: 0.9867\n",
      "Epoch 7/10\n",
      "280/280 [==============================] - 1505s 5s/step - loss: 0.1410 - accuracy: 0.9400 - precision: 0.9588 - recall: 0.9601 - auc: 0.9849 - val_loss: 0.1363 - val_accuracy: 0.9482 - val_precision: 0.9665 - val_recall: 0.9549 - val_auc: 0.9868\n",
      "Epoch 8/10\n",
      "280/280 [==============================] - 1512s 5s/step - loss: 0.1404 - accuracy: 0.9408 - precision: 0.9603 - recall: 0.9596 - auc: 0.9850 - val_loss: 0.1342 - val_accuracy: 0.9487 - val_precision: 0.9688 - val_recall: 0.9531 - val_auc: 0.9872\n",
      "Epoch 9/10\n",
      "280/280 [==============================] - 1509s 5s/step - loss: 0.1355 - accuracy: 0.9444 - precision: 0.9627 - recall: 0.9621 - auc: 0.9862 - val_loss: 0.1336 - val_accuracy: 0.9484 - val_precision: 0.9661 - val_recall: 0.9556 - val_auc: 0.9870\n",
      "Epoch 10/10\n",
      "280/280 [==============================] - 1509s 5s/step - loss: 0.1350 - accuracy: 0.9455 - precision: 0.9628 - recall: 0.9636 - auc: 0.9861 - val_loss: 0.1341 - val_accuracy: 0.9463 - val_precision: 0.9660 - val_recall: 0.9524 - val_auc: 0.9870\n",
      "INFO:tensorflow:Assets written to: /Users/litto/WORKSPACE/MegaClassifier/models/MegaClassifier_a_EfficientNetB5/v1/v1.3/assets\n"
     ]
    },
    {
     "name": "stderr",
     "output_type": "stream",
     "text": [
      "INFO:tensorflow:Assets written to: /Users/litto/WORKSPACE/MegaClassifier/models/MegaClassifier_a_EfficientNetB5/v1/v1.3/assets\n"
     ]
    },
    {
     "name": "stdout",
     "output_type": "stream",
     "text": [
      "67/67 [==============================] - 288s 4s/step - loss: 0.1203 - accuracy: 0.9519 - precision: 0.9717 - recall: 0.9552 - auc: 0.9903\n"
     ]
    },
    {
     "name": "stderr",
     "output_type": "stream",
     "text": [
      "2025-03-03 04:27:52.877551: I tensorflow/core/grappler/optimizers/custom_graph_optimizer_registry.cc:114] Plugin optimizer for device_type GPU is enabled.\n"
     ]
    },
    {
     "name": "stdout",
     "output_type": "stream",
     "text": [
      "67/67 [==============================] - 289s 4s/step\n",
      "\n",
      "\n",
      "\n",
      "Found 17906 validated image filenames belonging to 2 classes.\n",
      "Found 4286 validated image filenames belonging to 2 classes.\n",
      "Found 4286 validated image filenames belonging to 2 classes.\n",
      "Epoch 1/10\n"
     ]
    },
    {
     "name": "stderr",
     "output_type": "stream",
     "text": [
      "2025-03-03 04:32:50.727585: I tensorflow/core/grappler/optimizers/custom_graph_optimizer_registry.cc:114] Plugin optimizer for device_type GPU is enabled.\n"
     ]
    },
    {
     "name": "stdout",
     "output_type": "stream",
     "text": [
      "140/140 [==============================] - ETA: 0s - loss: 0.5847 - accuracy: 0.7762 - precision: 0.7705 - recall: 0.9840 - auc: 0.6734"
     ]
    },
    {
     "name": "stderr",
     "output_type": "stream",
     "text": [
      "2025-03-03 04:54:17.365933: I tensorflow/core/grappler/optimizers/custom_graph_optimizer_registry.cc:114] Plugin optimizer for device_type GPU is enabled.\n"
     ]
    },
    {
     "name": "stdout",
     "output_type": "stream",
     "text": [
      "140/140 [==============================] - 1588s 11s/step - loss: 0.5847 - accuracy: 0.7762 - precision: 0.7705 - recall: 0.9840 - auc: 0.6734 - val_loss: 0.6542 - val_accuracy: 0.6617 - val_precision: 0.6618 - val_recall: 0.9993 - val_auc: 0.5085\n",
      "Epoch 2/10\n",
      "140/140 [==============================] - 1571s 11s/step - loss: 0.5792 - accuracy: 0.7387 - precision: 0.7388 - recall: 0.9997 - auc: 0.4971 - val_loss: 0.6484 - val_accuracy: 0.6624 - val_precision: 0.6624 - val_recall: 0.9989 - val_auc: 0.5105\n",
      "Epoch 3/10\n",
      "140/140 [==============================] - 1574s 11s/step - loss: 0.5777 - accuracy: 0.7388 - precision: 0.7391 - recall: 0.9992 - auc: 0.5057 - val_loss: 0.6525 - val_accuracy: 0.6622 - val_precision: 0.6622 - val_recall: 0.9989 - val_auc: 0.5065\n",
      "Epoch 4/10\n",
      "140/140 [==============================] - 1575s 11s/step - loss: 0.5803 - accuracy: 0.7392 - precision: 0.7392 - recall: 0.9996 - auc: 0.4976 - val_loss: 0.6868 - val_accuracy: 0.6612 - val_precision: 0.6616 - val_recall: 0.9989 - val_auc: 0.5067\n",
      "Epoch 5/10\n",
      "140/140 [==============================] - 1577s 11s/step - loss: 0.5764 - accuracy: 0.7392 - precision: 0.7392 - recall: 0.9996 - auc: 0.5047 - val_loss: 0.6864 - val_accuracy: 0.6643 - val_precision: 0.6635 - val_recall: 0.9996 - val_auc: 0.5088\n",
      "Epoch 6/10\n",
      "140/140 [==============================] - 1575s 11s/step - loss: 0.5769 - accuracy: 0.7390 - precision: 0.7391 - recall: 0.9995 - auc: 0.5037 - val_loss: 0.6556 - val_accuracy: 0.6624 - val_precision: 0.6622 - val_recall: 0.9996 - val_auc: 0.5081\n",
      "Epoch 7/10\n",
      "140/140 [==============================] - 1577s 11s/step - loss: 0.5759 - accuracy: 0.7399 - precision: 0.7398 - recall: 0.9995 - auc: 0.5052 - val_loss: 0.6617 - val_accuracy: 0.6626 - val_precision: 0.6628 - val_recall: 0.9979 - val_auc: 0.5084\n",
      "Epoch 8/10\n",
      "140/140 [==============================] - 1549s 11s/step - loss: 0.5769 - accuracy: 0.7392 - precision: 0.7393 - recall: 0.9995 - auc: 0.5071 - val_loss: 0.6746 - val_accuracy: 0.6617 - val_precision: 0.6621 - val_recall: 0.9982 - val_auc: 0.5072\n",
      "Epoch 9/10\n",
      "140/140 [==============================] - 1563s 11s/step - loss: 0.5777 - accuracy: 0.7391 - precision: 0.7393 - recall: 0.9993 - auc: 0.5014 - val_loss: 0.6507 - val_accuracy: 0.6640 - val_precision: 0.6632 - val_recall: 1.0000 - val_auc: 0.5106\n",
      "Epoch 10/10\n",
      "140/140 [==============================] - 1555s 11s/step - loss: 0.5757 - accuracy: 0.7392 - precision: 0.7393 - recall: 0.9994 - auc: 0.5055 - val_loss: 0.6436 - val_accuracy: 0.6626 - val_precision: 0.6625 - val_recall: 0.9989 - val_auc: 0.5090\n",
      "INFO:tensorflow:Assets written to: /Users/litto/WORKSPACE/MegaClassifier/models/MegaClassifier_a_EfficientNetB5/v1/v1.4/assets\n"
     ]
    },
    {
     "name": "stderr",
     "output_type": "stream",
     "text": [
      "INFO:tensorflow:Assets written to: /Users/litto/WORKSPACE/MegaClassifier/models/MegaClassifier_a_EfficientNetB5/v1/v1.4/assets\n"
     ]
    },
    {
     "name": "stdout",
     "output_type": "stream",
     "text": [
      "34/34 [==============================] - 300s 9s/step - loss: 0.6440 - accuracy: 0.6610 - precision: 0.6618 - recall: 0.9975 - auc: 0.5086\n"
     ]
    },
    {
     "name": "stderr",
     "output_type": "stream",
     "text": [
      "2025-03-03 09:00:03.437238: I tensorflow/core/grappler/optimizers/custom_graph_optimizer_registry.cc:114] Plugin optimizer for device_type GPU is enabled.\n"
     ]
    },
    {
     "name": "stdout",
     "output_type": "stream",
     "text": [
      "34/34 [==============================] - 300s 9s/step\n",
      "\n",
      "\n",
      "\n"
     ]
    }
   ],
   "source": [
    "SUBVERSION = 0\n",
    "for BATCH_SIZE in BATCH_SIZES:\n",
    "    LOGS_PATH = os.path.abspath(\n",
    "        f\"./logs/{MODEL_BASE_NAME}/v{VERSION}/v{VERSION}.{SUBVERSION}\"\n",
    "    )\n",
    "    MODELS_PATH = os.path.abspath(\n",
    "        f\"./models/{MODEL_BASE_NAME}/v{VERSION}/v{VERSION}.{SUBVERSION}\"\n",
    "    )\n",
    "    REPORTS_PATH = os.path.abspath(\n",
    "        f\"./reports/{MODEL_BASE_NAME}/v{VERSION}/v{VERSION}.{SUBVERSION}\"\n",
    "    )\n",
    "\n",
    "    MODEL_COMPLETE_NAME = f\"{MODEL_BASE_NAME} v{VERSION}.{SUBVERSION}\"\n",
    "\n",
    "    train_datagen = ImageDataGenerator(\n",
    "        preprocessing_function=tf.keras.applications.efficientnet.preprocess_input,\n",
    "    )\n",
    "    train_images = train_datagen.flow_from_dataframe(\n",
    "        dataframe=train_dataset,\n",
    "        x_col=\"file_name\",\n",
    "        y_col=\"binary_label\",\n",
    "        target_size=IMAGE_SIZE,\n",
    "        batch_size=BATCH_SIZE,\n",
    "        class_mode=\"binary\",\n",
    "        shuffle=True,\n",
    "        seed=SEED,\n",
    "    )\n",
    "\n",
    "    datagen = ImageDataGenerator(\n",
    "        preprocessing_function=tf.keras.applications.efficientnet.preprocess_input,\n",
    "    )\n",
    "    validation_images = datagen.flow_from_dataframe(\n",
    "        dataframe=validationtrain_dataset,\n",
    "        x_col=\"file_name\",\n",
    "        y_col=\"binary_label\",\n",
    "        target_size=IMAGE_SIZE,\n",
    "        batch_size=BATCH_SIZE,\n",
    "        class_mode=\"binary\",\n",
    "        shuffle=True,\n",
    "        seed=SEED,\n",
    "    )\n",
    "    test_images = datagen.flow_from_dataframe(\n",
    "        dataframe=test_dataset,\n",
    "        x_col=\"file_name\",\n",
    "        y_col=\"binary_label\",\n",
    "        target_size=IMAGE_SIZE,\n",
    "        batch_size=BATCH_SIZE,\n",
    "        class_mode=\"binary\",\n",
    "        shuffle=False,\n",
    "        seed=SEED,\n",
    "    )\n",
    "\n",
    "    pretrained_model = tf.keras.applications.EfficientNetB5(\n",
    "        weights=\"imagenet\",\n",
    "        include_top=False,\n",
    "        input_shape=IMAGE_SHAPE,\n",
    "    )\n",
    "    pretrained_model.trainable = False\n",
    "\n",
    "    model = tf.keras.Sequential(\n",
    "        [\n",
    "            pretrained_model,\n",
    "            tf.keras.layers.GlobalAveragePooling2D(),\n",
    "            tf.keras.layers.Dense(1, activation=\"sigmoid\"),\n",
    "        ],\n",
    "        name=f\"{MODEL_BASE_NAME}_v{VERSION}.{SUBVERSION}\",\n",
    "    )\n",
    "\n",
    "    model.compile(\n",
    "        optimizer=OPTIMIZERS[\"Adam\"],\n",
    "        loss=LOSS[\"BinaryCrossentropy\"],\n",
    "        metrics=METRICS,\n",
    "    )\n",
    "\n",
    "    history = model.fit(\n",
    "        train_images,\n",
    "        epochs=EPOCHS,\n",
    "        validation_data=validation_images,\n",
    "        callbacks=[TensorBoard(log_dir=LOGS_PATH)],\n",
    "    )\n",
    "\n",
    "    dataframe = pd.DataFrame(history.history)\n",
    "    history_path = os.path.join(LOGS_PATH, f\"history_v{VERSION}.{SUBVERSION}.csv\")\n",
    "    dataframe.to_csv(history_path, sep=\";\", index=False)\n",
    "\n",
    "    os.makedirs(REPORTS_PATH, exist_ok=True)\n",
    "    accuracy_chart = graphics.create_training_accuracy_chart(\n",
    "        history_path=history_path,\n",
    "        model_name=MODEL_COMPLETE_NAME,\n",
    "    )\n",
    "    accuracy_chart.write_image(f\"{REPORTS_PATH}/accuracy_v{VERSION}.{SUBVERSION}.png\")\n",
    "\n",
    "    loss_chart = graphics.create_training_loss_chart(\n",
    "        history_path=history_path,\n",
    "        model_name=MODEL_COMPLETE_NAME,\n",
    "    )\n",
    "    loss_chart.write_image(f\"{REPORTS_PATH}/loss_v{VERSION}.{SUBVERSION}.png\")\n",
    "\n",
    "    os.makedirs(MODELS_PATH, exist_ok=True)\n",
    "    model.save(MODELS_PATH)\n",
    "\n",
    "    results = model.evaluate(test_images)\n",
    "    metric_names = history.model.metrics_names\n",
    "    evaluation_results = {\n",
    "        (\"test_\" + name): value for name, value in zip(metric_names, results)\n",
    "    }\n",
    "\n",
    "    evaluation = pd.DataFrame([evaluation_results])\n",
    "    evaluation.to_csv(\n",
    "        os.path.join(LOGS_PATH, f\"evaluation_v{VERSION}.{SUBVERSION}.csv\"),\n",
    "        sep=\";\",\n",
    "        index=False,\n",
    "    )\n",
    "\n",
    "    y_pred_prob = model.predict(test_images)\n",
    "    y_true = test_images.labels\n",
    "\n",
    "    fpr, tpr, thresholds = roc_curve(y_true, y_pred_prob)\n",
    "    roc_auc = auc(fpr, tpr)\n",
    "\n",
    "    roc_curve_chart = graphics.create_roc_curve_chart(\n",
    "        fpr=fpr,\n",
    "        tpr=tpr,\n",
    "        roc_auc=roc_auc,\n",
    "        model_name=MODEL_COMPLETE_NAME,\n",
    "    )\n",
    "    roc_curve_chart.write_image(f\"{REPORTS_PATH}/roc_curve_v{VERSION}.{SUBVERSION}.png\")\n",
    "\n",
    "    optimal_idx = np.argmax(tpr - fpr)\n",
    "    optimal_threshold = thresholds[optimal_idx]\n",
    "\n",
    "    # y_pred_prob = y_pred_prob.flatten()\n",
    "    y_pred_class = (y_pred_prob > optimal_threshold).astype(int)\n",
    "    conf_matrix = confusion_matrix(y_true, y_pred_class)\n",
    "    conf_matrix_text = [[str(value) for value in row] for row in conf_matrix]\n",
    "\n",
    "    # Crear el gráfico correctamente\n",
    "    confusion_matrix_chart = graphics.create_confusion_matrix_chart(\n",
    "        conf_matrix=conf_matrix,\n",
    "        conf_matrix_text=conf_matrix_text,\n",
    "        model_name=MODEL_COMPLETE_NAME,\n",
    "    )\n",
    "    confusion_matrix_chart.write_image(\n",
    "        f\"{REPORTS_PATH}/confusion_matrix_optimal_v{VERSION}.{SUBVERSION}.png\"\n",
    "    )\n",
    "\n",
    "    y_pred_class = (y_pred_prob > 0.5).astype(int)\n",
    "    conf_matrix = confusion_matrix(y_true, y_pred_class)\n",
    "    conf_matrix_text = [[str(value) for value in row] for row in conf_matrix]\n",
    "\n",
    "    confusion_matrix_chart = graphics.create_confusion_matrix_chart(\n",
    "        conf_matrix=conf_matrix,\n",
    "        conf_matrix_text=conf_matrix_text,\n",
    "        model_name=MODEL_COMPLETE_NAME,\n",
    "    )\n",
    "    confusion_matrix_chart.write_image(\n",
    "        f\"{REPORTS_PATH}/confusion_matrix_v{VERSION}.{SUBVERSION}.png\"\n",
    "    )\n",
    "\n",
    "    SUBVERSION += 1\n",
    "    print(\"\\n\\n\")\n"
   ]
  }
 ],
 "metadata": {
  "kernelspec": {
   "display_name": "TFG",
   "language": "python",
   "name": "python3"
  },
  "language_info": {
   "codemirror_mode": {
    "name": "ipython",
    "version": 3
   },
   "file_extension": ".py",
   "mimetype": "text/x-python",
   "name": "python",
   "nbconvert_exporter": "python",
   "pygments_lexer": "ipython3",
   "version": "3.8.19"
  }
 },
 "nbformat": 4,
 "nbformat_minor": 2
}
