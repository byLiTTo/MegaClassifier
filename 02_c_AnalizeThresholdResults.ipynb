{
 "cells": [
  {
   "cell_type": "code",
   "execution_count": null,
   "metadata": {
    "ExecuteTime": {
     "end_time": "2025-02-26T07:28:39.895155Z",
     "start_time": "2025-02-26T07:28:39.822930Z"
    }
   },
   "outputs": [],
   "source": [
    "import json\n",
    "import os\n",
    "\n",
    "import numpy as np\n",
    "import pandas as pd\n",
    "import tqdm\n",
    "from itables import init_notebook_mode\n",
    "\n",
    "import src.graphics as graphics\n",
    "\n",
    "init_notebook_mode(all_interactive=True)"
   ]
  },
  {
   "cell_type": "code",
   "execution_count": null,
   "metadata": {
    "ExecuteTime": {
     "end_time": "2025-02-26T07:28:39.932238Z",
     "start_time": "2025-02-26T07:28:39.928635Z"
    }
   },
   "outputs": [],
   "source": [
    "REPORTS_CSV = os.path.abspath(\"./resources/megadetector_coverage/MegaDetector_0_2.csv\")\n",
    "REPORTS_FOLDER = os.path.abspath(\"./reports/fase_2\")\n",
    "\n",
    "# subset_option = \"all\"\n",
    "subset_option = \"train\"\n",
    "# subset_option = \"validation\"\n",
    "# subset_option = \"test\""
   ]
  },
  {
   "cell_type": "code",
   "execution_count": null,
   "metadata": {
    "ExecuteTime": {
     "end_time": "2025-02-26T07:28:39.967998Z",
     "start_time": "2025-02-26T07:28:39.936565Z"
    }
   },
   "outputs": [],
   "source": [
    "report = pd.read_csv(REPORTS_CSV, sep=\";\")\n",
    "\n",
    "model = os.path.basename(REPORTS_CSV).replace(\".csv\", \"\")\n",
    "threshold = model.replace(\"MegaDetector_\", \"\")"
   ]
  },
  {
   "cell_type": "code",
   "execution_count": null,
   "metadata": {
    "ExecuteTime": {
     "end_time": "2025-02-26T07:28:39.983089Z",
     "start_time": "2025-02-26T07:28:39.977646Z"
    }
   },
   "outputs": [],
   "source": [
    "if subset_option != \"all\":\n",
    "    report = report[report[\"subset\"] == subset_option]"
   ]
  },
  {
   "cell_type": "code",
   "execution_count": null,
   "metadata": {
    "ExecuteTime": {
     "end_time": "2025-02-26T07:28:40.005897Z",
     "start_time": "2025-02-26T07:28:39.998940Z"
    }
   },
   "outputs": [],
   "source": [
    "real_positives = report[\"binary_label\"].sum()\n",
    "covered_positives = report[\n",
    "    (report[\"binary_label\"] == 1) & (report[\"detector_label\"] == 1)\n",
    "].shape[0]\n",
    "\n",
    "percentage_covered_positives = (\n",
    "    (covered_positives / real_positives) * 100 if real_positives > 0 else 0\n",
    ")\n",
    "print(f\"Percentage of covered positives: {percentage_covered_positives:.2f}%\")\n",
    "print(f\"There is {real_positives} real positives\")\n",
    "print(f\"There is {covered_positives} covered positives\")"
   ]
  },
  {
   "cell_type": "code",
   "execution_count": null,
   "metadata": {
    "ExecuteTime": {
     "end_time": "2025-02-26T07:28:40.018079Z",
     "start_time": "2025-02-26T07:28:40.013188Z"
    }
   },
   "outputs": [],
   "source": [
    "TP = ((report[\"binary_label\"] == 1) & (report[\"detector_label\"] == 1)).sum()\n",
    "FP = ((report[\"binary_label\"] == 0) & (report[\"detector_label\"] == 1)).sum()\n",
    "TN = ((report[\"binary_label\"] == 0) & (report[\"detector_label\"] == 0)).sum()\n",
    "FN = ((report[\"binary_label\"] == 1) & (report[\"detector_label\"] == 0)).sum()\n",
    "\n",
    "conf_matrix = np.array([[TN, FN], [FP, TP]])\n",
    "\n",
    "print(conf_matrix)"
   ]
  },
  {
   "cell_type": "code",
   "execution_count": null,
   "metadata": {
    "ExecuteTime": {
     "end_time": "2025-02-26T07:28:40.096486Z",
     "start_time": "2025-02-26T07:28:40.035767Z"
    }
   },
   "outputs": [],
   "source": [
    "fig = graphics.create_heatmap_chart(\n",
    "    conf_matrix=conf_matrix,\n",
    "    x_data=[\"Empty\", \"Animal\"],\n",
    "    y_data=[\"Empty\", \"Animal\"],\n",
    "    conf_matrix_text=[[str(value) for value in row] for row in conf_matrix],\n",
    "    title=\"MegaDetector Threshold = \"\n",
    "    + threshold.replace(\"_\", \".\")\n",
    "    + \" (Subset: \"\n",
    "    + subset_option\n",
    "    + \")\",\n",
    "    x_title=\"MegaDetector\",\n",
    "    y_title=\"Dataset\",\n",
    ")\n",
    "fig.show()\n",
    "\n",
    "os.makedirs(REPORTS_FOLDER, exist_ok=True)\n",
    "fig.write_image(\n",
    "    os.path.join(REPORTS_FOLDER, f\"confusion_matrix_{model}_{subset_option}.png\")\n",
    ")"
   ]
  }
 ],
 "metadata": {
  "kernelspec": {
   "display_name": "TFG",
   "language": "python",
   "name": "python3"
  },
  "language_info": {
   "codemirror_mode": {
    "name": "ipython",
    "version": 3
   },
   "file_extension": ".py",
   "mimetype": "text/x-python",
   "name": "python",
   "nbconvert_exporter": "python",
   "pygments_lexer": "ipython3",
   "version": "3.8.19"
  }
 },
 "nbformat": 4,
 "nbformat_minor": 2
}
