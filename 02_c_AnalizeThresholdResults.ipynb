{
 "cells": [
  {
   "cell_type": "code",
   "execution_count": null,
   "metadata": {
    "ExecuteTime": {
     "end_time": "2025-02-26T07:28:39.895155Z",
     "start_time": "2025-02-26T07:28:39.822930Z"
    }
   },
   "outputs": [],
   "source": [
    "import json\n",
    "import os\n",
    "\n",
    "import numpy as np\n",
    "import pandas as pd\n",
    "import plotly.graph_objects as go\n",
    "import tqdm\n",
    "from itables import init_notebook_mode\n",
    "\n",
    "import src.graphics as graphics\n",
    "\n",
    "init_notebook_mode(all_interactive=True)"
   ]
  },
  {
   "cell_type": "code",
   "execution_count": null,
   "metadata": {
    "ExecuteTime": {
     "end_time": "2025-02-26T07:28:39.932238Z",
     "start_time": "2025-02-26T07:28:39.928635Z"
    }
   },
   "outputs": [],
   "source": [
    "COVERAGE_CSV = os.path.abspath(\"./resources/megadetector_coverage/MegaDetector_0_2.csv\")\n",
    "REPORTS_FOLDER = os.path.abspath(\"./reports/1_megadetector_results\")\n",
    "\n",
    "# subset_option = \"all\"\n",
    "subset_option = \"train\"\n",
    "# subset_option = \"validation\"\n",
    "# subset_option = \"test\""
   ]
  },
  {
   "cell_type": "code",
   "execution_count": null,
   "metadata": {
    "ExecuteTime": {
     "end_time": "2025-02-26T07:28:39.967998Z",
     "start_time": "2025-02-26T07:28:39.936565Z"
    }
   },
   "outputs": [],
   "source": [
    "report = pd.read_csv(COVERAGE_CSV, sep=\";\")\n",
    "\n",
    "model = os.path.basename(COVERAGE_CSV).replace(\".csv\", \"\")\n",
    "threshold = model.replace(\"MegaDetector_\", \"\").replace(\"_\", \".\")\n",
    "\n",
    "LOGS_PATH = os.path.abspath(f\"./logs/MegaDetector_{threshold}\")\n",
    "os.makedirs(LOGS_PATH, exist_ok=True)"
   ]
  },
  {
   "cell_type": "code",
   "execution_count": null,
   "metadata": {
    "ExecuteTime": {
     "end_time": "2025-02-26T07:28:39.983089Z",
     "start_time": "2025-02-26T07:28:39.977646Z"
    }
   },
   "outputs": [],
   "source": [
    "if subset_option != \"all\":\n",
    "    report = report[report[\"subset\"] == subset_option]"
   ]
  },
  {
   "cell_type": "code",
   "execution_count": null,
   "metadata": {
    "ExecuteTime": {
     "end_time": "2025-02-26T07:28:40.005897Z",
     "start_time": "2025-02-26T07:28:39.998940Z"
    }
   },
   "outputs": [],
   "source": [
    "real_positives = report[\"binary_label\"].sum()\n",
    "covered_positives = report[\n",
    "    (report[\"binary_label\"] == 1) & (report[\"detector_label\"] == 1)\n",
    "].shape[0]\n",
    "\n",
    "percentage_covered_positives = (\n",
    "    (covered_positives / real_positives) * 100 if real_positives > 0 else 0\n",
    ")\n",
    "print(f\"Percentage of covered positives: {percentage_covered_positives:.2f}%\")\n",
    "print(f\"There is {real_positives} real positives\")\n",
    "print(f\"There is {covered_positives} covered positives\")"
   ]
  },
  {
   "cell_type": "code",
   "execution_count": null,
   "metadata": {},
   "outputs": [],
   "source": [
    "def create_confusion_matrix(conf_matrix, threshold, subset_option):\n",
    "    fig = go.Figure(\n",
    "        data=go.Heatmap(\n",
    "            z=conf_matrix,\n",
    "            x=[\"Animal\", \"Empty\"],\n",
    "            y=[\"Empty\", \"Animal\"],\n",
    "            text=conf_matrix,\n",
    "            texttemplate=\"%{text}\",\n",
    "            colorscale=\"Blues\",\n",
    "            showscale=True,\n",
    "        )\n",
    "    )\n",
    "\n",
    "    fig.update_layout(\n",
    "        title=f\"Confusion Matrix MegaDetector {threshold} ({subset_option})\",\n",
    "        xaxis_title=\"Predicted value\",\n",
    "        yaxis_title=\"Actual value\",\n",
    "        xaxis=dict(tickmode=\"array\", tickvals=[0, 1], ticktext=[\"Animal\", \"Empty\"]),\n",
    "        yaxis=dict(tickmode=\"array\", tickvals=[0, 1], ticktext=[\"Empty\", \"Animal\"]),\n",
    "        template=\"seaborn\",\n",
    "        width=600,\n",
    "        height=600,\n",
    "    )\n",
    "\n",
    "    return fig"
   ]
  },
  {
   "cell_type": "code",
   "execution_count": null,
   "metadata": {
    "ExecuteTime": {
     "end_time": "2025-02-26T07:28:40.018079Z",
     "start_time": "2025-02-26T07:28:40.013188Z"
    }
   },
   "outputs": [],
   "source": [
    "TP = ((report[\"binary_label\"] == 1) & (report[\"detector_label\"] == 1)).sum()\n",
    "FP = ((report[\"binary_label\"] == 0) & (report[\"detector_label\"] == 1)).sum()\n",
    "TN = ((report[\"binary_label\"] == 0) & (report[\"detector_label\"] == 0)).sum()\n",
    "FN = ((report[\"binary_label\"] == 1) & (report[\"detector_label\"] == 0)).sum()\n",
    "\n",
    "conf_matrix = np.array([[FP, TN], [TP, FN]])\n",
    "\n",
    "accuracy_predict = (TP + TN) / (TP + TN + FP + FN)\n",
    "recall_predict = TP / (TP + FN)\n",
    "specificity_predict = TN / (TN + FP)\n",
    "precision_predict = TP / (TP + FP)\n",
    "f1_score_predict = (\n",
    "    2 * (precision_predict * recall_predict) / (precision_predict + recall_predict)\n",
    ")\n",
    "\n",
    "confusion_matrix_fig = create_confusion_matrix(conf_matrix, threshold, subset_option)\n",
    "confusion_matrix_fig.write_image(\n",
    "    os.path.join(REPORTS_FOLDER, f\"confusion_matrix_{threshold}_{subset_option}.png\")\n",
    ")\n",
    "\n",
    "predicted_results = pd.DataFrame(\n",
    "    {\n",
    "        \"accuracy_predict\": [accuracy_predict],\n",
    "        \"precision_predict\": [precision_predict],\n",
    "        \"recall_predict\": [recall_predict],\n",
    "        \"specificity_predict\": [specificity_predict],\n",
    "        \"f1_score_predict\": [f1_score_predict],\n",
    "    }\n",
    ")\n",
    "predicted_results.to_csv(\n",
    "    os.path.join(LOGS_PATH, f\"predicted_results_{threshold}_{subset_option}.csv\"),\n",
    "    index=False,\n",
    "    sep=\";\",\n",
    ")\n",
    "\n",
    "\n",
    "print(predicted_results)\n",
    "print()\n",
    "confusion_matrix_fig.show()"
   ]
  },
  {
   "cell_type": "code",
   "execution_count": null,
   "metadata": {},
   "outputs": [],
   "source": [
    "conf_matrix = np.array([[0, (FP + TN)], [(TP + FN), 0]])\n",
    "\n",
    "fig = go.Figure(\n",
    "    data=go.Heatmap(\n",
    "        z=conf_matrix,\n",
    "        x=[\"Animal\", \"Empty\"],\n",
    "        y=[\"Empty\", \"Animal\"],\n",
    "        text=conf_matrix,\n",
    "        texttemplate=\"%{text}\",\n",
    "        colorscale=\"Greens\",\n",
    "        showscale=True,\n",
    "    )\n",
    ")\n",
    "\n",
    "fig.update_layout(\n",
    "    title=\"Ideal Confusion Matrix\",\n",
    "    xaxis_title=\"Predicted value\",\n",
    "    yaxis_title=\"Actual value\",\n",
    "    xaxis=dict(tickmode=\"array\", tickvals=[0, 1], ticktext=[\"Animal\", \"Empty\"]),\n",
    "    yaxis=dict(tickmode=\"array\", tickvals=[0, 1], ticktext=[\"Empty\", \"Animal\"]),\n",
    "    template=\"seaborn\",\n",
    "    width=600,\n",
    "    height=600,\n",
    ")\n",
    "fig.show()\n",
    "fig.write_image(\n",
    "    os.path.join(REPORTS_FOLDER, f\"confusion_matrix_IDEAL_{subset_option}.png\")\n",
    ")"
   ]
  },
  {
   "cell_type": "code",
   "execution_count": null,
   "metadata": {},
   "outputs": [],
   "source": []
  }
 ],
 "metadata": {
  "kernelspec": {
   "display_name": "TFG",
   "language": "python",
   "name": "python3"
  },
  "language_info": {
   "codemirror_mode": {
    "name": "ipython",
    "version": 3
   },
   "file_extension": ".py",
   "mimetype": "text/x-python",
   "name": "python",
   "nbconvert_exporter": "python",
   "pygments_lexer": "ipython3",
   "version": "3.8.19"
  }
 },
 "nbformat": 4,
 "nbformat_minor": 2
}
