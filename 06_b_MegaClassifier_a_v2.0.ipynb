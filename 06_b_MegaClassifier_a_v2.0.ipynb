{
 "cells": [
  {
   "metadata": {
    "ExecuteTime": {
     "end_time": "2025-02-23T18:36:43.393235Z",
     "start_time": "2025-02-23T18:08:46.741588Z"
    }
   },
   "cell_type": "code",
   "source": [
    "import os\n",
    "import time\n",
    "\n",
    "import numpy as np\n",
    "import pandas as pd\n",
    "import tensorflow as tf\n",
    "from keras.callbacks import TensorBoard\n",
    "from sklearn.utils.class_weight import compute_class_weight\n",
    "from tensorflow.keras import backend as K\n",
    "from tensorflow.keras.metrics import Precision, Recall, AUC\n",
    "from tensorflow.keras.preprocessing.image import ImageDataGenerator\n",
    "\n",
    "MODEL_NAME = \"MegaClassifier_a\"\n",
    "VERSION_BASE = \"v2\"\n",
    "EPOCHS = 10\n",
    "BATCH_SIZE = 32\n",
    "IMAGE_SIZE = (224, 224)\n",
    "IMAGE_SHAPE = IMAGE_SIZE + (3,)\n",
    "SEED = 42\n",
    "\n",
    "DATASET_CSV = os.path.abspath(\"./data/processed/onlyDetectionsForTrain/onlyDetectionsForTrain.csv\")\n",
    "DATASET_PATH = os.path.dirname(DATASET_CSV)\n",
    "\n",
    "dataset = pd.read_csv(DATASET_CSV, sep=\";\")\n",
    "dataset['file_name'] = dataset['file_name'].apply(lambda x: os.path.join(DATASET_PATH, x))\n",
    "dataset['binary_label'] = dataset['binary_label'].astype(str)\n",
    "\n",
    "train_df = dataset[dataset['subset'] == 'train']\n",
    "validation_df = dataset[dataset['subset'] == 'validation']\n",
    "test_df = dataset[dataset['subset'] == 'test']\n",
    "\n",
    "class_weights = compute_class_weight(class_weight=\"balanced\",\n",
    "                                     classes=np.unique(train_df['binary_label']),\n",
    "                                     y=train_df['binary_label'])\n",
    "class_weight_dict = {i: class_weights[i] for i in range(len(class_weights))}\n",
    "\n",
    "\n",
    "def focal_loss(alpha=0.25, gamma=2.0):\n",
    "    def loss(y_true, y_pred):\n",
    "        epsilon = K.epsilon()\n",
    "        y_pred = K.clip(y_pred, epsilon, 1.0 - epsilon)\n",
    "        pt = tf.where(K.equal(y_true, 1), y_pred, 1 - y_pred)\n",
    "        loss = -K.mean(alpha * K.pow(1. - pt, gamma) * K.log(pt))\n",
    "        return loss\n",
    "\n",
    "    return loss\n",
    "\n",
    "\n",
    "def train_and_evaluate(loss_function, loss_name, class_weights=None, VERSION_INDEX=0):\n",
    "    print(f\"\\n🔹 Entrenando con función de pérdida: {loss_name} 🔹\")\n",
    "\n",
    "    # Generadores de imágenes\n",
    "    train_datagen = ImageDataGenerator(preprocessing_function=tf.keras.applications.mobilenet_v2.preprocess_input)\n",
    "    datagen = ImageDataGenerator(preprocessing_function=tf.keras.applications.mobilenet_v2.preprocess_input)\n",
    "\n",
    "    train_images = train_datagen.flow_from_dataframe(\n",
    "        dataframe=train_df,\n",
    "        x_col=\"file_name\",\n",
    "        y_col=\"binary_label\",\n",
    "        target_size=IMAGE_SIZE,\n",
    "        batch_size=BATCH_SIZE,\n",
    "        class_mode=\"binary\",\n",
    "        shuffle=True,\n",
    "        seed=SEED,\n",
    "    )\n",
    "    validation_images = datagen.flow_from_dataframe(\n",
    "        dataframe=validation_df,\n",
    "        x_col=\"file_name\",\n",
    "        y_col=\"binary_label\",\n",
    "        target_size=IMAGE_SIZE,\n",
    "        batch_size=BATCH_SIZE,\n",
    "        class_mode=\"binary\",\n",
    "        shuffle=True,\n",
    "        seed=SEED,\n",
    "    )\n",
    "    test_images = datagen.flow_from_dataframe(\n",
    "        dataframe=test_df,\n",
    "        x_col=\"file_name\",\n",
    "        y_col=\"binary_label\",\n",
    "        target_size=IMAGE_SIZE,\n",
    "        batch_size=BATCH_SIZE,\n",
    "        class_mode=\"binary\",\n",
    "    )\n",
    "\n",
    "    mobilenet_v2 = tf.keras.applications.MobileNetV2(\n",
    "        weights=\"imagenet\",\n",
    "        include_top=False,\n",
    "        input_shape=IMAGE_SHAPE,\n",
    "    )\n",
    "    mobilenet_v2.trainable = False\n",
    "\n",
    "    model = tf.keras.Sequential([\n",
    "        mobilenet_v2,\n",
    "        tf.keras.layers.GlobalAveragePooling2D(),\n",
    "        tf.keras.layers.Dense(1, activation=\"sigmoid\"),\n",
    "    ], name=f\"{MODEL_NAME}_{VERSION_BASE}.{VERSION_INDEX}\")\n",
    "\n",
    "    model.compile(\n",
    "        optimizer=tf.keras.optimizers.Adam(),\n",
    "        loss=loss_function,\n",
    "        metrics=[\"accuracy\", Precision(name=\"precision\"), Recall(name=\"recall\"), AUC(name=\"auc\")],\n",
    "    )\n",
    "\n",
    "    start_time = time.time()\n",
    "    history = model.fit(\n",
    "        train_images,\n",
    "        epochs=EPOCHS,\n",
    "        validation_data=validation_images,\n",
    "        callbacks=[\n",
    "            TensorBoard(log_dir=f\"./logs/{MODEL_NAME}/{VERSION_BASE}/{VERSION_BASE}.{VERSION_INDEX}\"),\n",
    "        ],\n",
    "        class_weight=class_weights  # Solo aplicable en Weighted Binary Crossentropy\n",
    "    )\n",
    "    training_time = time.time() - start_time\n",
    "\n",
    "    results = model.evaluate(test_images)\n",
    "\n",
    "    history_df = pd.DataFrame(history.history)\n",
    "    os.makedirs(f\"./logs/{MODEL_NAME}/{VERSION_BASE}/{loss_name}\", exist_ok=True)\n",
    "    history_df.to_csv(\n",
    "        f\"./logs/{MODEL_NAME}/{VERSION_BASE}/{VERSION_BASE}.{VERSION_INDEX}/history_{VERSION_BASE}.{VERSION_INDEX}.csv\",\n",
    "        index=False)\n",
    "\n",
    "    metric_names = history.model.metrics_names\n",
    "    evaluation_results = {(\"test_\" + name): value for name, value in zip(metric_names, results)}\n",
    "    evaluation_results[\"loss_function\"] = loss_name\n",
    "    evaluation_results[\"training_time\"] = training_time\n",
    "\n",
    "    results_df = pd.DataFrame([evaluation_results])\n",
    "    results_df.to_csv(\n",
    "        f\"./logs/{MODEL_NAME}/{VERSION_BASE}/{VERSION_BASE}.{VERSION_INDEX}/results_{VERSION_BASE}.{VERSION_INDEX}.csv\",\n",
    "        index=False)\n",
    "\n",
    "    print(f\"\\n📉 Loss: {results[0]:.4f}\")\n",
    "    print(f\"🎯 Accuracy: {results[1]:.4%}\")\n",
    "    print(f\"✅ Precision: {results[2]:.4%}\")\n",
    "    print(f\"🔄 Recall: {results[3]:.4%}\")\n",
    "    print(f\"📊 AUC: {results[4]:.4f}\")\n",
    "    print(f\"⏳ Tiempo de entrenamiento: {training_time:.2f} segundos\")\n",
    "\n",
    "    return results_df\n",
    "\n",
    "\n",
    "count = 0\n",
    "all_results = []\n",
    "loss_functions = {\n",
    "    \"BinaryCrossentropy\": tf.keras.losses.BinaryCrossentropy(),\n",
    "    \"FocalLoss\": focal_loss(alpha=0.25, gamma=2.0),\n",
    "    \"WeightedBinaryCrossentropy\": tf.keras.losses.BinaryCrossentropy()\n",
    "}\n",
    "\n",
    "for loss_name, loss_function in loss_functions.items():\n",
    "    class_weights_to_use = class_weight_dict if loss_name == \"WeightedBinaryCrossentropy\" else None\n",
    "    results_df = train_and_evaluate(loss_function, loss_name, class_weights=class_weights_to_use, VERSION_INDEX=count)\n",
    "    all_results.append(results_df)\n",
    "    count += 1\n",
    "\n",
    "final_results = pd.concat(all_results, ignore_index=True)\n",
    "final_results.to_csv(f\"./logs/{MODEL_NAME}/{VERSION_BASE}/loss_comparison_results.csv\", index=False)\n",
    "\n",
    "print(\"\\n✅ ¡Experimento con diferentes funciones de pérdida completado!\")"
   ],
   "id": "2fda41229429df8f",
   "outputs": [
    {
     "name": "stdout",
     "output_type": "stream",
     "text": [
      "\n",
      "🔹 Entrenando con función de pérdida: BinaryCrossentropy 🔹\n",
      "Found 17054 validated image filenames belonging to 2 classes.\n",
      "Found 4286 validated image filenames belonging to 2 classes.\n",
      "Found 4286 validated image filenames belonging to 2 classes.\n"
     ]
    },
    {
     "name": "stderr",
     "output_type": "stream",
     "text": [
      "2025-02-23 19:08:53.080072: I metal_plugin/src/device/metal_device.cc:1154] Metal device set to: Apple M3\n",
      "2025-02-23 19:08:53.080097: I metal_plugin/src/device/metal_device.cc:296] systemMemory: 16.00 GB\n",
      "2025-02-23 19:08:53.080102: I metal_plugin/src/device/metal_device.cc:313] maxCacheSize: 5.33 GB\n",
      "2025-02-23 19:08:53.080151: I tensorflow/core/common_runtime/pluggable_device/pluggable_device_factory.cc:303] Could not identify NUMA node of platform GPU ID 0, defaulting to 0. Your kernel may not have been built with NUMA support.\n",
      "2025-02-23 19:08:53.080421: I tensorflow/core/common_runtime/pluggable_device/pluggable_device_factory.cc:269] Created TensorFlow device (/job:localhost/replica:0/task:0/device:GPU:0 with 0 MB memory) -> physical PluggableDevice (device: 0, name: METAL, pci bus id: <undefined>)\n",
      "WARNING:absl:At this time, the v2.11+ optimizer `tf.keras.optimizers.Adam` runs slowly on M1/M2 Macs, please use the legacy Keras optimizer instead, located at `tf.keras.optimizers.legacy.Adam`.\n",
      "WARNING:absl:There is a known slowdown when using v2.11+ Keras optimizers on M1/M2 Macs. Falling back to the legacy Keras optimizer, i.e., `tf.keras.optimizers.legacy.Adam`.\n"
     ]
    },
    {
     "name": "stdout",
     "output_type": "stream",
     "text": [
      "Epoch 1/10\n"
     ]
    },
    {
     "name": "stderr",
     "output_type": "stream",
     "text": [
      "2025-02-23 19:08:54.765409: I tensorflow/core/grappler/optimizers/custom_graph_optimizer_registry.cc:114] Plugin optimizer for device_type GPU is enabled.\n"
     ]
    },
    {
     "name": "stdout",
     "output_type": "stream",
     "text": [
      "533/533 [==============================] - ETA: 0s - loss: 0.2393 - accuracy: 0.8949 - precision: 0.9169 - recall: 0.9505 - auc: 0.9486"
     ]
    },
    {
     "name": "stderr",
     "output_type": "stream",
     "text": [
      "2025-02-23 19:09:39.315025: I tensorflow/core/grappler/optimizers/custom_graph_optimizer_registry.cc:114] Plugin optimizer for device_type GPU is enabled.\n"
     ]
    },
    {
     "name": "stdout",
     "output_type": "stream",
     "text": [
      "533/533 [==============================] - 56s 103ms/step - loss: 0.2393 - accuracy: 0.8949 - precision: 0.9169 - recall: 0.9505 - auc: 0.9486 - val_loss: 0.1880 - val_accuracy: 0.9330 - val_precision: 0.9502 - val_recall: 0.9485 - val_auc: 0.9776\n",
      "Epoch 2/10\n",
      "533/533 [==============================] - 53s 99ms/step - loss: 0.1865 - accuracy: 0.9244 - precision: 0.9456 - recall: 0.9575 - auc: 0.9693 - val_loss: 0.1696 - val_accuracy: 0.9351 - val_precision: 0.9558 - val_recall: 0.9457 - val_auc: 0.9802\n",
      "Epoch 3/10\n",
      "533/533 [==============================] - 53s 99ms/step - loss: 0.1743 - accuracy: 0.9278 - precision: 0.9495 - recall: 0.9577 - auc: 0.9730 - val_loss: 0.1613 - val_accuracy: 0.9412 - val_precision: 0.9521 - val_recall: 0.9594 - val_auc: 0.9824\n",
      "Epoch 4/10\n",
      "533/533 [==============================] - 53s 99ms/step - loss: 0.1669 - accuracy: 0.9322 - precision: 0.9534 - recall: 0.9594 - auc: 0.9753 - val_loss: 0.1696 - val_accuracy: 0.9335 - val_precision: 0.9264 - val_recall: 0.9771 - val_auc: 0.9835\n",
      "Epoch 5/10\n",
      "533/533 [==============================] - 53s 100ms/step - loss: 0.1614 - accuracy: 0.9337 - precision: 0.9542 - recall: 0.9606 - auc: 0.9771 - val_loss: 0.1652 - val_accuracy: 0.9379 - val_precision: 0.9347 - val_recall: 0.9743 - val_auc: 0.9838\n",
      "Epoch 6/10\n",
      "533/533 [==============================] - 53s 100ms/step - loss: 0.1563 - accuracy: 0.9371 - precision: 0.9564 - recall: 0.9628 - auc: 0.9783 - val_loss: 0.1529 - val_accuracy: 0.9447 - val_precision: 0.9545 - val_recall: 0.9623 - val_auc: 0.9839\n",
      "Epoch 7/10\n",
      "533/533 [==============================] - 54s 101ms/step - loss: 0.1526 - accuracy: 0.9390 - precision: 0.9582 - recall: 0.9632 - auc: 0.9795 - val_loss: 0.1546 - val_accuracy: 0.9433 - val_precision: 0.9642 - val_recall: 0.9496 - val_auc: 0.9833\n",
      "Epoch 8/10\n",
      "533/533 [==============================] - 54s 101ms/step - loss: 0.1500 - accuracy: 0.9395 - precision: 0.9588 - recall: 0.9634 - auc: 0.9802 - val_loss: 0.1537 - val_accuracy: 0.9419 - val_precision: 0.9628 - val_recall: 0.9489 - val_auc: 0.9837\n",
      "Epoch 9/10\n",
      "533/533 [==============================] - 54s 100ms/step - loss: 0.1478 - accuracy: 0.9384 - precision: 0.9582 - recall: 0.9625 - auc: 0.9809 - val_loss: 0.1505 - val_accuracy: 0.9449 - val_precision: 0.9568 - val_recall: 0.9602 - val_auc: 0.9838\n",
      "Epoch 10/10\n",
      "533/533 [==============================] - 53s 100ms/step - loss: 0.1446 - accuracy: 0.9420 - precision: 0.9609 - recall: 0.9645 - auc: 0.9814 - val_loss: 0.1510 - val_accuracy: 0.9433 - val_precision: 0.9500 - val_recall: 0.9651 - val_auc: 0.9842\n",
      "134/134 [==============================] - 11s 81ms/step - loss: 0.1415 - accuracy: 0.9445 - precision: 0.9452 - recall: 0.9725 - auc: 0.9868\n",
      "\n",
      "📉 Loss: 0.1415\n",
      "🎯 Accuracy: 94.4470%\n",
      "✅ Precision: 94.5168%\n",
      "🔄 Recall: 97.2496%\n",
      "📊 AUC: 0.9868\n",
      "⏳ Tiempo de entrenamiento: 535.42 segundos\n",
      "\n",
      "🔹 Entrenando con función de pérdida: FocalLoss 🔹\n",
      "Found 17054 validated image filenames belonging to 2 classes.\n",
      "Found 4286 validated image filenames belonging to 2 classes.\n",
      "Found 4286 validated image filenames belonging to 2 classes.\n"
     ]
    },
    {
     "name": "stderr",
     "output_type": "stream",
     "text": [
      "WARNING:absl:At this time, the v2.11+ optimizer `tf.keras.optimizers.Adam` runs slowly on M1/M2 Macs, please use the legacy Keras optimizer instead, located at `tf.keras.optimizers.legacy.Adam`.\n",
      "WARNING:absl:There is a known slowdown when using v2.11+ Keras optimizers on M1/M2 Macs. Falling back to the legacy Keras optimizer, i.e., `tf.keras.optimizers.legacy.Adam`.\n"
     ]
    },
    {
     "name": "stdout",
     "output_type": "stream",
     "text": [
      "Epoch 1/10\n"
     ]
    },
    {
     "name": "stderr",
     "output_type": "stream",
     "text": [
      "2025-02-23 19:18:01.804084: I tensorflow/core/grappler/optimizers/custom_graph_optimizer_registry.cc:114] Plugin optimizer for device_type GPU is enabled.\n"
     ]
    },
    {
     "name": "stdout",
     "output_type": "stream",
     "text": [
      "533/533 [==============================] - ETA: 0s - loss: 0.0177 - accuracy: 0.8860 - precision: 0.9196 - recall: 0.9347 - auc: 0.9365"
     ]
    },
    {
     "name": "stderr",
     "output_type": "stream",
     "text": [
      "2025-02-23 19:18:46.257093: I tensorflow/core/grappler/optimizers/custom_graph_optimizer_registry.cc:114] Plugin optimizer for device_type GPU is enabled.\n"
     ]
    },
    {
     "name": "stdout",
     "output_type": "stream",
     "text": [
      "533/533 [==============================] - 56s 103ms/step - loss: 0.0177 - accuracy: 0.8860 - precision: 0.9196 - recall: 0.9347 - auc: 0.9365 - val_loss: 0.0121 - val_accuracy: 0.9263 - val_precision: 0.9459 - val_recall: 0.9425 - val_auc: 0.9776\n",
      "Epoch 2/10\n",
      "533/533 [==============================] - 54s 101ms/step - loss: 0.0125 - accuracy: 0.9210 - precision: 0.9457 - recall: 0.9527 - auc: 0.9684 - val_loss: 0.0112 - val_accuracy: 0.9337 - val_precision: 0.9525 - val_recall: 0.9471 - val_auc: 0.9809\n",
      "Epoch 3/10\n",
      "533/533 [==============================] - 54s 101ms/step - loss: 0.0118 - accuracy: 0.9256 - precision: 0.9489 - recall: 0.9554 - auc: 0.9723 - val_loss: 0.0110 - val_accuracy: 0.9377 - val_precision: 0.9428 - val_recall: 0.9644 - val_auc: 0.9823\n",
      "Epoch 4/10\n",
      "533/533 [==============================] - 54s 101ms/step - loss: 0.0108 - accuracy: 0.9314 - precision: 0.9545 - recall: 0.9571 - auc: 0.9764 - val_loss: 0.0111 - val_accuracy: 0.9363 - val_precision: 0.9387 - val_recall: 0.9669 - val_auc: 0.9822\n",
      "Epoch 5/10\n",
      "533/533 [==============================] - 53s 100ms/step - loss: 0.0105 - accuracy: 0.9329 - precision: 0.9538 - recall: 0.9600 - auc: 0.9779 - val_loss: 0.0113 - val_accuracy: 0.9351 - val_precision: 0.9460 - val_recall: 0.9566 - val_auc: 0.9803\n",
      "Epoch 6/10\n",
      "533/533 [==============================] - 56s 104ms/step - loss: 0.0102 - accuracy: 0.9344 - precision: 0.9545 - recall: 0.9613 - auc: 0.9791 - val_loss: 0.0109 - val_accuracy: 0.9398 - val_precision: 0.9466 - val_recall: 0.9633 - val_auc: 0.9823\n",
      "Epoch 7/10\n",
      "533/533 [==============================] - 54s 102ms/step - loss: 0.0101 - accuracy: 0.9341 - precision: 0.9547 - recall: 0.9605 - auc: 0.9795 - val_loss: 0.0115 - val_accuracy: 0.9368 - val_precision: 0.9632 - val_recall: 0.9404 - val_auc: 0.9800\n",
      "Epoch 8/10\n",
      "533/533 [==============================] - 54s 101ms/step - loss: 0.0098 - accuracy: 0.9365 - precision: 0.9572 - recall: 0.9610 - auc: 0.9806 - val_loss: 0.0113 - val_accuracy: 0.9377 - val_precision: 0.9557 - val_recall: 0.9499 - val_auc: 0.9816\n",
      "Epoch 9/10\n",
      "533/533 [==============================] - 54s 101ms/step - loss: 0.0097 - accuracy: 0.9374 - precision: 0.9580 - recall: 0.9615 - auc: 0.9810 - val_loss: 0.0111 - val_accuracy: 0.9407 - val_precision: 0.9585 - val_recall: 0.9517 - val_auc: 0.9813\n",
      "Epoch 10/10\n",
      "533/533 [==============================] - 54s 102ms/step - loss: 0.0096 - accuracy: 0.9380 - precision: 0.9587 - recall: 0.9615 - auc: 0.9815 - val_loss: 0.0122 - val_accuracy: 0.9363 - val_precision: 0.9648 - val_recall: 0.9379 - val_auc: 0.9784\n",
      "134/134 [==============================] - 11s 81ms/step - loss: 0.0107 - accuracy: 0.9410 - precision: 0.9585 - recall: 0.9520 - auc: 0.9830\n",
      "\n",
      "📉 Loss: 0.0107\n",
      "🎯 Accuracy: 94.0971%\n",
      "✅ Precision: 95.8466%\n",
      "🔄 Recall: 95.2045%\n",
      "📊 AUC: 0.9830\n",
      "⏳ Tiempo de entrenamiento: 542.33 segundos\n",
      "\n",
      "🔹 Entrenando con función de pérdida: WeightedBinaryCrossentropy 🔹\n",
      "Found 17054 validated image filenames belonging to 2 classes.\n",
      "Found 4286 validated image filenames belonging to 2 classes.\n",
      "Found 4286 validated image filenames belonging to 2 classes.\n"
     ]
    },
    {
     "name": "stderr",
     "output_type": "stream",
     "text": [
      "WARNING:absl:At this time, the v2.11+ optimizer `tf.keras.optimizers.Adam` runs slowly on M1/M2 Macs, please use the legacy Keras optimizer instead, located at `tf.keras.optimizers.legacy.Adam`.\n",
      "WARNING:absl:There is a known slowdown when using v2.11+ Keras optimizers on M1/M2 Macs. Falling back to the legacy Keras optimizer, i.e., `tf.keras.optimizers.legacy.Adam`.\n"
     ]
    },
    {
     "name": "stdout",
     "output_type": "stream",
     "text": [
      "Epoch 1/10\n"
     ]
    },
    {
     "name": "stderr",
     "output_type": "stream",
     "text": [
      "2025-02-23 19:27:15.876727: I tensorflow/core/grappler/optimizers/custom_graph_optimizer_registry.cc:114] Plugin optimizer for device_type GPU is enabled.\n"
     ]
    },
    {
     "name": "stdout",
     "output_type": "stream",
     "text": [
      "533/533 [==============================] - ETA: 0s - loss: 0.3013 - accuracy: 0.8562 - precision: 0.9636 - recall: 0.8465 - auc: 0.9438"
     ]
    },
    {
     "name": "stderr",
     "output_type": "stream",
     "text": [
      "2025-02-23 19:27:59.639547: I tensorflow/core/grappler/optimizers/custom_graph_optimizer_registry.cc:114] Plugin optimizer for device_type GPU is enabled.\n"
     ]
    },
    {
     "name": "stdout",
     "output_type": "stream",
     "text": [
      "533/533 [==============================] - 56s 103ms/step - loss: 0.3013 - accuracy: 0.8562 - precision: 0.9636 - recall: 0.8465 - auc: 0.9438 - val_loss: 0.2241 - val_accuracy: 0.9011 - val_precision: 0.9767 - val_recall: 0.8713 - val_auc: 0.9769\n",
      "Epoch 2/10\n",
      "533/533 [==============================] - 55s 103ms/step - loss: 0.2269 - accuracy: 0.8952 - precision: 0.9772 - recall: 0.8855 - auc: 0.9675 - val_loss: 0.2116 - val_accuracy: 0.9088 - val_precision: 0.9804 - val_recall: 0.8798 - val_auc: 0.9785\n",
      "Epoch 3/10\n",
      "533/533 [==============================] - 56s 106ms/step - loss: 0.2082 - accuracy: 0.9064 - precision: 0.9805 - recall: 0.8971 - auc: 0.9722 - val_loss: 0.1762 - val_accuracy: 0.9293 - val_precision: 0.9689 - val_recall: 0.9228 - val_auc: 0.9811\n",
      "Epoch 4/10\n",
      "533/533 [==============================] - 56s 104ms/step - loss: 0.1978 - accuracy: 0.9113 - precision: 0.9813 - recall: 0.9027 - auc: 0.9748 - val_loss: 0.1930 - val_accuracy: 0.9186 - val_precision: 0.9777 - val_recall: 0.8974 - val_auc: 0.9818\n",
      "Epoch 5/10\n",
      "533/533 [==============================] - 55s 104ms/step - loss: 0.1909 - accuracy: 0.9139 - precision: 0.9818 - recall: 0.9057 - auc: 0.9764 - val_loss: 0.1789 - val_accuracy: 0.9277 - val_precision: 0.9745 - val_recall: 0.9147 - val_auc: 0.9808\n",
      "Epoch 6/10\n",
      "533/533 [==============================] - 55s 104ms/step - loss: 0.1844 - accuracy: 0.9153 - precision: 0.9822 - recall: 0.9071 - auc: 0.9779 - val_loss: 0.2538 - val_accuracy: 0.8924 - val_precision: 0.9873 - val_recall: 0.8484 - val_auc: 0.9827\n",
      "Epoch 7/10\n",
      "533/533 [==============================] - 55s 104ms/step - loss: 0.1789 - accuracy: 0.9188 - precision: 0.9836 - recall: 0.9104 - auc: 0.9792 - val_loss: 0.1637 - val_accuracy: 0.9356 - val_precision: 0.9706 - val_recall: 0.9309 - val_auc: 0.9833\n",
      "Epoch 8/10\n",
      "533/533 [==============================] - 56s 106ms/step - loss: 0.1763 - accuracy: 0.9203 - precision: 0.9824 - recall: 0.9136 - auc: 0.9796 - val_loss: 0.2291 - val_accuracy: 0.9041 - val_precision: 0.9840 - val_recall: 0.8692 - val_auc: 0.9829\n",
      "Epoch 9/10\n",
      "533/533 [==============================] - 56s 104ms/step - loss: 0.1732 - accuracy: 0.9222 - precision: 0.9841 - recall: 0.9145 - auc: 0.9802 - val_loss: 0.2226 - val_accuracy: 0.9050 - val_precision: 0.9818 - val_recall: 0.8727 - val_auc: 0.9824\n",
      "Epoch 10/10\n",
      "533/533 [==============================] - 56s 105ms/step - loss: 0.1699 - accuracy: 0.9248 - precision: 0.9839 - recall: 0.9179 - auc: 0.9810 - val_loss: 0.1809 - val_accuracy: 0.9258 - val_precision: 0.9762 - val_recall: 0.9101 - val_auc: 0.9834\n",
      "134/134 [==============================] - 12s 87ms/step - loss: 0.1596 - accuracy: 0.9307 - precision: 0.9785 - recall: 0.9154 - auc: 0.9865\n",
      "\n",
      "📉 Loss: 0.1596\n",
      "🎯 Accuracy: 93.0705%\n",
      "✅ Precision: 97.8515%\n",
      "🔄 Recall: 91.5374%\n",
      "📊 AUC: 0.9865\n",
      "⏳ Tiempo de entrenamiento: 556.48 segundos\n",
      "\n",
      "✅ ¡Experimento con diferentes funciones de pérdida completado!\n"
     ]
    }
   ],
   "execution_count": 2
  }
 ],
 "metadata": {
  "kernelspec": {
   "display_name": "Python [conda env:TFG] *",
   "language": "python",
   "name": "conda-env-TFG-py"
  },
  "language_info": {
   "codemirror_mode": {
    "name": "ipython",
    "version": 2
   },
   "file_extension": ".py",
   "mimetype": "text/x-python",
   "name": "python",
   "nbconvert_exporter": "python",
   "pygments_lexer": "ipython2",
   "version": "2.7.6"
  }
 },
 "nbformat": 4,
 "nbformat_minor": 5
}
