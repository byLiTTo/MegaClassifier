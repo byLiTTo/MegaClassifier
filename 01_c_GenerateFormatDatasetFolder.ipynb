{
 "cells": [
  {
   "cell_type": "code",
   "execution_count": 9,
   "metadata": {},
   "outputs": [],
   "source": [
    "import os\n",
    "import shutil\n",
    "\n",
    "import pandas as pd\n",
    "import tqdm\n",
    "import src.data.Dataset as dt"
   ]
  },
  {
   "cell_type": "code",
   "execution_count": 10,
   "metadata": {},
   "outputs": [
    {
     "name": "stdout",
     "output_type": "stream",
     "text": [
      "FROM_PATH:         /Users/carlos/WORKSPACE/MegaClassifier/dataset/emptyNonEmptyDataset\n",
      "TO_PATH:           /Users/carlos/WORKSPACE/MegaClassifier/dataset/datasetFiltered\n",
      "ORIGINAL_DATASET:  /Users/carlos/WORKSPACE/MegaClassifier/data/raw/29618Images_binary.csv\n",
      "FILTERED_PATH:     /Users/carlos/WORKSPACE/MegaClassifier/data/interim\n",
      "FILTERED_DATASET:  /Users/carlos/WORKSPACE/MegaClassifier/data/interim/29618Images_filtered.csv\n"
     ]
    }
   ],
   "source": [
    "FROM_PATH = os.path.abspath(\"./dataset/emptyNonEmptyDataset\")\n",
    "TO_PATH = os.path.abspath(\"./dataset/datasetFiltered\")\n",
    "\n",
    "ORIGINAL_DATASET = os.path.abspath(\"./data/raw/29618Images_binary.csv\")\n",
    "dataset_file_name = os.path.basename(ORIGINAL_DATASET).split(\"_\")[0] + \"_filtered.csv\"\n",
    "\n",
    "FILTERED_PATH = os.path.abspath(\"./data/interim\")\n",
    "FILTERED_DATASET = os.path.join(FILTERED_PATH, dataset_file_name)\n",
    "\n",
    "print(f\"FROM_PATH:         {FROM_PATH}\")\n",
    "print(f\"TO_PATH:           {TO_PATH}\")\n",
    "print(f\"ORIGINAL_DATASET:  {ORIGINAL_DATASET}\")\n",
    "print(f\"FILTERED_PATH:     {FILTERED_PATH}\")\n",
    "print(f\"FILTERED_DATASET:  {FILTERED_DATASET}\")"
   ]
  },
  {
   "cell_type": "code",
   "execution_count": 11,
   "metadata": {},
   "outputs": [
    {
     "name": "stdout",
     "output_type": "stream",
     "text": [
      "The file /Users/carlos/WORKSPACE/MegaClassifier/data/raw/29618Images_binary.csv has been successfully opened.\n"
     ]
    },
    {
     "data": {
      "text/html": [
       "<div>\n",
       "<style scoped>\n",
       "    .dataframe tbody tr th:only-of-type {\n",
       "        vertical-align: middle;\n",
       "    }\n",
       "\n",
       "    .dataframe tbody tr th {\n",
       "        vertical-align: top;\n",
       "    }\n",
       "\n",
       "    .dataframe thead th {\n",
       "        text-align: right;\n",
       "    }\n",
       "</style>\n",
       "<table border=\"1\" class=\"dataframe\">\n",
       "  <thead>\n",
       "    <tr style=\"text-align: right;\">\n",
       "      <th></th>\n",
       "      <th>file_name</th>\n",
       "      <th>label</th>\n",
       "    </tr>\n",
       "  </thead>\n",
       "  <tbody>\n",
       "    <tr>\n",
       "      <th>0</th>\n",
       "      <td>\\vacia\\NOANIMAL_ZOO_5_6_7_9\\5_20210219 (614) (...</td>\n",
       "      <td>0</td>\n",
       "    </tr>\n",
       "    <tr>\n",
       "      <th>1</th>\n",
       "      <td>\\leporido\\rabbit_CaltechCameraTrap_ME\\58b2edd9...</td>\n",
       "      <td>1</td>\n",
       "    </tr>\n",
       "    <tr>\n",
       "      <th>2</th>\n",
       "      <td>\\vacia\\NOANIMAL_ZOO_5_6_7_9\\28_20210417 (2670)...</td>\n",
       "      <td>0</td>\n",
       "    </tr>\n",
       "    <tr>\n",
       "      <th>3</th>\n",
       "      <td>\\caballo\\HORSE_ZOO_5_6_7_9\\15_20210219 (8781) ...</td>\n",
       "      <td>1</td>\n",
       "    </tr>\n",
       "    <tr>\n",
       "      <th>4</th>\n",
       "      <td>\\garduna\\garduna_PNC_2014_manuel\\c18991IMAG001...</td>\n",
       "      <td>1</td>\n",
       "    </tr>\n",
       "    <tr>\n",
       "      <th>...</th>\n",
       "      <td>...</td>\n",
       "      <td>...</td>\n",
       "    </tr>\n",
       "    <tr>\n",
       "      <th>29613</th>\n",
       "      <td>\\humanovehiculo\\humanovehiculo_PNC_2014_manuel...</td>\n",
       "      <td>1</td>\n",
       "    </tr>\n",
       "    <tr>\n",
       "      <th>29614</th>\n",
       "      <td>\\vacia\\NOANIMAL_ZOO_1_4\\6_20201116 (3607).JPG</td>\n",
       "      <td>0</td>\n",
       "    </tr>\n",
       "    <tr>\n",
       "      <th>29615</th>\n",
       "      <td>\\vacia\\vacias_PNC_2014_ISAAC\\c9150IM000010.JPG</td>\n",
       "      <td>0</td>\n",
       "    </tr>\n",
       "    <tr>\n",
       "      <th>29616</th>\n",
       "      <td>\\zorro\\zorro_PNM_2012_ME\\d10536IM000603.JPG</td>\n",
       "      <td>1</td>\n",
       "    </tr>\n",
       "    <tr>\n",
       "      <th>29617</th>\n",
       "      <td>\\vaca\\COW_ZOO_1_4\\15_20201117 (822).JPG</td>\n",
       "      <td>1</td>\n",
       "    </tr>\n",
       "  </tbody>\n",
       "</table>\n",
       "<p>29618 rows × 2 columns</p>\n",
       "</div>"
      ],
      "text/plain": [
       "                                               file_name  label\n",
       "0      \\vacia\\NOANIMAL_ZOO_5_6_7_9\\5_20210219 (614) (...      0\n",
       "1      \\leporido\\rabbit_CaltechCameraTrap_ME\\58b2edd9...      1\n",
       "2      \\vacia\\NOANIMAL_ZOO_5_6_7_9\\28_20210417 (2670)...      0\n",
       "3      \\caballo\\HORSE_ZOO_5_6_7_9\\15_20210219 (8781) ...      1\n",
       "4      \\garduna\\garduna_PNC_2014_manuel\\c18991IMAG001...      1\n",
       "...                                                  ...    ...\n",
       "29613  \\humanovehiculo\\humanovehiculo_PNC_2014_manuel...      1\n",
       "29614      \\vacia\\NOANIMAL_ZOO_1_4\\6_20201116 (3607).JPG      0\n",
       "29615     \\vacia\\vacias_PNC_2014_ISAAC\\c9150IM000010.JPG      0\n",
       "29616        \\zorro\\zorro_PNM_2012_ME\\d10536IM000603.JPG      1\n",
       "29617            \\vaca\\COW_ZOO_1_4\\15_20201117 (822).JPG      1\n",
       "\n",
       "[29618 rows x 2 columns]"
      ]
     },
     "execution_count": 11,
     "metadata": {},
     "output_type": "execute_result"
    }
   ],
   "source": [
    "dataset = dt.load_from_csv(ORIGINAL_DATASET)\n",
    "dataset"
   ]
  },
  {
   "cell_type": "code",
   "execution_count": 12,
   "metadata": {},
   "outputs": [
    {
     "name": "stderr",
     "output_type": "stream",
     "text": [
      "29618it [00:22, 1343.69it/s]"
     ]
    },
    {
     "name": "stdout",
     "output_type": "stream",
     "text": [
      "Total images processed: 29618\n",
      "Total images copied: 29618\n",
      "The dataset has been successfully saved to /Users/carlos/WORKSPACE/MegaClassifier/data/interim/29618Images_filtered.csv\n"
     ]
    },
    {
     "name": "stderr",
     "output_type": "stream",
     "text": [
      "\n"
     ]
    }
   ],
   "source": [
    "total_images_processed = 0\n",
    "total_images_copied = 0\n",
    "\n",
    "filtered_dataset = pd.DataFrame({}, columns=dataset.columns)\n",
    "\n",
    "for _, row in tqdm.tqdm(dataset.iterrows()):\n",
    "    file_name = row[\"file_name\"].replace(\"\\\\\", \"/\")\n",
    "\n",
    "    original_file = os.path.join(FROM_PATH, file_name[1:])\n",
    "\n",
    "    filtered_file = file_name.lower()\n",
    "    filtered_file = filtered_file.replace(\" \", \"\")\n",
    "    filtered_file = filtered_file.replace(\"(\", \"_\")\n",
    "    filtered_file = filtered_file.replace(\")\", \"_\")\n",
    "    filtered_file = (\n",
    "        filtered_file.replace(\"á\", \"a\")\n",
    "        .replace(\"é\", \"e\")\n",
    "        .replace(\"í\", \"i\")\n",
    "        .replace(\"ó\", \"o\")\n",
    "        .replace(\"ú\", \"u\")\n",
    "    )\n",
    "    filtered_file = filtered_file.replace(\"ñ\", \"n\")\n",
    "\n",
    "    new_row = pd.DataFrame({\"file_name\": [filtered_file[1:]], \"label\": [row[\"label\"]]})\n",
    "    filtered_dataset = pd.concat([filtered_dataset, new_row], ignore_index=True)\n",
    "\n",
    "    filtered_file = os.path.join(TO_PATH, filtered_file[1:])\n",
    "\n",
    "    os.makedirs(os.path.dirname(filtered_file), exist_ok=True)\n",
    "\n",
    "    try:\n",
    "        shutil.copyfile(original_file, filtered_file)\n",
    "        total_images_copied += 1\n",
    "    except FileNotFoundError:\n",
    "        print(f\"File not found: {original_file}\")\n",
    "\n",
    "    total_images_processed += 1\n",
    "\n",
    "print(f\"Total images processed: {total_images_processed}\")\n",
    "print(f\"Total images copied: {total_images_copied}\")\n",
    "\n",
    "dt.dataset_to_csv(filtered_dataset, FILTERED_DATASET)"
   ]
  }
 ],
 "metadata": {
  "kernelspec": {
   "display_name": "cameratraps-detector",
   "language": "python",
   "name": "python3"
  },
  "language_info": {
   "codemirror_mode": {
    "name": "ipython",
    "version": 3
   },
   "file_extension": ".py",
   "mimetype": "text/x-python",
   "name": "python",
   "nbconvert_exporter": "python",
   "pygments_lexer": "ipython3",
   "version": "3.8.15"
  }
 },
 "nbformat": 4,
 "nbformat_minor": 2
}
