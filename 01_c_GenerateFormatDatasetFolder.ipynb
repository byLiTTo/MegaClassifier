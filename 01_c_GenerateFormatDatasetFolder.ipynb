{
 "cells": [
  {
   "cell_type": "code",
   "execution_count": 6,
   "metadata": {},
   "outputs": [],
   "source": [
    "import os\n",
    "import shutil\n",
    "\n",
    "import pandas as pd\n",
    "import tqdm\n",
    "import src.data.Dataset as dt"
   ]
  },
  {
   "cell_type": "code",
   "execution_count": 7,
   "metadata": {},
   "outputs": [
    {
     "name": "stdout",
     "output_type": "stream",
     "text": [
      "FROM_PATH:         /Users/carlos/WORKSPACE/MegaClassifier/dataset/emptyNonEmptyDataset\n",
      "TO_PATH:           /Users/carlos/WORKSPACE/MegaClassifier/dataset/datasetFiltered\n",
      "ORIGINAL_DATASET:  /Users/carlos/WORKSPACE/MegaClassifier/data/raw/28570Images_binary.csv\n",
      "FILTERED_PATH:     /Users/carlos/WORKSPACE/MegaClassifier/data/interim\n",
      "FILTERED_DATASET:  /Users/carlos/WORKSPACE/MegaClassifier/data/interim/28570Images_filtered.csv\n"
     ]
    }
   ],
   "source": [
    "FROM_PATH = os.path.abspath(\"./dataset/emptyNonEmptyDataset\")\n",
    "TO_PATH = os.path.abspath(\"./dataset/datasetFiltered\")\n",
    "\n",
    "ORIGINAL_DATASET = os.path.abspath(\"./data/raw/28570Images_binary.csv\")\n",
    "dataset_file_name = os.path.basename(ORIGINAL_DATASET).split(\"_\")[0] + \"_filtered.csv\"\n",
    "\n",
    "FILTERED_PATH = os.path.abspath(\"./data/interim\")\n",
    "FILTERED_DATASET = os.path.join(FILTERED_PATH, dataset_file_name)\n",
    "\n",
    "print(f\"FROM_PATH:         {FROM_PATH}\")\n",
    "print(f\"TO_PATH:           {TO_PATH}\")\n",
    "print(f\"ORIGINAL_DATASET:  {ORIGINAL_DATASET}\")\n",
    "print(f\"FILTERED_PATH:     {FILTERED_PATH}\")\n",
    "print(f\"FILTERED_DATASET:  {FILTERED_DATASET}\")"
   ]
  },
  {
   "cell_type": "code",
   "execution_count": 8,
   "metadata": {},
   "outputs": [
    {
     "name": "stdout",
     "output_type": "stream",
     "text": [
      "The file /Users/carlos/WORKSPACE/MegaClassifier/data/raw/28570Images_binary.csv has been successfully opened.\n"
     ]
    },
    {
     "data": {
      "text/html": [
       "<div>\n",
       "<style scoped>\n",
       "    .dataframe tbody tr th:only-of-type {\n",
       "        vertical-align: middle;\n",
       "    }\n",
       "\n",
       "    .dataframe tbody tr th {\n",
       "        vertical-align: top;\n",
       "    }\n",
       "\n",
       "    .dataframe thead th {\n",
       "        text-align: right;\n",
       "    }\n",
       "</style>\n",
       "<table border=\"1\" class=\"dataframe\">\n",
       "  <thead>\n",
       "    <tr style=\"text-align: right;\">\n",
       "      <th></th>\n",
       "      <th>file_name</th>\n",
       "      <th>label</th>\n",
       "    </tr>\n",
       "  </thead>\n",
       "  <tbody>\n",
       "    <tr>\n",
       "      <th>0</th>\n",
       "      <td>\\vacia\\NOANIMAL_ZOO_1_4\\37_20210115 (85).JPG</td>\n",
       "      <td>0</td>\n",
       "    </tr>\n",
       "    <tr>\n",
       "      <th>1</th>\n",
       "      <td>\\vacia\\vacia_WellingtonCameraTraps_SS\\25091507...</td>\n",
       "      <td>0</td>\n",
       "    </tr>\n",
       "    <tr>\n",
       "      <th>2</th>\n",
       "      <td>\\vacia\\vacias_2_de_2_PNC_2012_ISAAC\\a15323IM00...</td>\n",
       "      <td>0</td>\n",
       "    </tr>\n",
       "    <tr>\n",
       "      <th>3</th>\n",
       "      <td>\\cervidae\\CERVIDREDORFALLOWDEER_ZOO_5_6_7_9\\18...</td>\n",
       "      <td>1</td>\n",
       "    </tr>\n",
       "    <tr>\n",
       "      <th>4</th>\n",
       "      <td>\\humanovehiculo\\car_CaltechCameraTrap_ME\\vehic...</td>\n",
       "      <td>1</td>\n",
       "    </tr>\n",
       "    <tr>\n",
       "      <th>...</th>\n",
       "      <td>...</td>\n",
       "      <td>...</td>\n",
       "    </tr>\n",
       "    <tr>\n",
       "      <th>28565</th>\n",
       "      <td>\\humanovehiculo\\car_CaltechCameraTrap_ME\\vehic...</td>\n",
       "      <td>1</td>\n",
       "    </tr>\n",
       "    <tr>\n",
       "      <th>28566</th>\n",
       "      <td>\\vacia\\NOANIMAL_ZOO_5_6_7_9\\2_20210417 (16892)...</td>\n",
       "      <td>0</td>\n",
       "    </tr>\n",
       "    <tr>\n",
       "      <th>28567</th>\n",
       "      <td>\\vacia\\empty_SnapshotMountainZebra\\MTZ_S1_C04_...</td>\n",
       "      <td>0</td>\n",
       "    </tr>\n",
       "    <tr>\n",
       "      <th>28568</th>\n",
       "      <td>\\mapache\\raccoon_CaltechCameraTrap_ME\\58b9d6a2...</td>\n",
       "      <td>1</td>\n",
       "    </tr>\n",
       "    <tr>\n",
       "      <th>28569</th>\n",
       "      <td>\\vaca\\COW_ZOO_5_6_7_9\\2_20210219 (4215) (2021_...</td>\n",
       "      <td>1</td>\n",
       "    </tr>\n",
       "  </tbody>\n",
       "</table>\n",
       "<p>28570 rows × 2 columns</p>\n",
       "</div>"
      ],
      "text/plain": [
       "                                               file_name  label\n",
       "0           \\vacia\\NOANIMAL_ZOO_1_4\\37_20210115 (85).JPG      0\n",
       "1      \\vacia\\vacia_WellingtonCameraTraps_SS\\25091507...      0\n",
       "2      \\vacia\\vacias_2_de_2_PNC_2012_ISAAC\\a15323IM00...      0\n",
       "3      \\cervidae\\CERVIDREDORFALLOWDEER_ZOO_5_6_7_9\\18...      1\n",
       "4      \\humanovehiculo\\car_CaltechCameraTrap_ME\\vehic...      1\n",
       "...                                                  ...    ...\n",
       "28565  \\humanovehiculo\\car_CaltechCameraTrap_ME\\vehic...      1\n",
       "28566  \\vacia\\NOANIMAL_ZOO_5_6_7_9\\2_20210417 (16892)...      0\n",
       "28567  \\vacia\\empty_SnapshotMountainZebra\\MTZ_S1_C04_...      0\n",
       "28568  \\mapache\\raccoon_CaltechCameraTrap_ME\\58b9d6a2...      1\n",
       "28569  \\vaca\\COW_ZOO_5_6_7_9\\2_20210219 (4215) (2021_...      1\n",
       "\n",
       "[28570 rows x 2 columns]"
      ]
     },
     "execution_count": 8,
     "metadata": {},
     "output_type": "execute_result"
    }
   ],
   "source": [
    "dataset = dt.load_from_csv(ORIGINAL_DATASET)\n",
    "dataset"
   ]
  },
  {
   "cell_type": "code",
   "execution_count": 9,
   "metadata": {},
   "outputs": [
    {
     "name": "stderr",
     "output_type": "stream",
     "text": [
      "28570it [00:20, 1397.42it/s]"
     ]
    },
    {
     "name": "stdout",
     "output_type": "stream",
     "text": [
      "Total images processed: 28570\n",
      "Total images copied: 28570\n",
      "The dataset has been successfully saved to /Users/carlos/WORKSPACE/MegaClassifier/data/interim/28570Images_filtered.csv\n"
     ]
    },
    {
     "name": "stderr",
     "output_type": "stream",
     "text": [
      "\n"
     ]
    }
   ],
   "source": [
    "total_images_processed = 0\n",
    "total_images_copied = 0\n",
    "\n",
    "filtered_dataset = pd.DataFrame({}, columns=dataset.columns)\n",
    "\n",
    "for _, row in tqdm.tqdm(dataset.iterrows()):\n",
    "    file_name = row[\"file_name\"].replace(\"\\\\\", \"/\")\n",
    "\n",
    "    original_file = os.path.join(FROM_PATH, file_name[1:])\n",
    "\n",
    "    filtered_file = file_name.lower()\n",
    "    filtered_file = filtered_file.replace(\" \", \"\")\n",
    "    filtered_file = filtered_file.replace(\"(\", \"_\")\n",
    "    filtered_file = filtered_file.replace(\")\", \"_\")\n",
    "    filtered_file = (\n",
    "        filtered_file.replace(\"á\", \"a\")\n",
    "        .replace(\"é\", \"e\")\n",
    "        .replace(\"í\", \"i\")\n",
    "        .replace(\"ó\", \"o\")\n",
    "        .replace(\"ú\", \"u\")\n",
    "    )\n",
    "    filtered_file = filtered_file.replace(\"ñ\", \"n\")\n",
    "\n",
    "    new_row = pd.DataFrame({\"file_name\": [filtered_file[1:]], \"label\": [row[\"label\"]]})\n",
    "    filtered_dataset = pd.concat([filtered_dataset, new_row], ignore_index=True)\n",
    "\n",
    "    filtered_file = os.path.join(TO_PATH, filtered_file[1:])\n",
    "\n",
    "    os.makedirs(os.path.dirname(filtered_file), exist_ok=True)\n",
    "\n",
    "    try:\n",
    "        shutil.copyfile(original_file, filtered_file)\n",
    "        total_images_copied += 1\n",
    "    except FileNotFoundError:\n",
    "        print(f\"File not found: {original_file}\")\n",
    "\n",
    "    total_images_processed += 1\n",
    "\n",
    "print(f\"Total images processed: {total_images_processed}\")\n",
    "print(f\"Total images copied: {total_images_copied}\")\n",
    "\n",
    "dt.dataset_to_csv(filtered_dataset, FILTERED_DATASET)"
   ]
  },
  {
   "cell_type": "code",
   "execution_count": 10,
   "metadata": {},
   "outputs": [
    {
     "name": "stdout",
     "output_type": "stream",
     "text": [
      "Number of openable images: 28570\n",
      "Number of not openable images: 0\n",
      "Not openable files: []\n"
     ]
    }
   ],
   "source": [
    "from PIL import Image\n",
    "import os\n",
    "\n",
    "# Ruta base\n",
    "base_path = TO_PATH\n",
    "\n",
    "# Contadores para las imágenes que se pueden y no se pueden abrir\n",
    "count_openable = 0\n",
    "count_not_openable = 0\n",
    "\n",
    "# Lista para almacenar las rutas de las imágenes que no se pueden abrir\n",
    "not_openable_files = []\n",
    "\n",
    "# Iterar sobre las rutas de las imágenes en el dataset\n",
    "for file_path in filtered_dataset[\"file_name\"]:\n",
    "    absolute_path = base_path + \"/\" + file_path\n",
    "    try:\n",
    "        # Intentar abrir la imagen\n",
    "        img = Image.open(absolute_path)\n",
    "        img.verify()  # Verificar que la imagen se puede abrir\n",
    "        count_openable += 1\n",
    "    except (IOError, SyntaxError) as e:\n",
    "        # Si hay un error, incrementar el contador de imágenes no abiertas\n",
    "        count_not_openable += 1\n",
    "        not_openable_files.append(absolute_path)\n",
    "\n",
    "# Imprimir los resultados\n",
    "print(f\"Number of openable images: {count_openable}\")\n",
    "print(f\"Number of not openable images: {count_not_openable}\")\n",
    "print(f\"Not openable files: {not_openable_files}\")"
   ]
  }
 ],
 "metadata": {
  "kernelspec": {
   "display_name": "cameratraps-detector",
   "language": "python",
   "name": "python3"
  },
  "language_info": {
   "codemirror_mode": {
    "name": "ipython",
    "version": 3
   },
   "file_extension": ".py",
   "mimetype": "text/x-python",
   "name": "python",
   "nbconvert_exporter": "python",
   "pygments_lexer": "ipython3",
   "version": "3.8.15"
  }
 },
 "nbformat": 4,
 "nbformat_minor": 2
}
