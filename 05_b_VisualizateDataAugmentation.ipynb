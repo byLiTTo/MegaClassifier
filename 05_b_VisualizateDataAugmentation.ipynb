{
 "cells": [
  {
   "cell_type": "code",
   "id": "initial_id",
   "metadata": {
    "collapsed": true
   },
   "source": [
    "import os\n",
    "\n",
    "import matplotlib.pyplot as plt\n",
    "import numpy as np\n",
    "import pandas as pd\n",
    "import tensorflow as tf\n",
    "from itables import init_notebook_mode\n",
    "from tensorflow.keras.preprocessing.image import ImageDataGenerator\n",
    "\n",
    "init_notebook_mode(all_interactive=True)\n",
    "\n",
    "required_paths = [\"/ai4eutils\", \"/CameraTraps\", \"/yolov5\"]\n",
    "python_path = os.environ.get(\"PYTHONPATH\", \"\")\n",
    "root_path = os.getcwd()\n",
    "\n",
    "for path in required_paths:\n",
    "    if not any(p.endswith(path) for p in python_path.split(\":\")):\n",
    "        python_path += f\":{root_path}/data/external{path}\"\n",
    "\n",
    "os.environ[\"PYTHONPATH\"] = python_path"
   ],
   "outputs": [],
   "execution_count": null
  },
  {
   "metadata": {},
   "cell_type": "code",
   "source": [
    "DATASET_CSV = os.path.abspath(\"./data/processed/onlyDetectionsForTrain/onlyDetectionsForTrain.csv\")\n",
    "DATASET_PATH = os.path.dirname(DATASET_CSV)\n",
    "\n",
    "IMAGE_SIZE = (224, 224)\n",
    "\n",
    "dataset_df = pd.read_csv(DATASET_CSV, sep=\";\")\n",
    "dataset_df['file_name'] = dataset_df['file_name'].apply(lambda x: os.path.join(DATASET_PATH, x))\n",
    "\n",
    "dataset_df['label'] = dataset_df['label'].astype(str)\n",
    "dataset_df['binary_label'] = dataset_df['binary_label'].astype(str)\n",
    "dataset_df['detector_label'] = dataset_df['detector_label'].astype(str)\n",
    "\n",
    "train_dataframe = dataset_df[dataset_df['subset'] == \"train\"]\n",
    "validation_dataframe = dataset_df[dataset_df['subset'] == \"validation\"]\n",
    "test_dataframe = dataset_df[dataset_df['subset'] == \"test\"]"
   ],
   "id": "a43e11942a5eaea6",
   "outputs": [],
   "execution_count": null
  },
  {
   "metadata": {},
   "cell_type": "code",
   "source": [
    "IMAGE_SIZE = (224, 224)\n",
    "\n",
    "data_gen = ImageDataGenerator(\n",
    "    preprocessing_function=tf.keras.applications.mobilenet_v2.preprocess_input,\n",
    ")\n",
    "images = data_gen.flow_from_dataframe(\n",
    "    dataframe=train_dataframe,\n",
    "    x_col=\"file_name\",\n",
    "    y_col=\"binary_label\",\n",
    "    target_size=IMAGE_SIZE,\n",
    "    color_mode=\"rgb\",  # 🔥 Asegurar que las imágenes sean RGB (3 canales)\n",
    "    class_mode=\"binary\",\n",
    "    batch_size=1,\n",
    "    shuffle=False\n",
    ")\n",
    "\n",
    "data_augmentation = ImageDataGenerator(\n",
    "    preprocessing_function=tf.keras.applications.mobilenet_v2.preprocess_input,\n",
    "    horizontal_flip=True,\n",
    "    vertical_flip=True,\n",
    "    rotation_range=30,\n",
    "    fill_mode=\"constant\",\n",
    ")\n",
    "images_edited = data_augmentation.flow_from_dataframe(\n",
    "    dataframe=train_dataframe,\n",
    "    x_col=\"file_name\",\n",
    "    y_col=\"binary_label\",\n",
    "    target_size=IMAGE_SIZE,\n",
    "    color_mode=\"rgb\",  # 🔥 Asegurar que las imágenes sean RGB (3 canales)\n",
    "    class_mode=\"binary\",\n",
    "    batch_size=1,\n",
    "    shuffle=False\n",
    ")\n"
   ],
   "id": "1205bf56386dfaad",
   "outputs": [],
   "execution_count": null
  },
  {
   "metadata": {},
   "cell_type": "code",
   "source": [
    "INDEX = 3504\n",
    "\n",
    "image_batch, label_batch = images[INDEX]\n",
    "image = image_batch[0]\n",
    "img = (image + 1.0) * 127.5\n",
    "imagen_original = np.clip(img, 0, 255).astype(np.uint8)\n",
    "label_original = int(label_batch[0])\n",
    "\n",
    "image_batch, label_batch = images_edited[INDEX]\n",
    "image = image_batch[0]\n",
    "img = (image + 1.0) * 127.5\n",
    "imagen_edited = np.clip(img, 0, 255).astype(np.uint8)\n",
    "label_edited = int(label_batch[0])\n",
    "\n",
    "fig, axes = plt.subplots(1, 2, figsize=(10, 5))\n",
    "\n",
    "axes[0].imshow(imagen_original)\n",
    "axes[0].set_title(f\"Original Image, Class: {label_original}\")\n",
    "axes[0].axis(\"off\")\n",
    "\n",
    "axes[1].imshow(imagen_edited)\n",
    "axes[1].set_title(f\"Edited Image, Class: {label_edited}\")\n",
    "axes[1].axis(\"off\")\n",
    "\n",
    "plt.show()"
   ],
   "id": "ce3d61d6c03d31a6",
   "outputs": [],
   "execution_count": null
  },
  {
   "metadata": {},
   "cell_type": "code",
   "source": "",
   "id": "d5d221fe4299c9cf",
   "outputs": [],
   "execution_count": null
  }
 ],
 "metadata": {
  "kernelspec": {
   "display_name": "Python [conda env:TFG] *",
   "language": "python",
   "name": "conda-env-TFG-py"
  },
  "language_info": {
   "codemirror_mode": {
    "name": "ipython",
    "version": 2
   },
   "file_extension": ".py",
   "mimetype": "text/x-python",
   "name": "python",
   "nbconvert_exporter": "python",
   "pygments_lexer": "ipython2",
   "version": "2.7.6"
  }
 },
 "nbformat": 4,
 "nbformat_minor": 5
}
