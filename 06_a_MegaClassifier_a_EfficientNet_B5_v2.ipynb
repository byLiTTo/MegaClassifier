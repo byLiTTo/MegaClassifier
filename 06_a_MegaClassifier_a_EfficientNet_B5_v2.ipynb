{
 "cells": [
  {
   "cell_type": "code",
   "execution_count": 19,
   "metadata": {},
   "outputs": [],
   "source": [
    "import os\n",
    "\n",
    "import numpy as np\n",
    "import pandas as pd\n",
    "import tensorflow as tf\n",
    "import tensorflow_addons as tfa\n",
    "from sklearn.metrics import auc, confusion_matrix, roc_curve\n",
    "from tensorflow.keras.callbacks import TensorBoard\n",
    "from tensorflow.keras.metrics import AUC, BinaryAccuracy, Precision, Recall\n",
    "from tensorflow.keras.preprocessing.image import ImageDataGenerator\n",
    "\n",
    "import src.graphics as graphics"
   ]
  },
  {
   "cell_type": "code",
   "execution_count": 20,
   "metadata": {},
   "outputs": [],
   "source": [
    "VERSION = 2\n",
    "MODEL_BASE_NAME = \"MegaClassifier_a_EfficientNetB5\"\n",
    "\n",
    "DATASET_CSV = os.path.abspath(\n",
    "    \"./data/processed/onlyDetectionsForTrain/onlyDetectionsForTrain.csv\"\n",
    ")\n",
    "DATASET_PATH = os.path.dirname(DATASET_CSV)"
   ]
  },
  {
   "cell_type": "code",
   "execution_count": 21,
   "metadata": {},
   "outputs": [],
   "source": [
    "dataset = pd.read_csv(DATASET_CSV, sep=\";\")\n",
    "dataset[\"file_name\"] = dataset[\"file_name\"].apply(\n",
    "    lambda x: os.path.join(DATASET_PATH, x)\n",
    ")\n",
    "dataset[\"binary_label\"] = dataset[\"binary_label\"].astype(str)\n",
    "\n",
    "train_dataset = dataset[dataset[\"subset\"] == \"train\"]\n",
    "validationtrain_dataset = dataset[dataset[\"subset\"] == \"validation\"]\n",
    "test_dataset = dataset[dataset[\"subset\"] == \"test\"]\n",
    "\n",
    "EPOCHS = 10\n",
    "IMAGE_SIZE = (456, 456)\n",
    "IMAGE_SHAPE = IMAGE_SIZE + (3,)\n",
    "SEED = 42"
   ]
  },
  {
   "cell_type": "code",
   "execution_count": 22,
   "metadata": {},
   "outputs": [],
   "source": [
    "OPTIMIZERS = {\"Adam\": tf.keras.optimizers.legacy.Adam()}"
   ]
  },
  {
   "cell_type": "code",
   "execution_count": 23,
   "metadata": {},
   "outputs": [
    {
     "name": "stderr",
     "output_type": "stream",
     "text": [
      "/var/folders/fy/xnmbh7m55bjghqdjfps53_j00000gn/T/ipykernel_74470/1556420298.py:6: RuntimeWarning: invalid value encountered in scalar divide\n",
      "  weight_for_0 = total_samples / (2 * num_class_0)\n",
      "/var/folders/fy/xnmbh7m55bjghqdjfps53_j00000gn/T/ipykernel_74470/1556420298.py:7: RuntimeWarning: invalid value encountered in scalar divide\n",
      "  weight_for_1 = total_samples / (2 * num_class_1)\n"
     ]
    }
   ],
   "source": [
    "num_class_0 = (train_dataset[\"binary_label\"] == 0).sum()\n",
    "num_class_1 = (train_dataset[\"binary_label\"] == 1).sum()\n",
    "\n",
    "total_samples = num_class_0 + num_class_1\n",
    "\n",
    "weight_for_0 = total_samples / (2 * num_class_0)\n",
    "weight_for_1 = total_samples / (2 * num_class_1)\n",
    "\n",
    "class_weights = {0: weight_for_0, 1: weight_for_1}"
   ]
  },
  {
   "cell_type": "code",
   "execution_count": 24,
   "metadata": {},
   "outputs": [],
   "source": [
    "LOSS_FUNCTIONS = {\n",
    "    \"BinaryCrossentropy\": tf.keras.losses.BinaryCrossentropy(),\n",
    "    \"BinaryCrossentropyWeighted\": tf.keras.losses.BinaryCrossentropy(),\n",
    "}"
   ]
  },
  {
   "cell_type": "code",
   "execution_count": 25,
   "metadata": {},
   "outputs": [],
   "source": [
    "METRICS = [\n",
    "    BinaryAccuracy(name=\"accuracy\"),\n",
    "    Precision(name=\"precision\"),\n",
    "    Recall(name=\"recall\"),\n",
    "    AUC(name=\"auc\"),\n",
    "]"
   ]
  },
  {
   "cell_type": "code",
   "execution_count": 26,
   "metadata": {},
   "outputs": [],
   "source": [
    "BATCH_SIZE = 16"
   ]
  },
  {
   "cell_type": "code",
   "execution_count": null,
   "metadata": {},
   "outputs": [],
   "source": [
    "SUBVERSION = 0\n",
    "for LOSS_FUNCTION in LOSS_FUNCTIONS:\n",
    "    LOGS_PATH = os.path.abspath(\n",
    "        f\"./logs/{MODEL_BASE_NAME}/v{VERSION}/v{VERSION}.{SUBVERSION}\"\n",
    "    )\n",
    "    MODELS_PATH = os.path.abspath(\n",
    "        f\"./models/{MODEL_BASE_NAME}/v{VERSION}/v{VERSION}.{SUBVERSION}\"\n",
    "    )\n",
    "    REPORTS_PATH = os.path.abspath(\n",
    "        f\"./reports/{MODEL_BASE_NAME}/v{VERSION}/v{VERSION}.{SUBVERSION}\"\n",
    "    )\n",
    "\n",
    "    MODEL_COMPLETE_NAME = f\"{MODEL_BASE_NAME} v{VERSION}.{SUBVERSION}\"\n",
    "\n",
    "    train_datagen = ImageDataGenerator(\n",
    "        preprocessing_function=tf.keras.applications.efficientnet.preprocess_input,\n",
    "    )\n",
    "    train_images = train_datagen.flow_from_dataframe(\n",
    "        dataframe=train_dataset,\n",
    "        x_col=\"file_name\",\n",
    "        y_col=\"binary_label\",\n",
    "        target_size=IMAGE_SIZE,\n",
    "        batch_size=BATCH_SIZE,\n",
    "        class_mode=\"binary\",\n",
    "        shuffle=True,\n",
    "        seed=SEED,\n",
    "    )\n",
    "\n",
    "    datagen = ImageDataGenerator(\n",
    "        preprocessing_function=tf.keras.applications.efficientnet.preprocess_input,\n",
    "    )\n",
    "    validation_images = datagen.flow_from_dataframe(\n",
    "        dataframe=validationtrain_dataset,\n",
    "        x_col=\"file_name\",\n",
    "        y_col=\"binary_label\",\n",
    "        target_size=IMAGE_SIZE,\n",
    "        batch_size=BATCH_SIZE,\n",
    "        class_mode=\"binary\",\n",
    "        shuffle=True,\n",
    "        seed=SEED,\n",
    "    )\n",
    "    test_images = datagen.flow_from_dataframe(\n",
    "        dataframe=test_dataset,\n",
    "        x_col=\"file_name\",\n",
    "        y_col=\"binary_label\",\n",
    "        target_size=IMAGE_SIZE,\n",
    "        batch_size=BATCH_SIZE,\n",
    "        class_mode=\"binary\",\n",
    "        shuffle=False,\n",
    "        seed=SEED,\n",
    "    )\n",
    "\n",
    "    pretrained_model = tf.keras.applications.EfficientNetB5(\n",
    "        weights=\"imagenet\",\n",
    "        include_top=False,\n",
    "        input_shape=IMAGE_SHAPE,\n",
    "    )\n",
    "    pretrained_model.trainable = False\n",
    "\n",
    "    model = tf.keras.Sequential(\n",
    "        [\n",
    "            pretrained_model,\n",
    "            tf.keras.layers.GlobalAveragePooling2D(),\n",
    "            tf.keras.layers.Dense(1, activation=\"sigmoid\"),\n",
    "        ],\n",
    "        name=f\"{MODEL_BASE_NAME}_v{VERSION}.{SUBVERSION}\",\n",
    "    )\n",
    "\n",
    "    model.compile(\n",
    "        optimizer=OPTIMIZERS[\"Adam\"],\n",
    "        loss=LOSS_FUNCTIONS[LOSS_FUNCTION],\n",
    "        metrics=METRICS,\n",
    "    )\n",
    "\n",
    "    history = model.fit(\n",
    "        train_images,\n",
    "        epochs=EPOCHS,\n",
    "        validation_data=validation_images,\n",
    "        callbacks=[TensorBoard(log_dir=LOGS_PATH)],\n",
    "        class_weight=class_weights\n",
    "        if LOSS_FUNCTION == \"BinaryCrossentropyWeighted\"\n",
    "        else None,\n",
    "    )\n",
    "\n",
    "    dataframe = pd.DataFrame(history.history)\n",
    "    history_path = os.path.join(LOGS_PATH, f\"history_v{VERSION}.{SUBVERSION}.csv\")\n",
    "    dataframe.to_csv(history_path, sep=\";\", index=False)\n",
    "\n",
    "    os.makedirs(REPORTS_PATH, exist_ok=True)\n",
    "    accuracy_chart = graphics.create_training_accuracy_chart(\n",
    "        history_path=history_path,\n",
    "        model_name=MODEL_COMPLETE_NAME,\n",
    "    )\n",
    "    accuracy_chart.write_image(f\"{REPORTS_PATH}/accuracy_v{VERSION}.{SUBVERSION}.png\")\n",
    "\n",
    "    loss_chart = graphics.create_training_loss_chart(\n",
    "        history_path=history_path,\n",
    "        model_name=MODEL_COMPLETE_NAME,\n",
    "    )\n",
    "    loss_chart.write_image(f\"{REPORTS_PATH}/loss_v{VERSION}.{SUBVERSION}.png\")\n",
    "\n",
    "    os.makedirs(MODELS_PATH, exist_ok=True)\n",
    "    model.save(MODELS_PATH)\n",
    "\n",
    "    results = model.evaluate(test_images)\n",
    "    metric_names = history.model.metrics_names\n",
    "    evaluation_results = {\n",
    "        (\"test_\" + name): value for name, value in zip(metric_names, results)\n",
    "    }\n",
    "\n",
    "    evaluation = pd.DataFrame([evaluation_results])\n",
    "    evaluation.to_csv(\n",
    "        os.path.join(LOGS_PATH, f\"evaluation_v{VERSION}.{SUBVERSION}.csv\"),\n",
    "        sep=\";\",\n",
    "        index=False,\n",
    "    )\n",
    "\n",
    "    y_pred_prob = model.predict(test_images)\n",
    "    y_true = test_images.labels\n",
    "\n",
    "    fpr, tpr, thresholds = roc_curve(y_true, y_pred_prob)\n",
    "    roc_auc = auc(fpr, tpr)\n",
    "\n",
    "    roc_curve_chart = graphics.create_roc_curve_chart(\n",
    "        fpr=fpr,\n",
    "        tpr=tpr,\n",
    "        roc_auc=roc_auc,\n",
    "        model_name=MODEL_COMPLETE_NAME,\n",
    "    )\n",
    "    roc_curve_chart.write_image(f\"{REPORTS_PATH}/roc_curve_v{VERSION}.{SUBVERSION}.png\")\n",
    "\n",
    "    optimal_idx = np.argmax(tpr - fpr)\n",
    "    optimal_threshold = thresholds[optimal_idx]\n",
    "\n",
    "    # y_pred_prob = y_pred_prob.flatten()\n",
    "    y_pred_class = (y_pred_prob > optimal_threshold).astype(int)\n",
    "    conf_matrix = confusion_matrix(y_true, y_pred_class)\n",
    "    conf_matrix_text = [[str(value) for value in row] for row in conf_matrix]\n",
    "\n",
    "    # Crear el gráfico correctamente\n",
    "    confusion_matrix_chart = graphics.create_confusion_matrix_chart(\n",
    "        conf_matrix=conf_matrix,\n",
    "        conf_matrix_text=conf_matrix_text,\n",
    "        model_name=MODEL_COMPLETE_NAME,\n",
    "    )\n",
    "    confusion_matrix_chart.write_image(\n",
    "        f\"{REPORTS_PATH}/confusion_matrix_optimal_v{VERSION}.{SUBVERSION}.png\"\n",
    "    )\n",
    "\n",
    "    y_pred_class = (y_pred_prob > 0.5).astype(int)\n",
    "    conf_matrix = confusion_matrix(y_true, y_pred_class)\n",
    "    conf_matrix_text = [[str(value) for value in row] for row in conf_matrix]\n",
    "\n",
    "    confusion_matrix_chart = graphics.create_confusion_matrix_chart(\n",
    "        conf_matrix=conf_matrix,\n",
    "        conf_matrix_text=conf_matrix_text,\n",
    "        model_name=MODEL_COMPLETE_NAME,\n",
    "    )\n",
    "    confusion_matrix_chart.write_image(\n",
    "        f\"{REPORTS_PATH}/confusion_matrix_v{VERSION}.{SUBVERSION}.png\"\n",
    "    )\n",
    "\n",
    "    SUBVERSION += 1\n",
    "    print(\"\\n\\n\")\n"
   ]
  },
  {
   "cell_type": "code",
   "execution_count": 28,
   "metadata": {},
   "outputs": [],
   "source": [
    "LOSS_FUNCTIONS = {\n",
    "    \"BinaryFocalCrossentropy\": lambda x, y: tf.keras.losses.BinaryFocalCrossentropy(\n",
    "        alpha=x, gamma=y\n",
    "    ),\n",
    "    \"SigmoidFocalCrossEntropy\": lambda x, y: tfa.losses.SigmoidFocalCrossEntropy(\n",
    "        alpha=x, gamma=y\n",
    "    ),\n",
    "}\n",
    "\n",
    "ALPHAS = [0.25, 0.4, 0.6, 0.75]\n",
    "GAMMAS = [1.0, 2.0, 3.0]"
   ]
  },
  {
   "cell_type": "code",
   "execution_count": 29,
   "metadata": {},
   "outputs": [
    {
     "name": "stdout",
     "output_type": "stream",
     "text": [
      "Found 17906 validated image filenames belonging to 2 classes.\n",
      "Found 4286 validated image filenames belonging to 2 classes.\n",
      "Found 4286 validated image filenames belonging to 2 classes.\n",
      "Epoch 1/10\n"
     ]
    },
    {
     "name": "stderr",
     "output_type": "stream",
     "text": [
      "2025-03-04 06:18:53.337282: I tensorflow/core/grappler/optimizers/custom_graph_optimizer_registry.cc:114] Plugin optimizer for device_type GPU is enabled.\n"
     ]
    },
    {
     "name": "stdout",
     "output_type": "stream",
     "text": [
      "1120/1120 [==============================] - ETA: 0s - loss: 0.0986 - accuracy: 0.8051 - precision: 0.9430 - recall: 0.7777 - auc: 0.7764"
     ]
    },
    {
     "name": "stderr",
     "output_type": "stream",
     "text": [
      "2025-03-04 06:36:56.376400: I tensorflow/core/grappler/optimizers/custom_graph_optimizer_registry.cc:114] Plugin optimizer for device_type GPU is enabled.\n"
     ]
    },
    {
     "name": "stdout",
     "output_type": "stream",
     "text": [
      "1120/1120 [==============================] - 1338s 1s/step - loss: 0.0986 - accuracy: 0.8051 - precision: 0.9430 - recall: 0.7777 - auc: 0.7764 - val_loss: 0.0754 - val_accuracy: 0.9440 - val_precision: 0.9558 - val_recall: 0.9598 - val_auc: 0.9854\n",
      "Epoch 2/10\n",
      "1120/1120 [==============================] - 1328s 1s/step - loss: 0.0822 - accuracy: 0.9319 - precision: 0.9527 - recall: 0.9553 - auc: 0.9797 - val_loss: 0.0723 - val_accuracy: 0.9459 - val_precision: 0.9735 - val_recall: 0.9439 - val_auc: 0.9860\n",
      "Epoch 3/10\n",
      "1120/1120 [==============================] - 1328s 1s/step - loss: 0.0762 - accuracy: 0.9364 - precision: 0.9577 - recall: 0.9561 - auc: 0.9826 - val_loss: 0.0706 - val_accuracy: 0.9496 - val_precision: 0.9726 - val_recall: 0.9506 - val_auc: 0.9863\n",
      "Epoch 4/10\n",
      "1120/1120 [==============================] - 1328s 1s/step - loss: 0.0732 - accuracy: 0.9397 - precision: 0.9589 - recall: 0.9596 - auc: 0.9839 - val_loss: 0.0689 - val_accuracy: 0.9510 - val_precision: 0.9617 - val_recall: 0.9644 - val_auc: 0.9873\n",
      "Epoch 5/10\n",
      "1120/1120 [==============================] - 1327s 1s/step - loss: 0.0719 - accuracy: 0.9407 - precision: 0.9603 - recall: 0.9595 - auc: 0.9845 - val_loss: 0.0692 - val_accuracy: 0.9508 - val_precision: 0.9716 - val_recall: 0.9535 - val_auc: 0.9877\n",
      "Epoch 6/10\n",
      "1120/1120 [==============================] - 1328s 1s/step - loss: 0.0703 - accuracy: 0.9433 - precision: 0.9625 - recall: 0.9606 - auc: 0.9852 - val_loss: 0.0688 - val_accuracy: 0.9482 - val_precision: 0.9576 - val_recall: 0.9644 - val_auc: 0.9877\n",
      "Epoch 7/10\n",
      "1120/1120 [==============================] - 1330s 1s/step - loss: 0.0678 - accuracy: 0.9458 - precision: 0.9631 - recall: 0.9636 - auc: 0.9862 - val_loss: 0.0715 - val_accuracy: 0.9440 - val_precision: 0.9485 - val_recall: 0.9679 - val_auc: 0.9875\n",
      "Epoch 8/10\n",
      "1120/1120 [==============================] - 1329s 1s/step - loss: 0.0667 - accuracy: 0.9447 - precision: 0.9638 - recall: 0.9613 - auc: 0.9866 - val_loss: 0.0672 - val_accuracy: 0.9503 - val_precision: 0.9676 - val_recall: 0.9570 - val_auc: 0.9880\n",
      "Epoch 9/10\n",
      "1120/1120 [==============================] - 1328s 1s/step - loss: 0.0660 - accuracy: 0.9478 - precision: 0.9645 - recall: 0.9649 - auc: 0.9870 - val_loss: 0.0660 - val_accuracy: 0.9503 - val_precision: 0.9636 - val_recall: 0.9612 - val_auc: 0.9884\n",
      "Epoch 10/10\n",
      "1120/1120 [==============================] - 1326s 1s/step - loss: 0.0651 - accuracy: 0.9474 - precision: 0.9659 - recall: 0.9627 - auc: 0.9873 - val_loss: 0.0683 - val_accuracy: 0.9505 - val_precision: 0.9616 - val_recall: 0.9637 - val_auc: 0.9877\n",
      "INFO:tensorflow:Assets written to: /Users/litto/WORKSPACE/MegaClassifier/models/MegaClassifier_a_EfficientNetB5/v2/v2.2.0.0/assets\n"
     ]
    },
    {
     "name": "stderr",
     "output_type": "stream",
     "text": [
      "INFO:tensorflow:Assets written to: /Users/litto/WORKSPACE/MegaClassifier/models/MegaClassifier_a_EfficientNetB5/v2/v2.2.0.0/assets\n"
     ]
    },
    {
     "name": "stdout",
     "output_type": "stream",
     "text": [
      "268/268 [==============================] - 252s 940ms/step - loss: 0.0561 - accuracy: 0.9568 - precision: 0.9715 - recall: 0.9630 - auc: 0.9916\n"
     ]
    },
    {
     "name": "stderr",
     "output_type": "stream",
     "text": [
      "2025-03-04 10:04:55.445088: I tensorflow/core/grappler/optimizers/custom_graph_optimizer_registry.cc:114] Plugin optimizer for device_type GPU is enabled.\n"
     ]
    },
    {
     "name": "stdout",
     "output_type": "stream",
     "text": [
      "268/268 [==============================] - 253s 935ms/step\n",
      "Found 17906 validated image filenames belonging to 2 classes.\n",
      "Found 4286 validated image filenames belonging to 2 classes.\n",
      "Found 4286 validated image filenames belonging to 2 classes.\n",
      "Epoch 1/10\n"
     ]
    },
    {
     "name": "stderr",
     "output_type": "stream",
     "text": [
      "2025-03-04 10:09:13.921517: I tensorflow/core/grappler/optimizers/custom_graph_optimizer_registry.cc:114] Plugin optimizer for device_type GPU is enabled.\n"
     ]
    },
    {
     "name": "stdout",
     "output_type": "stream",
     "text": [
      "1120/1120 [==============================] - ETA: 0s - loss: 0.0517 - accuracy: 0.9231 - precision: 0.9473 - recall: 0.9463 - auc: 0.9753"
     ]
    },
    {
     "name": "stderr",
     "output_type": "stream",
     "text": [
      "2025-03-04 10:27:54.317545: I tensorflow/core/grappler/optimizers/custom_graph_optimizer_registry.cc:114] Plugin optimizer for device_type GPU is enabled.\n"
     ]
    },
    {
     "name": "stdout",
     "output_type": "stream",
     "text": [
      "1120/1120 [==============================] - 1386s 1s/step - loss: 0.0517 - accuracy: 0.9231 - precision: 0.9473 - recall: 0.9463 - auc: 0.9753 - val_loss: 0.0429 - val_accuracy: 0.9356 - val_precision: 0.9372 - val_recall: 0.9676 - val_auc: 0.9838\n",
      "Epoch 2/10\n",
      "1120/1120 [==============================] - 1377s 1s/step - loss: 0.0426 - accuracy: 0.9340 - precision: 0.9560 - recall: 0.9546 - auc: 0.9797 - val_loss: 0.0387 - val_accuracy: 0.9447 - val_precision: 0.9511 - val_recall: 0.9661 - val_auc: 0.9863\n",
      "Epoch 3/10\n",
      "1120/1120 [==============================] - 1376s 1s/step - loss: 0.0390 - accuracy: 0.9385 - precision: 0.9593 - recall: 0.9573 - auc: 0.9829 - val_loss: 0.0361 - val_accuracy: 0.9496 - val_precision: 0.9662 - val_recall: 0.9573 - val_auc: 0.9877\n",
      "Epoch 4/10\n",
      "1120/1120 [==============================] - 1375s 1s/step - loss: 0.0374 - accuracy: 0.9400 - precision: 0.9601 - recall: 0.9586 - auc: 0.9843 - val_loss: 0.0374 - val_accuracy: 0.9461 - val_precision: 0.9684 - val_recall: 0.9496 - val_auc: 0.9872\n",
      "Epoch 5/10\n",
      "1120/1120 [==============================] - 1376s 1s/step - loss: 0.0369 - accuracy: 0.9412 - precision: 0.9603 - recall: 0.9602 - auc: 0.9847 - val_loss: 0.0357 - val_accuracy: 0.9466 - val_precision: 0.9680 - val_recall: 0.9506 - val_auc: 0.9881\n",
      "Epoch 6/10\n",
      "1120/1120 [==============================] - 1376s 1s/step - loss: 0.0359 - accuracy: 0.9424 - precision: 0.9625 - recall: 0.9594 - auc: 0.9855 - val_loss: 0.0365 - val_accuracy: 0.9468 - val_precision: 0.9525 - val_recall: 0.9679 - val_auc: 0.9881\n",
      "Epoch 7/10\n",
      "1120/1120 [==============================] - 1377s 1s/step - loss: 0.0351 - accuracy: 0.9440 - precision: 0.9625 - recall: 0.9616 - auc: 0.9862 - val_loss: 0.0396 - val_accuracy: 0.9454 - val_precision: 0.9804 - val_recall: 0.9362 - val_auc: 0.9874\n",
      "Epoch 8/10\n",
      "1120/1120 [==============================] - 1376s 1s/step - loss: 0.0341 - accuracy: 0.9459 - precision: 0.9640 - recall: 0.9627 - auc: 0.9870 - val_loss: 0.0357 - val_accuracy: 0.9501 - val_precision: 0.9581 - val_recall: 0.9669 - val_auc: 0.9885\n",
      "Epoch 9/10\n",
      "1120/1120 [==============================] - 1375s 1s/step - loss: 0.0337 - accuracy: 0.9482 - precision: 0.9659 - recall: 0.9639 - auc: 0.9873 - val_loss: 0.0360 - val_accuracy: 0.9477 - val_precision: 0.9615 - val_recall: 0.9594 - val_auc: 0.9880\n",
      "Epoch 10/10\n",
      "1120/1120 [==============================] - 1377s 1s/step - loss: 0.0333 - accuracy: 0.9459 - precision: 0.9652 - recall: 0.9615 - auc: 0.9875 - val_loss: 0.0359 - val_accuracy: 0.9496 - val_precision: 0.9619 - val_recall: 0.9619 - val_auc: 0.9883\n",
      "INFO:tensorflow:Assets written to: /Users/litto/WORKSPACE/MegaClassifier/models/MegaClassifier_a_EfficientNetB5/v2/v2.2.0.1/assets\n"
     ]
    },
    {
     "name": "stderr",
     "output_type": "stream",
     "text": [
      "INFO:tensorflow:Assets written to: /Users/litto/WORKSPACE/MegaClassifier/models/MegaClassifier_a_EfficientNetB5/v2/v2.2.0.1/assets\n"
     ]
    },
    {
     "name": "stdout",
     "output_type": "stream",
     "text": [
      "268/268 [==============================] - 261s 973ms/step - loss: 0.0294 - accuracy: 0.9571 - precision: 0.9726 - recall: 0.9623 - auc: 0.9917\n"
     ]
    },
    {
     "name": "stderr",
     "output_type": "stream",
     "text": [
      "2025-03-04 14:03:27.203086: I tensorflow/core/grappler/optimizers/custom_graph_optimizer_registry.cc:114] Plugin optimizer for device_type GPU is enabled.\n"
     ]
    },
    {
     "name": "stdout",
     "output_type": "stream",
     "text": [
      "268/268 [==============================] - 262s 968ms/step\n",
      "Found 17906 validated image filenames belonging to 2 classes.\n",
      "Found 4286 validated image filenames belonging to 2 classes.\n",
      "Found 4286 validated image filenames belonging to 2 classes.\n",
      "Epoch 1/10\n"
     ]
    },
    {
     "name": "stderr",
     "output_type": "stream",
     "text": [
      "2025-03-04 14:07:56.707643: I tensorflow/core/grappler/optimizers/custom_graph_optimizer_registry.cc:114] Plugin optimizer for device_type GPU is enabled.\n"
     ]
    },
    {
     "name": "stdout",
     "output_type": "stream",
     "text": [
      "1120/1120 [==============================] - ETA: 0s - loss: 0.0274 - accuracy: 0.9232 - precision: 0.9479 - recall: 0.9460 - auc: 0.9750"
     ]
    },
    {
     "name": "stderr",
     "output_type": "stream",
     "text": [
      "2025-03-04 14:26:51.145159: I tensorflow/core/grappler/optimizers/custom_graph_optimizer_registry.cc:114] Plugin optimizer for device_type GPU is enabled.\n"
     ]
    },
    {
     "name": "stdout",
     "output_type": "stream",
     "text": [
      "1120/1120 [==============================] - 1406s 1s/step - loss: 0.0274 - accuracy: 0.9232 - precision: 0.9479 - recall: 0.9460 - auc: 0.9750 - val_loss: 0.0206 - val_accuracy: 0.9412 - val_precision: 0.9658 - val_recall: 0.9446 - val_auc: 0.9851\n",
      "Epoch 2/10\n",
      "1120/1120 [==============================] - 1391s 1s/step - loss: 0.0217 - accuracy: 0.9318 - precision: 0.9537 - recall: 0.9539 - auc: 0.9800 - val_loss: 0.0209 - val_accuracy: 0.9440 - val_precision: 0.9454 - val_recall: 0.9714 - val_auc: 0.9865\n",
      "Epoch 3/10\n",
      "1120/1120 [==============================] - 1391s 1s/step - loss: 0.0201 - accuracy: 0.9368 - precision: 0.9579 - recall: 0.9565 - auc: 0.9828 - val_loss: 0.0190 - val_accuracy: 0.9480 - val_precision: 0.9612 - val_recall: 0.9602 - val_auc: 0.9875\n",
      "Epoch 4/10\n",
      "1120/1120 [==============================] - 1390s 1s/step - loss: 0.0194 - accuracy: 0.9417 - precision: 0.9617 - recall: 0.9593 - auc: 0.9841 - val_loss: 0.0189 - val_accuracy: 0.9482 - val_precision: 0.9580 - val_recall: 0.9640 - val_auc: 0.9880\n",
      "Epoch 5/10\n",
      "1120/1120 [==============================] - 1391s 1s/step - loss: 0.0192 - accuracy: 0.9407 - precision: 0.9616 - recall: 0.9580 - auc: 0.9845 - val_loss: 0.0251 - val_accuracy: 0.9328 - val_precision: 0.9241 - val_recall: 0.9788 - val_auc: 0.9869\n",
      "Epoch 6/10\n",
      "1120/1120 [==============================] - 1391s 1s/step - loss: 0.0187 - accuracy: 0.9417 - precision: 0.9613 - recall: 0.9597 - auc: 0.9852 - val_loss: 0.0192 - val_accuracy: 0.9484 - val_precision: 0.9658 - val_recall: 0.9559 - val_auc: 0.9872\n",
      "Epoch 7/10\n",
      "1120/1120 [==============================] - 1391s 1s/step - loss: 0.0177 - accuracy: 0.9455 - precision: 0.9634 - recall: 0.9628 - auc: 0.9867 - val_loss: 0.0186 - val_accuracy: 0.9487 - val_precision: 0.9671 - val_recall: 0.9549 - val_auc: 0.9886\n",
      "Epoch 8/10\n",
      "1120/1120 [==============================] - 1391s 1s/step - loss: 0.0177 - accuracy: 0.9447 - precision: 0.9633 - recall: 0.9618 - auc: 0.9868 - val_loss: 0.0197 - val_accuracy: 0.9468 - val_precision: 0.9608 - val_recall: 0.9587 - val_auc: 0.9875\n",
      "Epoch 9/10\n",
      "1120/1120 [==============================] - 1392s 1s/step - loss: 0.0176 - accuracy: 0.9450 - precision: 0.9640 - recall: 0.9615 - auc: 0.9870 - val_loss: 0.0195 - val_accuracy: 0.9475 - val_precision: 0.9701 - val_recall: 0.9499 - val_auc: 0.9880\n",
      "Epoch 10/10\n",
      "1120/1120 [==============================] - 1392s 1s/step - loss: 0.0174 - accuracy: 0.9462 - precision: 0.9640 - recall: 0.9632 - auc: 0.9872 - val_loss: 0.0196 - val_accuracy: 0.9466 - val_precision: 0.9624 - val_recall: 0.9566 - val_auc: 0.9876\n",
      "INFO:tensorflow:Assets written to: /Users/litto/WORKSPACE/MegaClassifier/models/MegaClassifier_a_EfficientNetB5/v2/v2.2.0.2/assets\n"
     ]
    },
    {
     "name": "stderr",
     "output_type": "stream",
     "text": [
      "INFO:tensorflow:Assets written to: /Users/litto/WORKSPACE/MegaClassifier/models/MegaClassifier_a_EfficientNetB5/v2/v2.2.0.2/assets\n"
     ]
    },
    {
     "name": "stdout",
     "output_type": "stream",
     "text": [
      "268/268 [==============================] - 264s 986ms/step - loss: 0.0154 - accuracy: 0.9561 - precision: 0.9756 - recall: 0.9577 - auc: 0.9919\n"
     ]
    },
    {
     "name": "stderr",
     "output_type": "stream",
     "text": [
      "2025-03-04 18:04:46.012288: I tensorflow/core/grappler/optimizers/custom_graph_optimizer_registry.cc:114] Plugin optimizer for device_type GPU is enabled.\n"
     ]
    },
    {
     "name": "stdout",
     "output_type": "stream",
     "text": [
      "268/268 [==============================] - 266s 981ms/step\n",
      "Found 17906 validated image filenames belonging to 2 classes.\n",
      "Found 4286 validated image filenames belonging to 2 classes.\n",
      "Found 4286 validated image filenames belonging to 2 classes.\n",
      "Epoch 1/10\n"
     ]
    },
    {
     "name": "stderr",
     "output_type": "stream",
     "text": [
      "2025-03-04 18:09:19.329329: I tensorflow/core/grappler/optimizers/custom_graph_optimizer_registry.cc:114] Plugin optimizer for device_type GPU is enabled.\n"
     ]
    },
    {
     "name": "stdout",
     "output_type": "stream",
     "text": [
      "1120/1120 [==============================] - ETA: 0s - loss: 0.0980 - accuracy: 0.9272 - precision: 0.9506 - recall: 0.9488 - auc: 0.9753"
     ]
    },
    {
     "name": "stderr",
     "output_type": "stream",
     "text": [
      "2025-03-04 18:28:17.171100: I tensorflow/core/grappler/optimizers/custom_graph_optimizer_registry.cc:114] Plugin optimizer for device_type GPU is enabled.\n"
     ]
    },
    {
     "name": "stdout",
     "output_type": "stream",
     "text": [
      "1120/1120 [==============================] - 1410s 1s/step - loss: 0.0980 - accuracy: 0.9272 - precision: 0.9506 - recall: 0.9488 - auc: 0.9753 - val_loss: 0.0754 - val_accuracy: 0.9407 - val_precision: 0.9578 - val_recall: 0.9524 - val_auc: 0.9847\n",
      "Epoch 2/10\n",
      "1120/1120 [==============================] - 1400s 1s/step - loss: 0.0814 - accuracy: 0.9329 - precision: 0.9540 - recall: 0.9553 - auc: 0.9801 - val_loss: 0.0713 - val_accuracy: 0.9482 - val_precision: 0.9628 - val_recall: 0.9587 - val_auc: 0.9864\n",
      "Epoch 3/10\n",
      "1120/1120 [==============================] - 1397s 1s/step - loss: 0.0763 - accuracy: 0.9353 - precision: 0.9566 - recall: 0.9559 - auc: 0.9825 - val_loss: 0.0702 - val_accuracy: 0.9473 - val_precision: 0.9708 - val_recall: 0.9489 - val_auc: 0.9866\n",
      "Epoch 4/10\n",
      "1120/1120 [==============================] - 1397s 1s/step - loss: 0.0726 - accuracy: 0.9407 - precision: 0.9611 - recall: 0.9585 - auc: 0.9842 - val_loss: 0.0695 - val_accuracy: 0.9496 - val_precision: 0.9712 - val_recall: 0.9520 - val_auc: 0.9871\n",
      "Epoch 5/10\n",
      "1120/1120 [==============================] - 1397s 1s/step - loss: 0.0720 - accuracy: 0.9407 - precision: 0.9601 - recall: 0.9596 - auc: 0.9845 - val_loss: 0.0684 - val_accuracy: 0.9468 - val_precision: 0.9592 - val_recall: 0.9605 - val_auc: 0.9877\n",
      "Epoch 6/10\n",
      "1120/1120 [==============================] - 1395s 1s/step - loss: 0.0703 - accuracy: 0.9420 - precision: 0.9624 - recall: 0.9590 - auc: 0.9852 - val_loss: 0.0675 - val_accuracy: 0.9498 - val_precision: 0.9699 - val_recall: 0.9538 - val_auc: 0.9876\n",
      "Epoch 7/10\n",
      "1120/1120 [==============================] - 1396s 1s/step - loss: 0.0676 - accuracy: 0.9452 - precision: 0.9636 - recall: 0.9622 - auc: 0.9863 - val_loss: 0.0683 - val_accuracy: 0.9475 - val_precision: 0.9602 - val_recall: 0.9605 - val_auc: 0.9874\n",
      "Epoch 8/10\n",
      "1120/1120 [==============================] - 1397s 1s/step - loss: 0.0664 - accuracy: 0.9465 - precision: 0.9649 - recall: 0.9626 - auc: 0.9868 - val_loss: 0.0670 - val_accuracy: 0.9510 - val_precision: 0.9646 - val_recall: 0.9612 - val_auc: 0.9880\n",
      "Epoch 9/10\n",
      "1120/1120 [==============================] - 1397s 1s/step - loss: 0.0661 - accuracy: 0.9465 - precision: 0.9643 - recall: 0.9633 - auc: 0.9869 - val_loss: 0.0670 - val_accuracy: 0.9498 - val_precision: 0.9729 - val_recall: 0.9506 - val_auc: 0.9883\n",
      "Epoch 10/10\n",
      "1120/1120 [==============================] - 1397s 1s/step - loss: 0.0647 - accuracy: 0.9481 - precision: 0.9660 - recall: 0.9637 - auc: 0.9874 - val_loss: 0.0670 - val_accuracy: 0.9489 - val_precision: 0.9606 - val_recall: 0.9623 - val_auc: 0.9883\n",
      "INFO:tensorflow:Assets written to: /Users/litto/WORKSPACE/MegaClassifier/models/MegaClassifier_a_EfficientNetB5/v2/v2.2.1.0/assets\n"
     ]
    },
    {
     "name": "stderr",
     "output_type": "stream",
     "text": [
      "INFO:tensorflow:Assets written to: /Users/litto/WORKSPACE/MegaClassifier/models/MegaClassifier_a_EfficientNetB5/v2/v2.2.1.0/assets\n"
     ]
    },
    {
     "name": "stdout",
     "output_type": "stream",
     "text": [
      "268/268 [==============================] - 266s 990ms/step - loss: 0.0559 - accuracy: 0.9561 - precision: 0.9688 - recall: 0.9647 - auc: 0.9918\n"
     ]
    },
    {
     "name": "stderr",
     "output_type": "stream",
     "text": [
      "2025-03-04 22:07:09.780493: I tensorflow/core/grappler/optimizers/custom_graph_optimizer_registry.cc:114] Plugin optimizer for device_type GPU is enabled.\n"
     ]
    },
    {
     "name": "stdout",
     "output_type": "stream",
     "text": [
      "268/268 [==============================] - 268s 987ms/step\n",
      "Found 17906 validated image filenames belonging to 2 classes.\n",
      "Found 4286 validated image filenames belonging to 2 classes.\n",
      "Found 4286 validated image filenames belonging to 2 classes.\n",
      "Epoch 1/10\n"
     ]
    },
    {
     "name": "stderr",
     "output_type": "stream",
     "text": [
      "2025-03-04 22:11:44.776506: I tensorflow/core/grappler/optimizers/custom_graph_optimizer_registry.cc:114] Plugin optimizer for device_type GPU is enabled.\n"
     ]
    },
    {
     "name": "stdout",
     "output_type": "stream",
     "text": [
      "1120/1120 [==============================] - ETA: 0s - loss: 0.0523 - accuracy: 0.9239 - precision: 0.9474 - recall: 0.9475 - auc: 0.9752"
     ]
    },
    {
     "name": "stderr",
     "output_type": "stream",
     "text": [
      "2025-03-04 22:30:48.523669: I tensorflow/core/grappler/optimizers/custom_graph_optimizer_registry.cc:114] Plugin optimizer for device_type GPU is enabled.\n"
     ]
    },
    {
     "name": "stdout",
     "output_type": "stream",
     "text": [
      "1120/1120 [==============================] - 1417s 1s/step - loss: 0.0523 - accuracy: 0.9239 - precision: 0.9474 - recall: 0.9475 - auc: 0.9752 - val_loss: 0.0392 - val_accuracy: 0.9412 - val_precision: 0.9726 - val_recall: 0.9376 - val_auc: 0.9853\n",
      "Epoch 2/10\n",
      "1120/1120 [==============================] - 1406s 1s/step - loss: 0.0415 - accuracy: 0.9335 - precision: 0.9552 - recall: 0.9548 - auc: 0.9807 - val_loss: 0.0393 - val_accuracy: 0.9433 - val_precision: 0.9460 - val_recall: 0.9697 - val_auc: 0.9866\n",
      "Epoch 3/10\n",
      "1120/1120 [==============================] - 1403s 1s/step - loss: 0.0392 - accuracy: 0.9347 - precision: 0.9568 - recall: 0.9546 - auc: 0.9827 - val_loss: 0.0353 - val_accuracy: 0.9512 - val_precision: 0.9653 - val_recall: 0.9609 - val_auc: 0.9879\n",
      "Epoch 4/10\n",
      "1120/1120 [==============================] - 1404s 1s/step - loss: 0.0369 - accuracy: 0.9400 - precision: 0.9607 - recall: 0.9580 - auc: 0.9847 - val_loss: 0.0365 - val_accuracy: 0.9456 - val_precision: 0.9607 - val_recall: 0.9570 - val_auc: 0.9873\n",
      "Epoch 5/10\n",
      "1120/1120 [==============================] - 1404s 1s/step - loss: 0.0368 - accuracy: 0.9414 - precision: 0.9607 - recall: 0.9599 - auc: 0.9848 - val_loss: 0.0365 - val_accuracy: 0.9456 - val_precision: 0.9748 - val_recall: 0.9422 - val_auc: 0.9881\n",
      "Epoch 6/10\n",
      "1120/1120 [==============================] - 1403s 1s/step - loss: 0.0358 - accuracy: 0.9454 - precision: 0.9642 - recall: 0.9618 - auc: 0.9857 - val_loss: 0.0350 - val_accuracy: 0.9470 - val_precision: 0.9624 - val_recall: 0.9573 - val_auc: 0.9885\n",
      "Epoch 7/10\n",
      "1120/1120 [==============================] - 1402s 1s/step - loss: 0.0349 - accuracy: 0.9452 - precision: 0.9640 - recall: 0.9618 - auc: 0.9864 - val_loss: 0.0349 - val_accuracy: 0.9482 - val_precision: 0.9648 - val_recall: 0.9566 - val_auc: 0.9886\n",
      "Epoch 8/10\n",
      "1120/1120 [==============================] - 1403s 1s/step - loss: 0.0338 - accuracy: 0.9459 - precision: 0.9643 - recall: 0.9625 - auc: 0.9872 - val_loss: 0.0365 - val_accuracy: 0.9484 - val_precision: 0.9715 - val_recall: 0.9499 - val_auc: 0.9881\n",
      "Epoch 9/10\n",
      "1120/1120 [==============================] - 1402s 1s/step - loss: 0.0339 - accuracy: 0.9463 - precision: 0.9651 - recall: 0.9622 - auc: 0.9872 - val_loss: 0.0413 - val_accuracy: 0.9410 - val_precision: 0.9421 - val_recall: 0.9704 - val_auc: 0.9867\n",
      "Epoch 10/10\n",
      "1120/1120 [==============================] - 1403s 1s/step - loss: 0.0334 - accuracy: 0.9459 - precision: 0.9640 - recall: 0.9627 - auc: 0.9875 - val_loss: 0.0377 - val_accuracy: 0.9452 - val_precision: 0.9693 - val_recall: 0.9471 - val_auc: 0.9880\n",
      "INFO:tensorflow:Assets written to: /Users/litto/WORKSPACE/MegaClassifier/models/MegaClassifier_a_EfficientNetB5/v2/v2.2.1.1/assets\n"
     ]
    },
    {
     "name": "stderr",
     "output_type": "stream",
     "text": [
      "INFO:tensorflow:Assets written to: /Users/litto/WORKSPACE/MegaClassifier/models/MegaClassifier_a_EfficientNetB5/v2/v2.2.1.1/assets\n"
     ]
    },
    {
     "name": "stdout",
     "output_type": "stream",
     "text": [
      "268/268 [==============================] - 266s 993ms/step - loss: 0.0310 - accuracy: 0.9540 - precision: 0.9839 - recall: 0.9461 - auc: 0.9916\n"
     ]
    },
    {
     "name": "stderr",
     "output_type": "stream",
     "text": [
      "2025-03-05 02:10:40.996529: I tensorflow/core/grappler/optimizers/custom_graph_optimizer_registry.cc:114] Plugin optimizer for device_type GPU is enabled.\n"
     ]
    },
    {
     "name": "stdout",
     "output_type": "stream",
     "text": [
      "268/268 [==============================] - 269s 989ms/step\n",
      "Found 17906 validated image filenames belonging to 2 classes.\n",
      "Found 4286 validated image filenames belonging to 2 classes.\n",
      "Found 4286 validated image filenames belonging to 2 classes.\n",
      "Epoch 1/10\n"
     ]
    },
    {
     "name": "stderr",
     "output_type": "stream",
     "text": [
      "2025-03-05 02:15:17.338001: I tensorflow/core/grappler/optimizers/custom_graph_optimizer_registry.cc:114] Plugin optimizer for device_type GPU is enabled.\n"
     ]
    },
    {
     "name": "stdout",
     "output_type": "stream",
     "text": [
      "1120/1120 [==============================] - ETA: 0s - loss: 0.0282 - accuracy: 0.9221 - precision: 0.9493 - recall: 0.9428 - auc: 0.9739"
     ]
    },
    {
     "name": "stderr",
     "output_type": "stream",
     "text": [
      "2025-03-05 02:34:38.689060: I tensorflow/core/grappler/optimizers/custom_graph_optimizer_registry.cc:114] Plugin optimizer for device_type GPU is enabled.\n"
     ]
    },
    {
     "name": "stdout",
     "output_type": "stream",
     "text": [
      "1120/1120 [==============================] - 1438s 1s/step - loss: 0.0282 - accuracy: 0.9221 - precision: 0.9493 - recall: 0.9428 - auc: 0.9739 - val_loss: 0.0266 - val_accuracy: 0.9277 - val_precision: 0.9314 - val_recall: 0.9616 - val_auc: 0.9782\n",
      "Epoch 2/10\n",
      "1120/1120 [==============================] - 1420s 1s/step - loss: 0.0216 - accuracy: 0.9325 - precision: 0.9541 - recall: 0.9546 - auc: 0.9801 - val_loss: 0.0202 - val_accuracy: 0.9475 - val_precision: 0.9582 - val_recall: 0.9626 - val_auc: 0.9862\n",
      "Epoch 3/10\n",
      "1120/1120 [==============================] - 1418s 1s/step - loss: 0.0202 - accuracy: 0.9357 - precision: 0.9576 - recall: 0.9553 - auc: 0.9826 - val_loss: 0.0214 - val_accuracy: 0.9424 - val_precision: 0.9456 - val_recall: 0.9686 - val_auc: 0.9860\n",
      "Epoch 4/10\n",
      "1120/1120 [==============================] - 1417s 1s/step - loss: 0.0192 - accuracy: 0.9405 - precision: 0.9600 - recall: 0.9595 - auc: 0.9844 - val_loss: 0.0189 - val_accuracy: 0.9491 - val_precision: 0.9616 - val_recall: 0.9616 - val_auc: 0.9878\n",
      "Epoch 5/10\n",
      "1120/1120 [==============================] - 1420s 1s/step - loss: 0.0190 - accuracy: 0.9402 - precision: 0.9607 - recall: 0.9582 - auc: 0.9846 - val_loss: 0.0191 - val_accuracy: 0.9456 - val_precision: 0.9591 - val_recall: 0.9587 - val_auc: 0.9873\n",
      "Epoch 6/10\n",
      "1120/1120 [==============================] - 1418s 1s/step - loss: 0.0185 - accuracy: 0.9425 - precision: 0.9620 - recall: 0.9602 - auc: 0.9855 - val_loss: 0.0190 - val_accuracy: 0.9480 - val_precision: 0.9658 - val_recall: 0.9552 - val_auc: 0.9878\n",
      "Epoch 7/10\n",
      "1120/1120 [==============================] - 1417s 1s/step - loss: 0.0178 - accuracy: 0.9461 - precision: 0.9647 - recall: 0.9622 - auc: 0.9866 - val_loss: 0.0190 - val_accuracy: 0.9468 - val_precision: 0.9585 - val_recall: 0.9612 - val_auc: 0.9880\n",
      "Epoch 8/10\n",
      "1120/1120 [==============================] - 1417s 1s/step - loss: 0.0175 - accuracy: 0.9445 - precision: 0.9633 - recall: 0.9615 - auc: 0.9871 - val_loss: 0.0195 - val_accuracy: 0.9482 - val_precision: 0.9618 - val_recall: 0.9598 - val_auc: 0.9865\n",
      "Epoch 9/10\n",
      "1120/1120 [==============================] - 1420s 1s/step - loss: 0.0174 - accuracy: 0.9461 - precision: 0.9648 - recall: 0.9621 - auc: 0.9872 - val_loss: 0.0200 - val_accuracy: 0.9480 - val_precision: 0.9712 - val_recall: 0.9496 - val_auc: 0.9877\n",
      "Epoch 10/10\n",
      "1120/1120 [==============================] - 1419s 1s/step - loss: 0.0173 - accuracy: 0.9468 - precision: 0.9646 - recall: 0.9633 - auc: 0.9873 - val_loss: 0.0208 - val_accuracy: 0.9466 - val_precision: 0.9499 - val_recall: 0.9704 - val_auc: 0.9874\n",
      "INFO:tensorflow:Assets written to: /Users/litto/WORKSPACE/MegaClassifier/models/MegaClassifier_a_EfficientNetB5/v2/v2.2.1.2/assets\n"
     ]
    },
    {
     "name": "stderr",
     "output_type": "stream",
     "text": [
      "INFO:tensorflow:Assets written to: /Users/litto/WORKSPACE/MegaClassifier/models/MegaClassifier_a_EfficientNetB5/v2/v2.2.1.2/assets\n"
     ]
    },
    {
     "name": "stdout",
     "output_type": "stream",
     "text": [
      "268/268 [==============================] - 269s 1s/step - loss: 0.0163 - accuracy: 0.9538 - precision: 0.9599 - recall: 0.9707 - auc: 0.9914\n"
     ]
    },
    {
     "name": "stderr",
     "output_type": "stream",
     "text": [
      "2025-03-05 06:16:52.835337: I tensorflow/core/grappler/optimizers/custom_graph_optimizer_registry.cc:114] Plugin optimizer for device_type GPU is enabled.\n"
     ]
    },
    {
     "name": "stdout",
     "output_type": "stream",
     "text": [
      "268/268 [==============================] - 273s 1s/step\n",
      "Found 17906 validated image filenames belonging to 2 classes.\n",
      "Found 4286 validated image filenames belonging to 2 classes.\n",
      "Found 4286 validated image filenames belonging to 2 classes.\n",
      "Epoch 1/10\n"
     ]
    },
    {
     "name": "stderr",
     "output_type": "stream",
     "text": [
      "2025-03-05 06:21:33.835674: I tensorflow/core/grappler/optimizers/custom_graph_optimizer_registry.cc:114] Plugin optimizer for device_type GPU is enabled.\n"
     ]
    },
    {
     "name": "stdout",
     "output_type": "stream",
     "text": [
      "1120/1120 [==============================] - ETA: 0s - loss: 0.1000 - accuracy: 0.9230 - precision: 0.9461 - recall: 0.9476 - auc: 0.9740"
     ]
    },
    {
     "name": "stderr",
     "output_type": "stream",
     "text": [
      "2025-03-05 06:40:48.117989: I tensorflow/core/grappler/optimizers/custom_graph_optimizer_registry.cc:114] Plugin optimizer for device_type GPU is enabled.\n"
     ]
    },
    {
     "name": "stdout",
     "output_type": "stream",
     "text": [
      "1120/1120 [==============================] - 1433s 1s/step - loss: 0.1000 - accuracy: 0.9230 - precision: 0.9461 - recall: 0.9476 - auc: 0.9740 - val_loss: 0.0768 - val_accuracy: 0.9412 - val_precision: 0.9631 - val_recall: 0.9475 - val_auc: 0.9840\n",
      "Epoch 2/10\n",
      "1120/1120 [==============================] - 1416s 1s/step - loss: 0.0822 - accuracy: 0.9311 - precision: 0.9532 - recall: 0.9535 - auc: 0.9798 - val_loss: 0.0719 - val_accuracy: 0.9470 - val_precision: 0.9654 - val_recall: 0.9542 - val_auc: 0.9858\n",
      "Epoch 3/10\n",
      "1120/1120 [==============================] - 1418s 1s/step - loss: 0.0766 - accuracy: 0.9371 - precision: 0.9587 - recall: 0.9561 - auc: 0.9824 - val_loss: 0.0706 - val_accuracy: 0.9477 - val_precision: 0.9698 - val_recall: 0.9506 - val_auc: 0.9869\n",
      "Epoch 4/10\n",
      "1120/1120 [==============================] - 1416s 1s/step - loss: 0.0730 - accuracy: 0.9396 - precision: 0.9593 - recall: 0.9590 - auc: 0.9841 - val_loss: 0.0691 - val_accuracy: 0.9484 - val_precision: 0.9665 - val_recall: 0.9552 - val_auc: 0.9864\n",
      "Epoch 5/10\n",
      "1120/1120 [==============================] - 1419s 1s/step - loss: 0.0722 - accuracy: 0.9401 - precision: 0.9607 - recall: 0.9582 - auc: 0.9843 - val_loss: 0.0734 - val_accuracy: 0.9426 - val_precision: 0.9432 - val_recall: 0.9718 - val_auc: 0.9874\n",
      "Epoch 6/10\n",
      "1120/1120 [==============================] - 1417s 1s/step - loss: 0.0701 - accuracy: 0.9416 - precision: 0.9605 - recall: 0.9604 - auc: 0.9853 - val_loss: 0.0681 - val_accuracy: 0.9501 - val_precision: 0.9672 - val_recall: 0.9570 - val_auc: 0.9878\n",
      "Epoch 7/10\n",
      "1120/1120 [==============================] - 1417s 1s/step - loss: 0.0680 - accuracy: 0.9444 - precision: 0.9629 - recall: 0.9619 - auc: 0.9861 - val_loss: 0.0676 - val_accuracy: 0.9517 - val_precision: 0.9710 - val_recall: 0.9556 - val_auc: 0.9876\n",
      "Epoch 8/10\n",
      "1120/1120 [==============================] - 1418s 1s/step - loss: 0.0665 - accuracy: 0.9469 - precision: 0.9647 - recall: 0.9634 - auc: 0.9867 - val_loss: 0.0674 - val_accuracy: 0.9477 - val_precision: 0.9684 - val_recall: 0.9520 - val_auc: 0.9879\n",
      "Epoch 9/10\n",
      "1120/1120 [==============================] - 1419s 1s/step - loss: 0.0657 - accuracy: 0.9478 - precision: 0.9650 - recall: 0.9643 - auc: 0.9871 - val_loss: 0.0686 - val_accuracy: 0.9489 - val_precision: 0.9599 - val_recall: 0.9630 - val_auc: 0.9879\n",
      "Epoch 10/10\n",
      "1120/1120 [==============================] - 1418s 1s/step - loss: 0.0650 - accuracy: 0.9477 - precision: 0.9659 - recall: 0.9633 - auc: 0.9873 - val_loss: 0.0666 - val_accuracy: 0.9482 - val_precision: 0.9712 - val_recall: 0.9499 - val_auc: 0.9883\n",
      "INFO:tensorflow:Assets written to: /Users/litto/WORKSPACE/MegaClassifier/models/MegaClassifier_a_EfficientNetB5/v2/v2.2.2.0/assets\n"
     ]
    },
    {
     "name": "stderr",
     "output_type": "stream",
     "text": [
      "INFO:tensorflow:Assets written to: /Users/litto/WORKSPACE/MegaClassifier/models/MegaClassifier_a_EfficientNetB5/v2/v2.2.2.0/assets\n"
     ]
    },
    {
     "name": "stdout",
     "output_type": "stream",
     "text": [
      "268/268 [==============================] - 270s 1s/step - loss: 0.0578 - accuracy: 0.9568 - precision: 0.9808 - recall: 0.9535 - auc: 0.9913\n"
     ]
    },
    {
     "name": "stderr",
     "output_type": "stream",
     "text": [
      "2025-03-05 10:22:59.744871: I tensorflow/core/grappler/optimizers/custom_graph_optimizer_registry.cc:114] Plugin optimizer for device_type GPU is enabled.\n"
     ]
    },
    {
     "name": "stdout",
     "output_type": "stream",
     "text": [
      "268/268 [==============================] - 274s 1s/step\n",
      "Found 17906 validated image filenames belonging to 2 classes.\n",
      "Found 4286 validated image filenames belonging to 2 classes.\n",
      "Found 4286 validated image filenames belonging to 2 classes.\n",
      "Epoch 1/10\n"
     ]
    },
    {
     "name": "stderr",
     "output_type": "stream",
     "text": [
      "2025-03-05 10:27:40.387136: I tensorflow/core/grappler/optimizers/custom_graph_optimizer_registry.cc:114] Plugin optimizer for device_type GPU is enabled.\n"
     ]
    },
    {
     "name": "stdout",
     "output_type": "stream",
     "text": [
      "1120/1120 [==============================] - ETA: 0s - loss: 0.0523 - accuracy: 0.9235 - precision: 0.9497 - recall: 0.9444 - auc: 0.9750"
     ]
    },
    {
     "name": "stderr",
     "output_type": "stream",
     "text": [
      "2025-03-05 10:46:55.126517: I tensorflow/core/grappler/optimizers/custom_graph_optimizer_registry.cc:114] Plugin optimizer for device_type GPU is enabled.\n"
     ]
    },
    {
     "name": "stdout",
     "output_type": "stream",
     "text": [
      "1120/1120 [==============================] - 1433s 1s/step - loss: 0.0523 - accuracy: 0.9235 - precision: 0.9497 - recall: 0.9444 - auc: 0.9750 - val_loss: 0.0403 - val_accuracy: 0.9421 - val_precision: 0.9569 - val_recall: 0.9556 - val_auc: 0.9839\n",
      "Epoch 2/10\n",
      "1120/1120 [==============================] - 1417s 1s/step - loss: 0.0423 - accuracy: 0.9329 - precision: 0.9545 - recall: 0.9546 - auc: 0.9799 - val_loss: 0.0387 - val_accuracy: 0.9456 - val_precision: 0.9521 - val_recall: 0.9665 - val_auc: 0.9865\n",
      "Epoch 3/10\n",
      "1120/1120 [==============================] - 1416s 1s/step - loss: 0.0392 - accuracy: 0.9359 - precision: 0.9578 - recall: 0.9554 - auc: 0.9827 - val_loss: 0.0374 - val_accuracy: 0.9442 - val_precision: 0.9555 - val_recall: 0.9605 - val_auc: 0.9869\n",
      "Epoch 4/10\n",
      "1120/1120 [==============================] - 1417s 1s/step - loss: 0.0374 - accuracy: 0.9400 - precision: 0.9612 - recall: 0.9574 - auc: 0.9843 - val_loss: 0.0400 - val_accuracy: 0.9426 - val_precision: 0.9417 - val_recall: 0.9736 - val_auc: 0.9869\n",
      "Epoch 5/10\n",
      "1120/1120 [==============================] - 1416s 1s/step - loss: 0.0369 - accuracy: 0.9400 - precision: 0.9599 - recall: 0.9589 - auc: 0.9847 - val_loss: 0.0367 - val_accuracy: 0.9494 - val_precision: 0.9606 - val_recall: 0.9630 - val_auc: 0.9877\n",
      "Epoch 6/10\n",
      "1120/1120 [==============================] - 1417s 1s/step - loss: 0.0359 - accuracy: 0.9419 - precision: 0.9622 - recall: 0.9590 - auc: 0.9855 - val_loss: 0.0371 - val_accuracy: 0.9452 - val_precision: 0.9483 - val_recall: 0.9700 - val_auc: 0.9881\n",
      "Epoch 7/10\n",
      "1120/1120 [==============================] - 1417s 1s/step - loss: 0.0348 - accuracy: 0.9455 - precision: 0.9640 - recall: 0.9623 - auc: 0.9865 - val_loss: 0.0363 - val_accuracy: 0.9470 - val_precision: 0.9605 - val_recall: 0.9594 - val_auc: 0.9877\n",
      "Epoch 8/10\n",
      "1120/1120 [==============================] - 1416s 1s/step - loss: 0.0339 - accuracy: 0.9456 - precision: 0.9637 - recall: 0.9627 - auc: 0.9871 - val_loss: 0.0409 - val_accuracy: 0.9412 - val_precision: 0.9395 - val_recall: 0.9739 - val_auc: 0.9875\n",
      "Epoch 9/10\n",
      "1120/1120 [==============================] - 1417s 1s/step - loss: 0.0339 - accuracy: 0.9460 - precision: 0.9636 - recall: 0.9633 - auc: 0.9872 - val_loss: 0.0357 - val_accuracy: 0.9503 - val_precision: 0.9706 - val_recall: 0.9538 - val_auc: 0.9879\n",
      "Epoch 10/10\n",
      "1120/1120 [==============================] - 1417s 1s/step - loss: 0.0329 - accuracy: 0.9486 - precision: 0.9665 - recall: 0.9638 - auc: 0.9879 - val_loss: 0.0358 - val_accuracy: 0.9491 - val_precision: 0.9612 - val_recall: 0.9619 - val_auc: 0.9880\n",
      "INFO:tensorflow:Assets written to: /Users/litto/WORKSPACE/MegaClassifier/models/MegaClassifier_a_EfficientNetB5/v2/v2.2.2.1/assets\n"
     ]
    },
    {
     "name": "stderr",
     "output_type": "stream",
     "text": [
      "INFO:tensorflow:Assets written to: /Users/litto/WORKSPACE/MegaClassifier/models/MegaClassifier_a_EfficientNetB5/v2/v2.2.2.1/assets\n"
     ]
    },
    {
     "name": "stdout",
     "output_type": "stream",
     "text": [
      "268/268 [==============================] - 269s 1s/step - loss: 0.0304 - accuracy: 0.9543 - precision: 0.9681 - recall: 0.9626 - auc: 0.9909\n"
     ]
    },
    {
     "name": "stderr",
     "output_type": "stream",
     "text": [
      "2025-03-05 14:29:01.671098: I tensorflow/core/grappler/optimizers/custom_graph_optimizer_registry.cc:114] Plugin optimizer for device_type GPU is enabled.\n"
     ]
    },
    {
     "name": "stdout",
     "output_type": "stream",
     "text": [
      "268/268 [==============================] - 276s 1s/step\n",
      "Found 17906 validated image filenames belonging to 2 classes.\n",
      "Found 4286 validated image filenames belonging to 2 classes.\n",
      "Found 4286 validated image filenames belonging to 2 classes.\n",
      "Epoch 1/10\n"
     ]
    },
    {
     "name": "stderr",
     "output_type": "stream",
     "text": [
      "2025-03-05 14:33:45.502173: I tensorflow/core/grappler/optimizers/custom_graph_optimizer_registry.cc:114] Plugin optimizer for device_type GPU is enabled.\n"
     ]
    },
    {
     "name": "stdout",
     "output_type": "stream",
     "text": [
      "1120/1120 [==============================] - ETA: 0s - loss: 0.0280 - accuracy: 0.9220 - precision: 0.9470 - recall: 0.9451 - auc: 0.9739"
     ]
    },
    {
     "name": "stderr",
     "output_type": "stream",
     "text": [
      "2025-03-05 14:53:06.544918: I tensorflow/core/grappler/optimizers/custom_graph_optimizer_registry.cc:114] Plugin optimizer for device_type GPU is enabled.\n"
     ]
    },
    {
     "name": "stdout",
     "output_type": "stream",
     "text": [
      "1120/1120 [==============================] - 1438s 1s/step - loss: 0.0280 - accuracy: 0.9220 - precision: 0.9470 - recall: 0.9451 - auc: 0.9739 - val_loss: 0.0203 - val_accuracy: 0.9442 - val_precision: 0.9580 - val_recall: 0.9577 - val_auc: 0.9852\n",
      "Epoch 2/10\n",
      "1120/1120 [==============================] - 1417s 1s/step - loss: 0.0217 - accuracy: 0.9316 - precision: 0.9544 - recall: 0.9531 - auc: 0.9800 - val_loss: 0.0193 - val_accuracy: 0.9491 - val_precision: 0.9632 - val_recall: 0.9598 - val_auc: 0.9870\n",
      "Epoch 3/10\n",
      "1120/1120 [==============================] - 1418s 1s/step - loss: 0.0203 - accuracy: 0.9358 - precision: 0.9586 - recall: 0.9544 - auc: 0.9823 - val_loss: 0.0203 - val_accuracy: 0.9459 - val_precision: 0.9521 - val_recall: 0.9669 - val_auc: 0.9870\n",
      "Epoch 4/10\n",
      "1120/1120 [==============================] - 1416s 1s/step - loss: 0.0194 - accuracy: 0.9397 - precision: 0.9600 - recall: 0.9583 - auc: 0.9842 - val_loss: 0.0195 - val_accuracy: 0.9440 - val_precision: 0.9554 - val_recall: 0.9602 - val_auc: 0.9873\n",
      "Epoch 5/10\n",
      "1120/1120 [==============================] - 1416s 1s/step - loss: 0.0191 - accuracy: 0.9402 - precision: 0.9599 - recall: 0.9591 - auc: 0.9847 - val_loss: 0.0194 - val_accuracy: 0.9421 - val_precision: 0.9484 - val_recall: 0.9651 - val_auc: 0.9879\n",
      "Epoch 6/10\n",
      "1120/1120 [==============================] - 1420s 1s/step - loss: 0.0185 - accuracy: 0.9425 - precision: 0.9623 - recall: 0.9597 - auc: 0.9855 - val_loss: 0.0199 - val_accuracy: 0.9426 - val_precision: 0.9730 - val_recall: 0.9394 - val_auc: 0.9879\n",
      "Epoch 7/10\n",
      "1120/1120 [==============================] - 1418s 1s/step - loss: 0.0180 - accuracy: 0.9438 - precision: 0.9633 - recall: 0.9605 - auc: 0.9864 - val_loss: 0.0200 - val_accuracy: 0.9480 - val_precision: 0.9684 - val_recall: 0.9524 - val_auc: 0.9876\n",
      "Epoch 8/10\n",
      "1120/1120 [==============================] - 1418s 1s/step - loss: 0.0176 - accuracy: 0.9442 - precision: 0.9635 - recall: 0.9608 - auc: 0.9870 - val_loss: 0.0193 - val_accuracy: 0.9484 - val_precision: 0.9681 - val_recall: 0.9535 - val_auc: 0.9876\n",
      "Epoch 9/10\n",
      "1120/1120 [==============================] - 1417s 1s/step - loss: 0.0175 - accuracy: 0.9462 - precision: 0.9640 - recall: 0.9631 - auc: 0.9872 - val_loss: 0.0191 - val_accuracy: 0.9505 - val_precision: 0.9639 - val_recall: 0.9612 - val_auc: 0.9881\n",
      "Epoch 10/10\n",
      "1120/1120 [==============================] - 1419s 1s/step - loss: 0.0170 - accuracy: 0.9463 - precision: 0.9648 - recall: 0.9624 - auc: 0.9878 - val_loss: 0.0200 - val_accuracy: 0.9491 - val_precision: 0.9753 - val_recall: 0.9471 - val_auc: 0.9884\n",
      "INFO:tensorflow:Assets written to: /Users/litto/WORKSPACE/MegaClassifier/models/MegaClassifier_a_EfficientNetB5/v2/v2.2.2.2/assets\n"
     ]
    },
    {
     "name": "stderr",
     "output_type": "stream",
     "text": [
      "INFO:tensorflow:Assets written to: /Users/litto/WORKSPACE/MegaClassifier/models/MegaClassifier_a_EfficientNetB5/v2/v2.2.2.2/assets\n"
     ]
    },
    {
     "name": "stdout",
     "output_type": "stream",
     "text": [
      "268/268 [==============================] - 269s 1s/step - loss: 0.0166 - accuracy: 0.9552 - precision: 0.9828 - recall: 0.9489 - auc: 0.9917\n"
     ]
    },
    {
     "name": "stderr",
     "output_type": "stream",
     "text": [
      "2025-03-05 18:35:20.853003: I tensorflow/core/grappler/optimizers/custom_graph_optimizer_registry.cc:114] Plugin optimizer for device_type GPU is enabled.\n"
     ]
    },
    {
     "name": "stdout",
     "output_type": "stream",
     "text": [
      "268/268 [==============================] - 276s 1s/step\n",
      "Found 17906 validated image filenames belonging to 2 classes.\n",
      "Found 4286 validated image filenames belonging to 2 classes.\n",
      "Found 4286 validated image filenames belonging to 2 classes.\n",
      "Epoch 1/10\n"
     ]
    },
    {
     "name": "stderr",
     "output_type": "stream",
     "text": [
      "2025-03-05 18:40:01.717090: I tensorflow/core/grappler/optimizers/custom_graph_optimizer_registry.cc:114] Plugin optimizer for device_type GPU is enabled.\n"
     ]
    },
    {
     "name": "stdout",
     "output_type": "stream",
     "text": [
      "1120/1120 [==============================] - ETA: 0s - loss: 0.0983 - accuracy: 0.9243 - precision: 0.9497 - recall: 0.9455 - auc: 0.9753"
     ]
    },
    {
     "name": "stderr",
     "output_type": "stream",
     "text": [
      "2025-03-05 18:59:32.167167: I tensorflow/core/grappler/optimizers/custom_graph_optimizer_registry.cc:114] Plugin optimizer for device_type GPU is enabled.\n"
     ]
    },
    {
     "name": "stdout",
     "output_type": "stream",
     "text": [
      "1120/1120 [==============================] - 1449s 1s/step - loss: 0.0983 - accuracy: 0.9243 - precision: 0.9497 - recall: 0.9455 - auc: 0.9753 - val_loss: 0.0749 - val_accuracy: 0.9459 - val_precision: 0.9591 - val_recall: 0.9591 - val_auc: 0.9853\n",
      "Epoch 2/10\n",
      "1120/1120 [==============================] - 1430s 1s/step - loss: 0.0820 - accuracy: 0.9311 - precision: 0.9532 - recall: 0.9536 - auc: 0.9798 - val_loss: 0.0760 - val_accuracy: 0.9438 - val_precision: 0.9451 - val_recall: 0.9714 - val_auc: 0.9865\n",
      "Epoch 3/10\n",
      "1120/1120 [==============================] - 1428s 1s/step - loss: 0.0765 - accuracy: 0.9376 - precision: 0.9589 - recall: 0.9565 - auc: 0.9825 - val_loss: 0.0705 - val_accuracy: 0.9452 - val_precision: 0.9703 - val_recall: 0.9461 - val_auc: 0.9873\n",
      "Epoch 4/10\n",
      "1120/1120 [==============================] - 1428s 1s/step - loss: 0.0729 - accuracy: 0.9413 - precision: 0.9602 - recall: 0.9604 - auc: 0.9841 - val_loss: 0.0688 - val_accuracy: 0.9494 - val_precision: 0.9635 - val_recall: 0.9598 - val_auc: 0.9874\n",
      "Epoch 5/10\n",
      "1120/1120 [==============================] - 1429s 1s/step - loss: 0.0716 - accuracy: 0.9400 - precision: 0.9605 - recall: 0.9581 - auc: 0.9846 - val_loss: 0.0687 - val_accuracy: 0.9475 - val_precision: 0.9573 - val_recall: 0.9637 - val_auc: 0.9876\n",
      "Epoch 6/10\n",
      "1120/1120 [==============================] - 1429s 1s/step - loss: 0.0693 - accuracy: 0.9418 - precision: 0.9606 - recall: 0.9606 - auc: 0.9856 - val_loss: 0.0679 - val_accuracy: 0.9491 - val_precision: 0.9619 - val_recall: 0.9612 - val_auc: 0.9879\n",
      "Epoch 7/10\n",
      "1120/1120 [==============================] - 1430s 1s/step - loss: 0.0675 - accuracy: 0.9454 - precision: 0.9635 - recall: 0.9625 - auc: 0.9863 - val_loss: 0.0681 - val_accuracy: 0.9489 - val_precision: 0.9652 - val_recall: 0.9573 - val_auc: 0.9877\n",
      "Epoch 8/10\n",
      "1120/1120 [==============================] - 1431s 1s/step - loss: 0.0664 - accuracy: 0.9459 - precision: 0.9644 - recall: 0.9623 - auc: 0.9868 - val_loss: 0.0682 - val_accuracy: 0.9503 - val_precision: 0.9581 - val_recall: 0.9672 - val_auc: 0.9878\n",
      "Epoch 9/10\n",
      "1120/1120 [==============================] - 1428s 1s/step - loss: 0.0661 - accuracy: 0.9459 - precision: 0.9633 - recall: 0.9635 - auc: 0.9869 - val_loss: 0.0672 - val_accuracy: 0.9494 - val_precision: 0.9702 - val_recall: 0.9528 - val_auc: 0.9883\n",
      "Epoch 10/10\n",
      "1120/1120 [==============================] - 1428s 1s/step - loss: 0.0649 - accuracy: 0.9456 - precision: 0.9643 - recall: 0.9620 - auc: 0.9874 - val_loss: 0.0661 - val_accuracy: 0.9517 - val_precision: 0.9620 - val_recall: 0.9651 - val_auc: 0.9886\n",
      "INFO:tensorflow:Assets written to: /Users/litto/WORKSPACE/MegaClassifier/models/MegaClassifier_a_EfficientNetB5/v2/v2.2.3.0/assets\n"
     ]
    },
    {
     "name": "stderr",
     "output_type": "stream",
     "text": [
      "INFO:tensorflow:Assets written to: /Users/litto/WORKSPACE/MegaClassifier/models/MegaClassifier_a_EfficientNetB5/v2/v2.2.3.0/assets\n"
     ]
    },
    {
     "name": "stdout",
     "output_type": "stream",
     "text": [
      "268/268 [==============================] - 271s 1s/step - loss: 0.0567 - accuracy: 0.9554 - precision: 0.9678 - recall: 0.9647 - auc: 0.9914\n"
     ]
    },
    {
     "name": "stderr",
     "output_type": "stream",
     "text": [
      "2025-03-05 22:43:31.162730: I tensorflow/core/grappler/optimizers/custom_graph_optimizer_registry.cc:114] Plugin optimizer for device_type GPU is enabled.\n"
     ]
    },
    {
     "name": "stdout",
     "output_type": "stream",
     "text": [
      "268/268 [==============================] - 276s 1s/step\n",
      "Found 17906 validated image filenames belonging to 2 classes.\n",
      "Found 4286 validated image filenames belonging to 2 classes.\n",
      "Found 4286 validated image filenames belonging to 2 classes.\n",
      "Epoch 1/10\n"
     ]
    },
    {
     "name": "stderr",
     "output_type": "stream",
     "text": [
      "2025-03-05 22:48:13.805328: I tensorflow/core/grappler/optimizers/custom_graph_optimizer_registry.cc:114] Plugin optimizer for device_type GPU is enabled.\n"
     ]
    },
    {
     "name": "stdout",
     "output_type": "stream",
     "text": [
      "1120/1120 [==============================] - ETA: 0s - loss: 0.0527 - accuracy: 0.9232 - precision: 0.9475 - recall: 0.9464 - auc: 0.9748"
     ]
    },
    {
     "name": "stderr",
     "output_type": "stream",
     "text": [
      "2025-03-05 23:07:44.200947: I tensorflow/core/grappler/optimizers/custom_graph_optimizer_registry.cc:114] Plugin optimizer for device_type GPU is enabled.\n"
     ]
    },
    {
     "name": "stdout",
     "output_type": "stream",
     "text": [
      "1120/1120 [==============================] - 1452s 1s/step - loss: 0.0527 - accuracy: 0.9232 - precision: 0.9475 - recall: 0.9464 - auc: 0.9748 - val_loss: 0.0394 - val_accuracy: 0.9431 - val_precision: 0.9652 - val_recall: 0.9482 - val_auc: 0.9850\n",
      "Epoch 2/10\n",
      "1120/1120 [==============================] - 1432s 1s/step - loss: 0.0425 - accuracy: 0.9314 - precision: 0.9537 - recall: 0.9535 - auc: 0.9797 - val_loss: 0.0395 - val_accuracy: 0.9403 - val_precision: 0.9715 - val_recall: 0.9372 - val_auc: 0.9858\n",
      "Epoch 3/10\n",
      "1120/1120 [==============================] - 1432s 1s/step - loss: 0.0398 - accuracy: 0.9343 - precision: 0.9563 - recall: 0.9546 - auc: 0.9821 - val_loss: 0.0378 - val_accuracy: 0.9445 - val_precision: 0.9720 - val_recall: 0.9432 - val_auc: 0.9873\n",
      "Epoch 4/10\n",
      "1120/1120 [==============================] - 1432s 1s/step - loss: 0.0373 - accuracy: 0.9413 - precision: 0.9619 - recall: 0.9585 - auc: 0.9844 - val_loss: 0.0356 - val_accuracy: 0.9470 - val_precision: 0.9664 - val_recall: 0.9531 - val_auc: 0.9879\n",
      "Epoch 5/10\n",
      "1120/1120 [==============================] - 1432s 1s/step - loss: 0.0374 - accuracy: 0.9410 - precision: 0.9604 - recall: 0.9597 - auc: 0.9844 - val_loss: 0.0364 - val_accuracy: 0.9473 - val_precision: 0.9677 - val_recall: 0.9520 - val_auc: 0.9870\n",
      "Epoch 6/10\n",
      "1120/1120 [==============================] - 1431s 1s/step - loss: 0.0360 - accuracy: 0.9420 - precision: 0.9617 - recall: 0.9596 - auc: 0.9855 - val_loss: 0.0376 - val_accuracy: 0.9456 - val_precision: 0.9480 - val_recall: 0.9711 - val_auc: 0.9878\n",
      "Epoch 7/10\n",
      "1120/1120 [==============================] - 1431s 1s/step - loss: 0.0348 - accuracy: 0.9446 - precision: 0.9629 - recall: 0.9621 - auc: 0.9865 - val_loss: 0.0368 - val_accuracy: 0.9477 - val_precision: 0.9648 - val_recall: 0.9559 - val_auc: 0.9876\n",
      "Epoch 8/10\n",
      "1120/1120 [==============================] - 1433s 1s/step - loss: 0.0340 - accuracy: 0.9476 - precision: 0.9651 - recall: 0.9639 - auc: 0.9872 - val_loss: 0.0350 - val_accuracy: 0.9508 - val_precision: 0.9676 - val_recall: 0.9577 - val_auc: 0.9881\n",
      "Epoch 9/10\n",
      "1120/1120 [==============================] - 1431s 1s/step - loss: 0.0337 - accuracy: 0.9471 - precision: 0.9644 - recall: 0.9640 - auc: 0.9873 - val_loss: 0.0374 - val_accuracy: 0.9482 - val_precision: 0.9507 - val_recall: 0.9721 - val_auc: 0.9884\n",
      "Epoch 10/10\n",
      "1120/1120 [==============================] - 1431s 1s/step - loss: 0.0331 - accuracy: 0.9470 - precision: 0.9642 - recall: 0.9640 - auc: 0.9877 - val_loss: 0.0396 - val_accuracy: 0.9449 - val_precision: 0.9762 - val_recall: 0.9397 - val_auc: 0.9878\n",
      "INFO:tensorflow:Assets written to: /Users/litto/WORKSPACE/MegaClassifier/models/MegaClassifier_a_EfficientNetB5/v2/v2.2.3.1/assets\n"
     ]
    },
    {
     "name": "stderr",
     "output_type": "stream",
     "text": [
      "INFO:tensorflow:Assets written to: /Users/litto/WORKSPACE/MegaClassifier/models/MegaClassifier_a_EfficientNetB5/v2/v2.2.3.1/assets\n"
     ]
    },
    {
     "name": "stdout",
     "output_type": "stream",
     "text": [
      "268/268 [==============================] - 271s 1s/step - loss: 0.0332 - accuracy: 0.9508 - precision: 0.9852 - recall: 0.9397 - auc: 0.9916\n"
     ]
    },
    {
     "name": "stderr",
     "output_type": "stream",
     "text": [
      "2025-03-06 02:52:14.942365: I tensorflow/core/grappler/optimizers/custom_graph_optimizer_registry.cc:114] Plugin optimizer for device_type GPU is enabled.\n"
     ]
    },
    {
     "name": "stdout",
     "output_type": "stream",
     "text": [
      "268/268 [==============================] - 274s 1s/step\n",
      "Found 17906 validated image filenames belonging to 2 classes.\n",
      "Found 4286 validated image filenames belonging to 2 classes.\n",
      "Found 4286 validated image filenames belonging to 2 classes.\n",
      "Epoch 1/10\n"
     ]
    },
    {
     "name": "stderr",
     "output_type": "stream",
     "text": [
      "2025-03-06 02:56:57.430270: I tensorflow/core/grappler/optimizers/custom_graph_optimizer_registry.cc:114] Plugin optimizer for device_type GPU is enabled.\n"
     ]
    },
    {
     "name": "stdout",
     "output_type": "stream",
     "text": [
      "1120/1120 [==============================] - ETA: 0s - loss: 0.0281 - accuracy: 0.9201 - precision: 0.9499 - recall: 0.9391 - auc: 0.9736"
     ]
    },
    {
     "name": "stderr",
     "output_type": "stream",
     "text": [
      "2025-03-06 03:16:28.682365: I tensorflow/core/grappler/optimizers/custom_graph_optimizer_registry.cc:114] Plugin optimizer for device_type GPU is enabled.\n"
     ]
    },
    {
     "name": "stdout",
     "output_type": "stream",
     "text": [
      "1120/1120 [==============================] - 1449s 1s/step - loss: 0.0281 - accuracy: 0.9201 - precision: 0.9499 - recall: 0.9391 - auc: 0.9736 - val_loss: 0.0210 - val_accuracy: 0.9414 - val_precision: 0.9740 - val_recall: 0.9365 - val_auc: 0.9854\n",
      "Epoch 2/10\n",
      "1120/1120 [==============================] - 1423s 1s/step - loss: 0.0217 - accuracy: 0.9327 - precision: 0.9544 - recall: 0.9545 - auc: 0.9801 - val_loss: 0.0200 - val_accuracy: 0.9449 - val_precision: 0.9724 - val_recall: 0.9436 - val_auc: 0.9870\n",
      "Epoch 3/10\n",
      "1120/1120 [==============================] - 1423s 1s/step - loss: 0.0202 - accuracy: 0.9370 - precision: 0.9581 - recall: 0.9566 - auc: 0.9825 - val_loss: 0.0193 - val_accuracy: 0.9491 - val_precision: 0.9622 - val_recall: 0.9609 - val_auc: 0.9875\n",
      "Epoch 4/10\n",
      "1120/1120 [==============================] - 1423s 1s/step - loss: 0.0194 - accuracy: 0.9404 - precision: 0.9601 - recall: 0.9592 - auc: 0.9841 - val_loss: 0.0194 - val_accuracy: 0.9463 - val_precision: 0.9687 - val_recall: 0.9496 - val_auc: 0.9878\n",
      "Epoch 5/10\n",
      "1120/1120 [==============================] - 1423s 1s/step - loss: 0.0190 - accuracy: 0.9418 - precision: 0.9617 - recall: 0.9594 - auc: 0.9848 - val_loss: 0.0192 - val_accuracy: 0.9445 - val_precision: 0.9656 - val_recall: 0.9499 - val_auc: 0.9877\n",
      "Epoch 6/10\n",
      "1120/1120 [==============================] - 1423s 1s/step - loss: 0.0185 - accuracy: 0.9424 - precision: 0.9617 - recall: 0.9602 - auc: 0.9855 - val_loss: 0.0198 - val_accuracy: 0.9426 - val_precision: 0.9586 - val_recall: 0.9545 - val_auc: 0.9869\n",
      "Epoch 7/10\n",
      "1120/1120 [==============================] - 1425s 1s/step - loss: 0.0179 - accuracy: 0.9440 - precision: 0.9635 - recall: 0.9606 - auc: 0.9865 - val_loss: 0.0190 - val_accuracy: 0.9487 - val_precision: 0.9628 - val_recall: 0.9594 - val_auc: 0.9877\n",
      "Epoch 8/10\n",
      "1120/1120 [==============================] - 1423s 1s/step - loss: 0.0176 - accuracy: 0.9461 - precision: 0.9645 - recall: 0.9625 - auc: 0.9870 - val_loss: 0.0190 - val_accuracy: 0.9494 - val_precision: 0.9719 - val_recall: 0.9510 - val_auc: 0.9880\n",
      "Epoch 9/10\n",
      "1120/1120 [==============================] - 1424s 1s/step - loss: 0.0174 - accuracy: 0.9475 - precision: 0.9652 - recall: 0.9636 - auc: 0.9873 - val_loss: 0.0205 - val_accuracy: 0.9487 - val_precision: 0.9542 - val_recall: 0.9690 - val_auc: 0.9878\n",
      "Epoch 10/10\n",
      "1120/1120 [==============================] - 1425s 1s/step - loss: 0.0173 - accuracy: 0.9448 - precision: 0.9636 - recall: 0.9617 - auc: 0.9874 - val_loss: 0.0197 - val_accuracy: 0.9491 - val_precision: 0.9672 - val_recall: 0.9556 - val_auc: 0.9876\n",
      "INFO:tensorflow:Assets written to: /Users/litto/WORKSPACE/MegaClassifier/models/MegaClassifier_a_EfficientNetB5/v2/v2.2.3.2/assets\n"
     ]
    },
    {
     "name": "stderr",
     "output_type": "stream",
     "text": [
      "INFO:tensorflow:Assets written to: /Users/litto/WORKSPACE/MegaClassifier/models/MegaClassifier_a_EfficientNetB5/v2/v2.2.3.2/assets\n"
     ]
    },
    {
     "name": "stdout",
     "output_type": "stream",
     "text": [
      "268/268 [==============================] - 271s 1s/step - loss: 0.0159 - accuracy: 0.9557 - precision: 0.9780 - recall: 0.9545 - auc: 0.9916\n"
     ]
    },
    {
     "name": "stderr",
     "output_type": "stream",
     "text": [
      "2025-03-06 06:59:35.369248: I tensorflow/core/grappler/optimizers/custom_graph_optimizer_registry.cc:114] Plugin optimizer for device_type GPU is enabled.\n"
     ]
    },
    {
     "name": "stdout",
     "output_type": "stream",
     "text": [
      "268/268 [==============================] - 275s 1s/step\n",
      "\n",
      "\n",
      "\n",
      "Found 17906 validated image filenames belonging to 2 classes.\n",
      "Found 4286 validated image filenames belonging to 2 classes.\n",
      "Found 4286 validated image filenames belonging to 2 classes.\n",
      "Epoch 1/10\n"
     ]
    },
    {
     "name": "stderr",
     "output_type": "stream",
     "text": [
      "2025-03-06 07:04:19.047234: I tensorflow/core/grappler/optimizers/custom_graph_optimizer_registry.cc:114] Plugin optimizer for device_type GPU is enabled.\n"
     ]
    },
    {
     "name": "stdout",
     "output_type": "stream",
     "text": [
      "1120/1120 [==============================] - ETA: 0s - loss: 0.0419 - accuracy: 0.9084 - precision: 0.9740 - recall: 0.8974 - auc: 0.9724"
     ]
    },
    {
     "name": "stderr",
     "output_type": "stream",
     "text": [
      "2025-03-06 07:23:46.431566: I tensorflow/core/grappler/optimizers/custom_graph_optimizer_registry.cc:114] Plugin optimizer for device_type GPU is enabled.\n"
     ]
    },
    {
     "name": "stdout",
     "output_type": "stream",
     "text": [
      "1120/1120 [==============================] - 1452s 1s/step - loss: 0.0419 - accuracy: 0.9084 - precision: 0.9740 - recall: 0.8974 - auc: 0.9724 - val_loss: 0.0316 - val_accuracy: 0.9291 - val_precision: 0.9847 - val_recall: 0.9069 - val_auc: 0.9835\n",
      "Epoch 2/10\n",
      "1120/1120 [==============================] - 1426s 1s/step - loss: 0.0344 - accuracy: 0.9173 - precision: 0.9802 - recall: 0.9063 - auc: 0.9793 - val_loss: 0.0296 - val_accuracy: 0.9326 - val_precision: 0.9837 - val_recall: 0.9133 - val_auc: 0.9854\n",
      "Epoch 3/10\n",
      "1120/1120 [==============================] - 1427s 1s/step - loss: 0.0316 - accuracy: 0.9247 - precision: 0.9835 - recall: 0.9135 - auc: 0.9824 - val_loss: 0.0285 - val_accuracy: 0.9354 - val_precision: 0.9837 - val_recall: 0.9175 - val_auc: 0.9865\n",
      "Epoch 4/10\n",
      "1120/1120 [==============================] - 1425s 1s/step - loss: 0.0303 - accuracy: 0.9280 - precision: 0.9836 - recall: 0.9179 - auc: 0.9840 - val_loss: 0.0284 - val_accuracy: 0.9410 - val_precision: 0.9806 - val_recall: 0.9291 - val_auc: 0.9866\n",
      "Epoch 5/10\n",
      "1120/1120 [==============================] - 1425s 1s/step - loss: 0.0299 - accuracy: 0.9278 - precision: 0.9836 - recall: 0.9175 - auc: 0.9842 - val_loss: 0.0290 - val_accuracy: 0.9461 - val_precision: 0.9773 - val_recall: 0.9404 - val_auc: 0.9874\n",
      "Epoch 6/10\n",
      "1120/1120 [==============================] - 1427s 1s/step - loss: 0.0290 - accuracy: 0.9321 - precision: 0.9850 - recall: 0.9222 - auc: 0.9852 - val_loss: 0.0281 - val_accuracy: 0.9335 - val_precision: 0.9844 - val_recall: 0.9140 - val_auc: 0.9873\n",
      "Epoch 7/10\n",
      "1120/1120 [==============================] - 1425s 1s/step - loss: 0.0280 - accuracy: 0.9340 - precision: 0.9852 - recall: 0.9246 - auc: 0.9862 - val_loss: 0.0277 - val_accuracy: 0.9384 - val_precision: 0.9856 - val_recall: 0.9203 - val_auc: 0.9877\n",
      "Epoch 8/10\n",
      "1120/1120 [==============================] - 1425s 1s/step - loss: 0.0276 - accuracy: 0.9349 - precision: 0.9861 - recall: 0.9249 - auc: 0.9864 - val_loss: 0.0280 - val_accuracy: 0.9410 - val_precision: 0.9832 - val_recall: 0.9267 - val_auc: 0.9874\n",
      "Epoch 9/10\n",
      "1120/1120 [==============================] - 1426s 1s/step - loss: 0.0275 - accuracy: 0.9347 - precision: 0.9864 - recall: 0.9244 - auc: 0.9867 - val_loss: 0.0278 - val_accuracy: 0.9477 - val_precision: 0.9812 - val_recall: 0.9390 - val_auc: 0.9878\n",
      "Epoch 10/10\n",
      "1120/1120 [==============================] - 1424s 1s/step - loss: 0.0267 - accuracy: 0.9367 - precision: 0.9863 - recall: 0.9272 - auc: 0.9872 - val_loss: 0.0275 - val_accuracy: 0.9431 - val_precision: 0.9821 - val_recall: 0.9309 - val_auc: 0.9880\n",
      "INFO:tensorflow:Assets written to: /Users/litto/WORKSPACE/MegaClassifier/models/MegaClassifier_a_EfficientNetB5/v2/v2.3.0.0/assets\n"
     ]
    },
    {
     "name": "stderr",
     "output_type": "stream",
     "text": [
      "INFO:tensorflow:Assets written to: /Users/litto/WORKSPACE/MegaClassifier/models/MegaClassifier_a_EfficientNetB5/v2/v2.3.0.0/assets\n"
     ]
    },
    {
     "name": "stdout",
     "output_type": "stream",
     "text": [
      "268/268 [==============================] - 271s 1s/step - loss: 0.0228 - accuracy: 0.9491 - precision: 0.9877 - recall: 0.9348 - auc: 0.9914\n"
     ]
    },
    {
     "name": "stderr",
     "output_type": "stream",
     "text": [
      "2025-03-06 11:07:18.234162: I tensorflow/core/grappler/optimizers/custom_graph_optimizer_registry.cc:114] Plugin optimizer for device_type GPU is enabled.\n"
     ]
    },
    {
     "name": "stdout",
     "output_type": "stream",
     "text": [
      "268/268 [==============================] - 281s 1s/step\n",
      "Found 17906 validated image filenames belonging to 2 classes.\n",
      "Found 4286 validated image filenames belonging to 2 classes.\n",
      "Found 4286 validated image filenames belonging to 2 classes.\n",
      "Epoch 1/10\n"
     ]
    },
    {
     "name": "stderr",
     "output_type": "stream",
     "text": [
      "2025-03-06 11:12:06.329725: I tensorflow/core/grappler/optimizers/custom_graph_optimizer_registry.cc:114] Plugin optimizer for device_type GPU is enabled.\n"
     ]
    },
    {
     "name": "stdout",
     "output_type": "stream",
     "text": [
      "1120/1120 [==============================] - ETA: 0s - loss: 0.0224 - accuracy: 0.9074 - precision: 0.9745 - recall: 0.8955 - auc: 0.9748"
     ]
    },
    {
     "name": "stderr",
     "output_type": "stream",
     "text": [
      "2025-03-06 11:31:39.537052: I tensorflow/core/grappler/optimizers/custom_graph_optimizer_registry.cc:114] Plugin optimizer for device_type GPU is enabled.\n"
     ]
    },
    {
     "name": "stdout",
     "output_type": "stream",
     "text": [
      "1120/1120 [==============================] - 1456s 1s/step - loss: 0.0224 - accuracy: 0.9074 - precision: 0.9745 - recall: 0.8955 - auc: 0.9748 - val_loss: 0.0164 - val_accuracy: 0.9302 - val_precision: 0.9829 - val_recall: 0.9104 - val_auc: 0.9836\n",
      "Epoch 2/10\n",
      "1120/1120 [==============================] - 1429s 1s/step - loss: 0.0178 - accuracy: 0.9181 - precision: 0.9795 - recall: 0.9082 - auc: 0.9798 - val_loss: 0.0175 - val_accuracy: 0.9134 - val_precision: 0.9932 - val_recall: 0.8752 - val_auc: 0.9854\n",
      "Epoch 3/10\n",
      "1120/1120 [==============================] - 1427s 1s/step - loss: 0.0163 - accuracy: 0.9260 - precision: 0.9832 - recall: 0.9155 - auc: 0.9828 - val_loss: 0.0162 - val_accuracy: 0.9440 - val_precision: 0.9744 - val_recall: 0.9401 - val_auc: 0.9855\n",
      "Epoch 4/10\n",
      "1120/1120 [==============================] - 1426s 1s/step - loss: 0.0156 - accuracy: 0.9278 - precision: 0.9814 - recall: 0.9198 - auc: 0.9841 - val_loss: 0.0156 - val_accuracy: 0.9438 - val_precision: 0.9804 - val_recall: 0.9337 - val_auc: 0.9864\n",
      "Epoch 5/10\n",
      "1120/1120 [==============================] - 1426s 1s/step - loss: 0.0155 - accuracy: 0.9310 - precision: 0.9832 - recall: 0.9224 - auc: 0.9844 - val_loss: 0.0148 - val_accuracy: 0.9438 - val_precision: 0.9790 - val_recall: 0.9351 - val_auc: 0.9876\n",
      "Epoch 6/10\n",
      "1120/1120 [==============================] - 1427s 1s/step - loss: 0.0151 - accuracy: 0.9325 - precision: 0.9840 - recall: 0.9237 - auc: 0.9853 - val_loss: 0.0155 - val_accuracy: 0.9407 - val_precision: 0.9760 - val_recall: 0.9334 - val_auc: 0.9872\n",
      "Epoch 7/10\n",
      "1120/1120 [==============================] - 1425s 1s/step - loss: 0.0145 - accuracy: 0.9353 - precision: 0.9831 - recall: 0.9283 - auc: 0.9863 - val_loss: 0.0149 - val_accuracy: 0.9375 - val_precision: 0.9856 - val_recall: 0.9189 - val_auc: 0.9879\n",
      "Epoch 8/10\n",
      "1120/1120 [==============================] - 1427s 1s/step - loss: 0.0142 - accuracy: 0.9350 - precision: 0.9845 - recall: 0.9267 - auc: 0.9870 - val_loss: 0.0150 - val_accuracy: 0.9475 - val_precision: 0.9805 - val_recall: 0.9394 - val_auc: 0.9883\n",
      "Epoch 9/10\n",
      "1120/1120 [==============================] - 1425s 1s/step - loss: 0.0144 - accuracy: 0.9359 - precision: 0.9851 - recall: 0.9274 - auc: 0.9867 - val_loss: 0.0150 - val_accuracy: 0.9358 - val_precision: 0.9834 - val_recall: 0.9185 - val_auc: 0.9883\n",
      "Epoch 10/10\n",
      "1120/1120 [==============================] - 1425s 1s/step - loss: 0.0139 - accuracy: 0.9372 - precision: 0.9856 - recall: 0.9286 - auc: 0.9873 - val_loss: 0.0161 - val_accuracy: 0.9412 - val_precision: 0.9792 - val_recall: 0.9309 - val_auc: 0.9875\n",
      "INFO:tensorflow:Assets written to: /Users/litto/WORKSPACE/MegaClassifier/models/MegaClassifier_a_EfficientNetB5/v2/v2.3.0.1/assets\n"
     ]
    },
    {
     "name": "stderr",
     "output_type": "stream",
     "text": [
      "INFO:tensorflow:Assets written to: /Users/litto/WORKSPACE/MegaClassifier/models/MegaClassifier_a_EfficientNetB5/v2/v2.3.0.1/assets\n"
     ]
    },
    {
     "name": "stdout",
     "output_type": "stream",
     "text": [
      "268/268 [==============================] - 272s 1s/step - loss: 0.0123 - accuracy: 0.9501 - precision: 0.9903 - recall: 0.9337 - auc: 0.9916\n"
     ]
    },
    {
     "name": "stderr",
     "output_type": "stream",
     "text": [
      "2025-03-06 15:15:22.417634: I tensorflow/core/grappler/optimizers/custom_graph_optimizer_registry.cc:114] Plugin optimizer for device_type GPU is enabled.\n"
     ]
    },
    {
     "name": "stdout",
     "output_type": "stream",
     "text": [
      "268/268 [==============================] - 280s 1s/step\n",
      "Found 17906 validated image filenames belonging to 2 classes.\n",
      "Found 4286 validated image filenames belonging to 2 classes.\n",
      "Found 4286 validated image filenames belonging to 2 classes.\n",
      "Epoch 1/10\n"
     ]
    },
    {
     "name": "stderr",
     "output_type": "stream",
     "text": [
      "2025-03-06 15:20:09.561431: I tensorflow/core/grappler/optimizers/custom_graph_optimizer_registry.cc:114] Plugin optimizer for device_type GPU is enabled.\n"
     ]
    },
    {
     "name": "stdout",
     "output_type": "stream",
     "text": [
      "1120/1120 [==============================] - ETA: 0s - loss: 0.0122 - accuracy: 0.9061 - precision: 0.9737 - recall: 0.8945 - auc: 0.9733"
     ]
    },
    {
     "name": "stderr",
     "output_type": "stream",
     "text": [
      "2025-03-06 15:39:44.650705: I tensorflow/core/grappler/optimizers/custom_graph_optimizer_registry.cc:114] Plugin optimizer for device_type GPU is enabled.\n"
     ]
    },
    {
     "name": "stdout",
     "output_type": "stream",
     "text": [
      "1120/1120 [==============================] - 1457s 1s/step - loss: 0.0122 - accuracy: 0.9061 - precision: 0.9737 - recall: 0.8945 - auc: 0.9733 - val_loss: 0.0091 - val_accuracy: 0.9389 - val_precision: 0.9756 - val_recall: 0.9309 - val_auc: 0.9834\n",
      "Epoch 2/10\n",
      "1120/1120 [==============================] - 1433s 1s/step - loss: 0.0093 - accuracy: 0.9171 - precision: 0.9781 - recall: 0.9082 - auc: 0.9794 - val_loss: 0.0081 - val_accuracy: 0.9354 - val_precision: 0.9826 - val_recall: 0.9185 - val_auc: 0.9867\n",
      "Epoch 3/10\n",
      "1120/1120 [==============================] - 1431s 1s/step - loss: 0.0085 - accuracy: 0.9275 - precision: 0.9821 - recall: 0.9186 - auc: 0.9824 - val_loss: 0.0086 - val_accuracy: 0.9260 - val_precision: 0.9884 - val_recall: 0.8988 - val_auc: 0.9863\n",
      "Epoch 4/10\n",
      "1120/1120 [==============================] - 1432s 1s/step - loss: 0.0083 - accuracy: 0.9289 - precision: 0.9813 - recall: 0.9212 - auc: 0.9834 - val_loss: 0.0088 - val_accuracy: 0.9454 - val_precision: 0.9690 - val_recall: 0.9478 - val_auc: 0.9868\n",
      "Epoch 5/10\n",
      "1120/1120 [==============================] - 1431s 1s/step - loss: 0.0082 - accuracy: 0.9289 - precision: 0.9812 - recall: 0.9213 - auc: 0.9839 - val_loss: 0.0086 - val_accuracy: 0.9449 - val_precision: 0.9734 - val_recall: 0.9425 - val_auc: 0.9874\n",
      "Epoch 6/10\n",
      "1120/1120 [==============================] - 1433s 1s/step - loss: 0.0079 - accuracy: 0.9330 - precision: 0.9839 - recall: 0.9245 - auc: 0.9850 - val_loss: 0.0082 - val_accuracy: 0.9454 - val_precision: 0.9714 - val_recall: 0.9453 - val_auc: 0.9873\n",
      "Epoch 7/10\n",
      "1120/1120 [==============================] - 1430s 1s/step - loss: 0.0075 - accuracy: 0.9358 - precision: 0.9840 - recall: 0.9283 - auc: 0.9862 - val_loss: 0.0084 - val_accuracy: 0.9461 - val_precision: 0.9714 - val_recall: 0.9464 - val_auc: 0.9882\n",
      "Epoch 8/10\n",
      "1120/1120 [==============================] - 1430s 1s/step - loss: 0.0075 - accuracy: 0.9330 - precision: 0.9834 - recall: 0.9250 - auc: 0.9862 - val_loss: 0.0080 - val_accuracy: 0.9393 - val_precision: 0.9806 - val_recall: 0.9267 - val_auc: 0.9874\n",
      "Epoch 9/10\n",
      "1120/1120 [==============================] - 1431s 1s/step - loss: 0.0073 - accuracy: 0.9361 - precision: 0.9854 - recall: 0.9272 - auc: 0.9873 - val_loss: 0.0079 - val_accuracy: 0.9389 - val_precision: 0.9857 - val_recall: 0.9210 - val_auc: 0.9887\n",
      "Epoch 10/10\n",
      "1120/1120 [==============================] - 1430s 1s/step - loss: 0.0073 - accuracy: 0.9372 - precision: 0.9840 - recall: 0.9301 - auc: 0.9871 - val_loss: 0.0081 - val_accuracy: 0.9452 - val_precision: 0.9772 - val_recall: 0.9390 - val_auc: 0.9879\n",
      "INFO:tensorflow:Assets written to: /Users/litto/WORKSPACE/MegaClassifier/models/MegaClassifier_a_EfficientNetB5/v2/v2.3.0.2/assets\n"
     ]
    },
    {
     "name": "stderr",
     "output_type": "stream",
     "text": [
      "INFO:tensorflow:Assets written to: /Users/litto/WORKSPACE/MegaClassifier/models/MegaClassifier_a_EfficientNetB5/v2/v2.3.0.2/assets\n"
     ]
    },
    {
     "name": "stdout",
     "output_type": "stream",
     "text": [
      "268/268 [==============================] - 271s 1s/step - loss: 0.0064 - accuracy: 0.9496 - precision: 0.9859 - recall: 0.9372 - auc: 0.9912\n"
     ]
    },
    {
     "name": "stderr",
     "output_type": "stream",
     "text": [
      "2025-03-06 19:24:08.421680: I tensorflow/core/grappler/optimizers/custom_graph_optimizer_registry.cc:114] Plugin optimizer for device_type GPU is enabled.\n"
     ]
    },
    {
     "name": "stdout",
     "output_type": "stream",
     "text": [
      "268/268 [==============================] - 279s 1s/step\n",
      "Found 17906 validated image filenames belonging to 2 classes.\n",
      "Found 4286 validated image filenames belonging to 2 classes.\n",
      "Found 4286 validated image filenames belonging to 2 classes.\n",
      "Epoch 1/10\n"
     ]
    },
    {
     "name": "stderr",
     "output_type": "stream",
     "text": [
      "2025-03-06 19:28:56.481511: I tensorflow/core/grappler/optimizers/custom_graph_optimizer_registry.cc:114] Plugin optimizer for device_type GPU is enabled.\n"
     ]
    },
    {
     "name": "stdout",
     "output_type": "stream",
     "text": [
      "1120/1120 [==============================] - ETA: 0s - loss: 0.0483 - accuracy: 0.9206 - precision: 0.9611 - recall: 0.9279 - auc: 0.9748"
     ]
    },
    {
     "name": "stderr",
     "output_type": "stream",
     "text": [
      "2025-03-06 19:48:26.063286: I tensorflow/core/grappler/optimizers/custom_graph_optimizer_registry.cc:114] Plugin optimizer for device_type GPU is enabled.\n"
     ]
    },
    {
     "name": "stdout",
     "output_type": "stream",
     "text": [
      "1120/1120 [==============================] - 1454s 1s/step - loss: 0.0483 - accuracy: 0.9206 - precision: 0.9611 - recall: 0.9279 - auc: 0.9748 - val_loss: 0.0375 - val_accuracy: 0.9410 - val_precision: 0.9634 - val_recall: 0.9468 - val_auc: 0.9837\n",
      "Epoch 2/10\n",
      "1120/1120 [==============================] - 1422s 1s/step - loss: 0.0395 - accuracy: 0.9313 - precision: 0.9666 - recall: 0.9394 - auc: 0.9804 - val_loss: 0.0344 - val_accuracy: 0.9459 - val_precision: 0.9711 - val_recall: 0.9464 - val_auc: 0.9859\n",
      "Epoch 3/10\n",
      "1120/1120 [==============================] - 1423s 1s/step - loss: 0.0368 - accuracy: 0.9356 - precision: 0.9700 - recall: 0.9419 - auc: 0.9828 - val_loss: 0.0340 - val_accuracy: 0.9428 - val_precision: 0.9779 - val_recall: 0.9348 - val_auc: 0.9860\n",
      "Epoch 4/10\n",
      "1120/1120 [==============================] - 1423s 1s/step - loss: 0.0351 - accuracy: 0.9381 - precision: 0.9696 - recall: 0.9460 - auc: 0.9844 - val_loss: 0.0331 - val_accuracy: 0.9433 - val_precision: 0.9758 - val_recall: 0.9376 - val_auc: 0.9876\n",
      "Epoch 5/10\n",
      "1120/1120 [==============================] - 1424s 1s/step - loss: 0.0348 - accuracy: 0.9395 - precision: 0.9711 - recall: 0.9463 - auc: 0.9846 - val_loss: 0.0325 - val_accuracy: 0.9454 - val_precision: 0.9769 - val_recall: 0.9397 - val_auc: 0.9875\n",
      "Epoch 6/10\n",
      "1120/1120 [==============================] - 1423s 1s/step - loss: 0.0339 - accuracy: 0.9416 - precision: 0.9720 - recall: 0.9482 - auc: 0.9854 - val_loss: 0.0325 - val_accuracy: 0.9454 - val_precision: 0.9727 - val_recall: 0.9439 - val_auc: 0.9878\n",
      "Epoch 7/10\n",
      "1120/1120 [==============================] - 1423s 1s/step - loss: 0.0328 - accuracy: 0.9430 - precision: 0.9723 - recall: 0.9499 - auc: 0.9864 - val_loss: 0.0329 - val_accuracy: 0.9470 - val_precision: 0.9735 - val_recall: 0.9457 - val_auc: 0.9878\n",
      "Epoch 8/10\n",
      "1120/1120 [==============================] - 1423s 1s/step - loss: 0.0323 - accuracy: 0.9446 - precision: 0.9735 - recall: 0.9509 - auc: 0.9868 - val_loss: 0.0328 - val_accuracy: 0.9498 - val_precision: 0.9695 - val_recall: 0.9542 - val_auc: 0.9880\n",
      "Epoch 9/10\n",
      "1120/1120 [==============================] - 1423s 1s/step - loss: 0.0321 - accuracy: 0.9457 - precision: 0.9745 - recall: 0.9514 - auc: 0.9870 - val_loss: 0.0330 - val_accuracy: 0.9435 - val_precision: 0.9811 - val_recall: 0.9327 - val_auc: 0.9883\n",
      "Epoch 10/10\n",
      "1120/1120 [==============================] - 1424s 1s/step - loss: 0.0315 - accuracy: 0.9458 - precision: 0.9748 - recall: 0.9513 - auc: 0.9874 - val_loss: 0.0322 - val_accuracy: 0.9501 - val_precision: 0.9743 - val_recall: 0.9496 - val_auc: 0.9879\n",
      "INFO:tensorflow:Assets written to: /Users/litto/WORKSPACE/MegaClassifier/models/MegaClassifier_a_EfficientNetB5/v2/v2.3.1.0/assets\n"
     ]
    },
    {
     "name": "stderr",
     "output_type": "stream",
     "text": [
      "INFO:tensorflow:Assets written to: /Users/litto/WORKSPACE/MegaClassifier/models/MegaClassifier_a_EfficientNetB5/v2/v2.3.1.0/assets\n"
     ]
    },
    {
     "name": "stdout",
     "output_type": "stream",
     "text": [
      "268/268 [==============================] - 271s 1s/step - loss: 0.0274 - accuracy: 0.9564 - precision: 0.9801 - recall: 0.9535 - auc: 0.9910\n"
     ]
    },
    {
     "name": "stderr",
     "output_type": "stream",
     "text": [
      "2025-03-06 23:31:37.376455: I tensorflow/core/grappler/optimizers/custom_graph_optimizer_registry.cc:114] Plugin optimizer for device_type GPU is enabled.\n"
     ]
    },
    {
     "name": "stdout",
     "output_type": "stream",
     "text": [
      "268/268 [==============================] - 277s 1s/step\n",
      "Found 17906 validated image filenames belonging to 2 classes.\n",
      "Found 4286 validated image filenames belonging to 2 classes.\n",
      "Found 4286 validated image filenames belonging to 2 classes.\n",
      "Epoch 1/10\n"
     ]
    },
    {
     "name": "stderr",
     "output_type": "stream",
     "text": [
      "2025-03-06 23:36:21.373805: I tensorflow/core/grappler/optimizers/custom_graph_optimizer_registry.cc:114] Plugin optimizer for device_type GPU is enabled.\n"
     ]
    },
    {
     "name": "stdout",
     "output_type": "stream",
     "text": [
      "1120/1120 [==============================] - ETA: 0s - loss: 0.0256 - accuracy: 0.9218 - precision: 0.9606 - recall: 0.9302 - auc: 0.9751"
     ]
    },
    {
     "name": "stderr",
     "output_type": "stream",
     "text": [
      "2025-03-06 23:55:52.716605: I tensorflow/core/grappler/optimizers/custom_graph_optimizer_registry.cc:114] Plugin optimizer for device_type GPU is enabled.\n"
     ]
    },
    {
     "name": "stdout",
     "output_type": "stream",
     "text": [
      "1120/1120 [==============================] - 1458s 1s/step - loss: 0.0256 - accuracy: 0.9218 - precision: 0.9606 - recall: 0.9302 - auc: 0.9751 - val_loss: 0.0192 - val_accuracy: 0.9330 - val_precision: 0.9797 - val_recall: 0.9178 - val_auc: 0.9855\n",
      "Epoch 2/10\n",
      "1120/1120 [==============================] - 1423s 1s/step - loss: 0.0204 - accuracy: 0.9306 - precision: 0.9649 - recall: 0.9402 - auc: 0.9804 - val_loss: 0.0182 - val_accuracy: 0.9447 - val_precision: 0.9633 - val_recall: 0.9528 - val_auc: 0.9866\n",
      "Epoch 3/10\n",
      "1120/1120 [==============================] - 1423s 1s/step - loss: 0.0190 - accuracy: 0.9342 - precision: 0.9683 - recall: 0.9417 - auc: 0.9829 - val_loss: 0.0197 - val_accuracy: 0.9342 - val_precision: 0.9852 - val_recall: 0.9143 - val_auc: 0.9871\n",
      "Epoch 4/10\n",
      "1120/1120 [==============================] - 1422s 1s/step - loss: 0.0182 - accuracy: 0.9381 - precision: 0.9701 - recall: 0.9453 - auc: 0.9844 - val_loss: 0.0190 - val_accuracy: 0.9449 - val_precision: 0.9565 - val_recall: 0.9605 - val_auc: 0.9873\n",
      "Epoch 5/10\n",
      "1120/1120 [==============================] - 1422s 1s/step - loss: 0.0180 - accuracy: 0.9381 - precision: 0.9693 - recall: 0.9463 - auc: 0.9847 - val_loss: 0.0174 - val_accuracy: 0.9463 - val_precision: 0.9704 - val_recall: 0.9478 - val_auc: 0.9879\n",
      "Epoch 6/10\n",
      "1120/1120 [==============================] - 1423s 1s/step - loss: 0.0173 - accuracy: 0.9418 - precision: 0.9729 - recall: 0.9475 - auc: 0.9859 - val_loss: 0.0179 - val_accuracy: 0.9417 - val_precision: 0.9789 - val_recall: 0.9319 - val_auc: 0.9885\n",
      "Epoch 7/10\n",
      "1120/1120 [==============================] - 1422s 1s/step - loss: 0.0169 - accuracy: 0.9428 - precision: 0.9716 - recall: 0.9503 - auc: 0.9865 - val_loss: 0.0170 - val_accuracy: 0.9482 - val_precision: 0.9736 - val_recall: 0.9475 - val_auc: 0.9882\n",
      "Epoch 8/10\n",
      "1120/1120 [==============================] - 1424s 1s/step - loss: 0.0165 - accuracy: 0.9450 - precision: 0.9741 - recall: 0.9508 - auc: 0.9871 - val_loss: 0.0180 - val_accuracy: 0.9477 - val_precision: 0.9722 - val_recall: 0.9482 - val_auc: 0.9871\n",
      "Epoch 9/10\n",
      "1120/1120 [==============================] - 1422s 1s/step - loss: 0.0163 - accuracy: 0.9461 - precision: 0.9745 - recall: 0.9519 - auc: 0.9875 - val_loss: 0.0175 - val_accuracy: 0.9468 - val_precision: 0.9756 - val_recall: 0.9432 - val_auc: 0.9882\n",
      "Epoch 10/10\n",
      "1120/1120 [==============================] - 1423s 1s/step - loss: 0.0160 - accuracy: 0.9463 - precision: 0.9748 - recall: 0.9519 - auc: 0.9878 - val_loss: 0.0195 - val_accuracy: 0.9463 - val_precision: 0.9550 - val_recall: 0.9644 - val_auc: 0.9875\n",
      "INFO:tensorflow:Assets written to: /Users/litto/WORKSPACE/MegaClassifier/models/MegaClassifier_a_EfficientNetB5/v2/v2.3.1.1/assets\n"
     ]
    },
    {
     "name": "stderr",
     "output_type": "stream",
     "text": [
      "INFO:tensorflow:Assets written to: /Users/litto/WORKSPACE/MegaClassifier/models/MegaClassifier_a_EfficientNetB5/v2/v2.3.1.1/assets\n"
     ]
    },
    {
     "name": "stdout",
     "output_type": "stream",
     "text": [
      "268/268 [==============================] - 272s 1s/step - loss: 0.0154 - accuracy: 0.9561 - precision: 0.9685 - recall: 0.9651 - auc: 0.9909\n"
     ]
    },
    {
     "name": "stderr",
     "output_type": "stream",
     "text": [
      "2025-03-07 03:39:07.090454: I tensorflow/core/grappler/optimizers/custom_graph_optimizer_registry.cc:114] Plugin optimizer for device_type GPU is enabled.\n"
     ]
    },
    {
     "name": "stdout",
     "output_type": "stream",
     "text": [
      "268/268 [==============================] - 279s 1s/step\n",
      "Found 17906 validated image filenames belonging to 2 classes.\n",
      "Found 4286 validated image filenames belonging to 2 classes.\n",
      "Found 4286 validated image filenames belonging to 2 classes.\n",
      "Epoch 1/10\n"
     ]
    },
    {
     "name": "stderr",
     "output_type": "stream",
     "text": [
      "2025-03-07 03:43:53.820367: I tensorflow/core/grappler/optimizers/custom_graph_optimizer_registry.cc:114] Plugin optimizer for device_type GPU is enabled.\n"
     ]
    },
    {
     "name": "stdout",
     "output_type": "stream",
     "text": [
      "1120/1120 [==============================] - ETA: 0s - loss: 0.0134 - accuracy: 0.9201 - precision: 0.9567 - recall: 0.9318 - auc: 0.9744"
     ]
    },
    {
     "name": "stderr",
     "output_type": "stream",
     "text": [
      "2025-03-07 04:03:23.750738: I tensorflow/core/grappler/optimizers/custom_graph_optimizer_registry.cc:114] Plugin optimizer for device_type GPU is enabled.\n"
     ]
    },
    {
     "name": "stdout",
     "output_type": "stream",
     "text": [
      "1120/1120 [==============================] - 1452s 1s/step - loss: 0.0134 - accuracy: 0.9201 - precision: 0.9567 - recall: 0.9318 - auc: 0.9744 - val_loss: 0.0097 - val_accuracy: 0.9442 - val_precision: 0.9646 - val_recall: 0.9506 - val_auc: 0.9858\n",
      "Epoch 2/10\n",
      "1120/1120 [==============================] - 1424s 1s/step - loss: 0.0106 - accuracy: 0.9314 - precision: 0.9652 - recall: 0.9411 - auc: 0.9800 - val_loss: 0.0098 - val_accuracy: 0.9400 - val_precision: 0.9821 - val_recall: 0.9263 - val_auc: 0.9869\n",
      "Epoch 3/10\n",
      "1120/1120 [==============================] - 1423s 1s/step - loss: 0.0098 - accuracy: 0.9359 - precision: 0.9695 - recall: 0.9429 - auc: 0.9828 - val_loss: 0.0092 - val_accuracy: 0.9454 - val_precision: 0.9780 - val_recall: 0.9386 - val_auc: 0.9871\n",
      "Epoch 4/10\n",
      "1120/1120 [==============================] - 1425s 1s/step - loss: 0.0095 - accuracy: 0.9378 - precision: 0.9694 - recall: 0.9457 - auc: 0.9841 - val_loss: 0.0092 - val_accuracy: 0.9498 - val_precision: 0.9669 - val_recall: 0.9570 - val_auc: 0.9875\n",
      "Epoch 5/10\n",
      "1120/1120 [==============================] - 1424s 1s/step - loss: 0.0091 - accuracy: 0.9400 - precision: 0.9715 - recall: 0.9466 - auc: 0.9852 - val_loss: 0.0093 - val_accuracy: 0.9468 - val_precision: 0.9711 - val_recall: 0.9478 - val_auc: 0.9875\n",
      "Epoch 6/10\n",
      "1120/1120 [==============================] - 1424s 1s/step - loss: 0.0090 - accuracy: 0.9410 - precision: 0.9709 - recall: 0.9485 - auc: 0.9856 - val_loss: 0.0091 - val_accuracy: 0.9456 - val_precision: 0.9714 - val_recall: 0.9457 - val_auc: 0.9878\n",
      "Epoch 7/10\n",
      "1120/1120 [==============================] - 1424s 1s/step - loss: 0.0087 - accuracy: 0.9447 - precision: 0.9726 - recall: 0.9519 - auc: 0.9865 - val_loss: 0.0094 - val_accuracy: 0.9466 - val_precision: 0.9611 - val_recall: 0.9580 - val_auc: 0.9876\n",
      "Epoch 8/10\n",
      "1120/1120 [==============================] - 1424s 1s/step - loss: 0.0086 - accuracy: 0.9440 - precision: 0.9720 - recall: 0.9515 - auc: 0.9869 - val_loss: 0.0095 - val_accuracy: 0.9452 - val_precision: 0.9776 - val_recall: 0.9386 - val_auc: 0.9883\n",
      "Epoch 9/10\n",
      "1120/1120 [==============================] - 1425s 1s/step - loss: 0.0085 - accuracy: 0.9434 - precision: 0.9726 - recall: 0.9502 - auc: 0.9872 - val_loss: 0.0098 - val_accuracy: 0.9482 - val_precision: 0.9641 - val_recall: 0.9573 - val_auc: 0.9879\n",
      "Epoch 10/10\n",
      "1120/1120 [==============================] - 1426s 1s/step - loss: 0.0083 - accuracy: 0.9451 - precision: 0.9725 - recall: 0.9527 - auc: 0.9876 - val_loss: 0.0097 - val_accuracy: 0.9482 - val_precision: 0.9732 - val_recall: 0.9478 - val_auc: 0.9876\n",
      "INFO:tensorflow:Assets written to: /Users/litto/WORKSPACE/MegaClassifier/models/MegaClassifier_a_EfficientNetB5/v2/v2.3.1.2/assets\n"
     ]
    },
    {
     "name": "stderr",
     "output_type": "stream",
     "text": [
      "INFO:tensorflow:Assets written to: /Users/litto/WORKSPACE/MegaClassifier/models/MegaClassifier_a_EfficientNetB5/v2/v2.3.1.2/assets\n"
     ]
    },
    {
     "name": "stdout",
     "output_type": "stream",
     "text": [
      "268/268 [==============================] - 272s 1s/step - loss: 0.0077 - accuracy: 0.9531 - precision: 0.9824 - recall: 0.9461 - auc: 0.9913\n"
     ]
    },
    {
     "name": "stderr",
     "output_type": "stream",
     "text": [
      "2025-03-07 07:46:49.017874: I tensorflow/core/grappler/optimizers/custom_graph_optimizer_registry.cc:114] Plugin optimizer for device_type GPU is enabled.\n"
     ]
    },
    {
     "name": "stdout",
     "output_type": "stream",
     "text": [
      "268/268 [==============================] - 279s 1s/step\n",
      "Found 17906 validated image filenames belonging to 2 classes.\n",
      "Found 4286 validated image filenames belonging to 2 classes.\n",
      "Found 4286 validated image filenames belonging to 2 classes.\n",
      "Epoch 1/10\n"
     ]
    },
    {
     "name": "stderr",
     "output_type": "stream",
     "text": [
      "2025-03-07 07:51:37.293755: I tensorflow/core/grappler/optimizers/custom_graph_optimizer_registry.cc:114] Plugin optimizer for device_type GPU is enabled.\n"
     ]
    },
    {
     "name": "stdout",
     "output_type": "stream",
     "text": [
      "1120/1120 [==============================] - ETA: 0s - loss: 0.0486 - accuracy: 0.9228 - precision: 0.9367 - recall: 0.9581 - auc: 0.9738"
     ]
    },
    {
     "name": "stderr",
     "output_type": "stream",
     "text": [
      "2025-03-07 08:11:09.993895: I tensorflow/core/grappler/optimizers/custom_graph_optimizer_registry.cc:114] Plugin optimizer for device_type GPU is enabled.\n"
     ]
    },
    {
     "name": "stdout",
     "output_type": "stream",
     "text": [
      "1120/1120 [==============================] - 1458s 1s/step - loss: 0.0486 - accuracy: 0.9228 - precision: 0.9367 - recall: 0.9581 - auc: 0.9738 - val_loss: 0.0364 - val_accuracy: 0.9438 - val_precision: 0.9466 - val_recall: 0.9697 - val_auc: 0.9854\n",
      "Epoch 2/10\n",
      "1120/1120 [==============================] - 1429s 1s/step - loss: 0.0401 - accuracy: 0.9318 - precision: 0.9412 - recall: 0.9682 - auc: 0.9795 - val_loss: 0.0360 - val_accuracy: 0.9398 - val_precision: 0.9378 - val_recall: 0.9736 - val_auc: 0.9866\n",
      "Epoch 3/10\n",
      "1120/1120 [==============================] - 1428s 1s/step - loss: 0.0374 - accuracy: 0.9351 - precision: 0.9454 - recall: 0.9681 - auc: 0.9824 - val_loss: 0.0352 - val_accuracy: 0.9470 - val_precision: 0.9657 - val_recall: 0.9538 - val_auc: 0.9873\n",
      "Epoch 4/10\n",
      "1120/1120 [==============================] - 1429s 1s/step - loss: 0.0355 - accuracy: 0.9378 - precision: 0.9473 - recall: 0.9698 - auc: 0.9841 - val_loss: 0.0340 - val_accuracy: 0.9417 - val_precision: 0.9395 - val_recall: 0.9746 - val_auc: 0.9881\n",
      "Epoch 5/10\n",
      "1120/1120 [==============================] - 1429s 1s/step - loss: 0.0351 - accuracy: 0.9407 - precision: 0.9497 - recall: 0.9712 - auc: 0.9844 - val_loss: 0.0328 - val_accuracy: 0.9489 - val_precision: 0.9606 - val_recall: 0.9623 - val_auc: 0.9882\n",
      "Epoch 6/10\n",
      "1120/1120 [==============================] - 1429s 1s/step - loss: 0.0342 - accuracy: 0.9396 - precision: 0.9487 - recall: 0.9707 - auc: 0.9852 - val_loss: 0.0351 - val_accuracy: 0.9473 - val_precision: 0.9677 - val_recall: 0.9520 - val_auc: 0.9877\n",
      "Epoch 7/10\n",
      "1120/1120 [==============================] - 1428s 1s/step - loss: 0.0332 - accuracy: 0.9442 - precision: 0.9521 - recall: 0.9735 - auc: 0.9862 - val_loss: 0.0332 - val_accuracy: 0.9461 - val_precision: 0.9499 - val_recall: 0.9697 - val_auc: 0.9881\n",
      "Epoch 8/10\n",
      "1120/1120 [==============================] - 1428s 1s/step - loss: 0.0325 - accuracy: 0.9447 - precision: 0.9531 - recall: 0.9730 - auc: 0.9867 - val_loss: 0.0332 - val_accuracy: 0.9482 - val_precision: 0.9545 - val_recall: 0.9679 - val_auc: 0.9880\n",
      "Epoch 9/10\n",
      "1120/1120 [==============================] - 1430s 1s/step - loss: 0.0323 - accuracy: 0.9457 - precision: 0.9537 - recall: 0.9738 - auc: 0.9868 - val_loss: 0.0323 - val_accuracy: 0.9501 - val_precision: 0.9543 - val_recall: 0.9711 - val_auc: 0.9886\n",
      "Epoch 10/10\n",
      "1120/1120 [==============================] - 1428s 1s/step - loss: 0.0316 - accuracy: 0.9457 - precision: 0.9543 - recall: 0.9731 - auc: 0.9874 - val_loss: 0.0333 - val_accuracy: 0.9489 - val_precision: 0.9609 - val_recall: 0.9619 - val_auc: 0.9881\n",
      "INFO:tensorflow:Assets written to: /Users/litto/WORKSPACE/MegaClassifier/models/MegaClassifier_a_EfficientNetB5/v2/v2.3.2.0/assets\n"
     ]
    },
    {
     "name": "stderr",
     "output_type": "stream",
     "text": [
      "INFO:tensorflow:Assets written to: /Users/litto/WORKSPACE/MegaClassifier/models/MegaClassifier_a_EfficientNetB5/v2/v2.3.2.0/assets\n"
     ]
    },
    {
     "name": "stdout",
     "output_type": "stream",
     "text": [
      "268/268 [==============================] - 272s 1s/step - loss: 0.0281 - accuracy: 0.9561 - precision: 0.9682 - recall: 0.9654 - auc: 0.9915\n"
     ]
    },
    {
     "name": "stderr",
     "output_type": "stream",
     "text": [
      "2025-03-07 11:55:08.887122: I tensorflow/core/grappler/optimizers/custom_graph_optimizer_registry.cc:114] Plugin optimizer for device_type GPU is enabled.\n"
     ]
    },
    {
     "name": "stdout",
     "output_type": "stream",
     "text": [
      "268/268 [==============================] - 285s 1s/step\n",
      "Found 17906 validated image filenames belonging to 2 classes.\n",
      "Found 4286 validated image filenames belonging to 2 classes.\n",
      "Found 4286 validated image filenames belonging to 2 classes.\n",
      "Epoch 1/10\n"
     ]
    },
    {
     "name": "stderr",
     "output_type": "stream",
     "text": [
      "2025-03-07 12:00:02.988662: I tensorflow/core/grappler/optimizers/custom_graph_optimizer_registry.cc:114] Plugin optimizer for device_type GPU is enabled.\n"
     ]
    },
    {
     "name": "stdout",
     "output_type": "stream",
     "text": [
      "1120/1120 [==============================] - ETA: 0s - loss: 0.0255 - accuracy: 0.9206 - precision: 0.9337 - recall: 0.9584 - auc: 0.9746"
     ]
    },
    {
     "name": "stderr",
     "output_type": "stream",
     "text": [
      "2025-03-07 12:19:32.983397: I tensorflow/core/grappler/optimizers/custom_graph_optimizer_registry.cc:114] Plugin optimizer for device_type GPU is enabled.\n"
     ]
    },
    {
     "name": "stdout",
     "output_type": "stream",
     "text": [
      "1120/1120 [==============================] - 1452s 1s/step - loss: 0.0255 - accuracy: 0.9206 - precision: 0.9337 - recall: 0.9584 - auc: 0.9746 - val_loss: 0.0189 - val_accuracy: 0.9461 - val_precision: 0.9578 - val_recall: 0.9609 - val_auc: 0.9857\n",
      "Epoch 2/10\n",
      "1120/1120 [==============================] - 1425s 1s/step - loss: 0.0205 - accuracy: 0.9314 - precision: 0.9417 - recall: 0.9670 - auc: 0.9801 - val_loss: 0.0187 - val_accuracy: 0.9505 - val_precision: 0.9666 - val_recall: 0.9584 - val_auc: 0.9869\n",
      "Epoch 3/10\n",
      "1120/1120 [==============================] - 1424s 1s/step - loss: 0.0191 - accuracy: 0.9354 - precision: 0.9463 - recall: 0.9675 - auc: 0.9828 - val_loss: 0.0189 - val_accuracy: 0.9419 - val_precision: 0.9407 - val_recall: 0.9736 - val_auc: 0.9862\n",
      "Epoch 4/10\n",
      "1120/1120 [==============================] - 1424s 1s/step - loss: 0.0183 - accuracy: 0.9385 - precision: 0.9483 - recall: 0.9697 - auc: 0.9842 - val_loss: 0.0183 - val_accuracy: 0.9452 - val_precision: 0.9536 - val_recall: 0.9640 - val_auc: 0.9871\n",
      "Epoch 5/10\n",
      "1120/1120 [==============================] - 1423s 1s/step - loss: 0.0179 - accuracy: 0.9399 - precision: 0.9505 - recall: 0.9692 - auc: 0.9848 - val_loss: 0.0177 - val_accuracy: 0.9477 - val_precision: 0.9528 - val_recall: 0.9690 - val_auc: 0.9880\n",
      "Epoch 6/10\n",
      "1120/1120 [==============================] - 1424s 1s/step - loss: 0.0175 - accuracy: 0.9420 - precision: 0.9516 - recall: 0.9708 - auc: 0.9856 - val_loss: 0.0177 - val_accuracy: 0.9454 - val_precision: 0.9505 - val_recall: 0.9679 - val_auc: 0.9879\n",
      "Epoch 7/10\n",
      "1120/1120 [==============================] - 1424s 1s/step - loss: 0.0171 - accuracy: 0.9437 - precision: 0.9532 - recall: 0.9715 - auc: 0.9862 - val_loss: 0.0185 - val_accuracy: 0.9473 - val_precision: 0.9624 - val_recall: 0.9577 - val_auc: 0.9874\n",
      "Epoch 8/10\n",
      "1120/1120 [==============================] - 1424s 1s/step - loss: 0.0167 - accuracy: 0.9445 - precision: 0.9535 - recall: 0.9723 - auc: 0.9869 - val_loss: 0.0176 - val_accuracy: 0.9489 - val_precision: 0.9558 - val_recall: 0.9676 - val_auc: 0.9881\n",
      "Epoch 9/10\n",
      "1120/1120 [==============================] - 1425s 1s/step - loss: 0.0164 - accuracy: 0.9469 - precision: 0.9556 - recall: 0.9735 - auc: 0.9874 - val_loss: 0.0175 - val_accuracy: 0.9494 - val_precision: 0.9555 - val_recall: 0.9686 - val_auc: 0.9884\n",
      "Epoch 10/10\n",
      "1120/1120 [==============================] - 1424s 1s/step - loss: 0.0163 - accuracy: 0.9455 - precision: 0.9544 - recall: 0.9727 - auc: 0.9875 - val_loss: 0.0178 - val_accuracy: 0.9491 - val_precision: 0.9629 - val_recall: 0.9602 - val_auc: 0.9884\n",
      "INFO:tensorflow:Assets written to: /Users/litto/WORKSPACE/MegaClassifier/models/MegaClassifier_a_EfficientNetB5/v2/v2.3.2.1/assets\n"
     ]
    },
    {
     "name": "stderr",
     "output_type": "stream",
     "text": [
      "INFO:tensorflow:Assets written to: /Users/litto/WORKSPACE/MegaClassifier/models/MegaClassifier_a_EfficientNetB5/v2/v2.3.2.1/assets\n"
     ]
    },
    {
     "name": "stdout",
     "output_type": "stream",
     "text": [
      "268/268 [==============================] - 272s 1s/step - loss: 0.0151 - accuracy: 0.9573 - precision: 0.9719 - recall: 0.9633 - auc: 0.9912\n"
     ]
    },
    {
     "name": "stderr",
     "output_type": "stream",
     "text": [
      "2025-03-07 16:02:53.585822: I tensorflow/core/grappler/optimizers/custom_graph_optimizer_registry.cc:114] Plugin optimizer for device_type GPU is enabled.\n"
     ]
    },
    {
     "name": "stdout",
     "output_type": "stream",
     "text": [
      "268/268 [==============================] - 285s 1s/step\n",
      "Found 17906 validated image filenames belonging to 2 classes.\n",
      "Found 4286 validated image filenames belonging to 2 classes.\n",
      "Found 4286 validated image filenames belonging to 2 classes.\n",
      "Epoch 1/10\n"
     ]
    },
    {
     "name": "stderr",
     "output_type": "stream",
     "text": [
      "2025-03-07 16:07:46.779024: I tensorflow/core/grappler/optimizers/custom_graph_optimizer_registry.cc:114] Plugin optimizer for device_type GPU is enabled.\n"
     ]
    },
    {
     "name": "stdout",
     "output_type": "stream",
     "text": [
      "1120/1120 [==============================] - ETA: 0s - loss: 0.0133 - accuracy: 0.9199 - precision: 0.9349 - recall: 0.9559 - auc: 0.9746"
     ]
    },
    {
     "name": "stderr",
     "output_type": "stream",
     "text": [
      "2025-03-07 16:27:17.096860: I tensorflow/core/grappler/optimizers/custom_graph_optimizer_registry.cc:114] Plugin optimizer for device_type GPU is enabled.\n"
     ]
    },
    {
     "name": "stdout",
     "output_type": "stream",
     "text": [
      "1120/1120 [==============================] - 1462s 1s/step - loss: 0.0133 - accuracy: 0.9199 - precision: 0.9349 - recall: 0.9559 - auc: 0.9746 - val_loss: 0.0102 - val_accuracy: 0.9426 - val_precision: 0.9618 - val_recall: 0.9510 - val_auc: 0.9858\n",
      "Epoch 2/10\n",
      "1120/1120 [==============================] - 1425s 1s/step - loss: 0.0107 - accuracy: 0.9299 - precision: 0.9416 - recall: 0.9649 - auc: 0.9794 - val_loss: 0.0095 - val_accuracy: 0.9454 - val_precision: 0.9530 - val_recall: 0.9651 - val_auc: 0.9868\n",
      "Epoch 3/10\n",
      "1120/1120 [==============================] - 1424s 1s/step - loss: 0.0099 - accuracy: 0.9349 - precision: 0.9459 - recall: 0.9673 - auc: 0.9824 - val_loss: 0.0098 - val_accuracy: 0.9454 - val_precision: 0.9555 - val_recall: 0.9623 - val_auc: 0.9862\n",
      "Epoch 4/10\n",
      "1120/1120 [==============================] - 1424s 1s/step - loss: 0.0095 - accuracy: 0.9372 - precision: 0.9486 - recall: 0.9674 - auc: 0.9838 - val_loss: 0.0094 - val_accuracy: 0.9473 - val_precision: 0.9553 - val_recall: 0.9654 - val_auc: 0.9875\n",
      "Epoch 5/10\n",
      "1120/1120 [==============================] - 1424s 1s/step - loss: 0.0093 - accuracy: 0.9391 - precision: 0.9494 - recall: 0.9692 - auc: 0.9845 - val_loss: 0.0109 - val_accuracy: 0.9452 - val_precision: 0.9636 - val_recall: 0.9531 - val_auc: 0.9867\n",
      "Epoch 6/10\n",
      "1120/1120 [==============================] - 1425s 1s/step - loss: 0.0092 - accuracy: 0.9387 - precision: 0.9500 - recall: 0.9680 - auc: 0.9852 - val_loss: 0.0100 - val_accuracy: 0.9466 - val_precision: 0.9714 - val_recall: 0.9471 - val_auc: 0.9882\n",
      "Epoch 7/10\n",
      "1120/1120 [==============================] - 1425s 1s/step - loss: 0.0087 - accuracy: 0.9437 - precision: 0.9531 - recall: 0.9716 - auc: 0.9865 - val_loss: 0.0100 - val_accuracy: 0.9454 - val_precision: 0.9704 - val_recall: 0.9464 - val_auc: 0.9884\n",
      "Epoch 8/10\n",
      "1120/1120 [==============================] - 1424s 1s/step - loss: 0.0087 - accuracy: 0.9443 - precision: 0.9532 - recall: 0.9723 - auc: 0.9867 - val_loss: 0.0094 - val_accuracy: 0.9498 - val_precision: 0.9619 - val_recall: 0.9623 - val_auc: 0.9882\n",
      "Epoch 9/10\n",
      "1120/1120 [==============================] - 1425s 1s/step - loss: 0.0085 - accuracy: 0.9441 - precision: 0.9537 - recall: 0.9715 - auc: 0.9873 - val_loss: 0.0098 - val_accuracy: 0.9487 - val_precision: 0.9658 - val_recall: 0.9563 - val_auc: 0.9885\n",
      "Epoch 10/10\n",
      "1120/1120 [==============================] - 1424s 1s/step - loss: 0.0084 - accuracy: 0.9459 - precision: 0.9550 - recall: 0.9726 - auc: 0.9875 - val_loss: 0.0096 - val_accuracy: 0.9487 - val_precision: 0.9580 - val_recall: 0.9647 - val_auc: 0.9878\n",
      "INFO:tensorflow:Assets written to: /Users/litto/WORKSPACE/MegaClassifier/models/MegaClassifier_a_EfficientNetB5/v2/v2.3.2.2/assets\n"
     ]
    },
    {
     "name": "stderr",
     "output_type": "stream",
     "text": [
      "INFO:tensorflow:Assets written to: /Users/litto/WORKSPACE/MegaClassifier/models/MegaClassifier_a_EfficientNetB5/v2/v2.3.2.2/assets\n"
     ]
    },
    {
     "name": "stdout",
     "output_type": "stream",
     "text": [
      "268/268 [==============================] - 272s 1s/step - loss: 0.0079 - accuracy: 0.9557 - precision: 0.9668 - recall: 0.9661 - auc: 0.9912\n"
     ]
    },
    {
     "name": "stderr",
     "output_type": "stream",
     "text": [
      "2025-03-07 20:10:50.272410: I tensorflow/core/grappler/optimizers/custom_graph_optimizer_registry.cc:114] Plugin optimizer for device_type GPU is enabled.\n"
     ]
    },
    {
     "name": "stdout",
     "output_type": "stream",
     "text": [
      "268/268 [==============================] - 289s 1s/step\n",
      "Found 17906 validated image filenames belonging to 2 classes.\n",
      "Found 4286 validated image filenames belonging to 2 classes.\n",
      "Found 4286 validated image filenames belonging to 2 classes.\n",
      "Epoch 1/10\n"
     ]
    },
    {
     "name": "stderr",
     "output_type": "stream",
     "text": [
      "2025-03-07 20:15:48.275851: I tensorflow/core/grappler/optimizers/custom_graph_optimizer_registry.cc:114] Plugin optimizer for device_type GPU is enabled.\n"
     ]
    },
    {
     "name": "stdout",
     "output_type": "stream",
     "text": [
      "1120/1120 [==============================] - ETA: 0s - loss: 0.0425 - accuracy: 0.9108 - precision: 0.9082 - recall: 0.9755 - auc: 0.9713"
     ]
    },
    {
     "name": "stderr",
     "output_type": "stream",
     "text": [
      "2025-03-07 20:35:25.682536: I tensorflow/core/grappler/optimizers/custom_graph_optimizer_registry.cc:114] Plugin optimizer for device_type GPU is enabled.\n"
     ]
    },
    {
     "name": "stdout",
     "output_type": "stream",
     "text": [
      "1120/1120 [==============================] - 1467s 1s/step - loss: 0.0425 - accuracy: 0.9108 - precision: 0.9082 - recall: 0.9755 - auc: 0.9713 - val_loss: 0.0332 - val_accuracy: 0.9272 - val_precision: 0.9176 - val_recall: 0.9778 - val_auc: 0.9840\n",
      "Epoch 2/10\n",
      "1120/1120 [==============================] - 1424s 1s/step - loss: 0.0347 - accuracy: 0.9181 - precision: 0.9129 - recall: 0.9829 - auc: 0.9787 - val_loss: 0.0324 - val_accuracy: 0.9284 - val_precision: 0.9147 - val_recall: 0.9834 - val_auc: 0.9855\n",
      "Epoch 3/10\n",
      "1120/1120 [==============================] - 1425s 1s/step - loss: 0.0324 - accuracy: 0.9227 - precision: 0.9176 - recall: 0.9836 - auc: 0.9819 - val_loss: 0.0305 - val_accuracy: 0.9270 - val_precision: 0.9146 - val_recall: 0.9813 - val_auc: 0.9869\n",
      "Epoch 4/10\n",
      "1120/1120 [==============================] - 1423s 1s/step - loss: 0.0310 - accuracy: 0.9270 - precision: 0.9219 - recall: 0.9847 - auc: 0.9834 - val_loss: 0.0308 - val_accuracy: 0.9417 - val_precision: 0.9407 - val_recall: 0.9732 - val_auc: 0.9865\n",
      "Epoch 5/10\n",
      "1120/1120 [==============================] - 1423s 1s/step - loss: 0.0304 - accuracy: 0.9289 - precision: 0.9243 - recall: 0.9843 - auc: 0.9838 - val_loss: 0.0313 - val_accuracy: 0.9431 - val_precision: 0.9469 - val_recall: 0.9683 - val_auc: 0.9868\n",
      "Epoch 6/10\n",
      "1120/1120 [==============================] - 1424s 1s/step - loss: 0.0296 - accuracy: 0.9294 - precision: 0.9247 - recall: 0.9846 - auc: 0.9847 - val_loss: 0.0302 - val_accuracy: 0.9445 - val_precision: 0.9464 - val_recall: 0.9711 - val_auc: 0.9877\n",
      "Epoch 7/10\n",
      "1120/1120 [==============================] - 1424s 1s/step - loss: 0.0286 - accuracy: 0.9352 - precision: 0.9303 - recall: 0.9862 - auc: 0.9855 - val_loss: 0.0300 - val_accuracy: 0.9335 - val_precision: 0.9228 - val_recall: 0.9817 - val_auc: 0.9871\n",
      "Epoch 8/10\n",
      "1120/1120 [==============================] - 1424s 1s/step - loss: 0.0279 - accuracy: 0.9368 - precision: 0.9316 - recall: 0.9869 - auc: 0.9864 - val_loss: 0.0300 - val_accuracy: 0.9440 - val_precision: 0.9445 - val_recall: 0.9725 - val_auc: 0.9875\n",
      "Epoch 9/10\n",
      "1120/1120 [==============================] - 1424s 1s/step - loss: 0.0280 - accuracy: 0.9351 - precision: 0.9307 - recall: 0.9856 - auc: 0.9862 - val_loss: 0.0296 - val_accuracy: 0.9398 - val_precision: 0.9369 - val_recall: 0.9746 - val_auc: 0.9879\n",
      "Epoch 10/10\n",
      "1120/1120 [==============================] - 1424s 1s/step - loss: 0.0276 - accuracy: 0.9348 - precision: 0.9308 - recall: 0.9850 - auc: 0.9867 - val_loss: 0.0287 - val_accuracy: 0.9396 - val_precision: 0.9322 - val_recall: 0.9799 - val_auc: 0.9881\n",
      "INFO:tensorflow:Assets written to: /Users/litto/WORKSPACE/MegaClassifier/models/MegaClassifier_a_EfficientNetB5/v2/v2.3.3.0/assets\n"
     ]
    },
    {
     "name": "stderr",
     "output_type": "stream",
     "text": [
      "INFO:tensorflow:Assets written to: /Users/litto/WORKSPACE/MegaClassifier/models/MegaClassifier_a_EfficientNetB5/v2/v2.3.3.0/assets\n"
     ]
    },
    {
     "name": "stdout",
     "output_type": "stream",
     "text": [
      "268/268 [==============================] - 271s 1s/step - loss: 0.0245 - accuracy: 0.9449 - precision: 0.9383 - recall: 0.9813 - auc: 0.9916\n"
     ]
    },
    {
     "name": "stderr",
     "output_type": "stream",
     "text": [
      "2025-03-08 00:18:46.432936: I tensorflow/core/grappler/optimizers/custom_graph_optimizer_registry.cc:114] Plugin optimizer for device_type GPU is enabled.\n"
     ]
    },
    {
     "name": "stdout",
     "output_type": "stream",
     "text": [
      "268/268 [==============================] - 284s 1s/step\n",
      "Found 17906 validated image filenames belonging to 2 classes.\n",
      "Found 4286 validated image filenames belonging to 2 classes.\n",
      "Found 4286 validated image filenames belonging to 2 classes.\n",
      "Epoch 1/10\n"
     ]
    },
    {
     "name": "stderr",
     "output_type": "stream",
     "text": [
      "2025-03-08 00:23:39.628970: I tensorflow/core/grappler/optimizers/custom_graph_optimizer_registry.cc:114] Plugin optimizer for device_type GPU is enabled.\n"
     ]
    },
    {
     "name": "stdout",
     "output_type": "stream",
     "text": [
      "1120/1120 [==============================] - ETA: 0s - loss: 0.0224 - accuracy: 0.9083 - precision: 0.9047 - recall: 0.9761 - auc: 0.9731"
     ]
    },
    {
     "name": "stderr",
     "output_type": "stream",
     "text": [
      "2025-03-08 00:43:07.674144: I tensorflow/core/grappler/optimizers/custom_graph_optimizer_registry.cc:114] Plugin optimizer for device_type GPU is enabled.\n"
     ]
    },
    {
     "name": "stdout",
     "output_type": "stream",
     "text": [
      "1120/1120 [==============================] - 1457s 1s/step - loss: 0.0224 - accuracy: 0.9083 - precision: 0.9047 - recall: 0.9761 - auc: 0.9731 - val_loss: 0.0183 - val_accuracy: 0.9272 - val_precision: 0.9193 - val_recall: 0.9757 - val_auc: 0.9828\n",
      "Epoch 2/10\n",
      "1120/1120 [==============================] - 1424s 1s/step - loss: 0.0180 - accuracy: 0.9199 - precision: 0.9152 - recall: 0.9826 - auc: 0.9792 - val_loss: 0.0178 - val_accuracy: 0.9242 - val_precision: 0.9086 - val_recall: 0.9845 - val_auc: 0.9851\n",
      "Epoch 3/10\n",
      "1120/1120 [==============================] - 1424s 1s/step - loss: 0.0166 - accuracy: 0.9235 - precision: 0.9194 - recall: 0.9826 - auc: 0.9824 - val_loss: 0.0169 - val_accuracy: 0.9440 - val_precision: 0.9485 - val_recall: 0.9679 - val_auc: 0.9864\n",
      "Epoch 4/10\n",
      "1120/1120 [==============================] - 1425s 1s/step - loss: 0.0157 - accuracy: 0.9283 - precision: 0.9242 - recall: 0.9836 - auc: 0.9841 - val_loss: 0.0162 - val_accuracy: 0.9442 - val_precision: 0.9461 - val_recall: 0.9711 - val_auc: 0.9875\n",
      "Epoch 5/10\n",
      "1120/1120 [==============================] - 1424s 1s/step - loss: 0.0155 - accuracy: 0.9319 - precision: 0.9270 - recall: 0.9853 - auc: 0.9846 - val_loss: 0.0160 - val_accuracy: 0.9431 - val_precision: 0.9420 - val_recall: 0.9739 - val_auc: 0.9874\n",
      "Epoch 6/10\n",
      "1120/1120 [==============================] - 1425s 1s/step - loss: 0.0152 - accuracy: 0.9311 - precision: 0.9268 - recall: 0.9845 - auc: 0.9851 - val_loss: 0.0166 - val_accuracy: 0.9449 - val_precision: 0.9505 - val_recall: 0.9672 - val_auc: 0.9874\n",
      "Epoch 7/10\n",
      "1120/1120 [==============================] - 1425s 1s/step - loss: 0.0148 - accuracy: 0.9348 - precision: 0.9312 - recall: 0.9845 - auc: 0.9861 - val_loss: 0.0162 - val_accuracy: 0.9440 - val_precision: 0.9473 - val_recall: 0.9693 - val_auc: 0.9869\n",
      "Epoch 8/10\n",
      "1120/1120 [==============================] - 1424s 1s/step - loss: 0.0143 - accuracy: 0.9375 - precision: 0.9341 - recall: 0.9850 - auc: 0.9869 - val_loss: 0.0163 - val_accuracy: 0.9281 - val_precision: 0.9158 - val_recall: 0.9817 - val_auc: 0.9872\n",
      "Epoch 9/10\n",
      "1120/1120 [==============================] - 1425s 1s/step - loss: 0.0142 - accuracy: 0.9378 - precision: 0.9345 - recall: 0.9850 - auc: 0.9871 - val_loss: 0.0159 - val_accuracy: 0.9319 - val_precision: 0.9173 - val_recall: 0.9859 - val_auc: 0.9883\n",
      "Epoch 10/10\n",
      "1120/1120 [==============================] - 1426s 1s/step - loss: 0.0141 - accuracy: 0.9369 - precision: 0.9333 - recall: 0.9850 - auc: 0.9873 - val_loss: 0.0162 - val_accuracy: 0.9456 - val_precision: 0.9499 - val_recall: 0.9690 - val_auc: 0.9881\n",
      "INFO:tensorflow:Assets written to: /Users/litto/WORKSPACE/MegaClassifier/models/MegaClassifier_a_EfficientNetB5/v2/v2.3.3.1/assets\n"
     ]
    },
    {
     "name": "stderr",
     "output_type": "stream",
     "text": [
      "INFO:tensorflow:Assets written to: /Users/litto/WORKSPACE/MegaClassifier/models/MegaClassifier_a_EfficientNetB5/v2/v2.3.3.1/assets\n"
     ]
    },
    {
     "name": "stdout",
     "output_type": "stream",
     "text": [
      "268/268 [==============================] - 271s 1s/step - loss: 0.0137 - accuracy: 0.9522 - precision: 0.9576 - recall: 0.9707 - auc: 0.9915\n"
     ]
    },
    {
     "name": "stderr",
     "output_type": "stream",
     "text": [
      "2025-03-08 04:26:37.465949: I tensorflow/core/grappler/optimizers/custom_graph_optimizer_registry.cc:114] Plugin optimizer for device_type GPU is enabled.\n"
     ]
    },
    {
     "name": "stdout",
     "output_type": "stream",
     "text": [
      "268/268 [==============================] - 286s 1s/step\n",
      "Found 17906 validated image filenames belonging to 2 classes.\n",
      "Found 4286 validated image filenames belonging to 2 classes.\n",
      "Found 4286 validated image filenames belonging to 2 classes.\n",
      "Epoch 1/10\n"
     ]
    },
    {
     "name": "stderr",
     "output_type": "stream",
     "text": [
      "2025-03-08 04:31:34.140173: I tensorflow/core/grappler/optimizers/custom_graph_optimizer_registry.cc:114] Plugin optimizer for device_type GPU is enabled.\n"
     ]
    },
    {
     "name": "stdout",
     "output_type": "stream",
     "text": [
      "1120/1120 [==============================] - ETA: 0s - loss: 0.0123 - accuracy: 0.9092 - precision: 0.9083 - recall: 0.9728 - auc: 0.9718"
     ]
    },
    {
     "name": "stderr",
     "output_type": "stream",
     "text": [
      "2025-03-08 04:51:07.555848: I tensorflow/core/grappler/optimizers/custom_graph_optimizer_registry.cc:114] Plugin optimizer for device_type GPU is enabled.\n"
     ]
    },
    {
     "name": "stdout",
     "output_type": "stream",
     "text": [
      "1120/1120 [==============================] - 1464s 1s/step - loss: 0.0123 - accuracy: 0.9092 - precision: 0.9083 - recall: 0.9728 - auc: 0.9718 - val_loss: 0.0093 - val_accuracy: 0.9442 - val_precision: 0.9532 - val_recall: 0.9630 - val_auc: 0.9857\n",
      "Epoch 2/10\n",
      "1120/1120 [==============================] - 1424s 1s/step - loss: 0.0094 - accuracy: 0.9197 - precision: 0.9164 - recall: 0.9807 - auc: 0.9790 - val_loss: 0.0082 - val_accuracy: 0.9377 - val_precision: 0.9321 - val_recall: 0.9771 - val_auc: 0.9871\n",
      "Epoch 3/10\n",
      "1120/1120 [==============================] - 1425s 1s/step - loss: 0.0087 - accuracy: 0.9227 - precision: 0.9194 - recall: 0.9813 - auc: 0.9819 - val_loss: 0.0085 - val_accuracy: 0.9351 - val_precision: 0.9283 - val_recall: 0.9774 - val_auc: 0.9866\n",
      "Epoch 4/10\n",
      "1120/1120 [==============================] - 1424s 1s/step - loss: 0.0082 - accuracy: 0.9294 - precision: 0.9271 - recall: 0.9816 - auc: 0.9839 - val_loss: 0.0087 - val_accuracy: 0.9440 - val_precision: 0.9491 - val_recall: 0.9672 - val_auc: 0.9859\n",
      "Epoch 5/10\n",
      "1120/1120 [==============================] - 1425s 1s/step - loss: 0.0082 - accuracy: 0.9292 - precision: 0.9267 - recall: 0.9819 - auc: 0.9838 - val_loss: 0.0083 - val_accuracy: 0.9428 - val_precision: 0.9460 - val_recall: 0.9690 - val_auc: 0.9879\n",
      "Epoch 6/10\n",
      "1120/1120 [==============================] - 1424s 1s/step - loss: 0.0079 - accuracy: 0.9314 - precision: 0.9289 - recall: 0.9822 - auc: 0.9851 - val_loss: 0.0086 - val_accuracy: 0.9335 - val_precision: 0.9259 - val_recall: 0.9778 - val_auc: 0.9871\n",
      "Epoch 7/10\n",
      "1120/1120 [==============================] - 1424s 1s/step - loss: 0.0076 - accuracy: 0.9352 - precision: 0.9318 - recall: 0.9843 - auc: 0.9860 - val_loss: 0.0088 - val_accuracy: 0.9370 - val_precision: 0.9323 - val_recall: 0.9757 - val_auc: 0.9869\n",
      "Epoch 8/10\n",
      "1120/1120 [==============================] - 1426s 1s/step - loss: 0.0076 - accuracy: 0.9355 - precision: 0.9333 - recall: 0.9830 - auc: 0.9863 - val_loss: 0.0090 - val_accuracy: 0.9456 - val_precision: 0.9543 - val_recall: 0.9640 - val_auc: 0.9874\n",
      "Epoch 9/10\n",
      "1120/1120 [==============================] - 1425s 1s/step - loss: 0.0074 - accuracy: 0.9377 - precision: 0.9348 - recall: 0.9843 - auc: 0.9871 - val_loss: 0.0085 - val_accuracy: 0.9449 - val_precision: 0.9449 - val_recall: 0.9736 - val_auc: 0.9881\n",
      "Epoch 10/10\n",
      "1120/1120 [==============================] - 1425s 1s/step - loss: 0.0073 - accuracy: 0.9383 - precision: 0.9354 - recall: 0.9845 - auc: 0.9873 - val_loss: 0.0082 - val_accuracy: 0.9452 - val_precision: 0.9461 - val_recall: 0.9725 - val_auc: 0.9880\n",
      "INFO:tensorflow:Assets written to: /Users/litto/WORKSPACE/MegaClassifier/models/MegaClassifier_a_EfficientNetB5/v2/v2.3.3.2/assets\n"
     ]
    },
    {
     "name": "stderr",
     "output_type": "stream",
     "text": [
      "INFO:tensorflow:Assets written to: /Users/litto/WORKSPACE/MegaClassifier/models/MegaClassifier_a_EfficientNetB5/v2/v2.3.3.2/assets\n"
     ]
    },
    {
     "name": "stdout",
     "output_type": "stream",
     "text": [
      "268/268 [==============================] - 272s 1s/step - loss: 0.0069 - accuracy: 0.9522 - precision: 0.9550 - recall: 0.9736 - auc: 0.9913\n"
     ]
    },
    {
     "name": "stderr",
     "output_type": "stream",
     "text": [
      "2025-03-08 08:34:36.853464: I tensorflow/core/grappler/optimizers/custom_graph_optimizer_registry.cc:114] Plugin optimizer for device_type GPU is enabled.\n"
     ]
    },
    {
     "name": "stdout",
     "output_type": "stream",
     "text": [
      "268/268 [==============================] - 284s 1s/step\n",
      "\n",
      "\n",
      "\n"
     ]
    }
   ],
   "source": [
    "SUBVERSION = 2\n",
    "ALPHA_SUBVERSION = 0\n",
    "GAMMA_SUBVERSION = 0\n",
    "\n",
    "for LOSS_FUNCTION in LOSS_FUNCTIONS:\n",
    "    for ALPHA in ALPHAS:\n",
    "        for GAMMA in GAMMAS:\n",
    "            LOGS_PATH = os.path.abspath(\n",
    "                f\"./logs/{MODEL_BASE_NAME}/v{VERSION}/v{VERSION}.{SUBVERSION}.{ALPHA_SUBVERSION}.{GAMMA_SUBVERSION}\"\n",
    "            )\n",
    "            MODELS_PATH = os.path.abspath(\n",
    "                f\"./models/{MODEL_BASE_NAME}/v{VERSION}/v{VERSION}.{SUBVERSION}.{ALPHA_SUBVERSION}.{GAMMA_SUBVERSION}\"\n",
    "            )\n",
    "            REPORTS_PATH = os.path.abspath(\n",
    "                f\"./reports/{MODEL_BASE_NAME}/v{VERSION}/v{VERSION}.{SUBVERSION}.{ALPHA_SUBVERSION}.{GAMMA_SUBVERSION}\"\n",
    "            )\n",
    "\n",
    "            MODEL_COMPLETE_NAME = f\"{MODEL_BASE_NAME} v{VERSION}.{SUBVERSION}.{ALPHA_SUBVERSION}.{GAMMA_SUBVERSION}\"\n",
    "\n",
    "            train_datagen = ImageDataGenerator(\n",
    "                preprocessing_function=tf.keras.applications.efficientnet.preprocess_input,\n",
    "            )\n",
    "            train_images = train_datagen.flow_from_dataframe(\n",
    "                dataframe=train_dataset,\n",
    "                x_col=\"file_name\",\n",
    "                y_col=\"binary_label\",\n",
    "                target_size=IMAGE_SIZE,\n",
    "                batch_size=BATCH_SIZE,\n",
    "                class_mode=\"binary\",\n",
    "                shuffle=True,\n",
    "                seed=SEED,\n",
    "            )\n",
    "\n",
    "            datagen = ImageDataGenerator(\n",
    "                preprocessing_function=tf.keras.applications.efficientnet.preprocess_input,\n",
    "            )\n",
    "            validation_images = datagen.flow_from_dataframe(\n",
    "                dataframe=validationtrain_dataset,\n",
    "                x_col=\"file_name\",\n",
    "                y_col=\"binary_label\",\n",
    "                target_size=IMAGE_SIZE,\n",
    "                batch_size=BATCH_SIZE,\n",
    "                class_mode=\"binary\",\n",
    "                shuffle=True,\n",
    "                seed=SEED,\n",
    "            )\n",
    "            test_images = datagen.flow_from_dataframe(\n",
    "                dataframe=test_dataset,\n",
    "                x_col=\"file_name\",\n",
    "                y_col=\"binary_label\",\n",
    "                target_size=IMAGE_SIZE,\n",
    "                batch_size=BATCH_SIZE,\n",
    "                class_mode=\"binary\",\n",
    "                shuffle=False,\n",
    "                seed=SEED,\n",
    "            )\n",
    "\n",
    "            pretrained_model = tf.keras.applications.EfficientNetB5(\n",
    "                weights=\"imagenet\",\n",
    "                include_top=False,\n",
    "                input_shape=IMAGE_SHAPE,\n",
    "            )\n",
    "            pretrained_model.trainable = False\n",
    "\n",
    "            model = tf.keras.Sequential(\n",
    "                [\n",
    "                    pretrained_model,\n",
    "                    tf.keras.layers.GlobalAveragePooling2D(),\n",
    "                    tf.keras.layers.Dense(1, activation=\"sigmoid\"),\n",
    "                ],\n",
    "                name=f\"{MODEL_BASE_NAME}_v{VERSION}.{SUBVERSION}\",\n",
    "            )\n",
    "\n",
    "            model.compile(\n",
    "                optimizer=OPTIMIZERS[\"Adam\"],\n",
    "                loss=LOSS_FUNCTIONS[LOSS_FUNCTION](x=ALPHA, y=GAMMA),\n",
    "                metrics=METRICS,\n",
    "            )\n",
    "\n",
    "            history = model.fit(\n",
    "                train_images,\n",
    "                epochs=EPOCHS,\n",
    "                validation_data=validation_images,\n",
    "                callbacks=[TensorBoard(log_dir=LOGS_PATH)],\n",
    "            )\n",
    "\n",
    "            dataframe = pd.DataFrame(history.history)\n",
    "            history_path = os.path.join(\n",
    "                LOGS_PATH,\n",
    "                f\"history_v{VERSION}.{SUBVERSION}.{ALPHA_SUBVERSION}.{GAMMA_SUBVERSION}.csv\",\n",
    "            )\n",
    "            dataframe.to_csv(history_path, sep=\";\", index=False)\n",
    "\n",
    "            os.makedirs(REPORTS_PATH, exist_ok=True)\n",
    "            accuracy_chart = graphics.create_training_accuracy_chart(\n",
    "                history_path=history_path,\n",
    "                model_name=MODEL_COMPLETE_NAME,\n",
    "            )\n",
    "            accuracy_chart.write_image(\n",
    "                f\"{REPORTS_PATH}/accuracy_v{VERSION}.{SUBVERSION}.{ALPHA_SUBVERSION}.{GAMMA_SUBVERSION}.png\"\n",
    "            )\n",
    "\n",
    "            loss_chart = graphics.create_training_loss_chart(\n",
    "                history_path=history_path,\n",
    "                model_name=MODEL_COMPLETE_NAME,\n",
    "            )\n",
    "            loss_chart.write_image(\n",
    "                f\"{REPORTS_PATH}/loss_v{VERSION}.{SUBVERSION}.{ALPHA_SUBVERSION}.{GAMMA_SUBVERSION}.png\"\n",
    "            )\n",
    "\n",
    "            os.makedirs(MODELS_PATH, exist_ok=True)\n",
    "            model.save(MODELS_PATH)\n",
    "\n",
    "            results = model.evaluate(test_images)\n",
    "            metric_names = history.model.metrics_names\n",
    "            evaluation_results = {\n",
    "                (\"test_\" + name): value for name, value in zip(metric_names, results)\n",
    "            }\n",
    "\n",
    "            evaluation = pd.DataFrame([evaluation_results])\n",
    "            evaluation.to_csv(\n",
    "                os.path.join(\n",
    "                    LOGS_PATH,\n",
    "                    f\"evaluation_v{VERSION}.{SUBVERSION}.{ALPHA_SUBVERSION}.{GAMMA_SUBVERSION}.csv\",\n",
    "                ),\n",
    "                sep=\";\",\n",
    "                index=False,\n",
    "            )\n",
    "\n",
    "            y_pred_prob = model.predict(test_images)\n",
    "            y_true = test_images.labels\n",
    "\n",
    "            fpr, tpr, thresholds = roc_curve(y_true, y_pred_prob)\n",
    "            roc_auc = auc(fpr, tpr)\n",
    "\n",
    "            roc_curve_chart = graphics.create_roc_curve_chart(\n",
    "                fpr=fpr,\n",
    "                tpr=tpr,\n",
    "                roc_auc=roc_auc,\n",
    "                model_name=MODEL_COMPLETE_NAME,\n",
    "            )\n",
    "            roc_curve_chart.write_image(\n",
    "                f\"{REPORTS_PATH}/roc_curve_v{VERSION}.{SUBVERSION}.{ALPHA_SUBVERSION}.{GAMMA_SUBVERSION}.png\"\n",
    "            )\n",
    "\n",
    "            optimal_idx = np.argmax(tpr - fpr)\n",
    "            optimal_threshold = thresholds[optimal_idx]\n",
    "\n",
    "            # y_pred_prob = y_pred_prob.flatten()\n",
    "            y_pred_class = (y_pred_prob > optimal_threshold).astype(int)\n",
    "            conf_matrix = confusion_matrix(y_true, y_pred_class)\n",
    "            conf_matrix_text = [[str(value) for value in row] for row in conf_matrix]\n",
    "\n",
    "            # Crear el gráfico correctamente\n",
    "            confusion_matrix_chart = graphics.create_confusion_matrix_chart(\n",
    "                conf_matrix=conf_matrix,\n",
    "                conf_matrix_text=conf_matrix_text,\n",
    "                model_name=MODEL_COMPLETE_NAME,\n",
    "            )\n",
    "            confusion_matrix_chart.write_image(\n",
    "                f\"{REPORTS_PATH}/confusion_matrix_optimal_v{VERSION}.{SUBVERSION}.{ALPHA_SUBVERSION}.{GAMMA_SUBVERSION}.png\"\n",
    "            )\n",
    "\n",
    "            y_pred_class = (y_pred_prob > 0.5).astype(int)\n",
    "            conf_matrix = confusion_matrix(y_true, y_pred_class)\n",
    "            conf_matrix_text = [[str(value) for value in row] for row in conf_matrix]\n",
    "\n",
    "            confusion_matrix_chart = graphics.create_confusion_matrix_chart(\n",
    "                conf_matrix=conf_matrix,\n",
    "                conf_matrix_text=conf_matrix_text,\n",
    "                model_name=MODEL_COMPLETE_NAME,\n",
    "            )\n",
    "            confusion_matrix_chart.write_image(\n",
    "                f\"{REPORTS_PATH}/confusion_matrix_v{VERSION}.{SUBVERSION}.{ALPHA_SUBVERSION}.{GAMMA_SUBVERSION}.png\"\n",
    "            )\n",
    "\n",
    "            GAMMA_SUBVERSION += 1\n",
    "\n",
    "        GAMMA_SUBVERSION = 0\n",
    "        ALPHA_SUBVERSION += 1\n",
    "\n",
    "    GAMMA_SUBVERSION = 0\n",
    "    ALPHA_SUBVERSION = 0\n",
    "\n",
    "    SUBVERSION += 1\n",
    "    print(\"\\n\\n\")\n"
   ]
  }
 ],
 "metadata": {
  "kernelspec": {
   "display_name": "TFG",
   "language": "python",
   "name": "python3"
  },
  "language_info": {
   "codemirror_mode": {
    "name": "ipython",
    "version": 3
   },
   "file_extension": ".py",
   "mimetype": "text/x-python",
   "name": "python",
   "nbconvert_exporter": "python",
   "pygments_lexer": "ipython3",
   "version": "3.8.19"
  }
 },
 "nbformat": 4,
 "nbformat_minor": 2
}
